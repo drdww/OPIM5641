{
  "nbformat": 4,
  "nbformat_minor": 0,
  "metadata": {
    "colab": {
      "name": "Assignment_SwimTeam",
      "provenance": [],
      "collapsed_sections": [],
      "include_colab_link": true
    },
    "kernelspec": {
      "name": "python3",
      "display_name": "Python 3"
    }
  },
  "cells": [
    {
      "cell_type": "markdown",
      "metadata": {
        "id": "view-in-github",
        "colab_type": "text"
      },
      "source": [
        "<a href=\"https://colab.research.google.com/github/drdww/OPIM5641/blob/main/Module5/M5_1/2_Assignment_SwimTeam.ipynb\" target=\"_parent\"><img src=\"https://colab.research.google.com/assets/colab-badge.svg\" alt=\"Open In Colab\"/></a>"
      ]
    },
    {
      "cell_type": "markdown",
      "metadata": {
        "id": "Ap1i5mTHNLYe"
      },
      "source": [
        "# Network Problems: Assignment (Swim Team)\n",
        "\n",
        "**OPIM 5641: Business Decision Modeling - University of Connecticut**\n",
        "\n",
        "The inequalities in the textbook could probably be written as equalities (==), but it still works. Great example that generalizes/motivates many other types of machine scheduling problems.\n",
        "\n",
        "* Please refer to Powell Chapter 10 for more details and examples.\n",
        "* Pyomo Cookbook (related example): https://github.com/jckantor/ND-Pyomo-Cookbook/blob/master/notebooks/03.00-Assignment-Problems.ipynb\n",
        "\n",
        "-------------------------------------------------------------------------"
      ]
    },
    {
      "cell_type": "code",
      "metadata": {
        "id": "p-d3gfEcM2yF",
        "colab": {
          "base_uri": "https://localhost:8080/",
          "height": 589
        },
        "outputId": "e87ca1d1-fee7-41b2-f5a3-188c2a449a95"
      },
      "source": [
        "# import modules\n",
        "\n",
        "%matplotlib inline\n",
        "from pylab import *\n",
        "\n",
        "import shutil\n",
        "import sys\n",
        "import os.path\n",
        "\n",
        "if not shutil.which(\"pyomo\"):\n",
        "    !pip install -q pyomo\n",
        "    assert(shutil.which(\"pyomo\"))\n",
        "\n",
        "if not (shutil.which(\"cbc\") or os.path.isfile(\"cbc\")):\n",
        "    if \"google.colab\" in sys.modules:\n",
        "        !apt-get install -y -qq coinor-cbc\n",
        "    else:\n",
        "        try:\n",
        "            !conda install -c conda-forge coincbc \n",
        "        except:\n",
        "            pass\n",
        "\n",
        "assert(shutil.which(\"cbc\") or os.path.isfile(\"cbc\"))\n",
        "\n",
        "from pyomo.environ import *\n",
        "# ensure you have cbc installed\n",
        "!apt-get install -y -qq coinor-cbc"
      ],
      "execution_count": null,
      "outputs": [
        {
          "output_type": "stream",
          "text": [
            "\u001b[K     |████████████████████████████████| 9.4MB 4.4MB/s \n",
            "\u001b[K     |████████████████████████████████| 256kB 43.6MB/s \n",
            "\u001b[K     |████████████████████████████████| 51kB 5.7MB/s \n",
            "\u001b[K     |████████████████████████████████| 163kB 52.6MB/s \n",
            "\u001b[?25hSelecting previously unselected package coinor-libcoinutils3v5.\n",
            "(Reading database ... 144618 files and directories currently installed.)\n",
            "Preparing to unpack .../0-coinor-libcoinutils3v5_2.10.14+repack1-1_amd64.deb ...\n",
            "Unpacking coinor-libcoinutils3v5 (2.10.14+repack1-1) ...\n",
            "Selecting previously unselected package coinor-libosi1v5.\n",
            "Preparing to unpack .../1-coinor-libosi1v5_0.107.9+repack1-1_amd64.deb ...\n",
            "Unpacking coinor-libosi1v5 (0.107.9+repack1-1) ...\n",
            "Selecting previously unselected package coinor-libclp1.\n",
            "Preparing to unpack .../2-coinor-libclp1_1.16.11+repack1-1_amd64.deb ...\n",
            "Unpacking coinor-libclp1 (1.16.11+repack1-1) ...\n",
            "Selecting previously unselected package coinor-libcgl1.\n",
            "Preparing to unpack .../3-coinor-libcgl1_0.59.10+repack1-1_amd64.deb ...\n",
            "Unpacking coinor-libcgl1 (0.59.10+repack1-1) ...\n",
            "Selecting previously unselected package coinor-libcbc3.\n",
            "Preparing to unpack .../4-coinor-libcbc3_2.9.9+repack1-1_amd64.deb ...\n",
            "Unpacking coinor-libcbc3 (2.9.9+repack1-1) ...\n",
            "Selecting previously unselected package coinor-cbc.\n",
            "Preparing to unpack .../5-coinor-cbc_2.9.9+repack1-1_amd64.deb ...\n",
            "Unpacking coinor-cbc (2.9.9+repack1-1) ...\n",
            "Setting up coinor-libcoinutils3v5 (2.10.14+repack1-1) ...\n",
            "Setting up coinor-libosi1v5 (0.107.9+repack1-1) ...\n",
            "Setting up coinor-libclp1 (1.16.11+repack1-1) ...\n",
            "Setting up coinor-libcgl1 (0.59.10+repack1-1) ...\n",
            "Setting up coinor-libcbc3 (2.9.9+repack1-1) ...\n",
            "Setting up coinor-cbc (2.9.9+repack1-1) ...\n",
            "Processing triggers for man-db (2.8.3-2ubuntu0.1) ...\n",
            "Processing triggers for libc-bin (2.27-3ubuntu1.2) ...\n",
            "/sbin/ldconfig.real: /usr/local/lib/python3.6/dist-packages/ideep4py/lib/libmkldnn.so.0 is not a symbolic link\n",
            "\n"
          ],
          "name": "stdout"
        }
      ]
    },
    {
      "cell_type": "markdown",
      "metadata": {
        "id": "HSRpmPcANRRZ"
      },
      "source": [
        "# Example\n",
        "Coach Kemppel is the coach of the Buchanan Swim Club’s co-ed team. Her team competes against other swim clubs, and a perennial question for the coach is how to organize the medley relay team. The medley relay requires four swimmers to each swim a different stroke: butterfly, breaststroke, backstroke, and freestyle. The relay is the final event in the competitions, and the outcome of the swim meet often depends on the performance of the relay team. During practice, Coach Kemppel has asked each of her top four swimmers to try each of the four strokes, and she has tracked their times (in seconds), as shown in the following table:\n",
        "\n",
        "Person | Butterfly (1) | Breaststroke (2) | Backstroke (3) | Freestyle (4) | \n",
        "--- | --- | --- | --- | --- | \n",
        "Todd | 38 | 75 | 44 | 27 | \n",
        "Betsy | 34 | 76 | 43 | 25 | \n",
        "Lee | 41 | 71 | 41 | 26 | \n",
        "Carly | 33 | 80 | 45 | 30 | \n",
        "\n",
        "With this information, Coach Kemppel is ready to assign swimmers to strokes in the relay race, but she can see that a lot of combinations are possible.\n",
        "\n",
        "For an algebraic statement of our model, we define our decision variables as the possible swimmer-stroke combinations, T1, T2, . . . , C4, where the letter refers to the swimmer’s name and the number refers to the stroke (1 for Butterfly, etc.). Our objective function (denoted z) is the total time for an assignment, which can be expressed as the sum of sixteen products. Each term in this sum is a parameter multiplied by a decision variable:\n",
        "\n",
        "**Objective Function:** $\\min(\\text{Time}) = 38_{T1} + 75_{T2} + 44_{T3} + 27_{T4} + 34_{B1} + 76_{B2} + 43_{B3} + 25_{B4} + 41_{L1} + 71_{L2} + 41_{L3} + 26_{L4} + 33_{C1} + 80_{C2} + 45_{C3} + 30_{C4}$\n",
        "\n",
        "Subject to constraints:\n",
        "\n",
        "*(that each person can only do one stroke!)*\n",
        "\n",
        "$T1 + T2 + T3 + T4 \\leq 1$\n",
        "\n",
        "$B1 + B2 + B3 + B4 \\leq1$\n",
        "\n",
        "$L1 + L2 + L3 + L4 \\leq1$\n",
        "\n",
        "$C1 + C2 + C3 + C4 \\leq1$\n",
        "\n",
        "*(that each stroke needs one person!)*\n",
        "\n",
        "$T1 + B1 + L1 + C1 \\geq 1$\n",
        "\n",
        "$T2 + B2 + L2 + C2 \\geq 1$\n",
        "\n",
        "$T3 + B3 + L3 + C3 \\geq 1$\n",
        "\n",
        "$T4 + B4 + L4 + C4 \\geq 1$\n"
      ]
    },
    {
      "cell_type": "markdown",
      "metadata": {
        "id": "FY8DAqNQW2D3"
      },
      "source": [
        "# Solved Like Powell"
      ]
    },
    {
      "cell_type": "code",
      "metadata": {
        "id": "JTbO5R8zW-Cn"
      },
      "source": [
        "# declare the model\n",
        "model = ConcreteModel()\n",
        "\n",
        "# write your variables\n",
        "# TODD\n",
        "model.T1 = Var(domain=NonNegativeIntegers)\n",
        "model.T2 = Var(domain=NonNegativeIntegers)\n",
        "model.T3 = Var(domain=NonNegativeIntegers)\n",
        "model.T4 = Var(domain=NonNegativeIntegers)\n",
        "# BETSY\n",
        "model.B1 = Var(domain=NonNegativeIntegers)\n",
        "model.B2 = Var(domain=NonNegativeIntegers)\n",
        "model.B3 = Var(domain=NonNegativeIntegers)\n",
        "model.B4 = Var(domain=NonNegativeIntegers)\n",
        "# LEE\n",
        "model.L1 = Var(domain=NonNegativeIntegers)\n",
        "model.L2 = Var(domain=NonNegativeIntegers)\n",
        "model.L3 = Var(domain=NonNegativeIntegers)\n",
        "model.L4 = Var(domain=NonNegativeIntegers)\n",
        "# CARLY\n",
        "model.C1 = Var(domain=NonNegativeIntegers)\n",
        "model.C2 = Var(domain=NonNegativeIntegers)\n",
        "model.C3 = Var(domain=NonNegativeIntegers)\n",
        "model.C4 = Var(domain=NonNegativeIntegers)"
      ],
      "execution_count": null,
      "outputs": []
    },
    {
      "cell_type": "code",
      "metadata": {
        "id": "1jBJxYKiXlqx"
      },
      "source": [
        "# write the objective function\n",
        "model.OBJ = Objective(expr = 38*model.T1 + 75*model.T2 + 44*model.T3 + 27*model.T4 +\n",
        "                            34*model.B1 + 76*model.B2 + 43*model.B3 + 25*model.B4 + \n",
        "                            41*model.L1 + 71*model.L2 + 41*model.L3 + 26*model.L4 +\n",
        "                            33*model.C1 + 80*model.C2 + 45*model.C3 + 30*model.C4,\n",
        "                      sense=minimize)"
      ],
      "execution_count": null,
      "outputs": []
    },
    {
      "cell_type": "code",
      "metadata": {
        "id": "bkzNGOWSX_3Z"
      },
      "source": [
        "# write the constraints\n",
        "\n",
        "# 'each swimmer be assigned to at most one stroke'\n",
        "model.OneStoke_T = Constraint(expr = model.T1 + model.T2 + model.T3 + model.T4 == 1)\n",
        "model.OneStoke_B = Constraint(expr = model.B1 + model.B2 + model.B3 + model.B4 == 1)\n",
        "model.OneStoke_L = Constraint(expr = model.L1 + model.L2 + model.L3 + model.L4 == 1)\n",
        "model.OneStoke_C = Constraint(expr = model.C1 + model.C2 + model.C3 + model.C4 == 1)\n",
        "\n",
        "# 'each stroke be assigned one swimmer' (note equality constraint, ==)\n",
        "model.Do_Stroke1 = Constraint(expr = model.T1 + model.B1 + model.L1 + model.C1 == 1)\n",
        "model.Do_Stroke2 = Constraint(expr = model.T2 + model.B2 + model.L2 + model.C2 == 1)\n",
        "model.Do_Stroke3 = Constraint(expr = model.T3 + model.B3 + model.L3 + model.C3 == 1)\n",
        "model.Do_Stroke4 = Constraint(expr = model.T4 + model.B4 + model.L4 + model.C4 == 1)"
      ],
      "execution_count": null,
      "outputs": []
    },
    {
      "cell_type": "markdown",
      "metadata": {
        "id": "_VgX2lsHZSAF"
      },
      "source": [
        "Pretty print to inspect."
      ]
    },
    {
      "cell_type": "code",
      "metadata": {
        "id": "AzUqGu3tZUFS",
        "colab": {
          "base_uri": "https://localhost:8080/",
          "height": 1000
        },
        "outputId": "1130ae9c-7fe7-4cda-b9a5-588f12c8664d"
      },
      "source": [
        "model.pprint()"
      ],
      "execution_count": null,
      "outputs": [
        {
          "output_type": "stream",
          "text": [
            "16 Var Declarations\n",
            "    B1 : Size=1, Index=None\n",
            "        Key  : Lower : Value : Upper : Fixed : Stale : Domain\n",
            "        None :     0 :  None :  None : False :  True : NonNegativeIntegers\n",
            "    B2 : Size=1, Index=None\n",
            "        Key  : Lower : Value : Upper : Fixed : Stale : Domain\n",
            "        None :     0 :  None :  None : False :  True : NonNegativeIntegers\n",
            "    B3 : Size=1, Index=None\n",
            "        Key  : Lower : Value : Upper : Fixed : Stale : Domain\n",
            "        None :     0 :  None :  None : False :  True : NonNegativeIntegers\n",
            "    B4 : Size=1, Index=None\n",
            "        Key  : Lower : Value : Upper : Fixed : Stale : Domain\n",
            "        None :     0 :  None :  None : False :  True : NonNegativeIntegers\n",
            "    C1 : Size=1, Index=None\n",
            "        Key  : Lower : Value : Upper : Fixed : Stale : Domain\n",
            "        None :     0 :  None :  None : False :  True : NonNegativeIntegers\n",
            "    C2 : Size=1, Index=None\n",
            "        Key  : Lower : Value : Upper : Fixed : Stale : Domain\n",
            "        None :     0 :  None :  None : False :  True : NonNegativeIntegers\n",
            "    C3 : Size=1, Index=None\n",
            "        Key  : Lower : Value : Upper : Fixed : Stale : Domain\n",
            "        None :     0 :  None :  None : False :  True : NonNegativeIntegers\n",
            "    C4 : Size=1, Index=None\n",
            "        Key  : Lower : Value : Upper : Fixed : Stale : Domain\n",
            "        None :     0 :  None :  None : False :  True : NonNegativeIntegers\n",
            "    L1 : Size=1, Index=None\n",
            "        Key  : Lower : Value : Upper : Fixed : Stale : Domain\n",
            "        None :     0 :  None :  None : False :  True : NonNegativeIntegers\n",
            "    L2 : Size=1, Index=None\n",
            "        Key  : Lower : Value : Upper : Fixed : Stale : Domain\n",
            "        None :     0 :  None :  None : False :  True : NonNegativeIntegers\n",
            "    L3 : Size=1, Index=None\n",
            "        Key  : Lower : Value : Upper : Fixed : Stale : Domain\n",
            "        None :     0 :  None :  None : False :  True : NonNegativeIntegers\n",
            "    L4 : Size=1, Index=None\n",
            "        Key  : Lower : Value : Upper : Fixed : Stale : Domain\n",
            "        None :     0 :  None :  None : False :  True : NonNegativeIntegers\n",
            "    T1 : Size=1, Index=None\n",
            "        Key  : Lower : Value : Upper : Fixed : Stale : Domain\n",
            "        None :     0 :  None :  None : False :  True : NonNegativeReals\n",
            "    T2 : Size=1, Index=None\n",
            "        Key  : Lower : Value : Upper : Fixed : Stale : Domain\n",
            "        None :     0 :  None :  None : False :  True : NonNegativeReals\n",
            "    T3 : Size=1, Index=None\n",
            "        Key  : Lower : Value : Upper : Fixed : Stale : Domain\n",
            "        None :     0 :  None :  None : False :  True : NonNegativeReals\n",
            "    T4 : Size=1, Index=None\n",
            "        Key  : Lower : Value : Upper : Fixed : Stale : Domain\n",
            "        None :     0 :  None :  None : False :  True : NonNegativeReals\n",
            "\n",
            "1 Objective Declarations\n",
            "    OBJ : Size=1, Index=None, Active=True\n",
            "        Key  : Active : Sense    : Expression\n",
            "        None :   True : minimize : 38*T1 + 75*T2 + 44*T3 + 27*T4 + 34*B1 + 76*B2 + 43*B3 + 25*B4 + 41*L1 + 71*L2 + 41*L3 + 26*L4 + 33*C1 + 80*C2 + 45*C3 + 30*C4\n",
            "\n",
            "8 Constraint Declarations\n",
            "    Do_Stroke1 : Size=1, Index=None, Active=True\n",
            "        Key  : Lower : Body              : Upper : Active\n",
            "        None :   1.0 : T1 + B1 + L1 + C1 :   1.0 :   True\n",
            "    Do_Stroke2 : Size=1, Index=None, Active=True\n",
            "        Key  : Lower : Body              : Upper : Active\n",
            "        None :   1.0 : T2 + B2 + L2 + C2 :   1.0 :   True\n",
            "    Do_Stroke3 : Size=1, Index=None, Active=True\n",
            "        Key  : Lower : Body              : Upper : Active\n",
            "        None :   1.0 : T3 + B3 + L3 + C3 :   1.0 :   True\n",
            "    Do_Stroke4 : Size=1, Index=None, Active=True\n",
            "        Key  : Lower : Body              : Upper : Active\n",
            "        None :   1.0 : T4 + B4 + L4 + C4 :   1.0 :   True\n",
            "    OneStoke_B : Size=1, Index=None, Active=True\n",
            "        Key  : Lower : Body              : Upper : Active\n",
            "        None :   1.0 : B1 + B2 + B3 + B4 :   1.0 :   True\n",
            "    OneStoke_C : Size=1, Index=None, Active=True\n",
            "        Key  : Lower : Body              : Upper : Active\n",
            "        None :   1.0 : C1 + C2 + C3 + C4 :   1.0 :   True\n",
            "    OneStoke_L : Size=1, Index=None, Active=True\n",
            "        Key  : Lower : Body              : Upper : Active\n",
            "        None :   1.0 : L1 + L2 + L3 + L4 :   1.0 :   True\n",
            "    OneStoke_T : Size=1, Index=None, Active=True\n",
            "        Key  : Lower : Body              : Upper : Active\n",
            "        None :   1.0 : T1 + T2 + T3 + T4 :   1.0 :   True\n",
            "\n",
            "25 Declarations: T1 T2 T3 T4 B1 B2 B3 B4 L1 L2 L3 L4 C1 C2 C3 C4 OBJ OneStoke_T OneStoke_B OneStoke_L OneStoke_C Do_Stroke1 Do_Stroke2 Do_Stroke3 Do_Stroke4\n"
          ],
          "name": "stdout"
        }
      ]
    },
    {
      "cell_type": "markdown",
      "metadata": {
        "id": "bZ3_lIEzY5-S"
      },
      "source": [
        "Now solve it!"
      ]
    },
    {
      "cell_type": "code",
      "metadata": {
        "id": "4u7tK4EFY63c",
        "colab": {
          "base_uri": "https://localhost:8080/",
          "height": 728
        },
        "outputId": "dcc5a15d-d61d-4419-dc82-600937d1bf2f"
      },
      "source": [
        "# Solve the model\n",
        "SolverFactory('cbc', executable='/usr/bin/cbc').solve(model).write()"
      ],
      "execution_count": null,
      "outputs": [
        {
          "output_type": "stream",
          "text": [
            "# ==========================================================\n",
            "# = Solver Results                                         =\n",
            "# ==========================================================\n",
            "# ----------------------------------------------------------\n",
            "#   Problem Information\n",
            "# ----------------------------------------------------------\n",
            "Problem: \n",
            "- Name: unknown\n",
            "  Lower bound: 173.0\n",
            "  Upper bound: 173.0\n",
            "  Number of objectives: 1\n",
            "  Number of constraints: 8\n",
            "  Number of variables: 16\n",
            "  Number of binary variables: 0\n",
            "  Number of integer variables: 12\n",
            "  Number of nonzeros: 16\n",
            "  Sense: minimize\n",
            "# ----------------------------------------------------------\n",
            "#   Solver Information\n",
            "# ----------------------------------------------------------\n",
            "Solver: \n",
            "- Status: ok\n",
            "  User time: -1.0\n",
            "  System time: 0.0\n",
            "  Wallclock time: 0.0\n",
            "  Termination condition: optimal\n",
            "  Termination message: Model was solved to optimality (subject to tolerances), and an optimal solution is available.\n",
            "  Statistics: \n",
            "    Branch and bound: \n",
            "      Number of bounded subproblems: 0\n",
            "      Number of created subproblems: 0\n",
            "    Black box: \n",
            "      Number of iterations: 0\n",
            "  Error rc: 0\n",
            "  Time: 0.018333911895751953\n",
            "# ----------------------------------------------------------\n",
            "#   Solution Information\n",
            "# ----------------------------------------------------------\n",
            "Solution: \n",
            "- number of solutions: 0\n",
            "  number of solutions displayed: 0\n"
          ],
          "name": "stdout"
        }
      ]
    },
    {
      "cell_type": "markdown",
      "metadata": {
        "id": "btPXFBXzZix6"
      },
      "source": [
        "Show the results."
      ]
    },
    {
      "cell_type": "code",
      "metadata": {
        "id": "3mhvT5VPZkDa",
        "colab": {
          "base_uri": "https://localhost:8080/",
          "height": 35
        },
        "outputId": "23de8806-5c9c-4d6c-c758-34b7c5131b6f"
      },
      "source": [
        "# show the results\n",
        "print('Total time:',model.OBJ())"
      ],
      "execution_count": null,
      "outputs": [
        {
          "output_type": "stream",
          "text": [
            "Total time: 173.0\n"
          ],
          "name": "stdout"
        }
      ]
    },
    {
      "cell_type": "code",
      "metadata": {
        "id": "9aDX-WmtaObb",
        "colab": {
          "base_uri": "https://localhost:8080/",
          "height": 87
        },
        "outputId": "0f721c9d-2adb-4a32-ceb5-c602726e418a"
      },
      "source": [
        "# nice way to show assignments?\n",
        "print(\"T:\",model.T1(), model.T2 (), model.T3(), model.T4())\n",
        "print(\"L:\",model.L1(), model.L2 (), model.L3(), model.L4())\n",
        "print(\"C:\",model.C1(), model.C2 (), model.C3(), model.C4())\n",
        "print(\"B:\",model.B1(), model.B2 (), model.B3(), model.B4())\n",
        "\n",
        "# you could turn this into a pandas dataframe if you wanted to (left to students!)"
      ],
      "execution_count": null,
      "outputs": [
        {
          "output_type": "stream",
          "text": [
            "T: 0.0 0.0 1.0 0.0\n",
            "L: 0.0 1.0 0.0 0.0\n",
            "C: 1.0 0.0 0.0 0.0\n",
            "B: 0.0 0.0 0.0 1.0\n"
          ],
          "name": "stdout"
        }
      ]
    },
    {
      "cell_type": "code",
      "metadata": {
        "id": "i2Afuf9dbVDV"
      },
      "source": [
        "# try it on your own\n",
        "T = [model.T1(), model.T2 (), model.T3(), model.T4()]\n",
        "L = [model.L1(), model.L2 (), model.L3(), model.L4()]\n",
        "C = [model.C1(), model.C2 (), model.C3(), model.C4()]\n",
        "B = [model.B1(), model.B2 (), model.B3(), model.B4()]"
      ],
      "execution_count": null,
      "outputs": []
    },
    {
      "cell_type": "code",
      "metadata": {
        "id": "2fcJehckcJHi",
        "colab": {
          "base_uri": "https://localhost:8080/",
          "height": 171
        },
        "outputId": "b387e468-ac36-4a06-8266-8d29d6d95fe3"
      },
      "source": [
        "# almost there! just need to rename rownames and column names... could color code?!\n",
        "import pandas as pd\n",
        "df = pd.DataFrame([T, L, C, B])\n",
        "df.rename({0:'Butterfly', 1:'Breaststroke', 2:'Backstroke', 3:'Freestyle'}, axis=1, inplace=True) # axis=1 means columns\n",
        "df.rename({0:'Todd', 1:'Lee', 2:'Carly', 3:'Betsy'}, axis=0, inplace=True) # axis=0 means rows\n",
        "df\n",
        "df"
      ],
      "execution_count": null,
      "outputs": [
        {
          "output_type": "execute_result",
          "data": {
            "text/html": [
              "<div>\n",
              "<style scoped>\n",
              "    .dataframe tbody tr th:only-of-type {\n",
              "        vertical-align: middle;\n",
              "    }\n",
              "\n",
              "    .dataframe tbody tr th {\n",
              "        vertical-align: top;\n",
              "    }\n",
              "\n",
              "    .dataframe thead th {\n",
              "        text-align: right;\n",
              "    }\n",
              "</style>\n",
              "<table border=\"1\" class=\"dataframe\">\n",
              "  <thead>\n",
              "    <tr style=\"text-align: right;\">\n",
              "      <th></th>\n",
              "      <th>Butterfly</th>\n",
              "      <th>Breaststroke</th>\n",
              "      <th>Backstroke</th>\n",
              "      <th>Freestyle</th>\n",
              "    </tr>\n",
              "  </thead>\n",
              "  <tbody>\n",
              "    <tr>\n",
              "      <th>Todd</th>\n",
              "      <td>0.0</td>\n",
              "      <td>0.0</td>\n",
              "      <td>1.0</td>\n",
              "      <td>0.0</td>\n",
              "    </tr>\n",
              "    <tr>\n",
              "      <th>Lee</th>\n",
              "      <td>0.0</td>\n",
              "      <td>1.0</td>\n",
              "      <td>0.0</td>\n",
              "      <td>0.0</td>\n",
              "    </tr>\n",
              "    <tr>\n",
              "      <th>Carly</th>\n",
              "      <td>1.0</td>\n",
              "      <td>0.0</td>\n",
              "      <td>0.0</td>\n",
              "      <td>0.0</td>\n",
              "    </tr>\n",
              "    <tr>\n",
              "      <th>Betsy</th>\n",
              "      <td>0.0</td>\n",
              "      <td>0.0</td>\n",
              "      <td>0.0</td>\n",
              "      <td>1.0</td>\n",
              "    </tr>\n",
              "  </tbody>\n",
              "</table>\n",
              "</div>"
            ],
            "text/plain": [
              "       Butterfly  Breaststroke  Backstroke  Freestyle\n",
              "Todd         0.0           0.0         1.0        0.0\n",
              "Lee          0.0           1.0         0.0        0.0\n",
              "Carly        1.0           0.0         0.0        0.0\n",
              "Betsy        0.0           0.0         0.0        1.0"
            ]
          },
          "metadata": {
            "tags": []
          },
          "execution_count": 10
        }
      ]
    },
    {
      "cell_type": "markdown",
      "metadata": {
        "id": "B4ZpbwZecHzs"
      },
      "source": [
        "# On Your Own\n",
        "Students may try different times (within +/- 5 seconds) for each stroke, one at a time. You can 'tinker' and update cells one at a time, or you can use a for loop.\n",
        "\n",
        "If you use the loop, students can also store all results and analyze the outputs probabilistically and give a 90% chance of achieving a particular time or better... sports betting, anyone?! "
      ]
    },
    {
      "cell_type": "code",
      "metadata": {
        "id": "8Ef8f7oJcq6q"
      },
      "source": [
        "# students may try to show:\n",
        "# 1) how the optimal solution varies as Todd’s time in the backstroke increases from 44 to 46 seconds\n",
        "# 2) Carly’s time in the backstroke increases from 33 to 38 seconds :"
      ],
      "execution_count": null,
      "outputs": []
    },
    {
      "cell_type": "markdown",
      "metadata": {
        "id": "gG3HmrqUWy4V"
      },
      "source": [
        "# Solved According To Pyomo Cookbook"
      ]
    },
    {
      "cell_type": "code",
      "metadata": {
        "id": "Oon0xAN7M7zN"
      },
      "source": [
        "Time = {\n",
        "    ('T','1'): 38,\n",
        "    ('T','2'): 75,\n",
        "    ('T','3'): 44,\n",
        "    ('T','4'): 27,\n",
        "    ('B','1'): 34,\n",
        "    ('B','2'): 76,\n",
        "    ('B','3'): 43,\n",
        "    ('B','4'): 25,\n",
        "    ('L','1'): 41,\n",
        "    ('L','2'): 71,\n",
        "    ('L','3'): 41,\n",
        "    ('L','4'): 26,\n",
        "    ('C','1'): 33,\n",
        "    ('C','2'): 80,\n",
        "    ('C','3'): 45,\n",
        "    ('C','4'): 30\n",
        "}\n",
        "\n",
        "assignments = list(Time.keys())\n",
        "\n",
        "machines = ('T','B','L','C')\n",
        "jobs = ('1','2','3','4')"
      ],
      "execution_count": null,
      "outputs": []
    },
    {
      "cell_type": "code",
      "metadata": {
        "id": "5CR3No1fNDmO",
        "colab": {
          "base_uri": "https://localhost:8080/",
          "height": 1000
        },
        "outputId": "b951de21-ff5f-459b-c05f-a28118ba30e6"
      },
      "source": [
        "def create_bounds(model, i, j):\n",
        "   return (0,1)\n",
        "\n",
        "# declare the model\n",
        "model = ConcreteModel()\n",
        "\n",
        "# Create variables\n",
        "model.x = Var(machines, jobs, domain = NonNegativeReals, bounds=create_bounds)\n",
        "\n",
        "# Constraints\n",
        "model.machine_constraints = ConstraintList()\n",
        "\n",
        "# At most one job per machine - for loop is much more compact notation\n",
        "for machine in machines:\n",
        "  assign_expr = 0\n",
        "  for job in jobs:\n",
        "    assign_expr += model.x[machine,job]\n",
        "  model.machine_constraints.add(assign_expr <= 1)\n",
        "\n",
        "\n",
        "# Exactly one machine per job - for loop (again) is much more compact!\n",
        "model.job_constraints = ConstraintList()\n",
        "for job in jobs:\n",
        "  assign_expr = 0\n",
        "  for machine in machines:\n",
        "    assign_expr += model.x[machine,job]\n",
        "  model.job_constraints.add(assign_expr == 1)\n",
        "\n",
        "\n",
        "# Objective - nice compact way (again!)\n",
        "obj_expr = 0.0\n",
        "for time in Time:\n",
        "  print(time,Time[time])\n",
        "  obj_expr += Time[time]*model.x[time]\n",
        "\n",
        "model.total_time = Objective(\n",
        "    expr = obj_expr, \n",
        "    sense = minimize)\n",
        "\n",
        "model.pprint()"
      ],
      "execution_count": null,
      "outputs": [
        {
          "output_type": "stream",
          "text": [
            "('T', '1') 38\n",
            "('T', '2') 75\n",
            "('T', '3') 44\n",
            "('T', '4') 27\n",
            "('B', '1') 34\n",
            "('B', '2') 76\n",
            "('B', '3') 43\n",
            "('B', '4') 25\n",
            "('L', '1') 41\n",
            "('L', '2') 71\n",
            "('L', '3') 41\n",
            "('L', '4') 26\n",
            "('C', '1') 33\n",
            "('C', '2') 80\n",
            "('C', '3') 45\n",
            "('C', '4') 30\n",
            "5 Set Declarations\n",
            "    job_constraints_index : Size=1, Index=None, Ordered=Insertion\n",
            "        Key  : Dimen : Domain : Size : Members\n",
            "        None :     1 :    Any :    4 : {1, 2, 3, 4}\n",
            "    machine_constraints_index : Size=1, Index=None, Ordered=Insertion\n",
            "        Key  : Dimen : Domain : Size : Members\n",
            "        None :     1 :    Any :    4 : {1, 2, 3, 4}\n",
            "    x_index : Size=1, Index=None, Ordered=True\n",
            "        Key  : Dimen : Domain              : Size : Members\n",
            "        None :     2 : x_index_0*x_index_1 :   16 : {('T', '1'), ('T', '2'), ('T', '3'), ('T', '4'), ('B', '1'), ('B', '2'), ('B', '3'), ('B', '4'), ('L', '1'), ('L', '2'), ('L', '3'), ('L', '4'), ('C', '1'), ('C', '2'), ('C', '3'), ('C', '4')}\n",
            "    x_index_0 : Size=1, Index=None, Ordered=Insertion\n",
            "        Key  : Dimen : Domain : Size : Members\n",
            "        None :     1 :    Any :    4 : {'T', 'B', 'L', 'C'}\n",
            "    x_index_1 : Size=1, Index=None, Ordered=Insertion\n",
            "        Key  : Dimen : Domain : Size : Members\n",
            "        None :     1 :    Any :    4 : {'1', '2', '3', '4'}\n",
            "\n",
            "1 Var Declarations\n",
            "    x : Size=16, Index=x_index\n",
            "        Key        : Lower : Value : Upper : Fixed : Stale : Domain\n",
            "        ('B', '1') :     0 :  None :     1 : False :  True : NonNegativeReals\n",
            "        ('B', '2') :     0 :  None :     1 : False :  True : NonNegativeReals\n",
            "        ('B', '3') :     0 :  None :     1 : False :  True : NonNegativeReals\n",
            "        ('B', '4') :     0 :  None :     1 : False :  True : NonNegativeReals\n",
            "        ('C', '1') :     0 :  None :     1 : False :  True : NonNegativeReals\n",
            "        ('C', '2') :     0 :  None :     1 : False :  True : NonNegativeReals\n",
            "        ('C', '3') :     0 :  None :     1 : False :  True : NonNegativeReals\n",
            "        ('C', '4') :     0 :  None :     1 : False :  True : NonNegativeReals\n",
            "        ('L', '1') :     0 :  None :     1 : False :  True : NonNegativeReals\n",
            "        ('L', '2') :     0 :  None :     1 : False :  True : NonNegativeReals\n",
            "        ('L', '3') :     0 :  None :     1 : False :  True : NonNegativeReals\n",
            "        ('L', '4') :     0 :  None :     1 : False :  True : NonNegativeReals\n",
            "        ('T', '1') :     0 :  None :     1 : False :  True : NonNegativeReals\n",
            "        ('T', '2') :     0 :  None :     1 : False :  True : NonNegativeReals\n",
            "        ('T', '3') :     0 :  None :     1 : False :  True : NonNegativeReals\n",
            "        ('T', '4') :     0 :  None :     1 : False :  True : NonNegativeReals\n",
            "\n",
            "1 Objective Declarations\n",
            "    total_time : Size=1, Index=None, Active=True\n",
            "        Key  : Active : Sense    : Expression\n",
            "        None :   True : minimize : 38*x[T,1] + 75*x[T,2] + 44*x[T,3] + 27*x[T,4] + 34*x[B,1] + 76*x[B,2] + 43*x[B,3] + 25*x[B,4] + 41*x[L,1] + 71*x[L,2] + 41*x[L,3] + 26*x[L,4] + 33*x[C,1] + 80*x[C,2] + 45*x[C,3] + 30*x[C,4]\n",
            "\n",
            "2 Constraint Declarations\n",
            "    job_constraints : Size=4, Index=job_constraints_index, Active=True\n",
            "        Key : Lower : Body                              : Upper : Active\n",
            "          1 :   1.0 : x[T,1] + x[B,1] + x[L,1] + x[C,1] :   1.0 :   True\n",
            "          2 :   1.0 : x[T,2] + x[B,2] + x[L,2] + x[C,2] :   1.0 :   True\n",
            "          3 :   1.0 : x[T,3] + x[B,3] + x[L,3] + x[C,3] :   1.0 :   True\n",
            "          4 :   1.0 : x[T,4] + x[B,4] + x[L,4] + x[C,4] :   1.0 :   True\n",
            "    machine_constraints : Size=4, Index=machine_constraints_index, Active=True\n",
            "        Key : Lower : Body                              : Upper : Active\n",
            "          1 :  -Inf : x[T,1] + x[T,2] + x[T,3] + x[T,4] :   1.0 :   True\n",
            "          2 :  -Inf : x[B,1] + x[B,2] + x[B,3] + x[B,4] :   1.0 :   True\n",
            "          3 :  -Inf : x[L,1] + x[L,2] + x[L,3] + x[L,4] :   1.0 :   True\n",
            "          4 :  -Inf : x[C,1] + x[C,2] + x[C,3] + x[C,4] :   1.0 :   True\n",
            "\n",
            "9 Declarations: x_index_0 x_index_1 x_index x machine_constraints_index machine_constraints job_constraints_index job_constraints total_time\n"
          ],
          "name": "stdout"
        }
      ]
    },
    {
      "cell_type": "code",
      "metadata": {
        "id": "1RU--wGyNGXi",
        "colab": {
          "base_uri": "https://localhost:8080/",
          "height": 797
        },
        "outputId": "b2a2ae44-7adb-4ef1-bea0-a39152d2d8c3"
      },
      "source": [
        "# Solve the model\n",
        "SolverFactory('cbc', executable='/usr/bin/cbc').solve(model).write()\n",
        "\n",
        "# show the results\n",
        "print('Total time:',model.total_time())\n",
        "\n",
        "print(\"List of assigments\")\n",
        "for assignment in assignments:\n",
        "  if 0 < model.x[assignment]():\n",
        "    print(assignment)"
      ],
      "execution_count": null,
      "outputs": [
        {
          "output_type": "stream",
          "text": [
            "# ==========================================================\n",
            "# = Solver Results                                         =\n",
            "# ==========================================================\n",
            "# ----------------------------------------------------------\n",
            "#   Problem Information\n",
            "# ----------------------------------------------------------\n",
            "Problem: \n",
            "- Name: unknown\n",
            "  Lower bound: 173.0\n",
            "  Upper bound: 173.0\n",
            "  Number of objectives: 1\n",
            "  Number of constraints: 9\n",
            "  Number of variables: 17\n",
            "  Number of nonzeros: 16\n",
            "  Sense: minimize\n",
            "# ----------------------------------------------------------\n",
            "#   Solver Information\n",
            "# ----------------------------------------------------------\n",
            "Solver: \n",
            "- Status: ok\n",
            "  User time: -1.0\n",
            "  System time: 0.0\n",
            "  Wallclock time: 0.0\n",
            "  Termination condition: optimal\n",
            "  Termination message: Model was solved to optimality (subject to tolerances), and an optimal solution is available.\n",
            "  Statistics: \n",
            "    Branch and bound: \n",
            "      Number of bounded subproblems: None\n",
            "      Number of created subproblems: None\n",
            "    Black box: \n",
            "      Number of iterations: 6\n",
            "  Error rc: 0\n",
            "  Time: 0.027987241744995117\n",
            "# ----------------------------------------------------------\n",
            "#   Solution Information\n",
            "# ----------------------------------------------------------\n",
            "Solution: \n",
            "- number of solutions: 0\n",
            "  number of solutions displayed: 0\n",
            "Total time: 173.0\n",
            "List of assigments\n",
            "('T', '3')\n",
            "('B', '4')\n",
            "('L', '2')\n",
            "('C', '1')\n"
          ],
          "name": "stdout"
        }
      ]
    }
  ]
}