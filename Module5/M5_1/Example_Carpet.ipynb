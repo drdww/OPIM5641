{
  "nbformat": 4,
  "nbformat_minor": 0,
  "metadata": {
    "colab": {
      "name": "Example_Carpet.ipynb",
      "provenance": [],
      "collapsed_sections": [],
      "include_colab_link": true
    },
    "kernelspec": {
      "name": "python3",
      "display_name": "Python 3"
    }
  },
  "cells": [
    {
      "cell_type": "markdown",
      "metadata": {
        "id": "view-in-github",
        "colab_type": "text"
      },
      "source": [
        "<a href=\"https://colab.research.google.com/github/drdww/OPIM5641/blob/main/Module5/M5_1/Example_Carpet.ipynb\" target=\"_parent\"><img src=\"https://colab.research.google.com/assets/colab-badge.svg\" alt=\"Open In Colab\"/></a>"
      ]
    },
    {
      "cell_type": "markdown",
      "metadata": {
        "id": "ol5AgUBiRunl"
      },
      "source": [
        "# Individual Assignment M5.1 \n",
        "\n",
        "Please refer to Powell Chapter 10 for more details on Network Optimization problems.\n",
        "\n",
        "----------------------------------------------------------------------\n",
        "\n",
        "* Your Name Here\n",
        "* Your NetID Here\n",
        "\n",
        "--------------------------------------------------------------------------\n",
        "\n",
        "You may work with your fellow classmates, but you need to complete the assignment on your own. I expect different headers and COMMENTS (comments are the key to showing that you really know your stuff - without comments, your code is useless to me and we will deduct at least 50% points). Good luck!\n",
        "\n",
        "## Problem 3 from the textbook.\n",
        "\n",
        "3. **Shipping Carpets.** A manufacturer of nylon carpets produces rolls of carpeting at four factories and ships them to\n",
        "distributors in five locations. The following table shows the\n",
        "capacities at the factories and the demands at the distributors\n",
        "for the next quarter, all given in thousands of rolls. Also shown\n",
        "are the unit transportation costs between each factory and each\n",
        "distributor, stated in cost per roll.\n",
        "\n",
        "To Distributor:| D1| D2| D3| D4| D5| Capacity\n",
        "---| ---| ---| ---| ---| ---| ---|\n",
        "From F1| 11| 16| 18| 22| 15| 40|\n",
        "From F2| 12| 24| 20| 21| 18| 50|\n",
        "From F3| 18| 17| 15| 15| 20| 50|\n",
        "From F4| 17| 22| 14| 24| 21| 60|\n",
        "Demand| 30| 24| 42| 36| 48|\n",
        "\n",
        "* (a) (25 pts) What is the minimum-cost distribution plan for the\n",
        "quarter?\n",
        "\n",
        "* (b) (25 pts) What is the cost of the distribution plan in part (a)?\n",
        "\n",
        "* (c) (25 pts) Suppose instead that demand at D4 increases and demand\n",
        "at D3 decreases, each by 1,000 rolls. What is the new optimal\n",
        "cost, assuming that the schedule can be revised? Use Pyomo to show your answers."
      ]
    },
    {
      "cell_type": "code",
      "metadata": {
        "id": "-0H9t68BRqKq"
      },
      "source": [
        "# good luck!"
      ],
      "execution_count": null,
      "outputs": []
    }
  ]
}