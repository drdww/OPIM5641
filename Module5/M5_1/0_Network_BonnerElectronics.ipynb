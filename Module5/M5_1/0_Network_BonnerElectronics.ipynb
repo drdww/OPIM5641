{
  "nbformat": 4,
  "nbformat_minor": 0,
  "metadata": {
    "colab": {
      "name": "Network_BonnerElectronics",
      "provenance": [],
      "collapsed_sections": [],
      "toc_visible": true,
      "include_colab_link": true
    },
    "kernelspec": {
      "name": "python3",
      "display_name": "Python 3"
    }
  },
  "cells": [
    {
      "cell_type": "markdown",
      "metadata": {
        "id": "view-in-github",
        "colab_type": "text"
      },
      "source": [
        "<a href=\"https://colab.research.google.com/github/drdww/OPIM5641/blob/main/Module5/M5_1/Network_BonnerElectronics.ipynb\" target=\"_parent\"><img src=\"https://colab.research.google.com/assets/colab-badge.svg\" alt=\"Open In Colab\"/></a>"
      ]
    },
    {
      "cell_type": "markdown",
      "metadata": {
        "id": "KcgjCxhh6EuD"
      },
      "source": [
        "# Network Problems: Bonner Electronics\n",
        "**OPIM 5641: Business Decision Modeling - University of Connecticut**\n",
        "\n",
        "-----------------------\n",
        "\n",
        "* Please refer to Powell Chapter 10 for more details and examples.\n",
        "* Pyomo Cookbook (related example): https://github.com/jckantor/ND-Pyomo-Cookbook/blob/master/notebooks/03.01-Transportation-Networks.ipynb\n",
        "\n",
        "-------------------------------------------------------------------------"
      ]
    },
    {
      "cell_type": "markdown",
      "metadata": {
        "id": "p08Pc-Me162o"
      },
      "source": [
        "There are four main types of linear programming structures, three of which we covered in the previous module (allocation, covering, blending). The fourth type is the **network model**. Network models themselves fall into several categories, but what is common in our approach to all network models is that we use a diagram to help formulate and solve linear programming problems. \n",
        "\n",
        "The network model describes patterns of ﬂow in a connected system, where the ﬂow might involve material, people, or funds. The system elements may be locations, such as cities, warehouses, or assembly lines; or they may be points in time rather than points in space. When we construct diagrams to represent such systems, the elements are represented by **nodes**, or circles, in the diagram. The paths of ﬂow are represented by **arcs**, or arrows."
      ]
    },
    {
      "cell_type": "code",
      "metadata": {
        "id": "fTv9m34l53TJ"
      },
      "source": [
        "import shutil\n",
        "import sys\n",
        "import os.path\n",
        "\n",
        "if not shutil.which(\"pyomo\"):\n",
        "    !pip install -q pyomo\n",
        "    assert(shutil.which(\"pyomo\"))\n",
        "\n",
        "if not (shutil.which(\"cbc\") or os.path.isfile(\"cbc\")):\n",
        "    if \"google.colab\" in sys.modules:\n",
        "        !apt-get install -y -qq coinor-cbc\n",
        "    else:\n",
        "        try:\n",
        "            !conda install -c conda-forge coincbc \n",
        "        except:\n",
        "            pass\n",
        "\n",
        "assert(shutil.which(\"cbc\") or os.path.isfile(\"cbc\"))\n",
        "    \n",
        "from pyomo.environ import *"
      ],
      "execution_count": null,
      "outputs": []
    },
    {
      "cell_type": "markdown",
      "metadata": {
        "id": "G_NmhqYm6THz"
      },
      "source": [
        "# Example\n",
        "Bonner Electronics is planning next week’s shipments from its three manufacturing plants to its four distribution warehouses and is seeking a minimum-cost shipping schedule. Each plant has a potential capacity, expressed in cartons of product, and each warehouse has a week’s requirement that must be met. There are twelve possible shipment routes, and for each route, the unit shipping cost is known. The following table provides the given information for this example:\n",
        "\n",
        "Plant | Atlanta | Boston | Chicago | Denver | Capacity\n",
        "--- | --- | --- | --- | --- | ---\n",
        "Minneapolis | 0.6 | 0.56 | 0.22 | 0.4 | 9,000\n",
        "Pittsburgh | 0.36 | 0.3 | 0.28 | 0.58 | 12,000\n",
        "Tucson | 0.65 | 0.68 | 0.55 | 0.42 | 13,000\n",
        "--- | --- | --- | --- | --- | --- |\n",
        "Requirement | 7,500 | 8,500 | 9,500 | 8,000\n",
        "\n",
        "Here is an example of the network for this problem.\n",
        "<center>\n",
        "\n",
        "![Powell 10.2](https://drive.google.com/uc?export=view&id=1FF8w2kvTPS1M4iluNn3OdZXmCPFxHNq5)\n",
        "\n",
        "Nodes are the circles, arcs are the arrows. Notice how each plant could support any other distribution warehouses. On your own, you can try to recreate this in Python using `NetworkX`. https://python-graph-gallery.com/network-chart/ If you do this, please share on the discussion board!\n",
        "\n"
      ]
    },
    {
      "cell_type": "markdown",
      "metadata": {
        "id": "tGbiI1_i4QhX"
      },
      "source": [
        "## Model Formulation\n",
        "\n",
        "The transportation model has two kinds of constraints: less-than (or equal to) **capacity/supply constraints** and greater-than (or equal to) **demand constraints**, assuming that total demand does not exceed capacity (this is not always true - more on this in future examples!). \n"
      ]
    },
    {
      "cell_type": "markdown",
      "metadata": {
        "id": "4diBqBRkABAD"
      },
      "source": [
        "### Supply Constraints\n",
        "For the Minneapolis plant, we can express the capacity constraint as follows.\n",
        "\n",
        "$MA + MB + MC + MD \\leq 9,000$\n",
        "\n",
        "In words, the total amount shipped out of Minneapolis must be less than or equal to the Minneapolis capacity. For Pittsburgh and Tucson, we have similar constraints: \n",
        "\n",
        "$PA + PB + PC + PD \\leq 12,000$ \n",
        "\n",
        "$TA + TB + TC + TD \\leq 13,000$"
      ]
    },
    {
      "cell_type": "markdown",
      "metadata": {
        "id": "km-0PyuP5Bwi"
      },
      "source": [
        "### Demand Constraints\n",
        "For the Atlanta warehouse, the demand constraint reads: \n",
        "$MA + PA + TA \\geq 7,500$ \n",
        "\n",
        "In words, the amount received at Atlanta must be greater than or equal to the Atlanta requirement. Similarly, for the other three warehouses, the demand constraint becomes:\n",
        "\n",
        "$MB + PB + TB \\geq 8,500$ \n",
        "\n",
        "$MC + PC + TC \\geq 9,500$ \n",
        "\n",
        "$MD + PD + TD \\geq 8,000$\n"
      ]
    },
    {
      "cell_type": "markdown",
      "metadata": {
        "id": "_SFLw7NK5i79"
      },
      "source": [
        "# Objective Function and All Constraints\n",
        "\n",
        "Putting both kinds of constraints together, and building an objective function from the same set of variables, we can create the following algebraic statement of the model:\n",
        "\n",
        "$\\min(z) = 0.60MA + 0.56MB + 0.22MC + 0.40MD + 0.36PA + 0.30PB + 0.28PC + 0.58PD + 0.65TA + 0.68TB + 0.55TC + 0.42TD$\n",
        "\n",
        "subject to... supply constraints...\n",
        "* $MA + MB + MC + MD \\leq 9,000$\n",
        "* $PA + PB + PC + PD \\leq 12,000$ \n",
        "* $TA + TB + TC + TD \\leq 13,000$\n",
        "\n",
        "... and demand constraints...\n",
        "* $MA + PA + TA \\geq 7,500$ \n",
        "* $MB + PB + TB \\geq 8,500$ \n",
        "* $MC + PC + TC \\geq 9,500$ \n",
        "* $MD + PD + TD \\geq 8,000$\n"
      ]
    },
    {
      "cell_type": "markdown",
      "metadata": {
        "id": "p7jL-U556TyB"
      },
      "source": [
        "# Building the Model in Pyomo (Using Dictionaries)\n",
        "So long as you aren't doing a sensitivity analysis (shown later), this version of the code is appropriate for solving the problem. It is neat, compact and efficient - compared to the longer version where one types out every constraint manually (there is a real risk of typos here!)"
      ]
    },
    {
      "cell_type": "code",
      "metadata": {
        "id": "sets5k_a7lKW"
      },
      "source": [
        "Demand = {\n",
        "   'A':   7500,        # Atlanta\n",
        "   'B':   8500,        # Boston\n",
        "   'C':   9500,        # Chicago\n",
        "   'D':   8000        # Denver\n",
        "}\n",
        "\n",
        "Supply = {\n",
        "   'M':   9000,        # Minneapolis\n",
        "   'P':   12000,         # Pittsburgh\n",
        "   'T':   13000      # Tucson\n",
        "}\n",
        "\n",
        "# remember, it is DEMAND - SUPPLY pairs (might seem backwards)\n",
        "T = {\n",
        "    ('A','M'): 0.6,\n",
        "    ('B','M'): 0.56,\n",
        "    ('C','M'): 0.22,\n",
        "    ('D','M'): 0.4,\n",
        "    ('A','P'): 0.36,\n",
        "    ('B','P'): 0.3,\n",
        "    ('C','P'): 0.28,\n",
        "    ('D','P'): 0.58,\n",
        "    ('A','T'): 0.65,\n",
        "    ('B','T'): 0.68,\n",
        "    ('C','T'): 0.55,\n",
        "    ('D','T'): 0.42\n",
        "}"
      ],
      "execution_count": null,
      "outputs": []
    },
    {
      "cell_type": "code",
      "metadata": {
        "id": "K_qs9jea8epo"
      },
      "source": [
        "# define the model\n",
        "# Step 0: Create an instance of the model\n",
        "model = ConcreteModel()\n",
        "\n",
        "# Step 1: Define index sets - dictionary syntax {key : value}\n",
        "CUS = list(Demand.keys()) # CUS = customers (demand)\n",
        "SRC = list(Supply.keys()) # SRC = source (supply)\n",
        "\n",
        "# Step 2: Define the decision \n",
        "model.x = Var(CUS, SRC, domain = NonNegativeReals)\n",
        "\n",
        "# Step 3: Define Objective\n",
        "model.Cost = Objective(\n",
        "    expr = sum([T[c,s]*model.x[c,s] for c in CUS for s in SRC]),\n",
        "    sense = minimize)"
      ],
      "execution_count": null,
      "outputs": []
    },
    {
      "cell_type": "code",
      "metadata": {
        "id": "0JV4gvIJ9lHd"
      },
      "source": [
        "# Step 4: Add Constraints (note the ease in which this happens with for loops!)\n",
        "model.src = ConstraintList()\n",
        "for s in SRC:\n",
        "    model.src.add(sum([model.x[c,s] for c in CUS]) <= Supply[s])\n",
        "        \n",
        "model.dmd = ConstraintList()\n",
        "for c in CUS:\n",
        "    model.dmd.add(sum([model.x[c,s] for s in SRC]) == Demand[c])"
      ],
      "execution_count": null,
      "outputs": []
    },
    {
      "cell_type": "code",
      "metadata": {
        "id": "DxqhxOT969kn",
        "colab": {
          "base_uri": "https://localhost:8080/"
        },
        "outputId": "b352527b-6960-4bdc-e5c5-d606b9a19d6c"
      },
      "source": [
        "# solve the model and show results\n",
        "results = SolverFactory('cbc').solve(model)\n",
        "results.write()"
      ],
      "execution_count": null,
      "outputs": [
        {
          "output_type": "stream",
          "name": "stdout",
          "text": [
            "# ==========================================================\n",
            "# = Solver Results                                         =\n",
            "# ==========================================================\n",
            "# ----------------------------------------------------------\n",
            "#   Problem Information\n",
            "# ----------------------------------------------------------\n",
            "Problem: \n",
            "- Name: unknown\n",
            "  Lower bound: 12025.0\n",
            "  Upper bound: 12025.0\n",
            "  Number of objectives: 1\n",
            "  Number of constraints: 8\n",
            "  Number of variables: 13\n",
            "  Number of nonzeros: 12\n",
            "  Sense: minimize\n",
            "# ----------------------------------------------------------\n",
            "#   Solver Information\n",
            "# ----------------------------------------------------------\n",
            "Solver: \n",
            "- Status: ok\n",
            "  User time: -1.0\n",
            "  System time: 0.0\n",
            "  Wallclock time: 0.0\n",
            "  Termination condition: optimal\n",
            "  Termination message: Model was solved to optimality (subject to tolerances), and an optimal solution is available.\n",
            "  Statistics: \n",
            "    Branch and bound: \n",
            "      Number of bounded subproblems: None\n",
            "      Number of created subproblems: None\n",
            "    Black box: \n",
            "      Number of iterations: 9\n",
            "  Error rc: 0\n",
            "  Time: 0.02474689483642578\n",
            "# ----------------------------------------------------------\n",
            "#   Solution Information\n",
            "# ----------------------------------------------------------\n",
            "Solution: \n",
            "- number of solutions: 0\n",
            "  number of solutions displayed: 0\n"
          ]
        }
      ]
    },
    {
      "cell_type": "markdown",
      "metadata": {
        "id": "mL5G_owtAE2C"
      },
      "source": [
        "# Results"
      ]
    },
    {
      "cell_type": "code",
      "metadata": {
        "id": "EbYCYdAJ97Vy",
        "colab": {
          "base_uri": "https://localhost:8080/"
        },
        "outputId": "e91d7a20-72ba-41f9-b745-15948c164996"
      },
      "source": [
        "# print the cost - checks out!\n",
        "model.Cost()"
      ],
      "execution_count": null,
      "outputs": [
        {
          "output_type": "execute_result",
          "data": {
            "text/plain": [
              "12025.0"
            ]
          },
          "metadata": {},
          "execution_count": 23
        }
      ]
    },
    {
      "cell_type": "code",
      "metadata": {
        "id": "R-CsoQFx9sJv",
        "colab": {
          "base_uri": "https://localhost:8080/"
        },
        "outputId": "efc1b01f-32fe-49bf-b679-1093c95a6ee3"
      },
      "source": [
        "# print the solution for how much goes in each node\n",
        "for c in CUS:\n",
        "    for s in SRC:\n",
        "        print(c, s, model.x[c,s]())"
      ],
      "execution_count": null,
      "outputs": [
        {
          "output_type": "stream",
          "name": "stdout",
          "text": [
            "A M 0.0\n",
            "A P 3500.0\n",
            "A T 4000.0\n",
            "B M 0.0\n",
            "B P 8500.0\n",
            "B T 0.0\n",
            "C M 9000.0\n",
            "C P 0.0\n",
            "C T 500.0\n",
            "D M 0.0\n",
            "D P 0.0\n",
            "D T 8000.0\n"
          ]
        }
      ]
    },
    {
      "cell_type": "markdown",
      "metadata": {
        "id": "Gr_irYIE7DXe"
      },
      "source": [
        "We can show the answer pictorially (you may be able to do this in Python using flow charts, left to students on their own). But here is what this looks like.\n",
        "\n",
        "<center>\n",
        "\n",
        "![Powell 10.5](https://drive.google.com/uc?export=view&id=1Xmf5_R96P8iiFoX0pQCNFKUUszhKFGok)\n"
      ]
    },
    {
      "cell_type": "markdown",
      "metadata": {
        "id": "I3RWBPIjLK5L"
      },
      "source": [
        "Take a second and realize that this problem is a little bit weird... you have more supply than demand, so the math works out. "
      ]
    },
    {
      "cell_type": "code",
      "metadata": {
        "id": "Cq5Io6jlLUH8",
        "colab": {
          "base_uri": "https://localhost:8080/"
        },
        "outputId": "b1749e27-9c8f-46b6-9d04-06b506d322f0"
      },
      "source": [
        "# supply\n",
        "supply = 9000 + 12000 + 13000\n",
        "supply"
      ],
      "execution_count": null,
      "outputs": [
        {
          "output_type": "execute_result",
          "data": {
            "text/plain": [
              "34000"
            ]
          },
          "metadata": {},
          "execution_count": 25
        }
      ]
    },
    {
      "cell_type": "code",
      "metadata": {
        "id": "DZVGwYqPLZQk",
        "colab": {
          "base_uri": "https://localhost:8080/"
        },
        "outputId": "a2a302df-4e8a-4c1e-8ef9-7450d0801da2"
      },
      "source": [
        "# demand\n",
        "demand = 7500 + 8500 + 9500 + 8000\n",
        "demand"
      ],
      "execution_count": null,
      "outputs": [
        {
          "output_type": "execute_result",
          "data": {
            "text/plain": [
              "33500"
            ]
          },
          "metadata": {},
          "execution_count": 26
        }
      ]
    },
    {
      "cell_type": "code",
      "metadata": {
        "id": "nm7hghQpLliZ",
        "colab": {
          "base_uri": "https://localhost:8080/"
        },
        "outputId": "0b0e5d1b-27ac-4a05-dd46-53e5b0221768"
      },
      "source": [
        "# difference\n",
        "supply-demand # you have a surplus of 500"
      ],
      "execution_count": null,
      "outputs": [
        {
          "output_type": "execute_result",
          "data": {
            "text/plain": [
              "500"
            ]
          },
          "metadata": {},
          "execution_count": 27
        }
      ]
    },
    {
      "cell_type": "markdown",
      "metadata": {
        "id": "dsU-9NV1AViG"
      },
      "source": [
        "# A longer version of the code... Powell style...\n",
        "But it will help us implement a more traditional sensitivity analysis on the binding constraints."
      ]
    },
    {
      "cell_type": "code",
      "metadata": {
        "id": "CI_QAaQ1CDM6"
      },
      "source": [
        "# define the model\n",
        "# Step 0: Create an instance of the model\n",
        "model = ConcreteModel()\n",
        "\n",
        "# write the variables \n",
        "# note how I am playing with integers (which technically makes this an integer program!)\n",
        "# why integers? because I don't want to ship 0.38 widgets - we want to ship whole widgets.\n",
        "model.MA = Var(domain=NonNegativeIntegers) # from Minneapolis factory to Atlanta Warehouse\n",
        "model.MB = Var(domain=NonNegativeIntegers) # ...\n",
        "model.MC = Var(domain=NonNegativeIntegers)\n",
        "model.MD = Var(domain=NonNegativeIntegers)\n",
        "model.PA = Var(domain=NonNegativeIntegers)\n",
        "model.PB = Var(domain=NonNegativeIntegers)\n",
        "model.PC = Var(domain=NonNegativeIntegers)\n",
        "model.PD = Var(domain=NonNegativeIntegers)\n",
        "model.TA = Var(domain=NonNegativeIntegers)\n",
        "model.TB = Var(domain=NonNegativeIntegers)\n",
        "model.TC = Var(domain=NonNegativeIntegers)\n",
        "model.TD = Var(domain=NonNegativeIntegers)\n"
      ],
      "execution_count": null,
      "outputs": []
    },
    {
      "cell_type": "code",
      "metadata": {
        "id": "ZT2E_TLMCgmG"
      },
      "source": [
        "# Step 3: Define Objective\n",
        "model.Cost = Objective(\n",
        "    expr = 0.60*model.MA + 0.56*model.MB + 0.22*model.MC + 0.40*model.MD +\n",
        "            0.36*model.PA + 0.30*model.PB + 0.28*model.PC + 0.58*model.PD +\n",
        "            0.65*model.TA + 0.68*model.TB + 0.55*model.TC + 0.42*model.TD,\n",
        "    sense = minimize)"
      ],
      "execution_count": null,
      "outputs": []
    },
    {
      "cell_type": "markdown",
      "metadata": {
        "id": "RXhF1Z35DGCd"
      },
      "source": [
        "A reminder...\n",
        "subject to... supply constraints... $LHS \\leq RHS$\n",
        "* $MA + MB + MC + MD \\leq 9,000$\n",
        "* $PA + PB + PC + PD \\leq 12,000$ \n",
        "* $TA + TB + TC + TD \\leq 13,000$\n",
        "\n",
        "... and demand constraints... $LHS \\geq RHS$\n",
        "* $MA + PA + TA \\geq 7,500$ \n",
        "* $MB + PB + TB \\geq 8,500$ \n",
        "* $MC + PC + TC \\geq 9,500$ \n",
        "* $MD + PD + TD \\geq 8,000$"
      ]
    },
    {
      "cell_type": "code",
      "metadata": {
        "id": "wjrKkkTMC4Ct"
      },
      "source": [
        "# Step 4:\n",
        "# supply\n",
        "model.SupplyM = Constraint(expr = model.MA + model.MB + model.MC + model.MD <= 9000)\n",
        "model.SupplyP = Constraint(expr = model.PA + model.PB + model.PC + model.PD <= 12000)\n",
        "model.SupplyT = Constraint(expr = model.TA + model.TB + model.TC + model.TD <= 13000)\n",
        "# demand - note the USE OF EQUALITY CONSTRAINTS or GTE\n",
        "model.DemandA = Constraint(expr = model.MA + model.PA + model.TA == 7500)\n",
        "model.DemandB = Constraint(expr = model.MB + model.PB + model.TB == 8500)\n",
        "model.DemandC = Constraint(expr = model.MC + model.PC + model.TC == 9500)\n",
        "model.DemandD = Constraint(expr = model.MD + model.PD + model.TD == 8000)"
      ],
      "execution_count": null,
      "outputs": []
    },
    {
      "cell_type": "code",
      "metadata": {
        "id": "uf8281uFGAkR",
        "colab": {
          "base_uri": "https://localhost:8080/"
        },
        "outputId": "ab49133b-5c4d-4f5a-d1b3-d296a60c9bf2"
      },
      "source": [
        "model.pprint()"
      ],
      "execution_count": null,
      "outputs": [
        {
          "output_type": "stream",
          "name": "stdout",
          "text": [
            "12 Var Declarations\n",
            "    MA : Size=1, Index=None\n",
            "        Key  : Lower : Value : Upper : Fixed : Stale : Domain\n",
            "        None :     0 :  None :  None : False :  True : NonNegativeIntegers\n",
            "    MB : Size=1, Index=None\n",
            "        Key  : Lower : Value : Upper : Fixed : Stale : Domain\n",
            "        None :     0 :  None :  None : False :  True : NonNegativeIntegers\n",
            "    MC : Size=1, Index=None\n",
            "        Key  : Lower : Value : Upper : Fixed : Stale : Domain\n",
            "        None :     0 :  None :  None : False :  True : NonNegativeIntegers\n",
            "    MD : Size=1, Index=None\n",
            "        Key  : Lower : Value : Upper : Fixed : Stale : Domain\n",
            "        None :     0 :  None :  None : False :  True : NonNegativeIntegers\n",
            "    PA : Size=1, Index=None\n",
            "        Key  : Lower : Value : Upper : Fixed : Stale : Domain\n",
            "        None :     0 :  None :  None : False :  True : NonNegativeIntegers\n",
            "    PB : Size=1, Index=None\n",
            "        Key  : Lower : Value : Upper : Fixed : Stale : Domain\n",
            "        None :     0 :  None :  None : False :  True : NonNegativeIntegers\n",
            "    PC : Size=1, Index=None\n",
            "        Key  : Lower : Value : Upper : Fixed : Stale : Domain\n",
            "        None :     0 :  None :  None : False :  True : NonNegativeIntegers\n",
            "    PD : Size=1, Index=None\n",
            "        Key  : Lower : Value : Upper : Fixed : Stale : Domain\n",
            "        None :     0 :  None :  None : False :  True : NonNegativeIntegers\n",
            "    TA : Size=1, Index=None\n",
            "        Key  : Lower : Value : Upper : Fixed : Stale : Domain\n",
            "        None :     0 :  None :  None : False :  True : NonNegativeIntegers\n",
            "    TB : Size=1, Index=None\n",
            "        Key  : Lower : Value : Upper : Fixed : Stale : Domain\n",
            "        None :     0 :  None :  None : False :  True : NonNegativeIntegers\n",
            "    TC : Size=1, Index=None\n",
            "        Key  : Lower : Value : Upper : Fixed : Stale : Domain\n",
            "        None :     0 :  None :  None : False :  True : NonNegativeIntegers\n",
            "    TD : Size=1, Index=None\n",
            "        Key  : Lower : Value : Upper : Fixed : Stale : Domain\n",
            "        None :     0 :  None :  None : False :  True : NonNegativeIntegers\n",
            "\n",
            "1 Objective Declarations\n",
            "    Cost : Size=1, Index=None, Active=True\n",
            "        Key  : Active : Sense    : Expression\n",
            "        None :   True : minimize : 0.6*MA + 0.56*MB + 0.22*MC + 0.4*MD + 0.36*PA + 0.3*PB + 0.28*PC + 0.58*PD + 0.65*TA + 0.68*TB + 0.55*TC + 0.42*TD\n",
            "\n",
            "7 Constraint Declarations\n",
            "    DemandA : Size=1, Index=None, Active=True\n",
            "        Key  : Lower  : Body         : Upper  : Active\n",
            "        None : 7500.0 : MA + PA + TA : 7500.0 :   True\n",
            "    DemandB : Size=1, Index=None, Active=True\n",
            "        Key  : Lower  : Body         : Upper  : Active\n",
            "        None : 8500.0 : MB + PB + TB : 8500.0 :   True\n",
            "    DemandC : Size=1, Index=None, Active=True\n",
            "        Key  : Lower  : Body         : Upper  : Active\n",
            "        None : 9500.0 : MC + PC + TC : 9500.0 :   True\n",
            "    DemandD : Size=1, Index=None, Active=True\n",
            "        Key  : Lower  : Body         : Upper  : Active\n",
            "        None : 8000.0 : MD + PD + TD : 8000.0 :   True\n",
            "    SupplyM : Size=1, Index=None, Active=True\n",
            "        Key  : Lower : Body              : Upper  : Active\n",
            "        None :  -Inf : MA + MB + MC + MD : 9000.0 :   True\n",
            "    SupplyP : Size=1, Index=None, Active=True\n",
            "        Key  : Lower : Body              : Upper   : Active\n",
            "        None :  -Inf : PA + PB + PC + PD : 12000.0 :   True\n",
            "    SupplyT : Size=1, Index=None, Active=True\n",
            "        Key  : Lower : Body              : Upper   : Active\n",
            "        None :  -Inf : TA + TB + TC + TD : 13000.0 :   True\n",
            "\n",
            "20 Declarations: MA MB MC MD PA PB PC PD TA TB TC TD Cost SupplyM SupplyP SupplyT DemandA DemandB DemandC DemandD\n"
          ]
        }
      ]
    },
    {
      "cell_type": "markdown",
      "metadata": {
        "id": "M3h5JCm7C2_M"
      },
      "source": [
        "Now solve it!"
      ]
    },
    {
      "cell_type": "code",
      "metadata": {
        "id": "wMk2nAI_ECYf",
        "colab": {
          "base_uri": "https://localhost:8080/"
        },
        "outputId": "2a54a72f-eeba-407a-da11-29520f642808"
      },
      "source": [
        "# solve the model and show results\n",
        "SolverFactory('cbc').solve(model).write()"
      ],
      "execution_count": null,
      "outputs": [
        {
          "output_type": "stream",
          "name": "stdout",
          "text": [
            "# ==========================================================\n",
            "# = Solver Results                                         =\n",
            "# ==========================================================\n",
            "# ----------------------------------------------------------\n",
            "#   Problem Information\n",
            "# ----------------------------------------------------------\n",
            "Problem: \n",
            "- Name: unknown\n",
            "  Lower bound: 12025.0\n",
            "  Upper bound: 12025.0\n",
            "  Number of objectives: 1\n",
            "  Number of constraints: 7\n",
            "  Number of variables: 12\n",
            "  Number of binary variables: 0\n",
            "  Number of integer variables: 12\n",
            "  Number of nonzeros: 12\n",
            "  Sense: minimize\n",
            "# ----------------------------------------------------------\n",
            "#   Solver Information\n",
            "# ----------------------------------------------------------\n",
            "Solver: \n",
            "- Status: ok\n",
            "  User time: -1.0\n",
            "  System time: 0.0\n",
            "  Wallclock time: 0.0\n",
            "  Termination condition: optimal\n",
            "  Termination message: Model was solved to optimality (subject to tolerances), and an optimal solution is available.\n",
            "  Statistics: \n",
            "    Branch and bound: \n",
            "      Number of bounded subproblems: 0\n",
            "      Number of created subproblems: 0\n",
            "    Black box: \n",
            "      Number of iterations: 0\n",
            "  Error rc: 0\n",
            "  Time: 0.02748894691467285\n",
            "# ----------------------------------------------------------\n",
            "#   Solution Information\n",
            "# ----------------------------------------------------------\n",
            "Solution: \n",
            "- number of solutions: 0\n",
            "  number of solutions displayed: 0\n"
          ]
        }
      ]
    },
    {
      "cell_type": "markdown",
      "metadata": {
        "id": "27EnsYVUEGIP"
      },
      "source": [
        "Now double check your work (same as above)."
      ]
    },
    {
      "cell_type": "code",
      "metadata": {
        "id": "iGhLTf8xESUu",
        "colab": {
          "base_uri": "https://localhost:8080/"
        },
        "outputId": "84254f0f-9334-430c-a2fb-6d1add632ce5"
      },
      "source": [
        "model.Cost()"
      ],
      "execution_count": null,
      "outputs": [
        {
          "output_type": "execute_result",
          "data": {
            "text/plain": [
              "12025.0"
            ]
          },
          "metadata": {},
          "execution_count": 33
        }
      ]
    },
    {
      "cell_type": "markdown",
      "metadata": {
        "id": "OxS5LDLsLsOF"
      },
      "source": [
        "I confess that when I wrote this long-form, I had an error (infeasible solution) that I couldn't figure out for 30 minutes... it's because I wrote '9000' for the last demand constraint instead of 8000, and so I couldn't satisfy demand (and so the model breaks!). Later on in other scripts we will show how to have a 'virtual demand' or 'virtual supply' node to help with these problems."
      ]
    },
    {
      "cell_type": "code",
      "metadata": {
        "colab": {
          "base_uri": "https://localhost:8080/"
        },
        "id": "O-e5qIuozgjP",
        "outputId": "9030c4ef-3a22-444a-cebb-641943fe25e7"
      },
      "source": [
        "print('model.MA', model.MA())  # from Minneapolis factory to Atlanta Warehouse\n",
        "print('model.MB', model.MB())\n",
        "print('model.MC', model.MC())\n",
        "print('model.MD', model.MD())\n",
        "print('model.PA', model.PA())  # from Pennsylvania factory to Atlanta Warehouse\n",
        "print('model.PB', model.PB())\n",
        "print('model.PC', model.PC())\n",
        "print('model.PD', model.PD())\n",
        "print('model.TA', model.TA())  # from Tucson factory to Atlanta Warehouse\n",
        "print('model.TB', model.TB())\n",
        "print('model.TC', model.TC())\n",
        "print('model.TD', model.TD())"
      ],
      "execution_count": null,
      "outputs": [
        {
          "output_type": "stream",
          "name": "stdout",
          "text": [
            "model.MA 0.0\n",
            "model.MB 0.0\n",
            "model.MC 9000.0\n",
            "model.MD 0.0\n",
            "model.PA 3500.0\n",
            "model.PB 8500.0\n",
            "model.PC 0.0\n",
            "model.PD 0.0\n",
            "model.TA 4000.0\n",
            "model.TB 0.0\n",
            "model.TC 500.0\n",
            "model.TD 8000.0\n"
          ]
        }
      ]
    },
    {
      "cell_type": "markdown",
      "metadata": {
        "id": "Wo0uK52HBEmU"
      },
      "source": [
        "# Sensitivity Analysis with Boston\n",
        "In the transportation model, we have supply and demand constraints, and the solution to the model provides shadow prices on each. The shadow price on a demand\n",
        "constraint tells us how much it costs to ship the marginal unit to the corresponding location, and sometimes this ﬁgure is not obvious without some careful thought. \n",
        "\n",
        "Consider the demand at the Boston warehouse in the Bonner Electronics example. In the base case we just solved, Boston demand is 8,500 cartons. This quantity is all supplied from Pittsburgh, incurring a shipping cost of $0.30 per carton. Check the results above to verify.\n",
        "\n",
        "Suppose we vary the demand parameter from 8,200 to 8,800 in steps of 100 and examine the optimal solution... we will need a for loop for this! Aren't you glad we wrote the long-form of the model?"
      ]
    },
    {
      "cell_type": "code",
      "metadata": {
        "id": "gzr3CpQRNfHm",
        "colab": {
          "base_uri": "https://localhost:8080/"
        },
        "outputId": "6dcdf19f-de0d-4957-e8bc-4bc7ff8e6cef"
      },
      "source": [
        "import numpy as np\n",
        "np.arange(8200, 8900, 100)"
      ],
      "execution_count": null,
      "outputs": [
        {
          "output_type": "execute_result",
          "data": {
            "text/plain": [
              "array([8200, 8300, 8400, 8500, 8600, 8700, 8800])"
            ]
          },
          "metadata": {},
          "execution_count": 35
        }
      ]
    },
    {
      "cell_type": "code",
      "metadata": {
        "id": "WaC-f_hEMhw0",
        "colab": {
          "base_uri": "https://localhost:8080/"
        },
        "outputId": "659dc12c-fe1b-4ea0-8cfa-6e9400bb7d99"
      },
      "source": [
        "import numpy as np\n",
        "import pandas as pd\n",
        "\n",
        "myResults = pd.DataFrame() # empty place to store results\n",
        "\n",
        "\n",
        "for a in np.arange(8200,8900, 100):\n",
        "  print(a)\n",
        "  # define the model\n",
        "  # Step 0: Create an instance of the model\n",
        "  model = ConcreteModel()\n",
        "\n",
        "  # write the variables \n",
        "  model.MA = Var(domain=NonNegativeIntegers)\n",
        "  model.MB = Var(domain=NonNegativeIntegers)\n",
        "  model.MC = Var(domain=NonNegativeIntegers)\n",
        "  model.MD = Var(domain=NonNegativeIntegers)\n",
        "  model.PA = Var(domain=NonNegativeIntegers)\n",
        "  model.PB = Var(domain=NonNegativeIntegers)\n",
        "  model.PC = Var(domain=NonNegativeIntegers)\n",
        "  model.PD = Var(domain=NonNegativeIntegers)\n",
        "  model.TA = Var(domain=NonNegativeIntegers)\n",
        "  model.TB = Var(domain=NonNegativeIntegers)\n",
        "  model.TC = Var(domain=NonNegativeIntegers)\n",
        "  model.TD = Var(domain=NonNegativeIntegers)\n",
        "\n",
        "  # Step 3: Define Objective\n",
        "  model.Cost = Objective(\n",
        "      expr = 0.60*model.MA + 0.56*model.MB + 0.22*model.MC + 0.40*model.MD +\n",
        "              0.36*model.PA + 0.30*model.PB + 0.28*model.PC + 0.58*model.PD +\n",
        "              0.65*model.TA + 0.68*model.TB + 0.55*model.TC + 0.42*model.TD,\n",
        "      sense = minimize)\n",
        "\n",
        "  # Step 4:\n",
        "  # supply\n",
        "  model.SupplyM = Constraint(expr = model.MA + model.MB + model.MC + model.MD <= 9000)\n",
        "  model.SupplyP = Constraint(expr = model.PA + model.PB + model.PC + model.PD <= 12000)\n",
        "  model.SupplyT = Constraint(expr = model.TA + model.TB + model.TC + model.TD <= 13000)\n",
        "  # demand - note the USE OF EQUALITY CONSTRAINTS\n",
        "  model.DemandA = Constraint(expr = model.MA + model.PA + model.TA >= 7500)\n",
        "  model.DemandB = Constraint(expr = model.MB + model.PB + model.TB >= a)\n",
        "  model.DemandC = Constraint(expr = model.MC + model.PC + model.TC >= 9500)\n",
        "  model.DemandD = Constraint(expr = model.MD + model.PD + model.TD >= 8000)\n",
        "\n",
        "  # solve the model and show results\n",
        "  SolverFactory('cbc').solve(model).write()\n",
        "\n",
        "  # store results\n",
        "  myX = pd.DataFrame([a, # the Boston Demand\n",
        "                    model.Cost(),\n",
        "                    model.MA(),\n",
        "                    model.MB(),\n",
        "                    model.MC(),\n",
        "                    model.MD(),\n",
        "                    model.PA(),\n",
        "                    model.PB(),\n",
        "                    model.PC(),\n",
        "                    model.PD(),\n",
        "                    model.TA(),\n",
        "                    model.TB(),\n",
        "                    model.TC(),\n",
        "                    model.TD()])\n",
        "  # take transpose (from many rows to one row)\n",
        "  myX=myX.T # transpose\n",
        "\n",
        "  # store the profit\n",
        "  myResults = myResults.append(myX)"
      ],
      "execution_count": null,
      "outputs": [
        {
          "output_type": "stream",
          "name": "stdout",
          "text": [
            "8200\n",
            "# ==========================================================\n",
            "# = Solver Results                                         =\n",
            "# ==========================================================\n",
            "# ----------------------------------------------------------\n",
            "#   Problem Information\n",
            "# ----------------------------------------------------------\n",
            "Problem: \n",
            "- Name: unknown\n",
            "  Lower bound: 11848.0\n",
            "  Upper bound: 11848.0\n",
            "  Number of objectives: 1\n",
            "  Number of constraints: 7\n",
            "  Number of variables: 12\n",
            "  Number of binary variables: 0\n",
            "  Number of integer variables: 12\n",
            "  Number of nonzeros: 12\n",
            "  Sense: minimize\n",
            "# ----------------------------------------------------------\n",
            "#   Solver Information\n",
            "# ----------------------------------------------------------\n",
            "Solver: \n",
            "- Status: ok\n",
            "  User time: -1.0\n",
            "  System time: 0.0\n",
            "  Wallclock time: 0.0\n",
            "  Termination condition: optimal\n",
            "  Termination message: Model was solved to optimality (subject to tolerances), and an optimal solution is available.\n",
            "  Statistics: \n",
            "    Branch and bound: \n",
            "      Number of bounded subproblems: 0\n",
            "      Number of created subproblems: 0\n",
            "    Black box: \n",
            "      Number of iterations: 0\n",
            "  Error rc: 0\n",
            "  Time: 0.018648862838745117\n",
            "# ----------------------------------------------------------\n",
            "#   Solution Information\n",
            "# ----------------------------------------------------------\n",
            "Solution: \n",
            "- number of solutions: 0\n",
            "  number of solutions displayed: 0\n",
            "8300\n",
            "# ==========================================================\n",
            "# = Solver Results                                         =\n",
            "# ==========================================================\n",
            "# ----------------------------------------------------------\n",
            "#   Problem Information\n",
            "# ----------------------------------------------------------\n",
            "Problem: \n",
            "- Name: unknown\n",
            "  Lower bound: 11907.0\n",
            "  Upper bound: 11907.0\n",
            "  Number of objectives: 1\n",
            "  Number of constraints: 7\n",
            "  Number of variables: 12\n",
            "  Number of binary variables: 0\n",
            "  Number of integer variables: 12\n",
            "  Number of nonzeros: 12\n",
            "  Sense: minimize\n",
            "# ----------------------------------------------------------\n",
            "#   Solver Information\n",
            "# ----------------------------------------------------------\n",
            "Solver: \n",
            "- Status: ok\n",
            "  User time: -1.0\n",
            "  System time: 0.0\n",
            "  Wallclock time: 0.01\n",
            "  Termination condition: optimal\n",
            "  Termination message: Model was solved to optimality (subject to tolerances), and an optimal solution is available.\n",
            "  Statistics: \n",
            "    Branch and bound: \n",
            "      Number of bounded subproblems: 0\n",
            "      Number of created subproblems: 0\n",
            "    Black box: \n",
            "      Number of iterations: 0\n",
            "  Error rc: 0\n",
            "  Time: 0.03527259826660156\n",
            "# ----------------------------------------------------------\n",
            "#   Solution Information\n",
            "# ----------------------------------------------------------\n",
            "Solution: \n",
            "- number of solutions: 0\n",
            "  number of solutions displayed: 0\n",
            "8400\n",
            "# ==========================================================\n",
            "# = Solver Results                                         =\n",
            "# ==========================================================\n",
            "# ----------------------------------------------------------\n",
            "#   Problem Information\n",
            "# ----------------------------------------------------------\n",
            "Problem: \n",
            "- Name: unknown\n",
            "  Lower bound: 11966.0\n",
            "  Upper bound: 11966.0\n",
            "  Number of objectives: 1\n",
            "  Number of constraints: 7\n",
            "  Number of variables: 12\n",
            "  Number of binary variables: 0\n",
            "  Number of integer variables: 12\n",
            "  Number of nonzeros: 12\n",
            "  Sense: minimize\n",
            "# ----------------------------------------------------------\n",
            "#   Solver Information\n",
            "# ----------------------------------------------------------\n",
            "Solver: \n",
            "- Status: ok\n",
            "  User time: -1.0\n",
            "  System time: 0.0\n",
            "  Wallclock time: 0.0\n",
            "  Termination condition: optimal\n",
            "  Termination message: Model was solved to optimality (subject to tolerances), and an optimal solution is available.\n",
            "  Statistics: \n",
            "    Branch and bound: \n",
            "      Number of bounded subproblems: 0\n",
            "      Number of created subproblems: 0\n",
            "    Black box: \n",
            "      Number of iterations: 0\n",
            "  Error rc: 0\n",
            "  Time: 0.024615764617919922\n",
            "# ----------------------------------------------------------\n",
            "#   Solution Information\n",
            "# ----------------------------------------------------------\n",
            "Solution: \n",
            "- number of solutions: 0\n",
            "  number of solutions displayed: 0\n",
            "8500\n",
            "# ==========================================================\n",
            "# = Solver Results                                         =\n",
            "# ==========================================================\n",
            "# ----------------------------------------------------------\n",
            "#   Problem Information\n",
            "# ----------------------------------------------------------\n",
            "Problem: \n",
            "- Name: unknown\n",
            "  Lower bound: 12025.0\n",
            "  Upper bound: 12025.0\n",
            "  Number of objectives: 1\n",
            "  Number of constraints: 7\n",
            "  Number of variables: 12\n",
            "  Number of binary variables: 0\n",
            "  Number of integer variables: 12\n",
            "  Number of nonzeros: 12\n",
            "  Sense: minimize\n",
            "# ----------------------------------------------------------\n",
            "#   Solver Information\n",
            "# ----------------------------------------------------------\n",
            "Solver: \n",
            "- Status: ok\n",
            "  User time: -1.0\n",
            "  System time: 0.0\n",
            "  Wallclock time: 0.0\n",
            "  Termination condition: optimal\n",
            "  Termination message: Model was solved to optimality (subject to tolerances), and an optimal solution is available.\n",
            "  Statistics: \n",
            "    Branch and bound: \n",
            "      Number of bounded subproblems: 0\n",
            "      Number of created subproblems: 0\n",
            "    Black box: \n",
            "      Number of iterations: 0\n",
            "  Error rc: 0\n",
            "  Time: 0.022701025009155273\n",
            "# ----------------------------------------------------------\n",
            "#   Solution Information\n",
            "# ----------------------------------------------------------\n",
            "Solution: \n",
            "- number of solutions: 0\n",
            "  number of solutions displayed: 0\n",
            "8600\n",
            "# ==========================================================\n",
            "# = Solver Results                                         =\n",
            "# ==========================================================\n",
            "# ----------------------------------------------------------\n",
            "#   Problem Information\n",
            "# ----------------------------------------------------------\n",
            "Problem: \n",
            "- Name: unknown\n",
            "  Lower bound: 12084.0\n",
            "  Upper bound: 12084.0\n",
            "  Number of objectives: 1\n",
            "  Number of constraints: 7\n",
            "  Number of variables: 12\n",
            "  Number of binary variables: 0\n",
            "  Number of integer variables: 12\n",
            "  Number of nonzeros: 12\n",
            "  Sense: minimize\n",
            "# ----------------------------------------------------------\n",
            "#   Solver Information\n",
            "# ----------------------------------------------------------\n",
            "Solver: \n",
            "- Status: ok\n",
            "  User time: -1.0\n",
            "  System time: 0.0\n",
            "  Wallclock time: 0.0\n",
            "  Termination condition: optimal\n",
            "  Termination message: Model was solved to optimality (subject to tolerances), and an optimal solution is available.\n",
            "  Statistics: \n",
            "    Branch and bound: \n",
            "      Number of bounded subproblems: 0\n",
            "      Number of created subproblems: 0\n",
            "    Black box: \n",
            "      Number of iterations: 0\n",
            "  Error rc: 0\n",
            "  Time: 0.02563762664794922\n",
            "# ----------------------------------------------------------\n",
            "#   Solution Information\n",
            "# ----------------------------------------------------------\n",
            "Solution: \n",
            "- number of solutions: 0\n",
            "  number of solutions displayed: 0\n",
            "8700\n",
            "# ==========================================================\n",
            "# = Solver Results                                         =\n",
            "# ==========================================================\n",
            "# ----------------------------------------------------------\n",
            "#   Problem Information\n",
            "# ----------------------------------------------------------\n",
            "Problem: \n",
            "- Name: unknown\n",
            "  Lower bound: 12143.0\n",
            "  Upper bound: 12143.0\n",
            "  Number of objectives: 1\n",
            "  Number of constraints: 7\n",
            "  Number of variables: 12\n",
            "  Number of binary variables: 0\n",
            "  Number of integer variables: 12\n",
            "  Number of nonzeros: 12\n",
            "  Sense: minimize\n",
            "# ----------------------------------------------------------\n",
            "#   Solver Information\n",
            "# ----------------------------------------------------------\n",
            "Solver: \n",
            "- Status: ok\n",
            "  User time: -1.0\n",
            "  System time: 0.0\n",
            "  Wallclock time: 0.0\n",
            "  Termination condition: optimal\n",
            "  Termination message: Model was solved to optimality (subject to tolerances), and an optimal solution is available.\n",
            "  Statistics: \n",
            "    Branch and bound: \n",
            "      Number of bounded subproblems: 0\n",
            "      Number of created subproblems: 0\n",
            "    Black box: \n",
            "      Number of iterations: 0\n",
            "  Error rc: 0\n",
            "  Time: 0.02044844627380371\n",
            "# ----------------------------------------------------------\n",
            "#   Solution Information\n",
            "# ----------------------------------------------------------\n",
            "Solution: \n",
            "- number of solutions: 0\n",
            "  number of solutions displayed: 0\n",
            "8800\n",
            "# ==========================================================\n",
            "# = Solver Results                                         =\n",
            "# ==========================================================\n",
            "# ----------------------------------------------------------\n",
            "#   Problem Information\n",
            "# ----------------------------------------------------------\n",
            "Problem: \n",
            "- Name: unknown\n",
            "  Lower bound: 12202.0\n",
            "  Upper bound: 12202.0\n",
            "  Number of objectives: 1\n",
            "  Number of constraints: 7\n",
            "  Number of variables: 12\n",
            "  Number of binary variables: 0\n",
            "  Number of integer variables: 12\n",
            "  Number of nonzeros: 12\n",
            "  Sense: minimize\n",
            "# ----------------------------------------------------------\n",
            "#   Solver Information\n",
            "# ----------------------------------------------------------\n",
            "Solver: \n",
            "- Status: ok\n",
            "  User time: -1.0\n",
            "  System time: 0.0\n",
            "  Wallclock time: 0.0\n",
            "  Termination condition: optimal\n",
            "  Termination message: Model was solved to optimality (subject to tolerances), and an optimal solution is available.\n",
            "  Statistics: \n",
            "    Branch and bound: \n",
            "      Number of bounded subproblems: 0\n",
            "      Number of created subproblems: 0\n",
            "    Black box: \n",
            "      Number of iterations: 0\n",
            "  Error rc: 0\n",
            "  Time: 0.019736289978027344\n",
            "# ----------------------------------------------------------\n",
            "#   Solution Information\n",
            "# ----------------------------------------------------------\n",
            "Solution: \n",
            "- number of solutions: 0\n",
            "  number of solutions displayed: 0\n"
          ]
        }
      ]
    },
    {
      "cell_type": "code",
      "metadata": {
        "id": "cPSrEUG5OQsQ",
        "colab": {
          "base_uri": "https://localhost:8080/",
          "height": 266
        },
        "outputId": "882c9c35-4d6f-4fe0-f03f-81eed10af9eb"
      },
      "source": [
        "# Change the Column names\n",
        "myResults = myResults.rename( {0:\"Boston Demand\", 1:\"Cost\",\n",
        "                               2:\"MA\", 3:\"MB\" ,4:\"MC\", 5:\"MD\",\n",
        "                               6:\"PA\", 7:\"PB\" ,8:\"PC\", 9:\"PD\",\n",
        "                               10:\"TA\", 11:\"TB\" ,12:\"TC\", 13:\"TD\"}, axis='columns') \n",
        "myResults.reset_index(drop=True, inplace=True)\n",
        "\n",
        "# check your work!\n",
        "myResults"
      ],
      "execution_count": null,
      "outputs": [
        {
          "output_type": "execute_result",
          "data": {
            "text/html": [
              "<div>\n",
              "<style scoped>\n",
              "    .dataframe tbody tr th:only-of-type {\n",
              "        vertical-align: middle;\n",
              "    }\n",
              "\n",
              "    .dataframe tbody tr th {\n",
              "        vertical-align: top;\n",
              "    }\n",
              "\n",
              "    .dataframe thead th {\n",
              "        text-align: right;\n",
              "    }\n",
              "</style>\n",
              "<table border=\"1\" class=\"dataframe\">\n",
              "  <thead>\n",
              "    <tr style=\"text-align: right;\">\n",
              "      <th></th>\n",
              "      <th>Boston Demand</th>\n",
              "      <th>Cost</th>\n",
              "      <th>MA</th>\n",
              "      <th>MB</th>\n",
              "      <th>MC</th>\n",
              "      <th>MD</th>\n",
              "      <th>PA</th>\n",
              "      <th>PB</th>\n",
              "      <th>PC</th>\n",
              "      <th>PD</th>\n",
              "      <th>TA</th>\n",
              "      <th>TB</th>\n",
              "      <th>TC</th>\n",
              "      <th>TD</th>\n",
              "    </tr>\n",
              "  </thead>\n",
              "  <tbody>\n",
              "    <tr>\n",
              "      <th>0</th>\n",
              "      <td>8200.0</td>\n",
              "      <td>11848.0</td>\n",
              "      <td>0.0</td>\n",
              "      <td>0.0</td>\n",
              "      <td>9000.0</td>\n",
              "      <td>0.0</td>\n",
              "      <td>3800.0</td>\n",
              "      <td>8200.0</td>\n",
              "      <td>0.0</td>\n",
              "      <td>0.0</td>\n",
              "      <td>3700.0</td>\n",
              "      <td>0.0</td>\n",
              "      <td>500.0</td>\n",
              "      <td>8000.0</td>\n",
              "    </tr>\n",
              "    <tr>\n",
              "      <th>1</th>\n",
              "      <td>8300.0</td>\n",
              "      <td>11907.0</td>\n",
              "      <td>0.0</td>\n",
              "      <td>0.0</td>\n",
              "      <td>9000.0</td>\n",
              "      <td>0.0</td>\n",
              "      <td>3700.0</td>\n",
              "      <td>8300.0</td>\n",
              "      <td>0.0</td>\n",
              "      <td>0.0</td>\n",
              "      <td>3800.0</td>\n",
              "      <td>0.0</td>\n",
              "      <td>500.0</td>\n",
              "      <td>8000.0</td>\n",
              "    </tr>\n",
              "    <tr>\n",
              "      <th>2</th>\n",
              "      <td>8400.0</td>\n",
              "      <td>11966.0</td>\n",
              "      <td>0.0</td>\n",
              "      <td>0.0</td>\n",
              "      <td>9000.0</td>\n",
              "      <td>0.0</td>\n",
              "      <td>3600.0</td>\n",
              "      <td>8400.0</td>\n",
              "      <td>0.0</td>\n",
              "      <td>0.0</td>\n",
              "      <td>3900.0</td>\n",
              "      <td>0.0</td>\n",
              "      <td>500.0</td>\n",
              "      <td>8000.0</td>\n",
              "    </tr>\n",
              "    <tr>\n",
              "      <th>3</th>\n",
              "      <td>8500.0</td>\n",
              "      <td>12025.0</td>\n",
              "      <td>0.0</td>\n",
              "      <td>0.0</td>\n",
              "      <td>9000.0</td>\n",
              "      <td>0.0</td>\n",
              "      <td>3500.0</td>\n",
              "      <td>8500.0</td>\n",
              "      <td>0.0</td>\n",
              "      <td>0.0</td>\n",
              "      <td>4000.0</td>\n",
              "      <td>0.0</td>\n",
              "      <td>500.0</td>\n",
              "      <td>8000.0</td>\n",
              "    </tr>\n",
              "    <tr>\n",
              "      <th>4</th>\n",
              "      <td>8600.0</td>\n",
              "      <td>12084.0</td>\n",
              "      <td>0.0</td>\n",
              "      <td>0.0</td>\n",
              "      <td>9000.0</td>\n",
              "      <td>0.0</td>\n",
              "      <td>3400.0</td>\n",
              "      <td>8600.0</td>\n",
              "      <td>0.0</td>\n",
              "      <td>0.0</td>\n",
              "      <td>4100.0</td>\n",
              "      <td>0.0</td>\n",
              "      <td>500.0</td>\n",
              "      <td>8000.0</td>\n",
              "    </tr>\n",
              "    <tr>\n",
              "      <th>5</th>\n",
              "      <td>8700.0</td>\n",
              "      <td>12143.0</td>\n",
              "      <td>0.0</td>\n",
              "      <td>0.0</td>\n",
              "      <td>9000.0</td>\n",
              "      <td>0.0</td>\n",
              "      <td>3300.0</td>\n",
              "      <td>8700.0</td>\n",
              "      <td>0.0</td>\n",
              "      <td>0.0</td>\n",
              "      <td>4200.0</td>\n",
              "      <td>0.0</td>\n",
              "      <td>500.0</td>\n",
              "      <td>8000.0</td>\n",
              "    </tr>\n",
              "    <tr>\n",
              "      <th>6</th>\n",
              "      <td>8800.0</td>\n",
              "      <td>12202.0</td>\n",
              "      <td>0.0</td>\n",
              "      <td>0.0</td>\n",
              "      <td>9000.0</td>\n",
              "      <td>0.0</td>\n",
              "      <td>3200.0</td>\n",
              "      <td>8800.0</td>\n",
              "      <td>0.0</td>\n",
              "      <td>0.0</td>\n",
              "      <td>4300.0</td>\n",
              "      <td>0.0</td>\n",
              "      <td>500.0</td>\n",
              "      <td>8000.0</td>\n",
              "    </tr>\n",
              "  </tbody>\n",
              "</table>\n",
              "</div>"
            ],
            "text/plain": [
              "   Boston Demand     Cost   MA   MB      MC  ...   PD      TA   TB     TC      TD\n",
              "0         8200.0  11848.0  0.0  0.0  9000.0  ...  0.0  3700.0  0.0  500.0  8000.0\n",
              "1         8300.0  11907.0  0.0  0.0  9000.0  ...  0.0  3800.0  0.0  500.0  8000.0\n",
              "2         8400.0  11966.0  0.0  0.0  9000.0  ...  0.0  3900.0  0.0  500.0  8000.0\n",
              "3         8500.0  12025.0  0.0  0.0  9000.0  ...  0.0  4000.0  0.0  500.0  8000.0\n",
              "4         8600.0  12084.0  0.0  0.0  9000.0  ...  0.0  4100.0  0.0  500.0  8000.0\n",
              "5         8700.0  12143.0  0.0  0.0  9000.0  ...  0.0  4200.0  0.0  500.0  8000.0\n",
              "6         8800.0  12202.0  0.0  0.0  9000.0  ...  0.0  4300.0  0.0  500.0  8000.0\n",
              "\n",
              "[7 rows x 14 columns]"
            ]
          },
          "metadata": {},
          "execution_count": 37
        }
      ]
    },
    {
      "cell_type": "markdown",
      "metadata": {
        "id": "aprOEvghPxld"
      },
      "source": [
        "Now you can break this out and show marginal cost by adding a new column."
      ]
    },
    {
      "cell_type": "code",
      "metadata": {
        "id": "HRutIdZQP0vy",
        "colab": {
          "base_uri": "https://localhost:8080/",
          "height": 266
        },
        "outputId": "fa116fd4-0204-491d-98c2-21b00b334aba"
      },
      "source": [
        "myResults['Shadow_BostonDemand'] = myResults['Cost'].diff()/myResults['Boston Demand'].diff()\n",
        "myResults"
      ],
      "execution_count": null,
      "outputs": [
        {
          "output_type": "execute_result",
          "data": {
            "text/html": [
              "<div>\n",
              "<style scoped>\n",
              "    .dataframe tbody tr th:only-of-type {\n",
              "        vertical-align: middle;\n",
              "    }\n",
              "\n",
              "    .dataframe tbody tr th {\n",
              "        vertical-align: top;\n",
              "    }\n",
              "\n",
              "    .dataframe thead th {\n",
              "        text-align: right;\n",
              "    }\n",
              "</style>\n",
              "<table border=\"1\" class=\"dataframe\">\n",
              "  <thead>\n",
              "    <tr style=\"text-align: right;\">\n",
              "      <th></th>\n",
              "      <th>Boston Demand</th>\n",
              "      <th>Cost</th>\n",
              "      <th>MA</th>\n",
              "      <th>MB</th>\n",
              "      <th>MC</th>\n",
              "      <th>MD</th>\n",
              "      <th>PA</th>\n",
              "      <th>PB</th>\n",
              "      <th>PC</th>\n",
              "      <th>PD</th>\n",
              "      <th>TA</th>\n",
              "      <th>TB</th>\n",
              "      <th>TC</th>\n",
              "      <th>TD</th>\n",
              "      <th>Shadow_BostonDemand</th>\n",
              "    </tr>\n",
              "  </thead>\n",
              "  <tbody>\n",
              "    <tr>\n",
              "      <th>0</th>\n",
              "      <td>8200.0</td>\n",
              "      <td>11848.0</td>\n",
              "      <td>0.0</td>\n",
              "      <td>0.0</td>\n",
              "      <td>9000.0</td>\n",
              "      <td>0.0</td>\n",
              "      <td>3800.0</td>\n",
              "      <td>8200.0</td>\n",
              "      <td>0.0</td>\n",
              "      <td>0.0</td>\n",
              "      <td>3700.0</td>\n",
              "      <td>0.0</td>\n",
              "      <td>500.0</td>\n",
              "      <td>8000.0</td>\n",
              "      <td>NaN</td>\n",
              "    </tr>\n",
              "    <tr>\n",
              "      <th>1</th>\n",
              "      <td>8300.0</td>\n",
              "      <td>11907.0</td>\n",
              "      <td>0.0</td>\n",
              "      <td>0.0</td>\n",
              "      <td>9000.0</td>\n",
              "      <td>0.0</td>\n",
              "      <td>3700.0</td>\n",
              "      <td>8300.0</td>\n",
              "      <td>0.0</td>\n",
              "      <td>0.0</td>\n",
              "      <td>3800.0</td>\n",
              "      <td>0.0</td>\n",
              "      <td>500.0</td>\n",
              "      <td>8000.0</td>\n",
              "      <td>0.59</td>\n",
              "    </tr>\n",
              "    <tr>\n",
              "      <th>2</th>\n",
              "      <td>8400.0</td>\n",
              "      <td>11966.0</td>\n",
              "      <td>0.0</td>\n",
              "      <td>0.0</td>\n",
              "      <td>9000.0</td>\n",
              "      <td>0.0</td>\n",
              "      <td>3600.0</td>\n",
              "      <td>8400.0</td>\n",
              "      <td>0.0</td>\n",
              "      <td>0.0</td>\n",
              "      <td>3900.0</td>\n",
              "      <td>0.0</td>\n",
              "      <td>500.0</td>\n",
              "      <td>8000.0</td>\n",
              "      <td>0.59</td>\n",
              "    </tr>\n",
              "    <tr>\n",
              "      <th>3</th>\n",
              "      <td>8500.0</td>\n",
              "      <td>12025.0</td>\n",
              "      <td>0.0</td>\n",
              "      <td>0.0</td>\n",
              "      <td>9000.0</td>\n",
              "      <td>0.0</td>\n",
              "      <td>3500.0</td>\n",
              "      <td>8500.0</td>\n",
              "      <td>0.0</td>\n",
              "      <td>0.0</td>\n",
              "      <td>4000.0</td>\n",
              "      <td>0.0</td>\n",
              "      <td>500.0</td>\n",
              "      <td>8000.0</td>\n",
              "      <td>0.59</td>\n",
              "    </tr>\n",
              "    <tr>\n",
              "      <th>4</th>\n",
              "      <td>8600.0</td>\n",
              "      <td>12084.0</td>\n",
              "      <td>0.0</td>\n",
              "      <td>0.0</td>\n",
              "      <td>9000.0</td>\n",
              "      <td>0.0</td>\n",
              "      <td>3400.0</td>\n",
              "      <td>8600.0</td>\n",
              "      <td>0.0</td>\n",
              "      <td>0.0</td>\n",
              "      <td>4100.0</td>\n",
              "      <td>0.0</td>\n",
              "      <td>500.0</td>\n",
              "      <td>8000.0</td>\n",
              "      <td>0.59</td>\n",
              "    </tr>\n",
              "    <tr>\n",
              "      <th>5</th>\n",
              "      <td>8700.0</td>\n",
              "      <td>12143.0</td>\n",
              "      <td>0.0</td>\n",
              "      <td>0.0</td>\n",
              "      <td>9000.0</td>\n",
              "      <td>0.0</td>\n",
              "      <td>3300.0</td>\n",
              "      <td>8700.0</td>\n",
              "      <td>0.0</td>\n",
              "      <td>0.0</td>\n",
              "      <td>4200.0</td>\n",
              "      <td>0.0</td>\n",
              "      <td>500.0</td>\n",
              "      <td>8000.0</td>\n",
              "      <td>0.59</td>\n",
              "    </tr>\n",
              "    <tr>\n",
              "      <th>6</th>\n",
              "      <td>8800.0</td>\n",
              "      <td>12202.0</td>\n",
              "      <td>0.0</td>\n",
              "      <td>0.0</td>\n",
              "      <td>9000.0</td>\n",
              "      <td>0.0</td>\n",
              "      <td>3200.0</td>\n",
              "      <td>8800.0</td>\n",
              "      <td>0.0</td>\n",
              "      <td>0.0</td>\n",
              "      <td>4300.0</td>\n",
              "      <td>0.0</td>\n",
              "      <td>500.0</td>\n",
              "      <td>8000.0</td>\n",
              "      <td>0.59</td>\n",
              "    </tr>\n",
              "  </tbody>\n",
              "</table>\n",
              "</div>"
            ],
            "text/plain": [
              "   Boston Demand     Cost   MA   MB  ...   TB     TC      TD  Shadow_BostonDemand\n",
              "0         8200.0  11848.0  0.0  0.0  ...  0.0  500.0  8000.0                  NaN\n",
              "1         8300.0  11907.0  0.0  0.0  ...  0.0  500.0  8000.0                 0.59\n",
              "2         8400.0  11966.0  0.0  0.0  ...  0.0  500.0  8000.0                 0.59\n",
              "3         8500.0  12025.0  0.0  0.0  ...  0.0  500.0  8000.0                 0.59\n",
              "4         8600.0  12084.0  0.0  0.0  ...  0.0  500.0  8000.0                 0.59\n",
              "5         8700.0  12143.0  0.0  0.0  ...  0.0  500.0  8000.0                 0.59\n",
              "6         8800.0  12202.0  0.0  0.0  ...  0.0  500.0  8000.0                 0.59\n",
              "\n",
              "[7 rows x 15 columns]"
            ]
          },
          "metadata": {},
          "execution_count": 38
        }
      ]
    },
    {
      "cell_type": "markdown",
      "metadata": {
        "id": "JcBirtpcQUah"
      },
      "source": [
        "**WHOA!** How do we reconcile the direct cost of \\$0.30 on the Pittsburgh-Boston route with the marginal cost of $0.59? Let's see if we can dig into the table we just generated and see what's going on.\n",
        "\n",
        "First, note that M is exclusively feeding C. It has used up all of it's resources.\n",
        "\n",
        "Now look at PA and PB and TA. As we increase the Boston demand, A is being fed by T instead of P. So yes, we can take care of the extra demand in Boston, but it is going to cost us!"
      ]
    },
    {
      "cell_type": "code",
      "metadata": {
        "id": "Wq9Tnii4SAqE",
        "colab": {
          "base_uri": "https://localhost:8080/",
          "height": 298
        },
        "outputId": "e50c15b9-6c4b-4bbe-ac01-5932404ed88f"
      },
      "source": [
        "tmp = myResults[['Boston Demand', 'PA', 'PB', 'TA']]\n",
        "tmp.plot(x='Boston Demand')"
      ],
      "execution_count": null,
      "outputs": [
        {
          "output_type": "execute_result",
          "data": {
            "text/plain": [
              "<matplotlib.axes._subplots.AxesSubplot at 0x7f695ede0410>"
            ]
          },
          "metadata": {},
          "execution_count": 39
        },
        {
          "output_type": "display_data",
          "data": {
            "image/png": "[encoded data removed]",
            "text/plain": [
              "<Figure size 432x288 with 1 Axes>"
            ]
          },
          "metadata": {
            "needs_background": "light"
          }
        }
      ]
    }
  ]
}
