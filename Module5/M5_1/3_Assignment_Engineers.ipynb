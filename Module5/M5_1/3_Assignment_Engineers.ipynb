{
  "nbformat": 4,
  "nbformat_minor": 0,
  "metadata": {
    "colab": {
      "name": "Assignment_Engineers",
      "provenance": [],
      "collapsed_sections": [],
      "include_colab_link": true
    },
    "kernelspec": {
      "name": "python3",
      "display_name": "Python 3"
    }
  },
  "cells": [
    {
      "cell_type": "markdown",
      "metadata": {
        "id": "view-in-github",
        "colab_type": "text"
      },
      "source": [
        "<a href=\"https://colab.research.google.com/github/drdww/OPIM5641/blob/main/Module5/M5_1/2_Assignment_Engineers.ipynb\" target=\"_parent\"><img src=\"https://colab.research.google.com/assets/colab-badge.svg\" alt=\"Open In Colab\"/></a>"
      ]
    },
    {
      "cell_type": "markdown",
      "metadata": {
        "id": "Ap1i5mTHNLYe"
      },
      "source": [
        "# Network Problems: Assignment (Engineers)\n",
        "\n",
        "**OPIM 5641: Business Decision Modeling - University of Connecticut**\n",
        "\n",
        "--------------------------------------\n",
        "\n",
        "The inequalities in the textbook could probably be written as equalities (==), but it still works. Great example that generalizes/motivates many other types of machine scheduling problems.\n",
        "\n",
        "* Please refer to Powell Chapter 10 for more details and examples.\n",
        "* Pyomo Cookbook (related example): https://github.com/jckantor/ND-Pyomo-Cookbook/blob/master/notebooks/03.00-Assignment-Problems.ipynb\n",
        "\n",
        "-------------------------------------------------------------------------"
      ]
    },
    {
      "cell_type": "code",
      "metadata": {
        "id": "p-d3gfEcM2yF"
      },
      "source": [
        "# import modules\n",
        "\n",
        "%matplotlib inline\n",
        "from pylab import *\n",
        "\n",
        "import shutil\n",
        "import sys\n",
        "import os.path\n",
        "\n",
        "if not shutil.which(\"pyomo\"):\n",
        "    !pip install -q pyomo\n",
        "    assert(shutil.which(\"pyomo\"))\n",
        "\n",
        "if not (shutil.which(\"cbc\") or os.path.isfile(\"cbc\")):\n",
        "    if \"google.colab\" in sys.modules:\n",
        "        !apt-get install -y -qq coinor-cbc\n",
        "    else:\n",
        "        try:\n",
        "            !conda install -c conda-forge coincbc \n",
        "        except:\n",
        "            pass\n",
        "\n",
        "assert(shutil.which(\"cbc\") or os.path.isfile(\"cbc\"))\n",
        "\n",
        "from pyomo.environ import *\n",
        "# ensure you have cbc installed\n",
        "!apt-get install -y -qq coinor-cbc"
      ],
      "execution_count": null,
      "outputs": []
    },
    {
      "cell_type": "markdown",
      "metadata": {
        "id": "HSRpmPcANRRZ"
      },
      "source": [
        "# Example\n",
        "***(6. Assigning Engineers)*** A small engineering firm has 4 senior\n",
        "designers available to work on the firm’s 4 current projects over\n",
        "the next 2 weeks. The firm’s manager has developed the following table of quality scores, which show each designer’s\n",
        "design quality on each type of project, on a scale of 100. Also\n",
        "shown is an estimate of the time (in hours) required for each\n",
        "project:\n",
        "\n",
        "Person | Project1 | Project2 | Project3 | Project4 | \n",
        "--- | --- | --- | --- | --- | \n",
        "Employee1 | 90 | 80 | 25 | 50 | \n",
        "Employee2 | 60 | 70 | 50 | 65 | \n",
        "Employee3 | 70 | 40 | 80 | 85 | \n",
        "Employee4 | 65 | 55 | 60 | 75 | \n",
        "Time | 70|50|85|35\n",
        "\n",
        "1. Assume that one designer is assigned to each project. What\n",
        "assignment of designers to projects maximizes the sum of the\n",
        "quality scores assigned?\n",
        "2. Suppose that each designer has 80 hours available over the\n",
        "next two weeks. Assuming that more than one designer can\n",
        "work on a project, what assignment schedule maximizes the\n",
        "sum of quality scores assigned?\n",
        "\n"
      ]
    },
    {
      "cell_type": "markdown",
      "metadata": {
        "id": "GzL2ksthNdKr"
      },
      "source": [
        "Let's go after part 1 first...\n",
        "\n",
        "**Objective Function:** $\\max(\\text{Quality}) = \\\\\n",
        "\\quad 90_{E_1P_1} + 80_{E_1P_2} + 25_{E_1P_3} + 50_{E_1P_4} + \\\\\n",
        "\\quad 60_{E_2P_1} + 70_{E_2P_2} + 50_{E_2P_3} + 65_{E_2P_4} + \\\\\n",
        "\\quad 70_{E_3P_1} + 40_{E_3P_2} + 80_{E_3P_3} + 85_{E_3P_4} + \\\\\n",
        "\\quad 65_{E_4P_1} + 55_{E_4P_2} + 60_{E_4P_3} + 75_{E_4P_4} $\n",
        "\n",
        "Subject to constraints:\n",
        "\n",
        "*(that each employee ($E$) can only do one project ($P$)! notice that these are the rows of the table...)*\n",
        "\n",
        "$E_1P_1 + E_1P_2 + E_1P_3 + E_1P_4 \\leq 1$\n",
        "\n",
        "$E_2P_1 + E_2P_2 + E_2P_3 + E_2P_4 \\leq 1$\n",
        "\n",
        "$E_3P_1 + E_3P_2 + E_3P_3 + E_3P_4 \\leq 1$\n",
        "\n",
        "$E_4P_1 + E_4P_2 + E_4P_3 + E_4P_4 \\leq 1$\n",
        "\n",
        "*(that each project($P$) needs one employee ($E$)! notice that these are the columns of the table...)*\n",
        "\n",
        "$E_1P_1 + E_2P_1 + E_3P_1 + E_4P_1 \\geq 1$\n",
        "\n",
        "$E_1P_2 + E_2P_2 + E_3P_2 + E_4P_2 \\geq 1$\n",
        "\n",
        "$E_1P_3 + E_2P_3 + E_3P_3 + E_4P_3 \\geq 1$\n",
        "\n",
        "$E_1P_4 + E_2P_4 + E_3P_4 + E_4P_4 \\geq 1$"
      ]
    },
    {
      "cell_type": "markdown",
      "metadata": {
        "id": "FY8DAqNQW2D3"
      },
      "source": [
        "# Solved Like Powell"
      ]
    },
    {
      "cell_type": "code",
      "metadata": {
        "id": "JTbO5R8zW-Cn"
      },
      "source": [
        "# declare the model\n",
        "model = ConcreteModel()\n",
        "\n",
        "# write your variables - \n",
        "\n",
        "# for Part 2, you need real non-neg reals...\n",
        "\n",
        "# EMPLOYEE 1\n",
        "model.E1P1 = Var(domain=NonNegativeReals)\n",
        "model.E1P2 = Var(domain=NonNegativeReals)\n",
        "model.E1P3 = Var(domain=NonNegativeReals)\n",
        "model.E1P4 = Var(domain=NonNegativeReals)\n",
        "# EMPLOYEE 2\n",
        "model.E2P1 = Var(domain=NonNegativeReals)\n",
        "model.E2P2 = Var(domain=NonNegativeReals)\n",
        "model.E2P3 = Var(domain=NonNegativeReals)\n",
        "model.E2P4 = Var(domain=NonNegativeReals)\n",
        "# EMPLOYEE 3\n",
        "model.E3P1 = Var(domain=NonNegativeReals)\n",
        "model.E3P2 = Var(domain=NonNegativeReals)\n",
        "model.E3P3 = Var(domain=NonNegativeReals)\n",
        "model.E3P4 = Var(domain=NonNegativeReals)\n",
        "# EMPLOYEE 4\n",
        "model.E4P1 = Var(domain=NonNegativeReals)\n",
        "model.E4P2 = Var(domain=NonNegativeReals)\n",
        "model.E4P3 = Var(domain=NonNegativeReals)\n",
        "model.E4P4 = Var(domain=NonNegativeReals)"
      ],
      "execution_count": null,
      "outputs": []
    },
    {
      "cell_type": "code",
      "metadata": {
        "id": "1jBJxYKiXlqx"
      },
      "source": [
        "# write the objective function\n",
        "model.OBJ = Objective(expr = 90*model.E1P1 + 80*model.E1P2 + 25*model.E1P3 + 50*model.E1P4 +\n",
        "                            60*model.E2P1 + 70*model.E2P2 + 50*model.E2P3 + 65*model.E2P4 + \n",
        "                            70*model.E3P1 + 40*model.E3P2 + 80*model.E3P3 + 85*model.E3P4 +\n",
        "                            65*model.E4P1 + 55*model.E4P2 + 60*model.E4P3 + 75*model.E4P4,\n",
        "                      sense=maximize) # remember, you are maximizing quality!"
      ],
      "execution_count": null,
      "outputs": []
    },
    {
      "cell_type": "code",
      "metadata": {
        "id": "bkzNGOWSX_3Z"
      },
      "source": [
        "# write the constraints\n",
        "\n",
        "# 'each employee should be assigned to one project'\n",
        "model.OneProj_E1 = Constraint(expr = model.E1P1 + model.E1P2 + model.E1P3 + model.E1P4 == 1)\n",
        "model.OneProj_E2 = Constraint(expr = model.E2P1 + model.E2P2 + model.E2P3 + model.E2P4 == 1)\n",
        "model.OneProj_E3 = Constraint(expr = model.E3P1 + model.E3P2 + model.E3P3 + model.E3P4 == 1)\n",
        "model.OneProj_E4 = Constraint(expr = model.E4P1 + model.E4P2 + model.E4P3 + model.E4P4 == 1)\n",
        "\n",
        "# 'each project be assigned one person' (note equality constraint, ==)\n",
        "model.Do_Proj1 = Constraint(expr = model.E1P1 + model.E2P1 + model.E3P1 + model.E4P1 == 1)\n",
        "model.Do_Proj2 = Constraint(expr = model.E1P2 + model.E2P2 + model.E3P2 + model.E4P2 == 1)\n",
        "model.Do_Proj3 = Constraint(expr = model.E1P3 + model.E2P3 + model.E3P3 + model.E4P3 == 1)\n",
        "model.Do_Proj4 = Constraint(expr = model.E1P4 + model.E2P4 + model.E3P4 + model.E4P4 == 1)\n",
        "\n",
        "# for Part 2... note that time was ignored before...\n",
        "# time must be less than 80 but you can work on multiple projects\n",
        "# model.TimeConstraintE1 = Constraint(expr = 70*model.E1P1 + 50*model.E1P2 + 85*model.E1P3 + 35*model.E1P4 <= 80) # E1 can only work 80 hrs\n",
        "# model.TimeConstraintE2 = Constraint(expr = 70*model.E2P1 + 50*model.E2P2 + 85*model.E2P3 + 35*model.E2P4 <= 80) # E2 can only work 80 hrs\n",
        "# model.TimeConstraintE3 = Constraint(expr = 70*model.E3P1 + 50*model.E3P2 + 85*model.E3P3 + 35*model.E3P4 <= 80) # ...\n",
        "# model.TimeConstraintE4 = Constraint(expr = 70*model.E4P1 + 50*model.E4P2 + 85*model.E4P3 + 35*model.E4P4 <= 80)"
      ],
      "execution_count": null,
      "outputs": []
    },
    {
      "cell_type": "markdown",
      "metadata": {
        "id": "_VgX2lsHZSAF"
      },
      "source": [
        "Pretty print to inspect."
      ]
    },
    {
      "cell_type": "code",
      "metadata": {
        "id": "AzUqGu3tZUFS",
        "colab": {
          "base_uri": "https://localhost:8080/",
          "height": 1000
        },
        "outputId": "867c9bca-778e-4e3f-9990-56f96d82c8d3"
      },
      "source": [
        "model.pprint()"
      ],
      "execution_count": null,
      "outputs": [
        {
          "output_type": "stream",
          "text": [
            "16 Var Declarations\n",
            "    E1P1 : Size=1, Index=None\n",
            "        Key  : Lower : Value : Upper : Fixed : Stale : Domain\n",
            "        None :     0 :  None :  None : False :  True : NonNegativeReals\n",
            "    E1P2 : Size=1, Index=None\n",
            "        Key  : Lower : Value : Upper : Fixed : Stale : Domain\n",
            "        None :     0 :  None :  None : False :  True : NonNegativeReals\n",
            "    E1P3 : Size=1, Index=None\n",
            "        Key  : Lower : Value : Upper : Fixed : Stale : Domain\n",
            "        None :     0 :  None :  None : False :  True : NonNegativeReals\n",
            "    E1P4 : Size=1, Index=None\n",
            "        Key  : Lower : Value : Upper : Fixed : Stale : Domain\n",
            "        None :     0 :  None :  None : False :  True : NonNegativeReals\n",
            "    E2P1 : Size=1, Index=None\n",
            "        Key  : Lower : Value : Upper : Fixed : Stale : Domain\n",
            "        None :     0 :  None :  None : False :  True : NonNegativeReals\n",
            "    E2P2 : Size=1, Index=None\n",
            "        Key  : Lower : Value : Upper : Fixed : Stale : Domain\n",
            "        None :     0 :  None :  None : False :  True : NonNegativeReals\n",
            "    E2P3 : Size=1, Index=None\n",
            "        Key  : Lower : Value : Upper : Fixed : Stale : Domain\n",
            "        None :     0 :  None :  None : False :  True : NonNegativeReals\n",
            "    E2P4 : Size=1, Index=None\n",
            "        Key  : Lower : Value : Upper : Fixed : Stale : Domain\n",
            "        None :     0 :  None :  None : False :  True : NonNegativeReals\n",
            "    E3P1 : Size=1, Index=None\n",
            "        Key  : Lower : Value : Upper : Fixed : Stale : Domain\n",
            "        None :     0 :  None :  None : False :  True : NonNegativeReals\n",
            "    E3P2 : Size=1, Index=None\n",
            "        Key  : Lower : Value : Upper : Fixed : Stale : Domain\n",
            "        None :     0 :  None :  None : False :  True : NonNegativeReals\n",
            "    E3P3 : Size=1, Index=None\n",
            "        Key  : Lower : Value : Upper : Fixed : Stale : Domain\n",
            "        None :     0 :  None :  None : False :  True : NonNegativeReals\n",
            "    E3P4 : Size=1, Index=None\n",
            "        Key  : Lower : Value : Upper : Fixed : Stale : Domain\n",
            "        None :     0 :  None :  None : False :  True : NonNegativeReals\n",
            "    E4P1 : Size=1, Index=None\n",
            "        Key  : Lower : Value : Upper : Fixed : Stale : Domain\n",
            "        None :     0 :  None :  None : False :  True : NonNegativeReals\n",
            "    E4P2 : Size=1, Index=None\n",
            "        Key  : Lower : Value : Upper : Fixed : Stale : Domain\n",
            "        None :     0 :  None :  None : False :  True : NonNegativeReals\n",
            "    E4P3 : Size=1, Index=None\n",
            "        Key  : Lower : Value : Upper : Fixed : Stale : Domain\n",
            "        None :     0 :  None :  None : False :  True : NonNegativeReals\n",
            "    E4P4 : Size=1, Index=None\n",
            "        Key  : Lower : Value : Upper : Fixed : Stale : Domain\n",
            "        None :     0 :  None :  None : False :  True : NonNegativeReals\n",
            "\n",
            "1 Objective Declarations\n",
            "    OBJ : Size=1, Index=None, Active=True\n",
            "        Key  : Active : Sense    : Expression\n",
            "        None :   True : maximize : 90*E1P1 + 80*E1P2 + 25*E1P3 + 50*E1P4 + 60*E2P1 + 70*E2P2 + 50*E2P3 + 65*E2P4 + 70*E3P1 + 40*E3P2 + 80*E3P3 + 85*E3P4 + 65*E4P1 + 55*E4P2 + 60*E4P3 + 75*E4P4\n",
            "\n",
            "12 Constraint Declarations\n",
            "    Do_Proj1 : Size=1, Index=None, Active=True\n",
            "        Key  : Lower : Body                      : Upper : Active\n",
            "        None :   1.0 : E1P1 + E2P1 + E3P1 + E4P1 :   1.0 :   True\n",
            "    Do_Proj2 : Size=1, Index=None, Active=True\n",
            "        Key  : Lower : Body                      : Upper : Active\n",
            "        None :   1.0 : E1P2 + E2P2 + E3P2 + E4P2 :   1.0 :   True\n",
            "    Do_Proj3 : Size=1, Index=None, Active=True\n",
            "        Key  : Lower : Body                      : Upper : Active\n",
            "        None :   1.0 : E1P3 + E2P3 + E3P3 + E4P3 :   1.0 :   True\n",
            "    Do_Proj4 : Size=1, Index=None, Active=True\n",
            "        Key  : Lower : Body                      : Upper : Active\n",
            "        None :   1.0 : E1P4 + E2P4 + E3P4 + E4P4 :   1.0 :   True\n",
            "    OneProj_E1 : Size=1, Index=None, Active=True\n",
            "        Key  : Lower : Body                      : Upper : Active\n",
            "        None :   1.0 : E1P1 + E1P2 + E1P3 + E1P4 :   1.0 :   True\n",
            "    OneProj_E2 : Size=1, Index=None, Active=True\n",
            "        Key  : Lower : Body                      : Upper : Active\n",
            "        None :   1.0 : E2P1 + E2P2 + E2P3 + E2P4 :   1.0 :   True\n",
            "    OneProj_E3 : Size=1, Index=None, Active=True\n",
            "        Key  : Lower : Body                      : Upper : Active\n",
            "        None :   1.0 : E3P1 + E3P2 + E3P3 + E3P4 :   1.0 :   True\n",
            "    OneProj_E4 : Size=1, Index=None, Active=True\n",
            "        Key  : Lower : Body                      : Upper : Active\n",
            "        None :   1.0 : E4P1 + E4P2 + E4P3 + E4P4 :   1.0 :   True\n",
            "    TimeConstraintE1 : Size=1, Index=None, Active=True\n",
            "        Key  : Lower : Body                                  : Upper : Active\n",
            "        None :  -Inf : 70*E1P1 + 50*E1P2 + 85*E1P3 + 35*E1P4 :  80.0 :   True\n",
            "    TimeConstraintE2 : Size=1, Index=None, Active=True\n",
            "        Key  : Lower : Body                                  : Upper : Active\n",
            "        None :  -Inf : 70*E2P1 + 50*E2P2 + 85*E2P3 + 35*E2P4 :  80.0 :   True\n",
            "    TimeConstraintE3 : Size=1, Index=None, Active=True\n",
            "        Key  : Lower : Body                                  : Upper : Active\n",
            "        None :  -Inf : 70*E3P1 + 50*E3P2 + 85*E3P3 + 35*E3P4 :  80.0 :   True\n",
            "    TimeConstraintE4 : Size=1, Index=None, Active=True\n",
            "        Key  : Lower : Body                                  : Upper : Active\n",
            "        None :  -Inf : 70*E4P1 + 50*E4P2 + 85*E4P3 + 35*E4P4 :  80.0 :   True\n",
            "\n",
            "29 Declarations: E1P1 E1P2 E1P3 E1P4 E2P1 E2P2 E2P3 E2P4 E3P1 E3P2 E3P3 E3P4 E4P1 E4P2 E4P3 E4P4 OBJ OneProj_E1 OneProj_E2 OneProj_E3 OneProj_E4 Do_Proj1 Do_Proj2 Do_Proj3 Do_Proj4 TimeConstraintE1 TimeConstraintE2 TimeConstraintE3 TimeConstraintE4\n"
          ],
          "name": "stdout"
        }
      ]
    },
    {
      "cell_type": "markdown",
      "metadata": {
        "id": "bZ3_lIEzY5-S"
      },
      "source": [
        "Now solve it!"
      ]
    },
    {
      "cell_type": "code",
      "metadata": {
        "id": "4u7tK4EFY63c",
        "colab": {
          "base_uri": "https://localhost:8080/",
          "height": 713
        },
        "outputId": "27d9f474-78b6-41a1-de89-f594950cc124"
      },
      "source": [
        "# Solve the model\n",
        "SolverFactory('cbc', executable='/usr/bin/cbc').solve(model).write()"
      ],
      "execution_count": null,
      "outputs": [
        {
          "output_type": "stream",
          "text": [
            "# ==========================================================\n",
            "# = Solver Results                                         =\n",
            "# ==========================================================\n",
            "# ----------------------------------------------------------\n",
            "#   Problem Information\n",
            "# ----------------------------------------------------------\n",
            "Problem: \n",
            "- Name: unknown\n",
            "  Lower bound: 314.0\n",
            "  Upper bound: 314.0\n",
            "  Number of objectives: 1\n",
            "  Number of constraints: 13\n",
            "  Number of variables: 17\n",
            "  Number of nonzeros: 16\n",
            "  Sense: maximize\n",
            "# ----------------------------------------------------------\n",
            "#   Solver Information\n",
            "# ----------------------------------------------------------\n",
            "Solver: \n",
            "- Status: ok\n",
            "  User time: -1.0\n",
            "  System time: 0.0\n",
            "  Wallclock time: 0.0\n",
            "  Termination condition: optimal\n",
            "  Termination message: Model was solved to optimality (subject to tolerances), and an optimal solution is available.\n",
            "  Statistics: \n",
            "    Branch and bound: \n",
            "      Number of bounded subproblems: None\n",
            "      Number of created subproblems: None\n",
            "    Black box: \n",
            "      Number of iterations: 7\n",
            "  Error rc: 0\n",
            "  Time: 0.03379392623901367\n",
            "# ----------------------------------------------------------\n",
            "#   Solution Information\n",
            "# ----------------------------------------------------------\n",
            "Solution: \n",
            "- number of solutions: 0\n",
            "  number of solutions displayed: 0\n"
          ],
          "name": "stdout"
        }
      ]
    },
    {
      "cell_type": "markdown",
      "metadata": {
        "id": "btPXFBXzZix6"
      },
      "source": [
        "Show the results."
      ]
    },
    {
      "cell_type": "code",
      "metadata": {
        "id": "3mhvT5VPZkDa",
        "colab": {
          "base_uri": "https://localhost:8080/",
          "height": 35
        },
        "outputId": "b6cef42f-60b8-4d14-bcce-4c69252c6583"
      },
      "source": [
        "# show the results (quality is 315 in original case, only 314 in part 2 due to time costraints... more constraints = less optimal!)\n",
        "print('Total QUALITY:',model.OBJ())"
      ],
      "execution_count": null,
      "outputs": [
        {
          "output_type": "stream",
          "text": [
            "Total QUALITY: 314.0\n"
          ],
          "name": "stdout"
        }
      ]
    },
    {
      "cell_type": "code",
      "metadata": {
        "id": "9aDX-WmtaObb",
        "colab": {
          "base_uri": "https://localhost:8080/",
          "height": 87
        },
        "outputId": "d52d9acd-bb48-41f9-96a4-526d8038a5db"
      },
      "source": [
        "# nice way to show assignments?\n",
        "print(\"E1:\",model.E1P1(), model.E1P2 (), model.E1P3(), model.E1P4())\n",
        "print(\"E2:\",model.E2P1(), model.E2P2 (), model.E2P3(), model.E2P4())\n",
        "print(\"E3:\",model.E3P1(), model.E3P2 (), model.E3P3(), model.E3P4())\n",
        "print(\"E4:\",model.E4P1(), model.E4P2 (), model.E4P3(), model.E4P4())\n",
        "\n",
        "# you could turn this into a pandas dataframe if you wanted to (left to students!)"
      ],
      "execution_count": null,
      "outputs": [
        {
          "output_type": "stream",
          "text": [
            "E1: 1.0 0.0 0.0 0.0\n",
            "E2: 0.0 1.0 0.0 0.0\n",
            "E3: 0.0 0.0 0.9 0.1\n",
            "E4: 0.0 0.0 0.1 0.9\n"
          ],
          "name": "stdout"
        }
      ]
    },
    {
      "cell_type": "code",
      "metadata": {
        "id": "i2Afuf9dbVDV"
      },
      "source": [
        "# try it on your own\n",
        "E1 = [model.E1P1(), model.E1P2 (), model.E1P3(), model.E1P4()]\n",
        "E2 = [model.E2P1(), model.E2P2 (), model.E2P3(), model.E2P4()]\n",
        "E3 = [model.E3P1(), model.E3P2 (), model.E3P3(), model.E3P4()]\n",
        "E4 = [model.E4P1(), model.E4P2 (), model.E4P3(), model.E4P4()]"
      ],
      "execution_count": null,
      "outputs": []
    },
    {
      "cell_type": "code",
      "metadata": {
        "id": "2fcJehckcJHi",
        "colab": {
          "base_uri": "https://localhost:8080/",
          "height": 171
        },
        "outputId": "44041f15-079d-4dc8-ed0d-60a456bde279"
      },
      "source": [
        "# almost there! just need to rename rownames and column names... could color code?!\n",
        "import pandas as pd\n",
        "df = pd.DataFrame([E1, E2, E3, E4])\n",
        "df.rename({0:'P1', 1:'P2', 2:'P3', 3:'P4'}, axis=1, inplace=True) # axis=1 means columns\n",
        "df.rename({0:'E1', 1:'E2', 2:'E3', 3:'E4'}, axis=0, inplace=True) # axis=0 means rows\n",
        "df"
      ],
      "execution_count": null,
      "outputs": [
        {
          "output_type": "execute_result",
          "data": {
            "text/html": [
              "<div>\n",
              "<style scoped>\n",
              "    .dataframe tbody tr th:only-of-type {\n",
              "        vertical-align: middle;\n",
              "    }\n",
              "\n",
              "    .dataframe tbody tr th {\n",
              "        vertical-align: top;\n",
              "    }\n",
              "\n",
              "    .dataframe thead th {\n",
              "        text-align: right;\n",
              "    }\n",
              "</style>\n",
              "<table border=\"1\" class=\"dataframe\">\n",
              "  <thead>\n",
              "    <tr style=\"text-align: right;\">\n",
              "      <th></th>\n",
              "      <th>P1</th>\n",
              "      <th>P2</th>\n",
              "      <th>P3</th>\n",
              "      <th>P4</th>\n",
              "    </tr>\n",
              "  </thead>\n",
              "  <tbody>\n",
              "    <tr>\n",
              "      <th>E1</th>\n",
              "      <td>1.0</td>\n",
              "      <td>0.0</td>\n",
              "      <td>0.0</td>\n",
              "      <td>0.0</td>\n",
              "    </tr>\n",
              "    <tr>\n",
              "      <th>E2</th>\n",
              "      <td>0.0</td>\n",
              "      <td>1.0</td>\n",
              "      <td>0.0</td>\n",
              "      <td>0.0</td>\n",
              "    </tr>\n",
              "    <tr>\n",
              "      <th>E3</th>\n",
              "      <td>0.0</td>\n",
              "      <td>0.0</td>\n",
              "      <td>0.9</td>\n",
              "      <td>0.1</td>\n",
              "    </tr>\n",
              "    <tr>\n",
              "      <th>E4</th>\n",
              "      <td>0.0</td>\n",
              "      <td>0.0</td>\n",
              "      <td>0.1</td>\n",
              "      <td>0.9</td>\n",
              "    </tr>\n",
              "  </tbody>\n",
              "</table>\n",
              "</div>"
            ],
            "text/plain": [
              "     P1   P2   P3   P4\n",
              "E1  1.0  0.0  0.0  0.0\n",
              "E2  0.0  1.0  0.0  0.0\n",
              "E3  0.0  0.0  0.9  0.1\n",
              "E4  0.0  0.0  0.1  0.9"
            ]
          },
          "metadata": {
            "tags": []
          },
          "execution_count": 60
        }
      ]
    },
    {
      "cell_type": "markdown",
      "metadata": {
        "id": "RGXX_pCDSwh3"
      },
      "source": [
        "# On Your Own\n",
        "You may try to run a sensitivity analysis on what you see. Yes, it takes a long time to code up problems like this, but it is easy to tinker with the for loop rather than limiting yourself to the 'Sensitivity Report'.\n",
        "\n",
        "You may also attempt Part 2 by switching to NonNegativeReals and relaxing the inequality constraint (let people work on at least 4 projects!) Just uncomment the cells and re-run. Note how we use `NonNegativeReals` instead of `NonNegativeIntegers`.\n"
      ]
    },
    {
      "cell_type": "markdown",
      "metadata": {
        "id": "gG3HmrqUWy4V"
      },
      "source": [
        "# Solved According To Pyomo Cookbook"
      ]
    },
    {
      "cell_type": "code",
      "metadata": {
        "id": "Oon0xAN7M7zN"
      },
      "source": [
        "Quality = {\n",
        "    ('E1','P1'): 90,\n",
        "    ('E1','P2'): 80,\n",
        "    ('E1','P3'): 25,\n",
        "    ('E1','P4'): 50,\n",
        "    ('E2','P1'): 60,\n",
        "    ('E2','P2'): 70,\n",
        "    ('E2','P3'): 50,\n",
        "    ('E2','P4'): 65,\n",
        "    ('E3','P1'): 70,\n",
        "    ('E3','P2'): 40,\n",
        "    ('E3','P3'): 80,\n",
        "    ('E3','P4'): 85,\n",
        "    ('E4','P1'): 65,\n",
        "    ('E4','P2'): 55,\n",
        "    ('E4','P3'): 60,\n",
        "    ('E4','P4'): 75\n",
        "}\n",
        "\n",
        "assignments = list(Quality.keys())\n",
        "\n",
        "machines = ('E1','E2','E3','E4')\n",
        "jobs = ('P1','P2','P3','P4')"
      ],
      "execution_count": null,
      "outputs": []
    },
    {
      "cell_type": "code",
      "metadata": {
        "id": "5CR3No1fNDmO",
        "colab": {
          "base_uri": "https://localhost:8080/",
          "height": 1000
        },
        "outputId": "e69140f0-2916-4209-fa97-049599a90071"
      },
      "source": [
        "def create_bounds(model, i, j):\n",
        "   return (0,1)\n",
        "\n",
        "# declare the model\n",
        "model = ConcreteModel()\n",
        "\n",
        "# Create variables\n",
        "model.x = Var(machines, jobs, domain = NonNegativeReals, bounds=create_bounds)\n",
        "\n",
        "# Constraints\n",
        "model.machine_constraints = ConstraintList()\n",
        "\n",
        "# At most one job per machine - for loop is much more compact notation\n",
        "for machine in machines:\n",
        "  assign_expr = 0\n",
        "  for job in jobs:\n",
        "    assign_expr += model.x[machine,job]\n",
        "  model.machine_constraints.add(assign_expr <= 1)\n",
        "\n",
        "\n",
        "# Exactly one machine per job - for loop (again) is much more compact!\n",
        "model.job_constraints = ConstraintList()\n",
        "for job in jobs:\n",
        "  assign_expr = 0\n",
        "  for machine in machines:\n",
        "    assign_expr += model.x[machine,job]\n",
        "  model.job_constraints.add(assign_expr == 1)\n",
        "\n",
        "\n",
        "# Objective - nice compact way (again!)\n",
        "obj_expr = 0.0\n",
        "for quality in Quality:\n",
        "  print(quality,Quality[quality])\n",
        "  obj_expr += Quality[quality]*model.x[quality]\n",
        "\n",
        "model.OBJ = Objective(\n",
        "    expr = obj_expr, \n",
        "    sense = maximize)\n",
        "\n",
        "model.pprint()"
      ],
      "execution_count": null,
      "outputs": [
        {
          "output_type": "stream",
          "text": [
            "('E1', 'P1') 90\n",
            "('E1', 'P2') 80\n",
            "('E1', 'P3') 25\n",
            "('E1', 'P4') 50\n",
            "('E2', 'P1') 60\n",
            "('E2', 'P2') 70\n",
            "('E2', 'P3') 50\n",
            "('E2', 'P4') 65\n",
            "('E3', 'P1') 70\n",
            "('E3', 'P2') 40\n",
            "('E3', 'P3') 80\n",
            "('E3', 'P4') 85\n",
            "('E4', 'P1') 65\n",
            "('E4', 'P2') 55\n",
            "('E4', 'P3') 60\n",
            "('E4', 'P4') 75\n",
            "5 Set Declarations\n",
            "    job_constraints_index : Size=1, Index=None, Ordered=Insertion\n",
            "        Key  : Dimen : Domain : Size : Members\n",
            "        None :     1 :    Any :    4 : {1, 2, 3, 4}\n",
            "    machine_constraints_index : Size=1, Index=None, Ordered=Insertion\n",
            "        Key  : Dimen : Domain : Size : Members\n",
            "        None :     1 :    Any :    4 : {1, 2, 3, 4}\n",
            "    x_index : Size=1, Index=None, Ordered=True\n",
            "        Key  : Dimen : Domain              : Size : Members\n",
            "        None :     2 : x_index_0*x_index_1 :   16 : {('E1', 'P1'), ('E1', 'P2'), ('E1', 'P3'), ('E1', 'P4'), ('E2', 'P1'), ('E2', 'P2'), ('E2', 'P3'), ('E2', 'P4'), ('E3', 'P1'), ('E3', 'P2'), ('E3', 'P3'), ('E3', 'P4'), ('E4', 'P1'), ('E4', 'P2'), ('E4', 'P3'), ('E4', 'P4')}\n",
            "    x_index_0 : Size=1, Index=None, Ordered=Insertion\n",
            "        Key  : Dimen : Domain : Size : Members\n",
            "        None :     1 :    Any :    4 : {'E1', 'E2', 'E3', 'E4'}\n",
            "    x_index_1 : Size=1, Index=None, Ordered=Insertion\n",
            "        Key  : Dimen : Domain : Size : Members\n",
            "        None :     1 :    Any :    4 : {'P1', 'P2', 'P3', 'P4'}\n",
            "\n",
            "1 Var Declarations\n",
            "    x : Size=16, Index=x_index\n",
            "        Key          : Lower : Value : Upper : Fixed : Stale : Domain\n",
            "        ('E1', 'P1') :     0 :  None :     1 : False :  True : NonNegativeReals\n",
            "        ('E1', 'P2') :     0 :  None :     1 : False :  True : NonNegativeReals\n",
            "        ('E1', 'P3') :     0 :  None :     1 : False :  True : NonNegativeReals\n",
            "        ('E1', 'P4') :     0 :  None :     1 : False :  True : NonNegativeReals\n",
            "        ('E2', 'P1') :     0 :  None :     1 : False :  True : NonNegativeReals\n",
            "        ('E2', 'P2') :     0 :  None :     1 : False :  True : NonNegativeReals\n",
            "        ('E2', 'P3') :     0 :  None :     1 : False :  True : NonNegativeReals\n",
            "        ('E2', 'P4') :     0 :  None :     1 : False :  True : NonNegativeReals\n",
            "        ('E3', 'P1') :     0 :  None :     1 : False :  True : NonNegativeReals\n",
            "        ('E3', 'P2') :     0 :  None :     1 : False :  True : NonNegativeReals\n",
            "        ('E3', 'P3') :     0 :  None :     1 : False :  True : NonNegativeReals\n",
            "        ('E3', 'P4') :     0 :  None :     1 : False :  True : NonNegativeReals\n",
            "        ('E4', 'P1') :     0 :  None :     1 : False :  True : NonNegativeReals\n",
            "        ('E4', 'P2') :     0 :  None :     1 : False :  True : NonNegativeReals\n",
            "        ('E4', 'P3') :     0 :  None :     1 : False :  True : NonNegativeReals\n",
            "        ('E4', 'P4') :     0 :  None :     1 : False :  True : NonNegativeReals\n",
            "\n",
            "1 Objective Declarations\n",
            "    OBJ : Size=1, Index=None, Active=True\n",
            "        Key  : Active : Sense    : Expression\n",
            "        None :   True : maximize : 90*x[E1,P1] + 80*x[E1,P2] + 25*x[E1,P3] + 50*x[E1,P4] + 60*x[E2,P1] + 70*x[E2,P2] + 50*x[E2,P3] + 65*x[E2,P4] + 70*x[E3,P1] + 40*x[E3,P2] + 80*x[E3,P3] + 85*x[E3,P4] + 65*x[E4,P1] + 55*x[E4,P2] + 60*x[E4,P3] + 75*x[E4,P4]\n",
            "\n",
            "2 Constraint Declarations\n",
            "    job_constraints : Size=4, Index=job_constraints_index, Active=True\n",
            "        Key : Lower : Body                                      : Upper : Active\n",
            "          1 :   1.0 : x[E1,P1] + x[E2,P1] + x[E3,P1] + x[E4,P1] :   1.0 :   True\n",
            "          2 :   1.0 : x[E1,P2] + x[E2,P2] + x[E3,P2] + x[E4,P2] :   1.0 :   True\n",
            "          3 :   1.0 : x[E1,P3] + x[E2,P3] + x[E3,P3] + x[E4,P3] :   1.0 :   True\n",
            "          4 :   1.0 : x[E1,P4] + x[E2,P4] + x[E3,P4] + x[E4,P4] :   1.0 :   True\n",
            "    machine_constraints : Size=4, Index=machine_constraints_index, Active=True\n",
            "        Key : Lower : Body                                      : Upper : Active\n",
            "          1 :  -Inf : x[E1,P1] + x[E1,P2] + x[E1,P3] + x[E1,P4] :   1.0 :   True\n",
            "          2 :  -Inf : x[E2,P1] + x[E2,P2] + x[E2,P3] + x[E2,P4] :   1.0 :   True\n",
            "          3 :  -Inf : x[E3,P1] + x[E3,P2] + x[E3,P3] + x[E3,P4] :   1.0 :   True\n",
            "          4 :  -Inf : x[E4,P1] + x[E4,P2] + x[E4,P3] + x[E4,P4] :   1.0 :   True\n",
            "\n",
            "9 Declarations: x_index_0 x_index_1 x_index x machine_constraints_index machine_constraints job_constraints_index job_constraints OBJ\n"
          ],
          "name": "stdout"
        }
      ]
    },
    {
      "cell_type": "code",
      "metadata": {
        "id": "1RU--wGyNGXi",
        "colab": {
          "base_uri": "https://localhost:8080/",
          "height": 713
        },
        "outputId": "d56aa5ea-8367-4a7d-80b2-2653f2bcd249"
      },
      "source": [
        "# Solve the model\n",
        "SolverFactory('cbc', executable='/usr/bin/cbc').solve(model).write()"
      ],
      "execution_count": null,
      "outputs": [
        {
          "output_type": "stream",
          "text": [
            "# ==========================================================\n",
            "# = Solver Results                                         =\n",
            "# ==========================================================\n",
            "# ----------------------------------------------------------\n",
            "#   Problem Information\n",
            "# ----------------------------------------------------------\n",
            "Problem: \n",
            "- Name: unknown\n",
            "  Lower bound: 315.0\n",
            "  Upper bound: 315.0\n",
            "  Number of objectives: 1\n",
            "  Number of constraints: 9\n",
            "  Number of variables: 17\n",
            "  Number of nonzeros: 16\n",
            "  Sense: maximize\n",
            "# ----------------------------------------------------------\n",
            "#   Solver Information\n",
            "# ----------------------------------------------------------\n",
            "Solver: \n",
            "- Status: ok\n",
            "  User time: -1.0\n",
            "  System time: 0.0\n",
            "  Wallclock time: 0.0\n",
            "  Termination condition: optimal\n",
            "  Termination message: Model was solved to optimality (subject to tolerances), and an optimal solution is available.\n",
            "  Statistics: \n",
            "    Branch and bound: \n",
            "      Number of bounded subproblems: None\n",
            "      Number of created subproblems: None\n",
            "    Black box: \n",
            "      Number of iterations: 9\n",
            "  Error rc: 0\n",
            "  Time: 0.026936769485473633\n",
            "# ----------------------------------------------------------\n",
            "#   Solution Information\n",
            "# ----------------------------------------------------------\n",
            "Solution: \n",
            "- number of solutions: 0\n",
            "  number of solutions displayed: 0\n"
          ],
          "name": "stdout"
        }
      ]
    },
    {
      "cell_type": "code",
      "metadata": {
        "id": "jGKSp1qST7BH",
        "colab": {
          "base_uri": "https://localhost:8080/",
          "height": 121
        },
        "outputId": "88f6a94c-d28a-43c8-ff66-1679bfe24b29"
      },
      "source": [
        "# show the results\n",
        "print('Total Quality:',model.OBJ())\n",
        "\n",
        "print(\"List of assigments\")\n",
        "for assignment in assignments:\n",
        "  if 0 < model.x[assignment]():\n",
        "    print(assignment)"
      ],
      "execution_count": null,
      "outputs": [
        {
          "output_type": "stream",
          "text": [
            "Total Quality: 315.0\n",
            "List of assigments\n",
            "('E1', 'P1')\n",
            "('E2', 'P2')\n",
            "('E3', 'P3')\n",
            "('E4', 'P4')\n"
          ],
          "name": "stdout"
        }
      ]
    },
    {
      "cell_type": "markdown",
      "metadata": {
        "id": "6mvH4FgqXwvX"
      },
      "source": [
        "# On Your Own\n",
        "Try running the Pyomo cookbook example for Part 2..."
      ]
    }
  ]
}
