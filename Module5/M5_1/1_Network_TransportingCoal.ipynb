{
  "nbformat": 4,
  "nbformat_minor": 0,
  "metadata": {
    "colab": {
      "name": "Network_TransportingCoal",
      "provenance": [],
      "collapsed_sections": [],
      "include_colab_link": true
    },
    "kernelspec": {
      "name": "python3",
      "display_name": "Python 3"
    }
  },
  "cells": [
    {
      "cell_type": "markdown",
      "metadata": {
        "id": "view-in-github",
        "colab_type": "text"
      },
      "source": [
        "<a href=\"https://colab.research.google.com/github/drdww/OPIM5641/blob/main/Module5/M5_1/1_Network_TransportingCoal.ipynb\" target=\"_parent\"><img src=\"https://colab.research.google.com/assets/colab-badge.svg\" alt=\"Open In Colab\"/></a>"
      ]
    },
    {
      "cell_type": "markdown",
      "metadata": {
        "id": "gQq8BHcg8RX5"
      },
      "source": [
        "# Network Problems: Transporting Coal\n",
        "**OPIM 5641: Business Decision Modeling - University of Connecticut**\n",
        "\n",
        "--------------------------------------------\n",
        "Make sure you are consistent with your demand/supply pairs!\n",
        "\n",
        "This example has a little bit of a different flavor - now we have to consider shipping costs AND production costs in the objective function...\n",
        "\n",
        "* Please refer to Powell Chapter 10 for more details and examples.\n",
        "* Pyomo Cookbook (related example): https://github.com/jckantor/ND-Pyomo-Cookbook/blob/master/notebooks/03.01-Transportation-Networks.ipynb\n",
        "\n",
        "-------------------------------------------------------------------------"
      ]
    },
    {
      "cell_type": "code",
      "metadata": {
        "id": "_LYK_ehc7RTR"
      },
      "source": [
        "import shutil\n",
        "import sys\n",
        "import os.path\n",
        "\n",
        "if not shutil.which(\"pyomo\"):\n",
        "    !pip install -q pyomo\n",
        "    assert(shutil.which(\"pyomo\"))\n",
        "\n",
        "if not (shutil.which(\"cbc\") or os.path.isfile(\"cbc\")):\n",
        "    if \"google.colab\" in sys.modules:\n",
        "        !apt-get install -y -qq coinor-cbc\n",
        "    else:\n",
        "        try:\n",
        "            !conda install -c conda-forge coincbc \n",
        "        except:\n",
        "            pass\n",
        "\n",
        "assert(shutil.which(\"cbc\") or os.path.isfile(\"cbc\"))\n",
        "    \n",
        "from pyomo.environ import *"
      ],
      "execution_count": null,
      "outputs": []
    },
    {
      "cell_type": "markdown",
      "metadata": {
        "id": "hqP43Ci98yax"
      },
      "source": [
        "# Example\n",
        "1. Transporting Coal. The Calcio Coal Company produces\n",
        "coal at four mines and ships it to four power plants (P1-P4).\n",
        "The cost per ton of producing coal and the production\n",
        "capacity (in tons) for each mine are known. The number\n",
        "of tons of coal demanded by each customer is also known.\n",
        "The cost (in dollars) of shipping a ton of coal from a mine to\n",
        "each plant is available as well. The following table provides\n",
        "the data:\n",
        "\n",
        "Name |P1| P2| P3| P4| Capacity| Cost\n",
        "---|---|---|---|---|---|---\n",
        "Mine 1| 9| 15| 8| 10| 125| 50\n",
        "Mine 2| 7| 15| 14| 12| 100| 57\n",
        "Mine 3| 5| 5| 11| 12| 150| 55\n",
        "Mine 4| 3| 6| 8| 11| 120| 61\n",
        "Demands| 110| 115| 135| 130\n",
        "\n",
        "1. Calcio wishes to minimize the cost of transporting coal from\n",
        "its mines to its plants. What is the minimum cost?\n",
        "2. What is the transportation schedule that achieves the minimum cost in (a)?"
      ]
    },
    {
      "cell_type": "code",
      "metadata": {
        "id": "HuUNyhN3BBAi",
        "colab": {
          "base_uri": "https://localhost:8080/",
          "height": 35
        },
        "outputId": "05f3ec0b-4206-448f-c61f-b2e1f1ca2fe1"
      },
      "source": [
        "# first, let's make sure we have enough supply relative to the demand\n",
        "Supply = 125 + 100 + 150 + 120\n",
        "Demand = 110 + 115 + 135 + 130\n",
        "Supply-Demand # yep! so our network won't freak out."
      ],
      "execution_count": null,
      "outputs": [
        {
          "output_type": "execute_result",
          "data": {
            "text/plain": [
              "5"
            ]
          },
          "metadata": {
            "tags": []
          },
          "execution_count": 17
        }
      ]
    },
    {
      "cell_type": "markdown",
      "metadata": {
        "id": "WrFFs5FI9IL2"
      },
      "source": [
        "# Thoughts/Problem Set-Up\n",
        "So we have four mines that need to feed four power plants. A classic network problem subject to supply/capacity and demand constraints.\n",
        "\n",
        "## Objective Function\n",
        "Let $M_{11}$ be the arc from Mine 1 to Power Plant 1, Let $M_{12}$ be the arc from Mine 1 to Power Plant 2 ... \n",
        "\n",
        "We want minimize the cost of the shipping routes (arcs) from the mines from the power plants.\n",
        "\n",
        "$\\min(\\text{Shipping Cost}) =  \\\\\n",
        "\\quad\\quad\\quad\\quad\\quad\\quad 9*M_{11} + 15*M_{12} + 8*M_{13} + 10*M_{14} + \\\\\n",
        "\\quad\\quad\\quad\\quad\\quad\\quad 7*M_{21} + 15*M_{22} + 14*M_{23} + 12*M_{24} + \\\\\n",
        "\\quad\\quad\\quad\\quad\\quad\\quad 5*M_{31} + 5*M_{32} + 11*M_{33} + 12*M_{34} + \\\\\n",
        "\\quad\\quad\\quad\\quad\\quad\\quad 3*M_{41} + 6*M_{42} + 8*M_{43} + 11*M_{44}$\n",
        "\n",
        "But those are only the cost of the routes! We also need to cost corresponding to the production cost at each mine. \n",
        "\n",
        "So we update the objective function to account for the other info.\n",
        "\n",
        "$\\min(\\text{Shipping and Production Cost}) = \\\\\n",
        "\\quad\\quad\\quad\\quad\\quad\\quad 9*M_{11} + 15*M_{12} + 8*M_{13} + 10*M_{14}) + \\\\\n",
        "\\quad\\quad\\quad\\quad\\quad\\quad                    7*M_{21} + 15*M_{22} + 14*M_{23} + 12*M_{24} + \\\\\n",
        " \\quad\\quad\\quad\\quad\\quad\\quad                   5*M_{31} + 5*M_{32} + 11*M_{33} + 12*M_{34} + \\\\\n",
        "\\quad\\quad\\quad\\quad\\quad\\quad                    3*M_{41} + 6*M_{42} + 8*M_{43} + 11*M_{44} + \\\\\n",
        "\\quad\\quad\\quad\\quad\\quad\\quad                    50*M_{11} + 50*M_{12} + 50*M_{13} + 50*M_{14} + \\\\\n",
        "\\quad\\quad\\quad\\quad\\quad\\quad                    57*M_{21} + 57*M_{22} + 55*M_{23} + 61*M_{24} + \\\\\n",
        "\\quad\\quad\\quad\\quad\\quad\\quad                    55*M_{31} + 55*M_{32} + 55*M_{33} + 55*M_{34} + \\\\\n",
        "\\quad\\quad\\quad\\quad\\quad\\quad                    61*M_{41} + 61*M_{42} + 61*M_{43} + 61*M_{44}$\n",
        "\n",
        "\n",
        "**WOOF!** Long equation but it is what it is... que sera, sera... later on you will see this is similar to a trans-shipment problem... you just keep adding costs to your objective function and try to minimize it."
      ]
    },
    {
      "cell_type": "markdown",
      "metadata": {
        "id": "UEnr9vViAHcf"
      },
      "source": [
        "## Constraints\n",
        "Now remember, you have both supply/capacity and demand constraints.\n"
      ]
    },
    {
      "cell_type": "markdown",
      "metadata": {
        "id": "CXr-abX2DZmC"
      },
      "source": [
        "### Supply Constraints\n",
        "\n",
        "$M_{11} + M_{12} + M_{13} + M_{14} \\leq 125$\n",
        "\n",
        "In words, the total amount shipped out of Mine 1 ($M1$) must be less than or equal to the Mine 1 capacity. For the other mines (2, 3, 4), we have similar constraints.\n",
        "\n",
        "$M_{21} + M_{22} + M_{23} + M_{24} \\leq 100$\n",
        "\n",
        "$M_{31} + M_{32} + M_{33} + M_{34} \\leq 150$\n",
        "\n",
        "$M_{41} + M_{42} + M_{43} + M_{44} \\leq 120$"
      ]
    },
    {
      "cell_type": "markdown",
      "metadata": {
        "id": "4FAG2khNA9Uh"
      },
      "source": [
        "### Demand Constraints\n",
        "Demand constraints are at the power plants.\n",
        "\n",
        "$M_{11} + M_{21} + M_{31} + M_{41} \\geq 110$ \n",
        "\n",
        "In words, the amount received at Power Plant 1 ($P1$) must be greater than or equal to the $P1$ requirement. Similarly, for the other Power Plants, the demand constraint becomes:\n",
        "\n",
        "$M_{11} + M_{22} + M_{32} + M_{12} \\geq 115$ \n",
        "\n",
        "$M_{13} + M_{23} + M_{33} + M_{13} \\geq 135$ \n",
        "\n",
        "$M_{14} + M_{24} + M_{34} + M_{14} \\geq 130$ \n",
        "\n"
      ]
    },
    {
      "cell_type": "markdown",
      "metadata": {
        "id": "WJBGlR7ADbPZ"
      },
      "source": [
        "# Implementation in Pyomo\n",
        "We will use the cookbook example because it would be a monster to type all of the constraints - and we would probably make a mistake!"
      ]
    },
    {
      "cell_type": "code",
      "metadata": {
        "id": "fQqHbj-xEHQb"
      },
      "source": [
        "Demand = {\n",
        "   'P1':   110,        # P1\n",
        "   'P2':   115,        # P2\n",
        "   'P3':   135,        # P3\n",
        "   'P4':   130,        # P4\n",
        "}\n",
        "\n",
        "Supply = {\n",
        "   'M1':   125,      # M1\n",
        "   'M2':   100,      # M2\n",
        "   'M3':   150,      # M3\n",
        "   'M4':   120       # M4\n",
        "}\n",
        "\n",
        "# remember, it is DEMAND - SUPPLY pairs (might seem backwards)\n",
        "# T = transportation routes/costs...\n",
        "T = {\n",
        "    ('P1','M1'): 9,\n",
        "    ('P2','M1'): 15,\n",
        "    ('P3','M1'): 8,\n",
        "    ('P4','M1'): 10,\n",
        "    ('P1','M2'): 7,\n",
        "    ('P2','M2'): 15,\n",
        "    ('P3','M2'): 14,\n",
        "    ('P4','M2'): 12,\n",
        "    ('P1','M3'): 5,\n",
        "    ('P2','M3'): 5,\n",
        "    ('P3','M3'): 11,\n",
        "    ('P4','M3'): 12,\n",
        "    ('P1','M4'): 3,\n",
        "    ('P2','M4'): 6,\n",
        "    ('P3','M4'): 8,\n",
        "    ('P4','M4'): 11\n",
        "}\n",
        "\n",
        "# P for production costs\n",
        "P = {\n",
        "    ('P1','M1'): 50,\n",
        "    ('P2','M1'): 50,\n",
        "    ('P3','M1'): 50,\n",
        "    ('P4','M1'): 50,\n",
        "    ('P1','M2'): 57,\n",
        "    ('P2','M2'): 57,\n",
        "    ('P3','M2'): 57,\n",
        "    ('P4','M2'): 57,\n",
        "    ('P1','M3'): 55,\n",
        "    ('P2','M3'): 55,\n",
        "    ('P3','M3'): 55,\n",
        "    ('P4','M3'): 55,\n",
        "    ('P1','M4'): 61,\n",
        "    ('P2','M4'): 61,\n",
        "    ('P3','M4'): 61,\n",
        "    ('P4','M4'): 61\n",
        "}"
      ],
      "execution_count": null,
      "outputs": []
    },
    {
      "cell_type": "markdown",
      "metadata": {
        "id": "Gvb3ftEGFM-l"
      },
      "source": [
        "Now that this is all defined, you can plug and chug (copy!) the code from before. Be efficient!"
      ]
    },
    {
      "cell_type": "code",
      "metadata": {
        "id": "U5ZCnGbAFUIK"
      },
      "source": [
        "# define the model\n",
        "# Step 0: Create an instance of the model\n",
        "model = ConcreteModel()\n",
        "\n",
        "# Step 1: Define index sets\n",
        "CUS = list(Demand.keys()) # CUS is for customers (demand)\n",
        "SRC = list(Supply.keys()) # SRC is for source (supply/capcity)\n",
        "\n",
        "# Step 2: Define the decision \n",
        "model.x = Var(CUS, SRC, domain = NonNegativeReals)"
      ],
      "execution_count": null,
      "outputs": []
    },
    {
      "cell_type": "markdown",
      "metadata": {
        "id": "OW55Ym6DGWxc"
      },
      "source": [
        "Remember, this is just your shipping cost... you also need your production costs!"
      ]
    },
    {
      "cell_type": "code",
      "metadata": {
        "id": "0uRUhdZoGZNy"
      },
      "source": [
        "# Step 3: Define Objective\n",
        "model.Cost = Objective(\n",
        "    expr = sum([T[c,s]*model.x[c,s] for c in CUS for s in SRC] + # shipping costs\n",
        "               [P[c,s]*model.x[c,s] for c in CUS for s in SRC]), # production costs\n",
        "    sense = minimize)\n",
        "\n",
        "# notice how similar the expressions and data setup are..."
      ],
      "execution_count": null,
      "outputs": []
    },
    {
      "cell_type": "markdown",
      "metadata": {
        "id": "m3TwywhTGYo1"
      },
      "source": [
        "Add constraints!"
      ]
    },
    {
      "cell_type": "code",
      "metadata": {
        "id": "gFb6ig-oFW7h"
      },
      "source": [
        "# Step 4: Add Constraints (note the ease in which this happens with for loops!)\n",
        "model.src = ConstraintList()\n",
        "for s in SRC:\n",
        "    model.src.add(sum([model.x[c,s] for c in CUS]) <= Supply[s])\n",
        "        \n",
        "model.dmd = ConstraintList()\n",
        "for c in CUS:\n",
        "    model.dmd.add(sum([model.x[c,s] for s in SRC]) >= Demand[c])"
      ],
      "execution_count": null,
      "outputs": []
    },
    {
      "cell_type": "markdown",
      "metadata": {
        "id": "FJMxz8N6FZJI"
      },
      "source": [
        "Let's see what this model looks like..."
      ]
    },
    {
      "cell_type": "code",
      "metadata": {
        "id": "AwThicIVFc1e",
        "colab": {
          "base_uri": "https://localhost:8080/",
          "height": 1000
        },
        "outputId": "4d15cab6-e046-4c3e-ed67-5bf52de2ad40"
      },
      "source": [
        "model.pprint()"
      ],
      "execution_count": null,
      "outputs": [
        {
          "output_type": "stream",
          "text": [
            "5 Set Declarations\n",
            "    dmd_index : Size=1, Index=None, Ordered=Insertion\n",
            "        Key  : Dimen : Domain : Size : Members\n",
            "        None :     1 :    Any :    4 : {1, 2, 3, 4}\n",
            "    src_index : Size=1, Index=None, Ordered=Insertion\n",
            "        Key  : Dimen : Domain : Size : Members\n",
            "        None :     1 :    Any :    4 : {1, 2, 3, 4}\n",
            "    x_index : Size=1, Index=None, Ordered=True\n",
            "        Key  : Dimen : Domain              : Size : Members\n",
            "        None :     2 : x_index_0*x_index_1 :   16 : {('P1', 'M1'), ('P1', 'M2'), ('P1', 'M3'), ('P1', 'M4'), ('P2', 'M1'), ('P2', 'M2'), ('P2', 'M3'), ('P2', 'M4'), ('P3', 'M1'), ('P3', 'M2'), ('P3', 'M3'), ('P3', 'M4'), ('P4', 'M1'), ('P4', 'M2'), ('P4', 'M3'), ('P4', 'M4')}\n",
            "    x_index_0 : Size=1, Index=None, Ordered=Insertion\n",
            "        Key  : Dimen : Domain : Size : Members\n",
            "        None :     1 :    Any :    4 : {'P1', 'P2', 'P3', 'P4'}\n",
            "    x_index_1 : Size=1, Index=None, Ordered=Insertion\n",
            "        Key  : Dimen : Domain : Size : Members\n",
            "        None :     1 :    Any :    4 : {'M1', 'M2', 'M3', 'M4'}\n",
            "\n",
            "1 Var Declarations\n",
            "    x : Size=16, Index=x_index\n",
            "        Key          : Lower : Value : Upper : Fixed : Stale : Domain\n",
            "        ('P1', 'M1') :     0 :  None :  None : False :  True : NonNegativeReals\n",
            "        ('P1', 'M2') :     0 :  None :  None : False :  True : NonNegativeReals\n",
            "        ('P1', 'M3') :     0 :  None :  None : False :  True : NonNegativeReals\n",
            "        ('P1', 'M4') :     0 :  None :  None : False :  True : NonNegativeReals\n",
            "        ('P2', 'M1') :     0 :  None :  None : False :  True : NonNegativeReals\n",
            "        ('P2', 'M2') :     0 :  None :  None : False :  True : NonNegativeReals\n",
            "        ('P2', 'M3') :     0 :  None :  None : False :  True : NonNegativeReals\n",
            "        ('P2', 'M4') :     0 :  None :  None : False :  True : NonNegativeReals\n",
            "        ('P3', 'M1') :     0 :  None :  None : False :  True : NonNegativeReals\n",
            "        ('P3', 'M2') :     0 :  None :  None : False :  True : NonNegativeReals\n",
            "        ('P3', 'M3') :     0 :  None :  None : False :  True : NonNegativeReals\n",
            "        ('P3', 'M4') :     0 :  None :  None : False :  True : NonNegativeReals\n",
            "        ('P4', 'M1') :     0 :  None :  None : False :  True : NonNegativeReals\n",
            "        ('P4', 'M2') :     0 :  None :  None : False :  True : NonNegativeReals\n",
            "        ('P4', 'M3') :     0 :  None :  None : False :  True : NonNegativeReals\n",
            "        ('P4', 'M4') :     0 :  None :  None : False :  True : NonNegativeReals\n",
            "\n",
            "1 Objective Declarations\n",
            "    Cost : Size=1, Index=None, Active=True\n",
            "        Key  : Active : Sense    : Expression\n",
            "        None :   True : minimize : 9*x[P1,M1] + 7*x[P1,M2] + 5*x[P1,M3] + 3*x[P1,M4] + 15*x[P2,M1] + 15*x[P2,M2] + 5*x[P2,M3] + 6*x[P2,M4] + 8*x[P3,M1] + 14*x[P3,M2] + 11*x[P3,M3] + 8*x[P3,M4] + 10*x[P4,M1] + 12*x[P4,M2] + 12*x[P4,M3] + 11*x[P4,M4] + 50*x[P1,M1] + 57*x[P1,M2] + 55*x[P1,M3] + 61*x[P1,M4] + 50*x[P2,M1] + 57*x[P2,M2] + 55*x[P2,M3] + 61*x[P2,M4] + 50*x[P3,M1] + 57*x[P3,M2] + 55*x[P3,M3] + 61*x[P3,M4] + 50*x[P4,M1] + 57*x[P4,M2] + 55*x[P4,M3] + 61*x[P4,M4]\n",
            "\n",
            "2 Constraint Declarations\n",
            "    dmd : Size=4, Index=dmd_index, Active=True\n",
            "        Key : Lower : Body                                      : Upper : Active\n",
            "          1 : 110.0 : x[P1,M1] + x[P1,M2] + x[P1,M3] + x[P1,M4] :  +Inf :   True\n",
            "          2 : 115.0 : x[P2,M1] + x[P2,M2] + x[P2,M3] + x[P2,M4] :  +Inf :   True\n",
            "          3 : 135.0 : x[P3,M1] + x[P3,M2] + x[P3,M3] + x[P3,M4] :  +Inf :   True\n",
            "          4 : 130.0 : x[P4,M1] + x[P4,M2] + x[P4,M3] + x[P4,M4] :  +Inf :   True\n",
            "    src : Size=4, Index=src_index, Active=True\n",
            "        Key : Lower : Body                                      : Upper : Active\n",
            "          1 :  -Inf : x[P1,M1] + x[P2,M1] + x[P3,M1] + x[P4,M1] : 125.0 :   True\n",
            "          2 :  -Inf : x[P1,M2] + x[P2,M2] + x[P3,M2] + x[P4,M2] : 100.0 :   True\n",
            "          3 :  -Inf : x[P1,M3] + x[P2,M3] + x[P3,M3] + x[P4,M3] : 150.0 :   True\n",
            "          4 :  -Inf : x[P1,M4] + x[P2,M4] + x[P3,M4] + x[P4,M4] : 120.0 :   True\n",
            "\n",
            "9 Declarations: x_index_0 x_index_1 x_index x Cost src_index src dmd_index dmd\n"
          ],
          "name": "stdout"
        }
      ]
    },
    {
      "cell_type": "markdown",
      "metadata": {
        "id": "fhbb76AFFbun"
      },
      "source": [
        "Solve it!"
      ]
    },
    {
      "cell_type": "code",
      "metadata": {
        "id": "WhBXiSSxFaq2",
        "colab": {
          "base_uri": "https://localhost:8080/",
          "height": 693
        },
        "outputId": "b12e3f66-fca9-4fbe-ef10-3241434cae6a"
      },
      "source": [
        "# solve the model and show results\n",
        "results = SolverFactory('cbc').solve(model)\n",
        "results.write()"
      ],
      "execution_count": null,
      "outputs": [
        {
          "output_type": "stream",
          "text": [
            "# ==========================================================\n",
            "# = Solver Results                                         =\n",
            "# ==========================================================\n",
            "# ----------------------------------------------------------\n",
            "#   Problem Information\n",
            "# ----------------------------------------------------------\n",
            "Problem: \n",
            "- Name: unknown\n",
            "  Lower bound: 30770.0\n",
            "  Upper bound: 30770.0\n",
            "  Number of objectives: 1\n",
            "  Number of constraints: 9\n",
            "  Number of variables: 17\n",
            "  Number of nonzeros: 16\n",
            "  Sense: minimize\n",
            "# ----------------------------------------------------------\n",
            "#   Solver Information\n",
            "# ----------------------------------------------------------\n",
            "Solver: \n",
            "- Status: ok\n",
            "  User time: -1.0\n",
            "  System time: 0.0\n",
            "  Wallclock time: 0.0\n",
            "  Termination condition: optimal\n",
            "  Termination message: Model was solved to optimality (subject to tolerances), and an optimal solution is available.\n",
            "  Statistics: \n",
            "    Branch and bound: \n",
            "      Number of bounded subproblems: None\n",
            "      Number of created subproblems: None\n",
            "    Black box: \n",
            "      Number of iterations: 10\n",
            "  Error rc: 0\n",
            "  Time: 0.021076202392578125\n",
            "# ----------------------------------------------------------\n",
            "#   Solution Information\n",
            "# ----------------------------------------------------------\n",
            "Solution: \n",
            "- number of solutions: 0\n",
            "  number of solutions displayed: 0\n"
          ],
          "name": "stdout"
        }
      ]
    },
    {
      "cell_type": "markdown",
      "metadata": {
        "id": "PeizJvOuF9R1"
      },
      "source": [
        "# Results\n",
        "Even if you're not as comfortable with the syntax to start, you have to know how to apply it first - then try to tease out what each line means! "
      ]
    },
    {
      "cell_type": "code",
      "metadata": {
        "id": "EbYCYdAJ97Vy",
        "colab": {
          "base_uri": "https://localhost:8080/",
          "height": 35
        },
        "outputId": "ea991f86-c24c-4b64-b889-36c45ef63d55"
      },
      "source": [
        "# print the cost - checks out!\n",
        "# this cost is shipping + production costs\n",
        "model.Cost()"
      ],
      "execution_count": null,
      "outputs": [
        {
          "output_type": "execute_result",
          "data": {
            "text/plain": [
              "30770.0"
            ]
          },
          "metadata": {
            "tags": []
          },
          "execution_count": 24
        }
      ]
    },
    {
      "cell_type": "code",
      "metadata": {
        "id": "R-CsoQFx9sJv",
        "colab": {
          "base_uri": "https://localhost:8080/",
          "height": 295
        },
        "outputId": "07f64c46-03d9-4cab-fecf-d57db4b560ef"
      },
      "source": [
        "# print the solution for how much goes in each node\n",
        "for c in CUS:\n",
        "    for s in SRC:\n",
        "        print(c, s, model.x[c,s]())"
      ],
      "execution_count": null,
      "outputs": [
        {
          "output_type": "stream",
          "text": [
            "P1 M1 0.0\n",
            "P1 M2 0.0\n",
            "P1 M3 35.0\n",
            "P1 M4 75.0\n",
            "P2 M1 0.0\n",
            "P2 M2 0.0\n",
            "P2 M3 115.0\n",
            "P2 M4 0.0\n",
            "P3 M1 95.0\n",
            "P3 M2 0.0\n",
            "P3 M3 0.0\n",
            "P3 M4 40.0\n",
            "P4 M1 30.0\n",
            "P4 M2 100.0\n",
            "P4 M3 0.0\n",
            "P4 M4 0.0\n"
          ],
          "name": "stdout"
        }
      ]
    },
    {
      "cell_type": "markdown",
      "metadata": {
        "id": "hmvZ9833JkQS"
      },
      "source": [
        "# On Your Own"
      ]
    },
    {
      "cell_type": "markdown",
      "metadata": {
        "id": "wyxGvhSlIY_k"
      },
      "source": [
        "And recall that there is a linear relationship between the amount flowing each node and the amount. Just multiply the output above by the appropriate cost from the mine. Left to students as an exercise - good luck!\n",
        "\n",
        "* Production Cost = 27,215\n",
        "* Shipping Cost = 3,555\n",
        "* Total Cost = 30,770"
      ]
    },
    {
      "cell_type": "markdown",
      "metadata": {
        "id": "SulI_UbUJYDr"
      },
      "source": [
        "Also, remember from the beginning - you still have 5 tons of coal leftover in supply... where's the best place to send it if you could increase demand at any of the four power plants? This may require you to use a longer form of coding up the model (similar to Powell)."
      ]
    }
  ]
}