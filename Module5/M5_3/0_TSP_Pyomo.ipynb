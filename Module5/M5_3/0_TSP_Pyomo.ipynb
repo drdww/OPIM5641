{
  "nbformat": 4,
  "nbformat_minor": 0,
  "metadata": {
    "colab": {
      "name": "TSP#Pyomo.ipynb",
      "provenance": [],
      "collapsed_sections": [],
      "toc_visible": true,
      "include_colab_link": true
    },
    "kernelspec": {
      "name": "python3",
      "display_name": "Python 3"
    }
  },
  "cells": [
    {
      "cell_type": "markdown",
      "metadata": {
        "id": "view-in-github",
        "colab_type": "text"
      },
      "source": [
        "<a href=\"https://colab.research.google.com/github/drdww/OPIM5641/blob/main/Module5/M5_3/0_TSP_Pyomo.ipynb\" target=\"_parent\"><img src=\"https://colab.research.google.com/assets/colab-badge.svg\" alt=\"Open In Colab\"/></a>"
      ]
    },
    {
      "cell_type": "markdown",
      "metadata": {
        "id": "dPaFRpUpiZRq"
      },
      "source": [
        "# **TRAVELING SALESMAN PROBLEM**\n",
        "\n",
        "**OPIM 5641: Business Decision Modeling - University of Connecticut**\n",
        "\n",
        "This section presents an example that shows how to solve the Traveling Salesman Problem (TSP) using Pyomo for given any 23 locations to keep it easy.\n",
        "\n",
        "\n",
        "Resources:\n",
        "* https://medium.com/analytics-vidhya/model-and-solution-of-the-traveling-salesman-problem-with-python-and-pyomo-db45f2631e8c\n",
        "* https://stackoverflow.com/questions/54312316/pyomo-model-lp-file-with-variable-values\n"
      ]
    },
    {
      "cell_type": "markdown",
      "metadata": {
        "id": "F9Klhg7CQUrt"
      },
      "source": [
        "<image src='https://i.pinimg.com/originals/e5/07/d7/e507d704d4b6fdcb17116762fcd99acd.gif' height='250'>"
      ]
    },
    {
      "cell_type": "markdown",
      "metadata": {
        "id": "zpzm18xBIpHR"
      },
      "source": [
        "In this notebook, you will learn how to:\n",
        "1. Formulate the Traveling Salesman Problem(TSP) as a MIP model.\n",
        "2. Use constraints to identify solutions of the TSP problem that are optimal using MTZ Formulation.\n"
      ]
    },
    {
      "cell_type": "markdown",
      "metadata": {
        "id": "ngPRqxZMT7HD"
      },
      "source": [
        "# Other Applications of Traveling Salesman problem\n",
        "\n",
        "1. ***Genome Sequencing***\n",
        "\n",
        "<image src='https://media3.giphy.com/media/3o7TKz2eMXx7dn95FS/giphy.gif' height='120'>\n",
        "\n",
        "2. ***Drilling problems***\n",
        "\n",
        "<image src='https://cdn.shopify.com/s/files/1/0257/0200/6832/files/01_1_large.gif?v=1569744446' height='180'>\n",
        "\n",
        "3. ***Aiming telescopes and x-rays***\n",
        "\n",
        "Hubble Space Telescope\n",
        "\n",
        "<image src='https://64.media.tumblr.com/tumblr_memhckVI2T1rnq3cto1_500.gifv' height='150'>\n",
        "\n",
        "\n",
        "4. ***Data Clustering***\n",
        "\n",
        "<image src='https://miro.medium.com/max/796/1*Nx6IyGfRAV1ly6uDGnVCxQ.gif' height='150'>\n",
        "\n",
        "5. ***Machine Scheduling***\n",
        "\n",
        "Amazon warehouse robots\n",
        "\n",
        "<image src='https://metro.co.uk/wp-content/uploads/2014/12/amazonrob0ts2.gif' height='150'>\n",
        "\n",
        "\n",
        "5. ***Network Optimisation and Air traffic***\n",
        "\n",
        "<image src='http://www.theprojectcounselgroup.com/wp-content/uploads/2020/08/05HnQSaCk8xF4mXRy.gif' height='200'> <image src='https://i.pinimg.com/originals/67/79/33/6779331fc92f4002f4011a560f16f611.gif' height='200'>\n",
        "\n",
        "\n",
        "\n",
        "\n",
        "\n"
      ]
    },
    {
      "cell_type": "markdown",
      "metadata": {
        "id": "wuYkNvNFJTFI"
      },
      "source": [
        "# Problem Statement\n",
        "\n",
        "The TSP can be defined as follows: for a given list of cities and the distances between each pair of them, we want to find the shortest possible route that goes to each city once and returns to the origin city.\n",
        "\n",
        "There is a class of Traveling Salesman Problems that assumes that the distance of going from city i\n",
        "to city j is the same as going form city j to city i, this type of Traveling Salesman Problem is also known as the symmetric Traveling Salesman Problem. In this example, we use Manhattan distances, but the TSP model formulation is valid independent of the way in which the individual distances are determined.We can also use Euclidean distance for this type of problem.We used Manhattan distance to standardize the cost of travel in different solver by increassing distance between points and rounding them."
      ]
    },
    {
      "cell_type": "markdown",
      "metadata": {
        "id": "zZmASPUCK0Sk"
      },
      "source": [
        "**Problem Scenario:**\n",
        "A salesman was assigned an assignment to travel to 23 locations of Fairfield County in Connecticut in the state of Connecticut. He reached his manager due to budget cut.He had to finish the travel plan in less cost possible.His manager made this program to determine the optimal route to decrease travel cost and save money for the travel with the help of Connecticut Data.We assume the cost of travel is same as the distance covered by the Salesperson who travels at constant speed."
      ]
    },
    {
      "cell_type": "markdown",
      "metadata": {
        "id": "rM4l3orgYxs5"
      },
      "source": [
        "# Solver Time calculation"
      ]
    },
    {
      "cell_type": "code",
      "metadata": {
        "colab": {
          "base_uri": "https://localhost:8080/"
        },
        "id": "aVOm8OIqYiWZ",
        "outputId": "bfa19d99-f95e-4ca0-be2a-b36fc3673cfe"
      },
      "source": [
        "# In this notebook, I will want to check the amount of time spent in the execution of each cell, so I need to install an additional package\n",
        "!pip install ipython-autotime\n",
        "%load_ext autotime"
      ],
      "execution_count": null,
      "outputs": [
        {
          "output_type": "stream",
          "text": [
            "Requirement already satisfied: ipython-autotime in /usr/local/lib/python3.7/dist-packages (0.3.1)\n",
            "Requirement already satisfied: ipython in /usr/local/lib/python3.7/dist-packages (from ipython-autotime) (5.5.0)\n",
            "Requirement already satisfied: traitlets>=4.2 in /usr/local/lib/python3.7/dist-packages (from ipython->ipython-autotime) (5.0.5)\n",
            "Requirement already satisfied: simplegeneric>0.8 in /usr/local/lib/python3.7/dist-packages (from ipython->ipython-autotime) (0.8.1)\n",
            "Requirement already satisfied: pickleshare in /usr/local/lib/python3.7/dist-packages (from ipython->ipython-autotime) (0.7.5)\n",
            "Requirement already satisfied: prompt-toolkit<2.0.0,>=1.0.4 in /usr/local/lib/python3.7/dist-packages (from ipython->ipython-autotime) (1.0.18)\n",
            "Requirement already satisfied: decorator in /usr/local/lib/python3.7/dist-packages (from ipython->ipython-autotime) (4.4.2)\n",
            "Requirement already satisfied: pygments in /usr/local/lib/python3.7/dist-packages (from ipython->ipython-autotime) (2.6.1)\n",
            "Requirement already satisfied: pexpect; sys_platform != \"win32\" in /usr/local/lib/python3.7/dist-packages (from ipython->ipython-autotime) (4.8.0)\n",
            "Requirement already satisfied: setuptools>=18.5 in /usr/local/lib/python3.7/dist-packages (from ipython->ipython-autotime) (54.0.0)\n",
            "Requirement already satisfied: ipython-genutils in /usr/local/lib/python3.7/dist-packages (from traitlets>=4.2->ipython->ipython-autotime) (0.2.0)\n",
            "Requirement already satisfied: wcwidth in /usr/local/lib/python3.7/dist-packages (from prompt-toolkit<2.0.0,>=1.0.4->ipython->ipython-autotime) (0.2.5)\n",
            "Requirement already satisfied: six>=1.9.0 in /usr/local/lib/python3.7/dist-packages (from prompt-toolkit<2.0.0,>=1.0.4->ipython->ipython-autotime) (1.15.0)\n",
            "Requirement already satisfied: ptyprocess>=0.5 in /usr/local/lib/python3.7/dist-packages (from pexpect; sys_platform != \"win32\"->ipython->ipython-autotime) (0.7.0)\n",
            "The autotime extension is already loaded. To reload it, use:\n",
            "  %reload_ext autotime\n",
            "time: 2.64 s (started: 2021-03-19 14:52:06 +00:00)\n"
          ],
          "name": "stdout"
        }
      ]
    },
    {
      "cell_type": "code",
      "metadata": {
        "colab": {
          "base_uri": "https://localhost:8080/"
        },
        "id": "NyyJJ8ZhcTq0",
        "outputId": "4d0e21f2-c042-4fc4-c429-36312f8c973f"
      },
      "source": [
        "import time\n",
        "start = time.time() #start time noted"
      ],
      "execution_count": null,
      "outputs": [
        {
          "output_type": "stream",
          "text": [
            "time: 1.61 ms (started: 2021-03-19 14:52:09 +00:00)\n"
          ],
          "name": "stdout"
        }
      ]
    },
    {
      "cell_type": "markdown",
      "metadata": {
        "id": "dFL80PrFitnJ"
      },
      "source": [
        "## Data Preparation "
      ]
    },
    {
      "cell_type": "markdown",
      "metadata": {
        "id": "dgybinJhjSft"
      },
      "source": [
        "### Mount the Google Drive\n",
        "Let's use GDOWN :)"
      ]
    },
    {
      "cell_type": "code",
      "metadata": {
        "colab": {
          "base_uri": "https://localhost:8080/"
        },
        "id": "Dr6TMmMqhqkc",
        "outputId": "6ab979af-29b4-4553-d0fa-068f5516f297"
      },
      "source": [
        "# from google.colab import drive, files \n",
        "# drive.mount('/content/drive/', force_remount=True)  #mounting drive"
      ],
      "execution_count": null,
      "outputs": [
        {
          "output_type": "stream",
          "text": [
            "time: 694 µs (started: 2021-03-19 14:52:09 +00:00)\n"
          ],
          "name": "stdout"
        }
      ]
    },
    {
      "cell_type": "markdown",
      "metadata": {
        "id": "nwF3Z4HWjAbl"
      },
      "source": [
        "### Install \"cbc\" solver in pyomo and other packages\n",
        "\n",
        "\n",
        "\n"
      ]
    },
    {
      "cell_type": "code",
      "metadata": {
        "id": "BhsUnZdFjP6T",
        "colab": {
          "base_uri": "https://localhost:8080/"
        },
        "outputId": "f66b1ea4-3d47-446b-d831-cc2715a9b8a3"
      },
      "source": [
        "import shutil\n",
        "import sys\n",
        "import os.path\n",
        "import matplotlib.pyplot as plt\n",
        "\n",
        "\n",
        "if not shutil.which(\"pyomo\"):\n",
        "    !pip install -q pyomo\n",
        "    assert(shutil.which(\"pyomo\"))\n",
        "\n",
        "if not (shutil.which(\"cbc\") or os.path.isfile(\"cbc\")):\n",
        "    if \"google.colab\" in sys.modules:\n",
        "        !apt-get install -y -qq coinor-cbc\n",
        "    else:\n",
        "        try:\n",
        "            !conda install -c conda-forge coincbc \n",
        "        except:\n",
        "            pass\n",
        "\n",
        "assert(shutil.which(\"cbc\") or os.path.isfile(\"cbc\"))\n",
        "    \n",
        "from pyomo.environ import *"
      ],
      "execution_count": null,
      "outputs": [
        {
          "output_type": "stream",
          "text": [
            "time: 9.52 ms (started: 2021-03-19 14:52:09 +00:00)\n"
          ],
          "name": "stdout"
        }
      ]
    },
    {
      "cell_type": "code",
      "metadata": {
        "id": "IdEV5j6Wji8b",
        "colab": {
          "base_uri": "https://localhost:8080/"
        },
        "outputId": "76d8df09-4aa1-45ef-83fa-706027d2fc67"
      },
      "source": [
        "#import pandas and numpy for operations\n",
        "import pandas as pd  #dataframes\n",
        "import numpy as np #arrays "
      ],
      "execution_count": null,
      "outputs": [
        {
          "output_type": "stream",
          "text": [
            "time: 1.41 ms (started: 2021-03-19 14:52:09 +00:00)\n"
          ],
          "name": "stdout"
        }
      ]
    },
    {
      "cell_type": "code",
      "metadata": {
        "id": "xDn-iPrmk6L1",
        "colab": {
          "base_uri": "https://localhost:8080/"
        },
        "outputId": "879a1724-7da7-4759-c3bd-b4bdc215c0d4"
      },
      "source": [
        "#import packages to calculate location distances \n",
        "from sklearn.metrics.pairwise import manhattan_distances #manhattan distances\n",
        "from math import radians"
      ],
      "execution_count": null,
      "outputs": [
        {
          "output_type": "stream",
          "text": [
            "time: 1.85 ms (started: 2021-03-19 14:52:09 +00:00)\n"
          ],
          "name": "stdout"
        }
      ]
    },
    {
      "cell_type": "code",
      "metadata": {
        "id": "S1jj17lLlEGl",
        "colab": {
          "base_uri": "https://localhost:8080/"
        },
        "outputId": "7ccd3a39-fa1f-426d-fa27-a89dfef1fc8b"
      },
      "source": [
        "#import packages to plot maps and plots\n",
        "import matplotlib.pyplot as plt\n",
        "import seaborn as sns\n",
        "#plotly packages\n",
        "import plotly.express as px \n",
        "import plotly.graph_objects as go\n",
        "import networkx as nx \n",
        "from pylab import * "
      ],
      "execution_count": null,
      "outputs": [
        {
          "output_type": "stream",
          "text": [
            "time: 4.98 ms (started: 2021-03-19 14:52:09 +00:00)\n"
          ],
          "name": "stdout"
        }
      ]
    },
    {
      "cell_type": "markdown",
      "metadata": {
        "id": "JimCXrwgb5hn"
      },
      "source": [
        ""
      ]
    },
    {
      "cell_type": "markdown",
      "metadata": {
        "id": "fI6rG6cFqQ1V"
      },
      "source": [
        "### Data wrangling"
      ]
    },
    {
      "cell_type": "code",
      "metadata": {
        "colab": {
          "base_uri": "https://localhost:8080/",
          "height": 654
        },
        "id": "vMT2Lt0dj3TQ",
        "outputId": "25fbe6a1-7815-4f2e-b6bc-663c8bf82d29"
      },
      "source": [
        "#Reading data for Town Centroids\n",
        "# https://drive.google.com/file/d/1PCuDeuLFA__tM3jfjTZZSy4G3FKpuRc6/view?usp=sharing\n",
        "!gdown --id 1PCuDeuLFA__tM3jfjTZZSy4G3FKpuRc6\n",
        "data = pd.read_csv('townCents.csv')\n",
        "\n",
        "# X-longitude,Y-latitude \n",
        "geogTable = data[['X', 'Y']]\n",
        "\n",
        "#check location data\n",
        "data "
      ],
      "execution_count": null,
      "outputs": [
        {
          "output_type": "stream",
          "text": [
            "Downloading...\n",
            "From: https://drive.google.com/uc?id=1PCuDeuLFA__tM3jfjTZZSy4G3FKpuRc6\n",
            "To: /content/townCents.csv\n",
            "\r  0% 0.00/20.1k [00:00<?, ?B/s]\r100% 20.1k/20.1k [00:00<00:00, 17.5MB/s]\n"
          ],
          "name": "stdout"
        },
        {
          "output_type": "execute_result",
          "data": {
            "text/html": [
              "<div>\n",
              "<style scoped>\n",
              "    .dataframe tbody tr th:only-of-type {\n",
              "        vertical-align: middle;\n",
              "    }\n",
              "\n",
              "    .dataframe tbody tr th {\n",
              "        vertical-align: top;\n",
              "    }\n",
              "\n",
              "    .dataframe thead th {\n",
              "        text-align: right;\n",
              "    }\n",
              "</style>\n",
              "<table border=\"1\" class=\"dataframe\">\n",
              "  <thead>\n",
              "    <tr style=\"text-align: right;\">\n",
              "      <th></th>\n",
              "      <th>X</th>\n",
              "      <th>Y</th>\n",
              "      <th>TOWN_NO</th>\n",
              "      <th>TOWN</th>\n",
              "      <th>TOTAL_SQMI</th>\n",
              "      <th>LAND_SQMI</th>\n",
              "      <th>WATER_SQMI</th>\n",
              "      <th>COUNTY</th>\n",
              "      <th>PLAN_ORG</th>\n",
              "      <th>DEP_DIST</th>\n",
              "      <th>COAST_AREA</th>\n",
              "    </tr>\n",
              "  </thead>\n",
              "  <tbody>\n",
              "    <tr>\n",
              "      <th>0</th>\n",
              "      <td>-73.425651</td>\n",
              "      <td>41.986019</td>\n",
              "      <td>122</td>\n",
              "      <td>Salisbury</td>\n",
              "      <td>60.5</td>\n",
              "      <td>57.6</td>\n",
              "      <td>2.9</td>\n",
              "      <td>Litchfield</td>\n",
              "      <td>Northwestern Conn</td>\n",
              "      <td>DEP Western District</td>\n",
              "      <td>NaN</td>\n",
              "    </tr>\n",
              "    <tr>\n",
              "      <th>1</th>\n",
              "      <td>-73.293569</td>\n",
              "      <td>42.022264</td>\n",
              "      <td>100</td>\n",
              "      <td>North Canaan</td>\n",
              "      <td>19.6</td>\n",
              "      <td>19.6</td>\n",
              "      <td>0.0</td>\n",
              "      <td>Litchfield</td>\n",
              "      <td>Northwestern Conn</td>\n",
              "      <td>DEP Western District</td>\n",
              "      <td>NaN</td>\n",
              "    </tr>\n",
              "    <tr>\n",
              "      <th>2</th>\n",
              "      <td>-73.196224</td>\n",
              "      <td>41.980145</td>\n",
              "      <td>98</td>\n",
              "      <td>Norfolk</td>\n",
              "      <td>46.7</td>\n",
              "      <td>45.6</td>\n",
              "      <td>1.1</td>\n",
              "      <td>Litchfield</td>\n",
              "      <td>Litchfield Hills</td>\n",
              "      <td>DEP Western District</td>\n",
              "      <td>NaN</td>\n",
              "    </tr>\n",
              "    <tr>\n",
              "      <th>3</th>\n",
              "      <td>-73.080811</td>\n",
              "      <td>42.001546</td>\n",
              "      <td>29</td>\n",
              "      <td>Colebrook</td>\n",
              "      <td>33.0</td>\n",
              "      <td>32.8</td>\n",
              "      <td>0.2</td>\n",
              "      <td>Litchfield</td>\n",
              "      <td>Litchfield Hills</td>\n",
              "      <td>DEP Western District</td>\n",
              "      <td>NaN</td>\n",
              "    </tr>\n",
              "    <tr>\n",
              "      <th>4</th>\n",
              "      <td>-72.948897</td>\n",
              "      <td>42.004293</td>\n",
              "      <td>65</td>\n",
              "      <td>Hartland</td>\n",
              "      <td>34.5</td>\n",
              "      <td>33.0</td>\n",
              "      <td>1.5</td>\n",
              "      <td>Hartford</td>\n",
              "      <td>Litchfield Hills</td>\n",
              "      <td>DEP Western District</td>\n",
              "      <td>NaN</td>\n",
              "    </tr>\n",
              "    <tr>\n",
              "      <th>...</th>\n",
              "      <td>...</td>\n",
              "      <td>...</td>\n",
              "      <td>...</td>\n",
              "      <td>...</td>\n",
              "      <td>...</td>\n",
              "      <td>...</td>\n",
              "      <td>...</td>\n",
              "      <td>...</td>\n",
              "      <td>...</td>\n",
              "      <td>...</td>\n",
              "      <td>...</td>\n",
              "    </tr>\n",
              "    <tr>\n",
              "      <th>164</th>\n",
              "      <td>-73.346495</td>\n",
              "      <td>41.145319</td>\n",
              "      <td>158</td>\n",
              "      <td>Westport</td>\n",
              "      <td>22.4</td>\n",
              "      <td>19.9</td>\n",
              "      <td>2.5</td>\n",
              "      <td>Fairfield</td>\n",
              "      <td>Southwestern Conn</td>\n",
              "      <td>DEP Western District</td>\n",
              "      <td>OLISP Coastal Area</td>\n",
              "    </tr>\n",
              "    <tr>\n",
              "      <th>165</th>\n",
              "      <td>-73.559037</td>\n",
              "      <td>41.105028</td>\n",
              "      <td>135</td>\n",
              "      <td>Stamford</td>\n",
              "      <td>38.5</td>\n",
              "      <td>37.3</td>\n",
              "      <td>1.2</td>\n",
              "      <td>Fairfield</td>\n",
              "      <td>Southwestern Conn</td>\n",
              "      <td>DEP Western District</td>\n",
              "      <td>OLISP Coastal Area</td>\n",
              "    </tr>\n",
              "    <tr>\n",
              "      <th>166</th>\n",
              "      <td>-73.422614</td>\n",
              "      <td>41.118148</td>\n",
              "      <td>103</td>\n",
              "      <td>Norwalk</td>\n",
              "      <td>27.7</td>\n",
              "      <td>23.0</td>\n",
              "      <td>4.7</td>\n",
              "      <td>Fairfield</td>\n",
              "      <td>Southwestern Conn</td>\n",
              "      <td>DEP Western District</td>\n",
              "      <td>OLISP Coastal Area</td>\n",
              "    </tr>\n",
              "    <tr>\n",
              "      <th>167</th>\n",
              "      <td>-73.638467</td>\n",
              "      <td>41.069082</td>\n",
              "      <td>57</td>\n",
              "      <td>Greenwich</td>\n",
              "      <td>50.6</td>\n",
              "      <td>47.3</td>\n",
              "      <td>3.3</td>\n",
              "      <td>Fairfield</td>\n",
              "      <td>Southwestern Conn</td>\n",
              "      <td>DEP Western District</td>\n",
              "      <td>OLISP Coastal Area</td>\n",
              "    </tr>\n",
              "    <tr>\n",
              "      <th>168</th>\n",
              "      <td>-73.482355</td>\n",
              "      <td>41.081146</td>\n",
              "      <td>35</td>\n",
              "      <td>Darien</td>\n",
              "      <td>13.7</td>\n",
              "      <td>12.9</td>\n",
              "      <td>0.8</td>\n",
              "      <td>Fairfield</td>\n",
              "      <td>Southwestern Conn</td>\n",
              "      <td>DEP Western District</td>\n",
              "      <td>OLISP Coastal Area</td>\n",
              "    </tr>\n",
              "  </tbody>\n",
              "</table>\n",
              "<p>169 rows × 11 columns</p>\n",
              "</div>"
            ],
            "text/plain": [
              "             X          Y  ...              DEP_DIST          COAST_AREA\n",
              "0   -73.425651  41.986019  ...  DEP Western District                 NaN\n",
              "1   -73.293569  42.022264  ...  DEP Western District                 NaN\n",
              "2   -73.196224  41.980145  ...  DEP Western District                 NaN\n",
              "3   -73.080811  42.001546  ...  DEP Western District                 NaN\n",
              "4   -72.948897  42.004293  ...  DEP Western District                 NaN\n",
              "..         ...        ...  ...                   ...                 ...\n",
              "164 -73.346495  41.145319  ...  DEP Western District  OLISP Coastal Area\n",
              "165 -73.559037  41.105028  ...  DEP Western District  OLISP Coastal Area\n",
              "166 -73.422614  41.118148  ...  DEP Western District  OLISP Coastal Area\n",
              "167 -73.638467  41.069082  ...  DEP Western District  OLISP Coastal Area\n",
              "168 -73.482355  41.081146  ...  DEP Western District  OLISP Coastal Area\n",
              "\n",
              "[169 rows x 11 columns]"
            ]
          },
          "metadata": {
            "tags": []
          },
          "execution_count": 87
        },
        {
          "output_type": "stream",
          "text": [
            "time: 2.38 s (started: 2021-03-19 14:52:09 +00:00)\n"
          ],
          "name": "stdout"
        }
      ]
    },
    {
      "cell_type": "code",
      "metadata": {
        "id": "gU8ZmxFUnk79",
        "colab": {
          "base_uri": "https://localhost:8080/"
        },
        "outputId": "35926be5-99a6-4201-d25f-26fd63d04ea3"
      },
      "source": [
        "data['COUNTY'].unique()"
      ],
      "execution_count": null,
      "outputs": [
        {
          "output_type": "execute_result",
          "data": {
            "text/plain": [
              "array(['Litchfield', 'Hartford', 'Tolland', 'Windham', 'New London',\n",
              "       'Fairfield', 'Middlesex', 'New Haven'], dtype=object)"
            ]
          },
          "metadata": {
            "tags": []
          },
          "execution_count": 88
        },
        {
          "output_type": "stream",
          "text": [
            "time: 5.76 ms (started: 2021-03-19 14:52:11 +00:00)\n"
          ],
          "name": "stdout"
        }
      ]
    },
    {
      "cell_type": "code",
      "metadata": {
        "id": "tChP0QOMxQN4",
        "colab": {
          "base_uri": "https://localhost:8080/"
        },
        "outputId": "05148ebc-57d8-4898-9056-ae8e948bde98"
      },
      "source": [
        "#Simplify to only 23 towns...\n",
        "df=data[data['COUNTY']=='Fairfield'] # get all the 23 towns in Fairfield County \n",
        "df.shape #check shape to verify df"
      ],
      "execution_count": null,
      "outputs": [
        {
          "output_type": "execute_result",
          "data": {
            "text/plain": [
              "(23, 11)"
            ]
          },
          "metadata": {
            "tags": []
          },
          "execution_count": 89
        },
        {
          "output_type": "stream",
          "text": [
            "time: 6.6 ms (started: 2021-03-19 14:52:11 +00:00)\n"
          ],
          "name": "stdout"
        }
      ]
    },
    {
      "cell_type": "code",
      "metadata": {
        "id": "mXPhBj4FpG8y",
        "colab": {
          "base_uri": "https://localhost:8080/"
        },
        "outputId": "ff5e8282-72b6-4ab0-989e-8377df3ce271"
      },
      "source": [
        "df.reset_index(inplace=True) #reset index"
      ],
      "execution_count": null,
      "outputs": [
        {
          "output_type": "stream",
          "text": [
            "time: 3.66 ms (started: 2021-03-19 14:52:11 +00:00)\n"
          ],
          "name": "stdout"
        }
      ]
    },
    {
      "cell_type": "code",
      "metadata": {
        "id": "q9X1fYOrmhzd",
        "colab": {
          "base_uri": "https://localhost:8080/",
          "height": 559
        },
        "outputId": "411718ad-7001-4969-f541-661714cdb6c3"
      },
      "source": [
        "#plotting the towns on an interactive map\n",
        "fig = px.scatter_mapbox(df, lat=\"Y\", lon=\"X\", color=\"TOWN\",zoom=8.25) #easy format to draw maps on plotly\n",
        "fig.update_layout(mapbox_style=\"carto-darkmatter\",title=\"TOWN MAP\")\n",
        "config = dict({'scrollZoom': False}) #stopped zoom config for standard view capture\n",
        "fig.show(config=config)"
      ],
      "execution_count": null,
      "outputs": [
        {
          "output_type": "display_data",
          "data": {
            "text/html": [
              "<html>\n",
              "<head><meta charset=\"utf-8\" /></head>\n",
              "<body>\n",
              "    <div>\n",
              "            <script src=\"https://cdnjs.cloudflare.com/ajax/libs/mathjax/2.7.5/MathJax.js?config=TeX-AMS-MML_SVG\"></script><script type=\"text/javascript\">if (window.MathJax) {MathJax.Hub.Config({SVG: {font: \"STIX-Web\"}});}</script>\n",
              "                <script type=\"text/javascript\">window.PlotlyConfig = {MathJaxConfig: 'local'};</script>\n",
              "        <script src=\"https://cdn.plot.ly/plotly-latest.min.js\"></script>    \n",
              "            <div id=\"91e26e7c-a992-4f33-86a3-4795c125356d\" class=\"plotly-graph-div\" style=\"height:525px; width:100%;\"></div>\n",
              "            <script type=\"text/javascript\">\n",
              "                \n",
              "                    window.PLOTLYENV=window.PLOTLYENV || {};\n",
              "                    \n",
              "                if (document.getElementById(\"91e26e7c-a992-4f33-86a3-4795c125356d\")) {\n",
              "                    Plotly.newPlot(\n",
              "                        '91e26e7c-a992-4f33-86a3-4795c125356d',\n",
              "                        [{\"hoverlabel\": {\"namelength\": 0}, \"hovertemplate\": \"TOWN=Sherman<br>Y=%{lat}<br>X=%{lon}\", \"lat\": [41.5800698592504], \"legendgroup\": \"TOWN=Sherman\", \"lon\": [-73.49918170807399], \"marker\": {\"color\": \"#636efa\"}, \"mode\": \"markers\", \"name\": \"TOWN=Sherman\", \"showlegend\": true, \"subplot\": \"mapbox\", \"type\": \"scattermapbox\"}, {\"hoverlabel\": {\"namelength\": 0}, \"hovertemplate\": \"TOWN=New Fairfield<br>Y=%{lat}<br>X=%{lon}\", \"lat\": [41.487803860917], \"legendgroup\": \"TOWN=New Fairfield\", \"lon\": [-73.48828101582191], \"marker\": {\"color\": \"#EF553B\"}, \"mode\": \"markers\", \"name\": \"TOWN=New Fairfield\", \"showlegend\": true, \"subplot\": \"mapbox\", \"type\": \"scattermapbox\"}, {\"hoverlabel\": {\"namelength\": 0}, \"hovertemplate\": \"TOWN=Brookfield<br>Y=%{lat}<br>X=%{lon}\", \"lat\": [41.46752965155571], \"legendgroup\": \"TOWN=Brookfield\", \"lon\": [-73.3923244597689], \"marker\": {\"color\": \"#00cc96\"}, \"mode\": \"markers\", \"name\": \"TOWN=Brookfield\", \"showlegend\": true, \"subplot\": \"mapbox\", \"type\": \"scattermapbox\"}, {\"hoverlabel\": {\"namelength\": 0}, \"hovertemplate\": \"TOWN=Newtown<br>Y=%{lat}<br>X=%{lon}\", \"lat\": [41.398822983464605], \"legendgroup\": \"TOWN=Newtown\", \"lon\": [-73.29282774457009], \"marker\": {\"color\": \"#ab63fa\"}, \"mode\": \"markers\", \"name\": \"TOWN=Newtown\", \"showlegend\": true, \"subplot\": \"mapbox\", \"type\": \"scattermapbox\"}, {\"hoverlabel\": {\"namelength\": 0}, \"hovertemplate\": \"TOWN=Danbury<br>Y=%{lat}<br>X=%{lon}\", \"lat\": [41.4013640556389], \"legendgroup\": \"TOWN=Danbury\", \"lon\": [-73.4705270599115], \"marker\": {\"color\": \"#FFA15A\"}, \"mode\": \"markers\", \"name\": \"TOWN=Danbury\", \"showlegend\": true, \"subplot\": \"mapbox\", \"type\": \"scattermapbox\"}, {\"hoverlabel\": {\"namelength\": 0}, \"hovertemplate\": \"TOWN=Bethel<br>Y=%{lat}<br>X=%{lon}\", \"lat\": [41.374801560580295], \"legendgroup\": \"TOWN=Bethel\", \"lon\": [-73.39265624011591], \"marker\": {\"color\": \"#19d3f3\"}, \"mode\": \"markers\", \"name\": \"TOWN=Bethel\", \"showlegend\": true, \"subplot\": \"mapbox\", \"type\": \"scattermapbox\"}, {\"hoverlabel\": {\"namelength\": 0}, \"hovertemplate\": \"TOWN=Monroe<br>Y=%{lat}<br>X=%{lon}\", \"lat\": [41.3379344444351], \"legendgroup\": \"TOWN=Monroe\", \"lon\": [-73.2249189440438], \"marker\": {\"color\": \"#FF6692\"}, \"mode\": \"markers\", \"name\": \"TOWN=Monroe\", \"showlegend\": true, \"subplot\": \"mapbox\", \"type\": \"scattermapbox\"}, {\"hoverlabel\": {\"namelength\": 0}, \"hovertemplate\": \"TOWN=Ridgefield<br>Y=%{lat}<br>X=%{lon}\", \"lat\": [41.3061539956989], \"legendgroup\": \"TOWN=Ridgefield\", \"lon\": [-73.50188133191], \"marker\": {\"color\": \"#B6E880\"}, \"mode\": \"markers\", \"name\": \"TOWN=Ridgefield\", \"showlegend\": true, \"subplot\": \"mapbox\", \"type\": \"scattermapbox\"}, {\"hoverlabel\": {\"namelength\": 0}, \"hovertemplate\": \"TOWN=Shelton<br>Y=%{lat}<br>X=%{lon}\", \"lat\": [41.3060975143692], \"legendgroup\": \"TOWN=Shelton\", \"lon\": [-73.13822123369779], \"marker\": {\"color\": \"#FF97FF\"}, \"mode\": \"markers\", \"name\": \"TOWN=Shelton\", \"showlegend\": true, \"subplot\": \"mapbox\", \"type\": \"scattermapbox\"}, {\"hoverlabel\": {\"namelength\": 0}, \"hovertemplate\": \"TOWN=Redding<br>Y=%{lat}<br>X=%{lon}\", \"lat\": [41.305021333867295], \"legendgroup\": \"TOWN=Redding\", \"lon\": [-73.3913916801082], \"marker\": {\"color\": \"#FECB52\"}, \"mode\": \"markers\", \"name\": \"TOWN=Redding\", \"showlegend\": true, \"subplot\": \"mapbox\", \"type\": \"scattermapbox\"}, {\"hoverlabel\": {\"namelength\": 0}, \"hovertemplate\": \"TOWN=Easton<br>Y=%{lat}<br>X=%{lon}\", \"lat\": [41.2648859129813], \"legendgroup\": \"TOWN=Easton\", \"lon\": [-73.30008424693729], \"marker\": {\"color\": \"#636efa\"}, \"mode\": \"markers\", \"name\": \"TOWN=Easton\", \"showlegend\": true, \"subplot\": \"mapbox\", \"type\": \"scattermapbox\"}, {\"hoverlabel\": {\"namelength\": 0}, \"hovertemplate\": \"TOWN=Trumbull<br>Y=%{lat}<br>X=%{lon}\", \"lat\": [41.260173481741205], \"legendgroup\": \"TOWN=Trumbull\", \"lon\": [-73.2084247211173], \"marker\": {\"color\": \"#EF553B\"}, \"mode\": \"markers\", \"name\": \"TOWN=Trumbull\", \"showlegend\": true, \"subplot\": \"mapbox\", \"type\": \"scattermapbox\"}, {\"hoverlabel\": {\"namelength\": 0}, \"hovertemplate\": \"TOWN=Weston<br>Y=%{lat}<br>X=%{lon}\", \"lat\": [41.228433019273794], \"legendgroup\": \"TOWN=Weston\", \"lon\": [-73.37256725904192], \"marker\": {\"color\": \"#00cc96\"}, \"mode\": \"markers\", \"name\": \"TOWN=Weston\", \"showlegend\": true, \"subplot\": \"mapbox\", \"type\": \"scattermapbox\"}, {\"hoverlabel\": {\"namelength\": 0}, \"hovertemplate\": \"TOWN=Stratford<br>Y=%{lat}<br>X=%{lon}\", \"lat\": [41.2078673215556], \"legendgroup\": \"TOWN=Stratford\", \"lon\": [-73.13040399903791], \"marker\": {\"color\": \"#ab63fa\"}, \"mode\": \"markers\", \"name\": \"TOWN=Stratford\", \"showlegend\": true, \"subplot\": \"mapbox\", \"type\": \"scattermapbox\"}, {\"hoverlabel\": {\"namelength\": 0}, \"hovertemplate\": \"TOWN=Wilton<br>Y=%{lat}<br>X=%{lon}\", \"lat\": [41.2069319946664], \"legendgroup\": \"TOWN=Wilton\", \"lon\": [-73.4398877871749], \"marker\": {\"color\": \"#FFA15A\"}, \"mode\": \"markers\", \"name\": \"TOWN=Wilton\", \"showlegend\": true, \"subplot\": \"mapbox\", \"type\": \"scattermapbox\"}, {\"hoverlabel\": {\"namelength\": 0}, \"hovertemplate\": \"TOWN=Fairfield<br>Y=%{lat}<br>X=%{lon}\", \"lat\": [41.177753851639295], \"legendgroup\": \"TOWN=Fairfield\", \"lon\": [-73.273260725136], \"marker\": {\"color\": \"#19d3f3\"}, \"mode\": \"markers\", \"name\": \"TOWN=Fairfield\", \"showlegend\": true, \"subplot\": \"mapbox\", \"type\": \"scattermapbox\"}, {\"hoverlabel\": {\"namelength\": 0}, \"hovertemplate\": \"TOWN=Bridgeport<br>Y=%{lat}<br>X=%{lon}\", \"lat\": [41.192561537954894], \"legendgroup\": \"TOWN=Bridgeport\", \"lon\": [-73.1959867493456], \"marker\": {\"color\": \"#FF6692\"}, \"mode\": \"markers\", \"name\": \"TOWN=Bridgeport\", \"showlegend\": true, \"subplot\": \"mapbox\", \"type\": \"scattermapbox\"}, {\"hoverlabel\": {\"namelength\": 0}, \"hovertemplate\": \"TOWN=New Canaan<br>Y=%{lat}<br>X=%{lon}\", \"lat\": [41.159119368569705], \"legendgroup\": \"TOWN=New Canaan\", \"lon\": [-73.49922395167201], \"marker\": {\"color\": \"#B6E880\"}, \"mode\": \"markers\", \"name\": \"TOWN=New Canaan\", \"showlegend\": true, \"subplot\": \"mapbox\", \"type\": \"scattermapbox\"}, {\"hoverlabel\": {\"namelength\": 0}, \"hovertemplate\": \"TOWN=Westport<br>Y=%{lat}<br>X=%{lon}\", \"lat\": [41.145318674426996], \"legendgroup\": \"TOWN=Westport\", \"lon\": [-73.34649487600929], \"marker\": {\"color\": \"#FF97FF\"}, \"mode\": \"markers\", \"name\": \"TOWN=Westport\", \"showlegend\": true, \"subplot\": \"mapbox\", \"type\": \"scattermapbox\"}, {\"hoverlabel\": {\"namelength\": 0}, \"hovertemplate\": \"TOWN=Stamford<br>Y=%{lat}<br>X=%{lon}\", \"lat\": [41.1050279961402], \"legendgroup\": \"TOWN=Stamford\", \"lon\": [-73.5590370224089], \"marker\": {\"color\": \"#FECB52\"}, \"mode\": \"markers\", \"name\": \"TOWN=Stamford\", \"showlegend\": true, \"subplot\": \"mapbox\", \"type\": \"scattermapbox\"}, {\"hoverlabel\": {\"namelength\": 0}, \"hovertemplate\": \"TOWN=Norwalk<br>Y=%{lat}<br>X=%{lon}\", \"lat\": [41.1181478024976], \"legendgroup\": \"TOWN=Norwalk\", \"lon\": [-73.422614497081], \"marker\": {\"color\": \"#636efa\"}, \"mode\": \"markers\", \"name\": \"TOWN=Norwalk\", \"showlegend\": true, \"subplot\": \"mapbox\", \"type\": \"scattermapbox\"}, {\"hoverlabel\": {\"namelength\": 0}, \"hovertemplate\": \"TOWN=Greenwich<br>Y=%{lat}<br>X=%{lon}\", \"lat\": [41.0690824769707], \"legendgroup\": \"TOWN=Greenwich\", \"lon\": [-73.6384674457496], \"marker\": {\"color\": \"#EF553B\"}, \"mode\": \"markers\", \"name\": \"TOWN=Greenwich\", \"showlegend\": true, \"subplot\": \"mapbox\", \"type\": \"scattermapbox\"}, {\"hoverlabel\": {\"namelength\": 0}, \"hovertemplate\": \"TOWN=Darien<br>Y=%{lat}<br>X=%{lon}\", \"lat\": [41.0811456463311], \"legendgroup\": \"TOWN=Darien\", \"lon\": [-73.4823550054125], \"marker\": {\"color\": \"#00cc96\"}, \"mode\": \"markers\", \"name\": \"TOWN=Darien\", \"showlegend\": true, \"subplot\": \"mapbox\", \"type\": \"scattermapbox\"}],\n",
              "                        {\"legend\": {\"tracegroupgap\": 0}, \"mapbox\": {\"center\": {\"lat\": 41.26878471063158, \"lon\": -73.37656607409332}, \"domain\": {\"x\": [0.0, 1.0], \"y\": [0.0, 1.0]}, \"style\": \"carto-darkmatter\", \"zoom\": 8.25}, \"margin\": {\"t\": 60}, \"template\": {\"data\": {\"bar\": [{\"error_x\": {\"color\": \"#2a3f5f\"}, \"error_y\": {\"color\": \"#2a3f5f\"}, \"marker\": {\"line\": {\"color\": \"#E5ECF6\", \"width\": 0.5}}, \"type\": \"bar\"}], \"barpolar\": [{\"marker\": {\"line\": {\"color\": \"#E5ECF6\", \"width\": 0.5}}, \"type\": \"barpolar\"}], \"carpet\": [{\"aaxis\": {\"endlinecolor\": \"#2a3f5f\", \"gridcolor\": \"white\", \"linecolor\": \"white\", \"minorgridcolor\": \"white\", \"startlinecolor\": \"#2a3f5f\"}, \"baxis\": {\"endlinecolor\": \"#2a3f5f\", \"gridcolor\": \"white\", \"linecolor\": \"white\", \"minorgridcolor\": \"white\", \"startlinecolor\": \"#2a3f5f\"}, \"type\": \"carpet\"}], \"choropleth\": [{\"colorbar\": {\"outlinewidth\": 0, \"ticks\": \"\"}, \"type\": \"choropleth\"}], \"contour\": [{\"colorbar\": {\"outlinewidth\": 0, \"ticks\": \"\"}, \"colorscale\": [[0.0, \"#0d0887\"], [0.1111111111111111, \"#46039f\"], [0.2222222222222222, \"#7201a8\"], [0.3333333333333333, \"#9c179e\"], [0.4444444444444444, \"#bd3786\"], [0.5555555555555556, \"#d8576b\"], [0.6666666666666666, \"#ed7953\"], [0.7777777777777778, \"#fb9f3a\"], [0.8888888888888888, \"#fdca26\"], [1.0, \"#f0f921\"]], \"type\": \"contour\"}], \"contourcarpet\": [{\"colorbar\": {\"outlinewidth\": 0, \"ticks\": \"\"}, \"type\": \"contourcarpet\"}], \"heatmap\": [{\"colorbar\": {\"outlinewidth\": 0, \"ticks\": \"\"}, \"colorscale\": [[0.0, \"#0d0887\"], [0.1111111111111111, \"#46039f\"], [0.2222222222222222, \"#7201a8\"], [0.3333333333333333, \"#9c179e\"], [0.4444444444444444, \"#bd3786\"], [0.5555555555555556, \"#d8576b\"], [0.6666666666666666, \"#ed7953\"], [0.7777777777777778, \"#fb9f3a\"], [0.8888888888888888, \"#fdca26\"], [1.0, \"#f0f921\"]], \"type\": \"heatmap\"}], \"heatmapgl\": [{\"colorbar\": {\"outlinewidth\": 0, \"ticks\": \"\"}, \"colorscale\": [[0.0, \"#0d0887\"], [0.1111111111111111, \"#46039f\"], [0.2222222222222222, \"#7201a8\"], [0.3333333333333333, \"#9c179e\"], [0.4444444444444444, \"#bd3786\"], [0.5555555555555556, \"#d8576b\"], [0.6666666666666666, \"#ed7953\"], [0.7777777777777778, \"#fb9f3a\"], [0.8888888888888888, \"#fdca26\"], [1.0, \"#f0f921\"]], \"type\": \"heatmapgl\"}], \"histogram\": [{\"marker\": {\"colorbar\": {\"outlinewidth\": 0, \"ticks\": \"\"}}, \"type\": \"histogram\"}], \"histogram2d\": [{\"colorbar\": {\"outlinewidth\": 0, \"ticks\": \"\"}, \"colorscale\": [[0.0, \"#0d0887\"], [0.1111111111111111, \"#46039f\"], [0.2222222222222222, \"#7201a8\"], [0.3333333333333333, \"#9c179e\"], [0.4444444444444444, \"#bd3786\"], [0.5555555555555556, \"#d8576b\"], [0.6666666666666666, \"#ed7953\"], [0.7777777777777778, \"#fb9f3a\"], [0.8888888888888888, \"#fdca26\"], [1.0, \"#f0f921\"]], \"type\": \"histogram2d\"}], \"histogram2dcontour\": [{\"colorbar\": {\"outlinewidth\": 0, \"ticks\": \"\"}, \"colorscale\": [[0.0, \"#0d0887\"], [0.1111111111111111, \"#46039f\"], [0.2222222222222222, \"#7201a8\"], [0.3333333333333333, \"#9c179e\"], [0.4444444444444444, \"#bd3786\"], [0.5555555555555556, \"#d8576b\"], [0.6666666666666666, \"#ed7953\"], [0.7777777777777778, \"#fb9f3a\"], [0.8888888888888888, \"#fdca26\"], [1.0, \"#f0f921\"]], \"type\": \"histogram2dcontour\"}], \"mesh3d\": [{\"colorbar\": {\"outlinewidth\": 0, \"ticks\": \"\"}, \"type\": \"mesh3d\"}], \"parcoords\": [{\"line\": {\"colorbar\": {\"outlinewidth\": 0, \"ticks\": \"\"}}, \"type\": \"parcoords\"}], \"pie\": [{\"automargin\": true, \"type\": \"pie\"}], \"scatter\": [{\"marker\": {\"colorbar\": {\"outlinewidth\": 0, \"ticks\": \"\"}}, \"type\": \"scatter\"}], \"scatter3d\": [{\"line\": {\"colorbar\": {\"outlinewidth\": 0, \"ticks\": \"\"}}, \"marker\": {\"colorbar\": {\"outlinewidth\": 0, \"ticks\": \"\"}}, \"type\": \"scatter3d\"}], \"scattercarpet\": [{\"marker\": {\"colorbar\": {\"outlinewidth\": 0, \"ticks\": \"\"}}, \"type\": \"scattercarpet\"}], \"scattergeo\": [{\"marker\": {\"colorbar\": {\"outlinewidth\": 0, \"ticks\": \"\"}}, \"type\": \"scattergeo\"}], \"scattergl\": [{\"marker\": {\"colorbar\": {\"outlinewidth\": 0, \"ticks\": \"\"}}, \"type\": \"scattergl\"}], \"scattermapbox\": [{\"marker\": {\"colorbar\": {\"outlinewidth\": 0, \"ticks\": \"\"}}, \"type\": \"scattermapbox\"}], \"scatterpolar\": [{\"marker\": {\"colorbar\": {\"outlinewidth\": 0, \"ticks\": \"\"}}, \"type\": \"scatterpolar\"}], \"scatterpolargl\": [{\"marker\": {\"colorbar\": {\"outlinewidth\": 0, \"ticks\": \"\"}}, \"type\": \"scatterpolargl\"}], \"scatterternary\": [{\"marker\": {\"colorbar\": {\"outlinewidth\": 0, \"ticks\": \"\"}}, \"type\": \"scatterternary\"}], \"surface\": [{\"colorbar\": {\"outlinewidth\": 0, \"ticks\": \"\"}, \"colorscale\": [[0.0, \"#0d0887\"], [0.1111111111111111, \"#46039f\"], [0.2222222222222222, \"#7201a8\"], [0.3333333333333333, \"#9c179e\"], [0.4444444444444444, \"#bd3786\"], [0.5555555555555556, \"#d8576b\"], [0.6666666666666666, \"#ed7953\"], [0.7777777777777778, \"#fb9f3a\"], [0.8888888888888888, \"#fdca26\"], [1.0, \"#f0f921\"]], \"type\": \"surface\"}], \"table\": [{\"cells\": {\"fill\": {\"color\": \"#EBF0F8\"}, \"line\": {\"color\": \"white\"}}, \"header\": {\"fill\": {\"color\": \"#C8D4E3\"}, \"line\": {\"color\": \"white\"}}, \"type\": \"table\"}]}, \"layout\": {\"annotationdefaults\": {\"arrowcolor\": \"#2a3f5f\", \"arrowhead\": 0, \"arrowwidth\": 1}, \"coloraxis\": {\"colorbar\": {\"outlinewidth\": 0, \"ticks\": \"\"}}, \"colorscale\": {\"diverging\": [[0, \"#8e0152\"], [0.1, \"#c51b7d\"], [0.2, \"#de77ae\"], [0.3, \"#f1b6da\"], [0.4, \"#fde0ef\"], [0.5, \"#f7f7f7\"], [0.6, \"#e6f5d0\"], [0.7, \"#b8e186\"], [0.8, \"#7fbc41\"], [0.9, \"#4d9221\"], [1, \"#276419\"]], \"sequential\": [[0.0, \"#0d0887\"], [0.1111111111111111, \"#46039f\"], [0.2222222222222222, \"#7201a8\"], [0.3333333333333333, \"#9c179e\"], [0.4444444444444444, \"#bd3786\"], [0.5555555555555556, \"#d8576b\"], [0.6666666666666666, \"#ed7953\"], [0.7777777777777778, \"#fb9f3a\"], [0.8888888888888888, \"#fdca26\"], [1.0, \"#f0f921\"]], \"sequentialminus\": [[0.0, \"#0d0887\"], [0.1111111111111111, \"#46039f\"], [0.2222222222222222, \"#7201a8\"], [0.3333333333333333, \"#9c179e\"], [0.4444444444444444, \"#bd3786\"], [0.5555555555555556, \"#d8576b\"], [0.6666666666666666, \"#ed7953\"], [0.7777777777777778, \"#fb9f3a\"], [0.8888888888888888, \"#fdca26\"], [1.0, \"#f0f921\"]]}, \"colorway\": [\"#636efa\", \"#EF553B\", \"#00cc96\", \"#ab63fa\", \"#FFA15A\", \"#19d3f3\", \"#FF6692\", \"#B6E880\", \"#FF97FF\", \"#FECB52\"], \"font\": {\"color\": \"#2a3f5f\"}, \"geo\": {\"bgcolor\": \"white\", \"lakecolor\": \"white\", \"landcolor\": \"#E5ECF6\", \"showlakes\": true, \"showland\": true, \"subunitcolor\": \"white\"}, \"hoverlabel\": {\"align\": \"left\"}, \"hovermode\": \"closest\", \"mapbox\": {\"style\": \"light\"}, \"paper_bgcolor\": \"white\", \"plot_bgcolor\": \"#E5ECF6\", \"polar\": {\"angularaxis\": {\"gridcolor\": \"white\", \"linecolor\": \"white\", \"ticks\": \"\"}, \"bgcolor\": \"#E5ECF6\", \"radialaxis\": {\"gridcolor\": \"white\", \"linecolor\": \"white\", \"ticks\": \"\"}}, \"scene\": {\"xaxis\": {\"backgroundcolor\": \"#E5ECF6\", \"gridcolor\": \"white\", \"gridwidth\": 2, \"linecolor\": \"white\", \"showbackground\": true, \"ticks\": \"\", \"zerolinecolor\": \"white\"}, \"yaxis\": {\"backgroundcolor\": \"#E5ECF6\", \"gridcolor\": \"white\", \"gridwidth\": 2, \"linecolor\": \"white\", \"showbackground\": true, \"ticks\": \"\", \"zerolinecolor\": \"white\"}, \"zaxis\": {\"backgroundcolor\": \"#E5ECF6\", \"gridcolor\": \"white\", \"gridwidth\": 2, \"linecolor\": \"white\", \"showbackground\": true, \"ticks\": \"\", \"zerolinecolor\": \"white\"}}, \"shapedefaults\": {\"line\": {\"color\": \"#2a3f5f\"}}, \"ternary\": {\"aaxis\": {\"gridcolor\": \"white\", \"linecolor\": \"white\", \"ticks\": \"\"}, \"baxis\": {\"gridcolor\": \"white\", \"linecolor\": \"white\", \"ticks\": \"\"}, \"bgcolor\": \"#E5ECF6\", \"caxis\": {\"gridcolor\": \"white\", \"linecolor\": \"white\", \"ticks\": \"\"}}, \"title\": {\"x\": 0.05}, \"xaxis\": {\"automargin\": true, \"gridcolor\": \"white\", \"linecolor\": \"white\", \"ticks\": \"\", \"title\": {\"standoff\": 15}, \"zerolinecolor\": \"white\", \"zerolinewidth\": 2}, \"yaxis\": {\"automargin\": true, \"gridcolor\": \"white\", \"linecolor\": \"white\", \"ticks\": \"\", \"title\": {\"standoff\": 15}, \"zerolinecolor\": \"white\", \"zerolinewidth\": 2}}}, \"title\": {\"text\": \"TOWN MAP\"}},\n",
              "                        {\"scrollZoom\": false, \"responsive\": true}\n",
              "                    ).then(function(){\n",
              "                            \n",
              "var gd = document.getElementById('91e26e7c-a992-4f33-86a3-4795c125356d');\n",
              "var x = new MutationObserver(function (mutations, observer) {{\n",
              "        var display = window.getComputedStyle(gd).display;\n",
              "        if (!display || display === 'none') {{\n",
              "            console.log([gd, 'removed!']);\n",
              "            Plotly.purge(gd);\n",
              "            observer.disconnect();\n",
              "        }}\n",
              "}});\n",
              "\n",
              "// Listen for the removal of the full notebook cells\n",
              "var notebookContainer = gd.closest('#notebook-container');\n",
              "if (notebookContainer) {{\n",
              "    x.observe(notebookContainer, {childList: true});\n",
              "}}\n",
              "\n",
              "// Listen for the clearing of the current output cell\n",
              "var outputEl = gd.closest('.output');\n",
              "if (outputEl) {{\n",
              "    x.observe(outputEl, {childList: true});\n",
              "}}\n",
              "\n",
              "                        })\n",
              "                };\n",
              "                \n",
              "            </script>\n",
              "        </div>\n",
              "</body>\n",
              "</html>"
            ]
          },
          "metadata": {
            "tags": []
          }
        },
        {
          "output_type": "stream",
          "text": [
            "time: 687 ms (started: 2021-03-19 14:52:11 +00:00)\n"
          ],
          "name": "stdout"
        }
      ]
    },
    {
      "cell_type": "code",
      "metadata": {
        "id": "8pPw4Ng9lXdA",
        "colab": {
          "base_uri": "https://localhost:8080/"
        },
        "outputId": "2b221b30-4396-4791-8ecb-61d9a95879e5"
      },
      "source": [
        "# X-longitude,Y-latitude \n",
        "geogTable = df[['TOWN','X', 'Y']] \n",
        "geogTable #verify geogTable"
      ],
      "execution_count": null,
      "outputs": [
        {
          "output_type": "execute_result",
          "data": {
            "text/html": [
              "<div>\n",
              "<style scoped>\n",
              "    .dataframe tbody tr th:only-of-type {\n",
              "        vertical-align: middle;\n",
              "    }\n",
              "\n",
              "    .dataframe tbody tr th {\n",
              "        vertical-align: top;\n",
              "    }\n",
              "\n",
              "    .dataframe thead th {\n",
              "        text-align: right;\n",
              "    }\n",
              "</style>\n",
              "<table border=\"1\" class=\"dataframe\">\n",
              "  <thead>\n",
              "    <tr style=\"text-align: right;\">\n",
              "      <th></th>\n",
              "      <th>TOWN</th>\n",
              "      <th>X</th>\n",
              "      <th>Y</th>\n",
              "    </tr>\n",
              "  </thead>\n",
              "  <tbody>\n",
              "    <tr>\n",
              "      <th>0</th>\n",
              "      <td>Sherman</td>\n",
              "      <td>-73.499182</td>\n",
              "      <td>41.580070</td>\n",
              "    </tr>\n",
              "    <tr>\n",
              "      <th>1</th>\n",
              "      <td>New Fairfield</td>\n",
              "      <td>-73.488281</td>\n",
              "      <td>41.487804</td>\n",
              "    </tr>\n",
              "    <tr>\n",
              "      <th>2</th>\n",
              "      <td>Brookfield</td>\n",
              "      <td>-73.392324</td>\n",
              "      <td>41.467530</td>\n",
              "    </tr>\n",
              "    <tr>\n",
              "      <th>3</th>\n",
              "      <td>Newtown</td>\n",
              "      <td>-73.292828</td>\n",
              "      <td>41.398823</td>\n",
              "    </tr>\n",
              "    <tr>\n",
              "      <th>4</th>\n",
              "      <td>Danbury</td>\n",
              "      <td>-73.470527</td>\n",
              "      <td>41.401364</td>\n",
              "    </tr>\n",
              "    <tr>\n",
              "      <th>5</th>\n",
              "      <td>Bethel</td>\n",
              "      <td>-73.392656</td>\n",
              "      <td>41.374802</td>\n",
              "    </tr>\n",
              "    <tr>\n",
              "      <th>6</th>\n",
              "      <td>Monroe</td>\n",
              "      <td>-73.224919</td>\n",
              "      <td>41.337934</td>\n",
              "    </tr>\n",
              "    <tr>\n",
              "      <th>7</th>\n",
              "      <td>Ridgefield</td>\n",
              "      <td>-73.501881</td>\n",
              "      <td>41.306154</td>\n",
              "    </tr>\n",
              "    <tr>\n",
              "      <th>8</th>\n",
              "      <td>Shelton</td>\n",
              "      <td>-73.138221</td>\n",
              "      <td>41.306098</td>\n",
              "    </tr>\n",
              "    <tr>\n",
              "      <th>9</th>\n",
              "      <td>Redding</td>\n",
              "      <td>-73.391392</td>\n",
              "      <td>41.305021</td>\n",
              "    </tr>\n",
              "    <tr>\n",
              "      <th>10</th>\n",
              "      <td>Easton</td>\n",
              "      <td>-73.300084</td>\n",
              "      <td>41.264886</td>\n",
              "    </tr>\n",
              "    <tr>\n",
              "      <th>11</th>\n",
              "      <td>Trumbull</td>\n",
              "      <td>-73.208425</td>\n",
              "      <td>41.260173</td>\n",
              "    </tr>\n",
              "    <tr>\n",
              "      <th>12</th>\n",
              "      <td>Weston</td>\n",
              "      <td>-73.372567</td>\n",
              "      <td>41.228433</td>\n",
              "    </tr>\n",
              "    <tr>\n",
              "      <th>13</th>\n",
              "      <td>Stratford</td>\n",
              "      <td>-73.130404</td>\n",
              "      <td>41.207867</td>\n",
              "    </tr>\n",
              "    <tr>\n",
              "      <th>14</th>\n",
              "      <td>Wilton</td>\n",
              "      <td>-73.439888</td>\n",
              "      <td>41.206932</td>\n",
              "    </tr>\n",
              "    <tr>\n",
              "      <th>15</th>\n",
              "      <td>Fairfield</td>\n",
              "      <td>-73.273261</td>\n",
              "      <td>41.177754</td>\n",
              "    </tr>\n",
              "    <tr>\n",
              "      <th>16</th>\n",
              "      <td>Bridgeport</td>\n",
              "      <td>-73.195987</td>\n",
              "      <td>41.192562</td>\n",
              "    </tr>\n",
              "    <tr>\n",
              "      <th>17</th>\n",
              "      <td>New Canaan</td>\n",
              "      <td>-73.499224</td>\n",
              "      <td>41.159119</td>\n",
              "    </tr>\n",
              "    <tr>\n",
              "      <th>18</th>\n",
              "      <td>Westport</td>\n",
              "      <td>-73.346495</td>\n",
              "      <td>41.145319</td>\n",
              "    </tr>\n",
              "    <tr>\n",
              "      <th>19</th>\n",
              "      <td>Stamford</td>\n",
              "      <td>-73.559037</td>\n",
              "      <td>41.105028</td>\n",
              "    </tr>\n",
              "    <tr>\n",
              "      <th>20</th>\n",
              "      <td>Norwalk</td>\n",
              "      <td>-73.422614</td>\n",
              "      <td>41.118148</td>\n",
              "    </tr>\n",
              "    <tr>\n",
              "      <th>21</th>\n",
              "      <td>Greenwich</td>\n",
              "      <td>-73.638467</td>\n",
              "      <td>41.069082</td>\n",
              "    </tr>\n",
              "    <tr>\n",
              "      <th>22</th>\n",
              "      <td>Darien</td>\n",
              "      <td>-73.482355</td>\n",
              "      <td>41.081146</td>\n",
              "    </tr>\n",
              "  </tbody>\n",
              "</table>\n",
              "</div>"
            ],
            "text/plain": [
              "             TOWN          X          Y\n",
              "0         Sherman -73.499182  41.580070\n",
              "1   New Fairfield -73.488281  41.487804\n",
              "2      Brookfield -73.392324  41.467530\n",
              "3         Newtown -73.292828  41.398823\n",
              "4         Danbury -73.470527  41.401364\n",
              "5          Bethel -73.392656  41.374802\n",
              "6          Monroe -73.224919  41.337934\n",
              "7      Ridgefield -73.501881  41.306154\n",
              "8         Shelton -73.138221  41.306098\n",
              "9         Redding -73.391392  41.305021\n",
              "10         Easton -73.300084  41.264886\n",
              "11       Trumbull -73.208425  41.260173\n",
              "12         Weston -73.372567  41.228433\n",
              "13      Stratford -73.130404  41.207867\n",
              "14         Wilton -73.439888  41.206932\n",
              "15      Fairfield -73.273261  41.177754\n",
              "16     Bridgeport -73.195987  41.192562\n",
              "17     New Canaan -73.499224  41.159119\n",
              "18       Westport -73.346495  41.145319\n",
              "19       Stamford -73.559037  41.105028\n",
              "20        Norwalk -73.422614  41.118148\n",
              "21      Greenwich -73.638467  41.069082\n",
              "22         Darien -73.482355  41.081146"
            ]
          },
          "metadata": {
            "tags": []
          },
          "execution_count": 92
        },
        {
          "output_type": "stream",
          "text": [
            "time: 24 ms (started: 2021-03-19 14:52:12 +00:00)\n"
          ],
          "name": "stdout"
        }
      ]
    },
    {
      "cell_type": "code",
      "metadata": {
        "id": "CpLcxr36mdL-",
        "colab": {
          "base_uri": "https://localhost:8080/"
        },
        "outputId": "7f5340bb-6d38-40cc-bb01-b8db2b02699e"
      },
      "source": [
        "#Make a back-up of the original XY data...\n",
        "geogTable_orig = geogTable"
      ],
      "execution_count": null,
      "outputs": [
        {
          "output_type": "stream",
          "text": [
            "time: 1.55 ms (started: 2021-03-19 14:52:12 +00:00)\n"
          ],
          "name": "stdout"
        }
      ]
    },
    {
      "cell_type": "code",
      "metadata": {
        "id": "mwKif3Nsnop0",
        "colab": {
          "base_uri": "https://localhost:8080/"
        },
        "outputId": "2a4969bd-69dc-4ac1-84ec-8a92df6c1b1e"
      },
      "source": [
        "#2D map of the cities...\n",
        "geogTable.plot.scatter(x='X', y='Y') #x=long,Y=lat here\n",
        "plt.show()"
      ],
      "execution_count": null,
      "outputs": [
        {
          "output_type": "display_data",
          "data": {
            "image/png": "[encoded data removed]",
            "text/plain": [
              "<Figure size 432x288 with 1 Axes>"
            ]
          },
          "metadata": {
            "tags": [],
            "needs_background": "light"
          }
        },
        {
          "output_type": "stream",
          "text": [
            "time: 166 ms (started: 2021-03-19 14:52:12 +00:00)\n"
          ],
          "name": "stdout"
        }
      ]
    },
    {
      "cell_type": "code",
      "metadata": {
        "id": "2Tg7_2A7xMGb",
        "colab": {
          "base_uri": "https://localhost:8080/"
        },
        "outputId": "4be72740-e772-4559-d0f2-317457c2a60d"
      },
      "source": [
        "# got the same result!\n",
        "# you can just call this df and reference it below for data\n",
        "geogDist=np.round(manhattan_distances(geogTable[['X', 'Y']])* 6371000/1000) # multiply by Earth radius to get kilometers of travel\n",
        "#we rounded the value to compare the result with other solvers"
      ],
      "execution_count": null,
      "outputs": [
        {
          "output_type": "stream",
          "text": [
            "time: 5.1 ms (started: 2021-03-19 14:52:12 +00:00)\n"
          ],
          "name": "stdout"
        }
      ]
    },
    {
      "cell_type": "code",
      "metadata": {
        "id": "uhexivxSprMb",
        "colab": {
          "base_uri": "https://localhost:8080/"
        },
        "outputId": "8740f222-b6a5-4244-8f5d-d0e15ef3e33e"
      },
      "source": [
        "geogDist=pd.DataFrame(geogDist,index=df['TOWN'],columns=df['TOWN']) #distance matrix"
      ],
      "execution_count": null,
      "outputs": [
        {
          "output_type": "stream",
          "text": [
            "time: 3.31 ms (started: 2021-03-19 14:52:12 +00:00)\n"
          ],
          "name": "stdout"
        }
      ]
    },
    {
      "cell_type": "markdown",
      "metadata": {
        "id": "jKNw1-ee1Ies"
      },
      "source": [
        "Now that we have the cost matrix, we need to replace all values on the diagonal with a big number, like 99999. \n",
        "\n",
        "Source: https://stackoverflow.com/questions/24475094/set-values-on-the-diagonal-of-pandas-dataframe"
      ]
    },
    {
      "cell_type": "code",
      "metadata": {
        "id": "SgvAX9zgp3ec",
        "colab": {
          "base_uri": "https://localhost:8080/"
        },
        "outputId": "0d4d5427-8bbd-4d3a-adbc-ed40be4ab088"
      },
      "source": [
        "np.fill_diagonal(geogDist.values, 99999)"
      ],
      "execution_count": null,
      "outputs": [
        {
          "output_type": "stream",
          "text": [
            "time: 1.57 ms (started: 2021-03-19 14:52:12 +00:00)\n"
          ],
          "name": "stdout"
        }
      ]
    },
    {
      "cell_type": "markdown",
      "metadata": {
        "id": "-_9IYRsM10Hv"
      },
      "source": [
        "Check your work!"
      ]
    },
    {
      "cell_type": "code",
      "metadata": {
        "id": "JzZ029xLrKaU",
        "colab": {
          "base_uri": "https://localhost:8080/",
          "height": 845
        },
        "outputId": "ebc8a108-b7fd-4468-bcf5-43f06008f8f0"
      },
      "source": [
        "geogDist #it worked "
      ],
      "execution_count": null,
      "outputs": [
        {
          "output_type": "execute_result",
          "data": {
            "text/html": [
              "<div>\n",
              "<style scoped>\n",
              "    .dataframe tbody tr th:only-of-type {\n",
              "        vertical-align: middle;\n",
              "    }\n",
              "\n",
              "    .dataframe tbody tr th {\n",
              "        vertical-align: top;\n",
              "    }\n",
              "\n",
              "    .dataframe thead th {\n",
              "        text-align: right;\n",
              "    }\n",
              "</style>\n",
              "<table border=\"1\" class=\"dataframe\">\n",
              "  <thead>\n",
              "    <tr style=\"text-align: right;\">\n",
              "      <th>TOWN</th>\n",
              "      <th>Sherman</th>\n",
              "      <th>New Fairfield</th>\n",
              "      <th>Brookfield</th>\n",
              "      <th>Newtown</th>\n",
              "      <th>Danbury</th>\n",
              "      <th>Bethel</th>\n",
              "      <th>Monroe</th>\n",
              "      <th>Ridgefield</th>\n",
              "      <th>Shelton</th>\n",
              "      <th>Redding</th>\n",
              "      <th>Easton</th>\n",
              "      <th>Trumbull</th>\n",
              "      <th>Weston</th>\n",
              "      <th>Stratford</th>\n",
              "      <th>Wilton</th>\n",
              "      <th>Fairfield</th>\n",
              "      <th>Bridgeport</th>\n",
              "      <th>New Canaan</th>\n",
              "      <th>Westport</th>\n",
              "      <th>Stamford</th>\n",
              "      <th>Norwalk</th>\n",
              "      <th>Greenwich</th>\n",
              "      <th>Darien</th>\n",
              "    </tr>\n",
              "    <tr>\n",
              "      <th>TOWN</th>\n",
              "      <th></th>\n",
              "      <th></th>\n",
              "      <th></th>\n",
              "      <th></th>\n",
              "      <th></th>\n",
              "      <th></th>\n",
              "      <th></th>\n",
              "      <th></th>\n",
              "      <th></th>\n",
              "      <th></th>\n",
              "      <th></th>\n",
              "      <th></th>\n",
              "      <th></th>\n",
              "      <th></th>\n",
              "      <th></th>\n",
              "      <th></th>\n",
              "      <th></th>\n",
              "      <th></th>\n",
              "      <th></th>\n",
              "      <th></th>\n",
              "      <th></th>\n",
              "      <th></th>\n",
              "      <th></th>\n",
              "    </tr>\n",
              "  </thead>\n",
              "  <tbody>\n",
              "    <tr>\n",
              "      <th>Sherman</th>\n",
              "      <td>99999.0</td>\n",
              "      <td>657.0</td>\n",
              "      <td>1398.0</td>\n",
              "      <td>2469.0</td>\n",
              "      <td>1321.0</td>\n",
              "      <td>1986.0</td>\n",
              "      <td>3290.0</td>\n",
              "      <td>1762.0</td>\n",
              "      <td>4045.0</td>\n",
              "      <td>2439.0</td>\n",
              "      <td>3276.0</td>\n",
              "      <td>3890.0</td>\n",
              "      <td>3047.0</td>\n",
              "      <td>4721.0</td>\n",
              "      <td>2755.0</td>\n",
              "      <td>4002.0</td>\n",
              "      <td>4400.0</td>\n",
              "      <td>2682.0</td>\n",
              "      <td>3743.0</td>\n",
              "      <td>3408.0</td>\n",
              "      <td>3431.0</td>\n",
              "      <td>4143.0</td>\n",
              "      <td>3286.0</td>\n",
              "    </tr>\n",
              "    <tr>\n",
              "      <th>New Fairfield</th>\n",
              "      <td>657.0</td>\n",
              "      <td>99999.0</td>\n",
              "      <td>741.0</td>\n",
              "      <td>1812.0</td>\n",
              "      <td>664.0</td>\n",
              "      <td>1329.0</td>\n",
              "      <td>2633.0</td>\n",
              "      <td>1244.0</td>\n",
              "      <td>3388.0</td>\n",
              "      <td>1782.0</td>\n",
              "      <td>2619.0</td>\n",
              "      <td>3233.0</td>\n",
              "      <td>2390.0</td>\n",
              "      <td>4064.0</td>\n",
              "      <td>2098.0</td>\n",
              "      <td>3345.0</td>\n",
              "      <td>3743.0</td>\n",
              "      <td>2164.0</td>\n",
              "      <td>3085.0</td>\n",
              "      <td>2889.0</td>\n",
              "      <td>2773.0</td>\n",
              "      <td>3625.0</td>\n",
              "      <td>2629.0</td>\n",
              "    </tr>\n",
              "    <tr>\n",
              "      <th>Brookfield</th>\n",
              "      <td>1398.0</td>\n",
              "      <td>741.0</td>\n",
              "      <td>99999.0</td>\n",
              "      <td>1072.0</td>\n",
              "      <td>920.0</td>\n",
              "      <td>593.0</td>\n",
              "      <td>1892.0</td>\n",
              "      <td>1726.0</td>\n",
              "      <td>2647.0</td>\n",
              "      <td>1041.0</td>\n",
              "      <td>1879.0</td>\n",
              "      <td>2493.0</td>\n",
              "      <td>1649.0</td>\n",
              "      <td>3323.0</td>\n",
              "      <td>1963.0</td>\n",
              "      <td>2605.0</td>\n",
              "      <td>3003.0</td>\n",
              "      <td>2646.0</td>\n",
              "      <td>2345.0</td>\n",
              "      <td>3372.0</td>\n",
              "      <td>2419.0</td>\n",
              "      <td>4107.0</td>\n",
              "      <td>3035.0</td>\n",
              "    </tr>\n",
              "    <tr>\n",
              "      <th>Newtown</th>\n",
              "      <td>2469.0</td>\n",
              "      <td>1812.0</td>\n",
              "      <td>1072.0</td>\n",
              "      <td>99999.0</td>\n",
              "      <td>1148.0</td>\n",
              "      <td>789.0</td>\n",
              "      <td>821.0</td>\n",
              "      <td>1922.0</td>\n",
              "      <td>1576.0</td>\n",
              "      <td>1226.0</td>\n",
              "      <td>900.0</td>\n",
              "      <td>1421.0</td>\n",
              "      <td>1594.0</td>\n",
              "      <td>2251.0</td>\n",
              "      <td>2159.0</td>\n",
              "      <td>1533.0</td>\n",
              "      <td>1931.0</td>\n",
              "      <td>2842.0</td>\n",
              "      <td>1957.0</td>\n",
              "      <td>3568.0</td>\n",
              "      <td>2615.0</td>\n",
              "      <td>4303.0</td>\n",
              "      <td>3231.0</td>\n",
              "    </tr>\n",
              "    <tr>\n",
              "      <th>Danbury</th>\n",
              "      <td>1321.0</td>\n",
              "      <td>664.0</td>\n",
              "      <td>920.0</td>\n",
              "      <td>1148.0</td>\n",
              "      <td>99999.0</td>\n",
              "      <td>665.0</td>\n",
              "      <td>1969.0</td>\n",
              "      <td>806.0</td>\n",
              "      <td>2724.0</td>\n",
              "      <td>1118.0</td>\n",
              "      <td>1955.0</td>\n",
              "      <td>2569.0</td>\n",
              "      <td>1726.0</td>\n",
              "      <td>3400.0</td>\n",
              "      <td>1434.0</td>\n",
              "      <td>2681.0</td>\n",
              "      <td>3079.0</td>\n",
              "      <td>1726.0</td>\n",
              "      <td>2421.0</td>\n",
              "      <td>2452.0</td>\n",
              "      <td>2110.0</td>\n",
              "      <td>3187.0</td>\n",
              "      <td>2115.0</td>\n",
              "    </tr>\n",
              "    <tr>\n",
              "      <th>Bethel</th>\n",
              "      <td>1986.0</td>\n",
              "      <td>1329.0</td>\n",
              "      <td>593.0</td>\n",
              "      <td>789.0</td>\n",
              "      <td>665.0</td>\n",
              "      <td>99999.0</td>\n",
              "      <td>1304.0</td>\n",
              "      <td>1133.0</td>\n",
              "      <td>2059.0</td>\n",
              "      <td>453.0</td>\n",
              "      <td>1290.0</td>\n",
              "      <td>1904.0</td>\n",
              "      <td>1061.0</td>\n",
              "      <td>2734.0</td>\n",
              "      <td>1370.0</td>\n",
              "      <td>2016.0</td>\n",
              "      <td>2414.0</td>\n",
              "      <td>2053.0</td>\n",
              "      <td>1756.0</td>\n",
              "      <td>2779.0</td>\n",
              "      <td>1826.0</td>\n",
              "      <td>3514.0</td>\n",
              "      <td>2442.0</td>\n",
              "    </tr>\n",
              "    <tr>\n",
              "      <th>Monroe</th>\n",
              "      <td>3290.0</td>\n",
              "      <td>2633.0</td>\n",
              "      <td>1892.0</td>\n",
              "      <td>821.0</td>\n",
              "      <td>1969.0</td>\n",
              "      <td>1304.0</td>\n",
              "      <td>99999.0</td>\n",
              "      <td>1967.0</td>\n",
              "      <td>755.0</td>\n",
              "      <td>1270.0</td>\n",
              "      <td>944.0</td>\n",
              "      <td>600.0</td>\n",
              "      <td>1638.0</td>\n",
              "      <td>1431.0</td>\n",
              "      <td>2204.0</td>\n",
              "      <td>1328.0</td>\n",
              "      <td>1110.0</td>\n",
              "      <td>2887.0</td>\n",
              "      <td>2002.0</td>\n",
              "      <td>3613.0</td>\n",
              "      <td>2660.0</td>\n",
              "      <td>4348.0</td>\n",
              "      <td>3276.0</td>\n",
              "    </tr>\n",
              "    <tr>\n",
              "      <th>Ridgefield</th>\n",
              "      <td>1762.0</td>\n",
              "      <td>1244.0</td>\n",
              "      <td>1726.0</td>\n",
              "      <td>1922.0</td>\n",
              "      <td>806.0</td>\n",
              "      <td>1133.0</td>\n",
              "      <td>1967.0</td>\n",
              "      <td>99999.0</td>\n",
              "      <td>2317.0</td>\n",
              "      <td>711.0</td>\n",
              "      <td>1549.0</td>\n",
              "      <td>2163.0</td>\n",
              "      <td>1319.0</td>\n",
              "      <td>2993.0</td>\n",
              "      <td>1027.0</td>\n",
              "      <td>2275.0</td>\n",
              "      <td>2673.0</td>\n",
              "      <td>954.0</td>\n",
              "      <td>2015.0</td>\n",
              "      <td>1646.0</td>\n",
              "      <td>1703.0</td>\n",
              "      <td>2381.0</td>\n",
              "      <td>1558.0</td>\n",
              "    </tr>\n",
              "    <tr>\n",
              "      <th>Shelton</th>\n",
              "      <td>4045.0</td>\n",
              "      <td>3388.0</td>\n",
              "      <td>2647.0</td>\n",
              "      <td>1576.0</td>\n",
              "      <td>2724.0</td>\n",
              "      <td>2059.0</td>\n",
              "      <td>755.0</td>\n",
              "      <td>2317.0</td>\n",
              "      <td>99999.0</td>\n",
              "      <td>1620.0</td>\n",
              "      <td>1294.0</td>\n",
              "      <td>740.0</td>\n",
              "      <td>1988.0</td>\n",
              "      <td>676.0</td>\n",
              "      <td>2554.0</td>\n",
              "      <td>1678.0</td>\n",
              "      <td>1091.0</td>\n",
              "      <td>3236.0</td>\n",
              "      <td>2351.0</td>\n",
              "      <td>3962.0</td>\n",
              "      <td>3009.0</td>\n",
              "      <td>4697.0</td>\n",
              "      <td>3626.0</td>\n",
              "    </tr>\n",
              "    <tr>\n",
              "      <th>Redding</th>\n",
              "      <td>2439.0</td>\n",
              "      <td>1782.0</td>\n",
              "      <td>1041.0</td>\n",
              "      <td>1226.0</td>\n",
              "      <td>1118.0</td>\n",
              "      <td>453.0</td>\n",
              "      <td>1270.0</td>\n",
              "      <td>711.0</td>\n",
              "      <td>1620.0</td>\n",
              "      <td>99999.0</td>\n",
              "      <td>837.0</td>\n",
              "      <td>1451.0</td>\n",
              "      <td>608.0</td>\n",
              "      <td>2282.0</td>\n",
              "      <td>934.0</td>\n",
              "      <td>1563.0</td>\n",
              "      <td>1961.0</td>\n",
              "      <td>1617.0</td>\n",
              "      <td>1304.0</td>\n",
              "      <td>2342.0</td>\n",
              "      <td>1389.0</td>\n",
              "      <td>3077.0</td>\n",
              "      <td>2006.0</td>\n",
              "    </tr>\n",
              "    <tr>\n",
              "      <th>Easton</th>\n",
              "      <td>3276.0</td>\n",
              "      <td>2619.0</td>\n",
              "      <td>1879.0</td>\n",
              "      <td>900.0</td>\n",
              "      <td>1955.0</td>\n",
              "      <td>1290.0</td>\n",
              "      <td>944.0</td>\n",
              "      <td>1549.0</td>\n",
              "      <td>1294.0</td>\n",
              "      <td>837.0</td>\n",
              "      <td>99999.0</td>\n",
              "      <td>614.0</td>\n",
              "      <td>694.0</td>\n",
              "      <td>1444.0</td>\n",
              "      <td>1260.0</td>\n",
              "      <td>726.0</td>\n",
              "      <td>1124.0</td>\n",
              "      <td>1943.0</td>\n",
              "      <td>1057.0</td>\n",
              "      <td>2668.0</td>\n",
              "      <td>1716.0</td>\n",
              "      <td>3403.0</td>\n",
              "      <td>2332.0</td>\n",
              "    </tr>\n",
              "    <tr>\n",
              "      <th>Trumbull</th>\n",
              "      <td>3890.0</td>\n",
              "      <td>3233.0</td>\n",
              "      <td>2493.0</td>\n",
              "      <td>1421.0</td>\n",
              "      <td>2569.0</td>\n",
              "      <td>1904.0</td>\n",
              "      <td>600.0</td>\n",
              "      <td>2163.0</td>\n",
              "      <td>740.0</td>\n",
              "      <td>1451.0</td>\n",
              "      <td>614.0</td>\n",
              "      <td>99999.0</td>\n",
              "      <td>1248.0</td>\n",
              "      <td>830.0</td>\n",
              "      <td>1814.0</td>\n",
              "      <td>938.0</td>\n",
              "      <td>510.0</td>\n",
              "      <td>2496.0</td>\n",
              "      <td>1611.0</td>\n",
              "      <td>3222.0</td>\n",
              "      <td>2269.0</td>\n",
              "      <td>3957.0</td>\n",
              "      <td>2886.0</td>\n",
              "    </tr>\n",
              "    <tr>\n",
              "      <th>Weston</th>\n",
              "      <td>3047.0</td>\n",
              "      <td>2390.0</td>\n",
              "      <td>1649.0</td>\n",
              "      <td>1594.0</td>\n",
              "      <td>1726.0</td>\n",
              "      <td>1061.0</td>\n",
              "      <td>1638.0</td>\n",
              "      <td>1319.0</td>\n",
              "      <td>1988.0</td>\n",
              "      <td>608.0</td>\n",
              "      <td>694.0</td>\n",
              "      <td>1248.0</td>\n",
              "      <td>99999.0</td>\n",
              "      <td>1674.0</td>\n",
              "      <td>566.0</td>\n",
              "      <td>956.0</td>\n",
              "      <td>1354.0</td>\n",
              "      <td>1249.0</td>\n",
              "      <td>696.0</td>\n",
              "      <td>1974.0</td>\n",
              "      <td>1021.0</td>\n",
              "      <td>2709.0</td>\n",
              "      <td>1638.0</td>\n",
              "    </tr>\n",
              "    <tr>\n",
              "      <th>Stratford</th>\n",
              "      <td>4721.0</td>\n",
              "      <td>4064.0</td>\n",
              "      <td>3323.0</td>\n",
              "      <td>2251.0</td>\n",
              "      <td>3400.0</td>\n",
              "      <td>2734.0</td>\n",
              "      <td>1431.0</td>\n",
              "      <td>2993.0</td>\n",
              "      <td>676.0</td>\n",
              "      <td>2282.0</td>\n",
              "      <td>1444.0</td>\n",
              "      <td>830.0</td>\n",
              "      <td>1674.0</td>\n",
              "      <td>99999.0</td>\n",
              "      <td>1978.0</td>\n",
              "      <td>1102.0</td>\n",
              "      <td>515.0</td>\n",
              "      <td>2660.0</td>\n",
              "      <td>1775.0</td>\n",
              "      <td>3386.0</td>\n",
              "      <td>2433.0</td>\n",
              "      <td>4121.0</td>\n",
              "      <td>3050.0</td>\n",
              "    </tr>\n",
              "    <tr>\n",
              "      <th>Wilton</th>\n",
              "      <td>2755.0</td>\n",
              "      <td>2098.0</td>\n",
              "      <td>1963.0</td>\n",
              "      <td>2159.0</td>\n",
              "      <td>1434.0</td>\n",
              "      <td>1370.0</td>\n",
              "      <td>2204.0</td>\n",
              "      <td>1027.0</td>\n",
              "      <td>2554.0</td>\n",
              "      <td>934.0</td>\n",
              "      <td>1260.0</td>\n",
              "      <td>1814.0</td>\n",
              "      <td>566.0</td>\n",
              "      <td>1978.0</td>\n",
              "      <td>99999.0</td>\n",
              "      <td>1247.0</td>\n",
              "      <td>1645.0</td>\n",
              "      <td>683.0</td>\n",
              "      <td>988.0</td>\n",
              "      <td>1408.0</td>\n",
              "      <td>676.0</td>\n",
              "      <td>2143.0</td>\n",
              "      <td>1072.0</td>\n",
              "    </tr>\n",
              "    <tr>\n",
              "      <th>Fairfield</th>\n",
              "      <td>4002.0</td>\n",
              "      <td>3345.0</td>\n",
              "      <td>2605.0</td>\n",
              "      <td>1533.0</td>\n",
              "      <td>2681.0</td>\n",
              "      <td>2016.0</td>\n",
              "      <td>1328.0</td>\n",
              "      <td>2275.0</td>\n",
              "      <td>1678.0</td>\n",
              "      <td>1563.0</td>\n",
              "      <td>726.0</td>\n",
              "      <td>938.0</td>\n",
              "      <td>956.0</td>\n",
              "      <td>1102.0</td>\n",
              "      <td>1247.0</td>\n",
              "      <td>99999.0</td>\n",
              "      <td>587.0</td>\n",
              "      <td>1558.0</td>\n",
              "      <td>673.0</td>\n",
              "      <td>2284.0</td>\n",
              "      <td>1331.0</td>\n",
              "      <td>3019.0</td>\n",
              "      <td>1948.0</td>\n",
              "    </tr>\n",
              "    <tr>\n",
              "      <th>Bridgeport</th>\n",
              "      <td>4400.0</td>\n",
              "      <td>3743.0</td>\n",
              "      <td>3003.0</td>\n",
              "      <td>1931.0</td>\n",
              "      <td>3079.0</td>\n",
              "      <td>2414.0</td>\n",
              "      <td>1110.0</td>\n",
              "      <td>2673.0</td>\n",
              "      <td>1091.0</td>\n",
              "      <td>1961.0</td>\n",
              "      <td>1124.0</td>\n",
              "      <td>510.0</td>\n",
              "      <td>1354.0</td>\n",
              "      <td>515.0</td>\n",
              "      <td>1645.0</td>\n",
              "      <td>587.0</td>\n",
              "      <td>99999.0</td>\n",
              "      <td>2145.0</td>\n",
              "      <td>1260.0</td>\n",
              "      <td>2871.0</td>\n",
              "      <td>1918.0</td>\n",
              "      <td>3606.0</td>\n",
              "      <td>2534.0</td>\n",
              "    </tr>\n",
              "    <tr>\n",
              "      <th>New Canaan</th>\n",
              "      <td>2682.0</td>\n",
              "      <td>2164.0</td>\n",
              "      <td>2646.0</td>\n",
              "      <td>2842.0</td>\n",
              "      <td>1726.0</td>\n",
              "      <td>2053.0</td>\n",
              "      <td>2887.0</td>\n",
              "      <td>954.0</td>\n",
              "      <td>3236.0</td>\n",
              "      <td>1617.0</td>\n",
              "      <td>1943.0</td>\n",
              "      <td>2496.0</td>\n",
              "      <td>1249.0</td>\n",
              "      <td>2660.0</td>\n",
              "      <td>683.0</td>\n",
              "      <td>1558.0</td>\n",
              "      <td>2145.0</td>\n",
              "      <td>99999.0</td>\n",
              "      <td>1061.0</td>\n",
              "      <td>726.0</td>\n",
              "      <td>749.0</td>\n",
              "      <td>1461.0</td>\n",
              "      <td>604.0</td>\n",
              "    </tr>\n",
              "    <tr>\n",
              "      <th>Westport</th>\n",
              "      <td>3743.0</td>\n",
              "      <td>3085.0</td>\n",
              "      <td>2345.0</td>\n",
              "      <td>1957.0</td>\n",
              "      <td>2421.0</td>\n",
              "      <td>1756.0</td>\n",
              "      <td>2002.0</td>\n",
              "      <td>2015.0</td>\n",
              "      <td>2351.0</td>\n",
              "      <td>1304.0</td>\n",
              "      <td>1057.0</td>\n",
              "      <td>1611.0</td>\n",
              "      <td>696.0</td>\n",
              "      <td>1775.0</td>\n",
              "      <td>988.0</td>\n",
              "      <td>673.0</td>\n",
              "      <td>1260.0</td>\n",
              "      <td>1061.0</td>\n",
              "      <td>99999.0</td>\n",
              "      <td>1611.0</td>\n",
              "      <td>658.0</td>\n",
              "      <td>2346.0</td>\n",
              "      <td>1274.0</td>\n",
              "    </tr>\n",
              "    <tr>\n",
              "      <th>Stamford</th>\n",
              "      <td>3408.0</td>\n",
              "      <td>2889.0</td>\n",
              "      <td>3372.0</td>\n",
              "      <td>3568.0</td>\n",
              "      <td>2452.0</td>\n",
              "      <td>2779.0</td>\n",
              "      <td>3613.0</td>\n",
              "      <td>1646.0</td>\n",
              "      <td>3962.0</td>\n",
              "      <td>2342.0</td>\n",
              "      <td>2668.0</td>\n",
              "      <td>3222.0</td>\n",
              "      <td>1974.0</td>\n",
              "      <td>3386.0</td>\n",
              "      <td>1408.0</td>\n",
              "      <td>2284.0</td>\n",
              "      <td>2871.0</td>\n",
              "      <td>726.0</td>\n",
              "      <td>1611.0</td>\n",
              "      <td>99999.0</td>\n",
              "      <td>953.0</td>\n",
              "      <td>735.0</td>\n",
              "      <td>641.0</td>\n",
              "    </tr>\n",
              "    <tr>\n",
              "      <th>Norwalk</th>\n",
              "      <td>3431.0</td>\n",
              "      <td>2773.0</td>\n",
              "      <td>2419.0</td>\n",
              "      <td>2615.0</td>\n",
              "      <td>2110.0</td>\n",
              "      <td>1826.0</td>\n",
              "      <td>2660.0</td>\n",
              "      <td>1703.0</td>\n",
              "      <td>3009.0</td>\n",
              "      <td>1389.0</td>\n",
              "      <td>1716.0</td>\n",
              "      <td>2269.0</td>\n",
              "      <td>1021.0</td>\n",
              "      <td>2433.0</td>\n",
              "      <td>676.0</td>\n",
              "      <td>1331.0</td>\n",
              "      <td>1918.0</td>\n",
              "      <td>749.0</td>\n",
              "      <td>658.0</td>\n",
              "      <td>953.0</td>\n",
              "      <td>99999.0</td>\n",
              "      <td>1688.0</td>\n",
              "      <td>616.0</td>\n",
              "    </tr>\n",
              "    <tr>\n",
              "      <th>Greenwich</th>\n",
              "      <td>4143.0</td>\n",
              "      <td>3625.0</td>\n",
              "      <td>4107.0</td>\n",
              "      <td>4303.0</td>\n",
              "      <td>3187.0</td>\n",
              "      <td>3514.0</td>\n",
              "      <td>4348.0</td>\n",
              "      <td>2381.0</td>\n",
              "      <td>4697.0</td>\n",
              "      <td>3077.0</td>\n",
              "      <td>3403.0</td>\n",
              "      <td>3957.0</td>\n",
              "      <td>2709.0</td>\n",
              "      <td>4121.0</td>\n",
              "      <td>2143.0</td>\n",
              "      <td>3019.0</td>\n",
              "      <td>3606.0</td>\n",
              "      <td>1461.0</td>\n",
              "      <td>2346.0</td>\n",
              "      <td>735.0</td>\n",
              "      <td>1688.0</td>\n",
              "      <td>99999.0</td>\n",
              "      <td>1071.0</td>\n",
              "    </tr>\n",
              "    <tr>\n",
              "      <th>Darien</th>\n",
              "      <td>3286.0</td>\n",
              "      <td>2629.0</td>\n",
              "      <td>3035.0</td>\n",
              "      <td>3231.0</td>\n",
              "      <td>2115.0</td>\n",
              "      <td>2442.0</td>\n",
              "      <td>3276.0</td>\n",
              "      <td>1558.0</td>\n",
              "      <td>3626.0</td>\n",
              "      <td>2006.0</td>\n",
              "      <td>2332.0</td>\n",
              "      <td>2886.0</td>\n",
              "      <td>1638.0</td>\n",
              "      <td>3050.0</td>\n",
              "      <td>1072.0</td>\n",
              "      <td>1948.0</td>\n",
              "      <td>2534.0</td>\n",
              "      <td>604.0</td>\n",
              "      <td>1274.0</td>\n",
              "      <td>641.0</td>\n",
              "      <td>616.0</td>\n",
              "      <td>1071.0</td>\n",
              "      <td>99999.0</td>\n",
              "    </tr>\n",
              "  </tbody>\n",
              "</table>\n",
              "</div>"
            ],
            "text/plain": [
              "TOWN           Sherman  New Fairfield  Brookfield  ...  Norwalk  Greenwich   Darien\n",
              "TOWN                                               ...                             \n",
              "Sherman        99999.0          657.0      1398.0  ...   3431.0     4143.0   3286.0\n",
              "New Fairfield    657.0        99999.0       741.0  ...   2773.0     3625.0   2629.0\n",
              "Brookfield      1398.0          741.0     99999.0  ...   2419.0     4107.0   3035.0\n",
              "Newtown         2469.0         1812.0      1072.0  ...   2615.0     4303.0   3231.0\n",
              "Danbury         1321.0          664.0       920.0  ...   2110.0     3187.0   2115.0\n",
              "Bethel          1986.0         1329.0       593.0  ...   1826.0     3514.0   2442.0\n",
              "Monroe          3290.0         2633.0      1892.0  ...   2660.0     4348.0   3276.0\n",
              "Ridgefield      1762.0         1244.0      1726.0  ...   1703.0     2381.0   1558.0\n",
              "Shelton         4045.0         3388.0      2647.0  ...   3009.0     4697.0   3626.0\n",
              "Redding         2439.0         1782.0      1041.0  ...   1389.0     3077.0   2006.0\n",
              "Easton          3276.0         2619.0      1879.0  ...   1716.0     3403.0   2332.0\n",
              "Trumbull        3890.0         3233.0      2493.0  ...   2269.0     3957.0   2886.0\n",
              "Weston          3047.0         2390.0      1649.0  ...   1021.0     2709.0   1638.0\n",
              "Stratford       4721.0         4064.0      3323.0  ...   2433.0     4121.0   3050.0\n",
              "Wilton          2755.0         2098.0      1963.0  ...    676.0     2143.0   1072.0\n",
              "Fairfield       4002.0         3345.0      2605.0  ...   1331.0     3019.0   1948.0\n",
              "Bridgeport      4400.0         3743.0      3003.0  ...   1918.0     3606.0   2534.0\n",
              "New Canaan      2682.0         2164.0      2646.0  ...    749.0     1461.0    604.0\n",
              "Westport        3743.0         3085.0      2345.0  ...    658.0     2346.0   1274.0\n",
              "Stamford        3408.0         2889.0      3372.0  ...    953.0      735.0    641.0\n",
              "Norwalk         3431.0         2773.0      2419.0  ...  99999.0     1688.0    616.0\n",
              "Greenwich       4143.0         3625.0      4107.0  ...   1688.0    99999.0   1071.0\n",
              "Darien          3286.0         2629.0      3035.0  ...    616.0     1071.0  99999.0\n",
              "\n",
              "[23 rows x 23 columns]"
            ]
          },
          "metadata": {
            "tags": []
          },
          "execution_count": 98
        },
        {
          "output_type": "stream",
          "text": [
            "time: 81.3 ms (started: 2021-03-19 14:52:12 +00:00)\n"
          ],
          "name": "stdout"
        }
      ]
    },
    {
      "cell_type": "code",
      "metadata": {
        "id": "ekbPv0ZRrn0_",
        "colab": {
          "base_uri": "https://localhost:8080/"
        },
        "outputId": "6fec67da-8f99-430c-991a-6fb9c7a01e59"
      },
      "source": [
        "# now convert back to numpy array\n",
        "geogDist = np.array(geogDist)\n",
        "geogDist"
      ],
      "execution_count": null,
      "outputs": [
        {
          "output_type": "execute_result",
          "data": {
            "text/plain": [
              "array([[99999.,   657.,  1398.,  2469.,  1321.,  1986.,  3290.,  1762.,\n",
              "         4045.,  2439.,  3276.,  3890.,  3047.,  4721.,  2755.,  4002.,\n",
              "         4400.,  2682.,  3743.,  3408.,  3431.,  4143.,  3286.],\n",
              "       [  657., 99999.,   741.,  1812.,   664.,  1329.,  2633.,  1244.,\n",
              "         3388.,  1782.,  2619.,  3233.,  2390.,  4064.,  2098.,  3345.,\n",
              "         3743.,  2164.,  3085.,  2889.,  2773.,  3625.,  2629.],\n",
              "       [ 1398.,   741., 99999.,  1072.,   920.,   593.,  1892.,  1726.,\n",
              "         2647.,  1041.,  1879.,  2493.,  1649.,  3323.,  1963.,  2605.,\n",
              "         3003.,  2646.,  2345.,  3372.,  2419.,  4107.,  3035.],\n",
              "       [ 2469.,  1812.,  1072., 99999.,  1148.,   789.,   821.,  1922.,\n",
              "         1576.,  1226.,   900.,  1421.,  1594.,  2251.,  2159.,  1533.,\n",
              "         1931.,  2842.,  1957.,  3568.,  2615.,  4303.,  3231.],\n",
              "       [ 1321.,   664.,   920.,  1148., 99999.,   665.,  1969.,   806.,\n",
              "         2724.,  1118.,  1955.,  2569.,  1726.,  3400.,  1434.,  2681.,\n",
              "         3079.,  1726.,  2421.,  2452.,  2110.,  3187.,  2115.],\n",
              "       [ 1986.,  1329.,   593.,   789.,   665., 99999.,  1304.,  1133.,\n",
              "         2059.,   453.,  1290.,  1904.,  1061.,  2734.,  1370.,  2016.,\n",
              "         2414.,  2053.,  1756.,  2779.,  1826.,  3514.,  2442.],\n",
              "       [ 3290.,  2633.,  1892.,   821.,  1969.,  1304., 99999.,  1967.,\n",
              "          755.,  1270.,   944.,   600.,  1638.,  1431.,  2204.,  1328.,\n",
              "         1110.,  2887.,  2002.,  3613.,  2660.,  4348.,  3276.],\n",
              "       [ 1762.,  1244.,  1726.,  1922.,   806.,  1133.,  1967., 99999.,\n",
              "         2317.,   711.,  1549.,  2163.,  1319.,  2993.,  1027.,  2275.,\n",
              "         2673.,   954.,  2015.,  1646.,  1703.,  2381.,  1558.],\n",
              "       [ 4045.,  3388.,  2647.,  1576.,  2724.,  2059.,   755.,  2317.,\n",
              "        99999.,  1620.,  1294.,   740.,  1988.,   676.,  2554.,  1678.,\n",
              "         1091.,  3236.,  2351.,  3962.,  3009.,  4697.,  3626.],\n",
              "       [ 2439.,  1782.,  1041.,  1226.,  1118.,   453.,  1270.,   711.,\n",
              "         1620., 99999.,   837.,  1451.,   608.,  2282.,   934.,  1563.,\n",
              "         1961.,  1617.,  1304.,  2342.,  1389.,  3077.,  2006.],\n",
              "       [ 3276.,  2619.,  1879.,   900.,  1955.,  1290.,   944.,  1549.,\n",
              "         1294.,   837., 99999.,   614.,   694.,  1444.,  1260.,   726.,\n",
              "         1124.,  1943.,  1057.,  2668.,  1716.,  3403.,  2332.],\n",
              "       [ 3890.,  3233.,  2493.,  1421.,  2569.,  1904.,   600.,  2163.,\n",
              "          740.,  1451.,   614., 99999.,  1248.,   830.,  1814.,   938.,\n",
              "          510.,  2496.,  1611.,  3222.,  2269.,  3957.,  2886.],\n",
              "       [ 3047.,  2390.,  1649.,  1594.,  1726.,  1061.,  1638.,  1319.,\n",
              "         1988.,   608.,   694.,  1248., 99999.,  1674.,   566.,   956.,\n",
              "         1354.,  1249.,   696.,  1974.,  1021.,  2709.,  1638.],\n",
              "       [ 4721.,  4064.,  3323.,  2251.,  3400.,  2734.,  1431.,  2993.,\n",
              "          676.,  2282.,  1444.,   830.,  1674., 99999.,  1978.,  1102.,\n",
              "          515.,  2660.,  1775.,  3386.,  2433.,  4121.,  3050.],\n",
              "       [ 2755.,  2098.,  1963.,  2159.,  1434.,  1370.,  2204.,  1027.,\n",
              "         2554.,   934.,  1260.,  1814.,   566.,  1978., 99999.,  1247.,\n",
              "         1645.,   683.,   988.,  1408.,   676.,  2143.,  1072.],\n",
              "       [ 4002.,  3345.,  2605.,  1533.,  2681.,  2016.,  1328.,  2275.,\n",
              "         1678.,  1563.,   726.,   938.,   956.,  1102.,  1247., 99999.,\n",
              "          587.,  1558.,   673.,  2284.,  1331.,  3019.,  1948.],\n",
              "       [ 4400.,  3743.,  3003.,  1931.,  3079.,  2414.,  1110.,  2673.,\n",
              "         1091.,  1961.,  1124.,   510.,  1354.,   515.,  1645.,   587.,\n",
              "        99999.,  2145.,  1260.,  2871.,  1918.,  3606.,  2534.],\n",
              "       [ 2682.,  2164.,  2646.,  2842.,  1726.,  2053.,  2887.,   954.,\n",
              "         3236.,  1617.,  1943.,  2496.,  1249.,  2660.,   683.,  1558.,\n",
              "         2145., 99999.,  1061.,   726.,   749.,  1461.,   604.],\n",
              "       [ 3743.,  3085.,  2345.,  1957.,  2421.,  1756.,  2002.,  2015.,\n",
              "         2351.,  1304.,  1057.,  1611.,   696.,  1775.,   988.,   673.,\n",
              "         1260.,  1061., 99999.,  1611.,   658.,  2346.,  1274.],\n",
              "       [ 3408.,  2889.,  3372.,  3568.,  2452.,  2779.,  3613.,  1646.,\n",
              "         3962.,  2342.,  2668.,  3222.,  1974.,  3386.,  1408.,  2284.,\n",
              "         2871.,   726.,  1611., 99999.,   953.,   735.,   641.],\n",
              "       [ 3431.,  2773.,  2419.,  2615.,  2110.,  1826.,  2660.,  1703.,\n",
              "         3009.,  1389.,  1716.,  2269.,  1021.,  2433.,   676.,  1331.,\n",
              "         1918.,   749.,   658.,   953., 99999.,  1688.,   616.],\n",
              "       [ 4143.,  3625.,  4107.,  4303.,  3187.,  3514.,  4348.,  2381.,\n",
              "         4697.,  3077.,  3403.,  3957.,  2709.,  4121.,  2143.,  3019.,\n",
              "         3606.,  1461.,  2346.,   735.,  1688., 99999.,  1071.],\n",
              "       [ 3286.,  2629.,  3035.,  3231.,  2115.,  2442.,  3276.,  1558.,\n",
              "         3626.,  2006.,  2332.,  2886.,  1638.,  3050.,  1072.,  1948.,\n",
              "         2534.,   604.,  1274.,   641.,   616.,  1071., 99999.]])"
            ]
          },
          "metadata": {
            "tags": []
          },
          "execution_count": 99
        },
        {
          "output_type": "stream",
          "text": [
            "time: 16.5 ms (started: 2021-03-19 14:52:12 +00:00)\n"
          ],
          "name": "stdout"
        }
      ]
    },
    {
      "cell_type": "markdown",
      "metadata": {
        "id": "yBue_BYbd3Si"
      },
      "source": [
        "## **USING PYOMO:**"
      ]
    },
    {
      "cell_type": "markdown",
      "metadata": {
        "id": "eMU4zZYe2ZT-"
      },
      "source": [
        "### Fit The Model\n",
        "![formulation](https://wikimedia.org/api/rest_v1/media/math/render/svg/e34f8bf0f9cfd888592c2376150659eb2626d683)\n",
        "\n",
        "The first set of equalities requires that each city is arrived at from exactly one other city, and the second set of equalities requires that from each city there is a departure to exactly one other city. The last constraints enforce that there is only a single tour covering all cities, and not two or more disjointed tours that only collectively cover all cities. "
      ]
    },
    {
      "cell_type": "code",
      "metadata": {
        "id": "UIKWbR4z2jVv",
        "colab": {
          "base_uri": "https://localhost:8080/"
        },
        "outputId": "f0d18c6b-0ecb-46cf-dbd5-e5b5bcae8284"
      },
      "source": [
        "cost_matrix = geogDist\n",
        "n = len(cost_matrix)"
      ],
      "execution_count": null,
      "outputs": [
        {
          "output_type": "stream",
          "text": [
            "time: 1.81 ms (started: 2021-03-19 14:52:12 +00:00)\n"
          ],
          "name": "stdout"
        }
      ]
    },
    {
      "cell_type": "markdown",
      "metadata": {
        "id": "q5fD0b8a4Jk2"
      },
      "source": [
        "First we define an index of M and N locations."
      ]
    },
    {
      "cell_type": "code",
      "metadata": {
        "id": "7OfhtShu2fCX",
        "colab": {
          "base_uri": "https://localhost:8080/"
        },
        "outputId": "563abfe0-a54e-4b04-ab1c-e6f4cfea9ade"
      },
      "source": [
        "#Model\n",
        "model = ConcreteModel() # Creates the model\n",
        "\n",
        "#Indexes for the cities\n",
        "model.M = RangeSet(n)                \n",
        "model.N = RangeSet(n) # RangeSet(n)- Creates an index from 1 to n.\n",
        "\n",
        "#Index for the dummy variable u\n",
        "model.U = RangeSet(2,n) # Creates an index from 2 to n."
      ],
      "execution_count": null,
      "outputs": [
        {
          "output_type": "stream",
          "text": [
            "time: 4.01 ms (started: 2021-03-19 14:52:12 +00:00)\n"
          ],
          "name": "stdout"
        }
      ]
    },
    {
      "cell_type": "markdown",
      "metadata": {
        "id": "_kH339Tc3X0u"
      },
      "source": [
        "`Var(model.N,model.M, within=Binary)` Creates $N$ binary decision variables of size $M$.\n",
        "\n",
        "`Var(model.N, within=NonNegativeIntegers,bounds=(0,n-1))` Creates $N$ Non negative integer decision variables that can only assume values between $0$ and $n-1$."
      ]
    },
    {
      "cell_type": "code",
      "metadata": {
        "id": "XJqwVd7j3DEO",
        "colab": {
          "base_uri": "https://localhost:8080/"
        },
        "outputId": "9525da18-11d9-40e0-e896-c9852dd75e74"
      },
      "source": [
        "#Decision variables xij\n",
        "model.x=Var(model.N,model.M, within=Binary)\n",
        "\n",
        "#Dummy variable ui\n",
        "model.u=Var(model.N, within=NonNegativeIntegers,bounds=(0,n-1))"
      ],
      "execution_count": null,
      "outputs": [
        {
          "output_type": "stream",
          "text": [
            "time: 4.89 ms (started: 2021-03-19 14:52:13 +00:00)\n"
          ],
          "name": "stdout"
        }
      ]
    },
    {
      "cell_type": "markdown",
      "metadata": {
        "id": "9n7D1dHo3p33"
      },
      "source": [
        "Now provide the cost matrix."
      ]
    },
    {
      "cell_type": "markdown",
      "metadata": {
        "id": "VfdlL_5w3_U-"
      },
      "source": [
        "`Param(modelo.N, model.M,initialize=lambda model, i, j: cost_matrix[i-1][j-1])` Provides a NxM parameter to the model using a lambda function."
      ]
    },
    {
      "cell_type": "code",
      "metadata": {
        "id": "M3VD3iYm3r2g",
        "colab": {
          "base_uri": "https://localhost:8080/"
        },
        "outputId": "92c91fe0-e63f-4058-ed2d-05bf0d86a34c"
      },
      "source": [
        "#Cost Matrix cij\n",
        "model.c = Param(model.N, model.M,initialize=lambda model, i, j: cost_matrix[i-1][j-1])"
      ],
      "execution_count": null,
      "outputs": [
        {
          "output_type": "stream",
          "text": [
            "time: 6.16 ms (started: 2021-03-19 14:52:13 +00:00)\n"
          ],
          "name": "stdout"
        }
      ]
    },
    {
      "cell_type": "markdown",
      "metadata": {
        "id": "nbxFIW_24B7n"
      },
      "source": [
        "###Objective function\n",
        "\n",
        "Define the objective function as the sum of route pairs.\n",
        "```\n",
        "99999.0*x[1,1] + 1072.0*x[1,2] + 1499.0*x[1,3] + 2296.0*x[1,4] +...\n",
        "```\n",
        "\n"
      ]
    },
    {
      "cell_type": "code",
      "metadata": {
        "id": "zjboCn284Cdw",
        "colab": {
          "base_uri": "https://localhost:8080/"
        },
        "outputId": "1cd420f5-9574-48d6-9bd7-d1a45f1c8918"
      },
      "source": [
        "def obj_func(model):\n",
        "    return sum(model.x[i,j] * model.c[i,j] for i in model.N for j in model.M)\n",
        "\n",
        "model.objective = Objective(rule=obj_func,sense=minimize)"
      ],
      "execution_count": null,
      "outputs": [
        {
          "output_type": "stream",
          "text": [
            "time: 9.33 ms (started: 2021-03-19 14:52:13 +00:00)\n"
          ],
          "name": "stdout"
        },
        {
          "output_type": "stream",
          "text": [
            "/usr/local/lib/python3.7/dist-packages/ipykernel_launcher.py:2: DeprecationWarning:\n",
            "\n",
            "Calling np.sum(generator) is deprecated, and in the future will give a different result. Use np.sum(np.fromiter(generator)) or the python sum builtin instead.\n",
            "\n"
          ],
          "name": "stderr"
        }
      ]
    },
    {
      "cell_type": "markdown",
      "metadata": {
        "id": "W0f9UApi4bsw"
      },
      "source": [
        "### Constraints"
      ]
    },
    {
      "cell_type": "markdown",
      "metadata": {
        "id": "DHXrTpBC4nBH"
      },
      "source": [
        "##### **Constraint #1**\n",
        "\n",
        "<font color='red'> $\\Sigma^{n}_{j=1,j \\neq i}x_{ij}=1$ </font>\n",
        "\n",
        "The first constraint which ensures that only 1 vehicle leaves each city can be formulated in the following way...\n",
        "\n",
        "The output looks like this if there are only five cities that need to be viewed:\n",
        "\n",
        "const1 : Size=5, Index=M, Active=True\n",
        "        Key : Lower : Body                              : Upper : Active\n",
        "\n",
        "          * 1 :   1.0 : x[2,1] + x[3,1] + x[4,1] + x[5,1] :   1.0 :   True\n",
        "          * 2 :   1.0 : x[1,2] + x[3,2] + x[4,2] + x[5,2] :   1.0 :   True\n",
        "          * 3 :   1.0 : x[1,3] + x[2,3] + x[4,3] + x[5,3] :   1.0 :   True\n",
        "          * 4 :   1.0 : x[1,4] + x[2,4] + x[3,4] + x[5,4] :   1.0 :   True\n",
        "          * 5 :   1.0 : x[1,5] + x[2,5] + x[3,5] + x[4,5] :   1.0 :   True"
      ]
    },
    {
      "cell_type": "code",
      "metadata": {
        "id": "SK4LETEV4ih4",
        "colab": {
          "base_uri": "https://localhost:8080/"
        },
        "outputId": "9883c997-eb03-4b71-ccbf-11f1814134cb"
      },
      "source": [
        "def rule_const1(model,M):\n",
        "    return sum(model.x[i,M] for i in model.N if i!=M ) == 1\n",
        "\n",
        "model.const1 = Constraint(model.M,rule=rule_const1)"
      ],
      "execution_count": null,
      "outputs": [
        {
          "output_type": "stream",
          "text": [
            "time: 10 ms (started: 2021-03-19 14:52:13 +00:00)\n"
          ],
          "name": "stdout"
        },
        {
          "output_type": "stream",
          "text": [
            "/usr/local/lib/python3.7/dist-packages/ipykernel_launcher.py:2: DeprecationWarning:\n",
            "\n",
            "Calling np.sum(generator) is deprecated, and in the future will give a different result. Use np.sum(np.fromiter(generator)) or the python sum builtin instead.\n",
            "\n"
          ],
          "name": "stderr"
        }
      ]
    },
    {
      "cell_type": "markdown",
      "metadata": {
        "id": "xY29r3P04--b"
      },
      "source": [
        "`Constraint(model.M,rule=rule_const1)` Creates $M$ constraints defined by the `rule_const1`."
      ]
    },
    {
      "cell_type": "markdown",
      "metadata": {
        "id": "5eQndO4ttFqI"
      },
      "source": [
        "Remember, M is just an index of all locations (it's equal to n and includes every pair except (1,1) and (2,2) etc.) Hence, we have n-1 entries in each equation."
      ]
    },
    {
      "cell_type": "markdown",
      "metadata": {
        "id": "SRKxuNjh4s3w"
      },
      "source": [
        "##### **Constraint #2**\n",
        "\n",
        "<font color='red'> $ \\sum_{i=1,i \\neq j}^{n}x_{ij}=1 $ </font>\n",
        "\n",
        "The second constraint which ensures that each city receives only 1 can be formulated by:\n",
        "\n",
        "rest2 : Size=5, Index=N, Active=True\n",
        "        Key : Lower : Body                              : Upper : Active\n",
        "\n",
        "         * 1 :   1.0 : x[1,2] + x[1,3] + x[1,4] + x[1,5] :   1.0 :   True\n",
        "         * 2 :   1.0 : x[2,1] + x[2,3] + x[2,4] + x[2,5] :   1.0 :   True\n",
        "         * 3 :   1.0 : x[3,1] + x[3,2] + x[3,4] + x[3,5] :   1.0 :   True\n",
        "         * 4 :   1.0 : x[4,1] + x[4,2] + x[4,3] + x[4,5] :   1.0 :   True\n",
        "         * 5 :   1.0 : x[5,1] + x[5,2] + x[5,3] + x[5,4] :   1.0 :   True"
      ]
    },
    {
      "cell_type": "code",
      "metadata": {
        "id": "0M9gHX3w43TO",
        "colab": {
          "base_uri": "https://localhost:8080/"
        },
        "outputId": "92e9b538-92c4-4865-9cc9-56c46cb3e23d"
      },
      "source": [
        "def rule_const2(model,N):\n",
        "    return sum(model.x[N,j] for j in model.M if j!=N) == 1\n",
        "\n",
        "model.rest2 = Constraint(model.N,rule=rule_const2)"
      ],
      "execution_count": null,
      "outputs": [
        {
          "output_type": "stream",
          "text": [
            "time: 10.3 ms (started: 2021-03-19 14:52:13 +00:00)\n"
          ],
          "name": "stdout"
        },
        {
          "output_type": "stream",
          "text": [
            "/usr/local/lib/python3.7/dist-packages/ipykernel_launcher.py:2: DeprecationWarning:\n",
            "\n",
            "Calling np.sum(generator) is deprecated, and in the future will give a different result. Use np.sum(np.fromiter(generator)) or the python sum builtin instead.\n",
            "\n"
          ],
          "name": "stderr"
        }
      ]
    },
    {
      "cell_type": "markdown",
      "metadata": {
        "id": "_yTePp2p5HwO"
      },
      "source": [
        "`Constraint(model.N,rule=rule_const2)` Creates $N$ constraints defined by the rule_const2."
      ]
    },
    {
      "cell_type": "markdown",
      "metadata": {
        "id": "1vma7WNl5O9P"
      },
      "source": [
        "##### **Constraint #3**\n",
        "<font color='red'> $u_{i}+u_{j}+nx_{ij}\\leq n-1\\quad 2\\leq i\\neq j \\leq n$  \n",
        "\n",
        "$1\\leq u_{i}\\leq n-1  \\quad 2\\leq i \\leq n$\n",
        "</font>\n",
        "\n",
        "Remember...\n",
        "`model.U = RangeSet(2,n) # Creates an index from 2 to n.`\n",
        "\n",
        "This gets rid of sub-tours.\n",
        "https://how-to.aimms.com/Articles/332/332-Miller-Tucker-Zemlin-formulation.html\n",
        "\n",
        "The third and last constraint it’s the one that enforce that there is only a single tour covering all cities, and not two or more disjointed tours that only collectively cover all cities.\n",
        "\n",
        "This constraint is more involved.\n",
        "\n",
        "\n",
        "const3 : Size=20, Index=const3_index, Active=True\n",
        "        Key    : Lower : Body                   : Upper : Active\n",
        "\n",
        "        (2, 1) :  -Inf : u[2] - u[1] + 5*x[2,1] :   4.0 :   True\n",
        "        (2, 2) :   0.0 :            u[2] - u[2] :   0.0 :   True\n",
        "        (2, 3) :  -Inf : u[2] - u[3] + 5*x[2,3] :   4.0 :   True\n",
        "        (2, 4) :  -Inf : u[2] - u[4] + 5*x[2,4] :   4.0 :   True\n",
        "        (2, 5) :  -Inf : u[2] - u[5] + 5*x[2,5] :   4.0 :   True\n",
        "        (3, 1) :  -Inf : u[3] - u[1] + 5*x[3,1] :   4.0 :   True\n",
        "        (3, 2) :  -Inf : u[3] - u[2] + 5*x[3,2] :   4.0 :   True\n",
        "        (3, 3) :   0.0 :            u[3] - u[3] :   0.0 :   True\n",
        "        (3, 4) :  -Inf : u[3] - u[4] + 5*x[3,4] :   4.0 :   True\n",
        "        (3, 5) :  -Inf : u[3] - u[5] + 5*x[3,5] :   4.0 :   True\n",
        "        (4, 1) :  -Inf : u[4] - u[1] + 5*x[4,1] :   4.0 :   True\n",
        "        (4, 2) :  -Inf : u[4] - u[2] + 5*x[4,2] :   4.0 :   True\n",
        "        (4, 3) :  -Inf : u[4] - u[3] + 5*x[4,3] :   4.0 :   True\n",
        "        (4, 4) :   0.0 :            u[4] - u[4] :   0.0 :   True\n",
        "        (4, 5) :  -Inf : u[4] - u[5] + 5*x[4,5] :   4.0 :   True\n",
        "        (5, 1) :  -Inf : u[5] - u[1] + 5*x[5,1] :   4.0 :   True\n",
        "        (5, 2) :  -Inf : u[5] - u[2] + 5*x[5,2] :   4.0 :   True\n",
        "        (5, 3) :  -Inf : u[5] - u[3] + 5*x[5,3] :   4.0 :   True\n",
        "        (5, 4) :  -Inf : u[5] - u[4] + 5*x[5,4] :   4.0 :   True\n",
        "        (5, 5) :   0.0 :            u[5] - u[5] :   0.0 :   True"
      ]
    },
    {
      "cell_type": "code",
      "metadata": {
        "id": "4GNNaIq22Hgu",
        "colab": {
          "base_uri": "https://localhost:8080/"
        },
        "outputId": "54d12e0c-3e98-4986-ae91-71d6a64af925"
      },
      "source": [
        "print(model.u[2]()) # for example, this prints 3! does not include the base node"
      ],
      "execution_count": null,
      "outputs": [
        {
          "output_type": "stream",
          "text": [
            "None\n",
            "time: 1.75 ms (started: 2021-03-19 14:52:13 +00:00)\n"
          ],
          "name": "stdout"
        }
      ]
    },
    {
      "cell_type": "code",
      "metadata": {
        "id": "BC-LQHc05Qm2",
        "colab": {
          "base_uri": "https://localhost:8080/"
        },
        "outputId": "1d2d8a2a-4625-4769-f4ee-ad286c0c523f"
      },
      "source": [
        "def rule_const3(model,i,j):\n",
        "    if i!=j: \n",
        "        return model.u[i] - model.u[j] + model.x[i,j] * n <= n-1\n",
        "    else:\n",
        "        #Skipped constraint\n",
        "        return Constraint.Skip\n",
        "    \n",
        "model.const3 = Constraint(model.U,model.N,rule=rule_const3)"
      ],
      "execution_count": null,
      "outputs": [
        {
          "output_type": "stream",
          "text": [
            "time: 32.7 ms (started: 2021-03-19 14:52:13 +00:00)\n"
          ],
          "name": "stdout"
        }
      ]
    },
    {
      "cell_type": "markdown",
      "metadata": {
        "id": "CEnTOhyN5iBG"
      },
      "source": [
        "`Constraint(model.U,Model.N,rule=rule_const3)` Creates $UxN$ constraints defined by the `rule_const3`.\n",
        "\n",
        "A *rule type* function must provide a Pyomo Object, so that’s why we had to write that weird else condition."
      ]
    },
    {
      "cell_type": "markdown",
      "metadata": {
        "id": "gqZzu2Al5ske"
      },
      "source": [
        "### Pretty print"
      ]
    },
    {
      "cell_type": "code",
      "metadata": {
        "id": "TjQHY4Gf5uJL",
        "colab": {
          "base_uri": "https://localhost:8080/"
        },
        "outputId": "68099d14-81f9-4493-8fce-8fe4913e8863"
      },
      "source": [
        "#Prints the entire model\n",
        "model.pprint()"
      ],
      "execution_count": null,
      "outputs": [
        {
          "output_type": "stream",
          "text": [
            "3 Set Declarations\n",
            "    c_index : Size=1, Index=None, Ordered=True\n",
            "        Key  : Dimen : Domain : Size : Members\n",
            "        None :     2 :    N*M :  529 : {(1, 1), (1, 2), (1, 3), (1, 4), (1, 5), (1, 6), (1, 7), (1, 8), (1, 9), (1, 10), (1, 11), (1, 12), (1, 13), (1, 14), (1, 15), (1, 16), (1, 17), (1, 18), (1, 19), (1, 20), (1, 21), (1, 22), (1, 23), (2, 1), (2, 2), (2, 3), (2, 4), (2, 5), (2, 6), (2, 7), (2, 8), (2, 9), (2, 10), (2, 11), (2, 12), (2, 13), (2, 14), (2, 15), (2, 16), (2, 17), (2, 18), (2, 19), (2, 20), (2, 21), (2, 22), (2, 23), (3, 1), (3, 2), (3, 3), (3, 4), (3, 5), (3, 6), (3, 7), (3, 8), (3, 9), (3, 10), (3, 11), (3, 12), (3, 13), (3, 14), (3, 15), (3, 16), (3, 17), (3, 18), (3, 19), (3, 20), (3, 21), (3, 22), (3, 23), (4, 1), (4, 2), (4, 3), (4, 4), (4, 5), (4, 6), (4, 7), (4, 8), (4, 9), (4, 10), (4, 11), (4, 12), (4, 13), (4, 14), (4, 15), (4, 16), (4, 17), (4, 18), (4, 19), (4, 20), (4, 21), (4, 22), (4, 23), (5, 1), (5, 2), (5, 3), (5, 4), (5, 5), (5, 6), (5, 7), (5, 8), (5, 9), (5, 10), (5, 11), (5, 12), (5, 13), (5, 14), (5, 15), (5, 16), (5, 17), (5, 18), (5, 19), (5, 20), (5, 21), (5, 22), (5, 23), (6, 1), (6, 2), (6, 3), (6, 4), (6, 5), (6, 6), (6, 7), (6, 8), (6, 9), (6, 10), (6, 11), (6, 12), (6, 13), (6, 14), (6, 15), (6, 16), (6, 17), (6, 18), (6, 19), (6, 20), (6, 21), (6, 22), (6, 23), (7, 1), (7, 2), (7, 3), (7, 4), (7, 5), (7, 6), (7, 7), (7, 8), (7, 9), (7, 10), (7, 11), (7, 12), (7, 13), (7, 14), (7, 15), (7, 16), (7, 17), (7, 18), (7, 19), (7, 20), (7, 21), (7, 22), (7, 23), (8, 1), (8, 2), (8, 3), (8, 4), (8, 5), (8, 6), (8, 7), (8, 8), (8, 9), (8, 10), (8, 11), (8, 12), (8, 13), (8, 14), (8, 15), (8, 16), (8, 17), (8, 18), (8, 19), (8, 20), (8, 21), (8, 22), (8, 23), (9, 1), (9, 2), (9, 3), (9, 4), (9, 5), (9, 6), (9, 7), (9, 8), (9, 9), (9, 10), (9, 11), (9, 12), (9, 13), (9, 14), (9, 15), (9, 16), (9, 17), (9, 18), (9, 19), (9, 20), (9, 21), (9, 22), (9, 23), (10, 1), (10, 2), (10, 3), (10, 4), (10, 5), (10, 6), (10, 7), (10, 8), (10, 9), (10, 10), (10, 11), (10, 12), (10, 13), (10, 14), (10, 15), (10, 16), (10, 17), (10, 18), (10, 19), (10, 20), (10, 21), (10, 22), (10, 23), (11, 1), (11, 2), (11, 3), (11, 4), (11, 5), (11, 6), (11, 7), (11, 8), (11, 9), (11, 10), (11, 11), (11, 12), (11, 13), (11, 14), (11, 15), (11, 16), (11, 17), (11, 18), (11, 19), (11, 20), (11, 21), (11, 22), (11, 23), (12, 1), (12, 2), (12, 3), (12, 4), (12, 5), (12, 6), (12, 7), (12, 8), (12, 9), (12, 10), (12, 11), (12, 12), (12, 13), (12, 14), (12, 15), (12, 16), (12, 17), (12, 18), (12, 19), (12, 20), (12, 21), (12, 22), (12, 23), (13, 1), (13, 2), (13, 3), (13, 4), (13, 5), (13, 6), (13, 7), (13, 8), (13, 9), (13, 10), (13, 11), (13, 12), (13, 13), (13, 14), (13, 15), (13, 16), (13, 17), (13, 18), (13, 19), (13, 20), (13, 21), (13, 22), (13, 23), (14, 1), (14, 2), (14, 3), (14, 4), (14, 5), (14, 6), (14, 7), (14, 8), (14, 9), (14, 10), (14, 11), (14, 12), (14, 13), (14, 14), (14, 15), (14, 16), (14, 17), (14, 18), (14, 19), (14, 20), (14, 21), (14, 22), (14, 23), (15, 1), (15, 2), (15, 3), (15, 4), (15, 5), (15, 6), (15, 7), (15, 8), (15, 9), (15, 10), (15, 11), (15, 12), (15, 13), (15, 14), (15, 15), (15, 16), (15, 17), (15, 18), (15, 19), (15, 20), (15, 21), (15, 22), (15, 23), (16, 1), (16, 2), (16, 3), (16, 4), (16, 5), (16, 6), (16, 7), (16, 8), (16, 9), (16, 10), (16, 11), (16, 12), (16, 13), (16, 14), (16, 15), (16, 16), (16, 17), (16, 18), (16, 19), (16, 20), (16, 21), (16, 22), (16, 23), (17, 1), (17, 2), (17, 3), (17, 4), (17, 5), (17, 6), (17, 7), (17, 8), (17, 9), (17, 10), (17, 11), (17, 12), (17, 13), (17, 14), (17, 15), (17, 16), (17, 17), (17, 18), (17, 19), (17, 20), (17, 21), (17, 22), (17, 23), (18, 1), (18, 2), (18, 3), (18, 4), (18, 5), (18, 6), (18, 7), (18, 8), (18, 9), (18, 10), (18, 11), (18, 12), (18, 13), (18, 14), (18, 15), (18, 16), (18, 17), (18, 18), (18, 19), (18, 20), (18, 21), (18, 22), (18, 23), (19, 1), (19, 2), (19, 3), (19, 4), (19, 5), (19, 6), (19, 7), (19, 8), (19, 9), (19, 10), (19, 11), (19, 12), (19, 13), (19, 14), (19, 15), (19, 16), (19, 17), (19, 18), (19, 19), (19, 20), (19, 21), (19, 22), (19, 23), (20, 1), (20, 2), (20, 3), (20, 4), (20, 5), (20, 6), (20, 7), (20, 8), (20, 9), (20, 10), (20, 11), (20, 12), (20, 13), (20, 14), (20, 15), (20, 16), (20, 17), (20, 18), (20, 19), (20, 20), (20, 21), (20, 22), (20, 23), (21, 1), (21, 2), (21, 3), (21, 4), (21, 5), (21, 6), (21, 7), (21, 8), (21, 9), (21, 10), (21, 11), (21, 12), (21, 13), (21, 14), (21, 15), (21, 16), (21, 17), (21, 18), (21, 19), (21, 20), (21, 21), (21, 22), (21, 23), (22, 1), (22, 2), (22, 3), (22, 4), (22, 5), (22, 6), (22, 7), (22, 8), (22, 9), (22, 10), (22, 11), (22, 12), (22, 13), (22, 14), (22, 15), (22, 16), (22, 17), (22, 18), (22, 19), (22, 20), (22, 21), (22, 22), (22, 23), (23, 1), (23, 2), (23, 3), (23, 4), (23, 5), (23, 6), (23, 7), (23, 8), (23, 9), (23, 10), (23, 11), (23, 12), (23, 13), (23, 14), (23, 15), (23, 16), (23, 17), (23, 18), (23, 19), (23, 20), (23, 21), (23, 22), (23, 23)}\n",
            "    const3_index : Size=1, Index=None, Ordered=True\n",
            "        Key  : Dimen : Domain : Size : Members\n",
            "        None :     2 :    U*N :  506 : {(2, 1), (2, 2), (2, 3), (2, 4), (2, 5), (2, 6), (2, 7), (2, 8), (2, 9), (2, 10), (2, 11), (2, 12), (2, 13), (2, 14), (2, 15), (2, 16), (2, 17), (2, 18), (2, 19), (2, 20), (2, 21), (2, 22), (2, 23), (3, 1), (3, 2), (3, 3), (3, 4), (3, 5), (3, 6), (3, 7), (3, 8), (3, 9), (3, 10), (3, 11), (3, 12), (3, 13), (3, 14), (3, 15), (3, 16), (3, 17), (3, 18), (3, 19), (3, 20), (3, 21), (3, 22), (3, 23), (4, 1), (4, 2), (4, 3), (4, 4), (4, 5), (4, 6), (4, 7), (4, 8), (4, 9), (4, 10), (4, 11), (4, 12), (4, 13), (4, 14), (4, 15), (4, 16), (4, 17), (4, 18), (4, 19), (4, 20), (4, 21), (4, 22), (4, 23), (5, 1), (5, 2), (5, 3), (5, 4), (5, 5), (5, 6), (5, 7), (5, 8), (5, 9), (5, 10), (5, 11), (5, 12), (5, 13), (5, 14), (5, 15), (5, 16), (5, 17), (5, 18), (5, 19), (5, 20), (5, 21), (5, 22), (5, 23), (6, 1), (6, 2), (6, 3), (6, 4), (6, 5), (6, 6), (6, 7), (6, 8), (6, 9), (6, 10), (6, 11), (6, 12), (6, 13), (6, 14), (6, 15), (6, 16), (6, 17), (6, 18), (6, 19), (6, 20), (6, 21), (6, 22), (6, 23), (7, 1), (7, 2), (7, 3), (7, 4), (7, 5), (7, 6), (7, 7), (7, 8), (7, 9), (7, 10), (7, 11), (7, 12), (7, 13), (7, 14), (7, 15), (7, 16), (7, 17), (7, 18), (7, 19), (7, 20), (7, 21), (7, 22), (7, 23), (8, 1), (8, 2), (8, 3), (8, 4), (8, 5), (8, 6), (8, 7), (8, 8), (8, 9), (8, 10), (8, 11), (8, 12), (8, 13), (8, 14), (8, 15), (8, 16), (8, 17), (8, 18), (8, 19), (8, 20), (8, 21), (8, 22), (8, 23), (9, 1), (9, 2), (9, 3), (9, 4), (9, 5), (9, 6), (9, 7), (9, 8), (9, 9), (9, 10), (9, 11), (9, 12), (9, 13), (9, 14), (9, 15), (9, 16), (9, 17), (9, 18), (9, 19), (9, 20), (9, 21), (9, 22), (9, 23), (10, 1), (10, 2), (10, 3), (10, 4), (10, 5), (10, 6), (10, 7), (10, 8), (10, 9), (10, 10), (10, 11), (10, 12), (10, 13), (10, 14), (10, 15), (10, 16), (10, 17), (10, 18), (10, 19), (10, 20), (10, 21), (10, 22), (10, 23), (11, 1), (11, 2), (11, 3), (11, 4), (11, 5), (11, 6), (11, 7), (11, 8), (11, 9), (11, 10), (11, 11), (11, 12), (11, 13), (11, 14), (11, 15), (11, 16), (11, 17), (11, 18), (11, 19), (11, 20), (11, 21), (11, 22), (11, 23), (12, 1), (12, 2), (12, 3), (12, 4), (12, 5), (12, 6), (12, 7), (12, 8), (12, 9), (12, 10), (12, 11), (12, 12), (12, 13), (12, 14), (12, 15), (12, 16), (12, 17), (12, 18), (12, 19), (12, 20), (12, 21), (12, 22), (12, 23), (13, 1), (13, 2), (13, 3), (13, 4), (13, 5), (13, 6), (13, 7), (13, 8), (13, 9), (13, 10), (13, 11), (13, 12), (13, 13), (13, 14), (13, 15), (13, 16), (13, 17), (13, 18), (13, 19), (13, 20), (13, 21), (13, 22), (13, 23), (14, 1), (14, 2), (14, 3), (14, 4), (14, 5), (14, 6), (14, 7), (14, 8), (14, 9), (14, 10), (14, 11), (14, 12), (14, 13), (14, 14), (14, 15), (14, 16), (14, 17), (14, 18), (14, 19), (14, 20), (14, 21), (14, 22), (14, 23), (15, 1), (15, 2), (15, 3), (15, 4), (15, 5), (15, 6), (15, 7), (15, 8), (15, 9), (15, 10), (15, 11), (15, 12), (15, 13), (15, 14), (15, 15), (15, 16), (15, 17), (15, 18), (15, 19), (15, 20), (15, 21), (15, 22), (15, 23), (16, 1), (16, 2), (16, 3), (16, 4), (16, 5), (16, 6), (16, 7), (16, 8), (16, 9), (16, 10), (16, 11), (16, 12), (16, 13), (16, 14), (16, 15), (16, 16), (16, 17), (16, 18), (16, 19), (16, 20), (16, 21), (16, 22), (16, 23), (17, 1), (17, 2), (17, 3), (17, 4), (17, 5), (17, 6), (17, 7), (17, 8), (17, 9), (17, 10), (17, 11), (17, 12), (17, 13), (17, 14), (17, 15), (17, 16), (17, 17), (17, 18), (17, 19), (17, 20), (17, 21), (17, 22), (17, 23), (18, 1), (18, 2), (18, 3), (18, 4), (18, 5), (18, 6), (18, 7), (18, 8), (18, 9), (18, 10), (18, 11), (18, 12), (18, 13), (18, 14), (18, 15), (18, 16), (18, 17), (18, 18), (18, 19), (18, 20), (18, 21), (18, 22), (18, 23), (19, 1), (19, 2), (19, 3), (19, 4), (19, 5), (19, 6), (19, 7), (19, 8), (19, 9), (19, 10), (19, 11), (19, 12), (19, 13), (19, 14), (19, 15), (19, 16), (19, 17), (19, 18), (19, 19), (19, 20), (19, 21), (19, 22), (19, 23), (20, 1), (20, 2), (20, 3), (20, 4), (20, 5), (20, 6), (20, 7), (20, 8), (20, 9), (20, 10), (20, 11), (20, 12), (20, 13), (20, 14), (20, 15), (20, 16), (20, 17), (20, 18), (20, 19), (20, 20), (20, 21), (20, 22), (20, 23), (21, 1), (21, 2), (21, 3), (21, 4), (21, 5), (21, 6), (21, 7), (21, 8), (21, 9), (21, 10), (21, 11), (21, 12), (21, 13), (21, 14), (21, 15), (21, 16), (21, 17), (21, 18), (21, 19), (21, 20), (21, 21), (21, 22), (21, 23), (22, 1), (22, 2), (22, 3), (22, 4), (22, 5), (22, 6), (22, 7), (22, 8), (22, 9), (22, 10), (22, 11), (22, 12), (22, 13), (22, 14), (22, 15), (22, 16), (22, 17), (22, 18), (22, 19), (22, 20), (22, 21), (22, 22), (22, 23), (23, 1), (23, 2), (23, 3), (23, 4), (23, 5), (23, 6), (23, 7), (23, 8), (23, 9), (23, 10), (23, 11), (23, 12), (23, 13), (23, 14), (23, 15), (23, 16), (23, 17), (23, 18), (23, 19), (23, 20), (23, 21), (23, 22), (23, 23)}\n",
            "    x_index : Size=1, Index=None, Ordered=True\n",
            "        Key  : Dimen : Domain : Size : Members\n",
            "        None :     2 :    N*M :  529 : {(1, 1), (1, 2), (1, 3), (1, 4), (1, 5), (1, 6), (1, 7), (1, 8), (1, 9), (1, 10), (1, 11), (1, 12), (1, 13), (1, 14), (1, 15), (1, 16), (1, 17), (1, 18), (1, 19), (1, 20), (1, 21), (1, 22), (1, 23), (2, 1), (2, 2), (2, 3), (2, 4), (2, 5), (2, 6), (2, 7), (2, 8), (2, 9), (2, 10), (2, 11), (2, 12), (2, 13), (2, 14), (2, 15), (2, 16), (2, 17), (2, 18), (2, 19), (2, 20), (2, 21), (2, 22), (2, 23), (3, 1), (3, 2), (3, 3), (3, 4), (3, 5), (3, 6), (3, 7), (3, 8), (3, 9), (3, 10), (3, 11), (3, 12), (3, 13), (3, 14), (3, 15), (3, 16), (3, 17), (3, 18), (3, 19), (3, 20), (3, 21), (3, 22), (3, 23), (4, 1), (4, 2), (4, 3), (4, 4), (4, 5), (4, 6), (4, 7), (4, 8), (4, 9), (4, 10), (4, 11), (4, 12), (4, 13), (4, 14), (4, 15), (4, 16), (4, 17), (4, 18), (4, 19), (4, 20), (4, 21), (4, 22), (4, 23), (5, 1), (5, 2), (5, 3), (5, 4), (5, 5), (5, 6), (5, 7), (5, 8), (5, 9), (5, 10), (5, 11), (5, 12), (5, 13), (5, 14), (5, 15), (5, 16), (5, 17), (5, 18), (5, 19), (5, 20), (5, 21), (5, 22), (5, 23), (6, 1), (6, 2), (6, 3), (6, 4), (6, 5), (6, 6), (6, 7), (6, 8), (6, 9), (6, 10), (6, 11), (6, 12), (6, 13), (6, 14), (6, 15), (6, 16), (6, 17), (6, 18), (6, 19), (6, 20), (6, 21), (6, 22), (6, 23), (7, 1), (7, 2), (7, 3), (7, 4), (7, 5), (7, 6), (7, 7), (7, 8), (7, 9), (7, 10), (7, 11), (7, 12), (7, 13), (7, 14), (7, 15), (7, 16), (7, 17), (7, 18), (7, 19), (7, 20), (7, 21), (7, 22), (7, 23), (8, 1), (8, 2), (8, 3), (8, 4), (8, 5), (8, 6), (8, 7), (8, 8), (8, 9), (8, 10), (8, 11), (8, 12), (8, 13), (8, 14), (8, 15), (8, 16), (8, 17), (8, 18), (8, 19), (8, 20), (8, 21), (8, 22), (8, 23), (9, 1), (9, 2), (9, 3), (9, 4), (9, 5), (9, 6), (9, 7), (9, 8), (9, 9), (9, 10), (9, 11), (9, 12), (9, 13), (9, 14), (9, 15), (9, 16), (9, 17), (9, 18), (9, 19), (9, 20), (9, 21), (9, 22), (9, 23), (10, 1), (10, 2), (10, 3), (10, 4), (10, 5), (10, 6), (10, 7), (10, 8), (10, 9), (10, 10), (10, 11), (10, 12), (10, 13), (10, 14), (10, 15), (10, 16), (10, 17), (10, 18), (10, 19), (10, 20), (10, 21), (10, 22), (10, 23), (11, 1), (11, 2), (11, 3), (11, 4), (11, 5), (11, 6), (11, 7), (11, 8), (11, 9), (11, 10), (11, 11), (11, 12), (11, 13), (11, 14), (11, 15), (11, 16), (11, 17), (11, 18), (11, 19), (11, 20), (11, 21), (11, 22), (11, 23), (12, 1), (12, 2), (12, 3), (12, 4), (12, 5), (12, 6), (12, 7), (12, 8), (12, 9), (12, 10), (12, 11), (12, 12), (12, 13), (12, 14), (12, 15), (12, 16), (12, 17), (12, 18), (12, 19), (12, 20), (12, 21), (12, 22), (12, 23), (13, 1), (13, 2), (13, 3), (13, 4), (13, 5), (13, 6), (13, 7), (13, 8), (13, 9), (13, 10), (13, 11), (13, 12), (13, 13), (13, 14), (13, 15), (13, 16), (13, 17), (13, 18), (13, 19), (13, 20), (13, 21), (13, 22), (13, 23), (14, 1), (14, 2), (14, 3), (14, 4), (14, 5), (14, 6), (14, 7), (14, 8), (14, 9), (14, 10), (14, 11), (14, 12), (14, 13), (14, 14), (14, 15), (14, 16), (14, 17), (14, 18), (14, 19), (14, 20), (14, 21), (14, 22), (14, 23), (15, 1), (15, 2), (15, 3), (15, 4), (15, 5), (15, 6), (15, 7), (15, 8), (15, 9), (15, 10), (15, 11), (15, 12), (15, 13), (15, 14), (15, 15), (15, 16), (15, 17), (15, 18), (15, 19), (15, 20), (15, 21), (15, 22), (15, 23), (16, 1), (16, 2), (16, 3), (16, 4), (16, 5), (16, 6), (16, 7), (16, 8), (16, 9), (16, 10), (16, 11), (16, 12), (16, 13), (16, 14), (16, 15), (16, 16), (16, 17), (16, 18), (16, 19), (16, 20), (16, 21), (16, 22), (16, 23), (17, 1), (17, 2), (17, 3), (17, 4), (17, 5), (17, 6), (17, 7), (17, 8), (17, 9), (17, 10), (17, 11), (17, 12), (17, 13), (17, 14), (17, 15), (17, 16), (17, 17), (17, 18), (17, 19), (17, 20), (17, 21), (17, 22), (17, 23), (18, 1), (18, 2), (18, 3), (18, 4), (18, 5), (18, 6), (18, 7), (18, 8), (18, 9), (18, 10), (18, 11), (18, 12), (18, 13), (18, 14), (18, 15), (18, 16), (18, 17), (18, 18), (18, 19), (18, 20), (18, 21), (18, 22), (18, 23), (19, 1), (19, 2), (19, 3), (19, 4), (19, 5), (19, 6), (19, 7), (19, 8), (19, 9), (19, 10), (19, 11), (19, 12), (19, 13), (19, 14), (19, 15), (19, 16), (19, 17), (19, 18), (19, 19), (19, 20), (19, 21), (19, 22), (19, 23), (20, 1), (20, 2), (20, 3), (20, 4), (20, 5), (20, 6), (20, 7), (20, 8), (20, 9), (20, 10), (20, 11), (20, 12), (20, 13), (20, 14), (20, 15), (20, 16), (20, 17), (20, 18), (20, 19), (20, 20), (20, 21), (20, 22), (20, 23), (21, 1), (21, 2), (21, 3), (21, 4), (21, 5), (21, 6), (21, 7), (21, 8), (21, 9), (21, 10), (21, 11), (21, 12), (21, 13), (21, 14), (21, 15), (21, 16), (21, 17), (21, 18), (21, 19), (21, 20), (21, 21), (21, 22), (21, 23), (22, 1), (22, 2), (22, 3), (22, 4), (22, 5), (22, 6), (22, 7), (22, 8), (22, 9), (22, 10), (22, 11), (22, 12), (22, 13), (22, 14), (22, 15), (22, 16), (22, 17), (22, 18), (22, 19), (22, 20), (22, 21), (22, 22), (22, 23), (23, 1), (23, 2), (23, 3), (23, 4), (23, 5), (23, 6), (23, 7), (23, 8), (23, 9), (23, 10), (23, 11), (23, 12), (23, 13), (23, 14), (23, 15), (23, 16), (23, 17), (23, 18), (23, 19), (23, 20), (23, 21), (23, 22), (23, 23)}\n",
            "\n",
            "3 RangeSet Declarations\n",
            "    M : Dimen=1, Size=23, Bounds=(1, 23)\n",
            "        Key  : Finite : Members\n",
            "        None :   True :  [1:23]\n",
            "    N : Dimen=1, Size=23, Bounds=(1, 23)\n",
            "        Key  : Finite : Members\n",
            "        None :   True :  [1:23]\n",
            "    U : Dimen=1, Size=22, Bounds=(2, 23)\n",
            "        Key  : Finite : Members\n",
            "        None :   True :  [2:23]\n",
            "\n",
            "1 Param Declarations\n",
            "    c : Size=529, Index=c_index, Domain=Any, Default=None, Mutable=False\n",
            "        Key      : Value\n",
            "          (1, 1) : 99999.0\n",
            "          (1, 2) :   657.0\n",
            "          (1, 3) :  1398.0\n",
            "          (1, 4) :  2469.0\n",
            "          (1, 5) :  1321.0\n",
            "          (1, 6) :  1986.0\n",
            "          (1, 7) :  3290.0\n",
            "          (1, 8) :  1762.0\n",
            "          (1, 9) :  4045.0\n",
            "         (1, 10) :  2439.0\n",
            "         (1, 11) :  3276.0\n",
            "         (1, 12) :  3890.0\n",
            "         (1, 13) :  3047.0\n",
            "         (1, 14) :  4721.0\n",
            "         (1, 15) :  2755.0\n",
            "         (1, 16) :  4002.0\n",
            "         (1, 17) :  4400.0\n",
            "         (1, 18) :  2682.0\n",
            "         (1, 19) :  3743.0\n",
            "         (1, 20) :  3408.0\n",
            "         (1, 21) :  3431.0\n",
            "         (1, 22) :  4143.0\n",
            "         (1, 23) :  3286.0\n",
            "          (2, 1) :   657.0\n",
            "          (2, 2) : 99999.0\n",
            "          (2, 3) :   741.0\n",
            "          (2, 4) :  1812.0\n",
            "          (2, 5) :   664.0\n",
            "          (2, 6) :  1329.0\n",
            "          (2, 7) :  2633.0\n",
            "          (2, 8) :  1244.0\n",
            "          (2, 9) :  3388.0\n",
            "         (2, 10) :  1782.0\n",
            "         (2, 11) :  2619.0\n",
            "         (2, 12) :  3233.0\n",
            "         (2, 13) :  2390.0\n",
            "         (2, 14) :  4064.0\n",
            "         (2, 15) :  2098.0\n",
            "         (2, 16) :  3345.0\n",
            "         (2, 17) :  3743.0\n",
            "         (2, 18) :  2164.0\n",
            "         (2, 19) :  3085.0\n",
            "         (2, 20) :  2889.0\n",
            "         (2, 21) :  2773.0\n",
            "         (2, 22) :  3625.0\n",
            "         (2, 23) :  2629.0\n",
            "          (3, 1) :  1398.0\n",
            "          (3, 2) :   741.0\n",
            "          (3, 3) : 99999.0\n",
            "          (3, 4) :  1072.0\n",
            "          (3, 5) :   920.0\n",
            "          (3, 6) :   593.0\n",
            "          (3, 7) :  1892.0\n",
            "          (3, 8) :  1726.0\n",
            "          (3, 9) :  2647.0\n",
            "         (3, 10) :  1041.0\n",
            "         (3, 11) :  1879.0\n",
            "         (3, 12) :  2493.0\n",
            "         (3, 13) :  1649.0\n",
            "         (3, 14) :  3323.0\n",
            "         (3, 15) :  1963.0\n",
            "         (3, 16) :  2605.0\n",
            "         (3, 17) :  3003.0\n",
            "         (3, 18) :  2646.0\n",
            "         (3, 19) :  2345.0\n",
            "         (3, 20) :  3372.0\n",
            "         (3, 21) :  2419.0\n",
            "         (3, 22) :  4107.0\n",
            "         (3, 23) :  3035.0\n",
            "          (4, 1) :  2469.0\n",
            "          (4, 2) :  1812.0\n",
            "          (4, 3) :  1072.0\n",
            "          (4, 4) : 99999.0\n",
            "          (4, 5) :  1148.0\n",
            "          (4, 6) :   789.0\n",
            "          (4, 7) :   821.0\n",
            "          (4, 8) :  1922.0\n",
            "          (4, 9) :  1576.0\n",
            "         (4, 10) :  1226.0\n",
            "         (4, 11) :   900.0\n",
            "         (4, 12) :  1421.0\n",
            "         (4, 13) :  1594.0\n",
            "         (4, 14) :  2251.0\n",
            "         (4, 15) :  2159.0\n",
            "         (4, 16) :  1533.0\n",
            "         (4, 17) :  1931.0\n",
            "         (4, 18) :  2842.0\n",
            "         (4, 19) :  1957.0\n",
            "         (4, 20) :  3568.0\n",
            "         (4, 21) :  2615.0\n",
            "         (4, 22) :  4303.0\n",
            "         (4, 23) :  3231.0\n",
            "          (5, 1) :  1321.0\n",
            "          (5, 2) :   664.0\n",
            "          (5, 3) :   920.0\n",
            "          (5, 4) :  1148.0\n",
            "          (5, 5) : 99999.0\n",
            "          (5, 6) :   665.0\n",
            "          (5, 7) :  1969.0\n",
            "          (5, 8) :   806.0\n",
            "          (5, 9) :  2724.0\n",
            "         (5, 10) :  1118.0\n",
            "         (5, 11) :  1955.0\n",
            "         (5, 12) :  2569.0\n",
            "         (5, 13) :  1726.0\n",
            "         (5, 14) :  3400.0\n",
            "         (5, 15) :  1434.0\n",
            "         (5, 16) :  2681.0\n",
            "         (5, 17) :  3079.0\n",
            "         (5, 18) :  1726.0\n",
            "         (5, 19) :  2421.0\n",
            "         (5, 20) :  2452.0\n",
            "         (5, 21) :  2110.0\n",
            "         (5, 22) :  3187.0\n",
            "         (5, 23) :  2115.0\n",
            "          (6, 1) :  1986.0\n",
            "          (6, 2) :  1329.0\n",
            "          (6, 3) :   593.0\n",
            "          (6, 4) :   789.0\n",
            "          (6, 5) :   665.0\n",
            "          (6, 6) : 99999.0\n",
            "          (6, 7) :  1304.0\n",
            "          (6, 8) :  1133.0\n",
            "          (6, 9) :  2059.0\n",
            "         (6, 10) :   453.0\n",
            "         (6, 11) :  1290.0\n",
            "         (6, 12) :  1904.0\n",
            "         (6, 13) :  1061.0\n",
            "         (6, 14) :  2734.0\n",
            "         (6, 15) :  1370.0\n",
            "         (6, 16) :  2016.0\n",
            "         (6, 17) :  2414.0\n",
            "         (6, 18) :  2053.0\n",
            "         (6, 19) :  1756.0\n",
            "         (6, 20) :  2779.0\n",
            "         (6, 21) :  1826.0\n",
            "         (6, 22) :  3514.0\n",
            "         (6, 23) :  2442.0\n",
            "          (7, 1) :  3290.0\n",
            "          (7, 2) :  2633.0\n",
            "          (7, 3) :  1892.0\n",
            "          (7, 4) :   821.0\n",
            "          (7, 5) :  1969.0\n",
            "          (7, 6) :  1304.0\n",
            "          (7, 7) : 99999.0\n",
            "          (7, 8) :  1967.0\n",
            "          (7, 9) :   755.0\n",
            "         (7, 10) :  1270.0\n",
            "         (7, 11) :   944.0\n",
            "         (7, 12) :   600.0\n",
            "         (7, 13) :  1638.0\n",
            "         (7, 14) :  1431.0\n",
            "         (7, 15) :  2204.0\n",
            "         (7, 16) :  1328.0\n",
            "         (7, 17) :  1110.0\n",
            "         (7, 18) :  2887.0\n",
            "         (7, 19) :  2002.0\n",
            "         (7, 20) :  3613.0\n",
            "         (7, 21) :  2660.0\n",
            "         (7, 22) :  4348.0\n",
            "         (7, 23) :  3276.0\n",
            "          (8, 1) :  1762.0\n",
            "          (8, 2) :  1244.0\n",
            "          (8, 3) :  1726.0\n",
            "          (8, 4) :  1922.0\n",
            "          (8, 5) :   806.0\n",
            "          (8, 6) :  1133.0\n",
            "          (8, 7) :  1967.0\n",
            "          (8, 8) : 99999.0\n",
            "          (8, 9) :  2317.0\n",
            "         (8, 10) :   711.0\n",
            "         (8, 11) :  1549.0\n",
            "         (8, 12) :  2163.0\n",
            "         (8, 13) :  1319.0\n",
            "         (8, 14) :  2993.0\n",
            "         (8, 15) :  1027.0\n",
            "         (8, 16) :  2275.0\n",
            "         (8, 17) :  2673.0\n",
            "         (8, 18) :   954.0\n",
            "         (8, 19) :  2015.0\n",
            "         (8, 20) :  1646.0\n",
            "         (8, 21) :  1703.0\n",
            "         (8, 22) :  2381.0\n",
            "         (8, 23) :  1558.0\n",
            "          (9, 1) :  4045.0\n",
            "          (9, 2) :  3388.0\n",
            "          (9, 3) :  2647.0\n",
            "          (9, 4) :  1576.0\n",
            "          (9, 5) :  2724.0\n",
            "          (9, 6) :  2059.0\n",
            "          (9, 7) :   755.0\n",
            "          (9, 8) :  2317.0\n",
            "          (9, 9) : 99999.0\n",
            "         (9, 10) :  1620.0\n",
            "         (9, 11) :  1294.0\n",
            "         (9, 12) :   740.0\n",
            "         (9, 13) :  1988.0\n",
            "         (9, 14) :   676.0\n",
            "         (9, 15) :  2554.0\n",
            "         (9, 16) :  1678.0\n",
            "         (9, 17) :  1091.0\n",
            "         (9, 18) :  3236.0\n",
            "         (9, 19) :  2351.0\n",
            "         (9, 20) :  3962.0\n",
            "         (9, 21) :  3009.0\n",
            "         (9, 22) :  4697.0\n",
            "         (9, 23) :  3626.0\n",
            "         (10, 1) :  2439.0\n",
            "         (10, 2) :  1782.0\n",
            "         (10, 3) :  1041.0\n",
            "         (10, 4) :  1226.0\n",
            "         (10, 5) :  1118.0\n",
            "         (10, 6) :   453.0\n",
            "         (10, 7) :  1270.0\n",
            "         (10, 8) :   711.0\n",
            "         (10, 9) :  1620.0\n",
            "        (10, 10) : 99999.0\n",
            "        (10, 11) :   837.0\n",
            "        (10, 12) :  1451.0\n",
            "        (10, 13) :   608.0\n",
            "        (10, 14) :  2282.0\n",
            "        (10, 15) :   934.0\n",
            "        (10, 16) :  1563.0\n",
            "        (10, 17) :  1961.0\n",
            "        (10, 18) :  1617.0\n",
            "        (10, 19) :  1304.0\n",
            "        (10, 20) :  2342.0\n",
            "        (10, 21) :  1389.0\n",
            "        (10, 22) :  3077.0\n",
            "        (10, 23) :  2006.0\n",
            "         (11, 1) :  3276.0\n",
            "         (11, 2) :  2619.0\n",
            "         (11, 3) :  1879.0\n",
            "         (11, 4) :   900.0\n",
            "         (11, 5) :  1955.0\n",
            "         (11, 6) :  1290.0\n",
            "         (11, 7) :   944.0\n",
            "         (11, 8) :  1549.0\n",
            "         (11, 9) :  1294.0\n",
            "        (11, 10) :   837.0\n",
            "        (11, 11) : 99999.0\n",
            "        (11, 12) :   614.0\n",
            "        (11, 13) :   694.0\n",
            "        (11, 14) :  1444.0\n",
            "        (11, 15) :  1260.0\n",
            "        (11, 16) :   726.0\n",
            "        (11, 17) :  1124.0\n",
            "        (11, 18) :  1943.0\n",
            "        (11, 19) :  1057.0\n",
            "        (11, 20) :  2668.0\n",
            "        (11, 21) :  1716.0\n",
            "        (11, 22) :  3403.0\n",
            "        (11, 23) :  2332.0\n",
            "         (12, 1) :  3890.0\n",
            "         (12, 2) :  3233.0\n",
            "         (12, 3) :  2493.0\n",
            "         (12, 4) :  1421.0\n",
            "         (12, 5) :  2569.0\n",
            "         (12, 6) :  1904.0\n",
            "         (12, 7) :   600.0\n",
            "         (12, 8) :  2163.0\n",
            "         (12, 9) :   740.0\n",
            "        (12, 10) :  1451.0\n",
            "        (12, 11) :   614.0\n",
            "        (12, 12) : 99999.0\n",
            "        (12, 13) :  1248.0\n",
            "        (12, 14) :   830.0\n",
            "        (12, 15) :  1814.0\n",
            "        (12, 16) :   938.0\n",
            "        (12, 17) :   510.0\n",
            "        (12, 18) :  2496.0\n",
            "        (12, 19) :  1611.0\n",
            "        (12, 20) :  3222.0\n",
            "        (12, 21) :  2269.0\n",
            "        (12, 22) :  3957.0\n",
            "        (12, 23) :  2886.0\n",
            "         (13, 1) :  3047.0\n",
            "         (13, 2) :  2390.0\n",
            "         (13, 3) :  1649.0\n",
            "         (13, 4) :  1594.0\n",
            "         (13, 5) :  1726.0\n",
            "         (13, 6) :  1061.0\n",
            "         (13, 7) :  1638.0\n",
            "         (13, 8) :  1319.0\n",
            "         (13, 9) :  1988.0\n",
            "        (13, 10) :   608.0\n",
            "        (13, 11) :   694.0\n",
            "        (13, 12) :  1248.0\n",
            "        (13, 13) : 99999.0\n",
            "        (13, 14) :  1674.0\n",
            "        (13, 15) :   566.0\n",
            "        (13, 16) :   956.0\n",
            "        (13, 17) :  1354.0\n",
            "        (13, 18) :  1249.0\n",
            "        (13, 19) :   696.0\n",
            "        (13, 20) :  1974.0\n",
            "        (13, 21) :  1021.0\n",
            "        (13, 22) :  2709.0\n",
            "        (13, 23) :  1638.0\n",
            "         (14, 1) :  4721.0\n",
            "         (14, 2) :  4064.0\n",
            "         (14, 3) :  3323.0\n",
            "         (14, 4) :  2251.0\n",
            "         (14, 5) :  3400.0\n",
            "         (14, 6) :  2734.0\n",
            "         (14, 7) :  1431.0\n",
            "         (14, 8) :  2993.0\n",
            "         (14, 9) :   676.0\n",
            "        (14, 10) :  2282.0\n",
            "        (14, 11) :  1444.0\n",
            "        (14, 12) :   830.0\n",
            "        (14, 13) :  1674.0\n",
            "        (14, 14) : 99999.0\n",
            "        (14, 15) :  1978.0\n",
            "        (14, 16) :  1102.0\n",
            "        (14, 17) :   515.0\n",
            "        (14, 18) :  2660.0\n",
            "        (14, 19) :  1775.0\n",
            "        (14, 20) :  3386.0\n",
            "        (14, 21) :  2433.0\n",
            "        (14, 22) :  4121.0\n",
            "        (14, 23) :  3050.0\n",
            "         (15, 1) :  2755.0\n",
            "         (15, 2) :  2098.0\n",
            "         (15, 3) :  1963.0\n",
            "         (15, 4) :  2159.0\n",
            "         (15, 5) :  1434.0\n",
            "         (15, 6) :  1370.0\n",
            "         (15, 7) :  2204.0\n",
            "         (15, 8) :  1027.0\n",
            "         (15, 9) :  2554.0\n",
            "        (15, 10) :   934.0\n",
            "        (15, 11) :  1260.0\n",
            "        (15, 12) :  1814.0\n",
            "        (15, 13) :   566.0\n",
            "        (15, 14) :  1978.0\n",
            "        (15, 15) : 99999.0\n",
            "        (15, 16) :  1247.0\n",
            "        (15, 17) :  1645.0\n",
            "        (15, 18) :   683.0\n",
            "        (15, 19) :   988.0\n",
            "        (15, 20) :  1408.0\n",
            "        (15, 21) :   676.0\n",
            "        (15, 22) :  2143.0\n",
            "        (15, 23) :  1072.0\n",
            "         (16, 1) :  4002.0\n",
            "         (16, 2) :  3345.0\n",
            "         (16, 3) :  2605.0\n",
            "         (16, 4) :  1533.0\n",
            "         (16, 5) :  2681.0\n",
            "         (16, 6) :  2016.0\n",
            "         (16, 7) :  1328.0\n",
            "         (16, 8) :  2275.0\n",
            "         (16, 9) :  1678.0\n",
            "        (16, 10) :  1563.0\n",
            "        (16, 11) :   726.0\n",
            "        (16, 12) :   938.0\n",
            "        (16, 13) :   956.0\n",
            "        (16, 14) :  1102.0\n",
            "        (16, 15) :  1247.0\n",
            "        (16, 16) : 99999.0\n",
            "        (16, 17) :   587.0\n",
            "        (16, 18) :  1558.0\n",
            "        (16, 19) :   673.0\n",
            "        (16, 20) :  2284.0\n",
            "        (16, 21) :  1331.0\n",
            "        (16, 22) :  3019.0\n",
            "        (16, 23) :  1948.0\n",
            "         (17, 1) :  4400.0\n",
            "         (17, 2) :  3743.0\n",
            "         (17, 3) :  3003.0\n",
            "         (17, 4) :  1931.0\n",
            "         (17, 5) :  3079.0\n",
            "         (17, 6) :  2414.0\n",
            "         (17, 7) :  1110.0\n",
            "         (17, 8) :  2673.0\n",
            "         (17, 9) :  1091.0\n",
            "        (17, 10) :  1961.0\n",
            "        (17, 11) :  1124.0\n",
            "        (17, 12) :   510.0\n",
            "        (17, 13) :  1354.0\n",
            "        (17, 14) :   515.0\n",
            "        (17, 15) :  1645.0\n",
            "        (17, 16) :   587.0\n",
            "        (17, 17) : 99999.0\n",
            "        (17, 18) :  2145.0\n",
            "        (17, 19) :  1260.0\n",
            "        (17, 20) :  2871.0\n",
            "        (17, 21) :  1918.0\n",
            "        (17, 22) :  3606.0\n",
            "        (17, 23) :  2534.0\n",
            "         (18, 1) :  2682.0\n",
            "         (18, 2) :  2164.0\n",
            "         (18, 3) :  2646.0\n",
            "         (18, 4) :  2842.0\n",
            "         (18, 5) :  1726.0\n",
            "         (18, 6) :  2053.0\n",
            "         (18, 7) :  2887.0\n",
            "         (18, 8) :   954.0\n",
            "         (18, 9) :  3236.0\n",
            "        (18, 10) :  1617.0\n",
            "        (18, 11) :  1943.0\n",
            "        (18, 12) :  2496.0\n",
            "        (18, 13) :  1249.0\n",
            "        (18, 14) :  2660.0\n",
            "        (18, 15) :   683.0\n",
            "        (18, 16) :  1558.0\n",
            "        (18, 17) :  2145.0\n",
            "        (18, 18) : 99999.0\n",
            "        (18, 19) :  1061.0\n",
            "        (18, 20) :   726.0\n",
            "        (18, 21) :   749.0\n",
            "        (18, 22) :  1461.0\n",
            "        (18, 23) :   604.0\n",
            "         (19, 1) :  3743.0\n",
            "         (19, 2) :  3085.0\n",
            "         (19, 3) :  2345.0\n",
            "         (19, 4) :  1957.0\n",
            "         (19, 5) :  2421.0\n",
            "         (19, 6) :  1756.0\n",
            "         (19, 7) :  2002.0\n",
            "         (19, 8) :  2015.0\n",
            "         (19, 9) :  2351.0\n",
            "        (19, 10) :  1304.0\n",
            "        (19, 11) :  1057.0\n",
            "        (19, 12) :  1611.0\n",
            "        (19, 13) :   696.0\n",
            "        (19, 14) :  1775.0\n",
            "        (19, 15) :   988.0\n",
            "        (19, 16) :   673.0\n",
            "        (19, 17) :  1260.0\n",
            "        (19, 18) :  1061.0\n",
            "        (19, 19) : 99999.0\n",
            "        (19, 20) :  1611.0\n",
            "        (19, 21) :   658.0\n",
            "        (19, 22) :  2346.0\n",
            "        (19, 23) :  1274.0\n",
            "         (20, 1) :  3408.0\n",
            "         (20, 2) :  2889.0\n",
            "         (20, 3) :  3372.0\n",
            "         (20, 4) :  3568.0\n",
            "         (20, 5) :  2452.0\n",
            "         (20, 6) :  2779.0\n",
            "         (20, 7) :  3613.0\n",
            "         (20, 8) :  1646.0\n",
            "         (20, 9) :  3962.0\n",
            "        (20, 10) :  2342.0\n",
            "        (20, 11) :  2668.0\n",
            "        (20, 12) :  3222.0\n",
            "        (20, 13) :  1974.0\n",
            "        (20, 14) :  3386.0\n",
            "        (20, 15) :  1408.0\n",
            "        (20, 16) :  2284.0\n",
            "        (20, 17) :  2871.0\n",
            "        (20, 18) :   726.0\n",
            "        (20, 19) :  1611.0\n",
            "        (20, 20) : 99999.0\n",
            "        (20, 21) :   953.0\n",
            "        (20, 22) :   735.0\n",
            "        (20, 23) :   641.0\n",
            "         (21, 1) :  3431.0\n",
            "         (21, 2) :  2773.0\n",
            "         (21, 3) :  2419.0\n",
            "         (21, 4) :  2615.0\n",
            "         (21, 5) :  2110.0\n",
            "         (21, 6) :  1826.0\n",
            "         (21, 7) :  2660.0\n",
            "         (21, 8) :  1703.0\n",
            "         (21, 9) :  3009.0\n",
            "        (21, 10) :  1389.0\n",
            "        (21, 11) :  1716.0\n",
            "        (21, 12) :  2269.0\n",
            "        (21, 13) :  1021.0\n",
            "        (21, 14) :  2433.0\n",
            "        (21, 15) :   676.0\n",
            "        (21, 16) :  1331.0\n",
            "        (21, 17) :  1918.0\n",
            "        (21, 18) :   749.0\n",
            "        (21, 19) :   658.0\n",
            "        (21, 20) :   953.0\n",
            "        (21, 21) : 99999.0\n",
            "        (21, 22) :  1688.0\n",
            "        (21, 23) :   616.0\n",
            "         (22, 1) :  4143.0\n",
            "         (22, 2) :  3625.0\n",
            "         (22, 3) :  4107.0\n",
            "         (22, 4) :  4303.0\n",
            "         (22, 5) :  3187.0\n",
            "         (22, 6) :  3514.0\n",
            "         (22, 7) :  4348.0\n",
            "         (22, 8) :  2381.0\n",
            "         (22, 9) :  4697.0\n",
            "        (22, 10) :  3077.0\n",
            "        (22, 11) :  3403.0\n",
            "        (22, 12) :  3957.0\n",
            "        (22, 13) :  2709.0\n",
            "        (22, 14) :  4121.0\n",
            "        (22, 15) :  2143.0\n",
            "        (22, 16) :  3019.0\n",
            "        (22, 17) :  3606.0\n",
            "        (22, 18) :  1461.0\n",
            "        (22, 19) :  2346.0\n",
            "        (22, 20) :   735.0\n",
            "        (22, 21) :  1688.0\n",
            "        (22, 22) : 99999.0\n",
            "        (22, 23) :  1071.0\n",
            "         (23, 1) :  3286.0\n",
            "         (23, 2) :  2629.0\n",
            "         (23, 3) :  3035.0\n",
            "         (23, 4) :  3231.0\n",
            "         (23, 5) :  2115.0\n",
            "         (23, 6) :  2442.0\n",
            "         (23, 7) :  3276.0\n",
            "         (23, 8) :  1558.0\n",
            "         (23, 9) :  3626.0\n",
            "        (23, 10) :  2006.0\n",
            "        (23, 11) :  2332.0\n",
            "        (23, 12) :  2886.0\n",
            "        (23, 13) :  1638.0\n",
            "        (23, 14) :  3050.0\n",
            "        (23, 15) :  1072.0\n",
            "        (23, 16) :  1948.0\n",
            "        (23, 17) :  2534.0\n",
            "        (23, 18) :   604.0\n",
            "        (23, 19) :  1274.0\n",
            "        (23, 20) :   641.0\n",
            "        (23, 21) :   616.0\n",
            "        (23, 22) :  1071.0\n",
            "        (23, 23) : 99999.0\n",
            "\n",
            "2 Var Declarations\n",
            "    u : Size=23, Index=N\n",
            "        Key : Lower : Value : Upper : Fixed : Stale : Domain\n",
            "          1 :     0 :  None :    22 : False :  True : NonNegativeIntegers\n",
            "          2 :     0 :  None :    22 : False :  True : NonNegativeIntegers\n",
            "          3 :     0 :  None :    22 : False :  True : NonNegativeIntegers\n",
            "          4 :     0 :  None :    22 : False :  True : NonNegativeIntegers\n",
            "          5 :     0 :  None :    22 : False :  True : NonNegativeIntegers\n",
            "          6 :     0 :  None :    22 : False :  True : NonNegativeIntegers\n",
            "          7 :     0 :  None :    22 : False :  True : NonNegativeIntegers\n",
            "          8 :     0 :  None :    22 : False :  True : NonNegativeIntegers\n",
            "          9 :     0 :  None :    22 : False :  True : NonNegativeIntegers\n",
            "         10 :     0 :  None :    22 : False :  True : NonNegativeIntegers\n",
            "         11 :     0 :  None :    22 : False :  True : NonNegativeIntegers\n",
            "         12 :     0 :  None :    22 : False :  True : NonNegativeIntegers\n",
            "         13 :     0 :  None :    22 : False :  True : NonNegativeIntegers\n",
            "         14 :     0 :  None :    22 : False :  True : NonNegativeIntegers\n",
            "         15 :     0 :  None :    22 : False :  True : NonNegativeIntegers\n",
            "         16 :     0 :  None :    22 : False :  True : NonNegativeIntegers\n",
            "         17 :     0 :  None :    22 : False :  True : NonNegativeIntegers\n",
            "         18 :     0 :  None :    22 : False :  True : NonNegativeIntegers\n",
            "         19 :     0 :  None :    22 : False :  True : NonNegativeIntegers\n",
            "         20 :     0 :  None :    22 : False :  True : NonNegativeIntegers\n",
            "         21 :     0 :  None :    22 : False :  True : NonNegativeIntegers\n",
            "         22 :     0 :  None :    22 : False :  True : NonNegativeIntegers\n",
            "         23 :     0 :  None :    22 : False :  True : NonNegativeIntegers\n",
            "    x : Size=529, Index=x_index\n",
            "        Key      : Lower : Value : Upper : Fixed : Stale : Domain\n",
            "          (1, 1) :     0 :  None :     1 : False :  True : Binary\n",
            "          (1, 2) :     0 :  None :     1 : False :  True : Binary\n",
            "          (1, 3) :     0 :  None :     1 : False :  True : Binary\n",
            "          (1, 4) :     0 :  None :     1 : False :  True : Binary\n",
            "          (1, 5) :     0 :  None :     1 : False :  True : Binary\n",
            "          (1, 6) :     0 :  None :     1 : False :  True : Binary\n",
            "          (1, 7) :     0 :  None :     1 : False :  True : Binary\n",
            "          (1, 8) :     0 :  None :     1 : False :  True : Binary\n",
            "          (1, 9) :     0 :  None :     1 : False :  True : Binary\n",
            "         (1, 10) :     0 :  None :     1 : False :  True : Binary\n",
            "         (1, 11) :     0 :  None :     1 : False :  True : Binary\n",
            "         (1, 12) :     0 :  None :     1 : False :  True : Binary\n",
            "         (1, 13) :     0 :  None :     1 : False :  True : Binary\n",
            "         (1, 14) :     0 :  None :     1 : False :  True : Binary\n",
            "         (1, 15) :     0 :  None :     1 : False :  True : Binary\n",
            "         (1, 16) :     0 :  None :     1 : False :  True : Binary\n",
            "         (1, 17) :     0 :  None :     1 : False :  True : Binary\n",
            "         (1, 18) :     0 :  None :     1 : False :  True : Binary\n",
            "         (1, 19) :     0 :  None :     1 : False :  True : Binary\n",
            "         (1, 20) :     0 :  None :     1 : False :  True : Binary\n",
            "         (1, 21) :     0 :  None :     1 : False :  True : Binary\n",
            "         (1, 22) :     0 :  None :     1 : False :  True : Binary\n",
            "         (1, 23) :     0 :  None :     1 : False :  True : Binary\n",
            "          (2, 1) :     0 :  None :     1 : False :  True : Binary\n",
            "          (2, 2) :     0 :  None :     1 : False :  True : Binary\n",
            "          (2, 3) :     0 :  None :     1 : False :  True : Binary\n",
            "          (2, 4) :     0 :  None :     1 : False :  True : Binary\n",
            "          (2, 5) :     0 :  None :     1 : False :  True : Binary\n",
            "          (2, 6) :     0 :  None :     1 : False :  True : Binary\n",
            "          (2, 7) :     0 :  None :     1 : False :  True : Binary\n",
            "          (2, 8) :     0 :  None :     1 : False :  True : Binary\n",
            "          (2, 9) :     0 :  None :     1 : False :  True : Binary\n",
            "         (2, 10) :     0 :  None :     1 : False :  True : Binary\n",
            "         (2, 11) :     0 :  None :     1 : False :  True : Binary\n",
            "         (2, 12) :     0 :  None :     1 : False :  True : Binary\n",
            "         (2, 13) :     0 :  None :     1 : False :  True : Binary\n",
            "         (2, 14) :     0 :  None :     1 : False :  True : Binary\n",
            "         (2, 15) :     0 :  None :     1 : False :  True : Binary\n",
            "         (2, 16) :     0 :  None :     1 : False :  True : Binary\n",
            "         (2, 17) :     0 :  None :     1 : False :  True : Binary\n",
            "         (2, 18) :     0 :  None :     1 : False :  True : Binary\n",
            "         (2, 19) :     0 :  None :     1 : False :  True : Binary\n",
            "         (2, 20) :     0 :  None :     1 : False :  True : Binary\n",
            "         (2, 21) :     0 :  None :     1 : False :  True : Binary\n",
            "         (2, 22) :     0 :  None :     1 : False :  True : Binary\n",
            "         (2, 23) :     0 :  None :     1 : False :  True : Binary\n",
            "          (3, 1) :     0 :  None :     1 : False :  True : Binary\n",
            "          (3, 2) :     0 :  None :     1 : False :  True : Binary\n",
            "          (3, 3) :     0 :  None :     1 : False :  True : Binary\n",
            "          (3, 4) :     0 :  None :     1 : False :  True : Binary\n",
            "          (3, 5) :     0 :  None :     1 : False :  True : Binary\n",
            "          (3, 6) :     0 :  None :     1 : False :  True : Binary\n",
            "          (3, 7) :     0 :  None :     1 : False :  True : Binary\n",
            "          (3, 8) :     0 :  None :     1 : False :  True : Binary\n",
            "          (3, 9) :     0 :  None :     1 : False :  True : Binary\n",
            "         (3, 10) :     0 :  None :     1 : False :  True : Binary\n",
            "         (3, 11) :     0 :  None :     1 : False :  True : Binary\n",
            "         (3, 12) :     0 :  None :     1 : False :  True : Binary\n",
            "         (3, 13) :     0 :  None :     1 : False :  True : Binary\n",
            "         (3, 14) :     0 :  None :     1 : False :  True : Binary\n",
            "         (3, 15) :     0 :  None :     1 : False :  True : Binary\n",
            "         (3, 16) :     0 :  None :     1 : False :  True : Binary\n",
            "         (3, 17) :     0 :  None :     1 : False :  True : Binary\n",
            "         (3, 18) :     0 :  None :     1 : False :  True : Binary\n",
            "         (3, 19) :     0 :  None :     1 : False :  True : Binary\n",
            "         (3, 20) :     0 :  None :     1 : False :  True : Binary\n",
            "         (3, 21) :     0 :  None :     1 : False :  True : Binary\n",
            "         (3, 22) :     0 :  None :     1 : False :  True : Binary\n",
            "         (3, 23) :     0 :  None :     1 : False :  True : Binary\n",
            "          (4, 1) :     0 :  None :     1 : False :  True : Binary\n",
            "          (4, 2) :     0 :  None :     1 : False :  True : Binary\n",
            "          (4, 3) :     0 :  None :     1 : False :  True : Binary\n",
            "          (4, 4) :     0 :  None :     1 : False :  True : Binary\n",
            "          (4, 5) :     0 :  None :     1 : False :  True : Binary\n",
            "          (4, 6) :     0 :  None :     1 : False :  True : Binary\n",
            "          (4, 7) :     0 :  None :     1 : False :  True : Binary\n",
            "          (4, 8) :     0 :  None :     1 : False :  True : Binary\n",
            "          (4, 9) :     0 :  None :     1 : False :  True : Binary\n",
            "         (4, 10) :     0 :  None :     1 : False :  True : Binary\n",
            "         (4, 11) :     0 :  None :     1 : False :  True : Binary\n",
            "         (4, 12) :     0 :  None :     1 : False :  True : Binary\n",
            "         (4, 13) :     0 :  None :     1 : False :  True : Binary\n",
            "         (4, 14) :     0 :  None :     1 : False :  True : Binary\n",
            "         (4, 15) :     0 :  None :     1 : False :  True : Binary\n",
            "         (4, 16) :     0 :  None :     1 : False :  True : Binary\n",
            "         (4, 17) :     0 :  None :     1 : False :  True : Binary\n",
            "         (4, 18) :     0 :  None :     1 : False :  True : Binary\n",
            "         (4, 19) :     0 :  None :     1 : False :  True : Binary\n",
            "         (4, 20) :     0 :  None :     1 : False :  True : Binary\n",
            "         (4, 21) :     0 :  None :     1 : False :  True : Binary\n",
            "         (4, 22) :     0 :  None :     1 : False :  True : Binary\n",
            "         (4, 23) :     0 :  None :     1 : False :  True : Binary\n",
            "          (5, 1) :     0 :  None :     1 : False :  True : Binary\n",
            "          (5, 2) :     0 :  None :     1 : False :  True : Binary\n",
            "          (5, 3) :     0 :  None :     1 : False :  True : Binary\n",
            "          (5, 4) :     0 :  None :     1 : False :  True : Binary\n",
            "          (5, 5) :     0 :  None :     1 : False :  True : Binary\n",
            "          (5, 6) :     0 :  None :     1 : False :  True : Binary\n",
            "          (5, 7) :     0 :  None :     1 : False :  True : Binary\n",
            "          (5, 8) :     0 :  None :     1 : False :  True : Binary\n",
            "          (5, 9) :     0 :  None :     1 : False :  True : Binary\n",
            "         (5, 10) :     0 :  None :     1 : False :  True : Binary\n",
            "         (5, 11) :     0 :  None :     1 : False :  True : Binary\n",
            "         (5, 12) :     0 :  None :     1 : False :  True : Binary\n",
            "         (5, 13) :     0 :  None :     1 : False :  True : Binary\n",
            "         (5, 14) :     0 :  None :     1 : False :  True : Binary\n",
            "         (5, 15) :     0 :  None :     1 : False :  True : Binary\n",
            "         (5, 16) :     0 :  None :     1 : False :  True : Binary\n",
            "         (5, 17) :     0 :  None :     1 : False :  True : Binary\n",
            "         (5, 18) :     0 :  None :     1 : False :  True : Binary\n",
            "         (5, 19) :     0 :  None :     1 : False :  True : Binary\n",
            "         (5, 20) :     0 :  None :     1 : False :  True : Binary\n",
            "         (5, 21) :     0 :  None :     1 : False :  True : Binary\n",
            "         (5, 22) :     0 :  None :     1 : False :  True : Binary\n",
            "         (5, 23) :     0 :  None :     1 : False :  True : Binary\n",
            "          (6, 1) :     0 :  None :     1 : False :  True : Binary\n",
            "          (6, 2) :     0 :  None :     1 : False :  True : Binary\n",
            "          (6, 3) :     0 :  None :     1 : False :  True : Binary\n",
            "          (6, 4) :     0 :  None :     1 : False :  True : Binary\n",
            "          (6, 5) :     0 :  None :     1 : False :  True : Binary\n",
            "          (6, 6) :     0 :  None :     1 : False :  True : Binary\n",
            "          (6, 7) :     0 :  None :     1 : False :  True : Binary\n",
            "          (6, 8) :     0 :  None :     1 : False :  True : Binary\n",
            "          (6, 9) :     0 :  None :     1 : False :  True : Binary\n",
            "         (6, 10) :     0 :  None :     1 : False :  True : Binary\n",
            "         (6, 11) :     0 :  None :     1 : False :  True : Binary\n",
            "         (6, 12) :     0 :  None :     1 : False :  True : Binary\n",
            "         (6, 13) :     0 :  None :     1 : False :  True : Binary\n",
            "         (6, 14) :     0 :  None :     1 : False :  True : Binary\n",
            "         (6, 15) :     0 :  None :     1 : False :  True : Binary\n",
            "         (6, 16) :     0 :  None :     1 : False :  True : Binary\n",
            "         (6, 17) :     0 :  None :     1 : False :  True : Binary\n",
            "         (6, 18) :     0 :  None :     1 : False :  True : Binary\n",
            "         (6, 19) :     0 :  None :     1 : False :  True : Binary\n",
            "         (6, 20) :     0 :  None :     1 : False :  True : Binary\n",
            "         (6, 21) :     0 :  None :     1 : False :  True : Binary\n",
            "         (6, 22) :     0 :  None :     1 : False :  True : Binary\n",
            "         (6, 23) :     0 :  None :     1 : False :  True : Binary\n",
            "          (7, 1) :     0 :  None :     1 : False :  True : Binary\n",
            "          (7, 2) :     0 :  None :     1 : False :  True : Binary\n",
            "          (7, 3) :     0 :  None :     1 : False :  True : Binary\n",
            "          (7, 4) :     0 :  None :     1 : False :  True : Binary\n",
            "          (7, 5) :     0 :  None :     1 : False :  True : Binary\n",
            "          (7, 6) :     0 :  None :     1 : False :  True : Binary\n",
            "          (7, 7) :     0 :  None :     1 : False :  True : Binary\n",
            "          (7, 8) :     0 :  None :     1 : False :  True : Binary\n",
            "          (7, 9) :     0 :  None :     1 : False :  True : Binary\n",
            "         (7, 10) :     0 :  None :     1 : False :  True : Binary\n",
            "         (7, 11) :     0 :  None :     1 : False :  True : Binary\n",
            "         (7, 12) :     0 :  None :     1 : False :  True : Binary\n",
            "         (7, 13) :     0 :  None :     1 : False :  True : Binary\n",
            "         (7, 14) :     0 :  None :     1 : False :  True : Binary\n",
            "         (7, 15) :     0 :  None :     1 : False :  True : Binary\n",
            "         (7, 16) :     0 :  None :     1 : False :  True : Binary\n",
            "         (7, 17) :     0 :  None :     1 : False :  True : Binary\n",
            "         (7, 18) :     0 :  None :     1 : False :  True : Binary\n",
            "         (7, 19) :     0 :  None :     1 : False :  True : Binary\n",
            "         (7, 20) :     0 :  None :     1 : False :  True : Binary\n",
            "         (7, 21) :     0 :  None :     1 : False :  True : Binary\n",
            "         (7, 22) :     0 :  None :     1 : False :  True : Binary\n",
            "         (7, 23) :     0 :  None :     1 : False :  True : Binary\n",
            "          (8, 1) :     0 :  None :     1 : False :  True : Binary\n",
            "          (8, 2) :     0 :  None :     1 : False :  True : Binary\n",
            "          (8, 3) :     0 :  None :     1 : False :  True : Binary\n",
            "          (8, 4) :     0 :  None :     1 : False :  True : Binary\n",
            "          (8, 5) :     0 :  None :     1 : False :  True : Binary\n",
            "          (8, 6) :     0 :  None :     1 : False :  True : Binary\n",
            "          (8, 7) :     0 :  None :     1 : False :  True : Binary\n",
            "          (8, 8) :     0 :  None :     1 : False :  True : Binary\n",
            "          (8, 9) :     0 :  None :     1 : False :  True : Binary\n",
            "         (8, 10) :     0 :  None :     1 : False :  True : Binary\n",
            "         (8, 11) :     0 :  None :     1 : False :  True : Binary\n",
            "         (8, 12) :     0 :  None :     1 : False :  True : Binary\n",
            "         (8, 13) :     0 :  None :     1 : False :  True : Binary\n",
            "         (8, 14) :     0 :  None :     1 : False :  True : Binary\n",
            "         (8, 15) :     0 :  None :     1 : False :  True : Binary\n",
            "         (8, 16) :     0 :  None :     1 : False :  True : Binary\n",
            "         (8, 17) :     0 :  None :     1 : False :  True : Binary\n",
            "         (8, 18) :     0 :  None :     1 : False :  True : Binary\n",
            "         (8, 19) :     0 :  None :     1 : False :  True : Binary\n",
            "         (8, 20) :     0 :  None :     1 : False :  True : Binary\n",
            "         (8, 21) :     0 :  None :     1 : False :  True : Binary\n",
            "         (8, 22) :     0 :  None :     1 : False :  True : Binary\n",
            "         (8, 23) :     0 :  None :     1 : False :  True : Binary\n",
            "          (9, 1) :     0 :  None :     1 : False :  True : Binary\n",
            "          (9, 2) :     0 :  None :     1 : False :  True : Binary\n",
            "          (9, 3) :     0 :  None :     1 : False :  True : Binary\n",
            "          (9, 4) :     0 :  None :     1 : False :  True : Binary\n",
            "          (9, 5) :     0 :  None :     1 : False :  True : Binary\n",
            "          (9, 6) :     0 :  None :     1 : False :  True : Binary\n",
            "          (9, 7) :     0 :  None :     1 : False :  True : Binary\n",
            "          (9, 8) :     0 :  None :     1 : False :  True : Binary\n",
            "          (9, 9) :     0 :  None :     1 : False :  True : Binary\n",
            "         (9, 10) :     0 :  None :     1 : False :  True : Binary\n",
            "         (9, 11) :     0 :  None :     1 : False :  True : Binary\n",
            "         (9, 12) :     0 :  None :     1 : False :  True : Binary\n",
            "         (9, 13) :     0 :  None :     1 : False :  True : Binary\n",
            "         (9, 14) :     0 :  None :     1 : False :  True : Binary\n",
            "         (9, 15) :     0 :  None :     1 : False :  True : Binary\n",
            "         (9, 16) :     0 :  None :     1 : False :  True : Binary\n",
            "         (9, 17) :     0 :  None :     1 : False :  True : Binary\n",
            "         (9, 18) :     0 :  None :     1 : False :  True : Binary\n",
            "         (9, 19) :     0 :  None :     1 : False :  True : Binary\n",
            "         (9, 20) :     0 :  None :     1 : False :  True : Binary\n",
            "         (9, 21) :     0 :  None :     1 : False :  True : Binary\n",
            "         (9, 22) :     0 :  None :     1 : False :  True : Binary\n",
            "         (9, 23) :     0 :  None :     1 : False :  True : Binary\n",
            "         (10, 1) :     0 :  None :     1 : False :  True : Binary\n",
            "         (10, 2) :     0 :  None :     1 : False :  True : Binary\n",
            "         (10, 3) :     0 :  None :     1 : False :  True : Binary\n",
            "         (10, 4) :     0 :  None :     1 : False :  True : Binary\n",
            "         (10, 5) :     0 :  None :     1 : False :  True : Binary\n",
            "         (10, 6) :     0 :  None :     1 : False :  True : Binary\n",
            "         (10, 7) :     0 :  None :     1 : False :  True : Binary\n",
            "         (10, 8) :     0 :  None :     1 : False :  True : Binary\n",
            "         (10, 9) :     0 :  None :     1 : False :  True : Binary\n",
            "        (10, 10) :     0 :  None :     1 : False :  True : Binary\n",
            "        (10, 11) :     0 :  None :     1 : False :  True : Binary\n",
            "        (10, 12) :     0 :  None :     1 : False :  True : Binary\n",
            "        (10, 13) :     0 :  None :     1 : False :  True : Binary\n",
            "        (10, 14) :     0 :  None :     1 : False :  True : Binary\n",
            "        (10, 15) :     0 :  None :     1 : False :  True : Binary\n",
            "        (10, 16) :     0 :  None :     1 : False :  True : Binary\n",
            "        (10, 17) :     0 :  None :     1 : False :  True : Binary\n",
            "        (10, 18) :     0 :  None :     1 : False :  True : Binary\n",
            "        (10, 19) :     0 :  None :     1 : False :  True : Binary\n",
            "        (10, 20) :     0 :  None :     1 : False :  True : Binary\n",
            "        (10, 21) :     0 :  None :     1 : False :  True : Binary\n",
            "        (10, 22) :     0 :  None :     1 : False :  True : Binary\n",
            "        (10, 23) :     0 :  None :     1 : False :  True : Binary\n",
            "         (11, 1) :     0 :  None :     1 : False :  True : Binary\n",
            "         (11, 2) :     0 :  None :     1 : False :  True : Binary\n",
            "         (11, 3) :     0 :  None :     1 : False :  True : Binary\n",
            "         (11, 4) :     0 :  None :     1 : False :  True : Binary\n",
            "         (11, 5) :     0 :  None :     1 : False :  True : Binary\n",
            "         (11, 6) :     0 :  None :     1 : False :  True : Binary\n",
            "         (11, 7) :     0 :  None :     1 : False :  True : Binary\n",
            "         (11, 8) :     0 :  None :     1 : False :  True : Binary\n",
            "         (11, 9) :     0 :  None :     1 : False :  True : Binary\n",
            "        (11, 10) :     0 :  None :     1 : False :  True : Binary\n",
            "        (11, 11) :     0 :  None :     1 : False :  True : Binary\n",
            "        (11, 12) :     0 :  None :     1 : False :  True : Binary\n",
            "        (11, 13) :     0 :  None :     1 : False :  True : Binary\n",
            "        (11, 14) :     0 :  None :     1 : False :  True : Binary\n",
            "        (11, 15) :     0 :  None :     1 : False :  True : Binary\n",
            "        (11, 16) :     0 :  None :     1 : False :  True : Binary\n",
            "        (11, 17) :     0 :  None :     1 : False :  True : Binary\n",
            "        (11, 18) :     0 :  None :     1 : False :  True : Binary\n",
            "        (11, 19) :     0 :  None :     1 : False :  True : Binary\n",
            "        (11, 20) :     0 :  None :     1 : False :  True : Binary\n",
            "        (11, 21) :     0 :  None :     1 : False :  True : Binary\n",
            "        (11, 22) :     0 :  None :     1 : False :  True : Binary\n",
            "        (11, 23) :     0 :  None :     1 : False :  True : Binary\n",
            "         (12, 1) :     0 :  None :     1 : False :  True : Binary\n",
            "         (12, 2) :     0 :  None :     1 : False :  True : Binary\n",
            "         (12, 3) :     0 :  None :     1 : False :  True : Binary\n",
            "         (12, 4) :     0 :  None :     1 : False :  True : Binary\n",
            "         (12, 5) :     0 :  None :     1 : False :  True : Binary\n",
            "         (12, 6) :     0 :  None :     1 : False :  True : Binary\n",
            "         (12, 7) :     0 :  None :     1 : False :  True : Binary\n",
            "         (12, 8) :     0 :  None :     1 : False :  True : Binary\n",
            "         (12, 9) :     0 :  None :     1 : False :  True : Binary\n",
            "        (12, 10) :     0 :  None :     1 : False :  True : Binary\n",
            "        (12, 11) :     0 :  None :     1 : False :  True : Binary\n",
            "        (12, 12) :     0 :  None :     1 : False :  True : Binary\n",
            "        (12, 13) :     0 :  None :     1 : False :  True : Binary\n",
            "        (12, 14) :     0 :  None :     1 : False :  True : Binary\n",
            "        (12, 15) :     0 :  None :     1 : False :  True : Binary\n",
            "        (12, 16) :     0 :  None :     1 : False :  True : Binary\n",
            "        (12, 17) :     0 :  None :     1 : False :  True : Binary\n",
            "        (12, 18) :     0 :  None :     1 : False :  True : Binary\n",
            "        (12, 19) :     0 :  None :     1 : False :  True : Binary\n",
            "        (12, 20) :     0 :  None :     1 : False :  True : Binary\n",
            "        (12, 21) :     0 :  None :     1 : False :  True : Binary\n",
            "        (12, 22) :     0 :  None :     1 : False :  True : Binary\n",
            "        (12, 23) :     0 :  None :     1 : False :  True : Binary\n",
            "         (13, 1) :     0 :  None :     1 : False :  True : Binary\n",
            "         (13, 2) :     0 :  None :     1 : False :  True : Binary\n",
            "         (13, 3) :     0 :  None :     1 : False :  True : Binary\n",
            "         (13, 4) :     0 :  None :     1 : False :  True : Binary\n",
            "         (13, 5) :     0 :  None :     1 : False :  True : Binary\n",
            "         (13, 6) :     0 :  None :     1 : False :  True : Binary\n",
            "         (13, 7) :     0 :  None :     1 : False :  True : Binary\n",
            "         (13, 8) :     0 :  None :     1 : False :  True : Binary\n",
            "         (13, 9) :     0 :  None :     1 : False :  True : Binary\n",
            "        (13, 10) :     0 :  None :     1 : False :  True : Binary\n",
            "        (13, 11) :     0 :  None :     1 : False :  True : Binary\n",
            "        (13, 12) :     0 :  None :     1 : False :  True : Binary\n",
            "        (13, 13) :     0 :  None :     1 : False :  True : Binary\n",
            "        (13, 14) :     0 :  None :     1 : False :  True : Binary\n",
            "        (13, 15) :     0 :  None :     1 : False :  True : Binary\n",
            "        (13, 16) :     0 :  None :     1 : False :  True : Binary\n",
            "        (13, 17) :     0 :  None :     1 : False :  True : Binary\n",
            "        (13, 18) :     0 :  None :     1 : False :  True : Binary\n",
            "        (13, 19) :     0 :  None :     1 : False :  True : Binary\n",
            "        (13, 20) :     0 :  None :     1 : False :  True : Binary\n",
            "        (13, 21) :     0 :  None :     1 : False :  True : Binary\n",
            "        (13, 22) :     0 :  None :     1 : False :  True : Binary\n",
            "        (13, 23) :     0 :  None :     1 : False :  True : Binary\n",
            "         (14, 1) :     0 :  None :     1 : False :  True : Binary\n",
            "         (14, 2) :     0 :  None :     1 : False :  True : Binary\n",
            "         (14, 3) :     0 :  None :     1 : False :  True : Binary\n",
            "         (14, 4) :     0 :  None :     1 : False :  True : Binary\n",
            "         (14, 5) :     0 :  None :     1 : False :  True : Binary\n",
            "         (14, 6) :     0 :  None :     1 : False :  True : Binary\n",
            "         (14, 7) :     0 :  None :     1 : False :  True : Binary\n",
            "         (14, 8) :     0 :  None :     1 : False :  True : Binary\n",
            "         (14, 9) :     0 :  None :     1 : False :  True : Binary\n",
            "        (14, 10) :     0 :  None :     1 : False :  True : Binary\n",
            "        (14, 11) :     0 :  None :     1 : False :  True : Binary\n",
            "        (14, 12) :     0 :  None :     1 : False :  True : Binary\n",
            "        (14, 13) :     0 :  None :     1 : False :  True : Binary\n",
            "        (14, 14) :     0 :  None :     1 : False :  True : Binary\n",
            "        (14, 15) :     0 :  None :     1 : False :  True : Binary\n",
            "        (14, 16) :     0 :  None :     1 : False :  True : Binary\n",
            "        (14, 17) :     0 :  None :     1 : False :  True : Binary\n",
            "        (14, 18) :     0 :  None :     1 : False :  True : Binary\n",
            "        (14, 19) :     0 :  None :     1 : False :  True : Binary\n",
            "        (14, 20) :     0 :  None :     1 : False :  True : Binary\n",
            "        (14, 21) :     0 :  None :     1 : False :  True : Binary\n",
            "        (14, 22) :     0 :  None :     1 : False :  True : Binary\n",
            "        (14, 23) :     0 :  None :     1 : False :  True : Binary\n",
            "         (15, 1) :     0 :  None :     1 : False :  True : Binary\n",
            "         (15, 2) :     0 :  None :     1 : False :  True : Binary\n",
            "         (15, 3) :     0 :  None :     1 : False :  True : Binary\n",
            "         (15, 4) :     0 :  None :     1 : False :  True : Binary\n",
            "         (15, 5) :     0 :  None :     1 : False :  True : Binary\n",
            "         (15, 6) :     0 :  None :     1 : False :  True : Binary\n",
            "         (15, 7) :     0 :  None :     1 : False :  True : Binary\n",
            "         (15, 8) :     0 :  None :     1 : False :  True : Binary\n",
            "         (15, 9) :     0 :  None :     1 : False :  True : Binary\n",
            "        (15, 10) :     0 :  None :     1 : False :  True : Binary\n",
            "        (15, 11) :     0 :  None :     1 : False :  True : Binary\n",
            "        (15, 12) :     0 :  None :     1 : False :  True : Binary\n",
            "        (15, 13) :     0 :  None :     1 : False :  True : Binary\n",
            "        (15, 14) :     0 :  None :     1 : False :  True : Binary\n",
            "        (15, 15) :     0 :  None :     1 : False :  True : Binary\n",
            "        (15, 16) :     0 :  None :     1 : False :  True : Binary\n",
            "        (15, 17) :     0 :  None :     1 : False :  True : Binary\n",
            "        (15, 18) :     0 :  None :     1 : False :  True : Binary\n",
            "        (15, 19) :     0 :  None :     1 : False :  True : Binary\n",
            "        (15, 20) :     0 :  None :     1 : False :  True : Binary\n",
            "        (15, 21) :     0 :  None :     1 : False :  True : Binary\n",
            "        (15, 22) :     0 :  None :     1 : False :  True : Binary\n",
            "        (15, 23) :     0 :  None :     1 : False :  True : Binary\n",
            "         (16, 1) :     0 :  None :     1 : False :  True : Binary\n",
            "         (16, 2) :     0 :  None :     1 : False :  True : Binary\n",
            "         (16, 3) :     0 :  None :     1 : False :  True : Binary\n",
            "         (16, 4) :     0 :  None :     1 : False :  True : Binary\n",
            "         (16, 5) :     0 :  None :     1 : False :  True : Binary\n",
            "         (16, 6) :     0 :  None :     1 : False :  True : Binary\n",
            "         (16, 7) :     0 :  None :     1 : False :  True : Binary\n",
            "         (16, 8) :     0 :  None :     1 : False :  True : Binary\n",
            "         (16, 9) :     0 :  None :     1 : False :  True : Binary\n",
            "        (16, 10) :     0 :  None :     1 : False :  True : Binary\n",
            "        (16, 11) :     0 :  None :     1 : False :  True : Binary\n",
            "        (16, 12) :     0 :  None :     1 : False :  True : Binary\n",
            "        (16, 13) :     0 :  None :     1 : False :  True : Binary\n",
            "        (16, 14) :     0 :  None :     1 : False :  True : Binary\n",
            "        (16, 15) :     0 :  None :     1 : False :  True : Binary\n",
            "        (16, 16) :     0 :  None :     1 : False :  True : Binary\n",
            "        (16, 17) :     0 :  None :     1 : False :  True : Binary\n",
            "        (16, 18) :     0 :  None :     1 : False :  True : Binary\n",
            "        (16, 19) :     0 :  None :     1 : False :  True : Binary\n",
            "        (16, 20) :     0 :  None :     1 : False :  True : Binary\n",
            "        (16, 21) :     0 :  None :     1 : False :  True : Binary\n",
            "        (16, 22) :     0 :  None :     1 : False :  True : Binary\n",
            "        (16, 23) :     0 :  None :     1 : False :  True : Binary\n",
            "         (17, 1) :     0 :  None :     1 : False :  True : Binary\n",
            "         (17, 2) :     0 :  None :     1 : False :  True : Binary\n",
            "         (17, 3) :     0 :  None :     1 : False :  True : Binary\n",
            "         (17, 4) :     0 :  None :     1 : False :  True : Binary\n",
            "         (17, 5) :     0 :  None :     1 : False :  True : Binary\n",
            "         (17, 6) :     0 :  None :     1 : False :  True : Binary\n",
            "         (17, 7) :     0 :  None :     1 : False :  True : Binary\n",
            "         (17, 8) :     0 :  None :     1 : False :  True : Binary\n",
            "         (17, 9) :     0 :  None :     1 : False :  True : Binary\n",
            "        (17, 10) :     0 :  None :     1 : False :  True : Binary\n",
            "        (17, 11) :     0 :  None :     1 : False :  True : Binary\n",
            "        (17, 12) :     0 :  None :     1 : False :  True : Binary\n",
            "        (17, 13) :     0 :  None :     1 : False :  True : Binary\n",
            "        (17, 14) :     0 :  None :     1 : False :  True : Binary\n",
            "        (17, 15) :     0 :  None :     1 : False :  True : Binary\n",
            "        (17, 16) :     0 :  None :     1 : False :  True : Binary\n",
            "        (17, 17) :     0 :  None :     1 : False :  True : Binary\n",
            "        (17, 18) :     0 :  None :     1 : False :  True : Binary\n",
            "        (17, 19) :     0 :  None :     1 : False :  True : Binary\n",
            "        (17, 20) :     0 :  None :     1 : False :  True : Binary\n",
            "        (17, 21) :     0 :  None :     1 : False :  True : Binary\n",
            "        (17, 22) :     0 :  None :     1 : False :  True : Binary\n",
            "        (17, 23) :     0 :  None :     1 : False :  True : Binary\n",
            "         (18, 1) :     0 :  None :     1 : False :  True : Binary\n",
            "         (18, 2) :     0 :  None :     1 : False :  True : Binary\n",
            "         (18, 3) :     0 :  None :     1 : False :  True : Binary\n",
            "         (18, 4) :     0 :  None :     1 : False :  True : Binary\n",
            "         (18, 5) :     0 :  None :     1 : False :  True : Binary\n",
            "         (18, 6) :     0 :  None :     1 : False :  True : Binary\n",
            "         (18, 7) :     0 :  None :     1 : False :  True : Binary\n",
            "         (18, 8) :     0 :  None :     1 : False :  True : Binary\n",
            "         (18, 9) :     0 :  None :     1 : False :  True : Binary\n",
            "        (18, 10) :     0 :  None :     1 : False :  True : Binary\n",
            "        (18, 11) :     0 :  None :     1 : False :  True : Binary\n",
            "        (18, 12) :     0 :  None :     1 : False :  True : Binary\n",
            "        (18, 13) :     0 :  None :     1 : False :  True : Binary\n",
            "        (18, 14) :     0 :  None :     1 : False :  True : Binary\n",
            "        (18, 15) :     0 :  None :     1 : False :  True : Binary\n",
            "        (18, 16) :     0 :  None :     1 : False :  True : Binary\n",
            "        (18, 17) :     0 :  None :     1 : False :  True : Binary\n",
            "        (18, 18) :     0 :  None :     1 : False :  True : Binary\n",
            "        (18, 19) :     0 :  None :     1 : False :  True : Binary\n",
            "        (18, 20) :     0 :  None :     1 : False :  True : Binary\n",
            "        (18, 21) :     0 :  None :     1 : False :  True : Binary\n",
            "        (18, 22) :     0 :  None :     1 : False :  True : Binary\n",
            "        (18, 23) :     0 :  None :     1 : False :  True : Binary\n",
            "         (19, 1) :     0 :  None :     1 : False :  True : Binary\n",
            "         (19, 2) :     0 :  None :     1 : False :  True : Binary\n",
            "         (19, 3) :     0 :  None :     1 : False :  True : Binary\n",
            "         (19, 4) :     0 :  None :     1 : False :  True : Binary\n",
            "         (19, 5) :     0 :  None :     1 : False :  True : Binary\n",
            "         (19, 6) :     0 :  None :     1 : False :  True : Binary\n",
            "         (19, 7) :     0 :  None :     1 : False :  True : Binary\n",
            "         (19, 8) :     0 :  None :     1 : False :  True : Binary\n",
            "         (19, 9) :     0 :  None :     1 : False :  True : Binary\n",
            "        (19, 10) :     0 :  None :     1 : False :  True : Binary\n",
            "        (19, 11) :     0 :  None :     1 : False :  True : Binary\n",
            "        (19, 12) :     0 :  None :     1 : False :  True : Binary\n",
            "        (19, 13) :     0 :  None :     1 : False :  True : Binary\n",
            "        (19, 14) :     0 :  None :     1 : False :  True : Binary\n",
            "        (19, 15) :     0 :  None :     1 : False :  True : Binary\n",
            "        (19, 16) :     0 :  None :     1 : False :  True : Binary\n",
            "        (19, 17) :     0 :  None :     1 : False :  True : Binary\n",
            "        (19, 18) :     0 :  None :     1 : False :  True : Binary\n",
            "        (19, 19) :     0 :  None :     1 : False :  True : Binary\n",
            "        (19, 20) :     0 :  None :     1 : False :  True : Binary\n",
            "        (19, 21) :     0 :  None :     1 : False :  True : Binary\n",
            "        (19, 22) :     0 :  None :     1 : False :  True : Binary\n",
            "        (19, 23) :     0 :  None :     1 : False :  True : Binary\n",
            "         (20, 1) :     0 :  None :     1 : False :  True : Binary\n",
            "         (20, 2) :     0 :  None :     1 : False :  True : Binary\n",
            "         (20, 3) :     0 :  None :     1 : False :  True : Binary\n",
            "         (20, 4) :     0 :  None :     1 : False :  True : Binary\n",
            "         (20, 5) :     0 :  None :     1 : False :  True : Binary\n",
            "         (20, 6) :     0 :  None :     1 : False :  True : Binary\n",
            "         (20, 7) :     0 :  None :     1 : False :  True : Binary\n",
            "         (20, 8) :     0 :  None :     1 : False :  True : Binary\n",
            "         (20, 9) :     0 :  None :     1 : False :  True : Binary\n",
            "        (20, 10) :     0 :  None :     1 : False :  True : Binary\n",
            "        (20, 11) :     0 :  None :     1 : False :  True : Binary\n",
            "        (20, 12) :     0 :  None :     1 : False :  True : Binary\n",
            "        (20, 13) :     0 :  None :     1 : False :  True : Binary\n",
            "        (20, 14) :     0 :  None :     1 : False :  True : Binary\n",
            "        (20, 15) :     0 :  None :     1 : False :  True : Binary\n",
            "        (20, 16) :     0 :  None :     1 : False :  True : Binary\n",
            "        (20, 17) :     0 :  None :     1 : False :  True : Binary\n",
            "        (20, 18) :     0 :  None :     1 : False :  True : Binary\n",
            "        (20, 19) :     0 :  None :     1 : False :  True : Binary\n",
            "        (20, 20) :     0 :  None :     1 : False :  True : Binary\n",
            "        (20, 21) :     0 :  None :     1 : False :  True : Binary\n",
            "        (20, 22) :     0 :  None :     1 : False :  True : Binary\n",
            "        (20, 23) :     0 :  None :     1 : False :  True : Binary\n",
            "         (21, 1) :     0 :  None :     1 : False :  True : Binary\n",
            "         (21, 2) :     0 :  None :     1 : False :  True : Binary\n",
            "         (21, 3) :     0 :  None :     1 : False :  True : Binary\n",
            "         (21, 4) :     0 :  None :     1 : False :  True : Binary\n",
            "         (21, 5) :     0 :  None :     1 : False :  True : Binary\n",
            "         (21, 6) :     0 :  None :     1 : False :  True : Binary\n",
            "         (21, 7) :     0 :  None :     1 : False :  True : Binary\n",
            "         (21, 8) :     0 :  None :     1 : False :  True : Binary\n",
            "         (21, 9) :     0 :  None :     1 : False :  True : Binary\n",
            "        (21, 10) :     0 :  None :     1 : False :  True : Binary\n",
            "        (21, 11) :     0 :  None :     1 : False :  True : Binary\n",
            "        (21, 12) :     0 :  None :     1 : False :  True : Binary\n",
            "        (21, 13) :     0 :  None :     1 : False :  True : Binary\n",
            "        (21, 14) :     0 :  None :     1 : False :  True : Binary\n",
            "        (21, 15) :     0 :  None :     1 : False :  True : Binary\n",
            "        (21, 16) :     0 :  None :     1 : False :  True : Binary\n",
            "        (21, 17) :     0 :  None :     1 : False :  True : Binary\n",
            "        (21, 18) :     0 :  None :     1 : False :  True : Binary\n",
            "        (21, 19) :     0 :  None :     1 : False :  True : Binary\n",
            "        (21, 20) :     0 :  None :     1 : False :  True : Binary\n",
            "        (21, 21) :     0 :  None :     1 : False :  True : Binary\n",
            "        (21, 22) :     0 :  None :     1 : False :  True : Binary\n",
            "        (21, 23) :     0 :  None :     1 : False :  True : Binary\n",
            "         (22, 1) :     0 :  None :     1 : False :  True : Binary\n",
            "         (22, 2) :     0 :  None :     1 : False :  True : Binary\n",
            "         (22, 3) :     0 :  None :     1 : False :  True : Binary\n",
            "         (22, 4) :     0 :  None :     1 : False :  True : Binary\n",
            "         (22, 5) :     0 :  None :     1 : False :  True : Binary\n",
            "         (22, 6) :     0 :  None :     1 : False :  True : Binary\n",
            "         (22, 7) :     0 :  None :     1 : False :  True : Binary\n",
            "         (22, 8) :     0 :  None :     1 : False :  True : Binary\n",
            "         (22, 9) :     0 :  None :     1 : False :  True : Binary\n",
            "        (22, 10) :     0 :  None :     1 : False :  True : Binary\n",
            "        (22, 11) :     0 :  None :     1 : False :  True : Binary\n",
            "        (22, 12) :     0 :  None :     1 : False :  True : Binary\n",
            "        (22, 13) :     0 :  None :     1 : False :  True : Binary\n",
            "        (22, 14) :     0 :  None :     1 : False :  True : Binary\n",
            "        (22, 15) :     0 :  None :     1 : False :  True : Binary\n",
            "        (22, 16) :     0 :  None :     1 : False :  True : Binary\n",
            "        (22, 17) :     0 :  None :     1 : False :  True : Binary\n",
            "        (22, 18) :     0 :  None :     1 : False :  True : Binary\n",
            "        (22, 19) :     0 :  None :     1 : False :  True : Binary\n",
            "        (22, 20) :     0 :  None :     1 : False :  True : Binary\n",
            "        (22, 21) :     0 :  None :     1 : False :  True : Binary\n",
            "        (22, 22) :     0 :  None :     1 : False :  True : Binary\n",
            "        (22, 23) :     0 :  None :     1 : False :  True : Binary\n",
            "         (23, 1) :     0 :  None :     1 : False :  True : Binary\n",
            "         (23, 2) :     0 :  None :     1 : False :  True : Binary\n",
            "         (23, 3) :     0 :  None :     1 : False :  True : Binary\n",
            "         (23, 4) :     0 :  None :     1 : False :  True : Binary\n",
            "         (23, 5) :     0 :  None :     1 : False :  True : Binary\n",
            "         (23, 6) :     0 :  None :     1 : False :  True : Binary\n",
            "         (23, 7) :     0 :  None :     1 : False :  True : Binary\n",
            "         (23, 8) :     0 :  None :     1 : False :  True : Binary\n",
            "         (23, 9) :     0 :  None :     1 : False :  True : Binary\n",
            "        (23, 10) :     0 :  None :     1 : False :  True : Binary\n",
            "        (23, 11) :     0 :  None :     1 : False :  True : Binary\n",
            "        (23, 12) :     0 :  None :     1 : False :  True : Binary\n",
            "        (23, 13) :     0 :  None :     1 : False :  True : Binary\n",
            "        (23, 14) :     0 :  None :     1 : False :  True : Binary\n",
            "        (23, 15) :     0 :  None :     1 : False :  True : Binary\n",
            "        (23, 16) :     0 :  None :     1 : False :  True : Binary\n",
            "        (23, 17) :     0 :  None :     1 : False :  True : Binary\n",
            "        (23, 18) :     0 :  None :     1 : False :  True : Binary\n",
            "        (23, 19) :     0 :  None :     1 : False :  True : Binary\n",
            "        (23, 20) :     0 :  None :     1 : False :  True : Binary\n",
            "        (23, 21) :     0 :  None :     1 : False :  True : Binary\n",
            "        (23, 22) :     0 :  None :     1 : False :  True : Binary\n",
            "        (23, 23) :     0 :  None :     1 : False :  True : Binary\n",
            "\n",
            "1 Objective Declarations\n",
            "    objective : Size=1, Index=None, Active=True\n",
            "        Key  : Active : Sense    : Expression\n",
            "        None :   True : minimize : 99999.0*x[1,1] + 657.0*x[1,2] + 1398.0*x[1,3] + 2469.0*x[1,4] + 1321.0*x[1,5] + 1986.0*x[1,6] + 3290.0*x[1,7] + 1762.0*x[1,8] + 4045.0*x[1,9] + 2439.0*x[1,10] + 3276.0*x[1,11] + 3890.0*x[1,12] + 3047.0*x[1,13] + 4721.0*x[1,14] + 2755.0*x[1,15] + 4002.0*x[1,16] + 4400.0*x[1,17] + 2682.0*x[1,18] + 3743.0*x[1,19] + 3408.0*x[1,20] + 3431.0*x[1,21] + 4143.0*x[1,22] + 3286.0*x[1,23] + 657.0*x[2,1] + 99999.0*x[2,2] + 741.0*x[2,3] + 1812.0*x[2,4] + 664.0*x[2,5] + 1329.0*x[2,6] + 2633.0*x[2,7] + 1244.0*x[2,8] + 3388.0*x[2,9] + 1782.0*x[2,10] + 2619.0*x[2,11] + 3233.0*x[2,12] + 2390.0*x[2,13] + 4064.0*x[2,14] + 2098.0*x[2,15] + 3345.0*x[2,16] + 3743.0*x[2,17] + 2164.0*x[2,18] + 3085.0*x[2,19] + 2889.0*x[2,20] + 2773.0*x[2,21] + 3625.0*x[2,22] + 2629.0*x[2,23] + 1398.0*x[3,1] + 741.0*x[3,2] + 99999.0*x[3,3] + 1072.0*x[3,4] + 920.0*x[3,5] + 593.0*x[3,6] + 1892.0*x[3,7] + 1726.0*x[3,8] + 2647.0*x[3,9] + 1041.0*x[3,10] + 1879.0*x[3,11] + 2493.0*x[3,12] + 1649.0*x[3,13] + 3323.0*x[3,14] + 1963.0*x[3,15] + 2605.0*x[3,16] + 3003.0*x[3,17] + 2646.0*x[3,18] + 2345.0*x[3,19] + 3372.0*x[3,20] + 2419.0*x[3,21] + 4107.0*x[3,22] + 3035.0*x[3,23] + 2469.0*x[4,1] + 1812.0*x[4,2] + 1072.0*x[4,3] + 99999.0*x[4,4] + 1148.0*x[4,5] + 789.0*x[4,6] + 821.0*x[4,7] + 1922.0*x[4,8] + 1576.0*x[4,9] + 1226.0*x[4,10] + 900.0*x[4,11] + 1421.0*x[4,12] + 1594.0*x[4,13] + 2251.0*x[4,14] + 2159.0*x[4,15] + 1533.0*x[4,16] + 1931.0*x[4,17] + 2842.0*x[4,18] + 1957.0*x[4,19] + 3568.0*x[4,20] + 2615.0*x[4,21] + 4303.0*x[4,22] + 3231.0*x[4,23] + 1321.0*x[5,1] + 664.0*x[5,2] + 920.0*x[5,3] + 1148.0*x[5,4] + 99999.0*x[5,5] + 665.0*x[5,6] + 1969.0*x[5,7] + 806.0*x[5,8] + 2724.0*x[5,9] + 1118.0*x[5,10] + 1955.0*x[5,11] + 2569.0*x[5,12] + 1726.0*x[5,13] + 3400.0*x[5,14] + 1434.0*x[5,15] + 2681.0*x[5,16] + 3079.0*x[5,17] + 1726.0*x[5,18] + 2421.0*x[5,19] + 2452.0*x[5,20] + 2110.0*x[5,21] + 3187.0*x[5,22] + 2115.0*x[5,23] + 1986.0*x[6,1] + 1329.0*x[6,2] + 593.0*x[6,3] + 789.0*x[6,4] + 665.0*x[6,5] + 99999.0*x[6,6] + 1304.0*x[6,7] + 1133.0*x[6,8] + 2059.0*x[6,9] + 453.0*x[6,10] + 1290.0*x[6,11] + 1904.0*x[6,12] + 1061.0*x[6,13] + 2734.0*x[6,14] + 1370.0*x[6,15] + 2016.0*x[6,16] + 2414.0*x[6,17] + 2053.0*x[6,18] + 1756.0*x[6,19] + 2779.0*x[6,20] + 1826.0*x[6,21] + 3514.0*x[6,22] + 2442.0*x[6,23] + 3290.0*x[7,1] + 2633.0*x[7,2] + 1892.0*x[7,3] + 821.0*x[7,4] + 1969.0*x[7,5] + 1304.0*x[7,6] + 99999.0*x[7,7] + 1967.0*x[7,8] + 755.0*x[7,9] + 1270.0*x[7,10] + 944.0*x[7,11] + 600.0*x[7,12] + 1638.0*x[7,13] + 1431.0*x[7,14] + 2204.0*x[7,15] + 1328.0*x[7,16] + 1110.0*x[7,17] + 2887.0*x[7,18] + 2002.0*x[7,19] + 3613.0*x[7,20] + 2660.0*x[7,21] + 4348.0*x[7,22] + 3276.0*x[7,23] + 1762.0*x[8,1] + 1244.0*x[8,2] + 1726.0*x[8,3] + 1922.0*x[8,4] + 806.0*x[8,5] + 1133.0*x[8,6] + 1967.0*x[8,7] + 99999.0*x[8,8] + 2317.0*x[8,9] + 711.0*x[8,10] + 1549.0*x[8,11] + 2163.0*x[8,12] + 1319.0*x[8,13] + 2993.0*x[8,14] + 1027.0*x[8,15] + 2275.0*x[8,16] + 2673.0*x[8,17] + 954.0*x[8,18] + 2015.0*x[8,19] + 1646.0*x[8,20] + 1703.0*x[8,21] + 2381.0*x[8,22] + 1558.0*x[8,23] + 4045.0*x[9,1] + 3388.0*x[9,2] + 2647.0*x[9,3] + 1576.0*x[9,4] + 2724.0*x[9,5] + 2059.0*x[9,6] + 755.0*x[9,7] + 2317.0*x[9,8] + 99999.0*x[9,9] + 1620.0*x[9,10] + 1294.0*x[9,11] + 740.0*x[9,12] + 1988.0*x[9,13] + 676.0*x[9,14] + 2554.0*x[9,15] + 1678.0*x[9,16] + 1091.0*x[9,17] + 3236.0*x[9,18] + 2351.0*x[9,19] + 3962.0*x[9,20] + 3009.0*x[9,21] + 4697.0*x[9,22] + 3626.0*x[9,23] + 2439.0*x[10,1] + 1782.0*x[10,2] + 1041.0*x[10,3] + 1226.0*x[10,4] + 1118.0*x[10,5] + 453.0*x[10,6] + 1270.0*x[10,7] + 711.0*x[10,8] + 1620.0*x[10,9] + 99999.0*x[10,10] + 837.0*x[10,11] + 1451.0*x[10,12] + 608.0*x[10,13] + 2282.0*x[10,14] + 934.0*x[10,15] + 1563.0*x[10,16] + 1961.0*x[10,17] + 1617.0*x[10,18] + 1304.0*x[10,19] + 2342.0*x[10,20] + 1389.0*x[10,21] + 3077.0*x[10,22] + 2006.0*x[10,23] + 3276.0*x[11,1] + 2619.0*x[11,2] + 1879.0*x[11,3] + 900.0*x[11,4] + 1955.0*x[11,5] + 1290.0*x[11,6] + 944.0*x[11,7] + 1549.0*x[11,8] + 1294.0*x[11,9] + 837.0*x[11,10] + 99999.0*x[11,11] + 614.0*x[11,12] + 694.0*x[11,13] + 1444.0*x[11,14] + 1260.0*x[11,15] + 726.0*x[11,16] + 1124.0*x[11,17] + 1943.0*x[11,18] + 1057.0*x[11,19] + 2668.0*x[11,20] + 1716.0*x[11,21] + 3403.0*x[11,22] + 2332.0*x[11,23] + 3890.0*x[12,1] + 3233.0*x[12,2] + 2493.0*x[12,3] + 1421.0*x[12,4] + 2569.0*x[12,5] + 1904.0*x[12,6] + 600.0*x[12,7] + 2163.0*x[12,8] + 740.0*x[12,9] + 1451.0*x[12,10] + 614.0*x[12,11] + 99999.0*x[12,12] + 1248.0*x[12,13] + 830.0*x[12,14] + 1814.0*x[12,15] + 938.0*x[12,16] + 510.0*x[12,17] + 2496.0*x[12,18] + 1611.0*x[12,19] + 3222.0*x[12,20] + 2269.0*x[12,21] + 3957.0*x[12,22] + 2886.0*x[12,23] + 3047.0*x[13,1] + 2390.0*x[13,2] + 1649.0*x[13,3] + 1594.0*x[13,4] + 1726.0*x[13,5] + 1061.0*x[13,6] + 1638.0*x[13,7] + 1319.0*x[13,8] + 1988.0*x[13,9] + 608.0*x[13,10] + 694.0*x[13,11] + 1248.0*x[13,12] + 99999.0*x[13,13] + 1674.0*x[13,14] + 566.0*x[13,15] + 956.0*x[13,16] + 1354.0*x[13,17] + 1249.0*x[13,18] + 696.0*x[13,19] + 1974.0*x[13,20] + 1021.0*x[13,21] + 2709.0*x[13,22] + 1638.0*x[13,23] + 4721.0*x[14,1] + 4064.0*x[14,2] + 3323.0*x[14,3] + 2251.0*x[14,4] + 3400.0*x[14,5] + 2734.0*x[14,6] + 1431.0*x[14,7] + 2993.0*x[14,8] + 676.0*x[14,9] + 2282.0*x[14,10] + 1444.0*x[14,11] + 830.0*x[14,12] + 1674.0*x[14,13] + 99999.0*x[14,14] + 1978.0*x[14,15] + 1102.0*x[14,16] + 515.0*x[14,17] + 2660.0*x[14,18] + 1775.0*x[14,19] + 3386.0*x[14,20] + 2433.0*x[14,21] + 4121.0*x[14,22] + 3050.0*x[14,23] + 2755.0*x[15,1] + 2098.0*x[15,2] + 1963.0*x[15,3] + 2159.0*x[15,4] + 1434.0*x[15,5] + 1370.0*x[15,6] + 2204.0*x[15,7] + 1027.0*x[15,8] + 2554.0*x[15,9] + 934.0*x[15,10] + 1260.0*x[15,11] + 1814.0*x[15,12] + 566.0*x[15,13] + 1978.0*x[15,14] + 99999.0*x[15,15] + 1247.0*x[15,16] + 1645.0*x[15,17] + 683.0*x[15,18] + 988.0*x[15,19] + 1408.0*x[15,20] + 676.0*x[15,21] + 2143.0*x[15,22] + 1072.0*x[15,23] + 4002.0*x[16,1] + 3345.0*x[16,2] + 2605.0*x[16,3] + 1533.0*x[16,4] + 2681.0*x[16,5] + 2016.0*x[16,6] + 1328.0*x[16,7] + 2275.0*x[16,8] + 1678.0*x[16,9] + 1563.0*x[16,10] + 726.0*x[16,11] + 938.0*x[16,12] + 956.0*x[16,13] + 1102.0*x[16,14] + 1247.0*x[16,15] + 99999.0*x[16,16] + 587.0*x[16,17] + 1558.0*x[16,18] + 673.0*x[16,19] + 2284.0*x[16,20] + 1331.0*x[16,21] + 3019.0*x[16,22] + 1948.0*x[16,23] + 4400.0*x[17,1] + 3743.0*x[17,2] + 3003.0*x[17,3] + 1931.0*x[17,4] + 3079.0*x[17,5] + 2414.0*x[17,6] + 1110.0*x[17,7] + 2673.0*x[17,8] + 1091.0*x[17,9] + 1961.0*x[17,10] + 1124.0*x[17,11] + 510.0*x[17,12] + 1354.0*x[17,13] + 515.0*x[17,14] + 1645.0*x[17,15] + 587.0*x[17,16] + 99999.0*x[17,17] + 2145.0*x[17,18] + 1260.0*x[17,19] + 2871.0*x[17,20] + 1918.0*x[17,21] + 3606.0*x[17,22] + 2534.0*x[17,23] + 2682.0*x[18,1] + 2164.0*x[18,2] + 2646.0*x[18,3] + 2842.0*x[18,4] + 1726.0*x[18,5] + 2053.0*x[18,6] + 2887.0*x[18,7] + 954.0*x[18,8] + 3236.0*x[18,9] + 1617.0*x[18,10] + 1943.0*x[18,11] + 2496.0*x[18,12] + 1249.0*x[18,13] + 2660.0*x[18,14] + 683.0*x[18,15] + 1558.0*x[18,16] + 2145.0*x[18,17] + 99999.0*x[18,18] + 1061.0*x[18,19] + 726.0*x[18,20] + 749.0*x[18,21] + 1461.0*x[18,22] + 604.0*x[18,23] + 3743.0*x[19,1] + 3085.0*x[19,2] + 2345.0*x[19,3] + 1957.0*x[19,4] + 2421.0*x[19,5] + 1756.0*x[19,6] + 2002.0*x[19,7] + 2015.0*x[19,8] + 2351.0*x[19,9] + 1304.0*x[19,10] + 1057.0*x[19,11] + 1611.0*x[19,12] + 696.0*x[19,13] + 1775.0*x[19,14] + 988.0*x[19,15] + 673.0*x[19,16] + 1260.0*x[19,17] + 1061.0*x[19,18] + 99999.0*x[19,19] + 1611.0*x[19,20] + 658.0*x[19,21] + 2346.0*x[19,22] + 1274.0*x[19,23] + 3408.0*x[20,1] + 2889.0*x[20,2] + 3372.0*x[20,3] + 3568.0*x[20,4] + 2452.0*x[20,5] + 2779.0*x[20,6] + 3613.0*x[20,7] + 1646.0*x[20,8] + 3962.0*x[20,9] + 2342.0*x[20,10] + 2668.0*x[20,11] + 3222.0*x[20,12] + 1974.0*x[20,13] + 3386.0*x[20,14] + 1408.0*x[20,15] + 2284.0*x[20,16] + 2871.0*x[20,17] + 726.0*x[20,18] + 1611.0*x[20,19] + 99999.0*x[20,20] + 953.0*x[20,21] + 735.0*x[20,22] + 641.0*x[20,23] + 3431.0*x[21,1] + 2773.0*x[21,2] + 2419.0*x[21,3] + 2615.0*x[21,4] + 2110.0*x[21,5] + 1826.0*x[21,6] + 2660.0*x[21,7] + 1703.0*x[21,8] + 3009.0*x[21,9] + 1389.0*x[21,10] + 1716.0*x[21,11] + 2269.0*x[21,12] + 1021.0*x[21,13] + 2433.0*x[21,14] + 676.0*x[21,15] + 1331.0*x[21,16] + 1918.0*x[21,17] + 749.0*x[21,18] + 658.0*x[21,19] + 953.0*x[21,20] + 99999.0*x[21,21] + 1688.0*x[21,22] + 616.0*x[21,23] + 4143.0*x[22,1] + 3625.0*x[22,2] + 4107.0*x[22,3] + 4303.0*x[22,4] + 3187.0*x[22,5] + 3514.0*x[22,6] + 4348.0*x[22,7] + 2381.0*x[22,8] + 4697.0*x[22,9] + 3077.0*x[22,10] + 3403.0*x[22,11] + 3957.0*x[22,12] + 2709.0*x[22,13] + 4121.0*x[22,14] + 2143.0*x[22,15] + 3019.0*x[22,16] + 3606.0*x[22,17] + 1461.0*x[22,18] + 2346.0*x[22,19] + 735.0*x[22,20] + 1688.0*x[22,21] + 99999.0*x[22,22] + 1071.0*x[22,23] + 3286.0*x[23,1] + 2629.0*x[23,2] + 3035.0*x[23,3] + 3231.0*x[23,4] + 2115.0*x[23,5] + 2442.0*x[23,6] + 3276.0*x[23,7] + 1558.0*x[23,8] + 3626.0*x[23,9] + 2006.0*x[23,10] + 2332.0*x[23,11] + 2886.0*x[23,12] + 1638.0*x[23,13] + 3050.0*x[23,14] + 1072.0*x[23,15] + 1948.0*x[23,16] + 2534.0*x[23,17] + 604.0*x[23,18] + 1274.0*x[23,19] + 641.0*x[23,20] + 616.0*x[23,21] + 1071.0*x[23,22] + 99999.0*x[23,23]\n",
            "\n",
            "3 Constraint Declarations\n",
            "    const1 : Size=23, Index=M, Active=True\n",
            "        Key : Lower : Body                                                                                                                                                                                                                                   : Upper : Active\n",
            "          1 :   1.0 :                      x[2,1] + x[3,1] + x[4,1] + x[5,1] + x[6,1] + x[7,1] + x[8,1] + x[9,1] + x[10,1] + x[11,1] + x[12,1] + x[13,1] + x[14,1] + x[15,1] + x[16,1] + x[17,1] + x[18,1] + x[19,1] + x[20,1] + x[21,1] + x[22,1] + x[23,1] :   1.0 :   True\n",
            "          2 :   1.0 :                      x[1,2] + x[3,2] + x[4,2] + x[5,2] + x[6,2] + x[7,2] + x[8,2] + x[9,2] + x[10,2] + x[11,2] + x[12,2] + x[13,2] + x[14,2] + x[15,2] + x[16,2] + x[17,2] + x[18,2] + x[19,2] + x[20,2] + x[21,2] + x[22,2] + x[23,2] :   1.0 :   True\n",
            "          3 :   1.0 :                      x[1,3] + x[2,3] + x[4,3] + x[5,3] + x[6,3] + x[7,3] + x[8,3] + x[9,3] + x[10,3] + x[11,3] + x[12,3] + x[13,3] + x[14,3] + x[15,3] + x[16,3] + x[17,3] + x[18,3] + x[19,3] + x[20,3] + x[21,3] + x[22,3] + x[23,3] :   1.0 :   True\n",
            "          4 :   1.0 :                      x[1,4] + x[2,4] + x[3,4] + x[5,4] + x[6,4] + x[7,4] + x[8,4] + x[9,4] + x[10,4] + x[11,4] + x[12,4] + x[13,4] + x[14,4] + x[15,4] + x[16,4] + x[17,4] + x[18,4] + x[19,4] + x[20,4] + x[21,4] + x[22,4] + x[23,4] :   1.0 :   True\n",
            "          5 :   1.0 :                      x[1,5] + x[2,5] + x[3,5] + x[4,5] + x[6,5] + x[7,5] + x[8,5] + x[9,5] + x[10,5] + x[11,5] + x[12,5] + x[13,5] + x[14,5] + x[15,5] + x[16,5] + x[17,5] + x[18,5] + x[19,5] + x[20,5] + x[21,5] + x[22,5] + x[23,5] :   1.0 :   True\n",
            "          6 :   1.0 :                      x[1,6] + x[2,6] + x[3,6] + x[4,6] + x[5,6] + x[7,6] + x[8,6] + x[9,6] + x[10,6] + x[11,6] + x[12,6] + x[13,6] + x[14,6] + x[15,6] + x[16,6] + x[17,6] + x[18,6] + x[19,6] + x[20,6] + x[21,6] + x[22,6] + x[23,6] :   1.0 :   True\n",
            "          7 :   1.0 :                      x[1,7] + x[2,7] + x[3,7] + x[4,7] + x[5,7] + x[6,7] + x[8,7] + x[9,7] + x[10,7] + x[11,7] + x[12,7] + x[13,7] + x[14,7] + x[15,7] + x[16,7] + x[17,7] + x[18,7] + x[19,7] + x[20,7] + x[21,7] + x[22,7] + x[23,7] :   1.0 :   True\n",
            "          8 :   1.0 :                      x[1,8] + x[2,8] + x[3,8] + x[4,8] + x[5,8] + x[6,8] + x[7,8] + x[9,8] + x[10,8] + x[11,8] + x[12,8] + x[13,8] + x[14,8] + x[15,8] + x[16,8] + x[17,8] + x[18,8] + x[19,8] + x[20,8] + x[21,8] + x[22,8] + x[23,8] :   1.0 :   True\n",
            "          9 :   1.0 :                      x[1,9] + x[2,9] + x[3,9] + x[4,9] + x[5,9] + x[6,9] + x[7,9] + x[8,9] + x[10,9] + x[11,9] + x[12,9] + x[13,9] + x[14,9] + x[15,9] + x[16,9] + x[17,9] + x[18,9] + x[19,9] + x[20,9] + x[21,9] + x[22,9] + x[23,9] :   1.0 :   True\n",
            "         10 :   1.0 : x[1,10] + x[2,10] + x[3,10] + x[4,10] + x[5,10] + x[6,10] + x[7,10] + x[8,10] + x[9,10] + x[11,10] + x[12,10] + x[13,10] + x[14,10] + x[15,10] + x[16,10] + x[17,10] + x[18,10] + x[19,10] + x[20,10] + x[21,10] + x[22,10] + x[23,10] :   1.0 :   True\n",
            "         11 :   1.0 : x[1,11] + x[2,11] + x[3,11] + x[4,11] + x[5,11] + x[6,11] + x[7,11] + x[8,11] + x[9,11] + x[10,11] + x[12,11] + x[13,11] + x[14,11] + x[15,11] + x[16,11] + x[17,11] + x[18,11] + x[19,11] + x[20,11] + x[21,11] + x[22,11] + x[23,11] :   1.0 :   True\n",
            "         12 :   1.0 : x[1,12] + x[2,12] + x[3,12] + x[4,12] + x[5,12] + x[6,12] + x[7,12] + x[8,12] + x[9,12] + x[10,12] + x[11,12] + x[13,12] + x[14,12] + x[15,12] + x[16,12] + x[17,12] + x[18,12] + x[19,12] + x[20,12] + x[21,12] + x[22,12] + x[23,12] :   1.0 :   True\n",
            "         13 :   1.0 : x[1,13] + x[2,13] + x[3,13] + x[4,13] + x[5,13] + x[6,13] + x[7,13] + x[8,13] + x[9,13] + x[10,13] + x[11,13] + x[12,13] + x[14,13] + x[15,13] + x[16,13] + x[17,13] + x[18,13] + x[19,13] + x[20,13] + x[21,13] + x[22,13] + x[23,13] :   1.0 :   True\n",
            "         14 :   1.0 : x[1,14] + x[2,14] + x[3,14] + x[4,14] + x[5,14] + x[6,14] + x[7,14] + x[8,14] + x[9,14] + x[10,14] + x[11,14] + x[12,14] + x[13,14] + x[15,14] + x[16,14] + x[17,14] + x[18,14] + x[19,14] + x[20,14] + x[21,14] + x[22,14] + x[23,14] :   1.0 :   True\n",
            "         15 :   1.0 : x[1,15] + x[2,15] + x[3,15] + x[4,15] + x[5,15] + x[6,15] + x[7,15] + x[8,15] + x[9,15] + x[10,15] + x[11,15] + x[12,15] + x[13,15] + x[14,15] + x[16,15] + x[17,15] + x[18,15] + x[19,15] + x[20,15] + x[21,15] + x[22,15] + x[23,15] :   1.0 :   True\n",
            "         16 :   1.0 : x[1,16] + x[2,16] + x[3,16] + x[4,16] + x[5,16] + x[6,16] + x[7,16] + x[8,16] + x[9,16] + x[10,16] + x[11,16] + x[12,16] + x[13,16] + x[14,16] + x[15,16] + x[17,16] + x[18,16] + x[19,16] + x[20,16] + x[21,16] + x[22,16] + x[23,16] :   1.0 :   True\n",
            "         17 :   1.0 : x[1,17] + x[2,17] + x[3,17] + x[4,17] + x[5,17] + x[6,17] + x[7,17] + x[8,17] + x[9,17] + x[10,17] + x[11,17] + x[12,17] + x[13,17] + x[14,17] + x[15,17] + x[16,17] + x[18,17] + x[19,17] + x[20,17] + x[21,17] + x[22,17] + x[23,17] :   1.0 :   True\n",
            "         18 :   1.0 : x[1,18] + x[2,18] + x[3,18] + x[4,18] + x[5,18] + x[6,18] + x[7,18] + x[8,18] + x[9,18] + x[10,18] + x[11,18] + x[12,18] + x[13,18] + x[14,18] + x[15,18] + x[16,18] + x[17,18] + x[19,18] + x[20,18] + x[21,18] + x[22,18] + x[23,18] :   1.0 :   True\n",
            "         19 :   1.0 : x[1,19] + x[2,19] + x[3,19] + x[4,19] + x[5,19] + x[6,19] + x[7,19] + x[8,19] + x[9,19] + x[10,19] + x[11,19] + x[12,19] + x[13,19] + x[14,19] + x[15,19] + x[16,19] + x[17,19] + x[18,19] + x[20,19] + x[21,19] + x[22,19] + x[23,19] :   1.0 :   True\n",
            "         20 :   1.0 : x[1,20] + x[2,20] + x[3,20] + x[4,20] + x[5,20] + x[6,20] + x[7,20] + x[8,20] + x[9,20] + x[10,20] + x[11,20] + x[12,20] + x[13,20] + x[14,20] + x[15,20] + x[16,20] + x[17,20] + x[18,20] + x[19,20] + x[21,20] + x[22,20] + x[23,20] :   1.0 :   True\n",
            "         21 :   1.0 : x[1,21] + x[2,21] + x[3,21] + x[4,21] + x[5,21] + x[6,21] + x[7,21] + x[8,21] + x[9,21] + x[10,21] + x[11,21] + x[12,21] + x[13,21] + x[14,21] + x[15,21] + x[16,21] + x[17,21] + x[18,21] + x[19,21] + x[20,21] + x[22,21] + x[23,21] :   1.0 :   True\n",
            "         22 :   1.0 : x[1,22] + x[2,22] + x[3,22] + x[4,22] + x[5,22] + x[6,22] + x[7,22] + x[8,22] + x[9,22] + x[10,22] + x[11,22] + x[12,22] + x[13,22] + x[14,22] + x[15,22] + x[16,22] + x[17,22] + x[18,22] + x[19,22] + x[20,22] + x[21,22] + x[23,22] :   1.0 :   True\n",
            "         23 :   1.0 : x[1,23] + x[2,23] + x[3,23] + x[4,23] + x[5,23] + x[6,23] + x[7,23] + x[8,23] + x[9,23] + x[10,23] + x[11,23] + x[12,23] + x[13,23] + x[14,23] + x[15,23] + x[16,23] + x[17,23] + x[18,23] + x[19,23] + x[20,23] + x[21,23] + x[22,23] :   1.0 :   True\n",
            "    const3 : Size=484, Index=const3_index, Active=True\n",
            "        Key      : Lower : Body                        : Upper : Active\n",
            "          (2, 1) :  -Inf :     u[2] - u[1] + 23*x[2,1] :  22.0 :   True\n",
            "          (2, 3) :  -Inf :     u[2] - u[3] + 23*x[2,3] :  22.0 :   True\n",
            "          (2, 4) :  -Inf :     u[2] - u[4] + 23*x[2,4] :  22.0 :   True\n",
            "          (2, 5) :  -Inf :     u[2] - u[5] + 23*x[2,5] :  22.0 :   True\n",
            "          (2, 6) :  -Inf :     u[2] - u[6] + 23*x[2,6] :  22.0 :   True\n",
            "          (2, 7) :  -Inf :     u[2] - u[7] + 23*x[2,7] :  22.0 :   True\n",
            "          (2, 8) :  -Inf :     u[2] - u[8] + 23*x[2,8] :  22.0 :   True\n",
            "          (2, 9) :  -Inf :     u[2] - u[9] + 23*x[2,9] :  22.0 :   True\n",
            "         (2, 10) :  -Inf :   u[2] - u[10] + 23*x[2,10] :  22.0 :   True\n",
            "         (2, 11) :  -Inf :   u[2] - u[11] + 23*x[2,11] :  22.0 :   True\n",
            "         (2, 12) :  -Inf :   u[2] - u[12] + 23*x[2,12] :  22.0 :   True\n",
            "         (2, 13) :  -Inf :   u[2] - u[13] + 23*x[2,13] :  22.0 :   True\n",
            "         (2, 14) :  -Inf :   u[2] - u[14] + 23*x[2,14] :  22.0 :   True\n",
            "         (2, 15) :  -Inf :   u[2] - u[15] + 23*x[2,15] :  22.0 :   True\n",
            "         (2, 16) :  -Inf :   u[2] - u[16] + 23*x[2,16] :  22.0 :   True\n",
            "         (2, 17) :  -Inf :   u[2] - u[17] + 23*x[2,17] :  22.0 :   True\n",
            "         (2, 18) :  -Inf :   u[2] - u[18] + 23*x[2,18] :  22.0 :   True\n",
            "         (2, 19) :  -Inf :   u[2] - u[19] + 23*x[2,19] :  22.0 :   True\n",
            "         (2, 20) :  -Inf :   u[2] - u[20] + 23*x[2,20] :  22.0 :   True\n",
            "         (2, 21) :  -Inf :   u[2] - u[21] + 23*x[2,21] :  22.0 :   True\n",
            "         (2, 22) :  -Inf :   u[2] - u[22] + 23*x[2,22] :  22.0 :   True\n",
            "         (2, 23) :  -Inf :   u[2] - u[23] + 23*x[2,23] :  22.0 :   True\n",
            "          (3, 1) :  -Inf :     u[3] - u[1] + 23*x[3,1] :  22.0 :   True\n",
            "          (3, 2) :  -Inf :     u[3] - u[2] + 23*x[3,2] :  22.0 :   True\n",
            "          (3, 4) :  -Inf :     u[3] - u[4] + 23*x[3,4] :  22.0 :   True\n",
            "          (3, 5) :  -Inf :     u[3] - u[5] + 23*x[3,5] :  22.0 :   True\n",
            "          (3, 6) :  -Inf :     u[3] - u[6] + 23*x[3,6] :  22.0 :   True\n",
            "          (3, 7) :  -Inf :     u[3] - u[7] + 23*x[3,7] :  22.0 :   True\n",
            "          (3, 8) :  -Inf :     u[3] - u[8] + 23*x[3,8] :  22.0 :   True\n",
            "          (3, 9) :  -Inf :     u[3] - u[9] + 23*x[3,9] :  22.0 :   True\n",
            "         (3, 10) :  -Inf :   u[3] - u[10] + 23*x[3,10] :  22.0 :   True\n",
            "         (3, 11) :  -Inf :   u[3] - u[11] + 23*x[3,11] :  22.0 :   True\n",
            "         (3, 12) :  -Inf :   u[3] - u[12] + 23*x[3,12] :  22.0 :   True\n",
            "         (3, 13) :  -Inf :   u[3] - u[13] + 23*x[3,13] :  22.0 :   True\n",
            "         (3, 14) :  -Inf :   u[3] - u[14] + 23*x[3,14] :  22.0 :   True\n",
            "         (3, 15) :  -Inf :   u[3] - u[15] + 23*x[3,15] :  22.0 :   True\n",
            "         (3, 16) :  -Inf :   u[3] - u[16] + 23*x[3,16] :  22.0 :   True\n",
            "         (3, 17) :  -Inf :   u[3] - u[17] + 23*x[3,17] :  22.0 :   True\n",
            "         (3, 18) :  -Inf :   u[3] - u[18] + 23*x[3,18] :  22.0 :   True\n",
            "         (3, 19) :  -Inf :   u[3] - u[19] + 23*x[3,19] :  22.0 :   True\n",
            "         (3, 20) :  -Inf :   u[3] - u[20] + 23*x[3,20] :  22.0 :   True\n",
            "         (3, 21) :  -Inf :   u[3] - u[21] + 23*x[3,21] :  22.0 :   True\n",
            "         (3, 22) :  -Inf :   u[3] - u[22] + 23*x[3,22] :  22.0 :   True\n",
            "         (3, 23) :  -Inf :   u[3] - u[23] + 23*x[3,23] :  22.0 :   True\n",
            "          (4, 1) :  -Inf :     u[4] - u[1] + 23*x[4,1] :  22.0 :   True\n",
            "          (4, 2) :  -Inf :     u[4] - u[2] + 23*x[4,2] :  22.0 :   True\n",
            "          (4, 3) :  -Inf :     u[4] - u[3] + 23*x[4,3] :  22.0 :   True\n",
            "          (4, 5) :  -Inf :     u[4] - u[5] + 23*x[4,5] :  22.0 :   True\n",
            "          (4, 6) :  -Inf :     u[4] - u[6] + 23*x[4,6] :  22.0 :   True\n",
            "          (4, 7) :  -Inf :     u[4] - u[7] + 23*x[4,7] :  22.0 :   True\n",
            "          (4, 8) :  -Inf :     u[4] - u[8] + 23*x[4,8] :  22.0 :   True\n",
            "          (4, 9) :  -Inf :     u[4] - u[9] + 23*x[4,9] :  22.0 :   True\n",
            "         (4, 10) :  -Inf :   u[4] - u[10] + 23*x[4,10] :  22.0 :   True\n",
            "         (4, 11) :  -Inf :   u[4] - u[11] + 23*x[4,11] :  22.0 :   True\n",
            "         (4, 12) :  -Inf :   u[4] - u[12] + 23*x[4,12] :  22.0 :   True\n",
            "         (4, 13) :  -Inf :   u[4] - u[13] + 23*x[4,13] :  22.0 :   True\n",
            "         (4, 14) :  -Inf :   u[4] - u[14] + 23*x[4,14] :  22.0 :   True\n",
            "         (4, 15) :  -Inf :   u[4] - u[15] + 23*x[4,15] :  22.0 :   True\n",
            "         (4, 16) :  -Inf :   u[4] - u[16] + 23*x[4,16] :  22.0 :   True\n",
            "         (4, 17) :  -Inf :   u[4] - u[17] + 23*x[4,17] :  22.0 :   True\n",
            "         (4, 18) :  -Inf :   u[4] - u[18] + 23*x[4,18] :  22.0 :   True\n",
            "         (4, 19) :  -Inf :   u[4] - u[19] + 23*x[4,19] :  22.0 :   True\n",
            "         (4, 20) :  -Inf :   u[4] - u[20] + 23*x[4,20] :  22.0 :   True\n",
            "         (4, 21) :  -Inf :   u[4] - u[21] + 23*x[4,21] :  22.0 :   True\n",
            "         (4, 22) :  -Inf :   u[4] - u[22] + 23*x[4,22] :  22.0 :   True\n",
            "         (4, 23) :  -Inf :   u[4] - u[23] + 23*x[4,23] :  22.0 :   True\n",
            "          (5, 1) :  -Inf :     u[5] - u[1] + 23*x[5,1] :  22.0 :   True\n",
            "          (5, 2) :  -Inf :     u[5] - u[2] + 23*x[5,2] :  22.0 :   True\n",
            "          (5, 3) :  -Inf :     u[5] - u[3] + 23*x[5,3] :  22.0 :   True\n",
            "          (5, 4) :  -Inf :     u[5] - u[4] + 23*x[5,4] :  22.0 :   True\n",
            "          (5, 6) :  -Inf :     u[5] - u[6] + 23*x[5,6] :  22.0 :   True\n",
            "          (5, 7) :  -Inf :     u[5] - u[7] + 23*x[5,7] :  22.0 :   True\n",
            "          (5, 8) :  -Inf :     u[5] - u[8] + 23*x[5,8] :  22.0 :   True\n",
            "          (5, 9) :  -Inf :     u[5] - u[9] + 23*x[5,9] :  22.0 :   True\n",
            "         (5, 10) :  -Inf :   u[5] - u[10] + 23*x[5,10] :  22.0 :   True\n",
            "         (5, 11) :  -Inf :   u[5] - u[11] + 23*x[5,11] :  22.0 :   True\n",
            "         (5, 12) :  -Inf :   u[5] - u[12] + 23*x[5,12] :  22.0 :   True\n",
            "         (5, 13) :  -Inf :   u[5] - u[13] + 23*x[5,13] :  22.0 :   True\n",
            "         (5, 14) :  -Inf :   u[5] - u[14] + 23*x[5,14] :  22.0 :   True\n",
            "         (5, 15) :  -Inf :   u[5] - u[15] + 23*x[5,15] :  22.0 :   True\n",
            "         (5, 16) :  -Inf :   u[5] - u[16] + 23*x[5,16] :  22.0 :   True\n",
            "         (5, 17) :  -Inf :   u[5] - u[17] + 23*x[5,17] :  22.0 :   True\n",
            "         (5, 18) :  -Inf :   u[5] - u[18] + 23*x[5,18] :  22.0 :   True\n",
            "         (5, 19) :  -Inf :   u[5] - u[19] + 23*x[5,19] :  22.0 :   True\n",
            "         (5, 20) :  -Inf :   u[5] - u[20] + 23*x[5,20] :  22.0 :   True\n",
            "         (5, 21) :  -Inf :   u[5] - u[21] + 23*x[5,21] :  22.0 :   True\n",
            "         (5, 22) :  -Inf :   u[5] - u[22] + 23*x[5,22] :  22.0 :   True\n",
            "         (5, 23) :  -Inf :   u[5] - u[23] + 23*x[5,23] :  22.0 :   True\n",
            "          (6, 1) :  -Inf :     u[6] - u[1] + 23*x[6,1] :  22.0 :   True\n",
            "          (6, 2) :  -Inf :     u[6] - u[2] + 23*x[6,2] :  22.0 :   True\n",
            "          (6, 3) :  -Inf :     u[6] - u[3] + 23*x[6,3] :  22.0 :   True\n",
            "          (6, 4) :  -Inf :     u[6] - u[4] + 23*x[6,4] :  22.0 :   True\n",
            "          (6, 5) :  -Inf :     u[6] - u[5] + 23*x[6,5] :  22.0 :   True\n",
            "          (6, 7) :  -Inf :     u[6] - u[7] + 23*x[6,7] :  22.0 :   True\n",
            "          (6, 8) :  -Inf :     u[6] - u[8] + 23*x[6,8] :  22.0 :   True\n",
            "          (6, 9) :  -Inf :     u[6] - u[9] + 23*x[6,9] :  22.0 :   True\n",
            "         (6, 10) :  -Inf :   u[6] - u[10] + 23*x[6,10] :  22.0 :   True\n",
            "         (6, 11) :  -Inf :   u[6] - u[11] + 23*x[6,11] :  22.0 :   True\n",
            "         (6, 12) :  -Inf :   u[6] - u[12] + 23*x[6,12] :  22.0 :   True\n",
            "         (6, 13) :  -Inf :   u[6] - u[13] + 23*x[6,13] :  22.0 :   True\n",
            "         (6, 14) :  -Inf :   u[6] - u[14] + 23*x[6,14] :  22.0 :   True\n",
            "         (6, 15) :  -Inf :   u[6] - u[15] + 23*x[6,15] :  22.0 :   True\n",
            "         (6, 16) :  -Inf :   u[6] - u[16] + 23*x[6,16] :  22.0 :   True\n",
            "         (6, 17) :  -Inf :   u[6] - u[17] + 23*x[6,17] :  22.0 :   True\n",
            "         (6, 18) :  -Inf :   u[6] - u[18] + 23*x[6,18] :  22.0 :   True\n",
            "         (6, 19) :  -Inf :   u[6] - u[19] + 23*x[6,19] :  22.0 :   True\n",
            "         (6, 20) :  -Inf :   u[6] - u[20] + 23*x[6,20] :  22.0 :   True\n",
            "         (6, 21) :  -Inf :   u[6] - u[21] + 23*x[6,21] :  22.0 :   True\n",
            "         (6, 22) :  -Inf :   u[6] - u[22] + 23*x[6,22] :  22.0 :   True\n",
            "         (6, 23) :  -Inf :   u[6] - u[23] + 23*x[6,23] :  22.0 :   True\n",
            "          (7, 1) :  -Inf :     u[7] - u[1] + 23*x[7,1] :  22.0 :   True\n",
            "          (7, 2) :  -Inf :     u[7] - u[2] + 23*x[7,2] :  22.0 :   True\n",
            "          (7, 3) :  -Inf :     u[7] - u[3] + 23*x[7,3] :  22.0 :   True\n",
            "          (7, 4) :  -Inf :     u[7] - u[4] + 23*x[7,4] :  22.0 :   True\n",
            "          (7, 5) :  -Inf :     u[7] - u[5] + 23*x[7,5] :  22.0 :   True\n",
            "          (7, 6) :  -Inf :     u[7] - u[6] + 23*x[7,6] :  22.0 :   True\n",
            "          (7, 8) :  -Inf :     u[7] - u[8] + 23*x[7,8] :  22.0 :   True\n",
            "          (7, 9) :  -Inf :     u[7] - u[9] + 23*x[7,9] :  22.0 :   True\n",
            "         (7, 10) :  -Inf :   u[7] - u[10] + 23*x[7,10] :  22.0 :   True\n",
            "         (7, 11) :  -Inf :   u[7] - u[11] + 23*x[7,11] :  22.0 :   True\n",
            "         (7, 12) :  -Inf :   u[7] - u[12] + 23*x[7,12] :  22.0 :   True\n",
            "         (7, 13) :  -Inf :   u[7] - u[13] + 23*x[7,13] :  22.0 :   True\n",
            "         (7, 14) :  -Inf :   u[7] - u[14] + 23*x[7,14] :  22.0 :   True\n",
            "         (7, 15) :  -Inf :   u[7] - u[15] + 23*x[7,15] :  22.0 :   True\n",
            "         (7, 16) :  -Inf :   u[7] - u[16] + 23*x[7,16] :  22.0 :   True\n",
            "         (7, 17) :  -Inf :   u[7] - u[17] + 23*x[7,17] :  22.0 :   True\n",
            "         (7, 18) :  -Inf :   u[7] - u[18] + 23*x[7,18] :  22.0 :   True\n",
            "         (7, 19) :  -Inf :   u[7] - u[19] + 23*x[7,19] :  22.0 :   True\n",
            "         (7, 20) :  -Inf :   u[7] - u[20] + 23*x[7,20] :  22.0 :   True\n",
            "         (7, 21) :  -Inf :   u[7] - u[21] + 23*x[7,21] :  22.0 :   True\n",
            "         (7, 22) :  -Inf :   u[7] - u[22] + 23*x[7,22] :  22.0 :   True\n",
            "         (7, 23) :  -Inf :   u[7] - u[23] + 23*x[7,23] :  22.0 :   True\n",
            "          (8, 1) :  -Inf :     u[8] - u[1] + 23*x[8,1] :  22.0 :   True\n",
            "          (8, 2) :  -Inf :     u[8] - u[2] + 23*x[8,2] :  22.0 :   True\n",
            "          (8, 3) :  -Inf :     u[8] - u[3] + 23*x[8,3] :  22.0 :   True\n",
            "          (8, 4) :  -Inf :     u[8] - u[4] + 23*x[8,4] :  22.0 :   True\n",
            "          (8, 5) :  -Inf :     u[8] - u[5] + 23*x[8,5] :  22.0 :   True\n",
            "          (8, 6) :  -Inf :     u[8] - u[6] + 23*x[8,6] :  22.0 :   True\n",
            "          (8, 7) :  -Inf :     u[8] - u[7] + 23*x[8,7] :  22.0 :   True\n",
            "          (8, 9) :  -Inf :     u[8] - u[9] + 23*x[8,9] :  22.0 :   True\n",
            "         (8, 10) :  -Inf :   u[8] - u[10] + 23*x[8,10] :  22.0 :   True\n",
            "         (8, 11) :  -Inf :   u[8] - u[11] + 23*x[8,11] :  22.0 :   True\n",
            "         (8, 12) :  -Inf :   u[8] - u[12] + 23*x[8,12] :  22.0 :   True\n",
            "         (8, 13) :  -Inf :   u[8] - u[13] + 23*x[8,13] :  22.0 :   True\n",
            "         (8, 14) :  -Inf :   u[8] - u[14] + 23*x[8,14] :  22.0 :   True\n",
            "         (8, 15) :  -Inf :   u[8] - u[15] + 23*x[8,15] :  22.0 :   True\n",
            "         (8, 16) :  -Inf :   u[8] - u[16] + 23*x[8,16] :  22.0 :   True\n",
            "         (8, 17) :  -Inf :   u[8] - u[17] + 23*x[8,17] :  22.0 :   True\n",
            "         (8, 18) :  -Inf :   u[8] - u[18] + 23*x[8,18] :  22.0 :   True\n",
            "         (8, 19) :  -Inf :   u[8] - u[19] + 23*x[8,19] :  22.0 :   True\n",
            "         (8, 20) :  -Inf :   u[8] - u[20] + 23*x[8,20] :  22.0 :   True\n",
            "         (8, 21) :  -Inf :   u[8] - u[21] + 23*x[8,21] :  22.0 :   True\n",
            "         (8, 22) :  -Inf :   u[8] - u[22] + 23*x[8,22] :  22.0 :   True\n",
            "         (8, 23) :  -Inf :   u[8] - u[23] + 23*x[8,23] :  22.0 :   True\n",
            "          (9, 1) :  -Inf :     u[9] - u[1] + 23*x[9,1] :  22.0 :   True\n",
            "          (9, 2) :  -Inf :     u[9] - u[2] + 23*x[9,2] :  22.0 :   True\n",
            "          (9, 3) :  -Inf :     u[9] - u[3] + 23*x[9,3] :  22.0 :   True\n",
            "          (9, 4) :  -Inf :     u[9] - u[4] + 23*x[9,4] :  22.0 :   True\n",
            "          (9, 5) :  -Inf :     u[9] - u[5] + 23*x[9,5] :  22.0 :   True\n",
            "          (9, 6) :  -Inf :     u[9] - u[6] + 23*x[9,6] :  22.0 :   True\n",
            "          (9, 7) :  -Inf :     u[9] - u[7] + 23*x[9,7] :  22.0 :   True\n",
            "          (9, 8) :  -Inf :     u[9] - u[8] + 23*x[9,8] :  22.0 :   True\n",
            "         (9, 10) :  -Inf :   u[9] - u[10] + 23*x[9,10] :  22.0 :   True\n",
            "         (9, 11) :  -Inf :   u[9] - u[11] + 23*x[9,11] :  22.0 :   True\n",
            "         (9, 12) :  -Inf :   u[9] - u[12] + 23*x[9,12] :  22.0 :   True\n",
            "         (9, 13) :  -Inf :   u[9] - u[13] + 23*x[9,13] :  22.0 :   True\n",
            "         (9, 14) :  -Inf :   u[9] - u[14] + 23*x[9,14] :  22.0 :   True\n",
            "         (9, 15) :  -Inf :   u[9] - u[15] + 23*x[9,15] :  22.0 :   True\n",
            "         (9, 16) :  -Inf :   u[9] - u[16] + 23*x[9,16] :  22.0 :   True\n",
            "         (9, 17) :  -Inf :   u[9] - u[17] + 23*x[9,17] :  22.0 :   True\n",
            "         (9, 18) :  -Inf :   u[9] - u[18] + 23*x[9,18] :  22.0 :   True\n",
            "         (9, 19) :  -Inf :   u[9] - u[19] + 23*x[9,19] :  22.0 :   True\n",
            "         (9, 20) :  -Inf :   u[9] - u[20] + 23*x[9,20] :  22.0 :   True\n",
            "         (9, 21) :  -Inf :   u[9] - u[21] + 23*x[9,21] :  22.0 :   True\n",
            "         (9, 22) :  -Inf :   u[9] - u[22] + 23*x[9,22] :  22.0 :   True\n",
            "         (9, 23) :  -Inf :   u[9] - u[23] + 23*x[9,23] :  22.0 :   True\n",
            "         (10, 1) :  -Inf :   u[10] - u[1] + 23*x[10,1] :  22.0 :   True\n",
            "         (10, 2) :  -Inf :   u[10] - u[2] + 23*x[10,2] :  22.0 :   True\n",
            "         (10, 3) :  -Inf :   u[10] - u[3] + 23*x[10,3] :  22.0 :   True\n",
            "         (10, 4) :  -Inf :   u[10] - u[4] + 23*x[10,4] :  22.0 :   True\n",
            "         (10, 5) :  -Inf :   u[10] - u[5] + 23*x[10,5] :  22.0 :   True\n",
            "         (10, 6) :  -Inf :   u[10] - u[6] + 23*x[10,6] :  22.0 :   True\n",
            "         (10, 7) :  -Inf :   u[10] - u[7] + 23*x[10,7] :  22.0 :   True\n",
            "         (10, 8) :  -Inf :   u[10] - u[8] + 23*x[10,8] :  22.0 :   True\n",
            "         (10, 9) :  -Inf :   u[10] - u[9] + 23*x[10,9] :  22.0 :   True\n",
            "        (10, 11) :  -Inf : u[10] - u[11] + 23*x[10,11] :  22.0 :   True\n",
            "        (10, 12) :  -Inf : u[10] - u[12] + 23*x[10,12] :  22.0 :   True\n",
            "        (10, 13) :  -Inf : u[10] - u[13] + 23*x[10,13] :  22.0 :   True\n",
            "        (10, 14) :  -Inf : u[10] - u[14] + 23*x[10,14] :  22.0 :   True\n",
            "        (10, 15) :  -Inf : u[10] - u[15] + 23*x[10,15] :  22.0 :   True\n",
            "        (10, 16) :  -Inf : u[10] - u[16] + 23*x[10,16] :  22.0 :   True\n",
            "        (10, 17) :  -Inf : u[10] - u[17] + 23*x[10,17] :  22.0 :   True\n",
            "        (10, 18) :  -Inf : u[10] - u[18] + 23*x[10,18] :  22.0 :   True\n",
            "        (10, 19) :  -Inf : u[10] - u[19] + 23*x[10,19] :  22.0 :   True\n",
            "        (10, 20) :  -Inf : u[10] - u[20] + 23*x[10,20] :  22.0 :   True\n",
            "        (10, 21) :  -Inf : u[10] - u[21] + 23*x[10,21] :  22.0 :   True\n",
            "        (10, 22) :  -Inf : u[10] - u[22] + 23*x[10,22] :  22.0 :   True\n",
            "        (10, 23) :  -Inf : u[10] - u[23] + 23*x[10,23] :  22.0 :   True\n",
            "         (11, 1) :  -Inf :   u[11] - u[1] + 23*x[11,1] :  22.0 :   True\n",
            "         (11, 2) :  -Inf :   u[11] - u[2] + 23*x[11,2] :  22.0 :   True\n",
            "         (11, 3) :  -Inf :   u[11] - u[3] + 23*x[11,3] :  22.0 :   True\n",
            "         (11, 4) :  -Inf :   u[11] - u[4] + 23*x[11,4] :  22.0 :   True\n",
            "         (11, 5) :  -Inf :   u[11] - u[5] + 23*x[11,5] :  22.0 :   True\n",
            "         (11, 6) :  -Inf :   u[11] - u[6] + 23*x[11,6] :  22.0 :   True\n",
            "         (11, 7) :  -Inf :   u[11] - u[7] + 23*x[11,7] :  22.0 :   True\n",
            "         (11, 8) :  -Inf :   u[11] - u[8] + 23*x[11,8] :  22.0 :   True\n",
            "         (11, 9) :  -Inf :   u[11] - u[9] + 23*x[11,9] :  22.0 :   True\n",
            "        (11, 10) :  -Inf : u[11] - u[10] + 23*x[11,10] :  22.0 :   True\n",
            "        (11, 12) :  -Inf : u[11] - u[12] + 23*x[11,12] :  22.0 :   True\n",
            "        (11, 13) :  -Inf : u[11] - u[13] + 23*x[11,13] :  22.0 :   True\n",
            "        (11, 14) :  -Inf : u[11] - u[14] + 23*x[11,14] :  22.0 :   True\n",
            "        (11, 15) :  -Inf : u[11] - u[15] + 23*x[11,15] :  22.0 :   True\n",
            "        (11, 16) :  -Inf : u[11] - u[16] + 23*x[11,16] :  22.0 :   True\n",
            "        (11, 17) :  -Inf : u[11] - u[17] + 23*x[11,17] :  22.0 :   True\n",
            "        (11, 18) :  -Inf : u[11] - u[18] + 23*x[11,18] :  22.0 :   True\n",
            "        (11, 19) :  -Inf : u[11] - u[19] + 23*x[11,19] :  22.0 :   True\n",
            "        (11, 20) :  -Inf : u[11] - u[20] + 23*x[11,20] :  22.0 :   True\n",
            "        (11, 21) :  -Inf : u[11] - u[21] + 23*x[11,21] :  22.0 :   True\n",
            "        (11, 22) :  -Inf : u[11] - u[22] + 23*x[11,22] :  22.0 :   True\n",
            "        (11, 23) :  -Inf : u[11] - u[23] + 23*x[11,23] :  22.0 :   True\n",
            "         (12, 1) :  -Inf :   u[12] - u[1] + 23*x[12,1] :  22.0 :   True\n",
            "         (12, 2) :  -Inf :   u[12] - u[2] + 23*x[12,2] :  22.0 :   True\n",
            "         (12, 3) :  -Inf :   u[12] - u[3] + 23*x[12,3] :  22.0 :   True\n",
            "         (12, 4) :  -Inf :   u[12] - u[4] + 23*x[12,4] :  22.0 :   True\n",
            "         (12, 5) :  -Inf :   u[12] - u[5] + 23*x[12,5] :  22.0 :   True\n",
            "         (12, 6) :  -Inf :   u[12] - u[6] + 23*x[12,6] :  22.0 :   True\n",
            "         (12, 7) :  -Inf :   u[12] - u[7] + 23*x[12,7] :  22.0 :   True\n",
            "         (12, 8) :  -Inf :   u[12] - u[8] + 23*x[12,8] :  22.0 :   True\n",
            "         (12, 9) :  -Inf :   u[12] - u[9] + 23*x[12,9] :  22.0 :   True\n",
            "        (12, 10) :  -Inf : u[12] - u[10] + 23*x[12,10] :  22.0 :   True\n",
            "        (12, 11) :  -Inf : u[12] - u[11] + 23*x[12,11] :  22.0 :   True\n",
            "        (12, 13) :  -Inf : u[12] - u[13] + 23*x[12,13] :  22.0 :   True\n",
            "        (12, 14) :  -Inf : u[12] - u[14] + 23*x[12,14] :  22.0 :   True\n",
            "        (12, 15) :  -Inf : u[12] - u[15] + 23*x[12,15] :  22.0 :   True\n",
            "        (12, 16) :  -Inf : u[12] - u[16] + 23*x[12,16] :  22.0 :   True\n",
            "        (12, 17) :  -Inf : u[12] - u[17] + 23*x[12,17] :  22.0 :   True\n",
            "        (12, 18) :  -Inf : u[12] - u[18] + 23*x[12,18] :  22.0 :   True\n",
            "        (12, 19) :  -Inf : u[12] - u[19] + 23*x[12,19] :  22.0 :   True\n",
            "        (12, 20) :  -Inf : u[12] - u[20] + 23*x[12,20] :  22.0 :   True\n",
            "        (12, 21) :  -Inf : u[12] - u[21] + 23*x[12,21] :  22.0 :   True\n",
            "        (12, 22) :  -Inf : u[12] - u[22] + 23*x[12,22] :  22.0 :   True\n",
            "        (12, 23) :  -Inf : u[12] - u[23] + 23*x[12,23] :  22.0 :   True\n",
            "         (13, 1) :  -Inf :   u[13] - u[1] + 23*x[13,1] :  22.0 :   True\n",
            "         (13, 2) :  -Inf :   u[13] - u[2] + 23*x[13,2] :  22.0 :   True\n",
            "         (13, 3) :  -Inf :   u[13] - u[3] + 23*x[13,3] :  22.0 :   True\n",
            "         (13, 4) :  -Inf :   u[13] - u[4] + 23*x[13,4] :  22.0 :   True\n",
            "         (13, 5) :  -Inf :   u[13] - u[5] + 23*x[13,5] :  22.0 :   True\n",
            "         (13, 6) :  -Inf :   u[13] - u[6] + 23*x[13,6] :  22.0 :   True\n",
            "         (13, 7) :  -Inf :   u[13] - u[7] + 23*x[13,7] :  22.0 :   True\n",
            "         (13, 8) :  -Inf :   u[13] - u[8] + 23*x[13,8] :  22.0 :   True\n",
            "         (13, 9) :  -Inf :   u[13] - u[9] + 23*x[13,9] :  22.0 :   True\n",
            "        (13, 10) :  -Inf : u[13] - u[10] + 23*x[13,10] :  22.0 :   True\n",
            "        (13, 11) :  -Inf : u[13] - u[11] + 23*x[13,11] :  22.0 :   True\n",
            "        (13, 12) :  -Inf : u[13] - u[12] + 23*x[13,12] :  22.0 :   True\n",
            "        (13, 14) :  -Inf : u[13] - u[14] + 23*x[13,14] :  22.0 :   True\n",
            "        (13, 15) :  -Inf : u[13] - u[15] + 23*x[13,15] :  22.0 :   True\n",
            "        (13, 16) :  -Inf : u[13] - u[16] + 23*x[13,16] :  22.0 :   True\n",
            "        (13, 17) :  -Inf : u[13] - u[17] + 23*x[13,17] :  22.0 :   True\n",
            "        (13, 18) :  -Inf : u[13] - u[18] + 23*x[13,18] :  22.0 :   True\n",
            "        (13, 19) :  -Inf : u[13] - u[19] + 23*x[13,19] :  22.0 :   True\n",
            "        (13, 20) :  -Inf : u[13] - u[20] + 23*x[13,20] :  22.0 :   True\n",
            "        (13, 21) :  -Inf : u[13] - u[21] + 23*x[13,21] :  22.0 :   True\n",
            "        (13, 22) :  -Inf : u[13] - u[22] + 23*x[13,22] :  22.0 :   True\n",
            "        (13, 23) :  -Inf : u[13] - u[23] + 23*x[13,23] :  22.0 :   True\n",
            "         (14, 1) :  -Inf :   u[14] - u[1] + 23*x[14,1] :  22.0 :   True\n",
            "         (14, 2) :  -Inf :   u[14] - u[2] + 23*x[14,2] :  22.0 :   True\n",
            "         (14, 3) :  -Inf :   u[14] - u[3] + 23*x[14,3] :  22.0 :   True\n",
            "         (14, 4) :  -Inf :   u[14] - u[4] + 23*x[14,4] :  22.0 :   True\n",
            "         (14, 5) :  -Inf :   u[14] - u[5] + 23*x[14,5] :  22.0 :   True\n",
            "         (14, 6) :  -Inf :   u[14] - u[6] + 23*x[14,6] :  22.0 :   True\n",
            "         (14, 7) :  -Inf :   u[14] - u[7] + 23*x[14,7] :  22.0 :   True\n",
            "         (14, 8) :  -Inf :   u[14] - u[8] + 23*x[14,8] :  22.0 :   True\n",
            "         (14, 9) :  -Inf :   u[14] - u[9] + 23*x[14,9] :  22.0 :   True\n",
            "        (14, 10) :  -Inf : u[14] - u[10] + 23*x[14,10] :  22.0 :   True\n",
            "        (14, 11) :  -Inf : u[14] - u[11] + 23*x[14,11] :  22.0 :   True\n",
            "        (14, 12) :  -Inf : u[14] - u[12] + 23*x[14,12] :  22.0 :   True\n",
            "        (14, 13) :  -Inf : u[14] - u[13] + 23*x[14,13] :  22.0 :   True\n",
            "        (14, 15) :  -Inf : u[14] - u[15] + 23*x[14,15] :  22.0 :   True\n",
            "        (14, 16) :  -Inf : u[14] - u[16] + 23*x[14,16] :  22.0 :   True\n",
            "        (14, 17) :  -Inf : u[14] - u[17] + 23*x[14,17] :  22.0 :   True\n",
            "        (14, 18) :  -Inf : u[14] - u[18] + 23*x[14,18] :  22.0 :   True\n",
            "        (14, 19) :  -Inf : u[14] - u[19] + 23*x[14,19] :  22.0 :   True\n",
            "        (14, 20) :  -Inf : u[14] - u[20] + 23*x[14,20] :  22.0 :   True\n",
            "        (14, 21) :  -Inf : u[14] - u[21] + 23*x[14,21] :  22.0 :   True\n",
            "        (14, 22) :  -Inf : u[14] - u[22] + 23*x[14,22] :  22.0 :   True\n",
            "        (14, 23) :  -Inf : u[14] - u[23] + 23*x[14,23] :  22.0 :   True\n",
            "         (15, 1) :  -Inf :   u[15] - u[1] + 23*x[15,1] :  22.0 :   True\n",
            "         (15, 2) :  -Inf :   u[15] - u[2] + 23*x[15,2] :  22.0 :   True\n",
            "         (15, 3) :  -Inf :   u[15] - u[3] + 23*x[15,3] :  22.0 :   True\n",
            "         (15, 4) :  -Inf :   u[15] - u[4] + 23*x[15,4] :  22.0 :   True\n",
            "         (15, 5) :  -Inf :   u[15] - u[5] + 23*x[15,5] :  22.0 :   True\n",
            "         (15, 6) :  -Inf :   u[15] - u[6] + 23*x[15,6] :  22.0 :   True\n",
            "         (15, 7) :  -Inf :   u[15] - u[7] + 23*x[15,7] :  22.0 :   True\n",
            "         (15, 8) :  -Inf :   u[15] - u[8] + 23*x[15,8] :  22.0 :   True\n",
            "         (15, 9) :  -Inf :   u[15] - u[9] + 23*x[15,9] :  22.0 :   True\n",
            "        (15, 10) :  -Inf : u[15] - u[10] + 23*x[15,10] :  22.0 :   True\n",
            "        (15, 11) :  -Inf : u[15] - u[11] + 23*x[15,11] :  22.0 :   True\n",
            "        (15, 12) :  -Inf : u[15] - u[12] + 23*x[15,12] :  22.0 :   True\n",
            "        (15, 13) :  -Inf : u[15] - u[13] + 23*x[15,13] :  22.0 :   True\n",
            "        (15, 14) :  -Inf : u[15] - u[14] + 23*x[15,14] :  22.0 :   True\n",
            "        (15, 16) :  -Inf : u[15] - u[16] + 23*x[15,16] :  22.0 :   True\n",
            "        (15, 17) :  -Inf : u[15] - u[17] + 23*x[15,17] :  22.0 :   True\n",
            "        (15, 18) :  -Inf : u[15] - u[18] + 23*x[15,18] :  22.0 :   True\n",
            "        (15, 19) :  -Inf : u[15] - u[19] + 23*x[15,19] :  22.0 :   True\n",
            "        (15, 20) :  -Inf : u[15] - u[20] + 23*x[15,20] :  22.0 :   True\n",
            "        (15, 21) :  -Inf : u[15] - u[21] + 23*x[15,21] :  22.0 :   True\n",
            "        (15, 22) :  -Inf : u[15] - u[22] + 23*x[15,22] :  22.0 :   True\n",
            "        (15, 23) :  -Inf : u[15] - u[23] + 23*x[15,23] :  22.0 :   True\n",
            "         (16, 1) :  -Inf :   u[16] - u[1] + 23*x[16,1] :  22.0 :   True\n",
            "         (16, 2) :  -Inf :   u[16] - u[2] + 23*x[16,2] :  22.0 :   True\n",
            "         (16, 3) :  -Inf :   u[16] - u[3] + 23*x[16,3] :  22.0 :   True\n",
            "         (16, 4) :  -Inf :   u[16] - u[4] + 23*x[16,4] :  22.0 :   True\n",
            "         (16, 5) :  -Inf :   u[16] - u[5] + 23*x[16,5] :  22.0 :   True\n",
            "         (16, 6) :  -Inf :   u[16] - u[6] + 23*x[16,6] :  22.0 :   True\n",
            "         (16, 7) :  -Inf :   u[16] - u[7] + 23*x[16,7] :  22.0 :   True\n",
            "         (16, 8) :  -Inf :   u[16] - u[8] + 23*x[16,8] :  22.0 :   True\n",
            "         (16, 9) :  -Inf :   u[16] - u[9] + 23*x[16,9] :  22.0 :   True\n",
            "        (16, 10) :  -Inf : u[16] - u[10] + 23*x[16,10] :  22.0 :   True\n",
            "        (16, 11) :  -Inf : u[16] - u[11] + 23*x[16,11] :  22.0 :   True\n",
            "        (16, 12) :  -Inf : u[16] - u[12] + 23*x[16,12] :  22.0 :   True\n",
            "        (16, 13) :  -Inf : u[16] - u[13] + 23*x[16,13] :  22.0 :   True\n",
            "        (16, 14) :  -Inf : u[16] - u[14] + 23*x[16,14] :  22.0 :   True\n",
            "        (16, 15) :  -Inf : u[16] - u[15] + 23*x[16,15] :  22.0 :   True\n",
            "        (16, 17) :  -Inf : u[16] - u[17] + 23*x[16,17] :  22.0 :   True\n",
            "        (16, 18) :  -Inf : u[16] - u[18] + 23*x[16,18] :  22.0 :   True\n",
            "        (16, 19) :  -Inf : u[16] - u[19] + 23*x[16,19] :  22.0 :   True\n",
            "        (16, 20) :  -Inf : u[16] - u[20] + 23*x[16,20] :  22.0 :   True\n",
            "        (16, 21) :  -Inf : u[16] - u[21] + 23*x[16,21] :  22.0 :   True\n",
            "        (16, 22) :  -Inf : u[16] - u[22] + 23*x[16,22] :  22.0 :   True\n",
            "        (16, 23) :  -Inf : u[16] - u[23] + 23*x[16,23] :  22.0 :   True\n",
            "         (17, 1) :  -Inf :   u[17] - u[1] + 23*x[17,1] :  22.0 :   True\n",
            "         (17, 2) :  -Inf :   u[17] - u[2] + 23*x[17,2] :  22.0 :   True\n",
            "         (17, 3) :  -Inf :   u[17] - u[3] + 23*x[17,3] :  22.0 :   True\n",
            "         (17, 4) :  -Inf :   u[17] - u[4] + 23*x[17,4] :  22.0 :   True\n",
            "         (17, 5) :  -Inf :   u[17] - u[5] + 23*x[17,5] :  22.0 :   True\n",
            "         (17, 6) :  -Inf :   u[17] - u[6] + 23*x[17,6] :  22.0 :   True\n",
            "         (17, 7) :  -Inf :   u[17] - u[7] + 23*x[17,7] :  22.0 :   True\n",
            "         (17, 8) :  -Inf :   u[17] - u[8] + 23*x[17,8] :  22.0 :   True\n",
            "         (17, 9) :  -Inf :   u[17] - u[9] + 23*x[17,9] :  22.0 :   True\n",
            "        (17, 10) :  -Inf : u[17] - u[10] + 23*x[17,10] :  22.0 :   True\n",
            "        (17, 11) :  -Inf : u[17] - u[11] + 23*x[17,11] :  22.0 :   True\n",
            "        (17, 12) :  -Inf : u[17] - u[12] + 23*x[17,12] :  22.0 :   True\n",
            "        (17, 13) :  -Inf : u[17] - u[13] + 23*x[17,13] :  22.0 :   True\n",
            "        (17, 14) :  -Inf : u[17] - u[14] + 23*x[17,14] :  22.0 :   True\n",
            "        (17, 15) :  -Inf : u[17] - u[15] + 23*x[17,15] :  22.0 :   True\n",
            "        (17, 16) :  -Inf : u[17] - u[16] + 23*x[17,16] :  22.0 :   True\n",
            "        (17, 18) :  -Inf : u[17] - u[18] + 23*x[17,18] :  22.0 :   True\n",
            "        (17, 19) :  -Inf : u[17] - u[19] + 23*x[17,19] :  22.0 :   True\n",
            "        (17, 20) :  -Inf : u[17] - u[20] + 23*x[17,20] :  22.0 :   True\n",
            "        (17, 21) :  -Inf : u[17] - u[21] + 23*x[17,21] :  22.0 :   True\n",
            "        (17, 22) :  -Inf : u[17] - u[22] + 23*x[17,22] :  22.0 :   True\n",
            "        (17, 23) :  -Inf : u[17] - u[23] + 23*x[17,23] :  22.0 :   True\n",
            "         (18, 1) :  -Inf :   u[18] - u[1] + 23*x[18,1] :  22.0 :   True\n",
            "         (18, 2) :  -Inf :   u[18] - u[2] + 23*x[18,2] :  22.0 :   True\n",
            "         (18, 3) :  -Inf :   u[18] - u[3] + 23*x[18,3] :  22.0 :   True\n",
            "         (18, 4) :  -Inf :   u[18] - u[4] + 23*x[18,4] :  22.0 :   True\n",
            "         (18, 5) :  -Inf :   u[18] - u[5] + 23*x[18,5] :  22.0 :   True\n",
            "         (18, 6) :  -Inf :   u[18] - u[6] + 23*x[18,6] :  22.0 :   True\n",
            "         (18, 7) :  -Inf :   u[18] - u[7] + 23*x[18,7] :  22.0 :   True\n",
            "         (18, 8) :  -Inf :   u[18] - u[8] + 23*x[18,8] :  22.0 :   True\n",
            "         (18, 9) :  -Inf :   u[18] - u[9] + 23*x[18,9] :  22.0 :   True\n",
            "        (18, 10) :  -Inf : u[18] - u[10] + 23*x[18,10] :  22.0 :   True\n",
            "        (18, 11) :  -Inf : u[18] - u[11] + 23*x[18,11] :  22.0 :   True\n",
            "        (18, 12) :  -Inf : u[18] - u[12] + 23*x[18,12] :  22.0 :   True\n",
            "        (18, 13) :  -Inf : u[18] - u[13] + 23*x[18,13] :  22.0 :   True\n",
            "        (18, 14) :  -Inf : u[18] - u[14] + 23*x[18,14] :  22.0 :   True\n",
            "        (18, 15) :  -Inf : u[18] - u[15] + 23*x[18,15] :  22.0 :   True\n",
            "        (18, 16) :  -Inf : u[18] - u[16] + 23*x[18,16] :  22.0 :   True\n",
            "        (18, 17) :  -Inf : u[18] - u[17] + 23*x[18,17] :  22.0 :   True\n",
            "        (18, 19) :  -Inf : u[18] - u[19] + 23*x[18,19] :  22.0 :   True\n",
            "        (18, 20) :  -Inf : u[18] - u[20] + 23*x[18,20] :  22.0 :   True\n",
            "        (18, 21) :  -Inf : u[18] - u[21] + 23*x[18,21] :  22.0 :   True\n",
            "        (18, 22) :  -Inf : u[18] - u[22] + 23*x[18,22] :  22.0 :   True\n",
            "        (18, 23) :  -Inf : u[18] - u[23] + 23*x[18,23] :  22.0 :   True\n",
            "         (19, 1) :  -Inf :   u[19] - u[1] + 23*x[19,1] :  22.0 :   True\n",
            "         (19, 2) :  -Inf :   u[19] - u[2] + 23*x[19,2] :  22.0 :   True\n",
            "         (19, 3) :  -Inf :   u[19] - u[3] + 23*x[19,3] :  22.0 :   True\n",
            "         (19, 4) :  -Inf :   u[19] - u[4] + 23*x[19,4] :  22.0 :   True\n",
            "         (19, 5) :  -Inf :   u[19] - u[5] + 23*x[19,5] :  22.0 :   True\n",
            "         (19, 6) :  -Inf :   u[19] - u[6] + 23*x[19,6] :  22.0 :   True\n",
            "         (19, 7) :  -Inf :   u[19] - u[7] + 23*x[19,7] :  22.0 :   True\n",
            "         (19, 8) :  -Inf :   u[19] - u[8] + 23*x[19,8] :  22.0 :   True\n",
            "         (19, 9) :  -Inf :   u[19] - u[9] + 23*x[19,9] :  22.0 :   True\n",
            "        (19, 10) :  -Inf : u[19] - u[10] + 23*x[19,10] :  22.0 :   True\n",
            "        (19, 11) :  -Inf : u[19] - u[11] + 23*x[19,11] :  22.0 :   True\n",
            "        (19, 12) :  -Inf : u[19] - u[12] + 23*x[19,12] :  22.0 :   True\n",
            "        (19, 13) :  -Inf : u[19] - u[13] + 23*x[19,13] :  22.0 :   True\n",
            "        (19, 14) :  -Inf : u[19] - u[14] + 23*x[19,14] :  22.0 :   True\n",
            "        (19, 15) :  -Inf : u[19] - u[15] + 23*x[19,15] :  22.0 :   True\n",
            "        (19, 16) :  -Inf : u[19] - u[16] + 23*x[19,16] :  22.0 :   True\n",
            "        (19, 17) :  -Inf : u[19] - u[17] + 23*x[19,17] :  22.0 :   True\n",
            "        (19, 18) :  -Inf : u[19] - u[18] + 23*x[19,18] :  22.0 :   True\n",
            "        (19, 20) :  -Inf : u[19] - u[20] + 23*x[19,20] :  22.0 :   True\n",
            "        (19, 21) :  -Inf : u[19] - u[21] + 23*x[19,21] :  22.0 :   True\n",
            "        (19, 22) :  -Inf : u[19] - u[22] + 23*x[19,22] :  22.0 :   True\n",
            "        (19, 23) :  -Inf : u[19] - u[23] + 23*x[19,23] :  22.0 :   True\n",
            "         (20, 1) :  -Inf :   u[20] - u[1] + 23*x[20,1] :  22.0 :   True\n",
            "         (20, 2) :  -Inf :   u[20] - u[2] + 23*x[20,2] :  22.0 :   True\n",
            "         (20, 3) :  -Inf :   u[20] - u[3] + 23*x[20,3] :  22.0 :   True\n",
            "         (20, 4) :  -Inf :   u[20] - u[4] + 23*x[20,4] :  22.0 :   True\n",
            "         (20, 5) :  -Inf :   u[20] - u[5] + 23*x[20,5] :  22.0 :   True\n",
            "         (20, 6) :  -Inf :   u[20] - u[6] + 23*x[20,6] :  22.0 :   True\n",
            "         (20, 7) :  -Inf :   u[20] - u[7] + 23*x[20,7] :  22.0 :   True\n",
            "         (20, 8) :  -Inf :   u[20] - u[8] + 23*x[20,8] :  22.0 :   True\n",
            "         (20, 9) :  -Inf :   u[20] - u[9] + 23*x[20,9] :  22.0 :   True\n",
            "        (20, 10) :  -Inf : u[20] - u[10] + 23*x[20,10] :  22.0 :   True\n",
            "        (20, 11) :  -Inf : u[20] - u[11] + 23*x[20,11] :  22.0 :   True\n",
            "        (20, 12) :  -Inf : u[20] - u[12] + 23*x[20,12] :  22.0 :   True\n",
            "        (20, 13) :  -Inf : u[20] - u[13] + 23*x[20,13] :  22.0 :   True\n",
            "        (20, 14) :  -Inf : u[20] - u[14] + 23*x[20,14] :  22.0 :   True\n",
            "        (20, 15) :  -Inf : u[20] - u[15] + 23*x[20,15] :  22.0 :   True\n",
            "        (20, 16) :  -Inf : u[20] - u[16] + 23*x[20,16] :  22.0 :   True\n",
            "        (20, 17) :  -Inf : u[20] - u[17] + 23*x[20,17] :  22.0 :   True\n",
            "        (20, 18) :  -Inf : u[20] - u[18] + 23*x[20,18] :  22.0 :   True\n",
            "        (20, 19) :  -Inf : u[20] - u[19] + 23*x[20,19] :  22.0 :   True\n",
            "        (20, 21) :  -Inf : u[20] - u[21] + 23*x[20,21] :  22.0 :   True\n",
            "        (20, 22) :  -Inf : u[20] - u[22] + 23*x[20,22] :  22.0 :   True\n",
            "        (20, 23) :  -Inf : u[20] - u[23] + 23*x[20,23] :  22.0 :   True\n",
            "         (21, 1) :  -Inf :   u[21] - u[1] + 23*x[21,1] :  22.0 :   True\n",
            "         (21, 2) :  -Inf :   u[21] - u[2] + 23*x[21,2] :  22.0 :   True\n",
            "         (21, 3) :  -Inf :   u[21] - u[3] + 23*x[21,3] :  22.0 :   True\n",
            "         (21, 4) :  -Inf :   u[21] - u[4] + 23*x[21,4] :  22.0 :   True\n",
            "         (21, 5) :  -Inf :   u[21] - u[5] + 23*x[21,5] :  22.0 :   True\n",
            "         (21, 6) :  -Inf :   u[21] - u[6] + 23*x[21,6] :  22.0 :   True\n",
            "         (21, 7) :  -Inf :   u[21] - u[7] + 23*x[21,7] :  22.0 :   True\n",
            "         (21, 8) :  -Inf :   u[21] - u[8] + 23*x[21,8] :  22.0 :   True\n",
            "         (21, 9) :  -Inf :   u[21] - u[9] + 23*x[21,9] :  22.0 :   True\n",
            "        (21, 10) :  -Inf : u[21] - u[10] + 23*x[21,10] :  22.0 :   True\n",
            "        (21, 11) :  -Inf : u[21] - u[11] + 23*x[21,11] :  22.0 :   True\n",
            "        (21, 12) :  -Inf : u[21] - u[12] + 23*x[21,12] :  22.0 :   True\n",
            "        (21, 13) :  -Inf : u[21] - u[13] + 23*x[21,13] :  22.0 :   True\n",
            "        (21, 14) :  -Inf : u[21] - u[14] + 23*x[21,14] :  22.0 :   True\n",
            "        (21, 15) :  -Inf : u[21] - u[15] + 23*x[21,15] :  22.0 :   True\n",
            "        (21, 16) :  -Inf : u[21] - u[16] + 23*x[21,16] :  22.0 :   True\n",
            "        (21, 17) :  -Inf : u[21] - u[17] + 23*x[21,17] :  22.0 :   True\n",
            "        (21, 18) :  -Inf : u[21] - u[18] + 23*x[21,18] :  22.0 :   True\n",
            "        (21, 19) :  -Inf : u[21] - u[19] + 23*x[21,19] :  22.0 :   True\n",
            "        (21, 20) :  -Inf : u[21] - u[20] + 23*x[21,20] :  22.0 :   True\n",
            "        (21, 22) :  -Inf : u[21] - u[22] + 23*x[21,22] :  22.0 :   True\n",
            "        (21, 23) :  -Inf : u[21] - u[23] + 23*x[21,23] :  22.0 :   True\n",
            "         (22, 1) :  -Inf :   u[22] - u[1] + 23*x[22,1] :  22.0 :   True\n",
            "         (22, 2) :  -Inf :   u[22] - u[2] + 23*x[22,2] :  22.0 :   True\n",
            "         (22, 3) :  -Inf :   u[22] - u[3] + 23*x[22,3] :  22.0 :   True\n",
            "         (22, 4) :  -Inf :   u[22] - u[4] + 23*x[22,4] :  22.0 :   True\n",
            "         (22, 5) :  -Inf :   u[22] - u[5] + 23*x[22,5] :  22.0 :   True\n",
            "         (22, 6) :  -Inf :   u[22] - u[6] + 23*x[22,6] :  22.0 :   True\n",
            "         (22, 7) :  -Inf :   u[22] - u[7] + 23*x[22,7] :  22.0 :   True\n",
            "         (22, 8) :  -Inf :   u[22] - u[8] + 23*x[22,8] :  22.0 :   True\n",
            "         (22, 9) :  -Inf :   u[22] - u[9] + 23*x[22,9] :  22.0 :   True\n",
            "        (22, 10) :  -Inf : u[22] - u[10] + 23*x[22,10] :  22.0 :   True\n",
            "        (22, 11) :  -Inf : u[22] - u[11] + 23*x[22,11] :  22.0 :   True\n",
            "        (22, 12) :  -Inf : u[22] - u[12] + 23*x[22,12] :  22.0 :   True\n",
            "        (22, 13) :  -Inf : u[22] - u[13] + 23*x[22,13] :  22.0 :   True\n",
            "        (22, 14) :  -Inf : u[22] - u[14] + 23*x[22,14] :  22.0 :   True\n",
            "        (22, 15) :  -Inf : u[22] - u[15] + 23*x[22,15] :  22.0 :   True\n",
            "        (22, 16) :  -Inf : u[22] - u[16] + 23*x[22,16] :  22.0 :   True\n",
            "        (22, 17) :  -Inf : u[22] - u[17] + 23*x[22,17] :  22.0 :   True\n",
            "        (22, 18) :  -Inf : u[22] - u[18] + 23*x[22,18] :  22.0 :   True\n",
            "        (22, 19) :  -Inf : u[22] - u[19] + 23*x[22,19] :  22.0 :   True\n",
            "        (22, 20) :  -Inf : u[22] - u[20] + 23*x[22,20] :  22.0 :   True\n",
            "        (22, 21) :  -Inf : u[22] - u[21] + 23*x[22,21] :  22.0 :   True\n",
            "        (22, 23) :  -Inf : u[22] - u[23] + 23*x[22,23] :  22.0 :   True\n",
            "         (23, 1) :  -Inf :   u[23] - u[1] + 23*x[23,1] :  22.0 :   True\n",
            "         (23, 2) :  -Inf :   u[23] - u[2] + 23*x[23,2] :  22.0 :   True\n",
            "         (23, 3) :  -Inf :   u[23] - u[3] + 23*x[23,3] :  22.0 :   True\n",
            "         (23, 4) :  -Inf :   u[23] - u[4] + 23*x[23,4] :  22.0 :   True\n",
            "         (23, 5) :  -Inf :   u[23] - u[5] + 23*x[23,5] :  22.0 :   True\n",
            "         (23, 6) :  -Inf :   u[23] - u[6] + 23*x[23,6] :  22.0 :   True\n",
            "         (23, 7) :  -Inf :   u[23] - u[7] + 23*x[23,7] :  22.0 :   True\n",
            "         (23, 8) :  -Inf :   u[23] - u[8] + 23*x[23,8] :  22.0 :   True\n",
            "         (23, 9) :  -Inf :   u[23] - u[9] + 23*x[23,9] :  22.0 :   True\n",
            "        (23, 10) :  -Inf : u[23] - u[10] + 23*x[23,10] :  22.0 :   True\n",
            "        (23, 11) :  -Inf : u[23] - u[11] + 23*x[23,11] :  22.0 :   True\n",
            "        (23, 12) :  -Inf : u[23] - u[12] + 23*x[23,12] :  22.0 :   True\n",
            "        (23, 13) :  -Inf : u[23] - u[13] + 23*x[23,13] :  22.0 :   True\n",
            "        (23, 14) :  -Inf : u[23] - u[14] + 23*x[23,14] :  22.0 :   True\n",
            "        (23, 15) :  -Inf : u[23] - u[15] + 23*x[23,15] :  22.0 :   True\n",
            "        (23, 16) :  -Inf : u[23] - u[16] + 23*x[23,16] :  22.0 :   True\n",
            "        (23, 17) :  -Inf : u[23] - u[17] + 23*x[23,17] :  22.0 :   True\n",
            "        (23, 18) :  -Inf : u[23] - u[18] + 23*x[23,18] :  22.0 :   True\n",
            "        (23, 19) :  -Inf : u[23] - u[19] + 23*x[23,19] :  22.0 :   True\n",
            "        (23, 20) :  -Inf : u[23] - u[20] + 23*x[23,20] :  22.0 :   True\n",
            "        (23, 21) :  -Inf : u[23] - u[21] + 23*x[23,21] :  22.0 :   True\n",
            "        (23, 22) :  -Inf : u[23] - u[22] + 23*x[23,22] :  22.0 :   True\n",
            "    rest2 : Size=23, Index=N, Active=True\n",
            "        Key : Lower : Body                                                                                                                                                                                                                                   : Upper : Active\n",
            "          1 :   1.0 :                      x[1,2] + x[1,3] + x[1,4] + x[1,5] + x[1,6] + x[1,7] + x[1,8] + x[1,9] + x[1,10] + x[1,11] + x[1,12] + x[1,13] + x[1,14] + x[1,15] + x[1,16] + x[1,17] + x[1,18] + x[1,19] + x[1,20] + x[1,21] + x[1,22] + x[1,23] :   1.0 :   True\n",
            "          2 :   1.0 :                      x[2,1] + x[2,3] + x[2,4] + x[2,5] + x[2,6] + x[2,7] + x[2,8] + x[2,9] + x[2,10] + x[2,11] + x[2,12] + x[2,13] + x[2,14] + x[2,15] + x[2,16] + x[2,17] + x[2,18] + x[2,19] + x[2,20] + x[2,21] + x[2,22] + x[2,23] :   1.0 :   True\n",
            "          3 :   1.0 :                      x[3,1] + x[3,2] + x[3,4] + x[3,5] + x[3,6] + x[3,7] + x[3,8] + x[3,9] + x[3,10] + x[3,11] + x[3,12] + x[3,13] + x[3,14] + x[3,15] + x[3,16] + x[3,17] + x[3,18] + x[3,19] + x[3,20] + x[3,21] + x[3,22] + x[3,23] :   1.0 :   True\n",
            "          4 :   1.0 :                      x[4,1] + x[4,2] + x[4,3] + x[4,5] + x[4,6] + x[4,7] + x[4,8] + x[4,9] + x[4,10] + x[4,11] + x[4,12] + x[4,13] + x[4,14] + x[4,15] + x[4,16] + x[4,17] + x[4,18] + x[4,19] + x[4,20] + x[4,21] + x[4,22] + x[4,23] :   1.0 :   True\n",
            "          5 :   1.0 :                      x[5,1] + x[5,2] + x[5,3] + x[5,4] + x[5,6] + x[5,7] + x[5,8] + x[5,9] + x[5,10] + x[5,11] + x[5,12] + x[5,13] + x[5,14] + x[5,15] + x[5,16] + x[5,17] + x[5,18] + x[5,19] + x[5,20] + x[5,21] + x[5,22] + x[5,23] :   1.0 :   True\n",
            "          6 :   1.0 :                      x[6,1] + x[6,2] + x[6,3] + x[6,4] + x[6,5] + x[6,7] + x[6,8] + x[6,9] + x[6,10] + x[6,11] + x[6,12] + x[6,13] + x[6,14] + x[6,15] + x[6,16] + x[6,17] + x[6,18] + x[6,19] + x[6,20] + x[6,21] + x[6,22] + x[6,23] :   1.0 :   True\n",
            "          7 :   1.0 :                      x[7,1] + x[7,2] + x[7,3] + x[7,4] + x[7,5] + x[7,6] + x[7,8] + x[7,9] + x[7,10] + x[7,11] + x[7,12] + x[7,13] + x[7,14] + x[7,15] + x[7,16] + x[7,17] + x[7,18] + x[7,19] + x[7,20] + x[7,21] + x[7,22] + x[7,23] :   1.0 :   True\n",
            "          8 :   1.0 :                      x[8,1] + x[8,2] + x[8,3] + x[8,4] + x[8,5] + x[8,6] + x[8,7] + x[8,9] + x[8,10] + x[8,11] + x[8,12] + x[8,13] + x[8,14] + x[8,15] + x[8,16] + x[8,17] + x[8,18] + x[8,19] + x[8,20] + x[8,21] + x[8,22] + x[8,23] :   1.0 :   True\n",
            "          9 :   1.0 :                      x[9,1] + x[9,2] + x[9,3] + x[9,4] + x[9,5] + x[9,6] + x[9,7] + x[9,8] + x[9,10] + x[9,11] + x[9,12] + x[9,13] + x[9,14] + x[9,15] + x[9,16] + x[9,17] + x[9,18] + x[9,19] + x[9,20] + x[9,21] + x[9,22] + x[9,23] :   1.0 :   True\n",
            "         10 :   1.0 : x[10,1] + x[10,2] + x[10,3] + x[10,4] + x[10,5] + x[10,6] + x[10,7] + x[10,8] + x[10,9] + x[10,11] + x[10,12] + x[10,13] + x[10,14] + x[10,15] + x[10,16] + x[10,17] + x[10,18] + x[10,19] + x[10,20] + x[10,21] + x[10,22] + x[10,23] :   1.0 :   True\n",
            "         11 :   1.0 : x[11,1] + x[11,2] + x[11,3] + x[11,4] + x[11,5] + x[11,6] + x[11,7] + x[11,8] + x[11,9] + x[11,10] + x[11,12] + x[11,13] + x[11,14] + x[11,15] + x[11,16] + x[11,17] + x[11,18] + x[11,19] + x[11,20] + x[11,21] + x[11,22] + x[11,23] :   1.0 :   True\n",
            "         12 :   1.0 : x[12,1] + x[12,2] + x[12,3] + x[12,4] + x[12,5] + x[12,6] + x[12,7] + x[12,8] + x[12,9] + x[12,10] + x[12,11] + x[12,13] + x[12,14] + x[12,15] + x[12,16] + x[12,17] + x[12,18] + x[12,19] + x[12,20] + x[12,21] + x[12,22] + x[12,23] :   1.0 :   True\n",
            "         13 :   1.0 : x[13,1] + x[13,2] + x[13,3] + x[13,4] + x[13,5] + x[13,6] + x[13,7] + x[13,8] + x[13,9] + x[13,10] + x[13,11] + x[13,12] + x[13,14] + x[13,15] + x[13,16] + x[13,17] + x[13,18] + x[13,19] + x[13,20] + x[13,21] + x[13,22] + x[13,23] :   1.0 :   True\n",
            "         14 :   1.0 : x[14,1] + x[14,2] + x[14,3] + x[14,4] + x[14,5] + x[14,6] + x[14,7] + x[14,8] + x[14,9] + x[14,10] + x[14,11] + x[14,12] + x[14,13] + x[14,15] + x[14,16] + x[14,17] + x[14,18] + x[14,19] + x[14,20] + x[14,21] + x[14,22] + x[14,23] :   1.0 :   True\n",
            "         15 :   1.0 : x[15,1] + x[15,2] + x[15,3] + x[15,4] + x[15,5] + x[15,6] + x[15,7] + x[15,8] + x[15,9] + x[15,10] + x[15,11] + x[15,12] + x[15,13] + x[15,14] + x[15,16] + x[15,17] + x[15,18] + x[15,19] + x[15,20] + x[15,21] + x[15,22] + x[15,23] :   1.0 :   True\n",
            "         16 :   1.0 : x[16,1] + x[16,2] + x[16,3] + x[16,4] + x[16,5] + x[16,6] + x[16,7] + x[16,8] + x[16,9] + x[16,10] + x[16,11] + x[16,12] + x[16,13] + x[16,14] + x[16,15] + x[16,17] + x[16,18] + x[16,19] + x[16,20] + x[16,21] + x[16,22] + x[16,23] :   1.0 :   True\n",
            "         17 :   1.0 : x[17,1] + x[17,2] + x[17,3] + x[17,4] + x[17,5] + x[17,6] + x[17,7] + x[17,8] + x[17,9] + x[17,10] + x[17,11] + x[17,12] + x[17,13] + x[17,14] + x[17,15] + x[17,16] + x[17,18] + x[17,19] + x[17,20] + x[17,21] + x[17,22] + x[17,23] :   1.0 :   True\n",
            "         18 :   1.0 : x[18,1] + x[18,2] + x[18,3] + x[18,4] + x[18,5] + x[18,6] + x[18,7] + x[18,8] + x[18,9] + x[18,10] + x[18,11] + x[18,12] + x[18,13] + x[18,14] + x[18,15] + x[18,16] + x[18,17] + x[18,19] + x[18,20] + x[18,21] + x[18,22] + x[18,23] :   1.0 :   True\n",
            "         19 :   1.0 : x[19,1] + x[19,2] + x[19,3] + x[19,4] + x[19,5] + x[19,6] + x[19,7] + x[19,8] + x[19,9] + x[19,10] + x[19,11] + x[19,12] + x[19,13] + x[19,14] + x[19,15] + x[19,16] + x[19,17] + x[19,18] + x[19,20] + x[19,21] + x[19,22] + x[19,23] :   1.0 :   True\n",
            "         20 :   1.0 : x[20,1] + x[20,2] + x[20,3] + x[20,4] + x[20,5] + x[20,6] + x[20,7] + x[20,8] + x[20,9] + x[20,10] + x[20,11] + x[20,12] + x[20,13] + x[20,14] + x[20,15] + x[20,16] + x[20,17] + x[20,18] + x[20,19] + x[20,21] + x[20,22] + x[20,23] :   1.0 :   True\n",
            "         21 :   1.0 : x[21,1] + x[21,2] + x[21,3] + x[21,4] + x[21,5] + x[21,6] + x[21,7] + x[21,8] + x[21,9] + x[21,10] + x[21,11] + x[21,12] + x[21,13] + x[21,14] + x[21,15] + x[21,16] + x[21,17] + x[21,18] + x[21,19] + x[21,20] + x[21,22] + x[21,23] :   1.0 :   True\n",
            "         22 :   1.0 : x[22,1] + x[22,2] + x[22,3] + x[22,4] + x[22,5] + x[22,6] + x[22,7] + x[22,8] + x[22,9] + x[22,10] + x[22,11] + x[22,12] + x[22,13] + x[22,14] + x[22,15] + x[22,16] + x[22,17] + x[22,18] + x[22,19] + x[22,20] + x[22,21] + x[22,23] :   1.0 :   True\n",
            "         23 :   1.0 : x[23,1] + x[23,2] + x[23,3] + x[23,4] + x[23,5] + x[23,6] + x[23,7] + x[23,8] + x[23,9] + x[23,10] + x[23,11] + x[23,12] + x[23,13] + x[23,14] + x[23,15] + x[23,16] + x[23,17] + x[23,18] + x[23,19] + x[23,20] + x[23,21] + x[23,22] :   1.0 :   True\n",
            "\n",
            "13 Declarations: M N U x_index x u c_index c objective const1 rest2 const3_index const3\n",
            "time: 690 ms (started: 2021-03-19 14:52:13 +00:00)\n"
          ],
          "name": "stdout"
        }
      ]
    },
    {
      "cell_type": "markdown",
      "metadata": {
        "id": "jZTyr_OA5pan"
      },
      "source": [
        "### Solve"
      ]
    },
    {
      "cell_type": "code",
      "metadata": {
        "id": "0nTxq2_h66e3",
        "colab": {
          "base_uri": "https://localhost:8080/"
        },
        "outputId": "182d185b-c8f5-432c-f786-22a65bca849f"
      },
      "source": [
        "#Solves\n",
        "solver = SolverFactory('cbc') #solver\n",
        "result = solver.solve(model,tee = False) #solving for the optimal route \n",
        "#tee = false suppress all solver output to avoid Memory issues  \n",
        "#Prints the results\n",
        "print(result)"
      ],
      "execution_count": null,
      "outputs": [
        {
          "output_type": "stream",
          "text": [
            "\n",
            "Problem: \n",
            "- Name: unknown\n",
            "  Lower bound: 16571.0\n",
            "  Upper bound: 16571.0\n",
            "  Number of objectives: 1\n",
            "  Number of constraints: 530\n",
            "  Number of variables: 528\n",
            "  Number of binary variables: 529\n",
            "  Number of integer variables: 552\n",
            "  Number of nonzeros: 506\n",
            "  Sense: minimize\n",
            "Solver: \n",
            "- Status: ok\n",
            "  User time: -1.0\n",
            "  System time: 24.93\n",
            "  Wallclock time: 25.32\n",
            "  Termination condition: optimal\n",
            "  Termination message: Model was solved to optimality (subject to tolerances), and an optimal solution is available.\n",
            "  Statistics: \n",
            "    Branch and bound: \n",
            "      Number of bounded subproblems: 8083\n",
            "      Number of created subproblems: 8083\n",
            "    Black box: \n",
            "      Number of iterations: 271847\n",
            "  Error rc: 0\n",
            "  Time: 25.355280876159668\n",
            "Solution: \n",
            "- number of solutions: 0\n",
            "  number of solutions displayed: 0\n",
            "\n",
            "time: 25.4 s (started: 2021-03-19 14:52:13 +00:00)\n"
          ],
          "name": "stdout"
        }
      ]
    },
    {
      "cell_type": "code",
      "metadata": {
        "id": "zcwR9IIrQiux",
        "colab": {
          "base_uri": "https://localhost:8080/",
          "height": 34
        },
        "outputId": "cb18dc61-573e-4e28-97a5-806be3576cec"
      },
      "source": [
        "result.solver.termination_condition #check whether optimal or not"
      ],
      "execution_count": null,
      "outputs": [
        {
          "output_type": "execute_result",
          "data": {
            "application/vnd.google.colaboratory.intrinsic+json": {
              "type": "string"
            },
            "text/plain": [
              "<TerminationCondition.optimal: 'optimal'>"
            ]
          },
          "metadata": {
            "tags": []
          },
          "execution_count": 111
        },
        {
          "output_type": "stream",
          "text": [
            "time: 9.43 ms (started: 2021-03-19 14:52:39 +00:00)\n"
          ],
          "name": "stdout"
        }
      ]
    },
    {
      "cell_type": "markdown",
      "metadata": {
        "id": "ySEgtHGY6-cN"
      },
      "source": [
        "### Solution"
      ]
    },
    {
      "cell_type": "markdown",
      "metadata": {
        "id": "5ypIs2V97HIe"
      },
      "source": [
        "This shows the various routes that were selected."
      ]
    },
    {
      "cell_type": "code",
      "metadata": {
        "id": "yq9qyp517DHo",
        "colab": {
          "base_uri": "https://localhost:8080/"
        },
        "outputId": "0b73a23d-abd3-44c9-8ab6-152b520db4bc"
      },
      "source": [
        "routes = []\n",
        "List = list(model.x.keys())\n",
        "for i in List:\n",
        "    if model.x[i]() != 0:\n",
        "        print(i,'--', model.x[i]())\n",
        "        routes.append(i)"
      ],
      "execution_count": null,
      "outputs": [
        {
          "output_type": "stream",
          "text": [
            "(1, 5) -- 1.0\n",
            "(2, 1) -- 1.0\n",
            "(3, 2) -- 1.0\n",
            "(4, 6) -- 1.0\n",
            "(5, 8) -- 1.0\n",
            "(6, 3) -- 1.0\n",
            "(7, 4) -- 1.0\n",
            "(8, 10) -- 1.0\n",
            "(9, 7) -- 1.0\n",
            "(10, 13) -- 1.0\n",
            "(11, 12) -- 1.0\n",
            "(12, 17) -- 1.0\n",
            "(13, 15) -- 1.0\n",
            "(14, 9) -- 1.0\n",
            "(15, 18) -- 1.0\n",
            "(16, 11) -- 1.0\n",
            "(17, 14) -- 1.0\n",
            "(18, 20) -- 1.0\n",
            "(19, 16) -- 1.0\n",
            "(20, 22) -- 1.0\n",
            "(21, 19) -- 1.0\n",
            "(22, 23) -- 1.0\n",
            "(23, 21) -- 1.0\n",
            "time: 12.9 ms (started: 2021-03-19 14:52:39 +00:00)\n"
          ],
          "name": "stdout"
        }
      ]
    },
    {
      "cell_type": "markdown",
      "metadata": {
        "id": "4IJFkAZo7KFu"
      },
      "source": [
        "Show this better..."
      ]
    },
    {
      "cell_type": "code",
      "metadata": {
        "id": "u0mw6sLL7_5V",
        "colab": {
          "base_uri": "https://localhost:8080/"
        },
        "outputId": "c3538c63-420a-4d7f-b2c6-50c60bd58301"
      },
      "source": [
        "routes"
      ],
      "execution_count": null,
      "outputs": [
        {
          "output_type": "execute_result",
          "data": {
            "text/plain": [
              "[(1, 5),\n",
              " (2, 1),\n",
              " (3, 2),\n",
              " (4, 6),\n",
              " (5, 8),\n",
              " (6, 3),\n",
              " (7, 4),\n",
              " (8, 10),\n",
              " (9, 7),\n",
              " (10, 13),\n",
              " (11, 12),\n",
              " (12, 17),\n",
              " (13, 15),\n",
              " (14, 9),\n",
              " (15, 18),\n",
              " (16, 11),\n",
              " (17, 14),\n",
              " (18, 20),\n",
              " (19, 16),\n",
              " (20, 22),\n",
              " (21, 19),\n",
              " (22, 23),\n",
              " (23, 21)]"
            ]
          },
          "metadata": {
            "tags": []
          },
          "execution_count": 113
        },
        {
          "output_type": "stream",
          "text": [
            "time: 4.92 ms (started: 2021-03-19 14:52:39 +00:00)\n"
          ],
          "name": "stdout"
        }
      ]
    },
    {
      "cell_type": "markdown",
      "metadata": {
        "id": "nFGPVXzl8pLd"
      },
      "source": [
        "Sort using a for loop (not efficient)... could use dictionaries...\n",
        "\n",
        "* https://stackoverflow.com/questions/41221428/sort-a-list-of-tuples-in-consecutive-order"
      ]
    },
    {
      "cell_type": "code",
      "metadata": {
        "id": "qahpyuqh8oon",
        "colab": {
          "base_uri": "https://localhost:8080/"
        },
        "outputId": "bf2ce431-05da-47be-e53d-22936ea14fad"
      },
      "source": [
        "output=[]\n",
        "given = routes\n",
        "t = given[0][0]\n",
        "for i in range(len(given)):\n",
        "      # search tuples starting with element t\n",
        "      output += [e for e in given if e[0] == t]\n",
        "      t = output[-1][-1] # Get the next element to search\n",
        "\n",
        "print(output)  "
      ],
      "execution_count": null,
      "outputs": [
        {
          "output_type": "stream",
          "text": [
            "[(1, 5), (5, 8), (8, 10), (10, 13), (13, 15), (15, 18), (18, 20), (20, 22), (22, 23), (23, 21), (21, 19), (19, 16), (16, 11), (11, 12), (12, 17), (17, 14), (14, 9), (9, 7), (7, 4), (4, 6), (6, 3), (3, 2), (2, 1)]\n",
            "time: 8.25 ms (started: 2021-03-19 14:52:39 +00:00)\n"
          ],
          "name": "stdout"
        }
      ]
    },
    {
      "cell_type": "markdown",
      "metadata": {
        "id": "FtdSkln9BvUl"
      },
      "source": [
        "Let's simplify even more...\n",
        "\n",
        "* https://www.geeksforgeeks.org/python-convert-list-of-tuples-into-list/\n",
        "* https://stackoverflow.com/questions/12897374/get-unique-values-from-a-list-in-python/37163210"
      ]
    },
    {
      "cell_type": "code",
      "metadata": {
        "id": "f1MH729rBxYM",
        "colab": {
          "base_uri": "https://localhost:8080/"
        },
        "outputId": "e2831c4e-c142-4942-ab5a-4c44a1f0b31f"
      },
      "source": [
        "# convert tuple pairs to list\n",
        "# using list comprehension \n",
        "output = [item for t in output for item in t] \n",
        "output"
      ],
      "execution_count": null,
      "outputs": [
        {
          "output_type": "execute_result",
          "data": {
            "text/plain": [
              "[1,\n",
              " 5,\n",
              " 5,\n",
              " 8,\n",
              " 8,\n",
              " 10,\n",
              " 10,\n",
              " 13,\n",
              " 13,\n",
              " 15,\n",
              " 15,\n",
              " 18,\n",
              " 18,\n",
              " 20,\n",
              " 20,\n",
              " 22,\n",
              " 22,\n",
              " 23,\n",
              " 23,\n",
              " 21,\n",
              " 21,\n",
              " 19,\n",
              " 19,\n",
              " 16,\n",
              " 16,\n",
              " 11,\n",
              " 11,\n",
              " 12,\n",
              " 12,\n",
              " 17,\n",
              " 17,\n",
              " 14,\n",
              " 14,\n",
              " 9,\n",
              " 9,\n",
              " 7,\n",
              " 7,\n",
              " 4,\n",
              " 4,\n",
              " 6,\n",
              " 6,\n",
              " 3,\n",
              " 3,\n",
              " 2,\n",
              " 2,\n",
              " 1]"
            ]
          },
          "metadata": {
            "tags": []
          },
          "execution_count": 115
        },
        {
          "output_type": "stream",
          "text": [
            "time: 6.3 ms (started: 2021-03-19 14:52:39 +00:00)\n"
          ],
          "name": "stdout"
        }
      ]
    },
    {
      "cell_type": "code",
      "metadata": {
        "id": "3kBuJG0CCZRV",
        "colab": {
          "base_uri": "https://localhost:8080/"
        },
        "outputId": "3466e45a-6ac1-4601-8474-5121c3a03428"
      },
      "source": [
        "# now return unique values\n",
        "used = set()\n",
        "mylist = output\n",
        "unique = [x for x in mylist if x not in used and (used.add(x) or True)]\n",
        "unique"
      ],
      "execution_count": null,
      "outputs": [
        {
          "output_type": "execute_result",
          "data": {
            "text/plain": [
              "[1,\n",
              " 5,\n",
              " 8,\n",
              " 10,\n",
              " 13,\n",
              " 15,\n",
              " 18,\n",
              " 20,\n",
              " 22,\n",
              " 23,\n",
              " 21,\n",
              " 19,\n",
              " 16,\n",
              " 11,\n",
              " 12,\n",
              " 17,\n",
              " 14,\n",
              " 9,\n",
              " 7,\n",
              " 4,\n",
              " 6,\n",
              " 3,\n",
              " 2]"
            ]
          },
          "metadata": {
            "tags": []
          },
          "execution_count": 116
        },
        {
          "output_type": "stream",
          "text": [
            "time: 6.98 ms (started: 2021-03-19 14:52:39 +00:00)\n"
          ],
          "name": "stdout"
        }
      ]
    },
    {
      "cell_type": "markdown",
      "metadata": {
        "id": "n8-zxzGYDPcV"
      },
      "source": [
        "Perfect! Now reshape the original data then plot."
      ]
    },
    {
      "cell_type": "code",
      "metadata": {
        "id": "fKfk_wTAEGDb",
        "colab": {
          "base_uri": "https://localhost:8080/"
        },
        "outputId": "35a7c421-1202-4e0f-8d98-93bb815fa44b"
      },
      "source": [
        "# first, subtract a 1 because it's python\n",
        "unique = np.array(unique)\n",
        "unique = unique-1\n",
        "unique"
      ],
      "execution_count": null,
      "outputs": [
        {
          "output_type": "execute_result",
          "data": {
            "text/plain": [
              "array([ 0,  4,  7,  9, 12, 14, 17, 19, 21, 22, 20, 18, 15, 10, 11, 16, 13,\n",
              "        8,  6,  3,  5,  2,  1])"
            ]
          },
          "metadata": {
            "tags": []
          },
          "execution_count": 117
        },
        {
          "output_type": "stream",
          "text": [
            "time: 4.79 ms (started: 2021-03-19 14:52:39 +00:00)\n"
          ],
          "name": "stdout"
        }
      ]
    },
    {
      "cell_type": "code",
      "metadata": {
        "id": "cZArVaSAEWBs",
        "colab": {
          "base_uri": "https://localhost:8080/",
          "height": 774
        },
        "outputId": "d5011c0b-a62e-4d9c-b9a6-d4066246f313"
      },
      "source": [
        "# now reindex the original data\n",
        "geogTable_orig = geogTable_orig.reindex(unique)\n",
        "geogTable_orig.loc[23,:]=geogTable_orig.iloc[0,:]\n",
        "geogTable_orig"
      ],
      "execution_count": null,
      "outputs": [
        {
          "output_type": "execute_result",
          "data": {
            "text/html": [
              "<div>\n",
              "<style scoped>\n",
              "    .dataframe tbody tr th:only-of-type {\n",
              "        vertical-align: middle;\n",
              "    }\n",
              "\n",
              "    .dataframe tbody tr th {\n",
              "        vertical-align: top;\n",
              "    }\n",
              "\n",
              "    .dataframe thead th {\n",
              "        text-align: right;\n",
              "    }\n",
              "</style>\n",
              "<table border=\"1\" class=\"dataframe\">\n",
              "  <thead>\n",
              "    <tr style=\"text-align: right;\">\n",
              "      <th></th>\n",
              "      <th>TOWN</th>\n",
              "      <th>X</th>\n",
              "      <th>Y</th>\n",
              "    </tr>\n",
              "  </thead>\n",
              "  <tbody>\n",
              "    <tr>\n",
              "      <th>0</th>\n",
              "      <td>Sherman</td>\n",
              "      <td>-73.499182</td>\n",
              "      <td>41.580070</td>\n",
              "    </tr>\n",
              "    <tr>\n",
              "      <th>4</th>\n",
              "      <td>Danbury</td>\n",
              "      <td>-73.470527</td>\n",
              "      <td>41.401364</td>\n",
              "    </tr>\n",
              "    <tr>\n",
              "      <th>7</th>\n",
              "      <td>Ridgefield</td>\n",
              "      <td>-73.501881</td>\n",
              "      <td>41.306154</td>\n",
              "    </tr>\n",
              "    <tr>\n",
              "      <th>9</th>\n",
              "      <td>Redding</td>\n",
              "      <td>-73.391392</td>\n",
              "      <td>41.305021</td>\n",
              "    </tr>\n",
              "    <tr>\n",
              "      <th>12</th>\n",
              "      <td>Weston</td>\n",
              "      <td>-73.372567</td>\n",
              "      <td>41.228433</td>\n",
              "    </tr>\n",
              "    <tr>\n",
              "      <th>14</th>\n",
              "      <td>Wilton</td>\n",
              "      <td>-73.439888</td>\n",
              "      <td>41.206932</td>\n",
              "    </tr>\n",
              "    <tr>\n",
              "      <th>17</th>\n",
              "      <td>New Canaan</td>\n",
              "      <td>-73.499224</td>\n",
              "      <td>41.159119</td>\n",
              "    </tr>\n",
              "    <tr>\n",
              "      <th>19</th>\n",
              "      <td>Stamford</td>\n",
              "      <td>-73.559037</td>\n",
              "      <td>41.105028</td>\n",
              "    </tr>\n",
              "    <tr>\n",
              "      <th>21</th>\n",
              "      <td>Greenwich</td>\n",
              "      <td>-73.638467</td>\n",
              "      <td>41.069082</td>\n",
              "    </tr>\n",
              "    <tr>\n",
              "      <th>22</th>\n",
              "      <td>Darien</td>\n",
              "      <td>-73.482355</td>\n",
              "      <td>41.081146</td>\n",
              "    </tr>\n",
              "    <tr>\n",
              "      <th>20</th>\n",
              "      <td>Norwalk</td>\n",
              "      <td>-73.422614</td>\n",
              "      <td>41.118148</td>\n",
              "    </tr>\n",
              "    <tr>\n",
              "      <th>18</th>\n",
              "      <td>Westport</td>\n",
              "      <td>-73.346495</td>\n",
              "      <td>41.145319</td>\n",
              "    </tr>\n",
              "    <tr>\n",
              "      <th>15</th>\n",
              "      <td>Fairfield</td>\n",
              "      <td>-73.273261</td>\n",
              "      <td>41.177754</td>\n",
              "    </tr>\n",
              "    <tr>\n",
              "      <th>10</th>\n",
              "      <td>Easton</td>\n",
              "      <td>-73.300084</td>\n",
              "      <td>41.264886</td>\n",
              "    </tr>\n",
              "    <tr>\n",
              "      <th>11</th>\n",
              "      <td>Trumbull</td>\n",
              "      <td>-73.208425</td>\n",
              "      <td>41.260173</td>\n",
              "    </tr>\n",
              "    <tr>\n",
              "      <th>16</th>\n",
              "      <td>Bridgeport</td>\n",
              "      <td>-73.195987</td>\n",
              "      <td>41.192562</td>\n",
              "    </tr>\n",
              "    <tr>\n",
              "      <th>13</th>\n",
              "      <td>Stratford</td>\n",
              "      <td>-73.130404</td>\n",
              "      <td>41.207867</td>\n",
              "    </tr>\n",
              "    <tr>\n",
              "      <th>8</th>\n",
              "      <td>Shelton</td>\n",
              "      <td>-73.138221</td>\n",
              "      <td>41.306098</td>\n",
              "    </tr>\n",
              "    <tr>\n",
              "      <th>6</th>\n",
              "      <td>Monroe</td>\n",
              "      <td>-73.224919</td>\n",
              "      <td>41.337934</td>\n",
              "    </tr>\n",
              "    <tr>\n",
              "      <th>3</th>\n",
              "      <td>Newtown</td>\n",
              "      <td>-73.292828</td>\n",
              "      <td>41.398823</td>\n",
              "    </tr>\n",
              "    <tr>\n",
              "      <th>5</th>\n",
              "      <td>Bethel</td>\n",
              "      <td>-73.392656</td>\n",
              "      <td>41.374802</td>\n",
              "    </tr>\n",
              "    <tr>\n",
              "      <th>2</th>\n",
              "      <td>Brookfield</td>\n",
              "      <td>-73.392324</td>\n",
              "      <td>41.467530</td>\n",
              "    </tr>\n",
              "    <tr>\n",
              "      <th>1</th>\n",
              "      <td>New Fairfield</td>\n",
              "      <td>-73.488281</td>\n",
              "      <td>41.487804</td>\n",
              "    </tr>\n",
              "    <tr>\n",
              "      <th>23</th>\n",
              "      <td>Sherman</td>\n",
              "      <td>-73.499182</td>\n",
              "      <td>41.580070</td>\n",
              "    </tr>\n",
              "  </tbody>\n",
              "</table>\n",
              "</div>"
            ],
            "text/plain": [
              "             TOWN          X          Y\n",
              "0         Sherman -73.499182  41.580070\n",
              "4         Danbury -73.470527  41.401364\n",
              "7      Ridgefield -73.501881  41.306154\n",
              "9         Redding -73.391392  41.305021\n",
              "12         Weston -73.372567  41.228433\n",
              "14         Wilton -73.439888  41.206932\n",
              "17     New Canaan -73.499224  41.159119\n",
              "19       Stamford -73.559037  41.105028\n",
              "21      Greenwich -73.638467  41.069082\n",
              "22         Darien -73.482355  41.081146\n",
              "20        Norwalk -73.422614  41.118148\n",
              "18       Westport -73.346495  41.145319\n",
              "15      Fairfield -73.273261  41.177754\n",
              "10         Easton -73.300084  41.264886\n",
              "11       Trumbull -73.208425  41.260173\n",
              "16     Bridgeport -73.195987  41.192562\n",
              "13      Stratford -73.130404  41.207867\n",
              "8         Shelton -73.138221  41.306098\n",
              "6          Monroe -73.224919  41.337934\n",
              "3         Newtown -73.292828  41.398823\n",
              "5          Bethel -73.392656  41.374802\n",
              "2      Brookfield -73.392324  41.467530\n",
              "1   New Fairfield -73.488281  41.487804\n",
              "23        Sherman -73.499182  41.580070"
            ]
          },
          "metadata": {
            "tags": []
          },
          "execution_count": 118
        },
        {
          "output_type": "stream",
          "text": [
            "time: 32.7 ms (started: 2021-03-19 14:52:39 +00:00)\n"
          ],
          "name": "stdout"
        }
      ]
    },
    {
      "cell_type": "code",
      "metadata": {
        "id": "W8HV5KhC2Hpy",
        "colab": {
          "base_uri": "https://localhost:8080/"
        },
        "outputId": "2e7aff0c-04aa-4129-d66f-8bf7d254bf31"
      },
      "source": [
        "geogTable_orig1=geogTable_orig[['X','Y']] #assign to new reindexed series and use it to plot the solution"
      ],
      "execution_count": null,
      "outputs": [
        {
          "output_type": "stream",
          "text": [
            "time: 3.8 ms (started: 2021-03-19 14:52:39 +00:00)\n"
          ],
          "name": "stdout"
        }
      ]
    },
    {
      "cell_type": "markdown",
      "metadata": {
        "id": "JFSxoQYjc-T5"
      },
      "source": [
        "#Results"
      ]
    },
    {
      "cell_type": "markdown",
      "metadata": {
        "id": "bpvcmf8UBBYF"
      },
      "source": [
        "### Visualize the solution"
      ]
    },
    {
      "cell_type": "code",
      "metadata": {
        "id": "Cc2pGNp4BUEi",
        "colab": {
          "base_uri": "https://localhost:8080/"
        },
        "outputId": "10f23160-af8f-4743-f360-5fffc1a848f8"
      },
      "source": [
        "import numpy as np\n",
        "import matplotlib.pyplot as plt\n",
        "\n",
        "x = geogTable_orig1['X']\n",
        "y = geogTable_orig1['Y']\n",
        "\n",
        "\n",
        "for i in range(0, len(x), 1):\n",
        "    plt.plot(x[i:i+2], y[i:i+2], 'ro-')\n",
        "\n",
        "for k, v in geogTable_orig1.iterrows():\n",
        "    plt.annotate(k, v,\n",
        "                xytext=(10,-5), textcoords='offset points',\n",
        "                family='sans-serif', fontsize=18, color='darkslategrey')\n",
        "\n",
        "plt.show()"
      ],
      "execution_count": null,
      "outputs": [
        {
          "output_type": "display_data",
          "data": {
            "image/png": "[encoded data removed]",
            "text/plain": [
              "<Figure size 432x288 with 1 Axes>"
            ]
          },
          "metadata": {
            "tags": [],
            "needs_background": "light"
          }
        },
        {
          "output_type": "stream",
          "text": [
            "time: 287 ms (started: 2021-03-19 14:52:39 +00:00)\n"
          ],
          "name": "stdout"
        }
      ]
    },
    {
      "cell_type": "markdown",
      "metadata": {
        "id": "j0wbZDcy3TiQ"
      },
      "source": [
        "#### Detailed map of traveling sales man problem\n",
        "\n",
        "Let's the graph more interactive and add colors"
      ]
    },
    {
      "cell_type": "code",
      "metadata": {
        "id": "1itYHkt4yZ_k",
        "colab": {
          "base_uri": "https://localhost:8080/"
        },
        "outputId": "2571cd58-4d67-46fd-f305-c9b6f55f5622"
      },
      "source": [
        "mean(geogTable_orig['X'])  #for center of Map-mean longitude"
      ],
      "execution_count": null,
      "outputs": [
        {
          "output_type": "execute_result",
          "data": {
            "text/plain": [
              "-73.38167505884252"
            ]
          },
          "metadata": {
            "tags": []
          },
          "execution_count": 121
        },
        {
          "output_type": "stream",
          "text": [
            "time: 6.27 ms (started: 2021-03-19 14:52:39 +00:00)\n"
          ],
          "name": "stdout"
        }
      ]
    },
    {
      "cell_type": "code",
      "metadata": {
        "id": "FvfmxdhDyOv_",
        "colab": {
          "base_uri": "https://localhost:8080/"
        },
        "outputId": "507c6a17-2434-49b6-fb9c-7994b3ca0440"
      },
      "source": [
        "mean(geogTable_orig['Y'])  #for center of Map-mean latitude"
      ],
      "execution_count": null,
      "outputs": [
        {
          "output_type": "execute_result",
          "data": {
            "text/plain": [
              "41.281754925157365"
            ]
          },
          "metadata": {
            "tags": []
          },
          "execution_count": 122
        },
        {
          "output_type": "stream",
          "text": [
            "time: 3.85 ms (started: 2021-03-19 14:52:39 +00:00)\n"
          ],
          "name": "stdout"
        }
      ]
    },
    {
      "cell_type": "code",
      "metadata": {
        "id": "qsCY-ITPjxeM",
        "colab": {
          "base_uri": "https://localhost:8080/",
          "height": 559
        },
        "outputId": "1b31cdea-b0ba-4096-8583-926f902614e8"
      },
      "source": [
        "fig = go.Figure(go.Scattermapbox(\n",
        "    mode = \"markers+lines\",\n",
        "    lon = geogTable_orig['X'], #longitude\n",
        "    lat = geogTable_orig['Y'], #latitude\n",
        "    name=\"Main Route\", \n",
        "    hovertext=geogTable_orig['TOWN'], #town name\n",
        "    marker = {'size': 10}))\n",
        "\n",
        "for i in range(len(geogTable_orig)):\n",
        "  fig.add_trace(go.Scattermapbox(\n",
        "    mode = \"markers+lines\",\n",
        "    lon = [geogTable_orig.iloc[i,1],geogTable_orig.iloc[i-1,1]],\n",
        "    lat = [geogTable_orig.iloc[i,2],geogTable_orig.iloc[i-1,2]],\n",
        "    name=\"Route\"+str(i),\n",
        "    text=[geogTable_orig.iloc[i,0]+'-'+str(i),geogTable_orig.iloc[i-1,0]+'-'+str(i-1)], #name + station number\n",
        "    textposition='top center',\n",
        "    marker = {'size': 10}))\n",
        "  \n",
        "fig.update_layout(mapbox_style=\"carto-darkmatter\", mapbox_zoom=8.25, mapbox_center_lat = 41.26878471063158,mapbox_center_lon = -73.37656607409332,\n",
        "    margin={\"r\":0,\"t\":0,\"l\":0,\"b\":0},title=\"TRAVELING SALESMAN ROUTE\")\n",
        "config = dict({'scrollZoom': False})\n",
        "fig.show(config=config)\n"
      ],
      "execution_count": null,
      "outputs": [
        {
          "output_type": "display_data",
          "data": {
            "text/html": [
              "<html>\n",
              "<head><meta charset=\"utf-8\" /></head>\n",
              "<body>\n",
              "    <div>\n",
              "            <script src=\"https://cdnjs.cloudflare.com/ajax/libs/mathjax/2.7.5/MathJax.js?config=TeX-AMS-MML_SVG\"></script><script type=\"text/javascript\">if (window.MathJax) {MathJax.Hub.Config({SVG: {font: \"STIX-Web\"}});}</script>\n",
              "                <script type=\"text/javascript\">window.PlotlyConfig = {MathJaxConfig: 'local'};</script>\n",
              "        <script src=\"https://cdn.plot.ly/plotly-latest.min.js\"></script>    \n",
              "            <div id=\"d5bab568-ca59-445e-a397-ace0be2f8abd\" class=\"plotly-graph-div\" style=\"height:525px; width:100%;\"></div>\n",
              "            <script type=\"text/javascript\">\n",
              "                \n",
              "                    window.PLOTLYENV=window.PLOTLYENV || {};\n",
              "                    \n",
              "                if (document.getElementById(\"d5bab568-ca59-445e-a397-ace0be2f8abd\")) {\n",
              "                    Plotly.newPlot(\n",
              "                        'd5bab568-ca59-445e-a397-ace0be2f8abd',\n",
              "                        [{\"hovertext\": [\"Sherman\", \"Danbury\", \"Ridgefield\", \"Redding\", \"Weston\", \"Wilton\", \"New Canaan\", \"Stamford\", \"Greenwich\", \"Darien\", \"Norwalk\", \"Westport\", \"Fairfield\", \"Easton\", \"Trumbull\", \"Bridgeport\", \"Stratford\", \"Shelton\", \"Monroe\", \"Newtown\", \"Bethel\", \"Brookfield\", \"New Fairfield\", \"Sherman\"], \"lat\": [41.5800698592504, 41.4013640556389, 41.3061539956989, 41.305021333867295, 41.228433019273794, 41.2069319946664, 41.159119368569705, 41.1050279961402, 41.0690824769707, 41.0811456463311, 41.1181478024976, 41.145318674426996, 41.177753851639295, 41.2648859129813, 41.260173481741205, 41.192561537954894, 41.2078673215556, 41.3060975143692, 41.3379344444351, 41.398822983464605, 41.374801560580295, 41.46752965155571, 41.487803860917, 41.5800698592504], \"lon\": [-73.49918170807399, -73.4705270599115, -73.50188133191, -73.3913916801082, -73.37256725904192, -73.4398877871749, -73.49922395167201, -73.5590370224089, -73.6384674457496, -73.4823550054125, -73.422614497081, -73.34649487600929, -73.273260725136, -73.30008424693729, -73.2084247211173, -73.1959867493456, -73.13040399903791, -73.13822123369779, -73.2249189440438, -73.29282774457009, -73.39265624011591, -73.3923244597689, -73.48828101582191, -73.49918170807399], \"marker\": {\"size\": 10}, \"mode\": \"markers+lines\", \"name\": \"Main Route\", \"type\": \"scattermapbox\"}, {\"lat\": [41.5800698592504, 41.5800698592504], \"lon\": [-73.49918170807399, -73.49918170807399], \"marker\": {\"size\": 10}, \"mode\": \"markers+lines\", \"name\": \"Route0\", \"text\": [\"Sherman-0\", \"Sherman--1\"], \"textposition\": \"top center\", \"type\": \"scattermapbox\"}, {\"lat\": [41.4013640556389, 41.5800698592504], \"lon\": [-73.4705270599115, -73.49918170807399], \"marker\": {\"size\": 10}, \"mode\": \"markers+lines\", \"name\": \"Route1\", \"text\": [\"Danbury-1\", \"Sherman-0\"], \"textposition\": \"top center\", \"type\": \"scattermapbox\"}, {\"lat\": [41.3061539956989, 41.4013640556389], \"lon\": [-73.50188133191, -73.4705270599115], \"marker\": {\"size\": 10}, \"mode\": \"markers+lines\", \"name\": \"Route2\", \"text\": [\"Ridgefield-2\", \"Danbury-1\"], \"textposition\": \"top center\", \"type\": \"scattermapbox\"}, {\"lat\": [41.305021333867295, 41.3061539956989], \"lon\": [-73.3913916801082, -73.50188133191], \"marker\": {\"size\": 10}, \"mode\": \"markers+lines\", \"name\": \"Route3\", \"text\": [\"Redding-3\", \"Ridgefield-2\"], \"textposition\": \"top center\", \"type\": \"scattermapbox\"}, {\"lat\": [41.228433019273794, 41.305021333867295], \"lon\": [-73.37256725904192, -73.3913916801082], \"marker\": {\"size\": 10}, \"mode\": \"markers+lines\", \"name\": \"Route4\", \"text\": [\"Weston-4\", \"Redding-3\"], \"textposition\": \"top center\", \"type\": \"scattermapbox\"}, {\"lat\": [41.2069319946664, 41.228433019273794], \"lon\": [-73.4398877871749, -73.37256725904192], \"marker\": {\"size\": 10}, \"mode\": \"markers+lines\", \"name\": \"Route5\", \"text\": [\"Wilton-5\", \"Weston-4\"], \"textposition\": \"top center\", \"type\": \"scattermapbox\"}, {\"lat\": [41.159119368569705, 41.2069319946664], \"lon\": [-73.49922395167201, -73.4398877871749], \"marker\": {\"size\": 10}, \"mode\": \"markers+lines\", \"name\": \"Route6\", \"text\": [\"New Canaan-6\", \"Wilton-5\"], \"textposition\": \"top center\", \"type\": \"scattermapbox\"}, {\"lat\": [41.1050279961402, 41.159119368569705], \"lon\": [-73.5590370224089, -73.49922395167201], \"marker\": {\"size\": 10}, \"mode\": \"markers+lines\", \"name\": \"Route7\", \"text\": [\"Stamford-7\", \"New Canaan-6\"], \"textposition\": \"top center\", \"type\": \"scattermapbox\"}, {\"lat\": [41.0690824769707, 41.1050279961402], \"lon\": [-73.6384674457496, -73.5590370224089], \"marker\": {\"size\": 10}, \"mode\": \"markers+lines\", \"name\": \"Route8\", \"text\": [\"Greenwich-8\", \"Stamford-7\"], \"textposition\": \"top center\", \"type\": \"scattermapbox\"}, {\"lat\": [41.0811456463311, 41.0690824769707], \"lon\": [-73.4823550054125, -73.6384674457496], \"marker\": {\"size\": 10}, \"mode\": \"markers+lines\", \"name\": \"Route9\", \"text\": [\"Darien-9\", \"Greenwich-8\"], \"textposition\": \"top center\", \"type\": \"scattermapbox\"}, {\"lat\": [41.1181478024976, 41.0811456463311], \"lon\": [-73.422614497081, -73.4823550054125], \"marker\": {\"size\": 10}, \"mode\": \"markers+lines\", \"name\": \"Route10\", \"text\": [\"Norwalk-10\", \"Darien-9\"], \"textposition\": \"top center\", \"type\": \"scattermapbox\"}, {\"lat\": [41.145318674426996, 41.1181478024976], \"lon\": [-73.34649487600929, -73.422614497081], \"marker\": {\"size\": 10}, \"mode\": \"markers+lines\", \"name\": \"Route11\", \"text\": [\"Westport-11\", \"Norwalk-10\"], \"textposition\": \"top center\", \"type\": \"scattermapbox\"}, {\"lat\": [41.177753851639295, 41.145318674426996], \"lon\": [-73.273260725136, -73.34649487600929], \"marker\": {\"size\": 10}, \"mode\": \"markers+lines\", \"name\": \"Route12\", \"text\": [\"Fairfield-12\", \"Westport-11\"], \"textposition\": \"top center\", \"type\": \"scattermapbox\"}, {\"lat\": [41.2648859129813, 41.177753851639295], \"lon\": [-73.30008424693729, -73.273260725136], \"marker\": {\"size\": 10}, \"mode\": \"markers+lines\", \"name\": \"Route13\", \"text\": [\"Easton-13\", \"Fairfield-12\"], \"textposition\": \"top center\", \"type\": \"scattermapbox\"}, {\"lat\": [41.260173481741205, 41.2648859129813], \"lon\": [-73.2084247211173, -73.30008424693729], \"marker\": {\"size\": 10}, \"mode\": \"markers+lines\", \"name\": \"Route14\", \"text\": [\"Trumbull-14\", \"Easton-13\"], \"textposition\": \"top center\", \"type\": \"scattermapbox\"}, {\"lat\": [41.192561537954894, 41.260173481741205], \"lon\": [-73.1959867493456, -73.2084247211173], \"marker\": {\"size\": 10}, \"mode\": \"markers+lines\", \"name\": \"Route15\", \"text\": [\"Bridgeport-15\", \"Trumbull-14\"], \"textposition\": \"top center\", \"type\": \"scattermapbox\"}, {\"lat\": [41.2078673215556, 41.192561537954894], \"lon\": [-73.13040399903791, -73.1959867493456], \"marker\": {\"size\": 10}, \"mode\": \"markers+lines\", \"name\": \"Route16\", \"text\": [\"Stratford-16\", \"Bridgeport-15\"], \"textposition\": \"top center\", \"type\": \"scattermapbox\"}, {\"lat\": [41.3060975143692, 41.2078673215556], \"lon\": [-73.13822123369779, -73.13040399903791], \"marker\": {\"size\": 10}, \"mode\": \"markers+lines\", \"name\": \"Route17\", \"text\": [\"Shelton-17\", \"Stratford-16\"], \"textposition\": \"top center\", \"type\": \"scattermapbox\"}, {\"lat\": [41.3379344444351, 41.3060975143692], \"lon\": [-73.2249189440438, -73.13822123369779], \"marker\": {\"size\": 10}, \"mode\": \"markers+lines\", \"name\": \"Route18\", \"text\": [\"Monroe-18\", \"Shelton-17\"], \"textposition\": \"top center\", \"type\": \"scattermapbox\"}, {\"lat\": [41.398822983464605, 41.3379344444351], \"lon\": [-73.29282774457009, -73.2249189440438], \"marker\": {\"size\": 10}, \"mode\": \"markers+lines\", \"name\": \"Route19\", \"text\": [\"Newtown-19\", \"Monroe-18\"], \"textposition\": \"top center\", \"type\": \"scattermapbox\"}, {\"lat\": [41.374801560580295, 41.398822983464605], \"lon\": [-73.39265624011591, -73.29282774457009], \"marker\": {\"size\": 10}, \"mode\": \"markers+lines\", \"name\": \"Route20\", \"text\": [\"Bethel-20\", \"Newtown-19\"], \"textposition\": \"top center\", \"type\": \"scattermapbox\"}, {\"lat\": [41.46752965155571, 41.374801560580295], \"lon\": [-73.3923244597689, -73.39265624011591], \"marker\": {\"size\": 10}, \"mode\": \"markers+lines\", \"name\": \"Route21\", \"text\": [\"Brookfield-21\", \"Bethel-20\"], \"textposition\": \"top center\", \"type\": \"scattermapbox\"}, {\"lat\": [41.487803860917, 41.46752965155571], \"lon\": [-73.48828101582191, -73.3923244597689], \"marker\": {\"size\": 10}, \"mode\": \"markers+lines\", \"name\": \"Route22\", \"text\": [\"New Fairfield-22\", \"Brookfield-21\"], \"textposition\": \"top center\", \"type\": \"scattermapbox\"}, {\"lat\": [41.5800698592504, 41.487803860917], \"lon\": [-73.49918170807399, -73.48828101582191], \"marker\": {\"size\": 10}, \"mode\": \"markers+lines\", \"name\": \"Route23\", \"text\": [\"Sherman-23\", \"New Fairfield-22\"], \"textposition\": \"top center\", \"type\": \"scattermapbox\"}],\n",
              "                        {\"mapbox\": {\"center\": {\"lat\": 41.26878471063158, \"lon\": -73.37656607409332}, \"style\": \"carto-darkmatter\", \"zoom\": 8.25}, \"margin\": {\"b\": 0, \"l\": 0, \"r\": 0, \"t\": 0}, \"template\": {\"data\": {\"bar\": [{\"error_x\": {\"color\": \"#2a3f5f\"}, \"error_y\": {\"color\": \"#2a3f5f\"}, \"marker\": {\"line\": {\"color\": \"#E5ECF6\", \"width\": 0.5}}, \"type\": \"bar\"}], \"barpolar\": [{\"marker\": {\"line\": {\"color\": \"#E5ECF6\", \"width\": 0.5}}, \"type\": \"barpolar\"}], \"carpet\": [{\"aaxis\": {\"endlinecolor\": \"#2a3f5f\", \"gridcolor\": \"white\", \"linecolor\": \"white\", \"minorgridcolor\": \"white\", \"startlinecolor\": \"#2a3f5f\"}, \"baxis\": {\"endlinecolor\": \"#2a3f5f\", \"gridcolor\": \"white\", \"linecolor\": \"white\", \"minorgridcolor\": \"white\", \"startlinecolor\": \"#2a3f5f\"}, \"type\": \"carpet\"}], \"choropleth\": [{\"colorbar\": {\"outlinewidth\": 0, \"ticks\": \"\"}, \"type\": \"choropleth\"}], \"contour\": [{\"colorbar\": {\"outlinewidth\": 0, \"ticks\": \"\"}, \"colorscale\": [[0.0, \"#0d0887\"], [0.1111111111111111, \"#46039f\"], [0.2222222222222222, \"#7201a8\"], [0.3333333333333333, \"#9c179e\"], [0.4444444444444444, \"#bd3786\"], [0.5555555555555556, \"#d8576b\"], [0.6666666666666666, \"#ed7953\"], [0.7777777777777778, \"#fb9f3a\"], [0.8888888888888888, \"#fdca26\"], [1.0, \"#f0f921\"]], \"type\": \"contour\"}], \"contourcarpet\": [{\"colorbar\": {\"outlinewidth\": 0, \"ticks\": \"\"}, \"type\": \"contourcarpet\"}], \"heatmap\": [{\"colorbar\": {\"outlinewidth\": 0, \"ticks\": \"\"}, \"colorscale\": [[0.0, \"#0d0887\"], [0.1111111111111111, \"#46039f\"], [0.2222222222222222, \"#7201a8\"], [0.3333333333333333, \"#9c179e\"], [0.4444444444444444, \"#bd3786\"], [0.5555555555555556, \"#d8576b\"], [0.6666666666666666, \"#ed7953\"], [0.7777777777777778, \"#fb9f3a\"], [0.8888888888888888, \"#fdca26\"], [1.0, \"#f0f921\"]], \"type\": \"heatmap\"}], \"heatmapgl\": [{\"colorbar\": {\"outlinewidth\": 0, \"ticks\": \"\"}, \"colorscale\": [[0.0, \"#0d0887\"], [0.1111111111111111, \"#46039f\"], [0.2222222222222222, \"#7201a8\"], [0.3333333333333333, \"#9c179e\"], [0.4444444444444444, \"#bd3786\"], [0.5555555555555556, \"#d8576b\"], [0.6666666666666666, \"#ed7953\"], [0.7777777777777778, \"#fb9f3a\"], [0.8888888888888888, \"#fdca26\"], [1.0, \"#f0f921\"]], \"type\": \"heatmapgl\"}], \"histogram\": [{\"marker\": {\"colorbar\": {\"outlinewidth\": 0, \"ticks\": \"\"}}, \"type\": \"histogram\"}], \"histogram2d\": [{\"colorbar\": {\"outlinewidth\": 0, \"ticks\": \"\"}, \"colorscale\": [[0.0, \"#0d0887\"], [0.1111111111111111, \"#46039f\"], [0.2222222222222222, \"#7201a8\"], [0.3333333333333333, \"#9c179e\"], [0.4444444444444444, \"#bd3786\"], [0.5555555555555556, \"#d8576b\"], [0.6666666666666666, \"#ed7953\"], [0.7777777777777778, \"#fb9f3a\"], [0.8888888888888888, \"#fdca26\"], [1.0, \"#f0f921\"]], \"type\": \"histogram2d\"}], \"histogram2dcontour\": [{\"colorbar\": {\"outlinewidth\": 0, \"ticks\": \"\"}, \"colorscale\": [[0.0, \"#0d0887\"], [0.1111111111111111, \"#46039f\"], [0.2222222222222222, \"#7201a8\"], [0.3333333333333333, \"#9c179e\"], [0.4444444444444444, \"#bd3786\"], [0.5555555555555556, \"#d8576b\"], [0.6666666666666666, \"#ed7953\"], [0.7777777777777778, \"#fb9f3a\"], [0.8888888888888888, \"#fdca26\"], [1.0, \"#f0f921\"]], \"type\": \"histogram2dcontour\"}], \"mesh3d\": [{\"colorbar\": {\"outlinewidth\": 0, \"ticks\": \"\"}, \"type\": \"mesh3d\"}], \"parcoords\": [{\"line\": {\"colorbar\": {\"outlinewidth\": 0, \"ticks\": \"\"}}, \"type\": \"parcoords\"}], \"pie\": [{\"automargin\": true, \"type\": \"pie\"}], \"scatter\": [{\"marker\": {\"colorbar\": {\"outlinewidth\": 0, \"ticks\": \"\"}}, \"type\": \"scatter\"}], \"scatter3d\": [{\"line\": {\"colorbar\": {\"outlinewidth\": 0, \"ticks\": \"\"}}, \"marker\": {\"colorbar\": {\"outlinewidth\": 0, \"ticks\": \"\"}}, \"type\": \"scatter3d\"}], \"scattercarpet\": [{\"marker\": {\"colorbar\": {\"outlinewidth\": 0, \"ticks\": \"\"}}, \"type\": \"scattercarpet\"}], \"scattergeo\": [{\"marker\": {\"colorbar\": {\"outlinewidth\": 0, \"ticks\": \"\"}}, \"type\": \"scattergeo\"}], \"scattergl\": [{\"marker\": {\"colorbar\": {\"outlinewidth\": 0, \"ticks\": \"\"}}, \"type\": \"scattergl\"}], \"scattermapbox\": [{\"marker\": {\"colorbar\": {\"outlinewidth\": 0, \"ticks\": \"\"}}, \"type\": \"scattermapbox\"}], \"scatterpolar\": [{\"marker\": {\"colorbar\": {\"outlinewidth\": 0, \"ticks\": \"\"}}, \"type\": \"scatterpolar\"}], \"scatterpolargl\": [{\"marker\": {\"colorbar\": {\"outlinewidth\": 0, \"ticks\": \"\"}}, \"type\": \"scatterpolargl\"}], \"scatterternary\": [{\"marker\": {\"colorbar\": {\"outlinewidth\": 0, \"ticks\": \"\"}}, \"type\": \"scatterternary\"}], \"surface\": [{\"colorbar\": {\"outlinewidth\": 0, \"ticks\": \"\"}, \"colorscale\": [[0.0, \"#0d0887\"], [0.1111111111111111, \"#46039f\"], [0.2222222222222222, \"#7201a8\"], [0.3333333333333333, \"#9c179e\"], [0.4444444444444444, \"#bd3786\"], [0.5555555555555556, \"#d8576b\"], [0.6666666666666666, \"#ed7953\"], [0.7777777777777778, \"#fb9f3a\"], [0.8888888888888888, \"#fdca26\"], [1.0, \"#f0f921\"]], \"type\": \"surface\"}], \"table\": [{\"cells\": {\"fill\": {\"color\": \"#EBF0F8\"}, \"line\": {\"color\": \"white\"}}, \"header\": {\"fill\": {\"color\": \"#C8D4E3\"}, \"line\": {\"color\": \"white\"}}, \"type\": \"table\"}]}, \"layout\": {\"annotationdefaults\": {\"arrowcolor\": \"#2a3f5f\", \"arrowhead\": 0, \"arrowwidth\": 1}, \"coloraxis\": {\"colorbar\": {\"outlinewidth\": 0, \"ticks\": \"\"}}, \"colorscale\": {\"diverging\": [[0, \"#8e0152\"], [0.1, \"#c51b7d\"], [0.2, \"#de77ae\"], [0.3, \"#f1b6da\"], [0.4, \"#fde0ef\"], [0.5, \"#f7f7f7\"], [0.6, \"#e6f5d0\"], [0.7, \"#b8e186\"], [0.8, \"#7fbc41\"], [0.9, \"#4d9221\"], [1, \"#276419\"]], \"sequential\": [[0.0, \"#0d0887\"], [0.1111111111111111, \"#46039f\"], [0.2222222222222222, \"#7201a8\"], [0.3333333333333333, \"#9c179e\"], [0.4444444444444444, \"#bd3786\"], [0.5555555555555556, \"#d8576b\"], [0.6666666666666666, \"#ed7953\"], [0.7777777777777778, \"#fb9f3a\"], [0.8888888888888888, \"#fdca26\"], [1.0, \"#f0f921\"]], \"sequentialminus\": [[0.0, \"#0d0887\"], [0.1111111111111111, \"#46039f\"], [0.2222222222222222, \"#7201a8\"], [0.3333333333333333, \"#9c179e\"], [0.4444444444444444, \"#bd3786\"], [0.5555555555555556, \"#d8576b\"], [0.6666666666666666, \"#ed7953\"], [0.7777777777777778, \"#fb9f3a\"], [0.8888888888888888, \"#fdca26\"], [1.0, \"#f0f921\"]]}, \"colorway\": [\"#636efa\", \"#EF553B\", \"#00cc96\", \"#ab63fa\", \"#FFA15A\", \"#19d3f3\", \"#FF6692\", \"#B6E880\", \"#FF97FF\", \"#FECB52\"], \"font\": {\"color\": \"#2a3f5f\"}, \"geo\": {\"bgcolor\": \"white\", \"lakecolor\": \"white\", \"landcolor\": \"#E5ECF6\", \"showlakes\": true, \"showland\": true, \"subunitcolor\": \"white\"}, \"hoverlabel\": {\"align\": \"left\"}, \"hovermode\": \"closest\", \"mapbox\": {\"style\": \"light\"}, \"paper_bgcolor\": \"white\", \"plot_bgcolor\": \"#E5ECF6\", \"polar\": {\"angularaxis\": {\"gridcolor\": \"white\", \"linecolor\": \"white\", \"ticks\": \"\"}, \"bgcolor\": \"#E5ECF6\", \"radialaxis\": {\"gridcolor\": \"white\", \"linecolor\": \"white\", \"ticks\": \"\"}}, \"scene\": {\"xaxis\": {\"backgroundcolor\": \"#E5ECF6\", \"gridcolor\": \"white\", \"gridwidth\": 2, \"linecolor\": \"white\", \"showbackground\": true, \"ticks\": \"\", \"zerolinecolor\": \"white\"}, \"yaxis\": {\"backgroundcolor\": \"#E5ECF6\", \"gridcolor\": \"white\", \"gridwidth\": 2, \"linecolor\": \"white\", \"showbackground\": true, \"ticks\": \"\", \"zerolinecolor\": \"white\"}, \"zaxis\": {\"backgroundcolor\": \"#E5ECF6\", \"gridcolor\": \"white\", \"gridwidth\": 2, \"linecolor\": \"white\", \"showbackground\": true, \"ticks\": \"\", \"zerolinecolor\": \"white\"}}, \"shapedefaults\": {\"line\": {\"color\": \"#2a3f5f\"}}, \"ternary\": {\"aaxis\": {\"gridcolor\": \"white\", \"linecolor\": \"white\", \"ticks\": \"\"}, \"baxis\": {\"gridcolor\": \"white\", \"linecolor\": \"white\", \"ticks\": \"\"}, \"bgcolor\": \"#E5ECF6\", \"caxis\": {\"gridcolor\": \"white\", \"linecolor\": \"white\", \"ticks\": \"\"}}, \"title\": {\"x\": 0.05}, \"xaxis\": {\"automargin\": true, \"gridcolor\": \"white\", \"linecolor\": \"white\", \"ticks\": \"\", \"title\": {\"standoff\": 15}, \"zerolinecolor\": \"white\", \"zerolinewidth\": 2}, \"yaxis\": {\"automargin\": true, \"gridcolor\": \"white\", \"linecolor\": \"white\", \"ticks\": \"\", \"title\": {\"standoff\": 15}, \"zerolinecolor\": \"white\", \"zerolinewidth\": 2}}}, \"title\": {\"text\": \"TRAVELING SALESMAN ROUTE\"}},\n",
              "                        {\"scrollZoom\": false, \"responsive\": true}\n",
              "                    ).then(function(){\n",
              "                            \n",
              "var gd = document.getElementById('d5bab568-ca59-445e-a397-ace0be2f8abd');\n",
              "var x = new MutationObserver(function (mutations, observer) {{\n",
              "        var display = window.getComputedStyle(gd).display;\n",
              "        if (!display || display === 'none') {{\n",
              "            console.log([gd, 'removed!']);\n",
              "            Plotly.purge(gd);\n",
              "            observer.disconnect();\n",
              "        }}\n",
              "}});\n",
              "\n",
              "// Listen for the removal of the full notebook cells\n",
              "var notebookContainer = gd.closest('#notebook-container');\n",
              "if (notebookContainer) {{\n",
              "    x.observe(notebookContainer, {childList: true});\n",
              "}}\n",
              "\n",
              "// Listen for the clearing of the current output cell\n",
              "var outputEl = gd.closest('.output');\n",
              "if (outputEl) {{\n",
              "    x.observe(outputEl, {childList: true});\n",
              "}}\n",
              "\n",
              "                        })\n",
              "                };\n",
              "                \n",
              "            </script>\n",
              "        </div>\n",
              "</body>\n",
              "</html>"
            ]
          },
          "metadata": {
            "tags": []
          }
        },
        {
          "output_type": "stream",
          "text": [
            "time: 272 ms (started: 2021-03-19 14:52:39 +00:00)\n"
          ],
          "name": "stdout"
        }
      ]
    },
    {
      "cell_type": "markdown",
      "metadata": {
        "id": "Fm0i_IVc1NVB"
      },
      "source": [
        "**We notice pyomo has generated an optimal solution which travels in anti-clockwise direction.**"
      ]
    },
    {
      "cell_type": "markdown",
      "metadata": {
        "id": "e9KTWLFadfDX"
      },
      "source": [
        "#### Animated Visualisation"
      ]
    },
    {
      "cell_type": "markdown",
      "metadata": {
        "id": "Tan-dsFLao95"
      },
      "source": [
        "Let's add animations to plot\n"
      ]
    },
    {
      "cell_type": "code",
      "metadata": {
        "id": "hY5Q45C2P3K8",
        "colab": {
          "base_uri": "https://localhost:8080/",
          "height": 559
        },
        "outputId": "55f20b46-bfa3-41ac-a576-693699d761c0"
      },
      "source": [
        "fig = go.Figure(go.Scattermapbox(\n",
        "    mode = \"markers+lines\",\n",
        "    lon = geogTable_orig['X'], #longitude\n",
        "    lat = geogTable_orig['Y'], #latitude\n",
        "    name=\"Traveling Salesman\", \n",
        "    hovertext=geogTable_orig['TOWN'], #town name\n",
        "    marker = {'size': 10}),\n",
        "    layout=go.Layout(\n",
        "        hovermode=\"closest\",\n",
        "        updatemenus=[dict(type=\"buttons\",\n",
        "                          buttons=[dict(label=\"Play\",\n",
        "                                        method=\"animate\",\n",
        "                                        args=[None])])]),\n",
        "        frames=[go.Frame(             #frames to show animation\n",
        "        data=[go.Scattermapbox(\n",
        "            lon=[geogTable_orig.iloc[k,1]],\n",
        "            lat=[geogTable_orig.iloc[k,2]],\n",
        "            mode=\"markers\",\n",
        "            marker=dict(color=\"red\", size=10)\n",
        "            )])\n",
        "\n",
        "        for k in range(len(geogTable_orig))]\n",
        ")\n",
        "fig.add_trace(go.Scattermapbox(\n",
        "    mode = \"markers+lines\",\n",
        "    lon = geogTable_orig['X'], #longitude\n",
        "    lat = geogTable_orig['Y'], #latitude\n",
        "    name=\"Main Route\", \n",
        "    hovertext=geogTable_orig['TOWN'], #town name\n",
        "    marker=dict(color=\"blue\", size=5)))\n",
        "\n",
        "#mean latitude and mean longitude are useful for setting the map here\n",
        "fig.update_layout(mapbox_style=\"carto-darkmatter\", mapbox_zoom=8.25, mapbox_center_lat = 41.26878471063158,mapbox_center_lon = -73.37656607409332,\n",
        "    margin={\"r\":0,\"t\":0,\"l\":0,\"b\":0},title=\"TRAVELING SALESMAN ROUTE\") #set the required zoom to look at output here 8.25\n",
        "config = dict({'scrollZoom': False})\n",
        "fig.show(config=config)"
      ],
      "execution_count": null,
      "outputs": [
        {
          "output_type": "display_data",
          "data": {
            "text/html": [
              "<html>\n",
              "<head><meta charset=\"utf-8\" /></head>\n",
              "<body>\n",
              "    <div>\n",
              "            <script src=\"https://cdnjs.cloudflare.com/ajax/libs/mathjax/2.7.5/MathJax.js?config=TeX-AMS-MML_SVG\"></script><script type=\"text/javascript\">if (window.MathJax) {MathJax.Hub.Config({SVG: {font: \"STIX-Web\"}});}</script>\n",
              "                <script type=\"text/javascript\">window.PlotlyConfig = {MathJaxConfig: 'local'};</script>\n",
              "        <script src=\"https://cdn.plot.ly/plotly-latest.min.js\"></script>    \n",
              "            <div id=\"6b5c6491-9a8e-4f02-8967-38fe06219ff1\" class=\"plotly-graph-div\" style=\"height:525px; width:100%;\"></div>\n",
              "            <script type=\"text/javascript\">\n",
              "                \n",
              "                    window.PLOTLYENV=window.PLOTLYENV || {};\n",
              "                    \n",
              "                if (document.getElementById(\"6b5c6491-9a8e-4f02-8967-38fe06219ff1\")) {\n",
              "                    Plotly.newPlot(\n",
              "                        '6b5c6491-9a8e-4f02-8967-38fe06219ff1',\n",
              "                        [{\"hovertext\": [\"Sherman\", \"Danbury\", \"Ridgefield\", \"Redding\", \"Weston\", \"Wilton\", \"New Canaan\", \"Stamford\", \"Greenwich\", \"Darien\", \"Norwalk\", \"Westport\", \"Fairfield\", \"Easton\", \"Trumbull\", \"Bridgeport\", \"Stratford\", \"Shelton\", \"Monroe\", \"Newtown\", \"Bethel\", \"Brookfield\", \"New Fairfield\", \"Sherman\"], \"lat\": [41.5800698592504, 41.4013640556389, 41.3061539956989, 41.305021333867295, 41.228433019273794, 41.2069319946664, 41.159119368569705, 41.1050279961402, 41.0690824769707, 41.0811456463311, 41.1181478024976, 41.145318674426996, 41.177753851639295, 41.2648859129813, 41.260173481741205, 41.192561537954894, 41.2078673215556, 41.3060975143692, 41.3379344444351, 41.398822983464605, 41.374801560580295, 41.46752965155571, 41.487803860917, 41.5800698592504], \"lon\": [-73.49918170807399, -73.4705270599115, -73.50188133191, -73.3913916801082, -73.37256725904192, -73.4398877871749, -73.49922395167201, -73.5590370224089, -73.6384674457496, -73.4823550054125, -73.422614497081, -73.34649487600929, -73.273260725136, -73.30008424693729, -73.2084247211173, -73.1959867493456, -73.13040399903791, -73.13822123369779, -73.2249189440438, -73.29282774457009, -73.39265624011591, -73.3923244597689, -73.48828101582191, -73.49918170807399], \"marker\": {\"size\": 10}, \"mode\": \"markers+lines\", \"name\": \"Traveling Salesman\", \"type\": \"scattermapbox\"}, {\"hovertext\": [\"Sherman\", \"Danbury\", \"Ridgefield\", \"Redding\", \"Weston\", \"Wilton\", \"New Canaan\", \"Stamford\", \"Greenwich\", \"Darien\", \"Norwalk\", \"Westport\", \"Fairfield\", \"Easton\", \"Trumbull\", \"Bridgeport\", \"Stratford\", \"Shelton\", \"Monroe\", \"Newtown\", \"Bethel\", \"Brookfield\", \"New Fairfield\", \"Sherman\"], \"lat\": [41.5800698592504, 41.4013640556389, 41.3061539956989, 41.305021333867295, 41.228433019273794, 41.2069319946664, 41.159119368569705, 41.1050279961402, 41.0690824769707, 41.0811456463311, 41.1181478024976, 41.145318674426996, 41.177753851639295, 41.2648859129813, 41.260173481741205, 41.192561537954894, 41.2078673215556, 41.3060975143692, 41.3379344444351, 41.398822983464605, 41.374801560580295, 41.46752965155571, 41.487803860917, 41.5800698592504], \"lon\": [-73.49918170807399, -73.4705270599115, -73.50188133191, -73.3913916801082, -73.37256725904192, -73.4398877871749, -73.49922395167201, -73.5590370224089, -73.6384674457496, -73.4823550054125, -73.422614497081, -73.34649487600929, -73.273260725136, -73.30008424693729, -73.2084247211173, -73.1959867493456, -73.13040399903791, -73.13822123369779, -73.2249189440438, -73.29282774457009, -73.39265624011591, -73.3923244597689, -73.48828101582191, -73.49918170807399], \"marker\": {\"color\": \"blue\", \"size\": 5}, \"mode\": \"markers+lines\", \"name\": \"Main Route\", \"type\": \"scattermapbox\"}],\n",
              "                        {\"hovermode\": \"closest\", \"mapbox\": {\"center\": {\"lat\": 41.26878471063158, \"lon\": -73.37656607409332}, \"style\": \"carto-darkmatter\", \"zoom\": 8.25}, \"margin\": {\"b\": 0, \"l\": 0, \"r\": 0, \"t\": 0}, \"template\": {\"data\": {\"bar\": [{\"error_x\": {\"color\": \"#2a3f5f\"}, \"error_y\": {\"color\": \"#2a3f5f\"}, \"marker\": {\"line\": {\"color\": \"#E5ECF6\", \"width\": 0.5}}, \"type\": \"bar\"}], \"barpolar\": [{\"marker\": {\"line\": {\"color\": \"#E5ECF6\", \"width\": 0.5}}, \"type\": \"barpolar\"}], \"carpet\": [{\"aaxis\": {\"endlinecolor\": \"#2a3f5f\", \"gridcolor\": \"white\", \"linecolor\": \"white\", \"minorgridcolor\": \"white\", \"startlinecolor\": \"#2a3f5f\"}, \"baxis\": {\"endlinecolor\": \"#2a3f5f\", \"gridcolor\": \"white\", \"linecolor\": \"white\", \"minorgridcolor\": \"white\", \"startlinecolor\": \"#2a3f5f\"}, \"type\": \"carpet\"}], \"choropleth\": [{\"colorbar\": {\"outlinewidth\": 0, \"ticks\": \"\"}, \"type\": \"choropleth\"}], \"contour\": [{\"colorbar\": {\"outlinewidth\": 0, \"ticks\": \"\"}, \"colorscale\": [[0.0, \"#0d0887\"], [0.1111111111111111, \"#46039f\"], [0.2222222222222222, \"#7201a8\"], [0.3333333333333333, \"#9c179e\"], [0.4444444444444444, \"#bd3786\"], [0.5555555555555556, \"#d8576b\"], [0.6666666666666666, \"#ed7953\"], [0.7777777777777778, \"#fb9f3a\"], [0.8888888888888888, \"#fdca26\"], [1.0, \"#f0f921\"]], \"type\": \"contour\"}], \"contourcarpet\": [{\"colorbar\": {\"outlinewidth\": 0, \"ticks\": \"\"}, \"type\": \"contourcarpet\"}], \"heatmap\": [{\"colorbar\": {\"outlinewidth\": 0, \"ticks\": \"\"}, \"colorscale\": [[0.0, \"#0d0887\"], [0.1111111111111111, \"#46039f\"], [0.2222222222222222, \"#7201a8\"], [0.3333333333333333, \"#9c179e\"], [0.4444444444444444, \"#bd3786\"], [0.5555555555555556, \"#d8576b\"], [0.6666666666666666, \"#ed7953\"], [0.7777777777777778, \"#fb9f3a\"], [0.8888888888888888, \"#fdca26\"], [1.0, \"#f0f921\"]], \"type\": \"heatmap\"}], \"heatmapgl\": [{\"colorbar\": {\"outlinewidth\": 0, \"ticks\": \"\"}, \"colorscale\": [[0.0, \"#0d0887\"], [0.1111111111111111, \"#46039f\"], [0.2222222222222222, \"#7201a8\"], [0.3333333333333333, \"#9c179e\"], [0.4444444444444444, \"#bd3786\"], [0.5555555555555556, \"#d8576b\"], [0.6666666666666666, \"#ed7953\"], [0.7777777777777778, \"#fb9f3a\"], [0.8888888888888888, \"#fdca26\"], [1.0, \"#f0f921\"]], \"type\": \"heatmapgl\"}], \"histogram\": [{\"marker\": {\"colorbar\": {\"outlinewidth\": 0, \"ticks\": \"\"}}, \"type\": \"histogram\"}], \"histogram2d\": [{\"colorbar\": {\"outlinewidth\": 0, \"ticks\": \"\"}, \"colorscale\": [[0.0, \"#0d0887\"], [0.1111111111111111, \"#46039f\"], [0.2222222222222222, \"#7201a8\"], [0.3333333333333333, \"#9c179e\"], [0.4444444444444444, \"#bd3786\"], [0.5555555555555556, \"#d8576b\"], [0.6666666666666666, \"#ed7953\"], [0.7777777777777778, \"#fb9f3a\"], [0.8888888888888888, \"#fdca26\"], [1.0, \"#f0f921\"]], \"type\": \"histogram2d\"}], \"histogram2dcontour\": [{\"colorbar\": {\"outlinewidth\": 0, \"ticks\": \"\"}, \"colorscale\": [[0.0, \"#0d0887\"], [0.1111111111111111, \"#46039f\"], [0.2222222222222222, \"#7201a8\"], [0.3333333333333333, \"#9c179e\"], [0.4444444444444444, \"#bd3786\"], [0.5555555555555556, \"#d8576b\"], [0.6666666666666666, \"#ed7953\"], [0.7777777777777778, \"#fb9f3a\"], [0.8888888888888888, \"#fdca26\"], [1.0, \"#f0f921\"]], \"type\": \"histogram2dcontour\"}], \"mesh3d\": [{\"colorbar\": {\"outlinewidth\": 0, \"ticks\": \"\"}, \"type\": \"mesh3d\"}], \"parcoords\": [{\"line\": {\"colorbar\": {\"outlinewidth\": 0, \"ticks\": \"\"}}, \"type\": \"parcoords\"}], \"pie\": [{\"automargin\": true, \"type\": \"pie\"}], \"scatter\": [{\"marker\": {\"colorbar\": {\"outlinewidth\": 0, \"ticks\": \"\"}}, \"type\": \"scatter\"}], \"scatter3d\": [{\"line\": {\"colorbar\": {\"outlinewidth\": 0, \"ticks\": \"\"}}, \"marker\": {\"colorbar\": {\"outlinewidth\": 0, \"ticks\": \"\"}}, \"type\": \"scatter3d\"}], \"scattercarpet\": [{\"marker\": {\"colorbar\": {\"outlinewidth\": 0, \"ticks\": \"\"}}, \"type\": \"scattercarpet\"}], \"scattergeo\": [{\"marker\": {\"colorbar\": {\"outlinewidth\": 0, \"ticks\": \"\"}}, \"type\": \"scattergeo\"}], \"scattergl\": [{\"marker\": {\"colorbar\": {\"outlinewidth\": 0, \"ticks\": \"\"}}, \"type\": \"scattergl\"}], \"scattermapbox\": [{\"marker\": {\"colorbar\": {\"outlinewidth\": 0, \"ticks\": \"\"}}, \"type\": \"scattermapbox\"}], \"scatterpolar\": [{\"marker\": {\"colorbar\": {\"outlinewidth\": 0, \"ticks\": \"\"}}, \"type\": \"scatterpolar\"}], \"scatterpolargl\": [{\"marker\": {\"colorbar\": {\"outlinewidth\": 0, \"ticks\": \"\"}}, \"type\": \"scatterpolargl\"}], \"scatterternary\": [{\"marker\": {\"colorbar\": {\"outlinewidth\": 0, \"ticks\": \"\"}}, \"type\": \"scatterternary\"}], \"surface\": [{\"colorbar\": {\"outlinewidth\": 0, \"ticks\": \"\"}, \"colorscale\": [[0.0, \"#0d0887\"], [0.1111111111111111, \"#46039f\"], [0.2222222222222222, \"#7201a8\"], [0.3333333333333333, \"#9c179e\"], [0.4444444444444444, \"#bd3786\"], [0.5555555555555556, \"#d8576b\"], [0.6666666666666666, \"#ed7953\"], [0.7777777777777778, \"#fb9f3a\"], [0.8888888888888888, \"#fdca26\"], [1.0, \"#f0f921\"]], \"type\": \"surface\"}], \"table\": [{\"cells\": {\"fill\": {\"color\": \"#EBF0F8\"}, \"line\": {\"color\": \"white\"}}, \"header\": {\"fill\": {\"color\": \"#C8D4E3\"}, \"line\": {\"color\": \"white\"}}, \"type\": \"table\"}]}, \"layout\": {\"annotationdefaults\": {\"arrowcolor\": \"#2a3f5f\", \"arrowhead\": 0, \"arrowwidth\": 1}, \"coloraxis\": {\"colorbar\": {\"outlinewidth\": 0, \"ticks\": \"\"}}, \"colorscale\": {\"diverging\": [[0, \"#8e0152\"], [0.1, \"#c51b7d\"], [0.2, \"#de77ae\"], [0.3, \"#f1b6da\"], [0.4, \"#fde0ef\"], [0.5, \"#f7f7f7\"], [0.6, \"#e6f5d0\"], [0.7, \"#b8e186\"], [0.8, \"#7fbc41\"], [0.9, \"#4d9221\"], [1, \"#276419\"]], \"sequential\": [[0.0, \"#0d0887\"], [0.1111111111111111, \"#46039f\"], [0.2222222222222222, \"#7201a8\"], [0.3333333333333333, \"#9c179e\"], [0.4444444444444444, \"#bd3786\"], [0.5555555555555556, \"#d8576b\"], [0.6666666666666666, \"#ed7953\"], [0.7777777777777778, \"#fb9f3a\"], [0.8888888888888888, \"#fdca26\"], [1.0, \"#f0f921\"]], \"sequentialminus\": [[0.0, \"#0d0887\"], [0.1111111111111111, \"#46039f\"], [0.2222222222222222, \"#7201a8\"], [0.3333333333333333, \"#9c179e\"], [0.4444444444444444, \"#bd3786\"], [0.5555555555555556, \"#d8576b\"], [0.6666666666666666, \"#ed7953\"], [0.7777777777777778, \"#fb9f3a\"], [0.8888888888888888, \"#fdca26\"], [1.0, \"#f0f921\"]]}, \"colorway\": [\"#636efa\", \"#EF553B\", \"#00cc96\", \"#ab63fa\", \"#FFA15A\", \"#19d3f3\", \"#FF6692\", \"#B6E880\", \"#FF97FF\", \"#FECB52\"], \"font\": {\"color\": \"#2a3f5f\"}, \"geo\": {\"bgcolor\": \"white\", \"lakecolor\": \"white\", \"landcolor\": \"#E5ECF6\", \"showlakes\": true, \"showland\": true, \"subunitcolor\": \"white\"}, \"hoverlabel\": {\"align\": \"left\"}, \"hovermode\": \"closest\", \"mapbox\": {\"style\": \"light\"}, \"paper_bgcolor\": \"white\", \"plot_bgcolor\": \"#E5ECF6\", \"polar\": {\"angularaxis\": {\"gridcolor\": \"white\", \"linecolor\": \"white\", \"ticks\": \"\"}, \"bgcolor\": \"#E5ECF6\", \"radialaxis\": {\"gridcolor\": \"white\", \"linecolor\": \"white\", \"ticks\": \"\"}}, \"scene\": {\"xaxis\": {\"backgroundcolor\": \"#E5ECF6\", \"gridcolor\": \"white\", \"gridwidth\": 2, \"linecolor\": \"white\", \"showbackground\": true, \"ticks\": \"\", \"zerolinecolor\": \"white\"}, \"yaxis\": {\"backgroundcolor\": \"#E5ECF6\", \"gridcolor\": \"white\", \"gridwidth\": 2, \"linecolor\": \"white\", \"showbackground\": true, \"ticks\": \"\", \"zerolinecolor\": \"white\"}, \"zaxis\": {\"backgroundcolor\": \"#E5ECF6\", \"gridcolor\": \"white\", \"gridwidth\": 2, \"linecolor\": \"white\", \"showbackground\": true, \"ticks\": \"\", \"zerolinecolor\": \"white\"}}, \"shapedefaults\": {\"line\": {\"color\": \"#2a3f5f\"}}, \"ternary\": {\"aaxis\": {\"gridcolor\": \"white\", \"linecolor\": \"white\", \"ticks\": \"\"}, \"baxis\": {\"gridcolor\": \"white\", \"linecolor\": \"white\", \"ticks\": \"\"}, \"bgcolor\": \"#E5ECF6\", \"caxis\": {\"gridcolor\": \"white\", \"linecolor\": \"white\", \"ticks\": \"\"}}, \"title\": {\"x\": 0.05}, \"xaxis\": {\"automargin\": true, \"gridcolor\": \"white\", \"linecolor\": \"white\", \"ticks\": \"\", \"title\": {\"standoff\": 15}, \"zerolinecolor\": \"white\", \"zerolinewidth\": 2}, \"yaxis\": {\"automargin\": true, \"gridcolor\": \"white\", \"linecolor\": \"white\", \"ticks\": \"\", \"title\": {\"standoff\": 15}, \"zerolinecolor\": \"white\", \"zerolinewidth\": 2}}}, \"title\": {\"text\": \"TRAVELING SALESMAN ROUTE\"}, \"updatemenus\": [{\"buttons\": [{\"args\": [null], \"label\": \"Play\", \"method\": \"animate\"}], \"type\": \"buttons\"}]},\n",
              "                        {\"scrollZoom\": false, \"responsive\": true}\n",
              "                    ).then(function(){\n",
              "                            Plotly.addFrames('6b5c6491-9a8e-4f02-8967-38fe06219ff1', [{\"data\": [{\"lat\": [41.5800698592504], \"lon\": [-73.49918170807399], \"marker\": {\"color\": \"red\", \"size\": 10}, \"mode\": \"markers\", \"type\": \"scattermapbox\"}]}, {\"data\": [{\"lat\": [41.4013640556389], \"lon\": [-73.4705270599115], \"marker\": {\"color\": \"red\", \"size\": 10}, \"mode\": \"markers\", \"type\": \"scattermapbox\"}]}, {\"data\": [{\"lat\": [41.3061539956989], \"lon\": [-73.50188133191], \"marker\": {\"color\": \"red\", \"size\": 10}, \"mode\": \"markers\", \"type\": \"scattermapbox\"}]}, {\"data\": [{\"lat\": [41.305021333867295], \"lon\": [-73.3913916801082], \"marker\": {\"color\": \"red\", \"size\": 10}, \"mode\": \"markers\", \"type\": \"scattermapbox\"}]}, {\"data\": [{\"lat\": [41.228433019273794], \"lon\": [-73.37256725904192], \"marker\": {\"color\": \"red\", \"size\": 10}, \"mode\": \"markers\", \"type\": \"scattermapbox\"}]}, {\"data\": [{\"lat\": [41.2069319946664], \"lon\": [-73.4398877871749], \"marker\": {\"color\": \"red\", \"size\": 10}, \"mode\": \"markers\", \"type\": \"scattermapbox\"}]}, {\"data\": [{\"lat\": [41.159119368569705], \"lon\": [-73.49922395167201], \"marker\": {\"color\": \"red\", \"size\": 10}, \"mode\": \"markers\", \"type\": \"scattermapbox\"}]}, {\"data\": [{\"lat\": [41.1050279961402], \"lon\": [-73.5590370224089], \"marker\": {\"color\": \"red\", \"size\": 10}, \"mode\": \"markers\", \"type\": \"scattermapbox\"}]}, {\"data\": [{\"lat\": [41.0690824769707], \"lon\": [-73.6384674457496], \"marker\": {\"color\": \"red\", \"size\": 10}, \"mode\": \"markers\", \"type\": \"scattermapbox\"}]}, {\"data\": [{\"lat\": [41.0811456463311], \"lon\": [-73.4823550054125], \"marker\": {\"color\": \"red\", \"size\": 10}, \"mode\": \"markers\", \"type\": \"scattermapbox\"}]}, {\"data\": [{\"lat\": [41.1181478024976], \"lon\": [-73.422614497081], \"marker\": {\"color\": \"red\", \"size\": 10}, \"mode\": \"markers\", \"type\": \"scattermapbox\"}]}, {\"data\": [{\"lat\": [41.145318674426996], \"lon\": [-73.34649487600929], \"marker\": {\"color\": \"red\", \"size\": 10}, \"mode\": \"markers\", \"type\": \"scattermapbox\"}]}, {\"data\": [{\"lat\": [41.177753851639295], \"lon\": [-73.273260725136], \"marker\": {\"color\": \"red\", \"size\": 10}, \"mode\": \"markers\", \"type\": \"scattermapbox\"}]}, {\"data\": [{\"lat\": [41.2648859129813], \"lon\": [-73.30008424693729], \"marker\": {\"color\": \"red\", \"size\": 10}, \"mode\": \"markers\", \"type\": \"scattermapbox\"}]}, {\"data\": [{\"lat\": [41.260173481741205], \"lon\": [-73.2084247211173], \"marker\": {\"color\": \"red\", \"size\": 10}, \"mode\": \"markers\", \"type\": \"scattermapbox\"}]}, {\"data\": [{\"lat\": [41.192561537954894], \"lon\": [-73.1959867493456], \"marker\": {\"color\": \"red\", \"size\": 10}, \"mode\": \"markers\", \"type\": \"scattermapbox\"}]}, {\"data\": [{\"lat\": [41.2078673215556], \"lon\": [-73.13040399903791], \"marker\": {\"color\": \"red\", \"size\": 10}, \"mode\": \"markers\", \"type\": \"scattermapbox\"}]}, {\"data\": [{\"lat\": [41.3060975143692], \"lon\": [-73.13822123369779], \"marker\": {\"color\": \"red\", \"size\": 10}, \"mode\": \"markers\", \"type\": \"scattermapbox\"}]}, {\"data\": [{\"lat\": [41.3379344444351], \"lon\": [-73.2249189440438], \"marker\": {\"color\": \"red\", \"size\": 10}, \"mode\": \"markers\", \"type\": \"scattermapbox\"}]}, {\"data\": [{\"lat\": [41.398822983464605], \"lon\": [-73.29282774457009], \"marker\": {\"color\": \"red\", \"size\": 10}, \"mode\": \"markers\", \"type\": \"scattermapbox\"}]}, {\"data\": [{\"lat\": [41.374801560580295], \"lon\": [-73.39265624011591], \"marker\": {\"color\": \"red\", \"size\": 10}, \"mode\": \"markers\", \"type\": \"scattermapbox\"}]}, {\"data\": [{\"lat\": [41.46752965155571], \"lon\": [-73.3923244597689], \"marker\": {\"color\": \"red\", \"size\": 10}, \"mode\": \"markers\", \"type\": \"scattermapbox\"}]}, {\"data\": [{\"lat\": [41.487803860917], \"lon\": [-73.48828101582191], \"marker\": {\"color\": \"red\", \"size\": 10}, \"mode\": \"markers\", \"type\": \"scattermapbox\"}]}, {\"data\": [{\"lat\": [41.5800698592504], \"lon\": [-73.49918170807399], \"marker\": {\"color\": \"red\", \"size\": 10}, \"mode\": \"markers\", \"type\": \"scattermapbox\"}]}]);\n",
              "                        }).then(function(){\n",
              "                            \n",
              "var gd = document.getElementById('6b5c6491-9a8e-4f02-8967-38fe06219ff1');\n",
              "var x = new MutationObserver(function (mutations, observer) {{\n",
              "        var display = window.getComputedStyle(gd).display;\n",
              "        if (!display || display === 'none') {{\n",
              "            console.log([gd, 'removed!']);\n",
              "            Plotly.purge(gd);\n",
              "            observer.disconnect();\n",
              "        }}\n",
              "}});\n",
              "\n",
              "// Listen for the removal of the full notebook cells\n",
              "var notebookContainer = gd.closest('#notebook-container');\n",
              "if (notebookContainer) {{\n",
              "    x.observe(notebookContainer, {childList: true});\n",
              "}}\n",
              "\n",
              "// Listen for the clearing of the current output cell\n",
              "var outputEl = gd.closest('.output');\n",
              "if (outputEl) {{\n",
              "    x.observe(outputEl, {childList: true});\n",
              "}}\n",
              "\n",
              "                        })\n",
              "                };\n",
              "                \n",
              "            </script>\n",
              "        </div>\n",
              "</body>\n",
              "</html>"
            ]
          },
          "metadata": {
            "tags": []
          }
        },
        {
          "output_type": "stream",
          "text": [
            "time: 1.78 s (started: 2021-03-19 14:52:40 +00:00)\n"
          ],
          "name": "stdout"
        }
      ]
    },
    {
      "cell_type": "code",
      "metadata": {
        "id": "09kjs9sJ7j_T",
        "colab": {
          "base_uri": "https://localhost:8080/"
        },
        "outputId": "bf4dddde-c5e5-4981-bc5a-ab641f598222"
      },
      "source": [
        "print(\"The minimum cost for travelling all the 23 places is \",model.objective(),\"\\n\") #Minimum distance covered (or) Minimum Cost= 16571.0"
      ],
      "execution_count": null,
      "outputs": [
        {
          "output_type": "stream",
          "text": [
            "The minimum cost for travelling all the 23 places is  16571.0 \n",
            "\n",
            "time: 6.5 ms (started: 2021-03-19 14:52:41 +00:00)\n"
          ],
          "name": "stdout"
        }
      ]
    },
    {
      "cell_type": "markdown",
      "metadata": {
        "id": "Ce1yFEXj8y-x"
      },
      "source": [
        "### Print the file"
      ]
    },
    {
      "cell_type": "code",
      "metadata": {
        "id": "-tDxUg--80hn",
        "colab": {
          "base_uri": "https://localhost:8080/"
        },
        "outputId": "5c7c268f-2c0a-43fb-dd3c-cf9ef89cfb3f"
      },
      "source": [
        "#filename = '/content/drive/MyDrive/BDM TA/Vehicle Routing Problem/TSP_pyomo.lp'\n",
        "#model.write(filename, io_options={'symbolic_solver_labels': True})"
      ],
      "execution_count": null,
      "outputs": [
        {
          "output_type": "stream",
          "text": [
            "time: 1.24 ms (started: 2021-03-19 14:52:41 +00:00)\n"
          ],
          "name": "stdout"
        }
      ]
    },
    {
      "cell_type": "markdown",
      "metadata": {
        "id": "XaOW2H84cY2Q"
      },
      "source": [
        "# End time"
      ]
    },
    {
      "cell_type": "code",
      "metadata": {
        "colab": {
          "base_uri": "https://localhost:8080/"
        },
        "id": "cqm_-Tqgca4C",
        "outputId": "722cde57-c5e0-482a-8a63-df8e88dea735"
      },
      "source": [
        "end = time.time() #End time noted\n",
        "print(end - start,\" s\")"
      ],
      "execution_count": null,
      "outputs": [
        {
          "output_type": "stream",
          "text": [
            "32.41681146621704  s\n",
            "time: 2.29 ms (started: 2021-03-19 14:52:41 +00:00)\n"
          ],
          "name": "stdout"
        }
      ]
    },
    {
      "cell_type": "markdown",
      "metadata": {
        "id": "Kqp2DfD8dyKz"
      },
      "source": [
        "#Conclusion\n",
        "\n",
        "In this modeling example, we have shown how to formulate the symmetric Traveling Salesman Problem as a MIP problem. We also showed how to dynamically eliminate subtours by using Miller-Tucker-Zemlin Formulation."
      ]
    },
    {
      "cell_type": "markdown",
      "metadata": {
        "id": "iamt-tm4KAjt"
      },
      "source": [
        "#REFERENCES\n",
        "\n",
        "https://en.wikipedia.org/wiki/Taxicab_geometry\n",
        "\n",
        "https://en.wikipedia.org/wiki/Euclidean_distance\n",
        "\n",
        "https://en.wikipedia.org/wiki/Travelling_salesman_problem\n",
        "\n",
        "https://how-to.aimms.com/C_Developer/Sub_Mathematical_Modeling/index.html\n",
        "\n",
        "https://how-to.aimms.com/Articles/332/332-Formulation-CVRP.html\n",
        "\n",
        "https://how-to.aimms.com/Articles/332/332-Miller-Tucker-Zemlin-formulation.html\n",
        "\n",
        "https://www.aimms.com/stories/\n",
        "\n",
        "https://webinars.aimms.com/electricity-market-modeling-restore-aimms/?utm_source=website&utm_medium=stories-page\n",
        "\n",
        "https://www.aimms.com/support/licensing/academic-license/\n",
        "\n",
        "https://manual.aimms.com/_downloads/AIMMS_modeling.pdf\n",
        "\n",
        "https://digitalcommons.georgiasouthern.edu/cgi/viewcontent.cgi?article=2913&context=etd\n",
        "\n",
        "https://www.localsolver.com/docs/last/exampletour/vrp.html\n",
        "\n",
        "\n",
        "https://plotly.com/python/lines-on-mapbox/\n",
        "\n",
        "https://developers.google.com/optimization/examples\n",
        "\n",
        "http://www.math.uwaterloo.ca/tsp/index.html\n",
        "\n",
        "https://www.youtube.com/watch?v=q8nQTNvCrjE&t=35s\n",
        "\n",
        "http://www.math.uwaterloo.ca/tsp/concorde.html\n",
        "\n",
        "https://stackoverflow.com/questions/61793170/how-to-make-pyomo-silent-verbosity-0-when-solving-a-model\n",
        "\n",
        "\n",
        " D. L. Applegate, R. E. Bixby, V. Chvatal and W. J. Cook , The Traveling Salesman Problem: A Computational Study, Princeton University Press, Princeton, 2006."
      ]
    }
  ]
}