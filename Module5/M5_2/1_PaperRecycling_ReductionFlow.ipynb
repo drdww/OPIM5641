{
  "nbformat": 4,
  "nbformat_minor": 0,
  "metadata": {
    "colab": {
      "name": "PaperRecycling_ReductionFlow",
      "provenance": [],
      "collapsed_sections": [],
      "toc_visible": true,
      "include_colab_link": true
    },
    "kernelspec": {
      "name": "python3",
      "display_name": "Python 3"
    }
  },
  "cells": [
    {
      "cell_type": "markdown",
      "metadata": {
        "id": "view-in-github",
        "colab_type": "text"
      },
      "source": [
        "<a href=\"https://colab.research.google.com/github/drdww/OPIM5641/blob/main/Module5/M5_2/1_PaperRecycling_ReductionFlow.ipynb\" target=\"_parent\"><img src=\"https://colab.research.google.com/assets/colab-badge.svg\" alt=\"Open In Colab\"/></a>"
      ]
    },
    {
      "cell_type": "markdown",
      "metadata": {
        "id": "kAjKjGgE3P6O"
      },
      "source": [
        "# Network Problems: Reduction in Flow (Paper Recycling)\n",
        "**OPIM 5641: Business Decision Modeling - University of Connecticut**\n",
        "\n",
        "In this notebook, we will see that when $\\text{DEMAND} \\gt \\text{SUPPLY}$, we must include an *'virtual'* supply node to satisfy the demand. Network problem is framed as a balance equation (similar to a 'bathtub problem' with inputs and outputs).\n",
        "\n",
        "Please refer to Powell Chapter 10 for more details.\n",
        "\n",
        "------------------------------------------------------------------------\n"
      ]
    },
    {
      "cell_type": "markdown",
      "metadata": {
        "id": "ryKwrz024Q5d"
      },
      "source": [
        "## Yields as Reductions in Flow\n",
        "One common type of yield phenomenon involves technologies that produce waste (from raw materials to finished product). When\n",
        "wood is cut, shaped, and sanded in a manufacturing process, the amount of usable wood\n",
        "that exits the process is less than the amount that entered. When metal enters a process\n",
        "that involves grinding, drilling, and polishing, the same is true of the amount of metal at the\n",
        "end of the process compared to the amount at the start. This type of reduction in the\n",
        "amount of a flow is called **process yield**."
      ]
    },
    {
      "cell_type": "code",
      "metadata": {
        "id": "PhDwu4UpGp0a",
        "colab": {
          "base_uri": "https://localhost:8080/",
          "height": 297
        },
        "outputId": "e273ff63-51ed-4be8-aca5-11703b1ea5dc"
      },
      "source": [
        "pip install pyomo"
      ],
      "execution_count": null,
      "outputs": [
        {
          "output_type": "stream",
          "text": [
            "Collecting pyomo\n",
            "\u001b[?25l  Downloading https://files.pythonhosted.org/packages/db/6f/790085bfe030595bf45cfa5f0aede43fc7947b05504ef96fa9d4d22aff79/Pyomo-5.7.1-cp36-cp36m-manylinux2010_x86_64.whl (9.4MB)\n",
            "\u001b[K     |████████████████████████████████| 9.4MB 2.5MB/s \n",
            "\u001b[?25hCollecting PyUtilib>=6.0\n",
            "\u001b[?25l  Downloading https://files.pythonhosted.org/packages/e1/e7/c3e5994b4e5c90280b5c14ffef409875ec5436d1d0d9f8585794993a7d77/PyUtilib-6.0.0-py2.py3-none-any.whl (254kB)\n",
            "\u001b[K     |████████████████████████████████| 256kB 41.4MB/s \n",
            "\u001b[?25hCollecting ply\n",
            "\u001b[?25l  Downloading https://files.pythonhosted.org/packages/a3/58/35da89ee790598a0700ea49b2a66594140f44dec458c07e8e3d4979137fc/ply-3.11-py2.py3-none-any.whl (49kB)\n",
            "\u001b[K     |████████████████████████████████| 51kB 6.4MB/s \n",
            "\u001b[?25hRequirement already satisfied: six>=1.4 in /usr/local/lib/python3.6/dist-packages (from pyomo) (1.15.0)\n",
            "Collecting nose\n",
            "\u001b[?25l  Downloading https://files.pythonhosted.org/packages/15/d8/dd071918c040f50fa1cf80da16423af51ff8ce4a0f2399b7bf8de45ac3d9/nose-1.3.7-py3-none-any.whl (154kB)\n",
            "\u001b[K     |████████████████████████████████| 163kB 47.6MB/s \n",
            "\u001b[?25hInstalling collected packages: nose, PyUtilib, ply, pyomo\n",
            "Successfully installed PyUtilib-6.0.0 nose-1.3.7 ply-3.11 pyomo-5.7.1\n"
          ],
          "name": "stdout"
        }
      ]
    },
    {
      "cell_type": "code",
      "metadata": {
        "id": "2ketwXbSJ1c8",
        "colab": {
          "base_uri": "https://localhost:8080/",
          "height": 520
        },
        "outputId": "eead9d3b-55bc-47de-f71e-6393e062c9c9"
      },
      "source": [
        "%matplotlib inline\n",
        "import matplotlib.pyplot as plt\n",
        "import numpy as np\n",
        "import pandas as pd\n",
        "\n",
        "import shutil\n",
        "import sys\n",
        "import os.path\n",
        "\n",
        "if not shutil.which(\"pyomo\"):\n",
        "    !pip install -q pyomo\n",
        "    assert(shutil.which(\"pyomo\"))\n",
        "\n",
        "if not (shutil.which(\"cbc\") or os.path.isfile(\"cbc\")):\n",
        "    if \"google.colab\" in sys.modules:\n",
        "        !apt-get install -y -qq coinor-cbc\n",
        "    else:\n",
        "        try:\n",
        "            !conda install -c conda-forge coincbc \n",
        "        except:\n",
        "            pass\n",
        "\n",
        "assert(shutil.which(\"cbc\") or os.path.isfile(\"cbc\"))\n",
        "\n",
        "import pyomo.environ as pyomo"
      ],
      "execution_count": null,
      "outputs": [
        {
          "output_type": "stream",
          "text": [
            "Selecting previously unselected package coinor-libcoinutils3v5.\n",
            "(Reading database ... 144618 files and directories currently installed.)\n",
            "Preparing to unpack .../0-coinor-libcoinutils3v5_2.10.14+repack1-1_amd64.deb ...\n",
            "Unpacking coinor-libcoinutils3v5 (2.10.14+repack1-1) ...\n",
            "Selecting previously unselected package coinor-libosi1v5.\n",
            "Preparing to unpack .../1-coinor-libosi1v5_0.107.9+repack1-1_amd64.deb ...\n",
            "Unpacking coinor-libosi1v5 (0.107.9+repack1-1) ...\n",
            "Selecting previously unselected package coinor-libclp1.\n",
            "Preparing to unpack .../2-coinor-libclp1_1.16.11+repack1-1_amd64.deb ...\n",
            "Unpacking coinor-libclp1 (1.16.11+repack1-1) ...\n",
            "Selecting previously unselected package coinor-libcgl1.\n",
            "Preparing to unpack .../3-coinor-libcgl1_0.59.10+repack1-1_amd64.deb ...\n",
            "Unpacking coinor-libcgl1 (0.59.10+repack1-1) ...\n",
            "Selecting previously unselected package coinor-libcbc3.\n",
            "Preparing to unpack .../4-coinor-libcbc3_2.9.9+repack1-1_amd64.deb ...\n",
            "Unpacking coinor-libcbc3 (2.9.9+repack1-1) ...\n",
            "Selecting previously unselected package coinor-cbc.\n",
            "Preparing to unpack .../5-coinor-cbc_2.9.9+repack1-1_amd64.deb ...\n",
            "Unpacking coinor-cbc (2.9.9+repack1-1) ...\n",
            "Setting up coinor-libcoinutils3v5 (2.10.14+repack1-1) ...\n",
            "Setting up coinor-libosi1v5 (0.107.9+repack1-1) ...\n",
            "Setting up coinor-libclp1 (1.16.11+repack1-1) ...\n",
            "Setting up coinor-libcgl1 (0.59.10+repack1-1) ...\n",
            "Setting up coinor-libcbc3 (2.9.9+repack1-1) ...\n",
            "Setting up coinor-cbc (2.9.9+repack1-1) ...\n",
            "Processing triggers for man-db (2.8.3-2ubuntu0.1) ...\n",
            "Processing triggers for libc-bin (2.27-3ubuntu1.2) ...\n",
            "/sbin/ldconfig.real: /usr/local/lib/python3.6/dist-packages/ideep4py/lib/libmkldnn.so.0 is not a symbolic link\n",
            "\n"
          ],
          "name": "stdout"
        }
      ]
    },
    {
      "cell_type": "code",
      "metadata": {
        "id": "-V5WrIaZJ76o"
      },
      "source": [
        "from __future__ import division\n",
        "from pyomo.environ import *"
      ],
      "execution_count": null,
      "outputs": []
    },
    {
      "cell_type": "markdown",
      "metadata": {
        "id": "eFNF9stO6gFT"
      },
      "source": [
        "# Planning Recycling Operations"
      ]
    },
    {
      "cell_type": "markdown",
      "metadata": {
        "id": "yo7jsVjv6ll9"
      },
      "source": [
        "The Ligon Paper Company specializes in paper recycling. The company owns several facilities that\n",
        "obtain paper from commercial or municipal sources, and they produce paper for a variety of markets\n",
        "where customers are looking for recycled content.\n",
        "Ligon Paper collects three types of input, which they classify as White Paper, Mixed Paper, and\n",
        "Newsprint. Applying various processes, they produce three products: high-quality Office Paper,\n",
        "lower-quality Catalog Paper, and napkin-grade Tan Stock.\n",
        "One of the processes at Ligon Paper takes White Paper and converts it to Office Paper. For\n",
        "each ton of White Paper input, the process generates 0.85 ton of Office Paper. Alternatively, a ton of\n",
        "White Paper can be converted to Catalog Paper; here the yield is 0.90 ton. Thirdly, White Paper can\n",
        "be converted to Tan Stock, with a yield of 95 percent. For the other types of input, different yields\n",
        "apply, and it is not possible to convert Newsprint to Office Paper. The following table gives a\n",
        "complete set of yield factors, stated as percentages:\n",
        "\n",
        ". | Office | Catalog | Tan Stock\n",
        "--- | --- | --- | --- \n",
        "White Paper | 85% | 90% | 95%\n",
        "Mixed Paper | 60% | 70% | 80% \n",
        "Newsprint | -- | 65% | 60%\n",
        "\n",
        "\n",
        "\n",
        "\n",
        "\n",
        "In the coming planning period, Ligon’s contracts with suppliers have generated 300 tons of\n",
        "White Paper, 600 tons of Mixed Paper, and 400 tons of Newsprint. In existing markets, Ligon could\n",
        "sell 150 tons of Office Paper at the market price of 25 dollars per ton, 750 tons of Catalog Paper at 20 dollars per ton,\n",
        "and 550 tons of Tan Stock at 18 dollars per ton. The problem is to determine how much of each product to\n",
        "produce."
      ]
    },
    {
      "cell_type": "code",
      "metadata": {
        "id": "Npy5trjh5C6Q",
        "colab": {
          "base_uri": "https://localhost:8080/",
          "height": 35
        },
        "outputId": "ce78214b-a760-4cf8-b6e6-3667b3390924"
      },
      "source": [
        "# let's check supply and demand\n",
        "\n",
        "# supply (raw materials)\n",
        "Supply = 300 + 600 + 400\n",
        "Supply\n",
        "\n",
        "# demand\n",
        "Demand = 150 + 750 + 550\n",
        "Demand\n",
        "\n",
        "# difference\n",
        "diff = Supply - Demand\n",
        "diff\n"
      ],
      "execution_count": null,
      "outputs": [
        {
          "output_type": "execute_result",
          "data": {
            "text/plain": [
              "-150"
            ]
          },
          "metadata": {
            "tags": []
          },
          "execution_count": 4
        }
      ]
    },
    {
      "cell_type": "markdown",
      "metadata": {
        "id": "9NNasbHU5Slf"
      },
      "source": [
        "**YIKES!** Even with a 1:1 recycling, we do not have enough raw materials to satisfy demand in the market. It's fine if there's more supply than demand - we can always hold onto materials until it's time to process - but the problem gets complicated when $\\text{DEMAND} \\gt \\text{SUPPLY}$. \n",
        "\n",
        "We will see that we need to create a 'virtual' supply node that can help the problem balance out. Sometimes it will not be so obvious that you need a virtual supply node - if your model has an infeasible solution, this may be why!"
      ]
    },
    {
      "cell_type": "markdown",
      "metadata": {
        "id": "zmVXT18M-FaR"
      },
      "source": [
        "# Model Formulation"
      ]
    },
    {
      "cell_type": "markdown",
      "metadata": {
        "id": "xz-VeADgAMJk"
      },
      "source": [
        "Here is the the diagram for Ligon Paper (from the textbook):"
      ]
    },
    {
      "cell_type": "markdown",
      "metadata": {
        "id": "PwQHTjzb8iyI"
      },
      "source": [
        "![1.PNG](data:image/png;base64,iVBORw0KGgoAAAANSUhEUgAAAZcAAAEhCAYAAACz9e1lAAAAAXNSR0IArs4c6QAAAARnQU1BAACxjwv8YQUAAAAJcEhZcwAAEnQAABJ0Ad5mH3gAAEBGSURBVHhe7Z2Ll1TVmejvf9LcLuhBLsqzhwQRRmNMZEWHQWXhdcIjXCAaUYcgeYgmYlYC3hvIkG4zcTLKXZk2Y2sCzNgkkgxkSc8EXHRWIIGrJGIi2oyw0gl0EEI39d36VZ8PTh9OVdfjPPap+n6svZo+VXXOPvvU+X7723tX9X8TwzAMw4gYk4thGIYROSYXwzAMI3JMLoZhGEbkmFwMwzCMyDG5GIZhGJFjcjEMwzAix+RiGIZhRI7JxTAMw4gck4thGIYROSYXRzl+/Lj84he/kJ07dowqbKcYhmG4jMnFEX7/+9/Lj3/8Y3ng/vsl1zJOFi9aJI998Yvyz9/97hWx8H+28RjP4f+8htcahmG4hMklZchCkMTN8+bJt575VjFb+eCDD7xHS8NzeC6v4bXswzIawzBcweSSEu++++4VqZCVVCKUUvBa9qGSsUzGMIy0cVAuwzJ47GV5fGF7cegn1zJJ5i3ZLLvePCt57xky9K7s77hfbm7l8ZzMWPglefnYH68+XvjfUP9r0rnqVmkr7qNd7t7wshwbHPYeTxeGsji3eqUShH0xdIZkOIZhGEZaOCeXfP8r8sj0CdK+okNePXBIDu79rmyYP1na7nhGDn+APs7L8eeXSVvrAnn8xZ9K34Hd0rlijuRmPin7Bjx5XDom2xdNkbb5T0j3/tfl4KsdsrKwz1kb9srAVQMlDsGfYSzmTMhc4oJ9cwyOZRiGkQaOyeWSnOxeLbnWT8tL7/zZ25aX871PyZSWBdJ5+LzIuf2yceYkua3jF3LlGad75OHxU+Terl/L5cK/c71fkVktCwvPH/SeMSSne9bJxNYV0nXiorctWRALk/WUKLOVUujxTDCGYaSBY3K5IMe7N8jKv+uW41dGsFQui+TZYx/I8OEOmdtym2w+cNZ7vED+t/LSkkKm8mCPnC5kNkc6Fkjuhs1y8KJvoOxktyxtaZeHevq9LcnCXEhSYlFMMIZhpIW7E/r5QTl5pM8bFpsi7au75cQlMpC10tayRnaeGvKeCIPSt+V2yd3YIUeG+2X3g+2SW7FDTnmPFhnqk61TczK347AkPfPCPEjSYlFUMMzvGIZhJIW7cinKgMl4yhxZvf2IDOaH5NSONYXfS8hl6hbpGzopO1dMKyGXcTJjS5/4Xxk3LA9mgj3NFVzMwVAHW6psGEZSuCuXInkZOnNU9nSslvaW22Rj7/uZylzIGphYd2HlFnWgLoZhGEngllzyp+XID/9Vfnj4tG9ZcYGLB2TzDSNZx8UMzbkwFMVciysgl//8z//0fjMMw4gPx+TyjuxcNUMmrilIwmeX/O/3yPrrJsmC59+QyxlaLebaUBRisezFMIwkcGxY7JL096yX9pY5snLrLuk91Cd9vbvkG3yOZfp62d1/qfCcbHzOhUDORHrF5E/IS0unSa5lsizu+o2XuelKOeadlvvEeKHQBvcVtuVk9qYDhRapHOTC18YYhmHEiXtzLvk/yrGXvyR3T80VgidBdZLcvGqr7M7YJ/Sf3ry5yrkWFcY4uf6xfTIy6Hd1W65lrmzYd6a4VTO8UdsqhJVrtjTZMIy4cXxC3z0QRiXSqH6FWF7+fLhTbkMks7dKX3G+6H3Zs2625O5YKHdPniAfe/boyGKE872ycXLheePXye7T1a1900/vG4ZhxInJpUqYpCeTIECXmk+pOYCfPyCbP0TGdp9sP35BZPiwdN6Yk2lf/Y7846LJ0rZqh/QXnDN87Fn5WKEObUu75Z2r6VrFUH/7ckvDMOLE5FIlKhctDH8FAzVzGrWtEjsj+x6bW9jvbHl0z/veCrcpsrT7kOx/8hbJTX5Kes9fHPmKnBZvgYP3ymqgbvaZF8Mw4sTkUiVBuWhhu34Cn/9TqmdYBvZ8XiYW9jdt08/k91e+U+0PnlDIaE56Ahr5OpxaQIi2JNkwjDipSy5hQbaZC/MsBO3a5SKS798hq1mosOg7sue7yyU3/vOyZ2DY+061Qkbzwz3y7EcnSO5DT8vB8zWMiRWop36GYRiVYJlLlRCUw8RCiUIucvkN2X7nJMldt0Qe+vQcyd35vBxn7Gtgjzw6Pidz164tyufqirLq6X7xRfnWM894vxmGYUSPyaVKSsmF7fUPi8EHcuzZRVf2O+XJ3pHPsah0ittH5mRqZcNjj8k9d99d3BefxWF5MlK0SX7DMKLC5FIlQblEO6EPebnYt1XmFPfPZP5vvc/vDEgvk/psH/X3bqpHJ/SRIT85J86DzIvC42zT5xiGYVSLyaVKVC70+CNfiqzo51hGTdp7f0gNuehQWQ1QZ/ZRKkthO1mM/pkAPVc+eMl2zs0wDGMsTC5VQoCt5EOU5QJ4mjz80EMy+bpJJcUYBs/lnMlukCbnptkNWZplN4ZhBDG5xASBuLqvf0kGMpK/e+SR4vAX/69FDEgTqfB6JINskA7ZDedcjbgMw2hMTC4xQYZT1RdXJgQSQAwIAjHwexQyYLgMsSAYf3aDgPR4hmE0DyaXGCE7cKkXT5An8PtBCPVkMaVgXxyPoTMkwzE4NhmdLhYwDKNxMbnEiAZWVyCTIqMKEnUWUwqyG45PduNfLIDYbLGAYTQWJpcYofdOwKYHnzb/d/t2mXr9DWWzk7iymFJwDGSGhG0ptGE0FiaXmEEsBMw05xzICObddJN88r6/HTOTSiqLKQXHJ4tBcP7sRhcLWHZjGNnA5JIAGijT6IVzTI5NJqD/J1CPRdJZTDmQHPWxpdCGkR1MLglBMExaMGEyqUYw/izGpYyBeiEVxEf9dCm0Lv9OI+MyDGM0JpeE0KCelGD0eATf4PGqEQxoFkOm4CrIj3pyTv7sBgEhojSHJQ2jGTG5JAhBXYNfnJkA++YY5eRRrWA0i+E1WZj34PyQCkKk3rpYwJZCG0YymFxSgB42PWudB4kK9sU+CaIcYyx4/lgSCpKFLKYUSNGWQhtGMphcUoJApj1qAnY9kvFLhX1WMwREPSqVkZK1LKYUtBsZDG1nS6ENI1pMLilDAFPJ0KOudPUTz+G5vEbnF2od6lHB0HuvhixnMaVAnLYU2jDqx+TiCAQ1gheSIKAxXMX/CXIEb4qujvJPWPOaajKVUtQqGF5H8M16FlMOpE0721Jow6gck4ujEKh1yMZf2BZXEK9VMEDdCLr8bHSQOVJR2WtnwJZCR4sOW+rCDC3axlF0qoz4MLkYo6hHMLy20bOYUnC+BD2Gz/zZDQIiOFogrAwd6vW3oWaJWnicbbxPKUid96tlkG5hcjGugRucG5uftUAAaJYsphTa66YNgoGQbZbdXIW2ok0QCgUhV9o5QdqIhXblPYd4TORuYHIxQuGGJRjWmoE0cxZTCtqBdiUA0i4EQ34STNnejO1Etsf7DAHXK1ykQluyP9rYzUwmL38+3Cm3tayRnaeGvG1wWc7ue0KuL7wneF9cLdNk5Y6T3nPyMtT/mnSuulXaio+1y90bXpZjg8Pe425hcjFKUq9gwLKY8mh2Q8+bttZAq9lNow71IALOk0wl6iyOfWt71pp9x0J+UE72/VA6V8wp3BNBuVyUt7uWS27mGun8wdUhwJ07XpHeE38aecqlY7J90RRpm/+EdO9/XQ6+2iErp0+QWRv2ykB+5CkuYXIxyhKFYHitZTGVocM8/sUCtBs9cXr5jdB+nAPvKc4xTnkiFo7jRMdmqE+2TvVnJEG5DErfltslt2KHnPK2jOaynOv9isxqWSidhwe9bUNyumedTGxdIV0nLnrb3MHkYoxJFIIBbnLLYqqHnj1ioTfun+imHQmgWcpu9L3EzyTQjg1ydoMhObVjTYhcTsrOFdNkxpa+wjPCOC9HOhZI7obNcvDi1TQlf7Jblra0y0M9/d4WdzC5GBWhY+P1CkZvdstiaofsBqkgF81ukA7y4TpFPcwUFVxv6pqUWBTk645gSshl+LB03jhBZnx8gcyfmiu2U9tNy2XzrjdksOiSftn9YPu1mU0xI8rJ3I7D4trMi8nFqBhuTgQTRU/ZsphoIXAjFq6RP7th6AkRIaQ04fhJZixB0j7+VUrI5ew+2XBdTmbcs1G69h6QvgM/ke5Ny6S9Za480nNS8l5mEy6XcWUynvQwuRhVQfCiFxiFYCyLiQ+ujy4WQDIEVgrZDduiyG7YV6XXTUWXJpwzbZCuaEvIZeiMHO87Kif9K7/yJ+SlpQWhLOqSt/OWuRhNQJSCActikgER0HPX60eb85Ogz/ZqBa/CGmtFFvsmm4rq/VIPulAiPUrNuYThTfJP3SJ9QzbnYjQJUQvGsph00OxGl+5SCL6a3ZS6vlwj5KSl3HBTHMuNa4Xz4RzTq0+YXIZlYM/nZWLrMtn+5nlvW4Gh49K1ZJpMXLdHBmy1mNFMRC0YsCwmXRgyQhTaw9fshmvtXwrNc/xyoYQJhm3pZgrXojJNh/DMJT+wVx6fOUHal2ySbv+cS+tCefrAGSnmKvY5F6OZIHBELRjLYtyCXn5wKfSdn/jEKLFoCc6rcA3LZTXlycvQ6V/Irs4n5DML50pbS05mfHypPLrpn+WnJ86NBNwa4L1KXdOZeyk1LDYsg8e+Lxvvm+d9+n6ctM27Xzr3v1t4hWKf0DeaCG5U7dlGjWUxbkJQvnfx4uK1CSv6XuB5/F5bx6MQbI9+V1ZPH1mWe01p/Rt5aq8/8FYHokSYzQTXZaz5sSgxuRh1E6dgLItxD+35lytkK5Sah58++Ll03jG5sK8JcvOjL0hf//lCv73Qc//Dcfn3LUtlIseZvl5291/yXlAdddUto+gwJz+TuJdMLkYkxCkYsCzGHRgm84uEwiQ5156grZkKQ2S1Xa+8nD/wtMxm3zOflH0DgWEfb+6BL3Vc1n2ipuExgitDfM2EykUL16e2rLIyTC5GZMQtGMti3EBFr0IpNdRCMKttGOaCHH/+vuIxpjzZK771Ux7elzwWHr/+sX1y1ttaLby+mQjKhcI1jGt40ORiRErcggHLYtIFYVSylJdgVtuSX+/zHYVrHP7Jc50ULwTIkl/0ODYaYK2MfH1Q1B02k4sRObxJ6REFVw5FiT+LSfcT182JzlnwsxS1y8UylzgIy1y0cC2jvo9MLkYsqGDKBZ8oIHuJM7U3wuH6amAqNTxWu1zin3MB6t5MhMmFzllt12hsTC5GbCQlGM1iuHksi0mOYKCi+EXD9ahtzqVAzKvFgPo2E365JHFfmlyMWElKMGBZTLKE9YT95bNr19YxLxbv51x4XzbrarG4V4kpJhcjdpIUjGUx8cMwCgL/X59acW3Q9wrZC9eb61A78XxCH6h/s33OBdEneU+YXIxEIOgTdJIQDFgWEw0qEmSBtLmG/OT3bdu2jRKKFr3GBDJ+T6KXXC2Ixd4b8WJyMRKDoEOwQTRJQGBk6MOymLFBALQXUibwBkVCIA5O/GqHQUtYdsrrk+pQVArnSn3tPREvJhcjUQg0BKGkBEMgYYzZspirBEWiX0ZZTiSl8Isl7JpyvdmvS+h5G/FicjESJ2nBQLNmMaVEQjsg3WpEEgb7QR7lriXHdCV7oT1479VzzkZlmFyMVEhDMI2exYwlEto86vamHTluOTgudRnreUlAO1jWkgwmFyM10hAMNEIWQ72TFkk9UC+G3NKEz9zwfrO5lmQwuRipoplE0oEwS1kMwZDAiEgI0tTZZZGEQXtTb+qaBrRPmsdvRkwuRuroMtc0hk1cy2IaQSSKZlZcW84rrQCvx6UuRnKYXAwnSFMwaWUxYSKh8H+28VhWRAKcD+3HMB3ngRQpyFtJWjB6vLSH5JoRk4vhDGkKBuLMYioRSdTHTALqzHXTOZ+wEgzs/oAf57VGYBynERdvZAGTi+EUaQsmiiyG4ElgazSRlIJrFiYVLWFZCu2sCxFojyihbWlr9k2HwUgHk4vhHGkLBirNYlQkCInnEkwbWSSlKCeYcudP+2g71ztUxrXQetD2ab5/DJOL4SAEBeRCwEmTYBYTJhINjM0kklJs+/u/HyUVCtexEmhX2pK2pn1py0rkQCeAa8Nx9LXNfA1cwuRiOIkKhp5oGvhF8sD9DxQD5cxp0+XLX/pyUSQENesZX0Wv1yfv+9tRcqH9qoF2p32D8g4WjqWP8x6JemjNqB+Ti4Nwo2qPjBvNX9jWLIEtKcGUykiYE6DNae+BgYHi45rFGFcJXicdmqLUG/S5NrR/WDHcxuTiCNwsBC+CGjclQY6bNCgXtvkDIK/hBmxUohYM7Ywcgu3oF0k5cfM4z+e1NvxS+voga9q2XFsajY3JJWV0rLkWUfiFRGFfjUitgvGLhNdXK5JS8BrLYsa+LrSv0bw4KZf84Buya9NymddKap2TGQu/JC8f+6Nc+ctzQ+/K/o775eZSjxf+N9T/mnSuulXaCgEl19Iud294WY4NDnuPp49/lUwU48V+STXiTU0gI5iXC2RBkWjgq0ck5WCfeg2bLYsZSyyG4Z5c8qeld+N8yU1fJd94Zb/0HdgtnSvmSG7e/5aDg5cLTzgvx59fJm2tC+TxF3969fGZT8q+AU8el47J9kVTpG3+E9K9/3U5+GqHrJw+QWZt2CsD9fxt1AjgpuSGJFDGkWmwT101E3UwTRuyOs6tu7u7pEjYnqRcaeNmy2JMLEYlOCaXfMEL/yh3tsyWR3re9TKRwrY3t8vi1ttk84GzIuf2y8aZk+S2jl/In4uP46MeeXj8FLm369dyufDvXO9XZFbLQuk8POg9Y0hO96yTia0rpOvERW9b8tC75aakpxtn4GffHINjZVkw1D0sI5nU9hfyufXrExdJOZolizGxGJXimFwuyttdyyV33ROy7yxZyrUMH+6QuS2eaJT8b+WlJYVM5cEeOV3IbI50LJDcDZvl4EXfQNnJblna0i4P9fR7W5JFe91J3pQakLMgGBUJQ1j6ye1SGYm2pWtzTJxDI2cxJhajGhyTy4D0PnmL5BY+Jc9u+p8yozhf4p9TGS5kIGulrWWN7Dw15L0GBqVvy+2Su7FDjgz3y+4H2yW3Yoec8h4tMtQnW6fmZG7H4cJekoWbkmCZxk3pomCqEUkpXBUMaBbDubnU7vVgYjGqxTG5nJSdK6YVhdK+5GnZsf916evdJd9gTmX6etnd/4Gc2rGm8HgJuUzdIn1D3j5C5TJOZmzpE/8rkyDtm5JjM1yTBqVEQn3o5SOHsURSCpcFw3lrFpP1D/iZWIxacFMurZ+Wl97RGRWRfP8O+fT4ybK46w15P2OZC0GVGzNNNDjEPVRTiUgQQpQQuDmGqwE861mMicWoFcfkclYObrrNy0C8TeDLOi5maM6FiV0CX9QBtRYIcvSio5psZj8E9CRFUgqOxbm50M5hEKCzmMWYWIx6cEwuuqprlXSduOBtK4jhnW5Z1jpDVu94R/IZWi3GTUlQcQXqU0ug8IsEeRAk0xJJKVwXDGQpi1GxUFyvq+EmjsmlwAc/l847plw75zLva9Jb/BxLNj7nolmLSzdmJXUKEwnFJZGUIguCoe0RPPV0NYsxsRhR4J5cJPjp+pzMuOcrsuvNs4VHPDLwCX0CcS1ZwlDfFm+VXKGM/7zsUWHCwB55dLz3WMvtsrVPM7PKodescy/lRMI2HuM5WSILggHalnq6lsWYWIyocFAubkPQRRpj3XjcnLX0TEfJpeUW2dg74D2Sl4t9W2XOlcdqkwvB9+GHHmoIkZQCeWZBMLyHkAt1reW9EjUmFiNKTC5VQiAmuBMQSq2+4sbkObVwRS6LVsjK2ZNlwfNvyMjHSb0PmM5eIisXTalZLlq3RhFJKegAML+RhSDpShZjYjGixORSJSoXLQSw4Oc0+J2MoBauyGXFN+TZdbOlbdUO6S+O970vewq/T1zXId8ufhaoNrlAWJ0bEQSTlWBJHdPMYrLUVkY2MLlUSVAuWpCJZgNkNLXMt8BVuXxPeslUJj8lvecLdrl4SLbOniKLu34iP6hTLtS1GeQCWQuaaWQxJhYjDuqSS1iQbfaCfLTUwlW57JDfHtgs01oWybPHPpDLx5+XBS13FIRy1PsWg9rl8u1/+Af51LJlRQm6Pi8RBVkLntQzqSzGxGLEhWUuVVIqc6FoRhCVXE4VV4dNkaXdb8nv93xeJhZXj/22brl0v/hiMXgRWBgi055yI8smi0E07izGxGLEicmlSsLkQoBmFZYSmVwuvyHb75wk1z/2svyIby5Y1CVv5/X712qXC0HFvxiB4Tzq3+iyIZBmLZhS1ziyGBOLETcmlyoJyoXfgzcogZqAUAuj5KJfhzNvsXzyY5NlzpZDcvHKl3vWJheCymceeKDsnEujyobrREDlvLJGlFmMicVIApNLlahcuMlLLeclcHPz1sJoueifGEBks+XRPe8XnlGfXBDExPET5JvbvllxcGkk2WRZMNSddq8nizGxGElhcqkSbupKVlohoFpu4NFyEW8iH7ks974XrT65IIq5c+YU54cQRS2rxoKy4VzZH+KtZX9Jk2XBQK1ZjInFSBKTS0xwExOAXYNsg6Ck/ydI1fvlmlmUTdYFQ/2ryWJMLEbSmFxigsBNgHWNoPQQA/Vke1RDXFmRTdYFA5VkMSYWIw1MLjHBjcxNT6B1BQI7dQoLMjqXxM+ocVk2CJU2ieO8k4LrWSqLMbEYaWFyiRGGm3QIygU0oJeCQEsgijKLCcM12ahg/BldFglmMSYWI01MLjHCTc3N7sJQkAaeSgINQT6uLCYMF2TTKILh+iKXqdffIPcuXmxiMVLD5BIz1QT1uCB4U4fgkEk5kspiwkhLNo0iGNoNscy76aayczGGEScmlwRIc3iCY3LsWleEEdAJuCxQSIskZZN1wfjfa5RSczGGETcml4TghufGTxIVC4G4HjSLYT8E+rSJWzbsg31mTTClOjHBuRjDSAKTS0JooA+7+eMg6uOxD7KftLOYMOKQDftjP0kPCdZKKbEobLcsxkgSk0uCcINrAIxz7oB9E0Q4VtSwb+rvShYTRlSyYR+0o+uC0fOspBOhWQwdhUqebxi1YnJJAf8n46O8wVVe7DvOIR2O42oWEwb1JahSZ3r31cjGdcHo9a6mfrQHWUzcnRyjuTG5pAS9aw0MBL16sgBeq8GefSaVUfizmCglGTfVysZVwdQiFj+WxRhxYnJJGb9kCHRkApX0JnkOwZDXJC0VPwQlFVtWx/IrkY1rgqlXLArnblmMEQcmF0fgJieAETR0nkCzAn/RxwiCPJeg6EKvk8BEsGuEFUmlZPPZtWvlxg99OBWJ+4lKLH4sizGixuTiMAQPgra/uNJzDoOg1Igrkvyy+ehHPlKUzefWr696gUAUcMyoxaJwntqBSfq8wiCLf/rpp0d1rvyFx9/6zW+8ZxuuYXIxIkd7wY2QxYSx7e+3FT8B/9xzz5UcRouDpIbm4lpwMhYDAwNFmdzyV39VbNO/nDFTPnnf314jFcqDD3zmyvMmXzep+PuhQ4e8PRkuYHIxYqFRsxiFoSnEwnlSNLOJSzZJz/kw9Mc5JJHFkH0gEdrtr++4U/7x2WeLoqkUZIhcJrS2FoXD6430MbkYsaJZDMG40bIYv2D8RC2bNBcTVJrF1NKBQCBIgfZBLlEMcSEWMhkk404mo389lr8oG1KKf3X2spzd94Rcf83j02TljpPefvIy1P+adK661fvT5+1y94aX5djgsPe4W5hcjNghKDXqiiTOK0wwfuqRjQur1MbKYnQeqFwbBCHwqwTimDehvrQzw2zp8yd5u/eVYjv5S/eWVdLeMkdWdx2TC3JR3u5aLrmZa6TzB/7nvSK9J/40sptLx2T7oinSNv8J6d7/uhx8tUNWTp8gszbslYH8yFNcwuRiJIYGyqTH8uOE80AYBLNKqVQ2LojFT1gWQ920l039K4HsIonArwIjK3KOS7+Wl1bPlVmP9kj/EGYYlL4tt3tZTBiX5VzvV2RWy0LpPDzobRuS0z3rZGLrCuk6cdHb5g4mFyNRkhzLTwoVDMNktRAmm08tWy4zp02X/fv3e89yg+D10/pSEM9YIBbmRpIasmLojYUBlGrmceLlkvT3rJf28Wvkpd9d8LaNDJ3N2NJXUEYY5+VIxwLJ3bBZDl68mqbkT3bL0pZ2eain39viDiYXIxXSWpEUF/UKxs++ffvkw385S765bVvZzCZNuH4zp107j0C2VYqkxaKoYFzJYPIDe+XxmdNk8fPHCprxGD4snTdOkBkfXyDzp+aKbdl203LZvOsNGSy6pF92P9h+bWYz1CdbC8+f23FYXJt5MbkYqdFoWUwUggkbCgvLbNKWjX84zF+4lmEgFB5HSmmggqHd0uW8HH9+mbSNXye7T/tylLP7ZMN1OZlxz0bp2ntA+g78RLo3LZP2lrnySM9JyeuigFC5jCuT8aSHycVIHc1iKh2zd5l6BFPpHIsLstHjhpWw7MWFwI7g0sicRnH+gGz+0ASZvelAQTM+hs7I8b6jctK/8it/Ql5aWhDKoi55O2+Zi2HUhGYxBC1XJrBrheCPJKoRTD2T90nLhv0GheIvweyFurAqzAWoC6JLB11ufLtsPvAHb1s5vEn+qVukb8jmXAyjLjRwZT2LQRLIotwchFKPWMIYSzY8Xg9Ik/1poe5+uVD0vBmOIltIazgsDFaQpfNByzOy77G5kvvQ03LwvH/t8LAM7Pm8TGxdJtvf9OUzQ8ela8k0mbhujwzYajHDqB+CLEEx61lMJYKJWixhhMmGn/zO9lplw+vDzg2B6fno17m4BGJJJXs53ysbJ4/zZDGakUn+CdK+ZJN0++dcWhfK0wfOSFFF9jkXw4iGRshiygkmCbGEEZVs9LXl5EmW0N3d7f1WPZf/8HN5YcN9cuvUCTK+cKzcf58kcz7xoGx77b1CX742NJtK+ksv8ye6ZHHLJFnw/BshdR+WwWPfl433zfM+fT9O2ubdL5373/VN1Nsn9A0jMgi8BDFK0kE4KsIEk5ZYwqhFNmzjeVrCBKMT6LVy+dT35dPTWkcd52r5C5n/zC9rFgzLkt349H5y8G0SSXbUTC5GJuCmIBi7NHZfDX7BuCSWMCqRDT+DAT8oGII3X0RZG+/Lvy39HyP7Hn+rfPHlo/LHy5flwqmfyXPLZo5kMeNul394r7YFuAyNuTZcFzfMj9GeLLjg+sWNycXIDARjghw3CavLsgbBl5ubPzjmqljCCJPN7R/7+EjgDxS/YPhSSq5VTZz5J7lzHPvMya3fODo6Qxn8sTy16C65+65lsvm1P3obq6PerCqLqFy08Huc70OTi5EpCHQEuSxmMQTeWe3tMmf27EzJJQjXgL9n4w9U/qKCITOo9RoN/XiVXFfc363yjXfj+XggdW0mgnLRwuo/rmnUmFyMTMKKJNL7rGQxmrVQb/7v8rDYWBCIggEqWJBKPXK50HWXN/R1l7ygX78VMWH1btbC+zHqoTKTi5FZspLFqFi0Rw9ZFkzYfAuFITPmxvScLHNxi1KZC+9DrlvU2YvJxcg8/iwmjvS+HsLEomRVMAhdgxJDKpxHWLvXIxc58y35eDH4jZfbv3V89JzLmS5ZNmOazJh6mzz22llvY/VwDs1EmFxYQRZX5m9yMRoCfxaTxEqYSignFoXgmzXBsNLqm9u+OWadkUvtn4Q/KS/c9RcjQXD8x+XJV/6ft1psr2z6mLf9utWy53yti5GbWy5kmXTK4sTkYjQU3DAEa3pkaWYxlYhFofdP5uVa1lUKPTcK9UbqYaIhmFFq5fJ735Pl15f4nMu4v5Q1r/6X98zqQerpfcdYOnAtuDcqeU9GgcnFaDgI0sglrSyGQEsArOYmRjD0JrMgGD2/YAmKhk/m1xvAL//XT2XbZ/5a5kz0JFP8hP5D8u3Xz9T8AUrgMzhO/oXKGOFeSPL9ZXIxGhZupqSzGAJrrb3DLAkmKJZgYYKYr1nh//x0DaSXzpdXNg8mF6OhSTKLqUcsiuuC4Rw5vzs/8YlrhKLFf/58Qt+1r1nhO8Wop4vSayRMLkZToFkMwTuOwB2FWBRXBKMiYahLJ4MZ+kLWn127dpRQKGHnz9AYX17pEgyHNduQWBqYXIymQbMYAmSUK2WiFIuCXChJUU4kDHHRXn7Z8dygWNhHGMjFlexFs5akvxG5GTG5GE0HgZFgSCCtNzuIQyxAvZALWUzU8LkGMjm/SDgH/h8mkjA4bxULEiolFmBlFt/j5cIwFMN0fOeZET8mF6Mp0T+rXE8WE5dYlCgEoyJBGpwv9fWLhMdq/RAdYql0+I5hKD73kiZkT2RRNteSDCYXo6nRDzFWm8XELRalGsHEKZIw2GelbUZAZ4VWWnMdfAsyMuSnkQwmF6PpqTaLSUosSphg2EZd/SIhePJ/RBm1SErBcTimFq2Hv7CN+jLPwfBY0oLRr9e3pcfJYnIxDA/NYgjYpUhaLEBg/uWRX8ot8/5KFt19T1GCfpFQl3JzHnFC3bQ+pYq/PTXQJyUYVquZWNLB5GIYPjSLIVMIBuwkxOLPSHRlGwGaOvF9Xvw9mOf+6Z+8Z7sB9Q0KRYtmLX50iIwS56otJu4RSz1/w9+oHZOLYYRAcCc4aq87LrEQmMmY/CLRIbCwjCQJwdUC9fdLRUu5emrwR5xRTrLTnkzcs4DAlhynh8nFMEpAICfQL1u6tPjXI+sN6CoSxMF+Cb4qErbzeCW4Jhjqfc9dd8mkNu/bir2CLMeCYTIkoJKpRwYMfbEvxGLDYOljcjGMMhDIZ06bXgyW5eZigkQlklK4IBiGuzgf6sE5UfxyqaZuvJZ5GF6HIFg2zLZyICYkwuuQk31fmFuYXAyjBP4ArlkMhf/74Xee4xcJvXaGiqIQSSnSFAzH5Nico39VGtmHnn8tMDymwkAWKiqEo4XMhG381O8us+Ev9zC5GEYIpQI3k+lMqn/xC18YFUgJsmQ2iCQ4gR0nHI86JCUY/7JtliEHod2oT5RCRTiaGVHssyrZwOTiINyg+mG4sMJjPMeIBxXLrl27ikHb/zUpBNUNjz0md3ziE/KZBx6Q9957z3tVemgWEfd7gvcebTDWB07jytSMbGFycQSEoePXBDCCWVAqWniM51F4TVgP0qgOeuS04ze3bZPJ111XDKK0r16HYEbC/wmyPGesuYEkiFMwnDvvybAhQcMoheNyGZSjzy6RtpY1svPUkLetwNC7sr/jfrm5lfHYnMxY+CV5+dgfJe89LIX/DfW/Jp2rbi28lue0y90bXpZjg8Pe425AgCJwERS4cQlS1Xyqmhud13DjU9hXkkMyWUVFEhT1ww89VJy8/9pXv1rxddDAy36quXZxELVgeC/5J+wNoxoclsuwnDu0Te4sCsQvl/Ny/Pll0ta6QB5/8afSd2C3dK6YI7mZT8q+AU8el47J9kVTpG3+E9K9/3U5+GqHrJw+QWZt2CsDVw2UKhoICEpRDCOwD/ZFoLNM5iqlRML/2cZjPIeAzHaCabW4lMVEJRjdT3DC3jAqxVm55Af+Q56e3y7zbmofLZdz+2XjzElyW8cv5M8jWyR/ukceHj9F7u36tVwu/DvX+xWZ1bJQOg8Pes8YktM962Ri6wrpOnHR25YOBCJuWCQQhVSCECzZN8dotiyG86VN/SJheIv/E/xVJEHqEYsffxaTZtvXIxjah/pbJ8WoFzflkj8l+x6fL+1ruuXAiw+Mksvw4Q6Z23KbbD5wtvh7kfxv5aUlhUzlwR45XchsjnQskNwNm+XgRd9A2cluWdrSLg/19HtbkoebPYnArwJr5DFyv0hU1n6REGArOfeoxKJQL81i0gzOOpxVTdZBW1YyYW8YleCgXC7IOzvWSfv0dbLznUE5tWONTy7DhQxk7bVzMDIofVtul9yNHXJkuF92P1jIdlbskFPeo0WG+mTr1JzM7Thc2EvyaBDjBk4KDTBZF0xUIgkStVj8UF/2nWYGyXnRwRjr+Jpx2YS9ESWOySUvl050y6en3yqf29PPtHxALsHfFU8uU7dI39BJ2bliWgm5jJMZW/oKe0kWeo8EGoJg0hCQOXaWeqIEO+Yu/CIh8NUjkiC0B/uMQywKx+AcaP+0sphygmGbdkBswt6IGrfkcuGobF/SLrPWvyqniyNaQZlkL3NJIoiNhQYYF1GRaB1VJPzOdh6PmqSvCWJJM4vRtvUfW+dlqJNN2Btx4JZcTu2QlYXgQoAJK2QdFzM250Jvm+GbtCG4JDkkF0YaIgmSluw5bppZjLY5H/q0CXsjCdySy9AZOd7XJ31XyuuyZ8u9hSB0r2zd87ocOTko+QytFmP4hgDqQs8w6bpwPHrHfpEQ0JIUSZC0xOJHsxjqkHQW86nly4vX4bnnnkv82Ebz4eCEvp+wOZbsfM6FHmLa2YIfAlocgVVFolmaioSeOuePSNIOZi6IRaEutA1tlIRkOQbHWr1qVfHPB3Bsw4ibDMqlQIqf0K80SOokvks9ROpUb/aSBZEEcUksfnTeg7aMo83YJ+fMMcgWdZuLbWE0Ho7LxT0IoARVgmw5CBi13cDe4gSkOO9r0qvZWBFvJVzL7bK1T4f8qgMJaKAZCyTEMI5fJAQql0USxPVgShvTtlFnMeUm7E0wRhKYXKqEoFoM/IXCzVkquBIsapsw9cmlZYosevaIXPAeiUIu1InAEkRFovIkMFH4P9t4rJ6MJw2yFEQRPu1dbxbjl1W5958Jxogbk0uV+OVCISAEMwFucB6rDb9cCmX8Gnnpd6qX+uVCUGG/jSaSIFkMnn4x1JLF6HuzUkGZYIw4MblUSVAuWvwBgZ8EidpQuUyWhWsflkWtOd9ChPrlAgSUB+5/oGFEEiTrQVOzGK5PJfB+4/3HOY81XBuEa8+xTDBG1NQll7Ag2+xF5yNqv1lVLtNk5Y5D0rtxfuH/Cwoy4XM90cgF8UU5vu8SjdIbJ+iPdAJKC4Nz5TzDsudqYP/sg3kaw4gKy1yqpFTmQuFG54bnOZX2Oq/FL5eTku9/RR6ZnpO2Rdvl+KV3IpELwya1189dGnGYR99vwetVbsK+FkwwRtSYXKpEb3Z/CWYCPKf24D1aLoWQKW91rZaJLXPlkZ5e+UEEcqmvfm7SiGJRCPyaxfzqV7+6Mi9TbsK+FkwwRpSYXKrELxdu8LAbMVq5FPjg59J5x2TJzbxT7v7opLrlQgD+l+99rxikqGfWh8gaWSx+uF687z67dm3xnOPABGNEhcmlSgjG3Hz8LHWDc2MyXFEbIXKRYRnY96TM8qQWxZzLL3/5y2I9GSIjMGsGxu/0iOMKXlHTDGLxT9gfOnSo+JOCCOLABGNEgcmlSrjRxxrj5jnc/LURJpcC+d/JztXtkciFwBEMTARp//JkjqNBmyDj4oqyRhcL58e5cb2CE/bayalnIr8cXHPeA1nPao30MLnEBDdmbb3/EnLhb928uV0WF7/ypna56NLTSiCwqGx4Db1ngh0BLa5ec6U0ulgI7rR5uQl7rgHXhOsTh/y1DmlfayObmFxighvexWEFxFDrkB1BRl9P0NHgx7Yke7iNLBYkwXun0gl72oKhTK5FHFmMCcaoFZNLTHBTEiRcg6AclfQIhOyLIE8w1Hkbsp24ZKNiodSWGboL7UYbVvoJez+0d1xZjAnGqAWTS0wQHLghXRqzpi7UKS4IavS2/YsE+BnVIoFGFQvXRc+rngBOm8SVxZhgjGoxucSIzle4gmYVSUGwI3BqO6hsyHQIVtX0sBtRLHHJQLMYhiyjbCuuownGqBSTS4xwY3MzVjJ2HjcELwJO2oFZZaPzNhoEqV+poEWdG00svCc4f8496mEsoJ1UXFG+/+gYNNJ1MOLD5BIzGkTiCCCVQtCmDgR216BuiIUgi2g04CIgrW8jiYX3AVkc55pEp8MvsajazwRjVILJJQF0DiKNm5FjcmzqkAUIvsFFAjd++MPS/eKLRdlkOaDpsBLXIsnz4FjIhWNHJTQTjDEWJpeE4OZO+mbkWByTQJBFqDd/9/3gwYNXBB31IoEkQIrUmZLmfEXUWYwJxiiHySUhuAGTFAwZAMfKslhKtZXO2+giATIcnl/tIoG4oe5IkIAe9eqtWtH3YVRZjAnGKIXJJWG4GaMcnghDe6hZGQoLUm3AQjY6b8N5U/h/uUUCcePPElwSnuJ/j9QrBq4VxTD8mFxSIK7Aw76i7JWmQRQ9YV0kwL50kYAuw9ZFAnHBNUhywr4eNIuhrvW0C/vhmtHeQdhGRmk0HyaXlOCG5MZjWIef9fSwea3uK4qeaFpwDvWKJQwCvi4SYP+0k8oGAUR1vLQm7OsFEddbb14XFIy+J/3bjObB5JIyBD5uam5uepD8n15kuZucxwiKPFd75vw/yiwoaeISSxj+9lPZ8JPf2V5tO3K9eD0lzQn7evBnXLVmMX7BqFi0bY3mw+TiEBrwdKKawv+1cJP6t/PcuId5kiBJsZSCdiy1SKCUMKgv1wC5uzJhXy/1ZjEDAwPFpeP6PtVS7b50aFOvSbBwbZIY5jRqx+TiMNyQ3Dz+0mi4IJYwNLjpHBaF/7ONx+gI6LYsZ4xh+LOYajIxrqG/A+QvtNdY8P7m/UC7cmzaVocug/cB1wEB6vF4rs3tuIXJxUgNV8USBkGW4PX1//N1mTltejGgrVq5sqF7z5rFcI5jUU4sFERQCtpPZcbzqhEacGyuDcfX+rr3njoj+x6bG9I2a2TnqaHC45fl7L4n5PprHvf/Xae8DPW/Jp2rbpW24mPtcveGl+XY4LD3uFuYXIxUyJJYFIIWwYsA+N577xUDmr/3TIDkd3raWTqvcpDFcH6UUkGfc/30qlW+gHht4fVB/BlSVFmHiorrVEm2lBj530jXoiky68Fvyg8K7yPeS8Wy6z/k7Qv5whMuyttdyyU3c410/sD3+I5XpPfEn0b2cemYbC/so23+E9K9/3U5+GqHrJw+QWZt2CsD7MIxTC5G4mRNLASsSgIswQy5ENw0oPI7gTPrQ2cEOs6Jn0E4Rx576ze/uTKUqFLxF//1pk1U1HG8D7gW7J/3mhPvs6E+2To1+Ndl/Xh/gXbFDjnlbRnNZTnX+xWZ1bJQOg/rX6EdktM962Ri6wrpOnHR2+YOJhcjUbIkFupI8CNIETSrBSkRjLUnrYsEdN4ma1DnoGQ5R5UH56bQdgR4tnHePK6ZhLYpr40T6kDbO/F+O7VDVpb98+QnZeeKaTJjS19BGWGclyMdCyR3w2Y5ePFqmpI/2S1LW9rloZ5+b4s7mFyMxMiSWLTnG+WEPQFZe/bsW/fPtrgDbZRoFsOXiao4KJxPqWvLuXOO+h5IUq4uvO+GD3fI3JYZMn/hx2RGsb0mybwlm2XXm2elqIrhw9J54wSZ8fEFMn9qrtiebTctl8273pDB4hP6ZfeD7ddmNsWMKCdzOw6LazMvJhcjEbIiFv88gPa044JjMTzk791zbIK367JBDh/9yEeuiEVL2LCZwmOcZxrvgXTffzpZ3y6Lnvxn2XfgkBzc+y+yeclsyU1fL7v7L0nhCbLhupzMuGejdO09IH0HfiLdm5ZJe8tceaTnZEFAI5lNuFzGlcl40sPkYsROVsRC8KP3Hdc8wFggG4TG8WkvgjU/+Z3tLrUf9QmKhVIqe9FMMMmMJQji5r2YPHkZOvNr+fmRk14WMkL+nW5Z1jpZFnf9RvJDZ+R431E56V/5lT8hLy0tCGVRl7ydt8zFMEaRBbGQJVBHSprBLwhtRlBGegRGgjd1pE3TXCRAvRBFUCxagtmLPp9zSRNX6nGFMbMOb5J/6hbpG7I5F8O4AkGwVE/WBahXPRP2aYAICd46b8Mwk87bJCVGjhcmFS3Ba04b8xoXQMq0WbK8L3vWzZa2Rdvl+CUVQyGbOfGCLG2dLY/u6ZeBPZ+Xia3LZPub573HCwwdl64l02Tiuj0yYKvFDGMEFYtLmYAfHaYh6KWVAUQB7auLBAiaek4IKK55G/athWORVWlRwfAY0Lb87lIbU08kkxzDMrDvyYIYZsvSTf8yas6lbf7X5cDAsOQH9srjMydI+5JN0u2fc2ldKE8fODMy6W+fczGaHZfFQpAjuBCInRkeiRDOr9wigaSzSLIW6uISqWQv+T/KsZefkk/eNMkT8CS5edUzsr9fM45hGTz2fdl43zzv0/fjpG3e/dK5/13fkJl9Qt9oYlwWCwGWuhHwXB2qixrOE4lyzszXELT4ye9sr6cd2MdY2RFBvLYMylsd5QXa8KJfnVI91MvVrDouks4eTS5GZLgqFoKbixP2aYBMaA9Eq8NYBFquXbWLBDQzKjXERFvXniHEKxfEqEN3zQLXm+uclGRMLkYkMO7vmlgIpAQR6pWVCfs0QDY6b0NbIQT+X26RAAHKH+jDBMProxkSG5JTO9aMHKvk16NUB1kbwbaZ0M4E1xixxp29m1yMuiGwuCaWRpmwTwOuo4oB0dCO/nkboH39cqEEBcPro5F69HJROTYTKhctXFuuY1yYXIy6cE0sBA1uorhvnGaCNuU6Iwudt7nrbxaOClRa/ILhOtQ23xIkerkA+2smgnLRwvY47l+Ti1EzromlGSfs04C2vXfx4tBARaH9IQtysXK1RN0ZM7kYNeGSWAhgNmGfHMglLDj5iy4YsMzFHUplLmT5/owzKkwuRtW4IhabsE+HsPkWii4C0Dkuk4tbBOXCfRPnxL7JxagKV8RCgKMeNmGfPAQkDU7Mw3AtwgIU1yaaHnH0ctHsq5nwy4XrFvd9Y3IxKsYFsdiEfboQlLZt2ya/+tWvvC2lQUI6/1If0ctFh1KbCe4bzjmabHJsTC5GRbggFpuwTx+yEe39Eqj8w2BBogvg0cuF9xKibCaSkopicjHGJG2xaJCipD0c1+zokFiwqGiC14fHXBy2pL6W+caLycUoS5pisQl790D0QbH4C9fKLxOyA4TkEryXqacRLyYXoyRpisUm7N0DsfT09IRKhRL2XuE1bHdpGBPhRTMXZJTD5GKEkpZYbMLeDbjuvAcIwgwhIQ9+EpgXLlhwjVh4rFQngOvpSvaiWYt1WOLH5GJcQ1pisQn7dCDQInLaX5erIneyRraRffivB4IJiqXc9eJ9xPOSfj+FQV1dG6ZrVEwuxijSEItN2CcHEqC9CbDIA4kQ+DW7QDJj9eqZ/1KxsI9KOgLseywJxY1mYUYymFyMKyQtFgKNTdjHC9eStiXbILBqpkG7c71ruda8hv2wz2pAYMgoDdLKxpsZk4tRJOmbzybso4d25DoijuDwFoIhY4kKjlEtdCYQW7VSqhcTSzqYXIxEbz4CIIHPJuzrwz+8RXty/Sj+4a00h6BKoYKhnknUD6maWNLB5NLkIBZ6uEkEeoIeNzq9XhcDn8sgEh3e8s+T6PBWlrI/rr2eR5TZlB+OoXNKJpZ0MLk0MSoWfsYJAYTeKsVu9LGhjbgmiIM24xrpcFLUw1tpwjnS2YhyaBSpWCfGDUwuTUoSYuHG5gbnRicoGtdCUCVrDA5vEXDZhkgaOUBybkiT9yI/axUn7ahSoR0bRcBZxuTShCQhFpuwD4egRxDUIRuug3+epFnbSuVAm/C+QTS8P0vJleyO9tLsTl9jUnEHk0uTEbdYCBIES4JEEvM4LkMA1HmS4PAW7W9DhOFouyFg3ku0W7Dw/vJL2XAPk0sTwU1LDy8useiwRDOOdSNV7UlrQCQAEiAbaZ7EMCrF5NIkxCkWAic9ckoz9MYRpw5vIRLaleLvSTebXA0jSLbkcuGobF8yQ3LjV0vXW/6bNy+X3npBlo3PSfuaHfLOUN7bnk20F0ygCisEtmrG5uMSCwG0GSbsaW8d3vLPk3DutGk118IwmoWMZS4qkXEycekL8tYlTyKXjkvX0oJ0pq+Tne9cGNmWMZAJwSvYCw4WHXbhOQQ6XlNuzDkusXBM9ttoE/a0F21FO+s8ibazDW8ZRuVkcFjsA3mra7VMbJkhy7qOy6Urv98i63t+J0Pes7IAPX+EQfCiELyqGVbiubzG/3o/cYgFkSA3jldOalmA9tcMUYWtwmQbIrHhLcOojWzOuWimMn6VPPfDbxeHw2atf1VOZ2g0jKBGgCaoRdEbZh/+oB+HWAi47JNefRaDLm3EOQSXAXM+tJkNbxlGdGR0Qv/q8BgBIjdzg+w5nY2chaCswS2Onj/7nDtnjtzwPybLvn37vK31QVDO2oQ99USsDGfp8BY/+Z3tWTkPw8gqGZVLgfx7snvNhwpBIyezNx2Q895mlyGgEeCQS5w9f/b95Je/XDxWPb1x9kOvnmwlOOTmEpwjUtX5KJ0n8Q9vGYaRLBmVy7AM9H5Nbm6ZIDOmTpZc6xJ59uig95ib6DAVATApdIFALb10gjWvJUC7NFyE8PzDW9SRglTYRr3jFLdhGJWRSbnkT/+7PDFvgrTd8x052v9TeUr/f8HNSReCMwEwyvmPSkEw9OIrDbjU1T93kzaIhKxJz8M/T2LDW4bhLtmTS75f9qy/xZetDMnpPRtkVstkuXPr63LOQb/oWH9acGzqMBZpT9gjCoQRHN6i/gjGhrcMIztkTC4Xpb/niwWRTJFFzx6RK59ouSKcRfKNQwPikl8IlJUE9jhBFNQBeYSRxoQ9dSIzok6IRIe3/PMkNrxlGNklQ3LJy9A7O+Th6bnQIbD86VflczMLj92xTfrODXtb04UhJnrfLsxZII1gXQjeyI+gHveEvQ5vIY/g8BaScaGNDMOIjoxO6KcHQbDSHrX2wl2B4SUdnotzwl6Ht3Q4DpHwU4e3bJ7EMBofk0uVIAt63mNNzhOwCd4uDe1QJwL9Z9eujWzCnn36h7fYP/v2D28ZhtF8mFyqhIBJANVhnVK9cIZ7NEuojmE5d2ib3NnKMRbI1r6z3va8XDj6HVnE9tb75JnDf6h6bom68uHKL37hCzVJj9cgC9oAeeg8Ce3ANhveMgxDMblUiV8uWpBIMFjXlRnkT0vvxvnFfbct2i7H+YLO/O9k5+r2wrb6VsX96Ec/Kg5RVYLOkwSHtxCnLQM2DKMcJpcqCZMLhR48j4EOP9VDfmCvPD4zV9jPrfL4vn75/b4nZRbHmvc16R2ofcECEgyrG3W2ZcCGYURFXXLRwGrlaiEwE4j5WR+XpL9nvbQX9tk2f5V85m+mFPaPaN6ve6k12ce//eu/FmVIPYPDW9TfpbkiwzCyh2UuVVJJ5sLP2uZbAgy9JS+tYiiMY0T3zc9I5IH7H7BlwIZhxIbJpUrC5BKcc+E5Kpr6GJLTPetkYvE4H5KHe96rO2sBpBJN/QzDMMIxuVSJXy5kAGGT2lHJJX/uZ/L0LROuHK/e+RYlqvoZhmGUwuRSJQTlsT7nEk3wPiuHOxZLW0EqE1d8Vb6+ov6VYopO0huGYcSFyaVKmJ8Ya7Ib8fA5kNrxf6aFL+g8Kx8cfmbksy8R/HkBMi5b/WUYRpyYXGKAwF3pZ0lC0T/j3DJBbt38s5FMJf++7Ntwa3F4bOLSF+QtPvtSIyw+sM+oGIYRJyaXmEACtS3nvSDvdK8ZmcQf9eeb/X/auV1Wd78ltfxhZzIv5GIYhhEnJpeYYFhsrO8fSwP9ZmLDMIw4MbnEBGJhbsM1xlqMYBiGEQUml5hgSIzhJ5cmzqkLcjEMw4gbk0uMsBzZpeyFRQb2+RbDMJLA5BIjZC91fTtyhDDXYlmLYRhJYXKJGcSS9tJfju3aEJ1hGI2NySUB+C4vhqRqW5pcH5o92XCYYRhJYnJJCP2DW0kKhmNxzEi+odkwDKMKTC4JooJJYoiMY5hYDMNIC5NLwjBExvxHnJP8TN5zDBsKMwwjLUwuKaCfN2GZcpR/qItshX2yb5u8NwwjTUwuKcF8CJkFGQZfx1KPDMiCkIpmK2ksHDAMw/BjckkZlQzZBoU5Er6epdy8DI/xHJ6LUHgdQ2EmFcMwXMHk4hBIA9Ho0Jb+BUp+Z3Jef+cxsh2EUk5ChmEYaWFycRyyEYbMbA7FMIwsYXIxDMMwIsfkYhiGYUSOycUwDMOIHJOLYRiGETkmF8MwDCNyTC6GYRhG5JhcDMMwjMgxuRiGYRiRY3IxDMMwIkbk/wMEf8/6DzDSPAAAAABJRU5ErkJggg==)"
      ]
    },
    {
      "cell_type": "markdown",
      "metadata": {
        "id": "CvUgEg9-9DMn"
      },
      "source": [
        "The next step is to convert the diagram into a linear programming model.\n",
        "\n",
        "## Objective Function\n",
        "$\\max(\\text{Gross Revenue}) = \\\\ \n",
        "\\quad (25 \\times WO) + (20 \\times WC) + (18 \\times WT) + \\\\\n",
        "\\quad (25 \\times MO) + (20 \\times MC) + (18 \\times MT) + \\\\\n",
        "\\quad\\quad\\quad\\quad\\quad \\quad \\ \\ \\  (20 \\times NC) + (18 \\times NT) + \\\\\n",
        "\\quad \\ \\ (0 \\times XO) +  \\quad (0 \\times XC) + \\   (0 \\times XT)$ \n",
        "\n",
        "\n",
        "**Thoughts on the objective function:** X variables are virtual supply satisfying real demand! Notice how there is no benefit to using virtual demand - it makes us NO REVENUE! Also notice how I've left out $NO$ because it DOESN'T EXIST! It's impossible to make newspaper out of office paper.\n",
        "\n",
        "Now, we do not want the Gross Revenue - since our process as reduction in flow, the revenue contributions will also be scaled by the yields.\n",
        "\n",
        "For examle, the coefficient for $WO$ becomes $25 \\times 0.85 = 21.25$, the coefficient for $WC$ is $20 \\times 0.9 = 18$. So we update the function.\n",
        "\n",
        "Something like this...\n",
        "\n",
        "$\\max(\\text{Net Revenue}) = \\\\ \n",
        "\\quad (0.85 \\times 25 \\times WO) + (0.90 \\times 20 \\times WC) + (0.95 \\times 18 \\times WT) + \\\\\n",
        "\\quad (0.6 \\times 25 \\times MO) + (0.7 \\times 20 \\times MC) + (0.8 \\times 18 \\times MT) + \\\\\n",
        "\\quad\\quad\\quad\\quad\\quad \\ \\ \\  (0.65 \\times 20 \\times NC) + (0.60 \\times 18 \\times NT) + \\\\\n",
        "\\quad\\quad\\quad 0 \\times XO + \\ 0 \\times XC + \\ 0 \\times XT$ \n",
        "\n",
        "\n",
        "Which becomes...\n",
        "\n",
        "$\\max(\\text{Net Revenue}) = \\\\ \n",
        "\\quad (21.25 \\times WO) + (18 \\times WC) + (17.10 \\times WT) + \\\\\n",
        "\\quad (15 \\times MO) + (14 \\times MC) + (14.40 \\times MT) + \\\\\n",
        "\\quad\\quad\\quad\\quad\\quad \\ \\ \\  (13 \\times NC) + (10.80 \\times NT) + \\\\\n",
        "\\quad \\ \\quad 0 \\times XO + \\ 0 \\times XC + \\ 0 \\times XT$ \n",
        "\n",
        "\n"
      ]
    },
    {
      "cell_type": "markdown",
      "metadata": {
        "id": "CaUAewr5g0dT"
      },
      "source": [
        "## Supply Constraints\n",
        "There are only 300 tons of white paper ($W$) available. We are trying to identify the product mix that will maximize profit. All the white paper we have as raw supply will be transformed into Office paper ($O$), Catalog Paper ($C$) or Tanstock ($T$).\n",
        "* $WO + WC + WT = 300$\n",
        "* $MO + MC + MT = 600$\n",
        "* $NC + NT      = 400$\n",
        "\n",
        "Do you notice how all the supply has POSITIVE SYMBOLS?\n",
        "\n",
        "### Virtual Supply Constraints\n",
        "We will use $X$ to denote our virtual supply, which would have went to Office paper ($O$), Catalog Paper ($C$) or Tanstock ($T$). X denotes the total virtual supply we would have available. It makes sense that this needs to balance to zero (outputs and inputs - we want to use ALL of our virutal supply to meet all of the actual demand that we can't satisfy.)\n",
        "* $XO + XC + XT - X = 0$\n",
        "\n"
      ]
    },
    {
      "cell_type": "markdown",
      "metadata": {
        "id": "WDbQ7ZVmg2Lr"
      },
      "source": [
        "## Demand Constraints \n",
        "We do not want to make more than the demand available for the product. We see that newsprint ($N$) can't be turned into white office paper, so we simply leave this out of the constraint. The actual supply we have along with the virtual supply ($X$) will help us satisfy demand.\n",
        "* $-0.85 \\times WO - 0.6 \\times MO - XO = -150$\n",
        "* $-0.9 \\times WC - 0.7 \\times MC - 0.65 \\times NC - XC = -750$\n",
        "* $-0.95 \\times WT - 0.80 \\times MT - 0.6 \\times NT - XT = -550$\n",
        "\n",
        "Do you notice how all of the demand has NEGATIVE SYMBOLS (coefficients)? This is so the math works out (INPUT + OUTPUT = 0). Everything has balanced perfectly.\n",
        "\n"
      ]
    },
    {
      "cell_type": "markdown",
      "metadata": {
        "id": "uVF14z3tg8KW"
      },
      "source": [
        "# Implementation in Pyomo"
      ]
    },
    {
      "cell_type": "code",
      "metadata": {
        "id": "Mb015HkNMpGJ"
      },
      "source": [
        "# specify the concrete model\n",
        "model = ConcreteModel()\n",
        "\n",
        "# decision variables (this allows us not to type domain=NonNegativeReals over and over again...)\n",
        "model.x = Var([1,2,3,4,5,6,7,8,9,10,11,12], domain=NonNegativeReals)\n",
        "WO = model.x[1] # white paper to office paper\n",
        "WC = model.x[2] # white paper to cardstock\n",
        "WT = model.x[3] # white paper to tanstock\n",
        "MO = model.x[4] # mixed paper to office paper...\n",
        "MC = model.x[5]\n",
        "MT = model.x[6]\n",
        "NC = model.x[7] # remember, no 'NO' because it's impossible to create!\n",
        "NT = model.x[8]\n",
        "XO = model.x[9] # virtual supply to make office paper (to meet unmet demand for office paper)\n",
        "XC = model.x[10] # virtual supply to make card stock paper (to meet unmet demand for card stock paper)\n",
        "XT = model.x[11]\n",
        "X  = model.x[12] # total virtual supply to meet unmet demand\n",
        "\n",
        "# define the objective function (the revenue amounts!)\n",
        "model.OBJ = Objective(expr = 21.25*WO + 18*WC + 17.1*WT + 15*MO + 14*MC + 14.4*MT + 13*NC + 10.8*NT,sense=maximize)\n",
        "\n",
        "# supply constraints - ALWAYS HAVE POSITIVE COEFFICIENTS!\n",
        "model.Constraint1 = Constraint(expr = WO + WC + WT == 300)\n",
        "model.Constraint2 = Constraint(expr = MO + MC + MT == 600)\n",
        "model.Constraint3 = Constraint(expr = NC + NT == 400)\n",
        "\n",
        "# virtual supply must satisfy virtual demand\n",
        "model.Constraint4 = Constraint(expr = XO + XC + XT - X == 0)\n",
        "\n",
        "# demand constraints - ALWAYS HAVE NEGATIVE COEFFICIENTS\n",
        "model.Constraint5 = Constraint(expr = -0.85*WO - 0.6*MO - XO == -150) # demand for office paper\n",
        "model.Constraint6 = Constraint(expr = -0.9*WC - 0.7*MC - 0.65*NC - XC == -750) # demand for card stock\n",
        "model.Constraint7 = Constraint(expr = -0.95*WT - 0.80*MT - 0.6*NT - XT == -550) # demand for tan stock"
      ],
      "execution_count": null,
      "outputs": []
    },
    {
      "cell_type": "code",
      "metadata": {
        "id": "Chx38LTQPVJT",
        "colab": {
          "base_uri": "https://localhost:8080/",
          "height": 904
        },
        "outputId": "4aad0ceb-04be-4350-b790-3275a4f734a5"
      },
      "source": [
        "model.pprint()"
      ],
      "execution_count": null,
      "outputs": [
        {
          "output_type": "stream",
          "text": [
            "1 Set Declarations\n",
            "    x_index : Size=1, Index=None, Ordered=Insertion\n",
            "        Key  : Dimen : Domain : Size : Members\n",
            "        None :     1 :    Any :   12 : {1, 2, 3, 4, 5, 6, 7, 8, 9, 10, 11, 12}\n",
            "\n",
            "1 Var Declarations\n",
            "    x : Size=12, Index=x_index\n",
            "        Key : Lower : Value : Upper : Fixed : Stale : Domain\n",
            "          1 :     0 :  None :  None : False :  True : NonNegativeReals\n",
            "          2 :     0 :  None :  None : False :  True : NonNegativeReals\n",
            "          3 :     0 :  None :  None : False :  True : NonNegativeReals\n",
            "          4 :     0 :  None :  None : False :  True : NonNegativeReals\n",
            "          5 :     0 :  None :  None : False :  True : NonNegativeReals\n",
            "          6 :     0 :  None :  None : False :  True : NonNegativeReals\n",
            "          7 :     0 :  None :  None : False :  True : NonNegativeReals\n",
            "          8 :     0 :  None :  None : False :  True : NonNegativeReals\n",
            "          9 :     0 :  None :  None : False :  True : NonNegativeReals\n",
            "         10 :     0 :  None :  None : False :  True : NonNegativeReals\n",
            "         11 :     0 :  None :  None : False :  True : NonNegativeReals\n",
            "         12 :     0 :  None :  None : False :  True : NonNegativeReals\n",
            "\n",
            "1 Objective Declarations\n",
            "    OBJ : Size=1, Index=None, Active=True\n",
            "        Key  : Active : Sense    : Expression\n",
            "        None :   True : maximize : 21.25*x[1] + 18*x[2] + 17.1*x[3] + 15*x[4] + 14*x[5] + 14.4*x[6] + 13*x[7] + 10.8*x[8]\n",
            "\n",
            "7 Constraint Declarations\n",
            "    Constraint1 : Size=1, Index=None, Active=True\n",
            "        Key  : Lower : Body               : Upper : Active\n",
            "        None : 300.0 : x[1] + x[2] + x[3] : 300.0 :   True\n",
            "    Constraint2 : Size=1, Index=None, Active=True\n",
            "        Key  : Lower : Body               : Upper : Active\n",
            "        None : 600.0 : x[4] + x[5] + x[6] : 600.0 :   True\n",
            "    Constraint3 : Size=1, Index=None, Active=True\n",
            "        Key  : Lower : Body        : Upper : Active\n",
            "        None : 400.0 : x[7] + x[8] : 400.0 :   True\n",
            "    Constraint4 : Size=1, Index=None, Active=True\n",
            "        Key  : Lower : Body                         : Upper : Active\n",
            "        None :   0.0 : x[9] + x[10] + x[11] - x[12] :   0.0 :   True\n",
            "    Constraint5 : Size=1, Index=None, Active=True\n",
            "        Key  : Lower  : Body                         : Upper  : Active\n",
            "        None : -150.0 : -0.85*x[1] - 0.6*x[4] - x[9] : -150.0 :   True\n",
            "    Constraint6 : Size=1, Index=None, Active=True\n",
            "        Key  : Lower  : Body                                     : Upper  : Active\n",
            "        None : -750.0 : -0.9*x[2] - 0.7*x[5] - 0.65*x[7] - x[10] : -750.0 :   True\n",
            "    Constraint7 : Size=1, Index=None, Active=True\n",
            "        Key  : Lower  : Body                                     : Upper  : Active\n",
            "        None : -550.0 : -0.95*x[3] - 0.8*x[6] - 0.6*x[8] - x[11] : -550.0 :   True\n",
            "\n",
            "10 Declarations: x_index x OBJ Constraint1 Constraint2 Constraint3 Constraint4 Constraint5 Constraint6 Constraint7\n"
          ],
          "name": "stdout"
        }
      ]
    },
    {
      "cell_type": "code",
      "metadata": {
        "id": "0dp174fKPbtF",
        "colab": {
          "base_uri": "https://localhost:8080/",
          "height": 693
        },
        "outputId": "432727ea-e44a-4c45-9453-81fb6627cb8e"
      },
      "source": [
        "SolverFactory('cbc').solve(model).write()"
      ],
      "execution_count": null,
      "outputs": [
        {
          "output_type": "stream",
          "text": [
            "# ==========================================================\n",
            "# = Solver Results                                         =\n",
            "# ==========================================================\n",
            "# ----------------------------------------------------------\n",
            "#   Problem Information\n",
            "# ----------------------------------------------------------\n",
            "Problem: \n",
            "- Name: unknown\n",
            "  Lower bound: 19813.52941\n",
            "  Upper bound: 19813.52941\n",
            "  Number of objectives: 1\n",
            "  Number of constraints: 8\n",
            "  Number of variables: 13\n",
            "  Number of nonzeros: 7\n",
            "  Sense: maximize\n",
            "# ----------------------------------------------------------\n",
            "#   Solver Information\n",
            "# ----------------------------------------------------------\n",
            "Solver: \n",
            "- Status: ok\n",
            "  User time: -1.0\n",
            "  System time: 0.0\n",
            "  Wallclock time: 0.0\n",
            "  Termination condition: optimal\n",
            "  Termination message: Model was solved to optimality (subject to tolerances), and an optimal solution is available.\n",
            "  Statistics: \n",
            "    Branch and bound: \n",
            "      Number of bounded subproblems: None\n",
            "      Number of created subproblems: None\n",
            "    Black box: \n",
            "      Number of iterations: 3\n",
            "  Error rc: 0\n",
            "  Time: 0.016405344009399414\n",
            "# ----------------------------------------------------------\n",
            "#   Solution Information\n",
            "# ----------------------------------------------------------\n",
            "Solution: \n",
            "- number of solutions: 0\n",
            "  number of solutions displayed: 0\n"
          ],
          "name": "stdout"
        }
      ]
    },
    {
      "cell_type": "markdown",
      "metadata": {
        "id": "psAQ4EK5_m9e"
      },
      "source": [
        "# Result"
      ]
    },
    {
      "cell_type": "code",
      "metadata": {
        "id": "iTSJQcRCPdvZ",
        "colab": {
          "base_uri": "https://localhost:8080/",
          "height": 35
        },
        "outputId": "b04e6ef4-207a-4119-ab12-7117e05ca176"
      },
      "source": [
        "print(\"Profit = \", value(model.OBJ()))"
      ],
      "execution_count": null,
      "outputs": [
        {
          "output_type": "stream",
          "text": [
            "Profit =  19813.5294175\n"
          ],
          "name": "stdout"
        }
      ]
    },
    {
      "cell_type": "code",
      "metadata": {
        "id": "4zhDprRvHxXx",
        "colab": {
          "base_uri": "https://localhost:8080/",
          "height": 364
        },
        "outputId": "cba4540c-917f-4c38-ba87-8822a5987964"
      },
      "source": [
        "print('\\n', 'Flow from W ')\n",
        "print('Flow from W to O:', model.x[1]())\n",
        "print('Flow from W to C:', model.x[2]())\n",
        "print('Flow from W to T:', model.x[3]())\n",
        "\n",
        "print('\\n', 'Flow from M ')\n",
        "print('Flow from M to O:', model.x[4]())\n",
        "print('Flow from M to C:', model.x[5]())\n",
        "print('Flow from M to T:', model.x[6]())\n",
        "\n",
        "print('\\n', 'Flow from N ')\n",
        "print('Flow from N to C:', model.x[7]())\n",
        "print('Flow from N to T:', model.x[8]())\n",
        "\n",
        "print('\\n', 'Flow from X ')\n",
        "print('Flow from X to O:', model.x[9]())\n",
        "print('Flow from X to C:', model.x[10]())\n",
        "print('Flow from X to T:', model.x[11]())\n",
        "\n",
        "print('Flow from X:', model.x[12]())\n",
        "\n"
      ],
      "execution_count": null,
      "outputs": [
        {
          "output_type": "stream",
          "text": [
            "\n",
            " Flow from W \n",
            "Flow from W to O: 176.47059\n",
            "Flow from W to C: 123.52941\n",
            "Flow from W to T: 0.0\n",
            "\n",
            " Flow from M \n",
            "Flow from M to O: 0.0\n",
            "Flow from M to C: 0.0\n",
            "Flow from M to T: 600.0\n",
            "\n",
            " Flow from N \n",
            "Flow from N to C: 400.0\n",
            "Flow from N to T: 0.0\n",
            "\n",
            " Flow from X \n",
            "Flow from X to O: 0.0\n",
            "Flow from X to C: 378.82353\n",
            "Flow from X to T: 70.0\n",
            "Flow from X: 448.82353\n"
          ],
          "name": "stdout"
        }
      ]
    },
    {
      "cell_type": "markdown",
      "metadata": {
        "id": "bqUi--caBSab"
      },
      "source": [
        "# Analysis\n",
        "White Paper should be processed into Office Paper and Catalog Paper; Mixed Paper should be processed into Tan Stock, and Newsprint should be processed into Catalog Paper. This production plan results in total revenue of $19,814. Thus, the yield-based model provides\n",
        "Ligon Paper with a revenue-maximizing allocation of its supply (capacity)."
      ]
    },
    {
      "cell_type": "code",
      "metadata": {
        "id": "nd4lbDjRn7aZ",
        "colab": {
          "base_uri": "https://localhost:8080/",
          "height": 35
        },
        "outputId": "69cc8298-9e87-4b82-d4f0-cc83ef1566f9"
      },
      "source": [
        "# how many tons of office paper did we make? we met all the demand\n",
        "0.85*value(WO) + 0.6*value(MO)"
      ],
      "execution_count": null,
      "outputs": [
        {
          "output_type": "execute_result",
          "data": {
            "text/plain": [
              "150.0000015"
            ]
          },
          "metadata": {
            "tags": []
          },
          "execution_count": 17
        }
      ]
    },
    {
      "cell_type": "code",
      "metadata": {
        "id": "mMcugisJotF9",
        "colab": {
          "base_uri": "https://localhost:8080/",
          "height": 35
        },
        "outputId": "353e3d35-f797-420d-e9af-1901f73909fc"
      },
      "source": [
        "# how many tons of cardstock did we make? 371 tons of cardstock.\n",
        "0.9*value(WC) + 0.7*value(MC) + 0.65*value(NC)"
      ],
      "execution_count": null,
      "outputs": [
        {
          "output_type": "execute_result",
          "data": {
            "text/plain": [
              "371.176469"
            ]
          },
          "metadata": {
            "tags": []
          },
          "execution_count": 18
        }
      ]
    },
    {
      "cell_type": "code",
      "metadata": {
        "id": "N6X1knwApGfa",
        "colab": {
          "base_uri": "https://localhost:8080/",
          "height": 35
        },
        "outputId": "6188ce46-3124-4107-bd2a-48c15c64d21a"
      },
      "source": [
        "# and this is why the flow from X to C is 378 tons...\n",
        "# we did not meet 378 tons of demand!\n",
        "750 - (0.9*value(WC) + 0.7*value(MC) + 0.65*value(NC))"
      ],
      "execution_count": null,
      "outputs": [
        {
          "output_type": "execute_result",
          "data": {
            "text/plain": [
              "378.823531"
            ]
          },
          "metadata": {
            "tags": []
          },
          "execution_count": 20
        }
      ]
    },
    {
      "cell_type": "code",
      "metadata": {
        "id": "zddjfEgDpVnP"
      },
      "source": [
        "# students can work out the rest on their own..."
      ],
      "execution_count": null,
      "outputs": []
    }
  ]
}