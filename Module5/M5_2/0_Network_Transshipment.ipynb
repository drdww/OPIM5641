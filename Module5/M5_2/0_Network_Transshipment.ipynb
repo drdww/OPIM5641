{
  "nbformat": 4,
  "nbformat_minor": 0,
  "metadata": {
    "colab": {
      "name": "Network_Transshipment.ipynb",
      "provenance": [],
      "collapsed_sections": [],
      "include_colab_link": true
    },
    "kernelspec": {
      "name": "python3",
      "display_name": "Python 3"
    }
  },
  "cells": [
    {
      "cell_type": "markdown",
      "metadata": {
        "id": "view-in-github",
        "colab_type": "text"
      },
      "source": [
        "<a href=\"https://colab.research.google.com/github/drdww/OPIM5641/blob/main/Module5/M5_2/0_Network_Transshipment.ipynb\" target=\"_parent\"><img src=\"https://colab.research.google.com/assets/colab-badge.svg\" alt=\"Open In Colab\"/></a>"
      ]
    },
    {
      "cell_type": "markdown",
      "metadata": {
        "id": "rK1pjcM_R6sr"
      },
      "source": [
        "# Network Problems: Transshipment\n",
        "**OPIM 5641: Business Decision Modeling - University of Connecticut**\n",
        "\n",
        "We are going to use a balance equation to handle flow through the network! Our objective function is going to be a two-part equation that needs to handle flow to the DC and flow from the DC.\n",
        "\n",
        "Please refer to Powell Chapter 10 for more examples.\n",
        "\n",
        "----------------------------------------------------------"
      ]
    },
    {
      "cell_type": "markdown",
      "metadata": {
        "id": "DdhrV7PCR9jT"
      },
      "source": [
        "We previously saw that the assignment problem is a simplified version of the transportation problem, with unit supplies and demands. \n",
        "\n",
        "By contrast, the transshipment problem is a more complex version of the transportation problem, characterized by two stages of flow instead of just one. \n",
        "\n",
        "In the Bonner Electronics diagram, there are two levels in the system (plants and warehouses), and all of the flow takes place in one stage, from plants to warehouses. \n",
        "\n",
        "In more complex logistics systems, there are three major levels: plants, distribution centers (DCs), and warehouses, and in such systems, the flow often takes place in two stages."
      ]
    },
    {
      "cell_type": "code",
      "metadata": {
        "id": "_GrhkDZvX-eb",
        "colab": {
          "base_uri": "https://localhost:8080/",
          "height": 104
        },
        "outputId": "efe9518b-a3bd-4bd6-a1b7-7cc1238ae6b1"
      },
      "source": [
        "pip install pyomo"
      ],
      "execution_count": null,
      "outputs": [
        {
          "output_type": "stream",
          "text": [
            "Requirement already satisfied: pyomo in /usr/local/lib/python3.6/dist-packages (5.7.1)\n",
            "Requirement already satisfied: PyUtilib>=6.0 in /usr/local/lib/python3.6/dist-packages (from pyomo) (6.0.0)\n",
            "Requirement already satisfied: ply in /usr/local/lib/python3.6/dist-packages (from pyomo) (3.11)\n",
            "Requirement already satisfied: six>=1.4 in /usr/local/lib/python3.6/dist-packages (from pyomo) (1.15.0)\n",
            "Requirement already satisfied: nose in /usr/local/lib/python3.6/dist-packages (from PyUtilib>=6.0->pyomo) (1.3.7)\n"
          ],
          "name": "stdout"
        }
      ]
    },
    {
      "cell_type": "code",
      "metadata": {
        "id": "kc8dSp-NYDZu"
      },
      "source": [
        "%matplotlib inline\n",
        "import matplotlib.pyplot as plt\n",
        "import numpy as np\n",
        "import pandas as pd\n",
        "\n",
        "import shutil\n",
        "import sys\n",
        "import os.path\n",
        "\n",
        "if not shutil.which(\"pyomo\"):\n",
        "    !pip install -q pyomo\n",
        "    assert(shutil.which(\"pyomo\"))\n",
        "\n",
        "if not (shutil.which(\"cbc\") or os.path.isfile(\"cbc\")):\n",
        "    if \"google.colab\" in sys.modules:\n",
        "        !apt-get install -y -qq coinor-cbc\n",
        "    else:\n",
        "        try:\n",
        "            !conda install -c conda-forge coincbc \n",
        "        except:\n",
        "            pass\n",
        "\n",
        "assert(shutil.which(\"cbc\") or os.path.isfile(\"cbc\"))\n",
        "\n",
        "import pyomo.environ as pyomo"
      ],
      "execution_count": null,
      "outputs": []
    },
    {
      "cell_type": "code",
      "metadata": {
        "id": "gc4MjsISYGbf"
      },
      "source": [
        "from __future__ import division\n",
        "from pyomo.environ import *"
      ],
      "execution_count": null,
      "outputs": []
    },
    {
      "cell_type": "markdown",
      "metadata": {
        "id": "OglTAkOwW4-L"
      },
      "source": [
        "# Example"
      ]
    },
    {
      "cell_type": "markdown",
      "metadata": {
        "id": "Qg1DaZdhW12Q"
      },
      "source": [
        "**[Example 10.4 from Powell]** The Western Paper Company manufactures paper at three factories (F1, F2, F3) on the West Coast.\n",
        "Their products are shipped by rail to a pair of depots (D1 and D2), one in the Midwest and one in the\n",
        "South. At the depots, the products are repackaged and sent by truck to three regional warehouses\n",
        "(W1, W2, and W3) around the country, in response to replenishment orders.\n",
        "Each of the factories has a known monthly production capacity, and the three regional\n",
        "warehouses have placed their demands for next month. The following tables summarize the data that\n",
        "have been collected for this planning problem:"
      ]
    },
    {
      "cell_type": "markdown",
      "metadata": {
        "id": "bGLIl052XW8y"
      },
      "source": [
        "![2.PNG](data:image/png;base64,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)"
      ]
    },
    {
      "cell_type": "markdown",
      "metadata": {
        "id": "wgWAnAJXXbrF"
      },
      "source": [
        "![3.PNG](data:image/png;base64,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)"
      ]
    },
    {
      "cell_type": "code",
      "metadata": {
        "id": "0sfh-j_5YcCG",
        "colab": {
          "base_uri": "https://localhost:8080/"
        },
        "outputId": "72e82810-11d9-465c-c370-3829908efd11"
      },
      "source": [
        "# more supply than demand - good! this makes it easy to solve.\n",
        "Supply = 2500*3\n",
        "print('Supply:', Supply)\n",
        "Demand = 1200 + 1300 + 1400 + 1500 + 1600\n",
        "print('Demand:', Demand)"
      ],
      "execution_count": null,
      "outputs": [
        {
          "output_type": "stream",
          "name": "stdout",
          "text": [
            "Supply: 7500\n",
            "Demand: 7000\n"
          ]
        }
      ]
    },
    {
      "cell_type": "markdown",
      "metadata": {
        "id": "TK_owM48Xgqm"
      },
      "source": [
        "Knowing the costs of transporting goods from factories to DCs and from DCs to warehouses,\n",
        "Western Paper is interested in scheduling its material flow at the minimum possible cost."
      ]
    },
    {
      "cell_type": "markdown",
      "metadata": {
        "id": "-tDvhFr3YY79"
      },
      "source": [
        "# Formulation"
      ]
    },
    {
      "cell_type": "markdown",
      "metadata": {
        "id": "0J4321XmYOG5"
      },
      "source": [
        "The left-hand side of the diagram shows the potential flows from factories to DCs, and the\n",
        "right-hand side shows the potential flows from DCs to warehouses. The DCs are called\n",
        "**transshipment points** because material arrives at those locations and is then subject to\n",
        "further shipment. At the heart of the transshipment structure is the need to coordinate the\n",
        "two transportation stages at the transshipment points. This coordination is governed by\n",
        "the **conservation law** of flows in networks: The total quantity flowing out of a node must\n",
        "equal the total quantity flowing in."
      ]
    },
    {
      "cell_type": "markdown",
      "metadata": {
        "id": "yx1dyhV_Ymjh"
      },
      "source": [
        "We use x to represent a first-stage flow, from\n",
        "factory to DC and y to represent a second-stage flow from DC to warehouse. Thus, let\n",
        "$x_{21}$ represent the quantity shipped from F2 to D1, and let $y_{23}$ represent the quantity\n",
        "shipped from D2 to W3. With this notation, we can write the conservation relationship\n",
        "\n",
        "**For D1, we have**:\n",
        "\n",
        "(Flow Out) =  (Flow In)\n",
        "\n",
        "or \n",
        "\n",
        "(Flow Out) - (Flow In) = 0\n",
        "\n",
        "or\n",
        "\n",
        "$(y_{11} + y_{12} + y_{13} + y_{14}+ y_{15}) - (x_{11} + x_{21} +  x_{31}) = 0 $\n",
        "\n",
        "*(left) flow out of the the **first** DC and (right) flow into the **first** DC must balance*\n",
        "\n",
        "\n",
        "**For D2, we have** :\n",
        "\n",
        "$(y_{21} + y_{22} + y_{23} + y_{24} + y_{25}) - (x_{12} + x_{22} + x_{32}) = 0 $\n",
        "\n",
        "*(left) flow out of the the **second** DC and (right) flow into the **second** DC must balance*\n",
        "\n",
        "\n",
        "\n"
      ]
    },
    {
      "cell_type": "markdown",
      "metadata": {
        "id": "cM0Y9T4hbVQq"
      },
      "source": [
        "Here is the network diagram for Western Paper : \n"
      ]
    },
    {
      "cell_type": "markdown",
      "metadata": {
        "id": "G75soyjibOzS"
      },
      "source": [
        "![4.PNG](data:image/png;base64,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)"
      ]
    },
    {
      "cell_type": "markdown",
      "metadata": {
        "id": "C5outa7Ybwwg"
      },
      "source": [
        "We can see that the conservation law takes the form of an equality constraint for\n",
        "particular nodes in the network. This equality constraint is sometimes called a **balance** **equation** because it ensures perfect balance between inputs and outputs.\n",
        "We can now develop an algebraic statement of the transshipment model, by\n",
        "combining the types of supply and demand constraints we saw in the transportation\n",
        "model with the balance equations introduced here for transshipment nodes. Our model\n",
        "takes the following form:"
      ]
    },
    {
      "cell_type": "markdown",
      "metadata": {
        "id": "jvu1IMy3b_qQ"
      },
      "source": [
        "**Objective Function**\n",
        "$ \\min(z) = 1.28*x_{11} + 1.36*x_{12} + 1.33*x_{21} + 1.38*x_{22} + 1.68*x_{31} + 1.55*x_{32} + 0.60*y_{11} + 0.42*y_{12} +0.32*y_{13} + 0.44*y_{14} + 0.68*y_{15} +0.57*y_{21} + 0.3*y_{22} + 0.4*y_{23} + 0.38*y_{24} + 0.72*y_{25}$\n",
        "\n",
        "\n",
        "Subject to...\n",
        "## Supply Constraints\n",
        "\n",
        "*Note: $x_{11}$ means flow from $F1$ to $D1$; $x_{12}$ means flow from $F1$ to $D2$*\n",
        "\n",
        "* $x_{11} + x_{12} <= 2500$\n",
        "* $x_{21} + x_{22} <= 2500$\n",
        "* $x_{31} + x_{32} <= 2500$"
      ]
    },
    {
      "cell_type": "markdown",
      "metadata": {
        "id": "NN9-bWayaEcp"
      },
      "source": [
        "## Demand Constraints\n",
        "*Note: $y_{11}$ means the flow from $D1$ to $W1$, and $y_{21}$ means flow from $D2$ to $W1$. We are satisfying the demand at the $W$ warehouses.*\n",
        "\n",
        "* $y_{11} + y_{21} >= 1200$\n",
        "* $y_{12} + y_{22} >= 1300$\n",
        "* $y_{13} + y_{23} >= 1400$\n",
        "* $y_{14} + y_{24} >= 1500$\n",
        "* $y_{15} + y_{25} >= 1600$\n",
        "\n",
        "## Balance/Flow Constraints\n",
        "* $-x_{11} - x_{21} - x_{31} + y_{11} + y_{12} + y_{13} + y_{14} + y_{15} == 0$\n",
        "* $-x_{12} - x_{22} - x_{32} + y_{21} + y_{22} + y_{23} + y_{24} + y_{25} == 0$\n",
        "\n",
        "Remember, $x_{11}$ is the flow from the first factory to the first DC and $y_{11}$ is the flow from the first DC to the first of five stores."
      ]
    },
    {
      "cell_type": "markdown",
      "metadata": {
        "id": "i7MqhVqgcZzH"
      },
      "source": [
        "# Model"
      ]
    },
    {
      "cell_type": "code",
      "metadata": {
        "id": "r-JoHY-e7Y8T"
      },
      "source": [
        "# declare the model\n",
        "model = ConcreteModel()\n",
        "\n",
        "# decision variables (you lose some granularity in the constraints with this naming convention, but it is convenient!)\n",
        "model.x = Var([1,2,3,4,5,6,7,8,9,10,11,12,13,14,15,16], domain=NonNegativeReals)\n",
        "\n",
        "# first stage of network model\n",
        "x11 = model.x[1] # f1 to d1\n",
        "x12 = model.x[2] # f1 to d2\n",
        "x21 = model.x[3] # f2 to d1\n",
        "x22 = model.x[4] # ...\n",
        "x31 = model.x[5]\n",
        "x32 = model.x[6]\n",
        "\n",
        "# second stage of network model\n",
        "y11 = model.x[7] # d1 to w1\n",
        "y21 = model.x[8] # d2 to w1\n",
        "y12 = model.x[9] # d1 to w2\n",
        "y22 = model.x[10] # d2 to w2\n",
        "y13 = model.x[11] # ...\n",
        "y23 = model.x[12]\n",
        "y14 = model.x[13]\n",
        "y24 = model.x[14]\n",
        "y15 = model.x[15]\n",
        "y25 = model.x[16]\n",
        "\n",
        "# objective\n",
        "model.OBJ = Objective(expr = 1.28*x11 + 1.36*x12 + 1.33*x21 + 1.38*x22 + 1.68*x31 + 1.55*x32 + # stage 1 costs\n",
        "                            0.60*y11 + 0.42*y12 + 0.32*y13 + 0.44*y14 + 0.68*y15 + 0.57*y21 + 0.3*y22 + # stage 2 costs\n",
        "                            0.4*y23 + 0.38*y24 + 0.72*y25,\n",
        "                      sense=minimize) # remember, we are minimizing costs!\n",
        "\n",
        "# constraints\n",
        "\n",
        "# supply - can't ship more than we make!\n",
        "model.Constraint1 = Constraint(expr = x11 + x12 <= 2500) # flow from f1 can't be more than capacity... supply constraint\n",
        "model.Constraint2 = Constraint(expr = x21 + x22 <= 2500) # flow from f2 can't be more than capacity\n",
        "model.Constraint3 = Constraint(expr = x31 + x32 <= 2500) # ...\n",
        "\n",
        "# demand constraints - we must satisfy demand!\n",
        "model.Constraint4 = Constraint(expr = y11 + y21 >= 1200) # flow into store 1 can't be more than demand ... demand constraint\n",
        "model.Constraint5 = Constraint(expr = y12 + y22 >= 1300)\n",
        "model.Constraint6 = Constraint(expr = y13 + y23 >= 1400)\n",
        "model.Constraint7 = Constraint(expr = y14 + y24 >= 1500)\n",
        "model.Constraint8 = Constraint(expr = y15 + y25 >= 1600)\n",
        "\n",
        "# balance constraints - you need to assume net flow into each DC is 0\n",
        "model.Constraint9 = Constraint(expr = -x11 - x21 - x31 + y11 + y12 + y13 + y14 + y15 == 0) # balance for first DC\n",
        "model.Constraint10 = Constraint(expr = -x12 - x22 - x32 + y21 + y22 + y23 + y24 + y25 == 0) # balance for second DC"
      ],
      "execution_count": null,
      "outputs": []
    },
    {
      "cell_type": "markdown",
      "metadata": {
        "id": "sPEXjGNHgkVO"
      },
      "source": [
        "The formulation contains three less-than constraints (one per factory), five greater-than constraints (one per warehouse), and two equality constraints (one per DC). The\n",
        "optimal solution is with a total cost of $12,881. Thus, Western Paper can recognize both stages of its supply chain when it optimizes its distribution costs in one comprehensive model.\n",
        "\n",
        "The optimal flows, at node D1, we can see that the total inflow is 4,200, and the total outflow is 4,200. At node D2, the total inflow is 2,800, matching the total outflow of 2,800.  \n",
        "The diagram to produce a quick visual check that the decision\n",
        "variables in the optimal solution are consistent with the balance equations for the transshipment points."
      ]
    },
    {
      "cell_type": "markdown",
      "metadata": {
        "id": "WoGTx73rf7pr"
      },
      "source": [
        "![5.PNG](data:image/png;base64,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)"
      ]
    },
    {
      "cell_type": "markdown",
      "metadata": {
        "id": "QMZAvbXOgNqq"
      },
      "source": [
        "The network diagram serves as a convenient visual check and as a visual\n",
        "aid for communicating the results of the analysis."
      ]
    },
    {
      "cell_type": "code",
      "metadata": {
        "id": "sVmvXdbE9EsR",
        "colab": {
          "base_uri": "https://localhost:8080/",
          "height": 1000
        },
        "outputId": "b36470ac-bc59-48c6-a412-14bb92c3acc2"
      },
      "source": [
        "model.pprint()"
      ],
      "execution_count": null,
      "outputs": [
        {
          "output_type": "stream",
          "text": [
            "1 Set Declarations\n",
            "    x_index : Size=1, Index=None, Ordered=Insertion\n",
            "        Key  : Dimen : Domain : Size : Members\n",
            "        None :     1 :    Any :   16 : {1, 2, 3, 4, 5, 6, 7, 8, 9, 10, 11, 12, 13, 14, 15, 16}\n",
            "\n",
            "1 Var Declarations\n",
            "    x : Size=16, Index=x_index\n",
            "        Key : Lower : Value : Upper : Fixed : Stale : Domain\n",
            "          1 :     0 :  None :  None : False :  True : NonNegativeReals\n",
            "          2 :     0 :  None :  None : False :  True : NonNegativeReals\n",
            "          3 :     0 :  None :  None : False :  True : NonNegativeReals\n",
            "          4 :     0 :  None :  None : False :  True : NonNegativeReals\n",
            "          5 :     0 :  None :  None : False :  True : NonNegativeReals\n",
            "          6 :     0 :  None :  None : False :  True : NonNegativeReals\n",
            "          7 :     0 :  None :  None : False :  True : NonNegativeReals\n",
            "          8 :     0 :  None :  None : False :  True : NonNegativeReals\n",
            "          9 :     0 :  None :  None : False :  True : NonNegativeReals\n",
            "         10 :     0 :  None :  None : False :  True : NonNegativeReals\n",
            "         11 :     0 :  None :  None : False :  True : NonNegativeReals\n",
            "         12 :     0 :  None :  None : False :  True : NonNegativeReals\n",
            "         13 :     0 :  None :  None : False :  True : NonNegativeReals\n",
            "         14 :     0 :  None :  None : False :  True : NonNegativeReals\n",
            "         15 :     0 :  None :  None : False :  True : NonNegativeReals\n",
            "         16 :     0 :  None :  None : False :  True : NonNegativeReals\n",
            "\n",
            "1 Objective Declarations\n",
            "    OBJ : Size=1, Index=None, Active=True\n",
            "        Key  : Active : Sense    : Expression\n",
            "        None :   True : minimize : 1.28*x[1] + 1.36*x[2] + 1.33*x[3] + 1.38*x[4] + 1.68*x[5] + 1.55*x[6] + 0.6*x[7] + 0.42*x[9] + 0.32*x[11] + 0.44*x[13] + 0.68*x[15] + 0.57*x[8] + 0.3*x[10] + 0.4*x[12] + 0.38*x[14] + 0.72*x[16]\n",
            "\n",
            "10 Constraint Declarations\n",
            "    Constraint1 : Size=1, Index=None, Active=True\n",
            "        Key  : Lower : Body        : Upper  : Active\n",
            "        None :  -Inf : x[1] + x[2] : 2500.0 :   True\n",
            "    Constraint10 : Size=1, Index=None, Active=True\n",
            "        Key  : Lower : Body                                                        : Upper : Active\n",
            "        None :   0.0 : - x[2] - x[4] - x[6] + x[8] + x[10] + x[12] + x[14] + x[16] :   0.0 :   True\n",
            "    Constraint2 : Size=1, Index=None, Active=True\n",
            "        Key  : Lower : Body        : Upper  : Active\n",
            "        None :  -Inf : x[3] + x[4] : 2500.0 :   True\n",
            "    Constraint3 : Size=1, Index=None, Active=True\n",
            "        Key  : Lower : Body        : Upper  : Active\n",
            "        None :  -Inf : x[5] + x[6] : 2500.0 :   True\n",
            "    Constraint4 : Size=1, Index=None, Active=True\n",
            "        Key  : Lower  : Body        : Upper : Active\n",
            "        None : 1200.0 : x[7] + x[8] :  +Inf :   True\n",
            "    Constraint5 : Size=1, Index=None, Active=True\n",
            "        Key  : Lower  : Body         : Upper : Active\n",
            "        None : 1300.0 : x[9] + x[10] :  +Inf :   True\n",
            "    Constraint6 : Size=1, Index=None, Active=True\n",
            "        Key  : Lower  : Body          : Upper : Active\n",
            "        None : 1400.0 : x[11] + x[12] :  +Inf :   True\n",
            "    Constraint7 : Size=1, Index=None, Active=True\n",
            "        Key  : Lower  : Body          : Upper : Active\n",
            "        None : 1500.0 : x[13] + x[14] :  +Inf :   True\n",
            "    Constraint8 : Size=1, Index=None, Active=True\n",
            "        Key  : Lower  : Body          : Upper : Active\n",
            "        None : 1600.0 : x[15] + x[16] :  +Inf :   True\n",
            "    Constraint9 : Size=1, Index=None, Active=True\n",
            "        Key  : Lower : Body                                                       : Upper : Active\n",
            "        None :   0.0 : - x[1] - x[3] - x[5] + x[7] + x[9] + x[11] + x[13] + x[15] :   0.0 :   True\n",
            "\n",
            "13 Declarations: x_index x OBJ Constraint1 Constraint2 Constraint3 Constraint4 Constraint5 Constraint6 Constraint7 Constraint8 Constraint9 Constraint10\n"
          ],
          "name": "stdout"
        }
      ]
    },
    {
      "cell_type": "code",
      "metadata": {
        "id": "Z4M9ipv29K-j",
        "colab": {
          "base_uri": "https://localhost:8080/",
          "height": 693
        },
        "outputId": "67634f4b-f8f8-48d0-fb59-4706914d08ec"
      },
      "source": [
        "SolverFactory('cbc').solve(model).write()"
      ],
      "execution_count": null,
      "outputs": [
        {
          "output_type": "stream",
          "text": [
            "# ==========================================================\n",
            "# = Solver Results                                         =\n",
            "# ==========================================================\n",
            "# ----------------------------------------------------------\n",
            "#   Problem Information\n",
            "# ----------------------------------------------------------\n",
            "Problem: \n",
            "- Name: unknown\n",
            "  Lower bound: 12881.0\n",
            "  Upper bound: 12881.0\n",
            "  Number of objectives: 1\n",
            "  Number of constraints: 11\n",
            "  Number of variables: 17\n",
            "  Number of nonzeros: 16\n",
            "  Sense: minimize\n",
            "# ----------------------------------------------------------\n",
            "#   Solver Information\n",
            "# ----------------------------------------------------------\n",
            "Solver: \n",
            "- Status: ok\n",
            "  User time: -1.0\n",
            "  System time: 0.0\n",
            "  Wallclock time: 0.0\n",
            "  Termination condition: optimal\n",
            "  Termination message: Model was solved to optimality (subject to tolerances), and an optimal solution is available.\n",
            "  Statistics: \n",
            "    Branch and bound: \n",
            "      Number of bounded subproblems: None\n",
            "      Number of created subproblems: None\n",
            "    Black box: \n",
            "      Number of iterations: 10\n",
            "  Error rc: 0\n",
            "  Time: 0.01614999771118164\n",
            "# ----------------------------------------------------------\n",
            "#   Solution Information\n",
            "# ----------------------------------------------------------\n",
            "Solution: \n",
            "- number of solutions: 0\n",
            "  number of solutions displayed: 0\n"
          ],
          "name": "stdout"
        }
      ]
    },
    {
      "cell_type": "code",
      "metadata": {
        "id": "BYvH2gk59PnC",
        "colab": {
          "base_uri": "https://localhost:8080/",
          "height": 381
        },
        "outputId": "66154394-7d50-43f6-ef7f-77e68ebd37c3"
      },
      "source": [
        "print(\"Total_cost = \", value(model.OBJ())) \n",
        "\n",
        "print('\\n', 'STAGE 1: F to D')\n",
        "# flow from F to D1\n",
        "print('Flow from F1 to D1:', model.x[1]())\n",
        "print('Flow from F2 to D1:', model.x[3]())\n",
        "print('Flow from F3 to D1:', model.x[5]())\n",
        "\n",
        "# flow from F to D2\n",
        "print('Flow from F1 to D2:', model.x[2]())\n",
        "print('Flow from F2 to D2:', model.x[4]())\n",
        "print('Flow from F3 to D2:', model.x[6]())\n",
        "\n",
        "print('\\n', 'STAGE 2: D to W')\n",
        "print('Flow from D1 to W1:', model.x[7]())\n",
        "print('Flow from D1 to W2:', model.x[9]())\n",
        "print('Flow from D1 to W3:', model.x[11]())\n",
        "print('Flow from D1 to W4:', model.x[13]())\n",
        "print('Flow from D1 to W5:', model.x[15]())\n",
        "print('Flow from D2 to W1:', model.x[8]())\n",
        "print('Flow from D2 to W2:', model.x[10]())\n",
        "print('Flow from D2 to W3:', model.x[12]())\n",
        "print('Flow from D2 to W4:', model.x[14]())\n",
        "print('Flow from D2 to W5:', model.x[16]())"
      ],
      "execution_count": null,
      "outputs": [
        {
          "output_type": "stream",
          "text": [
            "Total_cost =  12881.0\n",
            "\n",
            " STAGE 1: F to D\n",
            "Flow from F1 to D1: 2500.0\n",
            "Flow from F2 to D1: 1700.0\n",
            "Flow from F3 to D1: 0.0\n",
            "Flow from F1 to D2: 0.0\n",
            "Flow from F2 to D2: 800.0\n",
            "Flow from F3 to D2: 2000.0\n",
            "\n",
            " STAGE 2: D to W\n",
            "Flow from D1 to W1: 1200.0\n",
            "Flow from D1 to W2: 0.0\n",
            "Flow from D1 to W3: 1400.0\n",
            "Flow from D1 to W4: 0.0\n",
            "Flow from D1 to W5: 1600.0\n",
            "Flow from D2 to W1: 0.0\n",
            "Flow from D2 to W2: 1300.0\n",
            "Flow from D2 to W3: 0.0\n",
            "Flow from D2 to W4: 1500.0\n",
            "Flow from D2 to W5: 0.0\n"
          ],
          "name": "stdout"
        }
      ]
    },
    {
      "cell_type": "markdown",
      "metadata": {
        "id": "KOqN1hzC0K-u"
      },
      "source": [
        "Analyze the output!!! Look at which nodes support other nodes in the network. The total cost you see is a function of your Stage 1 and Stage 2 costs (you are summing them together)."
      ]
    },
    {
      "cell_type": "markdown",
      "metadata": {
        "id": "tcMtN7k5znAd"
      },
      "source": [
        "**On your own:** Students can check to see which constraints are binding and look at how routes will change as a function of changing supply or demand!"
      ]
    }
  ]
}