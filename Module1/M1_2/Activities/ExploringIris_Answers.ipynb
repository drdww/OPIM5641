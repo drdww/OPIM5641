{
  "nbformat": 4,
  "nbformat_minor": 0,
  "metadata": {
    "colab": {
      "name": "M1_Solution_CC",
      "provenance": [],
      "collapsed_sections": [],
      "include_colab_link": true
    },
    "kernelspec": {
      "name": "python3",
      "display_name": "Python 3"
    }
  },
  "cells": [
    {
      "cell_type": "markdown",
      "metadata": {
        "id": "view-in-github",
        "colab_type": "text"
      },
      "source": [
        "<a href=\"https://colab.research.google.com/github/drdww/OPIM5641/blob/main/Module1/M1_2/Activities/ExploringIris_Answers.ipynb\" target=\"_parent\"><img src=\"https://colab.research.google.com/assets/colab-badge.svg\" alt=\"Open In Colab\"/></a>"
      ]
    },
    {
      "cell_type": "markdown",
      "metadata": {
        "id": "-PogPMiHA84T"
      },
      "source": [
        "# Individual Assignment M1.1: Iris EDA\n",
        "\n",
        "**OPIM 5641: Business Decision Modeling - University of Connecticut**\n",
        "\n",
        "--------------------------------------------------------------------------\n",
        "* Your Name Here\n",
        "* Your NetID Here\n",
        "\n",
        "**Description:** This is a very standard dataset from analytics and data science - the Iris dataset. \n",
        "\n",
        "Here is a link to the description of the dataset (yes - it is from 1988 - and it is still the 'hello world' of data analysis): https://archive.ics.uci.edu/ml/datasets/iris\n",
        "\n",
        "You may work with your fellow classmates, but you need to complete the assignment on your own. I expect different headers and COMMENTS (comments are the key to showing that you really know your stuff - without comments, your code is useless to me).\n",
        "\n",
        "**Rubric:**\n",
        "* (100 pts total, 10 pts each) To receive full credit on each item - plots, tables, calculations must have been made accurately and be well-labeled. Comments should be provided for all arguments (strive for one comment per line). We want to be able to tell you know your stuff!\n",
        "\n",
        "The first lines were included for your convenience.\n",
        "\n",
        "1. Run df.info() and check for any missing values. How do you know there aren't any missing values?\n",
        "2. Calculate the 10th, 30th, 50th, 70th, and 90th  percentile of `petal length`. Then do the same for `petal width`.\n",
        "3. Subset all rows where the 'species' is equal to 'setosa' and assign to a variable called `tmp`. Print a) the shape of `tmp` and b) then show the first 5 rows of the dataframe using head. Then make a boxplot of the sepal width. Add good labels to all axes and a meaningful title.\n",
        "4. Subset all rows where 'species' is equal to 'versicolor' and assign to a variable called `tmp2`. Print a) the shape of `tmp2` and b) then show the first 5 rows of the dataframe using head. Then make a histogram of the petal width. Add good labels to all axes and a meaningful title.\n",
        "5. Subset all rows where 'species' is equal to 'virginica' and assign to a variable called `tmp3`. Print a) the shape of `tmp3` and b) then show the first 5 rows of the dataframe using head. Then make a scatterplot of the sepal length vs. the sepal width. Add good labels to all axes and a meaningful title.\n",
        "6. Count the number of rows where sepal length is greater than 3.5.\n",
        "7. Count the number of rows where sepal length is greater than 3.5 and sepal width is less than 3.2.\n",
        "8. Count the number of rows where sepal width is greater than the 83th percentile for sepal width. \n",
        "9. Make a density plot for sepal width, but make sure there are 3 curves on the single graph - one for each type of Iris.\n",
        "10. Make a histogram for petal width, but make sure there are 3 histogram on the single graph - one for each type of species.\n"
      ]
    },
    {
      "cell_type": "markdown",
      "metadata": {
        "id": "lhzh1oJL8bl-"
      },
      "source": [
        "# Solution"
      ]
    },
    {
      "cell_type": "markdown",
      "metadata": {
        "id": "MgwbVpcR8eNY"
      },
      "source": [
        "## Reading data\n",
        "You will find the link included already for your convenience."
      ]
    },
    {
      "cell_type": "code",
      "metadata": {
        "id": "WdJQFMxvA6uM",
        "colab": {
          "base_uri": "https://localhost:8080/",
          "height": 419
        },
        "outputId": "f8ac130d-2988-4fb1-8464-618d8208f4cf"
      },
      "source": [
        "import pandas as pd\n",
        "from pylab import *\n",
        "df = pd.read_csv('https://gist.githubusercontent.com/curran/a08a1080b88344b0c8a7/raw/0e7a9b0a5d22642a06d3d5b9bcbad9890c8ee534/iris.csv')\n",
        "df"
      ],
      "execution_count": null,
      "outputs": [
        {
          "output_type": "execute_result",
          "data": {
            "text/html": [
              "<div>\n",
              "<style scoped>\n",
              "    .dataframe tbody tr th:only-of-type {\n",
              "        vertical-align: middle;\n",
              "    }\n",
              "\n",
              "    .dataframe tbody tr th {\n",
              "        vertical-align: top;\n",
              "    }\n",
              "\n",
              "    .dataframe thead th {\n",
              "        text-align: right;\n",
              "    }\n",
              "</style>\n",
              "<table border=\"1\" class=\"dataframe\">\n",
              "  <thead>\n",
              "    <tr style=\"text-align: right;\">\n",
              "      <th></th>\n",
              "      <th>sepal_length</th>\n",
              "      <th>sepal_width</th>\n",
              "      <th>petal_length</th>\n",
              "      <th>petal_width</th>\n",
              "      <th>species</th>\n",
              "    </tr>\n",
              "  </thead>\n",
              "  <tbody>\n",
              "    <tr>\n",
              "      <th>0</th>\n",
              "      <td>5.1</td>\n",
              "      <td>3.5</td>\n",
              "      <td>1.4</td>\n",
              "      <td>0.2</td>\n",
              "      <td>setosa</td>\n",
              "    </tr>\n",
              "    <tr>\n",
              "      <th>1</th>\n",
              "      <td>4.9</td>\n",
              "      <td>3.0</td>\n",
              "      <td>1.4</td>\n",
              "      <td>0.2</td>\n",
              "      <td>setosa</td>\n",
              "    </tr>\n",
              "    <tr>\n",
              "      <th>2</th>\n",
              "      <td>4.7</td>\n",
              "      <td>3.2</td>\n",
              "      <td>1.3</td>\n",
              "      <td>0.2</td>\n",
              "      <td>setosa</td>\n",
              "    </tr>\n",
              "    <tr>\n",
              "      <th>3</th>\n",
              "      <td>4.6</td>\n",
              "      <td>3.1</td>\n",
              "      <td>1.5</td>\n",
              "      <td>0.2</td>\n",
              "      <td>setosa</td>\n",
              "    </tr>\n",
              "    <tr>\n",
              "      <th>4</th>\n",
              "      <td>5.0</td>\n",
              "      <td>3.6</td>\n",
              "      <td>1.4</td>\n",
              "      <td>0.2</td>\n",
              "      <td>setosa</td>\n",
              "    </tr>\n",
              "    <tr>\n",
              "      <th>...</th>\n",
              "      <td>...</td>\n",
              "      <td>...</td>\n",
              "      <td>...</td>\n",
              "      <td>...</td>\n",
              "      <td>...</td>\n",
              "    </tr>\n",
              "    <tr>\n",
              "      <th>145</th>\n",
              "      <td>6.7</td>\n",
              "      <td>3.0</td>\n",
              "      <td>5.2</td>\n",
              "      <td>2.3</td>\n",
              "      <td>virginica</td>\n",
              "    </tr>\n",
              "    <tr>\n",
              "      <th>146</th>\n",
              "      <td>6.3</td>\n",
              "      <td>2.5</td>\n",
              "      <td>5.0</td>\n",
              "      <td>1.9</td>\n",
              "      <td>virginica</td>\n",
              "    </tr>\n",
              "    <tr>\n",
              "      <th>147</th>\n",
              "      <td>6.5</td>\n",
              "      <td>3.0</td>\n",
              "      <td>5.2</td>\n",
              "      <td>2.0</td>\n",
              "      <td>virginica</td>\n",
              "    </tr>\n",
              "    <tr>\n",
              "      <th>148</th>\n",
              "      <td>6.2</td>\n",
              "      <td>3.4</td>\n",
              "      <td>5.4</td>\n",
              "      <td>2.3</td>\n",
              "      <td>virginica</td>\n",
              "    </tr>\n",
              "    <tr>\n",
              "      <th>149</th>\n",
              "      <td>5.9</td>\n",
              "      <td>3.0</td>\n",
              "      <td>5.1</td>\n",
              "      <td>1.8</td>\n",
              "      <td>virginica</td>\n",
              "    </tr>\n",
              "  </tbody>\n",
              "</table>\n",
              "<p>150 rows × 5 columns</p>\n",
              "</div>"
            ],
            "text/plain": [
              "     sepal_length  sepal_width  petal_length  petal_width    species\n",
              "0             5.1          3.5           1.4          0.2     setosa\n",
              "1             4.9          3.0           1.4          0.2     setosa\n",
              "2             4.7          3.2           1.3          0.2     setosa\n",
              "3             4.6          3.1           1.5          0.2     setosa\n",
              "4             5.0          3.6           1.4          0.2     setosa\n",
              "..            ...          ...           ...          ...        ...\n",
              "145           6.7          3.0           5.2          2.3  virginica\n",
              "146           6.3          2.5           5.0          1.9  virginica\n",
              "147           6.5          3.0           5.2          2.0  virginica\n",
              "148           6.2          3.4           5.4          2.3  virginica\n",
              "149           5.9          3.0           5.1          1.8  virginica\n",
              "\n",
              "[150 rows x 5 columns]"
            ]
          },
          "metadata": {},
          "execution_count": 2
        }
      ]
    },
    {
      "cell_type": "markdown",
      "metadata": {
        "id": "0IYKeju2s27W"
      },
      "source": [
        "1 - Run df.info() and check for any missing values. How do you know there aren't any missing values?"
      ]
    },
    {
      "cell_type": "code",
      "metadata": {
        "colab": {
          "base_uri": "https://localhost:8080/"
        },
        "id": "-bZFdbnQtML6",
        "outputId": "ce482804-9d01-41bd-87ad-611041e0008d"
      },
      "source": [
        "df.info()"
      ],
      "execution_count": null,
      "outputs": [
        {
          "output_type": "stream",
          "name": "stdout",
          "text": [
            "<class 'pandas.core.frame.DataFrame'>\n",
            "RangeIndex: 150 entries, 0 to 149\n",
            "Data columns (total 5 columns):\n",
            " #   Column        Non-Null Count  Dtype  \n",
            "---  ------        --------------  -----  \n",
            " 0   sepal_length  150 non-null    float64\n",
            " 1   sepal_width   150 non-null    float64\n",
            " 2   petal_length  150 non-null    float64\n",
            " 3   petal_width   150 non-null    float64\n",
            " 4   species       150 non-null    object \n",
            "dtypes: float64(4), object(1)\n",
            "memory usage: 6.0+ KB\n"
          ]
        }
      ]
    },
    {
      "cell_type": "code",
      "metadata": {
        "colab": {
          "base_uri": "https://localhost:8080/"
        },
        "id": "0wnnvR0xtbQk",
        "outputId": "9e6fd1e4-5ee6-4a9c-ad5f-3cb5aa68a56e"
      },
      "source": [
        "df.isnull().sum().sum()"
      ],
      "execution_count": null,
      "outputs": [
        {
          "output_type": "execute_result",
          "data": {
            "text/plain": [
              "0"
            ]
          },
          "metadata": {},
          "execution_count": 4
        }
      ]
    },
    {
      "cell_type": "markdown",
      "metadata": {
        "id": "QnBu5hpbs9Fg"
      },
      "source": [
        "2 - Calculate the 10th, 30th, 50th, 70th, and 90th percentile of petal length. Then do the same for petal width.\n"
      ]
    },
    {
      "cell_type": "code",
      "metadata": {
        "colab": {
          "base_uri": "https://localhost:8080/"
        },
        "id": "97XCb6jxtdu5",
        "outputId": "85fae182-c9b2-4741-a73c-168c5c0e5e78"
      },
      "source": [
        "quantiles = [0.1, 0.3, 0.5, 0.7, 0.9]\n",
        "print(\"Petal length\",df[\"petal_length\"].quantile(quantiles))\n",
        "print(\"Petal width\",df[\"petal_width\"].quantile(quantiles))"
      ],
      "execution_count": null,
      "outputs": [
        {
          "output_type": "stream",
          "name": "stdout",
          "text": [
            "Petal length 0.1    1.40\n",
            "0.3    1.70\n",
            "0.5    4.35\n",
            "0.7    5.00\n",
            "0.9    5.80\n",
            "Name: petal_length, dtype: float64\n",
            "Petal width 0.1    0.2\n",
            "0.3    0.4\n",
            "0.5    1.3\n",
            "0.7    1.8\n",
            "0.9    2.2\n",
            "Name: petal_width, dtype: float64\n"
          ]
        }
      ]
    },
    {
      "cell_type": "markdown",
      "metadata": {
        "id": "ZHyF2msws-8g"
      },
      "source": [
        "3 - Subset all rows where 'species' is equal to 'setosa' and assign to a variable called tmp. Print a) the shape of tmp and b) then show the first 5 rows of the dataframe using head. Then make a boxplot of the sepal width. Add good labels to all axes and a meaningful title.\n"
      ]
    },
    {
      "cell_type": "code",
      "metadata": {
        "colab": {
          "base_uri": "https://localhost:8080/"
        },
        "id": "vZ0wGU3puqni",
        "outputId": "ea0019f9-7969-45e4-f034-df1cda5e3603"
      },
      "source": [
        "tmp = df[ df['species'] == 'setosa' ]\n",
        "print(tmp.shape)\n",
        "print(tmp.head())"
      ],
      "execution_count": null,
      "outputs": [
        {
          "output_type": "stream",
          "name": "stdout",
          "text": [
            "(50, 5)\n",
            "   sepal_length  sepal_width  petal_length  petal_width species\n",
            "0           5.1          3.5           1.4          0.2  setosa\n",
            "1           4.9          3.0           1.4          0.2  setosa\n",
            "2           4.7          3.2           1.3          0.2  setosa\n",
            "3           4.6          3.1           1.5          0.2  setosa\n",
            "4           5.0          3.6           1.4          0.2  setosa\n"
          ]
        }
      ]
    },
    {
      "cell_type": "code",
      "metadata": {
        "colab": {
          "base_uri": "https://localhost:8080/",
          "height": 282
        },
        "id": "9QclMXLav-vB",
        "outputId": "422587b9-75c6-4eca-fef4-86c58534608a"
      },
      "source": [
        "tmp.boxplot('sepal_width') # grab the dataframe then select the 'medv' column\n",
        "plt.ylabel('Width')\n",
        "plt.title(\"Sepal Width Boxplot\")\n",
        "plt.show()"
      ],
      "execution_count": null,
      "outputs": [
        {
          "output_type": "display_data",
          "data": {
            "image/png": "[encoded data removed]",
            "text/plain": [
              "<Figure size 432x288 with 1 Axes>"
            ]
          },
          "metadata": {
            "needs_background": "light"
          }
        }
      ]
    },
    {
      "cell_type": "markdown",
      "metadata": {
        "id": "oMSVVoKHtBks"
      },
      "source": [
        "4 - Subset all rows where 'species' is equal to 'versicolor' and assign to a variable called tmp2. Print a) the shape of tmp2 and b) then show the first 5 rows of the dataframe using head. Then make a histogram of the petal width. Add good labels to all axes and a meaningful title.\n"
      ]
    },
    {
      "cell_type": "code",
      "metadata": {
        "colab": {
          "base_uri": "https://localhost:8080/"
        },
        "id": "dkzU9lgqwqxq",
        "outputId": "651d87d1-3632-47d2-93e4-57f30c55f569"
      },
      "source": [
        "tmp2 = df[ df['species'] == 'versicolor' ]\n",
        "print(tmp2.shape)\n",
        "print(tmp2.head())"
      ],
      "execution_count": null,
      "outputs": [
        {
          "output_type": "stream",
          "name": "stdout",
          "text": [
            "(50, 5)\n",
            "    sepal_length  sepal_width  petal_length  petal_width     species\n",
            "50           7.0          3.2           4.7          1.4  versicolor\n",
            "51           6.4          3.2           4.5          1.5  versicolor\n",
            "52           6.9          3.1           4.9          1.5  versicolor\n",
            "53           5.5          2.3           4.0          1.3  versicolor\n",
            "54           6.5          2.8           4.6          1.5  versicolor\n"
          ]
        }
      ]
    },
    {
      "cell_type": "code",
      "metadata": {
        "colab": {
          "base_uri": "https://localhost:8080/",
          "height": 265
        },
        "id": "cPnYk8qpwxxX",
        "outputId": "99ac21c9-3e78-4b99-8f1b-fcd3ab4d7c26"
      },
      "source": [
        "# make a histogram of one variable\n",
        "tmp2['petal_width'].hist()\n",
        "plt.show()"
      ],
      "execution_count": null,
      "outputs": [
        {
          "output_type": "display_data",
          "data": {
            "image/png": "[encoded data removed]",
            "text/plain": [
              "<Figure size 432x288 with 1 Axes>"
            ]
          },
          "metadata": {
            "needs_background": "light"
          }
        }
      ]
    },
    {
      "cell_type": "markdown",
      "metadata": {
        "id": "-UruQpvstDm3"
      },
      "source": [
        "5 - Subset all rows where 'species' is equal to 'virginica' and assign to a variable called tmp3. Print a) the shape of tmp3 and b) then show the first 5 rows of the dataframe using head. Then make a scatterplot of the sepal length vs. the sepal width. Add good labels to all axes and a meaningful title.\n"
      ]
    },
    {
      "cell_type": "code",
      "metadata": {
        "colab": {
          "base_uri": "https://localhost:8080/"
        },
        "id": "5_CW2XfUxhDy",
        "outputId": "259db689-d12d-4a9d-945d-7eb42b017f17"
      },
      "source": [
        "tmp3 = df[ df['species'] == 'virginica' ]\n",
        "print(tmp3.shape)\n",
        "print(tmp3.head())"
      ],
      "execution_count": null,
      "outputs": [
        {
          "output_type": "stream",
          "name": "stdout",
          "text": [
            "(50, 5)\n",
            "     sepal_length  sepal_width  petal_length  petal_width    species\n",
            "100           6.3          3.3           6.0          2.5  virginica\n",
            "101           5.8          2.7           5.1          1.9  virginica\n",
            "102           7.1          3.0           5.9          2.1  virginica\n",
            "103           6.3          2.9           5.6          1.8  virginica\n",
            "104           6.5          3.0           5.8          2.2  virginica\n"
          ]
        }
      ]
    },
    {
      "cell_type": "code",
      "metadata": {
        "colab": {
          "base_uri": "https://localhost:8080/",
          "height": 295
        },
        "id": "qyHZqdTcxsY3",
        "outputId": "c4d56f52-8439-4997-f956-df866d1f5fde"
      },
      "source": [
        "tmp3.plot.scatter(x='sepal_length', y='sepal_width', color='red') # notice you just need the names of the columns\n",
        "plt.xlabel(\"Length\")\n",
        "plt.ylabel(\"Width\")\n",
        "plt.title(\"Sepla Length vs. Width\")\n",
        "plt.show()"
      ],
      "execution_count": null,
      "outputs": [
        {
          "output_type": "display_data",
          "data": {
            "image/png": "[encoded data removed]",
            "text/plain": [
              "<Figure size 432x288 with 1 Axes>"
            ]
          },
          "metadata": {
            "needs_background": "light"
          }
        }
      ]
    },
    {
      "cell_type": "markdown",
      "metadata": {
        "id": "cwE9sRc4tFFR"
      },
      "source": [
        "6 - Count the number of rows where sepal length is greater than 3.5.\n"
      ]
    },
    {
      "cell_type": "code",
      "metadata": {
        "colab": {
          "base_uri": "https://localhost:8080/"
        },
        "id": "9mtkgqVYyAMt",
        "outputId": "438a3cf8-f016-4668-a4af-2ad4ca240a10"
      },
      "source": [
        "tmp5 = df[ df['sepal_length'] > 3.5 ]\n",
        "tmp5.shape"
      ],
      "execution_count": null,
      "outputs": [
        {
          "output_type": "execute_result",
          "data": {
            "text/plain": [
              "(150, 5)"
            ]
          },
          "metadata": {
            "tags": []
          },
          "execution_count": 12
        }
      ]
    },
    {
      "cell_type": "markdown",
      "metadata": {
        "id": "80Ex0zrMtGre"
      },
      "source": [
        "7 - Count the number of rows where sepal length is greater than 3.5 and sepal width is less than 3.2.\n"
      ]
    },
    {
      "cell_type": "code",
      "metadata": {
        "colab": {
          "base_uri": "https://localhost:8080/"
        },
        "id": "WNGP0uGIyKpX",
        "outputId": "5feaf9bc-4496-4793-f1a2-686017deb1e3"
      },
      "source": [
        "tmp6 = df[ (df['sepal_length'] > 3.5) & (df['sepal_width'] < 3.2) ]\n",
        "tmp6.shape"
      ],
      "execution_count": null,
      "outputs": [
        {
          "output_type": "execute_result",
          "data": {
            "text/plain": [
              "(95, 5)"
            ]
          },
          "metadata": {
            "tags": []
          },
          "execution_count": 13
        }
      ]
    },
    {
      "cell_type": "markdown",
      "metadata": {
        "id": "Oi3lTsMhtIVz"
      },
      "source": [
        "8 - Count the number of rows where sepal width is greater than the 83th percentile for sepal width.\n"
      ]
    },
    {
      "cell_type": "code",
      "metadata": {
        "colab": {
          "base_uri": "https://localhost:8080/"
        },
        "id": "DioFdg2hyVeF",
        "outputId": "8c141f31-6daa-44b6-98e2-ae403c7e50a6"
      },
      "source": [
        "percentile_value = df[\"sepal_width\"].quantile(0.83)\n",
        "tmp7 = df[ df['sepal_width'] > percentile_value ]\n",
        "tmp7.shape"
      ],
      "execution_count": null,
      "outputs": [
        {
          "output_type": "execute_result",
          "data": {
            "text/plain": [
              "(24, 5)"
            ]
          },
          "metadata": {
            "tags": []
          },
          "execution_count": 14
        }
      ]
    },
    {
      "cell_type": "markdown",
      "metadata": {
        "id": "Vh0QAOsetJue"
      },
      "source": [
        "9 - Make a density plot for sepal width, but make sure there are 3 curves on the single graph - one for each type of Iris.\n"
      ]
    },
    {
      "cell_type": "code",
      "metadata": {
        "colab": {
          "base_uri": "https://localhost:8080/",
          "height": 280
        },
        "id": "YOGYjLXhzJ5v",
        "outputId": "0485327c-8c54-42bb-a369-d1c84af20c8f"
      },
      "source": [
        "# tmp['sepal_width'].plot.density() \n",
        "# tmp2['sepal_width'].plot.density() \n",
        "# tmp3['sepal_width'].plot.density() \n",
        "# plt.show()\n",
        "\n",
        "import seaborn as sns\n",
        "# let's try regions\n",
        "\n",
        "# x1 = df.loc[df['iris_class']=='Iris-setosa', 'sepal_width']\n",
        "# x2 = df.loc[df['iris_class']=='Iris-versicolor', 'sepal_width']\n",
        "# x3 = df.loc[df['iris_class']=='Iris-virginica', 'sepal_width']\n",
        "\n",
        "sns.kdeplot(tmp['sepal_width'],label='setosa')\n",
        "sns.kdeplot(tmp2['sepal_width'],label='versicolor')\n",
        "sns.kdeplot(tmp3['sepal_width'],label='virginica')\n",
        "plt.legend()\n",
        "plt.show()\n"
      ],
      "execution_count": null,
      "outputs": [
        {
          "output_type": "display_data",
          "data": {
            "image/png": "[encoded data removed]",
            "text/plain": [
              "<Figure size 432x288 with 1 Axes>"
            ]
          },
          "metadata": {
            "tags": [],
            "needs_background": "light"
          }
        }
      ]
    },
    {
      "cell_type": "markdown",
      "metadata": {
        "id": "NwST7KKbtK2k"
      },
      "source": [
        "10 - Make a histogram for petal width, but make sure there are 3 histogram on the single graph - one for each type of species."
      ]
    },
    {
      "cell_type": "code",
      "metadata": {
        "colab": {
          "base_uri": "https://localhost:8080/",
          "height": 297
        },
        "id": "8eDiykQOzzf3",
        "outputId": "3bab6373-7a68-43cd-e841-8ca14d4b0b5d"
      },
      "source": [
        "sns.histplot(data=tmp, x=\"petal_width\", color=\"blue\", label=\"Setosa\")\n",
        "sns.histplot(data=tmp2, x=\"petal_width\", color=\"red\", label=\"Versicolor\")\n",
        "sns.histplot(data=tmp3, x=\"petal_width\", color=\"green\", label=\"Virginica\")\n",
        "plt.legend() "
      ],
      "execution_count": null,
      "outputs": [
        {
          "output_type": "execute_result",
          "data": {
            "text/plain": [
              "<matplotlib.legend.Legend at 0x7fe5249d5b10>"
            ]
          },
          "metadata": {
            "tags": []
          },
          "execution_count": 21
        },
        {
          "output_type": "display_data",
          "data": {
            "image/png": "[encoded data removed]",
            "text/plain": [
              "<Figure size 432x288 with 1 Axes>"
            ]
          },
          "metadata": {
            "tags": [],
            "needs_background": "light"
          }
        }
      ]
    }
  ]
}