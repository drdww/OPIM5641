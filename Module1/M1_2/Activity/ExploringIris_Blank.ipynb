{
  "nbformat": 4,
  "nbformat_minor": 0,
  "metadata": {
    "colab": {
      "name": "M1_Blank",
      "provenance": [],
      "collapsed_sections": [],
      "include_colab_link": true
    },
    "kernelspec": {
      "name": "python3",
      "display_name": "Python 3"
    }
  },
  "cells": [
    {
      "cell_type": "markdown",
      "metadata": {
        "id": "view-in-github",
        "colab_type": "text"
      },
      "source": [
        "<a href=\"https://colab.research.google.com/github/drdww/OPIM5641/blob/main/Module1/M1_2/Activity/ExploringIris_Blank.ipynb\" target=\"_parent\"><img src=\"https://colab.research.google.com/assets/colab-badge.svg\" alt=\"Open In Colab\"/></a>"
      ]
    },
    {
      "cell_type": "markdown",
      "metadata": {
        "id": "-PogPMiHA84T"
      },
      "source": [
        "# Individual Assignment M1.1: Iris EDA\n",
        "\n",
        "**OPIM 5641: Business Decision Modeling - University of Connecticut**\n",
        "\n",
        "--------------------------------------------------------------------------\n",
        "* Your Name Here\n",
        "* Your NetID Here\n",
        "\n",
        "**Description:** This is a very standard dataset from analytics and data science - the Iris dataset. \n",
        "\n",
        "Here is a link to the description of the dataset (yes - it is from 1988 - and it is still the 'hello world' of data analysis): https://archive.ics.uci.edu/ml/datasets/iris\n",
        "\n",
        "You may work with your fellow classmates, but you need to complete the assignment on your own. I expect different headers and COMMENTS (comments are the key to showing that you really know your stuff - without comments, your code is useless to me).\n",
        "\n",
        "**Rubric:**\n",
        "* (100 pts total, 10 pts each) To receive full credit on each item - plots, tables, calculations must have been made accurately and be well-labeled. Comments should be provided for all arguments (strive for one comment per line). We want to be able to tell you know your stuff!\n",
        "\n",
        "The first lines were included for your convenience.\n",
        "\n",
        "1. Run df.info() and check for any missing values. How do you know there aren't any missing values?\n",
        "2. Calculate the 10th, 30th, 50th, 70th, and 90th  percentile of `petal length`. Then do the same for `petal width`.\n",
        "3. Subset all rows where the 'species' is equal to 'setosa' and assign to a variable called `tmp`. Print a) the shape of `tmp` and b) then show the first 5 rows of the dataframe using head. Then make a boxplot of the sepal width. Add good labels to all axes and a meaningful title.\n",
        "4. Subset all rows where 'species' is equal to 'versicolor' and assign to a variable called `tmp2`. Print a) the shape of `tmp2` and b) then show the first 5 rows of the dataframe using head. Then make a histogram of the petal width. Add good labels to all axes and a meaningful title.\n",
        "5. Subset all rows where 'species' is equal to 'virginica' and assign to a variable called `tmp3`. Print a) the shape of `tmp3` and b) then show the first 5 rows of the dataframe using head. Then make a scatterplot of the sepal length vs. the sepal width. Add good labels to all axes and a meaningful title.\n",
        "6. Count the number of rows where sepal length is greater than 3.5.\n",
        "7. Count the number of rows where sepal length is greater than 3.5 and sepal width is less than 3.2.\n",
        "8. Count the number of rows where sepal width is greater than the 83th percentile for sepal width. \n",
        "9. Make a density plot for sepal width, but make sure there are 3 curves on the single graph - one for each type of Iris.\n",
        "10. Make a histogram for petal width, but make sure there are 3 histogram on the single graph - one for each type of species."
      ]
    },
    {
      "cell_type": "markdown",
      "metadata": {
        "id": "lhzh1oJL8bl-"
      },
      "source": [
        "# Solution"
      ]
    },
    {
      "cell_type": "markdown",
      "metadata": {
        "id": "MgwbVpcR8eNY"
      },
      "source": [
        "## Reading data\n",
        "You will find the link included already for your convenience."
      ]
    },
    {
      "cell_type": "code",
      "metadata": {
        "id": "WdJQFMxvA6uM",
        "colab": {
          "base_uri": "https://localhost:8080/",
          "height": 417
        },
        "outputId": "7d8a9d78-aeaf-4fbe-a550-642e8829021a"
      },
      "source": [
        "import pandas as pd\n",
        "from pylab import *\n",
        "df = pd.read_csv('https://gist.githubusercontent.com/curran/a08a1080b88344b0c8a7/raw/0e7a9b0a5d22642a06d3d5b9bcbad9890c8ee534/iris.csv')\n",
        "df"
      ],
      "execution_count": null,
      "outputs": [
        {
          "output_type": "execute_result",
          "data": {
            "text/html": [
              "<div>\n",
              "<style scoped>\n",
              "    .dataframe tbody tr th:only-of-type {\n",
              "        vertical-align: middle;\n",
              "    }\n",
              "\n",
              "    .dataframe tbody tr th {\n",
              "        vertical-align: top;\n",
              "    }\n",
              "\n",
              "    .dataframe thead th {\n",
              "        text-align: right;\n",
              "    }\n",
              "</style>\n",
              "<table border=\"1\" class=\"dataframe\">\n",
              "  <thead>\n",
              "    <tr style=\"text-align: right;\">\n",
              "      <th></th>\n",
              "      <th>sepal_length</th>\n",
              "      <th>sepal_width</th>\n",
              "      <th>petal_length</th>\n",
              "      <th>petal_width</th>\n",
              "      <th>species</th>\n",
              "    </tr>\n",
              "  </thead>\n",
              "  <tbody>\n",
              "    <tr>\n",
              "      <th>0</th>\n",
              "      <td>5.1</td>\n",
              "      <td>3.5</td>\n",
              "      <td>1.4</td>\n",
              "      <td>0.2</td>\n",
              "      <td>setosa</td>\n",
              "    </tr>\n",
              "    <tr>\n",
              "      <th>1</th>\n",
              "      <td>4.9</td>\n",
              "      <td>3.0</td>\n",
              "      <td>1.4</td>\n",
              "      <td>0.2</td>\n",
              "      <td>setosa</td>\n",
              "    </tr>\n",
              "    <tr>\n",
              "      <th>2</th>\n",
              "      <td>4.7</td>\n",
              "      <td>3.2</td>\n",
              "      <td>1.3</td>\n",
              "      <td>0.2</td>\n",
              "      <td>setosa</td>\n",
              "    </tr>\n",
              "    <tr>\n",
              "      <th>3</th>\n",
              "      <td>4.6</td>\n",
              "      <td>3.1</td>\n",
              "      <td>1.5</td>\n",
              "      <td>0.2</td>\n",
              "      <td>setosa</td>\n",
              "    </tr>\n",
              "    <tr>\n",
              "      <th>4</th>\n",
              "      <td>5.0</td>\n",
              "      <td>3.6</td>\n",
              "      <td>1.4</td>\n",
              "      <td>0.2</td>\n",
              "      <td>setosa</td>\n",
              "    </tr>\n",
              "    <tr>\n",
              "      <th>...</th>\n",
              "      <td>...</td>\n",
              "      <td>...</td>\n",
              "      <td>...</td>\n",
              "      <td>...</td>\n",
              "      <td>...</td>\n",
              "    </tr>\n",
              "    <tr>\n",
              "      <th>145</th>\n",
              "      <td>6.7</td>\n",
              "      <td>3.0</td>\n",
              "      <td>5.2</td>\n",
              "      <td>2.3</td>\n",
              "      <td>virginica</td>\n",
              "    </tr>\n",
              "    <tr>\n",
              "      <th>146</th>\n",
              "      <td>6.3</td>\n",
              "      <td>2.5</td>\n",
              "      <td>5.0</td>\n",
              "      <td>1.9</td>\n",
              "      <td>virginica</td>\n",
              "    </tr>\n",
              "    <tr>\n",
              "      <th>147</th>\n",
              "      <td>6.5</td>\n",
              "      <td>3.0</td>\n",
              "      <td>5.2</td>\n",
              "      <td>2.0</td>\n",
              "      <td>virginica</td>\n",
              "    </tr>\n",
              "    <tr>\n",
              "      <th>148</th>\n",
              "      <td>6.2</td>\n",
              "      <td>3.4</td>\n",
              "      <td>5.4</td>\n",
              "      <td>2.3</td>\n",
              "      <td>virginica</td>\n",
              "    </tr>\n",
              "    <tr>\n",
              "      <th>149</th>\n",
              "      <td>5.9</td>\n",
              "      <td>3.0</td>\n",
              "      <td>5.1</td>\n",
              "      <td>1.8</td>\n",
              "      <td>virginica</td>\n",
              "    </tr>\n",
              "  </tbody>\n",
              "</table>\n",
              "<p>150 rows × 5 columns</p>\n",
              "</div>"
            ],
            "text/plain": [
              "     sepal_length  sepal_width  petal_length  petal_width    species\n",
              "0             5.1          3.5           1.4          0.2     setosa\n",
              "1             4.9          3.0           1.4          0.2     setosa\n",
              "2             4.7          3.2           1.3          0.2     setosa\n",
              "3             4.6          3.1           1.5          0.2     setosa\n",
              "4             5.0          3.6           1.4          0.2     setosa\n",
              "..            ...          ...           ...          ...        ...\n",
              "145           6.7          3.0           5.2          2.3  virginica\n",
              "146           6.3          2.5           5.0          1.9  virginica\n",
              "147           6.5          3.0           5.2          2.0  virginica\n",
              "148           6.2          3.4           5.4          2.3  virginica\n",
              "149           5.9          3.0           5.1          1.8  virginica\n",
              "\n",
              "[150 rows x 5 columns]"
            ]
          },
          "metadata": {
            "tags": []
          },
          "execution_count": 1
        }
      ]
    }
  ]
}