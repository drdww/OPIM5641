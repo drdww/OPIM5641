{
  "nbformat": 4,
  "nbformat_minor": 0,
  "metadata": {
    "colab": {
      "name": "0_General_EDA_Template.ipynb",
      "provenance": [],
      "collapsed_sections": [],
      "include_colab_link": true
    },
    "kernelspec": {
      "name": "python3",
      "display_name": "Python 3"
    }
  },
  "cells": [
    {
      "cell_type": "markdown",
      "metadata": {
        "id": "view-in-github",
        "colab_type": "text"
      },
      "source": [
        "<a href=\"https://colab.research.google.com/github/drdww/OPIM5641/blob/main/Module1/4_General_EDA_Template.ipynb\" target=\"_parent\"><img src=\"https://colab.research.google.com/assets/colab-badge.svg\" alt=\"Open In Colab\"/></a>"
      ]
    },
    {
      "cell_type": "markdown",
      "metadata": {
        "id": "wmIbxfRbIXrJ"
      },
      "source": [
        "# General EDA Template\n",
        "_____________________________________________\n",
        "**OPIM 5641: Business Decision Modeling - University of Connecticut**\n",
        "\n",
        "Try to fill in the blanks for memory everyday (type it, don't just copy/paste so that your fingers get used to the syntax!)\n",
        "\n",
        "You may not need to use all of these codes everytime, but you will use all of these often as your wrangle data."
      ]
    },
    {
      "cell_type": "code",
      "metadata": {
        "id": "YD-IZF8x9ljr"
      },
      "source": [
        ""
      ],
      "execution_count": null,
      "outputs": []
    },
    {
      "cell_type": "markdown",
      "metadata": {
        "id": "izmEW6QFIcet"
      },
      "source": [
        "## Import modules, mount your Google Drive, read data\n",
        "Set up your environment"
      ]
    },
    {
      "cell_type": "code",
      "metadata": {
        "id": "sDAeq-rIQq09"
      },
      "source": [
        ""
      ],
      "execution_count": null,
      "outputs": []
    },
    {
      "cell_type": "code",
      "metadata": {
        "id": "TOG5h2N7bZAe"
      },
      "source": [
        "from google.colab import drive\n",
        "drive.mount('/content/drive')"
      ],
      "execution_count": null,
      "outputs": []
    },
    {
      "cell_type": "markdown",
      "metadata": {
        "id": "u2q7ZM26I4R9"
      },
      "source": [
        "## Shape of the data, column names, data types, missing values\n",
        "See what you're working with - any missing values? Wrong data types? Strange values?"
      ]
    },
    {
      "cell_type": "code",
      "metadata": {
        "id": "aN7n7mG5QrVk"
      },
      "source": [
        ""
      ],
      "execution_count": null,
      "outputs": []
    },
    {
      "cell_type": "markdown",
      "metadata": {
        "id": "FJj5YspfJLHc"
      },
      "source": [
        "## Flag variables\n",
        "Convert some variables to 0 or 1 to explore trends"
      ]
    },
    {
      "cell_type": "code",
      "metadata": {
        "id": "qGu4HxIPQr2Z"
      },
      "source": [
        ""
      ],
      "execution_count": null,
      "outputs": []
    },
    {
      "cell_type": "markdown",
      "metadata": {
        "id": "xTzs9eAgL7PY"
      },
      "source": [
        "## Subsetting rows and columns\n",
        "Sometimes data has extra columns you're not interested in... drop them!"
      ]
    },
    {
      "cell_type": "code",
      "metadata": {
        "id": "5OGLNooTQsUc"
      },
      "source": [
        ""
      ],
      "execution_count": null,
      "outputs": []
    },
    {
      "cell_type": "markdown",
      "metadata": {
        "id": "gAlZBXssJSHb"
      },
      "source": [
        "## Group By (pivot tables)\n",
        "Count, min, max, mean, standard deviation"
      ]
    },
    {
      "cell_type": "code",
      "metadata": {
        "id": "_lZF2Ke3Qs0a"
      },
      "source": [
        ""
      ],
      "execution_count": null,
      "outputs": []
    },
    {
      "cell_type": "markdown",
      "metadata": {
        "id": "qwK-2uz2JbTA"
      },
      "source": [
        "## Statistics, percentiles\n",
        "Get some more granularity on numeric columns"
      ]
    },
    {
      "cell_type": "code",
      "metadata": {
        "id": "Njw-C0uZQtVO"
      },
      "source": [
        ""
      ],
      "execution_count": null,
      "outputs": []
    },
    {
      "cell_type": "markdown",
      "metadata": {
        "id": "OcMVL3fiJrix"
      },
      "source": [
        "## Correlation\n",
        "Explore the relationship between numeric variables"
      ]
    },
    {
      "cell_type": "code",
      "metadata": {
        "id": "nyKSIQbGQt1I"
      },
      "source": [
        ""
      ],
      "execution_count": null,
      "outputs": []
    },
    {
      "cell_type": "markdown",
      "metadata": {
        "id": "md6Nv4xFJt-d"
      },
      "source": [
        "## Univariate Plots\n",
        "Boxplots, kernel density plots, histograms"
      ]
    },
    {
      "cell_type": "code",
      "metadata": {
        "id": "xEbhvWqMQuU_"
      },
      "source": [
        ""
      ],
      "execution_count": null,
      "outputs": []
    },
    {
      "cell_type": "markdown",
      "metadata": {
        "id": "3y2_qarhJyKr"
      },
      "source": [
        "## Bivariate Plots\n",
        "Scatterplots"
      ]
    },
    {
      "cell_type": "code",
      "metadata": {
        "id": "XQZYwqfGQu0n"
      },
      "source": [
        ""
      ],
      "execution_count": null,
      "outputs": []
    },
    {
      "cell_type": "markdown",
      "metadata": {
        "id": "0OLukmkCI--3"
      },
      "source": [
        "## Pandas profiler\n",
        "For a quick, automated check of the data... coding your own is best, but this is good for a quick check."
      ]
    },
    {
      "cell_type": "code",
      "metadata": {
        "id": "rpgqq-ewQvYE"
      },
      "source": [
        ""
      ],
      "execution_count": null,
      "outputs": []
    }
  ]
}