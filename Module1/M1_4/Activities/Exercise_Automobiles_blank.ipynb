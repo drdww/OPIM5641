{
  "nbformat": 4,
  "nbformat_minor": 0,
  "metadata": {
    "colab": {
      "name": "Exercise_Automobiles_blank.ipynb",
      "provenance": [],
      "collapsed_sections": [],
      "include_colab_link": true
    },
    "kernelspec": {
      "name": "python3",
      "display_name": "Python 3"
    },
    "language_info": {
      "name": "python"
    }
  },
  "cells": [
    {
      "cell_type": "markdown",
      "metadata": {
        "id": "view-in-github",
        "colab_type": "text"
      },
      "source": [
        "<a href=\"https://colab.research.google.com/github/drdww/OPIM5641/blob/main/Module1/M1_4/Exercise_Automobiles_blank.ipynb\" target=\"_parent\"><img src=\"https://colab.research.google.com/assets/colab-badge.svg\" alt=\"Open In Colab\"/></a>"
      ]
    },
    {
      "cell_type": "markdown",
      "source": [
        "# Brute Force: Automobile Production"
      ],
      "metadata": {
        "id": "VLrN6jYgp0aZ"
      }
    },
    {
      "cell_type": "markdown",
      "metadata": {
        "id": "3beEqWwxW6AO"
      },
      "source": [
        "**5. Planning Automobile Production.** The Auto Company\n",
        "of America (ACA) produces four types of cars: subcompact,\n",
        "compact, intermediate, and luxury. ACA also produces trucks\n",
        "and vans. Vendor capacities limit total production capacity to\n",
        "at most 1.2 million vehicles per year. Subcompacts and com-\n",
        "pacts are built together in a facility with a total annual capacity\n",
        "of 620,000 cars. Intermediate and luxury cars are produced in\n",
        "another facility with capacity of 400,000; and the truck/van\n",
        "facility has a capacity of 275,000. ACA’s marketing strategy\n",
        "requires that subcompacts and compacts must constitute at\n",
        "least half of the product mix for the four car types. The\n",
        "Corporate Average Fuel Economy (CAFE) standards in the\n",
        "Energy Policy and Conservation Act require an average fleet\n",
        "fuel economy of at least 27 mpg.\n",
        "\n",
        "Profit margins, market potential, and fuel efficiencies are\n",
        "summarized as follows:\n",
        "\n",
        "Type | Profit Margin (USD/vehicle) |Market Potential (sales in ‘000) | Fuel Economy (mpg)\n",
        "---| ---| ---| ---\n",
        "Subcompact| 50| 600| 40\n",
        "Compact| 225| 400| 34\n",
        "Intermediate| 250| 300| 15\n",
        "Luxury| 500| 225| 12\n",
        "Truck| 400| 325| 20\n",
        "Van| 200| 100| 25\n",
        "\n",
        "\n",
        "***To simplify the problem, use a step size of 25 in your `range()` functions!***\n",
        "\n",
        "1. What is the optimal profit for ACA?\n",
        "2. How long did it take to run your script in total? Try different step sizes to see how the solution time may change."
      ]
    },
    {
      "cell_type": "code",
      "metadata": {
        "id": "2WAaFGeZW4An"
      },
      "source": [
        "# Use this code to check the execution time of your code\n",
        "!pip install ipython-autotime\n",
        "%load_ext autotime"
      ],
      "execution_count": null,
      "outputs": []
    }
  ]
}
