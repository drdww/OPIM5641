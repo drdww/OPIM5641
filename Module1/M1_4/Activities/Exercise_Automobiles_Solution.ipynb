{
  "nbformat": 4,
  "nbformat_minor": 0,
  "metadata": {
    "colab": {
      "name": "Exercise_Automobiles_Solution_CC.ipynb",
      "provenance": [],
      "collapsed_sections": [],
      "include_colab_link": true
    },
    "kernelspec": {
      "name": "python3",
      "display_name": "Python 3"
    }
  },
  "cells": [
    {
      "cell_type": "markdown",
      "metadata": {
        "id": "view-in-github",
        "colab_type": "text"
      },
      "source": [
        "<a href=\"https://colab.research.google.com/github/drdww/OPIM5641/blob/main/Module1/M1_4/Exercise_Automobiles_Solution_CC.ipynb\" target=\"_parent\"><img src=\"https://colab.research.google.com/assets/colab-badge.svg\" alt=\"Open In Colab\"/></a>"
      ]
    },
    {
      "cell_type": "markdown",
      "metadata": {
        "id": "v_hFiWqd_C1T"
      },
      "source": [
        "# Individual Assignment M1.1: The Brute Force Method\n",
        "**OPIM 5641: Business Decision Modeling - University of Connecticut**\n",
        "\n",
        "-------------------------------------------------------------------------\n",
        "* Your Name Here\n",
        "* Your NetID Here\n",
        "\n",
        "**Directions:** \n",
        "Adopted from Chapter 9, Problem 5 from Powell using the brute force method. \n",
        "\n",
        "**5. Planning Automobile Production.** The Auto Company\n",
        "of America (ACA) produces four types of cars: subcompact,\n",
        "compact, intermediate, and luxury. ACA also produces trucks\n",
        "and vans. Vendor capacities limit total production capacity to\n",
        "at most 1.2 million vehicles per year. Subcompacts and com-\n",
        "pacts are built together in a facility with a total annual capacity\n",
        "of 620,000 cars. Intermediate and luxury cars are produced in\n",
        "another facility with capacity of 400,000; and the truck/van\n",
        "facility has a capacity of 275,000. ACA’s marketing strategy\n",
        "requires that subcompacts and compacts must constitute at\n",
        "least half of the product mix for the four car types. The\n",
        "Corporate Average Fuel Economy (CAFE) standards in the\n",
        "Energy Policy and Conservation Act require an average fleet\n",
        "fuel economy of at least 27 mpg.\n",
        "\n",
        "Profit margins, market potential, and fuel efficiencies are\n",
        "summarized as follows:\n",
        "\n",
        "Type | Profit Margin (USD/vehicle) |Market Potential (sales in ‘000) | Fuel Economy (mpg)\n",
        "---| ---| ---| ---\n",
        "Subcompact| 50| 600| 40\n",
        "Compact| 225| 400| 34\n",
        "Intermediate| 250| 300| 15\n",
        "Luxury| 500| 225| 12\n",
        "Truck| 400| 325| 20\n",
        "Van| 200| 100| 25\n",
        "\n",
        "\n",
        "***To simplify the problem, use a step size of 25 in your `range()` functions!***\n",
        "\n",
        "1. What is the optimal profit for ACA?\n",
        "2. How long did it take to run your script in total? Mine took X minutes to run.\n"
      ]
    },
    {
      "cell_type": "code",
      "metadata": {
        "colab": {
          "base_uri": "https://localhost:8080/"
        },
        "id": "XmsQlfM03kgY",
        "outputId": "0ae091f4-78bd-4db9-87d3-7726990ba5cc"
      },
      "source": [
        "# In this notebook, I will want to check the amount of time spent in the execution of each cell, so I need to install an additional package\n",
        "!pip install ipython-autotime\n",
        "%load_ext autotime"
      ],
      "execution_count": null,
      "outputs": [
        {
          "output_type": "stream",
          "name": "stdout",
          "text": [
            "Collecting ipython-autotime\n",
            "  Downloading ipython_autotime-0.3.1-py2.py3-none-any.whl (6.8 kB)\n",
            "Requirement already satisfied: ipython in /usr/local/lib/python3.7/dist-packages (from ipython-autotime) (5.5.0)\n",
            "Requirement already satisfied: pexpect in /usr/local/lib/python3.7/dist-packages (from ipython->ipython-autotime) (4.8.0)\n",
            "Requirement already satisfied: simplegeneric>0.8 in /usr/local/lib/python3.7/dist-packages (from ipython->ipython-autotime) (0.8.1)\n",
            "Requirement already satisfied: pygments in /usr/local/lib/python3.7/dist-packages (from ipython->ipython-autotime) (2.6.1)\n",
            "Requirement already satisfied: setuptools>=18.5 in /usr/local/lib/python3.7/dist-packages (from ipython->ipython-autotime) (57.4.0)\n",
            "Requirement already satisfied: prompt-toolkit<2.0.0,>=1.0.4 in /usr/local/lib/python3.7/dist-packages (from ipython->ipython-autotime) (1.0.18)\n",
            "Requirement already satisfied: traitlets>=4.2 in /usr/local/lib/python3.7/dist-packages (from ipython->ipython-autotime) (5.0.5)\n",
            "Requirement already satisfied: decorator in /usr/local/lib/python3.7/dist-packages (from ipython->ipython-autotime) (4.4.2)\n",
            "Requirement already satisfied: pickleshare in /usr/local/lib/python3.7/dist-packages (from ipython->ipython-autotime) (0.7.5)\n",
            "Requirement already satisfied: wcwidth in /usr/local/lib/python3.7/dist-packages (from prompt-toolkit<2.0.0,>=1.0.4->ipython->ipython-autotime) (0.2.5)\n",
            "Requirement already satisfied: six>=1.9.0 in /usr/local/lib/python3.7/dist-packages (from prompt-toolkit<2.0.0,>=1.0.4->ipython->ipython-autotime) (1.15.0)\n",
            "Requirement already satisfied: ipython-genutils in /usr/local/lib/python3.7/dist-packages (from traitlets>=4.2->ipython->ipython-autotime) (0.2.0)\n",
            "Requirement already satisfied: ptyprocess>=0.5 in /usr/local/lib/python3.7/dist-packages (from pexpect->ipython->ipython-autotime) (0.7.0)\n",
            "Installing collected packages: ipython-autotime\n",
            "Successfully installed ipython-autotime-0.3.1\n",
            "time: 262 µs (started: 2021-09-13 18:51:35 +00:00)\n"
          ]
        }
      ]
    },
    {
      "cell_type": "code",
      "metadata": {
        "id": "5B27I3Fl-_wS"
      },
      "source": [
        "# your code here - DOWNLOAD YOUR OWN COPY then complete the assignment\n",
        "\n",
        "# list\n",
        "# https://en.wikipedia.org/wiki/Array_data_structure\n",
        "products = [\"subcompact\",\"compact\",\"intermediate\",\"luxury\",\"truck\",\"van\"]\n",
        "\n",
        "# dictionary\n",
        "profit = { \n",
        "    \"subcompact\" : 50,\n",
        "    \"compact\" : 225,\n",
        "    \"intermediate\" : 250,\n",
        "    \"luxury\" : 500,\n",
        "    \"truck\" : 400,\n",
        "    \"van\" : 200\n",
        "}\n",
        "demand = { \n",
        "    \"subcompact\" : 600,\n",
        "    \"compact\" : 400,\n",
        "    \"intermediate\" : 300,\n",
        "    \"luxury\" : 225,\n",
        "    \"truck\" : 325,\n",
        "    \"van\" : 100\n",
        "}\n",
        "mpg = { \n",
        "    \"subcompact\" : 40,\n",
        "    \"compact\" : 34,\n",
        "    \"intermediate\" : 15,\n",
        "    \"luxury\" : 12,\n",
        "    \"truck\" : 20,\n",
        "    \"van\" : 25\n",
        "}\n",
        "# you can express this in 000's\n",
        "fabrication = { \n",
        "    \"total\" : 1200,\n",
        "    \"subcompacts_and_compacts\" : 620,\n",
        "    \"intermediates_and_luxurys\" : 400,\n",
        "    \"trucks_and_vans\" : 275\n",
        "}\n",
        "\n",
        "# CAFE means that your fuel economy has got to be greater than 27 MPG across EVERYTHING you are manufacturing\n",
        "CAFE = 27 #mpg"
      ],
      "execution_count": null,
      "outputs": []
    },
    {
      "cell_type": "markdown",
      "metadata": {
        "id": "aGaYVUwnz17l"
      },
      "source": [
        "Now build your model!"
      ]
    },
    {
      "cell_type": "code",
      "metadata": {
        "id": "yj0LI9Vcz2-G"
      },
      "source": [
        "def run_brute_force(step_size = 25):\n",
        "  # Variables containing current best value and current best solution\n",
        "  # you need to add all of your decision variables here\n",
        "  best_profit = 0\n",
        "  best_n_subcompact = 0\n",
        "  best_n_compact = 0\n",
        "  best_n_intermediate = 0\n",
        "  best_n_luxury = 0\n",
        "  best_n_truck = 0\n",
        "  best_n_van = 0\n",
        "\n",
        "  # now you will make the GREATEST nested for loop... SIX LOOPS FOR SIX VARIABLES!\n",
        "  # make sure you tabbed everything over\n",
        "  for subcompacts in range(0,demand[\"subcompact\"]+1,step_size):\n",
        "    for compacts in range(0,demand[\"compact\"]+1,step_size):\n",
        "      for intermediates in range(0,demand[\"intermediate\"]+1,step_size):\n",
        "        for luxurys in range(0,demand[\"luxury\"]+1,step_size):\n",
        "          for trucks in range(0,demand[\"truck\"]+1,step_size):\n",
        "            for vans in range(0,demand[\"van\"]+1,step_size):\n",
        "\n",
        "              # FABRICATION CONSTRAINTS\n",
        "              # Check subcompact and compact manufacturing totals\n",
        "              if subcompacts + compacts > fabrication[\"subcompacts_and_compacts\"]:\n",
        "                continue\n",
        "              # Check intermediate and luxury manufacturing totals\n",
        "              if intermediates + luxurys > fabrication[\"intermediates_and_luxurys\"]:\n",
        "                continue\n",
        "              # Check subcompact and compact manufacturing totals\n",
        "              if trucks + vans > fabrication[\"trucks_and_vans\"]:\n",
        "                continue\n",
        "              # Check total production\n",
        "              total = subcompacts + compacts + intermediates + luxurys + trucks + vans\n",
        "              if total > fabrication[\"total\"]:\n",
        "                continue\n",
        "\n",
        "              # MARKETING CONSTRAINT\n",
        "              if subcompacts + compacts < intermediates + luxurys:\n",
        "                continue\n",
        "\n",
        "              # Check the CAFE mpg standard\n",
        "              if (mpg[\"subcompact\"]*subcompacts + mpg[\"compact\"]*compacts + mpg[\"intermediate\"]*intermediates + mpg[\"luxury\"]*luxurys + mpg[\"truck\"]*trucks + mpg[\"van\"]*vans) < CAFE*total:\n",
        "                continue\n",
        "              \n",
        "              # store the profit\n",
        "              current_profit = profit[\"subcompact\"]*subcompacts + profit[\"compact\"]*compacts + profit[\"intermediate\"]*intermediates + profit[\"luxury\"]*luxurys + profit[\"truck\"]*trucks + profit[\"van\"]*vans\n",
        "\n",
        "              if current_profit > best_profit:\n",
        "                # if ALL OF THAT IS VALID... then store the results\n",
        "                best_profit = current_profit\n",
        "                best_n_subcompact = subcompacts\n",
        "                best_n_compact = compacts\n",
        "                best_n_intermediate = intermediates\n",
        "                best_n_luxury = luxurys\n",
        "                best_n_truck = trucks\n",
        "                best_n_van = vans\n",
        "                # track your progress\n",
        "                # print(\"Maximum profit:\",best_profit)\n",
        "                # print(\"Subcompacts\",best_n_subcompact)\n",
        "                # print(\"Compacts\",best_n_compact)\n",
        "                # print(\"Intermediates\",best_n_intermediate)\n",
        "                # print(\"Luxurys\",best_n_luxury)\n",
        "                # print(\"Trucks\",best_n_truck)\n",
        "                # print(\"Vans\",best_n_van)\n",
        "  print(\"Maximum profit:\",best_profit)\n",
        "  print(\"Subcompacts\",best_n_subcompact)\n",
        "  print(\"Compacts\",best_n_compact)\n",
        "  print(\"Intermediates\",best_n_intermediate)\n",
        "  print(\"Luxurys\",best_n_luxury)\n",
        "  print(\"Trucks\",best_n_truck)\n",
        "  print(\"Vans\",best_n_van)"
      ],
      "execution_count": null,
      "outputs": []
    },
    {
      "cell_type": "code",
      "metadata": {
        "colab": {
          "base_uri": "https://localhost:8080/"
        },
        "id": "MRSkgfdw28vz",
        "outputId": "245971c1-a872-4428-ad6c-747309ffc85d"
      },
      "source": [
        "print(25)\n",
        "run_brute_force(step_size = 25)"
      ],
      "execution_count": null,
      "outputs": [
        {
          "output_type": "stream",
          "name": "stdout",
          "text": [
            "25\n",
            "Maximum profit: 322500\n",
            "Subcompacts 200\n",
            "Compacts 400\n",
            "Intermediates 0\n",
            "Luxurys 225\n",
            "Trucks 275\n",
            "Vans 0\n",
            "time: 3.3 s (started: 2021-09-13 18:51:40 +00:00)\n"
          ]
        }
      ]
    },
    {
      "cell_type": "code",
      "metadata": {
        "colab": {
          "base_uri": "https://localhost:8080/"
        },
        "id": "rrjhbXFZGnih",
        "outputId": "754d7535-e301-4f70-e94b-bbec920c26d7"
      },
      "source": [
        "print(20)\n",
        "run_brute_force(step_size = 20)"
      ],
      "execution_count": null,
      "outputs": [
        {
          "output_type": "stream",
          "name": "stdout",
          "text": [
            "20\n",
            "Maximum profit: 325000\n",
            "Subcompacts 220\n",
            "Compacts 400\n",
            "Intermediates 40\n",
            "Luxurys 220\n",
            "Trucks 260\n",
            "Vans 0\n",
            "time: 10.8 s (started: 2021-09-13 18:51:45 +00:00)\n"
          ]
        }
      ]
    },
    {
      "cell_type": "code",
      "metadata": {
        "colab": {
          "base_uri": "https://localhost:8080/"
        },
        "id": "SqnxKX0EG8Eh",
        "outputId": "a346e61a-3f3d-45e9-b06d-aa07d1c7066f"
      },
      "source": [
        "print(15)\n",
        "run_brute_force(step_size = 15)"
      ],
      "execution_count": null,
      "outputs": [
        {
          "output_type": "stream",
          "name": "stdout",
          "text": [
            "15\n",
            "Maximum profit: 327000\n",
            "Subcompacts 225\n",
            "Compacts 390\n",
            "Intermediates 30\n",
            "Luxurys 225\n",
            "Trucks 270\n",
            "Vans 0\n",
            "time: 48.7 s (started: 2021-09-13 18:51:59 +00:00)\n"
          ]
        }
      ]
    },
    {
      "cell_type": "code",
      "metadata": {
        "colab": {
          "base_uri": "https://localhost:8080/"
        },
        "id": "9oStici3HSyr",
        "outputId": "63a7a76b-6345-4e6c-bc8c-e7648c18f445"
      },
      "source": [
        "print(10)\n",
        "run_brute_force(step_size = 10)"
      ],
      "execution_count": null,
      "outputs": [
        {
          "output_type": "stream",
          "name": "stdout",
          "text": [
            "10\n",
            "Maximum profit: 255000\n",
            "Subcompacts 600\n",
            "Compacts 20\n",
            "Intermediates 90\n",
            "Luxurys 220\n",
            "Trucks 170\n",
            "Vans 100\n",
            "time: 7min 30s (started: 2021-09-12 13:18:40 +00:00)\n"
          ]
        }
      ]
    },
    {
      "cell_type": "code",
      "metadata": {
        "colab": {
          "base_uri": "https://localhost:8080/"
        },
        "id": "Em0y9VqNM6wY",
        "outputId": "87976a1c-12ce-4634-c839-99df990380b7"
      },
      "source": [
        "def run_brute_force2(step_size = 25):\n",
        "  # Variables containing current best value and current best solution\n",
        "  # you need to add all of your decision variables here\n",
        "  best_profit = 0\n",
        "  best_n_subcompact = 0\n",
        "  best_n_compact = 0\n",
        "  best_n_intermediate = 0\n",
        "  best_n_luxury = 0\n",
        "  best_n_truck = 0\n",
        "  best_n_van = 0\n",
        "\n",
        "  # now you will make the GREATEST nested for loop... SIX LOOPS FOR SIX VARIABLES!\n",
        "  # make sure you tabbed everything over\n",
        "  for subcompacts in range(0,demand[\"subcompact\"]+1,step_size):\n",
        "    for compacts in range(0,demand[\"compact\"]+1,step_size):\n",
        "      # Check subcompact and compact manufacturing totals\n",
        "      if subcompacts + compacts > fabrication[\"subcompacts_and_compacts\"]:\n",
        "        break\n",
        "      for intermediates in range(0,demand[\"intermediate\"]+1,step_size):\n",
        "        for luxurys in range(0,demand[\"luxury\"]+1,step_size):\n",
        "          # Check intermediate and luxury manufacturing totals\n",
        "          if intermediates + luxurys > fabrication[\"intermediates_and_luxurys\"]:\n",
        "            break\n",
        "          # MARKETING CONSTRAINT\n",
        "          if subcompacts + compacts < intermediates + luxurys:\n",
        "            break\n",
        "          for trucks in range(0,demand[\"truck\"]+1,step_size):\n",
        "            for vans in range(0,demand[\"van\"]+1,step_size):\n",
        "              # Check subcompact and compact manufacturing totals\n",
        "              if trucks + vans > fabrication[\"trucks_and_vans\"]:\n",
        "                break\n",
        "              # Check total production\n",
        "              total = subcompacts + compacts + intermediates + luxurys + trucks + vans\n",
        "              if total > fabrication[\"total\"]:\n",
        "                break\n",
        "\n",
        "              # Check the CAFE mpg standard\n",
        "              if (mpg[\"subcompact\"]*subcompacts + mpg[\"compact\"]*compacts + mpg[\"intermediate\"]*intermediates + mpg[\"luxury\"]*luxurys + mpg[\"truck\"]*trucks + mpg[\"van\"]*vans) < CAFE*total:\n",
        "                continue\n",
        "              \n",
        "              # store the profit\n",
        "              current_profit = profit[\"subcompact\"]*subcompacts + profit[\"compact\"]*compacts + profit[\"intermediate\"]*intermediates + profit[\"luxury\"]*luxurys + profit[\"truck\"]*trucks + profit[\"van\"]*vans\n",
        "\n",
        "              if current_profit > best_profit:\n",
        "                # if ALL OF THAT IS VALID... then store the results\n",
        "                best_profit = current_profit\n",
        "                best_n_subcompact = subcompacts\n",
        "                best_n_compact = compacts\n",
        "                best_n_intermediate = intermediates\n",
        "                best_n_luxury = luxurys\n",
        "                best_n_truck = trucks\n",
        "                best_n_van = vans\n",
        "                # track your progress\n",
        "                # print(\"Maximum profit:\",best_profit)\n",
        "                # print(\"Subcompacts\",best_n_subcompact)\n",
        "                # print(\"Compacts\",best_n_compact)\n",
        "                # print(\"Intermediates\",best_n_intermediate)\n",
        "                # print(\"Luxurys\",best_n_luxury)\n",
        "                # print(\"Trucks\",best_n_truck)\n",
        "                # print(\"Vans\",best_n_van)\n",
        "  print(\"Maximum profit:\",best_profit)\n",
        "  print(\"Subcompacts\",best_n_subcompact)\n",
        "  print(\"Compacts\",best_n_compact)\n",
        "  print(\"Intermediates\",best_n_intermediate)\n",
        "  print(\"Luxurys\",best_n_luxury)\n",
        "  print(\"Trucks\",best_n_truck)\n",
        "  print(\"Vans\",best_n_van)"
      ],
      "execution_count": null,
      "outputs": [
        {
          "output_type": "stream",
          "name": "stdout",
          "text": [
            "time: 57.1 ms (started: 2021-09-13 18:52:55 +00:00)\n"
          ]
        }
      ]
    },
    {
      "cell_type": "code",
      "metadata": {
        "colab": {
          "base_uri": "https://localhost:8080/"
        },
        "id": "OHEefxMzNfXr",
        "outputId": "6c68c49b-04b1-491f-fbed-636836ff92cf"
      },
      "source": [
        "print(25)\n",
        "run_brute_force2(step_size = 25)"
      ],
      "execution_count": null,
      "outputs": [
        {
          "output_type": "stream",
          "name": "stdout",
          "text": [
            "25\n",
            "Maximum profit: 322500\n",
            "Subcompacts 200\n",
            "Compacts 400\n",
            "Intermediates 0\n",
            "Luxurys 225\n",
            "Trucks 275\n",
            "Vans 0\n",
            "time: 2.19 s (started: 2021-09-13 18:52:58 +00:00)\n"
          ]
        }
      ]
    },
    {
      "cell_type": "code",
      "metadata": {
        "colab": {
          "base_uri": "https://localhost:8080/"
        },
        "id": "zWU4aUrfNjss",
        "outputId": "986c5762-f981-48b3-9bc2-15d3fc8de0ba"
      },
      "source": [
        "print(20)\n",
        "run_brute_force2(step_size = 20)"
      ],
      "execution_count": null,
      "outputs": [
        {
          "output_type": "stream",
          "name": "stdout",
          "text": [
            "20\n",
            "Maximum profit: 325000\n",
            "Subcompacts 220\n",
            "Compacts 400\n",
            "Intermediates 40\n",
            "Luxurys 220\n",
            "Trucks 260\n",
            "Vans 0\n",
            "time: 7.09 s (started: 2021-09-13 18:53:03 +00:00)\n"
          ]
        }
      ]
    },
    {
      "cell_type": "code",
      "metadata": {
        "colab": {
          "base_uri": "https://localhost:8080/"
        },
        "id": "IzXqRWcTNv6e",
        "outputId": "fc76206a-b18d-4226-b91c-a1a34becd9d4"
      },
      "source": [
        "print(15)\n",
        "run_brute_force2(step_size = 15)"
      ],
      "execution_count": null,
      "outputs": [
        {
          "output_type": "stream",
          "name": "stdout",
          "text": [
            "15\n",
            "Maximum profit: 327000\n",
            "Subcompacts 225\n",
            "Compacts 390\n",
            "Intermediates 30\n",
            "Luxurys 225\n",
            "Trucks 270\n",
            "Vans 0\n",
            "time: 32.6 s (started: 2021-09-13 18:53:22 +00:00)\n"
          ]
        }
      ]
    },
    {
      "cell_type": "code",
      "metadata": {
        "colab": {
          "base_uri": "https://localhost:8080/"
        },
        "id": "wgzSRKTQN7AI",
        "outputId": "039a2929-fe08-4cdf-c2f4-5071a8dc5efa"
      },
      "source": [
        "print(10)\n",
        "run_brute_force2(step_size = 10)"
      ],
      "execution_count": null,
      "outputs": [
        {
          "output_type": "stream",
          "name": "stdout",
          "text": [
            "10\n",
            "Maximum profit: 327250\n",
            "Subcompacts 230\n",
            "Compacts 390\n",
            "Intermediates 40\n",
            "Luxurys 220\n",
            "Trucks 270\n",
            "Vans 0\n",
            "time: 5min 56s (started: 2021-09-13 18:54:04 +00:00)\n"
          ]
        }
      ]
    },
    {
      "cell_type": "code",
      "metadata": {
        "colab": {
          "base_uri": "https://localhost:8080/"
        },
        "id": "xdBO9AkjHgqM",
        "outputId": "1b7be318-4f1e-4318-94ff-bf21e2c04db2"
      },
      "source": [
        "print(5)\n",
        "run_brute_force2(step_size = 5)"
      ],
      "execution_count": null,
      "outputs": [
        {
          "output_type": "stream",
          "name": "stdout",
          "text": [
            "5\n",
            "Maximum profit: 257000\n",
            "Subcompacts 600\n",
            "Compacts 20\n",
            "Intermediates 80\n",
            "Luxurys 225\n",
            "Trucks 175\n",
            "Vans 100\n",
            "time: 4h 2min 52s (started: 2021-09-12 13:47:56 +00:00)\n"
          ]
        }
      ]
    },
    {
      "cell_type": "code",
      "metadata": {
        "id": "crdL_o3eP0lF"
      },
      "source": [
        "print(1)\n",
        "run_brute_force2(step_size = 1)"
      ],
      "execution_count": null,
      "outputs": []
    }
  ]
}
