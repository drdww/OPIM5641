{
  "nbformat": 4,
  "nbformat_minor": 0,
  "metadata": {
    "colab": {
      "name": "Introduction to Optimization_DW.ipynb",
      "provenance": [],
      "collapsed_sections": [],
      "toc_visible": true,
      "include_colab_link": true
    },
    "kernelspec": {
      "name": "python3",
      "display_name": "Python 3"
    }
  },
  "cells": [
    {
      "cell_type": "markdown",
      "metadata": {
        "id": "view-in-github",
        "colab_type": "text"
      },
      "source": [
        "<a href=\"https://colab.research.google.com/github/drdww/OPIM5641/blob/main/Module1/Introduction_to_Optimization_DW.ipynb\" target=\"_parent\"><img src=\"https://colab.research.google.com/assets/colab-badge.svg\" alt=\"Open In Colab\"/></a>"
      ]
    },
    {
      "cell_type": "markdown",
      "metadata": {
        "id": "wmIbxfRbIXrJ"
      },
      "source": [
        "# Introduction to Optimization (DW)\n",
        "--------------------------------------\n",
        "\n",
        "\"*All models are wrong, but some are useful*\" - George Box\n",
        "\n",
        "\"*For every complex problem there is an answer that is clear, simple and wrong.*\" - H.L. Mencken\n",
        "\n",
        "## Brief description\n",
        "\n",
        "The informal definition of an optimization problem is very simple and easy to understand: the goal is to find a feasible solution (i.e., a solution that satisfy all the conditions described for the problem) that optimizes (i.e., minimizes of maximize) some criteria. For example, you may want to find a production plan that will minimize costs, or you may want to find an investment plan that will maximize your returns. Actually, virtually every interesting problem in industry (and, why not, in life!) can be cast as an optimization problem. Some of these problems can be modeled and solved by current technology, and this is what we will see in this course.\n",
        "\n",
        "## Brute-force search\n",
        "\n",
        "We will see in this notebook some examples of optimization problems and how to solve them in a \"direct\" way. As you will see, there is a very simple way to solve most optimization problems; however, most simple approaches are either too inefficient or just too slow. You will learn in this course how to model problems and to use some heavy machinery in order to solve large problem efficiently.\n",
        "\n",
        "\n",
        "If you need to refresh your knowledge about Python, you can check \n",
        "https://www.w3schools.com/python/python_intro.asp"
      ]
    },
    {
      "cell_type": "code",
      "metadata": {
        "id": "boeZYrzTdrGa",
        "colab": {
          "base_uri": "https://localhost:8080/"
        },
        "outputId": "6f2b2ac5-cf53-4c2b-cf14-c8386ba93c65"
      },
      "source": [
        "# In this notebook, I will want to check the amount of time spent in the execution of each cell, so I need to install an additional package\n",
        "!pip install ipython-autotime\n",
        "%load_ext autotime"
      ],
      "execution_count": null,
      "outputs": [
        {
          "output_type": "stream",
          "text": [
            "Requirement already satisfied: ipython-autotime in /usr/local/lib/python3.7/dist-packages (0.3.1)\n",
            "Requirement already satisfied: ipython in /usr/local/lib/python3.7/dist-packages (from ipython-autotime) (5.5.0)\n",
            "Requirement already satisfied: decorator in /usr/local/lib/python3.7/dist-packages (from ipython->ipython-autotime) (4.4.2)\n",
            "Requirement already satisfied: prompt-toolkit<2.0.0,>=1.0.4 in /usr/local/lib/python3.7/dist-packages (from ipython->ipython-autotime) (1.0.18)\n",
            "Requirement already satisfied: setuptools>=18.5 in /usr/local/lib/python3.7/dist-packages (from ipython->ipython-autotime) (57.4.0)\n",
            "Requirement already satisfied: pygments in /usr/local/lib/python3.7/dist-packages (from ipython->ipython-autotime) (2.6.1)\n",
            "Requirement already satisfied: pexpect in /usr/local/lib/python3.7/dist-packages (from ipython->ipython-autotime) (4.8.0)\n",
            "Requirement already satisfied: pickleshare in /usr/local/lib/python3.7/dist-packages (from ipython->ipython-autotime) (0.7.5)\n",
            "Requirement already satisfied: simplegeneric>0.8 in /usr/local/lib/python3.7/dist-packages (from ipython->ipython-autotime) (0.8.1)\n",
            "Requirement already satisfied: traitlets>=4.2 in /usr/local/lib/python3.7/dist-packages (from ipython->ipython-autotime) (5.0.5)\n",
            "Requirement already satisfied: wcwidth in /usr/local/lib/python3.7/dist-packages (from prompt-toolkit<2.0.0,>=1.0.4->ipython->ipython-autotime) (0.2.5)\n",
            "Requirement already satisfied: six>=1.9.0 in /usr/local/lib/python3.7/dist-packages (from prompt-toolkit<2.0.0,>=1.0.4->ipython->ipython-autotime) (1.15.0)\n",
            "Requirement already satisfied: ipython-genutils in /usr/local/lib/python3.7/dist-packages (from traitlets>=4.2->ipython->ipython-autotime) (0.2.0)\n",
            "Requirement already satisfied: ptyprocess>=0.5 in /usr/local/lib/python3.7/dist-packages (from pexpect->ipython->ipython-autotime) (0.7.0)\n",
            "The autotime extension is already loaded. To reload it, use:\n",
            "  %reload_ext autotime\n",
            "time: 3.24 s (started: 2021-08-23 14:09:18 +00:00)\n"
          ],
          "name": "stdout"
        }
      ]
    },
    {
      "cell_type": "markdown",
      "metadata": {
        "id": "ya6nkdQpq4Yo"
      },
      "source": [
        "# Building blocks of a model\n",
        "\n",
        "## Input parameters\n",
        "* Data provided by the client (i.e., given in the problem statement)\n",
        "* Represent elements over which the model has no control (i.e., constant and fixed parameters)\n",
        "* You don’t optimize over input parameters, you just use them!\n",
        "* In many cases, those parameters simplify physical features of the real problem; don’t be confused by that! Again:\n",
        "\n",
        "\"*All models are wrong, but some are useful*\" - George Box\n",
        "\n",
        "## Variables\n",
        "* Traditional x and y in math classes, those are the elements the model can change\n",
        "* Some of the variables will be obvious, such as the ones containing the actual decisions you want to make. However, some times it is convenient to create and use other auxiliary variables, and this is usually less obvious\n",
        "* Different models may be correct and exact for the same problem, but frequently some models are better than others; coming up with the \"right ideas\" requires practice \n",
        "* Typically we will want to find an **optimal solution** for a problem, which consists of a set of values to the variables that give you the best solution for the problem\n",
        "* For certain problems, there may exist more than one optimal solution; so, if you and your friend have correct models but you get different solutions, don't worry, both of you will have a correct answer if your model is correct!\n",
        "\n",
        "## Constraints\n",
        "* Usually we cannot choose any values of x and y we want\n",
        "* Realistic model typically requires several constraints on the values of x and y\n",
        "* Sometimes, y must be written as a function of x (if I buy x items of a product, I will pay an amount y that depends on x)\n",
        "* Constraints apply to variables, and not to input parameters!\n",
        "* The choice of variables and the identification of constraint will \"walk together\"\n",
        "\n",
        "## Objective\n",
        "* We construct models because we want to find the best (or more accurate) values of x and y, i.e., we want to find the **optimal value**\n",
        "* An optimization problem may have different optimal solutions, but it can only have one optimal value!\n",
        "\n",
        "Our goal in this class will be the construction of models; we will delegate the identification of the best x and y to a solver\t\n",
        "\n",
        "\n"
      ]
    },
    {
      "cell_type": "markdown",
      "metadata": {
        "id": "FpP9vzd413BS"
      },
      "source": [
        "## Example - Furniture (extracted from the textbook)\n",
        "\n",
        "**Problem Description:**\n",
        "Veerman Furniture Company makes three kinds of ofﬁce furniture: chairs, desks, and tables. Each product requires some labor in the parts fabrication department, the assembly department, and the shipping department. The furniture is sold through a regional distributor, who has estimated the maximum potential sales for each product in the coming quarter. Finally,the accounting department has provided some data showing the proﬁt contributions on each product. The decision problem is to determine the product mix — that is, to **maximize Veerman’s proﬁt for the quarter by choosing production quantities for chairs, desks, and tables**.\n",
        "\n",
        "The following data summarizes the parameters of the problem:\n",
        "\n",
        "Department | Chairs | Desks | Tables | Hours Available\n",
        "--- | --- | --- | --- | ---\n",
        "Fabrication | 4 | 6 | 2 | 1,850\n",
        "Assembly | 3 | 5 | 7 | 2,400\n",
        "Shipping | 3 | 2 | 4 | 1,500\n",
        "--------------------------------------------------------------------------------\n",
        "Demand Potential | 360 | 300 | 100 |\n",
        "Profit (USD) | 15 | 24 | 18 |"
      ]
    },
    {
      "cell_type": "markdown",
      "metadata": {
        "id": "PHQSDL4KwdDh"
      },
      "source": [
        "# Building blocks for Furniture problem\n",
        "\n",
        "## Input parameters\n",
        "\n",
        "All the values that we got in the table are input parameters for the problem. Note that we cannot change those values, we can only use them.\n",
        "\n",
        "## Variables\n",
        "\n",
        "In this problem, the set of variables is relatively simple: we need to find the number of chairs, desks, and tables that will give us the best solution, so we will need one variable for each of these elements.\n",
        "\n",
        "## Constraints\n",
        "\n",
        "* We cannot have a negative number of chairs, desks, or tables, so this is a trivial but really important constraint for our model\n",
        "* The number of chairs, desks, and tables we will construct cannot be such that the total number of required fabrication hours goes over 1,850 hours. Similar for assembly and shipping.\n",
        "* Chairs have an estimated demand of 360 units, so it does not make sense to produce more than 360 chairs. Similar for desks and tables. \n",
        "\n",
        "## Objective\n",
        "\n",
        "We want to maximize our profit, which is given by the sum of the profits associated with each product. The profit for chairs is the number of chairs being produced times the profit per unit we get from them; similar for desks and tables."
      ]
    },
    {
      "cell_type": "markdown",
      "metadata": {
        "id": "JShvTYnwQNdd"
      },
      "source": [
        "# Brute-force Search\n",
        "\n",
        "Virtually every optimization problem can be solved by the following simple procedure:\n",
        "* Enumerate, for each decision variable, the set of values that this value may assume (i.e., enumerate the domain of the variables: https://en.wikipedia.org/wiki/Domain_of_a_function)\n",
        "* Enumerate the set of all possible combinations of assignments of values to decision variables (https://en.wikipedia.org/wiki/Enumeration)\n",
        "* Check all the possible combinations, doing the following in each step:\n",
        "  * Check whether the solution is feasible (i.e., check whether the values of the variables satisfy all the constraints)\n",
        "  * Evaluate the objective function; if the solution is better than any other solution you got before (from the inspection of the previous combinations), update your current best solution and repeat the process until all combinations have been inspected.\n",
        "\n",
        "In the optimization community, this strategy is known as \"brute force search\". \n",
        "\n",
        "https://en.wikipedia.org/wiki/Brute-force_search\n",
        "\n"
      ]
    },
    {
      "cell_type": "markdown",
      "metadata": {
        "id": "EVVizjBXRohy"
      },
      "source": [
        "# Brute-force Search applied to Furniture Problem\n",
        "\n",
        "In the furniture problem, our lower and upper bounds on the number of chairs, desks, and tables are the following:\n",
        "\n",
        "* Chairs: between 0 and 360\n",
        "* Desks: between 0 and 300\n",
        "* Tables: between 0 and 100\n",
        "\n",
        "Therefore, the Brute-force search approach can be easily applied to the Furniture problem. All we have to do is to generate all possible triples $(c,d,t)$, where $c, d,$ and $t$ denote the number of chairs, desks, and tables, respectively, check whether the production plan described by the triple is feasible (i.e., satisfy fabrication, shipping, and assembly constraints), and, for those who do, select the one giving the largest profit.\n",
        "\n",
        "You don't need to know a lot about Python to code this solution. Basically, you need to understand for loops and if conditions:\n",
        "\n",
        "* https://www.w3schools.com/python/python_for_loops.asp\n",
        "\n",
        "* https://www.w3schools.com/python/python_conditions.asp\n"
      ]
    },
    {
      "cell_type": "markdown",
      "metadata": {
        "id": "TKunmZEXzYBE"
      },
      "source": [
        "## Input\n",
        "\n",
        "We will start with some code containing our data. Remember that you can also use other Python functionalities to extract data from files.\n",
        "\n",
        "I'm using lists (arrays) and dictionaries to store my data:\n",
        "\n",
        "* https://www.w3schools.com/python/python_lists.asp\n",
        "* https://www.w3schools.com/python/python_dictionaries.asp"
      ]
    },
    {
      "cell_type": "code",
      "metadata": {
        "id": "u14nRsqyzjAq",
        "colab": {
          "base_uri": "https://localhost:8080/"
        },
        "outputId": "92b37ed5-63d1-4260-ff5f-28d05b330a27"
      },
      "source": [
        "# list\n",
        "# https://en.wikipedia.org/wiki/Array_data_structure\n",
        "products = [\"chair\",\"desk\",\"table\"]\n",
        "\n",
        "# dictionary\n",
        "# https://en.wikipedia.org/wiki/Hash_table\n",
        "\n",
        "fabrication = { \n",
        "    \"chair\" : 4,\n",
        "    \"desk\" : 6,\n",
        "    \"table\" : 2\n",
        "}\n",
        "assembly = {\n",
        "    \"chair\" : 3,\n",
        "    \"desk\" : 5,\n",
        "    \"table\" : 7\n",
        "}\n",
        "shipping = { \n",
        "    \"chair\" : 3,\n",
        "    \"desk\" : 2,\n",
        "    \"table\" : 4\n",
        "}\n",
        "demand = { \n",
        "    \"chair\" : 360,\n",
        "    \"desk\" : 300,\n",
        "    \"table\" : 100\n",
        "}\n",
        "profit = { \n",
        "    \"chair\" : 15,\n",
        "    \"desk\" : 24,\n",
        "    \"table\" : 18\n",
        "}\n",
        "hours = { \n",
        "    \"fabrication\" : 1850,\n",
        "    \"assembly\" : 2400,\n",
        "    \"shipping\" : 1500\n",
        "}"
      ],
      "execution_count": null,
      "outputs": [
        {
          "output_type": "stream",
          "text": [
            "time: 18.2 ms (started: 2021-08-23 14:09:21 +00:00)\n"
          ],
          "name": "stdout"
        }
      ]
    },
    {
      "cell_type": "markdown",
      "metadata": {
        "id": "BuosR5T0N6dW"
      },
      "source": [
        "## A really simple for loop\n",
        "Note how important the indentation is, how we need to use `str()` when we are pasting strings together in a print statement, that the `range()` function does NOT include the upper end.\n",
        "\n",
        "Caution: `print()` statements can make your code VERY SLOW, try to time it if you don't believe me."
      ]
    },
    {
      "cell_type": "code",
      "metadata": {
        "colab": {
          "base_uri": "https://localhost:8080/"
        },
        "id": "9Ak0xopgN-ws",
        "outputId": "fbd12355-81aa-4055-eee1-cd7be2f844d7"
      },
      "source": [
        "# here's an example printing everything - takes 156 ms\n",
        "import time\n",
        "start_time = time.time()\n",
        "\n",
        "# here is the nested for loop - you can try some simple values\n",
        "for chairs in range(0,10): #chairs\n",
        "  for desks in range(0,10): # desks\n",
        "    for tables in range(0,10): #tables\n",
        "      print(str(chairs) + ' chairs, ' +  str(desks) + ' desks, ' + str(tables) + ' tables')\n",
        "\n",
        "print(\"--- %s seconds ---\" % (time.time() - start_time))"
      ],
      "execution_count": null,
      "outputs": [
        {
          "output_type": "stream",
          "text": [
            "0 chairs, 0 desks, 0 tables\n",
            "0 chairs, 0 desks, 1 tables\n",
            "0 chairs, 0 desks, 2 tables\n",
            "0 chairs, 0 desks, 3 tables\n",
            "0 chairs, 0 desks, 4 tables\n",
            "0 chairs, 0 desks, 5 tables\n",
            "0 chairs, 0 desks, 6 tables\n",
            "0 chairs, 0 desks, 7 tables\n",
            "0 chairs, 0 desks, 8 tables\n",
            "0 chairs, 0 desks, 9 tables\n",
            "0 chairs, 1 desks, 0 tables\n",
            "0 chairs, 1 desks, 1 tables\n",
            "0 chairs, 1 desks, 2 tables\n",
            "0 chairs, 1 desks, 3 tables\n",
            "0 chairs, 1 desks, 4 tables\n",
            "0 chairs, 1 desks, 5 tables\n",
            "0 chairs, 1 desks, 6 tables\n",
            "0 chairs, 1 desks, 7 tables\n",
            "0 chairs, 1 desks, 8 tables\n",
            "0 chairs, 1 desks, 9 tables\n",
            "0 chairs, 2 desks, 0 tables\n",
            "0 chairs, 2 desks, 1 tables\n",
            "0 chairs, 2 desks, 2 tables\n",
            "0 chairs, 2 desks, 3 tables\n",
            "0 chairs, 2 desks, 4 tables\n",
            "0 chairs, 2 desks, 5 tables\n",
            "0 chairs, 2 desks, 6 tables\n",
            "0 chairs, 2 desks, 7 tables\n",
            "0 chairs, 2 desks, 8 tables\n",
            "0 chairs, 2 desks, 9 tables\n",
            "0 chairs, 3 desks, 0 tables\n",
            "0 chairs, 3 desks, 1 tables\n",
            "0 chairs, 3 desks, 2 tables\n",
            "0 chairs, 3 desks, 3 tables\n",
            "0 chairs, 3 desks, 4 tables\n",
            "0 chairs, 3 desks, 5 tables\n",
            "0 chairs, 3 desks, 6 tables\n",
            "0 chairs, 3 desks, 7 tables\n",
            "0 chairs, 3 desks, 8 tables\n",
            "0 chairs, 3 desks, 9 tables\n",
            "0 chairs, 4 desks, 0 tables\n",
            "0 chairs, 4 desks, 1 tables\n",
            "0 chairs, 4 desks, 2 tables\n",
            "0 chairs, 4 desks, 3 tables\n",
            "0 chairs, 4 desks, 4 tables\n",
            "0 chairs, 4 desks, 5 tables\n",
            "0 chairs, 4 desks, 6 tables\n",
            "0 chairs, 4 desks, 7 tables\n",
            "0 chairs, 4 desks, 8 tables\n",
            "0 chairs, 4 desks, 9 tables\n",
            "0 chairs, 5 desks, 0 tables\n",
            "0 chairs, 5 desks, 1 tables\n",
            "0 chairs, 5 desks, 2 tables\n",
            "0 chairs, 5 desks, 3 tables\n",
            "0 chairs, 5 desks, 4 tables\n",
            "0 chairs, 5 desks, 5 tables\n",
            "0 chairs, 5 desks, 6 tables\n",
            "0 chairs, 5 desks, 7 tables\n",
            "0 chairs, 5 desks, 8 tables\n",
            "0 chairs, 5 desks, 9 tables\n",
            "0 chairs, 6 desks, 0 tables\n",
            "0 chairs, 6 desks, 1 tables\n",
            "0 chairs, 6 desks, 2 tables\n",
            "0 chairs, 6 desks, 3 tables\n",
            "0 chairs, 6 desks, 4 tables\n",
            "0 chairs, 6 desks, 5 tables\n",
            "0 chairs, 6 desks, 6 tables\n",
            "0 chairs, 6 desks, 7 tables\n",
            "0 chairs, 6 desks, 8 tables\n",
            "0 chairs, 6 desks, 9 tables\n",
            "0 chairs, 7 desks, 0 tables\n",
            "0 chairs, 7 desks, 1 tables\n",
            "0 chairs, 7 desks, 2 tables\n",
            "0 chairs, 7 desks, 3 tables\n",
            "0 chairs, 7 desks, 4 tables\n",
            "0 chairs, 7 desks, 5 tables\n",
            "0 chairs, 7 desks, 6 tables\n",
            "0 chairs, 7 desks, 7 tables\n",
            "0 chairs, 7 desks, 8 tables\n",
            "0 chairs, 7 desks, 9 tables\n",
            "0 chairs, 8 desks, 0 tables\n",
            "0 chairs, 8 desks, 1 tables\n",
            "0 chairs, 8 desks, 2 tables\n",
            "0 chairs, 8 desks, 3 tables\n",
            "0 chairs, 8 desks, 4 tables\n",
            "0 chairs, 8 desks, 5 tables\n",
            "0 chairs, 8 desks, 6 tables\n",
            "0 chairs, 8 desks, 7 tables\n",
            "0 chairs, 8 desks, 8 tables\n",
            "0 chairs, 8 desks, 9 tables\n",
            "0 chairs, 9 desks, 0 tables\n",
            "0 chairs, 9 desks, 1 tables\n",
            "0 chairs, 9 desks, 2 tables\n",
            "0 chairs, 9 desks, 3 tables\n",
            "0 chairs, 9 desks, 4 tables\n",
            "0 chairs, 9 desks, 5 tables\n",
            "0 chairs, 9 desks, 6 tables\n",
            "0 chairs, 9 desks, 7 tables\n",
            "0 chairs, 9 desks, 8 tables\n",
            "0 chairs, 9 desks, 9 tables\n",
            "1 chairs, 0 desks, 0 tables\n",
            "1 chairs, 0 desks, 1 tables\n",
            "1 chairs, 0 desks, 2 tables\n",
            "1 chairs, 0 desks, 3 tables\n",
            "1 chairs, 0 desks, 4 tables\n",
            "1 chairs, 0 desks, 5 tables\n",
            "1 chairs, 0 desks, 6 tables\n",
            "1 chairs, 0 desks, 7 tables\n",
            "1 chairs, 0 desks, 8 tables\n",
            "1 chairs, 0 desks, 9 tables\n",
            "1 chairs, 1 desks, 0 tables\n",
            "1 chairs, 1 desks, 1 tables\n",
            "1 chairs, 1 desks, 2 tables\n",
            "1 chairs, 1 desks, 3 tables\n",
            "1 chairs, 1 desks, 4 tables\n",
            "1 chairs, 1 desks, 5 tables\n",
            "1 chairs, 1 desks, 6 tables\n",
            "1 chairs, 1 desks, 7 tables\n",
            "1 chairs, 1 desks, 8 tables\n",
            "1 chairs, 1 desks, 9 tables\n",
            "1 chairs, 2 desks, 0 tables\n",
            "1 chairs, 2 desks, 1 tables\n",
            "1 chairs, 2 desks, 2 tables\n",
            "1 chairs, 2 desks, 3 tables\n",
            "1 chairs, 2 desks, 4 tables\n",
            "1 chairs, 2 desks, 5 tables\n",
            "1 chairs, 2 desks, 6 tables\n",
            "1 chairs, 2 desks, 7 tables\n",
            "1 chairs, 2 desks, 8 tables\n",
            "1 chairs, 2 desks, 9 tables\n",
            "1 chairs, 3 desks, 0 tables\n",
            "1 chairs, 3 desks, 1 tables\n",
            "1 chairs, 3 desks, 2 tables\n",
            "1 chairs, 3 desks, 3 tables\n",
            "1 chairs, 3 desks, 4 tables\n",
            "1 chairs, 3 desks, 5 tables\n",
            "1 chairs, 3 desks, 6 tables\n",
            "1 chairs, 3 desks, 7 tables\n",
            "1 chairs, 3 desks, 8 tables\n",
            "1 chairs, 3 desks, 9 tables\n",
            "1 chairs, 4 desks, 0 tables\n",
            "1 chairs, 4 desks, 1 tables\n",
            "1 chairs, 4 desks, 2 tables\n",
            "1 chairs, 4 desks, 3 tables\n",
            "1 chairs, 4 desks, 4 tables\n",
            "1 chairs, 4 desks, 5 tables\n",
            "1 chairs, 4 desks, 6 tables\n",
            "1 chairs, 4 desks, 7 tables\n",
            "1 chairs, 4 desks, 8 tables\n",
            "1 chairs, 4 desks, 9 tables\n",
            "1 chairs, 5 desks, 0 tables\n",
            "1 chairs, 5 desks, 1 tables\n",
            "1 chairs, 5 desks, 2 tables\n",
            "1 chairs, 5 desks, 3 tables\n",
            "1 chairs, 5 desks, 4 tables\n",
            "1 chairs, 5 desks, 5 tables\n",
            "1 chairs, 5 desks, 6 tables\n",
            "1 chairs, 5 desks, 7 tables\n",
            "1 chairs, 5 desks, 8 tables\n",
            "1 chairs, 5 desks, 9 tables\n",
            "1 chairs, 6 desks, 0 tables\n",
            "1 chairs, 6 desks, 1 tables\n",
            "1 chairs, 6 desks, 2 tables\n",
            "1 chairs, 6 desks, 3 tables\n",
            "1 chairs, 6 desks, 4 tables\n",
            "1 chairs, 6 desks, 5 tables\n",
            "1 chairs, 6 desks, 6 tables\n",
            "1 chairs, 6 desks, 7 tables\n",
            "1 chairs, 6 desks, 8 tables\n",
            "1 chairs, 6 desks, 9 tables\n",
            "1 chairs, 7 desks, 0 tables\n",
            "1 chairs, 7 desks, 1 tables\n",
            "1 chairs, 7 desks, 2 tables\n",
            "1 chairs, 7 desks, 3 tables\n",
            "1 chairs, 7 desks, 4 tables\n",
            "1 chairs, 7 desks, 5 tables\n",
            "1 chairs, 7 desks, 6 tables\n",
            "1 chairs, 7 desks, 7 tables\n",
            "1 chairs, 7 desks, 8 tables\n",
            "1 chairs, 7 desks, 9 tables\n",
            "1 chairs, 8 desks, 0 tables\n",
            "1 chairs, 8 desks, 1 tables\n",
            "1 chairs, 8 desks, 2 tables\n",
            "1 chairs, 8 desks, 3 tables\n",
            "1 chairs, 8 desks, 4 tables\n",
            "1 chairs, 8 desks, 5 tables\n",
            "1 chairs, 8 desks, 6 tables\n",
            "1 chairs, 8 desks, 7 tables\n",
            "1 chairs, 8 desks, 8 tables\n",
            "1 chairs, 8 desks, 9 tables\n",
            "1 chairs, 9 desks, 0 tables\n",
            "1 chairs, 9 desks, 1 tables\n",
            "1 chairs, 9 desks, 2 tables\n",
            "1 chairs, 9 desks, 3 tables\n",
            "1 chairs, 9 desks, 4 tables\n",
            "1 chairs, 9 desks, 5 tables\n",
            "1 chairs, 9 desks, 6 tables\n",
            "1 chairs, 9 desks, 7 tables\n",
            "1 chairs, 9 desks, 8 tables\n",
            "1 chairs, 9 desks, 9 tables\n",
            "2 chairs, 0 desks, 0 tables\n",
            "2 chairs, 0 desks, 1 tables\n",
            "2 chairs, 0 desks, 2 tables\n",
            "2 chairs, 0 desks, 3 tables\n",
            "2 chairs, 0 desks, 4 tables\n",
            "2 chairs, 0 desks, 5 tables\n",
            "2 chairs, 0 desks, 6 tables\n",
            "2 chairs, 0 desks, 7 tables\n",
            "2 chairs, 0 desks, 8 tables\n",
            "2 chairs, 0 desks, 9 tables\n",
            "2 chairs, 1 desks, 0 tables\n",
            "2 chairs, 1 desks, 1 tables\n",
            "2 chairs, 1 desks, 2 tables\n",
            "2 chairs, 1 desks, 3 tables\n",
            "2 chairs, 1 desks, 4 tables\n",
            "2 chairs, 1 desks, 5 tables\n",
            "2 chairs, 1 desks, 6 tables\n",
            "2 chairs, 1 desks, 7 tables\n",
            "2 chairs, 1 desks, 8 tables\n",
            "2 chairs, 1 desks, 9 tables\n",
            "2 chairs, 2 desks, 0 tables\n",
            "2 chairs, 2 desks, 1 tables\n",
            "2 chairs, 2 desks, 2 tables\n",
            "2 chairs, 2 desks, 3 tables\n",
            "2 chairs, 2 desks, 4 tables\n",
            "2 chairs, 2 desks, 5 tables\n",
            "2 chairs, 2 desks, 6 tables\n",
            "2 chairs, 2 desks, 7 tables\n",
            "2 chairs, 2 desks, 8 tables\n",
            "2 chairs, 2 desks, 9 tables\n",
            "2 chairs, 3 desks, 0 tables\n",
            "2 chairs, 3 desks, 1 tables\n",
            "2 chairs, 3 desks, 2 tables\n",
            "2 chairs, 3 desks, 3 tables\n",
            "2 chairs, 3 desks, 4 tables\n",
            "2 chairs, 3 desks, 5 tables\n",
            "2 chairs, 3 desks, 6 tables\n",
            "2 chairs, 3 desks, 7 tables\n",
            "2 chairs, 3 desks, 8 tables\n",
            "2 chairs, 3 desks, 9 tables\n",
            "2 chairs, 4 desks, 0 tables\n",
            "2 chairs, 4 desks, 1 tables\n",
            "2 chairs, 4 desks, 2 tables\n",
            "2 chairs, 4 desks, 3 tables\n",
            "2 chairs, 4 desks, 4 tables\n",
            "2 chairs, 4 desks, 5 tables\n",
            "2 chairs, 4 desks, 6 tables\n",
            "2 chairs, 4 desks, 7 tables\n",
            "2 chairs, 4 desks, 8 tables\n",
            "2 chairs, 4 desks, 9 tables\n",
            "2 chairs, 5 desks, 0 tables\n",
            "2 chairs, 5 desks, 1 tables\n",
            "2 chairs, 5 desks, 2 tables\n",
            "2 chairs, 5 desks, 3 tables\n",
            "2 chairs, 5 desks, 4 tables\n",
            "2 chairs, 5 desks, 5 tables\n",
            "2 chairs, 5 desks, 6 tables\n",
            "2 chairs, 5 desks, 7 tables\n",
            "2 chairs, 5 desks, 8 tables\n",
            "2 chairs, 5 desks, 9 tables\n",
            "2 chairs, 6 desks, 0 tables\n",
            "2 chairs, 6 desks, 1 tables\n",
            "2 chairs, 6 desks, 2 tables\n",
            "2 chairs, 6 desks, 3 tables\n",
            "2 chairs, 6 desks, 4 tables\n",
            "2 chairs, 6 desks, 5 tables\n",
            "2 chairs, 6 desks, 6 tables\n",
            "2 chairs, 6 desks, 7 tables\n",
            "2 chairs, 6 desks, 8 tables\n",
            "2 chairs, 6 desks, 9 tables\n",
            "2 chairs, 7 desks, 0 tables\n",
            "2 chairs, 7 desks, 1 tables\n",
            "2 chairs, 7 desks, 2 tables\n",
            "2 chairs, 7 desks, 3 tables\n",
            "2 chairs, 7 desks, 4 tables\n",
            "2 chairs, 7 desks, 5 tables\n",
            "2 chairs, 7 desks, 6 tables\n",
            "2 chairs, 7 desks, 7 tables\n",
            "2 chairs, 7 desks, 8 tables\n",
            "2 chairs, 7 desks, 9 tables\n",
            "2 chairs, 8 desks, 0 tables\n",
            "2 chairs, 8 desks, 1 tables\n",
            "2 chairs, 8 desks, 2 tables\n",
            "2 chairs, 8 desks, 3 tables\n",
            "2 chairs, 8 desks, 4 tables\n",
            "2 chairs, 8 desks, 5 tables\n",
            "2 chairs, 8 desks, 6 tables\n",
            "2 chairs, 8 desks, 7 tables\n",
            "2 chairs, 8 desks, 8 tables\n",
            "2 chairs, 8 desks, 9 tables\n",
            "2 chairs, 9 desks, 0 tables\n",
            "2 chairs, 9 desks, 1 tables\n",
            "2 chairs, 9 desks, 2 tables\n",
            "2 chairs, 9 desks, 3 tables\n",
            "2 chairs, 9 desks, 4 tables\n",
            "2 chairs, 9 desks, 5 tables\n",
            "2 chairs, 9 desks, 6 tables\n",
            "2 chairs, 9 desks, 7 tables\n",
            "2 chairs, 9 desks, 8 tables\n",
            "2 chairs, 9 desks, 9 tables\n",
            "3 chairs, 0 desks, 0 tables\n",
            "3 chairs, 0 desks, 1 tables\n",
            "3 chairs, 0 desks, 2 tables\n",
            "3 chairs, 0 desks, 3 tables\n",
            "3 chairs, 0 desks, 4 tables\n",
            "3 chairs, 0 desks, 5 tables\n",
            "3 chairs, 0 desks, 6 tables\n",
            "3 chairs, 0 desks, 7 tables\n",
            "3 chairs, 0 desks, 8 tables\n",
            "3 chairs, 0 desks, 9 tables\n",
            "3 chairs, 1 desks, 0 tables\n",
            "3 chairs, 1 desks, 1 tables\n",
            "3 chairs, 1 desks, 2 tables\n",
            "3 chairs, 1 desks, 3 tables\n",
            "3 chairs, 1 desks, 4 tables\n",
            "3 chairs, 1 desks, 5 tables\n",
            "3 chairs, 1 desks, 6 tables\n",
            "3 chairs, 1 desks, 7 tables\n",
            "3 chairs, 1 desks, 8 tables\n",
            "3 chairs, 1 desks, 9 tables\n",
            "3 chairs, 2 desks, 0 tables\n",
            "3 chairs, 2 desks, 1 tables\n",
            "3 chairs, 2 desks, 2 tables\n",
            "3 chairs, 2 desks, 3 tables\n",
            "3 chairs, 2 desks, 4 tables\n",
            "3 chairs, 2 desks, 5 tables\n",
            "3 chairs, 2 desks, 6 tables\n",
            "3 chairs, 2 desks, 7 tables\n",
            "3 chairs, 2 desks, 8 tables\n",
            "3 chairs, 2 desks, 9 tables\n",
            "3 chairs, 3 desks, 0 tables\n",
            "3 chairs, 3 desks, 1 tables\n",
            "3 chairs, 3 desks, 2 tables\n",
            "3 chairs, 3 desks, 3 tables\n",
            "3 chairs, 3 desks, 4 tables\n",
            "3 chairs, 3 desks, 5 tables\n",
            "3 chairs, 3 desks, 6 tables\n",
            "3 chairs, 3 desks, 7 tables\n",
            "3 chairs, 3 desks, 8 tables\n",
            "3 chairs, 3 desks, 9 tables\n",
            "3 chairs, 4 desks, 0 tables\n",
            "3 chairs, 4 desks, 1 tables\n",
            "3 chairs, 4 desks, 2 tables\n",
            "3 chairs, 4 desks, 3 tables\n",
            "3 chairs, 4 desks, 4 tables\n",
            "3 chairs, 4 desks, 5 tables\n",
            "3 chairs, 4 desks, 6 tables\n",
            "3 chairs, 4 desks, 7 tables\n",
            "3 chairs, 4 desks, 8 tables\n",
            "3 chairs, 4 desks, 9 tables\n",
            "3 chairs, 5 desks, 0 tables\n",
            "3 chairs, 5 desks, 1 tables\n",
            "3 chairs, 5 desks, 2 tables\n",
            "3 chairs, 5 desks, 3 tables\n",
            "3 chairs, 5 desks, 4 tables\n",
            "3 chairs, 5 desks, 5 tables\n",
            "3 chairs, 5 desks, 6 tables\n",
            "3 chairs, 5 desks, 7 tables\n",
            "3 chairs, 5 desks, 8 tables\n",
            "3 chairs, 5 desks, 9 tables\n",
            "3 chairs, 6 desks, 0 tables\n",
            "3 chairs, 6 desks, 1 tables\n",
            "3 chairs, 6 desks, 2 tables\n",
            "3 chairs, 6 desks, 3 tables\n",
            "3 chairs, 6 desks, 4 tables\n",
            "3 chairs, 6 desks, 5 tables\n",
            "3 chairs, 6 desks, 6 tables\n",
            "3 chairs, 6 desks, 7 tables\n",
            "3 chairs, 6 desks, 8 tables\n",
            "3 chairs, 6 desks, 9 tables\n",
            "3 chairs, 7 desks, 0 tables\n",
            "3 chairs, 7 desks, 1 tables\n",
            "3 chairs, 7 desks, 2 tables\n",
            "3 chairs, 7 desks, 3 tables\n",
            "3 chairs, 7 desks, 4 tables\n",
            "3 chairs, 7 desks, 5 tables\n",
            "3 chairs, 7 desks, 6 tables\n",
            "3 chairs, 7 desks, 7 tables\n",
            "3 chairs, 7 desks, 8 tables\n",
            "3 chairs, 7 desks, 9 tables\n",
            "3 chairs, 8 desks, 0 tables\n",
            "3 chairs, 8 desks, 1 tables\n",
            "3 chairs, 8 desks, 2 tables\n",
            "3 chairs, 8 desks, 3 tables\n",
            "3 chairs, 8 desks, 4 tables\n",
            "3 chairs, 8 desks, 5 tables\n",
            "3 chairs, 8 desks, 6 tables\n",
            "3 chairs, 8 desks, 7 tables\n",
            "3 chairs, 8 desks, 8 tables\n",
            "3 chairs, 8 desks, 9 tables\n",
            "3 chairs, 9 desks, 0 tables\n",
            "3 chairs, 9 desks, 1 tables\n",
            "3 chairs, 9 desks, 2 tables\n",
            "3 chairs, 9 desks, 3 tables\n",
            "3 chairs, 9 desks, 4 tables\n",
            "3 chairs, 9 desks, 5 tables\n",
            "3 chairs, 9 desks, 6 tables\n",
            "3 chairs, 9 desks, 7 tables\n",
            "3 chairs, 9 desks, 8 tables\n",
            "3 chairs, 9 desks, 9 tables\n",
            "4 chairs, 0 desks, 0 tables\n",
            "4 chairs, 0 desks, 1 tables\n",
            "4 chairs, 0 desks, 2 tables\n",
            "4 chairs, 0 desks, 3 tables\n",
            "4 chairs, 0 desks, 4 tables\n",
            "4 chairs, 0 desks, 5 tables\n",
            "4 chairs, 0 desks, 6 tables\n",
            "4 chairs, 0 desks, 7 tables\n",
            "4 chairs, 0 desks, 8 tables\n",
            "4 chairs, 0 desks, 9 tables\n",
            "4 chairs, 1 desks, 0 tables\n",
            "4 chairs, 1 desks, 1 tables\n",
            "4 chairs, 1 desks, 2 tables\n",
            "4 chairs, 1 desks, 3 tables\n",
            "4 chairs, 1 desks, 4 tables\n",
            "4 chairs, 1 desks, 5 tables\n",
            "4 chairs, 1 desks, 6 tables\n",
            "4 chairs, 1 desks, 7 tables\n",
            "4 chairs, 1 desks, 8 tables\n",
            "4 chairs, 1 desks, 9 tables\n",
            "4 chairs, 2 desks, 0 tables\n",
            "4 chairs, 2 desks, 1 tables\n",
            "4 chairs, 2 desks, 2 tables\n",
            "4 chairs, 2 desks, 3 tables\n",
            "4 chairs, 2 desks, 4 tables\n",
            "4 chairs, 2 desks, 5 tables\n",
            "4 chairs, 2 desks, 6 tables\n",
            "4 chairs, 2 desks, 7 tables\n",
            "4 chairs, 2 desks, 8 tables\n",
            "4 chairs, 2 desks, 9 tables\n",
            "4 chairs, 3 desks, 0 tables\n",
            "4 chairs, 3 desks, 1 tables\n",
            "4 chairs, 3 desks, 2 tables\n",
            "4 chairs, 3 desks, 3 tables\n",
            "4 chairs, 3 desks, 4 tables\n",
            "4 chairs, 3 desks, 5 tables\n",
            "4 chairs, 3 desks, 6 tables\n",
            "4 chairs, 3 desks, 7 tables\n",
            "4 chairs, 3 desks, 8 tables\n",
            "4 chairs, 3 desks, 9 tables\n",
            "4 chairs, 4 desks, 0 tables\n",
            "4 chairs, 4 desks, 1 tables\n",
            "4 chairs, 4 desks, 2 tables\n",
            "4 chairs, 4 desks, 3 tables\n",
            "4 chairs, 4 desks, 4 tables\n",
            "4 chairs, 4 desks, 5 tables\n",
            "4 chairs, 4 desks, 6 tables\n",
            "4 chairs, 4 desks, 7 tables\n",
            "4 chairs, 4 desks, 8 tables\n",
            "4 chairs, 4 desks, 9 tables\n",
            "4 chairs, 5 desks, 0 tables\n",
            "4 chairs, 5 desks, 1 tables\n",
            "4 chairs, 5 desks, 2 tables\n",
            "4 chairs, 5 desks, 3 tables\n",
            "4 chairs, 5 desks, 4 tables\n",
            "4 chairs, 5 desks, 5 tables\n",
            "4 chairs, 5 desks, 6 tables\n",
            "4 chairs, 5 desks, 7 tables\n",
            "4 chairs, 5 desks, 8 tables\n",
            "4 chairs, 5 desks, 9 tables\n",
            "4 chairs, 6 desks, 0 tables\n",
            "4 chairs, 6 desks, 1 tables\n",
            "4 chairs, 6 desks, 2 tables\n",
            "4 chairs, 6 desks, 3 tables\n",
            "4 chairs, 6 desks, 4 tables\n",
            "4 chairs, 6 desks, 5 tables\n",
            "4 chairs, 6 desks, 6 tables\n",
            "4 chairs, 6 desks, 7 tables\n",
            "4 chairs, 6 desks, 8 tables\n",
            "4 chairs, 6 desks, 9 tables\n",
            "4 chairs, 7 desks, 0 tables\n",
            "4 chairs, 7 desks, 1 tables\n",
            "4 chairs, 7 desks, 2 tables\n",
            "4 chairs, 7 desks, 3 tables\n",
            "4 chairs, 7 desks, 4 tables\n",
            "4 chairs, 7 desks, 5 tables\n",
            "4 chairs, 7 desks, 6 tables\n",
            "4 chairs, 7 desks, 7 tables\n",
            "4 chairs, 7 desks, 8 tables\n",
            "4 chairs, 7 desks, 9 tables\n",
            "4 chairs, 8 desks, 0 tables\n",
            "4 chairs, 8 desks, 1 tables\n",
            "4 chairs, 8 desks, 2 tables\n",
            "4 chairs, 8 desks, 3 tables\n",
            "4 chairs, 8 desks, 4 tables\n",
            "4 chairs, 8 desks, 5 tables\n",
            "4 chairs, 8 desks, 6 tables\n",
            "4 chairs, 8 desks, 7 tables\n",
            "4 chairs, 8 desks, 8 tables\n",
            "4 chairs, 8 desks, 9 tables\n",
            "4 chairs, 9 desks, 0 tables\n",
            "4 chairs, 9 desks, 1 tables\n",
            "4 chairs, 9 desks, 2 tables\n",
            "4 chairs, 9 desks, 3 tables\n",
            "4 chairs, 9 desks, 4 tables\n",
            "4 chairs, 9 desks, 5 tables\n",
            "4 chairs, 9 desks, 6 tables\n",
            "4 chairs, 9 desks, 7 tables\n",
            "4 chairs, 9 desks, 8 tables\n",
            "4 chairs, 9 desks, 9 tables\n",
            "5 chairs, 0 desks, 0 tables\n",
            "5 chairs, 0 desks, 1 tables\n",
            "5 chairs, 0 desks, 2 tables\n",
            "5 chairs, 0 desks, 3 tables\n",
            "5 chairs, 0 desks, 4 tables\n",
            "5 chairs, 0 desks, 5 tables\n",
            "5 chairs, 0 desks, 6 tables\n",
            "5 chairs, 0 desks, 7 tables\n",
            "5 chairs, 0 desks, 8 tables\n",
            "5 chairs, 0 desks, 9 tables\n",
            "5 chairs, 1 desks, 0 tables\n",
            "5 chairs, 1 desks, 1 tables\n",
            "5 chairs, 1 desks, 2 tables\n",
            "5 chairs, 1 desks, 3 tables\n",
            "5 chairs, 1 desks, 4 tables\n",
            "5 chairs, 1 desks, 5 tables\n",
            "5 chairs, 1 desks, 6 tables\n",
            "5 chairs, 1 desks, 7 tables\n",
            "5 chairs, 1 desks, 8 tables\n",
            "5 chairs, 1 desks, 9 tables\n",
            "5 chairs, 2 desks, 0 tables\n",
            "5 chairs, 2 desks, 1 tables\n",
            "5 chairs, 2 desks, 2 tables\n",
            "5 chairs, 2 desks, 3 tables\n",
            "5 chairs, 2 desks, 4 tables\n",
            "5 chairs, 2 desks, 5 tables\n",
            "5 chairs, 2 desks, 6 tables\n",
            "5 chairs, 2 desks, 7 tables\n",
            "5 chairs, 2 desks, 8 tables\n",
            "5 chairs, 2 desks, 9 tables\n",
            "5 chairs, 3 desks, 0 tables\n",
            "5 chairs, 3 desks, 1 tables\n",
            "5 chairs, 3 desks, 2 tables\n",
            "5 chairs, 3 desks, 3 tables\n",
            "5 chairs, 3 desks, 4 tables\n",
            "5 chairs, 3 desks, 5 tables\n",
            "5 chairs, 3 desks, 6 tables\n",
            "5 chairs, 3 desks, 7 tables\n",
            "5 chairs, 3 desks, 8 tables\n",
            "5 chairs, 3 desks, 9 tables\n",
            "5 chairs, 4 desks, 0 tables\n",
            "5 chairs, 4 desks, 1 tables\n",
            "5 chairs, 4 desks, 2 tables\n",
            "5 chairs, 4 desks, 3 tables\n",
            "5 chairs, 4 desks, 4 tables\n",
            "5 chairs, 4 desks, 5 tables\n",
            "5 chairs, 4 desks, 6 tables\n",
            "5 chairs, 4 desks, 7 tables\n",
            "5 chairs, 4 desks, 8 tables\n",
            "5 chairs, 4 desks, 9 tables\n",
            "5 chairs, 5 desks, 0 tables\n",
            "5 chairs, 5 desks, 1 tables\n",
            "5 chairs, 5 desks, 2 tables\n",
            "5 chairs, 5 desks, 3 tables\n",
            "5 chairs, 5 desks, 4 tables\n",
            "5 chairs, 5 desks, 5 tables\n",
            "5 chairs, 5 desks, 6 tables\n",
            "5 chairs, 5 desks, 7 tables\n",
            "5 chairs, 5 desks, 8 tables\n",
            "5 chairs, 5 desks, 9 tables\n",
            "5 chairs, 6 desks, 0 tables\n",
            "5 chairs, 6 desks, 1 tables\n",
            "5 chairs, 6 desks, 2 tables\n",
            "5 chairs, 6 desks, 3 tables\n",
            "5 chairs, 6 desks, 4 tables\n",
            "5 chairs, 6 desks, 5 tables\n",
            "5 chairs, 6 desks, 6 tables\n",
            "5 chairs, 6 desks, 7 tables\n",
            "5 chairs, 6 desks, 8 tables\n",
            "5 chairs, 6 desks, 9 tables\n",
            "5 chairs, 7 desks, 0 tables\n",
            "5 chairs, 7 desks, 1 tables\n",
            "5 chairs, 7 desks, 2 tables\n",
            "5 chairs, 7 desks, 3 tables\n",
            "5 chairs, 7 desks, 4 tables\n",
            "5 chairs, 7 desks, 5 tables\n",
            "5 chairs, 7 desks, 6 tables\n",
            "5 chairs, 7 desks, 7 tables\n",
            "5 chairs, 7 desks, 8 tables\n",
            "5 chairs, 7 desks, 9 tables\n",
            "5 chairs, 8 desks, 0 tables\n",
            "5 chairs, 8 desks, 1 tables\n",
            "5 chairs, 8 desks, 2 tables\n",
            "5 chairs, 8 desks, 3 tables\n",
            "5 chairs, 8 desks, 4 tables\n",
            "5 chairs, 8 desks, 5 tables\n",
            "5 chairs, 8 desks, 6 tables\n",
            "5 chairs, 8 desks, 7 tables\n",
            "5 chairs, 8 desks, 8 tables\n",
            "5 chairs, 8 desks, 9 tables\n",
            "5 chairs, 9 desks, 0 tables\n",
            "5 chairs, 9 desks, 1 tables\n",
            "5 chairs, 9 desks, 2 tables\n",
            "5 chairs, 9 desks, 3 tables\n",
            "5 chairs, 9 desks, 4 tables\n",
            "5 chairs, 9 desks, 5 tables\n",
            "5 chairs, 9 desks, 6 tables\n",
            "5 chairs, 9 desks, 7 tables\n",
            "5 chairs, 9 desks, 8 tables\n",
            "5 chairs, 9 desks, 9 tables\n",
            "6 chairs, 0 desks, 0 tables\n",
            "6 chairs, 0 desks, 1 tables\n",
            "6 chairs, 0 desks, 2 tables\n",
            "6 chairs, 0 desks, 3 tables\n",
            "6 chairs, 0 desks, 4 tables\n",
            "6 chairs, 0 desks, 5 tables\n",
            "6 chairs, 0 desks, 6 tables\n",
            "6 chairs, 0 desks, 7 tables\n",
            "6 chairs, 0 desks, 8 tables\n",
            "6 chairs, 0 desks, 9 tables\n",
            "6 chairs, 1 desks, 0 tables\n",
            "6 chairs, 1 desks, 1 tables\n",
            "6 chairs, 1 desks, 2 tables\n",
            "6 chairs, 1 desks, 3 tables\n",
            "6 chairs, 1 desks, 4 tables\n",
            "6 chairs, 1 desks, 5 tables\n",
            "6 chairs, 1 desks, 6 tables\n",
            "6 chairs, 1 desks, 7 tables\n",
            "6 chairs, 1 desks, 8 tables\n",
            "6 chairs, 1 desks, 9 tables\n",
            "6 chairs, 2 desks, 0 tables\n",
            "6 chairs, 2 desks, 1 tables\n",
            "6 chairs, 2 desks, 2 tables\n",
            "6 chairs, 2 desks, 3 tables\n",
            "6 chairs, 2 desks, 4 tables\n",
            "6 chairs, 2 desks, 5 tables\n",
            "6 chairs, 2 desks, 6 tables\n",
            "6 chairs, 2 desks, 7 tables\n",
            "6 chairs, 2 desks, 8 tables\n",
            "6 chairs, 2 desks, 9 tables\n",
            "6 chairs, 3 desks, 0 tables\n",
            "6 chairs, 3 desks, 1 tables\n",
            "6 chairs, 3 desks, 2 tables\n",
            "6 chairs, 3 desks, 3 tables\n",
            "6 chairs, 3 desks, 4 tables\n",
            "6 chairs, 3 desks, 5 tables\n",
            "6 chairs, 3 desks, 6 tables\n",
            "6 chairs, 3 desks, 7 tables\n",
            "6 chairs, 3 desks, 8 tables\n",
            "6 chairs, 3 desks, 9 tables\n",
            "6 chairs, 4 desks, 0 tables\n",
            "6 chairs, 4 desks, 1 tables\n",
            "6 chairs, 4 desks, 2 tables\n",
            "6 chairs, 4 desks, 3 tables\n",
            "6 chairs, 4 desks, 4 tables\n",
            "6 chairs, 4 desks, 5 tables\n",
            "6 chairs, 4 desks, 6 tables\n",
            "6 chairs, 4 desks, 7 tables\n",
            "6 chairs, 4 desks, 8 tables\n",
            "6 chairs, 4 desks, 9 tables\n",
            "6 chairs, 5 desks, 0 tables\n",
            "6 chairs, 5 desks, 1 tables\n",
            "6 chairs, 5 desks, 2 tables\n",
            "6 chairs, 5 desks, 3 tables\n",
            "6 chairs, 5 desks, 4 tables\n",
            "6 chairs, 5 desks, 5 tables\n",
            "6 chairs, 5 desks, 6 tables\n",
            "6 chairs, 5 desks, 7 tables\n",
            "6 chairs, 5 desks, 8 tables\n",
            "6 chairs, 5 desks, 9 tables\n",
            "6 chairs, 6 desks, 0 tables\n",
            "6 chairs, 6 desks, 1 tables\n",
            "6 chairs, 6 desks, 2 tables\n",
            "6 chairs, 6 desks, 3 tables\n",
            "6 chairs, 6 desks, 4 tables\n",
            "6 chairs, 6 desks, 5 tables\n",
            "6 chairs, 6 desks, 6 tables\n",
            "6 chairs, 6 desks, 7 tables\n",
            "6 chairs, 6 desks, 8 tables\n",
            "6 chairs, 6 desks, 9 tables\n",
            "6 chairs, 7 desks, 0 tables\n",
            "6 chairs, 7 desks, 1 tables\n",
            "6 chairs, 7 desks, 2 tables\n",
            "6 chairs, 7 desks, 3 tables\n",
            "6 chairs, 7 desks, 4 tables\n",
            "6 chairs, 7 desks, 5 tables\n",
            "6 chairs, 7 desks, 6 tables\n",
            "6 chairs, 7 desks, 7 tables\n",
            "6 chairs, 7 desks, 8 tables\n",
            "6 chairs, 7 desks, 9 tables\n",
            "6 chairs, 8 desks, 0 tables\n",
            "6 chairs, 8 desks, 1 tables\n",
            "6 chairs, 8 desks, 2 tables\n",
            "6 chairs, 8 desks, 3 tables\n",
            "6 chairs, 8 desks, 4 tables\n",
            "6 chairs, 8 desks, 5 tables\n",
            "6 chairs, 8 desks, 6 tables\n",
            "6 chairs, 8 desks, 7 tables\n",
            "6 chairs, 8 desks, 8 tables\n",
            "6 chairs, 8 desks, 9 tables\n",
            "6 chairs, 9 desks, 0 tables\n",
            "6 chairs, 9 desks, 1 tables\n",
            "6 chairs, 9 desks, 2 tables\n",
            "6 chairs, 9 desks, 3 tables\n",
            "6 chairs, 9 desks, 4 tables\n",
            "6 chairs, 9 desks, 5 tables\n",
            "6 chairs, 9 desks, 6 tables\n",
            "6 chairs, 9 desks, 7 tables\n",
            "6 chairs, 9 desks, 8 tables\n",
            "6 chairs, 9 desks, 9 tables\n",
            "7 chairs, 0 desks, 0 tables\n",
            "7 chairs, 0 desks, 1 tables\n",
            "7 chairs, 0 desks, 2 tables\n",
            "7 chairs, 0 desks, 3 tables\n",
            "7 chairs, 0 desks, 4 tables\n",
            "7 chairs, 0 desks, 5 tables\n",
            "7 chairs, 0 desks, 6 tables\n",
            "7 chairs, 0 desks, 7 tables\n",
            "7 chairs, 0 desks, 8 tables\n",
            "7 chairs, 0 desks, 9 tables\n",
            "7 chairs, 1 desks, 0 tables\n",
            "7 chairs, 1 desks, 1 tables\n",
            "7 chairs, 1 desks, 2 tables\n",
            "7 chairs, 1 desks, 3 tables\n",
            "7 chairs, 1 desks, 4 tables\n",
            "7 chairs, 1 desks, 5 tables\n",
            "7 chairs, 1 desks, 6 tables\n",
            "7 chairs, 1 desks, 7 tables\n",
            "7 chairs, 1 desks, 8 tables\n",
            "7 chairs, 1 desks, 9 tables\n",
            "7 chairs, 2 desks, 0 tables\n",
            "7 chairs, 2 desks, 1 tables\n",
            "7 chairs, 2 desks, 2 tables\n",
            "7 chairs, 2 desks, 3 tables\n",
            "7 chairs, 2 desks, 4 tables\n",
            "7 chairs, 2 desks, 5 tables\n",
            "7 chairs, 2 desks, 6 tables\n",
            "7 chairs, 2 desks, 7 tables\n",
            "7 chairs, 2 desks, 8 tables\n",
            "7 chairs, 2 desks, 9 tables\n",
            "7 chairs, 3 desks, 0 tables\n",
            "7 chairs, 3 desks, 1 tables\n",
            "7 chairs, 3 desks, 2 tables\n",
            "7 chairs, 3 desks, 3 tables\n",
            "7 chairs, 3 desks, 4 tables\n",
            "7 chairs, 3 desks, 5 tables\n",
            "7 chairs, 3 desks, 6 tables\n",
            "7 chairs, 3 desks, 7 tables\n",
            "7 chairs, 3 desks, 8 tables\n",
            "7 chairs, 3 desks, 9 tables\n",
            "7 chairs, 4 desks, 0 tables\n",
            "7 chairs, 4 desks, 1 tables\n",
            "7 chairs, 4 desks, 2 tables\n",
            "7 chairs, 4 desks, 3 tables\n",
            "7 chairs, 4 desks, 4 tables\n",
            "7 chairs, 4 desks, 5 tables\n",
            "7 chairs, 4 desks, 6 tables\n",
            "7 chairs, 4 desks, 7 tables\n",
            "7 chairs, 4 desks, 8 tables\n",
            "7 chairs, 4 desks, 9 tables\n",
            "7 chairs, 5 desks, 0 tables\n",
            "7 chairs, 5 desks, 1 tables\n",
            "7 chairs, 5 desks, 2 tables\n",
            "7 chairs, 5 desks, 3 tables\n",
            "7 chairs, 5 desks, 4 tables\n",
            "7 chairs, 5 desks, 5 tables\n",
            "7 chairs, 5 desks, 6 tables\n",
            "7 chairs, 5 desks, 7 tables\n",
            "7 chairs, 5 desks, 8 tables\n",
            "7 chairs, 5 desks, 9 tables\n",
            "7 chairs, 6 desks, 0 tables\n",
            "7 chairs, 6 desks, 1 tables\n",
            "7 chairs, 6 desks, 2 tables\n",
            "7 chairs, 6 desks, 3 tables\n",
            "7 chairs, 6 desks, 4 tables\n",
            "7 chairs, 6 desks, 5 tables\n",
            "7 chairs, 6 desks, 6 tables\n",
            "7 chairs, 6 desks, 7 tables\n",
            "7 chairs, 6 desks, 8 tables\n",
            "7 chairs, 6 desks, 9 tables\n",
            "7 chairs, 7 desks, 0 tables\n",
            "7 chairs, 7 desks, 1 tables\n",
            "7 chairs, 7 desks, 2 tables\n",
            "7 chairs, 7 desks, 3 tables\n",
            "7 chairs, 7 desks, 4 tables\n",
            "7 chairs, 7 desks, 5 tables\n",
            "7 chairs, 7 desks, 6 tables\n",
            "7 chairs, 7 desks, 7 tables\n",
            "7 chairs, 7 desks, 8 tables\n",
            "7 chairs, 7 desks, 9 tables\n",
            "7 chairs, 8 desks, 0 tables\n",
            "7 chairs, 8 desks, 1 tables\n",
            "7 chairs, 8 desks, 2 tables\n",
            "7 chairs, 8 desks, 3 tables\n",
            "7 chairs, 8 desks, 4 tables\n",
            "7 chairs, 8 desks, 5 tables\n",
            "7 chairs, 8 desks, 6 tables\n",
            "7 chairs, 8 desks, 7 tables\n",
            "7 chairs, 8 desks, 8 tables\n",
            "7 chairs, 8 desks, 9 tables\n",
            "7 chairs, 9 desks, 0 tables\n",
            "7 chairs, 9 desks, 1 tables\n",
            "7 chairs, 9 desks, 2 tables\n",
            "7 chairs, 9 desks, 3 tables\n",
            "7 chairs, 9 desks, 4 tables\n",
            "7 chairs, 9 desks, 5 tables\n",
            "7 chairs, 9 desks, 6 tables\n",
            "7 chairs, 9 desks, 7 tables\n",
            "7 chairs, 9 desks, 8 tables\n",
            "7 chairs, 9 desks, 9 tables\n",
            "8 chairs, 0 desks, 0 tables\n",
            "8 chairs, 0 desks, 1 tables\n",
            "8 chairs, 0 desks, 2 tables\n",
            "8 chairs, 0 desks, 3 tables\n",
            "8 chairs, 0 desks, 4 tables\n",
            "8 chairs, 0 desks, 5 tables\n",
            "8 chairs, 0 desks, 6 tables\n",
            "8 chairs, 0 desks, 7 tables\n",
            "8 chairs, 0 desks, 8 tables\n",
            "8 chairs, 0 desks, 9 tables\n",
            "8 chairs, 1 desks, 0 tables\n",
            "8 chairs, 1 desks, 1 tables\n",
            "8 chairs, 1 desks, 2 tables\n",
            "8 chairs, 1 desks, 3 tables\n",
            "8 chairs, 1 desks, 4 tables\n",
            "8 chairs, 1 desks, 5 tables\n",
            "8 chairs, 1 desks, 6 tables\n",
            "8 chairs, 1 desks, 7 tables\n",
            "8 chairs, 1 desks, 8 tables\n",
            "8 chairs, 1 desks, 9 tables\n",
            "8 chairs, 2 desks, 0 tables\n",
            "8 chairs, 2 desks, 1 tables\n",
            "8 chairs, 2 desks, 2 tables\n",
            "8 chairs, 2 desks, 3 tables\n",
            "8 chairs, 2 desks, 4 tables\n",
            "8 chairs, 2 desks, 5 tables\n",
            "8 chairs, 2 desks, 6 tables\n",
            "8 chairs, 2 desks, 7 tables\n",
            "8 chairs, 2 desks, 8 tables\n",
            "8 chairs, 2 desks, 9 tables\n",
            "8 chairs, 3 desks, 0 tables\n",
            "8 chairs, 3 desks, 1 tables\n",
            "8 chairs, 3 desks, 2 tables\n",
            "8 chairs, 3 desks, 3 tables\n",
            "8 chairs, 3 desks, 4 tables\n",
            "8 chairs, 3 desks, 5 tables\n",
            "8 chairs, 3 desks, 6 tables\n",
            "8 chairs, 3 desks, 7 tables\n",
            "8 chairs, 3 desks, 8 tables\n",
            "8 chairs, 3 desks, 9 tables\n",
            "8 chairs, 4 desks, 0 tables\n",
            "8 chairs, 4 desks, 1 tables\n",
            "8 chairs, 4 desks, 2 tables\n",
            "8 chairs, 4 desks, 3 tables\n",
            "8 chairs, 4 desks, 4 tables\n",
            "8 chairs, 4 desks, 5 tables\n",
            "8 chairs, 4 desks, 6 tables\n",
            "8 chairs, 4 desks, 7 tables\n",
            "8 chairs, 4 desks, 8 tables\n",
            "8 chairs, 4 desks, 9 tables\n",
            "8 chairs, 5 desks, 0 tables\n",
            "8 chairs, 5 desks, 1 tables\n",
            "8 chairs, 5 desks, 2 tables\n",
            "8 chairs, 5 desks, 3 tables\n",
            "8 chairs, 5 desks, 4 tables\n",
            "8 chairs, 5 desks, 5 tables\n",
            "8 chairs, 5 desks, 6 tables\n",
            "8 chairs, 5 desks, 7 tables\n",
            "8 chairs, 5 desks, 8 tables\n",
            "8 chairs, 5 desks, 9 tables\n",
            "8 chairs, 6 desks, 0 tables\n",
            "8 chairs, 6 desks, 1 tables\n",
            "8 chairs, 6 desks, 2 tables\n",
            "8 chairs, 6 desks, 3 tables\n",
            "8 chairs, 6 desks, 4 tables\n",
            "8 chairs, 6 desks, 5 tables\n",
            "8 chairs, 6 desks, 6 tables\n",
            "8 chairs, 6 desks, 7 tables\n",
            "8 chairs, 6 desks, 8 tables\n",
            "8 chairs, 6 desks, 9 tables\n",
            "8 chairs, 7 desks, 0 tables\n",
            "8 chairs, 7 desks, 1 tables\n",
            "8 chairs, 7 desks, 2 tables\n",
            "8 chairs, 7 desks, 3 tables\n",
            "8 chairs, 7 desks, 4 tables\n",
            "8 chairs, 7 desks, 5 tables\n",
            "8 chairs, 7 desks, 6 tables\n",
            "8 chairs, 7 desks, 7 tables\n",
            "8 chairs, 7 desks, 8 tables\n",
            "8 chairs, 7 desks, 9 tables\n",
            "8 chairs, 8 desks, 0 tables\n",
            "8 chairs, 8 desks, 1 tables\n",
            "8 chairs, 8 desks, 2 tables\n",
            "8 chairs, 8 desks, 3 tables\n",
            "8 chairs, 8 desks, 4 tables\n",
            "8 chairs, 8 desks, 5 tables\n",
            "8 chairs, 8 desks, 6 tables\n",
            "8 chairs, 8 desks, 7 tables\n",
            "8 chairs, 8 desks, 8 tables\n",
            "8 chairs, 8 desks, 9 tables\n",
            "8 chairs, 9 desks, 0 tables\n",
            "8 chairs, 9 desks, 1 tables\n",
            "8 chairs, 9 desks, 2 tables\n",
            "8 chairs, 9 desks, 3 tables\n",
            "8 chairs, 9 desks, 4 tables\n",
            "8 chairs, 9 desks, 5 tables\n",
            "8 chairs, 9 desks, 6 tables\n",
            "8 chairs, 9 desks, 7 tables\n",
            "8 chairs, 9 desks, 8 tables\n",
            "8 chairs, 9 desks, 9 tables\n",
            "9 chairs, 0 desks, 0 tables\n",
            "9 chairs, 0 desks, 1 tables\n",
            "9 chairs, 0 desks, 2 tables\n",
            "9 chairs, 0 desks, 3 tables\n",
            "9 chairs, 0 desks, 4 tables\n",
            "9 chairs, 0 desks, 5 tables\n",
            "9 chairs, 0 desks, 6 tables\n",
            "9 chairs, 0 desks, 7 tables\n",
            "9 chairs, 0 desks, 8 tables\n",
            "9 chairs, 0 desks, 9 tables\n",
            "9 chairs, 1 desks, 0 tables\n",
            "9 chairs, 1 desks, 1 tables\n",
            "9 chairs, 1 desks, 2 tables\n",
            "9 chairs, 1 desks, 3 tables\n",
            "9 chairs, 1 desks, 4 tables\n",
            "9 chairs, 1 desks, 5 tables\n",
            "9 chairs, 1 desks, 6 tables\n",
            "9 chairs, 1 desks, 7 tables\n",
            "9 chairs, 1 desks, 8 tables\n",
            "9 chairs, 1 desks, 9 tables\n",
            "9 chairs, 2 desks, 0 tables\n",
            "9 chairs, 2 desks, 1 tables\n",
            "9 chairs, 2 desks, 2 tables\n",
            "9 chairs, 2 desks, 3 tables\n",
            "9 chairs, 2 desks, 4 tables\n",
            "9 chairs, 2 desks, 5 tables\n",
            "9 chairs, 2 desks, 6 tables\n",
            "9 chairs, 2 desks, 7 tables\n",
            "9 chairs, 2 desks, 8 tables\n",
            "9 chairs, 2 desks, 9 tables\n",
            "9 chairs, 3 desks, 0 tables\n",
            "9 chairs, 3 desks, 1 tables\n",
            "9 chairs, 3 desks, 2 tables\n",
            "9 chairs, 3 desks, 3 tables\n",
            "9 chairs, 3 desks, 4 tables\n",
            "9 chairs, 3 desks, 5 tables\n",
            "9 chairs, 3 desks, 6 tables\n",
            "9 chairs, 3 desks, 7 tables\n",
            "9 chairs, 3 desks, 8 tables\n",
            "9 chairs, 3 desks, 9 tables\n",
            "9 chairs, 4 desks, 0 tables\n",
            "9 chairs, 4 desks, 1 tables\n",
            "9 chairs, 4 desks, 2 tables\n",
            "9 chairs, 4 desks, 3 tables\n",
            "9 chairs, 4 desks, 4 tables\n",
            "9 chairs, 4 desks, 5 tables\n",
            "9 chairs, 4 desks, 6 tables\n",
            "9 chairs, 4 desks, 7 tables\n",
            "9 chairs, 4 desks, 8 tables\n",
            "9 chairs, 4 desks, 9 tables\n",
            "9 chairs, 5 desks, 0 tables\n",
            "9 chairs, 5 desks, 1 tables\n",
            "9 chairs, 5 desks, 2 tables\n",
            "9 chairs, 5 desks, 3 tables\n",
            "9 chairs, 5 desks, 4 tables\n",
            "9 chairs, 5 desks, 5 tables\n",
            "9 chairs, 5 desks, 6 tables\n",
            "9 chairs, 5 desks, 7 tables\n",
            "9 chairs, 5 desks, 8 tables\n",
            "9 chairs, 5 desks, 9 tables\n",
            "9 chairs, 6 desks, 0 tables\n",
            "9 chairs, 6 desks, 1 tables\n",
            "9 chairs, 6 desks, 2 tables\n",
            "9 chairs, 6 desks, 3 tables\n",
            "9 chairs, 6 desks, 4 tables\n",
            "9 chairs, 6 desks, 5 tables\n",
            "9 chairs, 6 desks, 6 tables\n",
            "9 chairs, 6 desks, 7 tables\n",
            "9 chairs, 6 desks, 8 tables\n",
            "9 chairs, 6 desks, 9 tables\n",
            "9 chairs, 7 desks, 0 tables\n",
            "9 chairs, 7 desks, 1 tables\n",
            "9 chairs, 7 desks, 2 tables\n",
            "9 chairs, 7 desks, 3 tables\n",
            "9 chairs, 7 desks, 4 tables\n",
            "9 chairs, 7 desks, 5 tables\n",
            "9 chairs, 7 desks, 6 tables\n",
            "9 chairs, 7 desks, 7 tables\n",
            "9 chairs, 7 desks, 8 tables\n",
            "9 chairs, 7 desks, 9 tables\n",
            "9 chairs, 8 desks, 0 tables\n",
            "9 chairs, 8 desks, 1 tables\n",
            "9 chairs, 8 desks, 2 tables\n",
            "9 chairs, 8 desks, 3 tables\n",
            "9 chairs, 8 desks, 4 tables\n",
            "9 chairs, 8 desks, 5 tables\n",
            "9 chairs, 8 desks, 6 tables\n",
            "9 chairs, 8 desks, 7 tables\n",
            "9 chairs, 8 desks, 8 tables\n",
            "9 chairs, 8 desks, 9 tables\n",
            "9 chairs, 9 desks, 0 tables\n",
            "9 chairs, 9 desks, 1 tables\n",
            "9 chairs, 9 desks, 2 tables\n",
            "9 chairs, 9 desks, 3 tables\n",
            "9 chairs, 9 desks, 4 tables\n",
            "9 chairs, 9 desks, 5 tables\n",
            "9 chairs, 9 desks, 6 tables\n",
            "9 chairs, 9 desks, 7 tables\n",
            "9 chairs, 9 desks, 8 tables\n",
            "9 chairs, 9 desks, 9 tables\n",
            "--- 0.12539887428283691 seconds ---\n",
            "time: 131 ms (started: 2021-08-23 14:09:21 +00:00)\n"
          ],
          "name": "stdout"
        }
      ]
    },
    {
      "cell_type": "code",
      "metadata": {
        "colab": {
          "base_uri": "https://localhost:8080/"
        },
        "id": "JZb8Xqm_Q0Uw",
        "outputId": "41404e52-8d2d-4b45-da07-ca729d47476c"
      },
      "source": [
        "# here's an example printing everything - takes 4.56 ms!\n",
        "import time\n",
        "start_time = time.time()\n",
        "\n",
        "# here is the nested for loop - you can try some simple values\n",
        "for chairs in range(0,10): #chairs\n",
        "  for desks in range(0,10): # desks\n",
        "    for tables in range(0,10): #tables\n",
        "      continue # you have to put SOMETHING in the loop, so we just continue if no problems...\n",
        "print(\"--- %s seconds ---\" % (time.time() - start_time))"
      ],
      "execution_count": null,
      "outputs": [
        {
          "output_type": "stream",
          "text": [
            "--- 0.0002422332763671875 seconds ---\n",
            "time: 4.57 ms (started: 2021-08-23 14:09:21 +00:00)\n"
          ],
          "name": "stdout"
        }
      ]
    },
    {
      "cell_type": "code",
      "metadata": {
        "colab": {
          "base_uri": "https://localhost:8080/"
        },
        "id": "_wmfBH6xQ8XB",
        "outputId": "953d01e7-e17b-406c-f9de-82fc95c7a9fb"
      },
      "source": [
        "156/4.56 # if you want to be 34 times faster - be judicious with print statements!"
      ],
      "execution_count": null,
      "outputs": [
        {
          "output_type": "execute_result",
          "data": {
            "text/plain": [
              "34.21052631578948"
            ]
          },
          "metadata": {},
          "execution_count": 31
        },
        {
          "output_type": "stream",
          "text": [
            "time: 6.08 ms (started: 2021-08-23 14:09:21 +00:00)\n"
          ],
          "name": "stdout"
        }
      ]
    },
    {
      "cell_type": "markdown",
      "metadata": {
        "id": "_aVdyxxaRf7K"
      },
      "source": [
        "## `if` statements with for loops\n",
        "Note how the first `if` statement is ignored if it's not `True`. Remember, `True` is a reserved word in Python - you can't assign a variable to this."
      ]
    },
    {
      "cell_type": "code",
      "metadata": {
        "colab": {
          "base_uri": "https://localhost:8080/"
        },
        "id": "ebwO6MPJRpj2",
        "outputId": "8146080c-ef4c-4618-a92e-fbd8250de7b3"
      },
      "source": [
        "# an example with two conditions\n",
        "for a in range(1,13):\n",
        "  if a < 5:\n",
        "    print('Less than 5')\n",
        "  else:\n",
        "    print('Greater than or equal to 5')"
      ],
      "execution_count": null,
      "outputs": [
        {
          "output_type": "stream",
          "text": [
            "Less than 5\n",
            "Less than 5\n",
            "Less than 5\n",
            "Less than 5\n",
            "Greater than or equal to 5\n",
            "Greater than or equal to 5\n",
            "Greater than or equal to 5\n",
            "Greater than or equal to 5\n",
            "Greater than or equal to 5\n",
            "Greater than or equal to 5\n",
            "Greater than or equal to 5\n",
            "Greater than or equal to 5\n",
            "time: 2.23 ms (started: 2021-08-23 14:09:21 +00:00)\n"
          ],
          "name": "stdout"
        }
      ]
    },
    {
      "cell_type": "markdown",
      "metadata": {
        "id": "tTMYrL0mSCNm"
      },
      "source": [
        "**On your own:** Try to add `a` into your print statement. You may need to convert it to a string using `str()` if you are going to paste strings together algebraically."
      ]
    },
    {
      "cell_type": "code",
      "metadata": {
        "colab": {
          "base_uri": "https://localhost:8080/"
        },
        "id": "y8SdXRjwTG9O",
        "outputId": "4e6d6e10-ab97-4e8c-ed59-b51e805a7bc8"
      },
      "source": [
        "# an example with three conditions\n",
        "for a in range(1,13):\n",
        "  if a < 5:\n",
        "    print('Less than 5')\n",
        "  elif a < 10:\n",
        "    print('Greater than or equal to 5')\n",
        "  else: # you MUST end with else if you\n",
        "    print('Greater than or equal to 10')"
      ],
      "execution_count": null,
      "outputs": [
        {
          "output_type": "stream",
          "text": [
            "Less than 5\n",
            "Less than 5\n",
            "Less than 5\n",
            "Less than 5\n",
            "Greater than or equal to 5\n",
            "Greater than or equal to 5\n",
            "Greater than or equal to 5\n",
            "Greater than or equal to 5\n",
            "Greater than or equal to 5\n",
            "Greater than or equal to 10\n",
            "Greater than or equal to 10\n",
            "Greater than or equal to 10\n",
            "time: 3.45 ms (started: 2021-08-23 14:09:21 +00:00)\n"
          ],
          "name": "stdout"
        }
      ]
    },
    {
      "cell_type": "markdown",
      "metadata": {
        "id": "r9V00SvuTiCG"
      },
      "source": [
        "**On Your Own:** Try commenting out the last two lines of code and see what happens. Count the number of lines that printed (manually) - what do you notice? \n",
        "\n",
        "**Coding tip:** when you highlight multiple rows you want to comment out, you can hit CNTRL-/ and it will comment them out without going one-by-one to add a comment. "
      ]
    },
    {
      "cell_type": "markdown",
      "metadata": {
        "id": "x3W13E99U2nM"
      },
      "source": [
        "## Subsetting from a dictionary {key:value}"
      ]
    },
    {
      "cell_type": "code",
      "metadata": {
        "colab": {
          "base_uri": "https://localhost:8080/"
        },
        "id": "wPqDLOj1U8EJ",
        "outputId": "e0079d36-3364-4dff-9457-92a15779e969"
      },
      "source": [
        "# this will just print the output\n",
        "demand"
      ],
      "execution_count": null,
      "outputs": [
        {
          "output_type": "execute_result",
          "data": {
            "text/plain": [
              "{'chair': 360, 'desk': 300, 'table': 100}"
            ]
          },
          "metadata": {},
          "execution_count": 34
        },
        {
          "output_type": "stream",
          "text": [
            "time: 12.3 ms (started: 2021-08-23 14:09:21 +00:00)\n"
          ],
          "name": "stdout"
        }
      ]
    },
    {
      "cell_type": "code",
      "metadata": {
        "colab": {
          "base_uri": "https://localhost:8080/"
        },
        "id": "53dhbu3-U_0l",
        "outputId": "08f3eb83-0996-4a29-95a9-14f35cfa0218"
      },
      "source": [
        "# this is how you subset by a key\n",
        "demand['chair']"
      ],
      "execution_count": null,
      "outputs": [
        {
          "output_type": "execute_result",
          "data": {
            "text/plain": [
              "360"
            ]
          },
          "metadata": {},
          "execution_count": 35
        },
        {
          "output_type": "stream",
          "text": [
            "time: 5.87 ms (started: 2021-08-23 14:09:21 +00:00)\n"
          ],
          "name": "stdout"
        }
      ]
    },
    {
      "cell_type": "markdown",
      "metadata": {
        "id": "HO_ckXraVJCs"
      },
      "source": [
        "Want to add lamps to the dictionary? You are 'appending to a dictionary in Python' - do a Google search and find an example!\n",
        "\n",
        "* https://thispointer.com/python-how-to-add-append-key-value-pairs-in-dictionary-using-dict-update/"
      ]
    },
    {
      "cell_type": "code",
      "metadata": {
        "colab": {
          "base_uri": "https://localhost:8080/"
        },
        "id": "lSi55RyvVMKc",
        "outputId": "0fb62674-8b5d-404b-a6eb-49a0a439b721"
      },
      "source": [
        "demand.update({'lamps':100}) # see how it put it in alphabetical order?\n",
        "demand\n",
        "\n",
        "# of course you will need to add the constraints to this too..."
      ],
      "execution_count": null,
      "outputs": [
        {
          "output_type": "execute_result",
          "data": {
            "text/plain": [
              "{'chair': 360, 'desk': 300, 'lamps': 100, 'table': 100}"
            ]
          },
          "metadata": {},
          "execution_count": 40
        },
        {
          "output_type": "stream",
          "text": [
            "time: 10.2 ms (started: 2021-08-23 14:22:12 +00:00)\n"
          ],
          "name": "stdout"
        }
      ]
    },
    {
      "cell_type": "markdown",
      "metadata": {
        "id": "oq5xC6dzRK1i"
      },
      "source": [
        "# Solution to Furniture Problem\n",
        "There is A LOT of stuff going on in our example...\n",
        "\n",
        "Pay attention to how we are initializing some placeholder variables OUTSIDE of the loop. It's always important to remember what's inside vs. outside the loop."
      ]
    },
    {
      "cell_type": "code",
      "metadata": {
        "id": "TFZBE3YCH8ZX",
        "colab": {
          "base_uri": "https://localhost:8080/"
        },
        "outputId": "c50d4dba-9e08-4071-d997-b99d9b1860f8"
      },
      "source": [
        "# Variables containing current best value and current best solution\n",
        "best_profit = 0\n",
        "best_n_chairs = 0\n",
        "best_n_desks = 0\n",
        "best_n_tables = 0\n",
        "for chairs in range(0,demand[\"chair\"]+1): # range does NOT include the upper end, so you need to add a 1\n",
        "  for desks in range(0,demand[\"desk\"]+1):\n",
        "    for tables in range(0,demand[\"table\"]+1):\n",
        "       # Check required fabrication hours\n",
        "        if fabrication[\"chair\"]*chairs + fabrication[\"desk\"]*desks + fabrication[\"table\"]*tables > hours[\"fabrication\"]:\n",
        "          continue\n",
        "        # Check required assembly hours\n",
        "        if assembly[\"chair\"]*chairs + assembly[\"desk\"]*desks + assembly[\"table\"]*tables > hours[\"assembly\"]:\n",
        "          continue\n",
        "        # Check required shipping hours\n",
        "        if shipping[\"chair\"]*chairs + shipping[\"desk\"]*desks + shipping[\"table\"]*tables > hours[\"shipping\"]:\n",
        "          continue\n",
        "        if profit[\"chair\"]*chairs + profit[\"desk\"]*desks + profit[\"table\"]*tables > best_profit:\n",
        "          best_profit = profit[\"chair\"]*chairs + profit[\"desk\"]*desks + profit[\"table\"]*tables\n",
        "          best_n_chairs = chairs\n",
        "          best_n_desks = desks\n",
        "          best_n_tables = tables\n",
        "\n",
        "print(\"Maximum profit:\",best_profit)\n",
        "print(\"Chairs\",best_n_chairs)\n",
        "print(\"Desks\",best_n_desks)\n",
        "print(\"Tables\",best_n_tables)"
      ],
      "execution_count": null,
      "outputs": [
        {
          "output_type": "stream",
          "text": [
            "Maximum profit: 8400\n",
            "Chairs 0\n",
            "Desks 275\n",
            "Tables 100\n",
            "time: 10.6 s (started: 2021-03-09 19:56:50 +00:00)\n"
          ],
          "name": "stdout"
        }
      ]
    },
    {
      "cell_type": "markdown",
      "metadata": {
        "id": "YU2bwFQqXhyE"
      },
      "source": [
        "# Pros of the Brute-force Search\n",
        "\n",
        "We were able to find a relatively simple algorithm (https://en.wikipedia.org/wiki/Algorithm) that solved the Furniture problem. Many problems can be solved in a similar way, which is actually great news. Some of the pros of Brute-force Search:\n",
        "\n",
        "* Very simple stragegy: you can explain to a 5-years old and to a CEO, and both will agree that it makes sense\n",
        "* If you can enumerate (or approximate well) the domain of all variables, it is easy to implement\n",
        "* You don't need \"smart\" ideas\n"
      ]
    },
    {
      "cell_type": "markdown",
      "metadata": {
        "id": "Me_IvnKeQ41V"
      },
      "source": [
        "# Cons of the Brute-force Search\n",
        "\n",
        "Let's make a small change now in the problem description: we will solve the same problem, but using the data below instead (in summary, **all demands and numbers of hours available are multiplied by 2**):\n",
        "\n",
        "Department | Chairs | Desks | Tables | Hours Available\n",
        "--- | --- | --- | --- | ---\n",
        "Fabrication | 4 | 6 | 2 | 3,700\n",
        "Assembly | 3 | 5 | 7 | 4,800\n",
        "Shipping | 3 | 2 | 4 | 3,000\n",
        "--------------------------------------------------------------------------------\n",
        "Demand Potential | 720 | 600 | 200 |\n",
        "Profit (USD) | 15 | 24 | 18 |\n",
        "\n",
        "Try to solve this problem and see what happens.\n"
      ]
    },
    {
      "cell_type": "code",
      "metadata": {
        "id": "oYaDetfccOK2",
        "colab": {
          "base_uri": "https://localhost:8080/"
        },
        "outputId": "53bc332c-6ded-4686-8835-0dce40714e2c"
      },
      "source": [
        "# list\n",
        "# https://en.wikipedia.org/wiki/Array_data_structure\n",
        "products = [\"chair\",\"desk\",\"table\"]\n",
        "\n",
        "# dictionary\n",
        "# https://en.wikipedia.org/wiki/Hash_table\n",
        "\n",
        "fabrication = { \n",
        "    \"chair\" : 4,\n",
        "    \"desk\" : 6,\n",
        "    \"table\" : 2\n",
        "}\n",
        "assembly = {\n",
        "    \"chair\" : 3,\n",
        "    \"desk\" : 5,\n",
        "    \"table\" : 7\n",
        "}\n",
        "shipping = { \n",
        "    \"chair\" : 3,\n",
        "    \"desk\" : 2,\n",
        "    \"table\" : 4\n",
        "}\n",
        "# You need to change demands (multiply by 2)\n",
        "demand = { \n",
        "    \"chair\" : 720,\n",
        "    \"desk\" : 600,\n",
        "    \"table\" : 200\n",
        "}\n",
        "profit = { \n",
        "    \"chair\" : 15,\n",
        "    \"desk\" : 24,\n",
        "    \"table\" : 18\n",
        "}\n",
        "# You need to change hours (multiply by 2)\n",
        "hours = { \n",
        "    \"fabrication\" : 3700,\n",
        "    \"assembly\" : 4800,\n",
        "    \"shipping\" : 3000\n",
        "}"
      ],
      "execution_count": null,
      "outputs": [
        {
          "output_type": "stream",
          "text": [
            "time: 9.79 ms (started: 2021-03-09 19:57:00 +00:00)\n"
          ],
          "name": "stdout"
        }
      ]
    },
    {
      "cell_type": "markdown",
      "metadata": {
        "id": "ukSDMzghceoa"
      },
      "source": [
        "Note that the code below is **exactly equal** to the code we used before, which is wonderful. This is why it is usually a good idea to separate data from algorithm."
      ]
    },
    {
      "cell_type": "code",
      "metadata": {
        "id": "7618eD0qcU2W",
        "colab": {
          "base_uri": "https://localhost:8080/"
        },
        "outputId": "32130a42-0db1-4308-c986-91eb09833596"
      },
      "source": [
        "# Variables containing current best value and current best solution\n",
        "best_profit = 0\n",
        "best_n_chairs = 0\n",
        "best_n_desks = 0\n",
        "best_n_tables = 0\n",
        "for chairs in range(0,demand[\"chair\"]+1):\n",
        "  for desks in range(0,demand[\"desk\"]+1):\n",
        "    for tables in range(0,demand[\"table\"]+1):\n",
        "       # Check required fabrication hours\n",
        "        if fabrication[\"chair\"]*chairs + fabrication[\"desk\"]*desks + fabrication[\"table\"]*tables > hours[\"fabrication\"]:\n",
        "          continue\n",
        "        # Check required assembly hours\n",
        "        if assembly[\"chair\"]*chairs + assembly[\"desk\"]*desks + assembly[\"table\"]*tables > hours[\"assembly\"]:\n",
        "          continue\n",
        "        # Check required shipping hours\n",
        "        if shipping[\"chair\"]*chairs + shipping[\"desk\"]*desks + shipping[\"table\"]*tables > hours[\"shipping\"]:\n",
        "          continue\n",
        "        if profit[\"chair\"]*chairs + profit[\"desk\"]*desks + profit[\"table\"]*tables > best_profit:\n",
        "          best_profit = profit[\"chair\"]*chairs + profit[\"desk\"]*desks + profit[\"table\"]*tables\n",
        "          best_n_chairs = chairs\n",
        "          best_n_desks = desks\n",
        "          best_n_tables = tables\n",
        "\n",
        "print(\"Maximum profit:\",best_profit)\n",
        "print(\"Chairs\",best_n_chairs)\n",
        "print(\"Desks\",best_n_desks)\n",
        "print(\"Tables\",best_n_tables)"
      ],
      "execution_count": null,
      "outputs": [
        {
          "output_type": "stream",
          "text": [
            "Maximum profit: 16800\n",
            "Chairs 0\n",
            "Desks 550\n",
            "Tables 200\n",
            "time: 1min 24s (started: 2021-03-09 19:57:00 +00:00)\n"
          ],
          "name": "stdout"
        }
      ]
    },
    {
      "cell_type": "markdown",
      "metadata": {
        "id": "Ft75zpvef4kn"
      },
      "source": [
        "## Large execution time\n",
        "\n",
        "As you can see, the problems are essentially equivalent (e.g., the optimal solution is the same, just multiplied by 2). However, now the Brute-force search algorithm took 8 times longer. If we had multiplied the same input entries by 10, the execution time would be approximately 1000 larger [1], i.e., approximately 2.5 hours (feel free to check if you want :-) ). \n",
        "\n",
        "In certain cases, one can make the brute-force search \"smarter\"; for instance, if the number of chairs and desks are already large enough to violate the fabrication constraint, we do not need to check all the values of tables. Nevertheless, in general, some problems are just too hard and even smart variations of the brute-force search will take a very long time.\n",
        "\n",
        "[1] Extra: running times are studied in an area called \"Analysis of Algorithms\" (https://en.wikipedia.org/wiki/Analysis_of_algorithms), which was \"created\" by Donald Knuth, one of the most important names in Computer Science (https://en.wikipedia.org/wiki/Donald_Knuth)."
      ]
    },
    {
      "cell_type": "markdown",
      "metadata": {
        "id": "T0P7lc-NijDj"
      },
      "source": [
        "# Other aspects of brute-force search\n",
        "\n",
        "* If variables have a continous domain (rather than discrete), the enumeration of the domain is impossible, so you will not be able to cover all the space of solutions\n",
        "* You can always stop in the middle: this is very useful, as sometimes, in practice, you don't need an optimal solution, but just a reasonable (or maybe only feasible one). In these cases, you can stop the algorithm as soon as you are happy with what you have. However...\n",
        "* ... the algorithm may need **a very long time** to find a feasible solution. In particular, if your problem has no feasible solution, you will need to check all the search space. And if your problem has continous variables (i.e., if you did not enumerate the complete domain), well, you will be in trouble..."
      ]
    },
    {
      "cell_type": "markdown",
      "metadata": {
        "id": "ySuZkF22iRqI"
      },
      "source": [
        "# Bottom line\n",
        "\n",
        "* Brute-force search is useful in the beginning: if you are not sure whether your model is correct or not, you can always model a brute-force search to test what you did.\n",
        "* If your problem is relatively small, brute-force search may work quite well (as it did for the Furniture problem when the size of the problem was \"small\")\n",
        "* However, in practice, brute-force search is not satisfactory to solve real-world problems."
      ]
    },
    {
      "cell_type": "markdown",
      "metadata": {
        "id": "mgoT_QE7mr1Z"
      },
      "source": [
        "# Exercise - Machine Assignment\n",
        "\n",
        "Suppose we have 4 machines and 4 jobs.  The time it takes to do each job on each machine depends on the job and the machine. \n",
        "\n",
        "TIME\t| J1\t| J2\t| J3\t| J4\n",
        "--- | --- | --- | --- | ---\n",
        "M1\t| 20\t|15\t|11\t|16\n",
        "M2\t| 15\t|13\t|5\t|10\n",
        "M3\t| 22\t|14\t|9\t|9\n",
        "M4\t| 18\t|14\t|7\t|11\n",
        "\n",
        "Which machine should do which job so as to minimize the total time required to do all of the jobs?\n",
        "\n",
        "* Each machine should do exactly one job\n",
        "\n",
        "* Each job is executed by exactly one machine\n",
        "\n",
        "* We can also think of this as employees being assigned to jobs\n",
        "\n",
        "In order to solve this exercise, I am using the following Python library:\n",
        "\n",
        "* https://docs.python.org/2/library/itertools.html\n",
        "\n",
        "\n",
        "\n"
      ]
    },
    {
      "cell_type": "code",
      "metadata": {
        "id": "SRmSU9aJnNAz",
        "colab": {
          "base_uri": "https://localhost:8080/"
        },
        "outputId": "7ee5f26b-4803-4970-84da-d14e5910f188"
      },
      "source": [
        "# Generate all possible permutations of assignments\n",
        "from itertools import permutations\n",
        "\n",
        "time_table = [\n",
        "              [20, 15, 11, 16],\n",
        "              [15, 13, 5, 10],\n",
        "              [22, 14, 9, 9],\n",
        "              [18, 14, 7, 11]\n",
        "]\n",
        "machines = [0,1,2,3]\n",
        "\n",
        "# This list of lists will contain each possible arrangement of jobs in machines\n",
        "permutations = list(permutations(machines))\n",
        "print(permutations)"
      ],
      "execution_count": null,
      "outputs": [
        {
          "output_type": "stream",
          "text": [
            "[(0, 1, 2, 3), (0, 1, 3, 2), (0, 2, 1, 3), (0, 2, 3, 1), (0, 3, 1, 2), (0, 3, 2, 1), (1, 0, 2, 3), (1, 0, 3, 2), (1, 2, 0, 3), (1, 2, 3, 0), (1, 3, 0, 2), (1, 3, 2, 0), (2, 0, 1, 3), (2, 0, 3, 1), (2, 1, 0, 3), (2, 1, 3, 0), (2, 3, 0, 1), (2, 3, 1, 0), (3, 0, 1, 2), (3, 0, 2, 1), (3, 1, 0, 2), (3, 1, 2, 0), (3, 2, 0, 1), (3, 2, 1, 0)]\n",
            "time: 12.7 ms (started: 2021-08-23 14:32:17 +00:00)\n"
          ],
          "name": "stdout"
        }
      ]
    },
    {
      "cell_type": "markdown",
      "metadata": {
        "id": "dsxhNfRCgXWu"
      },
      "source": [
        "# Solution to Machine Assignment"
      ]
    },
    {
      "cell_type": "code",
      "metadata": {
        "id": "1DzPeEYXmsTM",
        "colab": {
          "base_uri": "https://localhost:8080/"
        },
        "outputId": "bca852d8-850a-412a-d90a-23c919aee390"
      },
      "source": [
        "best_time = 1000 # some big number! \n",
        "best_permutation = [] # an empty list\n",
        "for permutation in permutations:\n",
        "  total_time = 0\n",
        "  for i in permutation:\n",
        "    total_time += time_table[permutation[i]][i]\n",
        "  if total_time < best_time:\n",
        "    best_time = total_time\n",
        "    best_permutation = i\n",
        "\n",
        "print(\"Minimum total time:\",best_time)\n",
        "print(\"Best combination:\",permutations[best_permutation])\n",
        "\n"
      ],
      "execution_count": null,
      "outputs": [
        {
          "output_type": "stream",
          "text": [
            "Minimum total time: 46\n",
            "Best combination: (0, 2, 1, 3)\n",
            "time: 7.38 ms (started: 2021-08-23 14:32:34 +00:00)\n"
          ],
          "name": "stdout"
        }
      ]
    },
    {
      "cell_type": "markdown",
      "metadata": {
        "id": "SrVglKlzgUK-"
      },
      "source": [
        "## Breaking down the code..."
      ]
    },
    {
      "cell_type": "markdown",
      "metadata": {
        "id": "8Z5PVsLibfZz"
      },
      "source": [
        "There is still a lot of advanced Python here that you will need to hack to understand, like `+=`."
      ]
    },
    {
      "cell_type": "code",
      "metadata": {
        "colab": {
          "base_uri": "https://localhost:8080/"
        },
        "id": "7HzqVzq8bj96",
        "outputId": "462e4229-65ad-43a1-86df-2628abfa1c6c"
      },
      "source": [
        "apple = 1\n",
        "apple += 2 # add 2 to apple\n",
        "print(apple) # now it is 1+2 (add everything on the right!)"
      ],
      "execution_count": null,
      "outputs": [
        {
          "output_type": "stream",
          "text": [
            "3\n",
            "time: 3.72 ms (started: 2021-08-23 14:34:11 +00:00)\n"
          ],
          "name": "stdout"
        }
      ]
    },
    {
      "cell_type": "code",
      "metadata": {
        "colab": {
          "base_uri": "https://localhost:8080/"
        },
        "id": "L9V5Ehiagh8d",
        "outputId": "e0c89bf0-7493-46d3-8b2d-2f0478567d46"
      },
      "source": [
        "# this is the same code, but different syntax\n",
        "apple = 1\n",
        "apple = apple + 2\n",
        "print(apple)"
      ],
      "execution_count": null,
      "outputs": [
        {
          "output_type": "stream",
          "text": [
            "3\n",
            "time: 3.2 ms (started: 2021-08-23 14:55:36 +00:00)\n"
          ],
          "name": "stdout"
        }
      ]
    },
    {
      "cell_type": "code",
      "metadata": {
        "colab": {
          "base_uri": "https://localhost:8080/"
        },
        "id": "zYY609wRb-ce",
        "outputId": "ab1a915f-f450-48fa-826c-1b09c808141f"
      },
      "source": [
        "permutations # this is a list of tuples!"
      ],
      "execution_count": null,
      "outputs": [
        {
          "output_type": "execute_result",
          "data": {
            "text/plain": [
              "[(0, 1, 2, 3),\n",
              " (0, 1, 3, 2),\n",
              " (0, 2, 1, 3),\n",
              " (0, 2, 3, 1),\n",
              " (0, 3, 1, 2),\n",
              " (0, 3, 2, 1),\n",
              " (1, 0, 2, 3),\n",
              " (1, 0, 3, 2),\n",
              " (1, 2, 0, 3),\n",
              " (1, 2, 3, 0),\n",
              " (1, 3, 0, 2),\n",
              " (1, 3, 2, 0),\n",
              " (2, 0, 1, 3),\n",
              " (2, 0, 3, 1),\n",
              " (2, 1, 0, 3),\n",
              " (2, 1, 3, 0),\n",
              " (2, 3, 0, 1),\n",
              " (2, 3, 1, 0),\n",
              " (3, 0, 1, 2),\n",
              " (3, 0, 2, 1),\n",
              " (3, 1, 0, 2),\n",
              " (3, 1, 2, 0),\n",
              " (3, 2, 0, 1),\n",
              " (3, 2, 1, 0)]"
            ]
          },
          "metadata": {},
          "execution_count": 50
        },
        {
          "output_type": "stream",
          "text": [
            "time: 18.7 ms (started: 2021-08-23 14:35:35 +00:00)\n"
          ],
          "name": "stdout"
        }
      ]
    },
    {
      "cell_type": "code",
      "metadata": {
        "colab": {
          "base_uri": "https://localhost:8080/"
        },
        "id": "-2P0INLhgFcI",
        "outputId": "94db0894-879a-46d3-b48b-148aa1609b31"
      },
      "source": [
        "for i in permutation:\n",
        "  print(i)"
      ],
      "execution_count": null,
      "outputs": [
        {
          "output_type": "stream",
          "text": [
            "0\n",
            "1\n",
            "2\n",
            "3\n",
            "time: 6.57 ms (started: 2021-08-23 14:53:32 +00:00)\n"
          ],
          "name": "stdout"
        }
      ]
    },
    {
      "cell_type": "markdown",
      "metadata": {
        "id": "9OiQbXt3kFDb"
      },
      "source": [
        "Rows are MACHINES, Columns are JOBS and associated time."
      ]
    },
    {
      "cell_type": "code",
      "metadata": {
        "colab": {
          "base_uri": "https://localhost:8080/"
        },
        "id": "yrTmMuxDjXUp",
        "outputId": "98ab26e2-590b-4710-a6c5-fc3169e6feab"
      },
      "source": [
        "for i in permutation:\n",
        "  print(time_table[permutation[i]][i])"
      ],
      "execution_count": null,
      "outputs": [
        {
          "output_type": "stream",
          "text": [
            "20\n",
            "13\n",
            "9\n",
            "11\n",
            "time: 7.43 ms (started: 2021-08-23 15:07:57 +00:00)\n"
          ],
          "name": "stdout"
        }
      ]
    },
    {
      "cell_type": "markdown",
      "metadata": {
        "id": "PAGL4rf5cRDo"
      },
      "source": [
        "Now we are subsetting an ARRAY!"
      ]
    },
    {
      "cell_type": "code",
      "metadata": {
        "colab": {
          "base_uri": "https://localhost:8080/"
        },
        "id": "WCopCSL5cTFQ",
        "outputId": "ebc06614-d250-4c21-e6e9-86dca824fe40"
      },
      "source": [
        "i = 0 # remember, Python counts from 0\n",
        "permutation = permutations[i]\n",
        "print(permutation)"
      ],
      "execution_count": null,
      "outputs": [
        {
          "output_type": "stream",
          "text": [
            "(0, 1, 2, 3)\n",
            "time: 5.96 ms (started: 2021-08-23 14:37:05 +00:00)\n"
          ],
          "name": "stdout"
        }
      ]
    },
    {
      "cell_type": "markdown",
      "metadata": {
        "id": "24N0z3iZczQ1"
      },
      "source": [
        "Then you are subsetting an array using your array!"
      ]
    },
    {
      "cell_type": "code",
      "metadata": {
        "colab": {
          "base_uri": "https://localhost:8080/"
        },
        "id": "BiWkJe_Jc-TJ",
        "outputId": "3bf949e0-da7d-4285-b39e-dcc30f7c40a8"
      },
      "source": [
        "time_table[0] # this is the first row of time_table"
      ],
      "execution_count": null,
      "outputs": [
        {
          "output_type": "execute_result",
          "data": {
            "text/plain": [
              "[20, 15, 11, 16]"
            ]
          },
          "metadata": {},
          "execution_count": 53
        },
        {
          "output_type": "stream",
          "text": [
            "time: 6.78 ms (started: 2021-08-23 14:39:44 +00:00)\n"
          ],
          "name": "stdout"
        }
      ]
    },
    {
      "cell_type": "code",
      "metadata": {
        "colab": {
          "base_uri": "https://localhost:8080/"
        },
        "id": "9bESJ9HmdJZ4",
        "outputId": "f81ad81d-116b-47e2-fa5d-b65e573f9e00"
      },
      "source": [
        "time_table[permutation[i]][i] # this is the first entry of the first row\n",
        "                              # first row and first column"
      ],
      "execution_count": null,
      "outputs": [
        {
          "output_type": "execute_result",
          "data": {
            "text/plain": [
              "20"
            ]
          },
          "metadata": {},
          "execution_count": 57
        },
        {
          "output_type": "stream",
          "text": [
            "time: 5.72 ms (started: 2021-08-23 14:48:45 +00:00)\n"
          ],
          "name": "stdout"
        }
      ]
    },
    {
      "cell_type": "code",
      "metadata": {
        "colab": {
          "base_uri": "https://localhost:8080/"
        },
        "id": "7K8Tdefic18F",
        "outputId": "27280837-867f-426e-8d0f-2e96f5924f9b"
      },
      "source": [
        "# remember, you already as i=0 above...\n",
        "time_table[permutation[i]][i] "
      ],
      "execution_count": null,
      "outputs": [
        {
          "output_type": "execute_result",
          "data": {
            "text/plain": [
              "20"
            ]
          },
          "metadata": {},
          "execution_count": 52
        },
        {
          "output_type": "stream",
          "text": [
            "time: 4.68 ms (started: 2021-08-23 14:39:23 +00:00)\n"
          ],
          "name": "stdout"
        }
      ]
    },
    {
      "cell_type": "markdown",
      "metadata": {
        "id": "4XyCLWQdsO7L"
      },
      "source": [
        "The brute-force approach works well for the Machine Scheduling problem because the instance is small. Here, if you increase the values of the matrices, the algorithm would still be efficient. However, if you increase the number of jobs and machines, the problem gets harder. For instance, if we had 70 machines and 70 jobs, the number of permutations would be approximately one Googol (https://en.wikipedia.org/wiki/Googol), i.e., approximately $10^{100}$. The observable universe has approximately $10^{80}$ atoms (https://en.wikipedia.org/wiki/Observable_universe), so chances are you will not have enough time and resources to solve the problem using the brute-force search. :-) "
      ]
    },
    {
      "cell_type": "markdown",
      "metadata": {
        "id": "qC-QlFZjnS1t"
      },
      "source": [
        "# Extra: if you want to know more...\n",
        "\n",
        "In this course, we will focus mainly on exact approaches, i.e., approaches that will give you the best possible solution. The Brute-force search is an exact approach if all your variables have discrete domains. However, in practice, some people try to come up with \"smart ideas\" to solve a problem. Those smart ideas can be divided in three main categories:\n",
        "\n",
        "* Exact combinatorial algorithms: Algorithms that give you the exact answer quickly, without checking all the possible combinations. In practice, there are very few real-world problems that admit exact combinatorial algorithms, but still, some of them exist, and they are extremely important. Note that we do not believe that there is always a smart combinatorial algorithm for all problems. In particular:\n",
        "  * For some problems, we know that there are smart exact algorithms (https://en.wikipedia.org/wiki/P_(complexity))\n",
        "  * For others, like the so-called NP-complete problems, we do not believe that there are smart algorithms capable of solving them exactly: https://en.wikipedia.org/wiki/NP-completeness \n",
        "\n",
        "* Approximation algorithms: Similarly to combinatorial algorithms, approximation algorithms are usually efficient, but they do not necessarily give you an optimal solution. However, approximation algorithms typically come with guarantees, i.e., you will know that your solution is not more than 20% worse than the optimal. In pratice, approximation algorithms are very desirable, specially if you are dealing with a problem for which we do not expect to find an exact combinatorial algorithm (https://en.wikipedia.org/wiki/Approximation_algorithm).\n",
        "\n",
        "* Heuristics: Class of algorithms that try to find a good solution for the problem, but do not give guarantees that this is actually going to happen. That doesn't sound exciting, but the truth is that the world is being guided by heuristics, and in some cases there is actually no way out. In most cases, the \"smart\" ideas people have when solving a problem are heuristics. In practice, the different between an optimal and a sub-optimal solution may not be super relevant (if your solution is within 0.001\\% of the optimal, it can be good enough), but knowing that your solution may not be optimal and communicating that to your boss or client is important (i.e., in terms of intellectual honesty and  reputation). There are many heuristics out there (https://en.wikipedia.org/wiki/Heuristic_(computer_science)).  \n",
        "\n",
        "\n"
      ]
    }
  ]
}
