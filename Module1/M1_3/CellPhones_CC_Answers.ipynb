{
  "nbformat": 4,
  "nbformat_minor": 0,
  "metadata": {
    "colab": {
      "name": "CellPhones_CC_Answers",
      "provenance": [],
      "collapsed_sections": [],
      "toc_visible": true,
      "include_colab_link": true
    },
    "kernelspec": {
      "name": "python3",
      "display_name": "Python 3"
    }
  },
  "cells": [
    {
      "cell_type": "markdown",
      "metadata": {
        "id": "view-in-github",
        "colab_type": "text"
      },
      "source": [
        "<a href=\"https://colab.research.google.com/github/drdww/OPIM5641/blob/main/Module1/M1_3/CellPhones_CC_Answers.ipynb\" target=\"_parent\"><img src=\"https://colab.research.google.com/assets/colab-badge.svg\" alt=\"Open In Colab\"/></a>"
      ]
    },
    {
      "cell_type": "markdown",
      "metadata": {
        "id": "sLuw4TUhrKvc"
      },
      "source": [
        "# Monte Carlo Simulation: Cell Phones\n",
        "**OPIM 5641: Business Decision Modeling - University of Connecticut**\n",
        "\n",
        "Monte Carlo is a useful method for simulation... why be so confident in your mathematical model of the World when you can add some uncertainty?!\n",
        "\n",
        "Please refer to Powell Chapter 14 for more details/examples.\n",
        "\n",
        "------------------------------------------------------"
      ]
    },
    {
      "cell_type": "markdown",
      "metadata": {
        "id": "ox2aM7SAkLRA"
      },
      "source": [
        "**[Profit Analysis 14.1 - Powell]** A consumer electronics firm produces a line\n",
        "of battery rechargers for cell phones. The following distributions apply:\n",
        "\n",
        "* Unit price triangular with a minimum of 18.95 USD, most\n",
        "likely value of 24.95 USD, and maximum of 26.95 USD\n",
        "* Unit cost uniform with a minimum of 12.00 USD and a\n",
        "maximum of 15.00\n",
        "* Quantity sold = $10,000 – 250*UnitPrice$, plus a random term\n",
        "given by a normal distribution with a mean of\n",
        "0 and a standard deviation of 10\n",
        "* Fixed costs normal with a mean of 30,000 USD and a standard deviation of 5,000 USD\n",
        "\n",
        "1. What is the expected profit?\n",
        "2. What is the probability of a loss?\n",
        "3. What is the maximum loss?"
      ]
    },
    {
      "cell_type": "markdown",
      "metadata": {
        "id": "TTZE8dLYkga4"
      },
      "source": [
        "Let's start with a very basic set-up of the problem so we have some reasonable numbers to work with. Why not just choose values from the center of the distribution?"
      ]
    },
    {
      "cell_type": "code",
      "metadata": {
        "id": "SHDgo-NZjHYi",
        "outputId": "7ccaf5ea-1051-4948-d207-8fe0aba73d67",
        "colab": {
          "base_uri": "https://localhost:8080/",
          "height": 35
        }
      },
      "source": [
        "# problem set up\n",
        "UnitPrice = 24.95\n",
        "UnitCost = 13.50\n",
        "QuantitySold = 10000 - 250*UnitPrice\n",
        "FixedCosts = 30000\n",
        "Profit = QuantitySold*(UnitPrice - UnitCost) - FixedCosts\n",
        "Profit\n"
      ],
      "execution_count": null,
      "outputs": [
        {
          "output_type": "execute_result",
          "data": {
            "text/plain": [
              "13080.625"
            ]
          },
          "metadata": {
            "tags": []
          },
          "execution_count": 1
        }
      ]
    },
    {
      "cell_type": "markdown",
      "metadata": {
        "id": "d4jHt8iulGUN"
      },
      "source": [
        "This is a pretty simple problem to solve - why not introduce some uncertainty (in the form of probability distributions)? We will break this out one by one."
      ]
    },
    {
      "cell_type": "markdown",
      "metadata": {
        "id": "8Ei7dOdolONp"
      },
      "source": [
        "## Unit Price (Triangle Distribution)\n",
        "Read more on the triangular distribution from here: https://numpy.org/doc/stable/reference/random/generated/numpy.random.triangular.html\n",
        "\n",
        "Unit price triangular with a minimum of 18.95 USD, most likely value of 24.95 USD, and maximum of 26.95 USD"
      ]
    },
    {
      "cell_type": "code",
      "metadata": {
        "id": "P3RDpdjClRn4",
        "outputId": "b918c279-3f60-4573-dbad-977603ac6484",
        "colab": {
          "base_uri": "https://localhost:8080/",
          "height": 72
        }
      },
      "source": [
        "# import modules\n",
        "import numpy as np\n",
        "import seaborn as sns # for plotting\n",
        "import matplotlib.pyplot as plt # for plotting\n",
        "from pylab import * # for plotting"
      ],
      "execution_count": null,
      "outputs": [
        {
          "output_type": "stream",
          "text": [
            "/usr/local/lib/python3.6/dist-packages/statsmodels/tools/_testing.py:19: FutureWarning: pandas.util.testing is deprecated. Use the functions in the public API at pandas.testing instead.\n",
            "  import pandas.util.testing as tm\n"
          ],
          "name": "stderr"
        }
      ]
    },
    {
      "cell_type": "markdown",
      "metadata": {
        "id": "joA6XDdkl_wM"
      },
      "source": [
        "Let's make a pretty plot of the triangular distribution. "
      ]
    },
    {
      "cell_type": "code",
      "metadata": {
        "id": "r_TE9Y2RmC0k",
        "outputId": "99668409-1ec2-4d32-df30-312fd4e9c1a0",
        "colab": {
          "base_uri": "https://localhost:8080/",
          "height": 52
        }
      },
      "source": [
        "# generate 100K random numbers from the distribution!\n",
        "tmp = np.random.triangular(left=18.95, mode=24.95, right=26.95, size=100000)\n",
        "tmp"
      ],
      "execution_count": null,
      "outputs": [
        {
          "output_type": "execute_result",
          "data": {
            "text/plain": [
              "array([21.34347241, 24.58881049, 21.27986412, ..., 23.64520567,\n",
              "       25.91676236, 25.70720275])"
            ]
          },
          "metadata": {
            "tags": []
          },
          "execution_count": 3
        }
      ]
    },
    {
      "cell_type": "code",
      "metadata": {
        "id": "tZ8oAL5wmd_b",
        "outputId": "c484168d-76a9-4347-97b7-536fc60d3274",
        "colab": {
          "base_uri": "https://localhost:8080/",
          "height": 265
        }
      },
      "source": [
        "# make a density plot\n",
        "sns.kdeplot(np.array(tmp), bw=0.5) # see how it is shaped like a triangle?\n",
        "plt.show()"
      ],
      "execution_count": null,
      "outputs": [
        {
          "output_type": "display_data",
          "data": {
            "image/png": "[encoded data removed]",
            "text/plain": [
              "<Figure size 432x288 with 1 Axes>"
            ]
          },
          "metadata": {
            "tags": [],
            "needs_background": "light"
          }
        }
      ]
    },
    {
      "cell_type": "code",
      "metadata": {
        "id": "AI4jxXEzlhQT",
        "outputId": "db80a750-ccd3-4e96-cf4f-6e02ec4a2fba",
        "colab": {
          "base_uri": "https://localhost:8080/",
          "height": 35
        }
      },
      "source": [
        "# import the triangular distribution\n",
        "UnitPrice = np.random.triangular(left=18.95, mode=24.95, right=26.95)\n",
        "UnitPrice # if you run this cell repeatedly, you'll get a random number every time!"
      ],
      "execution_count": null,
      "outputs": [
        {
          "output_type": "execute_result",
          "data": {
            "text/plain": [
              "22.824202931629785"
            ]
          },
          "metadata": {
            "tags": []
          },
          "execution_count": 42
        }
      ]
    },
    {
      "cell_type": "markdown",
      "metadata": {
        "id": "gChbdfNfmlxO"
      },
      "source": [
        "We will call all of these in a for loop at the very end."
      ]
    },
    {
      "cell_type": "markdown",
      "metadata": {
        "id": "FsA6sPRSmnuR"
      },
      "source": [
        "## Unit Cost (Uniform Distribution)\n",
        "\n",
        "Read more here: https://numpy.org/doc/stable/reference/random/generated/numpy.random.uniform.html\n",
        "\n",
        "Unit cost uniform with a minimum of 12.00 USD and a maximum of 15.00"
      ]
    },
    {
      "cell_type": "code",
      "metadata": {
        "id": "rHZqlJEAm1-p",
        "outputId": "326a9436-ef9c-451d-c7f6-3000f4f6da1d",
        "colab": {
          "base_uri": "https://localhost:8080/",
          "height": 52
        }
      },
      "source": [
        "# generate 100K random numbers from the distribution!\n",
        "tmp = np.random.uniform(low=12, high=15, size=100000)\n",
        "tmp"
      ],
      "execution_count": null,
      "outputs": [
        {
          "output_type": "execute_result",
          "data": {
            "text/plain": [
              "array([13.29484422, 12.2847795 , 13.70761341, ..., 12.9535844 ,\n",
              "       14.89242303, 13.95444019])"
            ]
          },
          "metadata": {
            "tags": []
          },
          "execution_count": 6
        }
      ]
    },
    {
      "cell_type": "code",
      "metadata": {
        "id": "if5jUkgwm_ap",
        "outputId": "1826647e-485a-4c81-e3ab-3c1af42171a9",
        "colab": {
          "base_uri": "https://localhost:8080/",
          "height": 369
        }
      },
      "source": [
        "# make a histogram\n",
        "hist(tmp) # see how it is shaped like a rectangle?"
      ],
      "execution_count": null,
      "outputs": [
        {
          "output_type": "execute_result",
          "data": {
            "text/plain": [
              "(array([ 9856., 10001., 10056., 10008.,  9971., 10163., 10019., 10027.,\n",
              "         9982.,  9917.]),\n",
              " array([12.00000889, 12.30000065, 12.59999241, 12.89998418, 13.19997594,\n",
              "        13.4999677 , 13.79995946, 14.09995122, 14.39994298, 14.69993474,\n",
              "        14.9999265 ]),\n",
              " <a list of 10 Patch objects>)"
            ]
          },
          "metadata": {
            "tags": []
          },
          "execution_count": 7
        },
        {
          "output_type": "display_data",
          "data": {
            "image/png": "[encoded data removed]",
            "text/plain": [
              "<Figure size 432x288 with 1 Axes>"
            ]
          },
          "metadata": {
            "tags": [],
            "needs_background": "light"
          }
        }
      ]
    },
    {
      "cell_type": "code",
      "metadata": {
        "id": "8WC4gRcBnbDm",
        "outputId": "8321ab2a-f5e6-454a-b82b-e789e613cd7c",
        "colab": {
          "base_uri": "https://localhost:8080/",
          "height": 35
        }
      },
      "source": [
        "UnitCost = np.random.uniform(low=12, high=15)\n",
        "UnitCost # new value every time, try running a few times"
      ],
      "execution_count": null,
      "outputs": [
        {
          "output_type": "execute_result",
          "data": {
            "text/plain": [
              "13.295962360397741"
            ]
          },
          "metadata": {
            "tags": []
          },
          "execution_count": 59
        }
      ]
    },
    {
      "cell_type": "markdown",
      "metadata": {
        "id": "4Zqqk546nlL7"
      },
      "source": [
        "## Quantity Sold (Normal Distribution)\n",
        "Read more here: https://numpy.org/doc/stable/reference/random/generated/numpy.random.normal.html\n",
        "\n",
        "Quantity sold =  10,000–250∗UnitPrice , plus a random term given by a normal distribution with a mean of 0 and a standard deviation of 10"
      ]
    },
    {
      "cell_type": "code",
      "metadata": {
        "id": "Lv4Ioi-vn2Wo",
        "outputId": "803c250b-bfe4-436a-b8e1-5416993c040e",
        "colab": {
          "base_uri": "https://localhost:8080/",
          "height": 52
        }
      },
      "source": [
        "# generate 100K random numbers from the distribution!\n",
        "tmp = np.random.normal(loc=0, scale=10, size=100000)\n",
        "tmp"
      ],
      "execution_count": null,
      "outputs": [
        {
          "output_type": "execute_result",
          "data": {
            "text/plain": [
              "array([-9.57963578,  3.63624152,  0.09333751, ...,  5.00570077,\n",
              "        2.06051126, -6.85626921])"
            ]
          },
          "metadata": {
            "tags": []
          },
          "execution_count": 61
        }
      ]
    },
    {
      "cell_type": "code",
      "metadata": {
        "id": "esUjPolYn_X9",
        "outputId": "0d33c936-0086-4602-d6ad-8cab18407019",
        "colab": {
          "base_uri": "https://localhost:8080/",
          "height": 265
        }
      },
      "source": [
        "# here's what that random term looks like\n",
        "# make a density plot\n",
        "sns.kdeplot(tmp, bw=0.5) # see how it is shaped like a bell?\n",
        "plt.show()"
      ],
      "execution_count": null,
      "outputs": [
        {
          "output_type": "display_data",
          "data": {
            "image/png": "[encoded data removed]",
            "text/plain": [
              "<Figure size 432x288 with 1 Axes>"
            ]
          },
          "metadata": {
            "tags": [],
            "needs_background": "light"
          }
        }
      ]
    },
    {
      "cell_type": "code",
      "metadata": {
        "id": "cXe7YQX0oGxn",
        "outputId": "ebe43037-8a08-4de0-c7a2-fb0dc2dfee21",
        "colab": {
          "base_uri": "https://localhost:8080/",
          "height": 35
        }
      },
      "source": [
        "# let's store this for later\n",
        "QuantitySold = 10000 - 250*UnitPrice + np.random.normal(loc=0, scale=10)\n",
        "QuantitySold # check your work, run a few times\n",
        "\n",
        "# remember, I only need one random value here...\n",
        "# don't pass the giant size term!"
      ],
      "execution_count": null,
      "outputs": [
        {
          "output_type": "execute_result",
          "data": {
            "text/plain": [
              "4299.611799188699"
            ]
          },
          "metadata": {
            "tags": []
          },
          "execution_count": 74
        }
      ]
    },
    {
      "cell_type": "markdown",
      "metadata": {
        "id": "4TUfmzaGodw6"
      },
      "source": [
        "## Fixed Costs (Normal Distribution)\n",
        "Read more here: https://numpy.org/doc/stable/reference/random/generated/numpy.random.normal.html\n",
        "\n",
        "Fixed costs normal with a mean of 30,000 USD and a standard deviation of 5,000 USD"
      ]
    },
    {
      "cell_type": "code",
      "metadata": {
        "id": "lfUzyWwHorbo",
        "outputId": "815f5cf5-000b-4781-988e-a0115537c206",
        "colab": {
          "base_uri": "https://localhost:8080/",
          "height": 52
        }
      },
      "source": [
        "# similar to above, so we get right to it\n",
        "tmp = np.random.normal(loc=30000, scale=5000, size=100000)\n",
        "tmp"
      ],
      "execution_count": null,
      "outputs": [
        {
          "output_type": "execute_result",
          "data": {
            "text/plain": [
              "array([32729.71064136, 29176.59748498, 18823.98951722, ...,\n",
              "       30802.70379931, 31718.2615737 , 32799.89479873])"
            ]
          },
          "metadata": {
            "tags": []
          },
          "execution_count": 75
        }
      ]
    },
    {
      "cell_type": "code",
      "metadata": {
        "id": "FaLTHGQ8o5gM",
        "outputId": "45c9b5fe-5641-4bcb-e852-8151c9e026a0",
        "colab": {
          "base_uri": "https://localhost:8080/",
          "height": 276
        }
      },
      "source": [
        "# make a density plot\n",
        "sns.kdeplot(tmp, bw=0.5) # see how it is shaped like a bell?\n",
        "plt.show() # see how it is centered around 30K?"
      ],
      "execution_count": null,
      "outputs": [
        {
          "output_type": "display_data",
          "data": {
            "image/png": "[encoded data removed]",
            "text/plain": [
              "<Figure size 432x288 with 1 Axes>"
            ]
          },
          "metadata": {
            "tags": [],
            "needs_background": "light"
          }
        }
      ]
    },
    {
      "cell_type": "code",
      "metadata": {
        "id": "vQ6jimxMpADJ",
        "outputId": "8e401b8e-b244-45ea-b1df-61324174269e",
        "colab": {
          "base_uri": "https://localhost:8080/",
          "height": 35
        }
      },
      "source": [
        "# now let's store it for later\n",
        "FixedCosts = np.random.normal(loc=30000, scale=5000)\n",
        "FixedCosts # check your work, run a few times"
      ],
      "execution_count": null,
      "outputs": [
        {
          "output_type": "execute_result",
          "data": {
            "text/plain": [
              "27429.743141185827"
            ]
          },
          "metadata": {
            "tags": []
          },
          "execution_count": 79
        }
      ]
    },
    {
      "cell_type": "markdown",
      "metadata": {
        "id": "GGQECn96pG_z"
      },
      "source": [
        "# 1. Answer: Expected Profit\n",
        "We are ready to build our for loop! \n",
        "\n",
        "You already saw the simple example above, but now I've renamed all the variables. I'll put them all down here so your code runs nicely."
      ]
    },
    {
      "cell_type": "code",
      "metadata": {
        "id": "OJVcKmfbpWNf",
        "outputId": "5b4fc93b-9d2a-41e0-b4f2-34fd6055958e",
        "colab": {
          "base_uri": "https://localhost:8080/",
          "height": 104
        }
      },
      "source": [
        "# here's everything above, except with probability distributions\n",
        "UnitPrice = np.random.triangular(left=18.95, mode=24.95, right=26.95)\n",
        "print(\"UnitPrice:\", UnitPrice) # if you run this cell repeatedly, you'll get a random number every time!\n",
        "UnitCost = np.random.uniform(low=12, high=15)\n",
        "print(\"UnitCost:\",UnitCost) # new value every time, try running a few times\n",
        "QuantitySold = 10000 - 250*UnitPrice + np.random.normal(loc=0, scale=10)\n",
        "print('QuantitySold:', QuantitySold) # check your work, run a few times\n",
        "FixedCosts = np.random.normal(loc=30000, scale=5000)\n",
        "print('FixedCosts:', FixedCosts) # check your work, run a few times\n",
        "Profit = QuantitySold*(UnitPrice - UnitCost) - FixedCosts\n",
        "print('Profit:', Profit)\n",
        "\n",
        "# run these a few times - see how the output changes?"
      ],
      "execution_count": null,
      "outputs": [
        {
          "output_type": "stream",
          "text": [
            "UnitPrice: 23.811478098925363\n",
            "UnitCost: 14.047343963855838\n",
            "QuantitySold: 4036.0008724883933\n",
            "FixedCosts: 30473.767836992247\n",
            "Profit: 8934.286051242063\n"
          ],
          "name": "stdout"
        }
      ]
    },
    {
      "cell_type": "markdown",
      "metadata": {
        "id": "slDKQFTUqIsS"
      },
      "source": [
        "Now the fun part - stick it all in a for loop - we will repeat 10K times then evaluate the output."
      ]
    },
    {
      "cell_type": "code",
      "metadata": {
        "id": "zWl5N0ZbqM_e",
        "outputId": "301f8bb8-f47a-4e01-ee63-c2e37d72daf8",
        "colab": {
          "base_uri": "https://localhost:8080/",
          "height": 35
        }
      },
      "source": [
        "# an empty list to store results\n",
        "results = []\n",
        "\n",
        "for a in np.arange(0,10000,1):\n",
        "  UnitPrice = np.random.triangular(left=18.95, mode=24.95, right=26.95)\n",
        "  # print(\"UnitPrice:\", UnitPrice) # if you run this cell repeatedly, you'll get a random number every time!\n",
        "  UnitCost = np.random.uniform(low=12, high=15)\n",
        "  # print(\"UnitCost:\",UnitCost) # new value every time, try running a few times\n",
        "  QuantitySold = 10000 - 250*UnitPrice + np.random.normal(loc=0, scale=10)\n",
        "  # print('QuantitySold:', QuantitySold) # check your work, run a few times\n",
        "  FixedCosts = np.random.normal(loc=30000, scale=5000)\n",
        "  # print('FixedCosts:', FixedCosts) # check your work, run a few times\n",
        "  Profit = QuantitySold*(UnitPrice - UnitCost) - FixedCosts\n",
        "  # print('Profit:', Profit)\n",
        "  results = np.append(results, Profit)\n",
        "  # print('Results:', results)\n",
        "\n",
        "# out of the loop - no tab here!\n",
        "print('IM DONE!')"
      ],
      "execution_count": null,
      "outputs": [
        {
          "output_type": "stream",
          "text": [
            "IM DONE!\n"
          ],
          "name": "stdout"
        }
      ]
    },
    {
      "cell_type": "code",
      "metadata": {
        "id": "wb-RKUYIqhC3",
        "outputId": "3c125d07-1dbf-4259-853e-d0a86f145929",
        "colab": {
          "base_uri": "https://localhost:8080/",
          "height": 69
        }
      },
      "source": [
        "# check what you did - lots of values...\n",
        "print(results.shape) # 10K entries just like we asked\n",
        "results"
      ],
      "execution_count": null,
      "outputs": [
        {
          "output_type": "stream",
          "text": [
            "(10000,)\n"
          ],
          "name": "stdout"
        },
        {
          "output_type": "execute_result",
          "data": {
            "text/plain": [
              "array([ 2600.15137195, -1780.6556852 , 14124.27630227, ...,\n",
              "       19441.07402887,  1780.22250896,  5750.42858043])"
            ]
          },
          "metadata": {
            "tags": []
          },
          "execution_count": 99
        }
      ]
    },
    {
      "cell_type": "code",
      "metadata": {
        "id": "ZOoBSN-fq3wm",
        "outputId": "efbed1b2-d9d8-4fab-bee1-e4cf3f4c1c06",
        "colab": {
          "base_uri": "https://localhost:8080/",
          "height": 35
        }
      },
      "source": [
        "# what's the mean of the distribution?\n",
        "np.mean(results)"
      ],
      "execution_count": null,
      "outputs": [
        {
          "output_type": "execute_result",
          "data": {
            "text/plain": [
              "10710.894277794352"
            ]
          },
          "metadata": {
            "tags": []
          },
          "execution_count": 100
        }
      ]
    },
    {
      "cell_type": "code",
      "metadata": {
        "id": "U-dksEjbq8DL",
        "outputId": "e29cc964-6eb5-48b3-aab8-f9a8b36bafa2",
        "colab": {
          "base_uri": "https://localhost:8080/",
          "height": 52
        }
      },
      "source": [
        "# min and max?\n",
        "print(np.min(results)) # yikes - in some cases, you'll lose money!\n",
        "print(np.max(results)) # other times you'll make gobs of money!"
      ],
      "execution_count": null,
      "outputs": [
        {
          "output_type": "stream",
          "text": [
            "-15843.016370767498\n",
            "33806.49015417737\n"
          ],
          "name": "stdout"
        }
      ]
    },
    {
      "cell_type": "code",
      "metadata": {
        "id": "A8O9e7tcqzKZ",
        "outputId": "83eb9398-54f5-4028-9a3a-05aaa3755354",
        "colab": {
          "base_uri": "https://localhost:8080/",
          "height": 276
        }
      },
      "source": [
        "# here is the distribution of values\n",
        "sns.kdeplot(results)\n",
        "plt.show()"
      ],
      "execution_count": null,
      "outputs": [
        {
          "output_type": "display_data",
          "data": {
            "image/png": "[encoded data removed]",
            "text/plain": [
              "<Figure size 432x288 with 1 Axes>"
            ]
          },
          "metadata": {
            "tags": [],
            "needs_background": "light"
          }
        }
      ]
    },
    {
      "cell_type": "markdown",
      "metadata": {
        "id": "Gg46zMtmraW5"
      },
      "source": [
        "Let's add a nice red line where the mean is."
      ]
    },
    {
      "cell_type": "code",
      "metadata": {
        "id": "n20iGzSNrZhg",
        "outputId": "87ea0c32-542a-480f-b0f1-46ba2a6b399c",
        "colab": {
          "base_uri": "https://localhost:8080/",
          "height": 276
        }
      },
      "source": [
        "# same plot, but with a red line\n",
        "sns.kdeplot(results)\n",
        "plt.axvline(np.mean(results), color='red')\n",
        "plt.show()"
      ],
      "execution_count": null,
      "outputs": [
        {
          "output_type": "display_data",
          "data": {
            "image/png": "[encoded data removed]",
            "text/plain": [
              "<Figure size 432x288 with 1 Axes>"
            ]
          },
          "metadata": {
            "tags": [],
            "needs_background": "light"
          }
        }
      ]
    },
    {
      "cell_type": "markdown",
      "metadata": {
        "id": "cR5tY46nr07L"
      },
      "source": [
        "# 2. Answer: Probability of a Loss\n",
        "For this one, we need to see how many of our results are less than 0."
      ]
    },
    {
      "cell_type": "code",
      "metadata": {
        "id": "DvdK4Snor73W",
        "outputId": "0f833924-2f21-4c1f-c7d0-dd52a496277d",
        "colab": {
          "base_uri": "https://localhost:8080/",
          "height": 35
        }
      },
      "source": [
        "# what's the size of our results? 10K\n",
        "results.shape"
      ],
      "execution_count": null,
      "outputs": [
        {
          "output_type": "execute_result",
          "data": {
            "text/plain": [
              "(10000,)"
            ]
          },
          "metadata": {
            "tags": []
          },
          "execution_count": 22
        }
      ]
    },
    {
      "cell_type": "code",
      "metadata": {
        "id": "bzR4_oN_sAMb",
        "outputId": "a5beae37-32b9-4cf2-f600-240a7b2037cc",
        "colab": {
          "base_uri": "https://localhost:8080/",
          "height": 35
        }
      },
      "source": [
        "# how many are less than zero?\n",
        "lessThanZero = np.where(results <0)\n",
        "lessThanZero = np.array(lessThanZero) # make sure it stored as an array!\n",
        "lessThanZero.shape "
      ],
      "execution_count": null,
      "outputs": [
        {
          "output_type": "execute_result",
          "data": {
            "text/plain": [
              "(1, 643)"
            ]
          },
          "metadata": {
            "tags": []
          },
          "execution_count": 23
        }
      ]
    },
    {
      "cell_type": "code",
      "metadata": {
        "id": "wgjF2YE2s3w6",
        "outputId": "3523b16c-2873-42cd-8e83-37aafc0ff0bc",
        "colab": {
          "base_uri": "https://localhost:8080/",
          "height": 52
        }
      },
      "source": [
        "# so, it's less than zero divided by total (10K)\n",
        "print(results.shape)\n",
        "lessThanZero.shape[1]/results.shape[0]\n",
        "\n",
        "# 0.064 means a 6.4% chance (don't forget to multiply by 100)\n",
        "# your results may be slightly different due to randomness"
      ],
      "execution_count": null,
      "outputs": [
        {
          "output_type": "stream",
          "text": [
            "(10000,)\n"
          ],
          "name": "stdout"
        },
        {
          "output_type": "execute_result",
          "data": {
            "text/plain": [
              "0.0643"
            ]
          },
          "metadata": {
            "tags": []
          },
          "execution_count": 103
        }
      ]
    },
    {
      "cell_type": "markdown",
      "metadata": {
        "id": "NDnidvLgtNoE"
      },
      "source": [
        "# 3. Answer: Maximum Loss\n",
        "This one is easy - just the min!"
      ]
    },
    {
      "cell_type": "code",
      "metadata": {
        "id": "fxhx0xK3tWTv",
        "outputId": "c9fb73d9-76f2-4266-f9b7-e258c5cb610e",
        "colab": {
          "base_uri": "https://localhost:8080/",
          "height": 35
        }
      },
      "source": [
        "np.min(results) # booyah!"
      ],
      "execution_count": null,
      "outputs": [
        {
          "output_type": "execute_result",
          "data": {
            "text/plain": [
              "-17493.25366967071"
            ]
          },
          "metadata": {
            "tags": []
          },
          "execution_count": 25
        }
      ]
    },
    {
      "cell_type": "markdown",
      "metadata": {
        "id": "_5FiWtHCtdyO"
      },
      "source": [
        "# On Your Own\n",
        "Can you find what the median is? The 30th percentile (30% chance profits will be below this level)? The 90th percentile (90% chance profits will be below this level, 10% chance they will be higher?)"
      ]
    }
  ]
}