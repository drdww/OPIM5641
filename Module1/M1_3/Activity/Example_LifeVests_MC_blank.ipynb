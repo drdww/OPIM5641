{
  "nbformat": 4,
  "nbformat_minor": 0,
  "metadata": {
    "colab": {
      "name": "M4.2_Blank_DW",
      "provenance": [],
      "collapsed_sections": [],
      "authorship_tag": "ABX9TyO2zieQKFUVNxr2/nH9Co/U",
      "include_colab_link": true
    },
    "kernelspec": {
      "name": "python3",
      "display_name": "Python 3"
    }
  },
  "cells": [
    {
      "cell_type": "markdown",
      "metadata": {
        "id": "view-in-github",
        "colab_type": "text"
      },
      "source": [
        "<a href=\"https://colab.research.google.com/github/drdww/OPIM5641/blob/main/Module1/M1_3/Activity/Example_LifeVests_MC_blank.ipynb\" target=\"_parent\"><img src=\"https://colab.research.google.com/assets/colab-badge.svg\" alt=\"Open In Colab\"/></a>"
      ]
    },
    {
      "cell_type": "markdown",
      "metadata": {
        "id": "7rz3_Y-evK5z"
      },
      "source": [
        "# M4.2: MC Simulation (Life Vests)\n",
        "**OPIM 5641: Business Decision Modeling - University of Connecticut**\n",
        "\n",
        "* Your Name Here\n",
        "* Your NetID Here\n",
        "\n",
        "--------------------------------------------------------------------------\n",
        "\n",
        "**Directions:** \n",
        "You may work with your fellow classmates, but you need to complete the assignment on your own. I expect different headers and COMMENTS (comments are the key to showing that you really know your stuff - without comments, your code is useless to me).\n",
        "\n",
        "**Rubric:**\n",
        "* Each item corresponds to 50% of the grade:\n",
        "  * Full credit (100): Correct formulation and lots of useful comments. Nice headers and text cells included in the notebook.\n",
        "  * Half credit (50): Solution is wrong (bad code) or the comments are mediocre or directly copied. Nice headers and text cells included in the notebook.\n",
        "  * No credit (0): Bad code and bad comments, or good code and no comments. Poorly laid out notebook.\n",
        "\n",
        "-------------------------------------------------------------------------\n"
      ]
    },
    {
      "cell_type": "markdown",
      "metadata": {
        "id": "X5qbfrvixKjy"
      },
      "source": [
        "# Problem Statement\n",
        "Dave's Life Jacket Rentals leases life jackets each day from a supplier and rents them to customers who use them when they raft down the Connecticut River.  Each day, Lionel leases 30 life jackets from his supplier, at a cost of 4 USD per life jacket.  He rents them to his customers for 15 USD per day.  Rental demand follows the normal distribution, with a mean of 30 life jackets and a standard deviation of 6 life jackets.\n",
        "\n",
        "a) (25 pts)\tSimulate this leasing policy for a month (30 days) of operation to calculate the total monthly profit *(your answer should be around 8700 USD)*.  This is your basic answer to ensure you are setting up the problem correctly.\n",
        "\n",
        "b) (25 pts) Replicate this calculation 200 times.  What is the average monthly profit? Show probabilistic output with nice graphs, labels and added lines where appropriate.\n",
        "\n",
        "c) (25 pts) Same as above, but play with a standard deviation of 3, 6, and 9. How does your answer change? Show probabilistic output with nice graphs, labels and added lines where appropriate.\n",
        "\n",
        "c) (25 pts)\tLionel would like to evaluate the average monthly profit if he leases 25, 30, 35, and 40 life jackets. Use a standard deviation of 6.  What is your recommendation?  Why? Show probabilistic output with nice graphs, labels and added lines where appropriate.\n"
      ]
    },
    {
      "cell_type": "code",
      "metadata": {
        "id": "DqS2hZ8bvI3d"
      },
      "source": [
        "# good luck!"
      ],
      "execution_count": null,
      "outputs": []
    }
  ]
}