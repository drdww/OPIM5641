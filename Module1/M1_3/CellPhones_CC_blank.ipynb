{
  "nbformat": 4,
  "nbformat_minor": 0,
  "metadata": {
    "colab": {
      "name": "CellPhones_CC_blank",
      "provenance": [],
      "collapsed_sections": [],
      "include_colab_link": true
    },
    "kernelspec": {
      "name": "python3",
      "display_name": "Python 3"
    }
  },
  "cells": [
    {
      "cell_type": "markdown",
      "metadata": {
        "id": "view-in-github",
        "colab_type": "text"
      },
      "source": [
        "<a href=\"https://colab.research.google.com/github/drdww/OPIM5641/blob/main/Module1/M1_3/CellPhones_CC_blank.ipynb\" target=\"_parent\"><img src=\"https://colab.research.google.com/assets/colab-badge.svg\" alt=\"Open In Colab\"/></a>"
      ]
    },
    {
      "cell_type": "markdown",
      "metadata": {
        "id": "sLuw4TUhrKvc"
      },
      "source": [
        "# Monte Carlo Simulation: Cell Phones\n",
        "**OPIM 5641: Business Decision Modeling - Dept. of Operations and Information Management - University of Connecticut**\n",
        "\n",
        "\n",
        "Please refer to Powell Chapter 14 for more details/examples. Please check the videos for a solution.\n",
        "\n",
        "------------------------------------------------------"
      ]
    },
    {
      "cell_type": "markdown",
      "metadata": {
        "id": "ox2aM7SAkLRA"
      },
      "source": [
        "**[Profit Analysis 14.1 - Powell]** A consumer electronics firm produces a line\n",
        "of battery rechargers for cell phones. The following distributions apply:\n",
        "\n",
        "* Unit price triangular with a minimum of 18.95 USD, most\n",
        "likely value of 24.95 USD, and maximum of 26.95 USD\n",
        "* Unit cost uniform with a minimum of 12.00 USD and a\n",
        "maximum of 15.00\n",
        "* Quantity sold = $10,000 – 250*UnitPrice$, plus a random term\n",
        "given by a normal distribution with a mean of\n",
        "0 and a standard deviation of 10\n",
        "* Fixed costs normal with a mean of 30,000 USD and a standard deviation of 5,000 USD\n",
        "\n",
        "1. What is the expected profit?\n",
        "2. What is the probability of a loss?\n",
        "3. What is the maximum loss?"
      ]
    },
    {
      "cell_type": "code",
      "source": [
        ""
      ],
      "metadata": {
        "id": "RoMhf8s1n5_v"
      },
      "execution_count": null,
      "outputs": []
    }
  ]
}