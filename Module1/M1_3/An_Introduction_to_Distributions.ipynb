{
  "nbformat": 4,
  "nbformat_minor": 0,
  "metadata": {
    "colab": {
      "name": "An Introduction to Distributions.ipynb",
      "provenance": [],
      "collapsed_sections": [],
      "include_colab_link": true
    },
    "kernelspec": {
      "name": "python3",
      "display_name": "Python 3"
    },
    "language_info": {
      "name": "python"
    }
  },
  "cells": [
    {
      "cell_type": "markdown",
      "metadata": {
        "id": "view-in-github",
        "colab_type": "text"
      },
      "source": [
        "<a href=\"https://colab.research.google.com/github/drdww/OPIM5641/blob/main/Module1/M1_3/An_Introduction_to_Distributions.ipynb\" target=\"_parent\"><img src=\"https://colab.research.google.com/assets/colab-badge.svg\" alt=\"Open In Colab\"/></a>"
      ]
    },
    {
      "cell_type": "markdown",
      "metadata": {
        "id": "Dfz-AkE7DA-T"
      },
      "source": [
        "# An Introduction to Probability Distributions\n",
        "\n",
        "**OPIM 5641: Business Decision Modeling - University of Connecticut**\n",
        "\n",
        "------------------------------------\n",
        "Let's go over some of the common discrete and integer probability distributions you may come across in the real-world."
      ]
    },
    {
      "cell_type": "code",
      "metadata": {
        "id": "4QLRvS3UEOmu"
      },
      "source": [
        "import numpy as np\n",
        "import seaborn as sns\n",
        "from pylab import *"
      ],
      "execution_count": null,
      "outputs": []
    },
    {
      "cell_type": "markdown",
      "metadata": {
        "id": "LcXTYLteO1GK"
      },
      "source": [
        "# Parameters of a distribution\n",
        "Vary from distribution to distribution. By turning different knobs, you will create a distribution with a different shape! We will explore this practically in the code below - feel free to check out Wikipedia to see more on the probability distribution (mass) functions!"
      ]
    },
    {
      "cell_type": "markdown",
      "metadata": {
        "id": "bG8sOUskO_WZ"
      },
      "source": [
        "# Percentiles\n",
        "Very useful for describing the shape of the distribution - especially the extremes.\n",
        "\n",
        "* At the 10th percentile, 10% of the values are at or BELOW this point\n",
        "* At the 25th percentile, 25% of the values are AT or BELOW this point\n",
        "* At the 100th percentile, 100% of the values are AT or BELOW this value."
      ]
    },
    {
      "cell_type": "markdown",
      "metadata": {
        "id": "u40ZEItTD88R"
      },
      "source": [
        "# Sampling from Continuous Distributions"
      ]
    },
    {
      "cell_type": "markdown",
      "metadata": {
        "id": "LIhCxdcvDHdR"
      },
      "source": [
        "## Normal Distribution\n",
        "* https://numpy.org/doc/stable/reference/random/generated/numpy.random.normal.html\n",
        "\n",
        "`numpy.random.normal\n",
        "random.normal(loc=0.0, scale=1.0, size=None)`\n",
        "\n",
        "`loc` is the mean and `scale` is the standard deviation and `size` is the number of samples to return.\n",
        "\n",
        "Draw random samples from a normal (Gaussian) distribution.\n",
        "\n",
        "The probability density function of the normal distribution, first derived by De Moivre and 200 years later by both Gauss and Laplace independently [2], is often called the bell curve because of its characteristic shape (see the example below).\n",
        "\n",
        "The normal distributions occurs often in nature. For example, it describes the commonly occurring distribution of samples influenced by a large number of tiny, random disturbances, each with its own unique distribution [2]."
      ]
    },
    {
      "cell_type": "markdown",
      "metadata": {
        "id": "Lfa1mdjnERDf"
      },
      "source": [
        "Try running this cell 5 or 10 times and evaluate the output - does it meet your expectation?"
      ]
    },
    {
      "cell_type": "code",
      "metadata": {
        "colab": {
          "base_uri": "https://localhost:8080/"
        },
        "id": "mNNEZyfgC74G",
        "outputId": "bafbbb00-7800-43ac-900b-3a96f5f2d218"
      },
      "source": [
        "# let's generate one value from the normal distribution\n",
        "np.random.normal(loc=100, scale=2) # mean of 100, sd of 2"
      ],
      "execution_count": null,
      "outputs": [
        {
          "output_type": "execute_result",
          "data": {
            "text/plain": [
              "99.08192005697474"
            ]
          },
          "metadata": {},
          "execution_count": 5
        }
      ]
    },
    {
      "cell_type": "markdown",
      "metadata": {
        "id": "0DLcjkSgEWws"
      },
      "source": [
        "Let's generate 10,000 values and visualize it."
      ]
    },
    {
      "cell_type": "code",
      "metadata": {
        "id": "wQpOaWeLEbWO"
      },
      "source": [
        "# let's generate 10k values from the normal distribution\n",
        "tmp = np.random.normal(loc=100, scale=2, size=10000) # mean of 100, sd of 2"
      ],
      "execution_count": null,
      "outputs": []
    },
    {
      "cell_type": "code",
      "metadata": {
        "colab": {
          "base_uri": "https://localhost:8080/",
          "height": 265
        },
        "id": "XEyepBOZElSG",
        "outputId": "baf1820c-c043-422a-dd0e-7117bc5b4d9f"
      },
      "source": [
        "# now visualize it\n",
        "sns.kdeplot(tmp)\n",
        "plt.show() # get rid of annoying text"
      ],
      "execution_count": null,
      "outputs": [
        {
          "output_type": "display_data",
          "data": {
            "image/png": "[encoded data removed]",
            "text/plain": [
              "<Figure size 432x288 with 1 Axes>"
            ]
          },
          "metadata": {
            "needs_background": "light"
          }
        }
      ]
    },
    {
      "cell_type": "markdown",
      "metadata": {
        "id": "_-Dm5DJTFAdH"
      },
      "source": [
        "It's interesting to calculate the mean or percentiles of the distribution and PLOT them on the distribution."
      ]
    },
    {
      "cell_type": "code",
      "metadata": {
        "colab": {
          "base_uri": "https://localhost:8080/",
          "height": 265
        },
        "id": "0Ai-QiMtFGBx",
        "outputId": "64f21403-d900-47b8-9895-3712527b9ff7"
      },
      "source": [
        "# like this! see how I dynamically updated the value on the plot? no hard coding! better!!!\n",
        "sns.kdeplot(tmp)\n",
        "vlines(x=np.mean(tmp),ymin=0, ymax=0.2) # you may need to adjust the ymax value\n",
        "plt.show() # get rid of annoying text"
      ],
      "execution_count": null,
      "outputs": [
        {
          "output_type": "display_data",
          "data": {
            "image/png": "[encoded data removed]",
            "text/plain": [
              "<Figure size 432x288 with 1 Axes>"
            ]
          },
          "metadata": {
            "needs_background": "light"
          }
        }
      ]
    },
    {
      "cell_type": "code",
      "metadata": {
        "colab": {
          "base_uri": "https://localhost:8080/",
          "height": 265
        },
        "id": "utsFcZMJE4mR",
        "outputId": "87dc2cff-2d86-4b41-cc4f-341b9e48bfe2"
      },
      "source": [
        "# you can also use a histogram\n",
        "hist(tmp)\n",
        "plt.show()"
      ],
      "execution_count": null,
      "outputs": [
        {
          "output_type": "display_data",
          "data": {
            "image/png": "[encoded data removed]",
            "text/plain": [
              "<Figure size 432x288 with 1 Axes>"
            ]
          },
          "metadata": {
            "needs_background": "light"
          }
        }
      ]
    },
    {
      "cell_type": "markdown",
      "metadata": {
        "id": "2M3OYeaAEaDU"
      },
      "source": [
        "On your own, you can try adding a line to the histogram and customizing the style (solid vs. dashed) and color."
      ]
    },
    {
      "cell_type": "markdown",
      "metadata": {
        "id": "lu94xOtuFsYN"
      },
      "source": [
        "## Triangular Distribution\n",
        "* https://numpy.org/doc/stable/reference/random/generated/numpy.random.triangular.html#numpy.random.triangular\n",
        "\n",
        "`random.triangular(left, mode, right, size=None)`\n",
        "`left` is the left min, `right` is the right max, and `mode` is the most common.\n",
        "\n",
        "Draw samples from the triangular distribution over the interval [left, right].\n",
        "\n",
        "The triangular distribution is a continuous probability distribution with lower limit left, peak at mode, and upper limit right. Unlike the other distributions, these parameters directly define the shape of the pdf.\n",
        "\n",
        "**From Powell:**\n",
        "\n",
        "The triangular distribution describes an outcome that has a minimum and maximum\n",
        "value but is most likely to occur at an intermediate point. The triangular distribution is\n",
        "more flexible than the uniform because it can have a peak anywhere in its range. It is well\n",
        "suited to situations where we can identify a most likely outcome as well as the smallest and\n",
        "largest possible outcomes."
      ]
    },
    {
      "cell_type": "code",
      "metadata": {
        "colab": {
          "base_uri": "https://localhost:8080/"
        },
        "id": "wdYeQBIeGaGj",
        "outputId": "158d6fcb-7ef5-4ed5-db14-bd29f2351b25"
      },
      "source": [
        "# let's generate one value from the triangular distribution\n",
        "np.random.triangular(left=5, mode=10, right=20, size=1)"
      ],
      "execution_count": null,
      "outputs": [
        {
          "output_type": "execute_result",
          "data": {
            "text/plain": [
              "array([8.32779769])"
            ]
          },
          "metadata": {},
          "execution_count": 23
        }
      ]
    },
    {
      "cell_type": "code",
      "metadata": {
        "id": "f1J2XH3fGnSc"
      },
      "source": [
        "# let's generate one value from the triangular distribution\n",
        "tmp = np.random.triangular(left=5, mode=10, right=20, size=10000)"
      ],
      "execution_count": null,
      "outputs": []
    },
    {
      "cell_type": "code",
      "metadata": {
        "colab": {
          "base_uri": "https://localhost:8080/",
          "height": 265
        },
        "id": "nzlEmBjNGqBF",
        "outputId": "a96931c7-8480-46ef-bd92-514a22487162"
      },
      "source": [
        "# plot it!\n",
        "sns.kdeplot(tmp)\n",
        "plt.show()"
      ],
      "execution_count": null,
      "outputs": [
        {
          "output_type": "display_data",
          "data": {
            "image/png": "[encoded data removed]",
            "text/plain": [
              "<Figure size 432x288 with 1 Axes>"
            ]
          },
          "metadata": {
            "needs_background": "light"
          }
        }
      ]
    },
    {
      "cell_type": "markdown",
      "metadata": {
        "id": "Okm5JdO0GtkW"
      },
      "source": [
        "See how it is roughly triangular? If you set size equal to like 1M perhaps it would be perfect?"
      ]
    },
    {
      "cell_type": "markdown",
      "metadata": {
        "id": "DFYCCHW6IQMG"
      },
      "source": [
        "**On your own:** try making a histogram with nice title and labels."
      ]
    },
    {
      "cell_type": "markdown",
      "metadata": {
        "id": "A1LRLAL7G5WE"
      },
      "source": [
        "**On your own:** Of course, you can try to plot the mean or some percentiles of the distribution - can you count how many values are less than 7.5?"
      ]
    },
    {
      "cell_type": "markdown",
      "metadata": {
        "id": "x2uwGDBSHCzD"
      },
      "source": [
        "## Uniform Distribution\n",
        "* https://numpy.org/doc/stable/reference/random/generated/numpy.random.uniform\n",
        "\n",
        "`random.uniform(low=0.0, high=1.0, size=None)`\n",
        "\n",
        "Draw samples from a uniform distribution.\n",
        "\n",
        "Samples are uniformly distributed over the half-open interval [low, high) (includes low, but excludes high). In other words, any value within the given interval is equally likely to be drawn by uniform.\n",
        "\n",
        "**From Powell:**\n",
        "The uniform distribution describes an outcome that is equally likely to fall anywhere\n",
        "between a prescribed minimum and a prescribed maximum. It is particularly appropriate\n",
        "when we can make a reasonable guess about the smallest and largest possible outcomes\n",
        "but have no reason to suspect that any values in between are more likely than others."
      ]
    },
    {
      "cell_type": "code",
      "metadata": {
        "colab": {
          "base_uri": "https://localhost:8080/"
        },
        "id": "2ykT7xauHti5",
        "outputId": "5171d033-7f2d-401c-b7f2-72718c53126a"
      },
      "source": [
        "# generate one value\n",
        "np.random.uniform(low=10, high=20, size=1)"
      ],
      "execution_count": null,
      "outputs": [
        {
          "output_type": "execute_result",
          "data": {
            "text/plain": [
              "array([19.41045012])"
            ]
          },
          "metadata": {},
          "execution_count": 35
        }
      ]
    },
    {
      "cell_type": "code",
      "metadata": {
        "id": "q8dZM-z_H0UD"
      },
      "source": [
        "# generate 10k values\n",
        "tmp = np.random.uniform(low=10, high=20, size=10000)"
      ],
      "execution_count": null,
      "outputs": []
    },
    {
      "cell_type": "code",
      "metadata": {
        "colab": {
          "base_uri": "https://localhost:8080/",
          "height": 282
        },
        "id": "Gnti9KV4H3_s",
        "outputId": "734e2762-b6a9-4c8a-f402-d509625d7347"
      },
      "source": [
        "# plot it!\n",
        "sns.kdeplot(tmp)"
      ],
      "execution_count": null,
      "outputs": [
        {
          "output_type": "execute_result",
          "data": {
            "text/plain": [
              "<matplotlib.axes._subplots.AxesSubplot at 0x7f1d7483c350>"
            ]
          },
          "metadata": {},
          "execution_count": 37
        },
        {
          "output_type": "display_data",
          "data": {
            "image/png": "[encoded data removed]",
            "text/plain": [
              "<Figure size 432x288 with 1 Axes>"
            ]
          },
          "metadata": {
            "needs_background": "light"
          }
        }
      ]
    },
    {
      "cell_type": "markdown",
      "metadata": {
        "id": "IPgeLiICH7ox"
      },
      "source": [
        "Again, you have lots of opportunies for customization! You can add a nice title and labels.\n",
        "\n",
        "**On your own:** try the shade the area to the left of 12 and to the right of 18.\n",
        "* https://stackoverflow.com/questions/46685453/how-to-fill-with-a-different-color-an-area-in-seaborn-distplot"
      ]
    },
    {
      "cell_type": "markdown",
      "metadata": {
        "id": "D_Nj369zIZ5h"
      },
      "source": [
        "# Sampling from Discrete Distributions"
      ]
    },
    {
      "cell_type": "markdown",
      "metadata": {
        "id": "cWmEw5xVJLTc"
      },
      "source": [
        "## Binomial Distribution\n",
        "* https://numpy.org/doc/stable/reference/random/generated/numpy.random.binomial.html\n",
        "\n",
        "`random.binomial(n, p, size=None)`\n",
        "\n",
        "Draw samples from a binomial distribution.\n",
        "\n",
        "Samples are drawn from a binomial distribution with specified parameters, n trials and p probability of success where n an integer >= 0 and p is in the interval [0,1]. (n may be input as a float, but it is truncated to an integer in use)\n",
        "\n",
        "**From Powell:**\n",
        "\n",
        "A useful distribution is the binomial distribution, which describes a random\n",
        "variable that counts the number of successful outcomes in a series of n independent\n",
        "experiments (trials), each with a success probability of p. The possible outcomes are the\n",
        "numbers 0, 1, 2, ..., n. Suppose we are counting the number of defective chips in a\n",
        "production batch of n 100. (As is often the case in quality control, we can represent a\n",
        "defect as a “success.”) If we know that there is a 5 percent chance that an individual chip is\n",
        "defective, then the number of defects in the batch can be modeled as following a binomial\n",
        "distribution with parameters n 100 and p 0.05 (see Figure A3.5d). We need two\n",
        "parameters to specify a binomial distribution—the number of trials and the success rate."
      ]
    },
    {
      "cell_type": "code",
      "metadata": {
        "colab": {
          "base_uri": "https://localhost:8080/"
        },
        "id": "szHq-iP3J3kq",
        "outputId": "d17ec189-2cef-44c8-b313-9d2c6672eebc"
      },
      "source": [
        "# out of fifty trials, how many successes would I find?\n",
        "np.random.binomial(n=50, p=0.2, size=1)"
      ],
      "execution_count": null,
      "outputs": [
        {
          "output_type": "execute_result",
          "data": {
            "text/plain": [
              "array([11])"
            ]
          },
          "metadata": {},
          "execution_count": 55
        }
      ]
    },
    {
      "cell_type": "code",
      "metadata": {
        "id": "FQwwivjxKCTJ"
      },
      "source": [
        "# generate 10k samples\n",
        "tmp = np.random.binomial(n=50, p=0.2, size=10000)"
      ],
      "execution_count": null,
      "outputs": []
    },
    {
      "cell_type": "code",
      "metadata": {
        "colab": {
          "base_uri": "https://localhost:8080/",
          "height": 265
        },
        "id": "HAAUYEqYKQN8",
        "outputId": "776426fe-3daf-480f-b0e4-eb607c3b34ab"
      },
      "source": [
        "# plot it!\n",
        "sns.kdeplot(tmp)\n",
        "plt.show()"
      ],
      "execution_count": null,
      "outputs": [
        {
          "output_type": "display_data",
          "data": {
            "image/png": "[encoded data removed]",
            "text/plain": [
              "<Figure size 432x288 with 1 Axes>"
            ]
          },
          "metadata": {
            "needs_background": "light"
          }
        }
      ]
    },
    {
      "cell_type": "markdown",
      "metadata": {
        "id": "MqcM7jV8KahM"
      },
      "source": [
        "Of course, as n goes to infinity, you approximate a normal distribution (which is awesome!)"
      ]
    },
    {
      "cell_type": "code",
      "metadata": {
        "colab": {
          "base_uri": "https://localhost:8080/",
          "height": 265
        },
        "id": "0DWJXthVKjvr",
        "outputId": "1b7b7f6b-93f3-4c27-fa99-33f2b8736bdd"
      },
      "source": [
        "# histograms are probably a bit nicer since it's integers\n",
        "hist(tmp)\n",
        "plt.show()"
      ],
      "execution_count": null,
      "outputs": [
        {
          "output_type": "display_data",
          "data": {
            "image/png": "[encoded data removed]",
            "text/plain": [
              "<Figure size 432x288 with 1 Axes>"
            ]
          },
          "metadata": {
            "needs_background": "light"
          }
        }
      ]
    },
    {
      "cell_type": "markdown",
      "metadata": {
        "id": "difuKQ5eKs2w"
      },
      "source": [
        "**On your own:** Try to play with the values of `p` and `n` and also the bin size in the histogram."
      ]
    },
    {
      "cell_type": "markdown",
      "metadata": {
        "id": "KN_QI2G0K7rL"
      },
      "source": [
        "## Uniform Integers\n",
        "* https://numpy.org/doc/stable/reference/random/generated/numpy.random.randint.html#numpy.random.randint\n",
        "\n",
        "`random.randint(low, high=None, size=None, dtype=int)`\n",
        "\n",
        "Return random integers from low (inclusive) to high (exclusive).\n",
        "\n",
        "Return random integers from the “discrete uniform” distribution of the specified dtype in the “half-open” interval [low, high). If high is None (the default), then results are from [0, low).\n",
        "\n",
        "**From Powell:**\n",
        "The integer uniform distribution can be used when the outcomes can be numbered 1\n",
        "through n, and each outcome occurs with equal probability. The result of rolling a fair die\n",
        "can be described by an integer uniform distribution with six outcomes, as shown in\n",
        "Figure A3.5b."
      ]
    },
    {
      "cell_type": "code",
      "metadata": {
        "colab": {
          "base_uri": "https://localhost:8080/"
        },
        "id": "iyPoYiMHLKQH",
        "outputId": "89586da0-5ffe-4f92-83c9-d3e45e98decc"
      },
      "source": [
        "# generate a single value\n",
        "np.random.randint(low=15, high=62, size=1, dtype=int)"
      ],
      "execution_count": null,
      "outputs": [
        {
          "output_type": "execute_result",
          "data": {
            "text/plain": [
              "array([39])"
            ]
          },
          "metadata": {},
          "execution_count": 63
        }
      ]
    },
    {
      "cell_type": "code",
      "metadata": {
        "id": "RSYbaCUSLT4_"
      },
      "source": [
        "# generate 10k values\n",
        "tmp = np.random.randint(low=15, high=62, size=10000, dtype=int)"
      ],
      "execution_count": null,
      "outputs": []
    },
    {
      "cell_type": "code",
      "metadata": {
        "colab": {
          "base_uri": "https://localhost:8080/",
          "height": 265
        },
        "id": "f3UiV-znLT_p",
        "outputId": "cbb4e7bb-8e76-4a77-b4fc-3d58da081c98"
      },
      "source": [
        " # plot it!\n",
        " hist(tmp)\n",
        " plt.show()"
      ],
      "execution_count": null,
      "outputs": [
        {
          "output_type": "display_data",
          "data": {
            "image/png": "[encoded data removed]",
            "text/plain": [
              "<Figure size 432x288 with 1 Axes>"
            ]
          },
          "metadata": {
            "needs_background": "light"
          }
        }
      ]
    },
    {
      "cell_type": "markdown",
      "metadata": {
        "id": "6S-B_u28LfNE"
      },
      "source": [
        "If you up the number of samples it will approach the true PDF.\n",
        "\n",
        "**On your own:** Play with the bin size and number of samples drawn."
      ]
    },
    {
      "cell_type": "code",
      "metadata": {
        "colab": {
          "base_uri": "https://localhost:8080/",
          "height": 282
        },
        "id": "OlzM04-BLnq0",
        "outputId": "79e19dce-d8b2-49de-a803-0e4fe09e9b0b"
      },
      "source": [
        "sns.kdeplot(tmp)"
      ],
      "execution_count": null,
      "outputs": [
        {
          "output_type": "execute_result",
          "data": {
            "text/plain": [
              "<matplotlib.axes._subplots.AxesSubplot at 0x7f1d74705f90>"
            ]
          },
          "metadata": {},
          "execution_count": 71
        },
        {
          "output_type": "display_data",
          "data": {
            "image/png": "[encoded data removed]",
            "text/plain": [
              "<Figure size 432x288 with 1 Axes>"
            ]
          },
          "metadata": {
            "needs_background": "light"
          }
        }
      ]
    },
    {
      "cell_type": "markdown",
      "metadata": {
        "id": "AmXZNzN2L_lE"
      },
      "source": [
        "## Poisson Distribution\n",
        "* https://numpy.org/doc/stable/reference/random/generated/numpy.random.poisson.html\n",
        "\n",
        "`random.poisson(lam=1.0, size=None)`\n",
        "\n",
        "Draw samples from a Poisson distribution.\n",
        "\n",
        "The Poisson distribution is the limit of the binomial distribution for large N."
      ]
    },
    {
      "cell_type": "code",
      "metadata": {
        "colab": {
          "base_uri": "https://localhost:8080/"
        },
        "id": "RpqNP9pXMJe3",
        "outputId": "edaa69ef-21a5-433a-a774-1cfc7a31e7c2"
      },
      "source": [
        "# generate one value from the poisson distribution\n",
        "np.random.poisson(lam=3, size=1)"
      ],
      "execution_count": null,
      "outputs": [
        {
          "output_type": "execute_result",
          "data": {
            "text/plain": [
              "array([3])"
            ]
          },
          "metadata": {},
          "execution_count": 87
        }
      ]
    },
    {
      "cell_type": "code",
      "metadata": {
        "id": "ELlR-g-qMQXH"
      },
      "source": [
        "# make 1000 values\n",
        "tmp = np.random.poisson(lam=3, size=1000)"
      ],
      "execution_count": null,
      "outputs": []
    },
    {
      "cell_type": "code",
      "metadata": {
        "colab": {
          "base_uri": "https://localhost:8080/",
          "height": 267
        },
        "id": "NdHJ6kXZMY4m",
        "outputId": "43069069-d637-431d-e923-163b7e0b999f"
      },
      "source": [
        "# plot it!\n",
        "hist(tmp)\n",
        "plt.show()"
      ],
      "execution_count": null,
      "outputs": [
        {
          "output_type": "display_data",
          "data": {
            "image/png": "[encoded data removed]",
            "text/plain": [
              "<Figure size 432x288 with 1 Axes>"
            ]
          },
          "metadata": {
            "needs_background": "light"
          }
        }
      ]
    },
    {
      "cell_type": "markdown",
      "metadata": {
        "id": "vQwXKHx_Mtpt"
      },
      "source": [
        "**On your own:** Try different values of lambda and investigate how this changes the distribution."
      ]
    },
    {
      "cell_type": "markdown",
      "metadata": {
        "id": "eAv86-uLOFNi"
      },
      "source": [
        "# [optional] Cumulative density function\n",
        "This code will work for any of the large samples we generated! Not for single values (`size=1`)."
      ]
    },
    {
      "cell_type": "code",
      "metadata": {
        "colab": {
          "base_uri": "https://localhost:8080/",
          "height": 299
        },
        "id": "bo4WE3EgNLQF",
        "outputId": "336155ea-53f5-47cf-bd5c-80d7984475e8"
      },
      "source": [
        "# cdf\n",
        "data = tmp\n",
        "\n",
        "# sort the data:\n",
        "data_sorted = np.sort(data)\n",
        "\n",
        "# calculate the proportional values of samples\n",
        "p = 1. * np.arange(len(data)) / (len(data) - 1)\n",
        "\n",
        "# plot the sorted data:\n",
        "fig = plt.figure()\n",
        "ax1 = fig.add_subplot(121)\n",
        "ax1.plot(p, data_sorted)\n",
        "ax1.set_xlabel('$p$')\n",
        "ax1.set_ylabel('$x$')\n",
        "\n",
        "ax2 = fig.add_subplot(122)\n",
        "ax2.plot(data_sorted, p)\n",
        "ax2.set_xlabel('$x$')\n",
        "ax2.set_ylabel('$p$')"
      ],
      "execution_count": null,
      "outputs": [
        {
          "output_type": "execute_result",
          "data": {
            "text/plain": [
              "Text(0, 0.5, '$p$')"
            ]
          },
          "metadata": {},
          "execution_count": 93
        },
        {
          "output_type": "display_data",
          "data": {
            "image/png": "[encoded data removed]",
            "text/plain": [
              "<Figure size 432x288 with 2 Axes>"
            ]
          },
          "metadata": {
            "needs_background": "light"
          }
        }
      ]
    },
    {
      "cell_type": "markdown",
      "metadata": {
        "id": "w4w4AzdROSQd"
      },
      "source": [
        "See how you can read off the percentiles? I think the plot on the righthand side is more common and easier to read."
      ]
    },
    {
      "cell_type": "code",
      "metadata": {
        "colab": {
          "base_uri": "https://localhost:8080/"
        },
        "id": "-i23V-1VOU2F",
        "outputId": "5692ccda-6872-4d77-f77e-e3fa71ad5163"
      },
      "source": [
        "import numpy as np\n",
        "np.percentile(tmp, [0, 25, 50, 75, 100])"
      ],
      "execution_count": null,
      "outputs": [
        {
          "output_type": "execute_result",
          "data": {
            "text/plain": [
              "array([ 0.,  2.,  3.,  4., 12.])"
            ]
          },
          "metadata": {},
          "execution_count": 98
        }
      ]
    },
    {
      "cell_type": "markdown",
      "metadata": {
        "id": "AwYaMglpOshR"
      },
      "source": [
        "**On your own:** Try to add these percentiles to the plot."
      ]
    }
  ]
}