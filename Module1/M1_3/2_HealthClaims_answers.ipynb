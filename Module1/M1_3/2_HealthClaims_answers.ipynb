{
  "nbformat": 4,
  "nbformat_minor": 0,
  "metadata": {
    "colab": {
      "name": "HealthClaims_CC",
      "provenance": [],
      "collapsed_sections": [],
      "include_colab_link": true
    },
    "kernelspec": {
      "name": "python3",
      "display_name": "Python 3"
    }
  },
  "cells": [
    {
      "cell_type": "markdown",
      "metadata": {
        "id": "view-in-github",
        "colab_type": "text"
      },
      "source": [
        "<a href=\"https://colab.research.google.com/github/drdww/OPIM5641/blob/main/Module1/M1_3/HealthClaims_CC.ipynb\" target=\"_parent\"><img src=\"https://colab.research.google.com/assets/colab-badge.svg\" alt=\"Open In Colab\"/></a>"
      ]
    },
    {
      "cell_type": "markdown",
      "metadata": {
        "id": "sLuw4TUhrKvc"
      },
      "source": [
        "# Monte Carlo Simulation: Health Claims\n",
        "**OPIM 5641: Business Decision Modeling - University of Connecticut**\n",
        "\n",
        "Monte Carlo is a useful method for simulation... why be so confident when you can add some uncertainty?!\n",
        "\n",
        "You will see this is valuable for deciding how much to set aside in your budget for your employees' health claims.\n",
        "\n",
        "-------------------------------------------------------"
      ]
    },
    {
      "cell_type": "markdown",
      "metadata": {
        "id": "ox2aM7SAkLRA"
      },
      "source": [
        "**[Health Claims 14.6 - Powell]** A large manufacturing company self-insures\n",
        "its employee health insurance claims. That is, it collects a fixed\n",
        "amount each month from every employee for health care costs\n",
        "and then it pays the entire claim amounts using its own funds to\n",
        "make up the difference. It would like to estimate its total health\n",
        "care payments for the coming year.\n",
        "\n",
        "\n",
        "  The total number of employees at the start of the year is\n",
        "11,124. The firm expects the **number of employees to change\n",
        "each month over the coming year by a percentage that is\n",
        "uniformly distributed between -2 percent and 5 percent**.\n",
        "Employees contribute 125 USD each per month toward their\n",
        "health care costs, while the average claim is 250 USD per month.\n",
        "**The average claim itself is expected to grow by an amount\n",
        "given by a normal distribution with a mean of 1 percent and a\n",
        "standard deviation of 2 percent**.\n",
        "\n",
        "1. What is the expected cost to the company of covering\n",
        "employee health care costs in the coming year?\n",
        "2. What is the maximum cost to the company of covering\n",
        "employee health care costs in the coming year?\n",
        "3. What is the probability that costs will not exceed 20 million USD?"
      ]
    },
    {
      "cell_type": "code",
      "metadata": {
        "id": "JyQzAxViKKa4",
        "colab": {
          "base_uri": "https://localhost:8080/"
        },
        "outputId": "8fba228f-dde1-44e1-d35e-bb4a16e6997f"
      },
      "source": [
        "!pip install ipython-autotime\n",
        "%load_ext autotime\n",
        "import numpy as np\n",
        "import seaborn as sns\n",
        "import matplotlib.pyplot as plt"
      ],
      "execution_count": null,
      "outputs": [
        {
          "output_type": "stream",
          "name": "stdout",
          "text": [
            "Collecting ipython-autotime\n",
            "  Downloading ipython_autotime-0.3.1-py2.py3-none-any.whl (6.8 kB)\n",
            "Requirement already satisfied: ipython in /usr/local/lib/python3.7/dist-packages (from ipython-autotime) (5.5.0)\n",
            "Requirement already satisfied: pickleshare in /usr/local/lib/python3.7/dist-packages (from ipython->ipython-autotime) (0.7.5)\n",
            "Requirement already satisfied: simplegeneric>0.8 in /usr/local/lib/python3.7/dist-packages (from ipython->ipython-autotime) (0.8.1)\n",
            "Requirement already satisfied: decorator in /usr/local/lib/python3.7/dist-packages (from ipython->ipython-autotime) (4.4.2)\n",
            "Requirement already satisfied: traitlets>=4.2 in /usr/local/lib/python3.7/dist-packages (from ipython->ipython-autotime) (5.0.5)\n",
            "Requirement already satisfied: pygments in /usr/local/lib/python3.7/dist-packages (from ipython->ipython-autotime) (2.6.1)\n",
            "Requirement already satisfied: prompt-toolkit<2.0.0,>=1.0.4 in /usr/local/lib/python3.7/dist-packages (from ipython->ipython-autotime) (1.0.18)\n",
            "Requirement already satisfied: setuptools>=18.5 in /usr/local/lib/python3.7/dist-packages (from ipython->ipython-autotime) (57.4.0)\n",
            "Requirement already satisfied: pexpect in /usr/local/lib/python3.7/dist-packages (from ipython->ipython-autotime) (4.8.0)\n",
            "Requirement already satisfied: six>=1.9.0 in /usr/local/lib/python3.7/dist-packages (from prompt-toolkit<2.0.0,>=1.0.4->ipython->ipython-autotime) (1.15.0)\n",
            "Requirement already satisfied: wcwidth in /usr/local/lib/python3.7/dist-packages (from prompt-toolkit<2.0.0,>=1.0.4->ipython->ipython-autotime) (0.2.5)\n",
            "Requirement already satisfied: ipython-genutils in /usr/local/lib/python3.7/dist-packages (from traitlets>=4.2->ipython->ipython-autotime) (0.2.0)\n",
            "Requirement already satisfied: ptyprocess>=0.5 in /usr/local/lib/python3.7/dist-packages (from pexpect->ipython->ipython-autotime) (0.7.0)\n",
            "Installing collected packages: ipython-autotime\n",
            "Successfully installed ipython-autotime-0.3.1\n",
            "time: 302 µs (started: 2021-08-30 19:26:51 +00:00)\n"
          ]
        }
      ]
    },
    {
      "cell_type": "markdown",
      "metadata": {
        "id": "TTZE8dLYkga4"
      },
      "source": [
        "## Example\n",
        "\n",
        "Let's start with a very basic set-up of the problem so we have some reasonable numbers to work with. Why not just choose values from the center of the distributions?  This is an example for one month:"
      ]
    },
    {
      "cell_type": "code",
      "metadata": {
        "id": "SHDgo-NZjHYi",
        "colab": {
          "base_uri": "https://localhost:8080/"
        },
        "outputId": "885220cd-eeaa-4bd3-d9fd-e552c708ee4b"
      },
      "source": [
        "# Fixed parameters\n",
        "Employees = 11124 #employees\n",
        "EmployeeContribution = 125 #USD, per month \n",
        "AverageClaim = 250 #USD, per employee per month\n",
        "MonthlyCost = Employees*(AverageClaim-EmployeeContribution)\n",
        "\n",
        "# Uncertain parameters\n",
        "EmployeeChange = 0.035 #3.5%, per month -> UNCERTAIN\n",
        "ClaimGrowth = 0.01 # 1% claim growth -> UNCERTAIN\n",
        "\n",
        "\n",
        "# simple solution, no claim growth, no probability distributions etc.\n",
        "print(\"Monthly Cost:\",MonthlyCost)"
      ],
      "execution_count": null,
      "outputs": [
        {
          "output_type": "stream",
          "name": "stdout",
          "text": [
            "Monthly Cost: 1390500\n"
          ]
        }
      ]
    },
    {
      "cell_type": "markdown",
      "metadata": {
        "id": "zqcRW6PMmr6_"
      },
      "source": [
        "This is the cost for just ONE month (around 1.3M)...But we need to generalize this for 12 MONTHS and pass info from Month 1 to Month 12... and THEN repeat 10K times so that we can explore the probabilistic output!\n",
        "\n"
      ]
    },
    {
      "cell_type": "markdown",
      "metadata": {
        "id": "GGQECn96pG_z"
      },
      "source": [
        "# A Big For Loop\n",
        "To start, we are ready to build our for loop for just 12 months. The key here is to **use the value from previous iterations in future iterations**.\n",
        "\n",
        "Later on, we will repeat this loop 10K times to generate 10K synthetic observations for probablistic analysis.\n",
        "\n",
        "## Initialize employees\n",
        "\n",
        "The total number of employees at the start of the year is 11,124. The firm expects the number of employees to change each month over the coming year by a percentage that is uniformly distributed between 2 percent and 5 percent."
      ]
    },
    {
      "cell_type": "code",
      "metadata": {
        "id": "OJVcKmfbpWNf"
      },
      "source": [
        "Employees = 11,124  # later on, we will add + np.random.uniform(low=-2,high=5)"
      ],
      "execution_count": null,
      "outputs": []
    },
    {
      "cell_type": "markdown",
      "metadata": {
        "id": "Ptz_KSejgm1r"
      },
      "source": [
        "## Employee Contribution\n",
        "\n",
        "This is assumed to be fixed/deterministic, so this value will not change."
      ]
    },
    {
      "cell_type": "code",
      "metadata": {
        "id": "H_e_Lz2Sgt5h"
      },
      "source": [
        "# employees will always give $125\n",
        "EmployeeContribution = 125 # USD"
      ],
      "execution_count": null,
      "outputs": []
    },
    {
      "cell_type": "markdown",
      "metadata": {
        "id": "Y_fapjfBgwv4"
      },
      "source": [
        "## Average Claim\n",
        "\n",
        "The average claim is $250 per month. The average claim itself is expected to grow by an amount given by a **normal distribution with a mean of 1 percent and a standard deviation of 2 percent**."
      ]
    },
    {
      "cell_type": "code",
      "metadata": {
        "colab": {
          "base_uri": "https://localhost:8080/"
        },
        "id": "ypCqKaLOgyTp",
        "outputId": "7669bc15-ba86-405e-d2f1-f81723f43a2a"
      },
      "source": [
        "AverageClaim = 250  # later on, we will add + AverageClaim*np.random.normal(loc=0.01, scale=0.02) for growth\n",
        "\n",
        "# lastly, let's loop this 12 times\n",
        "np.arange(12) # this is 12 numbers!"
      ],
      "execution_count": null,
      "outputs": [
        {
          "output_type": "execute_result",
          "data": {
            "text/plain": [
              "array([ 0,  1,  2,  3,  4,  5,  6,  7,  8,  9, 10, 11])"
            ]
          },
          "metadata": {},
          "execution_count": 7
        }
      ]
    },
    {
      "cell_type": "markdown",
      "metadata": {
        "id": "EGA7Fte8MZp1"
      },
      "source": [
        "Now let's try to run this for a single year to watch claims for the year. This is a loop with no growth, it just loops 12 times."
      ]
    },
    {
      "cell_type": "code",
      "metadata": {
        "id": "l2xzigjxMYW7",
        "colab": {
          "base_uri": "https://localhost:8080/"
        },
        "outputId": "2e78a470-a64e-4770-b7a4-826b4d3d61bf"
      },
      "source": [
        "# empty list where we are going to add monthly cost for 12 months!\n",
        "resultDF = []\n",
        "\n",
        "# initialize some variables the loop\n",
        "Employees = 11124  # later on, we will add + np.random.uniform(low=-2,high=5)\n",
        "EmployeeContribution = 125 # USD\n",
        "AverageClaim = 250  # later on, we will add + AverageClaim*np.random.normal(loc=0.01, scale=0.02) for growth\n",
        "\n",
        "# for loop\n",
        "for a in np.arange(12):\n",
        "  # print a - for newbie programmers\n",
        "  print('Iteration:',a)\n",
        "  # to start, these are our employees\n",
        "  Employees = Employees #11,124 for the first iteration - will be updated at end of loop!\n",
        "  # this is starting claim cost\n",
        "  AverageClaim = AverageClaim # 250 for the first iteration - will be updated at end of loop!\n",
        "  # this is the monthly cost - static!\n",
        "  MonthlyCost = Employees*(AverageClaim-EmployeeContribution)\n",
        "  print(MonthlyCost)\n",
        "  # let's add this to the result\n",
        "  # see how this keeps appending?\n",
        "  resultDF = np.append(resultDF, MonthlyCost)\n",
        "  # print!\n",
        "  print(resultDF)"
      ],
      "execution_count": null,
      "outputs": [
        {
          "output_type": "stream",
          "name": "stdout",
          "text": [
            "Iteration: 0\n",
            "1390500\n",
            "[1390500.]\n",
            "Iteration: 1\n",
            "1390500\n",
            "[1390500. 1390500.]\n",
            "Iteration: 2\n",
            "1390500\n",
            "[1390500. 1390500. 1390500.]\n",
            "Iteration: 3\n",
            "1390500\n",
            "[1390500. 1390500. 1390500. 1390500.]\n",
            "Iteration: 4\n",
            "1390500\n",
            "[1390500. 1390500. 1390500. 1390500. 1390500.]\n",
            "Iteration: 5\n",
            "1390500\n",
            "[1390500. 1390500. 1390500. 1390500. 1390500. 1390500.]\n",
            "Iteration: 6\n",
            "1390500\n",
            "[1390500. 1390500. 1390500. 1390500. 1390500. 1390500. 1390500.]\n",
            "Iteration: 7\n",
            "1390500\n",
            "[1390500. 1390500. 1390500. 1390500. 1390500. 1390500. 1390500. 1390500.]\n",
            "Iteration: 8\n",
            "1390500\n",
            "[1390500. 1390500. 1390500. 1390500. 1390500. 1390500. 1390500. 1390500.\n",
            " 1390500.]\n",
            "Iteration: 9\n",
            "1390500\n",
            "[1390500. 1390500. 1390500. 1390500. 1390500. 1390500. 1390500. 1390500.\n",
            " 1390500. 1390500.]\n",
            "Iteration: 10\n",
            "1390500\n",
            "[1390500. 1390500. 1390500. 1390500. 1390500. 1390500. 1390500. 1390500.\n",
            " 1390500. 1390500. 1390500.]\n",
            "Iteration: 11\n",
            "1390500\n",
            "[1390500. 1390500. 1390500. 1390500. 1390500. 1390500. 1390500. 1390500.\n",
            " 1390500. 1390500. 1390500. 1390500.]\n"
          ]
        }
      ]
    },
    {
      "cell_type": "markdown",
      "metadata": {
        "id": "It--_ESWOH5l"
      },
      "source": [
        "This was constantly 1,390,500 (12 times)... and it should be. Now let's update the projects for employees and average claim cost to show how this grows.\n",
        "\n",
        "This is the same code as above, with a little more for the update. In practice, you'll only need this code. I did it long-form to help show you."
      ]
    },
    {
      "cell_type": "code",
      "metadata": {
        "id": "Wz9MlPWBOSpT",
        "colab": {
          "base_uri": "https://localhost:8080/",
          "height": 919
        },
        "outputId": "2f9d7e89-fd4b-4fc0-fe28-63e679cfa987"
      },
      "source": [
        "# empty list where we are going to add monthly cost for 12 months!\n",
        "resultDF = np.array([])\n",
        "\n",
        "# initialize the loop\n",
        "Employees = 11124  # later on, we will add + np.random.uniform(low=-2,high=5)\n",
        "EmployeeContribution = 125 # USD\n",
        "AverageClaim = 250  # later on, we will add + AverageClaim*np.random.normal(loc=0.01, scale=0.02) for growth\n",
        "\n",
        "# for loop\n",
        "for a in np.arange(12):\n",
        "  # print a - for newbie programmers\n",
        "  print('Iteration:',a)\n",
        "  # to start, these are our employees\n",
        "  Employees = Employees #11,124 for the first iteration - will be updated at end of loop!\n",
        "  # this is starting claim cost\n",
        "  AverageClaim = AverageClaim # 250 for the first iteration - will be updated at end of loop!\n",
        "  # this is the monthly cost - static!\n",
        "  MonthlyCost = Employees*(AverageClaim-EmployeeContribution)\n",
        "  print('MonthlyCost:', MonthlyCost)\n",
        "  # let's add this to the result\n",
        "  # see how this keeps appending?\n",
        "  resultDF = np.append(resultDF, MonthlyCost)\n",
        "  # print! only uncomment to check your work\n",
        "  # print(resultDF)\n",
        "\n",
        "  # after the first iteration, now we update Employees and AverageClaim (cost)...\n",
        "  # these will be sucked up into the top of the loop! \n",
        "\n",
        "  # employees - which has a uniform distribution\n",
        "  # previous value + change\n",
        "  Employees = Employees + Employees*np.random.uniform(low=-0.02,high=0.05)\n",
        "  print('nextMonthEmployees:', Employees) # just to check!\n",
        "  # average claim cost - which grows as a normal distribution\n",
        "  # previous value + change\n",
        "  AverageClaim = AverageClaim + AverageClaim*np.random.normal(loc=0.01, scale=0.02)\n",
        "  print('nextMonthAverageClaim:', AverageClaim) # just to check!\n",
        "\n",
        "# this statement is OUTSIDE the loop\n",
        "print('resultDF:', resultDF)\n",
        "print('sum(resultDF):', np.sum(resultDF))"
      ],
      "execution_count": null,
      "outputs": [
        {
          "output_type": "stream",
          "text": [
            "Iteration: 0\n",
            "MonthlyCost: 1390500\n",
            "nextMonthEmployees: 11423.53887949781\n",
            "nextMonthAverageClaim: 249.37696889075806\n",
            "Iteration: 1\n",
            "MonthlyCost: 1420825.1398376643\n",
            "nextMonthEmployees: 11451.915285097959\n",
            "nextMonthAverageClaim: 248.2545252344695\n",
            "Iteration: 2\n",
            "MonthlyCost: 1411500.3814901134\n",
            "nextMonthEmployees: 11493.290949938462\n",
            "nextMonthAverageClaim: 249.02803825933475\n",
            "Iteration: 3\n",
            "MonthlyCost: 1425490.3296646334\n",
            "nextMonthEmployees: 11467.870696923595\n",
            "nextMonthAverageClaim: 253.8049309026421\n",
            "Iteration: 4\n",
            "MonthlyCost: 1477118.2927176778\n",
            "nextMonthEmployees: 11399.395393308427\n",
            "nextMonthAverageClaim: 262.5462011446197\n",
            "Iteration: 5\n",
            "MonthlyCost: 1567943.5316950523\n",
            "nextMonthEmployees: 11390.038815454418\n",
            "nextMonthAverageClaim: 265.301884748011\n",
            "Iteration: 6\n",
            "MonthlyCost: 1598043.9131612573\n",
            "nextMonthEmployees: 11367.7092042\n",
            "nextMonthAverageClaim: 269.0491465527249\n",
            "Iteration: 7\n",
            "MonthlyCost: 1637508.8091245655\n",
            "nextMonthEmployees: 11267.83606653849\n",
            "nextMonthAverageClaim: 260.7521972618507\n",
            "Iteration: 8\n",
            "MonthlyCost: 1529633.504418929\n",
            "nextMonthEmployees: 11485.796442092538\n",
            "nextMonthAverageClaim: 260.75874488102875\n",
            "Iteration: 9\n",
            "MonthlyCost: 1559297.3089374686\n",
            "nextMonthEmployees: 11361.895487824107\n",
            "nextMonthAverageClaim: 267.4027590887366\n",
            "Iteration: 10\n",
            "MonthlyCost: 1617965.26594402\n",
            "nextMonthEmployees: 11514.044998034573\n",
            "nextMonthAverageClaim: 272.1057916323961\n",
            "Iteration: 11\n",
            "MonthlyCost: 1693782.7043269067\n",
            "nextMonthEmployees: 11844.448188155717\n",
            "nextMonthAverageClaim: 273.9584899165702\n",
            "resultDF: [1390500.         1420825.13983766 1411500.38149011 1425490.32966463\n",
            " 1477118.29271768 1567943.53169505 1598043.91316126 1637508.80912457\n",
            " 1529633.50441893 1559297.30893747 1617965.26594402 1693782.70432691]\n",
            "sum(resultDF): 18329609.181318287\n"
          ],
          "name": "stdout"
        }
      ]
    },
    {
      "cell_type": "markdown",
      "metadata": {
        "id": "TeWdLNlXQV2J"
      },
      "source": [
        "Analyze the output above... see how things change? Go ahead and run it three times. Sometimes it's 16M, 17M... more, less?! "
      ]
    },
    {
      "cell_type": "markdown",
      "metadata": {
        "id": "slDKQFTUqIsS"
      },
      "source": [
        "# Monte Carlo Simulation\n",
        "\n",
        "Now the fun part - go grab all that code and stick it all in *another* for loop - we will repeat 1K times then evaluate the output. 10K takes too long (as you will see).\n",
        "\n",
        "To do this, highlight the code above, initialize ANOTHER for loop, then paste it in (and tab it over if you need to).\n",
        "\n",
        "`b` is for the outer loop, `a` is for the inner loop.\n",
        "\n",
        "We commented out some stuff so it's not obnoxiously printing stuff, and it will take a little time to run - 120K iterations are about to happen!\n",
        "\n",
        "$10000*12 = 120000$ `iterations`\n"
      ]
    },
    {
      "cell_type": "code",
      "metadata": {
        "id": "zWl5N0ZbqM_e",
        "colab": {
          "base_uri": "https://localhost:8080/"
        },
        "outputId": "0aec4dbd-4d70-4a28-ae38-5739687300a1"
      },
      "source": [
        "# results\n",
        "resultDF_10K = [] # this is where we will store the 10k results\n",
        "\n",
        "for b in np.arange(1000):\n",
        "  # print b\n",
        "  # print(b) # you can uncomment if you want...\n",
        "  # empty list where we are going to add monthly cost for 12 months!\n",
        "  resultDF = []\n",
        "\n",
        "  # initialize the loop\n",
        "  Employees = 11124  # later on, we will add + np.random.uniform(low=-2,high=5)\n",
        "  EmployeeContribution = 125 # USD\n",
        "  AverageClaim = 250  # later on, we will add + np.random.normal(loc=1, scale=2) for growth\n",
        "\n",
        "  # for loop\n",
        "  for a in np.arange(12):\n",
        "    # print a - for newbie programmers\n",
        "    # print('Iteration:',a)\n",
        "    # to start, these are our employees\n",
        "    Employees = Employees #11,124 for the first iteration - will be updated at end of loop!\n",
        "    # this is starting claim cost\n",
        "    AverageClaim = AverageClaim # 250 for the first iteration - will be updated at end of loop!\n",
        "    # this is the monthly cost - static!\n",
        "    MonthlyCost = Employees*(AverageClaim-EmployeeContribution)\n",
        "    # print('MonthlyCost:', MonthlyCost)\n",
        "    # let's add this to the result\n",
        "    # see how this keeps appending?\n",
        "    resultDF = np.append(resultDF, MonthlyCost)\n",
        "    # print! only uncomment to check your work\n",
        "    # print(resultDF)\n",
        "\n",
        "    # after the first iteration, now we update Employees and AverageClaim (cost)...\n",
        "    # these will be sucked up into the top of the loop! \n",
        "\n",
        "    # employees - which has a uniform distribution\n",
        "    # previous value + change\n",
        "    Employees = Employees + Employees*np.random.uniform(low=-0.02,high=0.05)\n",
        "    # print('nextMonthEmployees:', Employees) # just to check!\n",
        "    # average claim cost - which grows as a normal distribution\n",
        "    # previous value + change\n",
        "    AverageClaim = AverageClaim + AverageClaim*np.random.normal(loc=0.01, scale=0.02)\n",
        "    # print('nextMonthAverageClaim:', AverageClaim) # just to check!\n",
        "\n",
        "  # note how this is in the 10k loop\n",
        "  resultDF = np.sum(resultDF) # I am overwriting resultDF, it's OK!\n",
        "  # print('resultDF:', resultDF)\n",
        "  # store it!\n",
        "  resultDF_10K = np.append(resultDF_10K, resultDF)\n"
      ],
      "execution_count": null,
      "outputs": [
        {
          "output_type": "stream",
          "name": "stdout",
          "text": [
            "time: 200 ms (started: 2021-08-30 19:31:23 +00:00)\n"
          ]
        }
      ]
    },
    {
      "cell_type": "code",
      "metadata": {
        "id": "wb-RKUYIqhC3",
        "colab": {
          "base_uri": "https://localhost:8080/"
        },
        "outputId": "f0e2adff-293f-4679-8a7d-39aa22e314f3"
      },
      "source": [
        "# check what you did - lots of values...\n",
        "print(resultDF_10K.shape) # 10K entries just like we asked\n",
        "resultDF_10K"
      ],
      "execution_count": null,
      "outputs": [
        {
          "output_type": "stream",
          "name": "stdout",
          "text": [
            "(1000,)\n"
          ]
        },
        {
          "output_type": "execute_result",
          "data": {
            "text/plain": [
              "array([20968434.6152463 , 24297792.03495956, 19596224.71211001,\n",
              "       19839315.74096073, 20146102.3355868 , 19933268.90467992,\n",
              "       17971628.9617516 , 24863938.7845659 , 22123636.70650288,\n",
              "       21662432.35318154, 22912760.42808344, 20394303.83668078,\n",
              "       25993398.15018266, 17404318.55050055, 17323897.21553385,\n",
              "       21244597.03063995, 21053950.03383396, 21344373.76649776,\n",
              "       18174184.0188436 , 18195626.84424721, 18154799.50038651,\n",
              "       18681207.42881988, 23236123.96092765, 19892036.10850913,\n",
              "       18985403.54618983, 20983509.45561589, 20463391.83485002,\n",
              "       20067084.10950802, 19677793.81776451, 21760174.86189919,\n",
              "       20345087.4154565 , 20027097.32336322, 21133121.77454755,\n",
              "       20817682.57453124, 18598586.67060385, 18050136.31022087,\n",
              "       21413026.2812581 , 20023834.6178533 , 18683827.2753453 ,\n",
              "       19969909.08394317, 18823765.30001934, 19167606.90605939,\n",
              "       20622446.70456177, 20371045.01125349, 19847247.2636498 ,\n",
              "       20773906.27474233, 20861858.05116421, 21998241.50980807,\n",
              "       18988096.13061149, 20563557.26213735, 22004395.18846307,\n",
              "       18597093.450216  , 19063857.05866117, 19402612.92357292,\n",
              "       21042235.40524013, 19621730.81398081, 20035448.0708139 ,\n",
              "       21882613.60173398, 23116794.45620334, 20256073.89108482,\n",
              "       20389861.3534982 , 19593957.89725417, 21111850.67404684,\n",
              "       18487460.42385898, 19410032.58508106, 21393050.20735975,\n",
              "       18807057.04632101, 20709852.79097795, 21775424.98639357,\n",
              "       21109368.03948711, 20957135.08328339, 19589677.67095795,\n",
              "       22492521.35595727, 18983997.28445385, 19757287.30595974,\n",
              "       18727713.70681173, 19984596.48638308, 21252603.93687559,\n",
              "       17007451.91211321, 21175973.07544342, 17888786.46801382,\n",
              "       21415895.77823422, 21644079.71359175, 18779052.22147875,\n",
              "       20729072.2855401 , 20099882.19133399, 19319355.33760286,\n",
              "       21449017.86897625, 19533918.09071567, 18617086.40332774,\n",
              "       21500771.24277741, 20456664.56578606, 19745732.16284864,\n",
              "       19536355.99094914, 19821229.49882941, 21916253.84994398,\n",
              "       18336011.54785367, 21803763.93691128, 21085781.46647124,\n",
              "       24472701.71686769, 20677068.27427714, 18261782.29964824,\n",
              "       19746108.83464786, 20340650.91617821, 21932837.20412325,\n",
              "       20634166.84122686, 19530750.48989186, 18432776.46610641,\n",
              "       22243279.39003301, 20567588.84183495, 19732108.34164472,\n",
              "       19859789.57444727, 16350450.70906423, 18727980.97502116,\n",
              "       22115768.12573447, 22540564.57757943, 20873875.71141519,\n",
              "       18794544.33107518, 22522264.81258247, 19401465.26172893,\n",
              "       19728401.36256957, 20219452.7913423 , 19093041.9298221 ,\n",
              "       22425636.24195229, 19027996.16553295, 18521889.807212  ,\n",
              "       20938981.5833641 , 18061939.97280964, 22359015.28660994,\n",
              "       22865573.34296666, 22403528.83984914, 19040114.66557327,\n",
              "       21545364.77863747, 20101695.30360681, 19667666.02023262,\n",
              "       21815635.06468221, 19597111.16614233, 18665297.81801539,\n",
              "       21714327.58886394, 19839958.09287895, 19857615.79919244,\n",
              "       21168786.65470272, 20692462.84904529, 22600910.37488929,\n",
              "       22938539.44410755, 19513737.9495729 , 18534241.20340713,\n",
              "       20127771.47071033, 20799304.65734089, 17906529.36020568,\n",
              "       17590884.85212323, 21759320.83764447, 20782579.93481421,\n",
              "       20071580.72593749, 22117403.43747198, 23064280.17291924,\n",
              "       21412122.3964501 , 20852635.23693893, 21312919.62807215,\n",
              "       20641091.89670124, 18997531.33025066, 17607323.21356771,\n",
              "       20863894.1177533 , 20095504.55178559, 19974847.37410364,\n",
              "       21255102.94051548, 20140344.79112091, 22809995.09504047,\n",
              "       21768342.63047478, 21442823.12019755, 19105635.48584925,\n",
              "       18974056.2885365 , 18379919.51867146, 17543729.40665327,\n",
              "       20674704.83599069, 22737212.12181387, 20403302.80956497,\n",
              "       19464298.43676215, 20639319.38674422, 16230020.84972008,\n",
              "       21314291.63905707, 21912153.95828209, 19712819.55584005,\n",
              "       20315795.73646351, 19686059.61694168, 20639654.47317   ,\n",
              "       18585157.57697842, 21497400.60350557, 21029361.40847494,\n",
              "       20188041.25389256, 21219158.28275356, 20349510.66160494,\n",
              "       23553264.94808447, 17671361.15598453, 17044186.34258391,\n",
              "       20415537.4124032 , 22214461.41805007, 20244266.7830228 ,\n",
              "       20386423.54059559, 18033162.19191639, 18589551.34400583,\n",
              "       19885079.97337816, 19661556.13346898, 20131997.12148356,\n",
              "       21384830.66778623, 21226285.71409893, 20622504.71293474,\n",
              "       21995405.75493808, 22874926.26707125, 18692646.12400264,\n",
              "       20686757.5084168 , 19650545.04346977, 21304997.33570627,\n",
              "       18039811.09409106, 23246299.57931703, 19597852.70159991,\n",
              "       21983504.93912913, 18840679.16179522, 18852804.80346324,\n",
              "       19629548.09914566, 21480756.16945093, 23473577.38733199,\n",
              "       20033398.88374899, 19264679.88919268, 24156303.18396836,\n",
              "       19804328.37404895, 21617100.84626908, 24614204.48085166,\n",
              "       22785158.42791225, 20843536.26269531, 20634668.75036876,\n",
              "       17676997.94812527, 22230538.02445276, 23522728.36021161,\n",
              "       17839600.77829817, 20125490.30139194, 22103250.33391787,\n",
              "       20807006.03194232, 20185837.50626935, 17524243.45533204,\n",
              "       20879526.19683573, 20448250.76540224, 21813715.34282329,\n",
              "       19490124.91561588, 17296708.16534854, 16646800.3098452 ,\n",
              "       20650529.79069013, 19486839.98890753, 18957425.59809775,\n",
              "       19180914.35562265, 18726511.4622683 , 17394415.45712491,\n",
              "       22530820.02883754, 19507954.51306744, 21396726.78085655,\n",
              "       20624224.92955043, 20912822.43413782, 19800536.52234656,\n",
              "       21332112.62839118, 21412846.83346032, 19243715.99774674,\n",
              "       19479019.71337754, 21547797.05884473, 21228424.78490779,\n",
              "       18977971.99202934, 19261928.37557701, 21449293.10679793,\n",
              "       18899412.252733  , 21757845.40583527, 22345813.79616986,\n",
              "       20962267.59855979, 20439635.54175725, 20395516.39321024,\n",
              "       20740352.75815964, 21082793.53072266, 16490973.56808705,\n",
              "       18747164.3618424 , 22427608.13286055, 20203419.28764409,\n",
              "       20876495.20643161, 16993952.93275695, 17875833.73668833,\n",
              "       20292634.87676841, 19651477.70052799, 20525497.06363688,\n",
              "       20646578.3171089 , 20818865.7860879 , 21336337.4951212 ,\n",
              "       20710196.04440364, 17722957.38800021, 17330057.33677791,\n",
              "       18544293.17039796, 21299580.34870007, 20671753.16761609,\n",
              "       22341502.86379064, 19817968.17514113, 23087119.80074462,\n",
              "       17461599.21114545, 18188214.18626791, 18050307.27709421,\n",
              "       23958286.43242165, 20145135.6983896 , 23575393.45386854,\n",
              "       21042764.56056549, 20299982.36655024, 20768251.95755281,\n",
              "       19668202.41827799, 19631029.0563247 , 17430711.26686412,\n",
              "       18218989.89681839, 20389128.95963207, 20157126.36399818,\n",
              "       18350912.13548734, 19080377.60684282, 17512032.40460706,\n",
              "       20347244.80354163, 20583538.7267561 , 18425982.58483803,\n",
              "       21351029.56017744, 22354568.68583644, 20889076.6281972 ,\n",
              "       22459688.77913903, 19017285.88815269, 21774418.62554672,\n",
              "       19764403.82823044, 21498554.54233153, 21725010.98504471,\n",
              "       22399424.74294515, 20531077.57032446, 21841755.82958545,\n",
              "       18937728.71140845, 21494973.81643222, 21723746.52245867,\n",
              "       19708400.57868075, 18042245.64477542, 20457983.68789474,\n",
              "       16796821.67136265, 20987351.28262181, 18730090.87460299,\n",
              "       19452488.52734886, 18514050.52401273, 19692280.37891212,\n",
              "       19827231.95867146, 21383532.64297548, 19304624.06746974,\n",
              "       18044529.2289784 , 21034970.34840688, 23193039.110339  ,\n",
              "       20951940.62029611, 19594401.83780211, 21863042.65955104,\n",
              "       18442577.2445267 , 20989396.42892716, 19453004.5427506 ,\n",
              "       23035128.40256273, 21366449.91222958, 20042383.61183139,\n",
              "       19523222.79189407, 17757005.00934145, 20197190.64666743,\n",
              "       18832769.54956006, 19593915.20796929, 20248292.30936607,\n",
              "       20078034.01674257, 24466267.20827704, 21340047.26486697,\n",
              "       20032651.77112927, 21755173.97275291, 17749464.85711273,\n",
              "       20338641.92426731, 20921137.65272393, 22726433.833942  ,\n",
              "       19670328.32261782, 23559989.95613137, 22708233.43781256,\n",
              "       18927431.46414327, 25035977.29708647, 18519483.11771241,\n",
              "       19854678.62380172, 17860332.94209464, 22379725.29781311,\n",
              "       18759776.07060615, 21662900.33085842, 19629402.77828173,\n",
              "       17919845.90117289, 16972979.54201702, 19901221.59331998,\n",
              "       21875148.64009179, 17528986.69158579, 19645370.46856873,\n",
              "       18207609.476396  , 20075215.39990744, 20411762.22111669,\n",
              "       21475785.90427869, 20339276.27206649, 19706731.61677368,\n",
              "       17899023.86743125, 20145929.00599199, 23553367.94412726,\n",
              "       17603326.10806738, 23124650.37387678, 21175800.20421458,\n",
              "       18837935.20462179, 20117744.60300806, 18478926.33419169,\n",
              "       18313362.09235385, 20449858.31125423, 19686918.95317284,\n",
              "       20588848.03537284, 21654524.97487451, 20479524.60974669,\n",
              "       19180091.79118056, 20090216.7019863 , 20662221.93454009,\n",
              "       22227823.45951287, 19558346.06219992, 17514889.80297115,\n",
              "       17588726.10427199, 20160890.49825828, 21108543.52252414,\n",
              "       21597924.4601657 , 18434218.21122924, 19291079.80619703,\n",
              "       21738150.22084808, 22876455.56179613, 20154757.60483808,\n",
              "       20239303.25300865, 20661628.79228422, 20449603.47849048,\n",
              "       20002569.86939892, 18464577.35082348, 19758345.59696595,\n",
              "       18853627.94635941, 19266879.37575587, 21272040.69968126,\n",
              "       19519051.09191959, 17929864.2899617 , 20230885.51482938,\n",
              "       19934075.24120203, 22993887.81298349, 20088880.35131023,\n",
              "       21002410.67170714, 21743498.91694488, 21315371.7672443 ,\n",
              "       20340863.835129  , 19703201.8596088 , 19335958.92030846,\n",
              "       20523064.38142726, 16474024.00905667, 20400027.01963649,\n",
              "       21894162.82065686, 21013049.90770936, 17918434.30696755,\n",
              "       22513446.33630256, 23111275.74275836, 19889958.531651  ,\n",
              "       18894658.82866788, 20577874.87809642, 23040644.6217561 ,\n",
              "       18430511.54499948, 19381035.30014   , 19985823.79060285,\n",
              "       23510078.68055488, 20624441.85556906, 22165234.54640932,\n",
              "       20208056.74229972, 20823071.9952048 , 20239422.76342876,\n",
              "       20174161.10107294, 19779369.33119413, 19062010.9582197 ,\n",
              "       20452518.67226456, 20538943.23623338, 21451675.15326047,\n",
              "       20689139.21412047, 18323866.14175393, 22414968.32281166,\n",
              "       19846097.95394401, 20235368.91771985, 21965403.75430664,\n",
              "       19274639.58390112, 18899533.17542545, 21782403.63323177,\n",
              "       21842994.8763434 , 21441227.64084075, 20302372.26585592,\n",
              "       19580136.81020992, 20861499.80378576, 21310329.7653468 ,\n",
              "       20801441.77440638, 21428574.16622588, 19373241.42518428,\n",
              "       23412920.17663353, 17594916.01378121, 17957282.8970412 ,\n",
              "       19366212.73643043, 21238466.5709975 , 20131015.60892369,\n",
              "       19944814.38423218, 19878318.00334545, 19683310.84069965,\n",
              "       20573440.89250924, 21698156.12244239, 19822708.43492841,\n",
              "       21196398.00310485, 20723018.57286038, 20220768.36904789,\n",
              "       19903093.26665781, 21155284.02623871, 18618926.37036797,\n",
              "       20357071.7262269 , 21534097.36565654, 19611696.09900249,\n",
              "       17735701.20865372, 22336320.48437046, 20961205.50349133,\n",
              "       20069912.64921862, 22020508.99655627, 21469936.0332742 ,\n",
              "       20955100.60178544, 21169632.76000402, 22374631.08427861,\n",
              "       24996987.67833307, 22396647.9648129 , 20667156.80717564,\n",
              "       17970954.51099415, 20842884.52261167, 18688944.51431655,\n",
              "       20328588.33940656, 19221224.90537263, 22015013.10346287,\n",
              "       20375412.32380113, 19415848.40655788, 15939711.51898023,\n",
              "       20093643.44164887, 19151031.54960567, 19713018.94377812,\n",
              "       19459424.15709639, 17464906.32626528, 18533653.93427886,\n",
              "       20477054.85674035, 17505435.31452439, 23380200.82283818,\n",
              "       22838869.69953801, 19503859.39052726, 18549062.98323969,\n",
              "       24833765.98543898, 22045677.26447157, 20086464.88068613,\n",
              "       19753445.22764871, 19786017.88262247, 21413481.58065475,\n",
              "       17484983.08258269, 17739438.14699277, 23404967.089636  ,\n",
              "       20593212.59660448, 22499724.02360901, 19784758.27713735,\n",
              "       21701878.63036319, 20792855.19691622, 17700575.94862737,\n",
              "       20995639.95824204, 17881595.45131274, 18591813.85250554,\n",
              "       21928311.34740213, 19139294.40221501, 22561296.77663452,\n",
              "       21524981.09341308, 20576298.26443718, 19776607.87386994,\n",
              "       20337019.45561981, 18794849.24399234, 20221513.05168011,\n",
              "       22905527.88999421, 17404503.50846338, 20922547.46278508,\n",
              "       22221730.16525799, 21588337.51109333, 18734342.71179761,\n",
              "       19922276.47715491, 21746553.61055398, 21287165.14779968,\n",
              "       20235234.27022693, 20450943.19580536, 17336665.33194888,\n",
              "       19799215.70469192, 20986585.90051477, 19615208.2956401 ,\n",
              "       18815127.31222806, 22839700.52985794, 20541484.91075501,\n",
              "       18959704.7092682 , 23021052.81043488, 20575628.12098018,\n",
              "       20675059.40690107, 24534396.23885385, 20792191.16439124,\n",
              "       17483692.62679264, 18957988.89847487, 21284303.70645092,\n",
              "       19912779.00272621, 19622292.04541279, 20097363.08444564,\n",
              "       19001118.9725343 , 21511306.92710579, 19048882.25726709,\n",
              "       19508420.62827314, 22134504.5625532 , 22328112.18063196,\n",
              "       21007774.96746647, 20260225.11784623, 19418415.20630119,\n",
              "       18600722.24319057, 21853226.35351618, 23675182.47301409,\n",
              "       20345186.14590104, 19264310.74119221, 18593171.37865718,\n",
              "       22178019.74486765, 17554607.31756737, 20043133.45365527,\n",
              "       16142788.24229567, 20946854.68180003, 17450717.37879094,\n",
              "       20589558.49610964, 20616480.43325988, 22334505.92566941,\n",
              "       20286278.23872384, 22787501.24566953, 20615654.12478663,\n",
              "       20306725.43963693, 19503699.96958262, 20250270.13138432,\n",
              "       21421543.85163146, 20598932.43612266, 21114769.48171687,\n",
              "       25147517.7612723 , 18710607.81879613, 17765267.97862107,\n",
              "       20443046.01926554, 20644217.15605729, 17009418.2726015 ,\n",
              "       18929828.49512294, 19481486.4476101 , 20326650.06071936,\n",
              "       22605487.52872989, 20413163.28828171, 19431072.07966308,\n",
              "       19591668.23222521, 19364712.25862874, 21195247.17153006,\n",
              "       19238883.40936473, 19620626.4112904 , 19732055.43665787,\n",
              "       21085802.53724894, 20794827.52777681, 18456704.90625343,\n",
              "       20912881.40709108, 23145768.77394546, 20242583.81668771,\n",
              "       19619520.56179222, 20594688.91874154, 23965178.814847  ,\n",
              "       19651032.94429822, 20179566.82354185, 20629492.76297971,\n",
              "       19643304.46774399, 19323486.7948298 , 20762241.43860447,\n",
              "       20269723.31256683, 22085812.92299245, 21532603.90876385,\n",
              "       19328633.15246087, 19761126.0598766 , 18861761.10733717,\n",
              "       21049241.13929752, 19743352.808343  , 17503405.18379661,\n",
              "       19023723.60274003, 18216436.4276412 , 18130301.9836637 ,\n",
              "       19111602.87600539, 22462297.93204015, 21039724.88775445,\n",
              "       20009584.22229368, 19613489.49659112, 20541246.75822307,\n",
              "       19222620.92440823, 20562619.00163251, 16766251.47318733,\n",
              "       18997188.7292357 , 22784831.94013964, 18792111.79155286,\n",
              "       23770847.69913178, 23412355.30503485, 21524888.83324079,\n",
              "       18673469.94785283, 19954084.16576274, 19872124.99758091,\n",
              "       20314855.66481947, 18872080.42830156, 20774086.06972806,\n",
              "       19956085.63279623, 23198440.63241729, 23564471.25345893,\n",
              "       20315642.86651222, 18405231.05936265, 19212277.43184397,\n",
              "       20116646.62376376, 19894159.04164268, 20786937.8577457 ,\n",
              "       17748701.49525834, 19162212.99927963, 18157519.4482667 ,\n",
              "       21573335.21106876, 21698093.89949806, 21801595.93270285,\n",
              "       20413023.38258196, 20953441.00801034, 21677187.63133917,\n",
              "       20299142.56721422, 21065629.24356451, 20197444.22685715,\n",
              "       18272964.57110303, 21104832.2253612 , 20770034.48217348,\n",
              "       20334396.18416831, 17812494.25941576, 22372096.4470207 ,\n",
              "       22892517.26500645, 23780824.66461176, 19684408.64622177,\n",
              "       22594068.23157582, 19425423.71825177, 17320628.64910985,\n",
              "       17950598.26198556, 22711952.86801305, 17379485.44543553,\n",
              "       17861386.74778238, 19509842.32439053, 21159896.04229297,\n",
              "       19366843.95272604, 21057598.25019167, 20823136.64643496,\n",
              "       20720358.44819137, 22141061.80257796, 22443303.88909398,\n",
              "       20507854.71206595, 15511923.32066445, 22340538.17874056,\n",
              "       22480286.40305574, 22505525.30219474, 20598005.05642154,\n",
              "       19792537.0412263 , 19296020.73005905, 20392488.08157431,\n",
              "       20379284.31340976, 19914260.06135971, 24186232.94352536,\n",
              "       20510407.11952899, 18547529.0485259 , 19729647.99721476,\n",
              "       20555083.58682873, 23422168.01363184, 22989374.64057132,\n",
              "       21231725.94060701, 20995487.61556295, 21504367.20806796,\n",
              "       26839247.9824705 , 20869760.91195771, 19588325.85042793,\n",
              "       17863518.39177718, 18952468.82188591, 19852468.1806681 ,\n",
              "       17313110.87675841, 18943482.98043911, 20697547.77124748,\n",
              "       20551019.29138058, 18611400.91841273, 20981100.93248725,\n",
              "       19007536.28500444, 18208823.57846778, 21440690.57976853,\n",
              "       22727907.25042685, 21714166.9329245 , 22197781.04769841,\n",
              "       19444212.49455197, 20397571.61886514, 20321107.51689416,\n",
              "       20415110.20121021, 20593921.46915847, 22454546.03612446,\n",
              "       21527407.37203035, 19099843.593588  , 19929142.0039617 ,\n",
              "       19781785.90216941, 20971413.45690789, 20684587.2784674 ,\n",
              "       19822539.5005482 , 17983975.24618892, 18136206.38056575,\n",
              "       18367323.74757981, 23119372.64002177, 22227866.89685351,\n",
              "       20107216.66750233, 19328785.46532424, 19577883.97624782,\n",
              "       20118853.27600963, 19577287.55216607, 17863575.46829716,\n",
              "       23976886.78343503, 22806543.02904996, 18929538.56424892,\n",
              "       19798095.51150011, 21903282.79081396, 20799256.58946377,\n",
              "       18804069.18732002, 18278954.48018313, 21853361.42841416,\n",
              "       19429657.48243209, 21794091.26307938, 18678039.61643271,\n",
              "       17149447.07462141, 20235422.52196778, 21348941.66102225,\n",
              "       19235620.50615513, 20592262.74208798, 18122867.68665605,\n",
              "       17645024.2221204 , 20458835.98730056, 17990254.13163587,\n",
              "       18747637.66786086, 21198867.5849389 , 19904263.32159363,\n",
              "       19351069.9293521 , 19115013.02510245, 21024398.20641726,\n",
              "       20068312.89946197, 21200939.35193737, 21815716.87003719,\n",
              "       18747326.91109316, 18240789.13255979, 18805219.98970013,\n",
              "       22345931.30601551, 19222424.38866416, 21408172.00779855,\n",
              "       18936028.42573017, 17956019.31452688, 20862279.74783948,\n",
              "       20327397.56008071, 17534291.35852497, 17025916.76776377,\n",
              "       22711801.98777238, 20473844.54031566, 19198488.36565496,\n",
              "       19033605.72172981, 21903548.09215367, 20445227.1577535 ,\n",
              "       21295896.9529926 , 22183976.71878655, 20341769.02755188,\n",
              "       22581073.96087728, 19266117.46336475, 20602821.31964314,\n",
              "       21073440.47859592, 20865341.63296722, 17228931.16036068,\n",
              "       23321825.12496503, 21441778.9901652 , 19917573.54245465,\n",
              "       21136572.56368695, 19165225.10286986, 19968643.15869203,\n",
              "       19861990.26490706, 20902119.7555144 , 18108844.18964487,\n",
              "       20550633.25851716, 23302418.49989196, 20238576.15618196,\n",
              "       20039563.50526487, 20608534.84190658, 20359061.45986548,\n",
              "       20345204.10619418, 19384112.48254488, 20666484.06986632,\n",
              "       21409862.88194098, 21540272.63425016, 17110754.02425651,\n",
              "       18809832.04088962, 19294696.35337747, 26481375.57810548,\n",
              "       19666461.67779737, 17993254.61432635, 20602231.45083771,\n",
              "       20770344.51207131, 17672349.18459212, 23133236.33379816,\n",
              "       18057974.30916908, 22074891.00559117, 20105391.82655555,\n",
              "       18366651.67799244, 20964726.86332321, 19517153.86058122,\n",
              "       18258019.47297174, 21307086.06170632, 23729507.55579366,\n",
              "       20364323.33774541, 16181027.91210091, 18194563.47880481,\n",
              "       19253363.57552474, 19618007.60095055, 21471076.61984281,\n",
              "       19136659.4343312 , 20363579.57538929, 21338733.76228002,\n",
              "       18295646.38689075, 25634377.21418561, 21708726.39009329,\n",
              "       18760128.61063087, 17926806.48896695, 24445688.75713792,\n",
              "       18359430.40601945, 21083454.22778061, 22263610.67473216,\n",
              "       20516317.65985273, 21605912.36226559, 23485204.08425016,\n",
              "       18446122.20869268, 21105032.53407736, 19209682.01675172,\n",
              "       24360425.52914629, 19245399.3869569 , 21958776.0216729 ,\n",
              "       18723005.33670281, 20251350.32957025, 19610055.97433932,\n",
              "       18675545.82375329, 20139440.12517047, 21524197.63116731,\n",
              "       21785415.21298242, 20371790.59871446, 21641138.99857354,\n",
              "       18855514.13270836, 19496214.22365847, 19224084.36554189,\n",
              "       22974680.35571129, 20652554.79994411, 21321799.25281115,\n",
              "       18997191.4152463 , 17944924.78838285, 20892253.02540376,\n",
              "       17254047.83167414, 21597820.85542451, 19381461.82808861,\n",
              "       16523398.4978539 , 20492810.2825119 , 18727399.411065  ,\n",
              "       21022289.65982964, 22264330.85031374, 18253520.71786705,\n",
              "       20830366.59450137, 19709777.09842571, 21301579.86572345,\n",
              "       22337656.79616858, 21029793.91405017, 19356779.41284278,\n",
              "       20498070.26228369, 17366269.64532283, 21532620.53310739,\n",
              "       20290319.64095003, 22423842.68523914, 21377719.22086362,\n",
              "       17619657.50386175, 24598575.35717902, 21861835.53038448,\n",
              "       18222219.14019012, 23789779.31966374, 19528474.67887017,\n",
              "       22159498.97238491, 20179625.85582106, 19272172.99182711,\n",
              "       20958087.10517349, 20609377.45182076, 24578170.772422  ,\n",
              "       20379000.9683748 , 20497682.18955067, 19962055.81993818,\n",
              "       18970964.23066446, 20702768.5976316 , 25535807.13948564,\n",
              "       18057799.30525696, 17094033.02912371, 15850465.37017536,\n",
              "       18671317.32860278, 16673047.86733705, 19617829.99443819,\n",
              "       19114067.68599724, 17865405.27548224, 21552590.22430399,\n",
              "       23083346.17172464])"
            ]
          },
          "metadata": {},
          "execution_count": 22
        },
        {
          "output_type": "stream",
          "name": "stdout",
          "text": [
            "time: 25.2 ms (started: 2021-08-30 19:31:26 +00:00)\n"
          ]
        }
      ]
    },
    {
      "cell_type": "markdown",
      "metadata": {
        "id": "kzRPYK3KUBF-"
      },
      "source": [
        "## Answer: Expected Cost"
      ]
    },
    {
      "cell_type": "code",
      "metadata": {
        "id": "ZOoBSN-fq3wm",
        "colab": {
          "base_uri": "https://localhost:8080/"
        },
        "outputId": "0a8e4f41-f5c7-45be-8ebd-1bb039a4492f"
      },
      "source": [
        "# what's the mean of the distribution?\n",
        "np.mean(resultDF_10K)"
      ],
      "execution_count": null,
      "outputs": [
        {
          "output_type": "execute_result",
          "data": {
            "text/plain": [
              "20300764.071896438"
            ]
          },
          "metadata": {},
          "execution_count": 23
        },
        {
          "output_type": "stream",
          "name": "stdout",
          "text": [
            "time: 5.24 ms (started: 2021-08-30 19:31:30 +00:00)\n"
          ]
        }
      ]
    },
    {
      "cell_type": "code",
      "metadata": {
        "id": "A8O9e7tcqzKZ",
        "colab": {
          "base_uri": "https://localhost:8080/",
          "height": 306
        },
        "outputId": "164803e4-eca8-4f81-c23b-c1f34f2f426e"
      },
      "source": [
        "# here is the distribution of values\n",
        "sns.kdeplot(resultDF_10K)\n",
        "plt.show() # gets rid of unneeded text"
      ],
      "execution_count": null,
      "outputs": [
        {
          "output_type": "display_data",
          "data": {
            "image/png": "[encoded data removed]",
            "text/plain": [
              "<Figure size 432x288 with 1 Axes>"
            ]
          },
          "metadata": {
            "needs_background": "light"
          }
        },
        {
          "output_type": "stream",
          "name": "stdout",
          "text": [
            "time: 201 ms (started: 2021-08-30 19:31:33 +00:00)\n"
          ]
        }
      ]
    },
    {
      "cell_type": "markdown",
      "metadata": {
        "id": "Gg46zMtmraW5"
      },
      "source": [
        "Let's add a nice red line where the mean is."
      ]
    },
    {
      "cell_type": "code",
      "metadata": {
        "id": "n20iGzSNrZhg",
        "colab": {
          "base_uri": "https://localhost:8080/",
          "height": 306
        },
        "outputId": "e7abd9ba-9fb6-4ef2-d668-6455fd0ddcef"
      },
      "source": [
        "# same plot, but with a red line\n",
        "sns.kdeplot(resultDF_10K)\n",
        "plt.axvline(np.mean(resultDF_10K), color='red')\n",
        "plt.show()"
      ],
      "execution_count": null,
      "outputs": [
        {
          "output_type": "display_data",
          "data": {
            "image/png": "[encoded data removed]",
            "text/plain": [
              "<Figure size 432x288 with 1 Axes>"
            ]
          },
          "metadata": {
            "needs_background": "light"
          }
        },
        {
          "output_type": "stream",
          "name": "stdout",
          "text": [
            "time: 262 ms (started: 2021-08-30 19:31:36 +00:00)\n"
          ]
        }
      ]
    },
    {
      "cell_type": "markdown",
      "metadata": {
        "id": "S1lGJup0UQvB"
      },
      "source": [
        "## Answer: Max Cost"
      ]
    },
    {
      "cell_type": "code",
      "metadata": {
        "id": "U-dksEjbq8DL",
        "colab": {
          "base_uri": "https://localhost:8080/"
        },
        "outputId": "d10bd39b-f77a-4f68-bb03-a11c9c7b08e0"
      },
      "source": [
        "# min and max?\n",
        "print(np.min(resultDF_10K)) # sometimes it costs ~14M!\n",
        "print(np.max(resultDF_10K)) # sometimes it costs ~24M!"
      ],
      "execution_count": null,
      "outputs": [
        {
          "output_type": "stream",
          "name": "stdout",
          "text": [
            "15511923.320664449\n",
            "26839247.9824705\n",
            "time: 4.11 ms (started: 2021-08-30 19:31:39 +00:00)\n"
          ]
        }
      ]
    },
    {
      "cell_type": "markdown",
      "metadata": {
        "id": "cR5tY46nr07L"
      },
      "source": [
        "## Answer: P(Cost) <= 20M\n",
        "Probability that results are less than 20M."
      ]
    },
    {
      "cell_type": "code",
      "metadata": {
        "id": "bzR4_oN_sAMb",
        "colab": {
          "base_uri": "https://localhost:8080/"
        },
        "outputId": "aa8ee1cc-8f19-403d-9cce-91bdd3d58f8e"
      },
      "source": [
        "# how many are less than zero?\n",
        "lessThan20M = np.where(resultDF_10K <= 20000000)\n",
        "lessThan20M = np.array(lessThan20M) # make sure it stored as an array!\n",
        "print(lessThan20M.shape)"
      ],
      "execution_count": null,
      "outputs": [
        {
          "output_type": "stream",
          "name": "stdout",
          "text": [
            "(1, 426)\n",
            "time: 7.23 ms (started: 2021-08-30 19:31:42 +00:00)\n"
          ]
        }
      ]
    },
    {
      "cell_type": "code",
      "metadata": {
        "id": "wgjF2YE2s3w6",
        "colab": {
          "base_uri": "https://localhost:8080/"
        },
        "outputId": "884da25b-e327-47dd-e33f-6e4dddbd11d8"
      },
      "source": [
        "# so, it's less than zero divided by total (10K)\n",
        "print(lessThan20M.shape[1]/resultDF_10K.shape[0])"
      ],
      "execution_count": null,
      "outputs": [
        {
          "output_type": "stream",
          "name": "stdout",
          "text": [
            "0.426\n",
            "time: 2.16 ms (started: 2021-08-30 19:31:45 +00:00)\n"
          ]
        }
      ]
    },
    {
      "cell_type": "markdown",
      "metadata": {
        "id": "FzBVtBn_WvZZ"
      },
      "source": [
        "In our example, there's roughly an 45% chance of needing 20M or less to cover your costs...\n",
        "\n",
        "As a decision-maker, it's up to you to prepare for different scenarios - the 90% probability, the 95%, the 99%... up to you to decide which level of risk is best!\n"
      ]
    },
    {
      "cell_type": "markdown",
      "metadata": {
        "id": "_5FiWtHCtdyO"
      },
      "source": [
        "# On Your Own\n",
        "Can you find what the median is? The 30th percentile (30% chance costs will be below this level)? The 90th percentile (90% chance costs will be below this level, 10% chance they will be higher?)"
      ]
    }
  ]
}
