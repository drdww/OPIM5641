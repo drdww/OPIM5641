{
  "nbformat": 4,
  "nbformat_minor": 0,
  "metadata": {
    "colab": {
      "name": "1_Practical_Python Programming Basics.ipynb",
      "provenance": [],
      "collapsed_sections": [],
      "toc_visible": true,
      "include_colab_link": true
    },
    "kernelspec": {
      "name": "python3",
      "display_name": "Python 3"
    }
  },
  "cells": [
    {
      "cell_type": "markdown",
      "metadata": {
        "id": "view-in-github",
        "colab_type": "text"
      },
      "source": [
        "<a href=\"https://colab.research.google.com/github/drdww/OPIM5641/blob/main/1_Practical_Python_Programming_Basics.ipynb\" target=\"_parent\"><img src=\"https://colab.research.google.com/assets/colab-badge.svg\" alt=\"Open In Colab\"/></a>"
      ]
    },
    {
      "cell_type": "markdown",
      "metadata": {
        "id": "biVIM148cYmW"
      },
      "source": [
        "# Practical Python Language Basics\n",
        "**Dr. Dave Wanik - Dept. Operations & Information Management - University of Connecticut**\n",
        "\n",
        "------------------------------------------------\n",
        "\n",
        "Here is a practical introduction to Python - which was developed from various textbook and online resources (see bottom) along with my expertise and previous experience for what is actually useful right out of the gate. Enjoy!\n"
      ]
    },
    {
      "cell_type": "markdown",
      "metadata": {
        "id": "3o040BjtgQR3"
      },
      "source": [
        "# The Zen of Python\n",
        "Read more on the Zen of Python here: https://www.python.org/dev/peps/pep-0020/\n",
        "\n",
        "<center>\n",
        "\n",
        "![picture of python logo](https://www.python.org/static/opengraph-icon-200x200.png)\n",
        "\n",
        "</center>\n",
        "\n",
        "*Pssst... double click this cell to see how to embed an image directly into the notebook - I like to image files online all the time! Makes the notebook look nice.*"
      ]
    },
    {
      "cell_type": "code",
      "metadata": {
        "id": "3N7aY3h0gYgV",
        "colab": {
          "base_uri": "https://localhost:8080/"
        },
        "outputId": "e5b6cda7-580f-428d-ff72-6c4cb3e53c18"
      },
      "source": [
        "# a nice little easter egg ;)\n",
        "import this"
      ],
      "execution_count": null,
      "outputs": [
        {
          "output_type": "stream",
          "text": [
            "The Zen of Python, by Tim Peters\n",
            "\n",
            "Beautiful is better than ugly.\n",
            "Explicit is better than implicit.\n",
            "Simple is better than complex.\n",
            "Complex is better than complicated.\n",
            "Flat is better than nested.\n",
            "Sparse is better than dense.\n",
            "Readability counts.\n",
            "Special cases aren't special enough to break the rules.\n",
            "Although practicality beats purity.\n",
            "Errors should never pass silently.\n",
            "Unless explicitly silenced.\n",
            "In the face of ambiguity, refuse the temptation to guess.\n",
            "There should be one-- and preferably only one --obvious way to do it.\n",
            "Although that way may not be obvious at first unless you're Dutch.\n",
            "Now is better than never.\n",
            "Although never is often better than *right* now.\n",
            "If the implementation is hard to explain, it's a bad idea.\n",
            "If the implementation is easy to explain, it may be a good idea.\n",
            "Namespaces are one honking great idea -- let's do more of those!\n"
          ],
          "name": "stdout"
        }
      ]
    },
    {
      "cell_type": "markdown",
      "metadata": {
        "id": "lkbIv-s_9Oub"
      },
      "source": [
        "# Python Comments\n",
        "As a start, please ensure every line of code has a comment! It will help you be a more organized coder (every line has a purpose) and it makes it easier for me to grade!\n"
      ]
    },
    {
      "cell_type": "code",
      "metadata": {
        "id": "mBygwMSL9RRT",
        "colab": {
          "base_uri": "https://localhost:8080/"
        },
        "outputId": "d5929c1e-7fc8-4bba-e8dc-727489695972"
      },
      "source": [
        "### Comments starts with a #, and Python will ignore them:\n",
        "#This is a comment\n",
        "\n",
        "# make a print statement for hello world\n",
        "print(\"Hello, World!\")\n",
        "\n",
        "print(\"Hello World!\") #This is a comment\n",
        "\n",
        "#print(\"Hello, World!\")\n",
        "print(\"Cheers, Mate!\")"
      ],
      "execution_count": null,
      "outputs": [
        {
          "output_type": "stream",
          "text": [
            "Hello, World!\n",
            "Hello World!\n",
            "Cheers, Mate!\n"
          ],
          "name": "stdout"
        }
      ]
    },
    {
      "cell_type": "markdown",
      "metadata": {
        "id": "ccKRl8hXdZJZ"
      },
      "source": [
        "#Basic data types"
      ]
    },
    {
      "cell_type": "markdown",
      "metadata": {
        "id": "O6q7jrZDdZJa"
      },
      "source": [
        "##Numbers\n",
        "With numbers we can perform mathematical operations."
      ]
    },
    {
      "cell_type": "markdown",
      "metadata": {
        "id": "wMzo8F54dZJb"
      },
      "source": [
        "Integers and floats work as you would expect from other languages:"
      ]
    },
    {
      "cell_type": "code",
      "metadata": {
        "id": "oz1y48wPdZJc",
        "colab": {
          "base_uri": "https://localhost:8080/"
        },
        "outputId": "50ed7e9a-2d88-4a1a-bc70-2fe50464fc4a"
      },
      "source": [
        "x = 3 # this says x is assigned to 3\n",
        "print(x)\n",
        "print(type(x))"
      ],
      "execution_count": null,
      "outputs": [
        {
          "output_type": "stream",
          "text": [
            "3\n",
            "<class 'int'>\n"
          ],
          "name": "stdout"
        }
      ]
    },
    {
      "cell_type": "code",
      "metadata": {
        "colab": {
          "base_uri": "https://localhost:8080/"
        },
        "id": "TlJIP3ZeJbdL",
        "outputId": "9f34156f-15a5-4e01-b899-0c0a55855f20"
      },
      "source": [
        "# you can do math with integers and numbers!\n",
        "y = 2*x\n",
        "print(y)"
      ],
      "execution_count": null,
      "outputs": [
        {
          "output_type": "stream",
          "text": [
            "6\n"
          ],
          "name": "stdout"
        }
      ]
    },
    {
      "cell_type": "markdown",
      "metadata": {
        "id": "Vs1J4ttefwLt"
      },
      "source": [
        "Notice how we have to use multiple print cells if we want to print multiple content. "
      ]
    },
    {
      "cell_type": "code",
      "metadata": {
        "id": "CTrhg2JQdZJe",
        "colab": {
          "base_uri": "https://localhost:8080/"
        },
        "outputId": "d82e9146-d3bb-49b8-8110-73681e13dda4"
      },
      "source": [
        "print(x + 1)   # Addition;\n",
        "print(x - 1)   # Subtraction;\n",
        "print(x * 2)   # Multiplication;\n",
        "print(x ** 2)  # Exponentiation;"
      ],
      "execution_count": null,
      "outputs": [
        {
          "output_type": "stream",
          "text": [
            "4\n",
            "2\n",
            "6\n",
            "9\n"
          ],
          "name": "stdout"
        }
      ]
    },
    {
      "cell_type": "markdown",
      "metadata": {
        "id": "YlUJ73cEf3FE"
      },
      "source": [
        "If you don't use multiple print cells, it will only print the last output."
      ]
    },
    {
      "cell_type": "code",
      "metadata": {
        "colab": {
          "base_uri": "https://localhost:8080/"
        },
        "id": "qDbac5mAf8A3",
        "outputId": "78e3ce7e-1163-48a1-d7c9-30c4335df212"
      },
      "source": [
        "x + 1   # Addition;\n",
        "x - 1   # Subtraction;\n",
        "x * 2   # Multiplication;\n",
        "x ** 2  # Exponentiation;"
      ],
      "execution_count": null,
      "outputs": [
        {
          "output_type": "execute_result",
          "data": {
            "text/plain": [
              "9"
            ]
          },
          "metadata": {
            "tags": []
          },
          "execution_count": 6
        }
      ]
    },
    {
      "cell_type": "markdown",
      "metadata": {
        "id": "8in6KP9DgIIU"
      },
      "source": [
        "Notice the flexibility you have with assignment. You can very easily overwrite variables."
      ]
    },
    {
      "cell_type": "code",
      "metadata": {
        "colab": {
          "base_uri": "https://localhost:8080/"
        },
        "id": "86QHyj-WgMuM",
        "outputId": "487a4987-8641-4b3f-f7a5-508de21b36ff"
      },
      "source": [
        "x = 3\n",
        "x = x + 1 \n",
        "print(x) # prints \"4\"\n",
        "x = x * 2 \n",
        "print(x) # prints \"8\""
      ],
      "execution_count": null,
      "outputs": [
        {
          "output_type": "stream",
          "text": [
            "4\n",
            "8\n"
          ],
          "name": "stdout"
        }
      ]
    },
    {
      "cell_type": "markdown",
      "metadata": {
        "id": "GjdmIJk_iTO8"
      },
      "source": [
        "Python can work with integers as well as decimals - like this."
      ]
    },
    {
      "cell_type": "code",
      "metadata": {
        "id": "64JwSScLdZJj",
        "colab": {
          "base_uri": "https://localhost:8080/"
        },
        "outputId": "9e8f6ec5-c666-416c-effb-3fff5d8c529e"
      },
      "source": [
        "y = 2.5\n",
        "print(type(y)) # Prints \"<type 'float'>\"\n",
        "print(y, y + 1, y * 2, y ** 2) # Prints \"2.5 3.5 5.0 6.25\""
      ],
      "execution_count": null,
      "outputs": [
        {
          "output_type": "stream",
          "text": [
            "<class 'float'>\n",
            "2.5 3.5 5.0 6.25\n"
          ],
          "name": "stdout"
        }
      ]
    },
    {
      "cell_type": "markdown",
      "metadata": {
        "id": "zmquiR2jdZJl"
      },
      "source": [
        "Python also has built-in types for long integers and complex numbers; you can find all of the details in the [documentation](https://docs.python.org/2/library/stdtypes.html#numeric-types-int-float-long-complex)."
      ]
    },
    {
      "cell_type": "markdown",
      "metadata": {
        "id": "dwavE96XC_nL"
      },
      "source": [
        "### Python Arithmetic Operators\n",
        "\n",
        "\n",
        "<table>\n",
        "<tr>\n",
        "  <th> Operator </th>\n",
        "  <th> Name </th>\n",
        "  <th> Example </th>\n",
        "</tr>\n",
        "<tr>\n",
        "  <td> +\t</td>\n",
        "  <td> Addition </td>\n",
        "  <td> x + y  </td>\n",
        "</tr>\n",
        "<tr>\n",
        "  <td> -\t</td>\n",
        "  <td> Subtraction </td>\n",
        "  <td> \tx - y  </td>\n",
        "</tr>\n",
        "<tr>\n",
        "  <td> *\t</td>\n",
        "  <td> Multiplication\t</td>\n",
        "  <td> x * y </td>\n",
        "</tr>\n",
        "<tr>\n",
        "  <td> / </td>\n",
        "  <td> Division\t</td>\n",
        "  <td> x / y </td>\n",
        "</tr>\n",
        "<tr>\n",
        "  <td> % </td>\n",
        "  <td> Modulus </td>\n",
        "  <td> x % y </td>\n",
        "</tr>\n",
        "<tr>\n",
        "  <td> ** </td>\n",
        "  <td> Exponentiation </td>\n",
        "  <td> x ** y </td>\n",
        "</tr>\n",
        "<tr>\n",
        "  <td> //\t\t</td>\n",
        "  <td> Floor division\t </td>\n",
        "  <td> x // y  </td>\n",
        "</tr>\n",
        "\n"
      ]
    },
    {
      "cell_type": "markdown",
      "metadata": {
        "id": "A-KTAbvHdZJl"
      },
      "source": [
        "##Booleans (True or False)\n",
        "This are useful for conditions (e.g. is this value equal to another value)."
      ]
    },
    {
      "cell_type": "markdown",
      "metadata": {
        "id": "1s4NoWNhdZJm"
      },
      "source": [
        "Python implements all of the usual operators for Boolean logic, but uses English words rather than symbols (`&&`, `||`, etc.):"
      ]
    },
    {
      "cell_type": "code",
      "metadata": {
        "colab": {
          "base_uri": "https://localhost:8080/"
        },
        "id": "_ckMF_Siik0h",
        "outputId": "df1ad0b8-4db8-409e-8581-f063acdbcf05"
      },
      "source": [
        "t = True\n",
        "f = False\n",
        "print(type(t), type(f))"
      ],
      "execution_count": null,
      "outputs": [
        {
          "output_type": "stream",
          "text": [
            "<class 'bool'> <class 'bool'>\n"
          ],
          "name": "stdout"
        }
      ]
    },
    {
      "cell_type": "code",
      "metadata": {
        "colab": {
          "base_uri": "https://localhost:8080/"
        },
        "id": "BE8QSDZ1LWGv",
        "outputId": "b3ba5446-ca0e-4b6b-842b-38e9091b54f3"
      },
      "source": [
        "x = 1\n",
        "y = 2 # = is the ASSIGNMENT OPERATOR\n",
        "\n",
        "print(x == y) # == means 'is identically equal to' vs. = 'is assigned to'\n",
        "print(x != y)  # Logical not equal to;"
      ],
      "execution_count": null,
      "outputs": [
        {
          "output_type": "stream",
          "text": [
            "False\n",
            "True\n"
          ],
          "name": "stdout"
        }
      ]
    },
    {
      "cell_type": "markdown",
      "metadata": {
        "id": "jR9T1lwbdZJs"
      },
      "source": [
        "##Strings (characters)"
      ]
    },
    {
      "cell_type": "code",
      "metadata": {
        "id": "IaXgViISdZJt",
        "colab": {
          "base_uri": "https://localhost:8080/"
        },
        "outputId": "5dd1313f-5870-492c-9778-1875cb3aefe2"
      },
      "source": [
        "hello = 'HELLOOOO'   # String literals can use single quotes\n",
        "world = \"world\"   # or double quotes; it does not matter.\n",
        "print(hello, len(hello)) # len() tells you how long the string is"
      ],
      "execution_count": null,
      "outputs": [
        {
          "output_type": "stream",
          "text": [
            "HELLOOOO 8\n"
          ],
          "name": "stdout"
        }
      ]
    },
    {
      "cell_type": "code",
      "metadata": {
        "id": "ML2gOmS3dZJv",
        "colab": {
          "base_uri": "https://localhost:8080/"
        },
        "outputId": "ca015cfa-310f-4a5b-8000-ac843aad563e"
      },
      "source": [
        "hw = hello + ' ' + world  # String concatenation (paste two values together)\n",
        "print(hw)  # prints \"hello world\""
      ],
      "execution_count": null,
      "outputs": [
        {
          "output_type": "stream",
          "text": [
            "HELLOOOO world\n"
          ],
          "name": "stdout"
        }
      ]
    },
    {
      "cell_type": "code",
      "metadata": {
        "id": "U4BHx2j8dZJy",
        "colab": {
          "base_uri": "https://localhost:8080/"
        },
        "outputId": "3dbc837d-cda7-44d0-d0e0-5c35bf67c55a"
      },
      "source": [
        "hw12 = '%s %s %d' % (hello, world, 12)  # sprintf style string formatting\n",
        "print(hw12)  # prints \"hello world 12\""
      ],
      "execution_count": null,
      "outputs": [
        {
          "output_type": "stream",
          "text": [
            "HELLOOOO world 12\n"
          ],
          "name": "stdout"
        }
      ]
    },
    {
      "cell_type": "markdown",
      "metadata": {
        "id": "jc5NguXfdZJ0"
      },
      "source": [
        "String objects have a bunch of useful methods; for example:"
      ]
    },
    {
      "cell_type": "code",
      "metadata": {
        "id": "YiUhwL_NdZJ0",
        "colab": {
          "base_uri": "https://localhost:8080/"
        },
        "outputId": "dcc943b0-e886-47df-a546-ec8c3064a71c"
      },
      "source": [
        "s = \"hello\"\n",
        "print(type(s))\n",
        "print(s.capitalize())  # Capitalize a string; prints \"Hello\"\n",
        "print(s.upper())       # Convert a string to uppercase; prints \"HELLO\"\n",
        "print(s.rjust(7))      # Right-justify a string, padding with spaces; prints \"  hello\"\n",
        "print(s.center(7))     # Center a string, padding with spaces; prints \" hello \"\n",
        "print(s.replace('l', '(ell)'))  # Replace all instances of one substring with another;\n",
        "                               # prints \"he(ell)(ell)o\"\n",
        "print('  world '.strip())  # Strip leading and trailing whitespace; prints \"world\""
      ],
      "execution_count": null,
      "outputs": [
        {
          "output_type": "stream",
          "text": [
            "<class 'str'>\n",
            "Hello\n",
            "HELLO\n",
            "  hello\n",
            " hello \n",
            "he(ell)(ell)o\n",
            "world\n"
          ],
          "name": "stdout"
        }
      ]
    },
    {
      "cell_type": "code",
      "metadata": {
        "colab": {
          "base_uri": "https://localhost:8080/",
          "height": 35
        },
        "id": "zJ6EOVv2K7eb",
        "outputId": "b9388f8a-92f5-4af8-9357-1d6e83c37614"
      },
      "source": [
        "s = \"hello\"\n",
        "s.replace('l', '(ell)')"
      ],
      "execution_count": null,
      "outputs": [
        {
          "output_type": "execute_result",
          "data": {
            "application/vnd.google.colaboratory.intrinsic+json": {
              "type": "string"
            },
            "text/plain": [
              "'he(ell)(ell)o'"
            ]
          },
          "metadata": {
            "tags": []
          },
          "execution_count": 20
        }
      ]
    },
    {
      "cell_type": "code",
      "metadata": {
        "colab": {
          "base_uri": "https://localhost:8080/",
          "height": 35
        },
        "id": "Ke-eLWYPLBOS",
        "outputId": "7563b5ca-e6a2-4289-a3b0-c6a58bf9ed7b"
      },
      "source": [
        "x = 'Helao'\n",
        "x.replace('a','l')"
      ],
      "execution_count": null,
      "outputs": [
        {
          "output_type": "execute_result",
          "data": {
            "application/vnd.google.colaboratory.intrinsic+json": {
              "type": "string"
            },
            "text/plain": [
              "'Hello'"
            ]
          },
          "metadata": {
            "tags": []
          },
          "execution_count": 21
        }
      ]
    },
    {
      "cell_type": "code",
      "metadata": {
        "colab": {
          "base_uri": "https://localhost:8080/"
        },
        "id": "PmoyB6zoI5BZ",
        "outputId": "633a169c-5866-47e1-f5e9-303c219b2246"
      },
      "source": [
        "y=[1,2,3,'a','b'] \n",
        "y[:-2]"
      ],
      "execution_count": null,
      "outputs": [
        {
          "output_type": "execute_result",
          "data": {
            "text/plain": [
              "[1, 2, 3]"
            ]
          },
          "metadata": {
            "tags": []
          },
          "execution_count": 22
        }
      ]
    },
    {
      "cell_type": "markdown",
      "metadata": {
        "id": "4MfqPXwSdZJ3"
      },
      "source": [
        "You can find a list of all string methods in the [documentation](https://docs.python.org/2/library/stdtypes.html#string-methods)."
      ]
    },
    {
      "cell_type": "markdown",
      "metadata": {
        "id": "x6nTGisIi1zi"
      },
      "source": [
        "# Variable Names\n",
        "Right about now, you might be wondering which variable names you can use.\n",
        "\n",
        "A variable can have a short name (like x and y) or a more descriptive name (age, carname, total_volume). But as a best practice, don't name variables like functions (if you are taking the mean of a list of numbers, don't name the variable `mean`... instead, name it `MyMean` or `meanVal`. You will quickly learn your style for naming variables. \n",
        "\n",
        "As I've shown before it's nice to overwrite variables if you're not going to use them for long... I typically reserve variables like `x` and `tmp` for this purpose.\n",
        "\n",
        "**Rules for Python variables:**\n",
        "\n",
        "* A variable name must start with a letter or the underscore character\n",
        "* A variable name cannot start with a number\n",
        "* A variable name can only contain alpha-numeric characters and underscores (A-z, 0-9, and _ )\n",
        "* Variable names are case-sensitive (`age`, `Age` and `AGE` are three different variables)"
      ]
    },
    {
      "cell_type": "markdown",
      "metadata": {
        "id": "tF-2Hq0CqK5R"
      },
      "source": [
        "## Example of Legal vs. Illegal Names"
      ]
    },
    {
      "cell_type": "code",
      "metadata": {
        "id": "5UMJ4W3Yjada"
      },
      "source": [
        "#Legal variable names:\n",
        "myvar = \"John\"\n",
        "my_var = \"John\"\n",
        "_my_var = \"John\"\n",
        "myVar = \"John\"\n",
        "MYVAR = \"John\"\n",
        "myvar2 = \"John\"\n",
        "\n",
        "#Illegal variable names:\n",
        "# myvar = \"John\" ## ERROR! starts with a number\n",
        "# my-var = \"John\" ## ERROR! has an invalid character\n",
        "# my var = \"John\" ## ERROR! has a space in the variable name - spaces matter!"
      ],
      "execution_count": null,
      "outputs": []
    },
    {
      "cell_type": "markdown",
      "metadata": {
        "id": "0goHdw-HQ4SQ"
      },
      "source": [
        "# Data Structures (Containers)\n",
        "Here are some other great resources you may want to check out: \n",
        "\n",
        "* https://www.protechtraining.com/content/python_fundamentals_tutorial-advanced_types_containers\n",
        "* https://www.oreilly.com/library/view/machine-learning-with/9781491989371/ch01.html\n",
        "* http://www.compciv.org/"
      ]
    },
    {
      "cell_type": "markdown",
      "metadata": {
        "id": "7-pTePoFcD02"
      },
      "source": [
        "## List ['a', 'b', 'c', 1, 2, 3]\n",
        "Lists have ***square brackets*** `[like, this]` with individual elements separated by a comma. Lists can  contain data of any type (numeric or character). Remember - if you are trying to print two things in a cell, you need to include `print()`. Sometimes I just print this as two different cells."
      ]
    },
    {
      "cell_type": "markdown",
      "metadata": {
        "id": "dRLa_xY3Rwrj"
      },
      "source": [
        "Here's an example of a list with numeric data."
      ]
    },
    {
      "cell_type": "code",
      "metadata": {
        "id": "suGt4uSickVz",
        "colab": {
          "base_uri": "https://localhost:8080/"
        },
        "outputId": "76131564-e43e-4c1b-8fa9-7d14af98849d"
      },
      "source": [
        "# this is a list!\n",
        "x = [1, 2, 3]\n",
        "x # prints the variable (without needing a print statement)"
      ],
      "execution_count": null,
      "outputs": [
        {
          "output_type": "execute_result",
          "data": {
            "text/plain": [
              "[1, 2, 3]"
            ]
          },
          "metadata": {
            "tags": []
          },
          "execution_count": 26
        }
      ]
    },
    {
      "cell_type": "code",
      "metadata": {
        "id": "T0se4cf7RghF",
        "colab": {
          "base_uri": "https://localhost:8080/"
        },
        "outputId": "1d9ffa21-0236-4f17-bb57-1c44cbb29e8a"
      },
      "source": [
        "type(x) # confirms that it's a list"
      ],
      "execution_count": null,
      "outputs": [
        {
          "output_type": "execute_result",
          "data": {
            "text/plain": [
              "list"
            ]
          },
          "metadata": {
            "tags": []
          },
          "execution_count": 31
        }
      ]
    },
    {
      "cell_type": "markdown",
      "metadata": {
        "id": "iafFJAMwR1aD"
      },
      "source": [
        "And here's a list with mixed data types. Notice how I am overwriting the variable `x` - coding languages are like recipes... they follow the code in logical order (which is a good thing!)"
      ]
    },
    {
      "cell_type": "code",
      "metadata": {
        "id": "8PEj049FR3wD",
        "colab": {
          "base_uri": "https://localhost:8080/"
        },
        "outputId": "dd65f481-02f7-4f1d-f344-1ad6594bb662"
      },
      "source": [
        "# notice how numbers are green/blue and the strings need quotes 'string' and are red \n",
        "x = [1, 2, 3, 'a', 'b', 'c'] \n",
        "x # prints the variable (without needing a print statement)"
      ],
      "execution_count": null,
      "outputs": [
        {
          "output_type": "execute_result",
          "data": {
            "text/plain": [
              "[1, 2, 3, 'a', 'b', 'c']"
            ]
          },
          "metadata": {
            "tags": []
          },
          "execution_count": 27
        }
      ]
    },
    {
      "cell_type": "code",
      "metadata": {
        "id": "toE_JzZcRtkW",
        "colab": {
          "base_uri": "https://localhost:8080/"
        },
        "outputId": "90a526ec-e7bb-4e1d-aef2-1abc010bd629"
      },
      "source": [
        "# you typically don't need to show the type, but for completeness\\\n",
        "# here's how you can print two things\n",
        "print(type(x))\n",
        "print(x)"
      ],
      "execution_count": null,
      "outputs": [
        {
          "output_type": "stream",
          "text": [
            "<class 'list'>\n",
            "[1, 2, 3, 'a', 'b', 'c']\n"
          ],
          "name": "stdout"
        }
      ]
    },
    {
      "cell_type": "code",
      "metadata": {
        "colab": {
          "base_uri": "https://localhost:8080/"
        },
        "id": "sv83DF2uyWYj",
        "outputId": "5b24edce-21f9-4448-f8ac-f48e228103c4"
      },
      "source": [
        "x[3:] # slice from the 4th element to the end (BECAUSE PYTHON COUNTS FROM 0!)"
      ],
      "execution_count": null,
      "outputs": [
        {
          "output_type": "execute_result",
          "data": {
            "text/plain": [
              "['a', 'b', 'c']"
            ]
          },
          "metadata": {
            "tags": []
          },
          "execution_count": 54
        }
      ]
    },
    {
      "cell_type": "markdown",
      "metadata": {
        "id": "UYAL6ptISaSj"
      },
      "source": [
        "Let's see if we can extract the second element of the list and some other subsets. **Remember** - ***Python starts counting from 0!***"
      ]
    },
    {
      "cell_type": "code",
      "metadata": {
        "id": "HTk2JCxMSZzV",
        "colab": {
          "base_uri": "https://localhost:8080/"
        },
        "outputId": "80c04f37-16eb-416c-cc28-ba9d8d82375a"
      },
      "source": [
        "# extract the 2nd element from the list\n",
        "x[1] # voila! look up and check your work"
      ],
      "execution_count": null,
      "outputs": [
        {
          "output_type": "execute_result",
          "data": {
            "text/plain": [
              "2"
            ]
          },
          "metadata": {
            "tags": []
          },
          "execution_count": 28
        }
      ]
    },
    {
      "cell_type": "code",
      "metadata": {
        "id": "0sl4CVN9SplU",
        "colab": {
          "base_uri": "https://localhost:8080/",
          "height": 35
        },
        "outputId": "9d33917b-0222-46d0-e9a5-3bdb8ea75e39"
      },
      "source": [
        "# for fun, here's the 4th element\n",
        "x[3] # make sure you look up and check your work"
      ],
      "execution_count": null,
      "outputs": [
        {
          "output_type": "execute_result",
          "data": {
            "application/vnd.google.colaboratory.intrinsic+json": {
              "type": "string"
            },
            "text/plain": [
              "'a'"
            ]
          },
          "metadata": {
            "tags": []
          },
          "execution_count": 29
        }
      ]
    },
    {
      "cell_type": "markdown",
      "metadata": {
        "id": "e459X0dGT57K"
      },
      "source": [
        "Here's how you can extract the elements after (and including the Nth element)."
      ]
    },
    {
      "cell_type": "code",
      "metadata": {
        "id": "k9QCikQDSxjV",
        "colab": {
          "base_uri": "https://localhost:8080/"
        },
        "outputId": "a77cf55b-706d-4790-b390-91266c6c0c2e"
      },
      "source": [
        "# extract the last two elements of the list\n",
        "print(x)\n",
        "x[4:] # nice easy syntax... extract everything including and after the 5th element"
      ],
      "execution_count": null,
      "outputs": [
        {
          "output_type": "stream",
          "text": [
            "[1, 2, 3, 'a', 'b', 'c']\n"
          ],
          "name": "stdout"
        },
        {
          "output_type": "execute_result",
          "data": {
            "text/plain": [
              "['b', 'c']"
            ]
          },
          "metadata": {
            "tags": []
          },
          "execution_count": 57
        }
      ]
    },
    {
      "cell_type": "markdown",
      "metadata": {
        "id": "q8LSCvfPlMiD"
      },
      "source": [
        "Extract the fifth and sixth element."
      ]
    },
    {
      "cell_type": "code",
      "metadata": {
        "id": "rVebYBScTReM",
        "colab": {
          "base_uri": "https://localhost:8080/"
        },
        "outputId": "25bdb790-0b86-46d1-cba6-75542ae3144d"
      },
      "source": [
        "# this way is a bit advanced, but we will talk about it later!\n",
        "# this is known as list comprehension.\n",
        "[x[i] for i in (4,5)] "
      ],
      "execution_count": null,
      "outputs": [
        {
          "output_type": "execute_result",
          "data": {
            "text/plain": [
              "['b', 'c']"
            ]
          },
          "metadata": {
            "tags": []
          },
          "execution_count": 58
        }
      ]
    },
    {
      "cell_type": "markdown",
      "metadata": {
        "id": "r5JvsVtYlPmM"
      },
      "source": [
        "Extract the 3rd, 5th and 6th element."
      ]
    },
    {
      "cell_type": "code",
      "metadata": {
        "id": "gwmMLFPKTWml",
        "colab": {
          "base_uri": "https://localhost:8080/"
        },
        "outputId": "acdfa949-ffe4-4d52-9d15-3dbb39c03fa7"
      },
      "source": [
        "# ... but at least it generalizes!\n",
        "[x[i] for i in (2,4,5)] # here we are extracting the 3rd, 5th and 6th elements"
      ],
      "execution_count": null,
      "outputs": [
        {
          "output_type": "execute_result",
          "data": {
            "text/plain": [
              "[3, 'b', 'c']"
            ]
          },
          "metadata": {
            "tags": []
          },
          "execution_count": 39
        }
      ]
    },
    {
      "cell_type": "markdown",
      "metadata": {
        "id": "ZtPcuwQaUC4z"
      },
      "source": [
        "Here's a way of returning elements from the left or right... which you can generalize... pay attention the the use of the negative sign `-` and the colon `:`"
      ]
    },
    {
      "cell_type": "code",
      "metadata": {
        "id": "z5nfF9K3UNRg",
        "colab": {
          "base_uri": "https://localhost:8080/"
        },
        "outputId": "aa259cfa-cf7a-41f6-eaff-1951f621a0ec"
      },
      "source": [
        "x[-2:] # return the last two elements"
      ],
      "execution_count": null,
      "outputs": [
        {
          "output_type": "execute_result",
          "data": {
            "text/plain": [
              "['b', 'c']"
            ]
          },
          "metadata": {
            "tags": []
          },
          "execution_count": 40
        }
      ]
    },
    {
      "cell_type": "code",
      "metadata": {
        "id": "8mEOM6n3UHbP",
        "colab": {
          "base_uri": "https://localhost:8080/"
        },
        "outputId": "fd14ae58-54cb-4b65-bdfb-d0d6b4495926"
      },
      "source": [
        "x[:-2] # return everything EXCEPT the last two elements"
      ],
      "execution_count": null,
      "outputs": [
        {
          "output_type": "execute_result",
          "data": {
            "text/plain": [
              "[1, 2, 3, 'a']"
            ]
          },
          "metadata": {
            "tags": []
          },
          "execution_count": 41
        }
      ]
    },
    {
      "cell_type": "code",
      "metadata": {
        "id": "JazhJcApUh-X",
        "colab": {
          "base_uri": "https://localhost:8080/"
        },
        "outputId": "6221e087-89a9-4d41-cc22-dda5cfeec12a"
      },
      "source": [
        "# return the first two elements\n",
        "x[:2]"
      ],
      "execution_count": null,
      "outputs": [
        {
          "output_type": "execute_result",
          "data": {
            "text/plain": [
              "[1, 2]"
            ]
          },
          "metadata": {
            "tags": []
          },
          "execution_count": 42
        }
      ]
    },
    {
      "cell_type": "code",
      "metadata": {
        "id": "qW9umvDaUnm9",
        "colab": {
          "base_uri": "https://localhost:8080/"
        },
        "outputId": "126c3ee7-cd36-4d04-e9f6-b9cdb1af4c07"
      },
      "source": [
        "# return everything EXCEPT the first two elements\n",
        "x[2:]"
      ],
      "execution_count": null,
      "outputs": [
        {
          "output_type": "execute_result",
          "data": {
            "text/plain": [
              "[3, 'a', 'b', 'c']"
            ]
          },
          "metadata": {
            "tags": []
          },
          "execution_count": 43
        }
      ]
    },
    {
      "cell_type": "markdown",
      "metadata": {
        "id": "8VksExcgUuNV"
      },
      "source": [
        "As you can see, order really matters here!"
      ]
    },
    {
      "cell_type": "markdown",
      "metadata": {
        "id": "61L0SAq0dZJ6"
      },
      "source": [
        "A list is the Python equivalent of an array, but is resizeable and can contain elements of different types:"
      ]
    },
    {
      "cell_type": "code",
      "metadata": {
        "id": "1pJfpXLFdZJ6",
        "colab": {
          "base_uri": "https://localhost:8080/"
        },
        "outputId": "2f77b61b-3f2f-40d8-c401-c11a0c44ac40"
      },
      "source": [
        "xs = [3, 1, 2]   # Create a list\n",
        "print(xs, xs[2])\n",
        "print(xs[-1])     # Negative indices count from the end of the list; prints \"2\""
      ],
      "execution_count": null,
      "outputs": [
        {
          "output_type": "stream",
          "text": [
            "[3, 1, 2] 2\n",
            "2\n"
          ],
          "name": "stdout"
        }
      ]
    },
    {
      "cell_type": "code",
      "metadata": {
        "id": "K9aKqmg9dZJ9",
        "colab": {
          "base_uri": "https://localhost:8080/"
        },
        "outputId": "bcba06ed-99b4-4da1-93a0-979ebc927f1f"
      },
      "source": [
        "xs[2] = 'foo'    # Lists can contain elements of different types\n",
        "print(xs)"
      ],
      "execution_count": null,
      "outputs": [
        {
          "output_type": "stream",
          "text": [
            "[3, 1, 'foo']\n"
          ],
          "name": "stdout"
        }
      ]
    },
    {
      "cell_type": "code",
      "metadata": {
        "id": "dqzRfbCudZKA",
        "colab": {
          "base_uri": "https://localhost:8080/"
        },
        "outputId": "9096345f-bf3e-4e80-c5e0-23b66f6c959b"
      },
      "source": [
        "xs.append('bar') # Add a new element to the end of the list\n",
        "print(xs)  "
      ],
      "execution_count": null,
      "outputs": [
        {
          "output_type": "stream",
          "text": [
            "[3, 1, 'foo', 'bar']\n"
          ],
          "name": "stdout"
        }
      ]
    },
    {
      "cell_type": "code",
      "metadata": {
        "id": "OrO6b08ZdZKE",
        "colab": {
          "base_uri": "https://localhost:8080/"
        },
        "outputId": "2c51ef70-a2c3-4011-e59c-c6d81ae10686"
      },
      "source": [
        "x = xs.pop()     # Remove and return the last element of the list\n",
        "print(x) "
      ],
      "execution_count": null,
      "outputs": [
        {
          "output_type": "stream",
          "text": [
            "bar\n"
          ],
          "name": "stdout"
        }
      ]
    },
    {
      "cell_type": "markdown",
      "metadata": {
        "id": "GjOUYW7EdZKG"
      },
      "source": [
        "You can find all the details about lists in the [documentation](https://docs.python.org/2/tutorial/datastructures.html#more-on-lists)."
      ]
    },
    {
      "cell_type": "markdown",
      "metadata": {
        "id": "7d7GLFiOdZKH"
      },
      "source": [
        "####Slicing"
      ]
    },
    {
      "cell_type": "markdown",
      "metadata": {
        "id": "wugcKiSydZKH"
      },
      "source": [
        "In addition to accessing list elements one at a time, Python provides concise syntax to access **sublists**; this is known as slicing:"
      ]
    },
    {
      "cell_type": "code",
      "metadata": {
        "id": "pf7LRWHwdZKI",
        "colab": {
          "base_uri": "https://localhost:8080/"
        },
        "outputId": "ef7dd1ed-c00f-4a45-8b74-b050e1be209e"
      },
      "source": [
        "nums = range(5)    # range is a built-in function that creates a list of integers\n",
        "print(nums)         # Prints \"[0, 1, 2, 3, 4]\"\n",
        "print(type(nums))   # This is stored as a range... if we want to overwrite parts of \n",
        "                    # it, we will need to convert to a list"
      ],
      "execution_count": null,
      "outputs": [
        {
          "output_type": "stream",
          "text": [
            "range(0, 5)\n",
            "<class 'range'>\n"
          ],
          "name": "stdout"
        }
      ]
    },
    {
      "cell_type": "markdown",
      "metadata": {
        "id": "Hte9tSvDrJ_I"
      },
      "source": [
        "Let's convert `nums` to a list."
      ]
    },
    {
      "cell_type": "code",
      "metadata": {
        "colab": {
          "base_uri": "https://localhost:8080/"
        },
        "id": "WTpN_P6PrMh_",
        "outputId": "68fd1572-a935-4fab-ec35-195771f4b5b0"
      },
      "source": [
        "nums = list(nums)\n",
        "print(nums, type(nums)) # voila!"
      ],
      "execution_count": null,
      "outputs": [
        {
          "output_type": "stream",
          "text": [
            "[0, 1, 2, 3, 4] <class 'list'>\n"
          ],
          "name": "stdout"
        }
      ]
    },
    {
      "cell_type": "code",
      "metadata": {
        "colab": {
          "base_uri": "https://localhost:8080/"
        },
        "id": "VrQGs1c9KCPT",
        "outputId": "2840b2d0-4776-44ed-e53e-7d01a83c8c8e"
      },
      "source": [
        "nums[2]=4\n",
        "nums"
      ],
      "execution_count": null,
      "outputs": [
        {
          "output_type": "execute_result",
          "data": {
            "text/plain": [
              "[0, 1, 4, 3, 4]"
            ]
          },
          "metadata": {
            "tags": []
          },
          "execution_count": 10
        }
      ]
    },
    {
      "cell_type": "code",
      "metadata": {
        "colab": {
          "base_uri": "https://localhost:8080/"
        },
        "id": "Ufjzp0Q3rIKB",
        "outputId": "4eadd316-13b2-4e48-a1f2-9ed9123d90c9"
      },
      "source": [
        "print(nums[2:4])    # Get a slice from index 2 to 4 (exclusive); prints \"[2, 3]\"\n",
        "print(nums[2:])     # Get a slice from index 2 to the end; prints \"[2, 3, 4]\"\n",
        "print(nums[:2])     # Get a slice from the start to index 2 (exclusive); prints \"[0, 1]\"\n",
        "print(nums[:])      # Get a slice of the whole list; prints [\"0, 1, 2, 3, 4]\"\n",
        "print(nums[:-1])    # Slice indices can be negative; prints [\"0, 1, 2, 3]\"\n",
        "nums[2:4] = [8, 9] # Assign a new sublist to a slice\n",
        "print(nums)         # Prints \"[0, 1, 8, 9, 4]\""
      ],
      "execution_count": null,
      "outputs": [
        {
          "output_type": "stream",
          "text": [
            "[2, 3]\n",
            "[2, 3, 4]\n",
            "[0, 1]\n",
            "[0, 1, 2, 3, 4]\n",
            "[0, 1, 2, 3]\n",
            "[0, 1, 8, 9, 4]\n"
          ],
          "name": "stdout"
        }
      ]
    },
    {
      "cell_type": "markdown",
      "metadata": {
        "id": "_fCbKAIExf_4"
      },
      "source": [
        "## Dictionary"
      ]
    },
    {
      "cell_type": "code",
      "metadata": {
        "id": "94fd44Ghxhev"
      },
      "source": [
        "# list\n",
        "# https://en.wikipedia.org/wiki/Array_data_structure\n",
        "products = [\"chair\",\"desk\",\"table\"]\n",
        "\n",
        "# dictionary\n",
        "# https://en.wikipedia.org/wiki/Hash_table\n",
        "\n",
        "fabrication = { \n",
        "    \"chair\" : 4,\n",
        "    \"desk\" : 6,\n",
        "    \"table\" : 2\n",
        "}\n",
        "assembly = {\n",
        "    \"chair\" : 3,\n",
        "    \"desk\" : 5,\n",
        "    \"table\" : 7\n",
        "}\n",
        "shipping = { \n",
        "    \"chair\" : 3,\n",
        "    \"desk\" : 2,\n",
        "    \"table\" : 4\n",
        "}\n",
        "demand = { \n",
        "    \"chair\" : 360,\n",
        "    \"desk\" : 300,\n",
        "    \"table\" : 100\n",
        "}\n",
        "profit = { \n",
        "    \"chair\" : 15,\n",
        "    \"desk\" : 24,\n",
        "    \"table\" : 18\n",
        "}\n",
        "hours = { \n",
        "    \"fabrication\" : 1850,\n",
        "    \"assembly\" : 2400,\n",
        "    \"shipping\" : 1500\n",
        "}"
      ],
      "execution_count": null,
      "outputs": []
    },
    {
      "cell_type": "markdown",
      "metadata": {
        "id": "NIv5MzQexiHP"
      },
      "source": [
        "### Slicing"
      ]
    },
    {
      "cell_type": "code",
      "metadata": {
        "colab": {
          "base_uri": "https://localhost:8080/"
        },
        "id": "wPqDLOj1U8EJ",
        "outputId": "e0079d36-3364-4dff-9457-92a15779e969"
      },
      "source": [
        "# this will just print the output\n",
        "demand"
      ],
      "execution_count": null,
      "outputs": [
        {
          "output_type": "execute_result",
          "data": {
            "text/plain": [
              "{'chair': 360, 'desk': 300, 'table': 100}"
            ]
          },
          "metadata": {},
          "execution_count": 34
        },
        {
          "output_type": "stream",
          "text": [
            "time: 12.3 ms (started: 2021-08-23 14:09:21 +00:00)\n"
          ],
          "name": "stdout"
        }
      ]
    },
    {
      "cell_type": "code",
      "metadata": {
        "colab": {
          "base_uri": "https://localhost:8080/"
        },
        "id": "53dhbu3-U_0l",
        "outputId": "08f3eb83-0996-4a29-95a9-14f35cfa0218"
      },
      "source": [
        "# this is how you subset by a key\n",
        "demand['chair']"
      ],
      "execution_count": null,
      "outputs": [
        {
          "output_type": "execute_result",
          "data": {
            "text/plain": [
              "360"
            ]
          },
          "metadata": {},
          "execution_count": 35
        },
        {
          "output_type": "stream",
          "text": [
            "time: 5.87 ms (started: 2021-08-23 14:09:21 +00:00)\n"
          ],
          "name": "stdout"
        }
      ]
    },
    {
      "cell_type": "markdown",
      "metadata": {
        "id": "HO_ckXraVJCs"
      },
      "source": [
        "Want to add lamps to the dictionary? You are 'appending to a dictionary in Python' - do a Google search and find an example!\n",
        "\n",
        "* https://thispointer.com/python-how-to-add-append-key-value-pairs-in-dictionary-using-dict-update/"
      ]
    },
    {
      "cell_type": "code",
      "metadata": {
        "colab": {
          "base_uri": "https://localhost:8080/"
        },
        "id": "lSi55RyvVMKc",
        "outputId": "0fb62674-8b5d-404b-a6eb-49a0a439b721"
      },
      "source": [
        "demand.update({'lamps':100}) # see how it put it in alphabetical order?\n",
        "demand\n",
        "\n",
        "# of course you will need to add the constraints to this too..."
      ],
      "execution_count": null,
      "outputs": [
        {
          "output_type": "execute_result",
          "data": {
            "text/plain": [
              "{'chair': 360, 'desk': 300, 'lamps': 100, 'table': 100}"
            ]
          },
          "metadata": {},
          "execution_count": 40
        },
        {
          "output_type": "stream",
          "text": [
            "time: 10.2 ms (started: 2021-08-23 14:22:12 +00:00)\n"
          ],
          "name": "stdout"
        }
      ]
    },
    {
      "cell_type": "markdown",
      "metadata": {
        "id": "Rmlvh9kOfSUH"
      },
      "source": [
        "# Resources\n",
        "Please check out these excellent resources which I used to make this notebook.\n",
        "\n",
        "*   W3 Schools 'Intro to Python'\n",
        "  * Just navigate on the lefthand menu and check out the various topics.\n",
        "    * https://www.w3schools.com/python/default.**asp**\n",
        "* Geeks for Geeks 'Intro to Python'\n",
        "  * Similar to W3, but a different presentation.\n",
        "    * https://www.geeksforgeeks.org/python-programming-language/?ref=lbp\n",
        "*   CS 228 Intro to Python to Tutorial\n",
        "  * It's a good tutorial, but uses an old version of Python. We've updated the examples here.\n",
        "    * https://github.com/kuleshov/teaching-material/blob/master/tutorials/python/cs228-python-tutorial.ipynb\n",
        "* Cheat sheets! For numpy, matplotlib, pandas and more...\n",
        "  * https://alansimpson.me/python/cheatsheets/\n",
        "\n",
        "Looking to test yourself? Play with the exercises on W3! You can go from \"Syntax\" up to and including \"For Loops\" - keep going if you want to!\n",
        "(https://www.w3schools.com/python/exercise.asp?filename=exercise_syntax1)\n"
      ]
    }
  ]
}