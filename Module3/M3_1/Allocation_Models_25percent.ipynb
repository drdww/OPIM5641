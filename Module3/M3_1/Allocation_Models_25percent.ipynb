{
  "nbformat": 4,
  "nbformat_minor": 0,
  "metadata": {
    "colab": {
      "name": "Allocation Models - 25percent.ipynb",
      "provenance": [],
      "collapsed_sections": [],
      "toc_visible": true,
      "include_colab_link": true
    },
    "kernelspec": {
      "name": "python3",
      "display_name": "Python 3"
    }
  },
  "cells": [
    {
      "cell_type": "markdown",
      "metadata": {
        "id": "view-in-github",
        "colab_type": "text"
      },
      "source": [
        "<a href=\"https://colab.research.google.com/github/drdww/OPIM5641/blob/main/Module3/M3_1/Allocation_Models_25percent.ipynb\" target=\"_parent\"><img src=\"https://colab.research.google.com/assets/colab-badge.svg\" alt=\"Open In Colab\"/></a>"
      ]
    },
    {
      "cell_type": "markdown",
      "metadata": {
        "id": "0Q7rTx6fkkLd"
      },
      "source": [
        "# Linear Programming: Allocation Models (25% constraint)\n",
        "\n",
        "**OPIM 5641: Business Decision Modeling - Dept. of Operations and Information Management - University of Connecticut**\n",
        "\n",
        "---------------------\n",
        "\n",
        "Let's add a new constraint that each furniture line must represent 25% of the total inventory produced! \n",
        "\n",
        "Related Readings:\n",
        "* `Pyomo Cookbook`: https://github.com/jckantor/ND-Pyomo-Cookbook/blob/master/notebooks/02.01-Production-Models-with-Linear-Constraints.ipynb\n",
        "* `Powell`: Chapter 9 (Linear Optimization)\n",
        "\n"
      ]
    },
    {
      "cell_type": "markdown",
      "metadata": {
        "id": "QpWT5lS9lWU0"
      },
      "source": [
        "## Setup Your Environment/Imports"
      ]
    },
    {
      "cell_type": "code",
      "metadata": {
        "id": "T6DsPkjKSLZh"
      },
      "source": [
        "# before you do anything...\n",
        "# mount your drive!\n",
        "# click folder on the left..."
      ],
      "execution_count": null,
      "outputs": []
    },
    {
      "cell_type": "code",
      "metadata": {
        "id": "HhhMWH82kjfN",
        "colab": {
          "base_uri": "https://localhost:8080/",
          "height": 571
        },
        "outputId": "31069ade-7f87-4ea0-d115-e064fc59dd94"
      },
      "source": [
        "# import modules\n",
        "\n",
        "%matplotlib inline\n",
        "from pylab import *\n",
        "\n",
        "import shutil\n",
        "import sys\n",
        "import os.path\n",
        "\n",
        "if not shutil.which(\"pyomo\"):\n",
        "    !pip install -q pyomo\n",
        "    assert(shutil.which(\"pyomo\"))\n",
        "\n",
        "if not (shutil.which(\"cbc\") or os.path.isfile(\"cbc\")):\n",
        "    if \"google.colab\" in sys.modules:\n",
        "        !apt-get install -y -qq coinor-cbc\n",
        "    else:\n",
        "        try:\n",
        "            !conda install -c conda-forge coincbc \n",
        "        except:\n",
        "            pass\n",
        "\n",
        "assert(shutil.which(\"cbc\") or os.path.isfile(\"cbc\"))\n",
        "\n",
        "from pyomo.environ import *"
      ],
      "execution_count": null,
      "outputs": [
        {
          "output_type": "stream",
          "text": [
            "\u001b[K     |████████████████████████████████| 9.0MB 2.7MB/s \n",
            "\u001b[K     |████████████████████████████████| 51kB 5.0MB/s \n",
            "\u001b[K     |████████████████████████████████| 256kB 45.4MB/s \n",
            "\u001b[K     |████████████████████████████████| 163kB 45.9MB/s \n",
            "\u001b[?25hSelecting previously unselected package coinor-libcoinutils3v5.\n",
            "(Reading database ... 144487 files and directories currently installed.)\n",
            "Preparing to unpack .../0-coinor-libcoinutils3v5_2.10.14+repack1-1_amd64.deb ...\n",
            "Unpacking coinor-libcoinutils3v5 (2.10.14+repack1-1) ...\n",
            "Selecting previously unselected package coinor-libosi1v5.\n",
            "Preparing to unpack .../1-coinor-libosi1v5_0.107.9+repack1-1_amd64.deb ...\n",
            "Unpacking coinor-libosi1v5 (0.107.9+repack1-1) ...\n",
            "Selecting previously unselected package coinor-libclp1.\n",
            "Preparing to unpack .../2-coinor-libclp1_1.16.11+repack1-1_amd64.deb ...\n",
            "Unpacking coinor-libclp1 (1.16.11+repack1-1) ...\n",
            "Selecting previously unselected package coinor-libcgl1.\n",
            "Preparing to unpack .../3-coinor-libcgl1_0.59.10+repack1-1_amd64.deb ...\n",
            "Unpacking coinor-libcgl1 (0.59.10+repack1-1) ...\n",
            "Selecting previously unselected package coinor-libcbc3.\n",
            "Preparing to unpack .../4-coinor-libcbc3_2.9.9+repack1-1_amd64.deb ...\n",
            "Unpacking coinor-libcbc3 (2.9.9+repack1-1) ...\n",
            "Selecting previously unselected package coinor-cbc.\n",
            "Preparing to unpack .../5-coinor-cbc_2.9.9+repack1-1_amd64.deb ...\n",
            "Unpacking coinor-cbc (2.9.9+repack1-1) ...\n",
            "Setting up coinor-libcoinutils3v5 (2.10.14+repack1-1) ...\n",
            "Setting up coinor-libosi1v5 (0.107.9+repack1-1) ...\n",
            "Setting up coinor-libclp1 (1.16.11+repack1-1) ...\n",
            "Setting up coinor-libcgl1 (0.59.10+repack1-1) ...\n",
            "Setting up coinor-libcbc3 (2.9.9+repack1-1) ...\n",
            "Setting up coinor-cbc (2.9.9+repack1-1) ...\n",
            "Processing triggers for man-db (2.8.3-2ubuntu0.1) ...\n",
            "Processing triggers for libc-bin (2.27-3ubuntu1) ...\n",
            "/sbin/ldconfig.real: /usr/local/lib/python3.6/dist-packages/ideep4py/lib/libmkldnn.so.0 is not a symbolic link\n",
            "\n"
          ],
          "name": "stdout"
        }
      ]
    },
    {
      "cell_type": "markdown",
      "metadata": {
        "id": "TYz3rywdPz7s"
      },
      "source": [
        "# Example: Furniture\n",
        "*Section 9.2 (Powell) - Chairs, Desks and Tables*\n",
        "\n",
        "**Problem Description:**\n",
        "Veerman Furniture Company makes three kinds of ofﬁce furniture: chairs, desks, and tables. Each product requires some labor in the parts fabrication department, the assembly department, and the shipping department. The furniture is sold through a regional distributor, who has estimated the maximum potential sales for each product in the coming quarter. Finally,the accounting department has provided some data showing the proﬁt contributions on each product.The decision problem isto determine the product mix—that is, to maximize Veerman’s proﬁt for the quarter by choosing production quantities for the chairs,desks,and tables.\n",
        "\n",
        "The following data summarizes the parameters of the problem:\n",
        "\n",
        "Department | Chairs | Desks | Tables | Hours Available\n",
        "--- | --- | --- | --- | ---\n",
        "Fabrication | 4 | 6 | 2 | 1,850\n",
        "Assembly | 3 | 5 | 7 | 2,400\n",
        "Shipping | 3 | 2 | 4 | 1,500\n",
        "--------------------------------------------------------------------------------\n",
        "Demand Potential | 360 | 300 | 100 |\n",
        "Profit (USD) | 15 | 24 | 18 |\n",
        "\n",
        "**Change the model so as to consider the fact that each product must encompass at least 25% of the total amount of furniture (i.e., number of items) made.** \n"
      ]
    },
    {
      "cell_type": "markdown",
      "metadata": {
        "id": "pOcTYFBlXN9T"
      },
      "source": [
        "**Define the Objective Function**\n",
        "\n",
        "$Profit = 15C + 24D + 18T$\n",
        "\n",
        "**Write the Constraints**\n",
        "\n",
        "$Max(Z) = 15C + 24D + 18T$\n",
        "\n",
        "subject to:\n",
        "* $4C + 6D + 2T <= 1,850$\n",
        "* $3C + 5D + 7T <= 2,400$\n",
        "* $3C + 2D + 4T <= 1,500$ \n",
        "* $C        <= 360$ \n",
        "* $D      <=300$ \n",
        "* $T <=10$\n",
        "\n",
        "new constraints:\n",
        "\n",
        "* $C >= 0.25(C + D + T)$\n",
        "* $D >= 0.25(C + D + T)$\n",
        "* $T >= 0.25(C + D + T)$\n"
      ]
    },
    {
      "cell_type": "code",
      "metadata": {
        "id": "8pVoxSA-Pvue"
      },
      "source": [
        "# declare the model\n",
        "model = ConcreteModel()\n",
        "\n",
        "# declare decision variables\n",
        "model.c = Var(domain=NonNegativeReals)\n",
        "model.d = Var(domain=NonNegativeReals)\n",
        "model.t = Var(domain=NonNegativeReals)\n",
        "\n",
        "# declare objective\n",
        "model.profit = Objective(\n",
        "                      expr = 15*model.c + 24*model.d + 18*model.t, # values come from the table\n",
        "                      sense = maximize)\n",
        "\n",
        "# declare constraints\n",
        "model.Constraint1 = Constraint(expr = 4*model.c + 6*model.d + 2*model.t <= 1850) # fabrication hours\n",
        "model.Constraint2 = Constraint(expr = 3*model.c + 5*model.d + 7*model.t <= 2400) # assembly hours\n",
        "model.Constraint3 = Constraint(expr = 3*model.c + 2*model.d + 4*model.t <= 1500) # shipping\n",
        "model.Constraint4 = Constraint(expr = model.c <= 360) # c demand\n",
        "model.Constraint5 = Constraint(expr = model.d <= 300) # d demand\n",
        "model.Constraint6 = Constraint(expr = model.t <= 100) # t demand\n",
        "model.Constraint7 = Constraint(expr = model.c >= 0.25*(model.c + model.d + model.t)) \n",
        "model.Constraint8 = Constraint(expr = model.d >= 0.25*(model.c + model.d + model.t)) \n",
        "model.Constraint9 = Constraint(expr = model.t >= 0.25*(model.c + model.d + model.t)) \n"
      ],
      "execution_count": null,
      "outputs": []
    },
    {
      "cell_type": "code",
      "metadata": {
        "id": "wEBftGG8Qaon",
        "colab": {
          "base_uri": "https://localhost:8080/",
          "height": 790
        },
        "outputId": "9671a081-fb3e-48a1-d30c-56f760100115"
      },
      "source": [
        "# show the model you've created\n",
        "model.pprint()"
      ],
      "execution_count": null,
      "outputs": [
        {
          "output_type": "stream",
          "text": [
            "3 Var Declarations\n",
            "    c : Size=1, Index=None\n",
            "        Key  : Lower : Value : Upper : Fixed : Stale : Domain\n",
            "        None :     0 :  None :  None : False :  True : NonNegativeReals\n",
            "    d : Size=1, Index=None\n",
            "        Key  : Lower : Value : Upper : Fixed : Stale : Domain\n",
            "        None :     0 :  None :  None : False :  True : NonNegativeReals\n",
            "    t : Size=1, Index=None\n",
            "        Key  : Lower : Value : Upper : Fixed : Stale : Domain\n",
            "        None :     0 :  None :  None : False :  True : NonNegativeReals\n",
            "\n",
            "1 Objective Declarations\n",
            "    profit : Size=1, Index=None, Active=True\n",
            "        Key  : Active : Sense    : Expression\n",
            "        None :   True : maximize : 15*c + 24*d + 18*t\n",
            "\n",
            "9 Constraint Declarations\n",
            "    Constraint1 : Size=1, Index=None, Active=True\n",
            "        Key  : Lower : Body            : Upper  : Active\n",
            "        None :  -Inf : 4*c + 6*d + 2*t : 1850.0 :   True\n",
            "    Constraint2 : Size=1, Index=None, Active=True\n",
            "        Key  : Lower : Body            : Upper  : Active\n",
            "        None :  -Inf : 3*c + 5*d + 7*t : 2400.0 :   True\n",
            "    Constraint3 : Size=1, Index=None, Active=True\n",
            "        Key  : Lower : Body            : Upper  : Active\n",
            "        None :  -Inf : 3*c + 2*d + 4*t : 1500.0 :   True\n",
            "    Constraint4 : Size=1, Index=None, Active=True\n",
            "        Key  : Lower : Body : Upper : Active\n",
            "        None :  -Inf :    c : 360.0 :   True\n",
            "    Constraint5 : Size=1, Index=None, Active=True\n",
            "        Key  : Lower : Body : Upper : Active\n",
            "        None :  -Inf :    d : 300.0 :   True\n",
            "    Constraint6 : Size=1, Index=None, Active=True\n",
            "        Key  : Lower : Body : Upper : Active\n",
            "        None :  -Inf :    t : 100.0 :   True\n",
            "    Constraint7 : Size=1, Index=None, Active=True\n",
            "        Key  : Lower : Body                 : Upper : Active\n",
            "        None :  -Inf : 0.25*(c + d + t) - c :   0.0 :   True\n",
            "    Constraint8 : Size=1, Index=None, Active=True\n",
            "        Key  : Lower : Body                 : Upper : Active\n",
            "        None :  -Inf : 0.25*(c + d + t) - d :   0.0 :   True\n",
            "    Constraint9 : Size=1, Index=None, Active=True\n",
            "        Key  : Lower : Body                 : Upper : Active\n",
            "        None :  -Inf : 0.25*(c + d + t) - t :   0.0 :   True\n",
            "\n",
            "13 Declarations: c d t profit Constraint1 Constraint2 Constraint3 Constraint4 Constraint5 Constraint6 Constraint7 Constraint8 Constraint9\n"
          ],
          "name": "stdout"
        }
      ]
    },
    {
      "cell_type": "code",
      "metadata": {
        "id": "fdVIS-KUQhxZ"
      },
      "source": [
        "# ensure you have cbc installed\n",
        "# !apt-get install -y -qq coinor-cbc"
      ],
      "execution_count": null,
      "outputs": []
    },
    {
      "cell_type": "code",
      "metadata": {
        "id": "r9jLvcwsR8y7",
        "colab": {
          "base_uri": "https://localhost:8080/",
          "height": 672
        },
        "outputId": "685f3918-8f45-4a59-ddc2-be20d0656fb1"
      },
      "source": [
        "# solve it\n",
        "SolverFactory('cbc', executable='/usr/bin/cbc').solve(model).write()"
      ],
      "execution_count": null,
      "outputs": [
        {
          "output_type": "stream",
          "text": [
            "# ==========================================================\n",
            "# = Solver Results                                         =\n",
            "# ==========================================================\n",
            "# ----------------------------------------------------------\n",
            "#   Problem Information\n",
            "# ----------------------------------------------------------\n",
            "Problem: \n",
            "- Name: unknown\n",
            "  Lower bound: 8100.0\n",
            "  Upper bound: 8100.0\n",
            "  Number of objectives: 1\n",
            "  Number of constraints: 10\n",
            "  Number of variables: 4\n",
            "  Number of nonzeros: 3\n",
            "  Sense: maximize\n",
            "# ----------------------------------------------------------\n",
            "#   Solver Information\n",
            "# ----------------------------------------------------------\n",
            "Solver: \n",
            "- Status: ok\n",
            "  User time: -1.0\n",
            "  System time: 0.0\n",
            "  Wallclock time: 0.0\n",
            "  Termination condition: optimal\n",
            "  Termination message: Model was solved to optimality (subject to tolerances), and an optimal solution is available.\n",
            "  Statistics: \n",
            "    Branch and bound: \n",
            "      Number of bounded subproblems: None\n",
            "      Number of created subproblems: None\n",
            "    Black box: \n",
            "      Number of iterations: 3\n",
            "  Error rc: 0\n",
            "  Time: 0.01506948471069336\n",
            "# ----------------------------------------------------------\n",
            "#   Solution Information\n",
            "# ----------------------------------------------------------\n",
            "Solution: \n",
            "- number of solutions: 0\n",
            "  number of solutions displayed: 0\n"
          ],
          "name": "stdout"
        }
      ]
    },
    {
      "cell_type": "code",
      "metadata": {
        "id": "f_TMcjKcRDF2",
        "colab": {
          "base_uri": "https://localhost:8080/",
          "height": 84
        },
        "outputId": "3b93fc0d-fa28-4085-e228-d1955dbe799e"
      },
      "source": [
        "# show the results\n",
        "print(\"Profit = \", model.profit(), \" per week\")\n",
        "print(\"Chairs = \", model.c(), \" units per week\")\n",
        "print(\"Desks = \", model.d(), \" units per week\")\n",
        "print(\"Tables = \", model.t(), \" units per week\")"
      ],
      "execution_count": null,
      "outputs": [
        {
          "output_type": "stream",
          "text": [
            "Profit =  8100.0  per week\n",
            "Chairs =  100.0  units per week\n",
            "Desks =  200.0  units per week\n",
            "Tables =  100.0  units per week\n"
          ],
          "name": "stdout"
        }
      ]
    }
  ]
}