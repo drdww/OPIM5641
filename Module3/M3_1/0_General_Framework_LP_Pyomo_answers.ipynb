{
  "nbformat": 4,
  "nbformat_minor": 0,
  "metadata": {
    "colab": {
      "name": "General Framework_LP_Pyomo_answers.ipynb",
      "provenance": [],
      "collapsed_sections": [],
      "toc_visible": true,
      "authorship_tag": "ABX9TyPyhyaTe2moP3OLjV/a1w4I",
      "include_colab_link": true
    },
    "kernelspec": {
      "name": "python3",
      "display_name": "Python 3"
    },
    "language_info": {
      "name": "python"
    }
  },
  "cells": [
    {
      "cell_type": "markdown",
      "metadata": {
        "id": "view-in-github",
        "colab_type": "text"
      },
      "source": [
        "<a href=\"https://colab.research.google.com/github/drdww/OPIM5641/blob/main/Module3/M3_1/General_Framework_LP_Pyomo_answers.ipynb\" target=\"_parent\"><img src=\"https://colab.research.google.com/assets/colab-badge.svg\" alt=\"Open In Colab\"/></a>"
      ]
    },
    {
      "cell_type": "markdown",
      "metadata": {
        "id": "YPcFJlqcAef-"
      },
      "source": [
        "# General Framework for LP models in Pyomo (answers)\n",
        "**OPIM 5641: Business Decision Modeling - Dept. of Operations and Information Management - University of Connecticut**\n",
        "\n",
        "-------------------------------\n",
        "The purpose of this script is to give you a general format for coding up LP models in Pyomo. If you can repeat the major elements in this script then you will be on your way toward optimization modeling greatness! Of course, we will use chairs, desks and tables here for our example."
      ]
    },
    {
      "cell_type": "markdown",
      "metadata": {
        "id": "hpHetm34P7Yk"
      },
      "source": [
        "# Sample Word Problem"
      ]
    },
    {
      "cell_type": "markdown",
      "metadata": {
        "id": "TYz3rywdPz7s"
      },
      "source": [
        "\n",
        "*Section 9.2 (Powell) - Chairs, Desks and Tables*\n",
        "\n",
        "**Problem Description:**\n",
        "Veerman Furniture Company makes three kinds of ofﬁce furniture: chairs, desks, and tables. Each product requires some labor in the parts fabrication department, the assembly department, and the shipping department. The furniture is sold through a regional distributor, who has estimated the maximum potential sales for each product in the coming quarter. Finally,the accounting department has provided some data showing the proﬁt contributions on each product.The decision problem isto determine the product mix—that is, to maximize Veerman’s proﬁt for the quarter by choosing production quantities for the chairs,desks,and tables.\n",
        "\n",
        "The following data summarizes the parameters of the problem:\n",
        "\n",
        "Department | Chairs | Desks | Tables | Hours Available\n",
        "--- | --- | --- | --- | ---\n",
        "Fabrication | 4 | 6 | 2 | 1,850\n",
        "Assembly | 3 | 5 | 7 | 2,400\n",
        "Shipping | 3 | 2 | 4 | 1,500\n",
        "--------------------------------------------------------------------------------\n",
        "Demand Potential | 360 | 300 | 100 |\n",
        "Profit (USD) | 15 | 24 | 18 |"
      ]
    },
    {
      "cell_type": "markdown",
      "metadata": {
        "id": "pOcTYFBlXN9T"
      },
      "source": [
        "**Define the Objective Function**\n",
        "\n",
        "$Profit = 15C + 24D + 18T$\n",
        "\n",
        "**Write the Constraints**\n",
        "\n",
        "$Max(Z) = 15C + 24D + 18T$\n",
        "\n",
        "subject to:\n",
        "* $4C + 6D + 2T <= 1,850$\n",
        "* $3C + 5D + 7T <= 2,400$\n",
        "* $3C + 2D + 4T <= 1,500$ \n",
        "* $C        <= 360$ \n",
        "* $D      <=300$ \n",
        "* $T <=100$\n",
        "\n",
        "Great! Now that your problem is defined - go code it up and solve it."
      ]
    },
    {
      "cell_type": "markdown",
      "metadata": {
        "id": "tc6lomflA-Z1"
      },
      "source": [
        "## Import modules (download Pyomo)\n",
        "You must do this everytime! During class, we may use different solvers depending on the type of optimization problem we are trying to solve. "
      ]
    },
    {
      "cell_type": "code",
      "metadata": {
        "id": "bgtGIi1MA-BN"
      },
      "source": [
        "# import modules\n",
        "\n",
        "# this makes beautiful plots using pylab (matplotlib)\n",
        "%matplotlib inline\n",
        "from pylab import * # * means import ALL NAME SPACES\n",
        "\n",
        "# useful modules for downloading pyomo onto Colab\n",
        "import shutil\n",
        "import sys\n",
        "import os.path\n",
        "\n",
        "# install pyomo if it doesn't exist\n",
        "if not shutil.which(\"pyomo\"):\n",
        "    !pip install -q pyomo\n",
        "    assert(shutil.which(\"pyomo\"))\n",
        "\n",
        "# install the 'cbc' solve if it doesn't exist\n",
        "if not (shutil.which(\"cbc\") or os.path.isfile(\"cbc\")):\n",
        "    if \"google.colab\" in sys.modules:\n",
        "        !apt-get install -y -qq coinor-cbc\n",
        "    else:\n",
        "        try:\n",
        "            !conda install -c conda-forge coincbc \n",
        "        except:\n",
        "            pass\n",
        "\n",
        "# make sure 'cbc' is the solver that we will invoke later on\n",
        "assert(shutil.which(\"cbc\") or os.path.isfile(\"cbc\"))\n",
        "\n",
        "# import ALL NAMESPACES (variables) from pyomo\n",
        "from pyomo.environ import *"
      ],
      "execution_count": null,
      "outputs": []
    },
    {
      "cell_type": "markdown",
      "metadata": {
        "id": "chKDFUgeBgOO"
      },
      "source": [
        "### A note about the asterisk...\n",
        "\n",
        "**Source:** https://stackoverflow.com/questions/2360724/what-exactly-does-import-import\n",
        "\n",
        "This practice (of importing * into the current namespace) is however discouraged because it\n",
        "\n",
        "* provides the opportunity for namespace collisions (say if you had a variable name pi prior to the import)\n",
        "* may be inefficient\n",
        "\n",
        "The alternative way to use `pyomo` is as follows (from p.3 in 'Pyomo - Optimization Modeling in Python (3rd Edition)'\n",
        "\n",
        "\n",
        "\n",
        "```\n",
        "import pyomo.environ as pyo\n",
        "\n",
        "model = pyo.ConcreteModel()\n",
        "model.x_1 = pyo.Var(within=pyo.NonNegativeReals)\n",
        "model.x_2 = pyo.Var(within=pyo.NonNegativeReals)\n",
        "model.obj = pyo.Objective(expr=model.x_1 + 2*model.x_2)\n",
        "model.con1 = pyo.Constraint(expr=3*model.x_1 + 4*model.x_2)\n",
        "model.con2 = pyo.Constraint(expr=2*model.x_1 + 5*model.x_2)\n",
        "```\n",
        "\n",
        "And so on... but honestly, I've never really had an issue with overwriting namespaces. But if you want to code like this for your homework, feel free. Not required.\n",
        "\n"
      ]
    },
    {
      "cell_type": "markdown",
      "metadata": {
        "id": "w5twQ7xVDFZt"
      },
      "source": [
        "# ConcreteModel()\n",
        "In our class, we will typically use the `ConcreteModel()` instead of `AbstractModel()` because it's easier to work with"
      ]
    },
    {
      "cell_type": "code",
      "metadata": {
        "id": "RwSHdna9AeCm"
      },
      "source": [
        "# you will always need to write this code\n",
        "model = ConcreteModel()"
      ],
      "execution_count": null,
      "outputs": []
    },
    {
      "cell_type": "markdown",
      "metadata": {
        "id": "0XzBjfgtEh4d"
      },
      "source": [
        "### A note about $\\LaTeX$ \n",
        "As a best practice, why not write our the formulas in LaTeX so it's easy for a layman to read your logic? :)"
      ]
    },
    {
      "cell_type": "markdown",
      "metadata": {
        "id": "iwh4AH6wDXo1"
      },
      "source": [
        "# Declare Decision Variables\n",
        "You get to name the variables and choose the domain of the decision variables. At this point, you could force an integer solution if you wanted to...\n",
        "\n",
        "* bounds = A function (or Python object) that gives a (lower,upper) bound pair for the variable\n",
        "* domain = A set that is a super-set of the values the variable can take on.\n",
        "* initialize = A function (or Python object) that gives a starting value for the variable; this is particularly important for non-linear models\n",
        "\n",
        "\n",
        "See here for more: https://pyomo.readthedocs.io/en/stable/pyomo_modeling_components/Variables.html"
      ]
    },
    {
      "cell_type": "code",
      "metadata": {
        "id": "wX9yHhzID2Ct"
      },
      "source": [
        "model.chairs = Var(domain=NonNegativeReals) # could try NonNegativeIntegers here too!\n",
        "model.desks = Var(domain=NonNegativeReals) # d for desks\n",
        "model.tables = Var(domain=NonNegativeReals) # t for tables"
      ],
      "execution_count": null,
      "outputs": []
    },
    {
      "cell_type": "markdown",
      "metadata": {
        "id": "R-fCJO76ELW9"
      },
      "source": [
        "#  Objective Function\n",
        "You can choose to `maximize` or `minimize` the objective function - remember, you can't do both! Given these are linear programs, no exponents, absolute value or square roots etc. allowed!\n",
        "\n",
        "See more here: https://pyomo.readthedocs.io/en/stable/pyomo_modeling_components/Objectives.html"
      ]
    },
    {
      "cell_type": "code",
      "metadata": {
        "id": "BnO9FTnUEOHZ"
      },
      "source": [
        "# declare objective\n",
        "model.profit = Objective(\n",
        "                      expr = 15*model.chairs + 24*model.desks + 18*model.tables, # values come from the table\n",
        "                      sense = maximize) \n"
      ],
      "execution_count": null,
      "outputs": []
    },
    {
      "cell_type": "markdown",
      "metadata": {
        "id": "iFvloE0HF8q1"
      },
      "source": [
        "You can name your objective function anything you want - you don't have to call it `model.profit`! You can generalize and call it `model.z` or `model.Obj`. "
      ]
    },
    {
      "cell_type": "markdown",
      "metadata": {
        "id": "wv182FAmEc3l"
      },
      "source": [
        "# Constraints\n",
        "You have the freedom to name your constraints ANYTHING you want! This approach works, but you can try renaming `model.Constraint1` to `model.FabricationConstraint` and try to run it, too.\n",
        "\n",
        "See more here: https://pyomo.readthedocs.io/en/stable/pyomo_modeling_components/Constraints.html"
      ]
    },
    {
      "cell_type": "code",
      "metadata": {
        "id": "JRYL5J8jEwRX"
      },
      "source": [
        "# write the constraints one by one, don't forget LHS vs. RHS\n",
        "# it's OK to have mixed constraints (LHS <= RHS vs. LHS >= RHS)!!!\n",
        "model.constraint1 = Constraint(expr = 4*model.chairs + 6*model.desks + 2*model.tables <= 1850) # fabrication hours\n",
        "model.constraint2 = Constraint(expr = 3*model.chairs + 5*model.desks + 7*model.tables <= 2400) # assembly hours\n",
        "model.constraint3 = Constraint(expr = 3*model.chairs + 2*model.desks + 4*model.tables <= 1500) # shipping\n",
        "model.constraint4 = Constraint(expr = model.chairs <= 360) # c demand\n",
        "model.constraint5 = Constraint(expr = model.desks <= 300) # d demand\n",
        "model.constraint6 = Constraint(expr = model.tables <= 100) # t demand"
      ],
      "execution_count": null,
      "outputs": []
    },
    {
      "cell_type": "markdown",
      "metadata": {
        "id": "aGeUVDp3jaBz"
      },
      "source": [
        "Note: you can name your constraints anything you want!"
      ]
    },
    {
      "cell_type": "markdown",
      "metadata": {
        "id": "DcpN3-i7E_S1"
      },
      "source": [
        "# [optional] Pretty Print (pprint)\n",
        "Optional, but you should probably run this to check your work! Especially if you get an error."
      ]
    },
    {
      "cell_type": "code",
      "metadata": {
        "colab": {
          "base_uri": "https://localhost:8080/"
        },
        "id": "viWO0nq0FCat",
        "outputId": "f54f3b94-0573-4508-e90e-93fffc70bb9f"
      },
      "source": [
        "# show the model you've created\n",
        "model.pprint()"
      ],
      "execution_count": null,
      "outputs": [
        {
          "output_type": "stream",
          "name": "stdout",
          "text": [
            "3 Var Declarations\n",
            "    chairs : Size=1, Index=None\n",
            "        Key  : Lower : Value : Upper : Fixed : Stale : Domain\n",
            "        None :     0 :  None :  None : False :  True : NonNegativeReals\n",
            "    desks : Size=1, Index=None\n",
            "        Key  : Lower : Value : Upper : Fixed : Stale : Domain\n",
            "        None :     0 :  None :  None : False :  True : NonNegativeReals\n",
            "    tables : Size=1, Index=None\n",
            "        Key  : Lower : Value : Upper : Fixed : Stale : Domain\n",
            "        None :     0 :  None :  None : False :  True : NonNegativeReals\n",
            "\n",
            "1 Objective Declarations\n",
            "    profit : Size=1, Index=None, Active=True\n",
            "        Key  : Active : Sense    : Expression\n",
            "        None :   True : maximize : 15*chairs + 24*desks + 18*tables\n",
            "\n",
            "6 Constraint Declarations\n",
            "    constraint1 : Size=1, Index=None, Active=True\n",
            "        Key  : Lower : Body                          : Upper  : Active\n",
            "        None :  -Inf : 4*chairs + 6*desks + 2*tables : 1850.0 :   True\n",
            "    constraint2 : Size=1, Index=None, Active=True\n",
            "        Key  : Lower : Body                          : Upper  : Active\n",
            "        None :  -Inf : 3*chairs + 5*desks + 7*tables : 2400.0 :   True\n",
            "    constraint3 : Size=1, Index=None, Active=True\n",
            "        Key  : Lower : Body                          : Upper  : Active\n",
            "        None :  -Inf : 3*chairs + 2*desks + 4*tables : 1500.0 :   True\n",
            "    constraint4 : Size=1, Index=None, Active=True\n",
            "        Key  : Lower : Body   : Upper : Active\n",
            "        None :  -Inf : chairs : 360.0 :   True\n",
            "    constraint5 : Size=1, Index=None, Active=True\n",
            "        Key  : Lower : Body  : Upper : Active\n",
            "        None :  -Inf : desks : 300.0 :   True\n",
            "    constraint6 : Size=1, Index=None, Active=True\n",
            "        Key  : Lower : Body   : Upper : Active\n",
            "        None :  -Inf : tables : 100.0 :   True\n",
            "\n",
            "10 Declarations: chairs desks tables profit constraint1 constraint2 constraint3 constraint4 constraint5 constraint6\n"
          ]
        }
      ]
    },
    {
      "cell_type": "markdown",
      "metadata": {
        "id": "wcFUnw-JFX8d"
      },
      "source": [
        "# Solve!\n",
        "Now the momennt of truth - two parts you need to pay attention to - the name of the solver (`cbc`) and the path to the solver (`executable='/usr/bin/cbc'` you specified this at the top of the script)."
      ]
    },
    {
      "cell_type": "code",
      "metadata": {
        "colab": {
          "base_uri": "https://localhost:8080/"
        },
        "id": "94JNRDQVFg81",
        "outputId": "c5bc4e49-4799-432a-bd95-5ba7bfbe6f74"
      },
      "source": [
        "#            solver          path the solver\n",
        "SolverFactory('cbc', executable='/usr/bin/cbc').solve(model).write()"
      ],
      "execution_count": null,
      "outputs": [
        {
          "output_type": "stream",
          "name": "stdout",
          "text": [
            "# ==========================================================\n",
            "# = Solver Results                                         =\n",
            "# ==========================================================\n",
            "# ----------------------------------------------------------\n",
            "#   Problem Information\n",
            "# ----------------------------------------------------------\n",
            "Problem: \n",
            "- Name: unknown\n",
            "  Lower bound: 8400.0\n",
            "  Upper bound: 8400.0\n",
            "  Number of objectives: 1\n",
            "  Number of constraints: 7\n",
            "  Number of variables: 4\n",
            "  Number of nonzeros: 3\n",
            "  Sense: maximize\n",
            "# ----------------------------------------------------------\n",
            "#   Solver Information\n",
            "# ----------------------------------------------------------\n",
            "Solver: \n",
            "- Status: ok\n",
            "  User time: -1.0\n",
            "  System time: 0.0\n",
            "  Wallclock time: 0.0\n",
            "  Termination condition: optimal\n",
            "  Termination message: Model was solved to optimality (subject to tolerances), and an optimal solution is available.\n",
            "  Statistics: \n",
            "    Branch and bound: \n",
            "      Number of bounded subproblems: None\n",
            "      Number of created subproblems: None\n",
            "    Black box: \n",
            "      Number of iterations: 1\n",
            "  Error rc: 0\n",
            "  Time: 0.014382600784301758\n",
            "# ----------------------------------------------------------\n",
            "#   Solution Information\n",
            "# ----------------------------------------------------------\n",
            "Solution: \n",
            "- number of solutions: 0\n",
            "  number of solutions displayed: 0\n"
          ]
        }
      ]
    },
    {
      "cell_type": "markdown",
      "metadata": {
        "id": "abL_gj0RFYBM"
      },
      "source": [
        "After you run the model, it will have a 'termination message' that reads `Termination message: Model was solved to optimality (subject to tolerances), and an optimal solution is available.`\n",
        "\n",
        "If it says this message, you solved! If it doesn't you probably have a bug in your code (invalid constraints, a typo in your objective function, etc.)"
      ]
    },
    {
      "cell_type": "markdown",
      "metadata": {
        "id": "0piBlZq5GGMM"
      },
      "source": [
        "# Inspect the Results"
      ]
    },
    {
      "cell_type": "markdown",
      "metadata": {
        "id": "WUpvyYT0GH60"
      },
      "source": [
        "## Objective Function\n",
        "This the optimal solution"
      ]
    },
    {
      "cell_type": "code",
      "metadata": {
        "colab": {
          "base_uri": "https://localhost:8080/"
        },
        "id": "y5jQcKHAk4z6",
        "outputId": "85279e33-abe9-4ad4-9790-f40944dfef41"
      },
      "source": [
        "model.profit # don't forget the round brackets!"
      ],
      "execution_count": null,
      "outputs": [
        {
          "output_type": "execute_result",
          "data": {
            "text/plain": [
              "<pyomo.core.base.objective.ScalarObjective at 0x7f2e6965bbf0>"
            ]
          },
          "metadata": {},
          "execution_count": 69
        }
      ]
    },
    {
      "cell_type": "code",
      "metadata": {
        "colab": {
          "base_uri": "https://localhost:8080/"
        },
        "id": "MpwlrSaQlCW0",
        "outputId": "f6b779fb-8480-4271-8510-e0ebad7137f2"
      },
      "source": [
        "model.profit() # this is better! with round brackets!"
      ],
      "execution_count": null,
      "outputs": [
        {
          "output_type": "execute_result",
          "data": {
            "text/plain": [
              "8400.0"
            ]
          },
          "metadata": {},
          "execution_count": 70
        }
      ]
    },
    {
      "cell_type": "code",
      "metadata": {
        "colab": {
          "base_uri": "https://localhost:8080/"
        },
        "id": "3BUKqkAtGNPe",
        "outputId": "5a12455f-4392-4c00-c007-811d7d5e0a4c"
      },
      "source": [
        "print(\"Profit = \", model.profit(), \" per week\")"
      ],
      "execution_count": null,
      "outputs": [
        {
          "output_type": "stream",
          "name": "stdout",
          "text": [
            "Profit =  8400.0  per week\n"
          ]
        }
      ]
    },
    {
      "cell_type": "markdown",
      "metadata": {
        "id": "qK7IR9xyGlx1"
      },
      "source": [
        "The use of the `print()` statments makes your output look nice - always do this!!!"
      ]
    },
    {
      "cell_type": "markdown",
      "metadata": {
        "id": "A2ylTXJ7GN_9"
      },
      "source": [
        "## Decision Variables\n",
        "Note how we need `()` after the variable - lots of students forget this and get a bug!"
      ]
    },
    {
      "cell_type": "code",
      "metadata": {
        "colab": {
          "base_uri": "https://localhost:8080/"
        },
        "id": "_orRRK40GUsd",
        "outputId": "ab7c9007-9f78-492b-d5c8-15618e9c818a"
      },
      "source": [
        "print(\"Chairs = \", model.chairs(), \" units per week\")\n",
        "print(\"Desks = \", model.desks(), \" units per week\")\n",
        "print(\"Tables = \", model.tables(), \" units per week\")"
      ],
      "execution_count": null,
      "outputs": [
        {
          "output_type": "stream",
          "name": "stdout",
          "text": [
            "Chairs =  0.0  units per week\n",
            "Desks =  275.0  units per week\n",
            "Tables =  100.0  units per week\n"
          ]
        }
      ]
    },
    {
      "cell_type": "markdown",
      "metadata": {
        "id": "0wXKOemdGVXd"
      },
      "source": [
        "## Constraints\n",
        "Again, don't forget `()` and look for any BINDING constraints where `LHS = RHS`."
      ]
    },
    {
      "cell_type": "code",
      "metadata": {
        "colab": {
          "base_uri": "https://localhost:8080/"
        },
        "id": "8-3C809jGdHt",
        "outputId": "58ff64cb-e007-4ec0-cda5-e02e9e0c0e54"
      },
      "source": [
        "print(\"Fabrication = \", model.constraint1(), \"hours\")\n",
        "print(\"Assembly = \", model.constraint2(), \"hours\")\n",
        "print(\"Shipping = \", model.constraint3(), \"hours\")\n",
        "print(\"Chairs = \", model.constraint4(), \" units per week\")\n",
        "print(\"Desks = \", model.constraint5(), \" units per week\")\n",
        "print(\"Tables = \", model.constraint6(), \" units per week\")"
      ],
      "execution_count": null,
      "outputs": [
        {
          "output_type": "stream",
          "name": "stdout",
          "text": [
            "Fabrication =  1850.0 hours\n",
            "Assembly =  2075.0 hours\n",
            "Shipping =  950.0 hours\n",
            "Chairs =  0.0  units per week\n",
            "Desks =  275.0  units per week\n",
            "Tables =  100.0  units per week\n"
          ]
        }
      ]
    },
    {
      "cell_type": "markdown",
      "metadata": {
        "id": "oA7fYRhgGd_9"
      },
      "source": [
        "# All done!\n",
        "Congrats! If you can repeat this (even just the bold headers), you are on your way to optimization modeling greatness. You may also choose to time your script or perform a sensitivty analysis on any binding constraints."
      ]
    }
  ]
}
