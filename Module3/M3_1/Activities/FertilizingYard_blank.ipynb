{
  "nbformat": 4,
  "nbformat_minor": 0,
  "metadata": {
    "colab": {
      "name": "M3.1_BDM_Wanik",
      "provenance": [],
      "collapsed_sections": [],
      "include_colab_link": true
    },
    "kernelspec": {
      "name": "python3",
      "display_name": "Python 3"
    }
  },
  "cells": [
    {
      "cell_type": "markdown",
      "metadata": {
        "id": "view-in-github",
        "colab_type": "text"
      },
      "source": [
        "<a href=\"https://colab.research.google.com/github/drdww/OPIM5641/blob/main/Module3/M3_1/Activities/FertilizingYard_blank.ipynb\" target=\"_parent\"><img src=\"https://colab.research.google.com/assets/colab-badge.svg\" alt=\"Open In Colab\"/></a>"
      ]
    },
    {
      "cell_type": "markdown",
      "metadata": {
        "id": "RqUspUIgbPpN"
      },
      "source": [
        "# Assignment 3.1: Fertilizing the Lawn\n",
        "**OPIM 5641: Business Decision Modeling - University of Connecticut**\n",
        "\n",
        "* Your Name Here\n",
        "* Your NetID Here\n",
        "\n",
        "--------------------------------------------------------------------------\n",
        "\n",
        "You may work with your fellow classmates, but you need to complete the assignment on your own. I expect different headers and COMMENTS (comments are the key to showing that you really know your stuff - without comments, your code is useless to me and we will deduct at least 50% points). Good luck!"
      ]
    },
    {
      "cell_type": "markdown",
      "metadata": {
        "id": "1SlnYk_-bWpX"
      },
      "source": [
        "**[Powell 9.2 - Fertilizing the Lawn]** The facilities manager at Oxbridge University is planning to apply fertilizer to the grass in the quadrangle area in the spring. The grass needs nitrogen, phosphorus, and potash in at least the amounts given in the following table:\n",
        "\n",
        "Mineral Minimum| Weight(lb)\n",
        "---|---\n",
        "Nitrogen| 12\n",
        "Phosphorus| 14 \n",
        "Potash | 18\n",
        "\n",
        "Three kinds of commercial fertilizer are available, with mineral content and prices per 1,000 pounds as given in the followingtable.There is virtually unlimited supply of each kind of fertilizer.\n",
        "\n",
        "\n",
        "Fertilizer | Nitrogen Content (lb)| Phosphorus Content (lb)| Potash  Content (lb)| Price($)\n",
        "---|---|---|---|---\n",
        "A |20| 10| 5| 10\n",
        "B |10| 5| 15| 8 \n",
        "C |15| 10| 5| 7\n",
        "\n",
        "\n",
        "1. (50 pts) How much of each fertilizer should be purchased to satisfy the requirements at minimum cost?\n",
        "\n",
        "  * **Answer** (so you can check your work): A = 0 lbs, B = 880 lbs, C = 960 lbs.\n",
        "\n",
        "2. (40 pts) What are the LHS values for the Nitrogren, Phosphorous and Potash constraints? What are the RHS values? Extract these using Pyomo (does not require writing to Google Drive - like Dr. Dave and Dr. Carlos both do in their videos).\n",
        "\n",
        "3. (10 pts) Are any of the constraints 'binding'? Describe which constraints are binding (if any), and as your boss, tell me why binding constraints might be the key to saving even more money."
      ]
    },
    {
      "cell_type": "code",
      "metadata": {
        "id": "Wez_pFg0bMid"
      },
      "source": [
        "# good luck! Please add nice headers so it's easy to grade with lots of comments."
      ],
      "execution_count": null,
      "outputs": []
    }
  ]
}