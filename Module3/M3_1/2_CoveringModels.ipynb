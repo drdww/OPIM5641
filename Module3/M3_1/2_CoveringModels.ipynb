{
  "nbformat": 4,
  "nbformat_minor": 0,
  "metadata": {
    "colab": {
      "name": "CoveringModels.ipynb",
      "provenance": [],
      "collapsed_sections": [],
      "toc_visible": true,
      "include_colab_link": true
    },
    "kernelspec": {
      "name": "python3",
      "display_name": "Python 3"
    }
  },
  "cells": [
    {
      "cell_type": "markdown",
      "metadata": {
        "id": "view-in-github",
        "colab_type": "text"
      },
      "source": [
        "<a href=\"https://colab.research.google.com/github/drdww/OPIM5641/blob/main/Module3/M3_1/CoveringModels.ipynb\" target=\"_parent\"><img src=\"https://colab.research.google.com/assets/colab-badge.svg\" alt=\"Open In Colab\"/></a>"
      ]
    },
    {
      "cell_type": "markdown",
      "metadata": {
        "id": "GPVPGshG5qFh"
      },
      "source": [
        "# Linear Programming: Covering Models\n",
        "**OPIM 5641: Business Decision Modeling - Dept. of Operations and Information Management - University of Connecticut**\n",
        "\n",
        "----------------------------------\n",
        "\n",
        "Related Readings:\n",
        "* `Pyomo Cookbook`: https://github.com/jckantor/ND-Pyomo-Cookbook/blob/master/notebooks/02.01-Production-Models-with-Linear-Constraints.ipynb\n",
        "* `Powell`: Chapter 9 (Linear Optimization)\n",
        "\n",
        "## Background\n",
        "The covering model calls for minimizing an objective (usually cost) subject to greater-than constraints on required coverage"
      ]
    },
    {
      "cell_type": "code",
      "metadata": {
        "id": "HhhMWH82kjfN"
      },
      "source": [
        "# import modules\n",
        "\n",
        "%matplotlib inline\n",
        "from pylab import *\n",
        "\n",
        "import shutil\n",
        "import sys\n",
        "import os.path\n",
        "\n",
        "if not shutil.which(\"pyomo\"):\n",
        "    !pip install -q pyomo\n",
        "    assert(shutil.which(\"pyomo\"))\n",
        "\n",
        "if not (shutil.which(\"cbc\") or os.path.isfile(\"cbc\")):\n",
        "    if \"google.colab\" in sys.modules:\n",
        "        !apt-get install -y -qq coinor-cbc\n",
        "    else:\n",
        "        try:\n",
        "            !conda install -c conda-forge coincbc \n",
        "        except:\n",
        "            pass\n",
        "\n",
        "assert(shutil.which(\"cbc\") or os.path.isfile(\"cbc\"))\n",
        "\n",
        "from pyomo.environ import *"
      ],
      "execution_count": null,
      "outputs": []
    },
    {
      "cell_type": "markdown",
      "metadata": {
        "id": "99O7ROMN5_Gv"
      },
      "source": [
        "# Example: Trail Mix\n",
        "*Section 9.3 (Powell) - Trail Mix*\n",
        "\n",
        "**Problem Description:**\n",
        "Dahlby Outﬁtters wishes to introduce packaged trail mix as a new product. The ingredients for the trail mix are seeds,raisins, ﬂakes, and two kinds of nuts. Each ingredient contains certain amounts of vitamins, minerals, protein,and calories. The marketing department has speciﬁed that the product be designed so that a certain minimum nutritional proﬁle is met. The decision problem is to determine the optimal product composition — that is, to minimize the product cost by choosing the amount for each of the ingredients in the mix. The following data summarizes the parameters of the problem:\n",
        "\n",
        "\n",
        "The following data summarizes the parameters of the problem:\n",
        "\n",
        "Component | Seeds | Raisins | Flakes | Pecans | Walnuts |Nutritional Requirement\n",
        "--- | --- | --- | --- | --- | ---| ---\n",
        "Vitamins | 10 | 20 | 10 | 30 | 20| 16\n",
        "Minerals | 5 | 7 | 4 | 9 | 2 | 10\n",
        "Protein | 1 | 4 | 10 | 2 | 1 | 15\n",
        "Calories | 500 | 450 | 160 | 300 | 500 | 600\n",
        "---\n",
        "Cost/pound (USD) | 4 | 5 | 3 | 7 | 6\n",
        "\n",
        "**Update (Oct 1, 2020):** this table used to say vitamins $\\leq$ 20, it has now been updated to '16', which is correct in the constraints and code below."
      ]
    },
    {
      "cell_type": "markdown",
      "metadata": {
        "id": "JIFNkvwx7fKG"
      },
      "source": [
        "**Define the Objective Function**\n",
        "\n",
        "$Cost = 4S + 5R + 3F + 7P + 6W$\n",
        "\n",
        "**Write the Constraints**\n",
        "\n",
        "$Min(Z) = 4S + 5R + 3F + 7P + 6W$\n",
        "\n",
        "subject to:\n",
        "* $10S + 20R + 10F + 30P + 20W >= 16$ `vitamins`\n",
        "* $5S + 7R + 4F + 9P + 2W >= 10$ `minerals`\n",
        "* $1S + 4R + 10F + 2P + 1W >= 15$  `protein`\n",
        "* $500S + 450R + 160F + 300P + 500W >= 600$ `calories`\n",
        "* $S, R, F, P, W >= 0$ `non-negativity`\n",
        "\n",
        "\n",
        "Great! Now that your problem is defined - go code it up and solve it."
      ]
    },
    {
      "cell_type": "code",
      "metadata": {
        "id": "dmNwSAdn7ekD"
      },
      "source": [
        "# declare the model\n",
        "model = ConcreteModel()\n",
        "\n",
        "# declare decision variables\n",
        "model.s = Var(domain=NonNegativeReals) # s for seeds\n",
        "model.r = Var(domain=NonNegativeReals) # r for raisin\n",
        "model.f = Var(domain=NonNegativeReals) # flakes\n",
        "model.p = Var(domain=NonNegativeReals) # pecans\n",
        "model.w = Var(domain=NonNegativeReals) # walnuts\n",
        "\n",
        "# declare objective\n",
        "model.cost = Objective(\n",
        "                      expr = 4*model.s + 5*model.r + 3*model.f + 7*model.p + 6*model.w, # values come from the table\n",
        "                      sense = minimize)\n",
        "\n",
        "# declare constraints\n",
        "model.Constraint1 = Constraint(expr = 10*model.s + 20*model.r + 10*model.f + 30*model.p + 10*model.w >= 16) # vitamins\n",
        "model.Constraint2 = Constraint(expr = 5*model.s + 7*model.r + 4*model.f + 9*model.p + 2*model.w >= 10) # minerals\n",
        "model.Constraint3 = Constraint(expr = 1*model.s + 4*model.r + 10*model.f + 2*model.p + 1*model.w >= 15) # protein\n",
        "model.Constraint4 = Constraint(expr = 500*model.s + 450*model.r + 160*model.f + 300*model.p + 500*model.w >= 600) # calories"
      ],
      "execution_count": null,
      "outputs": []
    },
    {
      "cell_type": "code",
      "metadata": {
        "id": "-KYGcpRW-lQb",
        "colab": {
          "base_uri": "https://localhost:8080/"
        },
        "outputId": "f455a8d7-661e-45f8-93de-a058df0b8bb7"
      },
      "source": [
        "# show the model you've created\n",
        "model.pprint()"
      ],
      "execution_count": null,
      "outputs": [
        {
          "output_type": "stream",
          "name": "stdout",
          "text": [
            "5 Var Declarations\n",
            "    f : Size=1, Index=None\n",
            "        Key  : Lower : Value : Upper : Fixed : Stale : Domain\n",
            "        None :     0 :  None :  None : False :  True : NonNegativeReals\n",
            "    p : Size=1, Index=None\n",
            "        Key  : Lower : Value : Upper : Fixed : Stale : Domain\n",
            "        None :     0 :  None :  None : False :  True : NonNegativeReals\n",
            "    r : Size=1, Index=None\n",
            "        Key  : Lower : Value : Upper : Fixed : Stale : Domain\n",
            "        None :     0 :  None :  None : False :  True : NonNegativeReals\n",
            "    s : Size=1, Index=None\n",
            "        Key  : Lower : Value : Upper : Fixed : Stale : Domain\n",
            "        None :     0 :  None :  None : False :  True : NonNegativeReals\n",
            "    w : Size=1, Index=None\n",
            "        Key  : Lower : Value : Upper : Fixed : Stale : Domain\n",
            "        None :     0 :  None :  None : False :  True : NonNegativeReals\n",
            "\n",
            "1 Objective Declarations\n",
            "    cost : Size=1, Index=None, Active=True\n",
            "        Key  : Active : Sense    : Expression\n",
            "        None :   True : minimize : 4*s + 5*r + 3*f + 7*p + 6*w\n",
            "\n",
            "4 Constraint Declarations\n",
            "    Constraint1 : Size=1, Index=None, Active=True\n",
            "        Key  : Lower : Body                             : Upper : Active\n",
            "        None :  16.0 : 10*s + 20*r + 10*f + 30*p + 10*w :  +Inf :   True\n",
            "    Constraint2 : Size=1, Index=None, Active=True\n",
            "        Key  : Lower : Body                        : Upper : Active\n",
            "        None :  10.0 : 5*s + 7*r + 4*f + 9*p + 2*w :  +Inf :   True\n",
            "    Constraint3 : Size=1, Index=None, Active=True\n",
            "        Key  : Lower : Body                     : Upper : Active\n",
            "        None :  15.0 : s + 4*r + 10*f + 2*p + w :  +Inf :   True\n",
            "    Constraint4 : Size=1, Index=None, Active=True\n",
            "        Key  : Lower : Body                                  : Upper : Active\n",
            "        None : 600.0 : 500*s + 450*r + 160*f + 300*p + 500*w :  +Inf :   True\n",
            "\n",
            "10 Declarations: s r f p w cost Constraint1 Constraint2 Constraint3 Constraint4\n"
          ]
        }
      ]
    },
    {
      "cell_type": "code",
      "metadata": {
        "id": "18yf8-Vc-oYM",
        "colab": {
          "base_uri": "https://localhost:8080/"
        },
        "outputId": "3b8df07d-5715-4fce-cef3-75c4633ed942"
      },
      "source": [
        "# solve it\n",
        "SolverFactory('cbc', executable='/usr/bin/cbc').solve(model).write()"
      ],
      "execution_count": null,
      "outputs": [
        {
          "output_type": "stream",
          "name": "stdout",
          "text": [
            "# ==========================================================\n",
            "# = Solver Results                                         =\n",
            "# ==========================================================\n",
            "# ----------------------------------------------------------\n",
            "#   Problem Information\n",
            "# ----------------------------------------------------------\n",
            "Problem: \n",
            "- Name: unknown\n",
            "  Lower bound: 7.535799523\n",
            "  Upper bound: 7.535799523\n",
            "  Number of objectives: 1\n",
            "  Number of constraints: 5\n",
            "  Number of variables: 6\n",
            "  Number of nonzeros: 5\n",
            "  Sense: minimize\n",
            "# ----------------------------------------------------------\n",
            "#   Solver Information\n",
            "# ----------------------------------------------------------\n",
            "Solver: \n",
            "- Status: ok\n",
            "  User time: -1.0\n",
            "  System time: 0.0\n",
            "  Wallclock time: 0.0\n",
            "  Termination condition: optimal\n",
            "  Termination message: Model was solved to optimality (subject to tolerances), and an optimal solution is available.\n",
            "  Statistics: \n",
            "    Branch and bound: \n",
            "      Number of bounded subproblems: None\n",
            "      Number of created subproblems: None\n",
            "    Black box: \n",
            "      Number of iterations: 3\n",
            "  Error rc: 0\n",
            "  Time: 0.03798389434814453\n",
            "# ----------------------------------------------------------\n",
            "#   Solution Information\n",
            "# ----------------------------------------------------------\n",
            "Solution: \n",
            "- number of solutions: 0\n",
            "  number of solutions displayed: 0\n"
          ]
        }
      ]
    },
    {
      "cell_type": "code",
      "metadata": {
        "id": "L7OFTEEW-qtH",
        "colab": {
          "base_uri": "https://localhost:8080/"
        },
        "outputId": "1381a449-6701-4e5a-9cc7-a6be85364111"
      },
      "source": [
        "# show the results\n",
        "print(\"Cost = \", model.cost(), ' USD')\n",
        "print(\"Seeds = \", model.s(), ' pounds')\n",
        "print(\"Raisins = \", model.r(), ' pounds')\n",
        "print(\"Flakes = \", model.f(), ' pounds')\n",
        "print(\"Pecans = \", model.p(), ' pounds')\n",
        "print(\"Walnuts = \", model.w(), ' pounds')"
      ],
      "execution_count": null,
      "outputs": [
        {
          "output_type": "stream",
          "name": "stdout",
          "text": [
            "Cost =  7.53579968  USD\n",
            "Seeds =  0.47732697  pounds\n",
            "Raisins =  0.33412888  pounds\n",
            "Flakes =  1.3186158  pounds\n",
            "Pecans =  0.0  pounds\n",
            "Walnuts =  0.0  pounds\n"
          ]
        }
      ]
    },
    {
      "cell_type": "markdown",
      "metadata": {
        "id": "VU9O2bedMYOx"
      },
      "source": [
        "# Yuck! Add a lower bound and re-run"
      ]
    },
    {
      "cell_type": "markdown",
      "metadata": {
        "id": "BKOxGCXv_R89"
      },
      "source": [
        "Yuck! That might meet nutritional standards, but it looks quite yucky (can you have trail mix without any nuts in it?!) We can add more constrains so that there's at least 0.1 pounds of each."
      ]
    },
    {
      "cell_type": "code",
      "metadata": {
        "id": "NGagObvW_kkL",
        "colab": {
          "base_uri": "https://localhost:8080/"
        },
        "outputId": "e02422cf-464f-4a4e-f950-2514204ee00f"
      },
      "source": [
        "# declare the model\n",
        "model = ConcreteModel()\n",
        "\n",
        "# declare decision variables\n",
        "model.s = Var(domain=NonNegativeReals)\n",
        "model.r = Var(domain=NonNegativeReals)\n",
        "model.f = Var(domain=NonNegativeReals) \n",
        "model.p = Var(domain=NonNegativeReals)\n",
        "model.w = Var(domain=NonNegativeReals) # bounds=(0.15,Inf))\n",
        "\n",
        "# declare objective\n",
        "model.cost = Objective(\n",
        "                      expr = 4*model.s + 5*model.r + 3*model.f + 7*model.p + 6*model.w, # values come from the table\n",
        "                      sense = minimize)\n",
        "\n",
        "# declare constraints\n",
        "model.Constraint1 = Constraint(expr = 10*model.s + 20*model.r + 10*model.f + 30*model.p + 10*model.w >= 16) # vitamins\n",
        "model.Constraint2 = Constraint(expr = 5*model.s + 7*model.r + 4*model.f + 9*model.p + 2*model.w >= 10) # minerals\n",
        "model.Constraint3 = Constraint(expr = 1*model.s + 4*model.r + 10*model.f + 2*model.p + 1*model.w >= 15) # protein\n",
        "model.Constraint4 = Constraint(expr = 500*model.s + 450*model.r + 160*model.f + 300*model.p + 500*model.w >= 600) # calories\n",
        "model.Constraint5 = Constraint(expr = 1*model.s >= 0.15) # some seeds (at least 0.15 pounds of seeds)\n",
        "model.Constraint6 = Constraint(expr = 1*model.r >= 0.15) # some raisins\n",
        "model.Constraint7 = Constraint(expr = 1*model.f >= 0.15) # some flakes\n",
        "model.Constraint8 = Constraint(expr = 1*model.p >= 0.15) # some flakes\n",
        "model.Constraint9 = Constraint(expr = 1*model.w >= 0.15) # some walnuts\n",
        "\n",
        "# show the model you've created\n",
        "model.pprint()"
      ],
      "execution_count": null,
      "outputs": [
        {
          "output_type": "stream",
          "name": "stdout",
          "text": [
            "5 Var Declarations\n",
            "    f : Size=1, Index=None\n",
            "        Key  : Lower : Value : Upper : Fixed : Stale : Domain\n",
            "        None :  0.15 :  None :   inf : False :  True : NonNegativeReals\n",
            "    p : Size=1, Index=None\n",
            "        Key  : Lower : Value : Upper : Fixed : Stale : Domain\n",
            "        None :  0.15 :  None :   inf : False :  True : NonNegativeReals\n",
            "    r : Size=1, Index=None\n",
            "        Key  : Lower : Value : Upper : Fixed : Stale : Domain\n",
            "        None :  0.15 :  None :   inf : False :  True : NonNegativeReals\n",
            "    s : Size=1, Index=None\n",
            "        Key  : Lower : Value : Upper : Fixed : Stale : Domain\n",
            "        None :  0.15 :  None :   inf : False :  True : NonNegativeReals\n",
            "    w : Size=1, Index=None\n",
            "        Key  : Lower : Value : Upper : Fixed : Stale : Domain\n",
            "        None :  0.15 :  None :   inf : False :  True : NonNegativeReals\n",
            "\n",
            "1 Objective Declarations\n",
            "    cost : Size=1, Index=None, Active=True\n",
            "        Key  : Active : Sense    : Expression\n",
            "        None :   True : minimize : 4*s + 5*r + 3*f + 7*p + 6*w\n",
            "\n",
            "4 Constraint Declarations\n",
            "    Constraint1 : Size=1, Index=None, Active=True\n",
            "        Key  : Lower : Body                             : Upper : Active\n",
            "        None :  16.0 : 10*s + 20*r + 10*f + 30*p + 10*w :  +Inf :   True\n",
            "    Constraint2 : Size=1, Index=None, Active=True\n",
            "        Key  : Lower : Body                        : Upper : Active\n",
            "        None :  10.0 : 5*s + 7*r + 4*f + 9*p + 2*w :  +Inf :   True\n",
            "    Constraint3 : Size=1, Index=None, Active=True\n",
            "        Key  : Lower : Body                     : Upper : Active\n",
            "        None :  15.0 : s + 4*r + 10*f + 2*p + w :  +Inf :   True\n",
            "    Constraint4 : Size=1, Index=None, Active=True\n",
            "        Key  : Lower : Body                                  : Upper : Active\n",
            "        None : 600.0 : 500*s + 450*r + 160*f + 300*p + 500*w :  +Inf :   True\n",
            "\n",
            "10 Declarations: s r f p w cost Constraint1 Constraint2 Constraint3 Constraint4\n"
          ]
        }
      ]
    },
    {
      "cell_type": "code",
      "metadata": {
        "id": "dubMX4m0_8fh",
        "colab": {
          "base_uri": "https://localhost:8080/"
        },
        "outputId": "37a93d5f-5ee7-4916-ffe2-8d9234ebb33f"
      },
      "source": [
        "# solve it\n",
        "SolverFactory('cbc', executable='/usr/bin/cbc').solve(model).write()"
      ],
      "execution_count": null,
      "outputs": [
        {
          "output_type": "stream",
          "name": "stdout",
          "text": [
            "# ==========================================================\n",
            "# = Solver Results                                         =\n",
            "# ==========================================================\n",
            "# ----------------------------------------------------------\n",
            "#   Problem Information\n",
            "# ----------------------------------------------------------\n",
            "Problem: \n",
            "- Name: unknown\n",
            "  Lower bound: 8.332128099\n",
            "  Upper bound: 8.332128099\n",
            "  Number of objectives: 1\n",
            "  Number of constraints: 5\n",
            "  Number of variables: 6\n",
            "  Number of nonzeros: 5\n",
            "  Sense: minimize\n",
            "# ----------------------------------------------------------\n",
            "#   Solver Information\n",
            "# ----------------------------------------------------------\n",
            "Solver: \n",
            "- Status: ok\n",
            "  User time: -1.0\n",
            "  System time: 0.0\n",
            "  Wallclock time: 0.0\n",
            "  Termination condition: optimal\n",
            "  Termination message: Model was solved to optimality (subject to tolerances), and an optimal solution is available.\n",
            "  Statistics: \n",
            "    Branch and bound: \n",
            "      Number of bounded subproblems: None\n",
            "      Number of created subproblems: None\n",
            "    Black box: \n",
            "      Number of iterations: 2\n",
            "  Error rc: 0\n",
            "  Time: 0.024792909622192383\n",
            "# ----------------------------------------------------------\n",
            "#   Solution Information\n",
            "# ----------------------------------------------------------\n",
            "Solution: \n",
            "- number of solutions: 0\n",
            "  number of solutions displayed: 0\n"
          ]
        }
      ]
    },
    {
      "cell_type": "code",
      "metadata": {
        "id": "yx7BzrHj_9Gt",
        "colab": {
          "base_uri": "https://localhost:8080/"
        },
        "outputId": "192d33e5-dd52-4ca2-8d67-7d204e288a07"
      },
      "source": [
        "# show the results\n",
        "print(\"Cost = \", model.cost(), ' USD')\n",
        "print(\"Seeds = \", model.s(), ' pounds')\n",
        "print(\"Raisins = \", model.r(), ' pounds')\n",
        "print(\"Flakes = \", model.f(), ' pounds')\n",
        "print(\"Pecans = \", model.p(), ' pounds')\n",
        "print(\"Walnuts = \", model.w(), ' pounds')"
      ],
      "execution_count": null,
      "outputs": [
        {
          "output_type": "stream",
          "name": "stdout",
          "text": [
            "Cost =  8.332128  USD\n",
            "Seeds =  0.3911157  pounds\n",
            "Raisins =  0.15  pounds\n",
            "Flakes =  1.3558884  pounds\n",
            "Pecans =  0.15  pounds\n",
            "Walnuts =  0.15  pounds\n"
          ]
        }
      ]
    },
    {
      "cell_type": "markdown",
      "metadata": {
        "id": "UNG_otOg_3sJ"
      },
      "source": [
        "Much better! A little more expensive, but def more yummy. Tell marketing you have a product worth selling now!"
      ]
    },
    {
      "cell_type": "code",
      "metadata": {
        "id": "s19m9idsCC4W",
        "colab": {
          "base_uri": "https://localhost:8080/"
        },
        "outputId": "92f01d83-586d-406e-a28d-e122082a66c3"
      },
      "source": [
        "# can we show how the constraints were satisfied?\n",
        "print(\"Vitamin Content: \", model.Constraint1())\n",
        "print(\"Minerals Content: \",model.Constraint2())\n",
        "print(\"Protein Content: \",model.Constraint3())\n",
        "print(\"Calories Content: \",model.Constraint4())"
      ],
      "execution_count": null,
      "outputs": [
        {
          "output_type": "stream",
          "name": "stdout",
          "text": [
            "Vitamin Content:  24.6420053\n",
            "Minerals Content:  10.00000021\n",
            "Protein Content:  15.00000049\n",
            "Calories Content:  600.000009\n"
          ]
        }
      ]
    },
    {
      "cell_type": "markdown",
      "metadata": {
        "id": "YwBHAxtMGUqA"
      },
      "source": [
        "# Analysis of Output\n",
        "Dig a little deeper - show much of each ingredient you are using (proportion, not raw numbers)."
      ]
    },
    {
      "cell_type": "code",
      "metadata": {
        "id": "f-grFmfrC5J_",
        "colab": {
          "base_uri": "https://localhost:8080/",
          "height": 441
        },
        "outputId": "a57981fd-8361-4186-afd0-a2207e4db355"
      },
      "source": [
        "# do we need to show binding constraints here? easier way to do this?\n",
        "print(\"Vitamin Constraint: \", model.Constraint1())\n",
        "print(\"Minerals Constraint: \",model.Constraint2())\n",
        "print(\"Protein Constraint: \",model.Constraint3())\n",
        "print(\"Calories Constraint: \",model.Constraint4())\n",
        "# print(\"Seeds Supply Constraint:\", model.Constraint5(),' pounds')\n",
        "# print(\"Raisins Supply Constraint:\", model.Constraint6(),' pounds')\n",
        "# print(\"Flakes Supply Constraint:\", model.Constraint7(),' pounds')\n",
        "# print(\"Pecans Supply Constraint:\", model.Constraint8(),' pounds')\n",
        "# print(\"Walnuts Supply Constraint:\", model.Constraint9(),' pounds')"
      ],
      "execution_count": null,
      "outputs": [
        {
          "output_type": "stream",
          "name": "stdout",
          "text": [
            "Vitamin Constraint:  24.6420053\n",
            "Minerals Constraint:  10.00000021\n",
            "Protein Constraint:  15.00000049\n",
            "Calories Constraint:  600.000009\n"
          ]
        },
        {
          "output_type": "error",
          "ename": "AttributeError",
          "evalue": "ignored",
          "traceback": [
            "\u001b[0;31m---------------------------------------------------------------------------\u001b[0m",
            "\u001b[0;31mAttributeError\u001b[0m                            Traceback (most recent call last)",
            "\u001b[0;32m<ipython-input-21-ef114a4f6b10>\u001b[0m in \u001b[0;36m<module>\u001b[0;34m()\u001b[0m\n\u001b[1;32m      4\u001b[0m \u001b[0mprint\u001b[0m\u001b[0;34m(\u001b[0m\u001b[0;34m\"Protein Constraint: \"\u001b[0m\u001b[0;34m,\u001b[0m\u001b[0mmodel\u001b[0m\u001b[0;34m.\u001b[0m\u001b[0mConstraint3\u001b[0m\u001b[0;34m(\u001b[0m\u001b[0;34m)\u001b[0m\u001b[0;34m)\u001b[0m\u001b[0;34m\u001b[0m\u001b[0;34m\u001b[0m\u001b[0m\n\u001b[1;32m      5\u001b[0m \u001b[0mprint\u001b[0m\u001b[0;34m(\u001b[0m\u001b[0;34m\"Calories Constraint: \"\u001b[0m\u001b[0;34m,\u001b[0m\u001b[0mmodel\u001b[0m\u001b[0;34m.\u001b[0m\u001b[0mConstraint4\u001b[0m\u001b[0;34m(\u001b[0m\u001b[0;34m)\u001b[0m\u001b[0;34m)\u001b[0m\u001b[0;34m\u001b[0m\u001b[0;34m\u001b[0m\u001b[0m\n\u001b[0;32m----> 6\u001b[0;31m \u001b[0mprint\u001b[0m\u001b[0;34m(\u001b[0m\u001b[0;34m\"Seeds Supply Constraint:\"\u001b[0m\u001b[0;34m,\u001b[0m \u001b[0mmodel\u001b[0m\u001b[0;34m.\u001b[0m\u001b[0mConstraint5\u001b[0m\u001b[0;34m(\u001b[0m\u001b[0;34m)\u001b[0m\u001b[0;34m,\u001b[0m\u001b[0;34m' pounds'\u001b[0m\u001b[0;34m)\u001b[0m\u001b[0;34m\u001b[0m\u001b[0;34m\u001b[0m\u001b[0m\n\u001b[0m\u001b[1;32m      7\u001b[0m \u001b[0mprint\u001b[0m\u001b[0;34m(\u001b[0m\u001b[0;34m\"Raisins Supply Constraint:\"\u001b[0m\u001b[0;34m,\u001b[0m \u001b[0mmodel\u001b[0m\u001b[0;34m.\u001b[0m\u001b[0mConstraint6\u001b[0m\u001b[0;34m(\u001b[0m\u001b[0;34m)\u001b[0m\u001b[0;34m,\u001b[0m\u001b[0;34m' pounds'\u001b[0m\u001b[0;34m)\u001b[0m\u001b[0;34m\u001b[0m\u001b[0;34m\u001b[0m\u001b[0m\n\u001b[1;32m      8\u001b[0m \u001b[0mprint\u001b[0m\u001b[0;34m(\u001b[0m\u001b[0;34m\"Flakes Supply Constraint:\"\u001b[0m\u001b[0;34m,\u001b[0m \u001b[0mmodel\u001b[0m\u001b[0;34m.\u001b[0m\u001b[0mConstraint7\u001b[0m\u001b[0;34m(\u001b[0m\u001b[0;34m)\u001b[0m\u001b[0;34m,\u001b[0m\u001b[0;34m' pounds'\u001b[0m\u001b[0;34m)\u001b[0m\u001b[0;34m\u001b[0m\u001b[0;34m\u001b[0m\u001b[0m\n",
            "\u001b[0;32m/usr/local/lib/python3.7/dist-packages/pyomo/core/base/block.py\u001b[0m in \u001b[0;36m__getattr__\u001b[0;34m(self, val)\u001b[0m\n\u001b[1;32m    520\u001b[0m         \u001b[0;31m# throw the \"normal\" AttributeError\u001b[0m\u001b[0;34m\u001b[0m\u001b[0;34m\u001b[0m\u001b[0;34m\u001b[0m\u001b[0m\n\u001b[1;32m    521\u001b[0m         raise AttributeError(\"'%s' object has no attribute '%s'\"\n\u001b[0;32m--> 522\u001b[0;31m                              % (self.__class__.__name__, val))\n\u001b[0m\u001b[1;32m    523\u001b[0m \u001b[0;34m\u001b[0m\u001b[0m\n\u001b[1;32m    524\u001b[0m     \u001b[0;32mdef\u001b[0m \u001b[0m__setattr__\u001b[0m\u001b[0;34m(\u001b[0m\u001b[0mself\u001b[0m\u001b[0;34m,\u001b[0m \u001b[0mname\u001b[0m\u001b[0;34m,\u001b[0m \u001b[0mval\u001b[0m\u001b[0;34m)\u001b[0m\u001b[0;34m:\u001b[0m\u001b[0;34m\u001b[0m\u001b[0;34m\u001b[0m\u001b[0m\n",
            "\u001b[0;31mAttributeError\u001b[0m: 'ConcreteModel' object has no attribute 'Constraint5'"
          ]
        }
      ]
    },
    {
      "cell_type": "markdown",
      "metadata": {
        "id": "VwfF78IWpK_K"
      },
      "source": [
        "# On Your Own\n",
        "Try to explore shadow prices for other ingredients! Make similar plots to the furniture example."
      ]
    }
  ]
}
