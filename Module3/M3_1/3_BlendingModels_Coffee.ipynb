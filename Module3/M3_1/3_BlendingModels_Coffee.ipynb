{
  "nbformat": 4,
  "nbformat_minor": 0,
  "metadata": {
    "colab": {
      "name": "BlendingModels_Coffee.ipynb",
      "provenance": [],
      "collapsed_sections": [],
      "toc_visible": true,
      "include_colab_link": true
    },
    "kernelspec": {
      "name": "python3",
      "display_name": "Python 3"
    }
  },
  "cells": [
    {
      "cell_type": "markdown",
      "metadata": {
        "id": "view-in-github",
        "colab_type": "text"
      },
      "source": [
        "<a href=\"https://colab.research.google.com/github/drdww/OPIM5641/blob/main/Module3/M3_1/BlendingModels_Coffee.ipynb\" target=\"_parent\"><img src=\"https://colab.research.google.com/assets/colab-badge.svg\" alt=\"Open In Colab\"/></a>"
      ]
    },
    {
      "cell_type": "markdown",
      "metadata": {
        "id": "uFWNaiGZ3lF3"
      },
      "source": [
        "# Linear Programming: Blending Models (Coffee)\n",
        "\n",
        "**OPIM 5641: Business Decision Modeling - Dept. of Operations and Information Management - University of Connecticut**\n",
        "\n",
        "-------------------------------\n",
        "\n",
        "Related Readings:\n",
        "* `Pyomo Cookbook`: https://github.com/jckantor/ND-Pyomo-Cookbook/blob/master/notebooks/02.01-Production-Models-with-Linear-Constraints.ipynb\n",
        "* `Powell`: Chapter 9 (Linear Optimization)\n",
        "\n",
        "## Background\n",
        "When we describe outcomes in terms of proportions,and when we place a ﬂoor(or ceiling) on one or more of those proportions, we are using blending constraints of a special type. \n",
        "\n",
        "Whenever we encounter a constraint in the form of a lower limit or an upper limit on a proportion, we can take the following steps: \n",
        "1. Write the fraction that expresses the constrained proportion. \n",
        "2. Write the inequality implied by the lower bound or upper bound. \n",
        "3. Multiply both sides of the inequality by the denominator and collect terms. \n",
        "4. The result is a linear inequality, ready to incorporate in the model. \n",
        "\n",
        "In general, the blending model involves mixing materials with different individual properties and describing the properties of the blend with weighted averages. We might be familiar with the phenomenon of mixing if we have spent time in a chemistry lab mixing ﬂuids with different concentrations, but the concept extends beyond lab work."
      ]
    },
    {
      "cell_type": "markdown",
      "metadata": {
        "id": "-hcqaOYK3qQU"
      },
      "source": [
        "## Setup Your Environment/Imports"
      ]
    },
    {
      "cell_type": "code",
      "metadata": {
        "id": "En57iqck3k4I",
        "outputId": "56577e87-839e-46d6-ecbd-5fd88302db1a",
        "colab": {
          "base_uri": "https://localhost:8080/",
          "height": 589
        }
      },
      "source": [
        "# import modules\n",
        "\n",
        "%matplotlib inline\n",
        "from pylab import *\n",
        "\n",
        "import shutil\n",
        "import sys\n",
        "import os.path\n",
        "\n",
        "if not shutil.which(\"pyomo\"):\n",
        "    !pip install -q pyomo\n",
        "    assert(shutil.which(\"pyomo\"))\n",
        "\n",
        "if not (shutil.which(\"cbc\") or os.path.isfile(\"cbc\")):\n",
        "    if \"google.colab\" in sys.modules:\n",
        "        !apt-get install -y -qq coinor-cbc\n",
        "    else:\n",
        "        try:\n",
        "            !conda install -c conda-forge coincbc \n",
        "        except:\n",
        "            pass\n",
        "\n",
        "assert(shutil.which(\"cbc\") or os.path.isfile(\"cbc\"))\n",
        "\n",
        "from pyomo.environ import *"
      ],
      "execution_count": null,
      "outputs": [
        {
          "output_type": "stream",
          "text": [
            "\u001b[K     |████████████████████████████████| 9.0MB 2.8MB/s \n",
            "\u001b[K     |████████████████████████████████| 256kB 46.0MB/s \n",
            "\u001b[K     |████████████████████████████████| 51kB 6.1MB/s \n",
            "\u001b[K     |████████████████████████████████| 163kB 47.6MB/s \n",
            "\u001b[?25hSelecting previously unselected package coinor-libcoinutils3v5.\n",
            "(Reading database ... 144579 files and directories currently installed.)\n",
            "Preparing to unpack .../0-coinor-libcoinutils3v5_2.10.14+repack1-1_amd64.deb ...\n",
            "Unpacking coinor-libcoinutils3v5 (2.10.14+repack1-1) ...\n",
            "Selecting previously unselected package coinor-libosi1v5.\n",
            "Preparing to unpack .../1-coinor-libosi1v5_0.107.9+repack1-1_amd64.deb ...\n",
            "Unpacking coinor-libosi1v5 (0.107.9+repack1-1) ...\n",
            "Selecting previously unselected package coinor-libclp1.\n",
            "Preparing to unpack .../2-coinor-libclp1_1.16.11+repack1-1_amd64.deb ...\n",
            "Unpacking coinor-libclp1 (1.16.11+repack1-1) ...\n",
            "Selecting previously unselected package coinor-libcgl1.\n",
            "Preparing to unpack .../3-coinor-libcgl1_0.59.10+repack1-1_amd64.deb ...\n",
            "Unpacking coinor-libcgl1 (0.59.10+repack1-1) ...\n",
            "Selecting previously unselected package coinor-libcbc3.\n",
            "Preparing to unpack .../4-coinor-libcbc3_2.9.9+repack1-1_amd64.deb ...\n",
            "Unpacking coinor-libcbc3 (2.9.9+repack1-1) ...\n",
            "Selecting previously unselected package coinor-cbc.\n",
            "Preparing to unpack .../5-coinor-cbc_2.9.9+repack1-1_amd64.deb ...\n",
            "Unpacking coinor-cbc (2.9.9+repack1-1) ...\n",
            "Setting up coinor-libcoinutils3v5 (2.10.14+repack1-1) ...\n",
            "Setting up coinor-libosi1v5 (0.107.9+repack1-1) ...\n",
            "Setting up coinor-libclp1 (1.16.11+repack1-1) ...\n",
            "Setting up coinor-libcgl1 (0.59.10+repack1-1) ...\n",
            "Setting up coinor-libcbc3 (2.9.9+repack1-1) ...\n",
            "Setting up coinor-cbc (2.9.9+repack1-1) ...\n",
            "Processing triggers for man-db (2.8.3-2ubuntu0.1) ...\n",
            "Processing triggers for libc-bin (2.27-3ubuntu1) ...\n",
            "/sbin/ldconfig.real: /usr/local/lib/python3.6/dist-packages/ideep4py/lib/libmkldnn.so.0 is not a symbolic link\n",
            "\n"
          ],
          "name": "stdout"
        }
      ]
    },
    {
      "cell_type": "markdown",
      "metadata": {
        "id": "yHf1L0WW3vDU"
      },
      "source": [
        "# Example: Coffee \n",
        "*Section 9.4.2 (Powell)*\n",
        "\n",
        "**Description:** The Diaz Coffee Company blends three types of coffee beans (Brazilian, Colombian and Peruvian) into ground coffee to be sold at retail. Suppose that each type of bean has a distinct aroma and strength, and that the company has a chief taster who can rate the features on a scale from 1 to 100. The featues of the beans are tabulated below.\n",
        "\n",
        "Bean | Aroma Rating | Strength Rating | Cost/lb. (USD) | Pounds available\n",
        "--- | --- | --- | --- | ---\n",
        "Brazilian | 75 | 15 | 0.50 USD | 1,500,000\n",
        "Colombian | 60 | 20 | 0.60 USD | 1,200,000\n",
        "Peruvian | 85 | 18 | 0.70 USD | 2,000,000\n",
        "\n",
        "The company would like to create a blend that has an aroma rating of at least 78 and a strength rating of at least 16. Its supplies of the various beans are limited, however. The available quantities are listed above. All beans are delivered under a previously arranged purchase agreement. Diaz wants to make four million pounds of the blend at the lowest possible cost.\n"
      ]
    },
    {
      "cell_type": "markdown",
      "metadata": {
        "id": "JEMrDTQ75VDP"
      },
      "source": [
        "**Define the Objective Function**\n",
        "\n",
        "$Cost = 0.5B + 0.6C + 0.7P$\n",
        "\n",
        "**Write the Constraints**\n",
        "\n",
        "$Min(Z) = 0.5B + 0.6C + 0.7P$\n",
        "\n",
        "We know that we need to have an aroma of at least 78 and a strength of at least 16. In this case, a weighted average is used. \n",
        "\n",
        "$Aroma = (B(75) + C(60) + P(85)) / (B + C + P)$\n",
        "\n",
        "And to impose a constraint we write\n",
        "$Aroma = (B(75) + C(60) + P(85)) / (B + C + P) >= 78$\n",
        "\n",
        "But we know that we can't use a proportion as a constraint in a linear model. Let's rewrite it into something the model can use. First, multiply both sides by (B + C + P) which yields\n",
        "$(B(75) + C(60) + P(85)) >= 78(B + C + P)$\n",
        "\n",
        "Collect terms on the lefthand side and we end up with this:\n",
        "$-3B - 18C + 7P >= 0$\n",
        "\n",
        "And now we recognize this as the same type of constraint from the Furniture example. \n",
        "\n",
        "In a similar fashion, we can also make a linear constraint for the blend having a strength of at least 16, which yields:\n",
        "$-1B + 4C + 2P >= 0$\n",
        "\n",
        "To summarize, our constraints are...\n",
        "* Supply constraints (can't use what you don't have)\n",
        "\n",
        "$B <= 1,500,000$\n",
        "\n",
        "$C <= 1,200,000$\n",
        "\n",
        "$P <= 2,000,000$\n",
        "\n",
        "* Demand constraint (you must at least satisfy demand!)\n",
        "\n",
        "$B + C + P >= 4,000,000$\n",
        "\n",
        "* Blending constraints (must meet a certain strength)\n",
        "\n",
        "$-3B - 18C + 7P >= 0$\n",
        "\n",
        "$-1B + 4C + 2P >= 0$\n",
        "\n",
        "\n",
        "Great! Now that your problem is defined - go code it up and solve it."
      ]
    },
    {
      "cell_type": "code",
      "metadata": {
        "id": "kROhTOwF5RKx"
      },
      "source": [
        "# declare the model\n",
        "model = ConcreteModel()\n",
        "\n",
        "# declare decision variables\n",
        "model.b = Var(domain=NonNegativeReals) # brazil\n",
        "model.c = Var(domain=NonNegativeReals) # colombia\n",
        "model.p = Var(domain=NonNegativeReals) # peru\n",
        "\n",
        "# declare objective\n",
        "model.cost = Objective(\n",
        "                      expr = 0.5*model.b + 0.6*model.c + 0.7*model.p, # values come from the table\n",
        "                      sense = minimize) # remember, you are minimizing cost!!!\n",
        "\n",
        "# declare constraints\n",
        "model.Constraint1 = Constraint(expr = model.b + model.c + model.p >= 4000000) # demand\n",
        "model.Constraint2 = Constraint(expr = -3*model.b + -18*model.c + 7*model.p >= 0) # aroma\n",
        "model.Constraint3 = Constraint(expr = -1*model.b + 4*model.c + 2*model.p >= 0) # stength\n",
        "model.Constraint4 = Constraint(expr = model.b <= 1500000) # b supply\n",
        "model.Constraint5 = Constraint(expr = model.c <= 1200000) # c supply\n",
        "model.Constraint6 = Constraint(expr = model.p <= 2000000) # p supply"
      ],
      "execution_count": null,
      "outputs": []
    },
    {
      "cell_type": "code",
      "metadata": {
        "id": "27AEt6O0_8tr",
        "outputId": "e2215acc-9d05-45d0-e9c9-d074449bccea",
        "colab": {
          "base_uri": "https://localhost:8080/",
          "height": 659
        }
      },
      "source": [
        "# show the model you've created\n",
        "model.pprint()"
      ],
      "execution_count": null,
      "outputs": [
        {
          "output_type": "stream",
          "text": [
            "3 Var Declarations\n",
            "    b : Size=1, Index=None\n",
            "        Key  : Lower : Value : Upper : Fixed : Stale : Domain\n",
            "        None :     0 :  None :  None : False :  True : NonNegativeReals\n",
            "    c : Size=1, Index=None\n",
            "        Key  : Lower : Value : Upper : Fixed : Stale : Domain\n",
            "        None :     0 :  None :  None : False :  True : NonNegativeReals\n",
            "    p : Size=1, Index=None\n",
            "        Key  : Lower : Value : Upper : Fixed : Stale : Domain\n",
            "        None :     0 :  None :  None : False :  True : NonNegativeReals\n",
            "\n",
            "1 Objective Declarations\n",
            "    cost : Size=1, Index=None, Active=True\n",
            "        Key  : Active : Sense    : Expression\n",
            "        None :   True : minimize : 0.5*b + 0.6*c + 0.7*p\n",
            "\n",
            "6 Constraint Declarations\n",
            "    Constraint1 : Size=1, Index=None, Active=True\n",
            "        Key  : Lower     : Body      : Upper : Active\n",
            "        None : 4000000.0 : b + c + p :  +Inf :   True\n",
            "    Constraint2 : Size=1, Index=None, Active=True\n",
            "        Key  : Lower : Body              : Upper : Active\n",
            "        None :   0.0 : -3*b - 18*c + 7*p :  +Inf :   True\n",
            "    Constraint3 : Size=1, Index=None, Active=True\n",
            "        Key  : Lower : Body            : Upper : Active\n",
            "        None :   0.0 : - b + 4*c + 2*p :  +Inf :   True\n",
            "    Constraint4 : Size=1, Index=None, Active=True\n",
            "        Key  : Lower : Body : Upper     : Active\n",
            "        None :  -Inf :    b : 1500000.0 :   True\n",
            "    Constraint5 : Size=1, Index=None, Active=True\n",
            "        Key  : Lower : Body : Upper     : Active\n",
            "        None :  -Inf :    c : 1200000.0 :   True\n",
            "    Constraint6 : Size=1, Index=None, Active=True\n",
            "        Key  : Lower : Body : Upper     : Active\n",
            "        None :  -Inf :    p : 2000000.0 :   True\n",
            "\n",
            "10 Declarations: b c p cost Constraint1 Constraint2 Constraint3 Constraint4 Constraint5 Constraint6\n"
          ],
          "name": "stdout"
        }
      ]
    },
    {
      "cell_type": "code",
      "metadata": {
        "id": "ZQvJqXST_9io",
        "outputId": "0d55f5b3-6785-4e89-e6d2-5f21d619ae07",
        "colab": {
          "base_uri": "https://localhost:8080/",
          "height": 713
        }
      },
      "source": [
        "# solve it\n",
        "SolverFactory('cbc', executable='/usr/bin/cbc').solve(model).write()"
      ],
      "execution_count": null,
      "outputs": [
        {
          "output_type": "stream",
          "text": [
            "# ==========================================================\n",
            "# = Solver Results                                         =\n",
            "# ==========================================================\n",
            "# ----------------------------------------------------------\n",
            "#   Problem Information\n",
            "# ----------------------------------------------------------\n",
            "Problem: \n",
            "- Name: unknown\n",
            "  Lower bound: 2448000.0\n",
            "  Upper bound: 2448000.0\n",
            "  Number of objectives: 1\n",
            "  Number of constraints: 7\n",
            "  Number of variables: 4\n",
            "  Number of nonzeros: 3\n",
            "  Sense: minimize\n",
            "# ----------------------------------------------------------\n",
            "#   Solver Information\n",
            "# ----------------------------------------------------------\n",
            "Solver: \n",
            "- Status: ok\n",
            "  User time: -1.0\n",
            "  System time: 0.0\n",
            "  Wallclock time: 0.0\n",
            "  Termination condition: optimal\n",
            "  Termination message: Model was solved to optimality (subject to tolerances), and an optimal solution is available.\n",
            "  Statistics: \n",
            "    Branch and bound: \n",
            "      Number of bounded subproblems: None\n",
            "      Number of created subproblems: None\n",
            "    Black box: \n",
            "      Number of iterations: 2\n",
            "  Error rc: 0\n",
            "  Time: 0.015558004379272461\n",
            "# ----------------------------------------------------------\n",
            "#   Solution Information\n",
            "# ----------------------------------------------------------\n",
            "Solution: \n",
            "- number of solutions: 0\n",
            "  number of solutions displayed: 0\n"
          ],
          "name": "stdout"
        }
      ]
    },
    {
      "cell_type": "code",
      "metadata": {
        "id": "dj5Bef-YAGeJ",
        "outputId": "3773f829-0780-4d04-8566-fa59af2a0a94",
        "colab": {
          "base_uri": "https://localhost:8080/",
          "height": 87
        }
      },
      "source": [
        "# show the results\n",
        "print(\"Cost = \", model.cost(), \" USD\")\n",
        "print(\"Brazilian Beans = \", model.b(), \" lb\")\n",
        "print(\"Colombian Beans = \", model.c(), \" lb\")\n",
        "print(\"Peruvian Beans = \", model.p(), \" lb\")"
      ],
      "execution_count": null,
      "outputs": [
        {
          "output_type": "stream",
          "text": [
            "Cost =  2448000.0  USD\n",
            "Brazilian Beans =  1500000.0  lb\n",
            "Colombian Beans =  520000.0  lb\n",
            "Peruvian Beans =  1980000.0  lb\n"
          ],
          "name": "stdout"
        }
      ]
    },
    {
      "cell_type": "code",
      "metadata": {
        "id": "KcScXEKfBaYD",
        "outputId": "3bdd163f-2b4a-4186-a4aa-5ede09834a99",
        "colab": {
          "base_uri": "https://localhost:8080/",
          "height": 121
        }
      },
      "source": [
        "# do we need to show binding constraints here? easier way to do this?\n",
        "print(\"Demand Constraint:\", model.Constraint1())\n",
        "print(\"Aroma Constraint:\", model.Constraint2()) # don't worry if these look funky! more below.\n",
        "print(\"Stength Constraint\", model.Constraint3()) # don't worry if these look funky! \n",
        "print(\"B Supply Constraint:\", model.Constraint4())\n",
        "print(\"C Supply Constraint:\", model.Constraint5())\n",
        "print(\"P Supply Constraint\", model.Constraint6())"
      ],
      "execution_count": null,
      "outputs": [
        {
          "output_type": "stream",
          "text": [
            "Demand Constraint: 4000000.0\n",
            "Aroma Constraint: 0.0\n",
            "Stength Constraint 4540000.0\n",
            "B Supply Constraint: 1500000.0\n",
            "C Supply Constraint: 520000.0\n",
            "P Supply Constraint 1980000.0\n"
          ],
          "name": "stdout"
        }
      ]
    },
    {
      "cell_type": "code",
      "metadata": {
        "id": "H7LnNjsbCagT",
        "outputId": "6696c79f-556d-451c-f0f1-637cbf2b88db",
        "colab": {
          "base_uri": "https://localhost:8080/",
          "height": 52
        }
      },
      "source": [
        "# show that we got the ratio we need!\n",
        "\n",
        "# strength - need at least 78\n",
        "strength = (75*model.b() + 60*model.c() + 85*model.p())  /(model.b() + model.c() + model.p())\n",
        "print(strength)\n",
        "\n",
        "# aroma - need at least 16\n",
        "aroma = (15*model.b() + 20*model.c() + 18*model.p())  /(model.b() + model.c() + model.p())\n",
        "print(aroma)"
      ],
      "execution_count": null,
      "outputs": [
        {
          "output_type": "stream",
          "text": [
            "78.0\n",
            "17.135\n"
          ],
          "name": "stdout"
        }
      ]
    },
    {
      "cell_type": "markdown",
      "metadata": {
        "id": "bSRvs6flV242"
      },
      "source": [
        "We can be satisfied that we have our minimum strength and aroma."
      ]
    },
    {
      "cell_type": "markdown",
      "metadata": {
        "id": "58hU_GgJvFyc"
      },
      "source": [
        "# On Your Own\n",
        "Try to explore shadow prices and make interesting graphs and tables."
      ]
    }
  ]
}
