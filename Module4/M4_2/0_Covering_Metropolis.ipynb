{
  "nbformat": 4,
  "nbformat_minor": 0,
  "metadata": {
    "colab": {
      "name": "Covering_Metropolis.ipynb",
      "provenance": [],
      "collapsed_sections": [],
      "toc_visible": true,
      "include_colab_link": true
    },
    "kernelspec": {
      "name": "python3",
      "display_name": "Python 3"
    }
  },
  "cells": [
    {
      "cell_type": "markdown",
      "metadata": {
        "id": "view-in-github",
        "colab_type": "text"
      },
      "source": [
        "<a href=\"https://colab.research.google.com/github/drdww/OPIM5641/blob/main/Module4/M4_2/0_Covering_Metropolis.ipynb\" target=\"_parent\"><img src=\"https://colab.research.google.com/assets/colab-badge.svg\" alt=\"Open In Colab\"/></a>"
      ]
    },
    {
      "cell_type": "markdown",
      "metadata": {
        "id": "jLY4po8QnBu3"
      },
      "source": [
        "# Integer Programming: Set Covering (Metropolis)\n",
        "**OPIM 5641: Business Decision Modeling - University of Connecticut**\n",
        "\n",
        "Related Reading:\n",
        "*   Powell: Chapter 11 (Integer Optimization)\n",
        "\n",
        "----------------------------------------\n",
        "\n"
      ]
    },
    {
      "cell_type": "markdown",
      "metadata": {
        "id": "ie-A5JDsm1Cc"
      },
      "source": [
        "The set covering problem is a variation of the covering model in which the\n",
        "variables are all binary. In addition, the parameters in the constraints are all zeroes\n",
        "and ones.\n",
        "In the classic version of the set covering problem, each project is described by a\n",
        "subset of locations that it “covers.” The problem is to cover all locations with a minimal\n",
        "number of projects.\n",
        "\n",
        "We will try to minimize our 'activation variables' ($x$)- the number of police stations we are going to build in order to 'cover' the city.\n",
        "\n",
        "Note that we are using an integer programming technique vs. a nonlinear/distance-based approach to this type of problem. If we had the centroid of each district, we could probably re-run this problem!"
      ]
    },
    {
      "cell_type": "code",
      "metadata": {
        "id": "m8hMLgeTkSQR"
      },
      "source": [
        "# before you do anything...\n",
        "# mount your drive!\n",
        "# click folder on the left...\n",
        "# import modules\n",
        "\n",
        "%matplotlib inline\n",
        "from pylab import *\n",
        "\n",
        "import shutil\n",
        "import sys\n",
        "import os.path\n",
        "\n",
        "if not shutil.which(\"pyomo\"):\n",
        "    !pip install -q pyomo\n",
        "    assert(shutil.which(\"pyomo\"))\n",
        "\n",
        "if not (shutil.which(\"cbc\") or os.path.isfile(\"cbc\")):\n",
        "    if \"google.colab\" in sys.modules:\n",
        "        !apt-get install -y -qq coinor-cbc\n",
        "    else:\n",
        "        try:\n",
        "            !conda install -c conda-forge coincbc \n",
        "        except:\n",
        "            pass\n",
        "\n",
        "assert(shutil.which(\"cbc\") or os.path.isfile(\"cbc\"))\n",
        "\n",
        "from pyomo.environ import *"
      ],
      "execution_count": null,
      "outputs": []
    },
    {
      "cell_type": "markdown",
      "metadata": {
        "id": "Ek5_s0MdndVx"
      },
      "source": [
        "# Problem Description\n",
        "This example is from Powell - we will have a nice graphic for another set covering problem shortly."
      ]
    },
    {
      "cell_type": "markdown",
      "metadata": {
        "id": "zRzpJrpNnhAl"
      },
      "source": [
        "The city of Metropolis is in the process of designing a new public emergency system, and their design\n",
        "calls for locating emergency vehicles around the city. The city is divided into nine districts, and seven\n",
        "potential sites have been identified as possible locations for emergency vehicles. Equipment located\n",
        "at each potential site can reach some (but not all) of the districts within the 3-minute time\n",
        "requirement specified by the city. In the following table, an entry of 1 means that the district can\n",
        "be serviced from the corresponding site within the time requirement.  \n",
        "\n",
        "\n"
      ]
    },
    {
      "cell_type": "markdown",
      "metadata": {
        "id": "HfPO-Hpsn7j7"
      },
      "source": [
        "Site |S1 | S2 | S3 | S4 | S5 | S6 | S7    \n",
        "--- |---|--- | --- | --- |--- | --- |--- \n",
        "District D1 | 0 | 1 | 0 | 1 | 0 | 0 | 1 \n",
        "District D2 | 1 | 0 | 0 | 0 | 0 | 1 | 1\n",
        "District D3 | 0 | 1 | 0 | 0 | 0 | 1 | 1\n",
        "District D4 | 0 | 1 | 1 | 0 | 1 | 1 | 0\n",
        "District D5 | 1 | 0 | 1 | 0 | 1 | 0 | 0\n",
        "District D6 | 1 | 0 | 0 | 1 | 0 | 0 | 1\n",
        "District D7 | 1 | 0 | 0 | 0 | 0 | 0 | 1\n",
        "District D8 | 0 | 0 | 1 | 1 | 1 | 0 | 0\n",
        "District D9 | 1 | 0 | 0 | 0 | 1 | 0 | 0\n",
        "\n",
        "The city wants to provide coverage to all nine districts within the specified time, using the minimum number of sites.\n"
      ]
    },
    {
      "cell_type": "markdown",
      "metadata": {
        "id": "QR9TB7NBs1O6"
      },
      "source": [
        "# Solution"
      ]
    },
    {
      "cell_type": "markdown",
      "metadata": {
        "id": "UElnNj3MsRAu"
      },
      "source": [
        "* Here, each site can be associated with a set of districts that it covers.  \n",
        "* For example, site S1 is associated with the set {0 1 0 0 1 1 1 0 1} that\n",
        "appears as the first column of the table. If we select S1 to be a site for emergency equipment,\n",
        "then we will have covered districts $D2, D5, D6, D7, and D9$.   \n",
        "* For a solution to be feasible, we\n",
        "would have to choose the remaining sites so that they cover $D1, D3, D4, and D8$."
      ]
    },
    {
      "cell_type": "markdown",
      "metadata": {
        "id": "B1zzDH8FqOIV"
      },
      "source": [
        "**Define Objective Function**\n",
        "\n",
        "Minimize $z = x_1 + x2 + x3 + x4  + x5 + x6 +  x7 $\n",
        "\n",
        "**Constraints**\n",
        "\n",
        "Subject to :\n",
        "* $x_2 + x_4 + x_7  \\geq 1$ `[District 1 is covered by sites 2, 4, 7]`\n",
        "* $x_1 + x_6 + x_7  \\geq 1$ `[District 2 is covered by sites 1, 6, 7]`\n",
        "* $x_2 + x_6 + x_7  \\geq 1$\n",
        "* $x_2 + x_3 +  x_5 + x_6  \\geq 1$\n",
        "* $x_1 + x_3 + x_5  \\geq 1$\n",
        "* $x_1 + x_4 + x_6  \\geq 1$\n",
        "* $x_1  + x_7  \\geq 1$\n",
        "* $x_3 + x_4 + x_5  \\geq 1$\n",
        "* $x_1 + x_5  \\geq 1$\n",
        "\n",
        "\n",
        "`Domains`\n",
        "* $x_i \\in \\{0,1\\}, i \\in [7]$  `(only binary activation variables)`\n",
        "\n",
        "\n"
      ]
    },
    {
      "cell_type": "code",
      "metadata": {
        "id": "1qow7iU1kXYg",
        "outputId": "a354f0b0-de9c-48df-fc66-64e5b36beb98",
        "colab": {
          "base_uri": "https://localhost:8080/",
          "height": 921
        }
      },
      "source": [
        "\n",
        "# declare the model\n",
        "model = ConcreteModel()\n",
        "\n",
        "# decision variables (you lose some granularity in the constraints with this naming convention, but it is convenient!)\n",
        "model.x = Var([1,2,3,4,5,6,7], domain=Binary)\n",
        "\n",
        "x1 = model.x[1] # site 1\n",
        "x2 = model.x[2] # site 2\n",
        "x3 = model.x[3] \n",
        "x4 = model.x[4]\n",
        "x5 = model.x[5] \n",
        "x6 = model.x[6]\n",
        "x7 = model.x[7]\n",
        "\n",
        "\n",
        "# objective\n",
        "model.OBJ = Objective(expr = x1 + x2 + x3+ x4 + x5 + x6 + x7,\n",
        "                      sense=minimize) \n",
        "\n",
        "# declare constraints\n",
        "# we need to cover all of our neighborhoods\n",
        "model.Constraint1 = Constraint(expr = x2 + x4 + x7 >= 1) # District 1 is covered by at least one of the following S2, S4, or S7\n",
        "model.Constraint2 = Constraint(expr = x1 + x6 + x7 >= 1 )  # District 2 is covered by at least one of the following S1, S6, or S7\n",
        "model.Constraint3 = Constraint(expr = x2 + x6 + x7 >= 1 )\n",
        "model.Constraint4 = Constraint(expr = x2 + x3 + x5 + x6 >= 1 )\n",
        "model.Constraint5 = Constraint(expr = x1 + x3 + x5 >= 1 )\n",
        "model.Constraint6 = Constraint(expr = x1 + x4 + x6 >= 1 )\n",
        "model.Constraint7 = Constraint(expr = x1 + x7 >= 1 )\n",
        "model.Constraint8 = Constraint(expr = x3 + x4 + x5 >= 1 )\n",
        "model.Constraint9 = Constraint(expr = x1 + x5 >=1 )\n",
        "\n",
        "\n",
        "# show the model you've created\n",
        "model.pprint()"
      ],
      "execution_count": null,
      "outputs": [
        {
          "output_type": "stream",
          "text": [
            "1 Set Declarations\n",
            "    x_index : Size=1, Index=None, Ordered=Insertion\n",
            "        Key  : Dimen : Domain : Size : Members\n",
            "        None :     1 :    Any :    7 : {1, 2, 3, 4, 5, 6, 7}\n",
            "\n",
            "1 Var Declarations\n",
            "    x : Size=7, Index=x_index\n",
            "        Key : Lower : Value : Upper : Fixed : Stale : Domain\n",
            "          1 :     0 :  None :     1 : False :  True : Binary\n",
            "          2 :     0 :  None :     1 : False :  True : Binary\n",
            "          3 :     0 :  None :     1 : False :  True : Binary\n",
            "          4 :     0 :  None :     1 : False :  True : Binary\n",
            "          5 :     0 :  None :     1 : False :  True : Binary\n",
            "          6 :     0 :  None :     1 : False :  True : Binary\n",
            "          7 :     0 :  None :     1 : False :  True : Binary\n",
            "\n",
            "1 Objective Declarations\n",
            "    OBJ : Size=1, Index=None, Active=True\n",
            "        Key  : Active : Sense    : Expression\n",
            "        None :   True : minimize : x[1] + x[2] + x[3] + x[4] + x[5] + x[6] + x[7]\n",
            "\n",
            "9 Constraint Declarations\n",
            "    Constraint1 : Size=1, Index=None, Active=True\n",
            "        Key  : Lower : Body               : Upper : Active\n",
            "        None :   1.0 : x[2] + x[4] + x[7] :  +Inf :   True\n",
            "    Constraint2 : Size=1, Index=None, Active=True\n",
            "        Key  : Lower : Body               : Upper : Active\n",
            "        None :   1.0 : x[1] + x[6] + x[7] :  +Inf :   True\n",
            "    Constraint3 : Size=1, Index=None, Active=True\n",
            "        Key  : Lower : Body               : Upper : Active\n",
            "        None :   1.0 : x[2] + x[6] + x[7] :  +Inf :   True\n",
            "    Constraint4 : Size=1, Index=None, Active=True\n",
            "        Key  : Lower : Body                      : Upper : Active\n",
            "        None :   1.0 : x[2] + x[3] + x[5] + x[6] :  +Inf :   True\n",
            "    Constraint5 : Size=1, Index=None, Active=True\n",
            "        Key  : Lower : Body               : Upper : Active\n",
            "        None :   1.0 : x[1] + x[3] + x[5] :  +Inf :   True\n",
            "    Constraint6 : Size=1, Index=None, Active=True\n",
            "        Key  : Lower : Body               : Upper : Active\n",
            "        None :   1.0 : x[1] + x[4] + x[6] :  +Inf :   True\n",
            "    Constraint7 : Size=1, Index=None, Active=True\n",
            "        Key  : Lower : Body        : Upper : Active\n",
            "        None :   1.0 : x[1] + x[7] :  +Inf :   True\n",
            "    Constraint8 : Size=1, Index=None, Active=True\n",
            "        Key  : Lower : Body               : Upper : Active\n",
            "        None :   1.0 : x[3] + x[4] + x[5] :  +Inf :   True\n",
            "    Constraint9 : Size=1, Index=None, Active=True\n",
            "        Key  : Lower : Body        : Upper : Active\n",
            "        None :   1.0 : x[1] + x[5] :  +Inf :   True\n",
            "\n",
            "12 Declarations: x_index x OBJ Constraint1 Constraint2 Constraint3 Constraint4 Constraint5 Constraint6 Constraint7 Constraint8 Constraint9\n"
          ],
          "name": "stdout"
        }
      ]
    },
    {
      "cell_type": "code",
      "metadata": {
        "id": "p9IeALBBkZqI",
        "outputId": "d1da43dc-6b27-4447-bcd2-a70784533420",
        "colab": {
          "base_uri": "https://localhost:8080/",
          "height": 887
        }
      },
      "source": [
        "# solve it\n",
        "SolverFactory('cbc', executable='/usr/bin/cbc').solve(model).write()\n",
        "# show the results\n",
        "print(\"Number of stations = \", model.OBJ())\n",
        "print (\"X1 station = \", model.x[1]())\n",
        "print (\"X2 station = \", model.x[2]())\n",
        "print (\"X3 station = \", model.x[3]())\n",
        "print (\"X4 station = \", model.x[4]())\n",
        "print (\"X5 station = \", model.x[5]())\n",
        "print (\"X6 station = \", model.x[6]())\n",
        "print (\"X7 station = \", model.x[7]())\n"
      ],
      "execution_count": null,
      "outputs": [
        {
          "output_type": "stream",
          "text": [
            "# ==========================================================\n",
            "# = Solver Results                                         =\n",
            "# ==========================================================\n",
            "# ----------------------------------------------------------\n",
            "#   Problem Information\n",
            "# ----------------------------------------------------------\n",
            "Problem: \n",
            "- Name: unknown\n",
            "  Lower bound: 3.0\n",
            "  Upper bound: 3.0\n",
            "  Number of objectives: 1\n",
            "  Number of constraints: 9\n",
            "  Number of variables: 7\n",
            "  Number of binary variables: 7\n",
            "  Number of integer variables: 7\n",
            "  Number of nonzeros: 7\n",
            "  Sense: minimize\n",
            "# ----------------------------------------------------------\n",
            "#   Solver Information\n",
            "# ----------------------------------------------------------\n",
            "Solver: \n",
            "- Status: ok\n",
            "  User time: -1.0\n",
            "  System time: 0.01\n",
            "  Wallclock time: 0.01\n",
            "  Termination condition: optimal\n",
            "  Termination message: Model was solved to optimality (subject to tolerances), and an optimal solution is available.\n",
            "  Statistics: \n",
            "    Branch and bound: \n",
            "      Number of bounded subproblems: 0\n",
            "      Number of created subproblems: 0\n",
            "    Black box: \n",
            "      Number of iterations: 0\n",
            "  Error rc: 0\n",
            "  Time: 0.027757883071899414\n",
            "# ----------------------------------------------------------\n",
            "#   Solution Information\n",
            "# ----------------------------------------------------------\n",
            "Solution: \n",
            "- number of solutions: 0\n",
            "  number of solutions displayed: 0\n",
            "Number of stations =  3.0\n",
            "X1 station =  1.0\n",
            "X2 station =  0.0\n",
            "X3 station =  0.0\n",
            "X4 station =  0.0\n",
            "X5 station =  1.0\n",
            "X6 station =  0.0\n",
            "X7 station =  1.0\n"
          ],
          "name": "stdout"
        }
      ]
    },
    {
      "cell_type": "markdown",
      "metadata": {
        "id": "TBGhZK14o5Tb"
      },
      "source": [
        "# Advanced Code Example\n",
        "Here is a more concise way of solve the problem, but more Python-intensive."
      ]
    },
    {
      "cell_type": "code",
      "metadata": {
        "id": "lnRs5J3-o7yN",
        "outputId": "7c9b4d5c-c82f-4b33-b21b-e204fc2a53a7",
        "colab": {
          "base_uri": "https://localhost:8080/",
          "height": 676
        }
      },
      "source": [
        "# declare the model\n",
        "model = ConcreteModel()\n",
        "\n",
        "stations = range(1,8)\n",
        "Districts = [\n",
        "              [2,4,7],\n",
        "              [1,6,7],\n",
        "              [2,6,7],\n",
        "              [2,3,5,6],\n",
        "              [1,3,5], \n",
        "              [1,4,6],\n",
        "              [1,7],\n",
        "              [3,4,5],\n",
        "              [1,5]\n",
        "]\n",
        "\n",
        "# declare decision variables\n",
        "model.x = Var(stations, domain=Binary)\n",
        "\n",
        "obj_expr = 0\n",
        "for station in stations:\n",
        "  obj_expr += model.x[station]\n",
        "\n",
        "\n",
        "# declare objective\n",
        "model.n_stations = Objective(\n",
        "                      expr = obj_expr, # values come from the table\n",
        "                      sense = minimize)\n",
        "\n",
        "# declare constraints\n",
        "model.constraints = ConstraintList()\n",
        "\n",
        "for x in range(0,9):\n",
        "  expr = 0\n",
        "  for y in Districts[x]:\n",
        "    expr += model.x[y]\n",
        "  model.constraints.add(expr >= 1)\n",
        "\n",
        "# show the model you've created\n",
        "model.pprint()"
      ],
      "execution_count": null,
      "outputs": [
        {
          "output_type": "stream",
          "text": [
            "2 Set Declarations\n",
            "    constraints_index : Size=1, Index=None, Ordered=Insertion\n",
            "        Key  : Dimen : Domain : Size : Members\n",
            "        None :     1 :    Any :    9 : {1, 2, 3, 4, 5, 6, 7, 8, 9}\n",
            "    x_index : Size=1, Index=None, Ordered=False\n",
            "        Key  : Dimen : Domain : Size : Members\n",
            "        None :     1 :    Any :    7 : {1, 2, 3, 4, 5, 6, 7}\n",
            "\n",
            "1 Var Declarations\n",
            "    x : Size=7, Index=x_index\n",
            "        Key : Lower : Value : Upper : Fixed : Stale : Domain\n",
            "          1 :     0 :  None :     1 : False :  True : Binary\n",
            "          2 :     0 :  None :     1 : False :  True : Binary\n",
            "          3 :     0 :  None :     1 : False :  True : Binary\n",
            "          4 :     0 :  None :     1 : False :  True : Binary\n",
            "          5 :     0 :  None :     1 : False :  True : Binary\n",
            "          6 :     0 :  None :     1 : False :  True : Binary\n",
            "          7 :     0 :  None :     1 : False :  True : Binary\n",
            "\n",
            "1 Objective Declarations\n",
            "    n_stations : Size=1, Index=None, Active=True\n",
            "        Key  : Active : Sense    : Expression\n",
            "        None :   True : minimize : x[1] + x[2] + x[3] + x[4] + x[5] + x[6] + x[7]\n",
            "\n",
            "1 Constraint Declarations\n",
            "    constraints : Size=9, Index=constraints_index, Active=True\n",
            "        Key : Lower : Body                      : Upper : Active\n",
            "          1 :   1.0 :        x[2] + x[4] + x[7] :  +Inf :   True\n",
            "          2 :   1.0 :        x[1] + x[6] + x[7] :  +Inf :   True\n",
            "          3 :   1.0 :        x[2] + x[6] + x[7] :  +Inf :   True\n",
            "          4 :   1.0 : x[2] + x[3] + x[5] + x[6] :  +Inf :   True\n",
            "          5 :   1.0 :        x[1] + x[3] + x[5] :  +Inf :   True\n",
            "          6 :   1.0 :        x[1] + x[4] + x[6] :  +Inf :   True\n",
            "          7 :   1.0 :               x[1] + x[7] :  +Inf :   True\n",
            "          8 :   1.0 :        x[3] + x[4] + x[5] :  +Inf :   True\n",
            "          9 :   1.0 :               x[1] + x[5] :  +Inf :   True\n",
            "\n",
            "5 Declarations: x_index x n_stations constraints_index constraints\n"
          ],
          "name": "stdout"
        }
      ]
    },
    {
      "cell_type": "code",
      "metadata": {
        "id": "VpxRhdEEo7yQ",
        "outputId": "38be90ec-1ff8-467d-d169-c90ea0721cf1",
        "colab": {
          "base_uri": "https://localhost:8080/",
          "height": 887
        }
      },
      "source": [
        "# solve it\n",
        "SolverFactory('cbc', executable='/usr/bin/cbc').solve(model).write()\n",
        "# show the results\n",
        "print(\"Number of stations = \", model.n_stations())\n",
        "for station in stations:\n",
        "  print(\"Station\",station,\":\",model.x[station]())"
      ],
      "execution_count": null,
      "outputs": [
        {
          "output_type": "stream",
          "text": [
            "# ==========================================================\n",
            "# = Solver Results                                         =\n",
            "# ==========================================================\n",
            "# ----------------------------------------------------------\n",
            "#   Problem Information\n",
            "# ----------------------------------------------------------\n",
            "Problem: \n",
            "- Name: unknown\n",
            "  Lower bound: 3.0\n",
            "  Upper bound: 3.0\n",
            "  Number of objectives: 1\n",
            "  Number of constraints: 9\n",
            "  Number of variables: 7\n",
            "  Number of binary variables: 7\n",
            "  Number of integer variables: 7\n",
            "  Number of nonzeros: 7\n",
            "  Sense: minimize\n",
            "# ----------------------------------------------------------\n",
            "#   Solver Information\n",
            "# ----------------------------------------------------------\n",
            "Solver: \n",
            "- Status: ok\n",
            "  User time: -1.0\n",
            "  System time: 0.0\n",
            "  Wallclock time: 0.01\n",
            "  Termination condition: optimal\n",
            "  Termination message: Model was solved to optimality (subject to tolerances), and an optimal solution is available.\n",
            "  Statistics: \n",
            "    Branch and bound: \n",
            "      Number of bounded subproblems: 0\n",
            "      Number of created subproblems: 0\n",
            "    Black box: \n",
            "      Number of iterations: 0\n",
            "  Error rc: 0\n",
            "  Time: 0.026173114776611328\n",
            "# ----------------------------------------------------------\n",
            "#   Solution Information\n",
            "# ----------------------------------------------------------\n",
            "Solution: \n",
            "- number of solutions: 0\n",
            "  number of solutions displayed: 0\n",
            "Number of stations =  3.0\n",
            "Station 1 : 1.0\n",
            "Station 2 : 0.0\n",
            "Station 3 : 0.0\n",
            "Station 4 : 0.0\n",
            "Station 5 : 1.0\n",
            "Station 6 : 0.0\n",
            "Station 7 : 1.0\n"
          ],
          "name": "stdout"
        }
      ]
    }
  ]
}