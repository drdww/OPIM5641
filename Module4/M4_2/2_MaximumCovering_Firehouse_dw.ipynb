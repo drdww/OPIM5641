{
  "nbformat": 4,
  "nbformat_minor": 0,
  "metadata": {
    "colab": {
      "name": "MaximumCovering_Firehouse_dw",
      "provenance": [],
      "collapsed_sections": [],
      "toc_visible": true,
      "include_colab_link": true
    },
    "kernelspec": {
      "name": "python3",
      "display_name": "Python 3"
    }
  },
  "cells": [
    {
      "cell_type": "markdown",
      "metadata": {
        "id": "view-in-github",
        "colab_type": "text"
      },
      "source": [
        "<a href=\"https://colab.research.google.com/github/drdww/OPIM5641/blob/main/Module4/M4_2/2_MaximumCovering_Firehouse_dw.ipynb\" target=\"_parent\"><img src=\"https://colab.research.google.com/assets/colab-badge.svg\" alt=\"Open In Colab\"/></a>"
      ]
    },
    {
      "cell_type": "markdown",
      "metadata": {
        "id": "0Q7rTx6fkkLd"
      },
      "source": [
        "# Integer Programming: Maximum Set Covering (Firehouse)\n",
        "**OPIM 5641: Business Decision Modeling - University of Connecticut**\n",
        "\n",
        "Related Readings:\n",
        "* `Powell`: Chapter 11 (Integer Optimization)\n",
        "* https://en.wikipedia.org/wiki/Set_cover_problem\n",
        "\n",
        "-------------------------------------------------------\n"
      ]
    },
    {
      "cell_type": "markdown",
      "metadata": {
        "id": "nRd130WtW2Jj"
      },
      "source": [
        "Let's extend what we learned to a more involved example. Let's force the model to only install up to TWO firehouses and cover the most people possible. Requires us to embrace activation variables (where you should build the firehouse) and coverage variables (which districts/neighborhoods are covered)."
      ]
    },
    {
      "cell_type": "markdown",
      "metadata": {
        "id": "Bk38DY4W80C2"
      },
      "source": [
        "# Import modules"
      ]
    },
    {
      "cell_type": "code",
      "metadata": {
        "id": "HhhMWH82kjfN"
      },
      "source": [
        "# import modules\n",
        "\n",
        "%matplotlib inline\n",
        "from pylab import *\n",
        "\n",
        "import shutil\n",
        "import sys\n",
        "import os.path\n",
        "\n",
        "if not shutil.which(\"pyomo\"):\n",
        "    !pip install -q pyomo\n",
        "    assert(shutil.which(\"pyomo\"))\n",
        "\n",
        "if not (shutil.which(\"cbc\") or os.path.isfile(\"cbc\")):\n",
        "    if \"google.colab\" in sys.modules:\n",
        "        !apt-get install -y -qq coinor-cbc\n",
        "    else:\n",
        "        try:\n",
        "            !conda install -c conda-forge coincbc \n",
        "        except:\n",
        "            pass\n",
        "\n",
        "assert(shutil.which(\"cbc\") or os.path.isfile(\"cbc\"))\n",
        "\n",
        "from pyomo.environ import *"
      ],
      "execution_count": null,
      "outputs": []
    },
    {
      "cell_type": "markdown",
      "metadata": {
        "id": "7dNqQ4mwaE_H"
      },
      "source": [
        "# Problem Description\n",
        "\n",
        "Our original objective is to locate fire stations so that each district has a fire station in it, or next to it. While doing so, we want to minimize the number of fire stations needed (which is a monster! more clearly laid out in the constraints, but sometimes data comes this way).\n",
        "\n",
        "\n",
        "First, we have our traditional 'adjacency' matrix for a set covering problem.\n",
        "\n",
        "Site|S1|S2|S3|S4|S5|S6|S7|S8|S9|S10|S11|S12|S13|S14| S15|S16     \n",
        "--- |---|--- | --- | --- |--- | --- |--- | --- |---|--- | --- | --- |--- | --- |--- | --- |\n",
        "District D1  |1|1|0|1|1|0|0|0|0|0|0|0|0|0|0|0|\n",
        "District D2  |1|1|1|0|1|1|0|0|0|0|0|0|0|0|0|0|\n",
        "District D3  |0|1|1|0|0|1|1|0|0|0|0|0|0|0|0|0|\n",
        "District D4  |1|0|0|1|0|0|0|1|0|1|1|0|0|0|0|0|\n",
        "District D5  |1|1|0|1|1|1|0|1|0|0|0|0|0|0|0|0|\n",
        "District D6  |0|1|1|0|1|1|1|1|1|0|0|0|0|0|0|0|\n",
        "District D7  |0|0|1|0|0|1|1|0|1|0|0|0|1|0|0|0|\n",
        "District D8  |0|0|0|1|1|1|0|1|1|0|1|1|0|0|0|0|\n",
        "District D9  |0|0|0|0|0|1|1|1|1|0|0|1|1|0|0|0|\n",
        "District D10 |0|0|0|1|0|0|0|0|0|1|1|0|0|1|0|0|\n",
        "District D11 |0|0|0|1|0|0|0|1|0|1|1|1|0|1|0|0|\n",
        "District D12 |0|0|0|0|0|0|0|1|1|0|1|1|1|0|1|0|\n",
        "District D13 |0|0|0|0|0|0|1|0|1|0|0|1|1|0|1|1|\n",
        "District D14 |0|0|0|0|0|0|0|0|0|1|1|0|0|1|1|0|\n",
        "District D15 |0|0|0|0|0|0|0|0|0|0|0|1|1|1|1|1|\n",
        "District D16 |0|0|0|0|0|0|0|0|0|0|0|0|1|0|1|1|\n",
        "\n",
        "\n",
        "\n",
        "* Consider now that **each location has a weight** proportional to its importance (e.g., number of houses in the location); you can also interpret this weight as demand\n",
        "\n",
        "* Goal: place **up to $2$ stations** so as to maximize the covered demand\n",
        "\n",
        "* Limit on the number of facilities is a cardinality constraint.\n",
        "\n",
        "* The demand in each location is as follows (you can imagine this as another entry in the table):\n",
        "\n",
        "location | 1 | 2 | 3 | 4 | 5 | 6 | 7 | 8 | 9 | 10 | 11 | 12 | 13 | 14 | 15 | 16\n",
        "--- | --- | --- | -- | -- | -- | -- | -- | -- | -- | -- | --| -- | -- | -- | -- | --\n",
        "demand | 10 | 13 | 12 | 20 | 31 | 45 | 60 | 12 | 56 | 8 | 51 | 23 | 17 | 10 | 35 | 22\n",
        "\n",
        "Here's the layout of the locations (isn't it nice to have a graphic?!):\n",
        "\n",
        "<center>\n",
        "\n",
        "![image.png](data:image/png;base64,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)\n",
        "\n",
        "</center>"
      ]
    },
    {
      "cell_type": "markdown",
      "metadata": {
        "id": "VGttXDyuS91p"
      },
      "source": [
        "## Activation vs. Coverage\n",
        "\n",
        "* Be careful with two different concepts going on in this problem: activation vs coverage\n",
        "  * **Activation** ($x$ variables): installing a fire station in a district\n",
        "  * **Coverage** ($y$ variables): having a fire station nearby\n",
        "  * One district may be covered by more than one fire station, but the demand should be counted only once!"
      ]
    },
    {
      "cell_type": "markdown",
      "metadata": {
        "id": "Dz0MVIwX883e"
      },
      "source": [
        "# Problem Formulation"
      ]
    },
    {
      "cell_type": "markdown",
      "metadata": {
        "id": "pOcTYFBlXN9T"
      },
      "source": [
        "**Define the Objective Function**\n",
        "\n",
        "$\\max \\sum\\limits_{i = 1}^{16}d_i y_i$ `(objective function)`\n",
        "\n",
        "where `y` is a coverage variable, indicating that a district is 'covered'. The coverage binary indicator times demand gives us our z.\n",
        "\n",
        "**Write the Constraints**\n",
        "\n",
        "subject to:\n",
        "* $x_1 + x_2 + x_4 + x_5 \\geq y_1$       `(Site 1)`\n",
        "* $x_1 + x_2 + x_3 + x_5 + x_6 \\geq y_2$ `(Site 2)`\n",
        "* $x_2 + x_3 + x_6 + x_7 \\geq y_3$  `(Site 3)`\n",
        "* $x_1 + x_4 + x_5 + x_8 + x_{10} + x_{11} \\geq y_4$ `(Site 4)`\n",
        "* $x_1 + x_2 + x_4 + x_5 + x_6 + x_8 \\geq y_5$ `(Site 5)`\n",
        "* $x_2 + x_3 + x_5 + x_6 + x_8 + x_7 + x_9 \\geq y_6$ `(Site 6)`\n",
        "* $x_3 + x_6 + x_7 + x_9 + x_{13} \\geq y_7$ `(Site 7)`\n",
        "* $x_4 + x_5 + x_6 + x_8 + x_9 + x_{11} + x_{12} \\geq y_8$ `(Site 8)`\n",
        "* $x_6 + x_7 + x_8 + x_9 + x_{12} + x_{13} \\geq y_9$ `(Site 9)`\n",
        "* $x_4 + x_{10} + x_{11} + x_{14} \\geq y_{10}$ `(Site 10)`\n",
        "* $x_4 + x_8 + x_{10} + x_{11} + x_{12} + x_{14} \\geq y_{11}$ `(Site 11)`\n",
        "* $x_8 + x_9 + x_{11} + x_{12} + x_{13} + x_{15} \\geq y_{12}$ `(Site 12)`\n",
        "* $x_7 + x_9 + x_{12} + x_{13} + x_{15} + x_{16} \\geq y_{13}$ `(Site 13)`\n",
        "* $x_{10} + x_{11} + x_{14} + x_{15} \\geq y_{14}$ `(Site 14)`\n",
        "* $x_{12} + x_{13} + x_{14} + x_{15} + x_{16} \\geq y_{15}$ `(Site 15)`\n",
        "* $x_{13} + x_{15} + x_{16} \\geq y_{16}$ `(Site 16)`\n",
        "\n",
        "where `x` is an activation variable, meaning that we installed that fire station.\n",
        "\n",
        "`Domains`\n",
        "* $x_i \\in \\{0,1\\}, i \\in [16]$  `(only binary activation variables)`\n",
        "\n",
        "`At most 2 fire stations`\n",
        "* $\\sum\\limits_{i = 1}^{16}x_i \\leq 2$\n",
        "\n",
        "`Domains`\n",
        "* $ x_i \\in \\{0,1\\}, i \\in [16]$ `activation variables`\n",
        "* $ y_i \\in \\{0,1\\}, i \\in [16]$ `coverage variables`"
      ]
    },
    {
      "cell_type": "markdown",
      "metadata": {
        "id": "QnU39362iBke"
      },
      "source": [
        "# Simple Code\n",
        "Here is a code in the style of Powell."
      ]
    },
    {
      "cell_type": "code",
      "metadata": {
        "id": "IxhND5QjiFm4"
      },
      "source": [
        "# 1) concrete model\n",
        "model = ConcreteModel()"
      ],
      "execution_count": null,
      "outputs": []
    },
    {
      "cell_type": "code",
      "metadata": {
        "id": "qeknw_BDiKVJ"
      },
      "source": [
        "# 2) declare decision variables\n",
        "# ALL OF THEM ARE BINARY VARIABLES!\n",
        "\n",
        "# activation variables\n",
        "# Activation ( x  variables): installing a fire station in a district\n",
        "model.x = Var([1,2,3,4,5,6,7,8,9,10,11,12,13,14,15,16], domain=Binary)\n",
        "\n",
        "x1  = model.x[1] \n",
        "x2  = model.x[2] \n",
        "x3  = model.x[3] \n",
        "x4  = model.x[4]\n",
        "x5  = model.x[5] \n",
        "x6  = model.x[6]\n",
        "x7  = model.x[7]\n",
        "x8  = model.x[8] \n",
        "x9  = model.x[9] \n",
        "x10 = model.x[10] \n",
        "x11 = model.x[11]\n",
        "x12 = model.x[12] \n",
        "x13 = model.x[13]\n",
        "x14 = model.x[14]\n",
        "x15 = model.x[15]\n",
        "x16 = model.x[16]\n",
        "\n",
        "# coverage variables\n",
        "# Coverage ( y  variables): having a fire station nearby\n",
        "model.y = Var([1,2,3,4,5,6,7,8,9,10,11,12,13,14,15,16], domain=Binary)\n",
        "\n",
        "y1  = model.y[1] \n",
        "y2  = model.y[2] \n",
        "y3  = model.y[3] \n",
        "y4  = model.y[4]\n",
        "y5  = model.y[5] \n",
        "y6  = model.y[6]\n",
        "y7  = model.y[7]\n",
        "y8  = model.y[8] \n",
        "y9  = model.y[9] \n",
        "y10 = model.y[10] \n",
        "y11 = model.y[11]\n",
        "y12 = model.y[12] \n",
        "y13 = model.y[13]\n",
        "y14 = model.y[14]\n",
        "y15 = model.y[15]\n",
        "y16 = model.y[16]\n"
      ],
      "execution_count": null,
      "outputs": []
    },
    {
      "cell_type": "code",
      "metadata": {
        "id": "rws-bXfGinOJ"
      },
      "source": [
        "# 3) objective function\n",
        "model.OBJ = Objective(expr = 10*y1 + 13*y2 + 12*y3 + 20*y4 +\n",
        "                            31*y5 + 45*y6 + 60*y7 + 12*y8 +\n",
        "                            56*y9 + 8*y10 + 51*y11 + 23*y12 +\n",
        "                            17*y13 + 10*y14 + 35*y15 + 22*y16,\n",
        "                      sense = maximize)"
      ],
      "execution_count": null,
      "outputs": []
    },
    {
      "cell_type": "code",
      "metadata": {
        "id": "rUqcD5x7jac5"
      },
      "source": [
        "# 4) constraints - activation\n",
        "# Activation ( x  variables): installing a fire station in a district\n",
        "model.ConstraintY1 = Constraint(expr = x1+x2+x4+x5 >= y1)  # (Site 1)\n",
        "model.ConstraintY2 = Constraint(expr = x1+x2+x3+x5+x6 >= y2)  #(Site 2)\n",
        "model.ConstraintY3 = Constraint(expr = x2+x3+x6+x7 >= y3)  #(Site 3)\n",
        "model.ConstraintY4 = Constraint(expr = x1+x4+x5+x8+x10+x11 >=y4)  #(Site 4)\n",
        "model.ConstraintY5 = Constraint(expr = x1+x2+x4+x5+x6+x8 >= y5)  #(Site 5)\n",
        "model.ConstraintY6 = Constraint(expr = x2+x3+x5+x6+x8+x7+x9 >= y6)  #(Site 6)\n",
        "model.ConstraintY7 = Constraint(expr = x3+x6+x7+x9+x13 >= y7)  #(Site 7)\n",
        "model.ConstraintY8 = Constraint(expr = x4+x5+x6+x8+x9+x11+x12 >= y8)  #(Site 8)\n",
        "model.ConstraintY9 = Constraint(expr = x6+x7+x8+x9+x12+x13 >= y9)  #(Site 9)\n",
        "model.ConstraintY10 = Constraint(expr = x4+x10+x11+x14 >= y10)  #(Site 10)\n",
        "model.ConstraintY11 = Constraint(expr = x4+x8+x10+x11+x12+x14 >= y11)  #(Site 11)\n",
        "model.ConstraintY12 = Constraint(expr = x8+x9+x11+x12+x13+x15 >= y12)  #(Site 12)\n",
        "model.ConstraintY13 = Constraint(expr = x7+x9+x12+x13+x15+x16 >= y13)  #(Site 13)\n",
        "model.ConstraintY14 = Constraint(expr = x10+x11+x14+x15 >= y14)  #(Site 14)\n",
        "model.ConstraintY15 = Constraint(expr = x12+x13+x14+x15+x16 >= y15)  #(Site 15)\n",
        "model.ConstraintY16 = Constraint(expr = x13+x15+x16 >= y16)  #(Site 16)\n",
        "\n",
        "# 4) coverage constraints - max number of locations must be less than or equal to 2!\n",
        "# Coverage ( y  variables): having a fire station nearby\n",
        "model.Constraint_Only2 = Constraint(expr = x1 + x2 + x3 + x4 +\n",
        "                            x5 + x6 + x7 + x8 +\n",
        "                            x9 + x10 + x11 + x12 +\n",
        "                            x13 + x14 + x15 + x16 <= 2)"
      ],
      "execution_count": null,
      "outputs": []
    },
    {
      "cell_type": "code",
      "metadata": {
        "id": "odAxuOT_lfc7",
        "outputId": "ecf4f273-3842-4ce7-cf10-209626cd0efd",
        "colab": {
          "base_uri": "https://localhost:8080/",
          "height": 748
        }
      },
      "source": [
        "# solve it\n",
        "SolverFactory('cbc', executable='/usr/bin/cbc').solve(model).write()"
      ],
      "execution_count": null,
      "outputs": [
        {
          "output_type": "stream",
          "text": [
            "# ==========================================================\n",
            "# = Solver Results                                         =\n",
            "# ==========================================================\n",
            "# ----------------------------------------------------------\n",
            "#   Problem Information\n",
            "# ----------------------------------------------------------\n",
            "Problem: \n",
            "- Name: unknown\n",
            "  Lower bound: 372.0\n",
            "  Upper bound: 372.0\n",
            "  Number of objectives: 1\n",
            "  Number of constraints: 17\n",
            "  Number of variables: 32\n",
            "  Number of binary variables: 32\n",
            "  Number of integer variables: 32\n",
            "  Number of nonzeros: 16\n",
            "  Sense: maximize\n",
            "# ----------------------------------------------------------\n",
            "#   Solver Information\n",
            "# ----------------------------------------------------------\n",
            "Solver: \n",
            "- Status: ok\n",
            "  User time: -1.0\n",
            "  System time: 0.01\n",
            "  Wallclock time: 0.01\n",
            "  Termination condition: optimal\n",
            "  Termination message: Model was solved to optimality (subject to tolerances), and an optimal solution is available.\n",
            "  Statistics: \n",
            "    Branch and bound: \n",
            "      Number of bounded subproblems: 0\n",
            "      Number of created subproblems: 0\n",
            "    Black box: \n",
            "      Number of iterations: 0\n",
            "  Error rc: 0\n",
            "  Time: 0.032927513122558594\n",
            "# ----------------------------------------------------------\n",
            "#   Solution Information\n",
            "# ----------------------------------------------------------\n",
            "Solution: \n",
            "- number of solutions: 0\n",
            "  number of solutions displayed: 0\n"
          ],
          "name": "stdout"
        }
      ]
    },
    {
      "cell_type": "markdown",
      "metadata": {
        "id": "6TNZXih1lmvj"
      },
      "source": [
        "And let's see which stations we picked!"
      ]
    },
    {
      "cell_type": "code",
      "metadata": {
        "id": "icqYKaQBlpQT",
        "outputId": "26587bf2-9f45-435e-c29c-7c7956cf834b",
        "colab": {
          "base_uri": "https://localhost:8080/",
          "height": 35
        }
      },
      "source": [
        "# 372 people covered\n",
        "print(model.OBJ())"
      ],
      "execution_count": null,
      "outputs": [
        {
          "output_type": "stream",
          "text": [
            "372.0\n"
          ],
          "name": "stdout"
        }
      ]
    },
    {
      "cell_type": "markdown",
      "metadata": {
        "id": "X63hl9z_Wj57"
      },
      "source": [
        "Here are the activation variables - this is where we will install the stations."
      ]
    },
    {
      "cell_type": "code",
      "metadata": {
        "id": "u-FqiLrtlzX-",
        "outputId": "b682c7df-6a05-4673-bcfd-08c77ac49b82",
        "colab": {
          "base_uri": "https://localhost:8080/",
          "height": 295
        }
      },
      "source": [
        "# stations activated\n",
        "print('Station 1:', x1())\n",
        "print('Station 2:', x2())\n",
        "print('Station 3:', x3())\n",
        "print('Station 4:', x4())\n",
        "print('Station 5:', x5())\n",
        "print('Station 6:', x6())\n",
        "print('Station 7:', x7())\n",
        "print('Station 8:', x8())\n",
        "print('Station 9:', x9())\n",
        "print('Station 10:', x10())\n",
        "print('Station 11:', x11())\n",
        "print('Station 12:', x12())\n",
        "print('Station 13:', x13())\n",
        "print('Station 14:', x14())\n",
        "print('Station 15:', x15())\n",
        "print('Station 16:', x16())"
      ],
      "execution_count": null,
      "outputs": [
        {
          "output_type": "stream",
          "text": [
            "Station 1: 0.0\n",
            "Station 2: 0.0\n",
            "Station 3: 0.0\n",
            "Station 4: 0.0\n",
            "Station 5: 0.0\n",
            "Station 6: 0.0\n",
            "Station 7: 0.0\n",
            "Station 8: 1.0\n",
            "Station 9: 0.0\n",
            "Station 10: 0.0\n",
            "Station 11: 0.0\n",
            "Station 12: 0.0\n",
            "Station 13: 1.0\n",
            "Station 14: 0.0\n",
            "Station 15: 0.0\n",
            "Station 16: 0.0\n"
          ],
          "name": "stdout"
        }
      ]
    },
    {
      "cell_type": "markdown",
      "metadata": {
        "id": "jnvIiAsenrSj"
      },
      "source": [
        "We could install a station in District 8 and 13!\n",
        "\n",
        "You could also highlight which districts would indeed be covered. Here aer the covering variables (these are sites that are covered.)"
      ]
    },
    {
      "cell_type": "code",
      "metadata": {
        "id": "aQUpx1BZn0W7",
        "outputId": "67209478-8a57-47c2-a209-0c4f993a6200",
        "colab": {
          "base_uri": "https://localhost:8080/",
          "height": 295
        }
      },
      "source": [
        "print('Station 1:', y1())\n",
        "print('Station 2:', y2())\n",
        "print('Station 3:', y3())\n",
        "print('Station 4:', y4())\n",
        "print('Station 5:', y5())\n",
        "print('Station 6:', y6())\n",
        "print('Station 7:', y7())\n",
        "print('Station 8:', y8())\n",
        "print('Station 9:', y9())\n",
        "print('Station 10:', y10())\n",
        "print('Station 11:', y11())\n",
        "print('Station 12:', y12())\n",
        "print('Station 13:', y13())\n",
        "print('Station 14:', y14())\n",
        "print('Station 15:', y15())\n",
        "print('Station 16:', y16())"
      ],
      "execution_count": null,
      "outputs": [
        {
          "output_type": "stream",
          "text": [
            "Station 1: 0.0\n",
            "Station 2: 0.0\n",
            "Station 3: 0.0\n",
            "Station 4: 1.0\n",
            "Station 5: 1.0\n",
            "Station 6: 1.0\n",
            "Station 7: 1.0\n",
            "Station 8: 1.0\n",
            "Station 9: 1.0\n",
            "Station 10: 0.0\n",
            "Station 11: 1.0\n",
            "Station 12: 1.0\n",
            "Station 13: 1.0\n",
            "Station 14: 0.0\n",
            "Station 15: 1.0\n",
            "Station 16: 1.0\n"
          ],
          "name": "stdout"
        }
      ]
    },
    {
      "cell_type": "markdown",
      "metadata": {
        "id": "aitNSoTgh_tP"
      },
      "source": [
        "# Advanced Code"
      ]
    },
    {
      "cell_type": "code",
      "metadata": {
        "id": "8pVoxSA-Pvue",
        "outputId": "1a468716-2be4-4832-cc5f-2070b8e48839",
        "colab": {
          "base_uri": "https://localhost:8080/",
          "height": 1000
        }
      },
      "source": [
        "# declare the model\n",
        "model = ConcreteModel()\n",
        "\n",
        "stations = range(1,17)\n",
        "demand = [0, 10, 13, 12, 20, 31, 45, 60, 12, 56, 8, 51, 23, 17, 10, 35, 22]\n",
        "neighbours = [\n",
        "              [], # Empty list because lists start from zero\n",
        "              [1,2,4,5],\n",
        "              [1,2,3,5,6],\n",
        "              [2,3,6,7],\n",
        "              [1,4,5,8,10,11],\n",
        "              [1,2,4,5,6,8], # Site 5\n",
        "              [2,3,5,6,7,8,9],\n",
        "              [3,6,7,9,13],\n",
        "              [4,5,6,8,9,11,12],\n",
        "              [6,7,8,9,12,13],\n",
        "              [4,10,11,14], # Site 10\n",
        "              [4,8,10,11,12,14],\n",
        "              [8,9,11,12,13,15],\n",
        "              [7,9,12,13,15,16],\n",
        "              [10,11,14,15],\n",
        "              [12,13,14,15,16], # Site 15\n",
        "              [13,15,16]\n",
        "]\n",
        "\n",
        "# declare decision variables\n",
        "model.selected = Var(stations, domain=Binary)\n",
        "model.covered = Var(stations, domain=Binary)\n",
        "\n",
        "obj_expr = 0\n",
        "for station in stations:\n",
        "  obj_expr += demand[station]*model.covered[station]\n",
        "\n",
        "\n",
        "# declare objective\n",
        "model.coverage = Objective(\n",
        "                      expr = obj_expr, # values come from the table\n",
        "                      sense = maximize)\n",
        "\n",
        "# declare constraints\n",
        "model.constraints = ConstraintList()\n",
        "\n",
        "# Activation variables for station coverage\n",
        "for station in stations:\n",
        "  neigh_expr = 0\n",
        "  for neighbour in neighbours[station]:\n",
        "    neigh_expr += model.selected[neighbour]\n",
        "  model.constraints.add(neigh_expr >= model.covered[station])\n",
        "\n",
        "# Bound on maximum number of selected locations\n",
        "selected_expr = 0\n",
        "for station in stations:\n",
        "  selected_expr += model.selected[station]\n",
        "model.constraints.add(selected_expr <= 2)\n",
        "\n",
        "# show the model you've created\n",
        "model.pprint()"
      ],
      "execution_count": null,
      "outputs": [
        {
          "output_type": "stream",
          "text": [
            "3 Set Declarations\n",
            "    constraints_index : Size=1, Index=None, Ordered=Insertion\n",
            "        Key  : Dimen : Domain : Size : Members\n",
            "        None :     1 :    Any :   17 : {1, 2, 3, 4, 5, 6, 7, 8, 9, 10, 11, 12, 13, 14, 15, 16, 17}\n",
            "    covered_index : Size=1, Index=None, Ordered=False\n",
            "        Key  : Dimen : Domain : Size : Members\n",
            "        None :     1 :    Any :   16 : {1, 2, 3, 4, 5, 6, 7, 8, 9, 10, 11, 12, 13, 14, 15, 16}\n",
            "    selected_index : Size=1, Index=None, Ordered=False\n",
            "        Key  : Dimen : Domain : Size : Members\n",
            "        None :     1 :    Any :   16 : {1, 2, 3, 4, 5, 6, 7, 8, 9, 10, 11, 12, 13, 14, 15, 16}\n",
            "\n",
            "2 Var Declarations\n",
            "    covered : Size=16, Index=covered_index\n",
            "        Key : Lower : Value : Upper : Fixed : Stale : Domain\n",
            "          1 :     0 :  None :     1 : False :  True : Binary\n",
            "          2 :     0 :  None :     1 : False :  True : Binary\n",
            "          3 :     0 :  None :     1 : False :  True : Binary\n",
            "          4 :     0 :  None :     1 : False :  True : Binary\n",
            "          5 :     0 :  None :     1 : False :  True : Binary\n",
            "          6 :     0 :  None :     1 : False :  True : Binary\n",
            "          7 :     0 :  None :     1 : False :  True : Binary\n",
            "          8 :     0 :  None :     1 : False :  True : Binary\n",
            "          9 :     0 :  None :     1 : False :  True : Binary\n",
            "         10 :     0 :  None :     1 : False :  True : Binary\n",
            "         11 :     0 :  None :     1 : False :  True : Binary\n",
            "         12 :     0 :  None :     1 : False :  True : Binary\n",
            "         13 :     0 :  None :     1 : False :  True : Binary\n",
            "         14 :     0 :  None :     1 : False :  True : Binary\n",
            "         15 :     0 :  None :     1 : False :  True : Binary\n",
            "         16 :     0 :  None :     1 : False :  True : Binary\n",
            "    selected : Size=16, Index=selected_index\n",
            "        Key : Lower : Value : Upper : Fixed : Stale : Domain\n",
            "          1 :     0 :  None :     1 : False :  True : Binary\n",
            "          2 :     0 :  None :     1 : False :  True : Binary\n",
            "          3 :     0 :  None :     1 : False :  True : Binary\n",
            "          4 :     0 :  None :     1 : False :  True : Binary\n",
            "          5 :     0 :  None :     1 : False :  True : Binary\n",
            "          6 :     0 :  None :     1 : False :  True : Binary\n",
            "          7 :     0 :  None :     1 : False :  True : Binary\n",
            "          8 :     0 :  None :     1 : False :  True : Binary\n",
            "          9 :     0 :  None :     1 : False :  True : Binary\n",
            "         10 :     0 :  None :     1 : False :  True : Binary\n",
            "         11 :     0 :  None :     1 : False :  True : Binary\n",
            "         12 :     0 :  None :     1 : False :  True : Binary\n",
            "         13 :     0 :  None :     1 : False :  True : Binary\n",
            "         14 :     0 :  None :     1 : False :  True : Binary\n",
            "         15 :     0 :  None :     1 : False :  True : Binary\n",
            "         16 :     0 :  None :     1 : False :  True : Binary\n",
            "\n",
            "1 Objective Declarations\n",
            "    coverage : Size=1, Index=None, Active=True\n",
            "        Key  : Active : Sense    : Expression\n",
            "        None :   True : maximize : 10*covered[1] + 13*covered[2] + 12*covered[3] + 20*covered[4] + 31*covered[5] + 45*covered[6] + 60*covered[7] + 12*covered[8] + 56*covered[9] + 8*covered[10] + 51*covered[11] + 23*covered[12] + 17*covered[13] + 10*covered[14] + 35*covered[15] + 22*covered[16]\n",
            "\n",
            "1 Constraint Declarations\n",
            "    constraints : Size=17, Index=constraints_index, Active=True\n",
            "        Key : Lower : Body                                                                                                                                                                                                                                 : Upper : Active\n",
            "          1 :  -Inf :                                                                                                                                                                 covered[1] - (selected[1] + selected[2] + selected[4] + selected[5]) :   0.0 :   True\n",
            "          2 :  -Inf :                                                                                                                                                   covered[2] - (selected[1] + selected[2] + selected[3] + selected[5] + selected[6]) :   0.0 :   True\n",
            "          3 :  -Inf :                                                                                                                                                                 covered[3] - (selected[2] + selected[3] + selected[6] + selected[7]) :   0.0 :   True\n",
            "          4 :  -Inf :                                                                                                                                   covered[4] - (selected[1] + selected[4] + selected[5] + selected[8] + selected[10] + selected[11]) :   0.0 :   True\n",
            "          5 :  -Inf :                                                                                                                                     covered[5] - (selected[1] + selected[2] + selected[4] + selected[5] + selected[6] + selected[8]) :   0.0 :   True\n",
            "          6 :  -Inf :                                                                                                                       covered[6] - (selected[2] + selected[3] + selected[5] + selected[6] + selected[7] + selected[8] + selected[9]) :   0.0 :   True\n",
            "          7 :  -Inf :                                                                                                                                                  covered[7] - (selected[3] + selected[6] + selected[7] + selected[9] + selected[13]) :   0.0 :   True\n",
            "          8 :  -Inf :                                                                                                                     covered[8] - (selected[4] + selected[5] + selected[6] + selected[8] + selected[9] + selected[11] + selected[12]) :   0.0 :   True\n",
            "          9 :  -Inf :                                                                                                                                   covered[9] - (selected[6] + selected[7] + selected[8] + selected[9] + selected[12] + selected[13]) :   0.0 :   True\n",
            "         10 :  -Inf :                                                                                                                                                             covered[10] - (selected[4] + selected[10] + selected[11] + selected[14]) :   0.0 :   True\n",
            "         11 :  -Inf :                                                                                                                                covered[11] - (selected[4] + selected[8] + selected[10] + selected[11] + selected[12] + selected[14]) :   0.0 :   True\n",
            "         12 :  -Inf :                                                                                                                                covered[12] - (selected[8] + selected[9] + selected[11] + selected[12] + selected[13] + selected[15]) :   0.0 :   True\n",
            "         13 :  -Inf :                                                                                                                                covered[13] - (selected[7] + selected[9] + selected[12] + selected[13] + selected[15] + selected[16]) :   0.0 :   True\n",
            "         14 :  -Inf :                                                                                                                                                            covered[14] - (selected[10] + selected[11] + selected[14] + selected[15]) :   0.0 :   True\n",
            "         15 :  -Inf :                                                                                                                                             covered[15] - (selected[12] + selected[13] + selected[14] + selected[15] + selected[16]) :   0.0 :   True\n",
            "         16 :  -Inf :                                                                                                                                                                           covered[16] - (selected[13] + selected[15] + selected[16]) :   0.0 :   True\n",
            "         17 :  -Inf : selected[1] + selected[2] + selected[3] + selected[4] + selected[5] + selected[6] + selected[7] + selected[8] + selected[9] + selected[10] + selected[11] + selected[12] + selected[13] + selected[14] + selected[15] + selected[16] :   2.0 :   True\n",
            "\n",
            "7 Declarations: selected_index selected covered_index covered coverage constraints_index constraints\n"
          ],
          "name": "stdout"
        }
      ]
    },
    {
      "cell_type": "code",
      "metadata": {
        "id": "r9jLvcwsR8y7",
        "outputId": "21ae0641-0066-4674-e766-64c5722cca94",
        "colab": {
          "base_uri": "https://localhost:8080/",
          "height": 748
        }
      },
      "source": [
        "# solve it\n",
        "SolverFactory('cbc', executable='/usr/bin/cbc').solve(model).write()\n"
      ],
      "execution_count": null,
      "outputs": [
        {
          "output_type": "stream",
          "text": [
            "# ==========================================================\n",
            "# = Solver Results                                         =\n",
            "# ==========================================================\n",
            "# ----------------------------------------------------------\n",
            "#   Problem Information\n",
            "# ----------------------------------------------------------\n",
            "Problem: \n",
            "- Name: unknown\n",
            "  Lower bound: 372.0\n",
            "  Upper bound: 372.0\n",
            "  Number of objectives: 1\n",
            "  Number of constraints: 17\n",
            "  Number of variables: 32\n",
            "  Number of binary variables: 32\n",
            "  Number of integer variables: 32\n",
            "  Number of nonzeros: 16\n",
            "  Sense: maximize\n",
            "# ----------------------------------------------------------\n",
            "#   Solver Information\n",
            "# ----------------------------------------------------------\n",
            "Solver: \n",
            "- Status: ok\n",
            "  User time: -1.0\n",
            "  System time: 0.0\n",
            "  Wallclock time: 0.0\n",
            "  Termination condition: optimal\n",
            "  Termination message: Model was solved to optimality (subject to tolerances), and an optimal solution is available.\n",
            "  Statistics: \n",
            "    Branch and bound: \n",
            "      Number of bounded subproblems: 0\n",
            "      Number of created subproblems: 0\n",
            "    Black box: \n",
            "      Number of iterations: 0\n",
            "  Error rc: 0\n",
            "  Time: 0.022551774978637695\n",
            "# ----------------------------------------------------------\n",
            "#   Solution Information\n",
            "# ----------------------------------------------------------\n",
            "Solution: \n",
            "- number of solutions: 0\n",
            "  number of solutions displayed: 0\n"
          ],
          "name": "stdout"
        }
      ]
    },
    {
      "cell_type": "code",
      "metadata": {
        "id": "xm2DIqCgWef6",
        "outputId": "62238518-55da-48d2-fb75-b725fcad0642",
        "colab": {
          "base_uri": "https://localhost:8080/",
          "height": 312
        }
      },
      "source": [
        "# show the results\n",
        "print(\"Number of customers benefited = \", model.coverage())\n",
        "for station in stations:\n",
        "  print(\"Station\",station,\":\",model.selected[station]())"
      ],
      "execution_count": null,
      "outputs": [
        {
          "output_type": "stream",
          "text": [
            "Number of customers benefited =  372.0\n",
            "Station 1 : 0.0\n",
            "Station 2 : 0.0\n",
            "Station 3 : 0.0\n",
            "Station 4 : 0.0\n",
            "Station 5 : 0.0\n",
            "Station 6 : 0.0\n",
            "Station 7 : 0.0\n",
            "Station 8 : 1.0\n",
            "Station 9 : 0.0\n",
            "Station 10 : 0.0\n",
            "Station 11 : 0.0\n",
            "Station 12 : 0.0\n",
            "Station 13 : 1.0\n",
            "Station 14 : 0.0\n",
            "Station 15 : 0.0\n",
            "Station 16 : 0.0\n"
          ],
          "name": "stdout"
        }
      ]
    }
  ]
}