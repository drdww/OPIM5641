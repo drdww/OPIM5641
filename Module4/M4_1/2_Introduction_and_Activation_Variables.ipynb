{
  "nbformat": 4,
  "nbformat_minor": 0,
  "metadata": {
    "colab": {
      "name": "Introduction and Activation Variables",
      "provenance": [],
      "collapsed_sections": [],
      "include_colab_link": true
    },
    "kernelspec": {
      "name": "python3",
      "display_name": "Python 3"
    }
  },
  "cells": [
    {
      "cell_type": "markdown",
      "metadata": {
        "id": "view-in-github",
        "colab_type": "text"
      },
      "source": [
        "<a href=\"https://colab.research.google.com/github/drdww/OPIM5641/blob/main/Module4/M4_1/2_Introduction_and_Activation_Variables.ipynb\" target=\"_parent\"><img src=\"https://colab.research.google.com/assets/colab-badge.svg\" alt=\"Open In Colab\"/></a>"
      ]
    },
    {
      "cell_type": "markdown",
      "metadata": {
        "id": "0Q7rTx6fkkLd"
      },
      "source": [
        "# Integer Programming: Introduction and Activation Variables\n",
        "\n",
        "* `Powell`: Chapter 11 (Integer Optimization)\n"
      ]
    },
    {
      "cell_type": "markdown",
      "metadata": {
        "id": "1FyopxtenC58"
      },
      "source": [
        "# Integer Programming\n",
        "\n",
        "We saw several examples where the optimal solutions (i.e., the values of the decision variables delivering the best objective value) were fractional numbers. However, in many practical examples, we would like these values to be integer.\n",
        "\n",
        "## Sometimes, Linear Programming gives us integer solutions\n",
        "\n",
        "In a few cases (very few, unfortunately), optimal LP solutions have integer values. For instance, we saw this happening when we solve certain types of  network problems (e.g., the shortest path problem). More generally, given a linear model with constraints $Ax \\leq b$, if \n",
        "$b$ contains only integer values and if $A$ is [totally unimodular](https://en.wikipedia.org/wiki/Unimodular_matrix), then we know that the an optimal solution for this value will have all decision variables assigned to integer values (this is advanced material, you don't need to know this for this course).\n",
        "\n",
        "In most cases (virtually all interesting examples in practice, unfortunately), linear programs will give fractionary solutions. Therefore, we need to use **integer programming**, which is about models that force (some of the) variables to be integers.\n",
        "\n",
        "## Why we just don't round when we get fractional solutions?\n",
        "\n",
        "In practice, one will typically take a fractional solution and round the values so as to get something that makes physical sense. In practice, rounding is useful, but it can be problematic because:\n",
        "* It can lead to infeasible solutions\n",
        "* In some cases, there is no obvious rounding (e.g., choice variables are all equally distributed among the possible alternatives)\n",
        "* Rounded solutions may have very bad quality (i.e., they may be much worse than the actual optimal solution)\n",
        "\n",
        "## Why is Integer Programming nice?\n",
        "\n",
        "You can express **way more** problems using IP than with LP. Also, IPs occur **much more** frequently than LPs:\n",
        "* Scheduling (workers, planes, machines, trucks, assignment of classes to rooms at UConn :-) )\n",
        "* Manufacturing\n",
        "* Transportation (e.g., UPS)\n",
        "* Telecommunications (e.g., AT&T)\n",
        "* Advertising (e.g., MSNBC)\n",
        "IP is so important because in most real-world problems either **variables need to be integers**, or you need to satisfy a number of **logical constraints**, which may be formulated using **binary variables**, i.e., variables that can only be equal to 0 or to 1.\n",
        "\n",
        "## Is there any problem with Integer Programming?\n",
        "\n",
        "Yes, unfortunatelly, IPs are **much harder** to solve than LPs. In practice, some LP problems with millions of variables may be solved in minutes or seconds. On the other hand, certain IP problems with only 100 variables can take **years** (!!) to solve.\n",
        "\n",
        "## How do we solve Integer Programs?\n",
        "\n",
        "For this course, all you need to know is that Pyomo can use some solvers that can handle Integer Programs. Behind the curtains, these solvers check all possible assignments of integer values to variables (i.e., they perform a brute-force search). In some cases, they can infer that some combinations of values are not promising and do not need to be examined explicitly; coming up with the right inferences is the art behind these solvers.\n",
        "\n",
        "This procedure may require the solution of a large number of linear programs. This is done with the simplex algorithm, and the solvers will eventually locate a global optimum if we wait long enough for the solver to finish. Otherwise, they try to find a reasonable decent solution, eventually together with a gap between the solution it identified and some hypothetical optimal solution (this is advanced material; see the videos about \"Duality in Linear Programming\" if you want to understand more about it). \n",
        "\n",
        "\n"
      ]
    },
    {
      "cell_type": "markdown",
      "metadata": {
        "id": "QpWT5lS9lWU0"
      },
      "source": [
        "## Setup Your Environment/Imports"
      ]
    },
    {
      "cell_type": "code",
      "metadata": {
        "id": "HhhMWH82kjfN",
        "colab": {
          "base_uri": "https://localhost:8080/"
        },
        "outputId": "2c16cb2f-cf12-4781-fe78-2f59feff1da4"
      },
      "source": [
        "# before you do anything...\n",
        "# mount your drive!\n",
        "# click folder on the left...\n",
        "# import modules\n",
        "\n",
        "%matplotlib inline\n",
        "from pylab import *\n",
        "\n",
        "import shutil\n",
        "import sys\n",
        "import os.path\n",
        "\n",
        "if not shutil.which(\"pyomo\"):\n",
        "    !pip install -q pyomo\n",
        "    assert(shutil.which(\"pyomo\"))\n",
        "\n",
        "if not (shutil.which(\"cbc\") or os.path.isfile(\"cbc\")):\n",
        "    if \"google.colab\" in sys.modules:\n",
        "        !apt-get install -y -qq coinor-cbc\n",
        "    else:\n",
        "        try:\n",
        "            !conda install -c conda-forge coincbc \n",
        "        except:\n",
        "            pass\n",
        "\n",
        "assert(shutil.which(\"cbc\") or os.path.isfile(\"cbc\"))\n",
        "\n",
        "from pyomo.environ import *"
      ],
      "execution_count": null,
      "outputs": [
        {
          "output_type": "stream",
          "name": "stdout",
          "text": [
            "\u001b[K     |████████████████████████████████| 9.1 MB 15.7 MB/s \n",
            "\u001b[K     |████████████████████████████████| 49 kB 4.4 MB/s \n",
            "\u001b[?25hSelecting previously unselected package coinor-libcoinutils3v5.\n",
            "(Reading database ... 155062 files and directories currently installed.)\n",
            "Preparing to unpack .../0-coinor-libcoinutils3v5_2.10.14+repack1-1_amd64.deb ...\n",
            "Unpacking coinor-libcoinutils3v5 (2.10.14+repack1-1) ...\n",
            "Selecting previously unselected package coinor-libosi1v5.\n",
            "Preparing to unpack .../1-coinor-libosi1v5_0.107.9+repack1-1_amd64.deb ...\n",
            "Unpacking coinor-libosi1v5 (0.107.9+repack1-1) ...\n",
            "Selecting previously unselected package coinor-libclp1.\n",
            "Preparing to unpack .../2-coinor-libclp1_1.16.11+repack1-1_amd64.deb ...\n",
            "Unpacking coinor-libclp1 (1.16.11+repack1-1) ...\n",
            "Selecting previously unselected package coinor-libcgl1.\n",
            "Preparing to unpack .../3-coinor-libcgl1_0.59.10+repack1-1_amd64.deb ...\n",
            "Unpacking coinor-libcgl1 (0.59.10+repack1-1) ...\n",
            "Selecting previously unselected package coinor-libcbc3.\n",
            "Preparing to unpack .../4-coinor-libcbc3_2.9.9+repack1-1_amd64.deb ...\n",
            "Unpacking coinor-libcbc3 (2.9.9+repack1-1) ...\n",
            "Selecting previously unselected package coinor-cbc.\n",
            "Preparing to unpack .../5-coinor-cbc_2.9.9+repack1-1_amd64.deb ...\n",
            "Unpacking coinor-cbc (2.9.9+repack1-1) ...\n",
            "Setting up coinor-libcoinutils3v5 (2.10.14+repack1-1) ...\n",
            "Setting up coinor-libosi1v5 (0.107.9+repack1-1) ...\n",
            "Setting up coinor-libclp1 (1.16.11+repack1-1) ...\n",
            "Setting up coinor-libcgl1 (0.59.10+repack1-1) ...\n",
            "Setting up coinor-libcbc3 (2.9.9+repack1-1) ...\n",
            "Setting up coinor-cbc (2.9.9+repack1-1) ...\n",
            "Processing triggers for man-db (2.8.3-2ubuntu0.1) ...\n",
            "Processing triggers for libc-bin (2.27-3ubuntu1.3) ...\n",
            "/sbin/ldconfig.real: /usr/local/lib/python3.7/dist-packages/ideep4py/lib/libmkldnn.so.0 is not a symbolic link\n",
            "\n"
          ]
        }
      ]
    },
    {
      "cell_type": "markdown",
      "metadata": {
        "id": "zWs5Xg_qLVfm"
      },
      "source": [
        "# Modeling Fixed Costs\n",
        "\n",
        "A **fixed cost** is a one-time cost that must be paid to use some type of resource, regardless of the amount being used. Some examples:\n",
        "* The cost to construct a **new production line**: the cost to construct a production line is not affected by the number of items you will produce in the future\n",
        "* The **setup cost** required to prepare a machine for a type of product \n",
        "* The cost of **hiring additional personnel**\n",
        "Fixed costs model binary decision, i.e., if you have a variable representing the decision of building a new production line, the only values that make sense for this variable are 0 and 1 (what would you do if the model returns value 0.5 for this variable?). In order to model this, you can use **binary variables**.  Binary variables are special cases of integer variables, but require variables to be either 0 or 1."
      ]
    },
    {
      "cell_type": "markdown",
      "metadata": {
        "id": "7dNqQ4mwaE_H"
      },
      "source": [
        "# Example: Cire Manufacturing\n",
        "\n",
        "Cire Manufacturing can manufacture 3 types of products. Each item of these products is indivisible, i.e., you can only produce an integer amount of each type of product.\n",
        "\n",
        "* There are 600 hours available for assembly and 300 hours available for grinding. \n",
        "\n",
        "* The profit per product for products 1, 2, and 3 are $\\$48$, $\\$55$, and $\\$50$, respectively. \n",
        "\n",
        "* There is a production limit of 3000, 4000, and 5000 units of products 1, 2, 3, respectively.\n",
        "\n",
        "* Setup cost to start producing for 1, 2, and 3 is $\\$1000$, $\\$800$, and $\\$900$, respectively. \n",
        "\n",
        "Table with all the data is presented below:\n",
        "\n",
        "Operation | Product 1 | Product 2 | Product 3 | Limit\n",
        "--- | --- | --- | --- | ---\n",
        "Assembling | 2 | 3 | 6 | 600\n",
        "Grinding | 6 | 3 | 4 | 300\n",
        "Profit per unit | 48 | 55 | 50 | ---\n",
        "Max. Production | 3,000 | 4,000 | 5,000 | ---\n",
        "Setup cost | 1000 | 800 | 900 | ---\n",
        "\n",
        "\n",
        "How many products should we produce to maximize profit?\n"
      ]
    },
    {
      "cell_type": "markdown",
      "metadata": {
        "id": "ZNVWN_AzdoGB"
      },
      "source": [
        "## Model overview\n",
        "\n",
        "Our profit depends on two elements, which depend on the number of units we will produce:\n",
        "* Profit per unit sold\n",
        "* Setup cost\n",
        "Note that it only makes sense to pay the setup cost of an item if produce at least one item of that product (otherwise, we will just waste money). Also, if we want to manufacture items of a certain product (even if it is only one unit), we need to pay the setup cost.\n",
        "\n",
        "The setup cost for each product is a binary decision (we either manufacture items of that product or not), and we should connect this binary decision with the decision on the number of items being produced. For example, if $P_1$ is the number of items of Product $1$ and $A_1$ is a **binary variable** indicating whether we will pay the setup cost of product $1$, we should have the following:\n",
        "\n",
        "$P_1 \\leq 3,000 \\cdot A_1$\n",
        "\n",
        "The idea is actually simple:\n",
        "* If $A_1 = 0$, the upper bound for $P_1$ is zero, which makes sense; if we don't pay the setup cost, we cannot produce anything\n",
        "* If $A_1 = 1$, the upper bound for $P_1$ is 3,000, the maximum production level; as we paid for the setup, we can produce as much as we can of Product 1.\n",
        "\n",
        "**Summary: Setup costs will typically be used to change bounds of (integer or continuous) variables based on the values assumed by binary activation variables.**"
      ]
    },
    {
      "cell_type": "markdown",
      "metadata": {
        "id": "pOcTYFBlXN9T"
      },
      "source": [
        "**Define the Objective Function**\n",
        "\n",
        "$Max(Z) = 48P_1 + 55P_2 + 50P_3 - 1000A_1 - 800A_2 - 900A_3$ `(objective function)`\n",
        "\n",
        "**Write the Constraints**\n",
        "\n",
        "subject to:\n",
        "* $2P_1 + 3P_2 + 6P_3 \\leq 600$ `(Assembly)`\n",
        "* $6P_1 + 3P_2 + 4P_3 \\leq 300$ `(Grinding)`\n",
        "\n",
        "`Production limits: upper bound is either the production limit or zero`\n",
        "* $P_1        \\leq 3,000A_1$ \n",
        "* $P_2        \\leq 4,000A_2$ \n",
        "* $P_3        \\leq 5,000A_3$ \n",
        "\n",
        "`Domains`\n",
        "* $P_1,P_2,P_3 \\in \\mathbb{N}$ \n",
        "* $A_1,A_2,A_3 \\in \\{0,1\\}$ \n"
      ]
    },
    {
      "cell_type": "code",
      "metadata": {
        "id": "8pVoxSA-Pvue",
        "colab": {
          "base_uri": "https://localhost:8080/"
        },
        "outputId": "8a0347c2-0bc0-486c-b265-9e55580ff6ab"
      },
      "source": [
        "# declare the model\n",
        "model = ConcreteModel()\n",
        "\n",
        "# declare decision variables\n",
        "model.P1 = Var(domain=Integers, bounds=(0,3000))\n",
        "model.P2 = Var(domain=Integers, bounds=(0,4000))\n",
        "model.P3 = Var(domain=Integers, bounds=(0,5000))\n",
        "\n",
        "model.A1 = Var(domain=Binary)\n",
        "model.A2 = Var(domain=Binary)\n",
        "model.A3 = Var(domain=Binary)\n",
        "\n",
        "# declare objective\n",
        "model.profit = Objective(\n",
        "                      expr = 48*model.P1 + 55*model.P2 + 50*model.P3 - 1000*model.A1 - 800*model.A2 - 900*model.A3, # values come from the table\n",
        "                      sense = maximize)\n",
        "\n",
        "# declare constraints\n",
        "model.Constraint1 = Constraint(expr = 2*model.P1 + 3*model.P2 + 6*model.P3 <= 600) # assembly hours\n",
        "model.Constraint2 = Constraint(expr = 6*model.P1 + 3*model.P2 + 4*model.P3 <= 300) # grinding hours\n",
        "model.Constraint4 = Constraint(expr = model.P1 <= 3000*model.A1) # activation\n",
        "model.Constraint5 = Constraint(expr = model.P2 <= 4000*model.A2) # activation\n",
        "model.Constraint6 = Constraint(expr = model.P3 <= 5000*model.A3) # activation\n",
        "\n",
        "# show the model you've created\n",
        "model.pprint()"
      ],
      "execution_count": null,
      "outputs": [
        {
          "output_type": "stream",
          "name": "stdout",
          "text": [
            "6 Var Declarations\n",
            "    A1 : Size=1, Index=None\n",
            "        Key  : Lower : Value : Upper : Fixed : Stale : Domain\n",
            "        None :     0 :  None :     1 : False :  True : Binary\n",
            "    A2 : Size=1, Index=None\n",
            "        Key  : Lower : Value : Upper : Fixed : Stale : Domain\n",
            "        None :     0 :  None :     1 : False :  True : Binary\n",
            "    A3 : Size=1, Index=None\n",
            "        Key  : Lower : Value : Upper : Fixed : Stale : Domain\n",
            "        None :     0 :  None :     1 : False :  True : Binary\n",
            "    P1 : Size=1, Index=None\n",
            "        Key  : Lower : Value : Upper : Fixed : Stale : Domain\n",
            "        None :     0 :  None :  3000 : False :  True : Integers\n",
            "    P2 : Size=1, Index=None\n",
            "        Key  : Lower : Value : Upper : Fixed : Stale : Domain\n",
            "        None :     0 :  None :  4000 : False :  True : Integers\n",
            "    P3 : Size=1, Index=None\n",
            "        Key  : Lower : Value : Upper : Fixed : Stale : Domain\n",
            "        None :     0 :  None :  5000 : False :  True : Integers\n",
            "\n",
            "1 Objective Declarations\n",
            "    profit : Size=1, Index=None, Active=True\n",
            "        Key  : Active : Sense    : Expression\n",
            "        None :   True : maximize : 48*P1 + 55*P2 + 50*P3 - 1000*A1 - 800*A2 - 900*A3\n",
            "\n",
            "5 Constraint Declarations\n",
            "    Constraint1 : Size=1, Index=None, Active=True\n",
            "        Key  : Lower : Body               : Upper : Active\n",
            "        None :  -Inf : 2*P1 + 3*P2 + 6*P3 : 600.0 :   True\n",
            "    Constraint2 : Size=1, Index=None, Active=True\n",
            "        Key  : Lower : Body               : Upper : Active\n",
            "        None :  -Inf : 6*P1 + 3*P2 + 4*P3 : 300.0 :   True\n",
            "    Constraint4 : Size=1, Index=None, Active=True\n",
            "        Key  : Lower : Body         : Upper : Active\n",
            "        None :  -Inf : P1 - 3000*A1 :   0.0 :   True\n",
            "    Constraint5 : Size=1, Index=None, Active=True\n",
            "        Key  : Lower : Body         : Upper : Active\n",
            "        None :  -Inf : P2 - 4000*A2 :   0.0 :   True\n",
            "    Constraint6 : Size=1, Index=None, Active=True\n",
            "        Key  : Lower : Body         : Upper : Active\n",
            "        None :  -Inf : P3 - 5000*A3 :   0.0 :   True\n",
            "\n",
            "12 Declarations: P1 P2 P3 A1 A2 A3 profit Constraint1 Constraint2 Constraint4 Constraint5 Constraint6\n"
          ]
        }
      ]
    },
    {
      "cell_type": "code",
      "metadata": {
        "id": "r9jLvcwsR8y7",
        "colab": {
          "base_uri": "https://localhost:8080/"
        },
        "outputId": "9cf442a3-0ccc-4a66-d300-a3561e7b1d53"
      },
      "source": [
        "# solve it\n",
        "SolverFactory('cbc', executable='/usr/bin/cbc').solve(model).write()\n",
        "# show the results\n",
        "print(\"Profit = \", model.profit(), \" per week\")\n",
        "print(\"Product 1 = \", model.P1(), \", activation = \",model.A1())\n",
        "print(\"Product 2 = \", model.P2(), \", activation = \",model.A2())\n",
        "print(\"Product 3 = \", model.P3(), \", activation = \",model.A3())"
      ],
      "execution_count": null,
      "outputs": [
        {
          "output_type": "stream",
          "name": "stdout",
          "text": [
            "# ==========================================================\n",
            "# = Solver Results                                         =\n",
            "# ==========================================================\n",
            "# ----------------------------------------------------------\n",
            "#   Problem Information\n",
            "# ----------------------------------------------------------\n",
            "Problem: \n",
            "- Name: unknown\n",
            "  Lower bound: 4700.0\n",
            "  Upper bound: 4700.0\n",
            "  Number of objectives: 1\n",
            "  Number of constraints: 5\n",
            "  Number of variables: 6\n",
            "  Number of binary variables: 3\n",
            "  Number of integer variables: 6\n",
            "  Number of nonzeros: 6\n",
            "  Sense: maximize\n",
            "# ----------------------------------------------------------\n",
            "#   Solver Information\n",
            "# ----------------------------------------------------------\n",
            "Solver: \n",
            "- Status: ok\n",
            "  User time: -1.0\n",
            "  System time: 0.0\n",
            "  Wallclock time: 0.0\n",
            "  Termination condition: optimal\n",
            "  Termination message: Model was solved to optimality (subject to tolerances), and an optimal solution is available.\n",
            "  Statistics: \n",
            "    Branch and bound: \n",
            "      Number of bounded subproblems: 0\n",
            "      Number of created subproblems: 0\n",
            "    Black box: \n",
            "      Number of iterations: 0\n",
            "  Error rc: 0\n",
            "  Time: 0.028200387954711914\n",
            "# ----------------------------------------------------------\n",
            "#   Solution Information\n",
            "# ----------------------------------------------------------\n",
            "Solution: \n",
            "- number of solutions: 0\n",
            "  number of solutions displayed: 0\n",
            "Profit =  4700.0  per week\n",
            "Product 1 =  0.0 , activation =  0.0\n",
            "Product 2 =  100.0 , activation =  1.0\n",
            "Product 3 =  0.0 , activation =  0.0\n"
          ]
        }
      ]
    }
  ]
}