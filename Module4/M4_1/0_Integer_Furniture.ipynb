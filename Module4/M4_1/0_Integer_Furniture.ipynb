{
  "nbformat": 4,
  "nbformat_minor": 0,
  "metadata": {
    "colab": {
      "name": "Integer_Furniture.ipynb",
      "provenance": [],
      "collapsed_sections": [],
      "include_colab_link": true
    },
    "kernelspec": {
      "name": "python3",
      "display_name": "Python 3"
    }
  },
  "cells": [
    {
      "cell_type": "markdown",
      "metadata": {
        "id": "view-in-github",
        "colab_type": "text"
      },
      "source": [
        "<a href=\"https://colab.research.google.com/github/drdww/OPIM5641/blob/main/Module4/M4_1/0_Integer_Furniture.ipynb\" target=\"_parent\"><img src=\"https://colab.research.google.com/assets/colab-badge.svg\" alt=\"Open In Colab\"/></a>"
      ]
    },
    {
      "cell_type": "markdown",
      "metadata": {
        "id": "0Q7rTx6fkkLd"
      },
      "source": [
        "# Integer Programming: Motivation (Furniture)\n",
        "**OPIM 5641: Business Decision Modeling - University of Connecticut**\n",
        "\n",
        "Related Readings:\n",
        "* `Pyomo Cookbook`: https://github.com/jckantor/ND-Pyomo-Cookbook/blob/master/notebooks/02.01-Production-Models-with-Linear-Constraints.ipynb\n",
        "* `Powell`: Chapter 11 (Integer Optimization)\n",
        "\n",
        "## Background\n",
        "One of the basic assumptions in linear programming models relates to divisibility of the decision variables: Fractional values of decision variables make sense either literally (12.6 tons of steel can be produced) or as a modeling approximation (in practical terms, 1,776.2 trucks is the same as 1,776). \n",
        "\n",
        "The optimal solution of a linear program may therefore contain fractional decision variables, and this is appropriate—or at least tolerable—in most applications. In some cases, however, it may be necessary to ensure that some or all of the decision variables take on integer values. Accommodating the requirement that variables must be integers is the subject of integer programming.\n",
        "\n",
        "Consider the product mix for chairs, desks, and tables discussed in the Veerman Furniture model of Chapter 9.As it turned out,the optimal solution contains no chairs,275 desks, and 100 tables, so that the decision variables happen to all be integers.\n",
        "\n",
        "## Let's tinker... update the constraints...\n",
        "Suppose instead that the problem occurs with only 1800 fabrication hours available, rather than the 1,850 of the base case.\n",
        "\n",
        "\n",
        "As you will see, **the optimal product mix includes 266.67 desks**. Is the fractional number of desks meaningful?\n",
        "\n",
        "Let's explore what we can do as a first entry into integer programming."
      ]
    },
    {
      "cell_type": "markdown",
      "metadata": {
        "id": "QpWT5lS9lWU0"
      },
      "source": [
        "## Setup Your Environment/Imports"
      ]
    },
    {
      "cell_type": "code",
      "metadata": {
        "id": "HhhMWH82kjfN"
      },
      "source": [
        "# import modules\n",
        "\n",
        "%matplotlib inline\n",
        "from pylab import *\n",
        "\n",
        "import shutil\n",
        "import sys\n",
        "import os.path\n",
        "\n",
        "if not shutil.which(\"pyomo\"):\n",
        "    !pip install -q pyomo\n",
        "    assert(shutil.which(\"pyomo\"))\n",
        "\n",
        "if not (shutil.which(\"cbc\") or os.path.isfile(\"cbc\")):\n",
        "    if \"google.colab\" in sys.modules:\n",
        "        !apt-get install -y -qq coinor-cbc\n",
        "    else:\n",
        "        try:\n",
        "            !conda install -c conda-forge coincbc \n",
        "        except:\n",
        "            pass\n",
        "\n",
        "assert(shutil.which(\"cbc\") or os.path.isfile(\"cbc\"))\n",
        "\n",
        "from pyomo.environ import *"
      ],
      "execution_count": null,
      "outputs": []
    },
    {
      "cell_type": "markdown",
      "metadata": {
        "id": "TYz3rywdPz7s"
      },
      "source": [
        "# Example: Furniture\n",
        "*Section 9.2 (Powell) - Chairs, Desks and Tables*\n",
        "\n",
        "**Problem Description:**\n",
        "Veerman Furniture Company makes three kinds of ofﬁce furniture: chairs, desks, and tables. Each product requires some labor in the parts fabrication department, the assembly department, and the shipping department. The furniture is sold through a regional distributor, who has estimated the maximum potential sales for each product in the coming quarter. Finally,the accounting department has provided some data showing the proﬁt contributions on each product.The decision problem isto determine the product mix—that is, to maximize Veerman’s proﬁt for the quarter by choosing production quantities for the chairs,desks,and tables.\n",
        "\n",
        "The following data summarizes the parameters of the problem:\n",
        "\n",
        "Department | Chairs | Desks | Tables | Hours Available\n",
        "--- | --- | --- | --- | ---\n",
        "Fabrication | 4 | 6 | 2 | 1,800 (UPDATED)\n",
        "Assembly | 3 | 5 | 7 | 2,400\n",
        "Shipping | 3 | 2 | 4 | 1,500\n",
        "--------------------------------------------------------------------------------\n",
        "Demand Potential | 360 | 300 | 100 |\n",
        "Profit (USD) | 15 | 24 | 18 |"
      ]
    },
    {
      "cell_type": "markdown",
      "metadata": {
        "id": "pOcTYFBlXN9T"
      },
      "source": [
        "**Define the Objective Function**\n",
        "\n",
        "$Profit = 15C + 24D + 18T$\n",
        "\n",
        "**Write the Constraints**\n",
        "\n",
        "$Max(Z) = 15C + 24D + 18T$\n",
        "\n",
        "subject to:\n",
        "* $4C + 6D + 2T <= 1,800$ `updated!`\n",
        "* $3C + 5D + 7T <= 2,400$\n",
        "* $3C + 2D + 4T <= 1,500$ \n",
        "* $C        <= 360$ \n",
        "* $D      <=300$ \n",
        "* $T <=10$\n",
        "\n",
        "Great! Now that your problem is defined - go code it up and solve it."
      ]
    },
    {
      "cell_type": "code",
      "metadata": {
        "id": "8pVoxSA-Pvue"
      },
      "source": [
        "# declare the model\n",
        "model = ConcreteModel()\n",
        "\n",
        "# declare decision variables\n",
        "model.c = Var(domain=NonNegativeReals) # c for chairs\n",
        "model.d = Var(domain=NonNegativeReals) # d for desks\n",
        "model.t = Var(domain=NonNegativeReals) # t for tables\n",
        "\n",
        "# declare objective\n",
        "model.profit = Objective(\n",
        "                      expr = 15*model.c + 24*model.d + 18*model.t, # values come from the table\n",
        "                      sense = maximize)\n",
        "\n",
        "# declare constraints\n",
        "model.Constraint1 = Constraint(expr = 4*model.c + 6*model.d + 2*model.t <= 1800) # fabrication hours - updated!\n",
        "model.Constraint2 = Constraint(expr = 3*model.c + 5*model.d + 7*model.t <= 2400) # assembly hours\n",
        "model.Constraint3 = Constraint(expr = 3*model.c + 2*model.d + 4*model.t <= 1500) # shipping\n",
        "model.Constraint4 = Constraint(expr = model.c <= 360) # c demand\n",
        "model.Constraint5 = Constraint(expr = model.d <= 300) # d demand\n",
        "model.Constraint6 = Constraint(expr = model.t <= 100) # t demand"
      ],
      "execution_count": null,
      "outputs": []
    },
    {
      "cell_type": "code",
      "metadata": {
        "id": "wEBftGG8Qaon",
        "colab": {
          "base_uri": "https://localhost:8080/"
        },
        "outputId": "289cf58f-688f-4828-d7f9-252b288a3180"
      },
      "source": [
        "# show the model you've created\n",
        "model.pprint()"
      ],
      "execution_count": null,
      "outputs": [
        {
          "output_type": "stream",
          "name": "stdout",
          "text": [
            "3 Var Declarations\n",
            "    c : Size=1, Index=None\n",
            "        Key  : Lower : Value : Upper : Fixed : Stale : Domain\n",
            "        None :     0 :  None :  None : False :  True : NonNegativeReals\n",
            "    d : Size=1, Index=None\n",
            "        Key  : Lower : Value : Upper : Fixed : Stale : Domain\n",
            "        None :     0 :  None :  None : False :  True : NonNegativeReals\n",
            "    t : Size=1, Index=None\n",
            "        Key  : Lower : Value : Upper : Fixed : Stale : Domain\n",
            "        None :     0 :  None :  None : False :  True : NonNegativeReals\n",
            "\n",
            "1 Objective Declarations\n",
            "    profit : Size=1, Index=None, Active=True\n",
            "        Key  : Active : Sense    : Expression\n",
            "        None :   True : maximize : 15*c + 24*d + 18*t\n",
            "\n",
            "6 Constraint Declarations\n",
            "    Constraint1 : Size=1, Index=None, Active=True\n",
            "        Key  : Lower : Body            : Upper  : Active\n",
            "        None :  -Inf : 4*c + 6*d + 2*t : 1800.0 :   True\n",
            "    Constraint2 : Size=1, Index=None, Active=True\n",
            "        Key  : Lower : Body            : Upper  : Active\n",
            "        None :  -Inf : 3*c + 5*d + 7*t : 2400.0 :   True\n",
            "    Constraint3 : Size=1, Index=None, Active=True\n",
            "        Key  : Lower : Body            : Upper  : Active\n",
            "        None :  -Inf : 3*c + 2*d + 4*t : 1500.0 :   True\n",
            "    Constraint4 : Size=1, Index=None, Active=True\n",
            "        Key  : Lower : Body : Upper : Active\n",
            "        None :  -Inf :    c : 360.0 :   True\n",
            "    Constraint5 : Size=1, Index=None, Active=True\n",
            "        Key  : Lower : Body : Upper : Active\n",
            "        None :  -Inf :    d : 300.0 :   True\n",
            "    Constraint6 : Size=1, Index=None, Active=True\n",
            "        Key  : Lower : Body : Upper : Active\n",
            "        None :  -Inf :    t : 100.0 :   True\n",
            "\n",
            "10 Declarations: c d t profit Constraint1 Constraint2 Constraint3 Constraint4 Constraint5 Constraint6\n"
          ]
        }
      ]
    },
    {
      "cell_type": "code",
      "metadata": {
        "id": "fdVIS-KUQhxZ"
      },
      "source": [
        "# ensure you have cbc installed\n",
        "# !apt-get install -y -qq coinor-cbc"
      ],
      "execution_count": null,
      "outputs": []
    },
    {
      "cell_type": "code",
      "metadata": {
        "id": "r9jLvcwsR8y7",
        "colab": {
          "base_uri": "https://localhost:8080/"
        },
        "outputId": "2e083537-0264-47dc-c9c2-a7de783fb4d5"
      },
      "source": [
        "# solve it\n",
        "SolverFactory('cbc', executable='/usr/bin/cbc').solve(model).write()"
      ],
      "execution_count": null,
      "outputs": [
        {
          "output_type": "stream",
          "name": "stdout",
          "text": [
            "# ==========================================================\n",
            "# = Solver Results                                         =\n",
            "# ==========================================================\n",
            "# ----------------------------------------------------------\n",
            "#   Problem Information\n",
            "# ----------------------------------------------------------\n",
            "Problem: \n",
            "- Name: unknown\n",
            "  Lower bound: 8200.0\n",
            "  Upper bound: 8200.0\n",
            "  Number of objectives: 1\n",
            "  Number of constraints: 7\n",
            "  Number of variables: 4\n",
            "  Number of nonzeros: 3\n",
            "  Sense: maximize\n",
            "# ----------------------------------------------------------\n",
            "#   Solver Information\n",
            "# ----------------------------------------------------------\n",
            "Solver: \n",
            "- Status: ok\n",
            "  User time: -1.0\n",
            "  System time: 0.0\n",
            "  Wallclock time: 0.0\n",
            "  Termination condition: optimal\n",
            "  Termination message: Model was solved to optimality (subject to tolerances), and an optimal solution is available.\n",
            "  Statistics: \n",
            "    Branch and bound: \n",
            "      Number of bounded subproblems: None\n",
            "      Number of created subproblems: None\n",
            "    Black box: \n",
            "      Number of iterations: 1\n",
            "  Error rc: 0\n",
            "  Time: 0.015657901763916016\n",
            "# ----------------------------------------------------------\n",
            "#   Solution Information\n",
            "# ----------------------------------------------------------\n",
            "Solution: \n",
            "- number of solutions: 0\n",
            "  number of solutions displayed: 0\n"
          ]
        }
      ]
    },
    {
      "cell_type": "code",
      "metadata": {
        "id": "f_TMcjKcRDF2",
        "colab": {
          "base_uri": "https://localhost:8080/"
        },
        "outputId": "ae09b2b2-b56c-4dc1-daca-c73bc3b553e5"
      },
      "source": [
        "# show the results\n",
        "print(\"Profit = \", model.profit(), \" per week\")\n",
        "print(\"Chairs = \", model.c(), \" units per week\")\n",
        "print(\"Desks = \", model.d(), \" units per week\")\n",
        "print(\"Tables = \", model.t(), \" units per week\")"
      ],
      "execution_count": null,
      "outputs": [
        {
          "output_type": "stream",
          "name": "stdout",
          "text": [
            "Profit =  8200.00008  per week\n",
            "Chairs =  0.0  units per week\n",
            "Desks =  266.66667  units per week\n",
            "Tables =  100.0  units per week\n"
          ]
        }
      ]
    },
    {
      "cell_type": "markdown",
      "metadata": {
        "id": "1CSwJWveAf0p"
      },
      "source": [
        "# Options available to us\n",
        "**WOAH!** 266.67 desks... what are we supposed to do with that?!\n",
        "\n",
        "*   Just assume that your business does not run in such a perfect world, and that rounding error from one desk is fine - in fact, there is probably some uncertainty in your biz practices and this is bound to add a little uncertainty. You round up (or down) and move on.\n",
        "*   Assume it is mission-critical that you have nice, integer outputs. This requires you to specify NonNegativeInteger values in your script (demonstrated below). \n",
        "  * This is a relatively boring implementation of integer programming - but it's our first step here.\n",
        "  * The optimal solution (objective function) will always be the same or decrease - by forcing your model's decision variables to take on integer values, you effectively are forcing an 'integer constraint'!\n",
        "  * Watch this video if you don't believe me (this professor has a lot of great videos, click through is playlist): https://www.youtube.com/watch?v=RhHhy-8sz-4\n",
        "\n"
      ]
    },
    {
      "cell_type": "markdown",
      "metadata": {
        "id": "NAB0iFcnBMv9"
      },
      "source": [
        "# Re-run the problem.\n",
        "The only thing that will change is the incorporation of 'NonNegativeIntegers' when we declare our decision variables."
      ]
    },
    {
      "cell_type": "code",
      "metadata": {
        "id": "MMmm3ltNCCRU"
      },
      "source": [
        "# declare the model\n",
        "model = ConcreteModel()\n",
        "\n",
        "# declare decision variables\n",
        "model.c = Var(domain=NonNegativeIntegers) # c for chairs\n",
        "model.d = Var(domain=NonNegativeIntegers) # d for desks\n",
        "model.t = Var(domain=NonNegativeIntegers) # t for tables\n",
        "\n",
        "# declare objective\n",
        "model.profit = Objective(\n",
        "                      expr = 15*model.c + 24*model.d + 18*model.t, # values come from the table\n",
        "                      sense = maximize)\n",
        "\n",
        "# declare constraints\n",
        "model.Constraint1 = Constraint(expr = 4*model.c + 6*model.d + 2*model.t <= 1800) # fabrication hours - updated!\n",
        "model.Constraint2 = Constraint(expr = 3*model.c + 5*model.d + 7*model.t <= 2400) # assembly hours\n",
        "model.Constraint3 = Constraint(expr = 3*model.c + 2*model.d + 4*model.t <= 1500) # shipping\n",
        "model.Constraint4 = Constraint(expr = model.c <= 360) # c demand\n",
        "model.Constraint5 = Constraint(expr = model.d <= 300) # d demand\n",
        "model.Constraint6 = Constraint(expr = model.t <= 100) # t demand"
      ],
      "execution_count": null,
      "outputs": []
    },
    {
      "cell_type": "code",
      "metadata": {
        "id": "xufIyKxQCCRY",
        "colab": {
          "base_uri": "https://localhost:8080/"
        },
        "outputId": "5c6d85d0-ac45-40b1-b010-6b66f5564e38"
      },
      "source": [
        "# show the model you've created\n",
        "model.pprint()"
      ],
      "execution_count": null,
      "outputs": [
        {
          "output_type": "stream",
          "name": "stdout",
          "text": [
            "3 Var Declarations\n",
            "    c : Size=1, Index=None\n",
            "        Key  : Lower : Value : Upper : Fixed : Stale : Domain\n",
            "        None :     0 :  None :  None : False :  True : NonNegativeIntegers\n",
            "    d : Size=1, Index=None\n",
            "        Key  : Lower : Value : Upper : Fixed : Stale : Domain\n",
            "        None :     0 :  None :  None : False :  True : NonNegativeIntegers\n",
            "    t : Size=1, Index=None\n",
            "        Key  : Lower : Value : Upper : Fixed : Stale : Domain\n",
            "        None :     0 :  None :  None : False :  True : NonNegativeIntegers\n",
            "\n",
            "1 Objective Declarations\n",
            "    profit : Size=1, Index=None, Active=True\n",
            "        Key  : Active : Sense    : Expression\n",
            "        None :   True : maximize : 15*c + 24*d + 18*t\n",
            "\n",
            "6 Constraint Declarations\n",
            "    Constraint1 : Size=1, Index=None, Active=True\n",
            "        Key  : Lower : Body            : Upper  : Active\n",
            "        None :  -Inf : 4*c + 6*d + 2*t : 1800.0 :   True\n",
            "    Constraint2 : Size=1, Index=None, Active=True\n",
            "        Key  : Lower : Body            : Upper  : Active\n",
            "        None :  -Inf : 3*c + 5*d + 7*t : 2400.0 :   True\n",
            "    Constraint3 : Size=1, Index=None, Active=True\n",
            "        Key  : Lower : Body            : Upper  : Active\n",
            "        None :  -Inf : 3*c + 2*d + 4*t : 1500.0 :   True\n",
            "    Constraint4 : Size=1, Index=None, Active=True\n",
            "        Key  : Lower : Body : Upper : Active\n",
            "        None :  -Inf :    c : 360.0 :   True\n",
            "    Constraint5 : Size=1, Index=None, Active=True\n",
            "        Key  : Lower : Body : Upper : Active\n",
            "        None :  -Inf :    d : 300.0 :   True\n",
            "    Constraint6 : Size=1, Index=None, Active=True\n",
            "        Key  : Lower : Body : Upper : Active\n",
            "        None :  -Inf :    t : 100.0 :   True\n",
            "\n",
            "10 Declarations: c d t profit Constraint1 Constraint2 Constraint3 Constraint4 Constraint5 Constraint6\n"
          ]
        }
      ]
    },
    {
      "cell_type": "code",
      "metadata": {
        "id": "0_EHM9cJCCRb",
        "colab": {
          "base_uri": "https://localhost:8080/"
        },
        "outputId": "59138849-24dc-4ada-ac41-efef38973c8e"
      },
      "source": [
        "# solve it\n",
        "SolverFactory('cbc', executable='/usr/bin/cbc').solve(model).write()"
      ],
      "execution_count": null,
      "outputs": [
        {
          "output_type": "stream",
          "name": "stdout",
          "text": [
            "# ==========================================================\n",
            "# = Solver Results                                         =\n",
            "# ==========================================================\n",
            "# ----------------------------------------------------------\n",
            "#   Problem Information\n",
            "# ----------------------------------------------------------\n",
            "Problem: \n",
            "- Name: unknown\n",
            "  Lower bound: 8199.0\n",
            "  Upper bound: 8199.0\n",
            "  Number of objectives: 1\n",
            "  Number of constraints: 3\n",
            "  Number of variables: 3\n",
            "  Number of binary variables: 0\n",
            "  Number of integer variables: 3\n",
            "  Number of nonzeros: 3\n",
            "  Sense: maximize\n",
            "# ----------------------------------------------------------\n",
            "#   Solver Information\n",
            "# ----------------------------------------------------------\n",
            "Solver: \n",
            "- Status: ok\n",
            "  User time: -1.0\n",
            "  System time: 0.0\n",
            "  Wallclock time: 0.0\n",
            "  Termination condition: optimal\n",
            "  Termination message: Model was solved to optimality (subject to tolerances), and an optimal solution is available.\n",
            "  Statistics: \n",
            "    Branch and bound: \n",
            "      Number of bounded subproblems: 0\n",
            "      Number of created subproblems: 0\n",
            "    Black box: \n",
            "      Number of iterations: 1\n",
            "  Error rc: 0\n",
            "  Time: 0.029833316802978516\n",
            "# ----------------------------------------------------------\n",
            "#   Solution Information\n",
            "# ----------------------------------------------------------\n",
            "Solution: \n",
            "- number of solutions: 0\n",
            "  number of solutions displayed: 0\n"
          ]
        }
      ]
    },
    {
      "cell_type": "code",
      "metadata": {
        "id": "vdrQ3PLMCCRd",
        "colab": {
          "base_uri": "https://localhost:8080/"
        },
        "outputId": "25df3aec-8c30-49c1-adee-3b8909bca3d5"
      },
      "source": [
        "# show the results\n",
        "print(\"Profit = \", model.profit(), \" per week\")\n",
        "print(\"Chairs = \", model.c(), \" units per week\")\n",
        "print(\"Desks = \", model.d(), \" units per week\")\n",
        "print(\"Tables = \", model.t(), \" units per week\")"
      ],
      "execution_count": null,
      "outputs": [
        {
          "output_type": "stream",
          "name": "stdout",
          "text": [
            "Profit =  8199.0  per week\n",
            "Chairs =  1.0  units per week\n",
            "Desks =  266.0  units per week\n",
            "Tables =  100.0  units per week\n"
          ]
        }
      ]
    },
    {
      "cell_type": "markdown",
      "metadata": {
        "id": "e6eqrrTqCI1e"
      },
      "source": [
        "# Analysis\n",
        "Our profit went down to 8199 from 8200 and now we are making a single chair. \n",
        "\n",
        "As we mentioned, imposing an integer constraint (even if just on the decision variables) will never improve your solution (think of it like red tape!). \n",
        "\n",
        "As a decision-maker, you may decide it doesn't make sense to manufacture a single chair. We'll talk more about the fixed and variable costs associated with manufacturing later on."
      ]
    }
  ]
}