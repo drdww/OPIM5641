{
  "nbformat": 4,
  "nbformat_minor": 0,
  "metadata": {
    "colab": {
      "name": "Fixed_VariableCosts_Mayhugh.ipynb",
      "provenance": [],
      "collapsed_sections": [],
      "toc_visible": true,
      "authorship_tag": "ABX9TyOx1SdjB40Eej2PLPXacKq/",
      "include_colab_link": true
    },
    "kernelspec": {
      "name": "python3",
      "display_name": "Python 3"
    }
  },
  "cells": [
    {
      "cell_type": "markdown",
      "metadata": {
        "id": "view-in-github",
        "colab_type": "text"
      },
      "source": [
        "<a href=\"https://colab.research.google.com/github/drdww/OPIM5641/blob/main/Module4/M4_1/3_Fixed_VariableCosts_Mayhugh.ipynb\" target=\"_parent\"><img src=\"https://colab.research.google.com/assets/colab-badge.svg\" alt=\"Open In Colab\"/></a>"
      ]
    },
    {
      "cell_type": "markdown",
      "metadata": {
        "id": "Gmd9un0EMtoj"
      },
      "source": [
        "# Integer Programming: Fixed and Variable Costs\n",
        "**OPIM 5641: Business Decision Modeling - University of Connecticut**\n",
        "\n",
        "Please refer to Powell Chapter 11 for more details and examples.\n",
        "\n",
        "-----------------------------------------------------------------------"
      ]
    },
    {
      "cell_type": "markdown",
      "metadata": {
        "id": "Z5oDtnc_SZyj"
      },
      "source": [
        "# Fixed and Variable Costs\n",
        "\n",
        "One of the assumptions in linear models is strict proportionality: The cost contributed by\n",
        "an activity is proportional to its activity level. \n",
        "\n",
        "However, we commonly encounter situations\n",
        "in which activity costs are composed of fixed costs and variable costs, with only the variable\n",
        "costs being proportional to activity level. With an integer programming model, we can also\n",
        "integrate the fixed component of cost.\n",
        "Imagine that we have already built a linear programming model, but one variable ($x$)\n",
        "has a fixed cost that we want to represent in the objective function. To incorporate this\n",
        "fixed cost into the model, we separate the fixed and variable components of cost. In\n",
        "algebraic terms, we write cost as\n",
        "$\\text{Cost} = Fy + cx$\n",
        "where $F$ represents the fixed cost, and $c$ represents the linear variable cost. The\n",
        "variables $x$ and $y$ are decision variables, where $x$ is a normal (continuous) variable and\n",
        "$y$ is a binary variable. (See figure below.)\n",
        "\n",
        "![Fixed and Variable Costs](https://drive.google.com/uc?export=view&id=1bdo_DGdhlVh8UyljqfnN3ROM9yMc_0M6)"
      ]
    },
    {
      "cell_type": "code",
      "metadata": {
        "id": "HpNluFkHuQD0"
      },
      "source": [
        "%matplotlib inline\n",
        "from pylab import *\n",
        "\n",
        "import shutil\n",
        "import sys\n",
        "import os.path\n",
        "\n",
        "if not shutil.which(\"pyomo\"):\n",
        "    !pip install -q pyomo\n",
        "    assert(shutil.which(\"pyomo\"))\n",
        "\n",
        "if not (shutil.which(\"cbc\") or os.path.isfile(\"cbc\")):\n",
        "    if \"google.colab\" in sys.modules:\n",
        "        !apt-get install -y -qq coinor-cbc\n",
        "    else:\n",
        "        try:\n",
        "            !conda install -c conda-forge coincbc \n",
        "        except:\n",
        "            pass\n",
        "\n",
        "assert(shutil.which(\"cbc\") or os.path.isfile(\"cbc\"))\n",
        "\n",
        "from pyomo.environ import *"
      ],
      "execution_count": null,
      "outputs": []
    },
    {
      "cell_type": "code",
      "metadata": {
        "id": "S4HLmdPnMn8n"
      },
      "source": [
        ""
      ],
      "execution_count": null,
      "outputs": []
    },
    {
      "cell_type": "markdown",
      "metadata": {
        "id": "dMkiAGgyNO-v"
      },
      "source": [
        "# Mayhugh Manufacturing\n",
        "Mayhugh Manufacturing, a medium-size job shop, has been producing and selling three product families. Each product family requires production hours in each of three departments. In addition, each product family requires its own sales force, which must be supported no matter how large or small the sales volume happens to be. The parameters describing the situation are summarized in the following tables:\n",
        "\n",
        "**Table:** Manufacturing time per product and total hours available\n",
        "\n",
        ". | F1 | F2 | F3| Hours Available\n",
        "---|---|---|---|---|\n",
        "Department A| 3| 4| 8| 2000\n",
        "Department B| 3 | 5| 6| 2000\n",
        "Department C| 2| 3| 9| 2000\n",
        "\n",
        "**Table:** Sales cost, product demand, profit per unit\n",
        "\n",
        ". | F1 | F2 | F3|\n",
        "---|---|---|---|\n",
        "Sales cost (\\$000)| 60 | 200| 100\n",
        "Demand (000)| 400| 300| 50| \n",
        "Profit per unit| \\$1.20| \\$1.80| \\$2.20\n",
        "\n",
        "\n",
        "The fixed cost are the sales costs (you need them no matter what) - the variable costs are how many widgets (F1, F2, F3) to create.\n",
        "\n",
        "\n"
      ]
    },
    {
      "cell_type": "markdown",
      "metadata": {
        "id": "afvQhwX9RqfM"
      },
      "source": [
        "# Scenario 1: You keep all product lines and ignore fixed costs.\n",
        "As a first attempt, let's treat this as a simple product-mix problem (and just add the fixed costs later on). We are trying to maximize the profit based on how many units of $F_1$, $F_2$ and $F_3$ we are making - and just like previous examples, we have to efficiently use all of the manufacturing hours available to us while not exceeding demand.\n",
        "\n",
        "**Objective function (given in 000's):**\n",
        "\n",
        "$\\max(z) = 1.2F_1 + 1.8F_2 + 2.2F_3 - 360$\n",
        "\n",
        "The $-360$ comes from the fixed costs associated with the dedicated salesforce for each product like $F_1$ (60K), $F_2$ (200K), and $F_3$ (100K).\n",
        "\n",
        "\n",
        "**Constraints (manufacturing hours):**\n",
        "\n",
        "$3F_1 + 4F_2 + 8F_3 \\leq 2000$ \n",
        "\n",
        "$3F_1 + 5F_2 + 6F_3 \\leq 2000$ \n",
        "\n",
        "$2F_1 + 3F_2 + 9F_3 \\leq 2000$ \n",
        "\n",
        "**Constraints (product demand):**\n",
        "\n",
        "$F_1 \\leq 400$\n",
        "\n",
        "$F_2 \\leq 300$\n",
        "\n",
        "$F_3 \\leq 50$"
      ]
    },
    {
      "cell_type": "markdown",
      "metadata": {
        "id": "MEkhU4sIt2bA"
      },
      "source": [
        "We have a lot of experience with this type of problem. The code is presented below."
      ]
    },
    {
      "cell_type": "code",
      "metadata": {
        "id": "rWTR-hBoUQsl",
        "outputId": "7b9c6bf4-1993-4d0a-ee7b-bdbf3b79bf26",
        "colab": {
          "base_uri": "https://localhost:8080/",
          "height": 659
        }
      },
      "source": [
        "# 1) concrete model\n",
        "model = ConcreteModel()\n",
        "\n",
        "# 2) declare decision variables\n",
        "model.F1 = Var(domain=NonNegativeIntegers) # number of iphones (integer)\n",
        "model.F2 = Var(domain=NonNegativeIntegers) # number of ipods\n",
        "model.F3 = Var(domain=NonNegativeIntegers) # number of laptops\n",
        "\n",
        "# 3) write the objective function: we are maximizing profit\n",
        "# don't forget to subtract your fixed costs!\n",
        "# obj func coeff is simply profit contribution F1, F2, F3\n",
        "# we are simply substracting fixed costs at the end (NO DECISION VARIABLE)\n",
        "model.OBJ = Objective(expr = 1.2*model.F1 + 1.8*model.F2 + 2.2*model.F3 - 360,\n",
        "                      sense=maximize)\n",
        "\n",
        "# 4) constraints\n",
        "# manufacturing constraints\n",
        "model.Constraint1 = Constraint(expr = 3*model.F1 + 4*model.F2 + 8*model.F3 <= 2000) # dept A\n",
        "model.Constraint2 = Constraint(expr = 3*model.F1 + 5*model.F2 + 6*model.F3 <= 2000) # dept B\n",
        "model.Constraint3 = Constraint(expr = 2*model.F1 + 3*model.F2 + 9*model.F3 <= 2000) # dept C\n",
        "\n",
        "# demand constraints\n",
        "model.Constraint4 = Constraint(expr = model.F1 <= 400) # demand for F1\n",
        "model.Constraint5 = Constraint(expr = model.F2 <= 300)\n",
        "model.Constraint6 = Constraint(expr = model.F3 <= 50)\n",
        "\n",
        "# 5) check your work, then solve!\n",
        "model.pprint()"
      ],
      "execution_count": null,
      "outputs": [
        {
          "output_type": "stream",
          "text": [
            "3 Var Declarations\n",
            "    F1 : Size=1, Index=None\n",
            "        Key  : Lower : Value : Upper : Fixed : Stale : Domain\n",
            "        None :     0 :  None :  None : False :  True : NonNegativeIntegers\n",
            "    F2 : Size=1, Index=None\n",
            "        Key  : Lower : Value : Upper : Fixed : Stale : Domain\n",
            "        None :     0 :  None :  None : False :  True : NonNegativeIntegers\n",
            "    F3 : Size=1, Index=None\n",
            "        Key  : Lower : Value : Upper : Fixed : Stale : Domain\n",
            "        None :     0 :  None :  None : False :  True : NonNegativeIntegers\n",
            "\n",
            "1 Objective Declarations\n",
            "    OBJ : Size=1, Index=None, Active=True\n",
            "        Key  : Active : Sense    : Expression\n",
            "        None :   True : maximize : 1.2*F1 + 1.8*F2 + 2.2*F3 - 360\n",
            "\n",
            "6 Constraint Declarations\n",
            "    Constraint1 : Size=1, Index=None, Active=True\n",
            "        Key  : Lower : Body               : Upper  : Active\n",
            "        None :  -Inf : 3*F1 + 4*F2 + 8*F3 : 2000.0 :   True\n",
            "    Constraint2 : Size=1, Index=None, Active=True\n",
            "        Key  : Lower : Body               : Upper  : Active\n",
            "        None :  -Inf : 3*F1 + 5*F2 + 6*F3 : 2000.0 :   True\n",
            "    Constraint3 : Size=1, Index=None, Active=True\n",
            "        Key  : Lower : Body               : Upper  : Active\n",
            "        None :  -Inf : 2*F1 + 3*F2 + 9*F3 : 2000.0 :   True\n",
            "    Constraint4 : Size=1, Index=None, Active=True\n",
            "        Key  : Lower : Body : Upper : Active\n",
            "        None :  -Inf :   F1 : 400.0 :   True\n",
            "    Constraint5 : Size=1, Index=None, Active=True\n",
            "        Key  : Lower : Body : Upper : Active\n",
            "        None :  -Inf :   F2 : 300.0 :   True\n",
            "    Constraint6 : Size=1, Index=None, Active=True\n",
            "        Key  : Lower : Body : Upper : Active\n",
            "        None :  -Inf :   F3 :  50.0 :   True\n",
            "\n",
            "10 Declarations: F1 F2 F3 OBJ Constraint1 Constraint2 Constraint3 Constraint4 Constraint5 Constraint6\n"
          ],
          "name": "stdout"
        }
      ]
    },
    {
      "cell_type": "markdown",
      "metadata": {
        "id": "TawczZggvoJM"
      },
      "source": [
        "Solve the model!"
      ]
    },
    {
      "cell_type": "code",
      "metadata": {
        "id": "tQ5ihLEnvo7F",
        "outputId": "4b665bf1-2a83-47fd-8979-bb7b0efc5b53",
        "colab": {
          "base_uri": "https://localhost:8080/",
          "height": 748
        }
      },
      "source": [
        "# solve it\n",
        "SolverFactory('cbc', executable='/usr/bin/cbc').solve(model).write()"
      ],
      "execution_count": null,
      "outputs": [
        {
          "output_type": "stream",
          "text": [
            "# ==========================================================\n",
            "# = Solver Results                                         =\n",
            "# ==========================================================\n",
            "# ----------------------------------------------------------\n",
            "#   Problem Information\n",
            "# ----------------------------------------------------------\n",
            "Problem: \n",
            "- Name: unknown\n",
            "  Lower bound: 410.0\n",
            "  Upper bound: 410.0\n",
            "  Number of objectives: 1\n",
            "  Number of constraints: 3\n",
            "  Number of variables: 3\n",
            "  Number of binary variables: 0\n",
            "  Number of integer variables: 3\n",
            "  Number of nonzeros: 3\n",
            "  Sense: maximize\n",
            "# ----------------------------------------------------------\n",
            "#   Solver Information\n",
            "# ----------------------------------------------------------\n",
            "Solver: \n",
            "- Status: ok\n",
            "  User time: -1.0\n",
            "  System time: 0.0\n",
            "  Wallclock time: 0.0\n",
            "  Termination condition: optimal\n",
            "  Termination message: Model was solved to optimality (subject to tolerances), and an optimal solution is available.\n",
            "  Statistics: \n",
            "    Branch and bound: \n",
            "      Number of bounded subproblems: 0\n",
            "      Number of created subproblems: 0\n",
            "    Black box: \n",
            "      Number of iterations: 0\n",
            "  Error rc: 0\n",
            "  Time: 0.026991844177246094\n",
            "# ----------------------------------------------------------\n",
            "#   Solution Information\n",
            "# ----------------------------------------------------------\n",
            "Solution: \n",
            "- number of solutions: 0\n",
            "  number of solutions displayed: 0\n"
          ],
          "name": "stdout"
        }
      ]
    },
    {
      "cell_type": "markdown",
      "metadata": {
        "id": "qOrPK2e9vwmg"
      },
      "source": [
        "Show the results. So we will make a profit of 410 (K) and will manufacture 400 units of $F_1$, 100 units of $F_2$ and 50 units of $F_3$."
      ]
    },
    {
      "cell_type": "code",
      "metadata": {
        "id": "-Qt9bjqWvx1p",
        "outputId": "6349cca7-8a7f-45df-f605-53eb8bd96422",
        "colab": {
          "base_uri": "https://localhost:8080/",
          "height": 87
        }
      },
      "source": [
        "# show the results\n",
        "print(\"Total profit = \", model.OBJ())\n",
        "print('F1 units = ', model.F1())\n",
        "print('F2 units = ', model.F2())\n",
        "print('F3 units = ', model.F3())"
      ],
      "execution_count": null,
      "outputs": [
        {
          "output_type": "stream",
          "text": [
            "Total profit =  410.0\n",
            "F1 units =  400.0\n",
            "F2 units =  100.0\n",
            "F3 units =  50.0\n"
          ],
          "name": "stdout"
        }
      ]
    },
    {
      "cell_type": "markdown",
      "metadata": {
        "id": "tBS9ahNTwIbp"
      },
      "source": [
        "And if you want to check on constraints, just print them off. Some constraints are binding. "
      ]
    },
    {
      "cell_type": "code",
      "metadata": {
        "id": "rysm6NdowLRd",
        "outputId": "0dfaec16-e784-4f59-9e26-5f45f049ac4a",
        "colab": {
          "base_uri": "https://localhost:8080/",
          "height": 121
        }
      },
      "source": [
        "print('Manufacturing Constraint A: ', model.Constraint1()) # binding\n",
        "print('Manufacturing Constraint B: ', model.Constraint2()) # binding\n",
        "print('Manufacturing Constraint C: ', model.Constraint3()) # not\n",
        "print('Demand Constraint F1: ', model.Constraint4()) # binding\n",
        "print('Demand Constraint F2: ', model.Constraint5()) # not\n",
        "print('Demand Constraint F3 ', model.Constraint6()) # not"
      ],
      "execution_count": null,
      "outputs": [
        {
          "output_type": "stream",
          "text": [
            "Manufacturing Constraint A:  2000.0\n",
            "Manufacturing Constraint B:  2000.0\n",
            "Manufacturing Constraint C:  1550.0\n",
            "Demand Constraint F1:  400.0\n",
            "Demand Constraint F2:  100.0\n",
            "Demand Constraint F3  50.0\n"
          ],
          "name": "stdout"
        }
      ]
    },
    {
      "cell_type": "markdown",
      "metadata": {
        "id": "VKlETwROwyLC"
      },
      "source": [
        "This is one way of solving the problem - implicitly assume that you just have a product mix problem and then subtract a constant (your fixed costs, 360K). \n",
        "\n",
        "But we can so much better! Look at the next few scenarios."
      ]
    },
    {
      "cell_type": "markdown",
      "metadata": {
        "id": "qE4bnlu9etH7"
      },
      "source": [
        "# Scenario 2: Consider dropping product line(s)\n",
        "Before we talk about dropping product lines, we will need to introduce linking constraints."
      ]
    },
    {
      "cell_type": "markdown",
      "metadata": {
        "id": "0xWIH7QdUi3E"
      },
      "source": [
        "# Linking Constraints\n",
        " Constraints in the linear program involve\n",
        "only the variable portion—that is, they involve only the variable $x$, not the variable $y$.\n",
        "In this situation, we also want to make sure that the variables $x$ and $y$ work together\n",
        "consistently. In particular, we want to have $y=1$ (so that we incur the fixed cost) when\n",
        "$x=0$, and we want to have $y=0$ (so that we avoid the fixed cost) when $x=0$. To achieve *consistent* linking of the two variables, we add the following generic linking constraint to the model:\n",
        "\n",
        "<center>\n",
        "$x \\leq My$\n",
        "</center>\n",
        "\n",
        "where the number $M$ represents an upper bound on the variable $x$. In other words, $M$\n",
        "is at least as large as any value we can feasibly choose for $x$ (like a maximum demand).\n",
        "\n",
        "\n",
        "Why does the linking constraint work? It is just another feasibility condition to be satisfied. When $y=0$ (and therefore no fixed cost is\n",
        "incurred), the right-hand side becomes zero, and the constraint is interpreted as $x=0$. \n",
        "\n",
        "Since we also require $x=0$, these two constraints together force $x$ to be zero. Thus, when $y=0$, it will be consistent to avoid the fixed cost. On the other hand, when $y=1$, the right-hand side will be so large that Solver does not need to restrict $x$ at all,\n",
        "permitting its value to be positive while we incur the fixed cost. Thus, when $y=1$, it will be consistent to incur the fixed cost. Of course, because we are optimizing, Solver will never produce a solution with the combination of $y=1$ and $x=0$ because it would\n",
        "always be preferable to set $y=0$."
      ]
    },
    {
      "cell_type": "markdown",
      "metadata": {
        "id": "9s1pXc-_Rt1B"
      },
      "source": [
        "\n",
        "In the previous scenario, there was no basis for determining whether any one of the families should be\n",
        "dropped, because fixed cost considerations are not within the scope of the linear programming analysis.\n",
        "To formulate the full problem as an integer programming model, we make two changes. \n",
        "\n",
        "First, we write the objective function with separate terms for variable profit and\n",
        "fixed cost (we'll get rid of F1, F2 and F3 and instead introduce a subscript $_1$ for F1 etc.):\n",
        "\n",
        "$\\max(\\text{NetProfit}) = 1.2x_1 - 60y_1 + 1.8x_2 - 200y_2 + 2.2x_3 - 100y_3$\n",
        "\n",
        "Right off the bat, the above formula wouldn't fixed much, other than that we've interested $y$ for binary decision variables and $x$ for our continuous variables. Our naming convention will be such that $y$ is ALWAYS for binary decisions (fixed costs) and $x$ is for continuous variables (variable costs). But this is only part of the story...\n",
        "\n",
        "In order to ensure consistency, we also introduce these linking constraints.\n",
        "\n",
        "<center>\n",
        "$x_1 - M_1y_1 \\leq 0$\n",
        "\n",
        "$x_2 - M_2y_2 \\leq 0$\n",
        "\n",
        "$x_3 - M_3y_3 \\leq 0$\n",
        "</center>\n",
        "\n",
        "Each of the above constraints will ensure that we do not make any $x_1$, $x_2$ or $x_3$ if we don't engage in that product line!!! This is AWESOME. Such a simple hack - yet it ensures that we won't need those fixed costs if we aren't going into that product line.\n",
        "\n",
        "The key is ensuring you pick an appropriate value for $M$'s. In our case, demand makes a lot of sense (400 for $F_1$, 300 for $F_2$ and 100 for $F_3$) - we should not be making more widgets than demand!\n",
        "\n",
        "Now look at how we can reformulate this streamlined problem all together. What you will find is that the incorporation of a linking constraint can alter your final product mix substantially (and increase profits - at the expense of losing some dedicated sales teams...)\n",
        "\n",
        "\n",
        "**Objective function:**\n",
        "\n",
        "$\\max(\\text{NetProfit}) = 1.2x_1 - 60y_1 + 1.8x_2 - 200y_2 + 2.2x_3 - 100y_3$\n",
        "\n",
        "subject to:\n",
        "\n",
        "**Constraints (manufacturing):**\n",
        "\n",
        "$3x_1 + 4x_2 + 8x_3 \\leq 2000$\n",
        "\n",
        "$3x_1 + 5x_2 + 6x_3 \\leq 2000$\n",
        "\n",
        "$2x_1 + 3x_2 + 9x_3 \\leq 2000$\n",
        "\n",
        "**Constraints (linking constraints - for fixed and variable costs):**\n",
        "\n",
        "$x_1 - 400y_1 \\leq 0$\n",
        "\n",
        "$x_2 - 300y_2 \\leq 0$\n",
        "\n",
        "$x_3 - 50y_3 \\leq 0$\n",
        "\n",
        "Let it rip and see what we get!\n",
        "\n",
        "\n"
      ]
    },
    {
      "cell_type": "code",
      "metadata": {
        "id": "WKwZR18b5Lmw",
        "outputId": "30cb0e3a-c916-4c77-97b5-f64e4fcd8425",
        "colab": {
          "base_uri": "https://localhost:8080/",
          "height": 815
        }
      },
      "source": [
        "# 1) concrete model\n",
        "model = ConcreteModel()\n",
        "\n",
        "# 2) declare decision variables (x1 instead F1, etc.)\n",
        "model.x1 = Var(domain=NonNegativeIntegers)\n",
        "model.x2 = Var(domain=NonNegativeIntegers)\n",
        "model.x3 = Var(domain=NonNegativeIntegers)\n",
        "# now add our binary variables\n",
        "model.y1 = Var(domain=Binary) # can only take on values of 0/1\n",
        "model.y2 = Var(domain=Binary)\n",
        "model.y3 = Var(domain=Binary)\n",
        "\n",
        "# 3) write the objective function: we are maximizing profit\n",
        "# now we are rewriting this to account for x1 and y1 etc.\n",
        "# see how nice this is rather than subtracting a constant?\n",
        "model.OBJ = Objective(expr = 1.2*model.x1 - 60*model.y1 + #F1\n",
        "                              1.8*model.x2 - 200*model.y2 + #F2\n",
        "                               2.2*model.x3 - 100*model.y3, #F3\n",
        "                      sense=maximize)\n",
        "\n",
        "# 4) constraints\n",
        "# manufacturing constraints - similar to before, but x1 instead of F1 etc.\n",
        "model.Constraint1 = Constraint(expr = 3*model.x1 + 4*model.x2 + 8*model.x3 <= 2000) # dept A\n",
        "model.Constraint2 = Constraint(expr = 3*model.x1 + 5*model.x2 + 6*model.x3 <= 2000) # dept B\n",
        "model.Constraint3 = Constraint(expr = 2*model.x1 + 3*model.x2 + 9*model.x3 <= 2000) # dept C\n",
        "\n",
        "# these previous demand costraints are rewritten as LINKING CONSTRAINTS\n",
        "# which can help us decide if we should even be in that product line!\n",
        "model.Constraint4 = Constraint(expr = model.x1 - 400*model.y1 <= 0) \n",
        "model.Constraint5 = Constraint(expr = model.x2 - 300*model.y2 <= 0)\n",
        "model.Constraint6 = Constraint(expr = model.x3 - 50*model.y3 <= 0)\n",
        "\n",
        "# 5) check your work, then solve!\n",
        "model.pprint()"
      ],
      "execution_count": null,
      "outputs": [
        {
          "output_type": "stream",
          "text": [
            "6 Var Declarations\n",
            "    x1 : Size=1, Index=None\n",
            "        Key  : Lower : Value : Upper : Fixed : Stale : Domain\n",
            "        None :     0 :  None :  None : False :  True : NonNegativeIntegers\n",
            "    x2 : Size=1, Index=None\n",
            "        Key  : Lower : Value : Upper : Fixed : Stale : Domain\n",
            "        None :     0 :  None :  None : False :  True : NonNegativeIntegers\n",
            "    x3 : Size=1, Index=None\n",
            "        Key  : Lower : Value : Upper : Fixed : Stale : Domain\n",
            "        None :     0 :  None :  None : False :  True : NonNegativeIntegers\n",
            "    y1 : Size=1, Index=None\n",
            "        Key  : Lower : Value : Upper : Fixed : Stale : Domain\n",
            "        None :     0 :  None :     1 : False :  True : Binary\n",
            "    y2 : Size=1, Index=None\n",
            "        Key  : Lower : Value : Upper : Fixed : Stale : Domain\n",
            "        None :     0 :  None :     1 : False :  True : Binary\n",
            "    y3 : Size=1, Index=None\n",
            "        Key  : Lower : Value : Upper : Fixed : Stale : Domain\n",
            "        None :     0 :  None :     1 : False :  True : Binary\n",
            "\n",
            "1 Objective Declarations\n",
            "    OBJ : Size=1, Index=None, Active=True\n",
            "        Key  : Active : Sense    : Expression\n",
            "        None :   True : maximize : 1.2*x1 - 60*y1 + 1.8*x2 - 200*y2 + 2.2*x3 - 100*y3\n",
            "\n",
            "6 Constraint Declarations\n",
            "    Constraint1 : Size=1, Index=None, Active=True\n",
            "        Key  : Lower : Body               : Upper  : Active\n",
            "        None :  -Inf : 3*x1 + 4*x2 + 8*x3 : 2000.0 :   True\n",
            "    Constraint2 : Size=1, Index=None, Active=True\n",
            "        Key  : Lower : Body               : Upper  : Active\n",
            "        None :  -Inf : 3*x1 + 5*x2 + 6*x3 : 2000.0 :   True\n",
            "    Constraint3 : Size=1, Index=None, Active=True\n",
            "        Key  : Lower : Body               : Upper  : Active\n",
            "        None :  -Inf : 2*x1 + 3*x2 + 9*x3 : 2000.0 :   True\n",
            "    Constraint4 : Size=1, Index=None, Active=True\n",
            "        Key  : Lower : Body        : Upper : Active\n",
            "        None :  -Inf : x1 - 400*y1 :   0.0 :   True\n",
            "    Constraint5 : Size=1, Index=None, Active=True\n",
            "        Key  : Lower : Body        : Upper : Active\n",
            "        None :  -Inf : x2 - 300*y2 :   0.0 :   True\n",
            "    Constraint6 : Size=1, Index=None, Active=True\n",
            "        Key  : Lower : Body       : Upper : Active\n",
            "        None :  -Inf : x3 - 50*y3 :   0.0 :   True\n",
            "\n",
            "13 Declarations: x1 x2 x3 y1 y2 y3 OBJ Constraint1 Constraint2 Constraint3 Constraint4 Constraint5 Constraint6\n"
          ],
          "name": "stdout"
        }
      ]
    },
    {
      "cell_type": "markdown",
      "metadata": {
        "id": "B4j-aHdA6QXe"
      },
      "source": [
        "Now solve it!"
      ]
    },
    {
      "cell_type": "code",
      "metadata": {
        "id": "4R8GlNS_URLK",
        "outputId": "8c16d542-ba54-4501-9500-b46dacccb087",
        "colab": {
          "base_uri": "https://localhost:8080/",
          "height": 748
        }
      },
      "source": [
        "# solve it\n",
        "SolverFactory('cbc', executable='/usr/bin/cbc').solve(model).write()"
      ],
      "execution_count": null,
      "outputs": [
        {
          "output_type": "stream",
          "text": [
            "# ==========================================================\n",
            "# = Solver Results                                         =\n",
            "# ==========================================================\n",
            "# ----------------------------------------------------------\n",
            "#   Problem Information\n",
            "# ----------------------------------------------------------\n",
            "Problem: \n",
            "- Name: unknown\n",
            "  Lower bound: 508.0\n",
            "  Upper bound: 508.0\n",
            "  Number of objectives: 1\n",
            "  Number of constraints: 6\n",
            "  Number of variables: 6\n",
            "  Number of binary variables: 3\n",
            "  Number of integer variables: 6\n",
            "  Number of nonzeros: 6\n",
            "  Sense: maximize\n",
            "# ----------------------------------------------------------\n",
            "#   Solver Information\n",
            "# ----------------------------------------------------------\n",
            "Solver: \n",
            "- Status: ok\n",
            "  User time: -1.0\n",
            "  System time: 0.01\n",
            "  Wallclock time: 0.01\n",
            "  Termination condition: optimal\n",
            "  Termination message: Model was solved to optimality (subject to tolerances), and an optimal solution is available.\n",
            "  Statistics: \n",
            "    Branch and bound: \n",
            "      Number of bounded subproblems: 0\n",
            "      Number of created subproblems: 0\n",
            "    Black box: \n",
            "      Number of iterations: 0\n",
            "  Error rc: 0\n",
            "  Time: 0.03344440460205078\n",
            "# ----------------------------------------------------------\n",
            "#   Solution Information\n",
            "# ----------------------------------------------------------\n",
            "Solution: \n",
            "- number of solutions: 0\n",
            "  number of solutions displayed: 0\n"
          ],
          "name": "stdout"
        }
      ]
    },
    {
      "cell_type": "markdown",
      "metadata": {
        "id": "HeVKMSE_6SFj"
      },
      "source": [
        "And show the results."
      ]
    },
    {
      "cell_type": "code",
      "metadata": {
        "id": "uJBVgSPV6Yuw",
        "outputId": "ce5af8d8-4a8e-4a5a-d3bf-91d2f3ebcf4d",
        "colab": {
          "base_uri": "https://localhost:8080/",
          "height": 139
        }
      },
      "source": [
        "# show the results\n",
        "print(\"Total profit = \", model.OBJ())\n",
        "print('X1 units = ', model.x1())\n",
        "print('Y1 binary = ', model.y1())\n",
        "print('X2 units = ', model.x2())\n",
        "print('Y2 binary = ', model.y2())\n",
        "print('X3 units = ', model.x3())\n",
        "print('Y3 binary = ', model.y3())"
      ],
      "execution_count": null,
      "outputs": [
        {
          "output_type": "stream",
          "text": [
            "Total profit =  508.0\n",
            "X1 units =  400.0\n",
            "Y1 binary =  1.0\n",
            "X2 units =  160.0\n",
            "Y2 binary =  1.0\n",
            "X3 units =  0.0\n",
            "Y3 binary =  0.0\n"
          ],
          "name": "stdout"
        }
      ]
    },
    {
      "cell_type": "markdown",
      "metadata": {
        "id": "-YB26bAl8NlG"
      },
      "source": [
        "The optimal solution achieves a net profit of \\$508,000. In order to attain this\n",
        "level of profits, the company must produce family F1 up to its ceiling, produce\n",
        "family F2 at the level of 160,000, and eliminate production of product family F3. In\n",
        "other words, the integer programming model detects that family F3 does not cover\n",
        "its fixed cost, and the company would be better off not producing and selling that\n",
        "family at all."
      ]
    },
    {
      "cell_type": "markdown",
      "metadata": {
        "id": "WjjT7lvo64tH"
      },
      "source": [
        "**WOAH!** Our company is no longer in the business of making $F_3$... it gets the boot and so does its sales team. Notice how a simple reframing can yield a drastically different result.\n",
        "\n",
        "Sometimes fixed costs can be a dedicated sales team, but it can be so much more - the specialized equipment needed to create a product line, rent, computers, paper for the office etc. Things that are STATIC regardless of how many units of a widget you are producing.\n",
        "\n",
        "A big change in this formulation of the problem is that our demand constraint has been rewritten as a linking constraint that includes a binary variable and the demand all in one. The fixed costs are included in the objective function, and now they have been broken out instead of being lumped into a single constant (360)."
      ]
    },
    {
      "cell_type": "markdown",
      "metadata": {
        "id": "UvJbatMI7xNI"
      },
      "source": [
        "If you want to look at the linking constraints vs. the manufacturing constraints, we can do so like this:"
      ]
    },
    {
      "cell_type": "code",
      "metadata": {
        "id": "4rqzQJrt74Pu",
        "outputId": "d73f2761-2e55-428f-aab0-e6f8ec4ff13a",
        "colab": {
          "base_uri": "https://localhost:8080/",
          "height": 121
        }
      },
      "source": [
        "print('Manufacturing Constraint A: ', model.Constraint1()) # not\n",
        "print('Manufacturing Constraint B: ', model.Constraint2()) # binding\n",
        "print('Manufacturing Constraint C: ', model.Constraint3()) # not\n",
        "print('Linking Constraint x1: ', model.Constraint4()) # binding\n",
        "print('Linking Constraint x2: ', model.Constraint5()) # not\n",
        "print('Linking Constraint x3: ', model.Constraint6()) # binding"
      ],
      "execution_count": null,
      "outputs": [
        {
          "output_type": "stream",
          "text": [
            "Manufacturing Constraint A:  1840.0\n",
            "Manufacturing Constraint B:  2000.0\n",
            "Manufacturing Constraint C:  1280.0\n",
            "Linking Constraint x1:  0.0\n",
            "Linking Constraint x2:  -140.0\n",
            "Linking Constraint x3:  0.0\n"
          ],
          "name": "stdout"
        }
      ]
    },
    {
      "cell_type": "markdown",
      "metadata": {
        "id": "Q1WxK_2A8E4N"
      },
      "source": [
        "On your own, you could do a sensitivity analysis and see how things would change."
      ]
    },
    {
      "cell_type": "markdown",
      "metadata": {
        "id": "otYviWSZUJcZ"
      },
      "source": [
        "# Scenario 3: Product minimums and threshold levels.\n",
        "Sometimes we encounter cost schedules that require us to participate at a specified\n",
        "minimum level. For example, in purchasing, we might be able to qualify for a discounted\n",
        "price if we buy in quantity. As another example, in manufacturing, a setup is sufficiently\n",
        "disruptive that the line would be set up to assemble a batch of motors only if we’re making\n",
        "at least a dozen of them, not merely one or two. These examples illustrate a threshold-level\n",
        "requirement: a decision variable is either at least as large as a specified minimum, or else\n",
        "it is zero.\n",
        "The existence of a threshold level does not directly affect the objective function\n",
        "of a model, and it can be represented in the constraints with the help of binary\n",
        "variables. Suppose we have a variable $x$ that is subject to a threshold requirement.\n",
        "Let $m$ denote the minimum feasible value of $x$ if it is nonzero. Then we can capture\n",
        "this structure in an integer programming model by including the following pair\n",
        "of constraints:\n",
        "\n",
        "<center>\n",
        "$x - my \\geq 0$\n",
        "\n",
        "$x - My \\leq 0$\n",
        "</center>\n",
        "\n",
        "where, as before, $M$ is a large number that is greater than or equal to any value $x$ could\n",
        "feasibly take. To see how these two requirements work, consider the two possibilities\n",
        "for the binary variable. When $y=1$, the constraints reduce to $m \\leq x \\leq M$, so that $x$ is\n",
        "forced to be at or above the threshold level. When $y=0$, the constraints reduce to $x=0$. Thus, the pair $x$ and $y$ will behave consistently."
      ]
    },
    {
      "cell_type": "markdown",
      "metadata": {
        "id": "c239WlLM_yVO"
      },
      "source": [
        "Let's try another formulation of the problem.\n",
        "\n",
        "Imagine we want to require that product family\n",
        "$F_2$ have a production level of at least 250,000 if it is to have a sales force. Since the model\n",
        "already includes the linking constraint $x_2 - 300y_2 \\leq 0$, we need only to add the threshold\n",
        "constraint $x_2 - 250y_2 \\geq 0$, and the search for an $F2$ level will be restricted to production\n",
        "values between 250 and 300, or zero."
      ]
    },
    {
      "cell_type": "markdown",
      "metadata": {
        "id": "odP4xTX5CBb4"
      },
      "source": [
        "Grab all of the code from the previous section, and now add one more threshold constraint, such that if we go into $F_2$, we must meet manufacturing minimums."
      ]
    },
    {
      "cell_type": "code",
      "metadata": {
        "id": "eMSlBmxQURsY",
        "outputId": "d9dce7b7-e958-421a-ea22-5342669a4fe6",
        "colab": {
          "base_uri": "https://localhost:8080/",
          "height": 887
        }
      },
      "source": [
        "# 1) concrete model\n",
        "model = ConcreteModel()\n",
        "\n",
        "# 2) declare decision variables (x1 instead F1, etc.)\n",
        "model.x1 = Var(domain=NonNegativeIntegers)\n",
        "model.x2 = Var(domain=NonNegativeIntegers)\n",
        "model.x3 = Var(domain=NonNegativeIntegers)\n",
        "# now add our binary variables\n",
        "model.y1 = Var(domain=Binary) # can only take on values of 0/1\n",
        "model.y2 = Var(domain=Binary)\n",
        "model.y3 = Var(domain=Binary)\n",
        "\n",
        "# 3) write the objective function: we are maximizing profit\n",
        "# now we are rewriting this to account for x1 and y1 etc.\n",
        "# see how nice this is rather than subtracting a constant?\n",
        "model.OBJ = Objective(expr = 1.2*model.x1 - 60*model.y1 +\n",
        "                              1.8*model.x2 - 200*model.y2 +\n",
        "                               2.2*model.x3 - 100*model.y3,\n",
        "                      sense=maximize)\n",
        "\n",
        "# 4) constraints\n",
        "# manufacturing constraints - similar to before, but x1 instead of F1 etc.\n",
        "model.Constraint1 = Constraint(expr = 3*model.x1 + 4*model.x2 + 8*model.x3 <= 2000) # dept A\n",
        "model.Constraint2 = Constraint(expr = 3*model.x1 + 5*model.x2 + 6*model.x3 <= 2000) # dept B\n",
        "model.Constraint3 = Constraint(expr = 2*model.x1 + 3*model.x2 + 9*model.x3 <= 2000) # dept C\n",
        "\n",
        "# these previous demand costraints are rewritten as LINKING CONSTRAINTS\n",
        "# which can help us decide if we should even be in that product line!\n",
        "model.Constraint4 = Constraint(expr = model.x1 - 400*model.y1 <= 0) #M\n",
        "model.Constraint5 = Constraint(expr = model.x2 - 300*model.y2 <= 0)\n",
        "model.Constraint6 = Constraint(expr = model.x3 - 50*model.y3 <= 0)\n",
        "\n",
        "# NEW: threshold constraint\n",
        "model.Constraint7 = Constraint(expr = model.x2 - 250*model.y2 >= 0) #m (make at least 250)\n",
        "\n",
        "# 5) check your work, then solve!\n",
        "model.pprint()"
      ],
      "execution_count": null,
      "outputs": [
        {
          "output_type": "stream",
          "text": [
            "6 Var Declarations\n",
            "    x1 : Size=1, Index=None\n",
            "        Key  : Lower : Value : Upper : Fixed : Stale : Domain\n",
            "        None :     0 :  None :  None : False :  True : NonNegativeIntegers\n",
            "    x2 : Size=1, Index=None\n",
            "        Key  : Lower : Value : Upper : Fixed : Stale : Domain\n",
            "        None :     0 :  None :  None : False :  True : NonNegativeIntegers\n",
            "    x3 : Size=1, Index=None\n",
            "        Key  : Lower : Value : Upper : Fixed : Stale : Domain\n",
            "        None :     0 :  None :  None : False :  True : NonNegativeIntegers\n",
            "    y1 : Size=1, Index=None\n",
            "        Key  : Lower : Value : Upper : Fixed : Stale : Domain\n",
            "        None :     0 :  None :     1 : False :  True : Binary\n",
            "    y2 : Size=1, Index=None\n",
            "        Key  : Lower : Value : Upper : Fixed : Stale : Domain\n",
            "        None :     0 :  None :     1 : False :  True : Binary\n",
            "    y3 : Size=1, Index=None\n",
            "        Key  : Lower : Value : Upper : Fixed : Stale : Domain\n",
            "        None :     0 :  None :     1 : False :  True : Binary\n",
            "\n",
            "1 Objective Declarations\n",
            "    OBJ : Size=1, Index=None, Active=True\n",
            "        Key  : Active : Sense    : Expression\n",
            "        None :   True : maximize : 1.2*x1 - 60*y1 + 1.8*x2 - 200*y2 + 2.2*x3 - 100*y3\n",
            "\n",
            "7 Constraint Declarations\n",
            "    Constraint1 : Size=1, Index=None, Active=True\n",
            "        Key  : Lower : Body               : Upper  : Active\n",
            "        None :  -Inf : 3*x1 + 4*x2 + 8*x3 : 2000.0 :   True\n",
            "    Constraint2 : Size=1, Index=None, Active=True\n",
            "        Key  : Lower : Body               : Upper  : Active\n",
            "        None :  -Inf : 3*x1 + 5*x2 + 6*x3 : 2000.0 :   True\n",
            "    Constraint3 : Size=1, Index=None, Active=True\n",
            "        Key  : Lower : Body               : Upper  : Active\n",
            "        None :  -Inf : 2*x1 + 3*x2 + 9*x3 : 2000.0 :   True\n",
            "    Constraint4 : Size=1, Index=None, Active=True\n",
            "        Key  : Lower : Body        : Upper : Active\n",
            "        None :  -Inf : x1 - 400*y1 :   0.0 :   True\n",
            "    Constraint5 : Size=1, Index=None, Active=True\n",
            "        Key  : Lower : Body        : Upper : Active\n",
            "        None :  -Inf : x2 - 300*y2 :   0.0 :   True\n",
            "    Constraint6 : Size=1, Index=None, Active=True\n",
            "        Key  : Lower : Body       : Upper : Active\n",
            "        None :  -Inf : x3 - 50*y3 :   0.0 :   True\n",
            "    Constraint7 : Size=1, Index=None, Active=True\n",
            "        Key  : Lower : Body        : Upper : Active\n",
            "        None :   0.0 : x2 - 250*y2 :  +Inf :   True\n",
            "\n",
            "14 Declarations: x1 x2 x3 y1 y2 y3 OBJ Constraint1 Constraint2 Constraint3 Constraint4 Constraint5 Constraint6 Constraint7\n"
          ],
          "name": "stdout"
        }
      ]
    },
    {
      "cell_type": "markdown",
      "metadata": {
        "id": "gjtr58tCCcmO"
      },
      "source": [
        "Now solve it!"
      ]
    },
    {
      "cell_type": "code",
      "metadata": {
        "id": "AtopsnVvCcmP",
        "outputId": "d8acca0c-a77a-4ed2-e4fd-e8ed7a3b36e3",
        "colab": {
          "base_uri": "https://localhost:8080/",
          "height": 748
        }
      },
      "source": [
        "# solve it\n",
        "SolverFactory('cbc', executable='/usr/bin/cbc').solve(model).write()"
      ],
      "execution_count": null,
      "outputs": [
        {
          "output_type": "stream",
          "text": [
            "# ==========================================================\n",
            "# = Solver Results                                         =\n",
            "# ==========================================================\n",
            "# ----------------------------------------------------------\n",
            "#   Problem Information\n",
            "# ----------------------------------------------------------\n",
            "Problem: \n",
            "- Name: unknown\n",
            "  Lower bound: 490.0\n",
            "  Upper bound: 490.0\n",
            "  Number of objectives: 1\n",
            "  Number of constraints: 7\n",
            "  Number of variables: 6\n",
            "  Number of binary variables: 3\n",
            "  Number of integer variables: 6\n",
            "  Number of nonzeros: 6\n",
            "  Sense: maximize\n",
            "# ----------------------------------------------------------\n",
            "#   Solver Information\n",
            "# ----------------------------------------------------------\n",
            "Solver: \n",
            "- Status: ok\n",
            "  User time: -1.0\n",
            "  System time: 0.02\n",
            "  Wallclock time: 0.01\n",
            "  Termination condition: optimal\n",
            "  Termination message: Model was solved to optimality (subject to tolerances), and an optimal solution is available.\n",
            "  Statistics: \n",
            "    Branch and bound: \n",
            "      Number of bounded subproblems: 0\n",
            "      Number of created subproblems: 0\n",
            "    Black box: \n",
            "      Number of iterations: 0\n",
            "  Error rc: 0\n",
            "  Time: 0.03720355033874512\n",
            "# ----------------------------------------------------------\n",
            "#   Solution Information\n",
            "# ----------------------------------------------------------\n",
            "Solution: \n",
            "- number of solutions: 0\n",
            "  number of solutions displayed: 0\n"
          ],
          "name": "stdout"
        }
      ]
    },
    {
      "cell_type": "markdown",
      "metadata": {
        "id": "p3oBitA3CcmT"
      },
      "source": [
        "And show the results."
      ]
    },
    {
      "cell_type": "code",
      "metadata": {
        "id": "1x9CHNLQCcmU",
        "outputId": "82a9d3b5-8f74-43db-e1ce-927002f376be",
        "colab": {
          "base_uri": "https://localhost:8080/",
          "height": 139
        }
      },
      "source": [
        "# show the results\n",
        "print(\"Total profit = \", model.OBJ())\n",
        "print('X1 units = ', model.x1())\n",
        "print('Y1 binary = ', model.y1())\n",
        "print('X2 units = ', model.x2())\n",
        "print('Y2 binary = ', model.y2())\n",
        "print('X3 units = ', model.x3())\n",
        "print('Y3 binary = ', model.y3())"
      ],
      "execution_count": null,
      "outputs": [
        {
          "output_type": "stream",
          "text": [
            "Total profit =  490.0\n",
            "X1 units =  250.0\n",
            "Y1 binary =  1.0\n",
            "X2 units =  250.0\n",
            "Y2 binary =  1.0\n",
            "X3 units =  0.0\n",
            "Y3 binary =  0.0\n"
          ],
          "name": "stdout"
        }
      ]
    },
    {
      "cell_type": "code",
      "metadata": {
        "id": "6HbGFUnOCcmX",
        "outputId": "7080996c-4ca0-44dc-e702-866b0dd3f02a",
        "colab": {
          "base_uri": "https://localhost:8080/",
          "height": 139
        }
      },
      "source": [
        "print('Manufacturing Constraint A: ', model.Constraint1()) # not\n",
        "print('Manufacturing Constraint B: ', model.Constraint2()) # binding\n",
        "print('Manufacturing Constraint C: ', model.Constraint3()) # not\n",
        "print('Linking Constraint x1: ', model.Constraint4()) # binding\n",
        "print('Linking Constraint x2: ', model.Constraint5()) # not\n",
        "print('Linking Constraint x3: ', model.Constraint6()) # binding\n",
        "print('Threshold constraint x2: ', model.Constraint7()) # (x2 - 250y2 >= 0)"
      ],
      "execution_count": null,
      "outputs": [
        {
          "output_type": "stream",
          "text": [
            "Manufacturing Constraint A:  1750.0\n",
            "Manufacturing Constraint B:  2000.0\n",
            "Manufacturing Constraint C:  1250.0\n",
            "Linking Constraint x1:  -150.0\n",
            "Linking Constraint x2:  -50.0\n",
            "Linking Constraint x3:  0.0\n",
            "Threshold constraint x2:  0.0\n"
          ],
          "name": "stdout"
        }
      ]
    },
    {
      "cell_type": "markdown",
      "metadata": {
        "id": "gJX6zAJ1Cs_a"
      },
      "source": [
        "# Summary - look how far you've come\n",
        "Let's tabulate all of these results and compare.\n",
        "\n",
        "Scenario | F1 | F2| F3 | Profit\n",
        "---|---|---|---|---\n",
        "Scenario 1| 400 | 100| 50| 410\n",
        "Scenario 2| 400|160|0|508\n",
        "Scenario 3|250|250|0|490\n",
        "\n",
        "Your decisions have real consequences! Whenever you add more constraints to the model, you will never improve the objective function (like moving from Scenario 2 to 3 and requiring product minimums.)"
      ]
    }
  ]
}