{
  "nbformat": 4,
  "nbformat_minor": 0,
  "metadata": {
    "colab": {
      "name": "Integer_Project Selection",
      "provenance": [],
      "collapsed_sections": [],
      "include_colab_link": true
    },
    "kernelspec": {
      "name": "python3",
      "display_name": "Python 3"
    }
  },
  "cells": [
    {
      "cell_type": "markdown",
      "metadata": {
        "id": "view-in-github",
        "colab_type": "text"
      },
      "source": [
        "<a href=\"https://colab.research.google.com/github/drdww/OPIM5641/blob/main/Module4/M4_1/1_Integer_Project_Selection.ipynb\" target=\"_parent\"><img src=\"https://colab.research.google.com/assets/colab-badge.svg\" alt=\"Open In Colab\"/></a>"
      ]
    },
    {
      "cell_type": "markdown",
      "metadata": {
        "id": "0Q7rTx6fkkLd"
      },
      "source": [
        "# Integer Programming: Modeling Logic Constraints (Project Selection)\n",
        "**OPIM 5641: Business Decision Modeling - University of Connecticut**\n",
        "\n",
        "Please see Powell Chapter 11 (Integer Optimization) for more details and examples.\n",
        "\n",
        "------------------------------------------------------------------------\n"
      ]
    },
    {
      "cell_type": "markdown",
      "metadata": {
        "id": "C5TmxUkZ_C1p"
      },
      "source": [
        "# Introduction\n",
        "A binary variable, which takes on the values zero or one, can be used to represent a 'go/no go' decision. We can think in terms of discrete projects, where the decision to accept the project is represented by the value '1' and the decision to reject the project is represented by the value '0'. Let's examine problems that involve this **'binary choice'**."
      ]
    },
    {
      "cell_type": "code",
      "metadata": {
        "id": "K7P3cKtQOoTW"
      },
      "source": [
        "# import modules\n",
        "\n",
        "%matplotlib inline\n",
        "from pylab import *\n",
        "\n",
        "import shutil\n",
        "import sys\n",
        "import os.path\n",
        "\n",
        "if not shutil.which(\"pyomo\"):\n",
        "    !pip install -q pyomo\n",
        "    assert(shutil.which(\"pyomo\"))\n",
        "\n",
        "if not (shutil.which(\"cbc\") or os.path.isfile(\"cbc\")):\n",
        "    if \"google.colab\" in sys.modules:\n",
        "        !apt-get install -y -qq coinor-cbc\n",
        "    else:\n",
        "        try:\n",
        "            !conda install -c conda-forge coincbc \n",
        "        except:\n",
        "            pass\n",
        "\n",
        "assert(shutil.which(\"cbc\") or os.path.isfile(\"cbc\"))\n",
        "\n",
        "from pyomo.environ import *"
      ],
      "execution_count": null,
      "outputs": []
    },
    {
      "cell_type": "markdown",
      "metadata": {
        "id": "7dNqQ4mwaE_H"
      },
      "source": [
        "# Example: Project Selection\n",
        "\n",
        "A company has been allocated \\$160 million  for projects this year. There are five projects that can be selected, each with an initial cost to complete the project and a value (NPV) that comes from its implementation. The projects cover a wide range of activites:\n",
        "* P1: Implement a new IT system\n",
        "* P2: License a new technology from another firm\n",
        "* P3: Build a state-of-the-art recycling facility\n",
        "* P4: Install an automated machining center in production\n",
        "* P5: Move the receiving department to new facilties on site.\n",
        "\n",
        "There is just one project of each type. Each project has an estimated NPV and each requires a capital expenditure, which must come out of the budget for capital projects. The following table summarizes the possibilities, with all ﬁgures in millions of dollars:\n",
        "\n",
        "Project | P1 | P2 | P3 | P4 | P5 |\n",
        "--- | --- | --- | --- | --- | --- |\n",
        "NPV | 10 | 17 | 16 | 8 | 14 |\n",
        "Expenditure| 48 | 96 | 80 | 32 | 64\n",
        "\n",
        "You have to select from the 5 possible projects to work on. Your objective is to maximize NPV (value for each project given below) and to completely exhaust your budget for projects. Challenge accepted!"
      ]
    },
    {
      "cell_type": "markdown",
      "metadata": {
        "id": "EUC_4U68Gv7H"
      },
      "source": [
        "# First Attempt: allocation model with one constraint.\n",
        "We can formulate this problem as an allocation model with one constraint. To construct an algebraic model, we let\n",
        "\n",
        "<center>\n",
        "$y_j = 1$ if project $j$ is accepted; and $0$ otherwise.\n",
        "</center>\n",
        "\n",
        "The decision variables represent binary choice. When $y_j = 1$, project $j$ is selected to be part of the set of projects that are undertaken. When $yj = 0$, project $j$ is rejected. Only these two binary values have meaning as decisions.\n",
        "\n",
        "**Objective function:**\n",
        "\n",
        "<center>\n",
        "$\\max(z) = 10y_1 + 17y_2 + 16y_3 + 8y_4 + 14y_5$\n",
        "</center>\n",
        "\n",
        "... subject to...\n",
        "\n",
        "**Constraints:** \n",
        "\n",
        "<center>\n",
        "$48y_1 + 96y_2 + 80y_3 + 32y_4 + 64y_5 \\leq 160$\n",
        "</center>\n",
        "\n",
        "Let's code this thing up in Pyomo!\n"
      ]
    },
    {
      "cell_type": "code",
      "metadata": {
        "id": "jWsOPcApOaPJ",
        "colab": {
          "base_uri": "https://localhost:8080/"
        },
        "outputId": "b57e2438-db2b-4605-ef79-2a3fe01fc87e"
      },
      "source": [
        "# 1) concrete model\n",
        "model = ConcreteModel()\n",
        "\n",
        "# 2) declare decision variables\n",
        "model.y1 = Var(domain=NonNegativeIntegers) # non-negative integers!\n",
        "model.y2 = Var(domain=NonNegativeIntegers) # \n",
        "model.y3 = Var(domain=NonNegativeIntegers) # \n",
        "model.y4 = Var(domain=NonNegativeIntegers) # \n",
        "model.y5 = Var(domain=NonNegativeIntegers) # \n",
        "\n",
        "# 3) objective function: maximize value!\n",
        "model.OBJ = Objective(expr = 10*model.y1 + 17*model.y2 + 16*model.y3 + 8*model.y4 + 14*model.y5,\n",
        "                      sense = maximize)\n",
        "\n",
        "# 4) constraints\n",
        "model.Constraint1 = Constraint(expr = 48*model.y1 + 96*model.y2 + 80*model.y3 + 32*model.y4 + 64*model.y5 <= 160)\n",
        "\n",
        "# # these are unncessary if you force a binary variable type!\n",
        "# # you would only need these if you used 'NonNegativeIntegers' (you could, but more work/typing/errors...)\n",
        "# model.ConstraintP1 = Constraint(expr = model.y1 <= 1)\n",
        "# model.ConstraintP2 = Constraint(expr = model.y2 <= 1)\n",
        "# model.ConstraintP3 = Constraint(expr = model.y3 <= 1)\n",
        "# model.ConstraintP4 = Constraint(expr = model.y4 <= 1)\n",
        "# model.ConstraintP5 = Constraint(expr = model.y5 <= 1)\n",
        "\n",
        "# check it out, then run it!\n",
        "model.pprint()"
      ],
      "execution_count": null,
      "outputs": [
        {
          "output_type": "stream",
          "name": "stdout",
          "text": [
            "5 Var Declarations\n",
            "    y1 : Size=1, Index=None\n",
            "        Key  : Lower : Value : Upper : Fixed : Stale : Domain\n",
            "        None :     0 :  None :  None : False :  True : NonNegativeIntegers\n",
            "    y2 : Size=1, Index=None\n",
            "        Key  : Lower : Value : Upper : Fixed : Stale : Domain\n",
            "        None :     0 :  None :  None : False :  True : NonNegativeIntegers\n",
            "    y3 : Size=1, Index=None\n",
            "        Key  : Lower : Value : Upper : Fixed : Stale : Domain\n",
            "        None :     0 :  None :  None : False :  True : NonNegativeIntegers\n",
            "    y4 : Size=1, Index=None\n",
            "        Key  : Lower : Value : Upper : Fixed : Stale : Domain\n",
            "        None :     0 :  None :  None : False :  True : NonNegativeIntegers\n",
            "    y5 : Size=1, Index=None\n",
            "        Key  : Lower : Value : Upper : Fixed : Stale : Domain\n",
            "        None :     0 :  None :  None : False :  True : NonNegativeIntegers\n",
            "\n",
            "1 Objective Declarations\n",
            "    OBJ : Size=1, Index=None, Active=True\n",
            "        Key  : Active : Sense    : Expression\n",
            "        None :   True : maximize : 10*y1 + 17*y2 + 16*y3 + 8*y4 + 14*y5\n",
            "\n",
            "1 Constraint Declarations\n",
            "    Constraint1 : Size=1, Index=None, Active=True\n",
            "        Key  : Lower : Body                                  : Upper : Active\n",
            "        None :  -Inf : 48*y1 + 96*y2 + 80*y3 + 32*y4 + 64*y5 : 160.0 :   True\n",
            "\n",
            "7 Declarations: y1 y2 y3 y4 y5 OBJ Constraint1\n"
          ]
        }
      ]
    },
    {
      "cell_type": "markdown",
      "metadata": {
        "id": "5-87EN6VPgCo"
      },
      "source": [
        "Run it!"
      ]
    },
    {
      "cell_type": "code",
      "metadata": {
        "id": "2JwQT5MfPjZq",
        "colab": {
          "base_uri": "https://localhost:8080/"
        },
        "outputId": "bdf1ea6f-6e03-40fa-94cb-db33b5ff00ee"
      },
      "source": [
        "# solve it\n",
        "SolverFactory('cbc', executable='/usr/bin/cbc').solve(model).write()"
      ],
      "execution_count": null,
      "outputs": [
        {
          "output_type": "stream",
          "name": "stdout",
          "text": [
            "# ==========================================================\n",
            "# = Solver Results                                         =\n",
            "# ==========================================================\n",
            "# ----------------------------------------------------------\n",
            "#   Problem Information\n",
            "# ----------------------------------------------------------\n",
            "Problem: \n",
            "- Name: unknown\n",
            "  Lower bound: 40.0\n",
            "  Upper bound: 40.0\n",
            "  Number of objectives: 1\n",
            "  Number of constraints: 1\n",
            "  Number of variables: 5\n",
            "  Number of binary variables: 0\n",
            "  Number of integer variables: 5\n",
            "  Number of nonzeros: 5\n",
            "  Sense: maximize\n",
            "# ----------------------------------------------------------\n",
            "#   Solver Information\n",
            "# ----------------------------------------------------------\n",
            "Solver: \n",
            "- Status: ok\n",
            "  User time: -1.0\n",
            "  System time: 0.0\n",
            "  Wallclock time: 0.0\n",
            "  Termination condition: optimal\n",
            "  Termination message: Model was solved to optimality (subject to tolerances), and an optimal solution is available.\n",
            "  Statistics: \n",
            "    Branch and bound: \n",
            "      Number of bounded subproblems: 0\n",
            "      Number of created subproblems: 0\n",
            "    Black box: \n",
            "      Number of iterations: 0\n",
            "  Error rc: 0\n",
            "  Time: 0.018204689025878906\n",
            "# ----------------------------------------------------------\n",
            "#   Solution Information\n",
            "# ----------------------------------------------------------\n",
            "Solution: \n",
            "- number of solutions: 0\n",
            "  number of solutions displayed: 0\n"
          ]
        }
      ]
    },
    {
      "cell_type": "markdown",
      "metadata": {
        "id": "rpg0zDGLPk2V"
      },
      "source": [
        "Evaluate the output."
      ]
    },
    {
      "cell_type": "code",
      "metadata": {
        "id": "24kDW6vjPme5",
        "colab": {
          "base_uri": "https://localhost:8080/"
        },
        "outputId": "c28d1b28-7a53-4019-fcd2-4622afd6b2c8"
      },
      "source": [
        "# show the results\n",
        "print(\"Objective = \", model.OBJ())\n",
        "print(\"Project P1 = \", model.y1())\n",
        "print(\"Project P2 = \", model.y2())\n",
        "print(\"Project P3 = \", model.y3())\n",
        "print(\"Project P4 = \", model.y4())\n",
        "print(\"Project P5 = \", model.y5())"
      ],
      "execution_count": null,
      "outputs": [
        {
          "output_type": "stream",
          "name": "stdout",
          "text": [
            "Objective =  40.0\n",
            "Project P1 =  0.0\n",
            "Project P2 =  0.0\n",
            "Project P3 =  0.0\n",
            "Project P4 =  5.0\n",
            "Project P5 =  0.0\n"
          ]
        }
      ]
    },
    {
      "cell_type": "code",
      "metadata": {
        "id": "XVAqfFLPQW_V",
        "colab": {
          "base_uri": "https://localhost:8080/"
        },
        "outputId": "20eba81e-8241-4057-f31b-299487178da4"
      },
      "source": [
        "# check out the constraint\n",
        "print('Budget Constraint =', model.Constraint1()) # we spent the budget 32*5 = 160"
      ],
      "execution_count": null,
      "outputs": [
        {
          "output_type": "stream",
          "name": "stdout",
          "text": [
            "Budget Constraint = 160.0\n"
          ]
        }
      ]
    },
    {
      "cell_type": "code",
      "metadata": {
        "id": "5NDdZKEuQqKG",
        "colab": {
          "base_uri": "https://localhost:8080/"
        },
        "outputId": "c271b8b1-1bb3-4a9d-9cf3-78cc75f0dc94"
      },
      "source": [
        "32*5"
      ],
      "execution_count": null,
      "outputs": [
        {
          "output_type": "execute_result",
          "data": {
            "text/plain": [
              "160"
            ]
          },
          "metadata": {},
          "execution_count": 28
        }
      ]
    },
    {
      "cell_type": "markdown",
      "metadata": {
        "id": "DSVg1wTRP0qb"
      },
      "source": [
        "**OH NO!** We've created a \\$40M in value, but we've selected this project P4 five times, which is a very silly thing to do. Each of these projects can only happen once (re-written here for clarity). So, you shouldn't use `NonNegativeIntegers` - you need to use `Binary`.\n",
        "\n",
        "* P1: Implement a new IT system\n",
        "* P2: License a new technology from another firm\n",
        "* P3: Build a state-of-the-art recycling facility\n",
        "* P4: Install an automated machining center in production\n",
        "* P5: Move the receiving department to new facilties on site.\n",
        "\n",
        "Let's try this again but now add the constraint that you can only select each project once."
      ]
    },
    {
      "cell_type": "markdown",
      "metadata": {
        "id": "N9Z2MVwERIPE"
      },
      "source": [
        "# Second Attempt: each project can only be selected once.\n",
        "Ensure that each project is only selected once. Rather than writing a constraint that our variables $y_1$ through $y_5$ be less than or equal to 1, let's force them to take on `Binary` values. This implicitly handles this constraint.\n",
        "\n"
      ]
    },
    {
      "cell_type": "code",
      "metadata": {
        "id": "UHsyXVU_RntT",
        "colab": {
          "base_uri": "https://localhost:8080/"
        },
        "outputId": "51ce37a2-a83c-4ad1-bbf2-a2b3c02c21b6"
      },
      "source": [
        "# 1) concrete model\n",
        "model = ConcreteModel()\n",
        "\n",
        "# 2) declare decision variables\n",
        "model.y1 = Var(domain=Binary) # takes on values of 0/1\n",
        "model.y2 = Var(domain=Binary) \n",
        "model.y3 = Var(domain=Binary) \n",
        "model.y4 = Var(domain=Binary) \n",
        "model.y5 = Var(domain=Binary) \n",
        "\n",
        "# 3) objective function\n",
        "model.OBJ = Objective(expr = 10*model.y1 + 17*model.y2 + 16*model.y3 + 8*model.y4 + 14*model.y5,\n",
        "                      sense = maximize)\n",
        "\n",
        "# 4) constraints\n",
        "model.Constraint1 = Constraint(expr = 48*model.y1 + 96*model.y2 + 80*model.y3 + 32*model.y4 + 64*model.y5 <= 160)\n",
        "\n",
        "# # these are unncessary if you force a binary variable type!\n",
        "# # you would only need these if you used 'NonNegativeIntegers' (you could, but more work/typing/errors...)\n",
        "# model.ConstraintP1 = Constraint(expr = model.y1 <= 1)\n",
        "# model.ConstraintP2 = Constraint(expr = model.y2 <= 1)\n",
        "# model.ConstraintP3 = Constraint(expr = model.y3 <= 1)\n",
        "# model.ConstraintP4 = Constraint(expr = model.y4 <= 1)\n",
        "# model.ConstraintP5 = Constraint(expr = model.y5 <= 1)\n",
        "\n",
        "# check it out, then run it!\n",
        "model.pprint()"
      ],
      "execution_count": null,
      "outputs": [
        {
          "output_type": "stream",
          "name": "stdout",
          "text": [
            "5 Var Declarations\n",
            "    y1 : Size=1, Index=None\n",
            "        Key  : Lower : Value : Upper : Fixed : Stale : Domain\n",
            "        None :     0 :  None :     1 : False :  True : Binary\n",
            "    y2 : Size=1, Index=None\n",
            "        Key  : Lower : Value : Upper : Fixed : Stale : Domain\n",
            "        None :     0 :  None :     1 : False :  True : Binary\n",
            "    y3 : Size=1, Index=None\n",
            "        Key  : Lower : Value : Upper : Fixed : Stale : Domain\n",
            "        None :     0 :  None :     1 : False :  True : Binary\n",
            "    y4 : Size=1, Index=None\n",
            "        Key  : Lower : Value : Upper : Fixed : Stale : Domain\n",
            "        None :     0 :  None :     1 : False :  True : Binary\n",
            "    y5 : Size=1, Index=None\n",
            "        Key  : Lower : Value : Upper : Fixed : Stale : Domain\n",
            "        None :     0 :  None :     1 : False :  True : Binary\n",
            "\n",
            "1 Objective Declarations\n",
            "    OBJ : Size=1, Index=None, Active=True\n",
            "        Key  : Active : Sense    : Expression\n",
            "        None :   True : maximize : 10*y1 + 17*y2 + 16*y3 + 8*y4 + 14*y5\n",
            "\n",
            "1 Constraint Declarations\n",
            "    Constraint1 : Size=1, Index=None, Active=True\n",
            "        Key  : Lower : Body                                  : Upper : Active\n",
            "        None :  -Inf : 48*y1 + 96*y2 + 80*y3 + 32*y4 + 64*y5 : 160.0 :   True\n",
            "\n",
            "7 Declarations: y1 y2 y3 y4 y5 OBJ Constraint1\n"
          ]
        }
      ]
    },
    {
      "cell_type": "markdown",
      "metadata": {
        "id": "Kp2nCFg1UUWT"
      },
      "source": [
        "Solve it!"
      ]
    },
    {
      "cell_type": "code",
      "metadata": {
        "id": "Y5Mj8KXcUVL-",
        "colab": {
          "base_uri": "https://localhost:8080/"
        },
        "outputId": "a8d483d2-c4b8-444c-a893-04b28990d6d5"
      },
      "source": [
        "# solve it\n",
        "SolverFactory('cbc', executable='/usr/bin/cbc').solve(model).write()"
      ],
      "execution_count": null,
      "outputs": [
        {
          "output_type": "stream",
          "name": "stdout",
          "text": [
            "# ==========================================================\n",
            "# = Solver Results                                         =\n",
            "# ==========================================================\n",
            "# ----------------------------------------------------------\n",
            "#   Problem Information\n",
            "# ----------------------------------------------------------\n",
            "Problem: \n",
            "- Name: unknown\n",
            "  Lower bound: 34.0\n",
            "  Upper bound: 34.0\n",
            "  Number of objectives: 1\n",
            "  Number of constraints: 1\n",
            "  Number of variables: 5\n",
            "  Number of binary variables: 5\n",
            "  Number of integer variables: 5\n",
            "  Number of nonzeros: 5\n",
            "  Sense: maximize\n",
            "# ----------------------------------------------------------\n",
            "#   Solver Information\n",
            "# ----------------------------------------------------------\n",
            "Solver: \n",
            "- Status: ok\n",
            "  User time: -1.0\n",
            "  System time: 0.01\n",
            "  Wallclock time: 0.01\n",
            "  Termination condition: optimal\n",
            "  Termination message: Model was solved to optimality (subject to tolerances), and an optimal solution is available.\n",
            "  Statistics: \n",
            "    Branch and bound: \n",
            "      Number of bounded subproblems: 0\n",
            "      Number of created subproblems: 0\n",
            "    Black box: \n",
            "      Number of iterations: 0\n",
            "  Error rc: 0\n",
            "  Time: 0.03244185447692871\n",
            "# ----------------------------------------------------------\n",
            "#   Solution Information\n",
            "# ----------------------------------------------------------\n",
            "Solution: \n",
            "- number of solutions: 0\n",
            "  number of solutions displayed: 0\n"
          ]
        }
      ]
    },
    {
      "cell_type": "markdown",
      "metadata": {
        "id": "eNydI5gAUVn5"
      },
      "source": [
        "Review it!"
      ]
    },
    {
      "cell_type": "code",
      "metadata": {
        "id": "UFC72XUZR0E1",
        "colab": {
          "base_uri": "https://localhost:8080/"
        },
        "outputId": "4411b50b-66d0-4a9c-d546-38459498c30b"
      },
      "source": [
        "# show the results\n",
        "print(\"Objective = \", model.OBJ())\n",
        "print(\"Project P1 = \", model.y1())\n",
        "print(\"Project P2 = \", model.y2())\n",
        "print(\"Project P3 = \", model.y3())\n",
        "print(\"Project P4 = \", model.y4())\n",
        "print(\"Project P5 = \", model.y5())"
      ],
      "execution_count": null,
      "outputs": [
        {
          "output_type": "stream",
          "name": "stdout",
          "text": [
            "Objective =  34.0\n",
            "Project P1 =  1.0\n",
            "Project P2 =  0.0\n",
            "Project P3 =  1.0\n",
            "Project P4 =  1.0\n",
            "Project P5 =  0.0\n"
          ]
        }
      ]
    },
    {
      "cell_type": "code",
      "metadata": {
        "id": "_Uut-x-2R0E4",
        "colab": {
          "base_uri": "https://localhost:8080/"
        },
        "outputId": "d04f57a3-8708-45dd-8472-63f3a2acc933"
      },
      "source": [
        "# check out the constraint\n",
        "print('Budget Constraint =', model.Constraint1()) # we spent the budget 48 + 80 + 32"
      ],
      "execution_count": null,
      "outputs": [
        {
          "output_type": "stream",
          "name": "stdout",
          "text": [
            "Budget Constraint = 160.0\n"
          ]
        }
      ]
    },
    {
      "cell_type": "code",
      "metadata": {
        "id": "0arcoLHjUtCN",
        "colab": {
          "base_uri": "https://localhost:8080/"
        },
        "outputId": "e9d3f1ae-6bdd-4777-b815-fdb61f62b91a"
      },
      "source": [
        "48 + 80 + 32"
      ],
      "execution_count": null,
      "outputs": [
        {
          "output_type": "execute_result",
          "data": {
            "text/plain": [
              "160"
            ]
          },
          "metadata": {},
          "execution_count": 33
        }
      ]
    },
    {
      "cell_type": "markdown",
      "metadata": {
        "id": "Ekvtb1nzUiVx"
      },
      "source": [
        "**Much better!** We spent our budget, but of course, by introducing more constraints, we do not improve the optimal solution. But now at least we have a feasible solution where we create a value of \\$34 million.\n",
        "\n",
        "A brief note: our presentation follows slightly differently from the book - if you were to use `NonNegativeReals` instead of `Binary` you would have ended up with an objective of \\$35.2 million, but you would have had fractional projects (which can't happen!) Go ahead and run this and you'll see why it's a problem! How can you do 0.2 of a project?! The model will always run - it's up to you to ensure that you have given the appropriate boundaries/parameters!\n",
        "\n",
        "It is important that you use `Binary` variables when it calls for it - we will keep the naming convention of using `x` for continuous (`NonNegativeReals`) variables and `y` for binary (`Binary`) variables."
      ]
    },
    {
      "cell_type": "markdown",
      "metadata": {
        "id": "KP0BDiKqXi7Z"
      },
      "source": [
        "# Binary Variables and Logical Relationships\n",
        "Projects can be related in any number of ways. We cover ﬁve types of relationships here: \n",
        "* At least m projects must be selected. \n",
        "* At most n projects must be selected. \n",
        "* Exactly k projects must be selected. \n",
        "* Some projects are mutually exclusive. \n",
        "  * If P1 is selected, then you cannot select P2.\n",
        "* Some projects have contingency relationships.\n",
        "  * If P1 is selected, then you must select P2.\n"
      ]
    },
    {
      "cell_type": "markdown",
      "metadata": {
        "id": "6YCPXRo5X9F8"
      },
      "source": [
        "## At least m projects must be selected\n",
        "Suppose now that projects P2 and P5 are international projects, while the others are domestic. Suppose also that the committee wishes to select **at least one** of its projects from the international arena. We can then add a covering constraint to the base case:\n",
        "\n",
        "<center>\n",
        "$y_2 + y_5 \\geq 1$\n",
        "</center>\n",
        "\n",
        "Because the variables are all binary, this constraint ensures that the combination\n",
        "\n",
        "<center>\n",
        "$y_2 = y_5 = 0$ `they both can't be 0 at the same time!`\n",
        "</center>\n",
        "\n",
        "is not allowed. Therefore, P2, or P5, or both, will be selected, thus satisfying the requirement of one international selection.\n",
        "\n",
        "This can just be added as a constraint in our model...\n",
        "\n",
        "`model.Constraint_Intl = Constraint(expr = model.y2 + model.y5 >= 1)`\n",
        "\n",
        "If we run this example, we will find that NPV drops to $\\text{\\$32M}$, we only spend $\\text{\\$144M}$ of the budget, and we select projects $P1$, $P4$ and $P5$. Go ahead and try this out!\n",
        "\n",
        "Other notes:\n",
        "* This is known as a 'covering constraint' because you must meet the constraint (think of the nutrition example where we called that a 'covering' problem, meeting our minimum standards).\n",
        "* We have found that *we can use our binary decision variables to help describe policy actions*. Let's see another example below.\n"
      ]
    },
    {
      "cell_type": "markdown",
      "metadata": {
        "id": "jkKTvNwXYALQ"
      },
      "source": [
        "## At most n projects must be selected\n",
        "Here's a different policy action. Imagine the company can only provide oversight support on two or less projects. Then we could write:\n",
        "\n",
        "<center>\n",
        "$y_1 + y_2 + y_3 + y_4 + y_5 \\leq 2$\n",
        "</center>\n",
        "\n",
        "This ensures two or less projects might be chosen."
      ]
    },
    {
      "cell_type": "markdown",
      "metadata": {
        "id": "gJC2oZDfYDDL"
      },
      "source": [
        "## Exactly k projects must be selected\n",
        "Similary, perhaps the board of trustees at the company wants to have exactly two big projects to hang their hats on.\n",
        "\n",
        "<center>\n",
        "$y_1 + y_2 + y_3 + y_4 + y_5 = 2$\n",
        "</center>\n",
        "\n",
        "A simple tweak of the symbol yields a different policy action."
      ]
    },
    {
      "cell_type": "markdown",
      "metadata": {
        "id": "F_8DSoulYHHV"
      },
      "source": [
        "## Some projects are mutually exclusive\n",
        "Other relationships that we normally think of as “logical” relationships can also be expressed with binary variables. Suppose that projects $P4$ and $P5$ are **mutually exclusive** (for example, they could require some of the same staff resources). \n",
        "\n",
        "Then we could write:\n",
        "<center>\n",
        "$y_4 + y_5 \\leq 1$\n",
        "</center>\n",
        "\n",
        "This constraint prohibits the combination:\n",
        "<center>\n",
        "$y_4 = y_5 = 1$ `they both can't be 1 at the same time!`\n",
        "</center>\n",
        "\n",
        "Another example might be cloud software migration - we want to do an overhaul of our IT system and switch to Amazon ($P4$) or Microsoft ($P5$). You would do either one of these (or none of these!) but not both!\n"
      ]
    },
    {
      "cell_type": "markdown",
      "metadata": {
        "id": "_cnlB9BcYKdN"
      },
      "source": [
        "## Some projects have contingency relationships\n",
        "On the flip side, imagine that you are an e-commerce company. Project $P3$ might be build a new warehouse for Amazon goods, and Project $P5$ might be overhaul the payment/web interface for Amazon. You can imagine that you wouldn't do one of these without the other!\n",
        "\n",
        "**Contingency relationships** also invoke another term: **consistency**. \n",
        "\n",
        "Suppose that project $P5$ requires that $P3$ be selected. In other words, $P5$ is contingent on $P3$.\n",
        "\n",
        "To analyze logical requirements of this sort, consider all of the selection combinations for the binary variables. The following table shows that three of the four combinations are **consistent** (valid) with the contingency condition:\n",
        "\n",
        "y3|y5|Consistent?\n",
        "---|---|---\n",
        "0|0|Yes\n",
        "1|0|Yes\n",
        "0|1|No\n",
        "1|1|Yes\n",
        "\n",
        "Three of the options are consistent/valid with the contingency constraint, and one is not. We can address the inconsistent constraint as follows:\n",
        "\n",
        "<center>\n",
        "$y_3 - y_5 \\geq 0$\n",
        "</center>\n",
        "\n",
        "Note how the order matters here! We said that $P5$ can only happen if $P3$ occurs, but not vice-versa (we didn't say that we couldn't just do $P3$ - in fact, this is consistent!)"
      ]
    },
    {
      "cell_type": "markdown",
      "metadata": {
        "id": "xIO9zL6Fe3N9"
      },
      "source": [
        "# Third Attempt: Putting it all together\n",
        "Let's try incorporating one of each of these constraints."
      ]
    },
    {
      "cell_type": "code",
      "metadata": {
        "id": "KL2VVnT1gzjw",
        "colab": {
          "base_uri": "https://localhost:8080/"
        },
        "outputId": "eca184a4-4fc8-4f0f-bb1b-c4d292957d75"
      },
      "source": [
        "# 1) concrete model\n",
        "model = ConcreteModel()\n",
        "\n",
        "# 2) declare decision variables\n",
        "model.y1 = Var(domain=Binary)\n",
        "model.y2 = Var(domain=Binary) \n",
        "model.y3 = Var(domain=Binary) \n",
        "model.y4 = Var(domain=Binary) \n",
        "model.y5 = Var(domain=Binary) \n",
        "\n",
        "# 3) objective function\n",
        "model.OBJ = Objective(expr = 10*model.y1 + 17*model.y2 + 16*model.y3 + 8*model.y4 + 14*model.y5,\n",
        "                      sense = maximize)\n",
        "\n",
        "# 4) constraints\n",
        "model.Constraint1 = Constraint(expr = 48*model.y1 + 96*model.y2 + 80*model.y3 + 32*model.y4 + 64*model.y5 <= 160)\n",
        "\n",
        "# at least one of the 2 projects must be selected \n",
        "# imagine y2 and y5 are international projects that need one to be selected\n",
        "model.Constraint2 = Constraint(expr = model.y2 + model.y5 >=1)\n",
        "\n",
        "# at most 4 projects must be selected\n",
        "model.Constraint3 = Constraint(expr = model.y1 + model.y2 + model.y3 + model.y4 + model.y5 <= 4)\n",
        "\n",
        "# mutually exclusive projects\n",
        "# imagine you can only pick P4 or P5 (or neither of them), but not both of them\n",
        "model.Constraint4 = Constraint(expr = model.y4 + model.y5 <= 1)\n",
        "\n",
        "# contingency: write a constraint for the inconsistent constraint.\n",
        "# if you pick P5, you MUST do P3. \n",
        "# you can pick P3 and not do P5.\n",
        "model.Constraint5 = Constraint(expr = model.y3 - model.y5 >= 0)\n",
        "\n",
        "# check it out, then run it!\n",
        "model.pprint()"
      ],
      "execution_count": null,
      "outputs": [
        {
          "output_type": "stream",
          "name": "stdout",
          "text": [
            "5 Var Declarations\n",
            "    y1 : Size=1, Index=None\n",
            "        Key  : Lower : Value : Upper : Fixed : Stale : Domain\n",
            "        None :     0 :  None :     1 : False :  True : Binary\n",
            "    y2 : Size=1, Index=None\n",
            "        Key  : Lower : Value : Upper : Fixed : Stale : Domain\n",
            "        None :     0 :  None :     1 : False :  True : Binary\n",
            "    y3 : Size=1, Index=None\n",
            "        Key  : Lower : Value : Upper : Fixed : Stale : Domain\n",
            "        None :     0 :  None :     1 : False :  True : Binary\n",
            "    y4 : Size=1, Index=None\n",
            "        Key  : Lower : Value : Upper : Fixed : Stale : Domain\n",
            "        None :     0 :  None :     1 : False :  True : Binary\n",
            "    y5 : Size=1, Index=None\n",
            "        Key  : Lower : Value : Upper : Fixed : Stale : Domain\n",
            "        None :     0 :  None :     1 : False :  True : Binary\n",
            "\n",
            "1 Objective Declarations\n",
            "    OBJ : Size=1, Index=None, Active=True\n",
            "        Key  : Active : Sense    : Expression\n",
            "        None :   True : maximize : 10*y1 + 17*y2 + 16*y3 + 8*y4 + 14*y5\n",
            "\n",
            "5 Constraint Declarations\n",
            "    Constraint1 : Size=1, Index=None, Active=True\n",
            "        Key  : Lower : Body                                  : Upper : Active\n",
            "        None :  -Inf : 48*y1 + 96*y2 + 80*y3 + 32*y4 + 64*y5 : 160.0 :   True\n",
            "    Constraint2 : Size=1, Index=None, Active=True\n",
            "        Key  : Lower : Body    : Upper : Active\n",
            "        None :   1.0 : y2 + y5 :  +Inf :   True\n",
            "    Constraint3 : Size=1, Index=None, Active=True\n",
            "        Key  : Lower : Body                   : Upper : Active\n",
            "        None :  -Inf : y1 + y2 + y3 + y4 + y5 :   4.0 :   True\n",
            "    Constraint4 : Size=1, Index=None, Active=True\n",
            "        Key  : Lower : Body    : Upper : Active\n",
            "        None :  -Inf : y4 + y5 :   1.0 :   True\n",
            "    Constraint5 : Size=1, Index=None, Active=True\n",
            "        Key  : Lower : Body    : Upper : Active\n",
            "        None :   0.0 : y3 - y5 :  +Inf :   True\n",
            "\n",
            "11 Declarations: y1 y2 y3 y4 y5 OBJ Constraint1 Constraint2 Constraint3 Constraint4 Constraint5\n"
          ]
        }
      ]
    },
    {
      "cell_type": "markdown",
      "metadata": {
        "id": "QGJ-1-K6guz-"
      },
      "source": [
        "Solve it!"
      ]
    },
    {
      "cell_type": "code",
      "metadata": {
        "id": "y7_umeyxguz_",
        "colab": {
          "base_uri": "https://localhost:8080/"
        },
        "outputId": "385c9855-238b-456b-8ec7-c2bca2bf9766"
      },
      "source": [
        "# solve it\n",
        "SolverFactory('cbc', executable='/usr/bin/cbc').solve(model).write()"
      ],
      "execution_count": null,
      "outputs": [
        {
          "output_type": "stream",
          "name": "stdout",
          "text": [
            "# ==========================================================\n",
            "# = Solver Results                                         =\n",
            "# ==========================================================\n",
            "# ----------------------------------------------------------\n",
            "#   Problem Information\n",
            "# ----------------------------------------------------------\n",
            "Problem: \n",
            "- Name: unknown\n",
            "  Lower bound: 30.0\n",
            "  Upper bound: 30.0\n",
            "  Number of objectives: 1\n",
            "  Number of constraints: 5\n",
            "  Number of variables: 5\n",
            "  Number of binary variables: 5\n",
            "  Number of integer variables: 5\n",
            "  Number of nonzeros: 5\n",
            "  Sense: maximize\n",
            "# ----------------------------------------------------------\n",
            "#   Solver Information\n",
            "# ----------------------------------------------------------\n",
            "Solver: \n",
            "- Status: ok\n",
            "  User time: -1.0\n",
            "  System time: 0.0\n",
            "  Wallclock time: 0.0\n",
            "  Termination condition: optimal\n",
            "  Termination message: Model was solved to optimality (subject to tolerances), and an optimal solution is available.\n",
            "  Statistics: \n",
            "    Branch and bound: \n",
            "      Number of bounded subproblems: 0\n",
            "      Number of created subproblems: 0\n",
            "    Black box: \n",
            "      Number of iterations: 0\n",
            "  Error rc: 0\n",
            "  Time: 0.021245956420898438\n",
            "# ----------------------------------------------------------\n",
            "#   Solution Information\n",
            "# ----------------------------------------------------------\n",
            "Solution: \n",
            "- number of solutions: 0\n",
            "  number of solutions displayed: 0\n"
          ]
        }
      ]
    },
    {
      "cell_type": "markdown",
      "metadata": {
        "id": "Fcb4QjXZgu0C"
      },
      "source": [
        "Review it!"
      ]
    },
    {
      "cell_type": "code",
      "metadata": {
        "id": "8kayoe6fgu0C",
        "colab": {
          "base_uri": "https://localhost:8080/"
        },
        "outputId": "b01a1df9-c4c8-47b1-d9fe-7136be9a8660"
      },
      "source": [
        "# show the results\n",
        "print(\"Objective = \", model.OBJ())\n",
        "print(\"Project P1 = \", model.y1())\n",
        "print(\"Project P2 = \", model.y2())\n",
        "print(\"Project P3 = \", model.y3())\n",
        "print(\"Project P4 = \", model.y4())\n",
        "print(\"Project P5 = \", model.y5())"
      ],
      "execution_count": null,
      "outputs": [
        {
          "output_type": "stream",
          "name": "stdout",
          "text": [
            "Objective =  30.0\n",
            "Project P1 =  0.0\n",
            "Project P2 =  0.0\n",
            "Project P3 =  1.0\n",
            "Project P4 =  0.0\n",
            "Project P5 =  1.0\n"
          ]
        }
      ]
    },
    {
      "cell_type": "code",
      "metadata": {
        "id": "JIpdp_e7gu0E",
        "colab": {
          "base_uri": "https://localhost:8080/"
        },
        "outputId": "a800e3a8-43c0-4c78-93f5-fdc4b1801226"
      },
      "source": [
        "# check out the constraint\n",
        "print('Budget Constraint =', model.Constraint1()) # we only spent 144M"
      ],
      "execution_count": null,
      "outputs": [
        {
          "output_type": "stream",
          "name": "stdout",
          "text": [
            "Budget Constraint = 144.0\n"
          ]
        }
      ]
    },
    {
      "cell_type": "markdown",
      "metadata": {
        "id": "5QCCvieoiA1m"
      },
      "source": [
        "There you have it! **By adding more and more constraints, the value of your objective function DID NOT IMPROVE!!!**"
      ]
    },
    {
      "cell_type": "markdown",
      "metadata": {
        "id": "JRHYynMmNFfc"
      },
      "source": [
        "# [Optional] Appendix\n",
        "If you want to raise your math and Python skills, check out this implementation.\n",
        "\n",
        "**Define the Objective Function**\n",
        "\n",
        "$\\max(z) = \\sum\\limits_{i = 1}^{5}p_iy_i$\n",
        "\n",
        "**Write the Constraints**\n",
        "\n",
        "subject to:\n",
        "\n",
        "* $0 \\leq y_i  \\leq 1, i \\in [5]$ "
      ]
    },
    {
      "cell_type": "code",
      "metadata": {
        "id": "2NnYJzzx7ZBQ"
      },
      "source": [
        "# declare the model\n",
        "model = ConcreteModel()\n",
        "\n",
        "# Data - you can't index on the 0,\n",
        "# so you need to provide a 0 (seems silly, but needed)\n",
        "projects = np.arange(6) # for our 5 projects (does not include 6)\n",
        "NPV = [0, 10, 17, 16, 8, 14]\n",
        "Cost = [0, 48, 96, 80, 32, 64]\n",
        "\n",
        "# declare decision variables\n",
        "model.y = Var(projects, domain=Binary)\n",
        "\n",
        "# objective function\n",
        "obj_expr = 0\n",
        "for project in projects:\n",
        "  obj_expr += NPV[project]*model.y[project]\n",
        "\n",
        "# declare objective\n",
        "model.profit = Objective(\n",
        "                      expr = obj_expr, # values come from the table\n",
        "                      sense = maximize)"
      ],
      "execution_count": null,
      "outputs": []
    },
    {
      "cell_type": "code",
      "metadata": {
        "id": "-qlPHjeKojZL",
        "colab": {
          "base_uri": "https://localhost:8080/"
        },
        "outputId": "aaced213-11ad-4959-cba6-c5168b2ab6c6"
      },
      "source": [
        "# declare constraints -> we will populate the list of constraints step by step\n",
        "model.constraints = ConstraintList()\n",
        "\n",
        "# Constraint 1: Expenditures\n",
        "model.constraints.add(Cost[1]*model.y[1] + \n",
        "                      Cost[2]*model.y[2] + \n",
        "                      Cost[3]*model.y[3] + \n",
        "                      Cost[4]*model.y[4] + \n",
        "                      Cost[5]*model.y[5] <= 160) \n",
        "\n",
        "# Constraint 2: at least 2 projects must be selected \n",
        "# imagine y2 and y5 are international projects that need one to be selected\n",
        "model.constraints.add(model.y[2] + model.y[5] >= 1)\n",
        "\n",
        "# Constraint 3: at most 4 projects must be selected\n",
        "model.constraints.add(model.y[1] + \n",
        "                      model.y[2] + \n",
        "                      model.y[3] + \n",
        "                      model.y[4] + \n",
        "                      model.y[5] <= 4) \n",
        "\n",
        "# Constraint 4: mutually exclusive projects\n",
        "# imagine you can only pick P4 or P5 (or neither of them), but not both of them\n",
        "model.constraints.add(model.y[4] + model.y[5] <= 1)\n",
        "\n",
        "# Constraint 5:\n",
        "# contingency: write a constraint for the inconsistent constraint.\n",
        "# if you pick P5, you MUST do P3. \n",
        "# you can pick P3 and not do P5.\n",
        "model.constraints.add(model.y[3] - model.y[5] >= 0)\n",
        "\n",
        "# show the model you've created\n",
        "model.pprint()\n"
      ],
      "execution_count": null,
      "outputs": [
        {
          "output_type": "stream",
          "name": "stdout",
          "text": [
            "2 Set Declarations\n",
            "    constraints_index : Size=1, Index=None, Ordered=Insertion\n",
            "        Key  : Dimen : Domain : Size : Members\n",
            "        None :     1 :    Any :    5 : {1, 2, 3, 4, 5}\n",
            "    y_index : Size=1, Index=None, Ordered=False\n",
            "        Key  : Dimen : Domain : Size : Members\n",
            "        None :     1 :    Any :    6 : {0, 1, 2, 3, 4, 5}\n",
            "\n",
            "1 Var Declarations\n",
            "    y : Size=6, Index=y_index\n",
            "        Key : Lower : Value : Upper : Fixed : Stale : Domain\n",
            "          0 :     0 :  None :     1 : False :  True : Binary\n",
            "          1 :     0 :  None :     1 : False :  True : Binary\n",
            "          2 :     0 :  None :     1 : False :  True : Binary\n",
            "          3 :     0 :  None :     1 : False :  True : Binary\n",
            "          4 :     0 :  None :     1 : False :  True : Binary\n",
            "          5 :     0 :  None :     1 : False :  True : Binary\n",
            "\n",
            "1 Objective Declarations\n",
            "    profit : Size=1, Index=None, Active=True\n",
            "        Key  : Active : Sense    : Expression\n",
            "        None :   True : maximize : 10*y[1] + 17*y[2] + 16*y[3] + 8*y[4] + 14*y[5]\n",
            "\n",
            "1 Constraint Declarations\n",
            "    constraints : Size=5, Index=constraints_index, Active=True\n",
            "        Key : Lower : Body                                            : Upper : Active\n",
            "          1 :  -Inf : 48*y[1] + 96*y[2] + 80*y[3] + 32*y[4] + 64*y[5] : 160.0 :   True\n",
            "          2 :   1.0 :                                     y[2] + y[5] :  +Inf :   True\n",
            "          3 :  -Inf :                y[1] + y[2] + y[3] + y[4] + y[5] :   4.0 :   True\n",
            "          4 :  -Inf :                                     y[4] + y[5] :   1.0 :   True\n",
            "          5 :   0.0 :                                     y[3] - y[5] :  +Inf :   True\n",
            "\n",
            "5 Declarations: y_index y profit constraints_index constraints\n"
          ]
        }
      ]
    },
    {
      "cell_type": "code",
      "metadata": {
        "id": "r9jLvcwsR8y7",
        "colab": {
          "base_uri": "https://localhost:8080/"
        },
        "outputId": "78d7625f-15dd-44bf-b182-b07d512e7fd1"
      },
      "source": [
        "# solve it\n",
        "SolverFactory('cbc', executable='/usr/bin/cbc').solve(model).write()\n",
        "# show the results\n",
        "print(\"Total profit = \", model.profit())\n",
        "for project in projects:\n",
        "  print(\"Project\",project,\":\",model.y[project]())"
      ],
      "execution_count": null,
      "outputs": [
        {
          "output_type": "stream",
          "name": "stdout",
          "text": [
            "# ==========================================================\n",
            "# = Solver Results                                         =\n",
            "# ==========================================================\n",
            "# ----------------------------------------------------------\n",
            "#   Problem Information\n",
            "# ----------------------------------------------------------\n",
            "Problem: \n",
            "- Name: unknown\n",
            "  Lower bound: 30.0\n",
            "  Upper bound: 30.0\n",
            "  Number of objectives: 1\n",
            "  Number of constraints: 5\n",
            "  Number of variables: 5\n",
            "  Number of binary variables: 5\n",
            "  Number of integer variables: 5\n",
            "  Number of nonzeros: 5\n",
            "  Sense: maximize\n",
            "# ----------------------------------------------------------\n",
            "#   Solver Information\n",
            "# ----------------------------------------------------------\n",
            "Solver: \n",
            "- Status: ok\n",
            "  User time: -1.0\n",
            "  System time: 0.0\n",
            "  Wallclock time: 0.0\n",
            "  Termination condition: optimal\n",
            "  Termination message: Model was solved to optimality (subject to tolerances), and an optimal solution is available.\n",
            "  Statistics: \n",
            "    Branch and bound: \n",
            "      Number of bounded subproblems: 0\n",
            "      Number of created subproblems: 0\n",
            "    Black box: \n",
            "      Number of iterations: 0\n",
            "  Error rc: 0\n",
            "  Time: 0.02248382568359375\n",
            "# ----------------------------------------------------------\n",
            "#   Solution Information\n",
            "# ----------------------------------------------------------\n",
            "Solution: \n",
            "- number of solutions: 0\n",
            "  number of solutions displayed: 0\n",
            "Total profit =  30.0\n",
            "Project 0 : None\n",
            "Project 1 : 0.0\n",
            "Project 2 : 0.0\n",
            "Project 3 : 1.0\n",
            "Project 4 : 0.0\n",
            "Project 5 : 1.0\n"
          ]
        }
      ]
    },
    {
      "cell_type": "markdown",
      "metadata": {
        "id": "yl4ddlssrteR"
      },
      "source": [
        "Same answer as before! Both are good approaches."
      ]
    }
  ]
}