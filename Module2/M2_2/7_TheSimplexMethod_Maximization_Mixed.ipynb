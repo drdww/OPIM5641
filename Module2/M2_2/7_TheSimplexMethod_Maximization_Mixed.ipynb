{
  "nbformat": 4,
  "nbformat_minor": 0,
  "metadata": {
    "colab": {
      "name": "7_TheSimplexMethod_Maximization_Mixed",
      "provenance": [],
      "collapsed_sections": [],
      "include_colab_link": true
    },
    "kernelspec": {
      "name": "python3",
      "display_name": "Python 3"
    }
  },
  "cells": [
    {
      "cell_type": "markdown",
      "metadata": {
        "id": "view-in-github",
        "colab_type": "text"
      },
      "source": [
        "<a href=\"https://colab.research.google.com/github/drdww/OPIM5641/blob/main/Module2/M2_2/7_TheSimplexMethod_Maximization_Mixed.ipynb\" target=\"_parent\"><img src=\"https://colab.research.google.com/assets/colab-badge.svg\" alt=\"Open In Colab\"/></a>"
      ]
    },
    {
      "cell_type": "markdown",
      "metadata": {
        "id": "ACkuN3CfqGM7"
      },
      "source": [
        "# The Simplex Method: Mixed Constraints (Maximization)\n",
        "**OPIM 5604: Business Decision Modeling - University of Connecticut**\n",
        "\n",
        "Material from: \"Elementary Linear Algebra\" - 8th Edition (Ron Larson) - Chapter 9.\n",
        "\n",
        "---------------------------------------------------------------------------\n",
        "**Objectives:**\n",
        "* Find the maximum of an objective function subject to mixed constraints."
      ]
    },
    {
      "cell_type": "code",
      "metadata": {
        "id": "G-r8WChNp4aE"
      },
      "source": [
        "# import modules\n",
        "# Matrix makes a sympy Matrix, Rational is FRACTION, pprint makes it pretty print, nsimplify converts decimals to fractions (rational numbers)\n",
        "from sympy import Matrix, Rational, pprint, nsimplify \n",
        "\n",
        "# standard modules\n",
        "import numpy as np\n",
        "import pandas as pd"
      ],
      "execution_count": null,
      "outputs": []
    },
    {
      "cell_type": "code",
      "metadata": {
        "id": "GoRvOIC2qDHo"
      },
      "source": [
        "# awesome latex symbols! all students should be able to write constraints with LaTeX.\n",
        "# https://oeis.org/wiki/List_of_LaTeX_mathematical_symbols\n",
        "# http://www.emerson.emory.edu/services/latex/latex_119.html"
      ],
      "execution_count": null,
      "outputs": []
    },
    {
      "cell_type": "markdown",
      "metadata": {
        "id": "Lsx_k315qljn"
      },
      "source": [
        "# Intro\n",
        "In previous examples, we studied linear programs in *standard form.* The constraints for the maximization problems all involved $\\leq$ inequalities, and the constraints for the minimization problems all involved $\\geq$ inequalities. As mentioned earlier, linear programming problems for which the constraints involve both types of inequalities are called **mixed-constraint** problems. For example, consider the linear programming problem below. \n",
        "\n",
        "Find the maximum value of:\n",
        "$z = x_1 + x_2 + x_3$\n",
        "\n",
        "subject to:\n",
        "* $2x_1 + x_2 + x_3 \\leq 50$\n",
        "* $2x_1 + x_2 \\geq 36$\n",
        "* $x_1 + x_3 \\geq 10$\n",
        "* $x_1, x_2, x_3 \\geq 0$ `nonnegativity`\n",
        "\n",
        "Note that nonnegativity is not a mixed constraint! \n",
        "\n",
        "This is a maximization problem, so you would expect each of the inequalities in the set of constraints to involve $\\leq$. The first inequality does involve $\\leq$, so add a slack variable to form the equation. It becomes:\n",
        "\n",
        "$2x_1 + x_2 + x_3 + s_1 = 50$\n",
        "\n",
        "For the other two inequalities, a new type of variable, a **surplus variable**, is introduced as shown below.\n",
        "\n",
        "$2_x1 + x_2 - s_2 = 36$\n",
        "\n",
        "$x_1 + x_3 - s_3 = 10$\n",
        "\n",
        "Notice that surplus variables are subtracted from (not added to) the left side of each equation. They are called surplus variables because they represent the amounts by which the left sides of the inequalities exceed the right sides. Surplus variables must be nonnegative. \n",
        "\n",
        "To solve the problem, we make our initial simplex tableau $A$ as shown below.\n",
        "\n"
      ]
    },
    {
      "cell_type": "code",
      "metadata": {
        "id": "7wvi6rOKuOji",
        "colab": {
          "base_uri": "https://localhost:8080/",
          "height": 134
        },
        "outputId": "fdd6c989-a498-4155-e3ea-9eb3be743c57"
      },
      "source": [
        "# make the initial simplex tableau\n",
        "\n",
        "A = Matrix([[2,1,1,1,0,0,50],\n",
        "           [2,1,0,0,-1,0,36],\n",
        "           [1,0,1,0,0,-1,10],\n",
        "           [-1,-1,-2,0,0,0,0]])\n",
        "pprint(A)"
      ],
      "execution_count": null,
      "outputs": [
        {
          "output_type": "stream",
          "text": [
            "⎡2   1   1   1  0   0   50⎤\n",
            "⎢                         ⎥\n",
            "⎢2   1   0   0  -1  0   36⎥\n",
            "⎢                         ⎥\n",
            "⎢1   0   1   0  0   -1  10⎥\n",
            "⎢                         ⎥\n",
            "⎣-1  -1  -2  0  0   0   0 ⎦\n"
          ],
          "name": "stdout"
        }
      ]
    },
    {
      "cell_type": "code",
      "metadata": {
        "id": "-NUHzSVCukNa",
        "colab": {
          "base_uri": "https://localhost:8080/",
          "height": 166
        },
        "outputId": "547642b8-8901-46d8-e66e-2b824bf08871"
      },
      "source": [
        "# looks good, but let's make it pretty.\n",
        "tmp = pd.DataFrame(np.array(A)) # you only need this in the first example\n",
        "tmp.columns = ['x1', 'x2', 'x3', 's1', 's2', 's3', 'b']\n",
        "tmp.index=['R0', 'R1', 'R2', 'R3']\n",
        "tmp"
      ],
      "execution_count": null,
      "outputs": [
        {
          "output_type": "execute_result",
          "data": {
            "text/html": [
              "<div>\n",
              "<style scoped>\n",
              "    .dataframe tbody tr th:only-of-type {\n",
              "        vertical-align: middle;\n",
              "    }\n",
              "\n",
              "    .dataframe tbody tr th {\n",
              "        vertical-align: top;\n",
              "    }\n",
              "\n",
              "    .dataframe thead th {\n",
              "        text-align: right;\n",
              "    }\n",
              "</style>\n",
              "<table border=\"1\" class=\"dataframe\">\n",
              "  <thead>\n",
              "    <tr style=\"text-align: right;\">\n",
              "      <th></th>\n",
              "      <th>x1</th>\n",
              "      <th>x2</th>\n",
              "      <th>x3</th>\n",
              "      <th>s1</th>\n",
              "      <th>s2</th>\n",
              "      <th>s3</th>\n",
              "      <th>b</th>\n",
              "    </tr>\n",
              "  </thead>\n",
              "  <tbody>\n",
              "    <tr>\n",
              "      <th>R0</th>\n",
              "      <td>2</td>\n",
              "      <td>1</td>\n",
              "      <td>1</td>\n",
              "      <td>1</td>\n",
              "      <td>0</td>\n",
              "      <td>0</td>\n",
              "      <td>50</td>\n",
              "    </tr>\n",
              "    <tr>\n",
              "      <th>R1</th>\n",
              "      <td>2</td>\n",
              "      <td>1</td>\n",
              "      <td>0</td>\n",
              "      <td>0</td>\n",
              "      <td>-1</td>\n",
              "      <td>0</td>\n",
              "      <td>36</td>\n",
              "    </tr>\n",
              "    <tr>\n",
              "      <th>R2</th>\n",
              "      <td>1</td>\n",
              "      <td>0</td>\n",
              "      <td>1</td>\n",
              "      <td>0</td>\n",
              "      <td>0</td>\n",
              "      <td>-1</td>\n",
              "      <td>10</td>\n",
              "    </tr>\n",
              "    <tr>\n",
              "      <th>R3</th>\n",
              "      <td>-1</td>\n",
              "      <td>-1</td>\n",
              "      <td>-2</td>\n",
              "      <td>0</td>\n",
              "      <td>0</td>\n",
              "      <td>0</td>\n",
              "      <td>0</td>\n",
              "    </tr>\n",
              "  </tbody>\n",
              "</table>\n",
              "</div>"
            ],
            "text/plain": [
              "    x1  x2  x3 s1  s2  s3   b\n",
              "R0   2   1   1  1   0   0  50\n",
              "R1   2   1   0  0  -1   0  36\n",
              "R2   1   0   1  0   0  -1  10\n",
              "R3  -1  -1  -2  0   0   0   0"
            ]
          },
          "metadata": {
            "tags": []
          },
          "execution_count": 62
        }
      ]
    },
    {
      "cell_type": "markdown",
      "metadata": {
        "id": "1jJ1Gq7ixvox"
      },
      "source": [
        "Solving mixed-constraint problems can be difficult. One reason for this is that there is no convenient feasible solution to begin the simplex method. Note that the solution represented by the initial tableau above $(x_1, x_2, x_3, s_1, s_2, s_3) = (0, 0, 0, 50, −36, −10)$ **is not a feasible solution** because the values of the two surplus variables are **negative**.\n"
      ]
    },
    {
      "cell_type": "markdown",
      "metadata": {
        "id": "2BQpyJS3yNVU"
      },
      "source": [
        "# Pivot #1 (Trial and Error - yuck!)\n",
        "To eliminate the surplus variables from the current solution, use “trial and error.” That is, in an effort to find a feasible solution, arbitrarily choose new entering variables. \n",
        "\n",
        "For example, it seems reasonable to select $x_3$ as the entering variable, because its column has the most negative entry in the bottom row."
      ]
    },
    {
      "cell_type": "code",
      "metadata": {
        "id": "XDeZl-05ycPs",
        "colab": {
          "base_uri": "https://localhost:8080/",
          "height": 118
        },
        "outputId": "10cc333d-0197-4e47-dd81-757ede568a98"
      },
      "source": [
        "# lets add some formatting to show this\n",
        "# we already have tmp defined with names, no need to replicate\n",
        "\n",
        "# apply style to a single column\n",
        "tmp.style\\\n",
        ".apply(lambda x: ['background: lightblue' if x.name == 'x3' else '' for i in x])"
      ],
      "execution_count": null,
      "outputs": [
        {
          "output_type": "execute_result",
          "data": {
            "text/html": [
              "<style  type=\"text/css\" >\n",
              "    #T_1f30d40a_df38_11ea_a2eb_0242ac1c0002row0_col2 {\n",
              "            background:  lightblue;\n",
              "        }    #T_1f30d40a_df38_11ea_a2eb_0242ac1c0002row1_col2 {\n",
              "            background:  lightblue;\n",
              "        }    #T_1f30d40a_df38_11ea_a2eb_0242ac1c0002row2_col2 {\n",
              "            background:  lightblue;\n",
              "        }    #T_1f30d40a_df38_11ea_a2eb_0242ac1c0002row3_col2 {\n",
              "            background:  lightblue;\n",
              "        }</style><table id=\"T_1f30d40a_df38_11ea_a2eb_0242ac1c0002\" ><thead>    <tr>        <th class=\"blank level0\" ></th>        <th class=\"col_heading level0 col0\" >x1</th>        <th class=\"col_heading level0 col1\" >x2</th>        <th class=\"col_heading level0 col2\" >x3</th>        <th class=\"col_heading level0 col3\" >s1</th>        <th class=\"col_heading level0 col4\" >s2</th>        <th class=\"col_heading level0 col5\" >s3</th>        <th class=\"col_heading level0 col6\" >b</th>    </tr></thead><tbody>\n",
              "                <tr>\n",
              "                        <th id=\"T_1f30d40a_df38_11ea_a2eb_0242ac1c0002level0_row0\" class=\"row_heading level0 row0\" >R0</th>\n",
              "                        <td id=\"T_1f30d40a_df38_11ea_a2eb_0242ac1c0002row0_col0\" class=\"data row0 col0\" >2</td>\n",
              "                        <td id=\"T_1f30d40a_df38_11ea_a2eb_0242ac1c0002row0_col1\" class=\"data row0 col1\" >1</td>\n",
              "                        <td id=\"T_1f30d40a_df38_11ea_a2eb_0242ac1c0002row0_col2\" class=\"data row0 col2\" >1</td>\n",
              "                        <td id=\"T_1f30d40a_df38_11ea_a2eb_0242ac1c0002row0_col3\" class=\"data row0 col3\" >1</td>\n",
              "                        <td id=\"T_1f30d40a_df38_11ea_a2eb_0242ac1c0002row0_col4\" class=\"data row0 col4\" >0</td>\n",
              "                        <td id=\"T_1f30d40a_df38_11ea_a2eb_0242ac1c0002row0_col5\" class=\"data row0 col5\" >0</td>\n",
              "                        <td id=\"T_1f30d40a_df38_11ea_a2eb_0242ac1c0002row0_col6\" class=\"data row0 col6\" >50</td>\n",
              "            </tr>\n",
              "            <tr>\n",
              "                        <th id=\"T_1f30d40a_df38_11ea_a2eb_0242ac1c0002level0_row1\" class=\"row_heading level0 row1\" >R1</th>\n",
              "                        <td id=\"T_1f30d40a_df38_11ea_a2eb_0242ac1c0002row1_col0\" class=\"data row1 col0\" >2</td>\n",
              "                        <td id=\"T_1f30d40a_df38_11ea_a2eb_0242ac1c0002row1_col1\" class=\"data row1 col1\" >1</td>\n",
              "                        <td id=\"T_1f30d40a_df38_11ea_a2eb_0242ac1c0002row1_col2\" class=\"data row1 col2\" >0</td>\n",
              "                        <td id=\"T_1f30d40a_df38_11ea_a2eb_0242ac1c0002row1_col3\" class=\"data row1 col3\" >0</td>\n",
              "                        <td id=\"T_1f30d40a_df38_11ea_a2eb_0242ac1c0002row1_col4\" class=\"data row1 col4\" >-1</td>\n",
              "                        <td id=\"T_1f30d40a_df38_11ea_a2eb_0242ac1c0002row1_col5\" class=\"data row1 col5\" >0</td>\n",
              "                        <td id=\"T_1f30d40a_df38_11ea_a2eb_0242ac1c0002row1_col6\" class=\"data row1 col6\" >36</td>\n",
              "            </tr>\n",
              "            <tr>\n",
              "                        <th id=\"T_1f30d40a_df38_11ea_a2eb_0242ac1c0002level0_row2\" class=\"row_heading level0 row2\" >R2</th>\n",
              "                        <td id=\"T_1f30d40a_df38_11ea_a2eb_0242ac1c0002row2_col0\" class=\"data row2 col0\" >1</td>\n",
              "                        <td id=\"T_1f30d40a_df38_11ea_a2eb_0242ac1c0002row2_col1\" class=\"data row2 col1\" >0</td>\n",
              "                        <td id=\"T_1f30d40a_df38_11ea_a2eb_0242ac1c0002row2_col2\" class=\"data row2 col2\" >1</td>\n",
              "                        <td id=\"T_1f30d40a_df38_11ea_a2eb_0242ac1c0002row2_col3\" class=\"data row2 col3\" >0</td>\n",
              "                        <td id=\"T_1f30d40a_df38_11ea_a2eb_0242ac1c0002row2_col4\" class=\"data row2 col4\" >0</td>\n",
              "                        <td id=\"T_1f30d40a_df38_11ea_a2eb_0242ac1c0002row2_col5\" class=\"data row2 col5\" >-1</td>\n",
              "                        <td id=\"T_1f30d40a_df38_11ea_a2eb_0242ac1c0002row2_col6\" class=\"data row2 col6\" >10</td>\n",
              "            </tr>\n",
              "            <tr>\n",
              "                        <th id=\"T_1f30d40a_df38_11ea_a2eb_0242ac1c0002level0_row3\" class=\"row_heading level0 row3\" >R3</th>\n",
              "                        <td id=\"T_1f30d40a_df38_11ea_a2eb_0242ac1c0002row3_col0\" class=\"data row3 col0\" >-1</td>\n",
              "                        <td id=\"T_1f30d40a_df38_11ea_a2eb_0242ac1c0002row3_col1\" class=\"data row3 col1\" >-1</td>\n",
              "                        <td id=\"T_1f30d40a_df38_11ea_a2eb_0242ac1c0002row3_col2\" class=\"data row3 col2\" >-2</td>\n",
              "                        <td id=\"T_1f30d40a_df38_11ea_a2eb_0242ac1c0002row3_col3\" class=\"data row3 col3\" >0</td>\n",
              "                        <td id=\"T_1f30d40a_df38_11ea_a2eb_0242ac1c0002row3_col4\" class=\"data row3 col4\" >0</td>\n",
              "                        <td id=\"T_1f30d40a_df38_11ea_a2eb_0242ac1c0002row3_col5\" class=\"data row3 col5\" >0</td>\n",
              "                        <td id=\"T_1f30d40a_df38_11ea_a2eb_0242ac1c0002row3_col6\" class=\"data row3 col6\" >0</td>\n",
              "            </tr>\n",
              "    </tbody></table>"
            ],
            "text/plain": [
              "<pandas.io.formats.style.Styler at 0x7fbc1e964710>"
            ]
          },
          "metadata": {
            "tags": []
          },
          "execution_count": 63
        }
      ]
    },
    {
      "cell_type": "markdown",
      "metadata": {
        "id": "e40ykpVoy8Q-"
      },
      "source": [
        "Remember, now we need to compute $b/a$ for each element and choose the smallest positive number."
      ]
    },
    {
      "cell_type": "code",
      "metadata": {
        "id": "yNgI3fN3zBXg",
        "colab": {
          "base_uri": "https://localhost:8080/",
          "height": 50
        },
        "outputId": "8cc8e099-f970-4c3a-c99a-38d3126bc22c"
      },
      "source": [
        "# R0\n",
        "print('R0:', 50/1)\n",
        "# R1\n",
        "# print(36/0) # impossible\n",
        "# R2\n",
        "print('R2:', 10/1)\n",
        "\n",
        "# so R2 it is! color it below."
      ],
      "execution_count": null,
      "outputs": [
        {
          "output_type": "stream",
          "text": [
            "R0: 50.0\n",
            "R2: 10.0\n"
          ],
          "name": "stdout"
        }
      ]
    },
    {
      "cell_type": "code",
      "metadata": {
        "id": "rC4I3t8ZzXWq",
        "colab": {
          "base_uri": "https://localhost:8080/",
          "height": 118
        },
        "outputId": "cc57810e-c19c-4ff3-ebfd-34b4588ad6e3"
      },
      "source": [
        "# highlight a single cell pivot element\n",
        "idx_r = 2\n",
        "idx_c = 2\n",
        "\n",
        "# apply style to rows and columns\n",
        "tmp.style\\\n",
        ".apply(lambda x: ['background: lightblue' if x.name == 'x3' else '' for i in x])\\\n",
        ".apply(lambda x: ['background: lightblue' if x.name == 'R2' else '' for i in x], axis=1)\\\n",
        ".apply(styling_specific_cell, row_idx = idx_r, col_idx = idx_c, axis = None)\n",
        "\n",
        "# looks awesome. "
      ],
      "execution_count": null,
      "outputs": [
        {
          "output_type": "execute_result",
          "data": {
            "text/html": [
              "<style  type=\"text/css\" >\n",
              "    #T_1f3a1402_df38_11ea_a2eb_0242ac1c0002row0_col2 {\n",
              "            background:  lightblue;\n",
              "            : ;\n",
              "            : ;\n",
              "        }    #T_1f3a1402_df38_11ea_a2eb_0242ac1c0002row1_col2 {\n",
              "            background:  lightblue;\n",
              "            : ;\n",
              "            : ;\n",
              "        }    #T_1f3a1402_df38_11ea_a2eb_0242ac1c0002row2_col0 {\n",
              "            : ;\n",
              "            background:  lightblue;\n",
              "            : ;\n",
              "        }    #T_1f3a1402_df38_11ea_a2eb_0242ac1c0002row2_col1 {\n",
              "            : ;\n",
              "            background:  lightblue;\n",
              "            : ;\n",
              "        }    #T_1f3a1402_df38_11ea_a2eb_0242ac1c0002row2_col2 {\n",
              "            background:  lightblue;\n",
              "            background:  lightblue;\n",
              "            background-color:  yellow;\n",
              "             color:  red;\n",
              "        }    #T_1f3a1402_df38_11ea_a2eb_0242ac1c0002row2_col3 {\n",
              "            : ;\n",
              "            background:  lightblue;\n",
              "            : ;\n",
              "        }    #T_1f3a1402_df38_11ea_a2eb_0242ac1c0002row2_col4 {\n",
              "            : ;\n",
              "            background:  lightblue;\n",
              "            : ;\n",
              "        }    #T_1f3a1402_df38_11ea_a2eb_0242ac1c0002row2_col5 {\n",
              "            : ;\n",
              "            background:  lightblue;\n",
              "            : ;\n",
              "        }    #T_1f3a1402_df38_11ea_a2eb_0242ac1c0002row2_col6 {\n",
              "            : ;\n",
              "            background:  lightblue;\n",
              "            : ;\n",
              "        }    #T_1f3a1402_df38_11ea_a2eb_0242ac1c0002row3_col2 {\n",
              "            background:  lightblue;\n",
              "            : ;\n",
              "            : ;\n",
              "        }</style><table id=\"T_1f3a1402_df38_11ea_a2eb_0242ac1c0002\" ><thead>    <tr>        <th class=\"blank level0\" ></th>        <th class=\"col_heading level0 col0\" >x1</th>        <th class=\"col_heading level0 col1\" >x2</th>        <th class=\"col_heading level0 col2\" >x3</th>        <th class=\"col_heading level0 col3\" >s1</th>        <th class=\"col_heading level0 col4\" >s2</th>        <th class=\"col_heading level0 col5\" >s3</th>        <th class=\"col_heading level0 col6\" >b</th>    </tr></thead><tbody>\n",
              "                <tr>\n",
              "                        <th id=\"T_1f3a1402_df38_11ea_a2eb_0242ac1c0002level0_row0\" class=\"row_heading level0 row0\" >R0</th>\n",
              "                        <td id=\"T_1f3a1402_df38_11ea_a2eb_0242ac1c0002row0_col0\" class=\"data row0 col0\" >2</td>\n",
              "                        <td id=\"T_1f3a1402_df38_11ea_a2eb_0242ac1c0002row0_col1\" class=\"data row0 col1\" >1</td>\n",
              "                        <td id=\"T_1f3a1402_df38_11ea_a2eb_0242ac1c0002row0_col2\" class=\"data row0 col2\" >1</td>\n",
              "                        <td id=\"T_1f3a1402_df38_11ea_a2eb_0242ac1c0002row0_col3\" class=\"data row0 col3\" >1</td>\n",
              "                        <td id=\"T_1f3a1402_df38_11ea_a2eb_0242ac1c0002row0_col4\" class=\"data row0 col4\" >0</td>\n",
              "                        <td id=\"T_1f3a1402_df38_11ea_a2eb_0242ac1c0002row0_col5\" class=\"data row0 col5\" >0</td>\n",
              "                        <td id=\"T_1f3a1402_df38_11ea_a2eb_0242ac1c0002row0_col6\" class=\"data row0 col6\" >50</td>\n",
              "            </tr>\n",
              "            <tr>\n",
              "                        <th id=\"T_1f3a1402_df38_11ea_a2eb_0242ac1c0002level0_row1\" class=\"row_heading level0 row1\" >R1</th>\n",
              "                        <td id=\"T_1f3a1402_df38_11ea_a2eb_0242ac1c0002row1_col0\" class=\"data row1 col0\" >2</td>\n",
              "                        <td id=\"T_1f3a1402_df38_11ea_a2eb_0242ac1c0002row1_col1\" class=\"data row1 col1\" >1</td>\n",
              "                        <td id=\"T_1f3a1402_df38_11ea_a2eb_0242ac1c0002row1_col2\" class=\"data row1 col2\" >0</td>\n",
              "                        <td id=\"T_1f3a1402_df38_11ea_a2eb_0242ac1c0002row1_col3\" class=\"data row1 col3\" >0</td>\n",
              "                        <td id=\"T_1f3a1402_df38_11ea_a2eb_0242ac1c0002row1_col4\" class=\"data row1 col4\" >-1</td>\n",
              "                        <td id=\"T_1f3a1402_df38_11ea_a2eb_0242ac1c0002row1_col5\" class=\"data row1 col5\" >0</td>\n",
              "                        <td id=\"T_1f3a1402_df38_11ea_a2eb_0242ac1c0002row1_col6\" class=\"data row1 col6\" >36</td>\n",
              "            </tr>\n",
              "            <tr>\n",
              "                        <th id=\"T_1f3a1402_df38_11ea_a2eb_0242ac1c0002level0_row2\" class=\"row_heading level0 row2\" >R2</th>\n",
              "                        <td id=\"T_1f3a1402_df38_11ea_a2eb_0242ac1c0002row2_col0\" class=\"data row2 col0\" >1</td>\n",
              "                        <td id=\"T_1f3a1402_df38_11ea_a2eb_0242ac1c0002row2_col1\" class=\"data row2 col1\" >0</td>\n",
              "                        <td id=\"T_1f3a1402_df38_11ea_a2eb_0242ac1c0002row2_col2\" class=\"data row2 col2\" >1</td>\n",
              "                        <td id=\"T_1f3a1402_df38_11ea_a2eb_0242ac1c0002row2_col3\" class=\"data row2 col3\" >0</td>\n",
              "                        <td id=\"T_1f3a1402_df38_11ea_a2eb_0242ac1c0002row2_col4\" class=\"data row2 col4\" >0</td>\n",
              "                        <td id=\"T_1f3a1402_df38_11ea_a2eb_0242ac1c0002row2_col5\" class=\"data row2 col5\" >-1</td>\n",
              "                        <td id=\"T_1f3a1402_df38_11ea_a2eb_0242ac1c0002row2_col6\" class=\"data row2 col6\" >10</td>\n",
              "            </tr>\n",
              "            <tr>\n",
              "                        <th id=\"T_1f3a1402_df38_11ea_a2eb_0242ac1c0002level0_row3\" class=\"row_heading level0 row3\" >R3</th>\n",
              "                        <td id=\"T_1f3a1402_df38_11ea_a2eb_0242ac1c0002row3_col0\" class=\"data row3 col0\" >-1</td>\n",
              "                        <td id=\"T_1f3a1402_df38_11ea_a2eb_0242ac1c0002row3_col1\" class=\"data row3 col1\" >-1</td>\n",
              "                        <td id=\"T_1f3a1402_df38_11ea_a2eb_0242ac1c0002row3_col2\" class=\"data row3 col2\" >-2</td>\n",
              "                        <td id=\"T_1f3a1402_df38_11ea_a2eb_0242ac1c0002row3_col3\" class=\"data row3 col3\" >0</td>\n",
              "                        <td id=\"T_1f3a1402_df38_11ea_a2eb_0242ac1c0002row3_col4\" class=\"data row3 col4\" >0</td>\n",
              "                        <td id=\"T_1f3a1402_df38_11ea_a2eb_0242ac1c0002row3_col5\" class=\"data row3 col5\" >0</td>\n",
              "                        <td id=\"T_1f3a1402_df38_11ea_a2eb_0242ac1c0002row3_col6\" class=\"data row3 col6\" >0</td>\n",
              "            </tr>\n",
              "    </tbody></table>"
            ],
            "text/plain": [
              "<pandas.io.formats.style.Styler at 0x7fbc1e963390>"
            ]
          },
          "metadata": {
            "tags": []
          },
          "execution_count": 65
        }
      ]
    },
    {
      "cell_type": "markdown",
      "metadata": {
        "id": "3eUPtdgCzdmE"
      },
      "source": [
        "Remember, now we need to apply Gauss-Jordan elimiation and turn the pivot element into a $1$ (already done) and make the values above and below into a $0$. Leave the row of interest ($R0$ and $R3$) as-is and add multiples of $R2$."
      ]
    },
    {
      "cell_type": "code",
      "metadata": {
        "id": "IOxEsbQmzr3J",
        "colab": {
          "base_uri": "https://localhost:8080/",
          "height": 134
        },
        "outputId": "6ace0c39-677d-4b35-ce2b-2ce695293d93"
      },
      "source": [
        "# add a -1*R2 to R0\n",
        "A[0,:] = A[0,:] - A[2,:]\n",
        "\n",
        "# add a positive 2*R2 to R3\n",
        "A[3,:] = A[3,:] + 2*A[2,:]\n",
        "\n",
        "pprint(A)"
      ],
      "execution_count": null,
      "outputs": [
        {
          "output_type": "stream",
          "text": [
            "⎡1  1   0  1  0   1   40⎤\n",
            "⎢                       ⎥\n",
            "⎢2  1   0  0  -1  0   36⎥\n",
            "⎢                       ⎥\n",
            "⎢1  0   1  0  0   -1  10⎥\n",
            "⎢                       ⎥\n",
            "⎣1  -1  0  0  0   -2  20⎦\n"
          ],
          "name": "stdout"
        }
      ]
    },
    {
      "cell_type": "code",
      "metadata": {
        "id": "vRzbZi7C0guj",
        "colab": {
          "base_uri": "https://localhost:8080/",
          "height": 166
        },
        "outputId": "7da6cc81-f71a-4276-b737-bf791311cc7b"
      },
      "source": [
        "# make it pretty\n",
        "tmp = pd.DataFrame(np.array(A)) # you only need this in the first example\n",
        "tmp.columns = ['x1', 'x2', 'x3', 's1', 's2', 's3', 'b']\n",
        "tmp.index=['R0', 'R1', 'R2', 'R3']\n",
        "tmp"
      ],
      "execution_count": null,
      "outputs": [
        {
          "output_type": "execute_result",
          "data": {
            "text/html": [
              "<div>\n",
              "<style scoped>\n",
              "    .dataframe tbody tr th:only-of-type {\n",
              "        vertical-align: middle;\n",
              "    }\n",
              "\n",
              "    .dataframe tbody tr th {\n",
              "        vertical-align: top;\n",
              "    }\n",
              "\n",
              "    .dataframe thead th {\n",
              "        text-align: right;\n",
              "    }\n",
              "</style>\n",
              "<table border=\"1\" class=\"dataframe\">\n",
              "  <thead>\n",
              "    <tr style=\"text-align: right;\">\n",
              "      <th></th>\n",
              "      <th>x1</th>\n",
              "      <th>x2</th>\n",
              "      <th>x3</th>\n",
              "      <th>s1</th>\n",
              "      <th>s2</th>\n",
              "      <th>s3</th>\n",
              "      <th>b</th>\n",
              "    </tr>\n",
              "  </thead>\n",
              "  <tbody>\n",
              "    <tr>\n",
              "      <th>R0</th>\n",
              "      <td>1</td>\n",
              "      <td>1</td>\n",
              "      <td>0</td>\n",
              "      <td>1</td>\n",
              "      <td>0</td>\n",
              "      <td>1</td>\n",
              "      <td>40</td>\n",
              "    </tr>\n",
              "    <tr>\n",
              "      <th>R1</th>\n",
              "      <td>2</td>\n",
              "      <td>1</td>\n",
              "      <td>0</td>\n",
              "      <td>0</td>\n",
              "      <td>-1</td>\n",
              "      <td>0</td>\n",
              "      <td>36</td>\n",
              "    </tr>\n",
              "    <tr>\n",
              "      <th>R2</th>\n",
              "      <td>1</td>\n",
              "      <td>0</td>\n",
              "      <td>1</td>\n",
              "      <td>0</td>\n",
              "      <td>0</td>\n",
              "      <td>-1</td>\n",
              "      <td>10</td>\n",
              "    </tr>\n",
              "    <tr>\n",
              "      <th>R3</th>\n",
              "      <td>1</td>\n",
              "      <td>-1</td>\n",
              "      <td>0</td>\n",
              "      <td>0</td>\n",
              "      <td>0</td>\n",
              "      <td>-2</td>\n",
              "      <td>20</td>\n",
              "    </tr>\n",
              "  </tbody>\n",
              "</table>\n",
              "</div>"
            ],
            "text/plain": [
              "   x1  x2 x3 s1  s2  s3   b\n",
              "R0  1   1  0  1   0   1  40\n",
              "R1  2   1  0  0  -1   0  36\n",
              "R2  1   0  1  0   0  -1  10\n",
              "R3  1  -1  0  0   0  -2  20"
            ]
          },
          "metadata": {
            "tags": []
          },
          "execution_count": 67
        }
      ]
    },
    {
      "cell_type": "markdown",
      "metadata": {
        "id": "pr4rp3jn0IqZ"
      },
      "source": [
        "Looks good! We check for negative values and we see we have a negative value for $x_2$. Looks like we continue pivoting..."
      ]
    },
    {
      "cell_type": "markdown",
      "metadata": {
        "id": "msf-K-SI0eAM"
      },
      "source": [
        "# Pivot #2\n",
        "$x_2$ will be our **entering variable** and we compute ratios to determine the **departing variable**."
      ]
    },
    {
      "cell_type": "code",
      "metadata": {
        "id": "8LzxsHwh0zsG",
        "colab": {
          "base_uri": "https://localhost:8080/",
          "height": 50
        },
        "outputId": "5624750e-878b-49bf-f983-f9e18521a8a4"
      },
      "source": [
        "print('R0:', 40/1)\n",
        "print('R1:', 36/1)\n",
        "# print('R2:', 40/0) DNE - divide by 0\n",
        "\n",
        "# so R1 is our departing variable"
      ],
      "execution_count": null,
      "outputs": [
        {
          "output_type": "stream",
          "text": [
            "R0: 40.0\n",
            "R1: 36.0\n"
          ],
          "name": "stdout"
        }
      ]
    },
    {
      "cell_type": "code",
      "metadata": {
        "id": "ZfkdSQni1DnX",
        "colab": {
          "base_uri": "https://localhost:8080/",
          "height": 118
        },
        "outputId": "15cadba6-32e1-41a3-f2fe-c1e2ab6e6716"
      },
      "source": [
        "# make it pretty\n",
        "# since tmp is already defined we will just add color\n",
        "\n",
        "# highlight a single cell pivot element\n",
        "idx_r = 1\n",
        "idx_c = 1\n",
        "\n",
        "# apply style to rows and columns\n",
        "tmp.style\\\n",
        ".apply(lambda x: ['background: lightblue' if x.name == 'x2' else '' for i in x])\\\n",
        ".apply(lambda x: ['background: lightblue' if x.name == 'R1' else '' for i in x], axis=1)\\\n",
        ".apply(styling_specific_cell, row_idx = idx_r, col_idx = idx_c, axis = None)\n",
        "\n",
        "# looks great!"
      ],
      "execution_count": null,
      "outputs": [
        {
          "output_type": "execute_result",
          "data": {
            "text/html": [
              "<style  type=\"text/css\" >\n",
              "    #T_1f4bace4_df38_11ea_a2eb_0242ac1c0002row0_col1 {\n",
              "            background:  lightblue;\n",
              "            : ;\n",
              "            : ;\n",
              "        }    #T_1f4bace4_df38_11ea_a2eb_0242ac1c0002row1_col0 {\n",
              "            : ;\n",
              "            background:  lightblue;\n",
              "            : ;\n",
              "        }    #T_1f4bace4_df38_11ea_a2eb_0242ac1c0002row1_col1 {\n",
              "            background:  lightblue;\n",
              "            background:  lightblue;\n",
              "            background-color:  yellow;\n",
              "             color:  red;\n",
              "        }    #T_1f4bace4_df38_11ea_a2eb_0242ac1c0002row1_col2 {\n",
              "            : ;\n",
              "            background:  lightblue;\n",
              "            : ;\n",
              "        }    #T_1f4bace4_df38_11ea_a2eb_0242ac1c0002row1_col3 {\n",
              "            : ;\n",
              "            background:  lightblue;\n",
              "            : ;\n",
              "        }    #T_1f4bace4_df38_11ea_a2eb_0242ac1c0002row1_col4 {\n",
              "            : ;\n",
              "            background:  lightblue;\n",
              "            : ;\n",
              "        }    #T_1f4bace4_df38_11ea_a2eb_0242ac1c0002row1_col5 {\n",
              "            : ;\n",
              "            background:  lightblue;\n",
              "            : ;\n",
              "        }    #T_1f4bace4_df38_11ea_a2eb_0242ac1c0002row1_col6 {\n",
              "            : ;\n",
              "            background:  lightblue;\n",
              "            : ;\n",
              "        }    #T_1f4bace4_df38_11ea_a2eb_0242ac1c0002row2_col1 {\n",
              "            background:  lightblue;\n",
              "            : ;\n",
              "            : ;\n",
              "        }    #T_1f4bace4_df38_11ea_a2eb_0242ac1c0002row3_col1 {\n",
              "            background:  lightblue;\n",
              "            : ;\n",
              "            : ;\n",
              "        }</style><table id=\"T_1f4bace4_df38_11ea_a2eb_0242ac1c0002\" ><thead>    <tr>        <th class=\"blank level0\" ></th>        <th class=\"col_heading level0 col0\" >x1</th>        <th class=\"col_heading level0 col1\" >x2</th>        <th class=\"col_heading level0 col2\" >x3</th>        <th class=\"col_heading level0 col3\" >s1</th>        <th class=\"col_heading level0 col4\" >s2</th>        <th class=\"col_heading level0 col5\" >s3</th>        <th class=\"col_heading level0 col6\" >b</th>    </tr></thead><tbody>\n",
              "                <tr>\n",
              "                        <th id=\"T_1f4bace4_df38_11ea_a2eb_0242ac1c0002level0_row0\" class=\"row_heading level0 row0\" >R0</th>\n",
              "                        <td id=\"T_1f4bace4_df38_11ea_a2eb_0242ac1c0002row0_col0\" class=\"data row0 col0\" >1</td>\n",
              "                        <td id=\"T_1f4bace4_df38_11ea_a2eb_0242ac1c0002row0_col1\" class=\"data row0 col1\" >1</td>\n",
              "                        <td id=\"T_1f4bace4_df38_11ea_a2eb_0242ac1c0002row0_col2\" class=\"data row0 col2\" >0</td>\n",
              "                        <td id=\"T_1f4bace4_df38_11ea_a2eb_0242ac1c0002row0_col3\" class=\"data row0 col3\" >1</td>\n",
              "                        <td id=\"T_1f4bace4_df38_11ea_a2eb_0242ac1c0002row0_col4\" class=\"data row0 col4\" >0</td>\n",
              "                        <td id=\"T_1f4bace4_df38_11ea_a2eb_0242ac1c0002row0_col5\" class=\"data row0 col5\" >1</td>\n",
              "                        <td id=\"T_1f4bace4_df38_11ea_a2eb_0242ac1c0002row0_col6\" class=\"data row0 col6\" >40</td>\n",
              "            </tr>\n",
              "            <tr>\n",
              "                        <th id=\"T_1f4bace4_df38_11ea_a2eb_0242ac1c0002level0_row1\" class=\"row_heading level0 row1\" >R1</th>\n",
              "                        <td id=\"T_1f4bace4_df38_11ea_a2eb_0242ac1c0002row1_col0\" class=\"data row1 col0\" >2</td>\n",
              "                        <td id=\"T_1f4bace4_df38_11ea_a2eb_0242ac1c0002row1_col1\" class=\"data row1 col1\" >1</td>\n",
              "                        <td id=\"T_1f4bace4_df38_11ea_a2eb_0242ac1c0002row1_col2\" class=\"data row1 col2\" >0</td>\n",
              "                        <td id=\"T_1f4bace4_df38_11ea_a2eb_0242ac1c0002row1_col3\" class=\"data row1 col3\" >0</td>\n",
              "                        <td id=\"T_1f4bace4_df38_11ea_a2eb_0242ac1c0002row1_col4\" class=\"data row1 col4\" >-1</td>\n",
              "                        <td id=\"T_1f4bace4_df38_11ea_a2eb_0242ac1c0002row1_col5\" class=\"data row1 col5\" >0</td>\n",
              "                        <td id=\"T_1f4bace4_df38_11ea_a2eb_0242ac1c0002row1_col6\" class=\"data row1 col6\" >36</td>\n",
              "            </tr>\n",
              "            <tr>\n",
              "                        <th id=\"T_1f4bace4_df38_11ea_a2eb_0242ac1c0002level0_row2\" class=\"row_heading level0 row2\" >R2</th>\n",
              "                        <td id=\"T_1f4bace4_df38_11ea_a2eb_0242ac1c0002row2_col0\" class=\"data row2 col0\" >1</td>\n",
              "                        <td id=\"T_1f4bace4_df38_11ea_a2eb_0242ac1c0002row2_col1\" class=\"data row2 col1\" >0</td>\n",
              "                        <td id=\"T_1f4bace4_df38_11ea_a2eb_0242ac1c0002row2_col2\" class=\"data row2 col2\" >1</td>\n",
              "                        <td id=\"T_1f4bace4_df38_11ea_a2eb_0242ac1c0002row2_col3\" class=\"data row2 col3\" >0</td>\n",
              "                        <td id=\"T_1f4bace4_df38_11ea_a2eb_0242ac1c0002row2_col4\" class=\"data row2 col4\" >0</td>\n",
              "                        <td id=\"T_1f4bace4_df38_11ea_a2eb_0242ac1c0002row2_col5\" class=\"data row2 col5\" >-1</td>\n",
              "                        <td id=\"T_1f4bace4_df38_11ea_a2eb_0242ac1c0002row2_col6\" class=\"data row2 col6\" >10</td>\n",
              "            </tr>\n",
              "            <tr>\n",
              "                        <th id=\"T_1f4bace4_df38_11ea_a2eb_0242ac1c0002level0_row3\" class=\"row_heading level0 row3\" >R3</th>\n",
              "                        <td id=\"T_1f4bace4_df38_11ea_a2eb_0242ac1c0002row3_col0\" class=\"data row3 col0\" >1</td>\n",
              "                        <td id=\"T_1f4bace4_df38_11ea_a2eb_0242ac1c0002row3_col1\" class=\"data row3 col1\" >-1</td>\n",
              "                        <td id=\"T_1f4bace4_df38_11ea_a2eb_0242ac1c0002row3_col2\" class=\"data row3 col2\" >0</td>\n",
              "                        <td id=\"T_1f4bace4_df38_11ea_a2eb_0242ac1c0002row3_col3\" class=\"data row3 col3\" >0</td>\n",
              "                        <td id=\"T_1f4bace4_df38_11ea_a2eb_0242ac1c0002row3_col4\" class=\"data row3 col4\" >0</td>\n",
              "                        <td id=\"T_1f4bace4_df38_11ea_a2eb_0242ac1c0002row3_col5\" class=\"data row3 col5\" >-2</td>\n",
              "                        <td id=\"T_1f4bace4_df38_11ea_a2eb_0242ac1c0002row3_col6\" class=\"data row3 col6\" >20</td>\n",
              "            </tr>\n",
              "    </tbody></table>"
            ],
            "text/plain": [
              "<pandas.io.formats.style.Styler at 0x7fbc1e963dd8>"
            ]
          },
          "metadata": {
            "tags": []
          },
          "execution_count": 69
        }
      ]
    },
    {
      "cell_type": "markdown",
      "metadata": {
        "id": "FWo6MMSG1U-n"
      },
      "source": [
        "Now we apply Gauss-Jordan elimination. Turn the '1' in R0 into a 0, and the -1 in R3 into a 0. Remember: leave the row of interest as-is, and add multiples of R1."
      ]
    },
    {
      "cell_type": "code",
      "metadata": {
        "id": "qI6vBHvt1bFr",
        "colab": {
          "base_uri": "https://localhost:8080/",
          "height": 134
        },
        "outputId": "7cb43205-5ccb-4eae-811d-e7dc89ff31be"
      },
      "source": [
        "# we add -1*R2 to R0\n",
        "A[0,:] = A[0,:] - A[1,:]\n",
        "# R2 is fine\n",
        "# we add 1*R2 to R3\n",
        "A[3,:] = A[3,:] + A[1,:]\n",
        "\n",
        "pprint(A)"
      ],
      "execution_count": null,
      "outputs": [
        {
          "output_type": "stream",
          "text": [
            "⎡-1  0  0  1  1   1   4 ⎤\n",
            "⎢                       ⎥\n",
            "⎢2   1  0  0  -1  0   36⎥\n",
            "⎢                       ⎥\n",
            "⎢1   0  1  0  0   -1  10⎥\n",
            "⎢                       ⎥\n",
            "⎣3   0  0  0  -1  -2  56⎦\n"
          ],
          "name": "stdout"
        }
      ]
    },
    {
      "cell_type": "code",
      "metadata": {
        "id": "r8Fgozkj1zGD",
        "colab": {
          "base_uri": "https://localhost:8080/",
          "height": 166
        },
        "outputId": "063980f4-72d4-4d08-eba8-796081be0f47"
      },
      "source": [
        "# and make it pretty\n",
        "tmp = pd.DataFrame(np.array(A)) # you only need this in the first example\n",
        "tmp.columns = ['x1', 'x2', 'x3', 's1', 's2', 's3', 'b']\n",
        "tmp.index=['R0', 'R1', 'R2', 'R3']\n",
        "tmp"
      ],
      "execution_count": null,
      "outputs": [
        {
          "output_type": "execute_result",
          "data": {
            "text/html": [
              "<div>\n",
              "<style scoped>\n",
              "    .dataframe tbody tr th:only-of-type {\n",
              "        vertical-align: middle;\n",
              "    }\n",
              "\n",
              "    .dataframe tbody tr th {\n",
              "        vertical-align: top;\n",
              "    }\n",
              "\n",
              "    .dataframe thead th {\n",
              "        text-align: right;\n",
              "    }\n",
              "</style>\n",
              "<table border=\"1\" class=\"dataframe\">\n",
              "  <thead>\n",
              "    <tr style=\"text-align: right;\">\n",
              "      <th></th>\n",
              "      <th>x1</th>\n",
              "      <th>x2</th>\n",
              "      <th>x3</th>\n",
              "      <th>s1</th>\n",
              "      <th>s2</th>\n",
              "      <th>s3</th>\n",
              "      <th>b</th>\n",
              "    </tr>\n",
              "  </thead>\n",
              "  <tbody>\n",
              "    <tr>\n",
              "      <th>R0</th>\n",
              "      <td>-1</td>\n",
              "      <td>0</td>\n",
              "      <td>0</td>\n",
              "      <td>1</td>\n",
              "      <td>1</td>\n",
              "      <td>1</td>\n",
              "      <td>4</td>\n",
              "    </tr>\n",
              "    <tr>\n",
              "      <th>R1</th>\n",
              "      <td>2</td>\n",
              "      <td>1</td>\n",
              "      <td>0</td>\n",
              "      <td>0</td>\n",
              "      <td>-1</td>\n",
              "      <td>0</td>\n",
              "      <td>36</td>\n",
              "    </tr>\n",
              "    <tr>\n",
              "      <th>R2</th>\n",
              "      <td>1</td>\n",
              "      <td>0</td>\n",
              "      <td>1</td>\n",
              "      <td>0</td>\n",
              "      <td>0</td>\n",
              "      <td>-1</td>\n",
              "      <td>10</td>\n",
              "    </tr>\n",
              "    <tr>\n",
              "      <th>R3</th>\n",
              "      <td>3</td>\n",
              "      <td>0</td>\n",
              "      <td>0</td>\n",
              "      <td>0</td>\n",
              "      <td>-1</td>\n",
              "      <td>-2</td>\n",
              "      <td>56</td>\n",
              "    </tr>\n",
              "  </tbody>\n",
              "</table>\n",
              "</div>"
            ],
            "text/plain": [
              "    x1 x2 x3 s1  s2  s3   b\n",
              "R0  -1  0  0  1   1   1   4\n",
              "R1   2  1  0  0  -1   0  36\n",
              "R2   1  0  1  0   0  -1  10\n",
              "R3   3  0  0  0  -1  -2  56"
            ]
          },
          "metadata": {
            "tags": []
          },
          "execution_count": 71
        }
      ]
    },
    {
      "cell_type": "markdown",
      "metadata": {
        "id": "rUZBS-KA2Cj1"
      },
      "source": [
        "We still have negative values for the slack variables, so we keep going..."
      ]
    },
    {
      "cell_type": "markdown",
      "metadata": {
        "id": "u8uVLKIp2i96"
      },
      "source": [
        "# Pivot #3\n",
        "Since -2 is the largest number in the bottom row, we try that one for the **entering variable**. Now we need to determine which will be the **departing variable**."
      ]
    },
    {
      "cell_type": "code",
      "metadata": {
        "id": "IOybJQca25R5",
        "colab": {
          "base_uri": "https://localhost:8080/",
          "height": 50
        },
        "outputId": "c14165e2-01b7-4dc2-c2c5-5088d658b9b1"
      },
      "source": [
        "print('R0:', 4/1)\n",
        "# print('R1:', 36/0) - DNE\n",
        "print('R2:', 10/-1) # negative number, no dice!\n",
        "\n",
        "# looks like we will use R0..."
      ],
      "execution_count": null,
      "outputs": [
        {
          "output_type": "stream",
          "text": [
            "R0: 4.0\n",
            "R2: -10.0\n"
          ],
          "name": "stdout"
        }
      ]
    },
    {
      "cell_type": "code",
      "metadata": {
        "id": "yzcoEhUk3JTL",
        "colab": {
          "base_uri": "https://localhost:8080/",
          "height": 118
        },
        "outputId": "0c926119-13e5-401c-a58c-f1657881795a"
      },
      "source": [
        "# make it pretty in a table so you know what to do\n",
        "tmp = pd.DataFrame(np.array(A)) # you only need this in the first example\n",
        "tmp.columns = ['x1', 'x2', 'x3', 's1', 's2', 's3', 'b']\n",
        "tmp.index=['R0', 'R1', 'R2', 'R3']\n",
        "tmp\n",
        "\n",
        "# highlight a single cell pivot element\n",
        "idx_r = 0\n",
        "idx_c = 5\n",
        "\n",
        "# apply style to rows and columns\n",
        "tmp.style\\\n",
        ".apply(lambda x: ['background: lightblue' if x.name == 's3' else '' for i in x])\\\n",
        ".apply(lambda x: ['background: lightblue' if x.name == 'R0' else '' for i in x], axis=1)\\\n",
        ".apply(styling_specific_cell, row_idx = idx_r, col_idx = idx_c, axis = None)\n"
      ],
      "execution_count": null,
      "outputs": [
        {
          "output_type": "execute_result",
          "data": {
            "text/html": [
              "<style  type=\"text/css\" >\n",
              "    #T_1f5d9fee_df38_11ea_a2eb_0242ac1c0002row0_col0 {\n",
              "            : ;\n",
              "            background:  lightblue;\n",
              "            : ;\n",
              "        }    #T_1f5d9fee_df38_11ea_a2eb_0242ac1c0002row0_col1 {\n",
              "            : ;\n",
              "            background:  lightblue;\n",
              "            : ;\n",
              "        }    #T_1f5d9fee_df38_11ea_a2eb_0242ac1c0002row0_col2 {\n",
              "            : ;\n",
              "            background:  lightblue;\n",
              "            : ;\n",
              "        }    #T_1f5d9fee_df38_11ea_a2eb_0242ac1c0002row0_col3 {\n",
              "            : ;\n",
              "            background:  lightblue;\n",
              "            : ;\n",
              "        }    #T_1f5d9fee_df38_11ea_a2eb_0242ac1c0002row0_col4 {\n",
              "            : ;\n",
              "            background:  lightblue;\n",
              "            : ;\n",
              "        }    #T_1f5d9fee_df38_11ea_a2eb_0242ac1c0002row0_col5 {\n",
              "            background:  lightblue;\n",
              "            background:  lightblue;\n",
              "            background-color:  yellow;\n",
              "             color:  red;\n",
              "        }    #T_1f5d9fee_df38_11ea_a2eb_0242ac1c0002row0_col6 {\n",
              "            : ;\n",
              "            background:  lightblue;\n",
              "            : ;\n",
              "        }    #T_1f5d9fee_df38_11ea_a2eb_0242ac1c0002row1_col5 {\n",
              "            background:  lightblue;\n",
              "            : ;\n",
              "            : ;\n",
              "        }    #T_1f5d9fee_df38_11ea_a2eb_0242ac1c0002row2_col5 {\n",
              "            background:  lightblue;\n",
              "            : ;\n",
              "            : ;\n",
              "        }    #T_1f5d9fee_df38_11ea_a2eb_0242ac1c0002row3_col5 {\n",
              "            background:  lightblue;\n",
              "            : ;\n",
              "            : ;\n",
              "        }</style><table id=\"T_1f5d9fee_df38_11ea_a2eb_0242ac1c0002\" ><thead>    <tr>        <th class=\"blank level0\" ></th>        <th class=\"col_heading level0 col0\" >x1</th>        <th class=\"col_heading level0 col1\" >x2</th>        <th class=\"col_heading level0 col2\" >x3</th>        <th class=\"col_heading level0 col3\" >s1</th>        <th class=\"col_heading level0 col4\" >s2</th>        <th class=\"col_heading level0 col5\" >s3</th>        <th class=\"col_heading level0 col6\" >b</th>    </tr></thead><tbody>\n",
              "                <tr>\n",
              "                        <th id=\"T_1f5d9fee_df38_11ea_a2eb_0242ac1c0002level0_row0\" class=\"row_heading level0 row0\" >R0</th>\n",
              "                        <td id=\"T_1f5d9fee_df38_11ea_a2eb_0242ac1c0002row0_col0\" class=\"data row0 col0\" >-1</td>\n",
              "                        <td id=\"T_1f5d9fee_df38_11ea_a2eb_0242ac1c0002row0_col1\" class=\"data row0 col1\" >0</td>\n",
              "                        <td id=\"T_1f5d9fee_df38_11ea_a2eb_0242ac1c0002row0_col2\" class=\"data row0 col2\" >0</td>\n",
              "                        <td id=\"T_1f5d9fee_df38_11ea_a2eb_0242ac1c0002row0_col3\" class=\"data row0 col3\" >1</td>\n",
              "                        <td id=\"T_1f5d9fee_df38_11ea_a2eb_0242ac1c0002row0_col4\" class=\"data row0 col4\" >1</td>\n",
              "                        <td id=\"T_1f5d9fee_df38_11ea_a2eb_0242ac1c0002row0_col5\" class=\"data row0 col5\" >1</td>\n",
              "                        <td id=\"T_1f5d9fee_df38_11ea_a2eb_0242ac1c0002row0_col6\" class=\"data row0 col6\" >4</td>\n",
              "            </tr>\n",
              "            <tr>\n",
              "                        <th id=\"T_1f5d9fee_df38_11ea_a2eb_0242ac1c0002level0_row1\" class=\"row_heading level0 row1\" >R1</th>\n",
              "                        <td id=\"T_1f5d9fee_df38_11ea_a2eb_0242ac1c0002row1_col0\" class=\"data row1 col0\" >2</td>\n",
              "                        <td id=\"T_1f5d9fee_df38_11ea_a2eb_0242ac1c0002row1_col1\" class=\"data row1 col1\" >1</td>\n",
              "                        <td id=\"T_1f5d9fee_df38_11ea_a2eb_0242ac1c0002row1_col2\" class=\"data row1 col2\" >0</td>\n",
              "                        <td id=\"T_1f5d9fee_df38_11ea_a2eb_0242ac1c0002row1_col3\" class=\"data row1 col3\" >0</td>\n",
              "                        <td id=\"T_1f5d9fee_df38_11ea_a2eb_0242ac1c0002row1_col4\" class=\"data row1 col4\" >-1</td>\n",
              "                        <td id=\"T_1f5d9fee_df38_11ea_a2eb_0242ac1c0002row1_col5\" class=\"data row1 col5\" >0</td>\n",
              "                        <td id=\"T_1f5d9fee_df38_11ea_a2eb_0242ac1c0002row1_col6\" class=\"data row1 col6\" >36</td>\n",
              "            </tr>\n",
              "            <tr>\n",
              "                        <th id=\"T_1f5d9fee_df38_11ea_a2eb_0242ac1c0002level0_row2\" class=\"row_heading level0 row2\" >R2</th>\n",
              "                        <td id=\"T_1f5d9fee_df38_11ea_a2eb_0242ac1c0002row2_col0\" class=\"data row2 col0\" >1</td>\n",
              "                        <td id=\"T_1f5d9fee_df38_11ea_a2eb_0242ac1c0002row2_col1\" class=\"data row2 col1\" >0</td>\n",
              "                        <td id=\"T_1f5d9fee_df38_11ea_a2eb_0242ac1c0002row2_col2\" class=\"data row2 col2\" >1</td>\n",
              "                        <td id=\"T_1f5d9fee_df38_11ea_a2eb_0242ac1c0002row2_col3\" class=\"data row2 col3\" >0</td>\n",
              "                        <td id=\"T_1f5d9fee_df38_11ea_a2eb_0242ac1c0002row2_col4\" class=\"data row2 col4\" >0</td>\n",
              "                        <td id=\"T_1f5d9fee_df38_11ea_a2eb_0242ac1c0002row2_col5\" class=\"data row2 col5\" >-1</td>\n",
              "                        <td id=\"T_1f5d9fee_df38_11ea_a2eb_0242ac1c0002row2_col6\" class=\"data row2 col6\" >10</td>\n",
              "            </tr>\n",
              "            <tr>\n",
              "                        <th id=\"T_1f5d9fee_df38_11ea_a2eb_0242ac1c0002level0_row3\" class=\"row_heading level0 row3\" >R3</th>\n",
              "                        <td id=\"T_1f5d9fee_df38_11ea_a2eb_0242ac1c0002row3_col0\" class=\"data row3 col0\" >3</td>\n",
              "                        <td id=\"T_1f5d9fee_df38_11ea_a2eb_0242ac1c0002row3_col1\" class=\"data row3 col1\" >0</td>\n",
              "                        <td id=\"T_1f5d9fee_df38_11ea_a2eb_0242ac1c0002row3_col2\" class=\"data row3 col2\" >0</td>\n",
              "                        <td id=\"T_1f5d9fee_df38_11ea_a2eb_0242ac1c0002row3_col3\" class=\"data row3 col3\" >0</td>\n",
              "                        <td id=\"T_1f5d9fee_df38_11ea_a2eb_0242ac1c0002row3_col4\" class=\"data row3 col4\" >-1</td>\n",
              "                        <td id=\"T_1f5d9fee_df38_11ea_a2eb_0242ac1c0002row3_col5\" class=\"data row3 col5\" >-2</td>\n",
              "                        <td id=\"T_1f5d9fee_df38_11ea_a2eb_0242ac1c0002row3_col6\" class=\"data row3 col6\" >56</td>\n",
              "            </tr>\n",
              "    </tbody></table>"
            ],
            "text/plain": [
              "<pandas.io.formats.style.Styler at 0x7fbc1e96f940>"
            ]
          },
          "metadata": {
            "tags": []
          },
          "execution_count": 73
        }
      ]
    },
    {
      "cell_type": "markdown",
      "metadata": {
        "id": "sU3mUUaK3f8a"
      },
      "source": [
        "We've got our work cut out for us - let's get rid of the negative values with Gauss-Jordan elimination. Leave the row of interest as-is (R1, R2, R3) and add multiples of R3 to it."
      ]
    },
    {
      "cell_type": "code",
      "metadata": {
        "id": "sQro9y4s3lHs",
        "colab": {
          "base_uri": "https://localhost:8080/",
          "height": 134
        },
        "outputId": "a10ebdb9-62b2-4ee5-b911-190724f2c093"
      },
      "source": [
        "# R1 is fine\n",
        "# we add multiples of R0 to R2 and R3\n",
        "# add 1*R0 to R2\n",
        "A[2,:] = A[2,:] + A[0,:]\n",
        "# add 2*R0 to R3\n",
        "A[3,:] = A[3,:] + 2*A[0,:]\n",
        "\n",
        "# check your work\n",
        "pprint(A)"
      ],
      "execution_count": null,
      "outputs": [
        {
          "output_type": "stream",
          "text": [
            "⎡-1  0  0  1  1   1  4 ⎤\n",
            "⎢                      ⎥\n",
            "⎢2   1  0  0  -1  0  36⎥\n",
            "⎢                      ⎥\n",
            "⎢0   0  1  1  1   0  14⎥\n",
            "⎢                      ⎥\n",
            "⎣1   0  0  2  1   0  64⎦\n"
          ],
          "name": "stdout"
        }
      ]
    },
    {
      "cell_type": "code",
      "metadata": {
        "id": "M32DY6Dv6MtY",
        "colab": {
          "base_uri": "https://localhost:8080/",
          "height": 166
        },
        "outputId": "8b18775a-a3bd-4c62-8303-8cea39867125"
      },
      "source": [
        "# make it pretty\n",
        "tmp = pd.DataFrame(np.array(A)) # you only need this in the first example\n",
        "tmp.columns = ['x1', 'x2', 'x3', 's1', 's2', 's3', 'b']\n",
        "tmp.index=['R0', 'R1', 'R2', 'R3']\n",
        "tmp"
      ],
      "execution_count": null,
      "outputs": [
        {
          "output_type": "execute_result",
          "data": {
            "text/html": [
              "<div>\n",
              "<style scoped>\n",
              "    .dataframe tbody tr th:only-of-type {\n",
              "        vertical-align: middle;\n",
              "    }\n",
              "\n",
              "    .dataframe tbody tr th {\n",
              "        vertical-align: top;\n",
              "    }\n",
              "\n",
              "    .dataframe thead th {\n",
              "        text-align: right;\n",
              "    }\n",
              "</style>\n",
              "<table border=\"1\" class=\"dataframe\">\n",
              "  <thead>\n",
              "    <tr style=\"text-align: right;\">\n",
              "      <th></th>\n",
              "      <th>x1</th>\n",
              "      <th>x2</th>\n",
              "      <th>x3</th>\n",
              "      <th>s1</th>\n",
              "      <th>s2</th>\n",
              "      <th>s3</th>\n",
              "      <th>b</th>\n",
              "    </tr>\n",
              "  </thead>\n",
              "  <tbody>\n",
              "    <tr>\n",
              "      <th>R0</th>\n",
              "      <td>-1</td>\n",
              "      <td>0</td>\n",
              "      <td>0</td>\n",
              "      <td>1</td>\n",
              "      <td>1</td>\n",
              "      <td>1</td>\n",
              "      <td>4</td>\n",
              "    </tr>\n",
              "    <tr>\n",
              "      <th>R1</th>\n",
              "      <td>2</td>\n",
              "      <td>1</td>\n",
              "      <td>0</td>\n",
              "      <td>0</td>\n",
              "      <td>-1</td>\n",
              "      <td>0</td>\n",
              "      <td>36</td>\n",
              "    </tr>\n",
              "    <tr>\n",
              "      <th>R2</th>\n",
              "      <td>0</td>\n",
              "      <td>0</td>\n",
              "      <td>1</td>\n",
              "      <td>1</td>\n",
              "      <td>1</td>\n",
              "      <td>0</td>\n",
              "      <td>14</td>\n",
              "    </tr>\n",
              "    <tr>\n",
              "      <th>R3</th>\n",
              "      <td>1</td>\n",
              "      <td>0</td>\n",
              "      <td>0</td>\n",
              "      <td>2</td>\n",
              "      <td>1</td>\n",
              "      <td>0</td>\n",
              "      <td>64</td>\n",
              "    </tr>\n",
              "  </tbody>\n",
              "</table>\n",
              "</div>"
            ],
            "text/plain": [
              "    x1 x2 x3 s1  s2 s3   b\n",
              "R0  -1  0  0  1   1  1   4\n",
              "R1   2  1  0  0  -1  0  36\n",
              "R2   0  0  1  1   1  0  14\n",
              "R3   1  0  0  2   1  0  64"
            ]
          },
          "metadata": {
            "tags": []
          },
          "execution_count": 75
        }
      ]
    },
    {
      "cell_type": "markdown",
      "metadata": {
        "id": "Cm0TP1uG4MEF"
      },
      "source": [
        "SWEET! We are done here. No negative values in the bottom row. Now we can read off the final solution."
      ]
    },
    {
      "cell_type": "markdown",
      "metadata": {
        "id": "3twG69s94XQt"
      },
      "source": [
        "# Final Solution\n",
        "Note that this tableau is final because it represents a feasible solution and there are no negative entries in the bottom row. So, the maximum value of the objective function is $z = 64$ and this occurs when $x_1 = 0, x_2 = 36, x_3 = 14$.\n",
        "\n",
        "# Thoughts\n",
        "It's tough choosing the entering variable at random, but we got there."
      ]
    },
    {
      "cell_type": "markdown",
      "metadata": {
        "id": "pG2r2_g3unQA"
      },
      "source": [
        "# Appendix: Color coding a table\n",
        "We'll manipulate this often to color code our tableaus for easy viewing."
      ]
    },
    {
      "cell_type": "code",
      "metadata": {
        "id": "8eWzBUFjuubS",
        "colab": {
          "base_uri": "https://localhost:8080/",
          "height": 98
        },
        "outputId": "9b329c42-4af6-4cec-fec5-41cd5219c601"
      },
      "source": [
        "# a random sample array\n",
        "\n",
        "A = Matrix([[60,   12,   10,   1,  0,  0.12],\n",
        "            [60,    6,   30,   0,  1,  0.15],                      \n",
        "            [-300,  -36,  -90,  0,  0,   0]])\n",
        "\n",
        "# make it pretty\n",
        "tmp = pd.DataFrame(np.array(A).astype(float)) # you only need this in the first example\n",
        "tmp.columns = ['y1', 'y2', 'y3', 's1', 's2', 'b']\n",
        "tmp.index=['R0', 'R1', 'R2']\n",
        "tmp\n",
        "\n",
        "# add some color to highlight s1 and s2 and z\n",
        "# Custom function to color the desired cell\n",
        "def styling_specific_cell(x,row_idx,col_idx):\n",
        "    color = 'background-color: yellow; color: red'\n",
        "    df_styler = pd.DataFrame('', index=x.index, columns=x.columns)\n",
        "    df_styler.iloc[row_idx, col_idx] = color\n",
        "    return df_styler\n",
        "\n",
        "# highlight a single cell pivot element\n",
        "idx_r = 0\n",
        "idx_c = 0\n",
        "\n",
        "# apply style to rows and columns\n",
        "tmp.style\\\n",
        ".apply(lambda x: ['background: lightblue' if x.name == 'y1' else '' for i in x])\\\n",
        ".apply(lambda x: ['background: lightblue' if x.name == 'R0' else '' for i in x], axis=1)\\\n",
        ".apply(styling_specific_cell, row_idx = idx_r, col_idx = idx_c, axis = None)\n"
      ],
      "execution_count": null,
      "outputs": [
        {
          "output_type": "execute_result",
          "data": {
            "text/html": [
              "<style  type=\"text/css\" >\n",
              "    #T_05972a44_df38_11ea_a2eb_0242ac1c0002row0_col0 {\n",
              "            background:  lightblue;\n",
              "            background:  lightblue;\n",
              "            background-color:  yellow;\n",
              "             color:  red;\n",
              "        }    #T_05972a44_df38_11ea_a2eb_0242ac1c0002row0_col1 {\n",
              "            : ;\n",
              "            background:  lightblue;\n",
              "            : ;\n",
              "        }    #T_05972a44_df38_11ea_a2eb_0242ac1c0002row0_col2 {\n",
              "            : ;\n",
              "            background:  lightblue;\n",
              "            : ;\n",
              "        }    #T_05972a44_df38_11ea_a2eb_0242ac1c0002row0_col3 {\n",
              "            : ;\n",
              "            background:  lightblue;\n",
              "            : ;\n",
              "        }    #T_05972a44_df38_11ea_a2eb_0242ac1c0002row0_col4 {\n",
              "            : ;\n",
              "            background:  lightblue;\n",
              "            : ;\n",
              "        }    #T_05972a44_df38_11ea_a2eb_0242ac1c0002row0_col5 {\n",
              "            : ;\n",
              "            background:  lightblue;\n",
              "            : ;\n",
              "        }    #T_05972a44_df38_11ea_a2eb_0242ac1c0002row1_col0 {\n",
              "            background:  lightblue;\n",
              "            : ;\n",
              "            : ;\n",
              "        }    #T_05972a44_df38_11ea_a2eb_0242ac1c0002row2_col0 {\n",
              "            background:  lightblue;\n",
              "            : ;\n",
              "            : ;\n",
              "        }</style><table id=\"T_05972a44_df38_11ea_a2eb_0242ac1c0002\" ><thead>    <tr>        <th class=\"blank level0\" ></th>        <th class=\"col_heading level0 col0\" >y1</th>        <th class=\"col_heading level0 col1\" >y2</th>        <th class=\"col_heading level0 col2\" >y3</th>        <th class=\"col_heading level0 col3\" >s1</th>        <th class=\"col_heading level0 col4\" >s2</th>        <th class=\"col_heading level0 col5\" >b</th>    </tr></thead><tbody>\n",
              "                <tr>\n",
              "                        <th id=\"T_05972a44_df38_11ea_a2eb_0242ac1c0002level0_row0\" class=\"row_heading level0 row0\" >R0</th>\n",
              "                        <td id=\"T_05972a44_df38_11ea_a2eb_0242ac1c0002row0_col0\" class=\"data row0 col0\" >60.000000</td>\n",
              "                        <td id=\"T_05972a44_df38_11ea_a2eb_0242ac1c0002row0_col1\" class=\"data row0 col1\" >12.000000</td>\n",
              "                        <td id=\"T_05972a44_df38_11ea_a2eb_0242ac1c0002row0_col2\" class=\"data row0 col2\" >10.000000</td>\n",
              "                        <td id=\"T_05972a44_df38_11ea_a2eb_0242ac1c0002row0_col3\" class=\"data row0 col3\" >1.000000</td>\n",
              "                        <td id=\"T_05972a44_df38_11ea_a2eb_0242ac1c0002row0_col4\" class=\"data row0 col4\" >0.000000</td>\n",
              "                        <td id=\"T_05972a44_df38_11ea_a2eb_0242ac1c0002row0_col5\" class=\"data row0 col5\" >0.120000</td>\n",
              "            </tr>\n",
              "            <tr>\n",
              "                        <th id=\"T_05972a44_df38_11ea_a2eb_0242ac1c0002level0_row1\" class=\"row_heading level0 row1\" >R1</th>\n",
              "                        <td id=\"T_05972a44_df38_11ea_a2eb_0242ac1c0002row1_col0\" class=\"data row1 col0\" >60.000000</td>\n",
              "                        <td id=\"T_05972a44_df38_11ea_a2eb_0242ac1c0002row1_col1\" class=\"data row1 col1\" >6.000000</td>\n",
              "                        <td id=\"T_05972a44_df38_11ea_a2eb_0242ac1c0002row1_col2\" class=\"data row1 col2\" >30.000000</td>\n",
              "                        <td id=\"T_05972a44_df38_11ea_a2eb_0242ac1c0002row1_col3\" class=\"data row1 col3\" >0.000000</td>\n",
              "                        <td id=\"T_05972a44_df38_11ea_a2eb_0242ac1c0002row1_col4\" class=\"data row1 col4\" >1.000000</td>\n",
              "                        <td id=\"T_05972a44_df38_11ea_a2eb_0242ac1c0002row1_col5\" class=\"data row1 col5\" >0.150000</td>\n",
              "            </tr>\n",
              "            <tr>\n",
              "                        <th id=\"T_05972a44_df38_11ea_a2eb_0242ac1c0002level0_row2\" class=\"row_heading level0 row2\" >R2</th>\n",
              "                        <td id=\"T_05972a44_df38_11ea_a2eb_0242ac1c0002row2_col0\" class=\"data row2 col0\" >-300.000000</td>\n",
              "                        <td id=\"T_05972a44_df38_11ea_a2eb_0242ac1c0002row2_col1\" class=\"data row2 col1\" >-36.000000</td>\n",
              "                        <td id=\"T_05972a44_df38_11ea_a2eb_0242ac1c0002row2_col2\" class=\"data row2 col2\" >-90.000000</td>\n",
              "                        <td id=\"T_05972a44_df38_11ea_a2eb_0242ac1c0002row2_col3\" class=\"data row2 col3\" >0.000000</td>\n",
              "                        <td id=\"T_05972a44_df38_11ea_a2eb_0242ac1c0002row2_col4\" class=\"data row2 col4\" >0.000000</td>\n",
              "                        <td id=\"T_05972a44_df38_11ea_a2eb_0242ac1c0002row2_col5\" class=\"data row2 col5\" >0.000000</td>\n",
              "            </tr>\n",
              "    </tbody></table>"
            ],
            "text/plain": [
              "<pandas.io.formats.style.Styler at 0x7fbc1e93a320>"
            ]
          },
          "metadata": {
            "tags": []
          },
          "execution_count": 57
        }
      ]
    }
  ]
}