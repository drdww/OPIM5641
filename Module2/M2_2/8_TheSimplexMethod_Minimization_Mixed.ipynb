{
  "nbformat": 4,
  "nbformat_minor": 0,
  "metadata": {
    "colab": {
      "name": " 8_TheSimplexMethod_Minimization_Mixed",
      "provenance": [],
      "collapsed_sections": [],
      "toc_visible": true,
      "include_colab_link": true
    },
    "kernelspec": {
      "name": "python3",
      "display_name": "Python 3"
    }
  },
  "cells": [
    {
      "cell_type": "markdown",
      "metadata": {
        "id": "view-in-github",
        "colab_type": "text"
      },
      "source": [
        "<a href=\"https://colab.research.google.com/github/drdww/OPIM5641/blob/main/Module2/M2_2/8_TheSimplexMethod_Minimization_Mixed.ipynb\" target=\"_parent\"><img src=\"https://colab.research.google.com/assets/colab-badge.svg\" alt=\"Open In Colab\"/></a>"
      ]
    },
    {
      "cell_type": "markdown",
      "metadata": {
        "id": "ACkuN3CfqGM7"
      },
      "source": [
        "# The Simplex Method: Mixed Constraints (Minization)\n",
        "**OPIM 5604: Business Decision Modeling - University of Connecticut**\n",
        "\n",
        "Material from: \"Elementary Linear Algebra\" - 8th Edition (Ron Larson) - Chapter 9.\n",
        "\n",
        "---------------------------------------------------------------------------\n",
        "**Objectives:**\n",
        "* Find the minimum of an objective function subject to mixed constraints."
      ]
    },
    {
      "cell_type": "code",
      "metadata": {
        "id": "G-r8WChNp4aE"
      },
      "source": [
        "# import modules\n",
        "# Matrix makes a sympy Matrix, Rational is FRACTION, pprint makes it pretty print, nsimplify converts decimals to fractions (rational numbers)\n",
        "from sympy import Matrix, Rational, pprint, nsimplify \n",
        "from sympy import *\n",
        "# standard modules\n",
        "import numpy as np\n",
        "import pandas as pd"
      ],
      "execution_count": null,
      "outputs": []
    },
    {
      "cell_type": "code",
      "metadata": {
        "id": "GoRvOIC2qDHo"
      },
      "source": [
        "# awesome latex symbols! all students should be able to write constraints with LaTeX.\n",
        "# https://oeis.org/wiki/List_of_LaTeX_mathematical_symbols\n",
        "# http://www.emerson.emory.edu/services/latex/latex_119.html"
      ],
      "execution_count": null,
      "outputs": []
    },
    {
      "cell_type": "markdown",
      "metadata": {
        "id": "Lsx_k315qljn"
      },
      "source": [
        "# Intro\n",
        "The solution of minimization problems in standard form.\n",
        "Minimization problems that are not in standard form are more difficult to solve. One\n",
        "technique is to change a mixed-constraint minimization problem to a mixed-constraint\n",
        "maximization problem by multiplying each coefficient in the objective function by −1. \n",
        "\n",
        "Find the minimum value of:\n",
        "$z = 4x_1 + 2x_2 + x_3$\n",
        "\n",
        "subject to:\n",
        "* $2x_1 + 3x_2 + 4x_3 \\leq 14$\n",
        "* $3x_1 + x_2 + 5x_3 \\geq 4$\n",
        "* $x_1 + 4x_2 + 3x_3 \\geq 6$\n",
        "* $x_1, x_2, x_3 \\geq 0$ `nonnegativity`\n",
        "\n",
        "Note that nonnegativity is not a mixed constraint! \n",
        "\n",
        "First, rewrite the objective function by multiplying each of its coefficients by −1, as\n",
        "shown below.\n",
        "$z = -4x_1 - 2x_2 - x_3$\n",
        "\n",
        "Maximizing this revised objective function is equivalent to minimizing the original objective function. Next, add a slack variable to the first inequality and subtract surplus variables from the second and third inequalities to produce the initial simplex tableau\n",
        " \n",
        "It becomes:\n",
        "\n",
        "$2x_1 + 3x_2 + 4x_3 + s_1 = 14$\n",
        "\n",
        "For the other two inequalities, a new type of variable, a **surplus variable**, is introduced as shown below.\n",
        "\n",
        "$3x_1 + x_2 + 5x_3 - s_2= 4$\n",
        "\n",
        "$x_1 + 4x_2 + 3x_3 - s_3= 6$\n",
        "\n",
        "Notice that surplus variables are subtracted from (not added to) the left side of each equation. They are called surplus variables because they represent the amounts by which the left sides of the inequalities exceed the right sides. Surplus variables must be nonnegative. \n",
        "\n",
        "To solve the problem, we make our initial simplex tableau $A$ as shown below.\n",
        "\n"
      ]
    },
    {
      "cell_type": "code",
      "metadata": {
        "id": "7wvi6rOKuOji",
        "colab": {
          "base_uri": "https://localhost:8080/",
          "height": 134
        },
        "outputId": "914a47cf-b01e-4112-c38a-707b7fa93e6b"
      },
      "source": [
        "# make the initial simplex tableau\n",
        "A = Matrix([[2,3,4,1,0,0,14],\n",
        "           [3,1,5,0,-1,0,4],\n",
        "           [1,4,3,0,0,-1,6],\n",
        "           [4,2,1,0,0,0,0]])\n",
        "pprint(A)"
      ],
      "execution_count": null,
      "outputs": [
        {
          "output_type": "stream",
          "text": [
            "⎡2  3  4  1  0   0   14⎤\n",
            "⎢                      ⎥\n",
            "⎢3  1  5  0  -1  0   4 ⎥\n",
            "⎢                      ⎥\n",
            "⎢1  4  3  0  0   -1  6 ⎥\n",
            "⎢                      ⎥\n",
            "⎣4  2  1  0  0   0   0 ⎦\n"
          ],
          "name": "stdout"
        }
      ]
    },
    {
      "cell_type": "code",
      "metadata": {
        "id": "-NUHzSVCukNa",
        "colab": {
          "base_uri": "https://localhost:8080/",
          "height": 166
        },
        "outputId": "8d450561-c444-4089-cd05-cd76719caed3"
      },
      "source": [
        "# looks good, but let's make it pretty.\n",
        "tmp = pd.DataFrame(np.array(A)) # you only need this in the first example\n",
        "tmp.columns = ['x1', 'x2', 'x3', 's1', 's2', 's3', 'b']\n",
        "tmp.index=['R0', 'R1', 'R2', 'R3']\n",
        "tmp"
      ],
      "execution_count": null,
      "outputs": [
        {
          "output_type": "execute_result",
          "data": {
            "text/html": [
              "<div>\n",
              "<style scoped>\n",
              "    .dataframe tbody tr th:only-of-type {\n",
              "        vertical-align: middle;\n",
              "    }\n",
              "\n",
              "    .dataframe tbody tr th {\n",
              "        vertical-align: top;\n",
              "    }\n",
              "\n",
              "    .dataframe thead th {\n",
              "        text-align: right;\n",
              "    }\n",
              "</style>\n",
              "<table border=\"1\" class=\"dataframe\">\n",
              "  <thead>\n",
              "    <tr style=\"text-align: right;\">\n",
              "      <th></th>\n",
              "      <th>x1</th>\n",
              "      <th>x2</th>\n",
              "      <th>x3</th>\n",
              "      <th>s1</th>\n",
              "      <th>s2</th>\n",
              "      <th>s3</th>\n",
              "      <th>b</th>\n",
              "    </tr>\n",
              "  </thead>\n",
              "  <tbody>\n",
              "    <tr>\n",
              "      <th>R0</th>\n",
              "      <td>2</td>\n",
              "      <td>3</td>\n",
              "      <td>4</td>\n",
              "      <td>1</td>\n",
              "      <td>0</td>\n",
              "      <td>0</td>\n",
              "      <td>14</td>\n",
              "    </tr>\n",
              "    <tr>\n",
              "      <th>R1</th>\n",
              "      <td>3</td>\n",
              "      <td>1</td>\n",
              "      <td>5</td>\n",
              "      <td>0</td>\n",
              "      <td>-1</td>\n",
              "      <td>0</td>\n",
              "      <td>4</td>\n",
              "    </tr>\n",
              "    <tr>\n",
              "      <th>R2</th>\n",
              "      <td>1</td>\n",
              "      <td>4</td>\n",
              "      <td>3</td>\n",
              "      <td>0</td>\n",
              "      <td>0</td>\n",
              "      <td>-1</td>\n",
              "      <td>6</td>\n",
              "    </tr>\n",
              "    <tr>\n",
              "      <th>R3</th>\n",
              "      <td>4</td>\n",
              "      <td>2</td>\n",
              "      <td>1</td>\n",
              "      <td>0</td>\n",
              "      <td>0</td>\n",
              "      <td>0</td>\n",
              "      <td>0</td>\n",
              "    </tr>\n",
              "  </tbody>\n",
              "</table>\n",
              "</div>"
            ],
            "text/plain": [
              "   x1 x2 x3 s1  s2  s3   b\n",
              "R0  2  3  4  1   0   0  14\n",
              "R1  3  1  5  0  -1   0   4\n",
              "R2  1  4  3  0   0  -1   6\n",
              "R3  4  2  1  0   0   0   0"
            ]
          },
          "metadata": {
            "tags": []
          },
          "execution_count": 60
        }
      ]
    },
    {
      "cell_type": "markdown",
      "metadata": {
        "id": "1jJ1Gq7ixvox"
      },
      "source": [
        "Note that the bottom row contains the negatives of the coefficients of the revised\n",
        "objective function. Another way of looking at this is that when using this technique to\n",
        "solve minimization problems in nonstandard form, the bottom row of the initial simplex\n",
        "tableau consists of the coefficients of the original objective function.\n"
      ]
    },
    {
      "cell_type": "markdown",
      "metadata": {
        "id": "2BQpyJS3yNVU"
      },
      "source": [
        "# Pivot #1 (Trial and Error )\n",
        "As with maximization problems with mixed constraints, this initial simplex\n",
        "tableau does not represent a feasible solution. By trial and error, choose $x_2$ as the\n",
        "**entering variable** and $s_2$ as the **departing variable**."
      ]
    },
    {
      "cell_type": "code",
      "metadata": {
        "id": "XDeZl-05ycPs",
        "colab": {
          "base_uri": "https://localhost:8080/",
          "height": 118
        },
        "outputId": "b76c8021-b091-41f8-99f7-5355aa20c498"
      },
      "source": [
        "# lets add some formatting to show this\n",
        "# we already have tmp defined with names, no need to replicate\n",
        "\n",
        "# apply style to a single column\n",
        "tmp.style\\\n",
        ".apply(lambda x: ['background: lightblue' if x.name == 'x2' else '' for i in x])"
      ],
      "execution_count": null,
      "outputs": [
        {
          "output_type": "execute_result",
          "data": {
            "text/html": [
              "<style  type=\"text/css\" >\n",
              "    #T_b241a5ec_e025_11ea_9635_0242ac1c0002row0_col1 {\n",
              "            background:  lightblue;\n",
              "        }    #T_b241a5ec_e025_11ea_9635_0242ac1c0002row1_col1 {\n",
              "            background:  lightblue;\n",
              "        }    #T_b241a5ec_e025_11ea_9635_0242ac1c0002row2_col1 {\n",
              "            background:  lightblue;\n",
              "        }    #T_b241a5ec_e025_11ea_9635_0242ac1c0002row3_col1 {\n",
              "            background:  lightblue;\n",
              "        }</style><table id=\"T_b241a5ec_e025_11ea_9635_0242ac1c0002\" ><thead>    <tr>        <th class=\"blank level0\" ></th>        <th class=\"col_heading level0 col0\" >x1</th>        <th class=\"col_heading level0 col1\" >x2</th>        <th class=\"col_heading level0 col2\" >x3</th>        <th class=\"col_heading level0 col3\" >s1</th>        <th class=\"col_heading level0 col4\" >s2</th>        <th class=\"col_heading level0 col5\" >s3</th>        <th class=\"col_heading level0 col6\" >b</th>    </tr></thead><tbody>\n",
              "                <tr>\n",
              "                        <th id=\"T_b241a5ec_e025_11ea_9635_0242ac1c0002level0_row0\" class=\"row_heading level0 row0\" >R0</th>\n",
              "                        <td id=\"T_b241a5ec_e025_11ea_9635_0242ac1c0002row0_col0\" class=\"data row0 col0\" >2</td>\n",
              "                        <td id=\"T_b241a5ec_e025_11ea_9635_0242ac1c0002row0_col1\" class=\"data row0 col1\" >3</td>\n",
              "                        <td id=\"T_b241a5ec_e025_11ea_9635_0242ac1c0002row0_col2\" class=\"data row0 col2\" >4</td>\n",
              "                        <td id=\"T_b241a5ec_e025_11ea_9635_0242ac1c0002row0_col3\" class=\"data row0 col3\" >1</td>\n",
              "                        <td id=\"T_b241a5ec_e025_11ea_9635_0242ac1c0002row0_col4\" class=\"data row0 col4\" >0</td>\n",
              "                        <td id=\"T_b241a5ec_e025_11ea_9635_0242ac1c0002row0_col5\" class=\"data row0 col5\" >0</td>\n",
              "                        <td id=\"T_b241a5ec_e025_11ea_9635_0242ac1c0002row0_col6\" class=\"data row0 col6\" >14</td>\n",
              "            </tr>\n",
              "            <tr>\n",
              "                        <th id=\"T_b241a5ec_e025_11ea_9635_0242ac1c0002level0_row1\" class=\"row_heading level0 row1\" >R1</th>\n",
              "                        <td id=\"T_b241a5ec_e025_11ea_9635_0242ac1c0002row1_col0\" class=\"data row1 col0\" >3</td>\n",
              "                        <td id=\"T_b241a5ec_e025_11ea_9635_0242ac1c0002row1_col1\" class=\"data row1 col1\" >1</td>\n",
              "                        <td id=\"T_b241a5ec_e025_11ea_9635_0242ac1c0002row1_col2\" class=\"data row1 col2\" >5</td>\n",
              "                        <td id=\"T_b241a5ec_e025_11ea_9635_0242ac1c0002row1_col3\" class=\"data row1 col3\" >0</td>\n",
              "                        <td id=\"T_b241a5ec_e025_11ea_9635_0242ac1c0002row1_col4\" class=\"data row1 col4\" >-1</td>\n",
              "                        <td id=\"T_b241a5ec_e025_11ea_9635_0242ac1c0002row1_col5\" class=\"data row1 col5\" >0</td>\n",
              "                        <td id=\"T_b241a5ec_e025_11ea_9635_0242ac1c0002row1_col6\" class=\"data row1 col6\" >4</td>\n",
              "            </tr>\n",
              "            <tr>\n",
              "                        <th id=\"T_b241a5ec_e025_11ea_9635_0242ac1c0002level0_row2\" class=\"row_heading level0 row2\" >R2</th>\n",
              "                        <td id=\"T_b241a5ec_e025_11ea_9635_0242ac1c0002row2_col0\" class=\"data row2 col0\" >1</td>\n",
              "                        <td id=\"T_b241a5ec_e025_11ea_9635_0242ac1c0002row2_col1\" class=\"data row2 col1\" >4</td>\n",
              "                        <td id=\"T_b241a5ec_e025_11ea_9635_0242ac1c0002row2_col2\" class=\"data row2 col2\" >3</td>\n",
              "                        <td id=\"T_b241a5ec_e025_11ea_9635_0242ac1c0002row2_col3\" class=\"data row2 col3\" >0</td>\n",
              "                        <td id=\"T_b241a5ec_e025_11ea_9635_0242ac1c0002row2_col4\" class=\"data row2 col4\" >0</td>\n",
              "                        <td id=\"T_b241a5ec_e025_11ea_9635_0242ac1c0002row2_col5\" class=\"data row2 col5\" >-1</td>\n",
              "                        <td id=\"T_b241a5ec_e025_11ea_9635_0242ac1c0002row2_col6\" class=\"data row2 col6\" >6</td>\n",
              "            </tr>\n",
              "            <tr>\n",
              "                        <th id=\"T_b241a5ec_e025_11ea_9635_0242ac1c0002level0_row3\" class=\"row_heading level0 row3\" >R3</th>\n",
              "                        <td id=\"T_b241a5ec_e025_11ea_9635_0242ac1c0002row3_col0\" class=\"data row3 col0\" >4</td>\n",
              "                        <td id=\"T_b241a5ec_e025_11ea_9635_0242ac1c0002row3_col1\" class=\"data row3 col1\" >2</td>\n",
              "                        <td id=\"T_b241a5ec_e025_11ea_9635_0242ac1c0002row3_col2\" class=\"data row3 col2\" >1</td>\n",
              "                        <td id=\"T_b241a5ec_e025_11ea_9635_0242ac1c0002row3_col3\" class=\"data row3 col3\" >0</td>\n",
              "                        <td id=\"T_b241a5ec_e025_11ea_9635_0242ac1c0002row3_col4\" class=\"data row3 col4\" >0</td>\n",
              "                        <td id=\"T_b241a5ec_e025_11ea_9635_0242ac1c0002row3_col5\" class=\"data row3 col5\" >0</td>\n",
              "                        <td id=\"T_b241a5ec_e025_11ea_9635_0242ac1c0002row3_col6\" class=\"data row3 col6\" >0</td>\n",
              "            </tr>\n",
              "    </tbody></table>"
            ],
            "text/plain": [
              "<pandas.io.formats.style.Styler at 0x7f37bd3c53c8>"
            ]
          },
          "metadata": {
            "tags": []
          },
          "execution_count": 61
        }
      ]
    },
    {
      "cell_type": "code",
      "metadata": {
        "id": "yNgI3fN3zBXg",
        "colab": {
          "base_uri": "https://localhost:8080/",
          "height": 67
        },
        "outputId": "98b5f5e0-8a3a-404c-8d56-d03014a013f5"
      },
      "source": [
        "#Remember, now we need to compute b/a for each element and choose the smallest positive number.\n",
        "# R0\n",
        "#print('R0:', 14/3)\n",
        "# R1\n",
        "#print('R1:', 4/1) \n",
        "# R2\n",
        "#print('R2:', 6/4)\n",
        "\n",
        "# so R1 it is! color it below."
      ],
      "execution_count": null,
      "outputs": [
        {
          "output_type": "stream",
          "text": [
            "R0: 4.666666666666667\n",
            "R1: 4.0\n",
            "R2: 1.5\n"
          ],
          "name": "stdout"
        }
      ]
    },
    {
      "cell_type": "code",
      "metadata": {
        "id": "rC4I3t8ZzXWq",
        "colab": {
          "base_uri": "https://localhost:8080/",
          "height": 118
        },
        "outputId": "c23a229d-e87f-412c-854e-ca9a03599dd0"
      },
      "source": [
        "# highlight a single cell pivot element\n",
        "\n",
        "idx_r = 1\n",
        "idx_c = 1\n",
        "\n",
        "# apply style to rows and columns\n",
        "tmp.style\\\n",
        ".apply(lambda x: ['background: lightblue' if x.name == 'x2' else '' for i in x])\\\n",
        ".apply(lambda x: ['background: lightblue' if x.name == 'R1' else '' for i in x], axis=1)\\\n",
        ".apply(styling_specific_cell, row_idx = idx_r, col_idx = idx_c, axis = None)\n",
        "\n",
        "# looks awesome. "
      ],
      "execution_count": null,
      "outputs": [
        {
          "output_type": "execute_result",
          "data": {
            "text/html": [
              "<style  type=\"text/css\" >\n",
              "    #T_b53e8fee_e025_11ea_9635_0242ac1c0002row0_col1 {\n",
              "            background:  lightblue;\n",
              "            : ;\n",
              "            : ;\n",
              "        }    #T_b53e8fee_e025_11ea_9635_0242ac1c0002row1_col0 {\n",
              "            : ;\n",
              "            background:  lightblue;\n",
              "            : ;\n",
              "        }    #T_b53e8fee_e025_11ea_9635_0242ac1c0002row1_col1 {\n",
              "            background:  lightblue;\n",
              "            background:  lightblue;\n",
              "            background-color:  yellow;\n",
              "             color:  red;\n",
              "        }    #T_b53e8fee_e025_11ea_9635_0242ac1c0002row1_col2 {\n",
              "            : ;\n",
              "            background:  lightblue;\n",
              "            : ;\n",
              "        }    #T_b53e8fee_e025_11ea_9635_0242ac1c0002row1_col3 {\n",
              "            : ;\n",
              "            background:  lightblue;\n",
              "            : ;\n",
              "        }    #T_b53e8fee_e025_11ea_9635_0242ac1c0002row1_col4 {\n",
              "            : ;\n",
              "            background:  lightblue;\n",
              "            : ;\n",
              "        }    #T_b53e8fee_e025_11ea_9635_0242ac1c0002row1_col5 {\n",
              "            : ;\n",
              "            background:  lightblue;\n",
              "            : ;\n",
              "        }    #T_b53e8fee_e025_11ea_9635_0242ac1c0002row1_col6 {\n",
              "            : ;\n",
              "            background:  lightblue;\n",
              "            : ;\n",
              "        }    #T_b53e8fee_e025_11ea_9635_0242ac1c0002row2_col1 {\n",
              "            background:  lightblue;\n",
              "            : ;\n",
              "            : ;\n",
              "        }    #T_b53e8fee_e025_11ea_9635_0242ac1c0002row3_col1 {\n",
              "            background:  lightblue;\n",
              "            : ;\n",
              "            : ;\n",
              "        }</style><table id=\"T_b53e8fee_e025_11ea_9635_0242ac1c0002\" ><thead>    <tr>        <th class=\"blank level0\" ></th>        <th class=\"col_heading level0 col0\" >x1</th>        <th class=\"col_heading level0 col1\" >x2</th>        <th class=\"col_heading level0 col2\" >x3</th>        <th class=\"col_heading level0 col3\" >s1</th>        <th class=\"col_heading level0 col4\" >s2</th>        <th class=\"col_heading level0 col5\" >s3</th>        <th class=\"col_heading level0 col6\" >b</th>    </tr></thead><tbody>\n",
              "                <tr>\n",
              "                        <th id=\"T_b53e8fee_e025_11ea_9635_0242ac1c0002level0_row0\" class=\"row_heading level0 row0\" >R0</th>\n",
              "                        <td id=\"T_b53e8fee_e025_11ea_9635_0242ac1c0002row0_col0\" class=\"data row0 col0\" >2</td>\n",
              "                        <td id=\"T_b53e8fee_e025_11ea_9635_0242ac1c0002row0_col1\" class=\"data row0 col1\" >3</td>\n",
              "                        <td id=\"T_b53e8fee_e025_11ea_9635_0242ac1c0002row0_col2\" class=\"data row0 col2\" >4</td>\n",
              "                        <td id=\"T_b53e8fee_e025_11ea_9635_0242ac1c0002row0_col3\" class=\"data row0 col3\" >1</td>\n",
              "                        <td id=\"T_b53e8fee_e025_11ea_9635_0242ac1c0002row0_col4\" class=\"data row0 col4\" >0</td>\n",
              "                        <td id=\"T_b53e8fee_e025_11ea_9635_0242ac1c0002row0_col5\" class=\"data row0 col5\" >0</td>\n",
              "                        <td id=\"T_b53e8fee_e025_11ea_9635_0242ac1c0002row0_col6\" class=\"data row0 col6\" >14</td>\n",
              "            </tr>\n",
              "            <tr>\n",
              "                        <th id=\"T_b53e8fee_e025_11ea_9635_0242ac1c0002level0_row1\" class=\"row_heading level0 row1\" >R1</th>\n",
              "                        <td id=\"T_b53e8fee_e025_11ea_9635_0242ac1c0002row1_col0\" class=\"data row1 col0\" >3</td>\n",
              "                        <td id=\"T_b53e8fee_e025_11ea_9635_0242ac1c0002row1_col1\" class=\"data row1 col1\" >1</td>\n",
              "                        <td id=\"T_b53e8fee_e025_11ea_9635_0242ac1c0002row1_col2\" class=\"data row1 col2\" >5</td>\n",
              "                        <td id=\"T_b53e8fee_e025_11ea_9635_0242ac1c0002row1_col3\" class=\"data row1 col3\" >0</td>\n",
              "                        <td id=\"T_b53e8fee_e025_11ea_9635_0242ac1c0002row1_col4\" class=\"data row1 col4\" >-1</td>\n",
              "                        <td id=\"T_b53e8fee_e025_11ea_9635_0242ac1c0002row1_col5\" class=\"data row1 col5\" >0</td>\n",
              "                        <td id=\"T_b53e8fee_e025_11ea_9635_0242ac1c0002row1_col6\" class=\"data row1 col6\" >4</td>\n",
              "            </tr>\n",
              "            <tr>\n",
              "                        <th id=\"T_b53e8fee_e025_11ea_9635_0242ac1c0002level0_row2\" class=\"row_heading level0 row2\" >R2</th>\n",
              "                        <td id=\"T_b53e8fee_e025_11ea_9635_0242ac1c0002row2_col0\" class=\"data row2 col0\" >1</td>\n",
              "                        <td id=\"T_b53e8fee_e025_11ea_9635_0242ac1c0002row2_col1\" class=\"data row2 col1\" >4</td>\n",
              "                        <td id=\"T_b53e8fee_e025_11ea_9635_0242ac1c0002row2_col2\" class=\"data row2 col2\" >3</td>\n",
              "                        <td id=\"T_b53e8fee_e025_11ea_9635_0242ac1c0002row2_col3\" class=\"data row2 col3\" >0</td>\n",
              "                        <td id=\"T_b53e8fee_e025_11ea_9635_0242ac1c0002row2_col4\" class=\"data row2 col4\" >0</td>\n",
              "                        <td id=\"T_b53e8fee_e025_11ea_9635_0242ac1c0002row2_col5\" class=\"data row2 col5\" >-1</td>\n",
              "                        <td id=\"T_b53e8fee_e025_11ea_9635_0242ac1c0002row2_col6\" class=\"data row2 col6\" >6</td>\n",
              "            </tr>\n",
              "            <tr>\n",
              "                        <th id=\"T_b53e8fee_e025_11ea_9635_0242ac1c0002level0_row3\" class=\"row_heading level0 row3\" >R3</th>\n",
              "                        <td id=\"T_b53e8fee_e025_11ea_9635_0242ac1c0002row3_col0\" class=\"data row3 col0\" >4</td>\n",
              "                        <td id=\"T_b53e8fee_e025_11ea_9635_0242ac1c0002row3_col1\" class=\"data row3 col1\" >2</td>\n",
              "                        <td id=\"T_b53e8fee_e025_11ea_9635_0242ac1c0002row3_col2\" class=\"data row3 col2\" >1</td>\n",
              "                        <td id=\"T_b53e8fee_e025_11ea_9635_0242ac1c0002row3_col3\" class=\"data row3 col3\" >0</td>\n",
              "                        <td id=\"T_b53e8fee_e025_11ea_9635_0242ac1c0002row3_col4\" class=\"data row3 col4\" >0</td>\n",
              "                        <td id=\"T_b53e8fee_e025_11ea_9635_0242ac1c0002row3_col5\" class=\"data row3 col5\" >0</td>\n",
              "                        <td id=\"T_b53e8fee_e025_11ea_9635_0242ac1c0002row3_col6\" class=\"data row3 col6\" >0</td>\n",
              "            </tr>\n",
              "    </tbody></table>"
            ],
            "text/plain": [
              "<pandas.io.formats.style.Styler at 0x7f37bd3e3588>"
            ]
          },
          "metadata": {
            "tags": []
          },
          "execution_count": 63
        }
      ]
    },
    {
      "cell_type": "markdown",
      "metadata": {
        "id": "3eUPtdgCzdmE"
      },
      "source": [
        "Remember, now we need to apply Gauss-Jordan elimiation and turn the pivot element into a $1$ (already done) and make the values above and below into a $0$."
      ]
    },
    {
      "cell_type": "code",
      "metadata": {
        "id": "IOxEsbQmzr3J",
        "colab": {
          "base_uri": "https://localhost:8080/",
          "height": 134
        },
        "outputId": "486956b4-d088-4a77-e334-575f0175cff3"
      },
      "source": [
        "# add a -3*R1 to R0\n",
        "A[0,:] = A[0,:] - 3*A[1,:]\n",
        "\n",
        "# add a -4*R1 to R2\n",
        "A[2,:] = A[2,:] - 4*A[1,:]\n",
        "\n",
        "# add a -2*R1 to R3\n",
        "A[3,:] = A[3,:] - 2*A[1,:]\n",
        "pprint(A)"
      ],
      "execution_count": null,
      "outputs": [
        {
          "output_type": "stream",
          "text": [
            "⎡-7   0  -11  1  3   0    2 ⎤\n",
            "⎢                           ⎥\n",
            "⎢ 3   1   5   0  -1  0    4 ⎥\n",
            "⎢                           ⎥\n",
            "⎢-11  0  -17  0  4   -1  -10⎥\n",
            "⎢                           ⎥\n",
            "⎣-2   0  -9   0  2   0   -8 ⎦\n"
          ],
          "name": "stdout"
        }
      ]
    },
    {
      "cell_type": "markdown",
      "metadata": {
        "id": "KFu7vVpMzUsZ"
      },
      "source": [
        "To transform the tableau into one that represents a feasible solution, multiply the third\n",
        "row by −1."
      ]
    },
    {
      "cell_type": "code",
      "metadata": {
        "id": "m873JsEpzjx0",
        "colab": {
          "base_uri": "https://localhost:8080/",
          "height": 134
        },
        "outputId": "f2fa6a19-da6b-4a7d-8518-93f2edc60536"
      },
      "source": [
        "# Multiply -1* R2\n",
        "A[2,:] = -1*A[2,:]\n",
        "pprint(A)"
      ],
      "execution_count": null,
      "outputs": [
        {
          "output_type": "stream",
          "text": [
            "⎡-7  0  -11  1  3   0  2 ⎤\n",
            "⎢                        ⎥\n",
            "⎢3   1   5   0  -1  0  4 ⎥\n",
            "⎢                        ⎥\n",
            "⎢11  0  17   0  -4  1  10⎥\n",
            "⎢                        ⎥\n",
            "⎣-2  0  -9   0  2   0  -8⎦\n"
          ],
          "name": "stdout"
        }
      ]
    },
    {
      "cell_type": "code",
      "metadata": {
        "id": "vRzbZi7C0guj",
        "colab": {
          "base_uri": "https://localhost:8080/",
          "height": 166
        },
        "outputId": "2d52276c-b125-45aa-904b-343e6aa06ebc"
      },
      "source": [
        "# make it pretty\n",
        "tmp = pd.DataFrame(np.array(A)) # you only need this in the first example\n",
        "tmp.columns = ['x1', 'x2', 'x3', 's1', 's2', 's3', 'b']\n",
        "tmp.index=['R0', 'R1', 'R2', 'R3']\n",
        "tmp"
      ],
      "execution_count": null,
      "outputs": [
        {
          "output_type": "execute_result",
          "data": {
            "text/html": [
              "<div>\n",
              "<style scoped>\n",
              "    .dataframe tbody tr th:only-of-type {\n",
              "        vertical-align: middle;\n",
              "    }\n",
              "\n",
              "    .dataframe tbody tr th {\n",
              "        vertical-align: top;\n",
              "    }\n",
              "\n",
              "    .dataframe thead th {\n",
              "        text-align: right;\n",
              "    }\n",
              "</style>\n",
              "<table border=\"1\" class=\"dataframe\">\n",
              "  <thead>\n",
              "    <tr style=\"text-align: right;\">\n",
              "      <th></th>\n",
              "      <th>x1</th>\n",
              "      <th>x2</th>\n",
              "      <th>x3</th>\n",
              "      <th>s1</th>\n",
              "      <th>s2</th>\n",
              "      <th>s3</th>\n",
              "      <th>b</th>\n",
              "    </tr>\n",
              "  </thead>\n",
              "  <tbody>\n",
              "    <tr>\n",
              "      <th>R0</th>\n",
              "      <td>-7</td>\n",
              "      <td>0</td>\n",
              "      <td>-11</td>\n",
              "      <td>1</td>\n",
              "      <td>3</td>\n",
              "      <td>0</td>\n",
              "      <td>2</td>\n",
              "    </tr>\n",
              "    <tr>\n",
              "      <th>R1</th>\n",
              "      <td>3</td>\n",
              "      <td>1</td>\n",
              "      <td>5</td>\n",
              "      <td>0</td>\n",
              "      <td>-1</td>\n",
              "      <td>0</td>\n",
              "      <td>4</td>\n",
              "    </tr>\n",
              "    <tr>\n",
              "      <th>R2</th>\n",
              "      <td>11</td>\n",
              "      <td>0</td>\n",
              "      <td>17</td>\n",
              "      <td>0</td>\n",
              "      <td>-4</td>\n",
              "      <td>1</td>\n",
              "      <td>10</td>\n",
              "    </tr>\n",
              "    <tr>\n",
              "      <th>R3</th>\n",
              "      <td>-2</td>\n",
              "      <td>0</td>\n",
              "      <td>-9</td>\n",
              "      <td>0</td>\n",
              "      <td>2</td>\n",
              "      <td>0</td>\n",
              "      <td>-8</td>\n",
              "    </tr>\n",
              "  </tbody>\n",
              "</table>\n",
              "</div>"
            ],
            "text/plain": [
              "    x1 x2   x3 s1  s2 s3   b\n",
              "R0  -7  0  -11  1   3  0   2\n",
              "R1   3  1    5  0  -1  0   4\n",
              "R2  11  0   17  0  -4  1  10\n",
              "R3  -2  0   -9  0   2  0  -8"
            ]
          },
          "metadata": {
            "tags": []
          },
          "execution_count": 66
        }
      ]
    },
    {
      "cell_type": "markdown",
      "metadata": {
        "id": "pr4rp3jn0IqZ"
      },
      "source": [
        "Looks good! We check for negative values and we see we have a negative value for $x_1$ and $x_3$ . \n",
        "\n",
        "Now that you have obtained a simplex tableau that represents a feasible solution,\n",
        "continue with pivoting operations until you obtain an optimal solution."
      ]
    },
    {
      "cell_type": "markdown",
      "metadata": {
        "id": "msf-K-SI0eAM"
      },
      "source": [
        "# Pivot #2\n",
        "$x_3$ will be our **entering variable** and we compute ratios to determine the **departing variable**."
      ]
    },
    {
      "cell_type": "code",
      "metadata": {
        "id": "8LzxsHwh0zsG",
        "colab": {
          "base_uri": "https://localhost:8080/",
          "height": 50
        },
        "outputId": "3825d7e7-ece2-4e92-ddc1-35885ddfba78"
      },
      "source": [
        "#print('R0:', 2/-11) negative number\n",
        "print('R1:', 4/5)\n",
        "print('R2:', 10/17) \n",
        "\n",
        "# so R2 is our departing variable , so S3 is our departing variable "
      ],
      "execution_count": null,
      "outputs": [
        {
          "output_type": "stream",
          "text": [
            "R1: 0.8\n",
            "R2: 0.5882352941176471\n"
          ],
          "name": "stdout"
        }
      ]
    },
    {
      "cell_type": "code",
      "metadata": {
        "id": "ZfkdSQni1DnX",
        "colab": {
          "base_uri": "https://localhost:8080/",
          "height": 118
        },
        "outputId": "7bd7fe98-7d1b-46e4-9b0a-28424431115c"
      },
      "source": [
        "# make it pretty\n",
        "# since tmp is already defined we will just add color\n",
        "\n",
        "# highlight a single cell pivot element\n",
        "idx_r = 2\n",
        "idx_c = 2\n",
        "\n",
        "# apply style to rows and columns\n",
        "tmp.style\\\n",
        ".apply(lambda x: ['background: lightblue' if x.name == 'x3' else '' for i in x])\\\n",
        ".apply(lambda x: ['background: lightblue' if x.name == 'R2' else '' for i in x], axis=1)\\\n",
        ".apply(styling_specific_cell, row_idx = idx_r, col_idx = idx_c, axis = None)\n",
        "\n",
        "# looks great!"
      ],
      "execution_count": null,
      "outputs": [
        {
          "output_type": "execute_result",
          "data": {
            "text/html": [
              "<style  type=\"text/css\" >\n",
              "    #T_bd7a58d2_e025_11ea_9635_0242ac1c0002row0_col2 {\n",
              "            background:  lightblue;\n",
              "            : ;\n",
              "            : ;\n",
              "        }    #T_bd7a58d2_e025_11ea_9635_0242ac1c0002row1_col2 {\n",
              "            background:  lightblue;\n",
              "            : ;\n",
              "            : ;\n",
              "        }    #T_bd7a58d2_e025_11ea_9635_0242ac1c0002row2_col0 {\n",
              "            : ;\n",
              "            background:  lightblue;\n",
              "            : ;\n",
              "        }    #T_bd7a58d2_e025_11ea_9635_0242ac1c0002row2_col1 {\n",
              "            : ;\n",
              "            background:  lightblue;\n",
              "            : ;\n",
              "        }    #T_bd7a58d2_e025_11ea_9635_0242ac1c0002row2_col2 {\n",
              "            background:  lightblue;\n",
              "            background:  lightblue;\n",
              "            background-color:  yellow;\n",
              "             color:  red;\n",
              "        }    #T_bd7a58d2_e025_11ea_9635_0242ac1c0002row2_col3 {\n",
              "            : ;\n",
              "            background:  lightblue;\n",
              "            : ;\n",
              "        }    #T_bd7a58d2_e025_11ea_9635_0242ac1c0002row2_col4 {\n",
              "            : ;\n",
              "            background:  lightblue;\n",
              "            : ;\n",
              "        }    #T_bd7a58d2_e025_11ea_9635_0242ac1c0002row2_col5 {\n",
              "            : ;\n",
              "            background:  lightblue;\n",
              "            : ;\n",
              "        }    #T_bd7a58d2_e025_11ea_9635_0242ac1c0002row2_col6 {\n",
              "            : ;\n",
              "            background:  lightblue;\n",
              "            : ;\n",
              "        }    #T_bd7a58d2_e025_11ea_9635_0242ac1c0002row3_col2 {\n",
              "            background:  lightblue;\n",
              "            : ;\n",
              "            : ;\n",
              "        }</style><table id=\"T_bd7a58d2_e025_11ea_9635_0242ac1c0002\" ><thead>    <tr>        <th class=\"blank level0\" ></th>        <th class=\"col_heading level0 col0\" >x1</th>        <th class=\"col_heading level0 col1\" >x2</th>        <th class=\"col_heading level0 col2\" >x3</th>        <th class=\"col_heading level0 col3\" >s1</th>        <th class=\"col_heading level0 col4\" >s2</th>        <th class=\"col_heading level0 col5\" >s3</th>        <th class=\"col_heading level0 col6\" >b</th>    </tr></thead><tbody>\n",
              "                <tr>\n",
              "                        <th id=\"T_bd7a58d2_e025_11ea_9635_0242ac1c0002level0_row0\" class=\"row_heading level0 row0\" >R0</th>\n",
              "                        <td id=\"T_bd7a58d2_e025_11ea_9635_0242ac1c0002row0_col0\" class=\"data row0 col0\" >-7</td>\n",
              "                        <td id=\"T_bd7a58d2_e025_11ea_9635_0242ac1c0002row0_col1\" class=\"data row0 col1\" >0</td>\n",
              "                        <td id=\"T_bd7a58d2_e025_11ea_9635_0242ac1c0002row0_col2\" class=\"data row0 col2\" >-11</td>\n",
              "                        <td id=\"T_bd7a58d2_e025_11ea_9635_0242ac1c0002row0_col3\" class=\"data row0 col3\" >1</td>\n",
              "                        <td id=\"T_bd7a58d2_e025_11ea_9635_0242ac1c0002row0_col4\" class=\"data row0 col4\" >3</td>\n",
              "                        <td id=\"T_bd7a58d2_e025_11ea_9635_0242ac1c0002row0_col5\" class=\"data row0 col5\" >0</td>\n",
              "                        <td id=\"T_bd7a58d2_e025_11ea_9635_0242ac1c0002row0_col6\" class=\"data row0 col6\" >2</td>\n",
              "            </tr>\n",
              "            <tr>\n",
              "                        <th id=\"T_bd7a58d2_e025_11ea_9635_0242ac1c0002level0_row1\" class=\"row_heading level0 row1\" >R1</th>\n",
              "                        <td id=\"T_bd7a58d2_e025_11ea_9635_0242ac1c0002row1_col0\" class=\"data row1 col0\" >3</td>\n",
              "                        <td id=\"T_bd7a58d2_e025_11ea_9635_0242ac1c0002row1_col1\" class=\"data row1 col1\" >1</td>\n",
              "                        <td id=\"T_bd7a58d2_e025_11ea_9635_0242ac1c0002row1_col2\" class=\"data row1 col2\" >5</td>\n",
              "                        <td id=\"T_bd7a58d2_e025_11ea_9635_0242ac1c0002row1_col3\" class=\"data row1 col3\" >0</td>\n",
              "                        <td id=\"T_bd7a58d2_e025_11ea_9635_0242ac1c0002row1_col4\" class=\"data row1 col4\" >-1</td>\n",
              "                        <td id=\"T_bd7a58d2_e025_11ea_9635_0242ac1c0002row1_col5\" class=\"data row1 col5\" >0</td>\n",
              "                        <td id=\"T_bd7a58d2_e025_11ea_9635_0242ac1c0002row1_col6\" class=\"data row1 col6\" >4</td>\n",
              "            </tr>\n",
              "            <tr>\n",
              "                        <th id=\"T_bd7a58d2_e025_11ea_9635_0242ac1c0002level0_row2\" class=\"row_heading level0 row2\" >R2</th>\n",
              "                        <td id=\"T_bd7a58d2_e025_11ea_9635_0242ac1c0002row2_col0\" class=\"data row2 col0\" >11</td>\n",
              "                        <td id=\"T_bd7a58d2_e025_11ea_9635_0242ac1c0002row2_col1\" class=\"data row2 col1\" >0</td>\n",
              "                        <td id=\"T_bd7a58d2_e025_11ea_9635_0242ac1c0002row2_col2\" class=\"data row2 col2\" >17</td>\n",
              "                        <td id=\"T_bd7a58d2_e025_11ea_9635_0242ac1c0002row2_col3\" class=\"data row2 col3\" >0</td>\n",
              "                        <td id=\"T_bd7a58d2_e025_11ea_9635_0242ac1c0002row2_col4\" class=\"data row2 col4\" >-4</td>\n",
              "                        <td id=\"T_bd7a58d2_e025_11ea_9635_0242ac1c0002row2_col5\" class=\"data row2 col5\" >1</td>\n",
              "                        <td id=\"T_bd7a58d2_e025_11ea_9635_0242ac1c0002row2_col6\" class=\"data row2 col6\" >10</td>\n",
              "            </tr>\n",
              "            <tr>\n",
              "                        <th id=\"T_bd7a58d2_e025_11ea_9635_0242ac1c0002level0_row3\" class=\"row_heading level0 row3\" >R3</th>\n",
              "                        <td id=\"T_bd7a58d2_e025_11ea_9635_0242ac1c0002row3_col0\" class=\"data row3 col0\" >-2</td>\n",
              "                        <td id=\"T_bd7a58d2_e025_11ea_9635_0242ac1c0002row3_col1\" class=\"data row3 col1\" >0</td>\n",
              "                        <td id=\"T_bd7a58d2_e025_11ea_9635_0242ac1c0002row3_col2\" class=\"data row3 col2\" >-9</td>\n",
              "                        <td id=\"T_bd7a58d2_e025_11ea_9635_0242ac1c0002row3_col3\" class=\"data row3 col3\" >0</td>\n",
              "                        <td id=\"T_bd7a58d2_e025_11ea_9635_0242ac1c0002row3_col4\" class=\"data row3 col4\" >2</td>\n",
              "                        <td id=\"T_bd7a58d2_e025_11ea_9635_0242ac1c0002row3_col5\" class=\"data row3 col5\" >0</td>\n",
              "                        <td id=\"T_bd7a58d2_e025_11ea_9635_0242ac1c0002row3_col6\" class=\"data row3 col6\" >-8</td>\n",
              "            </tr>\n",
              "    </tbody></table>"
            ],
            "text/plain": [
              "<pandas.io.formats.style.Styler at 0x7f37bd382f60>"
            ]
          },
          "metadata": {
            "tags": []
          },
          "execution_count": 68
        }
      ]
    },
    {
      "cell_type": "markdown",
      "metadata": {
        "id": "FWo6MMSG1U-n"
      },
      "source": [
        "Now we apply Gauss-Jordan elimination. Turn the '17' in R2 into a 1, and rest into 0. "
      ]
    },
    {
      "cell_type": "code",
      "metadata": {
        "id": "wn212E904abz",
        "colab": {
          "base_uri": "https://localhost:8080/",
          "height": 168
        },
        "outputId": "02483bc4-b005-4767-eb82-1e971830c511"
      },
      "source": [
        "  #R2, Change it to 1\n",
        "  A[2,:] = A[2,:]/17\n",
        "  pprint(A)"
      ],
      "execution_count": null,
      "outputs": [
        {
          "output_type": "stream",
          "text": [
            "⎡-7  0  -11  1    3     0    2 ⎤\n",
            "⎢                              ⎥\n",
            "⎢3   1   5   0   -1     0    4 ⎥\n",
            "⎢                              ⎥\n",
            "⎢11                          10⎥\n",
            "⎢──  0   1   0  -4/17  1/17  ──⎥\n",
            "⎢17                          17⎥\n",
            "⎢                              ⎥\n",
            "⎣-2  0  -9   0    2     0    -8⎦\n"
          ],
          "name": "stdout"
        }
      ]
    },
    {
      "cell_type": "code",
      "metadata": {
        "id": "qI6vBHvt1bFr",
        "colab": {
          "base_uri": "https://localhost:8080/",
          "height": 269
        },
        "outputId": "e690a794-823f-4745-b1dc-5fbb67ea5e01"
      },
      "source": [
        "# R0 \n",
        "# we add 11*R2 to  R0\n",
        "A[0,:] = A[0,:] + 11*A[2,:]\n",
        "\n",
        "# R1 , we subtract 5*R2 to  R0\n",
        "A[1,:] = A[1,:] - 5*A[2,:]\n",
        "\n",
        "#R3,  9*R2 to  R0\n",
        "A[3,:] = A[3,:] + 9*A[2,:]\n",
        "pprint(A)"
      ],
      "execution_count": null,
      "outputs": [
        {
          "output_type": "stream",
          "text": [
            "⎡                        11    144 ⎤\n",
            "⎢2/17   0  0  1  7/17    ──    ─── ⎥\n",
            "⎢                        17     17 ⎥\n",
            "⎢                                  ⎥\n",
            "⎢                               18 ⎥\n",
            "⎢-4/17  1  0  0  3/17   -5/17   ── ⎥\n",
            "⎢                               17 ⎥\n",
            "⎢                                  ⎥\n",
            "⎢ 11                            10 ⎥\n",
            "⎢ ──    0  1  0  -4/17  1/17    ── ⎥\n",
            "⎢ 17                            17 ⎥\n",
            "⎢                                  ⎥\n",
            "⎢ 65                           -46 ⎥\n",
            "⎢ ──    0  0  0  -2/17  9/17   ────⎥\n",
            "⎣ 17                            17 ⎦\n"
          ],
          "name": "stdout"
        }
      ]
    },
    {
      "cell_type": "code",
      "metadata": {
        "id": "r8Fgozkj1zGD",
        "colab": {
          "base_uri": "https://localhost:8080/",
          "height": 166
        },
        "outputId": "b1c2b58f-85ed-4bd4-840c-15a91679132f"
      },
      "source": [
        "# and make it pretty\n",
        "tmp = pd.DataFrame(np.array(A)) # you only need this in the first example\n",
        "tmp.columns = ['x1', 'x2', 'x3', 's1', 's2', 's3', 'b']\n",
        "tmp.index=['R0', 'R1', 'R2', 'R3']\n",
        "tmp"
      ],
      "execution_count": null,
      "outputs": [
        {
          "output_type": "execute_result",
          "data": {
            "text/html": [
              "<div>\n",
              "<style scoped>\n",
              "    .dataframe tbody tr th:only-of-type {\n",
              "        vertical-align: middle;\n",
              "    }\n",
              "\n",
              "    .dataframe tbody tr th {\n",
              "        vertical-align: top;\n",
              "    }\n",
              "\n",
              "    .dataframe thead th {\n",
              "        text-align: right;\n",
              "    }\n",
              "</style>\n",
              "<table border=\"1\" class=\"dataframe\">\n",
              "  <thead>\n",
              "    <tr style=\"text-align: right;\">\n",
              "      <th></th>\n",
              "      <th>x1</th>\n",
              "      <th>x2</th>\n",
              "      <th>x3</th>\n",
              "      <th>s1</th>\n",
              "      <th>s2</th>\n",
              "      <th>s3</th>\n",
              "      <th>b</th>\n",
              "    </tr>\n",
              "  </thead>\n",
              "  <tbody>\n",
              "    <tr>\n",
              "      <th>R0</th>\n",
              "      <td>2/17</td>\n",
              "      <td>0</td>\n",
              "      <td>0</td>\n",
              "      <td>1</td>\n",
              "      <td>7/17</td>\n",
              "      <td>11/17</td>\n",
              "      <td>144/17</td>\n",
              "    </tr>\n",
              "    <tr>\n",
              "      <th>R1</th>\n",
              "      <td>-4/17</td>\n",
              "      <td>1</td>\n",
              "      <td>0</td>\n",
              "      <td>0</td>\n",
              "      <td>3/17</td>\n",
              "      <td>-5/17</td>\n",
              "      <td>18/17</td>\n",
              "    </tr>\n",
              "    <tr>\n",
              "      <th>R2</th>\n",
              "      <td>11/17</td>\n",
              "      <td>0</td>\n",
              "      <td>1</td>\n",
              "      <td>0</td>\n",
              "      <td>-4/17</td>\n",
              "      <td>1/17</td>\n",
              "      <td>10/17</td>\n",
              "    </tr>\n",
              "    <tr>\n",
              "      <th>R3</th>\n",
              "      <td>65/17</td>\n",
              "      <td>0</td>\n",
              "      <td>0</td>\n",
              "      <td>0</td>\n",
              "      <td>-2/17</td>\n",
              "      <td>9/17</td>\n",
              "      <td>-46/17</td>\n",
              "    </tr>\n",
              "  </tbody>\n",
              "</table>\n",
              "</div>"
            ],
            "text/plain": [
              "       x1 x2 x3 s1     s2     s3       b\n",
              "R0   2/17  0  0  1   7/17  11/17  144/17\n",
              "R1  -4/17  1  0  0   3/17  -5/17   18/17\n",
              "R2  11/17  0  1  0  -4/17   1/17   10/17\n",
              "R3  65/17  0  0  0  -2/17   9/17  -46/17"
            ]
          },
          "metadata": {
            "tags": []
          },
          "execution_count": 71
        }
      ]
    },
    {
      "cell_type": "markdown",
      "metadata": {
        "id": "rUZBS-KA2Cj1"
      },
      "source": [
        "We still have negative values for the slack variables, so we keep going..."
      ]
    },
    {
      "cell_type": "markdown",
      "metadata": {
        "id": "u8uVLKIp2i96"
      },
      "source": [
        "# Pivot #3\n",
        "Since -2/17 is the largest number in the bottom row, we try that one for the **entering variable**. Now we need to determine which will be the **departing variable**."
      ]
    },
    {
      "cell_type": "code",
      "metadata": {
        "id": "IOybJQca25R5",
        "colab": {
          "base_uri": "https://localhost:8080/",
          "height": 50
        },
        "outputId": "0e49f064-12dc-4487-9abf-cdc6ef802199"
      },
      "source": [
        "print('R0:', ((144/17)/(7/17)))\n",
        "print('R1:', ((18/17)/(3/17))) \n",
        "#print('R2:', ((10/17)/(-4/17))) # negative number, no dice!\n",
        "\n",
        "# looks like we will use R1..."
      ],
      "execution_count": null,
      "outputs": [
        {
          "output_type": "stream",
          "text": [
            "R0: 20.571428571428573\n",
            "R1: 6.0\n"
          ],
          "name": "stdout"
        }
      ]
    },
    {
      "cell_type": "code",
      "metadata": {
        "id": "yzcoEhUk3JTL",
        "colab": {
          "base_uri": "https://localhost:8080/",
          "height": 118
        },
        "outputId": "1c841eaa-b55f-4923-e675-3834b8940c01"
      },
      "source": [
        "# make it pretty in a table so you know what to do\n",
        "tmp = pd.DataFrame(np.array(A)) # you only need this in the first example\n",
        "tmp.columns = ['x1', 'x2', 'x3', 's1', 's2', 's3', 'b']\n",
        "tmp.index=['R0', 'R1', 'R2', 'R3']\n",
        "tmp\n",
        "\n",
        "# highlight a single cell pivot element\n",
        "idx_r = 1\n",
        "idx_c = 4\n",
        "\n",
        "# apply style to rows and columns\n",
        "tmp.style\\\n",
        ".apply(lambda x: ['background: lightblue' if x.name == 's2' else '' for i in x])\\\n",
        ".apply(lambda x: ['background: lightblue' if x.name == 'R1' else '' for i in x], axis=1)\\\n",
        ".apply(styling_specific_cell, row_idx = idx_r, col_idx = idx_c, axis = None)\n"
      ],
      "execution_count": null,
      "outputs": [
        {
          "output_type": "execute_result",
          "data": {
            "text/html": [
              "<style  type=\"text/css\" >\n",
              "    #T_d872e834_e025_11ea_9635_0242ac1c0002row0_col4 {\n",
              "            background:  lightblue;\n",
              "            : ;\n",
              "            : ;\n",
              "        }    #T_d872e834_e025_11ea_9635_0242ac1c0002row1_col0 {\n",
              "            : ;\n",
              "            background:  lightblue;\n",
              "            : ;\n",
              "        }    #T_d872e834_e025_11ea_9635_0242ac1c0002row1_col1 {\n",
              "            : ;\n",
              "            background:  lightblue;\n",
              "            : ;\n",
              "        }    #T_d872e834_e025_11ea_9635_0242ac1c0002row1_col2 {\n",
              "            : ;\n",
              "            background:  lightblue;\n",
              "            : ;\n",
              "        }    #T_d872e834_e025_11ea_9635_0242ac1c0002row1_col3 {\n",
              "            : ;\n",
              "            background:  lightblue;\n",
              "            : ;\n",
              "        }    #T_d872e834_e025_11ea_9635_0242ac1c0002row1_col4 {\n",
              "            background:  lightblue;\n",
              "            background:  lightblue;\n",
              "            background-color:  yellow;\n",
              "             color:  red;\n",
              "        }    #T_d872e834_e025_11ea_9635_0242ac1c0002row1_col5 {\n",
              "            : ;\n",
              "            background:  lightblue;\n",
              "            : ;\n",
              "        }    #T_d872e834_e025_11ea_9635_0242ac1c0002row1_col6 {\n",
              "            : ;\n",
              "            background:  lightblue;\n",
              "            : ;\n",
              "        }    #T_d872e834_e025_11ea_9635_0242ac1c0002row2_col4 {\n",
              "            background:  lightblue;\n",
              "            : ;\n",
              "            : ;\n",
              "        }    #T_d872e834_e025_11ea_9635_0242ac1c0002row3_col4 {\n",
              "            background:  lightblue;\n",
              "            : ;\n",
              "            : ;\n",
              "        }</style><table id=\"T_d872e834_e025_11ea_9635_0242ac1c0002\" ><thead>    <tr>        <th class=\"blank level0\" ></th>        <th class=\"col_heading level0 col0\" >x1</th>        <th class=\"col_heading level0 col1\" >x2</th>        <th class=\"col_heading level0 col2\" >x3</th>        <th class=\"col_heading level0 col3\" >s1</th>        <th class=\"col_heading level0 col4\" >s2</th>        <th class=\"col_heading level0 col5\" >s3</th>        <th class=\"col_heading level0 col6\" >b</th>    </tr></thead><tbody>\n",
              "                <tr>\n",
              "                        <th id=\"T_d872e834_e025_11ea_9635_0242ac1c0002level0_row0\" class=\"row_heading level0 row0\" >R0</th>\n",
              "                        <td id=\"T_d872e834_e025_11ea_9635_0242ac1c0002row0_col0\" class=\"data row0 col0\" >2/17</td>\n",
              "                        <td id=\"T_d872e834_e025_11ea_9635_0242ac1c0002row0_col1\" class=\"data row0 col1\" >0</td>\n",
              "                        <td id=\"T_d872e834_e025_11ea_9635_0242ac1c0002row0_col2\" class=\"data row0 col2\" >0</td>\n",
              "                        <td id=\"T_d872e834_e025_11ea_9635_0242ac1c0002row0_col3\" class=\"data row0 col3\" >1</td>\n",
              "                        <td id=\"T_d872e834_e025_11ea_9635_0242ac1c0002row0_col4\" class=\"data row0 col4\" >7/17</td>\n",
              "                        <td id=\"T_d872e834_e025_11ea_9635_0242ac1c0002row0_col5\" class=\"data row0 col5\" >11/17</td>\n",
              "                        <td id=\"T_d872e834_e025_11ea_9635_0242ac1c0002row0_col6\" class=\"data row0 col6\" >144/17</td>\n",
              "            </tr>\n",
              "            <tr>\n",
              "                        <th id=\"T_d872e834_e025_11ea_9635_0242ac1c0002level0_row1\" class=\"row_heading level0 row1\" >R1</th>\n",
              "                        <td id=\"T_d872e834_e025_11ea_9635_0242ac1c0002row1_col0\" class=\"data row1 col0\" >-4/17</td>\n",
              "                        <td id=\"T_d872e834_e025_11ea_9635_0242ac1c0002row1_col1\" class=\"data row1 col1\" >1</td>\n",
              "                        <td id=\"T_d872e834_e025_11ea_9635_0242ac1c0002row1_col2\" class=\"data row1 col2\" >0</td>\n",
              "                        <td id=\"T_d872e834_e025_11ea_9635_0242ac1c0002row1_col3\" class=\"data row1 col3\" >0</td>\n",
              "                        <td id=\"T_d872e834_e025_11ea_9635_0242ac1c0002row1_col4\" class=\"data row1 col4\" >3/17</td>\n",
              "                        <td id=\"T_d872e834_e025_11ea_9635_0242ac1c0002row1_col5\" class=\"data row1 col5\" >-5/17</td>\n",
              "                        <td id=\"T_d872e834_e025_11ea_9635_0242ac1c0002row1_col6\" class=\"data row1 col6\" >18/17</td>\n",
              "            </tr>\n",
              "            <tr>\n",
              "                        <th id=\"T_d872e834_e025_11ea_9635_0242ac1c0002level0_row2\" class=\"row_heading level0 row2\" >R2</th>\n",
              "                        <td id=\"T_d872e834_e025_11ea_9635_0242ac1c0002row2_col0\" class=\"data row2 col0\" >11/17</td>\n",
              "                        <td id=\"T_d872e834_e025_11ea_9635_0242ac1c0002row2_col1\" class=\"data row2 col1\" >0</td>\n",
              "                        <td id=\"T_d872e834_e025_11ea_9635_0242ac1c0002row2_col2\" class=\"data row2 col2\" >1</td>\n",
              "                        <td id=\"T_d872e834_e025_11ea_9635_0242ac1c0002row2_col3\" class=\"data row2 col3\" >0</td>\n",
              "                        <td id=\"T_d872e834_e025_11ea_9635_0242ac1c0002row2_col4\" class=\"data row2 col4\" >-4/17</td>\n",
              "                        <td id=\"T_d872e834_e025_11ea_9635_0242ac1c0002row2_col5\" class=\"data row2 col5\" >1/17</td>\n",
              "                        <td id=\"T_d872e834_e025_11ea_9635_0242ac1c0002row2_col6\" class=\"data row2 col6\" >10/17</td>\n",
              "            </tr>\n",
              "            <tr>\n",
              "                        <th id=\"T_d872e834_e025_11ea_9635_0242ac1c0002level0_row3\" class=\"row_heading level0 row3\" >R3</th>\n",
              "                        <td id=\"T_d872e834_e025_11ea_9635_0242ac1c0002row3_col0\" class=\"data row3 col0\" >65/17</td>\n",
              "                        <td id=\"T_d872e834_e025_11ea_9635_0242ac1c0002row3_col1\" class=\"data row3 col1\" >0</td>\n",
              "                        <td id=\"T_d872e834_e025_11ea_9635_0242ac1c0002row3_col2\" class=\"data row3 col2\" >0</td>\n",
              "                        <td id=\"T_d872e834_e025_11ea_9635_0242ac1c0002row3_col3\" class=\"data row3 col3\" >0</td>\n",
              "                        <td id=\"T_d872e834_e025_11ea_9635_0242ac1c0002row3_col4\" class=\"data row3 col4\" >-2/17</td>\n",
              "                        <td id=\"T_d872e834_e025_11ea_9635_0242ac1c0002row3_col5\" class=\"data row3 col5\" >9/17</td>\n",
              "                        <td id=\"T_d872e834_e025_11ea_9635_0242ac1c0002row3_col6\" class=\"data row3 col6\" >-46/17</td>\n",
              "            </tr>\n",
              "    </tbody></table>"
            ],
            "text/plain": [
              "<pandas.io.formats.style.Styler at 0x7f37bd3e3748>"
            ]
          },
          "metadata": {
            "tags": []
          },
          "execution_count": 72
        }
      ]
    },
    {
      "cell_type": "markdown",
      "metadata": {
        "id": "sU3mUUaK3f8a"
      },
      "source": [
        "We've got our work cut out for us - let's get rid of the negative values with Gauss-Jordan elimination. "
      ]
    },
    {
      "cell_type": "code",
      "metadata": {
        "id": "sQro9y4s3lHs",
        "colab": {
          "base_uri": "https://localhost:8080/",
          "height": 235
        },
        "outputId": "a09e481f-89a3-4d60-de68-b07142159f08"
      },
      "source": [
        "#R1, Change it to 1\n",
        "A[1,:] = A[1,:]*17/3\n",
        "\n",
        "\n",
        "# check your work\n",
        "pprint(A)"
      ],
      "execution_count": null,
      "outputs": [
        {
          "output_type": "stream",
          "text": [
            "⎡                          11   144 ⎤\n",
            "⎢2/17   0    0  1  7/17    ──   ─── ⎥\n",
            "⎢                          17    17 ⎥\n",
            "⎢                                   ⎥\n",
            "⎢-4/3  17/3  0  0    1    -5/3   6  ⎥\n",
            "⎢                                   ⎥\n",
            "⎢ 11                             10 ⎥\n",
            "⎢ ──    0    1  0  -4/17  1/17   ── ⎥\n",
            "⎢ 17                             17 ⎥\n",
            "⎢                                   ⎥\n",
            "⎢ 65                            -46 ⎥\n",
            "⎢ ──    0    0  0  -2/17  9/17  ────⎥\n",
            "⎣ 17                             17 ⎦\n"
          ],
          "name": "stdout"
        }
      ]
    },
    {
      "cell_type": "code",
      "metadata": {
        "id": "EDvNZ33f7I0B",
        "colab": {
          "base_uri": "https://localhost:8080/",
          "height": 134
        },
        "outputId": "ff13775c-4cf9-4bde-f1ee-50d94970203a"
      },
      "source": [
        "# R0 \n",
        "A[0,:] = A[0,:] - A[1,:]*7/17\n",
        "\n",
        "# R2 \n",
        "A[2,:] = A[2,:] + A[1,:]*4/17\n",
        "\n",
        "#R3\n",
        "A[3,:] = A[3,:] + A[1,:]*2/17\n",
        "pprint(A)"
      ],
      "execution_count": null,
      "outputs": [
        {
          "output_type": "stream",
          "text": [
            "⎡2/3   -7/3  0  1  0  4/3   6 ⎤\n",
            "⎢                             ⎥\n",
            "⎢-4/3  17/3  0  0  1  -5/3  6 ⎥\n",
            "⎢                             ⎥\n",
            "⎢1/3   4/3   1  0  0  -1/3  2 ⎥\n",
            "⎢                             ⎥\n",
            "⎣11/3  2/3   0  0  0  1/3   -2⎦\n"
          ],
          "name": "stdout"
        }
      ]
    },
    {
      "cell_type": "code",
      "metadata": {
        "id": "M32DY6Dv6MtY",
        "colab": {
          "base_uri": "https://localhost:8080/",
          "height": 166
        },
        "outputId": "82bd771d-cdc0-411f-b516-53848e35b781"
      },
      "source": [
        "# make it pretty\n",
        "tmp = pd.DataFrame(np.array(A)) # you only need this in the first example\n",
        "tmp.columns = ['x1', 'x2', 'x3', 's1', 's2', 's3', 'b']\n",
        "tmp.index=['R0', 'R1', 'R2', 'R3']\n",
        "tmp"
      ],
      "execution_count": null,
      "outputs": [
        {
          "output_type": "execute_result",
          "data": {
            "text/html": [
              "<div>\n",
              "<style scoped>\n",
              "    .dataframe tbody tr th:only-of-type {\n",
              "        vertical-align: middle;\n",
              "    }\n",
              "\n",
              "    .dataframe tbody tr th {\n",
              "        vertical-align: top;\n",
              "    }\n",
              "\n",
              "    .dataframe thead th {\n",
              "        text-align: right;\n",
              "    }\n",
              "</style>\n",
              "<table border=\"1\" class=\"dataframe\">\n",
              "  <thead>\n",
              "    <tr style=\"text-align: right;\">\n",
              "      <th></th>\n",
              "      <th>x1</th>\n",
              "      <th>x2</th>\n",
              "      <th>x3</th>\n",
              "      <th>s1</th>\n",
              "      <th>s2</th>\n",
              "      <th>s3</th>\n",
              "      <th>b</th>\n",
              "    </tr>\n",
              "  </thead>\n",
              "  <tbody>\n",
              "    <tr>\n",
              "      <th>R0</th>\n",
              "      <td>2/3</td>\n",
              "      <td>-7/3</td>\n",
              "      <td>0</td>\n",
              "      <td>1</td>\n",
              "      <td>0</td>\n",
              "      <td>4/3</td>\n",
              "      <td>6</td>\n",
              "    </tr>\n",
              "    <tr>\n",
              "      <th>R1</th>\n",
              "      <td>-4/3</td>\n",
              "      <td>17/3</td>\n",
              "      <td>0</td>\n",
              "      <td>0</td>\n",
              "      <td>1</td>\n",
              "      <td>-5/3</td>\n",
              "      <td>6</td>\n",
              "    </tr>\n",
              "    <tr>\n",
              "      <th>R2</th>\n",
              "      <td>1/3</td>\n",
              "      <td>4/3</td>\n",
              "      <td>1</td>\n",
              "      <td>0</td>\n",
              "      <td>0</td>\n",
              "      <td>-1/3</td>\n",
              "      <td>2</td>\n",
              "    </tr>\n",
              "    <tr>\n",
              "      <th>R3</th>\n",
              "      <td>11/3</td>\n",
              "      <td>2/3</td>\n",
              "      <td>0</td>\n",
              "      <td>0</td>\n",
              "      <td>0</td>\n",
              "      <td>1/3</td>\n",
              "      <td>-2</td>\n",
              "    </tr>\n",
              "  </tbody>\n",
              "</table>\n",
              "</div>"
            ],
            "text/plain": [
              "      x1    x2 x3 s1 s2    s3   b\n",
              "R0   2/3  -7/3  0  1  0   4/3   6\n",
              "R1  -4/3  17/3  0  0  1  -5/3   6\n",
              "R2   1/3   4/3  1  0  0  -1/3   2\n",
              "R3  11/3   2/3  0  0  0   1/3  -2"
            ]
          },
          "metadata": {
            "tags": []
          },
          "execution_count": 75
        }
      ]
    },
    {
      "cell_type": "markdown",
      "metadata": {
        "id": "Cm0TP1uG4MEF"
      },
      "source": [
        " We are done here. No negative values in the bottom row. Now we can read off the final solution."
      ]
    },
    {
      "cell_type": "markdown",
      "metadata": {
        "id": "3twG69s94XQt"
      },
      "source": [
        "# Final Solution\n",
        "The maximum value of the revised objective function is $z = −2$, and so the minimum value of the original objective function is\n",
        "$w = 2$ (the negative of the entry in the lower-right corner). This occurs when\n",
        "$x1 = 0$, $x2 = 0$, and $x3 = 2$.\n",
        "\n",
        "# Thoughts\n",
        "It's tough choosing the entering variable at random, but we got there."
      ]
    },
    {
      "cell_type": "markdown",
      "metadata": {
        "id": "pG2r2_g3unQA"
      },
      "source": [
        "# Appendix: Color coding a table\n",
        "We'll manipulate this often to color code our tableaus for easy viewing."
      ]
    },
    {
      "cell_type": "code",
      "metadata": {
        "id": "8eWzBUFjuubS",
        "colab": {
          "base_uri": "https://localhost:8080/",
          "height": 98
        },
        "outputId": "89b66a89-a82b-476a-97db-8dec3d4e8db5"
      },
      "source": [
        "# a random sample array\n",
        "\n",
        "A = Matrix([[60,   12,   10,   1,  0,  0.12],\n",
        "            [60,    6,   30,   0,  1,  0.15],                      \n",
        "            [-300,  -36,  -90,  0,  0,   0]])\n",
        "\n",
        "# make it pretty\n",
        "tmp = pd.DataFrame(np.array(A).astype(float)) # you only need this in the first example\n",
        "tmp.columns = ['y1', 'y2', 'y3', 's1', 's2', 'b']\n",
        "tmp.index=['R0', 'R1', 'R2']\n",
        "tmp\n",
        "\n",
        "# add some color to highlight s1 and s2 and z\n",
        "# Custom function to color the desired cell\n",
        "def styling_specific_cell(x,row_idx,col_idx):\n",
        "    color = 'background-color: yellow; color: red'\n",
        "    df_styler = pd.DataFrame('', index=x.index, columns=x.columns)\n",
        "    df_styler.iloc[row_idx, col_idx] = color\n",
        "    return df_styler\n",
        "\n",
        "# highlight a single cell pivot element\n",
        "idx_r = 0\n",
        "idx_c = 0\n",
        "\n",
        "# apply style to rows and columns\n",
        "tmp.style\\\n",
        ".apply(lambda x: ['background: lightblue' if x.name == 'y1' else '' for i in x])\\\n",
        ".apply(lambda x: ['background: lightblue' if x.name == 'R0' else '' for i in x], axis=1)\\\n",
        ".apply(styling_specific_cell, row_idx = idx_r, col_idx = idx_c, axis = None)\n"
      ],
      "execution_count": null,
      "outputs": [
        {
          "output_type": "execute_result",
          "data": {
            "text/html": [
              "<style  type=\"text/css\" >\n",
              "    #T_993c9f20_e025_11ea_9635_0242ac1c0002row0_col0 {\n",
              "            background:  lightblue;\n",
              "            background:  lightblue;\n",
              "            background-color:  yellow;\n",
              "             color:  red;\n",
              "        }    #T_993c9f20_e025_11ea_9635_0242ac1c0002row0_col1 {\n",
              "            : ;\n",
              "            background:  lightblue;\n",
              "            : ;\n",
              "        }    #T_993c9f20_e025_11ea_9635_0242ac1c0002row0_col2 {\n",
              "            : ;\n",
              "            background:  lightblue;\n",
              "            : ;\n",
              "        }    #T_993c9f20_e025_11ea_9635_0242ac1c0002row0_col3 {\n",
              "            : ;\n",
              "            background:  lightblue;\n",
              "            : ;\n",
              "        }    #T_993c9f20_e025_11ea_9635_0242ac1c0002row0_col4 {\n",
              "            : ;\n",
              "            background:  lightblue;\n",
              "            : ;\n",
              "        }    #T_993c9f20_e025_11ea_9635_0242ac1c0002row0_col5 {\n",
              "            : ;\n",
              "            background:  lightblue;\n",
              "            : ;\n",
              "        }    #T_993c9f20_e025_11ea_9635_0242ac1c0002row1_col0 {\n",
              "            background:  lightblue;\n",
              "            : ;\n",
              "            : ;\n",
              "        }    #T_993c9f20_e025_11ea_9635_0242ac1c0002row2_col0 {\n",
              "            background:  lightblue;\n",
              "            : ;\n",
              "            : ;\n",
              "        }</style><table id=\"T_993c9f20_e025_11ea_9635_0242ac1c0002\" ><thead>    <tr>        <th class=\"blank level0\" ></th>        <th class=\"col_heading level0 col0\" >y1</th>        <th class=\"col_heading level0 col1\" >y2</th>        <th class=\"col_heading level0 col2\" >y3</th>        <th class=\"col_heading level0 col3\" >s1</th>        <th class=\"col_heading level0 col4\" >s2</th>        <th class=\"col_heading level0 col5\" >b</th>    </tr></thead><tbody>\n",
              "                <tr>\n",
              "                        <th id=\"T_993c9f20_e025_11ea_9635_0242ac1c0002level0_row0\" class=\"row_heading level0 row0\" >R0</th>\n",
              "                        <td id=\"T_993c9f20_e025_11ea_9635_0242ac1c0002row0_col0\" class=\"data row0 col0\" >60.000000</td>\n",
              "                        <td id=\"T_993c9f20_e025_11ea_9635_0242ac1c0002row0_col1\" class=\"data row0 col1\" >12.000000</td>\n",
              "                        <td id=\"T_993c9f20_e025_11ea_9635_0242ac1c0002row0_col2\" class=\"data row0 col2\" >10.000000</td>\n",
              "                        <td id=\"T_993c9f20_e025_11ea_9635_0242ac1c0002row0_col3\" class=\"data row0 col3\" >1.000000</td>\n",
              "                        <td id=\"T_993c9f20_e025_11ea_9635_0242ac1c0002row0_col4\" class=\"data row0 col4\" >0.000000</td>\n",
              "                        <td id=\"T_993c9f20_e025_11ea_9635_0242ac1c0002row0_col5\" class=\"data row0 col5\" >0.120000</td>\n",
              "            </tr>\n",
              "            <tr>\n",
              "                        <th id=\"T_993c9f20_e025_11ea_9635_0242ac1c0002level0_row1\" class=\"row_heading level0 row1\" >R1</th>\n",
              "                        <td id=\"T_993c9f20_e025_11ea_9635_0242ac1c0002row1_col0\" class=\"data row1 col0\" >60.000000</td>\n",
              "                        <td id=\"T_993c9f20_e025_11ea_9635_0242ac1c0002row1_col1\" class=\"data row1 col1\" >6.000000</td>\n",
              "                        <td id=\"T_993c9f20_e025_11ea_9635_0242ac1c0002row1_col2\" class=\"data row1 col2\" >30.000000</td>\n",
              "                        <td id=\"T_993c9f20_e025_11ea_9635_0242ac1c0002row1_col3\" class=\"data row1 col3\" >0.000000</td>\n",
              "                        <td id=\"T_993c9f20_e025_11ea_9635_0242ac1c0002row1_col4\" class=\"data row1 col4\" >1.000000</td>\n",
              "                        <td id=\"T_993c9f20_e025_11ea_9635_0242ac1c0002row1_col5\" class=\"data row1 col5\" >0.150000</td>\n",
              "            </tr>\n",
              "            <tr>\n",
              "                        <th id=\"T_993c9f20_e025_11ea_9635_0242ac1c0002level0_row2\" class=\"row_heading level0 row2\" >R2</th>\n",
              "                        <td id=\"T_993c9f20_e025_11ea_9635_0242ac1c0002row2_col0\" class=\"data row2 col0\" >-300.000000</td>\n",
              "                        <td id=\"T_993c9f20_e025_11ea_9635_0242ac1c0002row2_col1\" class=\"data row2 col1\" >-36.000000</td>\n",
              "                        <td id=\"T_993c9f20_e025_11ea_9635_0242ac1c0002row2_col2\" class=\"data row2 col2\" >-90.000000</td>\n",
              "                        <td id=\"T_993c9f20_e025_11ea_9635_0242ac1c0002row2_col3\" class=\"data row2 col3\" >0.000000</td>\n",
              "                        <td id=\"T_993c9f20_e025_11ea_9635_0242ac1c0002row2_col4\" class=\"data row2 col4\" >0.000000</td>\n",
              "                        <td id=\"T_993c9f20_e025_11ea_9635_0242ac1c0002row2_col5\" class=\"data row2 col5\" >0.000000</td>\n",
              "            </tr>\n",
              "    </tbody></table>"
            ],
            "text/plain": [
              "<pandas.io.formats.style.Styler at 0x7f37bd3c5828>"
            ]
          },
          "metadata": {
            "tags": []
          },
          "execution_count": 58
        }
      ]
    }
  ]
}