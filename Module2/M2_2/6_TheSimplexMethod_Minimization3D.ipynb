{
  "nbformat": 4,
  "nbformat_minor": 0,
  "metadata": {
    "colab": {
      "name": " 6_TheSimplexMethod_Minimization3D.ipynb",
      "provenance": [],
      "collapsed_sections": [],
      "include_colab_link": true
    },
    "kernelspec": {
      "name": "python3",
      "display_name": "Python 3"
    }
  },
  "cells": [
    {
      "cell_type": "markdown",
      "metadata": {
        "id": "view-in-github",
        "colab_type": "text"
      },
      "source": [
        "<a href=\"https://colab.research.google.com/github/drdww/OPIM5641/blob/main/Module2/M2_2/6_TheSimplexMethod_Minimization3D.ipynb\" target=\"_parent\"><img src=\"https://colab.research.google.com/assets/colab-badge.svg\" alt=\"Open In Colab\"/></a>"
      ]
    },
    {
      "cell_type": "markdown",
      "metadata": {
        "id": "iUWrRFaMNZLW"
      },
      "source": [
        "# The Simplex Method: Minimization 3D\n",
        "**OPIM 5604: Business Decision Modeling - University of Connecticut**\n",
        "\n",
        "Material from: \"Elementary Linear Algebra\" - 8th Edition (Ron Larson) - Chapter 9.\n",
        "\n",
        "---------------------------------------------------------------------------\n",
        "**Objectives:**\n",
        "* Determine the dual of a linear programming problem that  minimizes an objective function.  \n",
        "* Use the simplex method to solve a linear programming problem that minimizes an objective function"
      ]
    },
    {
      "cell_type": "code",
      "metadata": {
        "id": "ggiCpla_KqdK"
      },
      "source": [
        "# import modules\n",
        "# Matrix makes a sympy Matrix, Rational is FRACTION, pprint makes it pretty print, nsimplify converts decimals to fractions (rational numbers)\n",
        "from sympy import Matrix, Rational, pprint, nsimplify \n",
        "\n",
        "# standard modules\n",
        "import numpy as np\n",
        "import pandas as pd"
      ],
      "execution_count": null,
      "outputs": []
    },
    {
      "cell_type": "code",
      "metadata": {
        "id": "Hue0yU4MmpYL"
      },
      "source": [
        "# this function is useful for coloring a single cell\n",
        "# you'll see how to use it later\n",
        "\n",
        "# Custom function to color the desired cell\n",
        "def styling_specific_cell(x,row_idx,col_idx):\n",
        "    color = 'background-color: yellow; color: red'\n",
        "    df_styler = pd.DataFrame('', index=x.index, columns=x.columns)\n",
        "    df_styler.iloc[row_idx, col_idx] = color\n",
        "    return df_styler"
      ],
      "execution_count": null,
      "outputs": []
    },
    {
      "cell_type": "markdown",
      "metadata": {
        "id": "odg3vYmINpmd"
      },
      "source": [
        "**Background:** You previously applied the simplex method to linear programming problems in **standard form** where the objective function was to be **maximized** (all constraints had $\\leq$ symbols). In this section, you will extend this procedure to linear programming problems in which the objective function is to be **minimized** (requires all constraints to have $\\geq$ symbols). \n",
        "\n",
        "Specifically, a minimization problem is defined in standard form when the objective function:\n",
        "\n",
        "$w = c_1x_1 + c_2x_2 + ... c_nx_n$\n",
        "\n",
        "is to be minimized, subject to the constraints\n",
        "\n",
        "$a_m$$_1x_1 + $ $a_m$$_2x_2 + $ $...+ a_m$$_nx_n \\geq b_m$\n",
        "\n",
        "where $x_i \\geq 0$ and $b_i \\geq 0$.\n",
        "\n",
        "The basic procedure used to solve such a problem is to convert it to a **maximization problem** in standard form, then apply the Simplex method. That's we are starting off by using $w$ instead of $z$ in the objective function as a helpful reminder. At the end, you just need to interpret/read off the final output (tableau) a little differently.\n",
        "\n",
        "Let's consider a simple problem in 3D.\n"
      ]
    },
    {
      "cell_type": "markdown",
      "metadata": {
        "id": "lzt-aXguTmwH"
      },
      "source": [
        "#Problem Description\n",
        "Find the minimum value of\n",
        "$w = 2x_1 + 10x_2 + 8x_3$\n",
        "\n",
        "subject to:\n",
        "* $x_1 + x_2 + x_3\\geq 6$\n",
        "* $x_2 + 2x_3 \\geq 8$\n",
        "* $-x_1 + 2x_2 + 2x_3 \\geq 4$\n",
        "* $x_1,x_2 , x_3 \\geq 0$\n",
        "\n",
        "First of all - **notice that $z$ is nowhere to be found** - as a naming convention, we will use $w$ for minimization problems to help keep us organized.\n",
        "\n",
        "To solve this problem using simplex, you must convert it to a maximization problem. The first step is to form the augmented matrix for this system of inequalities. To this augmented matrix, add a last row that represents the coefficients of the objective function and don't rearrange terms.\n",
        "\n",
        "**Note that we have not rearranged terms for the objective function.** The values of each of the decision variables are still the same.\n",
        "\n",
        "In our example, $A$ will always be the matrix, and `tmp` will always be a temporary copy of $A$ that we will color code. See helper function at the end to color a pandas dataframe, rename rows and columns etc.\n",
        "\n"
      ]
    },
    {
      "cell_type": "markdown",
      "metadata": {
        "id": "EfaWPkvqH2uY"
      },
      "source": [
        "## Set up initial matrix ($A$)"
      ]
    },
    {
      "cell_type": "code",
      "metadata": {
        "id": "AZYMFFda8JxG",
        "colab": {
          "base_uri": "https://localhost:8080/"
        },
        "outputId": "7337e628-391e-4d1e-cbee-494fd4a42e3e"
      },
      "source": [
        "# form the matrix\n",
        "A = Matrix([[1, 1, 1, 6],\n",
        "            [0, 1, 2, 8],\n",
        "            [-1,2,2,4],\n",
        "            [2,10,8,0]])\n",
        "\n",
        "# show the matrix\n",
        "pprint(A)"
      ],
      "execution_count": null,
      "outputs": [
        {
          "output_type": "stream",
          "name": "stdout",
          "text": [
            "⎡1   1   1  6⎤\n",
            "⎢            ⎥\n",
            "⎢0   1   2  8⎥\n",
            "⎢            ⎥\n",
            "⎢-1  2   2  4⎥\n",
            "⎢            ⎥\n",
            "⎣2   10  8  0⎦\n"
          ]
        }
      ]
    },
    {
      "cell_type": "code",
      "metadata": {
        "id": "RaeWT0VZf8Zp",
        "colab": {
          "base_uri": "https://localhost:8080/",
          "height": 124
        },
        "outputId": "db89c525-20bd-4470-f97a-2f256a4f3433"
      },
      "source": [
        "# if you want to make it pretty, you can use pandas\n",
        "# example\n",
        "# link: https://stackoverflow.com/questions/40335140/how-to-highlight-both-a-row-and-a-column-at-once-in-pandas\n",
        "\n",
        "# make sure you convert A to a numpy array for easy viewing - and make it a float \n",
        "# so that stuff isn't stored as a string\n",
        "tmp = pd.DataFrame(np.array(A).astype(float))\n",
        "\n",
        "tmp.columns = ['x1', 'x2', 'x3','b']\n",
        "tmp.index=['R0', 'R1', 'R2', 'R3']\n",
        "\n",
        "# w is in the bottom right cell\n",
        "\n",
        "# style - this is for an individual cell\n",
        "idx_c = 3   # Column index of cell to color \n",
        "idx_r = 3   # Row index of cell to color\n",
        "\n",
        "# see the columns 's1' and 's2' called out in the code below?\n",
        "tmp.style\\\n",
        ".apply(styling_specific_cell, row_idx = idx_r, col_idx = idx_c, axis = None)"
      ],
      "execution_count": null,
      "outputs": [
        {
          "output_type": "execute_result",
          "data": {
            "text/html": [
              "<style  type=\"text/css\" >\n",
              "#T_82bbb16a_1fd9_11ec_9b3e_0242ac1c0002row3_col3{\n",
              "            background-color:  yellow;\n",
              "             color:  red;\n",
              "        }</style><table id=\"T_82bbb16a_1fd9_11ec_9b3e_0242ac1c0002\" ><thead>    <tr>        <th class=\"blank level0\" ></th>        <th class=\"col_heading level0 col0\" >x1</th>        <th class=\"col_heading level0 col1\" >x2</th>        <th class=\"col_heading level0 col2\" >x3</th>        <th class=\"col_heading level0 col3\" >b</th>    </tr></thead><tbody>\n",
              "                <tr>\n",
              "                        <th id=\"T_82bbb16a_1fd9_11ec_9b3e_0242ac1c0002level0_row0\" class=\"row_heading level0 row0\" >R0</th>\n",
              "                        <td id=\"T_82bbb16a_1fd9_11ec_9b3e_0242ac1c0002row0_col0\" class=\"data row0 col0\" >1.000000</td>\n",
              "                        <td id=\"T_82bbb16a_1fd9_11ec_9b3e_0242ac1c0002row0_col1\" class=\"data row0 col1\" >1.000000</td>\n",
              "                        <td id=\"T_82bbb16a_1fd9_11ec_9b3e_0242ac1c0002row0_col2\" class=\"data row0 col2\" >1.000000</td>\n",
              "                        <td id=\"T_82bbb16a_1fd9_11ec_9b3e_0242ac1c0002row0_col3\" class=\"data row0 col3\" >6.000000</td>\n",
              "            </tr>\n",
              "            <tr>\n",
              "                        <th id=\"T_82bbb16a_1fd9_11ec_9b3e_0242ac1c0002level0_row1\" class=\"row_heading level0 row1\" >R1</th>\n",
              "                        <td id=\"T_82bbb16a_1fd9_11ec_9b3e_0242ac1c0002row1_col0\" class=\"data row1 col0\" >0.000000</td>\n",
              "                        <td id=\"T_82bbb16a_1fd9_11ec_9b3e_0242ac1c0002row1_col1\" class=\"data row1 col1\" >1.000000</td>\n",
              "                        <td id=\"T_82bbb16a_1fd9_11ec_9b3e_0242ac1c0002row1_col2\" class=\"data row1 col2\" >2.000000</td>\n",
              "                        <td id=\"T_82bbb16a_1fd9_11ec_9b3e_0242ac1c0002row1_col3\" class=\"data row1 col3\" >8.000000</td>\n",
              "            </tr>\n",
              "            <tr>\n",
              "                        <th id=\"T_82bbb16a_1fd9_11ec_9b3e_0242ac1c0002level0_row2\" class=\"row_heading level0 row2\" >R2</th>\n",
              "                        <td id=\"T_82bbb16a_1fd9_11ec_9b3e_0242ac1c0002row2_col0\" class=\"data row2 col0\" >-1.000000</td>\n",
              "                        <td id=\"T_82bbb16a_1fd9_11ec_9b3e_0242ac1c0002row2_col1\" class=\"data row2 col1\" >2.000000</td>\n",
              "                        <td id=\"T_82bbb16a_1fd9_11ec_9b3e_0242ac1c0002row2_col2\" class=\"data row2 col2\" >2.000000</td>\n",
              "                        <td id=\"T_82bbb16a_1fd9_11ec_9b3e_0242ac1c0002row2_col3\" class=\"data row2 col3\" >4.000000</td>\n",
              "            </tr>\n",
              "            <tr>\n",
              "                        <th id=\"T_82bbb16a_1fd9_11ec_9b3e_0242ac1c0002level0_row3\" class=\"row_heading level0 row3\" >R3</th>\n",
              "                        <td id=\"T_82bbb16a_1fd9_11ec_9b3e_0242ac1c0002row3_col0\" class=\"data row3 col0\" >2.000000</td>\n",
              "                        <td id=\"T_82bbb16a_1fd9_11ec_9b3e_0242ac1c0002row3_col1\" class=\"data row3 col1\" >10.000000</td>\n",
              "                        <td id=\"T_82bbb16a_1fd9_11ec_9b3e_0242ac1c0002row3_col2\" class=\"data row3 col2\" >8.000000</td>\n",
              "                        <td id=\"T_82bbb16a_1fd9_11ec_9b3e_0242ac1c0002row3_col3\" class=\"data row3 col3\" >0.000000</td>\n",
              "            </tr>\n",
              "    </tbody></table>"
            ],
            "text/plain": [
              "<pandas.io.formats.style.Styler at 0x7f06273679d0>"
            ]
          },
          "metadata": {},
          "execution_count": 83
        }
      ]
    },
    {
      "cell_type": "markdown",
      "metadata": {
        "id": "2qgmMCP8H6S6"
      },
      "source": [
        "## Transpose($A$)"
      ]
    },
    {
      "cell_type": "markdown",
      "metadata": {
        "id": "EOQJ2CcG9HCM"
      },
      "source": [
        "Now, take the transpose of this matrix. Notice how each column becomes a row - the first row has become the first column - stare at this for a moment if it is new to you.\n",
        "\n",
        "Also note that we have not added any slack variables yet! We aren't there yet."
      ]
    },
    {
      "cell_type": "code",
      "metadata": {
        "id": "WaQ-mzYw9I7c",
        "colab": {
          "base_uri": "https://localhost:8080/"
        },
        "outputId": "53c42a0c-1916-45c7-f84c-64961f26042a"
      },
      "source": [
        "# transpose\n",
        "# we will keep overwriting A\n",
        "A = A.T\n",
        "pprint(A)"
      ],
      "execution_count": null,
      "outputs": [
        {
          "output_type": "stream",
          "name": "stdout",
          "text": [
            "⎡1  0  -1  2 ⎤\n",
            "⎢            ⎥\n",
            "⎢1  1  2   10⎥\n",
            "⎢            ⎥\n",
            "⎢1  2  2   8 ⎥\n",
            "⎢            ⎥\n",
            "⎣6  8  4   0 ⎦\n"
          ]
        }
      ]
    },
    {
      "cell_type": "markdown",
      "metadata": {
        "id": "5JVIfGqEnTf4"
      },
      "source": [
        "When we take the transpose, we change our variables from $x$ to $y$ to help keep us organized."
      ]
    },
    {
      "cell_type": "code",
      "metadata": {
        "id": "qppyD8aSgfz_",
        "colab": {
          "base_uri": "https://localhost:8080/",
          "height": 173
        },
        "outputId": "b9af0b68-1cfc-4bba-fea1-03379b18818f"
      },
      "source": [
        "# you can make it pretty with pandas\n",
        "# we have not added slack variables yet (coming soon)\n",
        "tmp = pd.DataFrame(np.array(A).astype(float))\n",
        "tmp.columns = ['y1', 'y2', 'y3', 'b']\n",
        "tmp.index=['R0', 'R1', 'R2','R3']\n",
        "tmp"
      ],
      "execution_count": null,
      "outputs": [
        {
          "output_type": "execute_result",
          "data": {
            "text/html": [
              "<div>\n",
              "<style scoped>\n",
              "    .dataframe tbody tr th:only-of-type {\n",
              "        vertical-align: middle;\n",
              "    }\n",
              "\n",
              "    .dataframe tbody tr th {\n",
              "        vertical-align: top;\n",
              "    }\n",
              "\n",
              "    .dataframe thead th {\n",
              "        text-align: right;\n",
              "    }\n",
              "</style>\n",
              "<table border=\"1\" class=\"dataframe\">\n",
              "  <thead>\n",
              "    <tr style=\"text-align: right;\">\n",
              "      <th></th>\n",
              "      <th>y1</th>\n",
              "      <th>y2</th>\n",
              "      <th>y3</th>\n",
              "      <th>b</th>\n",
              "    </tr>\n",
              "  </thead>\n",
              "  <tbody>\n",
              "    <tr>\n",
              "      <th>R0</th>\n",
              "      <td>1.0</td>\n",
              "      <td>0.0</td>\n",
              "      <td>-1.0</td>\n",
              "      <td>2.0</td>\n",
              "    </tr>\n",
              "    <tr>\n",
              "      <th>R1</th>\n",
              "      <td>1.0</td>\n",
              "      <td>1.0</td>\n",
              "      <td>2.0</td>\n",
              "      <td>10.0</td>\n",
              "    </tr>\n",
              "    <tr>\n",
              "      <th>R2</th>\n",
              "      <td>1.0</td>\n",
              "      <td>2.0</td>\n",
              "      <td>2.0</td>\n",
              "      <td>8.0</td>\n",
              "    </tr>\n",
              "    <tr>\n",
              "      <th>R3</th>\n",
              "      <td>6.0</td>\n",
              "      <td>8.0</td>\n",
              "      <td>4.0</td>\n",
              "      <td>0.0</td>\n",
              "    </tr>\n",
              "  </tbody>\n",
              "</table>\n",
              "</div>"
            ],
            "text/plain": [
              "     y1   y2   y3     b\n",
              "R0  1.0  0.0 -1.0   2.0\n",
              "R1  1.0  1.0  2.0  10.0\n",
              "R2  1.0  2.0  2.0   8.0\n",
              "R3  6.0  8.0  4.0   0.0"
            ]
          },
          "metadata": {},
          "execution_count": 85
        }
      ]
    },
    {
      "cell_type": "markdown",
      "metadata": {
        "id": "MiOFGSsB9X5n"
      },
      "source": [
        "Great! And now we will interpret this transposed matrix as a maximization problem. Will add our slack variables in a moment."
      ]
    },
    {
      "cell_type": "markdown",
      "metadata": {
        "id": "E4gmwfOc9eGN"
      },
      "source": [
        "# Dual Maximization Problem\n",
        "In order to interpret the transposed matrix as a maximization problem, we introduce new variables $y_1, y_2, y_3$. This corresponding maximization problem is called the dual of the original problem.\n",
        "\n",
        "So, now we need to find the maximum value of:\n",
        "\n",
        "$z = 6y_1 + 8y_2 + 4y_3$\n",
        "\n",
        "subject to:\n",
        "* $y_1      - y_3 + s_1 \\leq 2$\n",
        "* $y_1 + y_2 + 2y_3 + s_2 \\leq 10$\n",
        "* $y_1 + 2y_2 + 2y_3 + s_3 \\leq 8$\n",
        "* $y_1,y_2,y_3 \\geq 0$\n",
        "\n",
        "Do you see how all of the $\\geq$ constraints were switched to $\\leq$ (does not include nonnegativity, which is always true)? \n",
        "\n",
        "Notice our naming conventions here - $w$ has been replaced by $z$, and $x$ has been replaced by $y$. This naming convention will help keep you organized!\n",
        "\n",
        "The solution of the original minimization problem can be found by applying the simplex method to the new dual problem. At the end, you'll just need to interpret (read off) the final tableau a little differently.\n",
        "\n",
        "Let's remake A but now we will include our slack variables $s_1$ , $s_2$ and $s_3$."
      ]
    },
    {
      "cell_type": "markdown",
      "metadata": {
        "id": "_5XLhUIKIA-o"
      },
      "source": [
        "## Standard Form"
      ]
    },
    {
      "cell_type": "code",
      "metadata": {
        "id": "70Sj9bkkCeQG",
        "colab": {
          "base_uri": "https://localhost:8080/"
        },
        "outputId": "03f09673-eb49-4d1c-81cd-4c770a5e9c6c"
      },
      "source": [
        "# since this is a maximization problem\n",
        "# we need to remake our initial tableau and add slack variables\n",
        "# and we are overwriting A\n",
        "\n",
        "\n",
        "# names are y1, y2, y3, s1, s2,s3,  b\n",
        "A = Matrix([[1,0,-1,1,0,0,2],\n",
        "            [1,1,2,0,1,0,10],\n",
        "            [1,2,2,0,0,1,8],\n",
        "            [-6,-8,-4,0,0,0,0]])\n",
        "\n",
        "pprint(A)"
      ],
      "execution_count": null,
      "outputs": [
        {
          "output_type": "stream",
          "name": "stdout",
          "text": [
            "⎡1   0   -1  1  0  0  2 ⎤\n",
            "⎢                       ⎥\n",
            "⎢1   1   2   0  1  0  10⎥\n",
            "⎢                       ⎥\n",
            "⎢1   2   2   0  0  1  8 ⎥\n",
            "⎢                       ⎥\n",
            "⎣-6  -8  -4  0  0  0  0 ⎦\n"
          ]
        }
      ]
    },
    {
      "cell_type": "code",
      "metadata": {
        "id": "lgEknJsag0pv",
        "colab": {
          "base_uri": "https://localhost:8080/",
          "height": 124
        },
        "outputId": "0110435b-7627-427b-b52f-84991b37226e"
      },
      "source": [
        "# make it pretty\n",
        "tmp = pd.DataFrame(np.array(A).astype(float)) # you only need this in the first example\n",
        "tmp.columns = ['y1', 'y2', 'y3', 's1', 's2','s3', 'b']\n",
        "tmp.index=['R0', 'R1', 'R2','R3']\n",
        "tmp\n",
        "\n",
        "# style - this is for an individual cell\n",
        "idx_r = 3   # Row index of cell to color\n",
        "idx_c = 6   # Column index of cell to color \n",
        "\n",
        "# see the columns 's1' and 's2', 's3' called out in the code below?\n",
        "# see how I am apply the highlighting of columns twice?\n",
        "# the slash \\ at the end simply continues the code\n",
        "tmp.style\\\n",
        ".apply(lambda x: ['background: lightblue' if x.name == 's1' else '' for i in x])\\\n",
        ".apply(lambda x: ['background: lightblue' if x.name == 's2' else '' for i in x])\\\n",
        ".apply(lambda x: ['background: lightblue' if x.name == 's3' else '' for i in x])\\\n",
        ".apply(styling_specific_cell, row_idx = idx_r, col_idx = idx_c, axis = None)\n"
      ],
      "execution_count": null,
      "outputs": [
        {
          "output_type": "execute_result",
          "data": {
            "text/html": [
              "<style  type=\"text/css\" >\n",
              "#T_82cd4682_1fd9_11ec_9b3e_0242ac1c0002row0_col3,#T_82cd4682_1fd9_11ec_9b3e_0242ac1c0002row0_col4,#T_82cd4682_1fd9_11ec_9b3e_0242ac1c0002row0_col5,#T_82cd4682_1fd9_11ec_9b3e_0242ac1c0002row1_col3,#T_82cd4682_1fd9_11ec_9b3e_0242ac1c0002row1_col4,#T_82cd4682_1fd9_11ec_9b3e_0242ac1c0002row1_col5,#T_82cd4682_1fd9_11ec_9b3e_0242ac1c0002row2_col3,#T_82cd4682_1fd9_11ec_9b3e_0242ac1c0002row2_col4,#T_82cd4682_1fd9_11ec_9b3e_0242ac1c0002row2_col5,#T_82cd4682_1fd9_11ec_9b3e_0242ac1c0002row3_col3,#T_82cd4682_1fd9_11ec_9b3e_0242ac1c0002row3_col4,#T_82cd4682_1fd9_11ec_9b3e_0242ac1c0002row3_col5{\n",
              "            background:  lightblue;\n",
              "        }#T_82cd4682_1fd9_11ec_9b3e_0242ac1c0002row3_col6{\n",
              "            background-color:  yellow;\n",
              "             color:  red;\n",
              "        }</style><table id=\"T_82cd4682_1fd9_11ec_9b3e_0242ac1c0002\" ><thead>    <tr>        <th class=\"blank level0\" ></th>        <th class=\"col_heading level0 col0\" >y1</th>        <th class=\"col_heading level0 col1\" >y2</th>        <th class=\"col_heading level0 col2\" >y3</th>        <th class=\"col_heading level0 col3\" >s1</th>        <th class=\"col_heading level0 col4\" >s2</th>        <th class=\"col_heading level0 col5\" >s3</th>        <th class=\"col_heading level0 col6\" >b</th>    </tr></thead><tbody>\n",
              "                <tr>\n",
              "                        <th id=\"T_82cd4682_1fd9_11ec_9b3e_0242ac1c0002level0_row0\" class=\"row_heading level0 row0\" >R0</th>\n",
              "                        <td id=\"T_82cd4682_1fd9_11ec_9b3e_0242ac1c0002row0_col0\" class=\"data row0 col0\" >1.000000</td>\n",
              "                        <td id=\"T_82cd4682_1fd9_11ec_9b3e_0242ac1c0002row0_col1\" class=\"data row0 col1\" >0.000000</td>\n",
              "                        <td id=\"T_82cd4682_1fd9_11ec_9b3e_0242ac1c0002row0_col2\" class=\"data row0 col2\" >-1.000000</td>\n",
              "                        <td id=\"T_82cd4682_1fd9_11ec_9b3e_0242ac1c0002row0_col3\" class=\"data row0 col3\" >1.000000</td>\n",
              "                        <td id=\"T_82cd4682_1fd9_11ec_9b3e_0242ac1c0002row0_col4\" class=\"data row0 col4\" >0.000000</td>\n",
              "                        <td id=\"T_82cd4682_1fd9_11ec_9b3e_0242ac1c0002row0_col5\" class=\"data row0 col5\" >0.000000</td>\n",
              "                        <td id=\"T_82cd4682_1fd9_11ec_9b3e_0242ac1c0002row0_col6\" class=\"data row0 col6\" >2.000000</td>\n",
              "            </tr>\n",
              "            <tr>\n",
              "                        <th id=\"T_82cd4682_1fd9_11ec_9b3e_0242ac1c0002level0_row1\" class=\"row_heading level0 row1\" >R1</th>\n",
              "                        <td id=\"T_82cd4682_1fd9_11ec_9b3e_0242ac1c0002row1_col0\" class=\"data row1 col0\" >1.000000</td>\n",
              "                        <td id=\"T_82cd4682_1fd9_11ec_9b3e_0242ac1c0002row1_col1\" class=\"data row1 col1\" >1.000000</td>\n",
              "                        <td id=\"T_82cd4682_1fd9_11ec_9b3e_0242ac1c0002row1_col2\" class=\"data row1 col2\" >2.000000</td>\n",
              "                        <td id=\"T_82cd4682_1fd9_11ec_9b3e_0242ac1c0002row1_col3\" class=\"data row1 col3\" >0.000000</td>\n",
              "                        <td id=\"T_82cd4682_1fd9_11ec_9b3e_0242ac1c0002row1_col4\" class=\"data row1 col4\" >1.000000</td>\n",
              "                        <td id=\"T_82cd4682_1fd9_11ec_9b3e_0242ac1c0002row1_col5\" class=\"data row1 col5\" >0.000000</td>\n",
              "                        <td id=\"T_82cd4682_1fd9_11ec_9b3e_0242ac1c0002row1_col6\" class=\"data row1 col6\" >10.000000</td>\n",
              "            </tr>\n",
              "            <tr>\n",
              "                        <th id=\"T_82cd4682_1fd9_11ec_9b3e_0242ac1c0002level0_row2\" class=\"row_heading level0 row2\" >R2</th>\n",
              "                        <td id=\"T_82cd4682_1fd9_11ec_9b3e_0242ac1c0002row2_col0\" class=\"data row2 col0\" >1.000000</td>\n",
              "                        <td id=\"T_82cd4682_1fd9_11ec_9b3e_0242ac1c0002row2_col1\" class=\"data row2 col1\" >2.000000</td>\n",
              "                        <td id=\"T_82cd4682_1fd9_11ec_9b3e_0242ac1c0002row2_col2\" class=\"data row2 col2\" >2.000000</td>\n",
              "                        <td id=\"T_82cd4682_1fd9_11ec_9b3e_0242ac1c0002row2_col3\" class=\"data row2 col3\" >0.000000</td>\n",
              "                        <td id=\"T_82cd4682_1fd9_11ec_9b3e_0242ac1c0002row2_col4\" class=\"data row2 col4\" >0.000000</td>\n",
              "                        <td id=\"T_82cd4682_1fd9_11ec_9b3e_0242ac1c0002row2_col5\" class=\"data row2 col5\" >1.000000</td>\n",
              "                        <td id=\"T_82cd4682_1fd9_11ec_9b3e_0242ac1c0002row2_col6\" class=\"data row2 col6\" >8.000000</td>\n",
              "            </tr>\n",
              "            <tr>\n",
              "                        <th id=\"T_82cd4682_1fd9_11ec_9b3e_0242ac1c0002level0_row3\" class=\"row_heading level0 row3\" >R3</th>\n",
              "                        <td id=\"T_82cd4682_1fd9_11ec_9b3e_0242ac1c0002row3_col0\" class=\"data row3 col0\" >-6.000000</td>\n",
              "                        <td id=\"T_82cd4682_1fd9_11ec_9b3e_0242ac1c0002row3_col1\" class=\"data row3 col1\" >-8.000000</td>\n",
              "                        <td id=\"T_82cd4682_1fd9_11ec_9b3e_0242ac1c0002row3_col2\" class=\"data row3 col2\" >-4.000000</td>\n",
              "                        <td id=\"T_82cd4682_1fd9_11ec_9b3e_0242ac1c0002row3_col3\" class=\"data row3 col3\" >0.000000</td>\n",
              "                        <td id=\"T_82cd4682_1fd9_11ec_9b3e_0242ac1c0002row3_col4\" class=\"data row3 col4\" >0.000000</td>\n",
              "                        <td id=\"T_82cd4682_1fd9_11ec_9b3e_0242ac1c0002row3_col5\" class=\"data row3 col5\" >0.000000</td>\n",
              "                        <td id=\"T_82cd4682_1fd9_11ec_9b3e_0242ac1c0002row3_col6\" class=\"data row3 col6\" >0.000000</td>\n",
              "            </tr>\n",
              "    </tbody></table>"
            ],
            "text/plain": [
              "<pandas.io.formats.style.Styler at 0x7f062737c390>"
            ]
          },
          "metadata": {},
          "execution_count": 87
        }
      ]
    },
    {
      "cell_type": "markdown",
      "metadata": {
        "id": "HafRO-HrBxce"
      },
      "source": [
        "Do you see how we have incorporated our slack variabes $s_1$ ,$s_2$ and $s_3$ (blue- they correspond to values of 2, 10 and 8 - this is the 'do nothing' solution and we get a $z$ of 0)? And do you see how we have negative values in the bottom row? $z$ is in the bottom right (yellow/red cell). \n",
        "\n",
        "The **basic variables** are s1, s2 and s3 and this results in a $z$ of 0. We can do better than that!\n",
        "\n",
        "Let's move onto pivoting..."
      ]
    },
    {
      "cell_type": "markdown",
      "metadata": {
        "id": "1G2KpzsAYmNp"
      },
      "source": [
        "# Reminder on Pivoting\n",
        "\n",
        "Remmember - after you have set up the initial simplex tableau for a linear programming problem, the simplex method consists of checking for optimality and then, when the current solution is not optimal, improving the current solution. (An improved solution is one that has a larger z-value than the current solution.) \n",
        "\n",
        "To improve the current solution, bring a new basic variable into the solution, the entering variable. This implies that one of the current basic variables (the departing variable) must leave, otherwise you would have too many variables for a basic solution. Choose the entering and departing variables as listed below. \n",
        "\n",
        "1. The **entering variable** corresponds to the least (the most negative) entry in the bottom row of the tableau, excluding the “b-column.” \n",
        "2.  The **departing variable** corresponds to the least nonnegative ratio $b_i/$$a_i$$_j$ in the column determined by the entering variable, when $a_i$$_j$ $> 0$.\n",
        "3.  The entry in the simplex tableau in the entering variable’s column and the departing variable’s row is the **pivot**. \n",
        "\n",
        "Finally, to form the improved solution, apply Gauss-Jordan elimination (https://online.stat.psu.edu/statprogram/reviews/matrix-algebra/gauss-jordan-elimination) to the column that contains the pivot, as illustrated in Example 1.\n",
        " "
      ]
    },
    {
      "cell_type": "markdown",
      "metadata": {
        "id": "MPb9Cbpm_PNe"
      },
      "source": [
        "# Pivot #1\n"
      ]
    },
    {
      "cell_type": "code",
      "metadata": {
        "colab": {
          "base_uri": "https://localhost:8080/",
          "height": 173
        },
        "id": "ypW0lHtiETIY",
        "outputId": "b1baa46a-0982-4cac-a39a-e66d3d9a8c55"
      },
      "source": [
        "# as a reminder, here is our matrix\n",
        "tmp"
      ],
      "execution_count": null,
      "outputs": [
        {
          "output_type": "execute_result",
          "data": {
            "text/html": [
              "<div>\n",
              "<style scoped>\n",
              "    .dataframe tbody tr th:only-of-type {\n",
              "        vertical-align: middle;\n",
              "    }\n",
              "\n",
              "    .dataframe tbody tr th {\n",
              "        vertical-align: top;\n",
              "    }\n",
              "\n",
              "    .dataframe thead th {\n",
              "        text-align: right;\n",
              "    }\n",
              "</style>\n",
              "<table border=\"1\" class=\"dataframe\">\n",
              "  <thead>\n",
              "    <tr style=\"text-align: right;\">\n",
              "      <th></th>\n",
              "      <th>y1</th>\n",
              "      <th>y2</th>\n",
              "      <th>y3</th>\n",
              "      <th>s1</th>\n",
              "      <th>s2</th>\n",
              "      <th>s3</th>\n",
              "      <th>b</th>\n",
              "    </tr>\n",
              "  </thead>\n",
              "  <tbody>\n",
              "    <tr>\n",
              "      <th>R0</th>\n",
              "      <td>1.0</td>\n",
              "      <td>0.0</td>\n",
              "      <td>-1.0</td>\n",
              "      <td>1.0</td>\n",
              "      <td>0.0</td>\n",
              "      <td>0.0</td>\n",
              "      <td>2.0</td>\n",
              "    </tr>\n",
              "    <tr>\n",
              "      <th>R1</th>\n",
              "      <td>1.0</td>\n",
              "      <td>1.0</td>\n",
              "      <td>2.0</td>\n",
              "      <td>0.0</td>\n",
              "      <td>1.0</td>\n",
              "      <td>0.0</td>\n",
              "      <td>10.0</td>\n",
              "    </tr>\n",
              "    <tr>\n",
              "      <th>R2</th>\n",
              "      <td>1.0</td>\n",
              "      <td>2.0</td>\n",
              "      <td>2.0</td>\n",
              "      <td>0.0</td>\n",
              "      <td>0.0</td>\n",
              "      <td>1.0</td>\n",
              "      <td>8.0</td>\n",
              "    </tr>\n",
              "    <tr>\n",
              "      <th>R3</th>\n",
              "      <td>-6.0</td>\n",
              "      <td>-8.0</td>\n",
              "      <td>-4.0</td>\n",
              "      <td>0.0</td>\n",
              "      <td>0.0</td>\n",
              "      <td>0.0</td>\n",
              "      <td>0.0</td>\n",
              "    </tr>\n",
              "  </tbody>\n",
              "</table>\n",
              "</div>"
            ],
            "text/plain": [
              "     y1   y2   y3   s1   s2   s3     b\n",
              "R0  1.0  0.0 -1.0  1.0  0.0  0.0   2.0\n",
              "R1  1.0  1.0  2.0  0.0  1.0  0.0  10.0\n",
              "R2  1.0  2.0  2.0  0.0  0.0  1.0   8.0\n",
              "R3 -6.0 -8.0 -4.0  0.0  0.0  0.0   0.0"
            ]
          },
          "metadata": {},
          "execution_count": 88
        }
      ]
    },
    {
      "cell_type": "markdown",
      "metadata": {
        "id": "T9JmxhScEPw5"
      },
      "source": [
        "## Entering Variable\n",
        "The entering variable is simply the most negative value in the bottom row, which is -8 ($y_2$)."
      ]
    },
    {
      "cell_type": "markdown",
      "metadata": {
        "id": "pzNuJfCLEgxB"
      },
      "source": [
        "## Departing Variable\n",
        "Now, compute ratios $b_i/$$a_i$$_j$ to determine which variable is the **departing variable**.\n",
        "\n",
        "$2/0 = \\text{Inf}$ `R0`\n",
        "\n",
        "$10/1 = 10$ `R1`\n",
        "\n",
        "$8/2 = 4$ `R2`\n",
        "\n",
        "Since $R2$ is the *smaller positive number*, it becomes the **departing variable**."
      ]
    },
    {
      "cell_type": "code",
      "metadata": {
        "id": "06eNktPW9gIu",
        "colab": {
          "base_uri": "https://localhost:8080/"
        },
        "outputId": "7e5f3dd8-8bfd-4bb5-de23-941051df304c"
      },
      "source": [
        "#print(2/0) # R0 - invalid\n",
        "print(10/1) # R1\n",
        "print(8/2) # R2"
      ],
      "execution_count": null,
      "outputs": [
        {
          "output_type": "stream",
          "name": "stdout",
          "text": [
            "10.0\n",
            "4.0\n"
          ]
        }
      ]
    },
    {
      "cell_type": "markdown",
      "metadata": {
        "id": "rggSTOchFWtH"
      },
      "source": [
        "## Turn Pivot Element Into a '1'."
      ]
    },
    {
      "cell_type": "markdown",
      "metadata": {
        "id": "xV34mJXyEyJu"
      },
      "source": [
        "Now that means the pivot element is '2' in the left corner, which we will need to turn into a 1. "
      ]
    },
    {
      "cell_type": "code",
      "metadata": {
        "id": "iflhLJwYE369",
        "colab": {
          "base_uri": "https://localhost:8080/"
        },
        "outputId": "f0de5d91-dfbb-4321-dccb-52a3fbd92eeb"
      },
      "source": [
        "# before\n",
        "pprint(A)"
      ],
      "execution_count": null,
      "outputs": [
        {
          "output_type": "stream",
          "name": "stdout",
          "text": [
            "⎡1   0   -1  1  0  0  2 ⎤\n",
            "⎢                       ⎥\n",
            "⎢1   1   2   0  1  0  10⎥\n",
            "⎢                       ⎥\n",
            "⎢1   2   2   0  0  1  8 ⎥\n",
            "⎢                       ⎥\n",
            "⎣-6  -8  -4  0  0  0  0 ⎦\n"
          ]
        }
      ]
    },
    {
      "cell_type": "code",
      "metadata": {
        "id": "MXi7L03th5DQ",
        "colab": {
          "base_uri": "https://localhost:8080/",
          "height": 124
        },
        "outputId": "84d8dc2c-953c-4c33-d732-cc244d22ef79"
      },
      "source": [
        "# before - make it pretty\n",
        "tmp = pd.DataFrame(np.array(A).astype(float))\n",
        "tmp.columns = ['y1', 'y2', 'y3', 's1', 's2','s3', 'b']\n",
        "tmp.index=['R0', 'R1', 'R2' , 'R3']\n",
        "tmp\n",
        "\n",
        "# highlight the pivot element\n",
        "idx_r = 2\n",
        "idx_c = 1\n",
        "\n",
        "tmp.style\\\n",
        ".apply(lambda x: ['background: lightblue' if x.name == 'y2' else '' for i in x])\\\n",
        ".apply(lambda x: ['background: lightblue' if x.name == 'R2' else '' for i in x], axis=1)\\\n",
        ".apply(styling_specific_cell, row_idx = idx_r, col_idx = idx_c, axis = None)"
      ],
      "execution_count": null,
      "outputs": [
        {
          "output_type": "execute_result",
          "data": {
            "text/html": [
              "<style  type=\"text/css\" >\n",
              "#T_82e00628_1fd9_11ec_9b3e_0242ac1c0002row0_col1,#T_82e00628_1fd9_11ec_9b3e_0242ac1c0002row1_col1,#T_82e00628_1fd9_11ec_9b3e_0242ac1c0002row2_col0,#T_82e00628_1fd9_11ec_9b3e_0242ac1c0002row2_col2,#T_82e00628_1fd9_11ec_9b3e_0242ac1c0002row2_col3,#T_82e00628_1fd9_11ec_9b3e_0242ac1c0002row2_col4,#T_82e00628_1fd9_11ec_9b3e_0242ac1c0002row2_col5,#T_82e00628_1fd9_11ec_9b3e_0242ac1c0002row2_col6,#T_82e00628_1fd9_11ec_9b3e_0242ac1c0002row3_col1{\n",
              "            background:  lightblue;\n",
              "        }#T_82e00628_1fd9_11ec_9b3e_0242ac1c0002row2_col1{\n",
              "            background:  lightblue;\n",
              "            background:  lightblue;\n",
              "            background-color:  yellow;\n",
              "             color:  red;\n",
              "        }</style><table id=\"T_82e00628_1fd9_11ec_9b3e_0242ac1c0002\" ><thead>    <tr>        <th class=\"blank level0\" ></th>        <th class=\"col_heading level0 col0\" >y1</th>        <th class=\"col_heading level0 col1\" >y2</th>        <th class=\"col_heading level0 col2\" >y3</th>        <th class=\"col_heading level0 col3\" >s1</th>        <th class=\"col_heading level0 col4\" >s2</th>        <th class=\"col_heading level0 col5\" >s3</th>        <th class=\"col_heading level0 col6\" >b</th>    </tr></thead><tbody>\n",
              "                <tr>\n",
              "                        <th id=\"T_82e00628_1fd9_11ec_9b3e_0242ac1c0002level0_row0\" class=\"row_heading level0 row0\" >R0</th>\n",
              "                        <td id=\"T_82e00628_1fd9_11ec_9b3e_0242ac1c0002row0_col0\" class=\"data row0 col0\" >1.000000</td>\n",
              "                        <td id=\"T_82e00628_1fd9_11ec_9b3e_0242ac1c0002row0_col1\" class=\"data row0 col1\" >0.000000</td>\n",
              "                        <td id=\"T_82e00628_1fd9_11ec_9b3e_0242ac1c0002row0_col2\" class=\"data row0 col2\" >-1.000000</td>\n",
              "                        <td id=\"T_82e00628_1fd9_11ec_9b3e_0242ac1c0002row0_col3\" class=\"data row0 col3\" >1.000000</td>\n",
              "                        <td id=\"T_82e00628_1fd9_11ec_9b3e_0242ac1c0002row0_col4\" class=\"data row0 col4\" >0.000000</td>\n",
              "                        <td id=\"T_82e00628_1fd9_11ec_9b3e_0242ac1c0002row0_col5\" class=\"data row0 col5\" >0.000000</td>\n",
              "                        <td id=\"T_82e00628_1fd9_11ec_9b3e_0242ac1c0002row0_col6\" class=\"data row0 col6\" >2.000000</td>\n",
              "            </tr>\n",
              "            <tr>\n",
              "                        <th id=\"T_82e00628_1fd9_11ec_9b3e_0242ac1c0002level0_row1\" class=\"row_heading level0 row1\" >R1</th>\n",
              "                        <td id=\"T_82e00628_1fd9_11ec_9b3e_0242ac1c0002row1_col0\" class=\"data row1 col0\" >1.000000</td>\n",
              "                        <td id=\"T_82e00628_1fd9_11ec_9b3e_0242ac1c0002row1_col1\" class=\"data row1 col1\" >1.000000</td>\n",
              "                        <td id=\"T_82e00628_1fd9_11ec_9b3e_0242ac1c0002row1_col2\" class=\"data row1 col2\" >2.000000</td>\n",
              "                        <td id=\"T_82e00628_1fd9_11ec_9b3e_0242ac1c0002row1_col3\" class=\"data row1 col3\" >0.000000</td>\n",
              "                        <td id=\"T_82e00628_1fd9_11ec_9b3e_0242ac1c0002row1_col4\" class=\"data row1 col4\" >1.000000</td>\n",
              "                        <td id=\"T_82e00628_1fd9_11ec_9b3e_0242ac1c0002row1_col5\" class=\"data row1 col5\" >0.000000</td>\n",
              "                        <td id=\"T_82e00628_1fd9_11ec_9b3e_0242ac1c0002row1_col6\" class=\"data row1 col6\" >10.000000</td>\n",
              "            </tr>\n",
              "            <tr>\n",
              "                        <th id=\"T_82e00628_1fd9_11ec_9b3e_0242ac1c0002level0_row2\" class=\"row_heading level0 row2\" >R2</th>\n",
              "                        <td id=\"T_82e00628_1fd9_11ec_9b3e_0242ac1c0002row2_col0\" class=\"data row2 col0\" >1.000000</td>\n",
              "                        <td id=\"T_82e00628_1fd9_11ec_9b3e_0242ac1c0002row2_col1\" class=\"data row2 col1\" >2.000000</td>\n",
              "                        <td id=\"T_82e00628_1fd9_11ec_9b3e_0242ac1c0002row2_col2\" class=\"data row2 col2\" >2.000000</td>\n",
              "                        <td id=\"T_82e00628_1fd9_11ec_9b3e_0242ac1c0002row2_col3\" class=\"data row2 col3\" >0.000000</td>\n",
              "                        <td id=\"T_82e00628_1fd9_11ec_9b3e_0242ac1c0002row2_col4\" class=\"data row2 col4\" >0.000000</td>\n",
              "                        <td id=\"T_82e00628_1fd9_11ec_9b3e_0242ac1c0002row2_col5\" class=\"data row2 col5\" >1.000000</td>\n",
              "                        <td id=\"T_82e00628_1fd9_11ec_9b3e_0242ac1c0002row2_col6\" class=\"data row2 col6\" >8.000000</td>\n",
              "            </tr>\n",
              "            <tr>\n",
              "                        <th id=\"T_82e00628_1fd9_11ec_9b3e_0242ac1c0002level0_row3\" class=\"row_heading level0 row3\" >R3</th>\n",
              "                        <td id=\"T_82e00628_1fd9_11ec_9b3e_0242ac1c0002row3_col0\" class=\"data row3 col0\" >-6.000000</td>\n",
              "                        <td id=\"T_82e00628_1fd9_11ec_9b3e_0242ac1c0002row3_col1\" class=\"data row3 col1\" >-8.000000</td>\n",
              "                        <td id=\"T_82e00628_1fd9_11ec_9b3e_0242ac1c0002row3_col2\" class=\"data row3 col2\" >-4.000000</td>\n",
              "                        <td id=\"T_82e00628_1fd9_11ec_9b3e_0242ac1c0002row3_col3\" class=\"data row3 col3\" >0.000000</td>\n",
              "                        <td id=\"T_82e00628_1fd9_11ec_9b3e_0242ac1c0002row3_col4\" class=\"data row3 col4\" >0.000000</td>\n",
              "                        <td id=\"T_82e00628_1fd9_11ec_9b3e_0242ac1c0002row3_col5\" class=\"data row3 col5\" >0.000000</td>\n",
              "                        <td id=\"T_82e00628_1fd9_11ec_9b3e_0242ac1c0002row3_col6\" class=\"data row3 col6\" >0.000000</td>\n",
              "            </tr>\n",
              "    </tbody></table>"
            ],
            "text/plain": [
              "<pandas.io.formats.style.Styler at 0x7f0627319050>"
            ]
          },
          "metadata": {},
          "execution_count": 91
        }
      ]
    },
    {
      "cell_type": "markdown",
      "metadata": {
        "id": "b6ZbekYtFdfP"
      },
      "source": [
        "Now turn that pivot element into a 1!"
      ]
    },
    {
      "cell_type": "code",
      "metadata": {
        "id": "ucaMroU8FFgd",
        "colab": {
          "base_uri": "https://localhost:8080/"
        },
        "outputId": "7c6ce4c9-0100-46ae-d501-2c792fa7e2fb"
      },
      "source": [
        "# after\n",
        "A[2,:] = Rational(1,2)*A[2,:]\n",
        "pprint(A) # check your work"
      ],
      "execution_count": null,
      "outputs": [
        {
          "output_type": "stream",
          "name": "stdout",
          "text": [
            "⎡ 1   0   -1  1  0   0   2 ⎤\n",
            "⎢                          ⎥\n",
            "⎢ 1   1   2   0  1   0   10⎥\n",
            "⎢                          ⎥\n",
            "⎢1/2  1   1   0  0  1/2  4 ⎥\n",
            "⎢                          ⎥\n",
            "⎣-6   -8  -4  0  0   0   0 ⎦\n"
          ]
        }
      ]
    },
    {
      "cell_type": "markdown",
      "metadata": {
        "id": "KheGpRQEG-Ih"
      },
      "source": [
        "You don't need to always run this code, but you will want to when there are decimals in your matrix and it's unclear how to simplify them."
      ]
    },
    {
      "cell_type": "code",
      "metadata": {
        "id": "5SgQYUaOLHto",
        "colab": {
          "base_uri": "https://localhost:8080/"
        },
        "outputId": "006d5faa-6016-4af9-9da2-870dc62a5993"
      },
      "source": [
        "# if it looks a little messy, try nsimplify\n",
        "# make sure you wrap it in a Matrix()...\n",
        "# otherwise you will get an 'immutable matrix' error\n",
        "A = Matrix(nsimplify(A, rational=True))\n",
        "pprint(A)"
      ],
      "execution_count": null,
      "outputs": [
        {
          "output_type": "stream",
          "name": "stdout",
          "text": [
            "⎡ 1   0   -1  1  0   0   2 ⎤\n",
            "⎢                          ⎥\n",
            "⎢ 1   1   2   0  1   0   10⎥\n",
            "⎢                          ⎥\n",
            "⎢1/2  1   1   0  0  1/2  4 ⎥\n",
            "⎢                          ⎥\n",
            "⎣-6   -8  -4  0  0   0   0 ⎦\n"
          ]
        }
      ]
    },
    {
      "cell_type": "code",
      "metadata": {
        "id": "tVKdzeyBivcK",
        "colab": {
          "base_uri": "https://localhost:8080/",
          "height": 124
        },
        "outputId": "731ff584-a239-43b6-8c0f-d0a5d1469efd"
      },
      "source": [
        "# make it pretty\n",
        "tmp = pd.DataFrame(np.array(A).astype(float))\n",
        "tmp.columns = ['y1', 'y2', 'y3', 's1', 's2','s3', 'b']\n",
        "tmp.index=['R0', 'R1', 'R2' , 'R3']\n",
        "tmp\n",
        "\n",
        "# highlight the pivot element\n",
        "idx_r = 2\n",
        "idx_c = 1\n",
        "\n",
        "tmp.style\\\n",
        ".apply(lambda x: ['background: lightblue' if x.name == 'y2' else '' for i in x])\\\n",
        ".apply(lambda x: ['background: lightblue' if x.name == 'R2' else '' for i in x], axis=1)\\\n",
        ".apply(styling_specific_cell, row_idx = idx_r, col_idx = idx_c, axis = None)"
      ],
      "execution_count": null,
      "outputs": [
        {
          "output_type": "execute_result",
          "data": {
            "text/html": [
              "<style  type=\"text/css\" >\n",
              "#T_82ece96a_1fd9_11ec_9b3e_0242ac1c0002row0_col1,#T_82ece96a_1fd9_11ec_9b3e_0242ac1c0002row1_col1,#T_82ece96a_1fd9_11ec_9b3e_0242ac1c0002row2_col0,#T_82ece96a_1fd9_11ec_9b3e_0242ac1c0002row2_col2,#T_82ece96a_1fd9_11ec_9b3e_0242ac1c0002row2_col3,#T_82ece96a_1fd9_11ec_9b3e_0242ac1c0002row2_col4,#T_82ece96a_1fd9_11ec_9b3e_0242ac1c0002row2_col5,#T_82ece96a_1fd9_11ec_9b3e_0242ac1c0002row2_col6,#T_82ece96a_1fd9_11ec_9b3e_0242ac1c0002row3_col1{\n",
              "            background:  lightblue;\n",
              "        }#T_82ece96a_1fd9_11ec_9b3e_0242ac1c0002row2_col1{\n",
              "            background:  lightblue;\n",
              "            background:  lightblue;\n",
              "            background-color:  yellow;\n",
              "             color:  red;\n",
              "        }</style><table id=\"T_82ece96a_1fd9_11ec_9b3e_0242ac1c0002\" ><thead>    <tr>        <th class=\"blank level0\" ></th>        <th class=\"col_heading level0 col0\" >y1</th>        <th class=\"col_heading level0 col1\" >y2</th>        <th class=\"col_heading level0 col2\" >y3</th>        <th class=\"col_heading level0 col3\" >s1</th>        <th class=\"col_heading level0 col4\" >s2</th>        <th class=\"col_heading level0 col5\" >s3</th>        <th class=\"col_heading level0 col6\" >b</th>    </tr></thead><tbody>\n",
              "                <tr>\n",
              "                        <th id=\"T_82ece96a_1fd9_11ec_9b3e_0242ac1c0002level0_row0\" class=\"row_heading level0 row0\" >R0</th>\n",
              "                        <td id=\"T_82ece96a_1fd9_11ec_9b3e_0242ac1c0002row0_col0\" class=\"data row0 col0\" >1.000000</td>\n",
              "                        <td id=\"T_82ece96a_1fd9_11ec_9b3e_0242ac1c0002row0_col1\" class=\"data row0 col1\" >0.000000</td>\n",
              "                        <td id=\"T_82ece96a_1fd9_11ec_9b3e_0242ac1c0002row0_col2\" class=\"data row0 col2\" >-1.000000</td>\n",
              "                        <td id=\"T_82ece96a_1fd9_11ec_9b3e_0242ac1c0002row0_col3\" class=\"data row0 col3\" >1.000000</td>\n",
              "                        <td id=\"T_82ece96a_1fd9_11ec_9b3e_0242ac1c0002row0_col4\" class=\"data row0 col4\" >0.000000</td>\n",
              "                        <td id=\"T_82ece96a_1fd9_11ec_9b3e_0242ac1c0002row0_col5\" class=\"data row0 col5\" >0.000000</td>\n",
              "                        <td id=\"T_82ece96a_1fd9_11ec_9b3e_0242ac1c0002row0_col6\" class=\"data row0 col6\" >2.000000</td>\n",
              "            </tr>\n",
              "            <tr>\n",
              "                        <th id=\"T_82ece96a_1fd9_11ec_9b3e_0242ac1c0002level0_row1\" class=\"row_heading level0 row1\" >R1</th>\n",
              "                        <td id=\"T_82ece96a_1fd9_11ec_9b3e_0242ac1c0002row1_col0\" class=\"data row1 col0\" >1.000000</td>\n",
              "                        <td id=\"T_82ece96a_1fd9_11ec_9b3e_0242ac1c0002row1_col1\" class=\"data row1 col1\" >1.000000</td>\n",
              "                        <td id=\"T_82ece96a_1fd9_11ec_9b3e_0242ac1c0002row1_col2\" class=\"data row1 col2\" >2.000000</td>\n",
              "                        <td id=\"T_82ece96a_1fd9_11ec_9b3e_0242ac1c0002row1_col3\" class=\"data row1 col3\" >0.000000</td>\n",
              "                        <td id=\"T_82ece96a_1fd9_11ec_9b3e_0242ac1c0002row1_col4\" class=\"data row1 col4\" >1.000000</td>\n",
              "                        <td id=\"T_82ece96a_1fd9_11ec_9b3e_0242ac1c0002row1_col5\" class=\"data row1 col5\" >0.000000</td>\n",
              "                        <td id=\"T_82ece96a_1fd9_11ec_9b3e_0242ac1c0002row1_col6\" class=\"data row1 col6\" >10.000000</td>\n",
              "            </tr>\n",
              "            <tr>\n",
              "                        <th id=\"T_82ece96a_1fd9_11ec_9b3e_0242ac1c0002level0_row2\" class=\"row_heading level0 row2\" >R2</th>\n",
              "                        <td id=\"T_82ece96a_1fd9_11ec_9b3e_0242ac1c0002row2_col0\" class=\"data row2 col0\" >0.500000</td>\n",
              "                        <td id=\"T_82ece96a_1fd9_11ec_9b3e_0242ac1c0002row2_col1\" class=\"data row2 col1\" >1.000000</td>\n",
              "                        <td id=\"T_82ece96a_1fd9_11ec_9b3e_0242ac1c0002row2_col2\" class=\"data row2 col2\" >1.000000</td>\n",
              "                        <td id=\"T_82ece96a_1fd9_11ec_9b3e_0242ac1c0002row2_col3\" class=\"data row2 col3\" >0.000000</td>\n",
              "                        <td id=\"T_82ece96a_1fd9_11ec_9b3e_0242ac1c0002row2_col4\" class=\"data row2 col4\" >0.000000</td>\n",
              "                        <td id=\"T_82ece96a_1fd9_11ec_9b3e_0242ac1c0002row2_col5\" class=\"data row2 col5\" >0.500000</td>\n",
              "                        <td id=\"T_82ece96a_1fd9_11ec_9b3e_0242ac1c0002row2_col6\" class=\"data row2 col6\" >4.000000</td>\n",
              "            </tr>\n",
              "            <tr>\n",
              "                        <th id=\"T_82ece96a_1fd9_11ec_9b3e_0242ac1c0002level0_row3\" class=\"row_heading level0 row3\" >R3</th>\n",
              "                        <td id=\"T_82ece96a_1fd9_11ec_9b3e_0242ac1c0002row3_col0\" class=\"data row3 col0\" >-6.000000</td>\n",
              "                        <td id=\"T_82ece96a_1fd9_11ec_9b3e_0242ac1c0002row3_col1\" class=\"data row3 col1\" >-8.000000</td>\n",
              "                        <td id=\"T_82ece96a_1fd9_11ec_9b3e_0242ac1c0002row3_col2\" class=\"data row3 col2\" >-4.000000</td>\n",
              "                        <td id=\"T_82ece96a_1fd9_11ec_9b3e_0242ac1c0002row3_col3\" class=\"data row3 col3\" >0.000000</td>\n",
              "                        <td id=\"T_82ece96a_1fd9_11ec_9b3e_0242ac1c0002row3_col4\" class=\"data row3 col4\" >0.000000</td>\n",
              "                        <td id=\"T_82ece96a_1fd9_11ec_9b3e_0242ac1c0002row3_col5\" class=\"data row3 col5\" >0.000000</td>\n",
              "                        <td id=\"T_82ece96a_1fd9_11ec_9b3e_0242ac1c0002row3_col6\" class=\"data row3 col6\" >0.000000</td>\n",
              "            </tr>\n",
              "    </tbody></table>"
            ],
            "text/plain": [
              "<pandas.io.formats.style.Styler at 0x7f0627323210>"
            ]
          },
          "metadata": {},
          "execution_count": 94
        }
      ]
    },
    {
      "cell_type": "markdown",
      "metadata": {
        "id": "C8ItobZDFs74"
      },
      "source": [
        "## Use GJ elimination to turn all other values above and below pivot element into 0s."
      ]
    },
    {
      "cell_type": "markdown",
      "metadata": {
        "id": "DTThUVXaILDb"
      },
      "source": [
        "Great! Now we need to get rid of the $-8$ that is below the pivot element.\n",
        "\n",
        "Leave the row of interest ($R0$ and $R1$) as-is, and then add multiples of $R2$ (the row with the pivot element.)"
      ]
    },
    {
      "cell_type": "markdown",
      "metadata": {
        "id": "aZ1i4W_tF_Z4"
      },
      "source": [
        "### R3"
      ]
    },
    {
      "cell_type": "code",
      "metadata": {
        "id": "IGfHB6NnIWBG",
        "colab": {
          "base_uri": "https://localhost:8080/"
        },
        "outputId": "429a0cb9-a5f5-4236-aaaa-e4c7edea8a8c"
      },
      "source": [
        "# R3 = R3 + 8*R2\n",
        "A[3,:] = A[3,:] + 8*A[2,:]\n",
        "\n",
        "pprint(A)"
      ],
      "execution_count": null,
      "outputs": [
        {
          "output_type": "stream",
          "name": "stdout",
          "text": [
            "⎡ 1   0  -1  1  0   0   2 ⎤\n",
            "⎢                         ⎥\n",
            "⎢ 1   1  2   0  1   0   10⎥\n",
            "⎢                         ⎥\n",
            "⎢1/2  1  1   0  0  1/2  4 ⎥\n",
            "⎢                         ⎥\n",
            "⎣-2   0  4   0  0   4   32⎦\n"
          ]
        }
      ]
    },
    {
      "cell_type": "markdown",
      "metadata": {
        "id": "-7OwHtT1GBan"
      },
      "source": [
        "### R1"
      ]
    },
    {
      "cell_type": "code",
      "metadata": {
        "id": "WoyR3o31trP6",
        "colab": {
          "base_uri": "https://localhost:8080/"
        },
        "outputId": "19c15c68-f9bc-425a-93eb-2e453b612b80"
      },
      "source": [
        "#R1 = R1 - R2\n",
        "A[1,:] = A[1,:] - A[2,:]\n",
        "\n",
        "pprint(A)"
      ],
      "execution_count": null,
      "outputs": [
        {
          "output_type": "stream",
          "name": "stdout",
          "text": [
            "⎡ 1   0  -1  1  0   0    2 ⎤\n",
            "⎢                          ⎥\n",
            "⎢1/2  0  1   0  1  -1/2  6 ⎥\n",
            "⎢                          ⎥\n",
            "⎢1/2  1  1   0  0  1/2   4 ⎥\n",
            "⎢                          ⎥\n",
            "⎣-2   0  4   0  0   4    32⎦\n"
          ]
        }
      ]
    },
    {
      "cell_type": "code",
      "metadata": {
        "id": "22EqLa58jGK6",
        "colab": {
          "base_uri": "https://localhost:8080/",
          "height": 124
        },
        "outputId": "366b335a-b92b-467f-be49-3aae45c25035"
      },
      "source": [
        "# make it pretty\n",
        "tmp = pd.DataFrame(np.array(A).astype(float))\n",
        "tmp.columns = ['y1', 'y2', 'y3', 's1', 's2','s3', 'b']\n",
        "tmp.index=['R0', 'R1', 'R2' , 'R3']\n",
        "tmp\n",
        "\n",
        "# highlight the pivot element\n",
        "idx_r = 2\n",
        "idx_c = 1\n",
        "\n",
        "tmp.style\\\n",
        ".apply(lambda x: ['background: lightblue' if x.name == 'y2' else '' for i in x])\\\n",
        ".apply(lambda x: ['background: lightblue' if x.name == 'R2' else '' for i in x], axis=1)\\\n",
        ".apply(styling_specific_cell, row_idx = idx_r, col_idx = idx_c, axis = None)"
      ],
      "execution_count": null,
      "outputs": [
        {
          "output_type": "execute_result",
          "data": {
            "text/html": [
              "<style  type=\"text/css\" >\n",
              "#T_82f890c6_1fd9_11ec_9b3e_0242ac1c0002row0_col1,#T_82f890c6_1fd9_11ec_9b3e_0242ac1c0002row1_col1,#T_82f890c6_1fd9_11ec_9b3e_0242ac1c0002row2_col0,#T_82f890c6_1fd9_11ec_9b3e_0242ac1c0002row2_col2,#T_82f890c6_1fd9_11ec_9b3e_0242ac1c0002row2_col3,#T_82f890c6_1fd9_11ec_9b3e_0242ac1c0002row2_col4,#T_82f890c6_1fd9_11ec_9b3e_0242ac1c0002row2_col5,#T_82f890c6_1fd9_11ec_9b3e_0242ac1c0002row2_col6,#T_82f890c6_1fd9_11ec_9b3e_0242ac1c0002row3_col1{\n",
              "            background:  lightblue;\n",
              "        }#T_82f890c6_1fd9_11ec_9b3e_0242ac1c0002row2_col1{\n",
              "            background:  lightblue;\n",
              "            background:  lightblue;\n",
              "            background-color:  yellow;\n",
              "             color:  red;\n",
              "        }</style><table id=\"T_82f890c6_1fd9_11ec_9b3e_0242ac1c0002\" ><thead>    <tr>        <th class=\"blank level0\" ></th>        <th class=\"col_heading level0 col0\" >y1</th>        <th class=\"col_heading level0 col1\" >y2</th>        <th class=\"col_heading level0 col2\" >y3</th>        <th class=\"col_heading level0 col3\" >s1</th>        <th class=\"col_heading level0 col4\" >s2</th>        <th class=\"col_heading level0 col5\" >s3</th>        <th class=\"col_heading level0 col6\" >b</th>    </tr></thead><tbody>\n",
              "                <tr>\n",
              "                        <th id=\"T_82f890c6_1fd9_11ec_9b3e_0242ac1c0002level0_row0\" class=\"row_heading level0 row0\" >R0</th>\n",
              "                        <td id=\"T_82f890c6_1fd9_11ec_9b3e_0242ac1c0002row0_col0\" class=\"data row0 col0\" >1.000000</td>\n",
              "                        <td id=\"T_82f890c6_1fd9_11ec_9b3e_0242ac1c0002row0_col1\" class=\"data row0 col1\" >0.000000</td>\n",
              "                        <td id=\"T_82f890c6_1fd9_11ec_9b3e_0242ac1c0002row0_col2\" class=\"data row0 col2\" >-1.000000</td>\n",
              "                        <td id=\"T_82f890c6_1fd9_11ec_9b3e_0242ac1c0002row0_col3\" class=\"data row0 col3\" >1.000000</td>\n",
              "                        <td id=\"T_82f890c6_1fd9_11ec_9b3e_0242ac1c0002row0_col4\" class=\"data row0 col4\" >0.000000</td>\n",
              "                        <td id=\"T_82f890c6_1fd9_11ec_9b3e_0242ac1c0002row0_col5\" class=\"data row0 col5\" >0.000000</td>\n",
              "                        <td id=\"T_82f890c6_1fd9_11ec_9b3e_0242ac1c0002row0_col6\" class=\"data row0 col6\" >2.000000</td>\n",
              "            </tr>\n",
              "            <tr>\n",
              "                        <th id=\"T_82f890c6_1fd9_11ec_9b3e_0242ac1c0002level0_row1\" class=\"row_heading level0 row1\" >R1</th>\n",
              "                        <td id=\"T_82f890c6_1fd9_11ec_9b3e_0242ac1c0002row1_col0\" class=\"data row1 col0\" >0.500000</td>\n",
              "                        <td id=\"T_82f890c6_1fd9_11ec_9b3e_0242ac1c0002row1_col1\" class=\"data row1 col1\" >0.000000</td>\n",
              "                        <td id=\"T_82f890c6_1fd9_11ec_9b3e_0242ac1c0002row1_col2\" class=\"data row1 col2\" >1.000000</td>\n",
              "                        <td id=\"T_82f890c6_1fd9_11ec_9b3e_0242ac1c0002row1_col3\" class=\"data row1 col3\" >0.000000</td>\n",
              "                        <td id=\"T_82f890c6_1fd9_11ec_9b3e_0242ac1c0002row1_col4\" class=\"data row1 col4\" >1.000000</td>\n",
              "                        <td id=\"T_82f890c6_1fd9_11ec_9b3e_0242ac1c0002row1_col5\" class=\"data row1 col5\" >-0.500000</td>\n",
              "                        <td id=\"T_82f890c6_1fd9_11ec_9b3e_0242ac1c0002row1_col6\" class=\"data row1 col6\" >6.000000</td>\n",
              "            </tr>\n",
              "            <tr>\n",
              "                        <th id=\"T_82f890c6_1fd9_11ec_9b3e_0242ac1c0002level0_row2\" class=\"row_heading level0 row2\" >R2</th>\n",
              "                        <td id=\"T_82f890c6_1fd9_11ec_9b3e_0242ac1c0002row2_col0\" class=\"data row2 col0\" >0.500000</td>\n",
              "                        <td id=\"T_82f890c6_1fd9_11ec_9b3e_0242ac1c0002row2_col1\" class=\"data row2 col1\" >1.000000</td>\n",
              "                        <td id=\"T_82f890c6_1fd9_11ec_9b3e_0242ac1c0002row2_col2\" class=\"data row2 col2\" >1.000000</td>\n",
              "                        <td id=\"T_82f890c6_1fd9_11ec_9b3e_0242ac1c0002row2_col3\" class=\"data row2 col3\" >0.000000</td>\n",
              "                        <td id=\"T_82f890c6_1fd9_11ec_9b3e_0242ac1c0002row2_col4\" class=\"data row2 col4\" >0.000000</td>\n",
              "                        <td id=\"T_82f890c6_1fd9_11ec_9b3e_0242ac1c0002row2_col5\" class=\"data row2 col5\" >0.500000</td>\n",
              "                        <td id=\"T_82f890c6_1fd9_11ec_9b3e_0242ac1c0002row2_col6\" class=\"data row2 col6\" >4.000000</td>\n",
              "            </tr>\n",
              "            <tr>\n",
              "                        <th id=\"T_82f890c6_1fd9_11ec_9b3e_0242ac1c0002level0_row3\" class=\"row_heading level0 row3\" >R3</th>\n",
              "                        <td id=\"T_82f890c6_1fd9_11ec_9b3e_0242ac1c0002row3_col0\" class=\"data row3 col0\" >-2.000000</td>\n",
              "                        <td id=\"T_82f890c6_1fd9_11ec_9b3e_0242ac1c0002row3_col1\" class=\"data row3 col1\" >0.000000</td>\n",
              "                        <td id=\"T_82f890c6_1fd9_11ec_9b3e_0242ac1c0002row3_col2\" class=\"data row3 col2\" >4.000000</td>\n",
              "                        <td id=\"T_82f890c6_1fd9_11ec_9b3e_0242ac1c0002row3_col3\" class=\"data row3 col3\" >0.000000</td>\n",
              "                        <td id=\"T_82f890c6_1fd9_11ec_9b3e_0242ac1c0002row3_col4\" class=\"data row3 col4\" >0.000000</td>\n",
              "                        <td id=\"T_82f890c6_1fd9_11ec_9b3e_0242ac1c0002row3_col5\" class=\"data row3 col5\" >4.000000</td>\n",
              "                        <td id=\"T_82f890c6_1fd9_11ec_9b3e_0242ac1c0002row3_col6\" class=\"data row3 col6\" >32.000000</td>\n",
              "            </tr>\n",
              "    </tbody></table>"
            ],
            "text/plain": [
              "<pandas.io.formats.style.Styler at 0x7f062733a510>"
            ]
          },
          "metadata": {},
          "execution_count": 97
        }
      ]
    },
    {
      "cell_type": "markdown",
      "metadata": {
        "id": "ge5kC72vi-Zw"
      },
      "source": [
        "We have a '1' in the pivot element and '0's below thanks to Gauss-Jordan elimination. Great! \n",
        "\n",
        "That's all for the first pivot, check for negative values in the bottom row. If they exist (and they do...), you need to pivot again."
      ]
    },
    {
      "cell_type": "markdown",
      "metadata": {
        "id": "2BEjPq3DGIdY"
      },
      "source": [
        "## Check your work - feasible solution?\n",
        "Yes there is, but we will read it off in a minute."
      ]
    },
    {
      "cell_type": "markdown",
      "metadata": {
        "id": "DTv1F9vYGUPY"
      },
      "source": [
        "### Any negative numbers in the bottom row?\n",
        "Yes, there is still a $-2$ in the bottom row. We have to keep going."
      ]
    },
    {
      "cell_type": "markdown",
      "metadata": {
        "id": "q9f6DJrgMN46"
      },
      "source": [
        "# Pivot #2"
      ]
    },
    {
      "cell_type": "markdown",
      "metadata": {
        "id": "eXsjqfRnGkaa"
      },
      "source": [
        "## Entering Variable\n",
        "OK! We checked and still see that there are negative elements in the bottom row. We see a $-2$ in the bottom row, so $y_1$ will become our **entering variable**.\n",
        " "
      ]
    },
    {
      "cell_type": "code",
      "metadata": {
        "colab": {
          "base_uri": "https://localhost:8080/",
          "height": 124
        },
        "id": "OIU0inwpGwII",
        "outputId": "73e205f2-1cef-4e51-ece5-26c929906281"
      },
      "source": [
        "# make it pretty\n",
        "tmp = pd.DataFrame(np.array(A).astype(float))\n",
        "tmp.columns = ['y1', 'y2', 'y3', 's1', 's2','s3', 'b']\n",
        "tmp.index=['R0', 'R1', 'R2' , 'R3']\n",
        "tmp\n",
        "\n",
        "\n",
        "tmp.style\\\n",
        ".apply(lambda x: ['background: lightblue' if x.name == 'y1' else '' for i in x])"
      ],
      "execution_count": null,
      "outputs": [
        {
          "output_type": "execute_result",
          "data": {
            "text/html": [
              "<style  type=\"text/css\" >\n",
              "#T_82fcea54_1fd9_11ec_9b3e_0242ac1c0002row0_col0,#T_82fcea54_1fd9_11ec_9b3e_0242ac1c0002row1_col0,#T_82fcea54_1fd9_11ec_9b3e_0242ac1c0002row2_col0,#T_82fcea54_1fd9_11ec_9b3e_0242ac1c0002row3_col0{\n",
              "            background:  lightblue;\n",
              "        }</style><table id=\"T_82fcea54_1fd9_11ec_9b3e_0242ac1c0002\" ><thead>    <tr>        <th class=\"blank level0\" ></th>        <th class=\"col_heading level0 col0\" >y1</th>        <th class=\"col_heading level0 col1\" >y2</th>        <th class=\"col_heading level0 col2\" >y3</th>        <th class=\"col_heading level0 col3\" >s1</th>        <th class=\"col_heading level0 col4\" >s2</th>        <th class=\"col_heading level0 col5\" >s3</th>        <th class=\"col_heading level0 col6\" >b</th>    </tr></thead><tbody>\n",
              "                <tr>\n",
              "                        <th id=\"T_82fcea54_1fd9_11ec_9b3e_0242ac1c0002level0_row0\" class=\"row_heading level0 row0\" >R0</th>\n",
              "                        <td id=\"T_82fcea54_1fd9_11ec_9b3e_0242ac1c0002row0_col0\" class=\"data row0 col0\" >1.000000</td>\n",
              "                        <td id=\"T_82fcea54_1fd9_11ec_9b3e_0242ac1c0002row0_col1\" class=\"data row0 col1\" >0.000000</td>\n",
              "                        <td id=\"T_82fcea54_1fd9_11ec_9b3e_0242ac1c0002row0_col2\" class=\"data row0 col2\" >-1.000000</td>\n",
              "                        <td id=\"T_82fcea54_1fd9_11ec_9b3e_0242ac1c0002row0_col3\" class=\"data row0 col3\" >1.000000</td>\n",
              "                        <td id=\"T_82fcea54_1fd9_11ec_9b3e_0242ac1c0002row0_col4\" class=\"data row0 col4\" >0.000000</td>\n",
              "                        <td id=\"T_82fcea54_1fd9_11ec_9b3e_0242ac1c0002row0_col5\" class=\"data row0 col5\" >0.000000</td>\n",
              "                        <td id=\"T_82fcea54_1fd9_11ec_9b3e_0242ac1c0002row0_col6\" class=\"data row0 col6\" >2.000000</td>\n",
              "            </tr>\n",
              "            <tr>\n",
              "                        <th id=\"T_82fcea54_1fd9_11ec_9b3e_0242ac1c0002level0_row1\" class=\"row_heading level0 row1\" >R1</th>\n",
              "                        <td id=\"T_82fcea54_1fd9_11ec_9b3e_0242ac1c0002row1_col0\" class=\"data row1 col0\" >0.500000</td>\n",
              "                        <td id=\"T_82fcea54_1fd9_11ec_9b3e_0242ac1c0002row1_col1\" class=\"data row1 col1\" >0.000000</td>\n",
              "                        <td id=\"T_82fcea54_1fd9_11ec_9b3e_0242ac1c0002row1_col2\" class=\"data row1 col2\" >1.000000</td>\n",
              "                        <td id=\"T_82fcea54_1fd9_11ec_9b3e_0242ac1c0002row1_col3\" class=\"data row1 col3\" >0.000000</td>\n",
              "                        <td id=\"T_82fcea54_1fd9_11ec_9b3e_0242ac1c0002row1_col4\" class=\"data row1 col4\" >1.000000</td>\n",
              "                        <td id=\"T_82fcea54_1fd9_11ec_9b3e_0242ac1c0002row1_col5\" class=\"data row1 col5\" >-0.500000</td>\n",
              "                        <td id=\"T_82fcea54_1fd9_11ec_9b3e_0242ac1c0002row1_col6\" class=\"data row1 col6\" >6.000000</td>\n",
              "            </tr>\n",
              "            <tr>\n",
              "                        <th id=\"T_82fcea54_1fd9_11ec_9b3e_0242ac1c0002level0_row2\" class=\"row_heading level0 row2\" >R2</th>\n",
              "                        <td id=\"T_82fcea54_1fd9_11ec_9b3e_0242ac1c0002row2_col0\" class=\"data row2 col0\" >0.500000</td>\n",
              "                        <td id=\"T_82fcea54_1fd9_11ec_9b3e_0242ac1c0002row2_col1\" class=\"data row2 col1\" >1.000000</td>\n",
              "                        <td id=\"T_82fcea54_1fd9_11ec_9b3e_0242ac1c0002row2_col2\" class=\"data row2 col2\" >1.000000</td>\n",
              "                        <td id=\"T_82fcea54_1fd9_11ec_9b3e_0242ac1c0002row2_col3\" class=\"data row2 col3\" >0.000000</td>\n",
              "                        <td id=\"T_82fcea54_1fd9_11ec_9b3e_0242ac1c0002row2_col4\" class=\"data row2 col4\" >0.000000</td>\n",
              "                        <td id=\"T_82fcea54_1fd9_11ec_9b3e_0242ac1c0002row2_col5\" class=\"data row2 col5\" >0.500000</td>\n",
              "                        <td id=\"T_82fcea54_1fd9_11ec_9b3e_0242ac1c0002row2_col6\" class=\"data row2 col6\" >4.000000</td>\n",
              "            </tr>\n",
              "            <tr>\n",
              "                        <th id=\"T_82fcea54_1fd9_11ec_9b3e_0242ac1c0002level0_row3\" class=\"row_heading level0 row3\" >R3</th>\n",
              "                        <td id=\"T_82fcea54_1fd9_11ec_9b3e_0242ac1c0002row3_col0\" class=\"data row3 col0\" >-2.000000</td>\n",
              "                        <td id=\"T_82fcea54_1fd9_11ec_9b3e_0242ac1c0002row3_col1\" class=\"data row3 col1\" >0.000000</td>\n",
              "                        <td id=\"T_82fcea54_1fd9_11ec_9b3e_0242ac1c0002row3_col2\" class=\"data row3 col2\" >4.000000</td>\n",
              "                        <td id=\"T_82fcea54_1fd9_11ec_9b3e_0242ac1c0002row3_col3\" class=\"data row3 col3\" >0.000000</td>\n",
              "                        <td id=\"T_82fcea54_1fd9_11ec_9b3e_0242ac1c0002row3_col4\" class=\"data row3 col4\" >0.000000</td>\n",
              "                        <td id=\"T_82fcea54_1fd9_11ec_9b3e_0242ac1c0002row3_col5\" class=\"data row3 col5\" >4.000000</td>\n",
              "                        <td id=\"T_82fcea54_1fd9_11ec_9b3e_0242ac1c0002row3_col6\" class=\"data row3 col6\" >32.000000</td>\n",
              "            </tr>\n",
              "    </tbody></table>"
            ],
            "text/plain": [
              "<pandas.io.formats.style.Styler at 0x7f0627367ad0>"
            ]
          },
          "metadata": {},
          "execution_count": 98
        }
      ]
    },
    {
      "cell_type": "markdown",
      "metadata": {
        "id": "jcTY1baPGnni"
      },
      "source": [
        "## Departing Variable\n",
        "\n",
        "Our **departing variable** is going to be b/a..."
      ]
    },
    {
      "cell_type": "code",
      "metadata": {
        "id": "pbUjTfSZRDWg",
        "colab": {
          "base_uri": "https://localhost:8080/"
        },
        "outputId": "59851e84-9ef7-48f3-9f83-8bcfaa0b5e49"
      },
      "source": [
        "print(2/1) # R0 winner!\n",
        "print(6/.5) # R1\n",
        "print(4/.5) # R2\n"
      ],
      "execution_count": null,
      "outputs": [
        {
          "output_type": "stream",
          "name": "stdout",
          "text": [
            "2.0\n",
            "12.0\n",
            "8.0\n"
          ]
        }
      ]
    },
    {
      "cell_type": "code",
      "metadata": {
        "id": "HuL1msrWjcj_",
        "colab": {
          "base_uri": "https://localhost:8080/",
          "height": 124
        },
        "outputId": "654a5042-c14d-48f3-d184-fddb5aa4bf6c"
      },
      "source": [
        "# let's show the new entering and departing variables\n",
        "# make it pretty\n",
        "\n",
        "\n",
        "tmp = pd.DataFrame(np.array(A).astype(float))\n",
        "tmp.columns = ['y1', 'y2', 'y3', 's1', 's2','s3', 'b']\n",
        "tmp.index=['R0', 'R1', 'R2' , 'R3']\n",
        "tmp\n",
        "\n",
        "# highlight the pivot element\n",
        "idx_r = 0\n",
        "idx_c = 0\n",
        "\n",
        "tmp.style\\\n",
        ".apply(lambda x: ['background: lightblue' if x.name == 'y1' else '' for i in x])\\\n",
        ".apply(lambda x: ['background: lightblue' if x.name == 'R0' else '' for i in x], axis=1)\\\n",
        ".apply(styling_specific_cell, row_idx = idx_r, col_idx = idx_c, axis = None)\n",
        "\n"
      ],
      "execution_count": null,
      "outputs": [
        {
          "output_type": "execute_result",
          "data": {
            "text/html": [
              "<style  type=\"text/css\" >\n",
              "#T_830573e0_1fd9_11ec_9b3e_0242ac1c0002row0_col0{\n",
              "            background:  lightblue;\n",
              "            background:  lightblue;\n",
              "            background-color:  yellow;\n",
              "             color:  red;\n",
              "        }#T_830573e0_1fd9_11ec_9b3e_0242ac1c0002row0_col1,#T_830573e0_1fd9_11ec_9b3e_0242ac1c0002row0_col2,#T_830573e0_1fd9_11ec_9b3e_0242ac1c0002row0_col3,#T_830573e0_1fd9_11ec_9b3e_0242ac1c0002row0_col4,#T_830573e0_1fd9_11ec_9b3e_0242ac1c0002row0_col5,#T_830573e0_1fd9_11ec_9b3e_0242ac1c0002row0_col6,#T_830573e0_1fd9_11ec_9b3e_0242ac1c0002row1_col0,#T_830573e0_1fd9_11ec_9b3e_0242ac1c0002row2_col0,#T_830573e0_1fd9_11ec_9b3e_0242ac1c0002row3_col0{\n",
              "            background:  lightblue;\n",
              "        }</style><table id=\"T_830573e0_1fd9_11ec_9b3e_0242ac1c0002\" ><thead>    <tr>        <th class=\"blank level0\" ></th>        <th class=\"col_heading level0 col0\" >y1</th>        <th class=\"col_heading level0 col1\" >y2</th>        <th class=\"col_heading level0 col2\" >y3</th>        <th class=\"col_heading level0 col3\" >s1</th>        <th class=\"col_heading level0 col4\" >s2</th>        <th class=\"col_heading level0 col5\" >s3</th>        <th class=\"col_heading level0 col6\" >b</th>    </tr></thead><tbody>\n",
              "                <tr>\n",
              "                        <th id=\"T_830573e0_1fd9_11ec_9b3e_0242ac1c0002level0_row0\" class=\"row_heading level0 row0\" >R0</th>\n",
              "                        <td id=\"T_830573e0_1fd9_11ec_9b3e_0242ac1c0002row0_col0\" class=\"data row0 col0\" >1.000000</td>\n",
              "                        <td id=\"T_830573e0_1fd9_11ec_9b3e_0242ac1c0002row0_col1\" class=\"data row0 col1\" >0.000000</td>\n",
              "                        <td id=\"T_830573e0_1fd9_11ec_9b3e_0242ac1c0002row0_col2\" class=\"data row0 col2\" >-1.000000</td>\n",
              "                        <td id=\"T_830573e0_1fd9_11ec_9b3e_0242ac1c0002row0_col3\" class=\"data row0 col3\" >1.000000</td>\n",
              "                        <td id=\"T_830573e0_1fd9_11ec_9b3e_0242ac1c0002row0_col4\" class=\"data row0 col4\" >0.000000</td>\n",
              "                        <td id=\"T_830573e0_1fd9_11ec_9b3e_0242ac1c0002row0_col5\" class=\"data row0 col5\" >0.000000</td>\n",
              "                        <td id=\"T_830573e0_1fd9_11ec_9b3e_0242ac1c0002row0_col6\" class=\"data row0 col6\" >2.000000</td>\n",
              "            </tr>\n",
              "            <tr>\n",
              "                        <th id=\"T_830573e0_1fd9_11ec_9b3e_0242ac1c0002level0_row1\" class=\"row_heading level0 row1\" >R1</th>\n",
              "                        <td id=\"T_830573e0_1fd9_11ec_9b3e_0242ac1c0002row1_col0\" class=\"data row1 col0\" >0.500000</td>\n",
              "                        <td id=\"T_830573e0_1fd9_11ec_9b3e_0242ac1c0002row1_col1\" class=\"data row1 col1\" >0.000000</td>\n",
              "                        <td id=\"T_830573e0_1fd9_11ec_9b3e_0242ac1c0002row1_col2\" class=\"data row1 col2\" >1.000000</td>\n",
              "                        <td id=\"T_830573e0_1fd9_11ec_9b3e_0242ac1c0002row1_col3\" class=\"data row1 col3\" >0.000000</td>\n",
              "                        <td id=\"T_830573e0_1fd9_11ec_9b3e_0242ac1c0002row1_col4\" class=\"data row1 col4\" >1.000000</td>\n",
              "                        <td id=\"T_830573e0_1fd9_11ec_9b3e_0242ac1c0002row1_col5\" class=\"data row1 col5\" >-0.500000</td>\n",
              "                        <td id=\"T_830573e0_1fd9_11ec_9b3e_0242ac1c0002row1_col6\" class=\"data row1 col6\" >6.000000</td>\n",
              "            </tr>\n",
              "            <tr>\n",
              "                        <th id=\"T_830573e0_1fd9_11ec_9b3e_0242ac1c0002level0_row2\" class=\"row_heading level0 row2\" >R2</th>\n",
              "                        <td id=\"T_830573e0_1fd9_11ec_9b3e_0242ac1c0002row2_col0\" class=\"data row2 col0\" >0.500000</td>\n",
              "                        <td id=\"T_830573e0_1fd9_11ec_9b3e_0242ac1c0002row2_col1\" class=\"data row2 col1\" >1.000000</td>\n",
              "                        <td id=\"T_830573e0_1fd9_11ec_9b3e_0242ac1c0002row2_col2\" class=\"data row2 col2\" >1.000000</td>\n",
              "                        <td id=\"T_830573e0_1fd9_11ec_9b3e_0242ac1c0002row2_col3\" class=\"data row2 col3\" >0.000000</td>\n",
              "                        <td id=\"T_830573e0_1fd9_11ec_9b3e_0242ac1c0002row2_col4\" class=\"data row2 col4\" >0.000000</td>\n",
              "                        <td id=\"T_830573e0_1fd9_11ec_9b3e_0242ac1c0002row2_col5\" class=\"data row2 col5\" >0.500000</td>\n",
              "                        <td id=\"T_830573e0_1fd9_11ec_9b3e_0242ac1c0002row2_col6\" class=\"data row2 col6\" >4.000000</td>\n",
              "            </tr>\n",
              "            <tr>\n",
              "                        <th id=\"T_830573e0_1fd9_11ec_9b3e_0242ac1c0002level0_row3\" class=\"row_heading level0 row3\" >R3</th>\n",
              "                        <td id=\"T_830573e0_1fd9_11ec_9b3e_0242ac1c0002row3_col0\" class=\"data row3 col0\" >-2.000000</td>\n",
              "                        <td id=\"T_830573e0_1fd9_11ec_9b3e_0242ac1c0002row3_col1\" class=\"data row3 col1\" >0.000000</td>\n",
              "                        <td id=\"T_830573e0_1fd9_11ec_9b3e_0242ac1c0002row3_col2\" class=\"data row3 col2\" >4.000000</td>\n",
              "                        <td id=\"T_830573e0_1fd9_11ec_9b3e_0242ac1c0002row3_col3\" class=\"data row3 col3\" >0.000000</td>\n",
              "                        <td id=\"T_830573e0_1fd9_11ec_9b3e_0242ac1c0002row3_col4\" class=\"data row3 col4\" >0.000000</td>\n",
              "                        <td id=\"T_830573e0_1fd9_11ec_9b3e_0242ac1c0002row3_col5\" class=\"data row3 col5\" >4.000000</td>\n",
              "                        <td id=\"T_830573e0_1fd9_11ec_9b3e_0242ac1c0002row3_col6\" class=\"data row3 col6\" >32.000000</td>\n",
              "            </tr>\n",
              "    </tbody></table>"
            ],
            "text/plain": [
              "<pandas.io.formats.style.Styler at 0x7f06273673d0>"
            ]
          },
          "metadata": {},
          "execution_count": 100
        }
      ]
    },
    {
      "cell_type": "markdown",
      "metadata": {
        "id": "KsZtdq8uHVVw"
      },
      "source": [
        "## Turn the pivot element into a '1'"
      ]
    },
    {
      "cell_type": "markdown",
      "metadata": {
        "id": "d3evP4QhRleM"
      },
      "source": [
        "And it already is!"
      ]
    },
    {
      "cell_type": "code",
      "metadata": {
        "id": "FsWGHRjN8SXs",
        "colab": {
          "base_uri": "https://localhost:8080/"
        },
        "outputId": "f1b32e7e-3795-4456-c15c-6bc10fb98906"
      },
      "source": [
        "pprint(A)"
      ],
      "execution_count": null,
      "outputs": [
        {
          "output_type": "stream",
          "name": "stdout",
          "text": [
            "⎡ 1   0  -1  1  0   0    2 ⎤\n",
            "⎢                          ⎥\n",
            "⎢1/2  0  1   0  1  -1/2  6 ⎥\n",
            "⎢                          ⎥\n",
            "⎢1/2  1  1   0  0  1/2   4 ⎥\n",
            "⎢                          ⎥\n",
            "⎣-2   0  4   0  0   4    32⎦\n"
          ]
        }
      ]
    },
    {
      "cell_type": "markdown",
      "metadata": {
        "id": "YvwW3YmuHdBg"
      },
      "source": [
        "## Use GJ elimination to turn all other values above and below the pivot element into 0s."
      ]
    },
    {
      "cell_type": "code",
      "metadata": {
        "id": "clw07zfiRx7t",
        "colab": {
          "base_uri": "https://localhost:8080/"
        },
        "outputId": "2dc426a4-2984-4680-a0d8-1ca9041bdb75"
      },
      "source": [
        "# looks good! now we need to get rid of the\n",
        "# 1/2 in R1\n",
        "# 1/2 in R2\n",
        "# -2 in R3\n",
        "\n",
        "# remember, leave the row of interest as-is\n",
        "# and add multiples of the row with the pivot element\n",
        "\n",
        "# fix second row\n",
        "A[1,:] = A[1,:] - Rational(1,2)*A[0,:]\n",
        "# fix third row\n",
        "A[2,:] = A[2,:] - Rational(1,2)*A[0,:]\n",
        "# fix fourth row\n",
        "A[3,:] = A[3,:] + 2*A[0,:]\n",
        "\n",
        "# remember our titles\n",
        "pprint(A) # WOOF! let's make it look nicer"
      ],
      "execution_count": null,
      "outputs": [
        {
          "output_type": "stream",
          "name": "stdout",
          "text": [
            "⎡1  0  -1    1    0   0    2 ⎤\n",
            "⎢                            ⎥\n",
            "⎢0  0  3/2  -1/2  1  -1/2  5 ⎥\n",
            "⎢                            ⎥\n",
            "⎢0  1  3/2  -1/2  0  1/2   3 ⎥\n",
            "⎢                            ⎥\n",
            "⎣0  0   2    2    0   4    36⎦\n"
          ]
        }
      ]
    },
    {
      "cell_type": "markdown",
      "metadata": {
        "id": "raqWhHNwHoDJ"
      },
      "source": [
        "## Check your work - feasible solution?\n",
        "Yes, but wait a second for how to read it off!"
      ]
    },
    {
      "cell_type": "markdown",
      "metadata": {
        "id": "jCZhSQmFlOaa"
      },
      "source": [
        "### Any negative values in bottom row?\n",
        "Let's take a look at what we did. Are there any negative values in the bottom row... nope! You are done."
      ]
    },
    {
      "cell_type": "code",
      "metadata": {
        "id": "qf_3FgVtlJ8h",
        "colab": {
          "base_uri": "https://localhost:8080/",
          "height": 124
        },
        "outputId": "c93a4e34-192d-4b8c-b67c-0e54d10aaae9"
      },
      "source": [
        "# let's show the new entering and departing variables\n",
        "# make it pretty\n",
        "\n",
        "\n",
        "tmp = pd.DataFrame(np.array(A).astype(float))\n",
        "tmp.columns = ['y1', 'y2', 'y3', 's1', 's2','s3', 'b']\n",
        "tmp.index=['R0', 'R1', 'R2' , 'R3']\n",
        "tmp\n",
        "\n",
        "# highlight the pivot element\n",
        "idx_r = 0\n",
        "idx_c = 0\n",
        "\n",
        "tmp.style\\\n",
        ".apply(lambda x: ['background: lightblue' if x.name == 'y1' else '' for i in x])\\\n",
        ".apply(lambda x: ['background: lightblue' if x.name == 'R0' else '' for i in x], axis=1)\\\n",
        ".apply(styling_specific_cell, row_idx = idx_r, col_idx = idx_c, axis = None)\n"
      ],
      "execution_count": null,
      "outputs": [
        {
          "output_type": "execute_result",
          "data": {
            "text/html": [
              "<style  type=\"text/css\" >\n",
              "#T_831521aa_1fd9_11ec_9b3e_0242ac1c0002row0_col0{\n",
              "            background:  lightblue;\n",
              "            background:  lightblue;\n",
              "            background-color:  yellow;\n",
              "             color:  red;\n",
              "        }#T_831521aa_1fd9_11ec_9b3e_0242ac1c0002row0_col1,#T_831521aa_1fd9_11ec_9b3e_0242ac1c0002row0_col2,#T_831521aa_1fd9_11ec_9b3e_0242ac1c0002row0_col3,#T_831521aa_1fd9_11ec_9b3e_0242ac1c0002row0_col4,#T_831521aa_1fd9_11ec_9b3e_0242ac1c0002row0_col5,#T_831521aa_1fd9_11ec_9b3e_0242ac1c0002row0_col6,#T_831521aa_1fd9_11ec_9b3e_0242ac1c0002row1_col0,#T_831521aa_1fd9_11ec_9b3e_0242ac1c0002row2_col0,#T_831521aa_1fd9_11ec_9b3e_0242ac1c0002row3_col0{\n",
              "            background:  lightblue;\n",
              "        }</style><table id=\"T_831521aa_1fd9_11ec_9b3e_0242ac1c0002\" ><thead>    <tr>        <th class=\"blank level0\" ></th>        <th class=\"col_heading level0 col0\" >y1</th>        <th class=\"col_heading level0 col1\" >y2</th>        <th class=\"col_heading level0 col2\" >y3</th>        <th class=\"col_heading level0 col3\" >s1</th>        <th class=\"col_heading level0 col4\" >s2</th>        <th class=\"col_heading level0 col5\" >s3</th>        <th class=\"col_heading level0 col6\" >b</th>    </tr></thead><tbody>\n",
              "                <tr>\n",
              "                        <th id=\"T_831521aa_1fd9_11ec_9b3e_0242ac1c0002level0_row0\" class=\"row_heading level0 row0\" >R0</th>\n",
              "                        <td id=\"T_831521aa_1fd9_11ec_9b3e_0242ac1c0002row0_col0\" class=\"data row0 col0\" >1.000000</td>\n",
              "                        <td id=\"T_831521aa_1fd9_11ec_9b3e_0242ac1c0002row0_col1\" class=\"data row0 col1\" >0.000000</td>\n",
              "                        <td id=\"T_831521aa_1fd9_11ec_9b3e_0242ac1c0002row0_col2\" class=\"data row0 col2\" >-1.000000</td>\n",
              "                        <td id=\"T_831521aa_1fd9_11ec_9b3e_0242ac1c0002row0_col3\" class=\"data row0 col3\" >1.000000</td>\n",
              "                        <td id=\"T_831521aa_1fd9_11ec_9b3e_0242ac1c0002row0_col4\" class=\"data row0 col4\" >0.000000</td>\n",
              "                        <td id=\"T_831521aa_1fd9_11ec_9b3e_0242ac1c0002row0_col5\" class=\"data row0 col5\" >0.000000</td>\n",
              "                        <td id=\"T_831521aa_1fd9_11ec_9b3e_0242ac1c0002row0_col6\" class=\"data row0 col6\" >2.000000</td>\n",
              "            </tr>\n",
              "            <tr>\n",
              "                        <th id=\"T_831521aa_1fd9_11ec_9b3e_0242ac1c0002level0_row1\" class=\"row_heading level0 row1\" >R1</th>\n",
              "                        <td id=\"T_831521aa_1fd9_11ec_9b3e_0242ac1c0002row1_col0\" class=\"data row1 col0\" >0.000000</td>\n",
              "                        <td id=\"T_831521aa_1fd9_11ec_9b3e_0242ac1c0002row1_col1\" class=\"data row1 col1\" >0.000000</td>\n",
              "                        <td id=\"T_831521aa_1fd9_11ec_9b3e_0242ac1c0002row1_col2\" class=\"data row1 col2\" >1.500000</td>\n",
              "                        <td id=\"T_831521aa_1fd9_11ec_9b3e_0242ac1c0002row1_col3\" class=\"data row1 col3\" >-0.500000</td>\n",
              "                        <td id=\"T_831521aa_1fd9_11ec_9b3e_0242ac1c0002row1_col4\" class=\"data row1 col4\" >1.000000</td>\n",
              "                        <td id=\"T_831521aa_1fd9_11ec_9b3e_0242ac1c0002row1_col5\" class=\"data row1 col5\" >-0.500000</td>\n",
              "                        <td id=\"T_831521aa_1fd9_11ec_9b3e_0242ac1c0002row1_col6\" class=\"data row1 col6\" >5.000000</td>\n",
              "            </tr>\n",
              "            <tr>\n",
              "                        <th id=\"T_831521aa_1fd9_11ec_9b3e_0242ac1c0002level0_row2\" class=\"row_heading level0 row2\" >R2</th>\n",
              "                        <td id=\"T_831521aa_1fd9_11ec_9b3e_0242ac1c0002row2_col0\" class=\"data row2 col0\" >0.000000</td>\n",
              "                        <td id=\"T_831521aa_1fd9_11ec_9b3e_0242ac1c0002row2_col1\" class=\"data row2 col1\" >1.000000</td>\n",
              "                        <td id=\"T_831521aa_1fd9_11ec_9b3e_0242ac1c0002row2_col2\" class=\"data row2 col2\" >1.500000</td>\n",
              "                        <td id=\"T_831521aa_1fd9_11ec_9b3e_0242ac1c0002row2_col3\" class=\"data row2 col3\" >-0.500000</td>\n",
              "                        <td id=\"T_831521aa_1fd9_11ec_9b3e_0242ac1c0002row2_col4\" class=\"data row2 col4\" >0.000000</td>\n",
              "                        <td id=\"T_831521aa_1fd9_11ec_9b3e_0242ac1c0002row2_col5\" class=\"data row2 col5\" >0.500000</td>\n",
              "                        <td id=\"T_831521aa_1fd9_11ec_9b3e_0242ac1c0002row2_col6\" class=\"data row2 col6\" >3.000000</td>\n",
              "            </tr>\n",
              "            <tr>\n",
              "                        <th id=\"T_831521aa_1fd9_11ec_9b3e_0242ac1c0002level0_row3\" class=\"row_heading level0 row3\" >R3</th>\n",
              "                        <td id=\"T_831521aa_1fd9_11ec_9b3e_0242ac1c0002row3_col0\" class=\"data row3 col0\" >0.000000</td>\n",
              "                        <td id=\"T_831521aa_1fd9_11ec_9b3e_0242ac1c0002row3_col1\" class=\"data row3 col1\" >0.000000</td>\n",
              "                        <td id=\"T_831521aa_1fd9_11ec_9b3e_0242ac1c0002row3_col2\" class=\"data row3 col2\" >2.000000</td>\n",
              "                        <td id=\"T_831521aa_1fd9_11ec_9b3e_0242ac1c0002row3_col3\" class=\"data row3 col3\" >2.000000</td>\n",
              "                        <td id=\"T_831521aa_1fd9_11ec_9b3e_0242ac1c0002row3_col4\" class=\"data row3 col4\" >0.000000</td>\n",
              "                        <td id=\"T_831521aa_1fd9_11ec_9b3e_0242ac1c0002row3_col5\" class=\"data row3 col5\" >4.000000</td>\n",
              "                        <td id=\"T_831521aa_1fd9_11ec_9b3e_0242ac1c0002row3_col6\" class=\"data row3 col6\" >36.000000</td>\n",
              "            </tr>\n",
              "    </tbody></table>"
            ],
            "text/plain": [
              "<pandas.io.formats.style.Styler at 0x7f06272ad6d0>"
            ]
          },
          "metadata": {},
          "execution_count": 103
        }
      ]
    },
    {
      "cell_type": "markdown",
      "metadata": {
        "id": "xvZMsr30T3l1"
      },
      "source": [
        "# Reading the tableau\n",
        "Do you see any negative pivot elements in the bottom? NOPE! So you are good to go. Time to read off the solution (be careful - it's different now!)\n",
        "\n",
        "The solutional of the dual maximization problem is $z = 36$. So, the minmum value of w is 36, and this occurs when the slack variables, $x_1 = 2$, $x_2 = 0$, and $x_3 = 4$.\n",
        "\n",
        "Now you read it by paying attention to your **slack variables!!**! We have to bring back our original objective function. \n",
        "\n",
        "$w = 2x_1 + 10x_2 + 8x_3$"
      ]
    },
    {
      "cell_type": "markdown",
      "metadata": {
        "id": "ECGZrMuaJqzR"
      },
      "source": [
        "$x_2 = 2$!"
      ]
    },
    {
      "cell_type": "code",
      "metadata": {
        "colab": {
          "base_uri": "https://localhost:8080/",
          "height": 124
        },
        "id": "UQoi6yfSJMIZ",
        "outputId": "93fe3a4a-c2a6-4f87-f781-44c82351d83f"
      },
      "source": [
        "# highlight the pivot element\n",
        "# s1 (x1)\n",
        "idx_r = 3\n",
        "idx_c = 3\n",
        "\n",
        "tmp.style\\\n",
        ".apply(styling_specific_cell, row_idx = idx_r, col_idx = idx_c, axis = None)"
      ],
      "execution_count": null,
      "outputs": [
        {
          "output_type": "execute_result",
          "data": {
            "text/html": [
              "<style  type=\"text/css\" >\n",
              "#T_831925b6_1fd9_11ec_9b3e_0242ac1c0002row3_col3{\n",
              "            background-color:  yellow;\n",
              "             color:  red;\n",
              "        }</style><table id=\"T_831925b6_1fd9_11ec_9b3e_0242ac1c0002\" ><thead>    <tr>        <th class=\"blank level0\" ></th>        <th class=\"col_heading level0 col0\" >y1</th>        <th class=\"col_heading level0 col1\" >y2</th>        <th class=\"col_heading level0 col2\" >y3</th>        <th class=\"col_heading level0 col3\" >s1</th>        <th class=\"col_heading level0 col4\" >s2</th>        <th class=\"col_heading level0 col5\" >s3</th>        <th class=\"col_heading level0 col6\" >b</th>    </tr></thead><tbody>\n",
              "                <tr>\n",
              "                        <th id=\"T_831925b6_1fd9_11ec_9b3e_0242ac1c0002level0_row0\" class=\"row_heading level0 row0\" >R0</th>\n",
              "                        <td id=\"T_831925b6_1fd9_11ec_9b3e_0242ac1c0002row0_col0\" class=\"data row0 col0\" >1.000000</td>\n",
              "                        <td id=\"T_831925b6_1fd9_11ec_9b3e_0242ac1c0002row0_col1\" class=\"data row0 col1\" >0.000000</td>\n",
              "                        <td id=\"T_831925b6_1fd9_11ec_9b3e_0242ac1c0002row0_col2\" class=\"data row0 col2\" >-1.000000</td>\n",
              "                        <td id=\"T_831925b6_1fd9_11ec_9b3e_0242ac1c0002row0_col3\" class=\"data row0 col3\" >1.000000</td>\n",
              "                        <td id=\"T_831925b6_1fd9_11ec_9b3e_0242ac1c0002row0_col4\" class=\"data row0 col4\" >0.000000</td>\n",
              "                        <td id=\"T_831925b6_1fd9_11ec_9b3e_0242ac1c0002row0_col5\" class=\"data row0 col5\" >0.000000</td>\n",
              "                        <td id=\"T_831925b6_1fd9_11ec_9b3e_0242ac1c0002row0_col6\" class=\"data row0 col6\" >2.000000</td>\n",
              "            </tr>\n",
              "            <tr>\n",
              "                        <th id=\"T_831925b6_1fd9_11ec_9b3e_0242ac1c0002level0_row1\" class=\"row_heading level0 row1\" >R1</th>\n",
              "                        <td id=\"T_831925b6_1fd9_11ec_9b3e_0242ac1c0002row1_col0\" class=\"data row1 col0\" >0.000000</td>\n",
              "                        <td id=\"T_831925b6_1fd9_11ec_9b3e_0242ac1c0002row1_col1\" class=\"data row1 col1\" >0.000000</td>\n",
              "                        <td id=\"T_831925b6_1fd9_11ec_9b3e_0242ac1c0002row1_col2\" class=\"data row1 col2\" >1.500000</td>\n",
              "                        <td id=\"T_831925b6_1fd9_11ec_9b3e_0242ac1c0002row1_col3\" class=\"data row1 col3\" >-0.500000</td>\n",
              "                        <td id=\"T_831925b6_1fd9_11ec_9b3e_0242ac1c0002row1_col4\" class=\"data row1 col4\" >1.000000</td>\n",
              "                        <td id=\"T_831925b6_1fd9_11ec_9b3e_0242ac1c0002row1_col5\" class=\"data row1 col5\" >-0.500000</td>\n",
              "                        <td id=\"T_831925b6_1fd9_11ec_9b3e_0242ac1c0002row1_col6\" class=\"data row1 col6\" >5.000000</td>\n",
              "            </tr>\n",
              "            <tr>\n",
              "                        <th id=\"T_831925b6_1fd9_11ec_9b3e_0242ac1c0002level0_row2\" class=\"row_heading level0 row2\" >R2</th>\n",
              "                        <td id=\"T_831925b6_1fd9_11ec_9b3e_0242ac1c0002row2_col0\" class=\"data row2 col0\" >0.000000</td>\n",
              "                        <td id=\"T_831925b6_1fd9_11ec_9b3e_0242ac1c0002row2_col1\" class=\"data row2 col1\" >1.000000</td>\n",
              "                        <td id=\"T_831925b6_1fd9_11ec_9b3e_0242ac1c0002row2_col2\" class=\"data row2 col2\" >1.500000</td>\n",
              "                        <td id=\"T_831925b6_1fd9_11ec_9b3e_0242ac1c0002row2_col3\" class=\"data row2 col3\" >-0.500000</td>\n",
              "                        <td id=\"T_831925b6_1fd9_11ec_9b3e_0242ac1c0002row2_col4\" class=\"data row2 col4\" >0.000000</td>\n",
              "                        <td id=\"T_831925b6_1fd9_11ec_9b3e_0242ac1c0002row2_col5\" class=\"data row2 col5\" >0.500000</td>\n",
              "                        <td id=\"T_831925b6_1fd9_11ec_9b3e_0242ac1c0002row2_col6\" class=\"data row2 col6\" >3.000000</td>\n",
              "            </tr>\n",
              "            <tr>\n",
              "                        <th id=\"T_831925b6_1fd9_11ec_9b3e_0242ac1c0002level0_row3\" class=\"row_heading level0 row3\" >R3</th>\n",
              "                        <td id=\"T_831925b6_1fd9_11ec_9b3e_0242ac1c0002row3_col0\" class=\"data row3 col0\" >0.000000</td>\n",
              "                        <td id=\"T_831925b6_1fd9_11ec_9b3e_0242ac1c0002row3_col1\" class=\"data row3 col1\" >0.000000</td>\n",
              "                        <td id=\"T_831925b6_1fd9_11ec_9b3e_0242ac1c0002row3_col2\" class=\"data row3 col2\" >2.000000</td>\n",
              "                        <td id=\"T_831925b6_1fd9_11ec_9b3e_0242ac1c0002row3_col3\" class=\"data row3 col3\" >2.000000</td>\n",
              "                        <td id=\"T_831925b6_1fd9_11ec_9b3e_0242ac1c0002row3_col4\" class=\"data row3 col4\" >0.000000</td>\n",
              "                        <td id=\"T_831925b6_1fd9_11ec_9b3e_0242ac1c0002row3_col5\" class=\"data row3 col5\" >4.000000</td>\n",
              "                        <td id=\"T_831925b6_1fd9_11ec_9b3e_0242ac1c0002row3_col6\" class=\"data row3 col6\" >36.000000</td>\n",
              "            </tr>\n",
              "    </tbody></table>"
            ],
            "text/plain": [
              "<pandas.io.formats.style.Styler at 0x7f062737eb90>"
            ]
          },
          "metadata": {},
          "execution_count": 104
        }
      ]
    },
    {
      "cell_type": "code",
      "metadata": {
        "colab": {
          "base_uri": "https://localhost:8080/",
          "height": 124
        },
        "id": "ZHLnKUGrJkfp",
        "outputId": "850bff0a-d8f7-40ff-bc07-b6a7ecddf892"
      },
      "source": [
        "# s2 (x2)\n",
        "idx_r = 3\n",
        "idx_c = 4\n",
        "\n",
        "tmp.style\\\n",
        ".apply(styling_specific_cell, row_idx = idx_r, col_idx = idx_c, axis = None)"
      ],
      "execution_count": null,
      "outputs": [
        {
          "output_type": "execute_result",
          "data": {
            "text/html": [
              "<style  type=\"text/css\" >\n",
              "#T_831e55f4_1fd9_11ec_9b3e_0242ac1c0002row3_col4{\n",
              "            background-color:  yellow;\n",
              "             color:  red;\n",
              "        }</style><table id=\"T_831e55f4_1fd9_11ec_9b3e_0242ac1c0002\" ><thead>    <tr>        <th class=\"blank level0\" ></th>        <th class=\"col_heading level0 col0\" >y1</th>        <th class=\"col_heading level0 col1\" >y2</th>        <th class=\"col_heading level0 col2\" >y3</th>        <th class=\"col_heading level0 col3\" >s1</th>        <th class=\"col_heading level0 col4\" >s2</th>        <th class=\"col_heading level0 col5\" >s3</th>        <th class=\"col_heading level0 col6\" >b</th>    </tr></thead><tbody>\n",
              "                <tr>\n",
              "                        <th id=\"T_831e55f4_1fd9_11ec_9b3e_0242ac1c0002level0_row0\" class=\"row_heading level0 row0\" >R0</th>\n",
              "                        <td id=\"T_831e55f4_1fd9_11ec_9b3e_0242ac1c0002row0_col0\" class=\"data row0 col0\" >1.000000</td>\n",
              "                        <td id=\"T_831e55f4_1fd9_11ec_9b3e_0242ac1c0002row0_col1\" class=\"data row0 col1\" >0.000000</td>\n",
              "                        <td id=\"T_831e55f4_1fd9_11ec_9b3e_0242ac1c0002row0_col2\" class=\"data row0 col2\" >-1.000000</td>\n",
              "                        <td id=\"T_831e55f4_1fd9_11ec_9b3e_0242ac1c0002row0_col3\" class=\"data row0 col3\" >1.000000</td>\n",
              "                        <td id=\"T_831e55f4_1fd9_11ec_9b3e_0242ac1c0002row0_col4\" class=\"data row0 col4\" >0.000000</td>\n",
              "                        <td id=\"T_831e55f4_1fd9_11ec_9b3e_0242ac1c0002row0_col5\" class=\"data row0 col5\" >0.000000</td>\n",
              "                        <td id=\"T_831e55f4_1fd9_11ec_9b3e_0242ac1c0002row0_col6\" class=\"data row0 col6\" >2.000000</td>\n",
              "            </tr>\n",
              "            <tr>\n",
              "                        <th id=\"T_831e55f4_1fd9_11ec_9b3e_0242ac1c0002level0_row1\" class=\"row_heading level0 row1\" >R1</th>\n",
              "                        <td id=\"T_831e55f4_1fd9_11ec_9b3e_0242ac1c0002row1_col0\" class=\"data row1 col0\" >0.000000</td>\n",
              "                        <td id=\"T_831e55f4_1fd9_11ec_9b3e_0242ac1c0002row1_col1\" class=\"data row1 col1\" >0.000000</td>\n",
              "                        <td id=\"T_831e55f4_1fd9_11ec_9b3e_0242ac1c0002row1_col2\" class=\"data row1 col2\" >1.500000</td>\n",
              "                        <td id=\"T_831e55f4_1fd9_11ec_9b3e_0242ac1c0002row1_col3\" class=\"data row1 col3\" >-0.500000</td>\n",
              "                        <td id=\"T_831e55f4_1fd9_11ec_9b3e_0242ac1c0002row1_col4\" class=\"data row1 col4\" >1.000000</td>\n",
              "                        <td id=\"T_831e55f4_1fd9_11ec_9b3e_0242ac1c0002row1_col5\" class=\"data row1 col5\" >-0.500000</td>\n",
              "                        <td id=\"T_831e55f4_1fd9_11ec_9b3e_0242ac1c0002row1_col6\" class=\"data row1 col6\" >5.000000</td>\n",
              "            </tr>\n",
              "            <tr>\n",
              "                        <th id=\"T_831e55f4_1fd9_11ec_9b3e_0242ac1c0002level0_row2\" class=\"row_heading level0 row2\" >R2</th>\n",
              "                        <td id=\"T_831e55f4_1fd9_11ec_9b3e_0242ac1c0002row2_col0\" class=\"data row2 col0\" >0.000000</td>\n",
              "                        <td id=\"T_831e55f4_1fd9_11ec_9b3e_0242ac1c0002row2_col1\" class=\"data row2 col1\" >1.000000</td>\n",
              "                        <td id=\"T_831e55f4_1fd9_11ec_9b3e_0242ac1c0002row2_col2\" class=\"data row2 col2\" >1.500000</td>\n",
              "                        <td id=\"T_831e55f4_1fd9_11ec_9b3e_0242ac1c0002row2_col3\" class=\"data row2 col3\" >-0.500000</td>\n",
              "                        <td id=\"T_831e55f4_1fd9_11ec_9b3e_0242ac1c0002row2_col4\" class=\"data row2 col4\" >0.000000</td>\n",
              "                        <td id=\"T_831e55f4_1fd9_11ec_9b3e_0242ac1c0002row2_col5\" class=\"data row2 col5\" >0.500000</td>\n",
              "                        <td id=\"T_831e55f4_1fd9_11ec_9b3e_0242ac1c0002row2_col6\" class=\"data row2 col6\" >3.000000</td>\n",
              "            </tr>\n",
              "            <tr>\n",
              "                        <th id=\"T_831e55f4_1fd9_11ec_9b3e_0242ac1c0002level0_row3\" class=\"row_heading level0 row3\" >R3</th>\n",
              "                        <td id=\"T_831e55f4_1fd9_11ec_9b3e_0242ac1c0002row3_col0\" class=\"data row3 col0\" >0.000000</td>\n",
              "                        <td id=\"T_831e55f4_1fd9_11ec_9b3e_0242ac1c0002row3_col1\" class=\"data row3 col1\" >0.000000</td>\n",
              "                        <td id=\"T_831e55f4_1fd9_11ec_9b3e_0242ac1c0002row3_col2\" class=\"data row3 col2\" >2.000000</td>\n",
              "                        <td id=\"T_831e55f4_1fd9_11ec_9b3e_0242ac1c0002row3_col3\" class=\"data row3 col3\" >2.000000</td>\n",
              "                        <td id=\"T_831e55f4_1fd9_11ec_9b3e_0242ac1c0002row3_col4\" class=\"data row3 col4\" >0.000000</td>\n",
              "                        <td id=\"T_831e55f4_1fd9_11ec_9b3e_0242ac1c0002row3_col5\" class=\"data row3 col5\" >4.000000</td>\n",
              "                        <td id=\"T_831e55f4_1fd9_11ec_9b3e_0242ac1c0002row3_col6\" class=\"data row3 col6\" >36.000000</td>\n",
              "            </tr>\n",
              "    </tbody></table>"
            ],
            "text/plain": [
              "<pandas.io.formats.style.Styler at 0x7f06272b94d0>"
            ]
          },
          "metadata": {},
          "execution_count": 105
        }
      ]
    },
    {
      "cell_type": "code",
      "metadata": {
        "colab": {
          "base_uri": "https://localhost:8080/",
          "height": 124
        },
        "id": "lTEA49z-JllA",
        "outputId": "6d6a8a01-3b02-4c18-a1ec-f50fc4a043a0"
      },
      "source": [
        "# s3 (x3)\n",
        "idx_r = 3\n",
        "idx_c = 5\n",
        "\n",
        "tmp.style\\\n",
        ".apply(styling_specific_cell, row_idx = idx_r, col_idx = idx_c, axis = None)"
      ],
      "execution_count": null,
      "outputs": [
        {
          "output_type": "execute_result",
          "data": {
            "text/html": [
              "<style  type=\"text/css\" >\n",
              "#T_8321a7d6_1fd9_11ec_9b3e_0242ac1c0002row3_col5{\n",
              "            background-color:  yellow;\n",
              "             color:  red;\n",
              "        }</style><table id=\"T_8321a7d6_1fd9_11ec_9b3e_0242ac1c0002\" ><thead>    <tr>        <th class=\"blank level0\" ></th>        <th class=\"col_heading level0 col0\" >y1</th>        <th class=\"col_heading level0 col1\" >y2</th>        <th class=\"col_heading level0 col2\" >y3</th>        <th class=\"col_heading level0 col3\" >s1</th>        <th class=\"col_heading level0 col4\" >s2</th>        <th class=\"col_heading level0 col5\" >s3</th>        <th class=\"col_heading level0 col6\" >b</th>    </tr></thead><tbody>\n",
              "                <tr>\n",
              "                        <th id=\"T_8321a7d6_1fd9_11ec_9b3e_0242ac1c0002level0_row0\" class=\"row_heading level0 row0\" >R0</th>\n",
              "                        <td id=\"T_8321a7d6_1fd9_11ec_9b3e_0242ac1c0002row0_col0\" class=\"data row0 col0\" >1.000000</td>\n",
              "                        <td id=\"T_8321a7d6_1fd9_11ec_9b3e_0242ac1c0002row0_col1\" class=\"data row0 col1\" >0.000000</td>\n",
              "                        <td id=\"T_8321a7d6_1fd9_11ec_9b3e_0242ac1c0002row0_col2\" class=\"data row0 col2\" >-1.000000</td>\n",
              "                        <td id=\"T_8321a7d6_1fd9_11ec_9b3e_0242ac1c0002row0_col3\" class=\"data row0 col3\" >1.000000</td>\n",
              "                        <td id=\"T_8321a7d6_1fd9_11ec_9b3e_0242ac1c0002row0_col4\" class=\"data row0 col4\" >0.000000</td>\n",
              "                        <td id=\"T_8321a7d6_1fd9_11ec_9b3e_0242ac1c0002row0_col5\" class=\"data row0 col5\" >0.000000</td>\n",
              "                        <td id=\"T_8321a7d6_1fd9_11ec_9b3e_0242ac1c0002row0_col6\" class=\"data row0 col6\" >2.000000</td>\n",
              "            </tr>\n",
              "            <tr>\n",
              "                        <th id=\"T_8321a7d6_1fd9_11ec_9b3e_0242ac1c0002level0_row1\" class=\"row_heading level0 row1\" >R1</th>\n",
              "                        <td id=\"T_8321a7d6_1fd9_11ec_9b3e_0242ac1c0002row1_col0\" class=\"data row1 col0\" >0.000000</td>\n",
              "                        <td id=\"T_8321a7d6_1fd9_11ec_9b3e_0242ac1c0002row1_col1\" class=\"data row1 col1\" >0.000000</td>\n",
              "                        <td id=\"T_8321a7d6_1fd9_11ec_9b3e_0242ac1c0002row1_col2\" class=\"data row1 col2\" >1.500000</td>\n",
              "                        <td id=\"T_8321a7d6_1fd9_11ec_9b3e_0242ac1c0002row1_col3\" class=\"data row1 col3\" >-0.500000</td>\n",
              "                        <td id=\"T_8321a7d6_1fd9_11ec_9b3e_0242ac1c0002row1_col4\" class=\"data row1 col4\" >1.000000</td>\n",
              "                        <td id=\"T_8321a7d6_1fd9_11ec_9b3e_0242ac1c0002row1_col5\" class=\"data row1 col5\" >-0.500000</td>\n",
              "                        <td id=\"T_8321a7d6_1fd9_11ec_9b3e_0242ac1c0002row1_col6\" class=\"data row1 col6\" >5.000000</td>\n",
              "            </tr>\n",
              "            <tr>\n",
              "                        <th id=\"T_8321a7d6_1fd9_11ec_9b3e_0242ac1c0002level0_row2\" class=\"row_heading level0 row2\" >R2</th>\n",
              "                        <td id=\"T_8321a7d6_1fd9_11ec_9b3e_0242ac1c0002row2_col0\" class=\"data row2 col0\" >0.000000</td>\n",
              "                        <td id=\"T_8321a7d6_1fd9_11ec_9b3e_0242ac1c0002row2_col1\" class=\"data row2 col1\" >1.000000</td>\n",
              "                        <td id=\"T_8321a7d6_1fd9_11ec_9b3e_0242ac1c0002row2_col2\" class=\"data row2 col2\" >1.500000</td>\n",
              "                        <td id=\"T_8321a7d6_1fd9_11ec_9b3e_0242ac1c0002row2_col3\" class=\"data row2 col3\" >-0.500000</td>\n",
              "                        <td id=\"T_8321a7d6_1fd9_11ec_9b3e_0242ac1c0002row2_col4\" class=\"data row2 col4\" >0.000000</td>\n",
              "                        <td id=\"T_8321a7d6_1fd9_11ec_9b3e_0242ac1c0002row2_col5\" class=\"data row2 col5\" >0.500000</td>\n",
              "                        <td id=\"T_8321a7d6_1fd9_11ec_9b3e_0242ac1c0002row2_col6\" class=\"data row2 col6\" >3.000000</td>\n",
              "            </tr>\n",
              "            <tr>\n",
              "                        <th id=\"T_8321a7d6_1fd9_11ec_9b3e_0242ac1c0002level0_row3\" class=\"row_heading level0 row3\" >R3</th>\n",
              "                        <td id=\"T_8321a7d6_1fd9_11ec_9b3e_0242ac1c0002row3_col0\" class=\"data row3 col0\" >0.000000</td>\n",
              "                        <td id=\"T_8321a7d6_1fd9_11ec_9b3e_0242ac1c0002row3_col1\" class=\"data row3 col1\" >0.000000</td>\n",
              "                        <td id=\"T_8321a7d6_1fd9_11ec_9b3e_0242ac1c0002row3_col2\" class=\"data row3 col2\" >2.000000</td>\n",
              "                        <td id=\"T_8321a7d6_1fd9_11ec_9b3e_0242ac1c0002row3_col3\" class=\"data row3 col3\" >2.000000</td>\n",
              "                        <td id=\"T_8321a7d6_1fd9_11ec_9b3e_0242ac1c0002row3_col4\" class=\"data row3 col4\" >0.000000</td>\n",
              "                        <td id=\"T_8321a7d6_1fd9_11ec_9b3e_0242ac1c0002row3_col5\" class=\"data row3 col5\" >4.000000</td>\n",
              "                        <td id=\"T_8321a7d6_1fd9_11ec_9b3e_0242ac1c0002row3_col6\" class=\"data row3 col6\" >36.000000</td>\n",
              "            </tr>\n",
              "    </tbody></table>"
            ],
            "text/plain": [
              "<pandas.io.formats.style.Styler at 0x7f06273194d0>"
            ]
          },
          "metadata": {},
          "execution_count": 106
        }
      ]
    },
    {
      "cell_type": "markdown",
      "metadata": {
        "id": "sncl9rM_SPbO"
      },
      "source": [
        "\n",
        "\n",
        "The objective value $w$ of a minimization problem in standard form has a  minimum value if and only if the objective value $z$ of the dual maximization problem has a maximum value. Moreover, the minimum value of $w$ is equal to the maximum value of $z$.\n",
        "\n",
        "Recall our original objective function:\n",
        "$w = 2x_1 + 10x_2 + 8x_3$\n"
      ]
    },
    {
      "cell_type": "markdown",
      "metadata": {
        "id": "FY9jC_wblYWF"
      },
      "source": [
        "# Appendix: Color coding a table\n",
        "Use this script to update the colors in your tables. You can use this all over the place."
      ]
    },
    {
      "cell_type": "code",
      "metadata": {
        "id": "8EZ39TN8ldow",
        "colab": {
          "base_uri": "https://localhost:8080/",
          "height": 103
        },
        "outputId": "d0b11426-e77f-44bb-c949-211ef8e1e1b7"
      },
      "source": [
        "# a random sample array\n",
        "\n",
        "A = Matrix([[60,   12,   10,   1,  0,  0.12],\n",
        "            [60,    6,   30,   0,  1,  0.15],                      \n",
        "            [-300,  -36,  -90,  0,  0,   0]])\n",
        "\n",
        "# make it pretty\n",
        "tmp = pd.DataFrame(np.array(A).astype(float)) # you only need this in the first example\n",
        "tmp.columns = ['y1', 'y2', 'y3', 's1', 's2', 'b']\n",
        "tmp.index=['R0', 'R1', 'R2']\n",
        "tmp\n",
        "\n",
        "# add some color to highlight s1 and s2 and z\n",
        "# Custom function to color the desired cell\n",
        "def styling_specific_cell(x,row_idx,col_idx):\n",
        "    color = 'background-color: yellow; color: red'\n",
        "    df_styler = pd.DataFrame('', index=x.index, columns=x.columns)\n",
        "    df_styler.iloc[row_idx, col_idx] = color\n",
        "    return df_styler\n",
        "\n",
        "# highlight a single cell pivot element\n",
        "idx_r = 0\n",
        "idx_c = 0\n",
        "\n",
        "# apply style to rows and columns\n",
        "tmp.style\\\n",
        ".apply(lambda x: ['background: lightblue' if x.name == 'y1' else '' for i in x])\\\n",
        ".apply(lambda x: ['background: lightblue' if x.name == 'R0' else '' for i in x], axis=1)\\\n",
        ".apply(styling_specific_cell, row_idx = idx_r, col_idx = idx_c, axis = None)\n"
      ],
      "execution_count": null,
      "outputs": [
        {
          "output_type": "execute_result",
          "data": {
            "text/html": [
              "<style  type=\"text/css\" >\n",
              "#T_832a7d34_1fd9_11ec_9b3e_0242ac1c0002row0_col0{\n",
              "            background:  lightblue;\n",
              "            background:  lightblue;\n",
              "            background-color:  yellow;\n",
              "             color:  red;\n",
              "        }#T_832a7d34_1fd9_11ec_9b3e_0242ac1c0002row0_col1,#T_832a7d34_1fd9_11ec_9b3e_0242ac1c0002row0_col2,#T_832a7d34_1fd9_11ec_9b3e_0242ac1c0002row0_col3,#T_832a7d34_1fd9_11ec_9b3e_0242ac1c0002row0_col4,#T_832a7d34_1fd9_11ec_9b3e_0242ac1c0002row0_col5,#T_832a7d34_1fd9_11ec_9b3e_0242ac1c0002row1_col0,#T_832a7d34_1fd9_11ec_9b3e_0242ac1c0002row2_col0{\n",
              "            background:  lightblue;\n",
              "        }</style><table id=\"T_832a7d34_1fd9_11ec_9b3e_0242ac1c0002\" ><thead>    <tr>        <th class=\"blank level0\" ></th>        <th class=\"col_heading level0 col0\" >y1</th>        <th class=\"col_heading level0 col1\" >y2</th>        <th class=\"col_heading level0 col2\" >y3</th>        <th class=\"col_heading level0 col3\" >s1</th>        <th class=\"col_heading level0 col4\" >s2</th>        <th class=\"col_heading level0 col5\" >b</th>    </tr></thead><tbody>\n",
              "                <tr>\n",
              "                        <th id=\"T_832a7d34_1fd9_11ec_9b3e_0242ac1c0002level0_row0\" class=\"row_heading level0 row0\" >R0</th>\n",
              "                        <td id=\"T_832a7d34_1fd9_11ec_9b3e_0242ac1c0002row0_col0\" class=\"data row0 col0\" >60.000000</td>\n",
              "                        <td id=\"T_832a7d34_1fd9_11ec_9b3e_0242ac1c0002row0_col1\" class=\"data row0 col1\" >12.000000</td>\n",
              "                        <td id=\"T_832a7d34_1fd9_11ec_9b3e_0242ac1c0002row0_col2\" class=\"data row0 col2\" >10.000000</td>\n",
              "                        <td id=\"T_832a7d34_1fd9_11ec_9b3e_0242ac1c0002row0_col3\" class=\"data row0 col3\" >1.000000</td>\n",
              "                        <td id=\"T_832a7d34_1fd9_11ec_9b3e_0242ac1c0002row0_col4\" class=\"data row0 col4\" >0.000000</td>\n",
              "                        <td id=\"T_832a7d34_1fd9_11ec_9b3e_0242ac1c0002row0_col5\" class=\"data row0 col5\" >0.120000</td>\n",
              "            </tr>\n",
              "            <tr>\n",
              "                        <th id=\"T_832a7d34_1fd9_11ec_9b3e_0242ac1c0002level0_row1\" class=\"row_heading level0 row1\" >R1</th>\n",
              "                        <td id=\"T_832a7d34_1fd9_11ec_9b3e_0242ac1c0002row1_col0\" class=\"data row1 col0\" >60.000000</td>\n",
              "                        <td id=\"T_832a7d34_1fd9_11ec_9b3e_0242ac1c0002row1_col1\" class=\"data row1 col1\" >6.000000</td>\n",
              "                        <td id=\"T_832a7d34_1fd9_11ec_9b3e_0242ac1c0002row1_col2\" class=\"data row1 col2\" >30.000000</td>\n",
              "                        <td id=\"T_832a7d34_1fd9_11ec_9b3e_0242ac1c0002row1_col3\" class=\"data row1 col3\" >0.000000</td>\n",
              "                        <td id=\"T_832a7d34_1fd9_11ec_9b3e_0242ac1c0002row1_col4\" class=\"data row1 col4\" >1.000000</td>\n",
              "                        <td id=\"T_832a7d34_1fd9_11ec_9b3e_0242ac1c0002row1_col5\" class=\"data row1 col5\" >0.150000</td>\n",
              "            </tr>\n",
              "            <tr>\n",
              "                        <th id=\"T_832a7d34_1fd9_11ec_9b3e_0242ac1c0002level0_row2\" class=\"row_heading level0 row2\" >R2</th>\n",
              "                        <td id=\"T_832a7d34_1fd9_11ec_9b3e_0242ac1c0002row2_col0\" class=\"data row2 col0\" >-300.000000</td>\n",
              "                        <td id=\"T_832a7d34_1fd9_11ec_9b3e_0242ac1c0002row2_col1\" class=\"data row2 col1\" >-36.000000</td>\n",
              "                        <td id=\"T_832a7d34_1fd9_11ec_9b3e_0242ac1c0002row2_col2\" class=\"data row2 col2\" >-90.000000</td>\n",
              "                        <td id=\"T_832a7d34_1fd9_11ec_9b3e_0242ac1c0002row2_col3\" class=\"data row2 col3\" >0.000000</td>\n",
              "                        <td id=\"T_832a7d34_1fd9_11ec_9b3e_0242ac1c0002row2_col4\" class=\"data row2 col4\" >0.000000</td>\n",
              "                        <td id=\"T_832a7d34_1fd9_11ec_9b3e_0242ac1c0002row2_col5\" class=\"data row2 col5\" >0.000000</td>\n",
              "            </tr>\n",
              "    </tbody></table>"
            ],
            "text/plain": [
              "<pandas.io.formats.style.Styler at 0x7f06272ad9d0>"
            ]
          },
          "metadata": {},
          "execution_count": 107
        }
      ]
    }
  ]
}