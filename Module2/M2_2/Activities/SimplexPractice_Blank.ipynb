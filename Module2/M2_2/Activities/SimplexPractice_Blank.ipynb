{
  "nbformat": 4,
  "nbformat_minor": 0,
  "metadata": {
    "colab": {
      "name": "BDM_M2.2_Blank.ipynb",
      "provenance": [],
      "collapsed_sections": [],
      "include_colab_link": true
    },
    "kernelspec": {
      "name": "python3",
      "display_name": "Python 3"
    }
  },
  "cells": [
    {
      "cell_type": "markdown",
      "metadata": {
        "id": "view-in-github",
        "colab_type": "text"
      },
      "source": [
        "<a href=\"https://colab.research.google.com/github/drdww/OPIM5641/blob/main/Module2/M2_2/Activities/SimplexPractice_Blank.ipynb\" target=\"_parent\"><img src=\"https://colab.research.google.com/assets/colab-badge.svg\" alt=\"Open In Colab\"/></a>"
      ]
    },
    {
      "cell_type": "markdown",
      "metadata": {
        "id": "nV-1BvuYY_hD"
      },
      "source": [
        "# Assignment 2.2: Simplex\n",
        "**OPIM 5641: Business Decision Modeling - University of Connecticut**\n",
        "\n",
        "---------------------------------------------------------------------------\n",
        "**Directions:** Here are some practice problems for you to work on to ensure mastery of the material. Instead of the graphical method, you will use the Simplex method.\n",
        "\n",
        "You may work with your fellow classmates, but you need to complete the assignment on your own. I expect different headers and COMMENTS (comments are the key to showing that you really know your stuff - without comments, your code is useless to me).\n",
        "\n",
        "**Rubric:**\n",
        "* (100 pts total, 50 points each). To receive full credit, you must include all proper headers from the class examples for Simplex. Build the initial tableau (and color code the entering, departing variable and make pivot element yellow); use as many pivot operations as necessary; declare the final solution. Most every line should have an original comment from you... otherwise, no credit."
      ]
    },
    {
      "cell_type": "markdown",
      "metadata": {
        "id": "ztTznyIXZK_K"
      },
      "source": [
        "# Practice Problem 1: Maximize\n",
        "Solve the following LP model **using Simplex** and plot the solution using Python.\n",
        "\n",
        "$Max(Z) = 5X + 4Y$\n",
        "\n",
        "subject to:\n",
        "* $3X + 5Y <= 78$\n",
        "* $4X + Y <= 36$\n",
        "* $X,Y >= 0$ (nonnegativity)\n",
        "\n",
        "The answer is $X=6$, $Y=12$ and $Z = 78$."
      ]
    },
    {
      "cell_type": "code",
      "metadata": {
        "id": "gfBODGjAY2jZ"
      },
      "source": [
        ""
      ],
      "execution_count": null,
      "outputs": []
    },
    {
      "cell_type": "markdown",
      "metadata": {
        "id": "TecuiuE6Z-0u"
      },
      "source": [
        "# Practice Problem 2: Minimize\n",
        "$Min(W) = 29X + 10Y$\n",
        "\n",
        "subject to:\n",
        "* $3X + 2Y >= 2$\n",
        "* $5X + Y >= 3$\n",
        "* $X,Y >= 0$\n",
        "\n",
        "The optimal solution is $X = 4/7$, $Y = 1/7$ and $W = 18$."
      ]
    },
    {
      "cell_type": "code",
      "metadata": {
        "id": "kvgE0oiTajgr"
      },
      "source": [
        ""
      ],
      "execution_count": null,
      "outputs": []
    }
  ]
}