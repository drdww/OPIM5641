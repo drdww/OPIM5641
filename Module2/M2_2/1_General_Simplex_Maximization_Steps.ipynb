{
  "nbformat": 4,
  "nbformat_minor": 0,
  "metadata": {
    "colab": {
      "name": "1_General Simplex Maximization Steps.ipynb",
      "provenance": [],
      "collapsed_sections": [],
      "toc_visible": true,
      "authorship_tag": "ABX9TyOJZYPeqZjJ0+xkCFlb26gV",
      "include_colab_link": true
    },
    "kernelspec": {
      "name": "python3",
      "display_name": "Python 3"
    },
    "language_info": {
      "name": "python"
    }
  },
  "cells": [
    {
      "cell_type": "markdown",
      "metadata": {
        "id": "view-in-github",
        "colab_type": "text"
      },
      "source": [
        "<a href=\"https://colab.research.google.com/github/drdww/OPIM5641/blob/main/Module2/M2_2/1_General_Simplex_Maximization_Steps.ipynb\" target=\"_parent\"><img src=\"https://colab.research.google.com/assets/colab-badge.svg\" alt=\"Open In Colab\"/></a>"
      ]
    },
    {
      "cell_type": "markdown",
      "metadata": {
        "id": "P_Ca07XTZpFW"
      },
      "source": [
        "# General Simplex Maximization Steps\n",
        "\n",
        "**OPIM 5641: Business Decision Modeling - Dept. of Operations and Information Management - University of Connecticut**\n",
        "\n",
        "------------------------------------------"
      ]
    },
    {
      "cell_type": "code",
      "metadata": {
        "id": "0tvAgycGefPT"
      },
      "source": [
        "# this is a helpful function for coloring a cell in a table\n",
        "\n",
        "# Custom function to color the desired cell\n",
        "def styling_specific_cell(x,row_idx,col_idx):\n",
        "    color = 'background-color: yellow; color: red'\n",
        "    df_styler = pd.DataFrame('', index=x.index, columns=x.columns)\n",
        "    df_styler.iloc[row_idx, col_idx] = color\n",
        "    return df_styler"
      ],
      "execution_count": null,
      "outputs": []
    },
    {
      "cell_type": "markdown",
      "metadata": {
        "id": "-bEdpXgTZtxN"
      },
      "source": [
        "# 1) Write the problem in standard form\n"
      ]
    },
    {
      "cell_type": "markdown",
      "metadata": {
        "id": "PUEp866czFxf"
      },
      "source": [
        "## Make sure it's a maximization problem!\n",
        "Obviously."
      ]
    },
    {
      "cell_type": "markdown",
      "metadata": {
        "id": "fQgo2cH9fuwt"
      },
      "source": [
        "## Ensure all LHS <= RHS constraints\n",
        "* Make sure that you have all LHS <= RHS constraints (and nonnegativity constraint, too!)"
      ]
    },
    {
      "cell_type": "markdown",
      "metadata": {
        "id": "1z6tkMxrfyod"
      },
      "source": [
        "## Add slack variables and get rid of inequalities"
      ]
    },
    {
      "cell_type": "markdown",
      "metadata": {
        "id": "UL7qoowFft4V"
      },
      "source": [
        "\n",
        "* Turn your inequalities into equalities (this requires adding a SLACK VARIABLE for each constraint)\n",
        "* One slack variable per constraint! Three constraints? Three slack variables.\n",
        "  * A slack variable is simply the 'unused quantity' - makes sense for <= constraints!\n",
        "\n",
        "$x_1 + x+2 <= 11$ \n",
        "\n",
        "becomes \n",
        "\n",
        "$-x_1 + x_2 + s_1 = 11$\n",
        "\n",
        "where $s_1$ is the slack variable. It's okay if $s_1 = 0$! We will worry about that later when we talk about binding constraints (which are the most interesting constraints - good for sensitivity analysis). \n"
      ]
    },
    {
      "cell_type": "markdown",
      "metadata": {
        "id": "eP-URa-0f34V"
      },
      "source": [
        "## Rearrange terms in objective function\n",
        "* Rearrange terms in objective function (this is the last row of initial simplex tableau).\n"
      ]
    },
    {
      "cell_type": "markdown",
      "metadata": {
        "id": "ujRprkMjf9W9"
      },
      "source": [
        "## Create initial simplex tableau\n",
        "Make sure you have one column for each decision variable and one column for each slack variable. The last row is your rearranged objective function."
      ]
    },
    {
      "cell_type": "markdown",
      "metadata": {
        "id": "3BtuOLMqbIUY"
      },
      "source": [
        "# 2) Solve using Simplex"
      ]
    },
    {
      "cell_type": "markdown",
      "metadata": {
        "id": "70yckgeBcu3y"
      },
      "source": [
        "## Identify entering variable\n",
        "The column where the largest negative number resides in bottom row. \n",
        "\n",
        "AKA look down and look for biggest negative number. \n",
        "\n",
        "The entering variable in our 2D Max problem is `x2`"
      ]
    },
    {
      "cell_type": "markdown",
      "metadata": {
        "id": "mCIXV4gMdAQJ"
      },
      "source": [
        "## Identify departing variable\n",
        "Requires you to calculate $b/a$. \n",
        "\n",
        "Select the smallest, POSITIVE $b/a$. This is the row.\n"
      ]
    },
    {
      "cell_type": "markdown",
      "metadata": {
        "id": "Xjb6KfMmd7va"
      },
      "source": [
        "## Identify pivot element.\n",
        "It's just the intersection of the row and the column you just identified."
      ]
    },
    {
      "cell_type": "markdown",
      "metadata": {
        "id": "tSmJxd-TeBwS"
      },
      "source": [
        "## Turn the pivot element into a '1'\n",
        "If it's already a 1, skip ahead to next step.\n",
        "\n",
        "If not, multiply the row with the pivot element by a fraction (like 1/7 if a 7 is in the pivot element). This will make it a '1'."
      ]
    },
    {
      "cell_type": "markdown",
      "metadata": {
        "id": "ChUTbrGMeB1r"
      },
      "source": [
        "## Gauss-Jordan Elimination\n",
        "Let's say your matrix looked like this. "
      ]
    },
    {
      "cell_type": "code",
      "metadata": {
        "id": "2dWpqy9_brje",
        "colab": {
          "base_uri": "https://localhost:8080/"
        },
        "outputId": "ced05463-a031-4165-95f9-6a1f9d047f4a"
      },
      "source": [
        "from sympy import Matrix, Rational, pprint, nsimplify\n",
        "import numpy as np\n",
        "import pandas as pd\n",
        "\n",
        "A = Matrix([[-1, 1, 1, 0, 0, 11], #R0\n",
        "              [1,1,0,1,0,27], #R1\n",
        "              [2,5,0,0,1,90], #R2\n",
        "              [-4,-6,0,0,0,0]]) #R3\n",
        "\n",
        "# print it\n",
        "pprint(A) # voila - looks great! don't forget the extra p for pretty print"
      ],
      "execution_count": null,
      "outputs": [
        {
          "output_type": "stream",
          "name": "stdout",
          "text": [
            "⎡-1  1   1  0  0  11⎤\n",
            "⎢                   ⎥\n",
            "⎢1   1   0  1  0  27⎥\n",
            "⎢                   ⎥\n",
            "⎢2   5   0  0  1  90⎥\n",
            "⎢                   ⎥\n",
            "⎣-4  -6  0  0  0  0 ⎦\n"
          ]
        }
      ]
    },
    {
      "cell_type": "code",
      "metadata": {
        "id": "XQ2-HBl1IPgF",
        "colab": {
          "base_uri": "https://localhost:8080/",
          "height": 125
        },
        "outputId": "ab4e2825-6135-423b-a0bd-1a25c82abe3f"
      },
      "source": [
        "\n",
        "# make it pretty\n",
        "tmp = pd.DataFrame(np.array(A).astype(float)) # you only need this in the first example\n",
        "tmp.columns = ['x1', 'x2', 's1', 's2','s3', 'b']\n",
        "tmp.index=['R0', 'R1', 'R2','R3'] # row 0, row 1, row 2, row 3 (R3)\n",
        "tmp\n",
        "\n",
        "# add some color to highlight R0 and x2 \n",
        "\n",
        "# style - this is for an individual cell (Pivot element)\n",
        "idx_r = 0   # Row index of cell to color\n",
        "idx_c = 1   # Column index of cell to color \n",
        "\n",
        "#coloring departing variable/row(R0) and entering column/variable(x2)\n",
        "tmp.style\\\n",
        ".apply(lambda x: ['background: lightblue' if x.name == 'x2' else '' for i in x])\\\n",
        ".apply(lambda x: ['background: lightblue' if x.name == 'R0' else '' for i in x], axis=1)\\\n",
        ".apply(styling_specific_cell, row_idx = idx_r, col_idx = idx_c, axis = None)\n",
        "\n"
      ],
      "execution_count": null,
      "outputs": [
        {
          "output_type": "execute_result",
          "data": {
            "text/html": [
              "<style  type=\"text/css\" >\n",
              "#T_414cfccc_1fe6_11ec_8f54_0242ac1c0002row0_col0,#T_414cfccc_1fe6_11ec_8f54_0242ac1c0002row0_col2,#T_414cfccc_1fe6_11ec_8f54_0242ac1c0002row0_col3,#T_414cfccc_1fe6_11ec_8f54_0242ac1c0002row0_col4,#T_414cfccc_1fe6_11ec_8f54_0242ac1c0002row0_col5,#T_414cfccc_1fe6_11ec_8f54_0242ac1c0002row1_col1,#T_414cfccc_1fe6_11ec_8f54_0242ac1c0002row2_col1,#T_414cfccc_1fe6_11ec_8f54_0242ac1c0002row3_col1{\n",
              "            background:  lightblue;\n",
              "        }#T_414cfccc_1fe6_11ec_8f54_0242ac1c0002row0_col1{\n",
              "            background:  lightblue;\n",
              "            background:  lightblue;\n",
              "            background-color:  yellow;\n",
              "             color:  red;\n",
              "        }</style><table id=\"T_414cfccc_1fe6_11ec_8f54_0242ac1c0002\" ><thead>    <tr>        <th class=\"blank level0\" ></th>        <th class=\"col_heading level0 col0\" >x1</th>        <th class=\"col_heading level0 col1\" >x2</th>        <th class=\"col_heading level0 col2\" >s1</th>        <th class=\"col_heading level0 col3\" >s2</th>        <th class=\"col_heading level0 col4\" >s3</th>        <th class=\"col_heading level0 col5\" >b</th>    </tr></thead><tbody>\n",
              "                <tr>\n",
              "                        <th id=\"T_414cfccc_1fe6_11ec_8f54_0242ac1c0002level0_row0\" class=\"row_heading level0 row0\" >R0</th>\n",
              "                        <td id=\"T_414cfccc_1fe6_11ec_8f54_0242ac1c0002row0_col0\" class=\"data row0 col0\" >-1.000000</td>\n",
              "                        <td id=\"T_414cfccc_1fe6_11ec_8f54_0242ac1c0002row0_col1\" class=\"data row0 col1\" >1.000000</td>\n",
              "                        <td id=\"T_414cfccc_1fe6_11ec_8f54_0242ac1c0002row0_col2\" class=\"data row0 col2\" >1.000000</td>\n",
              "                        <td id=\"T_414cfccc_1fe6_11ec_8f54_0242ac1c0002row0_col3\" class=\"data row0 col3\" >0.000000</td>\n",
              "                        <td id=\"T_414cfccc_1fe6_11ec_8f54_0242ac1c0002row0_col4\" class=\"data row0 col4\" >0.000000</td>\n",
              "                        <td id=\"T_414cfccc_1fe6_11ec_8f54_0242ac1c0002row0_col5\" class=\"data row0 col5\" >11.000000</td>\n",
              "            </tr>\n",
              "            <tr>\n",
              "                        <th id=\"T_414cfccc_1fe6_11ec_8f54_0242ac1c0002level0_row1\" class=\"row_heading level0 row1\" >R1</th>\n",
              "                        <td id=\"T_414cfccc_1fe6_11ec_8f54_0242ac1c0002row1_col0\" class=\"data row1 col0\" >1.000000</td>\n",
              "                        <td id=\"T_414cfccc_1fe6_11ec_8f54_0242ac1c0002row1_col1\" class=\"data row1 col1\" >1.000000</td>\n",
              "                        <td id=\"T_414cfccc_1fe6_11ec_8f54_0242ac1c0002row1_col2\" class=\"data row1 col2\" >0.000000</td>\n",
              "                        <td id=\"T_414cfccc_1fe6_11ec_8f54_0242ac1c0002row1_col3\" class=\"data row1 col3\" >1.000000</td>\n",
              "                        <td id=\"T_414cfccc_1fe6_11ec_8f54_0242ac1c0002row1_col4\" class=\"data row1 col4\" >0.000000</td>\n",
              "                        <td id=\"T_414cfccc_1fe6_11ec_8f54_0242ac1c0002row1_col5\" class=\"data row1 col5\" >27.000000</td>\n",
              "            </tr>\n",
              "            <tr>\n",
              "                        <th id=\"T_414cfccc_1fe6_11ec_8f54_0242ac1c0002level0_row2\" class=\"row_heading level0 row2\" >R2</th>\n",
              "                        <td id=\"T_414cfccc_1fe6_11ec_8f54_0242ac1c0002row2_col0\" class=\"data row2 col0\" >2.000000</td>\n",
              "                        <td id=\"T_414cfccc_1fe6_11ec_8f54_0242ac1c0002row2_col1\" class=\"data row2 col1\" >5.000000</td>\n",
              "                        <td id=\"T_414cfccc_1fe6_11ec_8f54_0242ac1c0002row2_col2\" class=\"data row2 col2\" >0.000000</td>\n",
              "                        <td id=\"T_414cfccc_1fe6_11ec_8f54_0242ac1c0002row2_col3\" class=\"data row2 col3\" >0.000000</td>\n",
              "                        <td id=\"T_414cfccc_1fe6_11ec_8f54_0242ac1c0002row2_col4\" class=\"data row2 col4\" >1.000000</td>\n",
              "                        <td id=\"T_414cfccc_1fe6_11ec_8f54_0242ac1c0002row2_col5\" class=\"data row2 col5\" >90.000000</td>\n",
              "            </tr>\n",
              "            <tr>\n",
              "                        <th id=\"T_414cfccc_1fe6_11ec_8f54_0242ac1c0002level0_row3\" class=\"row_heading level0 row3\" >R3</th>\n",
              "                        <td id=\"T_414cfccc_1fe6_11ec_8f54_0242ac1c0002row3_col0\" class=\"data row3 col0\" >-4.000000</td>\n",
              "                        <td id=\"T_414cfccc_1fe6_11ec_8f54_0242ac1c0002row3_col1\" class=\"data row3 col1\" >-6.000000</td>\n",
              "                        <td id=\"T_414cfccc_1fe6_11ec_8f54_0242ac1c0002row3_col2\" class=\"data row3 col2\" >0.000000</td>\n",
              "                        <td id=\"T_414cfccc_1fe6_11ec_8f54_0242ac1c0002row3_col3\" class=\"data row3 col3\" >0.000000</td>\n",
              "                        <td id=\"T_414cfccc_1fe6_11ec_8f54_0242ac1c0002row3_col4\" class=\"data row3 col4\" >0.000000</td>\n",
              "                        <td id=\"T_414cfccc_1fe6_11ec_8f54_0242ac1c0002row3_col5\" class=\"data row3 col5\" >0.000000</td>\n",
              "            </tr>\n",
              "    </tbody></table>"
            ],
            "text/plain": [
              "<pandas.io.formats.style.Styler at 0x7f9e1d7fbd50>"
            ]
          },
          "metadata": {},
          "execution_count": 6
        }
      ]
    },
    {
      "cell_type": "markdown",
      "metadata": {
        "id": "0Nfcachkejj7"
      },
      "source": [
        "Dave says: 'Leave the row of interest and add multiples of the row with the pivot element.' R1 and R2 look a little funny... but it keeps you organized. \n",
        "\n",
        "$R1 = R1 + (-1)*R0$ `the new R1 is R1 plus a multiple of the row with the pivot element`\n",
        "\n",
        "$R2 = R2 + (-5)*R0$\n",
        "\n",
        "$R3 = R3 + (6)*R0$"
      ]
    },
    {
      "cell_type": "markdown",
      "metadata": {
        "id": "SpeoT_u9fcIW"
      },
      "source": [
        "## Check bottom row - any negative numbers?\n",
        "If yes, go back to 'Identify entering variable' and repeat.\n",
        "If no, read off the final solution."
      ]
    },
    {
      "cell_type": "markdown",
      "metadata": {
        "id": "FvC3I1TEhIjo"
      },
      "source": [
        "## Read off final solution\n",
        "$z$ is in the bottom right corner (that's the value of $max(z)$).\n",
        "Read off each decision variable (each column should have a bunch of 0s and just a single 1). Read left to right. "
      ]
    }
  ]
}