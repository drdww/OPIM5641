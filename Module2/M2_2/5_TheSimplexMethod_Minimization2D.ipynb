{
  "nbformat": 4,
  "nbformat_minor": 0,
  "metadata": {
    "colab": {
      "name": "5_TheSimplexMethod_Minimization2D",
      "provenance": [],
      "collapsed_sections": [],
      "include_colab_link": true
    },
    "kernelspec": {
      "name": "python3",
      "display_name": "Python 3"
    }
  },
  "cells": [
    {
      "cell_type": "markdown",
      "metadata": {
        "id": "view-in-github",
        "colab_type": "text"
      },
      "source": [
        "<a href=\"https://colab.research.google.com/github/drdww/OPIM5641/blob/main/Module2/M2_2/5_TheSimplexMethod_Minimization2D.ipynb\" target=\"_parent\"><img src=\"https://colab.research.google.com/assets/colab-badge.svg\" alt=\"Open In Colab\"/></a>"
      ]
    },
    {
      "cell_type": "markdown",
      "metadata": {
        "id": "iUWrRFaMNZLW"
      },
      "source": [
        "# The Simplex Method: Minimization 2D\n",
        "**OPIM 5641: Business Decision Modeling - University of Connecticut**\n",
        "\n",
        "Material from: \"Elementary Linear Algebra\" - 8th Edition (Ron Larson) - Chapter 9.\n",
        "\n",
        "---------------------------------------------------------------------------\n",
        "**Objectives:**\n",
        "* Determine the dual of a linear programming problem that  minimizes an objective function.  \n",
        "* Use the simplex method to solve a linear programming problem that minimizes an objective function"
      ]
    },
    {
      "cell_type": "code",
      "metadata": {
        "id": "ggiCpla_KqdK"
      },
      "source": [
        "# import modules\n",
        "# Matrix makes a sympy Matrix, Rational is the same Fraction from fraction, pprint makes it pretty print, nsimplify converts decimals to fractions (rational numbers)\n",
        "from sympy import Matrix, Rational, pprint, nsimplify \n",
        "\n",
        "# standard modules\n",
        "import numpy as np\n",
        "import pandas as pd"
      ],
      "execution_count": null,
      "outputs": []
    },
    {
      "cell_type": "markdown",
      "metadata": {
        "id": "odg3vYmINpmd"
      },
      "source": [
        "**Background:** You previously applied the simplex method to linear programming problems in **standard form** where the objective function was to be **maximized** (all constraints had $\\leq$ symbols). In this section, you will extend this procedure to linear programming problems in which the objective function is to be **minimized** (requires all constraints to have $\\geq$ symbols). \n",
        "\n",
        "Specifically, a minimization problem is defined in standard form when the objective function:\n",
        "\n",
        "$w = c_1x_1 + c_2x_2 + ... c_nx_n$\n",
        "\n",
        "is to be minimized, subject to the constraints\n",
        "\n",
        "$a_m$$_1x_1 + $ $a_m$$_2x_2 + $ $...+ a_m$$_nx_n \\geq b_m$\n",
        "\n",
        "where $x_i \\geq 0$ and $b_i \\geq 0$.\n",
        "\n",
        "The basic procedure used to solve such a problem is to convert it to a **maximization problem** in standard form, then apply the Simplex method. At the end, you just need to interpret/read off the final output (tableau) a little differently.\n",
        "\n",
        "Let's consider a simple problem in 2D.\n"
      ]
    },
    {
      "cell_type": "markdown",
      "metadata": {
        "id": "lzt-aXguTmwH"
      },
      "source": [
        "#Problem Description\n",
        "Find the minimum value of\n",
        "$w = 0.12x_1 + 0.15x_2$\n",
        "\n",
        "subject to:\n",
        "* $60x_1 + 60x_2 \\geq 300$\n",
        "* $12x_1 + 6x_2 \\geq 36$\n",
        "* $10x_1 + 30x_2 \\geq 90$\n",
        "* $x_1,x_2 \\geq 0$\n",
        "\n",
        "First of all - notice that $z$ is nowhere to be found - as a naming convention, we will use $w$ for minimization problems to help keep us organized.\n",
        "\n",
        "To solve this problem using simplex, you must convert it to a maximization problem. The first step is to form the augmented matrix for this system of inequalities. To this augmented matrix, add a last row that represents the coefficients of the objective function.\n",
        "\n",
        "Note that we have not rearranged terms for the objective function. The values of each of the decision variables are still the same.\n",
        "\n",
        "In our example, $A$ will always be the matrix, and `tmp` will always be a temporary copy of $A$ that we will color code. See helper function at the end to color a pandas dataframe, rename rows and columns etc.\n",
        "\n"
      ]
    },
    {
      "cell_type": "code",
      "metadata": {
        "id": "Hue0yU4MmpYL"
      },
      "source": [
        "# this function is useful for coloring a single cell\n",
        "# you'll see how to use it later\n",
        "\n",
        "# Custom function to color the desired cell\n",
        "def styling_specific_cell(x,row_idx,col_idx):\n",
        "    color = 'background-color: yellow; color: red'\n",
        "    df_styler = pd.DataFrame('', index=x.index, columns=x.columns)\n",
        "    df_styler.iloc[row_idx, col_idx] = color\n",
        "    return df_styler"
      ],
      "execution_count": null,
      "outputs": []
    },
    {
      "cell_type": "markdown",
      "metadata": {
        "id": "XI31gT6yKVNf"
      },
      "source": [
        "## Set up initial matrix ($A$)"
      ]
    },
    {
      "cell_type": "code",
      "metadata": {
        "id": "AZYMFFda8JxG",
        "colab": {
          "base_uri": "https://localhost:8080/"
        },
        "outputId": "dbd71638-d294-4a7e-a448-7fd1ecf86d64"
      },
      "source": [
        "# form the matrix\n",
        "A = Matrix([[60, 60, 300],\n",
        "              [12, 6, 36],\n",
        "              [10, 30, 90],\n",
        "              [0.12, 0.15, 0]])\n",
        "\n",
        "# show the matrix\n",
        "pprint(A)"
      ],
      "execution_count": null,
      "outputs": [
        {
          "output_type": "stream",
          "name": "stdout",
          "text": [
            "⎡ 60    60   300⎤\n",
            "⎢               ⎥\n",
            "⎢ 12    6    36 ⎥\n",
            "⎢               ⎥\n",
            "⎢ 10    30   90 ⎥\n",
            "⎢               ⎥\n",
            "⎣0.12  0.15   0 ⎦\n"
          ]
        }
      ]
    },
    {
      "cell_type": "code",
      "metadata": {
        "id": "RaeWT0VZf8Zp",
        "colab": {
          "base_uri": "https://localhost:8080/",
          "height": 124
        },
        "outputId": "0963877a-7e13-4e6b-bcca-a64a7d675f9b"
      },
      "source": [
        "# if you want to make it pretty, you can use pandas\n",
        "# example\n",
        "# link: https://stackoverflow.com/questions/40335140/how-to-highlight-both-a-row-and-a-column-at-once-in-pandas\n",
        "\n",
        "# make sure you convert A to a numpy array for easy viewing - and make it a float \n",
        "# so that stuff isn't stored as a string\n",
        "tmp = pd.DataFrame(np.array(A).astype(float))\n",
        "tmp.columns = ['x1', 'x2', 'b']\n",
        "tmp.index=['R0', 'R1', 'R2', 'R3']\n",
        "tmp\n",
        "\n",
        "# w is in the bottom right cell\n",
        "\n",
        "# style - this is for an individual cell\n",
        "idx_c = 2   # Column index of cell to color \n",
        "idx_r = 3   # Row index of cell to color\n",
        "\n",
        "# see the columns 's1' and 's2' called out in the code below?\n",
        "tmp.style\\\n",
        ".apply(styling_specific_cell, row_idx = idx_r, col_idx = idx_c, axis = None)"
      ],
      "execution_count": null,
      "outputs": [
        {
          "output_type": "execute_result",
          "data": {
            "text/html": [
              "<style  type=\"text/css\" >\n",
              "#T_907653ee_1fdb_11ec_a616_0242ac1c0002row3_col2{\n",
              "            background-color:  yellow;\n",
              "             color:  red;\n",
              "        }</style><table id=\"T_907653ee_1fdb_11ec_a616_0242ac1c0002\" ><thead>    <tr>        <th class=\"blank level0\" ></th>        <th class=\"col_heading level0 col0\" >x1</th>        <th class=\"col_heading level0 col1\" >x2</th>        <th class=\"col_heading level0 col2\" >b</th>    </tr></thead><tbody>\n",
              "                <tr>\n",
              "                        <th id=\"T_907653ee_1fdb_11ec_a616_0242ac1c0002level0_row0\" class=\"row_heading level0 row0\" >R0</th>\n",
              "                        <td id=\"T_907653ee_1fdb_11ec_a616_0242ac1c0002row0_col0\" class=\"data row0 col0\" >60.000000</td>\n",
              "                        <td id=\"T_907653ee_1fdb_11ec_a616_0242ac1c0002row0_col1\" class=\"data row0 col1\" >60.000000</td>\n",
              "                        <td id=\"T_907653ee_1fdb_11ec_a616_0242ac1c0002row0_col2\" class=\"data row0 col2\" >300.000000</td>\n",
              "            </tr>\n",
              "            <tr>\n",
              "                        <th id=\"T_907653ee_1fdb_11ec_a616_0242ac1c0002level0_row1\" class=\"row_heading level0 row1\" >R1</th>\n",
              "                        <td id=\"T_907653ee_1fdb_11ec_a616_0242ac1c0002row1_col0\" class=\"data row1 col0\" >12.000000</td>\n",
              "                        <td id=\"T_907653ee_1fdb_11ec_a616_0242ac1c0002row1_col1\" class=\"data row1 col1\" >6.000000</td>\n",
              "                        <td id=\"T_907653ee_1fdb_11ec_a616_0242ac1c0002row1_col2\" class=\"data row1 col2\" >36.000000</td>\n",
              "            </tr>\n",
              "            <tr>\n",
              "                        <th id=\"T_907653ee_1fdb_11ec_a616_0242ac1c0002level0_row2\" class=\"row_heading level0 row2\" >R2</th>\n",
              "                        <td id=\"T_907653ee_1fdb_11ec_a616_0242ac1c0002row2_col0\" class=\"data row2 col0\" >10.000000</td>\n",
              "                        <td id=\"T_907653ee_1fdb_11ec_a616_0242ac1c0002row2_col1\" class=\"data row2 col1\" >30.000000</td>\n",
              "                        <td id=\"T_907653ee_1fdb_11ec_a616_0242ac1c0002row2_col2\" class=\"data row2 col2\" >90.000000</td>\n",
              "            </tr>\n",
              "            <tr>\n",
              "                        <th id=\"T_907653ee_1fdb_11ec_a616_0242ac1c0002level0_row3\" class=\"row_heading level0 row3\" >R3</th>\n",
              "                        <td id=\"T_907653ee_1fdb_11ec_a616_0242ac1c0002row3_col0\" class=\"data row3 col0\" >0.120000</td>\n",
              "                        <td id=\"T_907653ee_1fdb_11ec_a616_0242ac1c0002row3_col1\" class=\"data row3 col1\" >0.150000</td>\n",
              "                        <td id=\"T_907653ee_1fdb_11ec_a616_0242ac1c0002row3_col2\" class=\"data row3 col2\" >0.000000</td>\n",
              "            </tr>\n",
              "    </tbody></table>"
            ],
            "text/plain": [
              "<pandas.io.formats.style.Styler at 0x7f1417ecff50>"
            ]
          },
          "metadata": {},
          "execution_count": 58
        }
      ]
    },
    {
      "cell_type": "markdown",
      "metadata": {
        "id": "fQCcZ2nRKa1f"
      },
      "source": [
        "## Transpose ($A$)"
      ]
    },
    {
      "cell_type": "markdown",
      "metadata": {
        "id": "EOQJ2CcG9HCM"
      },
      "source": [
        "Now, take the transpose of this matrix. Notice how each column becomes a row - stare at this for a moment if it is new to you.\n",
        "\n",
        "Also note that we have not added any slack variables yet."
      ]
    },
    {
      "cell_type": "code",
      "metadata": {
        "id": "WaQ-mzYw9I7c",
        "colab": {
          "base_uri": "https://localhost:8080/"
        },
        "outputId": "39ab0fb8-ff14-4ccc-fb70-915799689a83"
      },
      "source": [
        "# transpose\n",
        "# we will keep overwriting A\n",
        "A = A.T\n",
        "pprint(A)"
      ],
      "execution_count": null,
      "outputs": [
        {
          "output_type": "stream",
          "name": "stdout",
          "text": [
            "⎡60   12  10  0.12⎤\n",
            "⎢                 ⎥\n",
            "⎢60   6   30  0.15⎥\n",
            "⎢                 ⎥\n",
            "⎣300  36  90   0  ⎦\n"
          ]
        }
      ]
    },
    {
      "cell_type": "markdown",
      "metadata": {
        "id": "5JVIfGqEnTf4"
      },
      "source": [
        "When we take the transpose, we change our variables from $x$ to $y$."
      ]
    },
    {
      "cell_type": "code",
      "metadata": {
        "id": "qppyD8aSgfz_",
        "colab": {
          "base_uri": "https://localhost:8080/",
          "height": 142
        },
        "outputId": "417e64ec-1525-4b30-dd93-bf4079a50306"
      },
      "source": [
        "# you can make it pretty with pandas\n",
        "# we have not added slack variables yet (coming soon)\n",
        "tmp = pd.DataFrame(np.array(A).astype(float))\n",
        "tmp.columns = ['y1', 'y2', 'y3', 'b']\n",
        "tmp.index=['R0', 'R1', 'R2']\n",
        "tmp"
      ],
      "execution_count": null,
      "outputs": [
        {
          "output_type": "execute_result",
          "data": {
            "text/html": [
              "<div>\n",
              "<style scoped>\n",
              "    .dataframe tbody tr th:only-of-type {\n",
              "        vertical-align: middle;\n",
              "    }\n",
              "\n",
              "    .dataframe tbody tr th {\n",
              "        vertical-align: top;\n",
              "    }\n",
              "\n",
              "    .dataframe thead th {\n",
              "        text-align: right;\n",
              "    }\n",
              "</style>\n",
              "<table border=\"1\" class=\"dataframe\">\n",
              "  <thead>\n",
              "    <tr style=\"text-align: right;\">\n",
              "      <th></th>\n",
              "      <th>y1</th>\n",
              "      <th>y2</th>\n",
              "      <th>y3</th>\n",
              "      <th>b</th>\n",
              "    </tr>\n",
              "  </thead>\n",
              "  <tbody>\n",
              "    <tr>\n",
              "      <th>R0</th>\n",
              "      <td>60.0</td>\n",
              "      <td>12.0</td>\n",
              "      <td>10.0</td>\n",
              "      <td>0.12</td>\n",
              "    </tr>\n",
              "    <tr>\n",
              "      <th>R1</th>\n",
              "      <td>60.0</td>\n",
              "      <td>6.0</td>\n",
              "      <td>30.0</td>\n",
              "      <td>0.15</td>\n",
              "    </tr>\n",
              "    <tr>\n",
              "      <th>R2</th>\n",
              "      <td>300.0</td>\n",
              "      <td>36.0</td>\n",
              "      <td>90.0</td>\n",
              "      <td>0.00</td>\n",
              "    </tr>\n",
              "  </tbody>\n",
              "</table>\n",
              "</div>"
            ],
            "text/plain": [
              "       y1    y2    y3     b\n",
              "R0   60.0  12.0  10.0  0.12\n",
              "R1   60.0   6.0  30.0  0.15\n",
              "R2  300.0  36.0  90.0  0.00"
            ]
          },
          "metadata": {},
          "execution_count": 60
        }
      ]
    },
    {
      "cell_type": "markdown",
      "metadata": {
        "id": "MiOFGSsB9X5n"
      },
      "source": [
        "Great! And now we will interpret this transposed matrix as a maximization problem. Will add our slack variables in a moment."
      ]
    },
    {
      "cell_type": "markdown",
      "metadata": {
        "id": "E4gmwfOc9eGN"
      },
      "source": [
        "# Dual Maximization Problem\n",
        "In order to interpret the transposed matrix as a maximization problem, we introduce new variables $y_1, y_2, y_3$. This corresponding maximization problem is called the dual of the original problem.\n",
        "\n",
        "So, now we need to find the maximum value of:\n",
        "\n",
        "$z = 300y_1 + 36y_2 + 90y_3$\n",
        "\n",
        "subject to:\n",
        "* $60y_1 + 12y_2 + 10y_3 + s_1 \\leq 0.12$\n",
        "* $60y_1 + 6y_2 + 30y_3 + s_2 \\leq 0.15$\n",
        "* $y_1,y_2,y_3 \\geq 0$\n",
        "\n",
        "Do you see how all of the $\\geq$ constraints were switched to $\\leq$ (does not include nonnegativity, which is always true)? You still need to put this in standard form and set up the initial simplex tableau.\n",
        "\n",
        "Notice our naming conventions here - $w$ has been replaced by $z$, and $x$ has been replaced by $y$. This naming convention will help keep you organized!\n",
        "\n",
        "The solution of the original minimization problem can be found by applying the simplex method to the new dual problem. At the end, you'll just need to interpret the final tableau a little differently.\n",
        "\n",
        "Let's remake A but now we will include our slack variables $s_1$ and $s_2$."
      ]
    },
    {
      "cell_type": "code",
      "metadata": {
        "id": "70Sj9bkkCeQG",
        "colab": {
          "base_uri": "https://localhost:8080/"
        },
        "outputId": "2d4f2741-00ff-4e61-fbe7-bc4137650ab8"
      },
      "source": [
        "# since this is a maximization problem\n",
        "# we need to remake our initial tableau and add slack variables\n",
        "\n",
        "\n",
        "# column names are y1, y2, y3, s1, s2, b\n",
        "A = Matrix([[60, 12, 10, 1, 0, 0.12],\n",
        "            [60, 6, 30, 0, 1, 0.15],\n",
        "            [-300, -36, -90, 0, 0, 0]])\n",
        "\n",
        "pprint(A)"
      ],
      "execution_count": null,
      "outputs": [
        {
          "output_type": "stream",
          "name": "stdout",
          "text": [
            "⎡ 60   12   10   1  0  0.12⎤\n",
            "⎢                          ⎥\n",
            "⎢ 60    6   30   0  1  0.15⎥\n",
            "⎢                          ⎥\n",
            "⎣-300  -36  -90  0  0   0  ⎦\n"
          ]
        }
      ]
    },
    {
      "cell_type": "code",
      "metadata": {
        "id": "lgEknJsag0pv",
        "colab": {
          "base_uri": "https://localhost:8080/",
          "height": 103
        },
        "outputId": "f686f0ac-f74c-4f1b-d3ac-fb97b16eee8e"
      },
      "source": [
        "# make it pretty\n",
        "tmp = pd.DataFrame(np.array(A).astype(float)) # you only need this in the first example\n",
        "tmp.columns = ['y1', 'y2', 'y3', 's1', 's2', 'b']\n",
        "tmp.index=['R0', 'R1', 'R2']\n",
        "tmp\n",
        "\n",
        "# style - this is for an individual cell\n",
        "idx_r = 2   # Row index of cell to color\n",
        "idx_c = 5   # Column index of cell to color \n",
        "\n",
        "# see the columns 's1' and 's2' called out in the code below?\n",
        "# see how I am apply the highlighting of columns twice?\n",
        "tmp.style\\\n",
        ".apply(lambda x: ['background: lightblue' if x.name == 's1' else '' for i in x])\\\n",
        ".apply(lambda x: ['background: lightblue' if x.name == 's2' else '' for i in x])\\\n",
        ".apply(styling_specific_cell, row_idx = idx_r, col_idx = idx_c, axis = None)\n"
      ],
      "execution_count": null,
      "outputs": [
        {
          "output_type": "execute_result",
          "data": {
            "text/html": [
              "<style  type=\"text/css\" >\n",
              "#T_908c8da8_1fdb_11ec_a616_0242ac1c0002row0_col3,#T_908c8da8_1fdb_11ec_a616_0242ac1c0002row0_col4,#T_908c8da8_1fdb_11ec_a616_0242ac1c0002row1_col3,#T_908c8da8_1fdb_11ec_a616_0242ac1c0002row1_col4,#T_908c8da8_1fdb_11ec_a616_0242ac1c0002row2_col3,#T_908c8da8_1fdb_11ec_a616_0242ac1c0002row2_col4{\n",
              "            background:  lightblue;\n",
              "        }#T_908c8da8_1fdb_11ec_a616_0242ac1c0002row2_col5{\n",
              "            background-color:  yellow;\n",
              "             color:  red;\n",
              "        }</style><table id=\"T_908c8da8_1fdb_11ec_a616_0242ac1c0002\" ><thead>    <tr>        <th class=\"blank level0\" ></th>        <th class=\"col_heading level0 col0\" >y1</th>        <th class=\"col_heading level0 col1\" >y2</th>        <th class=\"col_heading level0 col2\" >y3</th>        <th class=\"col_heading level0 col3\" >s1</th>        <th class=\"col_heading level0 col4\" >s2</th>        <th class=\"col_heading level0 col5\" >b</th>    </tr></thead><tbody>\n",
              "                <tr>\n",
              "                        <th id=\"T_908c8da8_1fdb_11ec_a616_0242ac1c0002level0_row0\" class=\"row_heading level0 row0\" >R0</th>\n",
              "                        <td id=\"T_908c8da8_1fdb_11ec_a616_0242ac1c0002row0_col0\" class=\"data row0 col0\" >60.000000</td>\n",
              "                        <td id=\"T_908c8da8_1fdb_11ec_a616_0242ac1c0002row0_col1\" class=\"data row0 col1\" >12.000000</td>\n",
              "                        <td id=\"T_908c8da8_1fdb_11ec_a616_0242ac1c0002row0_col2\" class=\"data row0 col2\" >10.000000</td>\n",
              "                        <td id=\"T_908c8da8_1fdb_11ec_a616_0242ac1c0002row0_col3\" class=\"data row0 col3\" >1.000000</td>\n",
              "                        <td id=\"T_908c8da8_1fdb_11ec_a616_0242ac1c0002row0_col4\" class=\"data row0 col4\" >0.000000</td>\n",
              "                        <td id=\"T_908c8da8_1fdb_11ec_a616_0242ac1c0002row0_col5\" class=\"data row0 col5\" >0.120000</td>\n",
              "            </tr>\n",
              "            <tr>\n",
              "                        <th id=\"T_908c8da8_1fdb_11ec_a616_0242ac1c0002level0_row1\" class=\"row_heading level0 row1\" >R1</th>\n",
              "                        <td id=\"T_908c8da8_1fdb_11ec_a616_0242ac1c0002row1_col0\" class=\"data row1 col0\" >60.000000</td>\n",
              "                        <td id=\"T_908c8da8_1fdb_11ec_a616_0242ac1c0002row1_col1\" class=\"data row1 col1\" >6.000000</td>\n",
              "                        <td id=\"T_908c8da8_1fdb_11ec_a616_0242ac1c0002row1_col2\" class=\"data row1 col2\" >30.000000</td>\n",
              "                        <td id=\"T_908c8da8_1fdb_11ec_a616_0242ac1c0002row1_col3\" class=\"data row1 col3\" >0.000000</td>\n",
              "                        <td id=\"T_908c8da8_1fdb_11ec_a616_0242ac1c0002row1_col4\" class=\"data row1 col4\" >1.000000</td>\n",
              "                        <td id=\"T_908c8da8_1fdb_11ec_a616_0242ac1c0002row1_col5\" class=\"data row1 col5\" >0.150000</td>\n",
              "            </tr>\n",
              "            <tr>\n",
              "                        <th id=\"T_908c8da8_1fdb_11ec_a616_0242ac1c0002level0_row2\" class=\"row_heading level0 row2\" >R2</th>\n",
              "                        <td id=\"T_908c8da8_1fdb_11ec_a616_0242ac1c0002row2_col0\" class=\"data row2 col0\" >-300.000000</td>\n",
              "                        <td id=\"T_908c8da8_1fdb_11ec_a616_0242ac1c0002row2_col1\" class=\"data row2 col1\" >-36.000000</td>\n",
              "                        <td id=\"T_908c8da8_1fdb_11ec_a616_0242ac1c0002row2_col2\" class=\"data row2 col2\" >-90.000000</td>\n",
              "                        <td id=\"T_908c8da8_1fdb_11ec_a616_0242ac1c0002row2_col3\" class=\"data row2 col3\" >0.000000</td>\n",
              "                        <td id=\"T_908c8da8_1fdb_11ec_a616_0242ac1c0002row2_col4\" class=\"data row2 col4\" >0.000000</td>\n",
              "                        <td id=\"T_908c8da8_1fdb_11ec_a616_0242ac1c0002row2_col5\" class=\"data row2 col5\" >0.000000</td>\n",
              "            </tr>\n",
              "    </tbody></table>"
            ],
            "text/plain": [
              "<pandas.io.formats.style.Styler at 0x7f1417ea08d0>"
            ]
          },
          "metadata": {},
          "execution_count": 62
        }
      ]
    },
    {
      "cell_type": "markdown",
      "metadata": {
        "id": "HafRO-HrBxce"
      },
      "source": [
        "Do you see how we have incorporated our slack variabes $s_1$ and $s_2$ (blue- they correspond to values of 0.12 and 0.15 - this is the 'do nothing' solution and we get a $z$ of 0)? And do you see how we have negative values in the bottom row? $z$ is in the bottom right (yellow/red cell). \n",
        "\n",
        "The **basic variables** are s1 and s2 and this results in a $z$ of 0. We can do better than that!\n",
        "\n",
        "Let's move onto pivoting..."
      ]
    },
    {
      "cell_type": "markdown",
      "metadata": {
        "id": "1G2KpzsAYmNp"
      },
      "source": [
        "# Reminder on Pivoting\n",
        "\n",
        "Remember - after you have set up the initial simplex tableau for a linear programming problem, the simplex method consists of checking for optimality and then, when the current solution is not optimal, improving the current solution. (An improved solution is one that has a larger z-value than the current solution.) \n",
        "\n",
        "To improve the current solution, bring a new basic variable into the solution, the entering variable. This implies that one of the current basic variables (the departing variable) must leave, otherwise you would have too many variables for a basic solution. Choose the entering and departing variables as listed below. \n",
        "\n",
        "1. The **entering variable** corresponds to the least (the most negative) entry in the bottom row of the tableau, excluding the “b-column.” \n",
        "2.  The **departing variable** corresponds to the least nonnegative ratio $b_i/$$a_i$$_j$ in the column determined by the entering variable, when $a_i$$_j$ $> 0$.\n",
        "3.  The entry in the simplex tableau in the entering variable’s column and the departing variable’s row is the **pivot**. \n",
        "\n",
        "Finally, to form the improved solution, apply Gauss-Jordan elimination (https://online.stat.psu.edu/statprogram/reviews/matrix-algebra/gauss-jordan-elimination) to the column that contains the pivot, as illustrated in Example 1.\n",
        " "
      ]
    },
    {
      "cell_type": "markdown",
      "metadata": {
        "id": "MPb9Cbpm_PNe"
      },
      "source": [
        "# Pivot #1\n",
        "As a refresher, here is the initial simplex tableau. "
      ]
    },
    {
      "cell_type": "code",
      "metadata": {
        "colab": {
          "base_uri": "https://localhost:8080/",
          "height": 142
        },
        "id": "wknREyXlK3_B",
        "outputId": "dede5f65-be81-46e6-9767-e1e0a8ab2897"
      },
      "source": [
        "tmp"
      ],
      "execution_count": null,
      "outputs": [
        {
          "output_type": "execute_result",
          "data": {
            "text/html": [
              "<div>\n",
              "<style scoped>\n",
              "    .dataframe tbody tr th:only-of-type {\n",
              "        vertical-align: middle;\n",
              "    }\n",
              "\n",
              "    .dataframe tbody tr th {\n",
              "        vertical-align: top;\n",
              "    }\n",
              "\n",
              "    .dataframe thead th {\n",
              "        text-align: right;\n",
              "    }\n",
              "</style>\n",
              "<table border=\"1\" class=\"dataframe\">\n",
              "  <thead>\n",
              "    <tr style=\"text-align: right;\">\n",
              "      <th></th>\n",
              "      <th>y1</th>\n",
              "      <th>y2</th>\n",
              "      <th>y3</th>\n",
              "      <th>s1</th>\n",
              "      <th>s2</th>\n",
              "      <th>b</th>\n",
              "    </tr>\n",
              "  </thead>\n",
              "  <tbody>\n",
              "    <tr>\n",
              "      <th>R0</th>\n",
              "      <td>60.0</td>\n",
              "      <td>12.0</td>\n",
              "      <td>10.0</td>\n",
              "      <td>1.0</td>\n",
              "      <td>0.0</td>\n",
              "      <td>0.12</td>\n",
              "    </tr>\n",
              "    <tr>\n",
              "      <th>R1</th>\n",
              "      <td>60.0</td>\n",
              "      <td>6.0</td>\n",
              "      <td>30.0</td>\n",
              "      <td>0.0</td>\n",
              "      <td>1.0</td>\n",
              "      <td>0.15</td>\n",
              "    </tr>\n",
              "    <tr>\n",
              "      <th>R2</th>\n",
              "      <td>-300.0</td>\n",
              "      <td>-36.0</td>\n",
              "      <td>-90.0</td>\n",
              "      <td>0.0</td>\n",
              "      <td>0.0</td>\n",
              "      <td>0.00</td>\n",
              "    </tr>\n",
              "  </tbody>\n",
              "</table>\n",
              "</div>"
            ],
            "text/plain": [
              "       y1    y2    y3   s1   s2     b\n",
              "R0   60.0  12.0  10.0  1.0  0.0  0.12\n",
              "R1   60.0   6.0  30.0  0.0  1.0  0.15\n",
              "R2 -300.0 -36.0 -90.0  0.0  0.0  0.00"
            ]
          },
          "metadata": {},
          "execution_count": 63
        }
      ]
    },
    {
      "cell_type": "markdown",
      "metadata": {
        "id": "bjYlk8qFK-4J"
      },
      "source": [
        "## Entering Variable\n",
        "Step one is to look for the most negative value in the initial tableau (the **entering variable**), which is -300 ($y_1$)."
      ]
    },
    {
      "cell_type": "code",
      "metadata": {
        "colab": {
          "base_uri": "https://localhost:8080/",
          "height": 103
        },
        "id": "yKj7rtVJLDtB",
        "outputId": "0219c613-de27-4564-9e84-74dd77aa41c1"
      },
      "source": [
        "tmp.style\\\n",
        ".apply(lambda x: ['background: lightblue' if x.name == 'y1' else '' for i in x])"
      ],
      "execution_count": null,
      "outputs": [
        {
          "output_type": "execute_result",
          "data": {
            "text/html": [
              "<style  type=\"text/css\" >\n",
              "#T_9096a1e4_1fdb_11ec_a616_0242ac1c0002row0_col0,#T_9096a1e4_1fdb_11ec_a616_0242ac1c0002row1_col0,#T_9096a1e4_1fdb_11ec_a616_0242ac1c0002row2_col0{\n",
              "            background:  lightblue;\n",
              "        }</style><table id=\"T_9096a1e4_1fdb_11ec_a616_0242ac1c0002\" ><thead>    <tr>        <th class=\"blank level0\" ></th>        <th class=\"col_heading level0 col0\" >y1</th>        <th class=\"col_heading level0 col1\" >y2</th>        <th class=\"col_heading level0 col2\" >y3</th>        <th class=\"col_heading level0 col3\" >s1</th>        <th class=\"col_heading level0 col4\" >s2</th>        <th class=\"col_heading level0 col5\" >b</th>    </tr></thead><tbody>\n",
              "                <tr>\n",
              "                        <th id=\"T_9096a1e4_1fdb_11ec_a616_0242ac1c0002level0_row0\" class=\"row_heading level0 row0\" >R0</th>\n",
              "                        <td id=\"T_9096a1e4_1fdb_11ec_a616_0242ac1c0002row0_col0\" class=\"data row0 col0\" >60.000000</td>\n",
              "                        <td id=\"T_9096a1e4_1fdb_11ec_a616_0242ac1c0002row0_col1\" class=\"data row0 col1\" >12.000000</td>\n",
              "                        <td id=\"T_9096a1e4_1fdb_11ec_a616_0242ac1c0002row0_col2\" class=\"data row0 col2\" >10.000000</td>\n",
              "                        <td id=\"T_9096a1e4_1fdb_11ec_a616_0242ac1c0002row0_col3\" class=\"data row0 col3\" >1.000000</td>\n",
              "                        <td id=\"T_9096a1e4_1fdb_11ec_a616_0242ac1c0002row0_col4\" class=\"data row0 col4\" >0.000000</td>\n",
              "                        <td id=\"T_9096a1e4_1fdb_11ec_a616_0242ac1c0002row0_col5\" class=\"data row0 col5\" >0.120000</td>\n",
              "            </tr>\n",
              "            <tr>\n",
              "                        <th id=\"T_9096a1e4_1fdb_11ec_a616_0242ac1c0002level0_row1\" class=\"row_heading level0 row1\" >R1</th>\n",
              "                        <td id=\"T_9096a1e4_1fdb_11ec_a616_0242ac1c0002row1_col0\" class=\"data row1 col0\" >60.000000</td>\n",
              "                        <td id=\"T_9096a1e4_1fdb_11ec_a616_0242ac1c0002row1_col1\" class=\"data row1 col1\" >6.000000</td>\n",
              "                        <td id=\"T_9096a1e4_1fdb_11ec_a616_0242ac1c0002row1_col2\" class=\"data row1 col2\" >30.000000</td>\n",
              "                        <td id=\"T_9096a1e4_1fdb_11ec_a616_0242ac1c0002row1_col3\" class=\"data row1 col3\" >0.000000</td>\n",
              "                        <td id=\"T_9096a1e4_1fdb_11ec_a616_0242ac1c0002row1_col4\" class=\"data row1 col4\" >1.000000</td>\n",
              "                        <td id=\"T_9096a1e4_1fdb_11ec_a616_0242ac1c0002row1_col5\" class=\"data row1 col5\" >0.150000</td>\n",
              "            </tr>\n",
              "            <tr>\n",
              "                        <th id=\"T_9096a1e4_1fdb_11ec_a616_0242ac1c0002level0_row2\" class=\"row_heading level0 row2\" >R2</th>\n",
              "                        <td id=\"T_9096a1e4_1fdb_11ec_a616_0242ac1c0002row2_col0\" class=\"data row2 col0\" >-300.000000</td>\n",
              "                        <td id=\"T_9096a1e4_1fdb_11ec_a616_0242ac1c0002row2_col1\" class=\"data row2 col1\" >-36.000000</td>\n",
              "                        <td id=\"T_9096a1e4_1fdb_11ec_a616_0242ac1c0002row2_col2\" class=\"data row2 col2\" >-90.000000</td>\n",
              "                        <td id=\"T_9096a1e4_1fdb_11ec_a616_0242ac1c0002row2_col3\" class=\"data row2 col3\" >0.000000</td>\n",
              "                        <td id=\"T_9096a1e4_1fdb_11ec_a616_0242ac1c0002row2_col4\" class=\"data row2 col4\" >0.000000</td>\n",
              "                        <td id=\"T_9096a1e4_1fdb_11ec_a616_0242ac1c0002row2_col5\" class=\"data row2 col5\" >0.000000</td>\n",
              "            </tr>\n",
              "    </tbody></table>"
            ],
            "text/plain": [
              "<pandas.io.formats.style.Styler at 0x7f1417f18690>"
            ]
          },
          "metadata": {},
          "execution_count": 64
        }
      ]
    },
    {
      "cell_type": "markdown",
      "metadata": {
        "id": "0nfBPxN8KzYZ"
      },
      "source": [
        "## Departing Variable\n",
        "\n",
        "Then, compute ratios $b_i/$$a_i$$_j$ to determine which variable is the **departing variable**.\n",
        "\n",
        "$0.12/60 = 0.002$ `s1`\n",
        "\n",
        "$0.15/60 = 0.0025$ `s2`\n",
        "\n",
        "Since $s_1$ is the *smaller positive number*, it becomes the **departing variable**."
      ]
    },
    {
      "cell_type": "code",
      "metadata": {
        "id": "06eNktPW9gIu",
        "colab": {
          "base_uri": "https://localhost:8080/"
        },
        "outputId": "6a93c128-8e73-46ee-e3a3-6afb3b6416fc"
      },
      "source": [
        "print(0.12/60) # s1 (winner! barely...)\n",
        "print(0.15/60) # s2 "
      ],
      "execution_count": null,
      "outputs": [
        {
          "output_type": "stream",
          "name": "stdout",
          "text": [
            "0.002\n",
            "0.0025\n"
          ]
        }
      ]
    },
    {
      "cell_type": "markdown",
      "metadata": {
        "id": "xV34mJXyEyJu"
      },
      "source": [
        "Now that means the pivot element is '60' in the top left corner, which we will need to turn into a 1. To do this, we multiply Row 0 (R0) by 1/60*R0"
      ]
    },
    {
      "cell_type": "code",
      "metadata": {
        "id": "iflhLJwYE369",
        "colab": {
          "base_uri": "https://localhost:8080/"
        },
        "outputId": "b70e7102-0a48-46cb-864a-71aec17f384b"
      },
      "source": [
        "# before\n",
        "pprint(A)"
      ],
      "execution_count": null,
      "outputs": [
        {
          "output_type": "stream",
          "name": "stdout",
          "text": [
            "⎡ 60   12   10   1  0  0.12⎤\n",
            "⎢                          ⎥\n",
            "⎢ 60    6   30   0  1  0.15⎥\n",
            "⎢                          ⎥\n",
            "⎣-300  -36  -90  0  0   0  ⎦\n"
          ]
        }
      ]
    },
    {
      "cell_type": "code",
      "metadata": {
        "id": "MXi7L03th5DQ",
        "colab": {
          "base_uri": "https://localhost:8080/",
          "height": 103
        },
        "outputId": "c0863618-4d8e-422f-95b7-7b8d675b816c"
      },
      "source": [
        "# before - make it pretty\n",
        "tmp = pd.DataFrame(np.array(A).astype(float))\n",
        "tmp.columns = ['y1', 'y2', 'y3', 's1', 's2', 'b']\n",
        "tmp.index=['R0', 'R1', 'R2']\n",
        "tmp\n",
        "\n",
        "# highlight the pivot element\n",
        "idx_r = 0\n",
        "idx_c = 0\n",
        "\n",
        "tmp.style\\\n",
        ".apply(lambda x: ['background: lightblue' if x.name == 'y1' else '' for i in x])\\\n",
        ".apply(lambda x: ['background: lightblue' if x.name == 'R0' else '' for i in x], axis=1)\\\n",
        ".apply(styling_specific_cell, row_idx = idx_r, col_idx = idx_c, axis = None)"
      ],
      "execution_count": null,
      "outputs": [
        {
          "output_type": "execute_result",
          "data": {
            "text/html": [
              "<style  type=\"text/css\" >\n",
              "#T_90a9592e_1fdb_11ec_a616_0242ac1c0002row0_col0{\n",
              "            background:  lightblue;\n",
              "            background:  lightblue;\n",
              "            background-color:  yellow;\n",
              "             color:  red;\n",
              "        }#T_90a9592e_1fdb_11ec_a616_0242ac1c0002row0_col1,#T_90a9592e_1fdb_11ec_a616_0242ac1c0002row0_col2,#T_90a9592e_1fdb_11ec_a616_0242ac1c0002row0_col3,#T_90a9592e_1fdb_11ec_a616_0242ac1c0002row0_col4,#T_90a9592e_1fdb_11ec_a616_0242ac1c0002row0_col5,#T_90a9592e_1fdb_11ec_a616_0242ac1c0002row1_col0,#T_90a9592e_1fdb_11ec_a616_0242ac1c0002row2_col0{\n",
              "            background:  lightblue;\n",
              "        }</style><table id=\"T_90a9592e_1fdb_11ec_a616_0242ac1c0002\" ><thead>    <tr>        <th class=\"blank level0\" ></th>        <th class=\"col_heading level0 col0\" >y1</th>        <th class=\"col_heading level0 col1\" >y2</th>        <th class=\"col_heading level0 col2\" >y3</th>        <th class=\"col_heading level0 col3\" >s1</th>        <th class=\"col_heading level0 col4\" >s2</th>        <th class=\"col_heading level0 col5\" >b</th>    </tr></thead><tbody>\n",
              "                <tr>\n",
              "                        <th id=\"T_90a9592e_1fdb_11ec_a616_0242ac1c0002level0_row0\" class=\"row_heading level0 row0\" >R0</th>\n",
              "                        <td id=\"T_90a9592e_1fdb_11ec_a616_0242ac1c0002row0_col0\" class=\"data row0 col0\" >60.000000</td>\n",
              "                        <td id=\"T_90a9592e_1fdb_11ec_a616_0242ac1c0002row0_col1\" class=\"data row0 col1\" >12.000000</td>\n",
              "                        <td id=\"T_90a9592e_1fdb_11ec_a616_0242ac1c0002row0_col2\" class=\"data row0 col2\" >10.000000</td>\n",
              "                        <td id=\"T_90a9592e_1fdb_11ec_a616_0242ac1c0002row0_col3\" class=\"data row0 col3\" >1.000000</td>\n",
              "                        <td id=\"T_90a9592e_1fdb_11ec_a616_0242ac1c0002row0_col4\" class=\"data row0 col4\" >0.000000</td>\n",
              "                        <td id=\"T_90a9592e_1fdb_11ec_a616_0242ac1c0002row0_col5\" class=\"data row0 col5\" >0.120000</td>\n",
              "            </tr>\n",
              "            <tr>\n",
              "                        <th id=\"T_90a9592e_1fdb_11ec_a616_0242ac1c0002level0_row1\" class=\"row_heading level0 row1\" >R1</th>\n",
              "                        <td id=\"T_90a9592e_1fdb_11ec_a616_0242ac1c0002row1_col0\" class=\"data row1 col0\" >60.000000</td>\n",
              "                        <td id=\"T_90a9592e_1fdb_11ec_a616_0242ac1c0002row1_col1\" class=\"data row1 col1\" >6.000000</td>\n",
              "                        <td id=\"T_90a9592e_1fdb_11ec_a616_0242ac1c0002row1_col2\" class=\"data row1 col2\" >30.000000</td>\n",
              "                        <td id=\"T_90a9592e_1fdb_11ec_a616_0242ac1c0002row1_col3\" class=\"data row1 col3\" >0.000000</td>\n",
              "                        <td id=\"T_90a9592e_1fdb_11ec_a616_0242ac1c0002row1_col4\" class=\"data row1 col4\" >1.000000</td>\n",
              "                        <td id=\"T_90a9592e_1fdb_11ec_a616_0242ac1c0002row1_col5\" class=\"data row1 col5\" >0.150000</td>\n",
              "            </tr>\n",
              "            <tr>\n",
              "                        <th id=\"T_90a9592e_1fdb_11ec_a616_0242ac1c0002level0_row2\" class=\"row_heading level0 row2\" >R2</th>\n",
              "                        <td id=\"T_90a9592e_1fdb_11ec_a616_0242ac1c0002row2_col0\" class=\"data row2 col0\" >-300.000000</td>\n",
              "                        <td id=\"T_90a9592e_1fdb_11ec_a616_0242ac1c0002row2_col1\" class=\"data row2 col1\" >-36.000000</td>\n",
              "                        <td id=\"T_90a9592e_1fdb_11ec_a616_0242ac1c0002row2_col2\" class=\"data row2 col2\" >-90.000000</td>\n",
              "                        <td id=\"T_90a9592e_1fdb_11ec_a616_0242ac1c0002row2_col3\" class=\"data row2 col3\" >0.000000</td>\n",
              "                        <td id=\"T_90a9592e_1fdb_11ec_a616_0242ac1c0002row2_col4\" class=\"data row2 col4\" >0.000000</td>\n",
              "                        <td id=\"T_90a9592e_1fdb_11ec_a616_0242ac1c0002row2_col5\" class=\"data row2 col5\" >0.000000</td>\n",
              "            </tr>\n",
              "    </tbody></table>"
            ],
            "text/plain": [
              "<pandas.io.formats.style.Styler at 0x7f1417e655d0>"
            ]
          },
          "metadata": {},
          "execution_count": 67
        }
      ]
    },
    {
      "cell_type": "markdown",
      "metadata": {
        "id": "tab5tomkLInn"
      },
      "source": [
        "## Turn Pivot Element Into a '1'."
      ]
    },
    {
      "cell_type": "markdown",
      "metadata": {
        "id": "-XElDCUULQy3"
      },
      "source": [
        "Notice how we are using `Rational` here instead of `Fraction`... you will see why in a moment! In the future, you can just use `Rational` and the `nsimplify` code, it won't hurt."
      ]
    },
    {
      "cell_type": "code",
      "metadata": {
        "id": "ucaMroU8FFgd",
        "colab": {
          "base_uri": "https://localhost:8080/"
        },
        "outputId": "8d96ea73-3ce3-450c-d854-8378cf6cd7ea"
      },
      "source": [
        "# after\n",
        "A[0,:] = Rational(1,60)*A[0,:]\n",
        "pprint(A) # check your work"
      ],
      "execution_count": null,
      "outputs": [
        {
          "output_type": "stream",
          "name": "stdout",
          "text": [
            "⎡ 1    1/5  1/6  1/60  0  0.002⎤\n",
            "⎢                              ⎥\n",
            "⎢ 60    6   30    0    1  0.15 ⎥\n",
            "⎢                              ⎥\n",
            "⎣-300  -36  -90   0    0    0  ⎦\n"
          ]
        }
      ]
    },
    {
      "cell_type": "code",
      "metadata": {
        "id": "5SgQYUaOLHto",
        "colab": {
          "base_uri": "https://localhost:8080/"
        },
        "outputId": "5e1e4fa8-86e2-4521-a762-6ee75b9a91dd"
      },
      "source": [
        "# if it looks a little messy, try nsimplify\n",
        "# make sure you wrap it in a Matrix()...\n",
        "# otherwise you will get an 'immutable matrix' error\n",
        "A = Matrix(nsimplify(A, rational=True))\n",
        "pprint(A)"
      ],
      "execution_count": null,
      "outputs": [
        {
          "output_type": "stream",
          "name": "stdout",
          "text": [
            "⎡ 1    1/5  1/6  1/60  0  1/500⎤\n",
            "⎢                              ⎥\n",
            "⎢ 60    6   30    0    1  3/20 ⎥\n",
            "⎢                              ⎥\n",
            "⎣-300  -36  -90   0    0    0  ⎦\n"
          ]
        }
      ]
    },
    {
      "cell_type": "code",
      "metadata": {
        "id": "tVKdzeyBivcK",
        "colab": {
          "base_uri": "https://localhost:8080/",
          "height": 103
        },
        "outputId": "c98bb74f-0082-4554-8863-de907c060d9a"
      },
      "source": [
        "# make it pretty\n",
        "tmp = pd.DataFrame(np.array(A))\n",
        "tmp.columns = ['y1', 'y2', 'y3', 's1', 's2', 'b']\n",
        "tmp.index=['R0', 'R1', 'R2']\n",
        "tmp\n",
        "\n",
        "# highlight the pivot element\n",
        "idx_r = 0\n",
        "idx_c = 0\n",
        "\n",
        "tmp.style\\\n",
        ".apply(lambda x: ['background: lightblue' if x.name == 'y1' else '' for i in x])\\\n",
        ".apply(lambda x: ['background: lightblue' if x.name == 'R0' else '' for i in x], axis=1)\\\n",
        ".apply(styling_specific_cell, row_idx = idx_r, col_idx = idx_c, axis = None)"
      ],
      "execution_count": null,
      "outputs": [
        {
          "output_type": "execute_result",
          "data": {
            "text/html": [
              "<style  type=\"text/css\" >\n",
              "#T_90bfaca6_1fdb_11ec_a616_0242ac1c0002row0_col0{\n",
              "            background:  lightblue;\n",
              "            background:  lightblue;\n",
              "            background-color:  yellow;\n",
              "             color:  red;\n",
              "        }#T_90bfaca6_1fdb_11ec_a616_0242ac1c0002row0_col1,#T_90bfaca6_1fdb_11ec_a616_0242ac1c0002row0_col2,#T_90bfaca6_1fdb_11ec_a616_0242ac1c0002row0_col3,#T_90bfaca6_1fdb_11ec_a616_0242ac1c0002row0_col4,#T_90bfaca6_1fdb_11ec_a616_0242ac1c0002row0_col5,#T_90bfaca6_1fdb_11ec_a616_0242ac1c0002row1_col0,#T_90bfaca6_1fdb_11ec_a616_0242ac1c0002row2_col0{\n",
              "            background:  lightblue;\n",
              "        }</style><table id=\"T_90bfaca6_1fdb_11ec_a616_0242ac1c0002\" ><thead>    <tr>        <th class=\"blank level0\" ></th>        <th class=\"col_heading level0 col0\" >y1</th>        <th class=\"col_heading level0 col1\" >y2</th>        <th class=\"col_heading level0 col2\" >y3</th>        <th class=\"col_heading level0 col3\" >s1</th>        <th class=\"col_heading level0 col4\" >s2</th>        <th class=\"col_heading level0 col5\" >b</th>    </tr></thead><tbody>\n",
              "                <tr>\n",
              "                        <th id=\"T_90bfaca6_1fdb_11ec_a616_0242ac1c0002level0_row0\" class=\"row_heading level0 row0\" >R0</th>\n",
              "                        <td id=\"T_90bfaca6_1fdb_11ec_a616_0242ac1c0002row0_col0\" class=\"data row0 col0\" >1</td>\n",
              "                        <td id=\"T_90bfaca6_1fdb_11ec_a616_0242ac1c0002row0_col1\" class=\"data row0 col1\" >1/5</td>\n",
              "                        <td id=\"T_90bfaca6_1fdb_11ec_a616_0242ac1c0002row0_col2\" class=\"data row0 col2\" >1/6</td>\n",
              "                        <td id=\"T_90bfaca6_1fdb_11ec_a616_0242ac1c0002row0_col3\" class=\"data row0 col3\" >1/60</td>\n",
              "                        <td id=\"T_90bfaca6_1fdb_11ec_a616_0242ac1c0002row0_col4\" class=\"data row0 col4\" >0</td>\n",
              "                        <td id=\"T_90bfaca6_1fdb_11ec_a616_0242ac1c0002row0_col5\" class=\"data row0 col5\" >1/500</td>\n",
              "            </tr>\n",
              "            <tr>\n",
              "                        <th id=\"T_90bfaca6_1fdb_11ec_a616_0242ac1c0002level0_row1\" class=\"row_heading level0 row1\" >R1</th>\n",
              "                        <td id=\"T_90bfaca6_1fdb_11ec_a616_0242ac1c0002row1_col0\" class=\"data row1 col0\" >60</td>\n",
              "                        <td id=\"T_90bfaca6_1fdb_11ec_a616_0242ac1c0002row1_col1\" class=\"data row1 col1\" >6</td>\n",
              "                        <td id=\"T_90bfaca6_1fdb_11ec_a616_0242ac1c0002row1_col2\" class=\"data row1 col2\" >30</td>\n",
              "                        <td id=\"T_90bfaca6_1fdb_11ec_a616_0242ac1c0002row1_col3\" class=\"data row1 col3\" >0</td>\n",
              "                        <td id=\"T_90bfaca6_1fdb_11ec_a616_0242ac1c0002row1_col4\" class=\"data row1 col4\" >1</td>\n",
              "                        <td id=\"T_90bfaca6_1fdb_11ec_a616_0242ac1c0002row1_col5\" class=\"data row1 col5\" >3/20</td>\n",
              "            </tr>\n",
              "            <tr>\n",
              "                        <th id=\"T_90bfaca6_1fdb_11ec_a616_0242ac1c0002level0_row2\" class=\"row_heading level0 row2\" >R2</th>\n",
              "                        <td id=\"T_90bfaca6_1fdb_11ec_a616_0242ac1c0002row2_col0\" class=\"data row2 col0\" >-300</td>\n",
              "                        <td id=\"T_90bfaca6_1fdb_11ec_a616_0242ac1c0002row2_col1\" class=\"data row2 col1\" >-36</td>\n",
              "                        <td id=\"T_90bfaca6_1fdb_11ec_a616_0242ac1c0002row2_col2\" class=\"data row2 col2\" >-90</td>\n",
              "                        <td id=\"T_90bfaca6_1fdb_11ec_a616_0242ac1c0002row2_col3\" class=\"data row2 col3\" >0</td>\n",
              "                        <td id=\"T_90bfaca6_1fdb_11ec_a616_0242ac1c0002row2_col4\" class=\"data row2 col4\" >0</td>\n",
              "                        <td id=\"T_90bfaca6_1fdb_11ec_a616_0242ac1c0002row2_col5\" class=\"data row2 col5\" >0</td>\n",
              "            </tr>\n",
              "    </tbody></table>"
            ],
            "text/plain": [
              "<pandas.io.formats.style.Styler at 0x7f1417f4f590>"
            ]
          },
          "metadata": {},
          "execution_count": 70
        }
      ]
    },
    {
      "cell_type": "markdown",
      "metadata": {
        "id": "JX2wiMbmLcgv"
      },
      "source": [
        "## Use GJ elimination and turn all other values above and below pivot element into 0s."
      ]
    },
    {
      "cell_type": "markdown",
      "metadata": {
        "id": "DTThUVXaILDb"
      },
      "source": [
        "Great! Now we need to get rid of the $60$ and $-300$ that are below the pivot element.\n",
        "\n",
        "Leave the row of interest ($R1$ and $R2$) as-is, and then add multiples of $R0$ to it."
      ]
    },
    {
      "cell_type": "markdown",
      "metadata": {
        "id": "0bN44n_NMvhC"
      },
      "source": [
        "## R1"
      ]
    },
    {
      "cell_type": "code",
      "metadata": {
        "id": "IGfHB6NnIWBG"
      },
      "source": [
        "# R1 = R1 -60*R0\n",
        "A[1,:] = A[1,:] - 60*A[0,:]\n"
      ],
      "execution_count": null,
      "outputs": []
    },
    {
      "cell_type": "markdown",
      "metadata": {
        "id": "tVfqwAyhMxBI"
      },
      "source": [
        "## R2"
      ]
    },
    {
      "cell_type": "code",
      "metadata": {
        "id": "jIs0PGWCMq1Q"
      },
      "source": [
        "# R2 = R2 + 300*R0\n",
        "A[2,:] = A[2,:] + 300*A[0,:]"
      ],
      "execution_count": null,
      "outputs": []
    },
    {
      "cell_type": "code",
      "metadata": {
        "colab": {
          "base_uri": "https://localhost:8080/"
        },
        "id": "R0bVp1v0Mrv_",
        "outputId": "a18f3b33-827f-422a-956e-852fc99296e6"
      },
      "source": [
        "# check your work\n",
        "pprint(A)"
      ],
      "execution_count": null,
      "outputs": [
        {
          "output_type": "stream",
          "name": "stdout",
          "text": [
            "⎡1  1/5  1/6  1/60  0  1/500⎤\n",
            "⎢                           ⎥\n",
            "⎢0  -6   20    -1   1  3/100⎥\n",
            "⎢                           ⎥\n",
            "⎣0  24   -40   5    0   3/5 ⎦\n"
          ]
        }
      ]
    },
    {
      "cell_type": "code",
      "metadata": {
        "id": "22EqLa58jGK6",
        "colab": {
          "base_uri": "https://localhost:8080/",
          "height": 103
        },
        "outputId": "f0b352de-ff67-4263-c263-9ee1ed446459"
      },
      "source": [
        "# make it pretty\n",
        "tmp = pd.DataFrame(np.array(A))\n",
        "tmp.columns = ['y1', 'y2', 'y3', 's1', 's2', 'b']\n",
        "tmp.index=['R0', 'R1', 'R2']\n",
        "tmp\n",
        "\n",
        "# highlight the pivot element\n",
        "idx_r = 0\n",
        "idx_c = 0\n",
        "\n",
        "tmp.style\\\n",
        ".apply(lambda x: ['background: lightblue' if x.name == 'y1' else '' for i in x])\\\n",
        ".apply(lambda x: ['background: lightblue' if x.name == 'R0' else '' for i in x], axis=1)\\\n",
        ".apply(styling_specific_cell, row_idx = idx_r, col_idx = idx_c, axis = None)"
      ],
      "execution_count": null,
      "outputs": [
        {
          "output_type": "execute_result",
          "data": {
            "text/html": [
              "<style  type=\"text/css\" >\n",
              "#T_90d0b8c0_1fdb_11ec_a616_0242ac1c0002row0_col0{\n",
              "            background:  lightblue;\n",
              "            background:  lightblue;\n",
              "            background-color:  yellow;\n",
              "             color:  red;\n",
              "        }#T_90d0b8c0_1fdb_11ec_a616_0242ac1c0002row0_col1,#T_90d0b8c0_1fdb_11ec_a616_0242ac1c0002row0_col2,#T_90d0b8c0_1fdb_11ec_a616_0242ac1c0002row0_col3,#T_90d0b8c0_1fdb_11ec_a616_0242ac1c0002row0_col4,#T_90d0b8c0_1fdb_11ec_a616_0242ac1c0002row0_col5,#T_90d0b8c0_1fdb_11ec_a616_0242ac1c0002row1_col0,#T_90d0b8c0_1fdb_11ec_a616_0242ac1c0002row2_col0{\n",
              "            background:  lightblue;\n",
              "        }</style><table id=\"T_90d0b8c0_1fdb_11ec_a616_0242ac1c0002\" ><thead>    <tr>        <th class=\"blank level0\" ></th>        <th class=\"col_heading level0 col0\" >y1</th>        <th class=\"col_heading level0 col1\" >y2</th>        <th class=\"col_heading level0 col2\" >y3</th>        <th class=\"col_heading level0 col3\" >s1</th>        <th class=\"col_heading level0 col4\" >s2</th>        <th class=\"col_heading level0 col5\" >b</th>    </tr></thead><tbody>\n",
              "                <tr>\n",
              "                        <th id=\"T_90d0b8c0_1fdb_11ec_a616_0242ac1c0002level0_row0\" class=\"row_heading level0 row0\" >R0</th>\n",
              "                        <td id=\"T_90d0b8c0_1fdb_11ec_a616_0242ac1c0002row0_col0\" class=\"data row0 col0\" >1</td>\n",
              "                        <td id=\"T_90d0b8c0_1fdb_11ec_a616_0242ac1c0002row0_col1\" class=\"data row0 col1\" >1/5</td>\n",
              "                        <td id=\"T_90d0b8c0_1fdb_11ec_a616_0242ac1c0002row0_col2\" class=\"data row0 col2\" >1/6</td>\n",
              "                        <td id=\"T_90d0b8c0_1fdb_11ec_a616_0242ac1c0002row0_col3\" class=\"data row0 col3\" >1/60</td>\n",
              "                        <td id=\"T_90d0b8c0_1fdb_11ec_a616_0242ac1c0002row0_col4\" class=\"data row0 col4\" >0</td>\n",
              "                        <td id=\"T_90d0b8c0_1fdb_11ec_a616_0242ac1c0002row0_col5\" class=\"data row0 col5\" >1/500</td>\n",
              "            </tr>\n",
              "            <tr>\n",
              "                        <th id=\"T_90d0b8c0_1fdb_11ec_a616_0242ac1c0002level0_row1\" class=\"row_heading level0 row1\" >R1</th>\n",
              "                        <td id=\"T_90d0b8c0_1fdb_11ec_a616_0242ac1c0002row1_col0\" class=\"data row1 col0\" >0</td>\n",
              "                        <td id=\"T_90d0b8c0_1fdb_11ec_a616_0242ac1c0002row1_col1\" class=\"data row1 col1\" >-6</td>\n",
              "                        <td id=\"T_90d0b8c0_1fdb_11ec_a616_0242ac1c0002row1_col2\" class=\"data row1 col2\" >20</td>\n",
              "                        <td id=\"T_90d0b8c0_1fdb_11ec_a616_0242ac1c0002row1_col3\" class=\"data row1 col3\" >-1</td>\n",
              "                        <td id=\"T_90d0b8c0_1fdb_11ec_a616_0242ac1c0002row1_col4\" class=\"data row1 col4\" >1</td>\n",
              "                        <td id=\"T_90d0b8c0_1fdb_11ec_a616_0242ac1c0002row1_col5\" class=\"data row1 col5\" >3/100</td>\n",
              "            </tr>\n",
              "            <tr>\n",
              "                        <th id=\"T_90d0b8c0_1fdb_11ec_a616_0242ac1c0002level0_row2\" class=\"row_heading level0 row2\" >R2</th>\n",
              "                        <td id=\"T_90d0b8c0_1fdb_11ec_a616_0242ac1c0002row2_col0\" class=\"data row2 col0\" >0</td>\n",
              "                        <td id=\"T_90d0b8c0_1fdb_11ec_a616_0242ac1c0002row2_col1\" class=\"data row2 col1\" >24</td>\n",
              "                        <td id=\"T_90d0b8c0_1fdb_11ec_a616_0242ac1c0002row2_col2\" class=\"data row2 col2\" >-40</td>\n",
              "                        <td id=\"T_90d0b8c0_1fdb_11ec_a616_0242ac1c0002row2_col3\" class=\"data row2 col3\" >5</td>\n",
              "                        <td id=\"T_90d0b8c0_1fdb_11ec_a616_0242ac1c0002row2_col4\" class=\"data row2 col4\" >0</td>\n",
              "                        <td id=\"T_90d0b8c0_1fdb_11ec_a616_0242ac1c0002row2_col5\" class=\"data row2 col5\" >3/5</td>\n",
              "            </tr>\n",
              "    </tbody></table>"
            ],
            "text/plain": [
              "<pandas.io.formats.style.Styler at 0x7f1417f479d0>"
            ]
          },
          "metadata": {},
          "execution_count": 74
        }
      ]
    },
    {
      "cell_type": "markdown",
      "metadata": {
        "id": "Y6y8yzABLmCY"
      },
      "source": [
        "## Check your work - feasible solution?\n",
        "Yes, but we will read it off later."
      ]
    },
    {
      "cell_type": "markdown",
      "metadata": {
        "id": "oCJEnB9VLqTX"
      },
      "source": [
        "### Any negative numbers in bottom row?\n",
        "Yes, so we need to keep going."
      ]
    },
    {
      "cell_type": "markdown",
      "metadata": {
        "id": "q9f6DJrgMN46"
      },
      "source": [
        "# Pivot #2\n",
        "\n"
      ]
    },
    {
      "cell_type": "markdown",
      "metadata": {
        "id": "QU7wHvgtL0F5"
      },
      "source": [
        "## Entering Variable\n",
        "OK! Check and see if there are negative elements. We see a -40 in the bottom row, so $y_3$ will become our **entering variable**.\n",
        "\n"
      ]
    },
    {
      "cell_type": "code",
      "metadata": {
        "colab": {
          "base_uri": "https://localhost:8080/",
          "height": 103
        },
        "id": "QU4_0gmuMF_w",
        "outputId": "7df56e41-3bd6-4dd4-9ca9-646e08fabfa1"
      },
      "source": [
        "tmp.style\\\n",
        ".apply(lambda x: ['background: lightblue' if x.name == 'y3' else '' for i in x])"
      ],
      "execution_count": null,
      "outputs": [
        {
          "output_type": "execute_result",
          "data": {
            "text/html": [
              "<style  type=\"text/css\" >\n",
              "#T_90d6fdb6_1fdb_11ec_a616_0242ac1c0002row0_col2,#T_90d6fdb6_1fdb_11ec_a616_0242ac1c0002row1_col2,#T_90d6fdb6_1fdb_11ec_a616_0242ac1c0002row2_col2{\n",
              "            background:  lightblue;\n",
              "        }</style><table id=\"T_90d6fdb6_1fdb_11ec_a616_0242ac1c0002\" ><thead>    <tr>        <th class=\"blank level0\" ></th>        <th class=\"col_heading level0 col0\" >y1</th>        <th class=\"col_heading level0 col1\" >y2</th>        <th class=\"col_heading level0 col2\" >y3</th>        <th class=\"col_heading level0 col3\" >s1</th>        <th class=\"col_heading level0 col4\" >s2</th>        <th class=\"col_heading level0 col5\" >b</th>    </tr></thead><tbody>\n",
              "                <tr>\n",
              "                        <th id=\"T_90d6fdb6_1fdb_11ec_a616_0242ac1c0002level0_row0\" class=\"row_heading level0 row0\" >R0</th>\n",
              "                        <td id=\"T_90d6fdb6_1fdb_11ec_a616_0242ac1c0002row0_col0\" class=\"data row0 col0\" >1</td>\n",
              "                        <td id=\"T_90d6fdb6_1fdb_11ec_a616_0242ac1c0002row0_col1\" class=\"data row0 col1\" >1/5</td>\n",
              "                        <td id=\"T_90d6fdb6_1fdb_11ec_a616_0242ac1c0002row0_col2\" class=\"data row0 col2\" >1/6</td>\n",
              "                        <td id=\"T_90d6fdb6_1fdb_11ec_a616_0242ac1c0002row0_col3\" class=\"data row0 col3\" >1/60</td>\n",
              "                        <td id=\"T_90d6fdb6_1fdb_11ec_a616_0242ac1c0002row0_col4\" class=\"data row0 col4\" >0</td>\n",
              "                        <td id=\"T_90d6fdb6_1fdb_11ec_a616_0242ac1c0002row0_col5\" class=\"data row0 col5\" >1/500</td>\n",
              "            </tr>\n",
              "            <tr>\n",
              "                        <th id=\"T_90d6fdb6_1fdb_11ec_a616_0242ac1c0002level0_row1\" class=\"row_heading level0 row1\" >R1</th>\n",
              "                        <td id=\"T_90d6fdb6_1fdb_11ec_a616_0242ac1c0002row1_col0\" class=\"data row1 col0\" >0</td>\n",
              "                        <td id=\"T_90d6fdb6_1fdb_11ec_a616_0242ac1c0002row1_col1\" class=\"data row1 col1\" >-6</td>\n",
              "                        <td id=\"T_90d6fdb6_1fdb_11ec_a616_0242ac1c0002row1_col2\" class=\"data row1 col2\" >20</td>\n",
              "                        <td id=\"T_90d6fdb6_1fdb_11ec_a616_0242ac1c0002row1_col3\" class=\"data row1 col3\" >-1</td>\n",
              "                        <td id=\"T_90d6fdb6_1fdb_11ec_a616_0242ac1c0002row1_col4\" class=\"data row1 col4\" >1</td>\n",
              "                        <td id=\"T_90d6fdb6_1fdb_11ec_a616_0242ac1c0002row1_col5\" class=\"data row1 col5\" >3/100</td>\n",
              "            </tr>\n",
              "            <tr>\n",
              "                        <th id=\"T_90d6fdb6_1fdb_11ec_a616_0242ac1c0002level0_row2\" class=\"row_heading level0 row2\" >R2</th>\n",
              "                        <td id=\"T_90d6fdb6_1fdb_11ec_a616_0242ac1c0002row2_col0\" class=\"data row2 col0\" >0</td>\n",
              "                        <td id=\"T_90d6fdb6_1fdb_11ec_a616_0242ac1c0002row2_col1\" class=\"data row2 col1\" >24</td>\n",
              "                        <td id=\"T_90d6fdb6_1fdb_11ec_a616_0242ac1c0002row2_col2\" class=\"data row2 col2\" >-40</td>\n",
              "                        <td id=\"T_90d6fdb6_1fdb_11ec_a616_0242ac1c0002row2_col3\" class=\"data row2 col3\" >5</td>\n",
              "                        <td id=\"T_90d6fdb6_1fdb_11ec_a616_0242ac1c0002row2_col4\" class=\"data row2 col4\" >0</td>\n",
              "                        <td id=\"T_90d6fdb6_1fdb_11ec_a616_0242ac1c0002row2_col5\" class=\"data row2 col5\" >3/5</td>\n",
              "            </tr>\n",
              "    </tbody></table>"
            ],
            "text/plain": [
              "<pandas.io.formats.style.Styler at 0x7f1417e6e650>"
            ]
          },
          "metadata": {},
          "execution_count": 75
        }
      ]
    },
    {
      "cell_type": "markdown",
      "metadata": {
        "id": "A6ObAhblL4pO"
      },
      "source": [
        "## Departing Variable\n",
        "Our **departing variable** is going to be b/a... we choose the SMALLEST positive number. \n",
        "\n",
        "$(1/500) / (1/6)= 0.012$ `(R0)`\n",
        "\n",
        "$(3/100) / 20 = 0.0015$ `(R1)`"
      ]
    },
    {
      "cell_type": "code",
      "metadata": {
        "id": "pbUjTfSZRDWg",
        "colab": {
          "base_uri": "https://localhost:8080/"
        },
        "outputId": "00cb6b12-5ca6-419d-cb00-57bcd7f4beb9"
      },
      "source": [
        "print((1/500)/(1/6)) #R0\n",
        "print((3/100)/20) # R1 is the winner! smallest, POSITIVE number.\n"
      ],
      "execution_count": null,
      "outputs": [
        {
          "output_type": "stream",
          "name": "stdout",
          "text": [
            "0.012\n",
            "0.0015\n"
          ]
        }
      ]
    },
    {
      "cell_type": "code",
      "metadata": {
        "id": "HuL1msrWjcj_",
        "colab": {
          "base_uri": "https://localhost:8080/",
          "height": 103
        },
        "outputId": "3e6edb6b-6565-44ed-8aab-3a664db09dd7"
      },
      "source": [
        "# let's show the new entering and departing variables\n",
        "# make it pretty\n",
        "\n",
        "tmp = pd.DataFrame(np.array(A))\n",
        "tmp.columns = ['y1', 'y2', 'y3', 's1', 's2', 'b']\n",
        "tmp.index=['R0', 'R1', 'R2']\n",
        "tmp\n",
        "\n",
        "# highlight the pivot element\n",
        "idx_r = 1\n",
        "idx_c = 2\n",
        "\n",
        "# apply style to rows and columns\n",
        "tmp.style\\\n",
        ".apply(lambda x: ['background: lightblue' if x.name == 'y3' else '' for i in x])\\\n",
        ".apply(lambda x: ['background: lightblue' if x.name == 'R1' else '' for i in x], axis=1)\\\n",
        ".apply(styling_specific_cell, row_idx = idx_r, col_idx = idx_c, axis = None)\n"
      ],
      "execution_count": null,
      "outputs": [
        {
          "output_type": "execute_result",
          "data": {
            "text/html": [
              "<style  type=\"text/css\" >\n",
              "#T_90e3b380_1fdb_11ec_a616_0242ac1c0002row0_col2,#T_90e3b380_1fdb_11ec_a616_0242ac1c0002row1_col0,#T_90e3b380_1fdb_11ec_a616_0242ac1c0002row1_col1,#T_90e3b380_1fdb_11ec_a616_0242ac1c0002row1_col3,#T_90e3b380_1fdb_11ec_a616_0242ac1c0002row1_col4,#T_90e3b380_1fdb_11ec_a616_0242ac1c0002row1_col5,#T_90e3b380_1fdb_11ec_a616_0242ac1c0002row2_col2{\n",
              "            background:  lightblue;\n",
              "        }#T_90e3b380_1fdb_11ec_a616_0242ac1c0002row1_col2{\n",
              "            background:  lightblue;\n",
              "            background:  lightblue;\n",
              "            background-color:  yellow;\n",
              "             color:  red;\n",
              "        }</style><table id=\"T_90e3b380_1fdb_11ec_a616_0242ac1c0002\" ><thead>    <tr>        <th class=\"blank level0\" ></th>        <th class=\"col_heading level0 col0\" >y1</th>        <th class=\"col_heading level0 col1\" >y2</th>        <th class=\"col_heading level0 col2\" >y3</th>        <th class=\"col_heading level0 col3\" >s1</th>        <th class=\"col_heading level0 col4\" >s2</th>        <th class=\"col_heading level0 col5\" >b</th>    </tr></thead><tbody>\n",
              "                <tr>\n",
              "                        <th id=\"T_90e3b380_1fdb_11ec_a616_0242ac1c0002level0_row0\" class=\"row_heading level0 row0\" >R0</th>\n",
              "                        <td id=\"T_90e3b380_1fdb_11ec_a616_0242ac1c0002row0_col0\" class=\"data row0 col0\" >1</td>\n",
              "                        <td id=\"T_90e3b380_1fdb_11ec_a616_0242ac1c0002row0_col1\" class=\"data row0 col1\" >1/5</td>\n",
              "                        <td id=\"T_90e3b380_1fdb_11ec_a616_0242ac1c0002row0_col2\" class=\"data row0 col2\" >1/6</td>\n",
              "                        <td id=\"T_90e3b380_1fdb_11ec_a616_0242ac1c0002row0_col3\" class=\"data row0 col3\" >1/60</td>\n",
              "                        <td id=\"T_90e3b380_1fdb_11ec_a616_0242ac1c0002row0_col4\" class=\"data row0 col4\" >0</td>\n",
              "                        <td id=\"T_90e3b380_1fdb_11ec_a616_0242ac1c0002row0_col5\" class=\"data row0 col5\" >1/500</td>\n",
              "            </tr>\n",
              "            <tr>\n",
              "                        <th id=\"T_90e3b380_1fdb_11ec_a616_0242ac1c0002level0_row1\" class=\"row_heading level0 row1\" >R1</th>\n",
              "                        <td id=\"T_90e3b380_1fdb_11ec_a616_0242ac1c0002row1_col0\" class=\"data row1 col0\" >0</td>\n",
              "                        <td id=\"T_90e3b380_1fdb_11ec_a616_0242ac1c0002row1_col1\" class=\"data row1 col1\" >-6</td>\n",
              "                        <td id=\"T_90e3b380_1fdb_11ec_a616_0242ac1c0002row1_col2\" class=\"data row1 col2\" >20</td>\n",
              "                        <td id=\"T_90e3b380_1fdb_11ec_a616_0242ac1c0002row1_col3\" class=\"data row1 col3\" >-1</td>\n",
              "                        <td id=\"T_90e3b380_1fdb_11ec_a616_0242ac1c0002row1_col4\" class=\"data row1 col4\" >1</td>\n",
              "                        <td id=\"T_90e3b380_1fdb_11ec_a616_0242ac1c0002row1_col5\" class=\"data row1 col5\" >3/100</td>\n",
              "            </tr>\n",
              "            <tr>\n",
              "                        <th id=\"T_90e3b380_1fdb_11ec_a616_0242ac1c0002level0_row2\" class=\"row_heading level0 row2\" >R2</th>\n",
              "                        <td id=\"T_90e3b380_1fdb_11ec_a616_0242ac1c0002row2_col0\" class=\"data row2 col0\" >0</td>\n",
              "                        <td id=\"T_90e3b380_1fdb_11ec_a616_0242ac1c0002row2_col1\" class=\"data row2 col1\" >24</td>\n",
              "                        <td id=\"T_90e3b380_1fdb_11ec_a616_0242ac1c0002row2_col2\" class=\"data row2 col2\" >-40</td>\n",
              "                        <td id=\"T_90e3b380_1fdb_11ec_a616_0242ac1c0002row2_col3\" class=\"data row2 col3\" >5</td>\n",
              "                        <td id=\"T_90e3b380_1fdb_11ec_a616_0242ac1c0002row2_col4\" class=\"data row2 col4\" >0</td>\n",
              "                        <td id=\"T_90e3b380_1fdb_11ec_a616_0242ac1c0002row2_col5\" class=\"data row2 col5\" >3/5</td>\n",
              "            </tr>\n",
              "    </tbody></table>"
            ],
            "text/plain": [
              "<pandas.io.formats.style.Styler at 0x7f1417e30e90>"
            ]
          },
          "metadata": {},
          "execution_count": 77
        }
      ]
    },
    {
      "cell_type": "markdown",
      "metadata": {
        "id": "0NUCKfZKMQ8y"
      },
      "source": [
        "## Turn Pivot Element Into a '1'"
      ]
    },
    {
      "cell_type": "markdown",
      "metadata": {
        "id": "d3evP4QhRleM"
      },
      "source": [
        "And so we see that the 20 is going to be our pivot element. Let's turn this into a '1'."
      ]
    },
    {
      "cell_type": "code",
      "metadata": {
        "id": "km8p_2UbRpE7",
        "colab": {
          "base_uri": "https://localhost:8080/"
        },
        "outputId": "c3367bea-91c0-4cf4-99b5-27dce7a93c79"
      },
      "source": [
        "A[1,:] = Rational(1,20)*A[1,:]\n",
        "pprint(A)"
      ],
      "execution_count": null,
      "outputs": [
        {
          "output_type": "stream",
          "name": "stdout",
          "text": [
            "⎡1   1/5   1/6  1/60    0    1/500 ⎤\n",
            "⎢                                  ⎥\n",
            "⎢0  -3/10   1   -1/20  1/20  3/2000⎥\n",
            "⎢                                  ⎥\n",
            "⎣0   24    -40    5     0     3/5  ⎦\n"
          ]
        }
      ]
    },
    {
      "cell_type": "markdown",
      "metadata": {
        "id": "AKP2M62oMU-m"
      },
      "source": [
        "## Use GJ elimination and turn all other values above and below pivot element into 0s."
      ]
    },
    {
      "cell_type": "markdown",
      "metadata": {
        "id": "s7mVOHiQM6un"
      },
      "source": [
        "### R0"
      ]
    },
    {
      "cell_type": "code",
      "metadata": {
        "id": "clw07zfiRx7t"
      },
      "source": [
        "# looks good! now we need to get rid of the\n",
        "# 1/6 in R0\n",
        "# -40 in R2\n",
        "\n",
        "# remember, leave the row of interest as is\n",
        "# and add multiples of the row with the pivot element\n",
        "\n",
        "# fix R0\n",
        "A[0,:] = A[0,:] - Rational(1,6)*A[1,:]\n"
      ],
      "execution_count": null,
      "outputs": []
    },
    {
      "cell_type": "markdown",
      "metadata": {
        "id": "Kdi1d1j2M8gf"
      },
      "source": [
        "### R2"
      ]
    },
    {
      "cell_type": "code",
      "metadata": {
        "colab": {
          "base_uri": "https://localhost:8080/"
        },
        "id": "5Bl3Jj8jM6X5",
        "outputId": "eee29ba3-79f8-480c-fff2-8746bfa71374"
      },
      "source": [
        "# fix R2\n",
        "A[2,:] = A[2,:] + 40*A[1,:]\n",
        "\n",
        "# remember our titles\n",
        "pprint(A) # WOOF! let's make it look nicer"
      ],
      "execution_count": null,
      "outputs": [
        {
          "output_type": "stream",
          "name": "stdout",
          "text": [
            "⎡1   1/4   0  1/40   -1/120  7/4000⎤\n",
            "⎢                                  ⎥\n",
            "⎢0  -3/10  1  -1/20   1/20   3/2000⎥\n",
            "⎢                                  ⎥\n",
            "⎢                              33  ⎥\n",
            "⎢0   12    0    3      2       ──  ⎥\n",
            "⎣                              50  ⎦\n"
          ]
        }
      ]
    },
    {
      "cell_type": "markdown",
      "metadata": {
        "id": "jCZhSQmFlOaa"
      },
      "source": [
        "Let's take a look at what we did. Are there any negative values in the bottom row... nope! You are done."
      ]
    },
    {
      "cell_type": "code",
      "metadata": {
        "id": "qf_3FgVtlJ8h",
        "colab": {
          "base_uri": "https://localhost:8080/",
          "height": 103
        },
        "outputId": "7a637330-e81d-474e-a4ee-8a8d132a9c6d"
      },
      "source": [
        "# make it pretty\n",
        "tmp = pd.DataFrame(np.array(A))\n",
        "tmp.columns = ['y1', 'y2', 'y3', 's1', 's2', 'b']\n",
        "tmp.index=['R0', 'R1', 'R2']\n",
        "tmp\n",
        "\n",
        "# highlight the pivot element\n",
        "idx_r = 1\n",
        "idx_c = 2\n",
        "\n",
        "# apply style to rows and columns\n",
        "tmp.style\\\n",
        ".apply(lambda x: ['background: lightblue' if x.name == 'y3' else '' for i in x])\\\n",
        ".apply(lambda x: ['background: lightblue' if x.name == 'R1' else '' for i in x], axis=1)\\\n",
        ".apply(styling_specific_cell, row_idx = idx_r, col_idx = idx_c, axis = None)"
      ],
      "execution_count": null,
      "outputs": [
        {
          "output_type": "execute_result",
          "data": {
            "text/html": [
              "<style  type=\"text/css\" >\n",
              "#T_90f8f3da_1fdb_11ec_a616_0242ac1c0002row0_col2,#T_90f8f3da_1fdb_11ec_a616_0242ac1c0002row1_col0,#T_90f8f3da_1fdb_11ec_a616_0242ac1c0002row1_col1,#T_90f8f3da_1fdb_11ec_a616_0242ac1c0002row1_col3,#T_90f8f3da_1fdb_11ec_a616_0242ac1c0002row1_col4,#T_90f8f3da_1fdb_11ec_a616_0242ac1c0002row1_col5,#T_90f8f3da_1fdb_11ec_a616_0242ac1c0002row2_col2{\n",
              "            background:  lightblue;\n",
              "        }#T_90f8f3da_1fdb_11ec_a616_0242ac1c0002row1_col2{\n",
              "            background:  lightblue;\n",
              "            background:  lightblue;\n",
              "            background-color:  yellow;\n",
              "             color:  red;\n",
              "        }</style><table id=\"T_90f8f3da_1fdb_11ec_a616_0242ac1c0002\" ><thead>    <tr>        <th class=\"blank level0\" ></th>        <th class=\"col_heading level0 col0\" >y1</th>        <th class=\"col_heading level0 col1\" >y2</th>        <th class=\"col_heading level0 col2\" >y3</th>        <th class=\"col_heading level0 col3\" >s1</th>        <th class=\"col_heading level0 col4\" >s2</th>        <th class=\"col_heading level0 col5\" >b</th>    </tr></thead><tbody>\n",
              "                <tr>\n",
              "                        <th id=\"T_90f8f3da_1fdb_11ec_a616_0242ac1c0002level0_row0\" class=\"row_heading level0 row0\" >R0</th>\n",
              "                        <td id=\"T_90f8f3da_1fdb_11ec_a616_0242ac1c0002row0_col0\" class=\"data row0 col0\" >1</td>\n",
              "                        <td id=\"T_90f8f3da_1fdb_11ec_a616_0242ac1c0002row0_col1\" class=\"data row0 col1\" >1/4</td>\n",
              "                        <td id=\"T_90f8f3da_1fdb_11ec_a616_0242ac1c0002row0_col2\" class=\"data row0 col2\" >0</td>\n",
              "                        <td id=\"T_90f8f3da_1fdb_11ec_a616_0242ac1c0002row0_col3\" class=\"data row0 col3\" >1/40</td>\n",
              "                        <td id=\"T_90f8f3da_1fdb_11ec_a616_0242ac1c0002row0_col4\" class=\"data row0 col4\" >-1/120</td>\n",
              "                        <td id=\"T_90f8f3da_1fdb_11ec_a616_0242ac1c0002row0_col5\" class=\"data row0 col5\" >7/4000</td>\n",
              "            </tr>\n",
              "            <tr>\n",
              "                        <th id=\"T_90f8f3da_1fdb_11ec_a616_0242ac1c0002level0_row1\" class=\"row_heading level0 row1\" >R1</th>\n",
              "                        <td id=\"T_90f8f3da_1fdb_11ec_a616_0242ac1c0002row1_col0\" class=\"data row1 col0\" >0</td>\n",
              "                        <td id=\"T_90f8f3da_1fdb_11ec_a616_0242ac1c0002row1_col1\" class=\"data row1 col1\" >-3/10</td>\n",
              "                        <td id=\"T_90f8f3da_1fdb_11ec_a616_0242ac1c0002row1_col2\" class=\"data row1 col2\" >1</td>\n",
              "                        <td id=\"T_90f8f3da_1fdb_11ec_a616_0242ac1c0002row1_col3\" class=\"data row1 col3\" >-1/20</td>\n",
              "                        <td id=\"T_90f8f3da_1fdb_11ec_a616_0242ac1c0002row1_col4\" class=\"data row1 col4\" >1/20</td>\n",
              "                        <td id=\"T_90f8f3da_1fdb_11ec_a616_0242ac1c0002row1_col5\" class=\"data row1 col5\" >3/2000</td>\n",
              "            </tr>\n",
              "            <tr>\n",
              "                        <th id=\"T_90f8f3da_1fdb_11ec_a616_0242ac1c0002level0_row2\" class=\"row_heading level0 row2\" >R2</th>\n",
              "                        <td id=\"T_90f8f3da_1fdb_11ec_a616_0242ac1c0002row2_col0\" class=\"data row2 col0\" >0</td>\n",
              "                        <td id=\"T_90f8f3da_1fdb_11ec_a616_0242ac1c0002row2_col1\" class=\"data row2 col1\" >12</td>\n",
              "                        <td id=\"T_90f8f3da_1fdb_11ec_a616_0242ac1c0002row2_col2\" class=\"data row2 col2\" >0</td>\n",
              "                        <td id=\"T_90f8f3da_1fdb_11ec_a616_0242ac1c0002row2_col3\" class=\"data row2 col3\" >3</td>\n",
              "                        <td id=\"T_90f8f3da_1fdb_11ec_a616_0242ac1c0002row2_col4\" class=\"data row2 col4\" >2</td>\n",
              "                        <td id=\"T_90f8f3da_1fdb_11ec_a616_0242ac1c0002row2_col5\" class=\"data row2 col5\" >33/50</td>\n",
              "            </tr>\n",
              "    </tbody></table>"
            ],
            "text/plain": [
              "<pandas.io.formats.style.Styler at 0x7f1417e2ad50>"
            ]
          },
          "metadata": {},
          "execution_count": 81
        }
      ]
    },
    {
      "cell_type": "markdown",
      "metadata": {
        "id": "xvZMsr30T3l1"
      },
      "source": [
        "# Reading the tableau"
      ]
    },
    {
      "cell_type": "markdown",
      "metadata": {
        "id": "sncl9rM_SPbO"
      },
      "source": [
        "So, do you see any negative pivot elements in the bottom? NOPE! **So, you are done.**\n",
        "\n",
        "Time to read off the solution (be careful - it's different now!)\n",
        "\n",
        "The solutional of the dual maximization problem is $z = 33/50$. The x values are the slack variables, $x_1 = s_1 = 3$ and $x_2 = s_2 = 2$.\n",
        "\n",
        "And so we have a new theorem: the von Neumann Duality principle.\n",
        "\n",
        "The objective value $w$ of a minimization problem in standard form has a  minimum value if and only if the objective value $z$ of the dual maximization problem has a maximum value. Moreover, the minimum value of $w$ is equal to the maximum value of $z$.\n",
        "\n",
        "Recall our original objective function:\n",
        "$w = 0.12x_1 + 0.15x_2$"
      ]
    },
    {
      "cell_type": "markdown",
      "metadata": {
        "id": "FY9jC_wblYWF"
      },
      "source": [
        "# Appendix: Color coding a table\n",
        "Use this script to update the colors in your tables. You can use this all over the place."
      ]
    },
    {
      "cell_type": "code",
      "metadata": {
        "id": "8EZ39TN8ldow",
        "colab": {
          "base_uri": "https://localhost:8080/",
          "height": 103
        },
        "outputId": "c4e04685-057c-498f-b291-24d56de9f599"
      },
      "source": [
        "# a random sample array\n",
        "\n",
        "A = Matrix([[60,   12,   10,   1,  0,  0.12],\n",
        "            [60,    6,   30,   0,  1,  0.15],                      \n",
        "            [-300,  -36,  -90,  0,  0,   0]])\n",
        "\n",
        "# make it pretty\n",
        "tmp = pd.DataFrame(np.array(A).astype(float)) # you only need this in the first example\n",
        "tmp.columns = ['y1', 'y2', 'y3', 's1', 's2', 'b']\n",
        "tmp.index=['R0', 'R1', 'R2']\n",
        "tmp\n",
        "\n",
        "# add some color to highlight s1 and s2 and z\n",
        "# Custom function to color the desired cell\n",
        "def styling_specific_cell(x,row_idx,col_idx):\n",
        "    color = 'background-color: yellow; color: red'\n",
        "    df_styler = pd.DataFrame('', index=x.index, columns=x.columns)\n",
        "    df_styler.iloc[row_idx, col_idx] = color\n",
        "    return df_styler\n",
        "\n",
        "# highlight a single cell pivot element\n",
        "idx_r = 0\n",
        "idx_c = 0\n",
        "\n",
        "# apply style to rows and columns\n",
        "tmp.style\\\n",
        ".apply(lambda x: ['background: lightblue' if x.name == 'y1' else '' for i in x])\\\n",
        ".apply(lambda x: ['background: lightblue' if x.name == 'R0' else '' for i in x], axis=1)\\\n",
        ".apply(styling_specific_cell, row_idx = idx_r, col_idx = idx_c, axis = None)\n"
      ],
      "execution_count": null,
      "outputs": [
        {
          "output_type": "execute_result",
          "data": {
            "text/html": [
              "<style  type=\"text/css\" >\n",
              "#T_91022e96_1fdb_11ec_a616_0242ac1c0002row0_col0{\n",
              "            background:  lightblue;\n",
              "            background:  lightblue;\n",
              "            background-color:  yellow;\n",
              "             color:  red;\n",
              "        }#T_91022e96_1fdb_11ec_a616_0242ac1c0002row0_col1,#T_91022e96_1fdb_11ec_a616_0242ac1c0002row0_col2,#T_91022e96_1fdb_11ec_a616_0242ac1c0002row0_col3,#T_91022e96_1fdb_11ec_a616_0242ac1c0002row0_col4,#T_91022e96_1fdb_11ec_a616_0242ac1c0002row0_col5,#T_91022e96_1fdb_11ec_a616_0242ac1c0002row1_col0,#T_91022e96_1fdb_11ec_a616_0242ac1c0002row2_col0{\n",
              "            background:  lightblue;\n",
              "        }</style><table id=\"T_91022e96_1fdb_11ec_a616_0242ac1c0002\" ><thead>    <tr>        <th class=\"blank level0\" ></th>        <th class=\"col_heading level0 col0\" >y1</th>        <th class=\"col_heading level0 col1\" >y2</th>        <th class=\"col_heading level0 col2\" >y3</th>        <th class=\"col_heading level0 col3\" >s1</th>        <th class=\"col_heading level0 col4\" >s2</th>        <th class=\"col_heading level0 col5\" >b</th>    </tr></thead><tbody>\n",
              "                <tr>\n",
              "                        <th id=\"T_91022e96_1fdb_11ec_a616_0242ac1c0002level0_row0\" class=\"row_heading level0 row0\" >R0</th>\n",
              "                        <td id=\"T_91022e96_1fdb_11ec_a616_0242ac1c0002row0_col0\" class=\"data row0 col0\" >60.000000</td>\n",
              "                        <td id=\"T_91022e96_1fdb_11ec_a616_0242ac1c0002row0_col1\" class=\"data row0 col1\" >12.000000</td>\n",
              "                        <td id=\"T_91022e96_1fdb_11ec_a616_0242ac1c0002row0_col2\" class=\"data row0 col2\" >10.000000</td>\n",
              "                        <td id=\"T_91022e96_1fdb_11ec_a616_0242ac1c0002row0_col3\" class=\"data row0 col3\" >1.000000</td>\n",
              "                        <td id=\"T_91022e96_1fdb_11ec_a616_0242ac1c0002row0_col4\" class=\"data row0 col4\" >0.000000</td>\n",
              "                        <td id=\"T_91022e96_1fdb_11ec_a616_0242ac1c0002row0_col5\" class=\"data row0 col5\" >0.120000</td>\n",
              "            </tr>\n",
              "            <tr>\n",
              "                        <th id=\"T_91022e96_1fdb_11ec_a616_0242ac1c0002level0_row1\" class=\"row_heading level0 row1\" >R1</th>\n",
              "                        <td id=\"T_91022e96_1fdb_11ec_a616_0242ac1c0002row1_col0\" class=\"data row1 col0\" >60.000000</td>\n",
              "                        <td id=\"T_91022e96_1fdb_11ec_a616_0242ac1c0002row1_col1\" class=\"data row1 col1\" >6.000000</td>\n",
              "                        <td id=\"T_91022e96_1fdb_11ec_a616_0242ac1c0002row1_col2\" class=\"data row1 col2\" >30.000000</td>\n",
              "                        <td id=\"T_91022e96_1fdb_11ec_a616_0242ac1c0002row1_col3\" class=\"data row1 col3\" >0.000000</td>\n",
              "                        <td id=\"T_91022e96_1fdb_11ec_a616_0242ac1c0002row1_col4\" class=\"data row1 col4\" >1.000000</td>\n",
              "                        <td id=\"T_91022e96_1fdb_11ec_a616_0242ac1c0002row1_col5\" class=\"data row1 col5\" >0.150000</td>\n",
              "            </tr>\n",
              "            <tr>\n",
              "                        <th id=\"T_91022e96_1fdb_11ec_a616_0242ac1c0002level0_row2\" class=\"row_heading level0 row2\" >R2</th>\n",
              "                        <td id=\"T_91022e96_1fdb_11ec_a616_0242ac1c0002row2_col0\" class=\"data row2 col0\" >-300.000000</td>\n",
              "                        <td id=\"T_91022e96_1fdb_11ec_a616_0242ac1c0002row2_col1\" class=\"data row2 col1\" >-36.000000</td>\n",
              "                        <td id=\"T_91022e96_1fdb_11ec_a616_0242ac1c0002row2_col2\" class=\"data row2 col2\" >-90.000000</td>\n",
              "                        <td id=\"T_91022e96_1fdb_11ec_a616_0242ac1c0002row2_col3\" class=\"data row2 col3\" >0.000000</td>\n",
              "                        <td id=\"T_91022e96_1fdb_11ec_a616_0242ac1c0002row2_col4\" class=\"data row2 col4\" >0.000000</td>\n",
              "                        <td id=\"T_91022e96_1fdb_11ec_a616_0242ac1c0002row2_col5\" class=\"data row2 col5\" >0.000000</td>\n",
              "            </tr>\n",
              "    </tbody></table>"
            ],
            "text/plain": [
              "<pandas.io.formats.style.Styler at 0x7f1417e45b50>"
            ]
          },
          "metadata": {},
          "execution_count": 82
        }
      ]
    }
  ]
}