{
  "nbformat": 4,
  "nbformat_minor": 0,
  "metadata": {
    "colab": {
      "name": "c_GraphicalMethod_Redundant",
      "provenance": [],
      "collapsed_sections": [],
      "include_colab_link": true
    },
    "kernelspec": {
      "name": "python3",
      "display_name": "Python 3"
    }
  },
  "cells": [
    {
      "cell_type": "markdown",
      "metadata": {
        "id": "view-in-github",
        "colab_type": "text"
      },
      "source": [
        "<a href=\"https://colab.research.google.com/github/drdww/OPIM5641/blob/main/Module2/M2_1/c_GraphicalMethod_Redundant.ipynb\" target=\"_parent\"><img src=\"https://colab.research.google.com/assets/colab-badge.svg\" alt=\"Open In Colab\"/></a>"
      ]
    },
    {
      "cell_type": "markdown",
      "metadata": {
        "id": "UB0wv8Iyy4Al"
      },
      "source": [
        "# Graphical Method: Redundant Constraints\n",
        "\n",
        "**OPIM 5641: Business Decision Modeling - Department of Operations and Information Management - University of Connecticut**\n",
        "\n",
        "------------------------------------------\n",
        "\n",
        "(from Nagraj Chapter 2)  A redundant constraint  is a constraint that does not affect the feasible region in any way. In other words, other constraints in the model are more restrictive and thereby negate the need to even consider the redundant constraint. The presence of redundant constraints is quite common in large LP models with many variables. However, it is typically impossible to determine whether a constraint is redundant just by looking at it. \n",
        "\n",
        "Here is the original Flair Furniture example again.\n",
        "\n",
        "$Max(Z) = 7T + 5C$\n",
        "\n",
        "### Original Constraints\n",
        "subject to:\n",
        "* $3T + 4C <= 2400$ `(carpentry time)`\n",
        "* $2T + 1C <= 1000$ `(painting time)`\n",
        "* $C <= 450$ `(maximum chairs allowed)`\n",
        "* $T >= 100$ `(minimum tables required)`\n",
        "* $T,C >= 0$ `(nonnegativity)`\n",
        "\n",
        "As you may recall, here is what that example looked like."
      ]
    },
    {
      "cell_type": "code",
      "metadata": {
        "id": "x6w5VWYxy0Ae",
        "colab": {
          "base_uri": "https://localhost:8080/",
          "height": 409
        },
        "outputId": "22cbe2aa-530c-4fd7-c85b-4d793984f4d9"
      },
      "source": [
        "# this is the example from Pyomo cookbook\n",
        "# pylab makes it easy to make plots\n",
        "from pylab import *\n",
        "\n",
        "figure(figsize=(6,6))\n",
        "subplot(111, aspect='equal')\n",
        "axis([0,1000,0,1000])\n",
        "xlabel('Number of Tables')\n",
        "ylabel('Number of Chairs')\n",
        "\n",
        "# Carpentry Constraint\n",
        "y = array([600, 0]) \n",
        "x = array([0,800])\n",
        "plot(x,y,'r',lw=2)\n",
        "fill_between([0,800,1000], # x area\n",
        "             [600,0,0], # y area\n",
        "             [1000,1000,1000], # upper area\n",
        "             color='red', # color \n",
        "             alpha=0.15) # transparency\n",
        "\n",
        "# Painting Constraint\n",
        "y = array([1000, 0]) \n",
        "x = array([0,500])\n",
        "plot(x,y,'blue',lw=2)\n",
        "fill_between([0,500,1000], # x area\n",
        "             [1000,0,0], # y area\n",
        "             [1000,1000,1000], # upper area\n",
        "             color='blue', # color \n",
        "             alpha=0.15) # transparency\n",
        "\n",
        "# Max Chairs Constraint (horizontal line)\n",
        "y = array([450, 450]) \n",
        "x = array([1000, 0])\n",
        "plot(x, y,'orange',lw=2)\n",
        "fill_between([0, 1000,1000], # x area\n",
        "             [450, 450,0], # y area\n",
        "             [1000,1000,1000], # upper area\n",
        "             color='green', # color \n",
        "             alpha=0.15) # transparency\n",
        "\n",
        "# Min Tables constraint\n",
        "plot([100, 100],[0,1000],'black',lw=2)\n",
        "fill_between([0,100],[0,0],[1000,1000],color='grey',alpha=0.15)\n",
        "\n",
        "legend(['Carpentry Constraint','Painting Constraint','Max Chairs Constraint', 'Min Tables Constraint'])\n",
        "\n",
        "# # Optimum\n",
        "plot(100,0,'r.',ms=20) # makes a red dot on the plot\n",
        "annotate('1', xy=(100,0), xytext=(100,0)) # adds a label\n",
        "\n",
        "plot(100,450,'r.',ms=20) # makes a red dot on the plot\n",
        "annotate('2', xy=(100,450), xytext=(100,450)) # adds a label\n",
        "\n",
        "plot(200,450,'r.',ms=20) # makes a red dot on the plot\n",
        "annotate('3', xy=(200,450), xytext=(200,450)) # adds a label\n",
        "\n",
        "plot(320,360,'r.',ms=20) # makes a red dot on the plot\n",
        "annotate('4', xy=(320,360), xytext=(320,360)) # adds a label\n",
        "\n",
        "plot(500,0,'r.',ms=20) # makes a red dot on the plot\n",
        "annotate('5', xy=(500,0), xytext=(500,0)) # adds a label\n",
        "\n",
        "# the area in white is the feasible region!\n",
        "text(110,200,'FEASIBLE REGION')"
      ],
      "execution_count": null,
      "outputs": [
        {
          "output_type": "execute_result",
          "data": {
            "text/plain": [
              "Text(110, 200, 'FEASIBLE REGION')"
            ]
          },
          "metadata": {
            "tags": []
          },
          "execution_count": 1
        },
        {
          "output_type": "display_data",
          "data": {
            "image/png": "[encoded data removed]",
            "text/plain": [
              "<Figure size 432x432 with 1 Axes>"
            ]
          },
          "metadata": {
            "tags": [],
            "needs_background": "light"
          }
        }
      ]
    },
    {
      "cell_type": "markdown",
      "metadata": {
        "id": "QB3bpMGNz4cs"
      },
      "source": [
        "But now let's update this: assume that demand for tables is **quite weak**, so instead of needing at least 100 tables, we set a maximum of 100 tables.\n",
        "\n",
        "### Updated Constraints\n",
        "subject to:\n",
        "* $3T + 4C <= 2400$ `(carpentry time)`\n",
        "* $2T + 1C <= 1000$ `(painting time)`\n",
        "* $C <= 450$ `(maximum chairs allowed)`\n",
        "* $T <= 100$ `(maximum tables required - UPDATED!)`\n",
        "* $T,C >= 0$ `(nonnegativity)`\n",
        "\n",
        "Let's plot this and compare!"
      ]
    },
    {
      "cell_type": "code",
      "metadata": {
        "id": "Pfd8sCTC0OkX",
        "colab": {
          "base_uri": "https://localhost:8080/",
          "height": 409
        },
        "outputId": "26eeda3f-092b-45c6-fdf2-18588810cbb0"
      },
      "source": [
        "# this is the example from Pyomo cookbook\n",
        "# pylab makes it easy to make plots\n",
        "from pylab import *\n",
        "\n",
        "figure(figsize=(6,6))\n",
        "subplot(111, aspect='equal')\n",
        "axis([0,1000,0,1000])\n",
        "xlabel('Number of Tables')\n",
        "ylabel('Number of Chairs')\n",
        "\n",
        "# Carpentry Constraint\n",
        "y = array([600, 0]) \n",
        "x = array([0,800])\n",
        "plot(x,y,'r',lw=2)\n",
        "fill_between([0,800,1000], # x area\n",
        "             [600,0,0], # y area\n",
        "             [1000,1000,1000], # upper area\n",
        "             color='red', # color \n",
        "             alpha=0.15) # transparency\n",
        "\n",
        "# Painting Constraint\n",
        "y = array([1000, 0]) \n",
        "x = array([0,500])\n",
        "plot(x,y,'blue',lw=2)\n",
        "fill_between([0,500,1000], # x area\n",
        "             [1000,0,0], # y area\n",
        "             [1000,1000,1000], # upper area\n",
        "             color='blue', # color \n",
        "             alpha=0.15) # transparency\n",
        "\n",
        "# Max Chairs Constraint (horizontal line)\n",
        "y = array([450, 450]) \n",
        "x = array([1000, 0])\n",
        "plot(x, y,'orange',lw=2)\n",
        "fill_between([0, 1000,1000], # x area\n",
        "             [450, 450,0], # y area\n",
        "             [1000,1000,1000], # upper area\n",
        "             color='green', # color \n",
        "             alpha=0.15) # transparency\n",
        "\n",
        "# Max Tables constraint (shade to the right!)\n",
        "plot([100, 100],[0,1000],'black',lw=2)\n",
        "fill_between([100,1000], #X curve\n",
        "             [0,0], #Y1 curve\n",
        "             [1000,1000], #Y2 curve\n",
        "             color='grey',\n",
        "             alpha=0.6) # values closer to 0 are transparent, closer to 1 is dark\n",
        "\n",
        "legend(['Carpentry Constraint','Painting Constraint','Max Chairs Constraint', 'Min Tables Constraint'])\n",
        "\n",
        "# add text for feasible region\n",
        "# the area in white is the feasible region!\n",
        "text(40,90,'FEASIBLE REGION!', rotation=90)"
      ],
      "execution_count": null,
      "outputs": [
        {
          "output_type": "execute_result",
          "data": {
            "text/plain": [
              "Text(40, 90, 'FEASIBLE REGION!')"
            ]
          },
          "metadata": {
            "tags": []
          },
          "execution_count": 2
        },
        {
          "output_type": "display_data",
          "data": {
            "image/png": "[encoded data removed]",
            "text/plain": [
              "<Figure size 432x432 with 1 Axes>"
            ]
          },
          "metadata": {
            "tags": [],
            "needs_background": "light"
          }
        }
      ]
    },
    {
      "cell_type": "markdown",
      "metadata": {
        "id": "Qj0zvQb31nDL"
      },
      "source": [
        "# What do we see?\n",
        "Yes, the feasible region has changed... but that's not the main point! It's that your red and blue constraints aren't doing anything anymore since they don't interact with the feasible region!\n",
        "\n",
        "From this figure, we see that the production limit constraints on chairs and tables are so restrictive that they make the carpentry (red line) and painting (blue line) constraints **redundant**. That is, these two time constraints have no effect on the feasible region.  \n",
        "\n",
        "If a constraint does not intersect with the feasible region, it is redundant!\n",
        "\n",
        "Note how our corner points have changed, too."
      ]
    }
  ]
}