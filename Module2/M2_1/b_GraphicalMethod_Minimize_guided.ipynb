{
  "nbformat": 4,
  "nbformat_minor": 0,
  "metadata": {
    "colab": {
      "name": "b_GraphicalMethod_Minimize_guided",
      "provenance": [],
      "collapsed_sections": [],
      "include_colab_link": true
    },
    "kernelspec": {
      "name": "python3",
      "display_name": "Python 3"
    }
  },
  "cells": [
    {
      "cell_type": "markdown",
      "metadata": {
        "id": "view-in-github",
        "colab_type": "text"
      },
      "source": [
        "<a href=\"https://colab.research.google.com/github/drdww/OPIM5641/blob/main/Module2/M2_1/b_GraphicalMethod_Minimize_guided.ipynb\" target=\"_parent\"><img src=\"https://colab.research.google.com/assets/colab-badge.svg\" alt=\"Open In Colab\"/></a>"
      ]
    },
    {
      "cell_type": "markdown",
      "metadata": {
        "id": "gkbApmLYEOAx"
      },
      "source": [
        "# The Graphical Method (Minimize Objective Function) - guided\n",
        "\n",
        "**OPIM 5641: Business Decision Modeling - University of Connecticut**\n",
        "\n",
        "------------------\n",
        "\n",
        "The graphical method works only when there are two decision variables, but it provides valuable insight into how larger problems are solved. \n",
        "\n",
        "In this example, we will show (graphically) how we can minimize the objective function. You'll note how the feasible area changes - but that our corner point property will help us evaluate the extreme locations where we expect to to have the optimal values.\n",
        "\n",
        "Take out a piece of paper and draw this while it is explained to you. Then try to replicate in Python (looking at the code on your second monitor, and then without looking!) If you can do this, you really know it - otherwise you're just going through the motions.\n",
        "\n",
        "---------------------------------------------------------------------------\n",
        "**Holiday Meal Turkey Range** (from Chapter 2, Nagraj et. al)\n",
        "The Holiday Meal Turkey Ranch is planning to use two different brands of turkey feed—brand A and brand B—to provide a good diet for its turkeys. Each feed contains different quantities (in units) of the three nutrients (protein, vitamin, and iron) essential for fattening turkeys. Table 1 summarizes this information and also shows the minimum unit of each nutrient required per month by a turkey. \n",
        "\n",
        "Nutrient | Brand A Feed | Brand B Feed| Min Req'd per Turkey\n",
        "--- | --- | ---| ---\n",
        "Protein (units) | 5 | 10 | 45.0\n",
        "Vitamins (units) | 4 | 3 | 24.0\n",
        "Iron (units) | 0.5 | 0 | 1.5\n",
        "Cost per pound| 0.10 USD | 0.15 USD | --\n",
        "\n",
        "Brand A feed costs 0.10 USD per pound, and brand B feed costs 0.15 USD per pound. The owner of the ranch would like to use LP to determine the quantity of each feed to use in a turkey’s diet in order to meet the minimum monthly requirements for each nutrient at the lowest cost. \n",
        "\n",
        "If we let  $A$  denote the number of pounds of brand A feed to use per turkey each month and $B$ denote the number of pounds of brand B feed to use per turkey each month, we can proceed to formulate this LP problem as follows:       \n",
        "\n",
        "To provide a structured approach for formulating this problem (and any other LP problem, irrespective of size and complexity), we present a three-step process in the following sections - decision variables, objective function and constraints.\n",
        "\n",
        "**Note:** sometimes all the data you need can come from a table - other times you will need to decipher a word problem for all of the relevant information.\n"
      ]
    },
    {
      "cell_type": "markdown",
      "metadata": {
        "id": "wvU1IyI1pfb7"
      },
      "source": [
        "\n",
        "### Decision Variables\n",
        "Brand A ($A$) and Brand B ($B$) that need to be purchased.\n",
        "\n",
        "Decision variables  (or choice variables) represent the unknown entities in a problem—that is, what we are solving for in the problem. For example, in the Turkey Ranch problem, there are two unknown entities: the number of pounds of Brand A food and Brand B food. Note that all other unknowns in the problem (e.g., the protein requirement, the vitamin requirement) can be expressed as linear functions of the number of pounds of A and B.\n",
        "\n"
      ]
    },
    {
      "cell_type": "markdown",
      "metadata": {
        "id": "QrmJggM3phbp"
      },
      "source": [
        "### Objective Function\n",
        " The objective function states the goal of a problem—that is, why we are trying to solve the problem. An LP model must have a single objective function. In most business-oriented LP models, the objective is to either maximize profit or minimize cost. \n",
        " \n",
        " The goal in this step is to express the profit (or cost) in terms of the *decision variables* defined earlier.\n",
        "\n",
        "$Min(Z) = 0.10A + 0.15B$\n",
        "\n",
        "We need to feed our turkeys for the lowest possible cost ($Z$)!\n",
        "\n"
      ]
    },
    {
      "cell_type": "markdown",
      "metadata": {
        "id": "DFkzSYLJpi6q"
      },
      "source": [
        "### Constraints\n",
        "subject to:\n",
        "* $5A + 10B >= 45$ `(protein required)`\n",
        "* $4A + 3B >= 24$ `(vitamins required)`\n",
        "* $0.5A >= 1.5$ `(iron required)`\n",
        "* $A,B >= 0$ `(nonnegativity)`"
      ]
    },
    {
      "cell_type": "markdown",
      "metadata": {
        "id": "sgVWpv337qjt"
      },
      "source": [
        "# Import Modules"
      ]
    },
    {
      "cell_type": "code",
      "metadata": {
        "id": "1UU9kP762C1Y",
        "colab": {
          "base_uri": "https://localhost:8080/"
        },
        "outputId": "140951d3-e471-4f17-a877-076aea2e284f"
      },
      "source": [
        "%matplotlib inline\n",
        "from pylab import *\n",
        "\n",
        "import shutil\n",
        "import sys\n",
        "import os.path\n",
        "\n",
        "if not shutil.which(\"pyomo\"):\n",
        "    !pip install -q pyomo\n",
        "    assert(shutil.which(\"pyomo\"))\n",
        "\n",
        "if not (shutil.which(\"cbc\") or os.path.isfile(\"cbc\")):\n",
        "    if \"google.colab\" in sys.modules:\n",
        "        !apt-get install -y -qq coinor-cbc\n",
        "    else:\n",
        "        try:\n",
        "            !conda install -c conda-forge coincbc \n",
        "        except:\n",
        "            pass\n",
        "\n",
        "assert(shutil.which(\"cbc\") or os.path.isfile(\"cbc\"))\n",
        "\n",
        "from pyomo.environ import *"
      ],
      "execution_count": null,
      "outputs": [
        {
          "output_type": "stream",
          "name": "stdout",
          "text": [
            "\u001b[K     |████████████████████████████████| 9.1 MB 4.8 MB/s \n",
            "\u001b[K     |████████████████████████████████| 49 kB 4.1 MB/s \n",
            "\u001b[?25hSelecting previously unselected package coinor-libcoinutils3v5.\n",
            "(Reading database ... 155013 files and directories currently installed.)\n",
            "Preparing to unpack .../0-coinor-libcoinutils3v5_2.10.14+repack1-1_amd64.deb ...\n",
            "Unpacking coinor-libcoinutils3v5 (2.10.14+repack1-1) ...\n",
            "Selecting previously unselected package coinor-libosi1v5.\n",
            "Preparing to unpack .../1-coinor-libosi1v5_0.107.9+repack1-1_amd64.deb ...\n",
            "Unpacking coinor-libosi1v5 (0.107.9+repack1-1) ...\n",
            "Selecting previously unselected package coinor-libclp1.\n",
            "Preparing to unpack .../2-coinor-libclp1_1.16.11+repack1-1_amd64.deb ...\n",
            "Unpacking coinor-libclp1 (1.16.11+repack1-1) ...\n",
            "Selecting previously unselected package coinor-libcgl1.\n",
            "Preparing to unpack .../3-coinor-libcgl1_0.59.10+repack1-1_amd64.deb ...\n",
            "Unpacking coinor-libcgl1 (0.59.10+repack1-1) ...\n",
            "Selecting previously unselected package coinor-libcbc3.\n",
            "Preparing to unpack .../4-coinor-libcbc3_2.9.9+repack1-1_amd64.deb ...\n",
            "Unpacking coinor-libcbc3 (2.9.9+repack1-1) ...\n",
            "Selecting previously unselected package coinor-cbc.\n",
            "Preparing to unpack .../5-coinor-cbc_2.9.9+repack1-1_amd64.deb ...\n",
            "Unpacking coinor-cbc (2.9.9+repack1-1) ...\n",
            "Setting up coinor-libcoinutils3v5 (2.10.14+repack1-1) ...\n",
            "Setting up coinor-libosi1v5 (0.107.9+repack1-1) ...\n",
            "Setting up coinor-libclp1 (1.16.11+repack1-1) ...\n",
            "Setting up coinor-libcgl1 (0.59.10+repack1-1) ...\n",
            "Setting up coinor-libcbc3 (2.9.9+repack1-1) ...\n",
            "Setting up coinor-cbc (2.9.9+repack1-1) ...\n",
            "Processing triggers for man-db (2.8.3-2ubuntu0.1) ...\n",
            "Processing triggers for libc-bin (2.27-3ubuntu1.3) ...\n",
            "/sbin/ldconfig.real: /usr/local/lib/python3.7/dist-packages/ideep4py/lib/libmkldnn.so.0 is not a symbolic link\n",
            "\n"
          ]
        }
      ]
    },
    {
      "cell_type": "markdown",
      "metadata": {
        "id": "HMrw2IJB-h3B"
      },
      "source": [
        "# Plotting the Constraints on the Graph\n",
        "To plot the constraints, we take each equation and we set one variable to 0 and see how the inequality updates.\n",
        "\n",
        "For ease, we bring down our constraints one more time and plot them.\n",
        "\n",
        "We assume A will be on the X axis, and B will be on the Y axis. \n",
        "\n",
        "\n",
        "\n",
        "### Constraints\n",
        "* $5A + 10B >= 45$ `(protein required)`\n",
        "  * if A = 0, then B = 45/10 = 4.5\n",
        "    * (A = 0, B = 4.5)\n",
        "  * if B = 0, then A = 45/5 = 9\n",
        "    * (A = 9, B = 0)\n",
        "* $4A + 3B >= 24$ `(vitamins required)`\n",
        "  * if A = 0, then B = 24/3 = 8\n",
        "    * (A = 0, B = 8)\n",
        "  * if B = 0, then A = 24/4 = 6\n",
        "      * (A = 6, B = 0)\n",
        "* $0.5A >= 1.5$ `(iron required)`\n",
        "  * we know A is the X axis, so this must be a vertical line\n",
        "  * A = 1.5 / 5 = 3\n",
        "    * A = 3\n",
        "* $A,B >= 0$ `(nonnegativity)`\n",
        "  * We always will be in the X1, Y1 plane - all decision variables must be positive numbers! \n"
      ]
    },
    {
      "cell_type": "code",
      "metadata": {
        "id": "_RmdD-xAEGJ6",
        "colab": {
          "base_uri": "https://localhost:8080/",
          "height": 409
        },
        "outputId": "c78c3f38-b4ae-49f9-a9ac-65003c4f9725"
      },
      "source": [
        "# this is the example from Pyomo cookbook\n",
        "# pylab makes it easy to make plots\n",
        "\n",
        "figure(figsize=(6,6))\n",
        "subplot(111, aspect='equal')\n",
        "axis([0,10,0,10])\n",
        "xlabel('Pounds of A')\n",
        "ylabel('Pounds of B')\n",
        "\n",
        "# Protein Constraint\n",
        "# can you see the two points (0, 4.5) and (9, 0) in the code below?\n",
        "# remember, A is X and B is Y \n",
        "x = array([0,   9])\n",
        "y = array([4.5, 0]) \n",
        "plot(x,y,'r',lw=2)\n",
        "# since this is a minimization problem we shade towards the origin!\n",
        "# again, notice how the points line up!\n",
        "fill_between([0,9,0], # x area\n",
        "             [4.5, 0, 0], # y area\n",
        "             [0,0,0], # bottom area, shade in everything below!\n",
        "             color='red', # color \n",
        "             alpha=0.15) # transparency\n",
        "\n",
        "# # Vitamin Constraint\n",
        "x = array([0, 6])\n",
        "y = array([8, 0]) \n",
        "plot(x,y,'blue',lw=2)\n",
        "fill_between([0, 6], # x area\n",
        "             [8,0], # y1 area\n",
        "             [0,0], # y2 area\n",
        "             color='blue', # color \n",
        "             alpha=0.15) # transparency\n",
        "\n",
        "# Iron constraint\n",
        "# Iron is only in A! \n",
        "# the points are where it intersects the X axis (A = 3, B = 0)\n",
        "# and the other point goes to infinity (we set to plot limits) (A = 3, B = 10)\n",
        "# then draw a line between the two points\n",
        "plot([3, 3],[0,10],'black',lw=2)\n",
        "fill_between([0,3], # A values (X)\n",
        "             [10, 10], # B values (Y)\n",
        "             [0,0], # shade to left to the origin!\n",
        "             color='grey',alpha=0.15)\n",
        "\n",
        "legend(['Protein Constraint','Vitamin Constraint','Iron Constraint'])\n",
        "\n",
        "# the area in white is the feasible region!\n",
        "text(4,6,'FEASIBLE REGION IS UNBOUNDED!')\n",
        "\n",
        "# but the farther away from the origin you go, the more money you'll spend\n",
        "# which is really bad for a minimization problem!"
      ],
      "execution_count": null,
      "outputs": [
        {
          "output_type": "execute_result",
          "data": {
            "text/plain": [
              "Text(4, 6, 'FEASIBLE REGION IS UNBOUNDED!')"
            ]
          },
          "metadata": {},
          "execution_count": 3
        },
        {
          "output_type": "display_data",
          "data": {
            "image/png": "[encoded data removed]",
            "text/plain": [
              "<Figure size 432x432 with 1 Axes>"
            ]
          },
          "metadata": {
            "needs_background": "light"
          }
        }
      ]
    },
    {
      "cell_type": "markdown",
      "metadata": {
        "id": "9NEsmHAup9oK"
      },
      "source": [
        "## Make a blank area for plotting"
      ]
    },
    {
      "cell_type": "code",
      "metadata": {
        "colab": {
          "base_uri": "https://localhost:8080/",
          "height": 392
        },
        "id": "wQ40VkeJqAXi",
        "outputId": "2c3cbc64-4b86-4ec9-affa-a8b30cff86f4"
      },
      "source": [
        "# this is the example from Pyomo cookbook\n",
        "# pylab makes it easy to make plots\n",
        "\n",
        "figure(figsize=(6,6))\n",
        "subplot(111, aspect='equal')\n",
        "axis([0,10,0,10]) # xmin, xmax, ymin, ymax\n",
        "xlabel('Pounds of A')\n",
        "ylabel('Pounds of B')\n",
        "show() # makes it look nice"
      ],
      "execution_count": null,
      "outputs": [
        {
          "output_type": "display_data",
          "data": {
            "image/png": "[encoded data removed]",
            "text/plain": [
              "<Figure size 432x432 with 1 Axes>"
            ]
          },
          "metadata": {
            "needs_background": "light"
          }
        }
      ]
    },
    {
      "cell_type": "markdown",
      "metadata": {
        "id": "rwkUErccp12q"
      },
      "source": [
        "## Plot the Protein Constraint ($5A+10B>=45$)\n",
        "How do we know which side to shade on? Try a sample point. \n",
        "\n",
        "When A=6 and B=4, we get 5*6 + 4*4 = 46... which is true!\n",
        "When A=2 and B=4, we get 5*2 + 4*4 = 26... which doesn't satisfy the constraint!\n",
        "\n",
        "So we shade UNDER the line."
      ]
    },
    {
      "cell_type": "code",
      "metadata": {
        "colab": {
          "base_uri": "https://localhost:8080/",
          "height": 392
        },
        "id": "-tJjiNKzsTDT",
        "outputId": "e5b58cd3-8510-4331-b29c-45451ae66721"
      },
      "source": [
        "# this is the example from Pyomo cookbook\n",
        "# pylab makes it easy to make plots\n",
        "\n",
        "figure(figsize=(6,6))\n",
        "subplot(111, aspect='equal')\n",
        "axis([0,10,0,10]) # xmin, xmax, ymin, ymax\n",
        "xlabel('Pounds of A')\n",
        "ylabel('Pounds of B')\n",
        "\n",
        "# Protein Constraint\n",
        "# can you see the two points (0, 4.5) and (9, 0) in the code below?\n",
        "# remember, A is X and B is Y \n",
        "x = array([0,   9])\n",
        "y = array([4.5, 0]) \n",
        "plot(x,y,'r',lw=2)\n",
        "# since this is a minimization problem we shade towards the origin!\n",
        "# again, notice how the points line up!\n",
        "fill_between([0,9], # x area\n",
        "             [0,0], # y1 area\n",
        "             [4.5,0], # y2 area\n",
        "             color='red', # color \n",
        "             alpha=0.15) # transparency\n",
        "show() # gets rid of annoying text"
      ],
      "execution_count": null,
      "outputs": [
        {
          "output_type": "display_data",
          "data": {
            "image/png": "[encoded data removed]",
            "text/plain": [
              "<Figure size 432x432 with 1 Axes>"
            ]
          },
          "metadata": {
            "needs_background": "light"
          }
        }
      ]
    },
    {
      "cell_type": "markdown",
      "metadata": {
        "id": "Uv8NCalitfRi"
      },
      "source": [
        "The first point is $x=0$, $y_1=0$ and $y_2=4.5$.\n",
        "\n",
        "The second point is $x=9$, $y_1=0$, and $y_2=0$.\n",
        "\n",
        "We are simply filling the area between $y_1$ and $y_2$. \n",
        "\n",
        "Double click this cell to see how to make a subscript (just use _)! You don't always need three arguments for the `fill_between` function."
      ]
    },
    {
      "cell_type": "markdown",
      "metadata": {
        "id": "nHdTeDMJuJdq"
      },
      "source": [
        "## Plot the Vitamin Constraint ($4A+3B>=24$)\n",
        "We will carry the previous step forward with us, try to determine which side of the line to shade on, and move on."
      ]
    },
    {
      "cell_type": "code",
      "metadata": {
        "colab": {
          "base_uri": "https://localhost:8080/",
          "height": 392
        },
        "id": "dqA2uCguuSio",
        "outputId": "35eff50f-0b55-4b76-93b9-a2c972d114e4"
      },
      "source": [
        "# this is the example from Pyomo cookbook\n",
        "# pylab makes it easy to make plots\n",
        "\n",
        "figure(figsize=(6,6))\n",
        "subplot(111, aspect='equal')\n",
        "axis([0,10,0,10]) # xmin, xmax, ymin, ymax\n",
        "xlabel('Pounds of A')\n",
        "ylabel('Pounds of B')\n",
        "\n",
        "# Protein Constraint\n",
        "# can you see the two points (0, 4.5) and (9, 0) in the code below?\n",
        "# remember, A is X and B is Y \n",
        "x = array([0,   9])\n",
        "y = array([4.5, 0]) \n",
        "plot(x,y,'r',lw=2)\n",
        "# since this is a minimization problem we shade towards the origin!\n",
        "# again, notice how the points line up!\n",
        "fill_between([0,9], # x area\n",
        "             [0,0], # y1 area\n",
        "             [4.5,0], # y2 area\n",
        "             color='red', # color \n",
        "             alpha=0.15) # transparency\n",
        "\n",
        "# # Vitamin Constraint\n",
        "x = array([0, 6])\n",
        "y = array([8, 0]) \n",
        "plot(x,y,'blue',lw=2)\n",
        "fill_between([0, 6], # x area\n",
        "             [8,0], # y1 area\n",
        "             [0,0], # y2 area\n",
        "             color='blue', # color \n",
        "             alpha=0.15) # transparency\n",
        "\n",
        "show() # gets rid of annoying text"
      ],
      "execution_count": null,
      "outputs": [
        {
          "output_type": "display_data",
          "data": {
            "image/png": "[encoded data removed]",
            "text/plain": [
              "<Figure size 432x432 with 1 Axes>"
            ]
          },
          "metadata": {
            "needs_background": "light"
          }
        }
      ]
    },
    {
      "cell_type": "markdown",
      "metadata": {
        "id": "jQrgiXjJuheq"
      },
      "source": [
        "For the feasible region, you could use A=2 and B=4...\n",
        "2*2 + 3*4 = 18... which does NOT satisfy the constraint! So we need to shade under the line."
      ]
    },
    {
      "cell_type": "markdown",
      "metadata": {
        "id": "LAZY1N70uvrp"
      },
      "source": [
        "## Plot the Iron Constraint ($0.5A>=1.5$)\n",
        "This one can appear tricky... but just divide 1.5/0.5 which gives $A=3$. This is a vertical line on the A axis."
      ]
    },
    {
      "cell_type": "code",
      "metadata": {
        "colab": {
          "base_uri": "https://localhost:8080/",
          "height": 392
        },
        "id": "0fsN3NDVu3qi",
        "outputId": "fb40c770-b622-44c2-832a-9670e8e100ae"
      },
      "source": [
        "# again, we carry everything forward from before\n",
        "\n",
        "# this is the example from Pyomo cookbook\n",
        "# pylab makes it easy to make plots\n",
        "\n",
        "figure(figsize=(6,6))\n",
        "subplot(111, aspect='equal')\n",
        "axis([0,10,0,10]) # xmin, xmax, ymin, ymax\n",
        "xlabel('Pounds of A')\n",
        "ylabel('Pounds of B')\n",
        "\n",
        "# Protein Constraint\n",
        "# can you see the two points (0, 4.5) and (9, 0) in the code below?\n",
        "# remember, A is X and B is Y \n",
        "x = array([0,   9])\n",
        "y = array([4.5, 0]) \n",
        "plot(x,y,'r',lw=2)\n",
        "# since this is a minimization problem we shade towards the origin!\n",
        "# again, notice how the points line up!\n",
        "fill_between([0,9], # x area\n",
        "             [0,0], # y1 area\n",
        "             [4.5,0], # y2 area\n",
        "             color='red', # color \n",
        "             alpha=0.15) # transparency\n",
        "\n",
        "# # Vitamin Constraint\n",
        "x = array([0, 6])\n",
        "y = array([8, 0]) \n",
        "plot(x,y,'blue',lw=2)\n",
        "fill_between([0, 6], # x area\n",
        "             [8,0], # y1 area\n",
        "             [0,0], # y2 area\n",
        "             color='blue', # color \n",
        "             alpha=0.15) # transparency\n",
        "\n",
        "# Iron constraint\n",
        "# Iron is only in A! \n",
        "# the points are where it intersects the X axis (A = 3, B = 0)\n",
        "# and the other point goes to infinity (we set to plot limits) (A = 3, B = 10)\n",
        "# then draw a line between the two points\n",
        "x = array([3, 3])\n",
        "y = array([0, 10]) \n",
        "plot(x,y,'black',lw=2)\n",
        "fill_between([0,3], # A values (X)\n",
        "             [10, 10], # B values (Y)\n",
        "             [0,0], # shade to left to the origin!\n",
        "             color='grey',alpha=0.3)\n",
        "\n",
        "legend(['Protein Constraint','Vitamin Constraint','Iron Constraint'])\n",
        "\n",
        "# the area in white is the feasible region!\n",
        "text(4,6,'FEASIBLE REGION IS UNBOUNDED!')\n",
        "\n",
        "# but the farther away from the origin you go, the more money you'll spend\n",
        "# which is really bad for a minimization problem!\n",
        "show() # gets rid of annoying text"
      ],
      "execution_count": null,
      "outputs": [
        {
          "output_type": "display_data",
          "data": {
            "image/png": "[encoded data removed]",
            "text/plain": [
              "<Figure size 432x432 with 1 Axes>"
            ]
          },
          "metadata": {
            "needs_background": "light"
          }
        }
      ]
    },
    {
      "cell_type": "markdown",
      "metadata": {
        "id": "UMNDeJSRV5Gt"
      },
      "source": [
        "# The Feasible Region\n",
        "The feasible region is the area we find all valid/possible solutions. These possible solutions will satisfy our constraints, but at a cost! But not all solutions are equally good - for example we see that the point (A=6, B=4)is in the feasible region. We can plug and chug and see that the objective function would become:\n",
        "\n",
        "$Z = 0.10A + 0.15B$\n",
        "\n",
        "$Z = 0.10*6 + 0.15*4$\n",
        "\n",
        "$Z = 1.20$\n",
        "\n",
        "We can plot the point on the graph for ease of viewing."
      ]
    },
    {
      "cell_type": "code",
      "metadata": {
        "id": "ZH5MxhOaWwz5",
        "colab": {
          "base_uri": "https://localhost:8080/",
          "height": 392
        },
        "outputId": "fa6e9ec7-7124-43f9-8575-ab9713b137ba"
      },
      "source": [
        "figure(figsize=(6,6))\n",
        "subplot(111, aspect='equal')\n",
        "axis([0,10,0,10]) # xmin, xmax, ymin, ymax\n",
        "xlabel('Pounds of A')\n",
        "ylabel('Pounds of B')\n",
        "\n",
        "# Protein Constraint\n",
        "# can you see the two points (0, 4.5) and (9, 0) in the code below?\n",
        "# remember, A is X and B is Y \n",
        "x = array([0,   9])\n",
        "y = array([4.5, 0]) \n",
        "plot(x,y,'r',lw=2)\n",
        "# since this is a minimization problem we shade towards the origin!\n",
        "# again, notice how the points line up!\n",
        "fill_between([0,9], # x area\n",
        "             [0,0], # y1 area\n",
        "             [4.5,0], # y2 area\n",
        "             color='red', # color \n",
        "             alpha=0.15) # transparency\n",
        "\n",
        "# # Vitamin Constraint\n",
        "x = array([0, 6])\n",
        "y = array([8, 0]) \n",
        "plot(x,y,'blue',lw=2)\n",
        "fill_between([0, 6], # x area\n",
        "             [8,0], # y1 area\n",
        "             [0,0], # y2 area\n",
        "             color='blue', # color \n",
        "             alpha=0.15) # transparency\n",
        "\n",
        "# Iron constraint\n",
        "# Iron is only in A! \n",
        "# the points are where it intersects the X axis (A = 3, B = 0)\n",
        "# and the other point goes to infinity (we set to plot limits) (A = 3, B = 10)\n",
        "# then draw a line between the two points\n",
        "x = array([3, 3])\n",
        "y = array([0, 10]) \n",
        "plot(x,y,'black',lw=2)\n",
        "fill_between([0,3], # A values (X)\n",
        "             [10, 10], # B values (Y)\n",
        "             [0,0], # shade to left to the origin!\n",
        "             color='grey',alpha=0.3)\n",
        "\n",
        "legend(['Protein Constraint','Vitamin Constraint','Iron Constraint'])\n",
        "\n",
        "# the area in white is the feasible region!\n",
        "text(4,6,'FEASIBLE REGION IS UNBOUNDED!')\n",
        "\n",
        "\n",
        "# add our sample point to evaluate (6, 4)\n",
        "plot(6,4,'r.',ms=20) # makes a red dot on the plot\n",
        "annotate('(6, 4)', xy=(6,4), xytext=(6,4)) # adds a label for '(6,4)'\n",
        "\n",
        "show()"
      ],
      "execution_count": null,
      "outputs": [
        {
          "output_type": "display_data",
          "data": {
            "image/png": "[encoded data removed]",
            "text/plain": [
              "<Figure size 432x432 with 1 Axes>"
            ]
          },
          "metadata": {
            "needs_background": "light"
          }
        }
      ]
    },
    {
      "cell_type": "markdown",
      "metadata": {
        "id": "jI16GhC4XWz3"
      },
      "source": [
        "Try another one! How about (A = 5, B = 3)?\n",
        "\n",
        "$Z = 0.10A + 0.15B$\n",
        "\n",
        "$Z = 0.10*5 + 0.15*3$\n",
        "\n",
        "$Z = 0.85$\n",
        "\n",
        "A little better! We can also plot for ease of viewing.\n",
        "\n",
        "Note that as we get closer to the origin and corner points, we find the optimal solution!"
      ]
    },
    {
      "cell_type": "code",
      "metadata": {
        "id": "SWL_XeRXXTbq",
        "colab": {
          "base_uri": "https://localhost:8080/",
          "height": 392
        },
        "outputId": "9e867b25-2bbe-419f-aa64-6cc147fa7be1"
      },
      "source": [
        "figure(figsize=(6,6))\n",
        "subplot(111, aspect='equal')\n",
        "axis([0,10,0,10]) # xmin, xmax, ymin, ymax\n",
        "xlabel('Pounds of A')\n",
        "ylabel('Pounds of B')\n",
        "\n",
        "# Protein Constraint\n",
        "# can you see the two points (0, 4.5) and (9, 0) in the code below?\n",
        "# remember, A is X and B is Y \n",
        "x = array([0,   9])\n",
        "y = array([4.5, 0]) \n",
        "plot(x,y,'r',lw=2)\n",
        "# since this is a minimization problem we shade towards the origin!\n",
        "# again, notice how the points line up!\n",
        "fill_between([0,9], # x area\n",
        "             [0,0], # y1 area\n",
        "             [4.5,0], # y2 area\n",
        "             color='red', # color \n",
        "             alpha=0.15) # transparency\n",
        "\n",
        "# # Vitamin Constraint\n",
        "x = array([0, 6])\n",
        "y = array([8, 0]) \n",
        "plot(x,y,'blue',lw=2)\n",
        "fill_between([0, 6], # x area\n",
        "             [8,0], # y1 area\n",
        "             [0,0], # y2 area\n",
        "             color='blue', # color \n",
        "             alpha=0.15) # transparency\n",
        "\n",
        "# Iron constraint\n",
        "# Iron is only in A! \n",
        "# the points are where it intersects the X axis (A = 3, B = 0)\n",
        "# and the other point goes to infinity (we set to plot limits) (A = 3, B = 10)\n",
        "# then draw a line between the two points\n",
        "x = array([3, 3])\n",
        "y = array([0, 10]) \n",
        "plot(x,y,'black',lw=2)\n",
        "fill_between([0,3], # A values (X)\n",
        "             [10, 10], # B values (Y)\n",
        "             [0,0], # shade to left to the origin!\n",
        "             color='grey',alpha=0.3)\n",
        "\n",
        "legend(['Protein Constraint','Vitamin Constraint','Iron Constraint'])\n",
        "\n",
        "# the area in white is the feasible region!\n",
        "text(4,6,'FEASIBLE REGION IS UNBOUNDED!')\n",
        "\n",
        "# add our sample point to evaluate (5, 3)\n",
        "plot(5,3,'r.',ms=20) # makes a red dot on the plot\n",
        "annotate('(5, 3)', xy=(5,3), xytext=(5,3)) # adds a label for '(5, 3)'\n",
        "\n",
        "show()"
      ],
      "execution_count": null,
      "outputs": [
        {
          "output_type": "display_data",
          "data": {
            "image/png": "[encoded data removed]",
            "text/plain": [
              "<Figure size 432x432 with 1 Axes>"
            ]
          },
          "metadata": {
            "needs_background": "light"
          }
        }
      ]
    },
    {
      "cell_type": "markdown",
      "metadata": {
        "id": "EcTq1e1i-AKn"
      },
      "source": [
        "# Find Corner Points and Plot Them\n",
        "\n",
        "So - the feasible region has a bunch of possible values for A and B that satisfy our constraints but we don't want to spend all of our money... but is there a way we can identify a subset of solutions to evaluate rather than iterating over ALL possible points?\n",
        "\n",
        "The  corner point property: this property states that an optimal solution to an LP problem will always occur at a corner point of the feasible region - regardless of whether it's a maximization or minimization LP problem. Corner points are the extreme points of the possible solutions - it's where the constraints cross paths.\n",
        "\n",
        "To solve for corner points, we solve for the intersection of the two constraints equations. This is done by subtracting the equations from each other.\n",
        "\n",
        "The naming of the points is arbitrary - but we'll go from left to right.\n",
        "\n",
        "* **Point 1** (A = 3, B = 4)\n",
        "  * where the Vitamin constraint (blue line) and Iron constraint (black line) intersect\n",
        "  * first, turn the inequalities into equal signs.\n",
        "\n",
        "  $4A + 3B = 24$ `(vitamins required)`\n",
        "\n",
        "  $0.5A = 1.5$ `(iron required)`\n",
        "  * if we multiply the bottom equation by 8, we can then subtract the equations and get rid of A.\n",
        "\n",
        "  $4A + 3B - 4A = 24 - 8*1.5$\n",
        "\n",
        "  $3B = 24 - 12$\n",
        "\n",
        "  $B = 12/3$\n",
        "\n",
        "  $B = 4$\n",
        "\n",
        "  * if we plug this back into the first equation, we get A. \n",
        "\n",
        "  $4A + 3*4 = 24$\n",
        "\n",
        "  $A = 3$\n",
        "\n",
        "* **Point 2** (A = 4.2, B = 2.4)\n",
        "  * this is where Protein constraint (red line) intersects the Vitamin constraint (blue line)\n",
        "  * we need to subtract these two equations and get rid of a variable, then plug it back in to calculate the other variable.\n",
        "  * first, turn the inequalities into equal signs. \n",
        "\n",
        "  $5A + 10B >= 45$ `(protein required)`\n",
        "\n",
        "  $4A + 3B = 24$ `(vitamins required)`\n",
        "\n",
        "  * now we need to subtract these two equations and cancel out one variables. We can multiply the top equation by 4 and the bottom equation by 5.\n",
        "\n",
        "  $20A + 40B = 180$\n",
        "\n",
        "  $20A + 15B = 120$\n",
        "\n",
        "  * now let's get rid of the A's and solve for B.\n",
        "\n",
        "  $20A + 40B - 20A - 15B = 180 - 120$\n",
        "\n",
        "  $40B - 15B = 60$\n",
        "\n",
        "  $25B = 60$\n",
        "\n",
        "  $B = 2.4$\n",
        "\n",
        "  * you can now plug this into the first equation and solve for A. \n",
        "\n",
        "  $5A + 10*2.4 = 45$\n",
        "\n",
        "  $5A = 45-24$\n",
        "\n",
        "  $A = 4.2$\n",
        "\n",
        "* **Point 3** (A = 9, B = 0)\n",
        "  * one more point to go!\n",
        "  * this is where the Protein Constraint (red line) intersects the A axis (X). \n",
        "  * we already know where this happens from before when we drew the constraints crossing the X and Y axes - it's (A = 9, B = 0).\n",
        "\n",
        "The same script above is pulled down here for ease of viewing, but now includes our corner points.\n",
        "\n",
        "**Point 1** (A = 3, B = 4)\n",
        "**Point 2** (A = 4.2, B = 2.4)\n",
        "**Point 3** (A = 9, B = 0)\n",
        "\n"
      ]
    },
    {
      "cell_type": "code",
      "metadata": {
        "id": "nGNZ9xPTI5D4",
        "colab": {
          "base_uri": "https://localhost:8080/",
          "height": 409
        },
        "outputId": "7ca75272-bad7-4093-cd5f-c381c422cbe1"
      },
      "source": [
        "figure(figsize=(6,6))\n",
        "subplot(111, aspect='equal')\n",
        "axis([0,10,0,10])\n",
        "xlabel('Pounds of A')\n",
        "ylabel('Pounds of B')\n",
        "\n",
        "# Protein Constraint\n",
        "# can you see the two points (0, 4.5) and (9, 0) in the code below?\n",
        "# remember, A is X and B is Y \n",
        "x = array([0,   9])\n",
        "y = array([4.5, 0]) \n",
        "plot(x,y,'r',lw=2)\n",
        "# since this is a minimization problem we shade towards the origin!\n",
        "# again, notice how the points line up!\n",
        "fill_between([0,9,0], # x area\n",
        "             [4.5, 0, 0], # y area\n",
        "             [0,0,0], # bottom area, shade in everything below!\n",
        "             color='red', # color \n",
        "             alpha=0.15) # transparency\n",
        "\n",
        "# # Vitamin Constraint\n",
        "x = array([0, 6])\n",
        "y = array([8, 0]) \n",
        "plot(x,y,'blue',lw=2)\n",
        "fill_between([0, 6, 0], # x area\n",
        "             [8,0,0], # y area\n",
        "             [0,0,0], # bottom area - all 0s! Easy.\n",
        "             color='blue', # color \n",
        "             alpha=0.15) # transparency\n",
        "\n",
        "# Iron constraint\n",
        "# Iron is only in A! \n",
        "# the points are where it intersects the X axis (A = 3, B = 0)\n",
        "# and the other point goes to infinity (we set to plot limits) (A = 3, B = 10)\n",
        "# then draw a line between the two points\n",
        "plot([3, 3],[0,10],'black',lw=2)\n",
        "fill_between([0,3], # A values (X)\n",
        "             [10, 10], # B values (Y)\n",
        "             [0,0], # shade to left to the origin!\n",
        "             color='grey',alpha=0.15)\n",
        "\n",
        "legend(['Protein Constraint','Vitamin Constraint','Iron Constraint'])\n",
        "\n",
        "# the area in white is the feasible region!\n",
        "text(4,6,'FEASIBLE REGION IS UNBOUNDED!')\n",
        "\n",
        "# point 1\n",
        "plot(3,4,'r.',ms=20) # makes a red dot on the plot\n",
        "annotate('1', xy=(3,4), xytext=(3,4)) # adds a label for '1'\n",
        "\n",
        "# point 2\n",
        "plot(4.2, 2.4,'r.',ms=20) # makes a red dot on the plot\n",
        "annotate('2', xy=(4.2, 2.4), xytext=(4.2, 2.4)) # adds a label for '2'\n",
        "\n",
        "# point 3\n",
        "plot(9,0,'r.',ms=20) # makes a red dot on the plot\n",
        "annotate('3', xy=(9,0), xytext=(9,0)) # adds a label for '3'"
      ],
      "execution_count": null,
      "outputs": [
        {
          "output_type": "execute_result",
          "data": {
            "text/plain": [
              "Text(9, 0, '3')"
            ]
          },
          "metadata": {},
          "execution_count": 5
        },
        {
          "output_type": "display_data",
          "data": {
            "image/png": "[encoded data removed]",
            "text/plain": [
              "<Figure size 432x432 with 1 Axes>"
            ]
          },
          "metadata": {
            "needs_background": "light"
          }
        }
      ]
    },
    {
      "cell_type": "markdown",
      "metadata": {
        "id": "cl_6SYZBuS9P"
      },
      "source": [
        "Notice that the graph will always help you confirm you've found the corner points - and graphing with Python ensures that you don't have to worry about the shading or lining up the points just right."
      ]
    },
    {
      "cell_type": "markdown",
      "metadata": {
        "id": "esnS-nemElsA"
      },
      "source": [
        "# Evaluation of Corner Points\n",
        "For each corner point we have, we need to evaluate how the values of A and B will influence cost. We seek to minimize cost.\n",
        "\n",
        "$Min(Z) = 0.10A + 0.15B$\n",
        "\n",
        "* Point 1: (A = 3, B = 4)\n",
        "  * $Cost = 0.1*3 + 0.15*4 = 0.9\\ USD$\n",
        "* Point 2: (A = 4.2, B = 2.4)\n",
        "  * $Cost = 0.1*4.2 + 0.15*2.4 = 0.78\\ USD$ **[optimal!]**\n",
        "* Point 3: (A = 9, B = 0)\n",
        "  * $Cost = 0.1*9 + 0.15*0 = 0.9\\ USD$\n",
        "\n",
        "So there you have it, you need to spend 0.78 USD (or 78 cents) per turkey assuming you could buy fractions of bags of feed for each turkey.\n",
        "\n",
        "If you had to feed 5000 turkeys, it would cost you $0.78*5000 = 3900\\ USD$ and you would need $5000*4.2 = 21,000$ pounds of $A$ and $5000*2.4 = 12,000$ pounds of $B$."
      ]
    },
    {
      "cell_type": "markdown",
      "metadata": {
        "id": "zdlEQvLL1QrH"
      },
      "source": [
        "# [optional/way easier?] Using Python to solve intersections (corner points) for you!\n",
        "Look how hackable this example is - https://docs.sympy.org/latest/modules/geometry/lines.html#sympy.geometry.line.LinearEntity.intersection\n",
        "\n",
        "You just need to know where each constraint intersects. This is way easier than solving by hand. We are fine with you using this method instead of solving a series of inequalities."
      ]
    },
    {
      "cell_type": "code",
      "metadata": {
        "id": "Fa8ZQvQB-xFZ"
      },
      "source": [
        "from sympy.geometry import Point2D, Line2D"
      ],
      "execution_count": null,
      "outputs": []
    },
    {
      "cell_type": "code",
      "metadata": {
        "colab": {
          "base_uri": "https://localhost:8080/"
        },
        "id": "wG6RV48rxLRU",
        "outputId": "81522333-4937-4e6d-a140-1ee0b29e8c72"
      },
      "source": [
        "# point 1: vitamins and iron\n",
        "# Point 1 (A = 3, B = 4)\n",
        "r1 = Line2D(Point2D(0, 8), Point2D(6, 0)) # blue (vitamin)\n",
        "r2 = Line2D(Point2D(3, 0), Point2D(3, 10)) # black (iron)\n",
        "r1.intersection(r2) "
      ],
      "execution_count": null,
      "outputs": [
        {
          "output_type": "execute_result",
          "data": {
            "text/plain": [
              "[Point2D(3, 4)]"
            ]
          },
          "metadata": {},
          "execution_count": 22
        }
      ]
    },
    {
      "cell_type": "code",
      "metadata": {
        "colab": {
          "base_uri": "https://localhost:8080/"
        },
        "id": "nAo6-2VT-v_L",
        "outputId": "3c5f6a51-6ac0-46ff-9155-eae4b6b88892"
      },
      "source": [
        "# point 2: protein and vitamins\n",
        "# Point 2 (A = 4.2, B = 2.4)\n",
        "r1 = Line2D(Point2D(0, 8), Point2D(6, 0)) # blue (vitamin)\n",
        "r2 = Line2D(Point2D(0, 4.5), Point2D(9, 0)) # red (protein)\n",
        "r1.intersection(r2) "
      ],
      "execution_count": null,
      "outputs": [
        {
          "output_type": "execute_result",
          "data": {
            "text/plain": [
              "[Point2D(21/5, 12/5)]"
            ]
          },
          "metadata": {},
          "execution_count": 19
        }
      ]
    },
    {
      "cell_type": "code",
      "metadata": {
        "colab": {
          "base_uri": "https://localhost:8080/"
        },
        "id": "oIuynOffw_BK",
        "outputId": "0d8ef212-34c3-4238-a7d7-d7dcd72dfdfc"
      },
      "source": [
        "print(21/5, 12/5) # it worked!"
      ],
      "execution_count": null,
      "outputs": [
        {
          "output_type": "stream",
          "name": "stdout",
          "text": [
            "4.2 2.4\n"
          ]
        }
      ]
    },
    {
      "cell_type": "code",
      "metadata": {
        "colab": {
          "base_uri": "https://localhost:8080/"
        },
        "id": "9dewdPKVxbAT",
        "outputId": "14116a84-9c3b-4185-9de8-19307b95ac09"
      },
      "source": [
        "# point 3 is just the intersection with X axis\n",
        "# but for completeness...\n",
        "# point 3: protein and vitamins\n",
        "# Point 2 (A = 4.2, B = 2.4)\n",
        "r1 = Line2D(Point2D(0, 0), Point2D(9, 0)) # X axis\n",
        "r2 = Line2D(Point2D(0, 4.5), Point2D(9, 0)) # red (protein)\n",
        "r1.intersection(r2) "
      ],
      "execution_count": null,
      "outputs": [
        {
          "output_type": "execute_result",
          "data": {
            "text/plain": [
              "[Point2D(9, 0)]"
            ]
          },
          "metadata": {},
          "execution_count": 23
        }
      ]
    }
  ]
}