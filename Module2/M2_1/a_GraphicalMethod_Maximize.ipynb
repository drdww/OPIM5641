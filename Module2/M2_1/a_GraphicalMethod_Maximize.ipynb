{
  "nbformat": 4,
  "nbformat_minor": 0,
  "metadata": {
    "colab": {
      "name": "a_GraphicalMethod_Maximize",
      "provenance": [],
      "collapsed_sections": [],
      "include_colab_link": true
    },
    "kernelspec": {
      "name": "python3",
      "display_name": "Python 3"
    }
  },
  "cells": [
    {
      "cell_type": "markdown",
      "metadata": {
        "id": "view-in-github",
        "colab_type": "text"
      },
      "source": [
        "<a href=\"https://colab.research.google.com/github/drdww/OPIM5641/blob/main/Module2/a_GraphicalMethod_Maximize.ipynb\" target=\"_parent\"><img src=\"https://colab.research.google.com/assets/colab-badge.svg\" alt=\"Open In Colab\"/></a>"
      ]
    },
    {
      "cell_type": "markdown",
      "metadata": {
        "id": "gkbApmLYEOAx"
      },
      "source": [
        "# The Graphical Method (Maximize Objective Function)\n",
        "______________________________________\n",
        "**OPIM 5641: Business Decision Modeling - University of Connecticut**\n",
        "\n",
        "The graphical method works only when there are two decision variables, but it provides valuable insight into how larger problems are solved. \n",
        "\n",
        "Take out a piece of paper and draw this while it is explained to you. Then try to replicate in Python (looking at the code on your second monitor, and then without looking!) If you can do this, you really know it - otherwise you're just going through the motions.\n",
        "\n",
        "---------------------------------------------------------------------------\n",
        "**Flair's Furniture** (from Chapter 2, Nagraj et. al)\n",
        "Flair Furniture Company produces inexpensive tables and chairs. The production process for each is similar in that both require a certain number of labor hours in the carpentry department and a certain number of labor hours in the painting department. Each table takes 3 hours of carpentry work and 2 hours of painting work. Each chair requires 4 hours of carpentry and 1 hour of painting. During the current month, 2,400 hours of carpentry time and 1,000 hours of painting time are available. The marketing department wants Flair to make no more than 450 new chairs this month because there is a sizable existing inventory of chairs. However, because the existing inventory of tables is low, the marketing department wants Flair to make at least 100 tables this month. Each table sold results in a profit contribution of 7 USD, and each chair sold yields a profit contribution of 5 USD.  \n",
        "\n",
        "Flair Furniture’s problem is to determine the best possible combination of tables and chairs to manufacture this month in order to attain the maximum profit. The firm would like this product mix situation formulated (and subsequently solved) as an LP problem.  \n",
        "\n",
        "To provide a structured approach for formulating this problem (and any other LP problem, irrespective of size and complexity), we present a three-step process in the following sections - decision variables, objective function and constraints.\n",
        "\n",
        "**Note:** often times, data is not presented in tables, but must be discerned from word problems/narrative like this!\n",
        "\n",
        "### Decision Variables\n",
        "Chairs (C) and Tables (T) that need to be produced.\n",
        "\n",
        "Decision variables  (or choice variables) represent the unknown entities in a problem—that is, what we are solving for in the problem. For example, in the Flair Furniture problem, there are two unknown entities: the number of tables to be produced this month and the number of chairs to be produced this month. Note that all other unknowns in the problem (e.g., the total carpentry time needed this month) can be expressed as linear functions of the number of tables produced and the number of chairs produced. \n",
        "\n",
        "### Objective Function\n",
        " The objective function states the goal of a problem—that is, why we are trying to solve the problem. An LP model must have a single objective function. In most business-oriented LP models, the objective is to either maximize profit or minimize cost. The goal in this step is to express the profit (or cost) in terms of the *decision variables* defined earlier.\n",
        "\n",
        "$Max(Z) = 7T + 5C$ `objective function`\n",
        "\n",
        "### Constraints\n",
        "subject to:\n",
        "* $3T + 4C <= 2400$ `(carpentry time)`\n",
        "* $2T + 1C <= 1000$ `(painting time)`\n",
        "* $C <= 450$ `(maximum chairs allowed)`\n",
        "* $T >= 100$ `(minimum tables required)`\n",
        "* $T,C >= 0$ `(nonnegativity)`"
      ]
    },
    {
      "cell_type": "markdown",
      "metadata": {
        "id": "sgVWpv337qjt"
      },
      "source": [
        "## Import Modules"
      ]
    },
    {
      "cell_type": "code",
      "metadata": {
        "id": "1UU9kP762C1Y",
        "colab": {
          "base_uri": "https://localhost:8080/"
        },
        "outputId": "e6ba683e-f0e1-4aa0-ea40-231462c82319"
      },
      "source": [
        "%matplotlib inline\n",
        "from pylab import * # for graphing\n",
        "\n",
        "import shutil\n",
        "import sys\n",
        "import os.path\n",
        "\n",
        "if not shutil.which(\"pyomo\"):\n",
        "    !pip install -q pyomo\n",
        "    assert(shutil.which(\"pyomo\"))\n",
        "\n",
        "if not (shutil.which(\"cbc\") or os.path.isfile(\"cbc\")):\n",
        "    if \"google.colab\" in sys.modules:\n",
        "        !apt-get install -y -qq coinor-cbc\n",
        "    else:\n",
        "        try:\n",
        "            !conda install -c conda-forge coincbc \n",
        "        except:\n",
        "            pass\n",
        "\n",
        "assert(shutil.which(\"cbc\") or os.path.isfile(\"cbc\"))\n",
        "\n",
        "from pyomo.environ import *"
      ],
      "execution_count": null,
      "outputs": [
        {
          "output_type": "stream",
          "text": [
            "\u001b[K     |████████████████████████████████| 9.1 MB 19.1 MB/s \n",
            "\u001b[K     |████████████████████████████████| 49 kB 5.4 MB/s \n",
            "\u001b[?25hSelecting previously unselected package coinor-libcoinutils3v5.\n",
            "(Reading database ... 148489 files and directories currently installed.)\n",
            "Preparing to unpack .../0-coinor-libcoinutils3v5_2.10.14+repack1-1_amd64.deb ...\n",
            "Unpacking coinor-libcoinutils3v5 (2.10.14+repack1-1) ...\n",
            "Selecting previously unselected package coinor-libosi1v5.\n",
            "Preparing to unpack .../1-coinor-libosi1v5_0.107.9+repack1-1_amd64.deb ...\n",
            "Unpacking coinor-libosi1v5 (0.107.9+repack1-1) ...\n",
            "Selecting previously unselected package coinor-libclp1.\n",
            "Preparing to unpack .../2-coinor-libclp1_1.16.11+repack1-1_amd64.deb ...\n",
            "Unpacking coinor-libclp1 (1.16.11+repack1-1) ...\n",
            "Selecting previously unselected package coinor-libcgl1.\n",
            "Preparing to unpack .../3-coinor-libcgl1_0.59.10+repack1-1_amd64.deb ...\n",
            "Unpacking coinor-libcgl1 (0.59.10+repack1-1) ...\n",
            "Selecting previously unselected package coinor-libcbc3.\n",
            "Preparing to unpack .../4-coinor-libcbc3_2.9.9+repack1-1_amd64.deb ...\n",
            "Unpacking coinor-libcbc3 (2.9.9+repack1-1) ...\n",
            "Selecting previously unselected package coinor-cbc.\n",
            "Preparing to unpack .../5-coinor-cbc_2.9.9+repack1-1_amd64.deb ...\n",
            "Unpacking coinor-cbc (2.9.9+repack1-1) ...\n",
            "Setting up coinor-libcoinutils3v5 (2.10.14+repack1-1) ...\n",
            "Setting up coinor-libosi1v5 (0.107.9+repack1-1) ...\n",
            "Setting up coinor-libclp1 (1.16.11+repack1-1) ...\n",
            "Setting up coinor-libcgl1 (0.59.10+repack1-1) ...\n",
            "Setting up coinor-libcbc3 (2.9.9+repack1-1) ...\n",
            "Setting up coinor-cbc (2.9.9+repack1-1) ...\n",
            "Processing triggers for man-db (2.8.3-2ubuntu0.1) ...\n",
            "Processing triggers for libc-bin (2.27-3ubuntu1.2) ...\n",
            "/sbin/ldconfig.real: /usr/local/lib/python3.7/dist-packages/ideep4py/lib/libmkldnn.so.0 is not a symbolic link\n",
            "\n"
          ],
          "name": "stdout"
        }
      ]
    },
    {
      "cell_type": "markdown",
      "metadata": {
        "id": "HMrw2IJB-h3B"
      },
      "source": [
        "# Plotting the Constraints on the Graph\n",
        "To plot the constraints, we take each equation and we set one variable to 0 and see how the inequality updates.\n",
        "\n",
        "For ease, we bring down our constraints one more time and plot them.\n",
        "\n",
        "**Update (Sept 15, 2020):** We assume $T$ will be on the X axis, and $C$ will be on the Y axis. *There was originally a small typo in the video right here (where we said C was on the X axis, it's now been fixed), everything in the code and example is correct below! Also - this example identically follow's the example in the book - pls compare against my script*\n",
        "\n",
        "### Constraints\n",
        "* $3T + 4C <= 2400$ `(carpentry time)`\n",
        "  * when T = 0, C = 2400/4 = 600\n",
        "  * when C = 0, T = 2400/3 = 800\n",
        "    * Plot the coordinates (T=0, C=600) and (T=800, C=0) and draw a line through them.\n",
        "* $2T + 1C <= 1000$ `(painting time)`\n",
        "  * when T = 0, C = 1000/1 = 1000\n",
        "  * when C = 0, T = 1000/2 = 500\n",
        "      * Plot the coordinates (T=0, C=1000) and (T=500, C=0) and draw a line through them.\n",
        "* $C <= 450$ `(maximum chairs allowed)`\n",
        "  * C = 450 (shade area above)\n",
        "    * this is a horizontal line - since C is the Y axis, go up to 450 and draw a straight horizontal line and shade the area above this point since we can't make more than 450 tables.\n",
        "* $T >= 100$ `(minimum tables required)`\n",
        "  * T = 100 (shade area to the left)\n",
        "    * this is a vertical line - since T is the X axis, go over to 100 and draw a straight vertical line (shade the area to the left, since we can't make less than 100 tables).\n",
        "* $T,C >= 0$ `(nonnegativity)`\n",
        "  * We always will be in the X1, Y1 plane - all decision variables must be positive numbers! "
      ]
    },
    {
      "cell_type": "markdown",
      "metadata": {
        "id": "R8qQcOhYHcjy"
      },
      "source": [
        "## A quick note on filling the region in above or below a line.\n",
        "\n",
        "* The last two parameters of the function indicate the color and the transparency level of the color being used, so their meaning should be clear. The other 3 parameters are used to indicate the region that will be colored by coordinate. \n",
        "   \n",
        "\n",
        "* The i-th point of each of these 3 vectors indicate: an x coordinate, the lower y coordinate, and the the higher y coordinate. fill_between will color the region defined by the two lines represented by these points. \n",
        "   \n",
        "\n",
        "* The lower line is given by coordinates (0,600), (800,0), and (1000,0), and the upper line (which coincides with the top of the plot) is given by the coordinates (0,1000), (800,1000), and (1000,1000).  \n",
        "   \n",
        " \n",
        "* With that, we color this trapezoid region using red. \n",
        "   \n",
        " \n",
        "* For more clarification, please take a look at the documentation (there is also this nice reference in Google: \n",
        "  * https://matplotlib.org/stable/api/_as_gen/matplotlib.pyplot.fill_between.html\n",
        "\n",
        "  * https://www.geeksforgeeks.org/matplotlib-pyplot-fill_between-in-python/ ) \n",
        "   "
      ]
    },
    {
      "cell_type": "code",
      "metadata": {
        "id": "_RmdD-xAEGJ6",
        "colab": {
          "base_uri": "https://localhost:8080/",
          "height": 409
        },
        "outputId": "59c90fbc-a1da-463b-b35f-fb4607408d88"
      },
      "source": [
        "# this is the example from Pyomo cookbook\n",
        "# pylab makes it easy to make plots\n",
        "\n",
        "figure(figsize=(6,6))\n",
        "subplot(111, aspect='equal')\n",
        "axis([0,1000,0,1000])\n",
        "xlabel('Number of Tables')\n",
        "ylabel('Number of Chairs')\n",
        "\n",
        "# Carpentry Constraint\n",
        "y = array([600, 0]) #(T=0, C=600)\n",
        "x = array([0,800])\n",
        "plot(x,y,'r',lw=2)\n",
        "fill_between([0,800,1000], # x area\n",
        "             [600,0,0], # y area\n",
        "             [1000,1000,1000], # upper area\n",
        "             color='red', # color \n",
        "             alpha=0.15) # transparency\n",
        "\n",
        "# Painting Constraint\n",
        "y = array([1000, 0]) \n",
        "x = array([0,500])\n",
        "plot(x,y,'blue',lw=2)\n",
        "fill_between([0,500,1000], # x area\n",
        "             [1000,0,0], # y area\n",
        "             [1000,1000,1000], # upper area\n",
        "             color='blue', # color \n",
        "             alpha=0.15) # transparency\n",
        "\n",
        "# Max Chairs Constraint (horizontal line)\n",
        "y = array([450, 450]) \n",
        "x = array([1000, 0])\n",
        "plot(x, y,'orange',lw=2)\n",
        "fill_between([0, 1000,1000], # x area\n",
        "             [450, 450,0], # y area\n",
        "             [1000,1000,1000], # upper area\n",
        "             color='green', # color \n",
        "             alpha=0.15) # transparency\n",
        "\n",
        "# Min Tables constraint\n",
        "plot([100, 100],[0,1000],'black',lw=2)\n",
        "fill_between([0,100],[0,0],[1000,1000],color='grey',alpha=0.15)\n",
        "\n",
        "legend(['Carpentry Constraint','Painting Constraint','Max Chairs Constraint', 'Min Tables Constraint'])\n",
        "\n",
        "# the area in white is the feasible region!\n",
        "text(110,200,'FEASIBLE REGION')"
      ],
      "execution_count": null,
      "outputs": [
        {
          "output_type": "execute_result",
          "data": {
            "text/plain": [
              "Text(110, 200, 'FEASIBLE REGION')"
            ]
          },
          "metadata": {},
          "execution_count": 18
        },
        {
          "output_type": "display_data",
          "data": {
            "image/png": "[encoded data removed]",
            "text/plain": [
              "<Figure size 432x432 with 1 Axes>"
            ]
          },
          "metadata": {
            "needs_background": "light"
          }
        }
      ]
    },
    {
      "cell_type": "markdown",
      "metadata": {
        "id": "UMNDeJSRV5Gt"
      },
      "source": [
        "# The Feasible Region\n",
        "The feasible region is the area we find all valid/possible solutions. These possible solutions will result in a profit! But not all solutions are equally good - for example we see that the point (T=200, C=100) is in the feasible region. We can plug and chug and see that the objective function would become:\n",
        "\n",
        "$Z = 7T + 5C$\n",
        "\n",
        "$Z = 7*200 + 5*100$\n",
        "\n",
        "$Z = 1900$\n",
        "\n",
        "We can plot the point on the graph for ease of viewing."
      ]
    },
    {
      "cell_type": "code",
      "metadata": {
        "id": "ZH5MxhOaWwz5",
        "colab": {
          "base_uri": "https://localhost:8080/",
          "height": 409
        },
        "outputId": "a23bae22-b729-4b7e-97f1-78659b8a8fd9"
      },
      "source": [
        "# same code as above, we just added a point\n",
        "\n",
        "figure(figsize=(6,6))\n",
        "subplot(111, aspect='equal')\n",
        "axis([0,1000,0,1000])\n",
        "xlabel('Number of Tables')\n",
        "ylabel('Number of Chairs')\n",
        "\n",
        "# Carpentry Constraint\n",
        "y = array([600, 0]) \n",
        "x = array([0,800])\n",
        "plot(x,y,'r',lw=2)\n",
        "fill_between([0,800,1000], # x area\n",
        "             [600,0,0], # y area\n",
        "             [1000,1000,1000], # upper area\n",
        "             color='red', # color \n",
        "             alpha=0.15) # transparency\n",
        "\n",
        "# Painting Constraint\n",
        "y = array([1000, 0]) \n",
        "x = array([0,500])\n",
        "plot(x,y,'blue',lw=2)\n",
        "fill_between([0,500,1000], # x area\n",
        "             [1000,0,0], # y area\n",
        "             [1000,1000,1000], # upper area\n",
        "             color='blue', # color \n",
        "             alpha=0.15) # transparency\n",
        "\n",
        "# Max Chairs Constraint (horizontal line)\n",
        "y = array([450, 450]) \n",
        "x = array([1000, 0])\n",
        "plot(x, y,'orange',lw=2)\n",
        "fill_between([0, 1000,1000], # x area\n",
        "             [450, 450,0], # y area\n",
        "             [1000,1000,1000], # upper area\n",
        "             color='green', # color \n",
        "             alpha=0.15) # transparency\n",
        "\n",
        "# Min Tables constraint\n",
        "plot([100, 100],[0,1000],'black',lw=2)\n",
        "fill_between([0,100],[0,0],[1000,1000],color='grey',alpha=0.15)\n",
        "\n",
        "legend(['Carpentry Constraint','Painting Constraint','Max Chairs Constraint', 'Min Tables Constraint'])\n",
        "\n",
        "# the area in white is the feasible region!\n",
        "text(110,200,'FEASIBLE REGION')\n",
        "\n",
        "# add our sample point to evaluate (200, 100)\n",
        "plot(200,100,'r.',ms=20) # makes a red dot on the plot\n",
        "annotate('(200, 100)', xy=(200,100), xytext=(200,100)) # adds a label for '(200,100)'"
      ],
      "execution_count": null,
      "outputs": [
        {
          "output_type": "execute_result",
          "data": {
            "text/plain": [
              "Text(200, 100, '(200, 100)')"
            ]
          },
          "metadata": {},
          "execution_count": 23
        },
        {
          "output_type": "display_data",
          "data": {
            "image/png": "[encoded data removed]",
            "text/plain": [
              "<Figure size 432x432 with 1 Axes>"
            ]
          },
          "metadata": {
            "needs_background": "light"
          }
        }
      ]
    },
    {
      "cell_type": "markdown",
      "metadata": {
        "id": "jI16GhC4XWz3"
      },
      "source": [
        "Try another one! How about (C = 300, T = 150)?\n",
        "\n",
        "$Z = 7T + 5C$\n",
        "\n",
        "$Z = 7*150 + 5*300$\n",
        "\n",
        "$Z = 2550$\n",
        "\n",
        "A little better! We can also plot for ease of viewing."
      ]
    },
    {
      "cell_type": "code",
      "metadata": {
        "id": "SWL_XeRXXTbq",
        "colab": {
          "base_uri": "https://localhost:8080/",
          "height": 409
        },
        "outputId": "40cbb181-a1cd-4401-8535-27d0979989dc"
      },
      "source": [
        "# same code as above, we just added a point\n",
        "\n",
        "figure(figsize=(6,6))\n",
        "subplot(111, aspect='equal')\n",
        "axis([0,1000,0,1000])\n",
        "xlabel('Number of Tables')\n",
        "ylabel('Number of Chairs')\n",
        "\n",
        "# Carpentry Constraint\n",
        "y = array([600, 0]) \n",
        "x = array([0,800])\n",
        "plot(x,y,'r',lw=2)\n",
        "fill_between([0,800,1000], # x area\n",
        "             [600,0,0], # y area\n",
        "             [1000,1000,1000], # upper area\n",
        "             color='red', # color \n",
        "             alpha=0.15) # transparency\n",
        "\n",
        "# Painting Constraint\n",
        "y = array([1000, 0]) \n",
        "x = array([0,500])\n",
        "plot(x,y,'blue',lw=2)\n",
        "fill_between([0,500,1000], # x area\n",
        "             [1000,0,0], # y area\n",
        "             [1000,1000,1000], # upper area\n",
        "             color='blue', # color \n",
        "             alpha=0.15) # transparency\n",
        "\n",
        "# Max Chairs Constraint (horizontal line)\n",
        "y = array([450, 450]) \n",
        "x = array([1000, 0])\n",
        "plot(x, y,'orange',lw=2)\n",
        "fill_between([0, 1000,1000], # x area\n",
        "             [450, 450,0], # y area\n",
        "             [1000,1000,1000], # upper area\n",
        "             color='green', # color \n",
        "             alpha=0.15) # transparency\n",
        "\n",
        "# Min Tables constraint\n",
        "plot([100, 100],[0,1000],'black',lw=2)\n",
        "fill_between([0,100],[0,0],[1000,1000],color='grey',alpha=0.15)\n",
        "\n",
        "legend(['Carpentry Constraint','Painting Constraint','Max Chairs Constraint', 'Min Tables Constraint'])\n",
        "\n",
        "# the area in white is the feasible region!\n",
        "text(110,200,'FEASIBLE REGION')\n",
        "\n",
        "# add our sample point to evaluate (200, 100)\n",
        "plot(150, 300,'r.',ms=20) # makes a red dot on the plot\n",
        "annotate('(150, 300)', xy=(150,300), xytext=(150,300)) # adds a label for '(200,100)'"
      ],
      "execution_count": null,
      "outputs": [
        {
          "output_type": "execute_result",
          "data": {
            "text/plain": [
              "Text(150, 300, '(150, 300)')"
            ]
          },
          "metadata": {
            "tags": []
          },
          "execution_count": 4
        },
        {
          "output_type": "display_data",
          "data": {
            "image/png": "[encoded data removed]",
            "text/plain": [
              "<Figure size 432x432 with 1 Axes>"
            ]
          },
          "metadata": {
            "tags": [],
            "needs_background": "light"
          }
        }
      ]
    },
    {
      "cell_type": "markdown",
      "metadata": {
        "id": "EcTq1e1i-AKn"
      },
      "source": [
        "# Find Corner Points and Plot Them\n",
        "\n",
        "So - the feasible region has a bunch of possible values for T and C that can make us a profit (within our constraints)... but is there a way we can identify a subset of solutions to evaluate rather than iterating over ALL possible points?\n",
        "\n",
        "The  corner point property: this property states that an optimal solution to an LP problem will always occur at a corner point of the feasible region. Corner points are the extreme points of the possible solutions - it's where the constraints cross paths.\n",
        "\n",
        "To solve for corner points, we solve for the intersection of the two constraints equations. This is done by subtracting the equations from each other.\n",
        "\n",
        "The naming of the points is arbitrary - but we'll start in the bottom left and work our way clockwise for completeness.\n",
        "\n",
        "* **Point 1** (T=100, C=0)\n",
        "  * where the minimum table requirement (black line) intersects the X axis (T)\n",
        "  * we see that the black line interesects at (T = 100, C = 100) -> **(T = 100, C = 0)**\n",
        "  * this is an easy one - our point is simply the intersection\n",
        "* **Point 2** (T = 100, C = 450)\n",
        "  * this is where the minimum table requirement (black line) and maximum chairs constraint (orange line) intersect.\n",
        "  * using common sense, this intersection would be (C = 450, T = 100)\n",
        "* **Point 3** (T = 200, C = 450)\n",
        "  * this is where maximum chairs constraint (orange line) intersects the carpentry constraint (red line)\n",
        "  * we need to subtract these two equations and get rid of a variable, then plug it back in to calculate the other variable.\n",
        "  * first, turn the inequalities into equal signs. \n",
        "\n",
        "  $3T + 4C = 2400$\n",
        "\n",
        "  $\\ \\ \\ \\ \\ \\ \\ \\ \\ \\ \\ C = 450$\n",
        "  * now we need to subtract these two equations and cancel out one variables. We can multiply the bottom equation by 4 and then subtract the two equations. Then we get\n",
        "\n",
        "  $3T + 4C - 4C = 2400 - 4*450$\n",
        "\n",
        "  $3T = 2400 - 1800$\n",
        "\n",
        "  $3T = 600$\n",
        "\n",
        "  $T = 200$\n",
        "  * now, since C is already given to you (C=450), you have the intersection (C = 450, T = 200)\n",
        "\n",
        "* **Point 4** (T = 320, C = 360)\n",
        "  * this is where the carpentry constraint and painting constraint intersect - and it's not easily discernible from the graph where these two lines meet. \n",
        "  * first, write down both equations and convert to inequalities.\n",
        "\n",
        "  $3T + 4C = 2400$\n",
        "\n",
        "  $2T + 1C = 1000$\n",
        "  * now, we need to cancel a variable. let's multiply the top equation by 2 and the bottom equation by 3. This will allow us to cancel out the T's.\n",
        "\n",
        "  $6T + 8C = 4800$\n",
        "\n",
        "  $6T + 3C = 3000$\n",
        "  * subtract the two equations and solve for C.\n",
        "\n",
        "  $6T + 8C - 6T -3C = 4800 - 3000$\n",
        "\n",
        "  $5C = 1800$\n",
        "\n",
        "  $C = 360$\n",
        "\n",
        "  * now, take (C = 360) and plug it into either of the original equations to solve for T.\n",
        "\n",
        "  $3T + 4*360 = 2400$\n",
        "\n",
        "  $3T = 2400 - 1440$\n",
        "\n",
        "  $3T = 960$\n",
        "\n",
        "  $T = 320$\n",
        "\n",
        "  * and so this point is (T = 320, C = 360)\n",
        "\n",
        "* **Point 5** (C = 0, T = 500)\n",
        "  * one more point to go!\n",
        "  * this is where the Painting Constraint (blue line) intersects the X axis (T). \n",
        "  * we already know where this happens from before when we drew the constraints crossing the X and Y axes - it's (C = 0, T = 500)\n",
        "\n",
        "The same script above is pulled down here for ease of viewing, but now includes our five corner points."
      ]
    },
    {
      "cell_type": "code",
      "metadata": {
        "id": "nGNZ9xPTI5D4",
        "colab": {
          "base_uri": "https://localhost:8080/",
          "height": 627
        },
        "outputId": "cc28eb5b-7ee5-47cc-9d2f-abebdcc536be"
      },
      "source": [
        "# this is the example from Pyomo cookbook\n",
        "# pylab makes it easy to make plots\n",
        "\n",
        "figure(figsize=(10,10))\n",
        "subplot(111, aspect='equal')\n",
        "axis([0,1000,0,1000])\n",
        "xlabel('Number of Tables')\n",
        "ylabel('Number of Chairs')\n",
        "\n",
        "# Carpentry Constraint\n",
        "y = array([600, 0]) \n",
        "x = array([0,800])\n",
        "plot(x,y,'r',lw=2)\n",
        "fill_between([0,800,1000], # x area\n",
        "             [600,0,0], # y area\n",
        "             [1000,1000,1000], # upper area\n",
        "             color='red', # color \n",
        "             alpha=0.15) # transparency\n",
        "\n",
        "# Painting Constraint\n",
        "y = array([1000, 0]) \n",
        "x = array([0,500])\n",
        "plot(x,y,'blue',lw=2)\n",
        "fill_between([0,500,1000], # x area\n",
        "             [1000,0,0], # y area\n",
        "             [1000,1000,1000], # upper area\n",
        "             color='blue', # color \n",
        "             alpha=0.15) # transparency\n",
        "\n",
        "# Max Chairs Constraint (horizontal line)\n",
        "y = array([450, 450]) \n",
        "x = array([1000, 0])\n",
        "plot(x, y,'orange',lw=2)\n",
        "fill_between([0, 1000,1000], # x area\n",
        "             [450, 450,0], # y area\n",
        "             [1000,1000,1000], # upper area\n",
        "             color='green', # color \n",
        "             alpha=0.15) # transparency\n",
        "\n",
        "# Min Tables constraint\n",
        "plot([100, 100],[0,1000],'black',lw=2)\n",
        "fill_between([0,100],[0,0],[1000,1000],color='grey',alpha=0.15)\n",
        "\n",
        "legend(['Carpentry Constraint','Painting Constraint','Max Chairs Constraint', 'Min Tables Constraint'])\n",
        "\n",
        "# Contours of profit?\n",
        "\n",
        "# # Optimum\n",
        "plot(100,0,'r.',ms=20) # makes a red dot on the plot\n",
        "annotate('1', xy=(100,0), xytext=(100,0)) # adds a label\n",
        "\n",
        "plot(100,450,'r.',ms=20) # makes a red dot on the plot\n",
        "annotate('2', xy=(100,450), xytext=(100,450)) # adds a label\n",
        "\n",
        "plot(200,450,'r.',ms=20) # makes a red dot on the plot\n",
        "annotate('3', xy=(200,450), xytext=(200,450)) # adds a label\n",
        "\n",
        "plot(320,360,'r.',ms=20) # makes a red dot on the plot\n",
        "annotate('4', xy=(320,360), xytext=(320,360)) # adds a label\n",
        "\n",
        "plot(500,0,'r.',ms=20) # makes a red dot on the plot\n",
        "annotate('5', xy=(500,0), xytext=(500,0)) # adds a label"
      ],
      "execution_count": null,
      "outputs": [
        {
          "output_type": "execute_result",
          "data": {
            "text/plain": [
              "Text(500, 0, '5')"
            ]
          },
          "metadata": {
            "tags": []
          },
          "execution_count": 5
        },
        {
          "output_type": "display_data",
          "data": {
            "image/png": "[encoded data removed]",
            "text/plain": [
              "<Figure size 720x720 with 1 Axes>"
            ]
          },
          "metadata": {
            "tags": [],
            "needs_background": "light"
          }
        }
      ]
    },
    {
      "cell_type": "markdown",
      "metadata": {
        "id": "esnS-nemElsA"
      },
      "source": [
        "# Evaluation of Corner Points\n",
        "\n",
        "Recall our objective function:\n",
        "\n",
        "$Max(Z) = 7T + 5C$ `objective function`\n",
        "\n",
        "For each corner point we have, we need to evaluate how the values of C and T will influence profit. We seek to maximize profit.\n",
        "\n",
        "* Point 1: (T = 100, C = 0)\n",
        "  * $Profit = 7*100 + 5*0 = 700\\ USD$\n",
        "* Point 2: (T = 100, C = 450)\n",
        "  * $Profit = 7*100 + 5*450 = 2950\\ USD$\n",
        "* Point 3: (T = 200, C = 450)\n",
        "  * $Profit = 7*200 + 5*450 = 3650\\ USD$\n",
        "* Point 4: (T = 320, C = 360)\n",
        "  * $Profit = 7*320 + 5*360 = 4040\\ USD$ **[winner!]**\n",
        "* Point 5: (T = 500, C = 0)\n",
        "  * $Profit = 7*500 + 5*0 = 3500\\ USD$"
      ]
    }
  ]
}
