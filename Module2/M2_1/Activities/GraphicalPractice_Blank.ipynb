{
  "nbformat": 4,
  "nbformat_minor": 0,
  "metadata": {
    "colab": {
      "name": "BDM_M2.1_Blank.ipynb",
      "provenance": [],
      "collapsed_sections": [],
      "include_colab_link": true
    },
    "kernelspec": {
      "name": "python3",
      "display_name": "Python 3"
    }
  },
  "cells": [
    {
      "cell_type": "markdown",
      "metadata": {
        "id": "view-in-github",
        "colab_type": "text"
      },
      "source": [
        "<a href=\"https://colab.research.google.com/github/drdww/OPIM5641/blob/main/Module2/M2_1/Activities/GraphicalPractice_Blank.ipynb\" target=\"_parent\"><img src=\"https://colab.research.google.com/assets/colab-badge.svg\" alt=\"Open In Colab\"/></a>"
      ]
    },
    {
      "cell_type": "markdown",
      "metadata": {
        "id": "nV-1BvuYY_hD"
      },
      "source": [
        "# Assignment 2.1: Graphical Method\n",
        "**OPIM 5641: Business Decision Modeling - University of Connecticut**\n",
        "\n",
        "---------------------------------------------------------------------------\n",
        "**Directions:** Here are some practice problems for you to work on to ensure mastery of the material. Work out ALL of the math for corner points, and label your figure with nice titles, labels, arrows, annotated points etc.\n",
        "\n",
        "You may work with your fellow classmates, but you need to complete the assignment on your own. I expect different headers and COMMENTS (comments are the key to showing that you really know your stuff - without comments, your code is useless to me).\n",
        "\n",
        "**Rubric:**\n",
        "* (100 pts total, 50 points each). To receive full credit, you must include all proper headers from the class examples. Plot the constraints on the graph with shading in proper areas; identify the feasible region with text; find corner points and plot them (intersection of the lines/constraints); and evaluation of the corner points. Answers have been provided to you so you can check your work - good luck!"
      ]
    },
    {
      "cell_type": "markdown",
      "metadata": {
        "id": "ztTznyIXZK_K"
      },
      "source": [
        "Solve the following LP models graphically and plot the solution **using Colab**.\n",
        "\n",
        "# Practice Problem 1: Maximize\n",
        "\n",
        "$Max(Z) = 30X + 40Y$\n",
        "\n",
        "subject to:\n",
        "* $4X + 2Y <= 16$\n",
        "* $Y <= 2$\n",
        "* $2X - Y >= 2$\n",
        "* $X,Y >= 0$ (nonnegativity)\n",
        "\n",
        "This one is a little tricky - if you have trouble shading the graph, try evaluating a sample point on each side of the line and see if it's valid!\n",
        "\n",
        "The answer is $X=3$, $Y=2$ and $Z = 170$."
      ]
    },
    {
      "cell_type": "code",
      "metadata": {
        "id": "gfBODGjAY2jZ"
      },
      "source": [
        "# good luck!"
      ],
      "execution_count": null,
      "outputs": []
    },
    {
      "cell_type": "markdown",
      "metadata": {
        "id": "TecuiuE6Z-0u"
      },
      "source": [
        "# Practice Problem 2: Minimize\n",
        "$Min(Z) = 24X + 28Y$\n",
        "\n",
        "subject to:\n",
        "* $5X + 4Y <= 2000$\n",
        "* $X + Y >= 300$\n",
        "* $X >= 80$\n",
        "* $Y >= 100$\n",
        "* $X,Y >= 0$\n",
        "\n",
        "The optimal solution is $X = 200$, $Y = 100$ and $Z = 7600$."
      ]
    },
    {
      "cell_type": "code",
      "metadata": {
        "id": "kvgE0oiTajgr"
      },
      "source": [
        ""
      ],
      "execution_count": null,
      "outputs": []
    }
  ]
}