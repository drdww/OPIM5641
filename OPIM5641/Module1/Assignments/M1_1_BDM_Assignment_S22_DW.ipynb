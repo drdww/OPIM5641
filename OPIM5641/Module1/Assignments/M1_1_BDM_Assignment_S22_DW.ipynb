{
  "nbformat": 4,
  "nbformat_minor": 0,
  "metadata": {
    "colab": {
      "name": "M1 BDM Assignment_S22_DW.ipynb",
      "provenance": [],
      "collapsed_sections": [],
      "authorship_tag": "ABX9TyOfeccKA0b3UCy0TnaXuWgC",
      "include_colab_link": true
    },
    "kernelspec": {
      "name": "python3",
      "display_name": "Python 3"
    },
    "language_info": {
      "name": "python"
    }
  },
  "cells": [
    {
      "cell_type": "markdown",
      "metadata": {
        "id": "view-in-github",
        "colab_type": "text"
      },
      "source": [
        "<a href=\"https://colab.research.google.com/github/drdww/OPIM5641/blob/main/OPIM5641/Module1/Assignments/M1_1_BDM_Assignment_S22_DW.ipynb\" target=\"_parent\"><img src=\"https://colab.research.google.com/assets/colab-badge.svg\" alt=\"Open In Colab\"/></a>"
      ]
    },
    {
      "cell_type": "markdown",
      "source": [
        "# Module 1 Assignment: Basic EDA in Python (Spring 2022)\n",
        "**Dr. Dave Wanik - OPIM 5641: Business Decision Modeling - University of Connecticut**\n",
        "\n",
        "-----------------------\n",
        "Welcome to Module 1! To ensure mastery of the content, let's work out some basic Python data wrangling/EDA problems. These skills will help you not only in this class, but in all of your other classes as well."
      ],
      "metadata": {
        "id": "X0ETwvlm9rJX"
      }
    },
    {
      "cell_type": "markdown",
      "source": [
        "# Q1: Read the data from Wikipedia (10 pts)\n",
        "We will be using the table titled 'List of municipalities in Connecticut' from this website. Use pandas to read the table as a variable called `df` and show the first 10 rows.\n",
        "\n",
        "https://en.wikipedia.org/wiki/List_of_municipalities_in_Connecticut"
      ],
      "metadata": {
        "id": "K2Cz9tM8-F02"
      }
    },
    {
      "cell_type": "code",
      "execution_count": null,
      "metadata": {
        "id": "_SgyRTJq9mQy"
      },
      "outputs": [],
      "source": [
        "# good luck!"
      ]
    },
    {
      "cell_type": "markdown",
      "source": [
        "# Q2: Unique values (10 pts each, 30 pts total)\n",
        "This is a three part question.\n",
        "\n",
        "a) How many unique values are in the 'Designation' column? Use `.nunique()`\n",
        "\n",
        "b) What are the unique values in the 'Designation' column? Use `.unique()`\n",
        "\n",
        "c) Use `.value_counts()` to show the number of values per unique entry. What trends do you see?"
      ],
      "metadata": {
        "id": "wgbi7ym2-eqn"
      }
    },
    {
      "cell_type": "code",
      "source": [
        ""
      ],
      "metadata": {
        "id": "4dHR7NwC-6gc"
      },
      "execution_count": null,
      "outputs": []
    },
    {
      "cell_type": "markdown",
      "source": [
        "# Q3: Histogram (10 pts)\n",
        "Make a histogram of the Land area (square miles) column. Add a nice main title, and sensible X and Y axis titles. Choose a fun color of your choice to fill in the histogram."
      ],
      "metadata": {
        "id": "dkFOzX3Z-62_"
      }
    },
    {
      "cell_type": "code",
      "source": [
        ""
      ],
      "metadata": {
        "id": "o5zD3143_UNr"
      },
      "execution_count": null,
      "outputs": []
    },
    {
      "cell_type": "markdown",
      "source": [
        "# Q4: KDE (10 pts)\n",
        "Same as Q3, but use a kernel density plot. Add the mean of the column as a dashed red line on the plot."
      ],
      "metadata": {
        "id": "PWKQpKy2_KrP"
      }
    },
    {
      "cell_type": "code",
      "source": [
        ""
      ],
      "metadata": {
        "id": "OrvkQiDy_Un9"
      },
      "execution_count": null,
      "outputs": []
    },
    {
      "cell_type": "markdown",
      "source": [
        "# Q5: Numbers hiding as strings (10 pts each, 30 pts total)\n",
        "a) Run `df.info()` to look at the column types. You will notice that the population columns are stored as object datatypes - which means we need to convert to numeric. But before you do...\n",
        "\n",
        "b) Read this website. \n",
        "\n",
        "https://www.kite.com/python/answers/how-to-remove-a-comma-from-a-string-in-python#:~:text=Use%20str.,'%20in%20str%20with%20''%20.  \n",
        "\n",
        "Now that you know what to do, replace the comma (\",\") with NOTHING (\"\"). \n",
        "\n",
        "c) If you look at the first few rows of the dataframe using `.head()` you will notice the commas are gone! Now you can convert the columns `.to_numeric()`"
      ],
      "metadata": {
        "id": "0eteZdZs_Ybp"
      }
    },
    {
      "cell_type": "markdown",
      "source": [
        "# Q6: Feature engineering (10 pts each, 20 pts total)\n",
        "\n",
        "a) The two population columns (2010, 2020) are now numeric. Calculate the difference between 2010 and 2020 (a positive number should mean there was population growth in that town). Store this value as a new column in the dataframe called `PopChangeRaw`. *If you want, you can verify that the `Change` column in df is correct, but this won't be graded.*\n",
        "\n",
        "b) Calculate the mean, median, std, min, max, 10th percentile and 90th percentile of the column. "
      ],
      "metadata": {
        "id": "-wgXr5wTAFc0"
      }
    },
    {
      "cell_type": "code",
      "source": [
        ""
      ],
      "metadata": {
        "id": "aes6XFqBAdq8"
      },
      "execution_count": null,
      "outputs": []
    },
    {
      "cell_type": "markdown",
      "source": [
        "# Q7: Towns with Native American names (5 pts each, 10 pts total)\n",
        "a) How many towns have a `Native American name`? \n",
        "\n",
        "b) Which `County` has the most towns with a `Native American name`?"
      ],
      "metadata": {
        "id": "c1jrryLZAi59"
      }
    },
    {
      "cell_type": "code",
      "source": [
        ""
      ],
      "metadata": {
        "id": "VHjCjp4xA7Va"
      },
      "execution_count": null,
      "outputs": []
    }
  ]
}