{
  "nbformat": 4,
  "nbformat_minor": 0,
  "metadata": {
    "colab": {
      "name": "Covariance and Correlation.ipynb",
      "provenance": [],
      "collapsed_sections": [],
      "authorship_tag": "ABX9TyMFG4PzLp64DhVpbB7uQjtk",
      "include_colab_link": true
    },
    "kernelspec": {
      "name": "python3",
      "display_name": "Python 3"
    },
    "language_info": {
      "name": "python"
    }
  },
  "cells": [
    {
      "cell_type": "markdown",
      "metadata": {
        "id": "view-in-github",
        "colab_type": "text"
      },
      "source": [
        "<a href=\"https://colab.research.google.com/github/drdww/OPIM5641/blob/main/Module6/M6_3/2_Covariance_and_Correlation.ipynb\" target=\"_parent\"><img src=\"https://colab.research.google.com/assets/colab-badge.svg\" alt=\"Open In Colab\"/></a>"
      ]
    },
    {
      "cell_type": "markdown",
      "metadata": {
        "id": "6WBDy-_WVt-x"
      },
      "source": [
        "# Covariance vs. Correlation\n",
        "**OPIM 5641: Business Decision Modeling - University of Connecticut**\n",
        "\n",
        "-----------------------------------------------\n",
        "\n",
        "Let's explore the difference between covariance and correlation. They are two different animals!\n",
        "\n",
        "* Original content from: https://www.investopedia.com/articles/financial-theory/11/calculating-covariance.asp\n",
        "* An example with some more math: https://mathcs.clarku.edu/~djoyce/ma217/covar.pdf"
      ]
    },
    {
      "cell_type": "code",
      "metadata": {
        "id": "boWkpHK3Wwxa"
      },
      "source": [
        "import numpy as np"
      ],
      "execution_count": null,
      "outputs": []
    },
    {
      "cell_type": "markdown",
      "metadata": {
        "id": "J-BKog74WDkp"
      },
      "source": [
        "Imagine your dataset looked like this... 5 days of stock trading data.\n",
        "\n",
        "Day|Stock1 (x) |Stock2 (y)|\n",
        "---|---|---|\n",
        "1| 1.1%|3.0% |\n",
        "2| 1.7%|4.2% |\n",
        "3| 2.1%| 4.9% |\n",
        "4| 1.4%| 4.1%|\n",
        "5| 0.2%| 2.5%|"
      ]
    },
    {
      "cell_type": "code",
      "metadata": {
        "colab": {
          "base_uri": "https://localhost:8080/"
        },
        "id": "rksqbkp2VrwS",
        "outputId": "73f3db58-94e0-4482-d203-1ae674e96b73"
      },
      "source": [
        "x = [1.1, 1.7, 2.1, 1.4, 0.2]\n",
        "# y = [1.1, 1.7, 2.1, 1.4, 0.2]\n",
        "y = [3.0, 4.2, 4.9, 4.1, 2.5]\n",
        "print('Stock1 (x):', x)\n",
        "print('Stock2 (y):', y) "
      ],
      "execution_count": null,
      "outputs": [
        {
          "output_type": "stream",
          "name": "stdout",
          "text": [
            "Stock1 (x): [1.1, 1.7, 2.1, 1.4, 0.2]\n",
            "Stock2 (y): [3.0, 4.2, 4.9, 4.1, 2.5]\n"
          ]
        }
      ]
    },
    {
      "cell_type": "code",
      "metadata": {
        "colab": {
          "base_uri": "https://localhost:8080/"
        },
        "id": "3Nbnqe6GXPgR",
        "outputId": "6161bc8e-10a4-4451-eff8-f224f7288dd6"
      },
      "source": [
        "# compute the averages\n",
        "print('mean(Stock1):', np.mean(x))\n",
        "print('mean(Stock2):',np.mean(y))"
      ],
      "execution_count": null,
      "outputs": [
        {
          "output_type": "stream",
          "name": "stdout",
          "text": [
            "mean(Stock1): 1.3000000000000003\n",
            "mean(Stock2): 3.7400000000000007\n"
          ]
        }
      ]
    },
    {
      "cell_type": "markdown",
      "metadata": {
        "id": "ggcrhhKxV6my"
      },
      "source": [
        "# Covariance\n",
        "\n",
        "## Covariance in Portfolio Management\n",
        "Covariance applied to a portfolio can help determine what assets to include in the portfolio. It measures whether stocks move in the same direction (a positive covariance) or in opposite directions (a negative covariance). When constructing a portfolio, a portfolio manager will select stocks that work well together, which usually means these stocks' returns would not move in the same direction.\n",
        "\n",
        "## Formula\n",
        "\n",
        "$\\text{cov}_{x,y}=\\frac{\\sum_{i=1}^{N}(x_{i}-\\bar{x})(y_{i}-\\bar{y})}{N-1}$\n",
        "\n",
        "Then, we take the difference between x's return and y's average return and multiply it by the difference between x's return and y's average return.\n",
        "Finally, we divide the result by the sample size and subtract one (because it's a sample). "
      ]
    },
    {
      "cell_type": "code",
      "metadata": {
        "colab": {
          "base_uri": "https://localhost:8080/"
        },
        "id": "tR4JN8KCXGqS",
        "outputId": "02e808c1-65a0-4126-e348-50f4d6a7f8da"
      },
      "source": [
        "# if you run like this code, you get the covariance matrix\n",
        "np.cov(x, y)"
      ],
      "execution_count": null,
      "outputs": [
        {
          "output_type": "execute_result",
          "data": {
            "text/plain": [
              "array([[0.515, 0.665],\n",
              "       [0.665, 0.943]])"
            ]
          },
          "metadata": {},
          "execution_count": 85
        }
      ]
    },
    {
      "cell_type": "markdown",
      "metadata": {
        "id": "ViQcmoZeYQEa"
      },
      "source": [
        "What are the elements of the covariance matrix? \n",
        "\n",
        "\n",
        "\n",
        "```\n",
        "cov(x,x)  cov(x,y)\n",
        "\n",
        "cov(y,x)  cov(y,y)\n",
        "```\n",
        "\n"
      ]
    },
    {
      "cell_type": "markdown",
      "metadata": {
        "id": "X6Ct1MlmYYY5"
      },
      "source": [
        "**On your own:** Don't believe me? Try reworking the data and running `cov(x,x)` and see if you get a matrix with four identical entries! \n",
        "\n",
        "If you want the covariance of (x,y), then try this syntax. It will pull the second element from the top row."
      ]
    },
    {
      "cell_type": "code",
      "metadata": {
        "colab": {
          "base_uri": "https://localhost:8080/"
        },
        "id": "T1VEmlo1YjyG",
        "outputId": "77638fb8-46d4-4d66-e971-5596fc94738a"
      },
      "source": [
        "np.cov(x,y)[0][1] # tada!"
      ],
      "execution_count": null,
      "outputs": [
        {
          "output_type": "execute_result",
          "data": {
            "text/plain": [
              "0.6650000000000001"
            ]
          },
          "metadata": {},
          "execution_count": 86
        }
      ]
    },
    {
      "cell_type": "code",
      "metadata": {
        "colab": {
          "base_uri": "https://localhost:8080/"
        },
        "id": "2ADR4LKRZKjS",
        "outputId": "0763470c-7500-45f5-e621-decb651fc956"
      },
      "source": [
        "# just to be clear, cov(x,y) is the same as cov(y,x)\n",
        "np.cov(y,x)[0][1] "
      ],
      "execution_count": null,
      "outputs": [
        {
          "output_type": "execute_result",
          "data": {
            "text/plain": [
              "0.6650000000000001"
            ]
          },
          "metadata": {},
          "execution_count": 87
        }
      ]
    },
    {
      "cell_type": "markdown",
      "metadata": {
        "id": "BuYZ-6EWYxEb"
      },
      "source": [
        "**On your own:** Instead of the formula `np.cov()` formula, you can work out the entire formula!!! "
      ]
    },
    {
      "cell_type": "markdown",
      "metadata": {
        "id": "xJXj4cG_aIS5"
      },
      "source": [
        "## Interpreting Covariance\n",
        "The covariance between the two stock returns is 0.665. Because this number is positive, the stocks move in the same direction. In other words, when Stock 1 (x) had a high return, Stock 2 (y) also had a high return."
      ]
    },
    {
      "cell_type": "markdown",
      "metadata": {
        "id": "i4HBN0hPZ9yi"
      },
      "source": [
        "## Properties of Covariance\n",
        "\n",
        "In the example, there is a positive covariance, so the two stocks tend to move together. When one stock has a positive return, the other tends to have a positive return as well. If the result were negative, then the two stocks would tend to have opposite returns—when one had a positive return, the other would have a negative return."
      ]
    },
    {
      "cell_type": "markdown",
      "metadata": {
        "id": "6tiymeTIaYv6"
      },
      "source": [
        "**On your own:** Delete the data for Stock2 and  make it $-1*\\text{Stock1}$. Calculate the covariance. If they perfectly move in opposite different directions, then covariance should be negative!"
      ]
    },
    {
      "cell_type": "code",
      "metadata": {
        "id": "LSyOi1vFanQ3",
        "colab": {
          "base_uri": "https://localhost:8080/"
        },
        "outputId": "c7e2657d-d083-4a5c-8a6b-9e4ad09cee36"
      },
      "source": [
        "x = [1.1, 1.7, 2.1, 1.4, 0.2]\n",
        "y = [-1.1, -1.7, -2.1, -1.4, -0.2]\n",
        "print('Stock1 (x):', x)\n",
        "print('Stock2 (y):', y) "
      ],
      "execution_count": null,
      "outputs": [
        {
          "output_type": "stream",
          "name": "stdout",
          "text": [
            "Stock1 (x): [1.1, 1.7, 2.1, 1.4, 0.2]\n",
            "Stock2 (y): [-1.1, -1.7, -2.1, -1.4, -0.2]\n"
          ]
        }
      ]
    },
    {
      "cell_type": "code",
      "metadata": {
        "id": "eQ6Dbxl7axYb",
        "colab": {
          "base_uri": "https://localhost:8080/"
        },
        "outputId": "34abbf77-f65b-4107-c043-811068583808"
      },
      "source": [
        "np.cov(x,y)[0][1] # tada! this should be negative if they move perfectly OPPOSITE"
      ],
      "execution_count": null,
      "outputs": [
        {
          "output_type": "execute_result",
          "data": {
            "text/plain": [
              "-0.515"
            ]
          },
          "metadata": {},
          "execution_count": 93
        }
      ]
    },
    {
      "cell_type": "markdown",
      "metadata": {
        "id": "OcRg7DV8eCy6"
      },
      "source": [
        "When x and y are independent, then covariance is equal to 0. "
      ]
    },
    {
      "cell_type": "markdown",
      "metadata": {
        "id": "L9ZZtNmWV87R"
      },
      "source": [
        "# Correlation\n",
        "... is just covariance(x,y) divided by the standard deviation of x and y!\n",
        "\n",
        "## Formula\n",
        "$\\text{cor}_{a,b} = \\frac{\\text{cov}_{a,b}}{\\sigma_x \\sigma_y}$\n",
        "​\n"
      ]
    },
    {
      "cell_type": "markdown",
      "metadata": {
        "id": "UFkWtaVhZ9Ip"
      },
      "source": [
        "The correlation between two variables is the covariance between both variables divided by the product of the standard deviation of the variables. While both measures reveal whether two variables are positively or inversely related, the correlation provides additional information by determining the degree to which both variables move together. The correlation will always have a measurement value between -1 and 1, and it adds a strength value on how the stocks move together."
      ]
    },
    {
      "cell_type": "code",
      "metadata": {
        "colab": {
          "base_uri": "https://localhost:8080/"
        },
        "id": "vrC0NofpeKtS",
        "outputId": "98bd3e1c-c8ca-43b1-9cfb-79758ea39478"
      },
      "source": [
        "np.corrcoef(x,y) # again, this is the correlation MATRIX"
      ],
      "execution_count": null,
      "outputs": [
        {
          "output_type": "execute_result",
          "data": {
            "text/plain": [
              "array([[1.        , 0.95425003],\n",
              "       [0.95425003, 1.        ]])"
            ]
          },
          "metadata": {},
          "execution_count": 90
        }
      ]
    },
    {
      "cell_type": "code",
      "metadata": {
        "colab": {
          "base_uri": "https://localhost:8080/"
        },
        "id": "WCoqDL-Oebsi",
        "outputId": "ce92dea0-f464-4e19-f249-7788f2c07153"
      },
      "source": [
        "# you are interested in the correlation by x and y, not x and x OR y and y\n",
        "np.corrcoef(x,y)[0][1]"
      ],
      "execution_count": null,
      "outputs": [
        {
          "output_type": "execute_result",
          "data": {
            "text/plain": [
              "0.9542500347004005"
            ]
          },
          "metadata": {},
          "execution_count": 91
        }
      ]
    },
    {
      "cell_type": "markdown",
      "metadata": {
        "id": "lSUhLzK3ekVS"
      },
      "source": [
        "# Summary\n",
        "If the correlation is 1, they move perfectly together, and if the correlation is -1, the stocks move perfectly in opposite directions. If the correlation is 0, then the two stocks move in random directions from each other. In short, covariance tells you that two variables change the same way while correlation reveals how a change in one variable affects a change in the other. \n",
        "\n",
        "* https://www.investopedia.com/ask/answers/040315/how-does-covariance-impact-portfolio-risk-and-return.asp\n",
        "* https://www.investopedia.com/terms/e/efficientfrontier.asp\n",
        "\n",
        "Read these for more on the efficient frontier!"
      ]
    }
  ]
}