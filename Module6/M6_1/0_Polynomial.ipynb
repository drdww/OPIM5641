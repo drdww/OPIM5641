{
  "nbformat": 4,
  "nbformat_minor": 0,
  "metadata": {
    "colab": {
      "name": "Polynomial.ipynb",
      "provenance": [],
      "collapsed_sections": [],
      "include_colab_link": true
    },
    "kernelspec": {
      "name": "python3",
      "display_name": "Python 3"
    }
  },
  "cells": [
    {
      "cell_type": "markdown",
      "metadata": {
        "id": "view-in-github",
        "colab_type": "text"
      },
      "source": [
        "<a href=\"https://colab.research.google.com/github/drdww/OPIM5641/blob/main/Module6/M6_1/0_Polynomial.ipynb\" target=\"_parent\"><img src=\"https://colab.research.google.com/assets/colab-badge.svg\" alt=\"Open In Colab\"/></a>"
      ]
    },
    {
      "cell_type": "markdown",
      "metadata": {
        "id": "0Q7rTx6fkkLd"
      },
      "source": [
        "# Nonlinear Programming (Polynomial Intro)\n",
        "**OPIM 5641: Business Decision Modeling - Dept. of Operations and Information Management - University of Connecticut**\n",
        "\n",
        "Let's learn about the 'hill climber in the fog' and why intitial conditions can yield different answers!\n",
        "\n",
        "------------------------------------\n",
        "\n",
        "Related Readings:\n",
        "* `Powell`: Chapter 8 (Nonlinear Optimization)\n",
        "\n",
        "\n"
      ]
    },
    {
      "cell_type": "markdown",
      "metadata": {
        "id": "OF-9s0_k4oXW"
      },
      "source": [
        "## Motivation for nonlinear programming\n",
        "\n",
        "When Dantzig presented the simplex algorithm, his work was heavily criticized by some of his fellow academic colleagues, as the method applied solely to linear programs. One of the critics said that the method was not really useful, as the world was highly nonlinear. Today the simplex algorithm is recognized as one of the biggest achievements of the last century, but this did not change the fact that world is indeed highly nonlinear.\n",
        "\n",
        "In this module, we will see the pros and cons of nonlinear programming. A major pro is the fact that the modeling tasks becomes relatively simpler, as we do not have to worry about linearity contraints any longer. Namely, you can multiply variables, take square roots, logs, absolute values, etc. This is important because some problems cannot be properly modeled as linear programs. On the other hand, whereas the modeling task is easier, the identification of optimal solutions becomes significantly harder. Whereas the simplex algorithm will necessarily give you an optimal solution (if you wait for its termination), we never really know whether the solution we have for some arbitrary nonlinear model is actually optimal or not. We will see these aspect in the example presented in this notebook.\n",
        "\n",
        "After reading this notebook, you should understand that:\n",
        "* Don't forget to initialize the decision variables when working with nonlinear models (more details below);\n",
        "* Try different initial values for the decision variables (you will understand why below);\n",
        "* If you can infer lower and upper bounds for your decision variables, **use them**!\n",
        "* Use linear models if you can\n",
        "\n",
        "\n",
        "\n"
      ]
    },
    {
      "cell_type": "markdown",
      "metadata": {
        "id": "QpWT5lS9lWU0"
      },
      "source": [
        "## Setup Your Environment/Imports\n",
        "\n",
        "In this module we will use [Ipopt](https://coin-or.github.io/Ipopt/), a solver capable of addressing nonlinear models."
      ]
    },
    {
      "cell_type": "code",
      "metadata": {
        "id": "HhhMWH82kjfN",
        "colab": {
          "base_uri": "https://localhost:8080/"
        },
        "outputId": "372d3ce5-fd22-4263-ea57-8437a79271a6"
      },
      "source": [
        "# before you do anything...\n",
        "# mount your drive!\n",
        "# click folder on the left...\n",
        "# import modules\n",
        "\n",
        "%matplotlib inline\n",
        "from pylab import *\n",
        "\n",
        "import shutil\n",
        "import sys\n",
        "import os.path\n",
        "\n",
        "if not shutil.which(\"pyomo\"):\n",
        "    !pip install -q pyomo\n",
        "    assert(shutil.which(\"pyomo\"))\n",
        "\n",
        "if not (shutil.which(\"ipopt\") or os.path.isfile(\"ipopt\")):\n",
        "    if \"google.colab\" in sys.modules:\n",
        "        !wget -N -q \"https://ampl.com/dl/open/ipopt/ipopt-linux64.zip\"\n",
        "        !unzip -o -q ipopt-linux64\n",
        "        #!apt-get install -y -qq glpk-utils\n",
        "    else:\n",
        "        try:\n",
        "            !conda install -c conda-forge ipopt\n",
        "        except:\n",
        "            pass\n",
        "\n",
        "assert(shutil.which(\"ipopt\") or os.path.isfile(\"ipopt\"))\n",
        "\n",
        "from pyomo.environ import *"
      ],
      "execution_count": null,
      "outputs": [
        {
          "output_type": "stream",
          "name": "stdout",
          "text": [
            "\u001b[K     |████████████████████████████████| 9.1 MB 5.4 MB/s \n",
            "\u001b[K     |████████████████████████████████| 49 kB 4.0 MB/s \n",
            "\u001b[?25h"
          ]
        }
      ]
    },
    {
      "cell_type": "markdown",
      "metadata": {
        "id": "TYz3rywdPz7s"
      },
      "source": [
        "# Polynomials (extracted from the textbook)\n",
        "\n",
        "\n",
        "Suppose you are a manufacturer of widgets. You are interested in finding the price to sell your widgets at in order to maximize the number of units purchased.  Consultants have modeled the relationship between price $𝐩$ and number of units sold $𝐧$ as\n",
        "\n",
        "$n(p) = 𝟑𝟎𝟎+𝟑𝟎𝟎𝐩−𝟔𝟎𝐩^𝟐−𝟏𝟕.𝟓𝐩^𝟑+𝟓.𝟑𝟐𝐩^𝟒−𝟎.𝟑𝟑𝐩^𝟓$\n",
        "\n",
        "What value of $p$ results in the maximum number of units sold? Is it possible to model this problem as a linear program?\n"
      ]
    },
    {
      "cell_type": "markdown",
      "metadata": {
        "id": "pOcTYFBlXN9T"
      },
      "source": [
        "**Objective Function**\n",
        "\n",
        "$\\max (300 + 300p - 60p^2 - 17.5p^3 + 5.32p^4 - 0.33p^5)$ `objective function`\n",
        "\n",
        "subject to:\n",
        "\n",
        "* $p \\in \\mathbb{R}^+$ `(Domain)`\n",
        "\n"
      ]
    },
    {
      "cell_type": "markdown",
      "metadata": {
        "id": "D72hpFph1EjB"
      },
      "source": [
        "## Pro of nonlinear optimization: nonlinear models are simpler to design!\n",
        "\n",
        "... but we will see that the initialization value will have an impact in the results. First, we will initialize p to 1."
      ]
    },
    {
      "cell_type": "code",
      "metadata": {
        "id": "8pVoxSA-Pvue",
        "colab": {
          "base_uri": "https://localhost:8080/"
        },
        "outputId": "23af7d45-8eab-43de-a771-6eae89476295"
      },
      "source": [
        "# declare the model\n",
        "model = ConcreteModel()\n",
        "\n",
        "# declare decision variables  - Initialize variable to 1.0\n",
        "model.p = Var(domain=NonNegativeReals, initialize=1)\n",
        "\n",
        "# alternative way of initializing a decision variable\n",
        "# model.p.value = 1\n",
        "\n",
        "# declare objective\n",
        "model.cost = Objective(\n",
        "                      expr = 300 + 300*model.p - 60*model.p**2 - 17.5*model.p**3 + 5.32*model.p**4 - 0.33*model.p**5,\n",
        "                      sense = maximize)\n",
        "\n",
        "# show the model you've created\n",
        "model.pprint()"
      ],
      "execution_count": null,
      "outputs": [
        {
          "output_type": "stream",
          "name": "stdout",
          "text": [
            "1 Var Declarations\n",
            "    p : Size=1, Index=None\n",
            "        Key  : Lower : Value : Upper : Fixed : Stale : Domain\n",
            "        None :     0 :     1 :  None : False : False : NonNegativeReals\n",
            "\n",
            "1 Objective Declarations\n",
            "    cost : Size=1, Index=None, Active=True\n",
            "        Key  : Active : Sense    : Expression\n",
            "        None :   True : maximize : 300 + 300*p - 60*p**2 - 17.5*p**3 + 5.32*p**4 - 0.33*p**5\n",
            "\n",
            "2 Declarations: p cost\n"
          ]
        }
      ]
    },
    {
      "cell_type": "code",
      "metadata": {
        "id": "r9jLvcwsR8y7",
        "colab": {
          "base_uri": "https://localhost:8080/"
        },
        "outputId": "975eb39c-3bf2-40c4-fc01-86d00b0305f2"
      },
      "source": [
        "# solve it\n",
        "SolverFactory('ipopt', executable='/content/ipopt').solve(model).write()\n",
        "# show the results\n",
        "print(\"Objective value = \", model.cost())\n",
        "print(\"p = \", model.p())"
      ],
      "execution_count": null,
      "outputs": [
        {
          "output_type": "stream",
          "name": "stdout",
          "text": [
            "# ==========================================================\n",
            "# = Solver Results                                         =\n",
            "# ==========================================================\n",
            "# ----------------------------------------------------------\n",
            "#   Problem Information\n",
            "# ----------------------------------------------------------\n",
            "Problem: \n",
            "- Lower bound: -inf\n",
            "  Upper bound: inf\n",
            "  Number of objectives: 1\n",
            "  Number of constraints: 0\n",
            "  Number of variables: 1\n",
            "  Sense: unknown\n",
            "# ----------------------------------------------------------\n",
            "#   Solver Information\n",
            "# ----------------------------------------------------------\n",
            "Solver: \n",
            "- Status: ok\n",
            "  Message: Ipopt 3.12.13\\x3a Optimal Solution Found\n",
            "  Termination condition: optimal\n",
            "  Id: 0\n",
            "  Error rc: 0\n",
            "  Time: 0.014344930648803711\n",
            "# ----------------------------------------------------------\n",
            "#   Solution Information\n",
            "# ----------------------------------------------------------\n",
            "Solution: \n",
            "- number of solutions: 0\n",
            "  number of solutions displayed: 0\n",
            "Objective value =  594.7075738826653\n",
            "p =  1.9522920273351378\n"
          ]
        }
      ]
    },
    {
      "cell_type": "markdown",
      "metadata": {
        "id": "gRJRv-84KG73"
      },
      "source": [
        "## Trying a different initial value\n",
        "\n",
        "The optimal solution when we start the model using p = 1 is 594.71, with p = 1.95. Let's see what happens when we start the model using p = 9..."
      ]
    },
    {
      "cell_type": "code",
      "metadata": {
        "id": "mEgUWAu6K0gH",
        "colab": {
          "base_uri": "https://localhost:8080/"
        },
        "outputId": "2d05b778-1f25-4bc9-f893-6aee56f49be4"
      },
      "source": [
        "# declare the model\n",
        "model = ConcreteModel()\n",
        "\n",
        "# declare decision variables  - Initialize variable to 9\n",
        "model.p = Var(domain=NonNegativeReals, initialize=9)\n",
        "\n",
        "# declare objective\n",
        "model.cost = Objective(\n",
        "                      expr = 300 + 300*model.p - 60*model.p**2 - 17.5*model.p**3 + 5.32*model.p**4 - 0.33*model.p**5,\n",
        "                      sense = maximize)\n",
        "\n",
        "# solve it\n",
        "SolverFactory('ipopt', executable='/content/ipopt').solve(model).write()\n",
        "# show the results\n",
        "print(\"Objective value = \", model.cost())\n",
        "print(\"p = \", model.p())"
      ],
      "execution_count": null,
      "outputs": [
        {
          "output_type": "stream",
          "name": "stdout",
          "text": [
            "# ==========================================================\n",
            "# = Solver Results                                         =\n",
            "# ==========================================================\n",
            "# ----------------------------------------------------------\n",
            "#   Problem Information\n",
            "# ----------------------------------------------------------\n",
            "Problem: \n",
            "- Lower bound: -inf\n",
            "  Upper bound: inf\n",
            "  Number of objectives: 1\n",
            "  Number of constraints: 0\n",
            "  Number of variables: 1\n",
            "  Sense: unknown\n",
            "# ----------------------------------------------------------\n",
            "#   Solver Information\n",
            "# ----------------------------------------------------------\n",
            "Solver: \n",
            "- Status: ok\n",
            "  Message: Ipopt 3.12.13\\x3a Optimal Solution Found\n",
            "  Termination condition: optimal\n",
            "  Id: 0\n",
            "  Error rc: 0\n",
            "  Time: 0.016548633575439453\n",
            "# ----------------------------------------------------------\n",
            "#   Solution Information\n",
            "# ----------------------------------------------------------\n",
            "Solution: \n",
            "- number of solutions: 0\n",
            "  number of solutions displayed: 0\n",
            "Objective value =  900.1036703801037\n",
            "p =  8.363800878594732\n"
          ]
        }
      ]
    },
    {
      "cell_type": "markdown",
      "metadata": {
        "id": "4nzxiMcZ3fjH"
      },
      "source": [
        "## Solution changed after we selected a new initial value for $p$\n",
        "\n",
        "Whereas starting from $p = 1$ gave as optimal value 594.71 and optimal $p = 1$, starting from $p = 9$ gave us optimal value 900.10 an optimal $p = 8.36$. Let's plot this function, just to see if we are close to the optimal value.\n",
        "\n"
      ]
    },
    {
      "cell_type": "code",
      "metadata": {
        "id": "EIpY0Urg4bvL",
        "colab": {
          "base_uri": "https://localhost:8080/",
          "height": 279
        },
        "outputId": "de2f5a6c-1a1e-47f7-f9ee-a0553a46c2a6"
      },
      "source": [
        "import matplotlib.pyplot as plt\n",
        "import numpy as np\n",
        "\n",
        "# 100 linearly spaced numbers\n",
        "x = np.linspace(0,10,1000)\n",
        "\n",
        "# our function\n",
        "y = 300 + 300*x - 60*x**2  - 17.5*x**3 + 5.32*x**4 - 0.33*x**5\n",
        "\n",
        "#print(y)\n",
        "\n",
        "# setting the axes at the centre\n",
        "fig = plt.figure()\n",
        "ax = fig.add_subplot(1, 1, 1)\n",
        "ax.xaxis.set_ticks_position('bottom')\n",
        "ax.yaxis.set_ticks_position('left')\n",
        "\n",
        "# labels\n",
        "plt.xlabel('p')\n",
        "plt.ylabel('n(p)')\n",
        "\n",
        "# plot the function\n",
        "plt.plot(x,y, 'g')\n",
        "\n",
        "# show the plot\n",
        "plt.show()"
      ],
      "execution_count": null,
      "outputs": [
        {
          "output_type": "display_data",
          "data": {
            "image/png": "[encoded data removed]",
            "text/plain": [
              "<Figure size 432x288 with 1 Axes>"
            ]
          },
          "metadata": {
            "needs_background": "light"
          }
        }
      ]
    },
    {
      "cell_type": "markdown",
      "metadata": {
        "id": "ued8qkQa6CHW"
      },
      "source": [
        "## Con of nonlinear optimization: you may not know whether your solution is optimal!\n",
        "\n",
        "\n",
        "The first solution was a **local optimum**, whereas the second one is a **global optimum**. However, we could not tell a priori whether the first solution was only a local optimum. In this example, we know that the second solution is not only a local optimum, but also a global optimum. In general, though, we cannot check that, and this is why nonlinear models are challenging to solve (even though they are usually easier to model).\n",
        "\n",
        "## Remember the recommendations:\n",
        "* Don't forget to initialize the decision variables (as you can see, the initial value matters)\n",
        "* Try different initialization values when solving nonlinear optimization problems\n"
      ]
    },
    {
      "cell_type": "markdown",
      "metadata": {
        "id": "cncGWhQL11GE"
      },
      "source": [
        "# Uncertainty in the parameters - Monte Carlo\n",
        "\n",
        "Let's see now how the quality of our two \"optimal\" solutions change if we assume that the parameters of the polynomial may change within a range of 10%.\n",
        "\n"
      ]
    },
    {
      "cell_type": "code",
      "metadata": {
        "id": "Pt1ojWhl2cit"
      },
      "source": [
        "import numpy as np\n",
        "import seaborn as sns\n",
        "import matplotlib.pyplot as plt\n",
        "\n",
        "# Parameters\n",
        "a = 300 \n",
        "b = 300\n",
        "c = 60\n",
        "d = 17.5\n",
        "e = 5.32\n",
        "f = 0.33\n",
        "\n",
        "# Optimal solutions\n",
        "p1 = 1.95\n",
        "p2 = 8.36\n",
        "\n",
        "# List of results\n",
        "results1 = list()\n",
        "results2 = list()\n",
        "\n",
        "# Errors\n",
        "error = 0.01\n",
        "low_range = 1 - error\n",
        "high_range = 1 + error\n",
        "\n",
        "for k in range(10000):\n",
        "  aa = a*np.random.uniform(low=low_range,high=high_range)\n",
        "  bb = b*np.random.uniform(low=low_range,high=high_range)\n",
        "  cc = c*np.random.uniform(low=low_range,high=high_range)\n",
        "  dd = d*np.random.uniform(low=low_range,high=high_range)\n",
        "  ee = e*np.random.uniform(low=low_range,high=high_range)\n",
        "  ff = f*np.random.uniform(low=low_range,high=high_range)\n",
        "\n",
        "  nn1 = aa + bb*p1 - cc*p1**2 - dd*p1**3 + ee*p1**4 - ff*p1**5\n",
        "  nn2 = aa + bb*p2 - cc*p2**2 - dd*p2**3 + ee*p2**4 - ff*p2**5\n",
        "\n",
        "  results1.append(nn1)\n",
        "  results2.append(nn2)\n"
      ],
      "execution_count": null,
      "outputs": []
    },
    {
      "cell_type": "markdown",
      "metadata": {
        "id": "qoGQUkrW4D5G"
      },
      "source": [
        "## Quality of the first solution\n",
        "\n"
      ]
    },
    {
      "cell_type": "code",
      "metadata": {
        "colab": {
          "base_uri": "https://localhost:8080/",
          "height": 282
        },
        "id": "lPWTGJCW4I3d",
        "outputId": "30fc7922-f608-4d18-8729-e99f52a3ab9a"
      },
      "source": [
        "print(\"Mean of first solution:\",np.mean(results1))\n",
        "sns.kdeplot(results1)\n",
        "plt.show()"
      ],
      "execution_count": null,
      "outputs": [
        {
          "output_type": "stream",
          "name": "stdout",
          "text": [
            "Mean of first solution: 594.6762409034139\n"
          ]
        },
        {
          "output_type": "display_data",
          "data": {
            "image/png": "[encoded data removed]",
            "text/plain": [
              "<Figure size 432x288 with 1 Axes>"
            ]
          },
          "metadata": {
            "needs_background": "light"
          }
        }
      ]
    },
    {
      "cell_type": "markdown",
      "metadata": {
        "id": "V2HTiIrL4uov"
      },
      "source": [
        "## Quality of the second solution"
      ]
    },
    {
      "cell_type": "code",
      "metadata": {
        "colab": {
          "base_uri": "https://localhost:8080/",
          "height": 283
        },
        "id": "P990a32o4XQY",
        "outputId": "eb2fb4fe-a0b6-4489-c9fb-c85ee0dbacff"
      },
      "source": [
        "print(\"Mean of second solution:\",np.mean(results2))\n",
        "sns.kdeplot(results2)\n",
        "plt.show()"
      ],
      "execution_count": null,
      "outputs": [
        {
          "output_type": "stream",
          "name": "stdout",
          "text": [
            "Mean of second solution: 900.0077948314496\n"
          ]
        },
        {
          "output_type": "display_data",
          "data": {
            "image/png": "[encoded data removed]",
            "text/plain": [
              "<Figure size 432x288 with 1 Axes>"
            ]
          },
          "metadata": {
            "needs_background": "light"
          }
        }
      ]
    }
  ]
}