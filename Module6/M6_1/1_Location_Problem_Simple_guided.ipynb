{
  "nbformat": 4,
  "nbformat_minor": 0,
  "metadata": {
    "colab": {
      "name": "Location Problem_Simple_guided",
      "provenance": [],
      "collapsed_sections": [],
      "authorship_tag": "ABX9TyNHpgw+6XC/AauOwnmeVeD0",
      "include_colab_link": true
    },
    "kernelspec": {
      "name": "python3",
      "display_name": "Python 3"
    }
  },
  "cells": [
    {
      "cell_type": "markdown",
      "metadata": {
        "id": "view-in-github",
        "colab_type": "text"
      },
      "source": [
        "<a href=\"https://colab.research.google.com/github/drdww/OPIM5641/blob/main/Module6/M6_1/1_Location_Problem_Simple_guided.ipynb\" target=\"_parent\"><img src=\"https://colab.research.google.com/assets/colab-badge.svg\" alt=\"Open In Colab\"/></a>"
      ]
    },
    {
      "cell_type": "markdown",
      "metadata": {
        "id": "tzemMLH5H4SI"
      },
      "source": [
        "# Nonlinear Optimization: Warehouse Location (simple) - guided\n",
        "---------------------------------------------------\n",
        "**OPIM 5641: Business Decision Modeling - University of Connecticut**\n",
        "\n",
        "Please refer to Powell Ch. 8 for more details and examples.\n",
        "\n",
        "IPOPT documentation: https://coin-or.github.io/Ipopt/\n",
        "\n",
        "-----------------------------------------------"
      ]
    },
    {
      "cell_type": "code",
      "metadata": {
        "id": "gZMp3Sz3B4uC"
      },
      "source": [
        "%matplotlib inline\n",
        "from pylab import *\n",
        "\n",
        "import shutil\n",
        "import sys\n",
        "import os.path\n",
        "import numpy as np\n",
        "\n",
        "if not shutil.which(\"pyomo\"):\n",
        "    !pip install -q pyomo\n",
        "    assert(shutil.which(\"pyomo\"))\n",
        "\n",
        "if not (shutil.which(\"ipopt\") or os.path.isfile(\"ipopt\")):\n",
        "    if \"google.colab\" in sys.modules:\n",
        "        !wget -N -q \"https://ampl.com/dl/open/ipopt/ipopt-linux64.zip\"\n",
        "        !unzip -o -q ipopt-linux64\n",
        "        #!apt-get install -y -qq glpk-utils\n",
        "    else:\n",
        "        try:\n",
        "            !conda install -c conda-forge ipopt\n",
        "        except:\n",
        "            pass\n",
        "\n",
        "assert(shutil.which(\"ipopt\") or os.path.isfile(\"ipopt\"))\n",
        "\n",
        "from pyomo.environ import *"
      ],
      "execution_count": null,
      "outputs": []
    },
    {
      "cell_type": "markdown",
      "metadata": {
        "id": "90f4Hnp_D5sG"
      },
      "source": [
        "Kilroy Paper Company distributes specialty papers to big-box stores in ten major U.S. metropolitan\n",
        "areas and plans to consolidate its warehouses into one national distribution center (DC). To identify\n",
        "a suitable location, Kilroy’s distribution manager first maps the ten stores on a two-dimensional grid,\n",
        "so that coordinates (xk, yk) can be associated with each site. These values are shown in the following\n",
        "table:\n",
        "\n",
        "Site ($k$)| $x_k$| $y_k$\n",
        "---|---|---|\n",
        "1| 5| 41\n",
        "2| 20| 10\n",
        "3| 44| 48\n",
        "4| 60| 58\n",
        "5| 100| 4\n",
        "6| 138| 80\n",
        "7| 150| 40\n",
        "8| 170| 18\n",
        "9| 182| 2\n",
        "10| 190| 56\n",
        "\n",
        "For any distribution center location ($x$, $y$), it is possible to calculate the distance from the DC to each\n",
        "of the stores and to sum the distances. This total can be thought of as a proxy for the total annual cost\n",
        "incurred by Kilroy’s trucks, since they will make regular trips to the individual stores. Minimizing the\n",
        "sum of distances therefore represents an objective that is consistent with minimizing annual\n",
        "distribution cost. Kilroy wishes to determine the location that achieves the minimum sum of\n",
        "distances."
      ]
    },
    {
      "cell_type": "markdown",
      "metadata": {
        "id": "9IuVUC4DJ2ZQ"
      },
      "source": [
        "# Background (2D Distances)\n",
        "\n",
        "**What is our objective?** To minimize this distance between the DC and the stores. We need to predict the XY coordinates of the DC.\n",
        "\n",
        "What is a good measure of distance? The Euclidean distance formula.\n",
        "\n",
        "For each store $k$, we can calculate the pairwise distance between the store and the DC.\n",
        "\n",
        "$D_k(x,y) = \\sqrt{(x-x_k)^2 + (y-y_k)^2}$\n",
        "\n",
        "And we will repeat this 10 times (one for each store, DC pair) and try to minimize this quantity.\n",
        "\n",
        "$f(x,y)=\\Sigma_{k=1}^{10}D_k(x,y)$\n",
        "\n",
        "That's it! Now let's go build a model."
      ]
    },
    {
      "cell_type": "markdown",
      "metadata": {
        "id": "y1wp6Eh7KBiK"
      },
      "source": [
        "# Model Setup\n",
        "As mentioned, our objective is to minimize the sum of the pairwise distance between stores.\n",
        "\n",
        "$Min(\\Sigma_{k=1}^{10}D_k(x,y))$\n",
        "\n",
        "You are just looking for the geographic centroid between the points.\n",
        "\n",
        "And we have no constraints! Let's see how to do this."
      ]
    },
    {
      "cell_type": "markdown",
      "metadata": {
        "id": "2GdSOYu5J-8k"
      },
      "source": [
        "## Visualizing the problem\n",
        "... can be very helpful!"
      ]
    },
    {
      "cell_type": "code",
      "metadata": {
        "id": "QfT_BeFjKgvR",
        "colab": {
          "base_uri": "https://localhost:8080/",
          "height": 295
        },
        "outputId": "45036dac-8278-49d7-f981-979831aadee0"
      },
      "source": [
        "# specify X and Y coords of each store\n",
        "import numpy as np\n",
        "X = np.array([5, 20, 44, 60, 100, 138, 150, 170, 182, 190])\n",
        "Y = np.array([41, 10, 48, 58, 4, 80, 40, 18, 2, 56])\n",
        "\n",
        "# show a map!\n",
        "# with pylab, we can cut down on some of the typing...\n",
        "from pylab import *\n",
        "plot(X,Y, '.', markersize=25, color='red') # '.' plots them as dots on a scatterplot\n",
        "title('Location of Stores')\n",
        "xlabel('X')\n",
        "ylabel('Y')\n",
        "plt.show() # gets rid of annoying text"
      ],
      "execution_count": null,
      "outputs": [
        {
          "output_type": "display_data",
          "data": {
            "image/png": "[encoded data removed]",
            "text/plain": [
              "<Figure size 432x288 with 1 Axes>"
            ]
          },
          "metadata": {
            "needs_background": "light"
          }
        }
      ]
    },
    {
      "cell_type": "markdown",
      "metadata": {
        "id": "Nt7u3Wb0LxRF"
      },
      "source": [
        "Looking at the above map, where would you put the dot? Might be easy if only 2D, but later on, we will get more sophisticated and add other criterion... more later..."
      ]
    },
    {
      "cell_type": "markdown",
      "metadata": {
        "id": "hTOmli_sKJwi"
      },
      "source": [
        "# ConcreteModel"
      ]
    },
    {
      "cell_type": "code",
      "metadata": {
        "id": "3M6UOcIZKNNM"
      },
      "source": [
        "# declare the model\n",
        "model = ConcreteModel()"
      ],
      "execution_count": null,
      "outputs": []
    },
    {
      "cell_type": "markdown",
      "metadata": {
        "id": "PA31ai5yKOsS"
      },
      "source": [
        "# Declare Decision Variables\n",
        "Our decision variables and constraints are going to be a bit intertwined. We want to minimize the distances from each of the 10 stores to the distribution center. So we need to find a coordinate corresponding to the lat/lon (X/Y) coordinate of the distribution center: $x_k$ and $y_k$."
      ]
    },
    {
      "cell_type": "code",
      "metadata": {
        "id": "RawORwseKeDy",
        "colab": {
          "base_uri": "https://localhost:8080/"
        },
        "outputId": "250cc76a-b5f8-42b6-ae2e-a644ec3e1671"
      },
      "source": [
        "# number of stores (there are 10)\n",
        "n_points = len(X)\n",
        "\n",
        "# declare decision variables\n",
        "# remember, we should  intialize a value here (you can try different ones)\n",
        "# and we need to provide real bounds to help convergence\n",
        "model.Xcoord = Var(domain=Reals,bounds = (0,200), initialize=0)\n",
        "model.Ycoord = Var(domain=Reals, bounds = (0,100), initialize=0)\n",
        "\n",
        "# and this is to store the intermediate Distances as we try to find optimal Xcoord and Ycoord\n",
        "model.Dist = Var([i for i in range(n_points)],domain=Reals, initialize=0)\n",
        "\n",
        "model.pprint()"
      ],
      "execution_count": null,
      "outputs": [
        {
          "output_type": "stream",
          "name": "stdout",
          "text": [
            "1 Set Declarations\n",
            "    Dist_index : Size=1, Index=None, Ordered=Insertion\n",
            "        Key  : Dimen : Domain : Size : Members\n",
            "        None :     1 :    Any :   10 : {0, 1, 2, 3, 4, 5, 6, 7, 8, 9}\n",
            "\n",
            "3 Var Declarations\n",
            "    Dist : Size=10, Index=Dist_index\n",
            "        Key : Lower : Value : Upper : Fixed : Stale : Domain\n",
            "          0 :  None :     0 :  None : False : False :  Reals\n",
            "          1 :  None :     0 :  None : False : False :  Reals\n",
            "          2 :  None :     0 :  None : False : False :  Reals\n",
            "          3 :  None :     0 :  None : False : False :  Reals\n",
            "          4 :  None :     0 :  None : False : False :  Reals\n",
            "          5 :  None :     0 :  None : False : False :  Reals\n",
            "          6 :  None :     0 :  None : False : False :  Reals\n",
            "          7 :  None :     0 :  None : False : False :  Reals\n",
            "          8 :  None :     0 :  None : False : False :  Reals\n",
            "          9 :  None :     0 :  None : False : False :  Reals\n",
            "    Xcoord : Size=1, Index=None\n",
            "        Key  : Lower : Value : Upper : Fixed : Stale : Domain\n",
            "        None :     0 :     0 :   200 : False : False :  Reals\n",
            "    Ycoord : Size=1, Index=None\n",
            "        Key  : Lower : Value : Upper : Fixed : Stale : Domain\n",
            "        None :     0 :     0 :   100 : False : False :  Reals\n",
            "\n",
            "4 Declarations: Xcoord Ycoord Dist_index Dist\n"
          ]
        }
      ]
    },
    {
      "cell_type": "markdown",
      "metadata": {
        "id": "Ut5gxearM7EU"
      },
      "source": [
        "For now, we have declared two decision variables and 10 other distance-related variables that are intermediate calculations that will be used in a moment to calculate the objective function."
      ]
    },
    {
      "cell_type": "markdown",
      "metadata": {
        "id": "PpqWCJm9NuWc"
      },
      "source": [
        "At this point, we haven't shown how `model.Xcoord` ($x_k$) and `model.Ycoord` ($y_k$) - the centroids of the distribution center - have been used yet. But we set up a helpful skeleton to fill everything in."
      ]
    },
    {
      "cell_type": "markdown",
      "metadata": {
        "id": "Yh03fcE6MYGk"
      },
      "source": [
        "# Declare Constraints\n",
        "Now, this is where your distance function is going to live! You are going to enforce that the distance between the distribution center and the $i$th warehouse of interest is accounted for as such.\n",
        "\n",
        "For each of the ten points - \n"
      ]
    },
    {
      "cell_type": "code",
      "metadata": {
        "id": "F1spYHi7J7A9",
        "colab": {
          "base_uri": "https://localhost:8080/"
        },
        "outputId": "eaa42576-688a-4afc-aedc-5db28bc40189"
      },
      "source": [
        "# Constraints\n",
        "model.constraints = ConstraintList()\n",
        "\n",
        "# Pairwise values from DC to store (loops 10 times)\n",
        "for i in range(n_points):\n",
        "  x = X[i] # grab the i-th x location (starting with 0)\n",
        "  y = Y[i] # grab the i-th y location (starting with 0)\n",
        "  model.constraints.add(model.Dist[i] == ((model.Xcoord-x)**2 + (model.Ycoord-y)**2)**0.5) # calculate and store euclidean distance\n",
        "\n",
        "# show the model you've created\n",
        "model.pprint()"
      ],
      "execution_count": null,
      "outputs": [
        {
          "output_type": "stream",
          "name": "stdout",
          "text": [
            "2 Set Declarations\n",
            "    Dist_index : Size=1, Index=None, Ordered=Insertion\n",
            "        Key  : Dimen : Domain : Size : Members\n",
            "        None :     1 :    Any :   10 : {0, 1, 2, 3, 4, 5, 6, 7, 8, 9}\n",
            "    constraints_index : Size=1, Index=None, Ordered=Insertion\n",
            "        Key  : Dimen : Domain : Size : Members\n",
            "        None :     1 :    Any :   10 : {1, 2, 3, 4, 5, 6, 7, 8, 9, 10}\n",
            "\n",
            "3 Var Declarations\n",
            "    Dist : Size=10, Index=Dist_index\n",
            "        Key : Lower : Value : Upper : Fixed : Stale : Domain\n",
            "          0 :  None :     0 :  None : False : False :  Reals\n",
            "          1 :  None :     0 :  None : False : False :  Reals\n",
            "          2 :  None :     0 :  None : False : False :  Reals\n",
            "          3 :  None :     0 :  None : False : False :  Reals\n",
            "          4 :  None :     0 :  None : False : False :  Reals\n",
            "          5 :  None :     0 :  None : False : False :  Reals\n",
            "          6 :  None :     0 :  None : False : False :  Reals\n",
            "          7 :  None :     0 :  None : False : False :  Reals\n",
            "          8 :  None :     0 :  None : False : False :  Reals\n",
            "          9 :  None :     0 :  None : False : False :  Reals\n",
            "    Xcoord : Size=1, Index=None\n",
            "        Key  : Lower : Value : Upper : Fixed : Stale : Domain\n",
            "        None :     0 :     0 :   200 : False : False :  Reals\n",
            "    Ycoord : Size=1, Index=None\n",
            "        Key  : Lower : Value : Upper : Fixed : Stale : Domain\n",
            "        None :     0 :     0 :   100 : False : False :  Reals\n",
            "\n",
            "1 Constraint Declarations\n",
            "    constraints : Size=10, Index=constraints_index, Active=True\n",
            "        Key : Lower : Body                                                  : Upper : Active\n",
            "          1 :   0.0 :   Dist[0] - ((Xcoord - 5)**2 + (Ycoord - 41)**2)**0.5 :   0.0 :   True\n",
            "          2 :   0.0 :  Dist[1] - ((Xcoord - 20)**2 + (Ycoord - 10)**2)**0.5 :   0.0 :   True\n",
            "          3 :   0.0 :  Dist[2] - ((Xcoord - 44)**2 + (Ycoord - 48)**2)**0.5 :   0.0 :   True\n",
            "          4 :   0.0 :  Dist[3] - ((Xcoord - 60)**2 + (Ycoord - 58)**2)**0.5 :   0.0 :   True\n",
            "          5 :   0.0 :  Dist[4] - ((Xcoord - 100)**2 + (Ycoord - 4)**2)**0.5 :   0.0 :   True\n",
            "          6 :   0.0 : Dist[5] - ((Xcoord - 138)**2 + (Ycoord - 80)**2)**0.5 :   0.0 :   True\n",
            "          7 :   0.0 : Dist[6] - ((Xcoord - 150)**2 + (Ycoord - 40)**2)**0.5 :   0.0 :   True\n",
            "          8 :   0.0 : Dist[7] - ((Xcoord - 170)**2 + (Ycoord - 18)**2)**0.5 :   0.0 :   True\n",
            "          9 :   0.0 :  Dist[8] - ((Xcoord - 182)**2 + (Ycoord - 2)**2)**0.5 :   0.0 :   True\n",
            "         10 :   0.0 : Dist[9] - ((Xcoord - 190)**2 + (Ycoord - 56)**2)**0.5 :   0.0 :   True\n",
            "\n",
            "6 Declarations: Xcoord Ycoord Dist_index Dist constraints_index constraints\n"
          ]
        }
      ]
    },
    {
      "cell_type": "markdown",
      "metadata": {
        "id": "EGygY3LwMYK7"
      },
      "source": [
        "# Objective Function\n",
        "Now, you have filled in those 10 `Dist` (distance) placeholders between all of the warehouses (X,y - dynamically updated in the for loop) and the distribution center (Xcoord, Ycoord)."
      ]
    },
    {
      "cell_type": "code",
      "metadata": {
        "colab": {
          "base_uri": "https://localhost:8080/"
        },
        "id": "3J7hcpLjMZ57",
        "outputId": "a8ac15b1-9d5d-4f12-b799-4a6a80989570"
      },
      "source": [
        "# declare objective\n",
        "# we are trying to minimize the distance\n",
        "obj_expr = 0 # intialize the objective as a 0...\n",
        "for i in range(n_points):\n",
        "  obj_expr += model.Dist[i]\n",
        "\n",
        "# obj_expr += modelDist[i] is the same thing as \n",
        "# obj_expr = obj_expr + model.Dist[i]!!!!\n",
        "\n",
        "model.error = Objective(\n",
        "                      expr = obj_expr,\n",
        "                      sense = minimize)\n",
        "\n",
        "# show the model you've created\n",
        "model.pprint()"
      ],
      "execution_count": null,
      "outputs": [
        {
          "output_type": "stream",
          "name": "stdout",
          "text": [
            "2 Set Declarations\n",
            "    Dist_index : Size=1, Index=None, Ordered=Insertion\n",
            "        Key  : Dimen : Domain : Size : Members\n",
            "        None :     1 :    Any :   10 : {0, 1, 2, 3, 4, 5, 6, 7, 8, 9}\n",
            "    constraints_index : Size=1, Index=None, Ordered=Insertion\n",
            "        Key  : Dimen : Domain : Size : Members\n",
            "        None :     1 :    Any :   10 : {1, 2, 3, 4, 5, 6, 7, 8, 9, 10}\n",
            "\n",
            "3 Var Declarations\n",
            "    Dist : Size=10, Index=Dist_index\n",
            "        Key : Lower : Value : Upper : Fixed : Stale : Domain\n",
            "          0 :  None :     0 :  None : False : False :  Reals\n",
            "          1 :  None :     0 :  None : False : False :  Reals\n",
            "          2 :  None :     0 :  None : False : False :  Reals\n",
            "          3 :  None :     0 :  None : False : False :  Reals\n",
            "          4 :  None :     0 :  None : False : False :  Reals\n",
            "          5 :  None :     0 :  None : False : False :  Reals\n",
            "          6 :  None :     0 :  None : False : False :  Reals\n",
            "          7 :  None :     0 :  None : False : False :  Reals\n",
            "          8 :  None :     0 :  None : False : False :  Reals\n",
            "          9 :  None :     0 :  None : False : False :  Reals\n",
            "    Xcoord : Size=1, Index=None\n",
            "        Key  : Lower : Value : Upper : Fixed : Stale : Domain\n",
            "        None :     0 :     0 :   200 : False : False :  Reals\n",
            "    Ycoord : Size=1, Index=None\n",
            "        Key  : Lower : Value : Upper : Fixed : Stale : Domain\n",
            "        None :     0 :     0 :   100 : False : False :  Reals\n",
            "\n",
            "1 Objective Declarations\n",
            "    error : Size=1, Index=None, Active=True\n",
            "        Key  : Active : Sense    : Expression\n",
            "        None :   True : minimize : Dist[0] + Dist[1] + Dist[2] + Dist[3] + Dist[4] + Dist[5] + Dist[6] + Dist[7] + Dist[8] + Dist[9]\n",
            "\n",
            "1 Constraint Declarations\n",
            "    constraints : Size=10, Index=constraints_index, Active=True\n",
            "        Key : Lower : Body                                                  : Upper : Active\n",
            "          1 :   0.0 :   Dist[0] - ((Xcoord - 5)**2 + (Ycoord - 41)**2)**0.5 :   0.0 :   True\n",
            "          2 :   0.0 :  Dist[1] - ((Xcoord - 20)**2 + (Ycoord - 10)**2)**0.5 :   0.0 :   True\n",
            "          3 :   0.0 :  Dist[2] - ((Xcoord - 44)**2 + (Ycoord - 48)**2)**0.5 :   0.0 :   True\n",
            "          4 :   0.0 :  Dist[3] - ((Xcoord - 60)**2 + (Ycoord - 58)**2)**0.5 :   0.0 :   True\n",
            "          5 :   0.0 :  Dist[4] - ((Xcoord - 100)**2 + (Ycoord - 4)**2)**0.5 :   0.0 :   True\n",
            "          6 :   0.0 : Dist[5] - ((Xcoord - 138)**2 + (Ycoord - 80)**2)**0.5 :   0.0 :   True\n",
            "          7 :   0.0 : Dist[6] - ((Xcoord - 150)**2 + (Ycoord - 40)**2)**0.5 :   0.0 :   True\n",
            "          8 :   0.0 : Dist[7] - ((Xcoord - 170)**2 + (Ycoord - 18)**2)**0.5 :   0.0 :   True\n",
            "          9 :   0.0 :  Dist[8] - ((Xcoord - 182)**2 + (Ycoord - 2)**2)**0.5 :   0.0 :   True\n",
            "         10 :   0.0 : Dist[9] - ((Xcoord - 190)**2 + (Ycoord - 56)**2)**0.5 :   0.0 :   True\n",
            "\n",
            "7 Declarations: Xcoord Ycoord Dist_index Dist constraints_index constraints error\n"
          ]
        }
      ]
    },
    {
      "cell_type": "markdown",
      "metadata": {
        "id": "BetDcMPhPah7"
      },
      "source": [
        "Now you can clearly see that you are trying to minimize the distances - and each `Dist[0]` is the Euclidean distance between the individual warehouse and the distribution center (`model.Xcoord`, `model.Ycoord` your decision variables)"
      ]
    },
    {
      "cell_type": "markdown",
      "metadata": {
        "id": "RZlLc_TTOmZj"
      },
      "source": [
        "# Solve!"
      ]
    },
    {
      "cell_type": "markdown",
      "metadata": {
        "id": "1rjYI8cFOVMs"
      },
      "source": [
        "Now let's run it!"
      ]
    },
    {
      "cell_type": "code",
      "metadata": {
        "id": "zeHYqE7QOY5C",
        "colab": {
          "base_uri": "https://localhost:8080/",
          "height": 572
        },
        "outputId": "a2128f46-0efd-49f5-be8c-1128f667ce8b"
      },
      "source": [
        "# solve it\n",
        "SolverFactory('ipopt', executable='/content/ipopt').solve(model).write()\n",
        "# show the results\n",
        "print(\"Objective value = \", model.error())\n",
        "print(\"Xcoord = \", model.Xcoord())\n",
        "print(\"Ycoord = \", model.Ycoord())"
      ],
      "execution_count": null,
      "outputs": [
        {
          "output_type": "stream",
          "text": [
            "# ==========================================================\n",
            "# = Solver Results                                         =\n",
            "# ==========================================================\n",
            "# ----------------------------------------------------------\n",
            "#   Problem Information\n",
            "# ----------------------------------------------------------\n",
            "Problem: \n",
            "- Lower bound: -inf\n",
            "  Upper bound: inf\n",
            "  Number of objectives: 1\n",
            "  Number of constraints: 10\n",
            "  Number of variables: 12\n",
            "  Sense: unknown\n",
            "# ----------------------------------------------------------\n",
            "#   Solver Information\n",
            "# ----------------------------------------------------------\n",
            "Solver: \n",
            "- Status: ok\n",
            "  Message: Ipopt 3.12.13\\x3a Optimal Solution Found\n",
            "  Termination condition: optimal\n",
            "  Id: 0\n",
            "  Error rc: 0\n",
            "  Time: 0.02464580535888672\n",
            "# ----------------------------------------------------------\n",
            "#   Solution Information\n",
            "# ----------------------------------------------------------\n",
            "Solution: \n",
            "- number of solutions: 0\n",
            "  number of solutions displayed: 0\n",
            "Objective value =  670.6380243490614\n",
            "Xcoord =  114.0706963491031\n",
            "Ycoord =  35.17220053588276\n"
          ],
          "name": "stdout"
        }
      ]
    },
    {
      "cell_type": "markdown",
      "metadata": {
        "id": "8Y1IYoAxcJUv"
      },
      "source": [
        "Great! Now show the map with your new Distribution Center (DC) on it!"
      ]
    },
    {
      "cell_type": "code",
      "metadata": {
        "id": "4PzgLaQGcOFp",
        "colab": {
          "base_uri": "https://localhost:8080/",
          "height": 295
        },
        "outputId": "ac133a32-e066-44dd-e8a7-b23fd4e86836"
      },
      "source": [
        "# show a map!\n",
        "from pylab import *\n",
        "plot(X,Y, '.', markersize=25, color='red') # '.' plots them as dots on a scatterplot\n",
        "title('Location of Stores')\n",
        "xlabel('X')\n",
        "ylabel('Y')\n",
        "# let's add the ANSWER as a purple dot\n",
        "plot(model.Xcoord(),model.Ycoord(), '.', markersize=25, color='purple')\n",
        "plt.show() # gets rid of annoying text"
      ],
      "execution_count": null,
      "outputs": [
        {
          "output_type": "display_data",
          "data": {
            "image/png": "[encoded data removed]",
            "text/plain": [
              "<Figure size 432x288 with 1 Axes>"
            ]
          },
          "metadata": {
            "tags": [],
            "needs_background": "light"
          }
        }
      ]
    },
    {
      "cell_type": "markdown",
      "metadata": {
        "id": "yUKNsIrpQOsC"
      },
      "source": [
        "# What do you see?\n",
        "It looks like we have found the centroid of the point mass, as a function of Euclidean distance."
      ]
    },
    {
      "cell_type": "markdown",
      "metadata": {
        "id": "ZwnuCTL_cq-Z"
      },
      "source": [
        "# On Your Own...\n",
        "How do you think you could account for other data - like the number of deliveries made to each of the 10 stores?\n",
        "\n",
        "Maybe you could also try a few different distance metrics...\n",
        "![comparison of distances](https://miro.medium.com/max/1400/1*vAtQZbROuTdp36aQQ8cqBA.png)\n"
      ]
    }
  ]
}