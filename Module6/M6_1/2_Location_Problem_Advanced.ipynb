{
  "nbformat": 4,
  "nbformat_minor": 0,
  "metadata": {
    "colab": {
      "name": "Location Problem_Advanced",
      "provenance": [],
      "collapsed_sections": [],
      "toc_visible": true,
      "authorship_tag": "ABX9TyME1RYywqaFkdxdB8lwzwAH",
      "include_colab_link": true
    },
    "kernelspec": {
      "name": "python3",
      "display_name": "Python 3"
    }
  },
  "cells": [
    {
      "cell_type": "markdown",
      "metadata": {
        "id": "view-in-github",
        "colab_type": "text"
      },
      "source": [
        "<a href=\"https://colab.research.google.com/github/drdww/OPIM5641/blob/main/Module6/M6_1/2_Location_Problem_Advanced.ipynb\" target=\"_parent\"><img src=\"https://colab.research.google.com/assets/colab-badge.svg\" alt=\"Open In Colab\"/></a>"
      ]
    },
    {
      "cell_type": "markdown",
      "metadata": {
        "id": "tzemMLH5H4SI"
      },
      "source": [
        "# Nonlinear Optimization: Warehouse Location (advanced)\n",
        "**OPIM 5641: Business Decision Modeling - University of Connecticut**\n",
        "\n",
        "Please refer to Powell Ch. 8 for more details and examples.\n",
        "\n",
        "-----------------------------------------------"
      ]
    },
    {
      "cell_type": "code",
      "metadata": {
        "id": "gZMp3Sz3B4uC"
      },
      "source": [
        "%matplotlib inline\n",
        "from pylab import *\n",
        "\n",
        "import shutil\n",
        "import sys\n",
        "import os.path\n",
        "import numpy as np\n",
        "\n",
        "if not shutil.which(\"pyomo\"):\n",
        "    !pip install -q pyomo\n",
        "    assert(shutil.which(\"pyomo\"))\n",
        "\n",
        "if not (shutil.which(\"ipopt\") or os.path.isfile(\"ipopt\")):\n",
        "    if \"google.colab\" in sys.modules:\n",
        "        !wget -N -q \"https://ampl.com/dl/open/ipopt/ipopt-linux64.zip\"\n",
        "        !unzip -o -q ipopt-linux64\n",
        "        #!apt-get install -y -qq glpk-utils\n",
        "    else:\n",
        "        try:\n",
        "            !conda install -c conda-forge ipopt\n",
        "        except:\n",
        "            pass\n",
        "\n",
        "assert(shutil.which(\"ipopt\") or os.path.isfile(\"ipopt\"))\n",
        "\n",
        "from pyomo.environ import *"
      ],
      "execution_count": null,
      "outputs": []
    },
    {
      "cell_type": "markdown",
      "metadata": {
        "id": "90f4Hnp_D5sG"
      },
      "source": [
        "***Location Problem (revisited).*** Return to the simple Kilroy Paper\n",
        "Company example. Upon further\n",
        "consideration, the logistics manager points out that the\n",
        "trucks do not make an equal number of trips to the\n",
        "various stores. Thus, a better proxy for total distribution\n",
        "costs would be obtained by weighting the distance from \n",
        "distribution center to store k by the annual number of trips\n",
        "to store $k$ (represented as $n_k$). The expanded set of input\n",
        "data is as follows:\n",
        "\n",
        "Site ($k$)| $x_k$| $y_k$| $n_k$\n",
        "---|---|---|---\n",
        "1| 5| 41| 12\n",
        "2| 20| 10| 20\n",
        "3| 44| 48| 15\n",
        "4| 60| 58| 27\n",
        "5| 100| 4| 8\n",
        "6| 138| 80| 16\n",
        "7| 150| 40| 10\n",
        "8| 170| 18| 18\n",
        "9| 182| 2| 25\n",
        "10| 190| 56| 14\n",
        "\n",
        "1. Find the optimal location for Kilroy’s distribution center in\n",
        "this expanded version of the problem.\n",
        "2. What is the optimal value of the objective function?"
      ]
    },
    {
      "cell_type": "markdown",
      "metadata": {
        "id": "9IuVUC4DJ2ZQ"
      },
      "source": [
        "## Background (2D Distances)\n",
        "*Same as before...*\n",
        "\n",
        "**What is our objective?** To minimize this distance between the DC and the stores. We need to predict the XY coordinates of the DC.\n",
        "\n",
        "What is a good measure of distance? The Euclidean distance formula.\n",
        "\n",
        "For each store $k$, we can calculate the pairwise distance between the store and the DC.\n",
        "\n",
        "$D_k(x,y) = \\sqrt{(x-x_k)^2 + (y-y_k)^2}$\n",
        "\n",
        "And we will repeat this 10 times (one for each store, DC pair) and try to minimize this quantity.\n",
        "\n",
        "$f(x,y)=\\Sigma_{k=1}^{10}D_k(x,y)$\n",
        "\n",
        "*This is new...*\n",
        "NOW! We have some more information here - the number of trips that each store requires. How do we handle this? Easy. Use the number of trips as a weight - this will force the model to prioritize it.\n",
        "\n",
        "$f(x,y)=\\Sigma_{k=1}^{10}D_k(x,y)*n_k$\n",
        "\n",
        "where $n_k$ is the number of trips.\n",
        "\n",
        "That's it! Now let's go build a model."
      ]
    },
    {
      "cell_type": "markdown",
      "metadata": {
        "id": "y1wp6Eh7KBiK"
      },
      "source": [
        "## Model Setup\n",
        "As mentioned, our objective is to minimize the sum of the pairwise distance between stores.\n",
        "\n",
        "$Min(\\Sigma_{k=1}^{10}D_k(x,y)*n_k)$\n",
        "\n",
        "You are just looking for the geographic centroid between the points as a function of the number of trips.\n",
        "\n",
        "Let's see how to do this."
      ]
    },
    {
      "cell_type": "code",
      "metadata": {
        "id": "QfT_BeFjKgvR",
        "colab": {
          "base_uri": "https://localhost:8080/",
          "height": 313
        },
        "outputId": "164682c9-80ca-4a15-9b3d-9480279671a5"
      },
      "source": [
        "# specify X, Y and N coords of each store\n",
        "import numpy as np\n",
        "X = np.array([5, 20, 44, 60, 100, 138, 150, 170, 182, 190])\n",
        "Y = np.array([41, 10, 48, 58, 4, 80, 40, 18, 2, 56])\n",
        "N = np.array([12, 20, 15, 27, 8, 16, 10, 18, 25, 14])\n",
        "\n",
        "# note how consistent we are with our naming convention...\n",
        "\n",
        "# show a map!\n",
        "from pylab import *\n",
        "scatter(X,Y, s=N*10, color='red') # '.' plots them as dots on a scatterplot... as a function of size\n",
        "title('Location of Stores') # here is the example: https://datavizpyr.com/make-bubble-plot-in-python-with-matplotlib/#:~:text=Bubble%20plot%20is%20a%20scatterplot,us%20load%20Pandas%20and%20Matplotlib.\n",
        "xlabel('X')\n",
        "ylabel('Y')\n",
        "plt.show() # gets rid of annoying text\n",
        "\n",
        "X"
      ],
      "execution_count": null,
      "outputs": [
        {
          "output_type": "display_data",
          "data": {
            "image/png": "[encoded data removed]",
            "text/plain": [
              "<Figure size 432x288 with 1 Axes>"
            ]
          },
          "metadata": {
            "tags": [],
            "needs_background": "light"
          }
        },
        {
          "output_type": "execute_result",
          "data": {
            "text/plain": [
              "array([  5,  20,  44,  60, 100, 138, 150, 170, 182, 190])"
            ]
          },
          "metadata": {
            "tags": []
          },
          "execution_count": 4
        }
      ]
    },
    {
      "cell_type": "markdown",
      "metadata": {
        "id": "Nt7u3Wb0LxRF"
      },
      "source": [
        "Looking at the above map, where would you put the dot? Might be easy if only 2D, but later on, we will get more sophisticated and add other criterion... more later..."
      ]
    },
    {
      "cell_type": "code",
      "metadata": {
        "id": "RawORwseKeDy",
        "colab": {
          "base_uri": "https://localhost:8080/",
          "height": 468
        },
        "outputId": "acdc944b-3c32-42aa-84fc-211c8f6183e4"
      },
      "source": [
        "# this is the same as before\n",
        "\n",
        "# declare the model\n",
        "model = ConcreteModel()\n",
        "\n",
        "# number of stores (there are 10)\n",
        "n_points = len(X)\n",
        "\n",
        "# declare decision variables\n",
        "# remember, we need to intialize a value here (and try different ones)\n",
        "model.Xcoord = Var(domain=Reals,bounds = (0,200), initialize=0)\n",
        "model.Ycoord = Var(domain=Reals, bounds = (0,100), initialize=0)\n",
        "# and this is to store the intermediate Distances as we try to find optimal Xcoord and Ycoord\n",
        "model.Dist = Var([i for i in range(n_points)],domain=Reals, initialize=0)\n",
        "\n",
        "model.pprint()"
      ],
      "execution_count": null,
      "outputs": [
        {
          "output_type": "stream",
          "text": [
            "1 Set Declarations\n",
            "    Dist_index : Size=1, Index=None, Ordered=Insertion\n",
            "        Key  : Dimen : Domain : Size : Members\n",
            "        None :     1 :    Any :   10 : {0, 1, 2, 3, 4, 5, 6, 7, 8, 9}\n",
            "\n",
            "3 Var Declarations\n",
            "    Dist : Size=10, Index=Dist_index\n",
            "        Key : Lower : Value : Upper : Fixed : Stale : Domain\n",
            "          0 :  None :     0 :  None : False : False :  Reals\n",
            "          1 :  None :     0 :  None : False : False :  Reals\n",
            "          2 :  None :     0 :  None : False : False :  Reals\n",
            "          3 :  None :     0 :  None : False : False :  Reals\n",
            "          4 :  None :     0 :  None : False : False :  Reals\n",
            "          5 :  None :     0 :  None : False : False :  Reals\n",
            "          6 :  None :     0 :  None : False : False :  Reals\n",
            "          7 :  None :     0 :  None : False : False :  Reals\n",
            "          8 :  None :     0 :  None : False : False :  Reals\n",
            "          9 :  None :     0 :  None : False : False :  Reals\n",
            "    Xcoord : Size=1, Index=None\n",
            "        Key  : Lower : Value : Upper : Fixed : Stale : Domain\n",
            "        None :     0 :     0 :   200 : False : False :  Reals\n",
            "    Ycoord : Size=1, Index=None\n",
            "        Key  : Lower : Value : Upper : Fixed : Stale : Domain\n",
            "        None :     0 :     0 :   100 : False : False :  Reals\n",
            "\n",
            "4 Declarations: Xcoord Ycoord Dist_index Dist\n"
          ],
          "name": "stdout"
        }
      ]
    },
    {
      "cell_type": "code",
      "metadata": {
        "id": "F1spYHi7J7A9",
        "colab": {
          "base_uri": "https://localhost:8080/",
          "height": 849
        },
        "outputId": "4665639f-1c1e-4061-c95b-48457893e206"
      },
      "source": [
        "# Constraints\n",
        "model.constraints = ConstraintList()\n",
        "\n",
        "# Pairwise values from DC to store (loops 10 times)\n",
        "for i in range(n_points):\n",
        "  x = X[i]\n",
        "  y = Y[i]\n",
        "  n = N[i]\n",
        "\n",
        "  # notice how n makes an appearance now\n",
        "  model.constraints.add(model.Dist[i] == n*((model.Xcoord-x)**2 + (model.Ycoord-y)**2)**0.5)\n",
        "\n",
        "# declare objective\n",
        "# we are trying to minimize the distance\n",
        "obj_expr = 0 # intialize the objective as a 0...\n",
        "for i in range(n_points):\n",
        "  obj_expr += model.Dist[i]\n",
        "model.error = Objective(\n",
        "                      expr = obj_expr,\n",
        "                      sense = minimize)\n",
        "\n",
        "# show the model you've created\n",
        "model.pprint()"
      ],
      "execution_count": null,
      "outputs": [
        {
          "output_type": "stream",
          "text": [
            "2 Set Declarations\n",
            "    Dist_index : Size=1, Index=None, Ordered=Insertion\n",
            "        Key  : Dimen : Domain : Size : Members\n",
            "        None :     1 :    Any :   10 : {0, 1, 2, 3, 4, 5, 6, 7, 8, 9}\n",
            "    constraints_index : Size=1, Index=None, Ordered=Insertion\n",
            "        Key  : Dimen : Domain : Size : Members\n",
            "        None :     1 :    Any :   10 : {1, 2, 3, 4, 5, 6, 7, 8, 9, 10}\n",
            "\n",
            "3 Var Declarations\n",
            "    Dist : Size=10, Index=Dist_index\n",
            "        Key : Lower : Value : Upper : Fixed : Stale : Domain\n",
            "          0 :  None :     0 :  None : False : False :  Reals\n",
            "          1 :  None :     0 :  None : False : False :  Reals\n",
            "          2 :  None :     0 :  None : False : False :  Reals\n",
            "          3 :  None :     0 :  None : False : False :  Reals\n",
            "          4 :  None :     0 :  None : False : False :  Reals\n",
            "          5 :  None :     0 :  None : False : False :  Reals\n",
            "          6 :  None :     0 :  None : False : False :  Reals\n",
            "          7 :  None :     0 :  None : False : False :  Reals\n",
            "          8 :  None :     0 :  None : False : False :  Reals\n",
            "          9 :  None :     0 :  None : False : False :  Reals\n",
            "    Xcoord : Size=1, Index=None\n",
            "        Key  : Lower : Value : Upper : Fixed : Stale : Domain\n",
            "        None :     0 :     0 :   200 : False : False :  Reals\n",
            "    Ycoord : Size=1, Index=None\n",
            "        Key  : Lower : Value : Upper : Fixed : Stale : Domain\n",
            "        None :     0 :     0 :   100 : False : False :  Reals\n",
            "\n",
            "1 Objective Declarations\n",
            "    error : Size=1, Index=None, Active=True\n",
            "        Key  : Active : Sense    : Expression\n",
            "        None :   True : minimize : Dist[0] + Dist[1] + Dist[2] + Dist[3] + Dist[4] + Dist[5] + Dist[6] + Dist[7] + Dist[8] + Dist[9]\n",
            "\n",
            "1 Constraint Declarations\n",
            "    constraints : Size=10, Index=constraints_index, Active=True\n",
            "        Key : Lower : Body                                                     : Upper : Active\n",
            "          1 :   0.0 :   Dist[0] - 12*((Xcoord - 5)**2 + (Ycoord - 41)**2)**0.5 :   0.0 :   True\n",
            "          2 :   0.0 :  Dist[1] - 20*((Xcoord - 20)**2 + (Ycoord - 10)**2)**0.5 :   0.0 :   True\n",
            "          3 :   0.0 :  Dist[2] - 15*((Xcoord - 44)**2 + (Ycoord - 48)**2)**0.5 :   0.0 :   True\n",
            "          4 :   0.0 :  Dist[3] - 27*((Xcoord - 60)**2 + (Ycoord - 58)**2)**0.5 :   0.0 :   True\n",
            "          5 :   0.0 :   Dist[4] - 8*((Xcoord - 100)**2 + (Ycoord - 4)**2)**0.5 :   0.0 :   True\n",
            "          6 :   0.0 : Dist[5] - 16*((Xcoord - 138)**2 + (Ycoord - 80)**2)**0.5 :   0.0 :   True\n",
            "          7 :   0.0 : Dist[6] - 10*((Xcoord - 150)**2 + (Ycoord - 40)**2)**0.5 :   0.0 :   True\n",
            "          8 :   0.0 : Dist[7] - 18*((Xcoord - 170)**2 + (Ycoord - 18)**2)**0.5 :   0.0 :   True\n",
            "          9 :   0.0 :  Dist[8] - 25*((Xcoord - 182)**2 + (Ycoord - 2)**2)**0.5 :   0.0 :   True\n",
            "         10 :   0.0 : Dist[9] - 14*((Xcoord - 190)**2 + (Ycoord - 56)**2)**0.5 :   0.0 :   True\n",
            "\n",
            "7 Declarations: Xcoord Ycoord Dist_index Dist constraints_index constraints error\n"
          ],
          "name": "stdout"
        }
      ]
    },
    {
      "cell_type": "markdown",
      "metadata": {
        "id": "1rjYI8cFOVMs"
      },
      "source": [
        "Now let's run it!"
      ]
    },
    {
      "cell_type": "code",
      "metadata": {
        "id": "zeHYqE7QOY5C",
        "colab": {
          "base_uri": "https://localhost:8080/",
          "height": 572
        },
        "outputId": "3082241b-d883-4dea-f4aa-9277483e12fe"
      },
      "source": [
        "# solve it\n",
        "SolverFactory('ipopt', executable='/content/ipopt').solve(model).write()\n",
        "# show the results\n",
        "print(\"Objective value = \", model.error())\n",
        "print(\"Xcoord = \", model.Xcoord())\n",
        "print(\"Ycoord = \", model.Ycoord())"
      ],
      "execution_count": null,
      "outputs": [
        {
          "output_type": "stream",
          "text": [
            "# ==========================================================\n",
            "# = Solver Results                                         =\n",
            "# ==========================================================\n",
            "# ----------------------------------------------------------\n",
            "#   Problem Information\n",
            "# ----------------------------------------------------------\n",
            "Problem: \n",
            "- Lower bound: -inf\n",
            "  Upper bound: inf\n",
            "  Number of objectives: 1\n",
            "  Number of constraints: 10\n",
            "  Number of variables: 12\n",
            "  Sense: unknown\n",
            "# ----------------------------------------------------------\n",
            "#   Solver Information\n",
            "# ----------------------------------------------------------\n",
            "Solver: \n",
            "- Status: ok\n",
            "  Message: Ipopt 3.12.13\\x3a Optimal Solution Found\n",
            "  Termination condition: optimal\n",
            "  Id: 0\n",
            "  Error rc: 0\n",
            "  Time: 0.017623424530029297\n",
            "# ----------------------------------------------------------\n",
            "#   Solution Information\n",
            "# ----------------------------------------------------------\n",
            "Solution: \n",
            "- number of solutions: 0\n",
            "  number of solutions displayed: 0\n",
            "Objective value =  11389.95975546437\n",
            "Xcoord =  107.98470650205591\n",
            "Ycoord =  37.615079013171915\n"
          ],
          "name": "stdout"
        }
      ]
    },
    {
      "cell_type": "markdown",
      "metadata": {
        "id": "8Y1IYoAxcJUv"
      },
      "source": [
        "Great! Now show the map with your new Distribution Center (DC) on it!"
      ]
    },
    {
      "cell_type": "code",
      "metadata": {
        "id": "4PzgLaQGcOFp",
        "colab": {
          "base_uri": "https://localhost:8080/",
          "height": 295
        },
        "outputId": "6c8499b0-aa07-4219-cf5b-76f9a1c687de"
      },
      "source": [
        "# show a map!\n",
        "from pylab import *\n",
        "plot(X,Y, '.', markersize=25, color='red') # '.' plots them as dots on a scatterplot\n",
        "title('Location of Stores')\n",
        "xlabel('X')\n",
        "ylabel('Y')\n",
        "# let's add the new distribution as a big blue star\n",
        "plot(model.Xcoord(),model.Ycoord(), '*', markersize=25, color='blue') # '.' plots them as dots on a scatterplot\n",
        "# let's add the OLD ANSWER (approximate) as a purple dot\n",
        "plot(114,35, '.', markersize=25, color='purple')\n",
        "plt.show() # gets rid of annoying text"
      ],
      "execution_count": null,
      "outputs": [
        {
          "output_type": "display_data",
          "data": {
            "image/png": "[encoded data removed]",
            "text/plain": [
              "<Figure size 432x288 with 1 Axes>"
            ]
          },
          "metadata": {
            "tags": [],
            "needs_background": "light"
          }
        }
      ]
    },
    {
      "cell_type": "markdown",
      "metadata": {
        "id": "ZwnuCTL_cq-Z"
      },
      "source": [
        "# On Your Own...\n",
        "Now you know how to make it a function of number of visits! What other ideas do you have? "
      ]
    }
  ]
}