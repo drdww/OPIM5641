{
  "nbformat": 4,
  "nbformat_minor": 0,
  "metadata": {
    "colab": {
      "name": "M5.1_blank",
      "provenance": [],
      "collapsed_sections": [],
      "include_colab_link": true
    },
    "kernelspec": {
      "name": "python3",
      "display_name": "Python 3"
    }
  },
  "cells": [
    {
      "cell_type": "markdown",
      "metadata": {
        "id": "view-in-github",
        "colab_type": "text"
      },
      "source": [
        "<a href=\"https://colab.research.google.com/github/drdww/OPIM5641/blob/main/Module6/Activity/Widget%20Regression%20Activity.ipynb\" target=\"_parent\"><img src=\"https://colab.research.google.com/assets/colab-badge.svg\" alt=\"Open In Colab\"/></a>"
      ]
    },
    {
      "cell_type": "markdown",
      "metadata": {
        "id": "0Q7rTx6fkkLd"
      },
      "source": [
        "# Individual Assignment M5.1: General Widget Corporation (extracted from the textbook)\n",
        "\n",
        "-------------------------------------------------------------------------\n",
        "* Your Name Here\n",
        "* Your NetID Here\n",
        "\n",
        "## Problem statement\n",
        "\n",
        "General Widget Corporation has collected data on the daily output and daily production cost of widgets at its factory. The company believes that daily output ($DO$) and daily production cost ($PC$) ought to be linearly related.  Thus, for some numbers $a$ and $b$:\n",
        "$\n",
        "PC = a + b  \\times DO\n",
        "$\n",
        "Data for the study are provided below:\n",
        "\n",
        "Day\t| DO\t| PC\n",
        "--- | --- | ---\n",
        "1\t| 5,045\t| 2,542\n",
        "2\t| 6,127\t| 2,812\n",
        "3\t| 6,360\t| 2,776\n",
        "4\t| 6,645\t| 3,164\n",
        "5\t| 7,220\t| 4,102\n",
        "6\t| 9,537\t| 4,734\n",
        "7\t| 9,895\t| 4,238\n",
        "8\t| 10,175\t| 4,524\n",
        "9\t| 10,334\t| 4,869\n",
        "10 |\t10,855\t|4,421"
      ]
    },
    {
      "cell_type": "markdown",
      "metadata": {
        "id": "f5g9hhWen_1A"
      },
      "source": [
        "# Item 1 \n",
        "\n",
        "Build a least-squares model to estimate the parameters $a$ and $b$ in the linear relationship.  In other  words, minimize the sum of squared differences between the model's predicted values and the observations, i.e., the objective function will probably look like this:\n",
        "\n",
        "$\\min   \\sum\\limits_{i \\in |X|}(y_i - z_i)^2$\n",
        "\n",
        "What are the best values of the parameters $a$ and $b$ for this criterion? What is the minimum value of the objective function? \n",
        "\n",
        "**Optimal (?) solution $a = 635.97$ and $b = 0.39$, and optimal (?) value is 1,044,322.762.**\n",
        "\t\n"
      ]
    },
    {
      "cell_type": "code",
      "metadata": {
        "id": "-kJZQ7JQ4HJG"
      },
      "source": [
        ""
      ],
      "execution_count": null,
      "outputs": []
    },
    {
      "cell_type": "markdown",
      "metadata": {
        "id": "zn0XuSXGpEA1"
      },
      "source": [
        "# Item 2\n",
        "\n",
        "\n",
        "Suppose, instead, that a better model than the linear model is thought to be the power function\n",
        "\n",
        "$\n",
        "PC = a(DO)^b.\n",
        "$\n",
        "\n",
        "Using the sum of squared differences, what values of $a$ and $b$ provide the best fit?  What is the minimum value of the objective function? \n",
        "\n",
        "**Try to start from $a = 1$ and $b = 1$.**\n",
        "\t\t\n",
        "**Optimal (?) solution $a = 2.44$ and $b = 0.82$, and optimal (?) value is 1,012,813.84.**\n",
        "\n",
        "\n"
      ]
    },
    {
      "cell_type": "code",
      "metadata": {
        "id": "9WaUmQQo4HyU"
      },
      "source": [
        ""
      ],
      "execution_count": null,
      "outputs": []
    },
    {
      "cell_type": "markdown",
      "metadata": {
        "id": "xo1D_KMw4LH0"
      },
      "source": [
        "**Directions:** \n",
        "You may work with your fellow classmates, but you need to complete the assignment on your own. I expect different headers and COMMENTS (comments are the key to showing that you really know your stuff - without comments, your code is useless to me).\n",
        "\n",
        "**Rubric:**\n",
        "* Each item corresponds to 50% of the grade:\n",
        "  * Full credit (100): Correct formulation and lots of useful comments. Nice headers and text cells included in the notebook.\n",
        "  * Half credit (50): Solution is wrong (bad code) or the comments are mediocre or directly copied. Nice headers and text cells included in the notebook.\n",
        "  * No credit (0): Bad code and bad comments, or good code and no comments. Poorly laid out notebook.\n"
      ]
    }
  ]
}