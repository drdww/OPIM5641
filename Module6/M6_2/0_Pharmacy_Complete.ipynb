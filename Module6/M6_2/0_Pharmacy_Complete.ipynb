{
  "nbformat": 4,
  "nbformat_minor": 0,
  "metadata": {
    "colab": {
      "name": "Pharmacy - Complete",
      "provenance": [],
      "collapsed_sections": [],
      "include_colab_link": true
    },
    "kernelspec": {
      "name": "python3",
      "display_name": "Python 3"
    }
  },
  "cells": [
    {
      "cell_type": "markdown",
      "metadata": {
        "id": "view-in-github",
        "colab_type": "text"
      },
      "source": [
        "<a href=\"https://colab.research.google.com/github/drdww/OPIM5641/blob/main/Module6/M6_2/0_Pharmacy_Complete.ipynb\" target=\"_parent\"><img src=\"https://colab.research.google.com/assets/colab-badge.svg\" alt=\"Open In Colab\"/></a>"
      ]
    },
    {
      "cell_type": "markdown",
      "metadata": {
        "id": "0Q7rTx6fkkLd"
      },
      "source": [
        "# Pharmacy [extracted from the textbook]\n",
        "\n",
        "**OPIM 5641: Business Decision Modeling - Dept. of Operations and Information Management - University of Connecticut**\n",
        "\n",
        "-----------------\n",
        "A basic curve fitting example.\n"
      ]
    },
    {
      "cell_type": "markdown",
      "metadata": {
        "id": "QpWT5lS9lWU0"
      },
      "source": [
        "## Setup Your Environment/Imports"
      ]
    },
    {
      "cell_type": "code",
      "metadata": {
        "id": "HhhMWH82kjfN",
        "colab": {
          "base_uri": "https://localhost:8080/",
          "height": 87
        },
        "outputId": "c58b244c-9f34-4313-9bbd-e91e24c823bc"
      },
      "source": [
        "# before you do anything...\n",
        "# mount your drive!\n",
        "# click folder on the left...\n",
        "# import modules\n",
        "\n",
        "%matplotlib inline\n",
        "from pylab import *\n",
        "\n",
        "import shutil\n",
        "import sys\n",
        "import os.path\n",
        "\n",
        "if not shutil.which(\"pyomo\"):\n",
        "    !pip install -q pyomo\n",
        "    assert(shutil.which(\"pyomo\"))\n",
        "\n",
        "if not (shutil.which(\"ipopt\") or os.path.isfile(\"ipopt\")):\n",
        "    if \"google.colab\" in sys.modules:\n",
        "        !wget -N -q \"https://ampl.com/dl/open/ipopt/ipopt-linux64.zip\"\n",
        "        !unzip -o -q ipopt-linux64\n",
        "        #!apt-get install -y -qq glpk-utils\n",
        "    else:\n",
        "        try:\n",
        "            !conda install -c conda-forge ipopt\n",
        "        except:\n",
        "            pass\n",
        "\n",
        "assert(shutil.which(\"ipopt\") or os.path.isfile(\"ipopt\"))\n",
        "\n",
        "from pyomo.environ import *"
      ],
      "execution_count": null,
      "outputs": [
        {
          "output_type": "stream",
          "text": [
            "\u001b[K     |████████████████████████████████| 9.0MB 3.0MB/s \n",
            "\u001b[K     |████████████████████████████████| 51kB 4.9MB/s \n",
            "\u001b[K     |████████████████████████████████| 256kB 36.4MB/s \n",
            "\u001b[K     |████████████████████████████████| 163kB 44.3MB/s \n",
            "\u001b[?25h"
          ],
          "name": "stdout"
        }
      ]
    },
    {
      "cell_type": "markdown",
      "metadata": {
        "id": "TYz3rywdPz7s"
      },
      "source": [
        "# Linear Regression\n",
        "\n",
        "[Linear regression](https://en.wikipedia.org/wiki/Linear_regression) is one of the most important techniques employed in business analytics. In a linear regression problem, we are given a dataset consisting of a list of pairs of elements $(x,z(x))$, where $x$ is some controlable or observable value (e.g., number of years of study) and $z(x)$ is the target value (e.g., expected salary in the future). The goal of linear regression is to come up with a formula that will allow us to guess $z(x)$ given $x$ based on historic data.\n",
        "\n",
        "\n",
        "When using **linear** regression, we assume that a certain phenomenon can be predicted by a linear expression, i.e.:\n",
        "\n",
        "$𝑦(𝑥)=𝑎+b𝑥$,\n",
        "\n",
        "where $x$ is the observable value and $y(x)$ is our estimatethe value we want to guess which depends linearly on $x$. In our example, if pairs $(10,50000)$ and $(20,100000)$ belong to our dataset, this formula would probably indicate that, if $x = 15$, the value of $y(x)$ would be 75000.\n",
        "\n",
        "Linear regression is about finding $a$ and $b$ such that the formula $y(x) = a + bx$ approximates the actual value $z(x)$ as well as possible. In general, though, the formula behind the actual value of $z(x)$ may not be linear, so we should expect our formula to make **errors**. \n",
        "\n",
        "We can cast the linear regression problem as follows: given a set $X$ of values $(x,z(x))$, our goal is to find $a$ and $b$ such that the sum of the errors is minimized, i.e., we want to find $a$ and $b$ that minimize the **least square error**, which is given by the following expression:\n",
        "\n",
        "$\\sum\\limits_{x \\in X}(y(x) - z(x))^2$"
      ]
    },
    {
      "cell_type": "markdown",
      "metadata": {
        "id": "7y_Ms9eLm6Ya"
      },
      "source": [
        "## Pharmacy (Extracted from the textbook)\n",
        "\n",
        "A pharmacy has hired you to create a predictive model for determining, based on the number of hours that the pharmacy is open each week, the revenue.  Data from previous weeks is provided below:\n",
        "\n",
        "Hours\t| Revenue\n",
        "---|---\n",
        "\t40\t|5958\n",
        "\t44\t| 6662\n",
        "\t48\t| 6004\n",
        "\t48\t| 6011\n",
        "\t60\t|7250\n",
        "\t70\t|8632\n",
        "\t72\t|6964\n",
        "\t90\t|11097\n",
        "\t100\t|9107\n",
        "\t168\t|11498\n"
      ]
    },
    {
      "cell_type": "markdown",
      "metadata": {
        "id": "f5g9hhWen_1A"
      },
      "source": [
        "# Item 1 \n",
        "Suppose that we assume a linear model, that is,\n",
        "\n",
        "$\n",
        "\\textrm{Revenue} = a + b \\times Hours\n",
        "$\n",
        "\n",
        "Create an optimization model to find $a$ and $b$ using least square errors as your error function, i.e., you want to find $a$ and $b$ that minimize the least square error, given by\n",
        "\n",
        "$\\sum\\limits_{x \\in X}(y(x) - z(x))^2$.\n"
      ]
    },
    {
      "cell_type": "markdown",
      "metadata": {
        "id": "FicNhdOWFWYU"
      },
      "source": [
        "## Data\n",
        "\n",
        "For problems like this, it is extremely convenient to separate the data from the model."
      ]
    },
    {
      "cell_type": "code",
      "metadata": {
        "id": "arIin39XFbWx"
      },
      "source": [
        "X = [\n",
        "      40,\n",
        "      44,\n",
        "     48,\n",
        "     48,\n",
        "     60,\n",
        "     70,\n",
        "     72,\n",
        "     90,\n",
        "     100,\n",
        "     168\n",
        "]\n",
        "Z = [\n",
        "     5958,\n",
        "     6662,\n",
        "     6004,\n",
        "     6011,\n",
        "     7250,\n",
        "     8632,\n",
        "     6964,\n",
        "     11097,\n",
        "     9107,\n",
        "     11498\n",
        "]\n"
      ],
      "execution_count": null,
      "outputs": []
    },
    {
      "cell_type": "markdown",
      "metadata": {
        "id": "r9hsdPZh8uzB"
      },
      "source": [
        "### Solving with Python libraries\n",
        "\n",
        "Linear regression is a very traditional problem, so there are libraries and functions in Python to solve the problem. So, before solving the problem using an optimization model, let's see how to solve it using [Scipy](https://www.scipy.org/) (in a single line!)."
      ]
    },
    {
      "cell_type": "code",
      "metadata": {
        "id": "w3-PAYYu8t2E",
        "colab": {
          "base_uri": "https://localhost:8080/",
          "height": 283
        },
        "outputId": "df91b13d-c138-43ed-9a80-f3ae22542d0b"
      },
      "source": [
        "import matplotlib.pyplot as plt\n",
        "from scipy import stats\n",
        "\n",
        "# we are going to use scipy, so it will be better to convert our lists into numpy arrays\n",
        "XX = np.array(X)\n",
        "ZZ = np.array(Z)\n",
        "\n",
        "# the values we care about are the first two returned by the function\n",
        "b, a, r_value, p_value, std_err = stats.linregress(XX, ZZ)\n",
        "print(\"a: %f    b: %f\" % (a, b))\n",
        "\n",
        "# first, let's plot the original data\n",
        "plt.plot(XX, ZZ, 'o', label='original data')\n",
        "# now, let's plot the line we got; note that we are using the linear regression expression as the second parameter of the plot function\n",
        "plt.plot(XX, a + b*XX, 'r', label='fitted line')\n",
        "plt.legend()\n",
        "plt.show()"
      ],
      "execution_count": null,
      "outputs": [
        {
          "output_type": "stream",
          "text": [
            "a: 4435.083751    b: 47.070490\n"
          ],
          "name": "stdout"
        },
        {
          "output_type": "display_data",
          "data": {
            "image/png": "[encoded data removed]",
            "text/plain": [
              "<Figure size 432x288 with 1 Axes>"
            ]
          },
          "metadata": {
            "tags": [],
            "needs_background": "light"
          }
        }
      ]
    },
    {
      "cell_type": "markdown",
      "metadata": {
        "id": "3GaK0ufbC3Zt"
      },
      "source": [
        "### Using optimization to solve the problem\n",
        "\n",
        "Now you will derive an optimization problem to solve the same problem. You will see that we will get exactly the same results."
      ]
    },
    {
      "cell_type": "markdown",
      "metadata": {
        "id": "pOcTYFBlXN9T"
      },
      "source": [
        "**Objective Function**\n",
        "\n",
        "$\\min   \\sum\\limits_{i \\in |X|}(y_i - z_i)^2$ `(objective function)`\n",
        "\n",
        "**Write the Constraints**\n",
        "\n",
        "subject to:\n",
        "* $y_i = a + b \\cdot x_i, \\forall i \\in |X|$ `(calculate estimates)`\n",
        "\n",
        "`Domains`\n",
        "* $a,b \\in \\mathbb{R}$ `(Parameters of linear regression)`\n",
        "* $y_i \\in \\mathbb{R}, i \\in [|X|]$ `(estimates for each data point)`\n"
      ]
    },
    {
      "cell_type": "code",
      "metadata": {
        "id": "8pVoxSA-Pvue",
        "colab": {
          "base_uri": "https://localhost:8080/",
          "height": 869
        },
        "outputId": "c94b2bf7-8a01-4cf1-d6d3-8a427ad9d74e"
      },
      "source": [
        "# declare the model\n",
        "model = ConcreteModel()\n",
        "\n",
        "n_points = len(X)\n",
        "\n",
        "# declare decision variables\n",
        "model.a = Var(domain=Reals,initialize = 1)\n",
        "model.b = Var(domain=Reals, initialize = 1)\n",
        "model.y = Var([i for i in range(n_points)],domain=Reals)\n",
        "\n",
        "# Constraints\n",
        "model.constraints = ConstraintList()\n",
        "# Predicted value\n",
        "for i in range(n_points):\n",
        "  x = X[i]\n",
        "  model.constraints.add(model.y[i] == model.a + x*model.b)\n",
        "\n",
        "# declare objective\n",
        "obj_expr = 0\n",
        "for i in range(n_points):\n",
        "  obj_expr += (model.y[i] - Z[i])**2\n",
        "model.error = Objective(\n",
        "                      expr = obj_expr,\n",
        "                      sense = minimize)\n",
        "\n",
        "# show the model you've created\n",
        "model.pprint()"
      ],
      "execution_count": null,
      "outputs": [
        {
          "output_type": "stream",
          "text": [
            "2 Set Declarations\n",
            "    constraints_index : Size=1, Index=None, Ordered=Insertion\n",
            "        Key  : Dimen : Domain : Size : Members\n",
            "        None :     1 :    Any :   10 : {1, 2, 3, 4, 5, 6, 7, 8, 9, 10}\n",
            "    y_index : Size=1, Index=None, Ordered=Insertion\n",
            "        Key  : Dimen : Domain : Size : Members\n",
            "        None :     1 :    Any :   10 : {0, 1, 2, 3, 4, 5, 6, 7, 8, 9}\n",
            "\n",
            "3 Var Declarations\n",
            "    a : Size=1, Index=None\n",
            "        Key  : Lower : Value : Upper : Fixed : Stale : Domain\n",
            "        None :  None :     1 :  None : False : False :  Reals\n",
            "    b : Size=1, Index=None\n",
            "        Key  : Lower : Value : Upper : Fixed : Stale : Domain\n",
            "        None :  None :     1 :  None : False : False :  Reals\n",
            "    y : Size=10, Index=y_index\n",
            "        Key : Lower : Value : Upper : Fixed : Stale : Domain\n",
            "          0 :  None :  None :  None : False :  True :  Reals\n",
            "          1 :  None :  None :  None : False :  True :  Reals\n",
            "          2 :  None :  None :  None : False :  True :  Reals\n",
            "          3 :  None :  None :  None : False :  True :  Reals\n",
            "          4 :  None :  None :  None : False :  True :  Reals\n",
            "          5 :  None :  None :  None : False :  True :  Reals\n",
            "          6 :  None :  None :  None : False :  True :  Reals\n",
            "          7 :  None :  None :  None : False :  True :  Reals\n",
            "          8 :  None :  None :  None : False :  True :  Reals\n",
            "          9 :  None :  None :  None : False :  True :  Reals\n",
            "\n",
            "1 Objective Declarations\n",
            "    error : Size=1, Index=None, Active=True\n",
            "        Key  : Active : Sense    : Expression\n",
            "        None :   True : minimize : (y[0] - 5958)**2 + (y[1] - 6662)**2 + (y[2] - 6004)**2 + (y[3] - 6011)**2 + (y[4] - 7250)**2 + (y[5] - 8632)**2 + (y[6] - 6964)**2 + (y[7] - 11097)**2 + (y[8] - 9107)**2 + (y[9] - 11498)**2\n",
            "\n",
            "1 Constraint Declarations\n",
            "    constraints : Size=10, Index=constraints_index, Active=True\n",
            "        Key : Lower : Body               : Upper : Active\n",
            "          1 :   0.0 :  y[0] - (a + 40*b) :   0.0 :   True\n",
            "          2 :   0.0 :  y[1] - (a + 44*b) :   0.0 :   True\n",
            "          3 :   0.0 :  y[2] - (a + 48*b) :   0.0 :   True\n",
            "          4 :   0.0 :  y[3] - (a + 48*b) :   0.0 :   True\n",
            "          5 :   0.0 :  y[4] - (a + 60*b) :   0.0 :   True\n",
            "          6 :   0.0 :  y[5] - (a + 70*b) :   0.0 :   True\n",
            "          7 :   0.0 :  y[6] - (a + 72*b) :   0.0 :   True\n",
            "          8 :   0.0 :  y[7] - (a + 90*b) :   0.0 :   True\n",
            "          9 :   0.0 : y[8] - (a + 100*b) :   0.0 :   True\n",
            "         10 :   0.0 : y[9] - (a + 168*b) :   0.0 :   True\n",
            "\n",
            "7 Declarations: a b y_index y constraints_index constraints error\n"
          ],
          "name": "stdout"
        }
      ]
    },
    {
      "cell_type": "code",
      "metadata": {
        "id": "r9jLvcwsR8y7",
        "colab": {
          "base_uri": "https://localhost:8080/",
          "height": 572
        },
        "outputId": "633f0667-4777-4c2f-8284-75ef384e8788"
      },
      "source": [
        "# solve it\n",
        "SolverFactory('ipopt', executable='/content/ipopt').solve(model).write()\n",
        "# show the results\n",
        "print(\"Objective value = \", model.error())\n",
        "print(\"A = \", model.a())\n",
        "print(\"B = \", model.b())\n",
        "a = model.a()\n",
        "b = model.b()"
      ],
      "execution_count": null,
      "outputs": [
        {
          "output_type": "stream",
          "text": [
            "# ==========================================================\n",
            "# = Solver Results                                         =\n",
            "# ==========================================================\n",
            "# ----------------------------------------------------------\n",
            "#   Problem Information\n",
            "# ----------------------------------------------------------\n",
            "Problem: \n",
            "- Lower bound: -inf\n",
            "  Upper bound: inf\n",
            "  Number of objectives: 1\n",
            "  Number of constraints: 10\n",
            "  Number of variables: 12\n",
            "  Sense: unknown\n",
            "# ----------------------------------------------------------\n",
            "#   Solver Information\n",
            "# ----------------------------------------------------------\n",
            "Solver: \n",
            "- Status: ok\n",
            "  Message: Ipopt 3.12.13\\x3a Optimal Solution Found\n",
            "  Termination condition: optimal\n",
            "  Id: 0\n",
            "  Error rc: 0\n",
            "  Time: 0.028242111206054688\n",
            "# ----------------------------------------------------------\n",
            "#   Solution Information\n",
            "# ----------------------------------------------------------\n",
            "Solution: \n",
            "- number of solutions: 0\n",
            "  number of solutions displayed: 0\n",
            "Objective value =  9249747.557586616\n",
            "A =  4435.083751493429\n",
            "B =  47.0704898446834\n"
          ],
          "name": "stdout"
        }
      ]
    },
    {
      "cell_type": "markdown",
      "metadata": {
        "id": "zn0XuSXGpEA1"
      },
      "source": [
        "# Item 2\n",
        "\n",
        "The sum of the squared differences is not the only way to measure errors.  Create an optimization model to find $a$ and $b$, but this time minimizing the sum of the absolute differences (https://en.wikipedia.org/wiki/Absolute_value). That is, the objective function now should be as follows:\n",
        "\n",
        "$\\sum\\limits_{x \\in X}|y(x) - z(x)|$\n",
        "\n"
      ]
    },
    {
      "cell_type": "code",
      "metadata": {
        "id": "HYk34wbPpfKf",
        "colab": {
          "base_uri": "https://localhost:8080/",
          "height": 869
        },
        "outputId": "e41e49eb-136c-4438-b004-ed5a6274b3ca"
      },
      "source": [
        "# declare the model\n",
        "model2 = ConcreteModel()\n",
        "\n",
        "n_points = len(X)\n",
        "\n",
        "# declare decision variables\n",
        "model2.a = Var(domain=Reals,initialize = 2000)\n",
        "model2.b = Var(domain=Reals, initialize = 50)\n",
        "model2.y = Var([i for i in range(n_points)],domain=Reals)\n",
        "\n",
        "for i in range(n_points):\n",
        "  model2.y[i] = 0.0\n",
        "\n",
        "# Constraints\n",
        "model2.constraints = ConstraintList()\n",
        "# Predicted value\n",
        "for i in range(n_points):\n",
        "  x = X[i]\n",
        "  model2.constraints.add(model2.y[i] == model2.a + x*model2.b)\n",
        "\n",
        "# declare objective\n",
        "obj_expr = 0\n",
        "for i in range(n_points):\n",
        "  obj_expr += abs(model2.y[i] - Z[i])\n",
        "model2.error = Objective(\n",
        "                      expr = obj_expr,\n",
        "                      sense = minimize)\n",
        "\n",
        "# show the model you've created\n",
        "model2.pprint()"
      ],
      "execution_count": null,
      "outputs": [
        {
          "output_type": "stream",
          "text": [
            "2 Set Declarations\n",
            "    constraints_index : Size=1, Index=None, Ordered=Insertion\n",
            "        Key  : Dimen : Domain : Size : Members\n",
            "        None :     1 :    Any :   10 : {1, 2, 3, 4, 5, 6, 7, 8, 9, 10}\n",
            "    y_index : Size=1, Index=None, Ordered=Insertion\n",
            "        Key  : Dimen : Domain : Size : Members\n",
            "        None :     1 :    Any :   10 : {0, 1, 2, 3, 4, 5, 6, 7, 8, 9}\n",
            "\n",
            "3 Var Declarations\n",
            "    a : Size=1, Index=None\n",
            "        Key  : Lower : Value : Upper : Fixed : Stale : Domain\n",
            "        None :  None :  2000 :  None : False : False :  Reals\n",
            "    b : Size=1, Index=None\n",
            "        Key  : Lower : Value : Upper : Fixed : Stale : Domain\n",
            "        None :  None :    50 :  None : False : False :  Reals\n",
            "    y : Size=10, Index=y_index\n",
            "        Key : Lower : Value : Upper : Fixed : Stale : Domain\n",
            "          0 :  None :   0.0 :  None : False : False :  Reals\n",
            "          1 :  None :   0.0 :  None : False : False :  Reals\n",
            "          2 :  None :   0.0 :  None : False : False :  Reals\n",
            "          3 :  None :   0.0 :  None : False : False :  Reals\n",
            "          4 :  None :   0.0 :  None : False : False :  Reals\n",
            "          5 :  None :   0.0 :  None : False : False :  Reals\n",
            "          6 :  None :   0.0 :  None : False : False :  Reals\n",
            "          7 :  None :   0.0 :  None : False : False :  Reals\n",
            "          8 :  None :   0.0 :  None : False : False :  Reals\n",
            "          9 :  None :   0.0 :  None : False : False :  Reals\n",
            "\n",
            "1 Objective Declarations\n",
            "    error : Size=1, Index=None, Active=True\n",
            "        Key  : Active : Sense    : Expression\n",
            "        None :   True : minimize : abs(y[0] - 5958) + abs(y[1] - 6662) + abs(y[2] - 6004) + abs(y[3] - 6011) + abs(y[4] - 7250) + abs(y[5] - 8632) + abs(y[6] - 6964) + abs(y[7] - 11097) + abs(y[8] - 9107) + abs(y[9] - 11498)\n",
            "\n",
            "1 Constraint Declarations\n",
            "    constraints : Size=10, Index=constraints_index, Active=True\n",
            "        Key : Lower : Body               : Upper : Active\n",
            "          1 :   0.0 :  y[0] - (a + 40*b) :   0.0 :   True\n",
            "          2 :   0.0 :  y[1] - (a + 44*b) :   0.0 :   True\n",
            "          3 :   0.0 :  y[2] - (a + 48*b) :   0.0 :   True\n",
            "          4 :   0.0 :  y[3] - (a + 48*b) :   0.0 :   True\n",
            "          5 :   0.0 :  y[4] - (a + 60*b) :   0.0 :   True\n",
            "          6 :   0.0 :  y[5] - (a + 70*b) :   0.0 :   True\n",
            "          7 :   0.0 :  y[6] - (a + 72*b) :   0.0 :   True\n",
            "          8 :   0.0 :  y[7] - (a + 90*b) :   0.0 :   True\n",
            "          9 :   0.0 : y[8] - (a + 100*b) :   0.0 :   True\n",
            "         10 :   0.0 : y[9] - (a + 168*b) :   0.0 :   True\n",
            "\n",
            "7 Declarations: a b y_index y constraints_index constraints error\n"
          ],
          "name": "stdout"
        }
      ]
    },
    {
      "cell_type": "code",
      "metadata": {
        "id": "oqGkuW1Vpzav",
        "colab": {
          "base_uri": "https://localhost:8080/",
          "height": 398
        },
        "outputId": "fca24d6e-5c2c-4cf3-b4fd-f86d24994b5f"
      },
      "source": [
        "# solve it\n",
        "SolverFactory('ipopt', executable='/content/ipopt').solve(model2).write()\n",
        "# show the results\n",
        "print(\"Objective value = \", model2.error())\n",
        "print(\"A = \", model2.a())\n",
        "print(\"B = \", model2.b())"
      ],
      "execution_count": null,
      "outputs": [
        {
          "output_type": "error",
          "ename": "ValueError",
          "evalue": "ignored",
          "traceback": [
            "\u001b[0;31m---------------------------------------------------------------------------\u001b[0m",
            "\u001b[0;31mValueError\u001b[0m                                Traceback (most recent call last)",
            "\u001b[0;32m<ipython-input-11-cc197c19ffb7>\u001b[0m in \u001b[0;36m<module>\u001b[0;34m()\u001b[0m\n\u001b[1;32m      1\u001b[0m \u001b[0;31m# solve it\u001b[0m\u001b[0;34m\u001b[0m\u001b[0;34m\u001b[0m\u001b[0;34m\u001b[0m\u001b[0m\n\u001b[0;32m----> 2\u001b[0;31m \u001b[0mSolverFactory\u001b[0m\u001b[0;34m(\u001b[0m\u001b[0;34m'ipopt'\u001b[0m\u001b[0;34m,\u001b[0m \u001b[0mexecutable\u001b[0m\u001b[0;34m=\u001b[0m\u001b[0;34m'/content/ipopt'\u001b[0m\u001b[0;34m)\u001b[0m\u001b[0;34m.\u001b[0m\u001b[0msolve\u001b[0m\u001b[0;34m(\u001b[0m\u001b[0mmodel2\u001b[0m\u001b[0;34m)\u001b[0m\u001b[0;34m.\u001b[0m\u001b[0mwrite\u001b[0m\u001b[0;34m(\u001b[0m\u001b[0;34m)\u001b[0m\u001b[0;34m\u001b[0m\u001b[0;34m\u001b[0m\u001b[0m\n\u001b[0m\u001b[1;32m      3\u001b[0m \u001b[0;31m# show the results\u001b[0m\u001b[0;34m\u001b[0m\u001b[0;34m\u001b[0m\u001b[0;34m\u001b[0m\u001b[0m\n\u001b[1;32m      4\u001b[0m \u001b[0mprint\u001b[0m\u001b[0;34m(\u001b[0m\u001b[0;34m\"Objective value = \"\u001b[0m\u001b[0;34m,\u001b[0m \u001b[0mmodel2\u001b[0m\u001b[0;34m.\u001b[0m\u001b[0merror\u001b[0m\u001b[0;34m(\u001b[0m\u001b[0;34m)\u001b[0m\u001b[0;34m)\u001b[0m\u001b[0;34m\u001b[0m\u001b[0;34m\u001b[0m\u001b[0m\n\u001b[1;32m      5\u001b[0m \u001b[0mprint\u001b[0m\u001b[0;34m(\u001b[0m\u001b[0;34m\"A = \"\u001b[0m\u001b[0;34m,\u001b[0m \u001b[0mmodel2\u001b[0m\u001b[0;34m.\u001b[0m\u001b[0ma\u001b[0m\u001b[0;34m(\u001b[0m\u001b[0;34m)\u001b[0m\u001b[0;34m)\u001b[0m\u001b[0;34m\u001b[0m\u001b[0;34m\u001b[0m\u001b[0m\n",
            "\u001b[0;32m/usr/local/lib/python3.6/dist-packages/pyomo/opt/base/solvers.py\u001b[0m in \u001b[0;36msolve\u001b[0;34m(self, *args, **kwds)\u001b[0m\n\u001b[1;32m    631\u001b[0m                             \u001b[0mresult\u001b[0m\u001b[0;34m,\u001b[0m\u001b[0;34m\u001b[0m\u001b[0;34m\u001b[0m\u001b[0m\n\u001b[1;32m    632\u001b[0m                             \u001b[0mselect\u001b[0m\u001b[0;34m=\u001b[0m\u001b[0mself\u001b[0m\u001b[0;34m.\u001b[0m\u001b[0m_select_index\u001b[0m\u001b[0;34m,\u001b[0m\u001b[0;34m\u001b[0m\u001b[0;34m\u001b[0m\u001b[0m\n\u001b[0;32m--> 633\u001b[0;31m                             default_variable_value=self._default_variable_value)\n\u001b[0m\u001b[1;32m    634\u001b[0m                         \u001b[0mresult\u001b[0m\u001b[0;34m.\u001b[0m\u001b[0m_smap_id\u001b[0m \u001b[0;34m=\u001b[0m \u001b[0;32mNone\u001b[0m\u001b[0;34m\u001b[0m\u001b[0;34m\u001b[0m\u001b[0m\n\u001b[1;32m    635\u001b[0m                         \u001b[0mresult\u001b[0m\u001b[0;34m.\u001b[0m\u001b[0msolution\u001b[0m\u001b[0;34m.\u001b[0m\u001b[0mclear\u001b[0m\u001b[0;34m(\u001b[0m\u001b[0;34m)\u001b[0m\u001b[0;34m\u001b[0m\u001b[0;34m\u001b[0m\u001b[0m\n",
            "\u001b[0;32m/usr/local/lib/python3.6/dist-packages/pyomo/core/base/PyomoModel.py\u001b[0m in \u001b[0;36mload_from\u001b[0;34m(self, results, allow_consistent_values_for_fixed_vars, comparison_tolerance_for_fixed_vars, ignore_invalid_labels, id, delete_symbol_map, clear, default_variable_value, select, ignore_fixed_vars)\u001b[0m\n\u001b[1;32m    240\u001b[0m                 raise ValueError(\"Cannot load a SolverResults object \"\n\u001b[1;32m    241\u001b[0m                                  \u001b[0;34m\"with bad status: %s\"\u001b[0m\u001b[0;34m\u001b[0m\u001b[0;34m\u001b[0m\u001b[0m\n\u001b[0;32m--> 242\u001b[0;31m                                  % str(results.solver.status))\n\u001b[0m\u001b[1;32m    243\u001b[0m         \u001b[0;32mif\u001b[0m \u001b[0mclear\u001b[0m\u001b[0;34m:\u001b[0m\u001b[0;34m\u001b[0m\u001b[0;34m\u001b[0m\u001b[0m\n\u001b[1;32m    244\u001b[0m             \u001b[0;31m#\u001b[0m\u001b[0;34m\u001b[0m\u001b[0;34m\u001b[0m\u001b[0;34m\u001b[0m\u001b[0m\n",
            "\u001b[0;31mValueError\u001b[0m: Cannot load a SolverResults object with bad status: error"
          ]
        }
      ]
    },
    {
      "cell_type": "markdown",
      "metadata": {
        "id": "j-DzawYusOen"
      },
      "source": [
        "Ops, we cannot use the function abs() with IPOPT! IPOPT requires functions to be continuous (https://en.wikipedia.org/wiki/Continuous_function) and twice differentiable (https://en.wikipedia.org/wiki/Differentiable_function), and abs() does not satisfy one of these conditions (which one?)\n",
        "\n",
        "How can we address this issue? Try to think about a way of formulating the abs() function before checking the solution below. Tip: you can use linear expression for that."
      ]
    },
    {
      "cell_type": "code",
      "metadata": {
        "id": "Il6Ewk2Rsi8m",
        "colab": {
          "base_uri": "https://localhost:8080/",
          "height": 659
        },
        "outputId": "4e5dc5d1-2517-4837-8d9c-73651d246df4"
      },
      "source": [
        "# Each variable abs[i] will represent |y[i] - z[i]|\n",
        "model2.abs_value = Var([i for i in range(n_points)],domain=NonNegativeReals)\n",
        "\n",
        "# The following constrains enforce abs[i] >= |y[i] - z[i]|\n",
        "for i in range(n_points):\n",
        "  model2.constraints.add(model2.abs_value[i] >= model2.y[i] - Z[i])\n",
        "  model2.constraints.add(model2.abs_value[i] >= -(model2.y[i] - Z[i]))\n",
        "\n",
        "# Because we want to minimize the sum of absolute values, the solver will pick the smallest possible values of abs[i]. Therefore, we will have abs[i] = |y[i] - z[i]|, as we wanted\n",
        "obj_expr = 0\n",
        "for i in range(n_points):\n",
        "  obj_expr += model2.abs_value[i]\n",
        "model2.error = Objective(\n",
        "                      expr = obj_expr,\n",
        "                      sense = minimize)\n",
        "\n",
        "# solve it\n",
        "SolverFactory('ipopt', executable='/content/ipopt').solve(model2).write()\n",
        "# show the results\n",
        "print(\"Objective value = \", model2.error())\n",
        "print(\"A = \", model2.a())\n",
        "print(\"B = \", model2.b())\n",
        "a2 = model2.a()\n",
        "b2 = model2.b()"
      ],
      "execution_count": null,
      "outputs": [
        {
          "output_type": "stream",
          "text": [
            "WARNING: Implicitly replacing the Component attribute error (type=<class\n",
            "    'pyomo.core.base.objective.SimpleObjective'>) on block unknown with a new\n",
            "    Component (type=<class 'pyomo.core.base.objective.SimpleObjective'>). This\n",
            "    is usually indicative of a modelling error. To avoid this warning, use\n",
            "    block.del_component() and block.add_component().\n",
            "# ==========================================================\n",
            "# = Solver Results                                         =\n",
            "# ==========================================================\n",
            "# ----------------------------------------------------------\n",
            "#   Problem Information\n",
            "# ----------------------------------------------------------\n",
            "Problem: \n",
            "- Lower bound: -inf\n",
            "  Upper bound: inf\n",
            "  Number of objectives: 1\n",
            "  Number of constraints: 30\n",
            "  Number of variables: 22\n",
            "  Sense: unknown\n",
            "# ----------------------------------------------------------\n",
            "#   Solver Information\n",
            "# ----------------------------------------------------------\n",
            "Solver: \n",
            "- Status: ok\n",
            "  Message: Ipopt 3.12.13\\x3a Optimal Solution Found\n",
            "  Termination condition: optimal\n",
            "  Id: 0\n",
            "  Error rc: 0\n",
            "  Time: 0.03501725196838379\n",
            "# ----------------------------------------------------------\n",
            "#   Solution Information\n",
            "# ----------------------------------------------------------\n",
            "Solution: \n",
            "- number of solutions: 0\n",
            "  number of solutions displayed: 0\n",
            "Objective value =  6784.999229028517\n",
            "A =  4889.99982333056\n",
            "B =  39.33333506932425\n"
          ],
          "name": "stdout"
        }
      ]
    },
    {
      "cell_type": "markdown",
      "metadata": {
        "id": "vE7dkiCTE2uR"
      },
      "source": [
        "### Let's plot both curves\n",
        "\n",
        "As you can see, they look similar (and equally OK)."
      ]
    },
    {
      "cell_type": "code",
      "metadata": {
        "id": "aGdU5787EZnb",
        "colab": {
          "base_uri": "https://localhost:8080/",
          "height": 265
        },
        "outputId": "7ac71cc9-ff69-4c0e-e309-25d41594a2c0"
      },
      "source": [
        "# first, let's plot the original data\n",
        "plt.plot(XX, ZZ, 'o', label='original data')\n",
        "# now, let's plot the line we got; note that we are using the linear regression expression as the second parameter of the plot function\n",
        "plt.plot(XX, a2 + b2*XX, 'r', label='abs. error')\n",
        "plt.plot(XX, a + b*XX, 'g', label='sq. error')\n",
        "plt.legend()\n",
        "plt.show()"
      ],
      "execution_count": null,
      "outputs": [
        {
          "output_type": "display_data",
          "data": {
            "image/png": "[encoded data removed]",
            "text/plain": [
              "<Figure size 432x288 with 1 Axes>"
            ]
          },
          "metadata": {
            "tags": [],
            "needs_background": "light"
          }
        }
      ]
    },
    {
      "cell_type": "markdown",
      "metadata": {
        "id": "GETt5cuz3R0W"
      },
      "source": [
        "# Item 3-A\n",
        "\n",
        "Now we are going to see what happens if we replace linear regression for the following expression:\n",
        "\n",
        "$\n",
        "\\textrm{Revenue} = a \\times Hours ^ b\n",
        "$\n",
        "\n",
        "First, let's see what happens if we use the expression above and sum of squares as error measure.\n",
        "\n",
        "**You will probably need to play with a few different initial values before you find a good solution.**"
      ]
    },
    {
      "cell_type": "code",
      "metadata": {
        "id": "7WFEOPDQ3x0V",
        "colab": {
          "base_uri": "https://localhost:8080/",
          "height": 869
        },
        "outputId": "3f188099-e591-479a-a82a-13e293005fd3"
      },
      "source": [
        "# declare the model\n",
        "model3a = ConcreteModel()\n",
        "\n",
        "n_points = len(X)\n",
        "\n",
        "# declare decision variables\n",
        "model3a.a = Var(domain=Reals,initialize = 1000)\n",
        "model3a.b = Var(domain=Reals, initialize = 1)\n",
        "model3a.y = Var([i for i in range(n_points)],domain=Reals)\n",
        "\n",
        "# Constraints\n",
        "model3a.constraints = ConstraintList()\n",
        "# Predicted value\n",
        "for i in range(n_points):\n",
        "  x = X[i]\n",
        "  model3a.constraints.add(model3a.y[i] == model3a.a * x**(model3a.b))\n",
        "\n",
        "# declare objective\n",
        "obj_expr = 0\n",
        "for i in range(n_points):\n",
        "  obj_expr += (model3a.y[i] - Z[i])**2\n",
        "model3a.error = Objective(\n",
        "                      expr = obj_expr,\n",
        "                      sense = minimize)\n",
        "\n",
        "# show the model you've created\n",
        "model3a.pprint()"
      ],
      "execution_count": null,
      "outputs": [
        {
          "output_type": "stream",
          "text": [
            "2 Set Declarations\n",
            "    constraints_index : Size=1, Index=None, Ordered=Insertion\n",
            "        Key  : Dimen : Domain : Size : Members\n",
            "        None :     1 :    Any :   10 : {1, 2, 3, 4, 5, 6, 7, 8, 9, 10}\n",
            "    y_index : Size=1, Index=None, Ordered=Insertion\n",
            "        Key  : Dimen : Domain : Size : Members\n",
            "        None :     1 :    Any :   10 : {0, 1, 2, 3, 4, 5, 6, 7, 8, 9}\n",
            "\n",
            "3 Var Declarations\n",
            "    a : Size=1, Index=None\n",
            "        Key  : Lower : Value : Upper : Fixed : Stale : Domain\n",
            "        None :  None :  1000 :  None : False : False :  Reals\n",
            "    b : Size=1, Index=None\n",
            "        Key  : Lower : Value : Upper : Fixed : Stale : Domain\n",
            "        None :  None :     1 :  None : False : False :  Reals\n",
            "    y : Size=10, Index=y_index\n",
            "        Key : Lower : Value : Upper : Fixed : Stale : Domain\n",
            "          0 :  None :  None :  None : False :  True :  Reals\n",
            "          1 :  None :  None :  None : False :  True :  Reals\n",
            "          2 :  None :  None :  None : False :  True :  Reals\n",
            "          3 :  None :  None :  None : False :  True :  Reals\n",
            "          4 :  None :  None :  None : False :  True :  Reals\n",
            "          5 :  None :  None :  None : False :  True :  Reals\n",
            "          6 :  None :  None :  None : False :  True :  Reals\n",
            "          7 :  None :  None :  None : False :  True :  Reals\n",
            "          8 :  None :  None :  None : False :  True :  Reals\n",
            "          9 :  None :  None :  None : False :  True :  Reals\n",
            "\n",
            "1 Objective Declarations\n",
            "    error : Size=1, Index=None, Active=True\n",
            "        Key  : Active : Sense    : Expression\n",
            "        None :   True : minimize : (y[0] - 5958)**2 + (y[1] - 6662)**2 + (y[2] - 6004)**2 + (y[3] - 6011)**2 + (y[4] - 7250)**2 + (y[5] - 8632)**2 + (y[6] - 6964)**2 + (y[7] - 11097)**2 + (y[8] - 9107)**2 + (y[9] - 11498)**2\n",
            "\n",
            "1 Constraint Declarations\n",
            "    constraints : Size=10, Index=constraints_index, Active=True\n",
            "        Key : Lower : Body            : Upper : Active\n",
            "          1 :   0.0 :  y[0] - a*40**b :   0.0 :   True\n",
            "          2 :   0.0 :  y[1] - a*44**b :   0.0 :   True\n",
            "          3 :   0.0 :  y[2] - a*48**b :   0.0 :   True\n",
            "          4 :   0.0 :  y[3] - a*48**b :   0.0 :   True\n",
            "          5 :   0.0 :  y[4] - a*60**b :   0.0 :   True\n",
            "          6 :   0.0 :  y[5] - a*70**b :   0.0 :   True\n",
            "          7 :   0.0 :  y[6] - a*72**b :   0.0 :   True\n",
            "          8 :   0.0 :  y[7] - a*90**b :   0.0 :   True\n",
            "          9 :   0.0 : y[8] - a*100**b :   0.0 :   True\n",
            "         10 :   0.0 : y[9] - a*168**b :   0.0 :   True\n",
            "\n",
            "7 Declarations: a b y_index y constraints_index constraints error\n"
          ],
          "name": "stdout"
        }
      ]
    },
    {
      "cell_type": "code",
      "metadata": {
        "id": "bzU-69uw4Mot",
        "colab": {
          "base_uri": "https://localhost:8080/",
          "height": 572
        },
        "outputId": "69bb1801-0980-431a-b347-bae68f33bfe3"
      },
      "source": [
        "# solve it\n",
        "SolverFactory('ipopt', executable='/content/ipopt').solve(model3a).write()\n",
        "# show the results\n",
        "print(\"Objective value = \", model3a.error())\n",
        "print(\"A = \", model3a.a())\n",
        "print(\"B = \", model3a.b())\n",
        "a3 = model3a.a()\n",
        "b3 = model3a.b()"
      ],
      "execution_count": null,
      "outputs": [
        {
          "output_type": "stream",
          "text": [
            "# ==========================================================\n",
            "# = Solver Results                                         =\n",
            "# ==========================================================\n",
            "# ----------------------------------------------------------\n",
            "#   Problem Information\n",
            "# ----------------------------------------------------------\n",
            "Problem: \n",
            "- Lower bound: -inf\n",
            "  Upper bound: inf\n",
            "  Number of objectives: 1\n",
            "  Number of constraints: 10\n",
            "  Number of variables: 12\n",
            "  Sense: unknown\n",
            "# ----------------------------------------------------------\n",
            "#   Solver Information\n",
            "# ----------------------------------------------------------\n",
            "Solver: \n",
            "- Status: ok\n",
            "  Message: Ipopt 3.12.13\\x3a Optimal Solution Found\n",
            "  Termination condition: optimal\n",
            "  Id: 0\n",
            "  Error rc: 0\n",
            "  Time: 0.024003028869628906\n",
            "# ----------------------------------------------------------\n",
            "#   Solution Information\n",
            "# ----------------------------------------------------------\n",
            "Solution: \n",
            "- number of solutions: 0\n",
            "  number of solutions displayed: 0\n",
            "Objective value =  7554649.275032195\n",
            "A =  1022.0344679291754\n",
            "B =  0.48178524883400475\n"
          ],
          "name": "stdout"
        }
      ]
    },
    {
      "cell_type": "code",
      "metadata": {
        "id": "8Ao85Hi_FGKo",
        "colab": {
          "base_uri": "https://localhost:8080/",
          "height": 265
        },
        "outputId": "ecdd0258-395c-48ff-8747-294c09238e69"
      },
      "source": [
        "# first, let's plot the original data\n",
        "plt.plot(XX, ZZ, 'o', label='original data')\n",
        "# now, let's plot the line we got; note that we are using the linear regression expression as the second parameter of the plot function\n",
        "plt.plot(XX, a3*XX**b3, 'b', label='power with sq. error')\n",
        "plt.plot(XX, a2 + b2*XX, 'r', label='abs. error')\n",
        "plt.plot(XX, a + b*XX, 'g', label='sq. error')\n",
        "plt.legend()\n",
        "plt.show()"
      ],
      "execution_count": null,
      "outputs": [
        {
          "output_type": "display_data",
          "data": {
            "image/png": "[encoded data removed]",
            "text/plain": [
              "<Figure size 432x288 with 1 Axes>"
            ]
          },
          "metadata": {
            "tags": [],
            "needs_background": "light"
          }
        }
      ]
    },
    {
      "cell_type": "markdown",
      "metadata": {
        "id": "_GwVrmWm43Gd"
      },
      "source": [
        "# Item 3-B\n",
        "\n",
        "Now, let's see what happens if we use the exponential expression above and sum of absolute values as error measure.\n",
        "\n",
        "**You will probably need to play with a few different initial values before you find a good solution.**"
      ]
    },
    {
      "cell_type": "code",
      "metadata": {
        "id": "za96Sw-h5B60",
        "colab": {
          "base_uri": "https://localhost:8080/",
          "height": 1000
        },
        "outputId": "3bb8c465-f239-42d5-dcb6-dbe645f94f1e"
      },
      "source": [
        "# declare the model\n",
        "model3b = ConcreteModel()\n",
        "\n",
        "n_points = len(X)\n",
        "\n",
        "# declare decision variables\n",
        "model3b.a = Var(domain=Reals,initialize = 1000)\n",
        "model3b.b = Var(domain=Reals, initialize = 1)\n",
        "model3b.y = Var([i for i in range(n_points)],domain=Reals)\n",
        "\n",
        "# Each variable abs[i] will represent |y[i] - z[i]|\n",
        "model3b.abs_value = Var([i for i in range(n_points)],domain=NonNegativeReals)\n",
        "\n",
        "\n",
        "for i in range(n_points):\n",
        "  model3b.y[i] = 0.0\n",
        "\n",
        "# Constraints\n",
        "model3b.constraints = ConstraintList()\n",
        "# Predicted value\n",
        "for i in range(n_points):\n",
        "  x = X[i]\n",
        "  model3b.constraints.add(model3b.y[i] == (model3b.a * x**model3b.b))\n",
        "\n",
        "\n",
        "# The following constrains enforce abs[i] >= |y[i] - z[i]|\n",
        "for i in range(n_points):\n",
        "  model3b.constraints.add(model3b.abs_value[i] >= model3b.y[i] - Z[i])\n",
        "  model3b.constraints.add(model3b.abs_value[i] >= -(model3b.y[i] - Z[i]))\n",
        "\n",
        "# Because we want to minimize the sum of absolute values, the solver will pick the smallest possible values of abs[i]. Therefore, we will have abs[i] = |y[i] - z[i]|, as we wanted\n",
        "obj_expr = 0\n",
        "for i in range(n_points):\n",
        "  obj_expr += model3b.abs_value[i]\n",
        "model3b.error = Objective(\n",
        "                      expr = obj_expr,\n",
        "                      sense = minimize)\n",
        "\n",
        "\n",
        "# show the model you've created\n",
        "model3b.pprint()\n",
        "\n",
        "# solve it\n",
        "SolverFactory('ipopt', executable='/content/ipopt').solve(model3b).write()\n",
        "# show the results\n",
        "print(\"Objective value = \", model3b.error())\n",
        "print(\"A = \", model3b.a())\n",
        "print(\"B = \", model3b.b())\n",
        "a4 = model3b.a()\n",
        "b4 = model3b.b()"
      ],
      "execution_count": null,
      "outputs": [
        {
          "output_type": "stream",
          "text": [
            "3 Set Declarations\n",
            "    abs_value_index : Size=1, Index=None, Ordered=Insertion\n",
            "        Key  : Dimen : Domain : Size : Members\n",
            "        None :     1 :    Any :   10 : {0, 1, 2, 3, 4, 5, 6, 7, 8, 9}\n",
            "    constraints_index : Size=1, Index=None, Ordered=Insertion\n",
            "        Key  : Dimen : Domain : Size : Members\n",
            "        None :     1 :    Any :   30 : {1, 2, 3, 4, 5, 6, 7, 8, 9, 10, 11, 12, 13, 14, 15, 16, 17, 18, 19, 20, 21, 22, 23, 24, 25, 26, 27, 28, 29, 30}\n",
            "    y_index : Size=1, Index=None, Ordered=Insertion\n",
            "        Key  : Dimen : Domain : Size : Members\n",
            "        None :     1 :    Any :   10 : {0, 1, 2, 3, 4, 5, 6, 7, 8, 9}\n",
            "\n",
            "4 Var Declarations\n",
            "    a : Size=1, Index=None\n",
            "        Key  : Lower : Value : Upper : Fixed : Stale : Domain\n",
            "        None :  None :  1000 :  None : False : False :  Reals\n",
            "    abs_value : Size=10, Index=abs_value_index\n",
            "        Key : Lower : Value : Upper : Fixed : Stale : Domain\n",
            "          0 :     0 :  None :  None : False :  True : NonNegativeReals\n",
            "          1 :     0 :  None :  None : False :  True : NonNegativeReals\n",
            "          2 :     0 :  None :  None : False :  True : NonNegativeReals\n",
            "          3 :     0 :  None :  None : False :  True : NonNegativeReals\n",
            "          4 :     0 :  None :  None : False :  True : NonNegativeReals\n",
            "          5 :     0 :  None :  None : False :  True : NonNegativeReals\n",
            "          6 :     0 :  None :  None : False :  True : NonNegativeReals\n",
            "          7 :     0 :  None :  None : False :  True : NonNegativeReals\n",
            "          8 :     0 :  None :  None : False :  True : NonNegativeReals\n",
            "          9 :     0 :  None :  None : False :  True : NonNegativeReals\n",
            "    b : Size=1, Index=None\n",
            "        Key  : Lower : Value : Upper : Fixed : Stale : Domain\n",
            "        None :  None :     1 :  None : False : False :  Reals\n",
            "    y : Size=10, Index=y_index\n",
            "        Key : Lower : Value : Upper : Fixed : Stale : Domain\n",
            "          0 :  None :   0.0 :  None : False : False :  Reals\n",
            "          1 :  None :   0.0 :  None : False : False :  Reals\n",
            "          2 :  None :   0.0 :  None : False : False :  Reals\n",
            "          3 :  None :   0.0 :  None : False : False :  Reals\n",
            "          4 :  None :   0.0 :  None : False : False :  Reals\n",
            "          5 :  None :   0.0 :  None : False : False :  Reals\n",
            "          6 :  None :   0.0 :  None : False : False :  Reals\n",
            "          7 :  None :   0.0 :  None : False : False :  Reals\n",
            "          8 :  None :   0.0 :  None : False : False :  Reals\n",
            "          9 :  None :   0.0 :  None : False : False :  Reals\n",
            "\n",
            "1 Objective Declarations\n",
            "    error : Size=1, Index=None, Active=True\n",
            "        Key  : Active : Sense    : Expression\n",
            "        None :   True : minimize : abs_value[0] + abs_value[1] + abs_value[2] + abs_value[3] + abs_value[4] + abs_value[5] + abs_value[6] + abs_value[7] + abs_value[8] + abs_value[9]\n",
            "\n",
            "1 Constraint Declarations\n",
            "    constraints : Size=30, Index=constraints_index, Active=True\n",
            "        Key : Lower : Body                            : Upper : Active\n",
            "          1 :   0.0 :                  y[0] - a*40**b :   0.0 :   True\n",
            "          2 :   0.0 :                  y[1] - a*44**b :   0.0 :   True\n",
            "          3 :   0.0 :                  y[2] - a*48**b :   0.0 :   True\n",
            "          4 :   0.0 :                  y[3] - a*48**b :   0.0 :   True\n",
            "          5 :   0.0 :                  y[4] - a*60**b :   0.0 :   True\n",
            "          6 :   0.0 :                  y[5] - a*70**b :   0.0 :   True\n",
            "          7 :   0.0 :                  y[6] - a*72**b :   0.0 :   True\n",
            "          8 :   0.0 :                  y[7] - a*90**b :   0.0 :   True\n",
            "          9 :   0.0 :                 y[8] - a*100**b :   0.0 :   True\n",
            "         10 :   0.0 :                 y[9] - a*168**b :   0.0 :   True\n",
            "         11 :  -Inf :      y[0] - 5958 - abs_value[0] :   0.0 :   True\n",
            "         12 :  -Inf :  - (y[0] - 5958) - abs_value[0] :   0.0 :   True\n",
            "         13 :  -Inf :      y[1] - 6662 - abs_value[1] :   0.0 :   True\n",
            "         14 :  -Inf :  - (y[1] - 6662) - abs_value[1] :   0.0 :   True\n",
            "         15 :  -Inf :      y[2] - 6004 - abs_value[2] :   0.0 :   True\n",
            "         16 :  -Inf :  - (y[2] - 6004) - abs_value[2] :   0.0 :   True\n",
            "         17 :  -Inf :      y[3] - 6011 - abs_value[3] :   0.0 :   True\n",
            "         18 :  -Inf :  - (y[3] - 6011) - abs_value[3] :   0.0 :   True\n",
            "         19 :  -Inf :      y[4] - 7250 - abs_value[4] :   0.0 :   True\n",
            "         20 :  -Inf :  - (y[4] - 7250) - abs_value[4] :   0.0 :   True\n",
            "         21 :  -Inf :      y[5] - 8632 - abs_value[5] :   0.0 :   True\n",
            "         22 :  -Inf :  - (y[5] - 8632) - abs_value[5] :   0.0 :   True\n",
            "         23 :  -Inf :      y[6] - 6964 - abs_value[6] :   0.0 :   True\n",
            "         24 :  -Inf :  - (y[6] - 6964) - abs_value[6] :   0.0 :   True\n",
            "         25 :  -Inf :     y[7] - 11097 - abs_value[7] :   0.0 :   True\n",
            "         26 :  -Inf : - (y[7] - 11097) - abs_value[7] :   0.0 :   True\n",
            "         27 :  -Inf :      y[8] - 9107 - abs_value[8] :   0.0 :   True\n",
            "         28 :  -Inf :  - (y[8] - 9107) - abs_value[8] :   0.0 :   True\n",
            "         29 :  -Inf :     y[9] - 11498 - abs_value[9] :   0.0 :   True\n",
            "         30 :  -Inf : - (y[9] - 11498) - abs_value[9] :   0.0 :   True\n",
            "\n",
            "9 Declarations: a b y_index y abs_value_index abs_value constraints_index constraints error\n",
            "# ==========================================================\n",
            "# = Solver Results                                         =\n",
            "# ==========================================================\n",
            "# ----------------------------------------------------------\n",
            "#   Problem Information\n",
            "# ----------------------------------------------------------\n",
            "Problem: \n",
            "- Lower bound: -inf\n",
            "  Upper bound: inf\n",
            "  Number of objectives: 1\n",
            "  Number of constraints: 30\n",
            "  Number of variables: 22\n",
            "  Sense: unknown\n",
            "# ----------------------------------------------------------\n",
            "#   Solver Information\n",
            "# ----------------------------------------------------------\n",
            "Solver: \n",
            "- Status: ok\n",
            "  Message: Ipopt 3.12.13\\x3a Optimal Solution Found\n",
            "  Termination condition: optimal\n",
            "  Id: 0\n",
            "  Error rc: 0\n",
            "  Time: 0.03164863586425781\n",
            "# ----------------------------------------------------------\n",
            "#   Solution Information\n",
            "# ----------------------------------------------------------\n",
            "Solution: \n",
            "- number of solutions: 0\n",
            "  number of solutions displayed: 0\n",
            "Objective value =  5710.6668112915095\n",
            "A =  1149.8404970537522\n",
            "B =  0.4493688659630723\n"
          ],
          "name": "stdout"
        }
      ]
    },
    {
      "cell_type": "code",
      "metadata": {
        "id": "FuZXlgfJGJ7l",
        "colab": {
          "base_uri": "https://localhost:8080/",
          "height": 265
        },
        "outputId": "4ecd6a54-8d25-428d-c531-9977c54b7706"
      },
      "source": [
        "# first, let's plot the original data\n",
        "plt.plot(XX, ZZ, 'o', label='original data')\n",
        "# now, let's plot the line we got; note that we are using the linear regression expression as the second parameter of the plot function\n",
        "plt.plot(XX, a4*XX**b4, 'y', label='power with abs. error')\n",
        "plt.plot(XX, a3*XX**b3, 'b', label='power with sq. error')\n",
        "#plt.plot(XX, a2 + b2*XX, 'r', label='abs. error')\n",
        "#plt.plot(XX, a + b*XX, 'g', label='sq. error')\n",
        "plt.legend()\n",
        "plt.show()"
      ],
      "execution_count": null,
      "outputs": [
        {
          "output_type": "display_data",
          "data": {
            "image/png": "[encoded data removed]",
            "text/plain": [
              "<Figure size 432x288 with 1 Axes>"
            ]
          },
          "metadata": {
            "tags": [],
            "needs_background": "light"
          }
        }
      ]
    }
  ]
}