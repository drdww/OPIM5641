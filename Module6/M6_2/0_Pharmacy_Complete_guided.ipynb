{
  "nbformat": 4,
  "nbformat_minor": 0,
  "metadata": {
    "colab": {
      "name": "Pharmacy - Complete_guided",
      "provenance": [],
      "collapsed_sections": [],
      "toc_visible": true,
      "include_colab_link": true
    },
    "kernelspec": {
      "name": "python3",
      "display_name": "Python 3"
    }
  },
  "cells": [
    {
      "cell_type": "markdown",
      "metadata": {
        "id": "view-in-github",
        "colab_type": "text"
      },
      "source": [
        "<a href=\"https://colab.research.google.com/github/drdww/OPIM5641/blob/main/Module6/M6_2/0_Pharmacy_Complete_guided.ipynb\" target=\"_parent\"><img src=\"https://colab.research.google.com/assets/colab-badge.svg\" alt=\"Open In Colab\"/></a>"
      ]
    },
    {
      "cell_type": "markdown",
      "metadata": {
        "id": "0Q7rTx6fkkLd"
      },
      "source": [
        "# Pharmacy [extracted from the textbook] (guided)\n",
        "\n",
        "----------------------------------------------------\n",
        "**OPIM 5641: Business Decision Modeling - University of Connecticut**\n"
      ]
    },
    {
      "cell_type": "markdown",
      "metadata": {
        "id": "QpWT5lS9lWU0"
      },
      "source": [
        "## Setup Your Environment/Imports\n",
        "We may often use the solver 'IPOPT' instead of 'cbc' when tackling nonlinear optimization problems."
      ]
    },
    {
      "cell_type": "code",
      "metadata": {
        "id": "HhhMWH82kjfN",
        "colab": {
          "base_uri": "https://localhost:8080/"
        },
        "outputId": "17a764a7-1c12-4c05-8368-16f1f944a962"
      },
      "source": [
        "# before you do anything...\n",
        "# mount your drive!\n",
        "# click folder on the left...\n",
        "# import modules\n",
        "\n",
        "%matplotlib inline\n",
        "from pylab import *\n",
        "\n",
        "import shutil\n",
        "import sys\n",
        "import os.path\n",
        "\n",
        "if not shutil.which(\"pyomo\"):\n",
        "    !pip install -q pyomo\n",
        "    assert(shutil.which(\"pyomo\"))\n",
        "\n",
        "if not (shutil.which(\"ipopt\") or os.path.isfile(\"ipopt\")):\n",
        "    if \"google.colab\" in sys.modules:\n",
        "        !wget -N -q \"https://ampl.com/dl/open/ipopt/ipopt-linux64.zip\"\n",
        "        !unzip -o -q ipopt-linux64\n",
        "        #!apt-get install -y -qq glpk-utils\n",
        "    else:\n",
        "        try:\n",
        "            !conda install -c conda-forge ipopt\n",
        "        except:\n",
        "            pass\n",
        "\n",
        "assert(shutil.which(\"ipopt\") or os.path.isfile(\"ipopt\"))\n",
        "\n",
        "from pyomo.environ import *"
      ],
      "execution_count": null,
      "outputs": [
        {
          "output_type": "stream",
          "name": "stdout",
          "text": [
            "\u001b[K     |████████████████████████████████| 9.1 MB 6.0 MB/s \n",
            "\u001b[K     |████████████████████████████████| 49 kB 6.8 MB/s \n",
            "\u001b[?25h"
          ]
        }
      ]
    },
    {
      "cell_type": "markdown",
      "metadata": {
        "id": "TYz3rywdPz7s"
      },
      "source": [
        "# Linear Regression\n",
        "\n",
        "[Linear regression](https://en.wikipedia.org/wiki/Linear_regression) is one of the most important techniques employed in business analytics. In a linear regression problem, we are given a dataset consisting of a list of pairs of elements $(x,z(x))$, where $x$ is some controlable or observable value (e.g., number of years of study) and $z(x)$ is the target value (e.g., expected salary in the future). The goal of linear regression is to come up with a formula that will allow us to guess $z(x)$ given $x$ based on historic data.\n",
        "\n",
        "\n",
        "When using **linear** regression, we assume that a certain phenomenon can be predicted by a linear expression, i.e.:\n",
        "\n",
        "$𝑦(𝑥)=𝑎+b𝑥$,\n",
        "\n",
        "where $x$ is the observable value and $y(x)$ is our estimate the value we want to guess which depends linearly on $x$. In our example, if pairs $(10,50000)$ and $(20,100000)$ belong to our dataset, this formula would probably indicate that, if $x = 15$, the value of $y(x)$ would be 75000.\n",
        "\n",
        "Linear regression is about finding $a$ and $b$ such that the formula $y(x) = a + bx$ approximates the actual value $z(x)$ as well as possible. In general, though, the formula behind the actual value of $z(x)$ may not be linear, so we should expect our formula to make **errors**. This is OK and is expected.\n",
        "\n",
        "We can cast the linear regression problem as follows: given a set $X$ of values $(x,z(x))$, our goal is to find $a$ and $b$ such that the sum of the errors is minimized, i.e., we want to find $a$ and $b$ that minimize the **least square error**, which is given by the following expression:\n",
        "\n",
        "$\\sum\\limits_{x \\in X}(y(x) - z(x))^2$"
      ]
    },
    {
      "cell_type": "markdown",
      "metadata": {
        "id": "nnvGG9_iY1wA"
      },
      "source": [
        "As we learned from the `Polynomial` example - anything with a nonlinear term (an exponent, a square root, a fraction) cannot be solved with our typical linear programming tools."
      ]
    },
    {
      "cell_type": "markdown",
      "metadata": {
        "id": "7y_Ms9eLm6Ya"
      },
      "source": [
        "## Pharmacy (Extracted from the textbook)\n",
        "\n",
        "A pharmacy has hired you to create a predictive model for determining, based on the number of hours that the pharmacy is open each week, the revenue.  Data from previous weeks is provided below:\n",
        "\n",
        "Hours\t| Revenue\n",
        "---|---\n",
        "\t40\t|5958\n",
        "\t44\t| 6662\n",
        "\t48\t| 6004\n",
        "\t48\t| 6011\n",
        "\t60\t|7250\n",
        "\t70\t|8632\n",
        "\t72\t|6964\n",
        "\t90\t|11097\n",
        "\t100\t|9107\n",
        "\t168\t|11498\n",
        "\n",
        "Can you build a model to predict revenue as a function of hours? Note that there are 168 hours in a week, so this is a store that is open 24/7 vs. the traditional 9 AM - 5 PM business hours."
      ]
    },
    {
      "cell_type": "markdown",
      "metadata": {
        "id": "FicNhdOWFWYU"
      },
      "source": [
        "## Data\n",
        "\n",
        "For problems like this, it is extremely convenient to separate the data from the model. This cuts down on some of the hard-coding."
      ]
    },
    {
      "cell_type": "code",
      "metadata": {
        "id": "arIin39XFbWx"
      },
      "source": [
        "# these are the pharmacy hours\n",
        "\n",
        "X = [\n",
        "      40,\n",
        "      44,\n",
        "     48,\n",
        "     48,\n",
        "     60,\n",
        "     70,\n",
        "     72,\n",
        "     90,\n",
        "     100,\n",
        "     168\n",
        "]\n",
        "\n",
        "# these are the revenue ($) from each corresponding store\n",
        "Z = [\n",
        "     5958,\n",
        "     6662,\n",
        "     6004,\n",
        "     6011,\n",
        "     7250,\n",
        "     8632,\n",
        "     6964,\n",
        "     11097,\n",
        "     9107,\n",
        "     11498\n",
        "]\n"
      ],
      "execution_count": null,
      "outputs": []
    },
    {
      "cell_type": "markdown",
      "metadata": {
        "id": "f5g9hhWen_1A"
      },
      "source": [
        "# Item 1 - linear regression (squared errors) with `scipy` vs. `Pyomo`\n",
        "Suppose that we assume a linear model, that is,\n",
        "\n",
        "$\n",
        "\\textrm{Revenue} = a + b \\times Hours\n",
        "$\n",
        "\n",
        "Create an optimization model to find $a$ and $b$ using least square errors as your error function, i.e., you want to find $a$ and $b$ that minimize the least square error, given by\n",
        "\n",
        "$\\sum\\limits_{x \\in X}(y(x) - z(x))^2$.\n"
      ]
    },
    {
      "cell_type": "markdown",
      "metadata": {
        "id": "r9hsdPZh8uzB"
      },
      "source": [
        "## 1a) Solving with `scipy`\n",
        "\n",
        "Linear regression is a very traditional problem, so there are libraries and functions in Python to solve the problem. So, before solving the problem using an optimization model, let's see how to solve it using [Scipy](https://www.scipy.org/) (in a single line of code!)"
      ]
    },
    {
      "cell_type": "code",
      "metadata": {
        "id": "w3-PAYYu8t2E",
        "colab": {
          "base_uri": "https://localhost:8080/",
          "height": 300
        },
        "outputId": "18b773c8-23b8-444b-9b83-1d806b2bb6f8"
      },
      "source": [
        "import matplotlib.pyplot as plt # for plotting\n",
        "from scipy import stats # for linear regression\n",
        "\n",
        "# we are going to use scipy, so it will be better to convert our lists into numpy arrays\n",
        "XX = np.array(X)\n",
        "ZZ = np.array(Z)\n",
        "\n",
        "# the values we care about are the first two returned by the function\n",
        "b, a, r_value, p_value, std_err = stats.linregress(XX, ZZ) # (input data, target variable)\n",
        "print('The optimal values for a and b are:')\n",
        "print(\"a: %f    b: %f\" % (a, b))\n",
        "\n",
        "# first, let's plot the original data\n",
        "plt.plot(XX, ZZ, 'o', label='original data')\n",
        "# now, let's plot the line we got; note that we are using the linear regression expression as the second parameter of the plot function\n",
        "plt.plot(XX, a + b*XX, 'r', label='fitted line')\n",
        "plt.legend()\n",
        "plt.show()"
      ],
      "execution_count": null,
      "outputs": [
        {
          "output_type": "stream",
          "name": "stdout",
          "text": [
            "The optimal values for a and b are:\n",
            "a: 4435.083751    b: 47.070490\n"
          ]
        },
        {
          "output_type": "display_data",
          "data": {
            "image/png": "[encoded data removed]",
            "text/plain": [
              "<Figure size 432x288 with 1 Axes>"
            ]
          },
          "metadata": {
            "needs_background": "light"
          }
        }
      ]
    },
    {
      "cell_type": "markdown",
      "metadata": {
        "id": "pyGmO08SiDgu"
      },
      "source": [
        "### [optional] calculate the `squared_error` by hand"
      ]
    },
    {
      "cell_type": "markdown",
      "metadata": {
        "id": "yqqvpwCDh9GW"
      },
      "source": [
        "### [optional] use `sklearn` to calculate the `mean_squared error`"
      ]
    },
    {
      "cell_type": "code",
      "metadata": {
        "id": "-kpaN2c-Zw6f"
      },
      "source": [
        "# you can print other values here if you want to inspect"
      ],
      "execution_count": null,
      "outputs": []
    },
    {
      "cell_type": "markdown",
      "metadata": {
        "id": "3GaK0ufbC3Zt"
      },
      "source": [
        "## 1b) Using `Pyomo` to solve the optimization problem\n",
        "\n",
        "Now you will derive an optimization problem to solve the same problem. You will see that we will get exactly the same results. In the below code, $y$ is the predicted value and $z$ is the (actual) target variable."
      ]
    },
    {
      "cell_type": "markdown",
      "metadata": {
        "id": "pOcTYFBlXN9T"
      },
      "source": [
        "**Objective Function**\n",
        "\n",
        "$\\min   \\sum\\limits_{i \\in |X|}(y_i - z_i)^2$ `(objective function)`\n",
        "\n",
        "We are minimizing the distance between actual and predicted values. Since this function is squared, the order of terms doesn't matter $(y - z)^2$ is the same as $(z-y)^2$\n",
        "\n",
        "**Write the Constraints**\n",
        "\n",
        "subject to:\n",
        "* $y_i = a + b \\cdot x_i, \\forall i \\in |X|$ `(calculate estimates)`\n",
        "\n",
        "`Domains`\n",
        "* $a,b \\in \\mathbb{R}$ `(Parameters of linear regression)`\n",
        "* $y_i \\in \\mathbb{R}, i \\in [|X|]$ `(estimates for each data point)`\n",
        "\n"
      ]
    },
    {
      "cell_type": "markdown",
      "metadata": {
        "id": "eo0keb-hazhH"
      },
      "source": [
        "Look how we are making ONE CONSTRAINT per data point! Notice that the linear regression formula is not in the objective function but within the constraints. \n",
        "\n",
        "We are trying to find the optimal values of $a$ and $b$ that minimize the squared errors... the distance between actual and predicted values..."
      ]
    },
    {
      "cell_type": "markdown",
      "metadata": {
        "id": "lAgOFRu-bFAR"
      },
      "source": [
        "### ConcreteModel()"
      ]
    },
    {
      "cell_type": "code",
      "metadata": {
        "id": "grI8SPTdbHtH"
      },
      "source": [
        "# declare the model\n",
        "model = ConcreteModel()"
      ],
      "execution_count": null,
      "outputs": []
    },
    {
      "cell_type": "markdown",
      "metadata": {
        "id": "qbFbXI63bH0g"
      },
      "source": [
        "### Declare Decision Variables"
      ]
    },
    {
      "cell_type": "code",
      "metadata": {
        "colab": {
          "base_uri": "https://localhost:8080/"
        },
        "id": "L2IuV2uYbNrA",
        "outputId": "6b9534d8-7bee-42b6-c322-b59cac02a70d"
      },
      "source": [
        "# this is how many observations we have\n",
        "n_points = len(X)\n",
        "print(n_points)"
      ],
      "execution_count": null,
      "outputs": [
        {
          "output_type": "stream",
          "name": "stdout",
          "text": [
            "10\n"
          ]
        }
      ]
    },
    {
      "cell_type": "markdown",
      "metadata": {
        "id": "7S1d9MDFcf7u"
      },
      "source": [
        "Note that in nonlinear optimization problems, it is very useful to initialize inital values alongside the domain of your decision variables (in this case, $a$ and $b$."
      ]
    },
    {
      "cell_type": "code",
      "metadata": {
        "id": "x0u1PqBibUQf"
      },
      "source": [
        "# declare decision variables\n",
        "model.a = Var(domain=Reals,initialize = 1)\n",
        "model.b = Var(domain=Reals, initialize = 1)\n",
        "model.y = Var([i for i in range(n_points)],domain=Reals)"
      ],
      "execution_count": null,
      "outputs": []
    },
    {
      "cell_type": "code",
      "metadata": {
        "id": "rEDzbyMWgbIv"
      },
      "source": [
        "# we can set the initial values for y equal to 0\n",
        "for i in range(n_points):\n",
        "  model.y[i] = 0.0"
      ],
      "execution_count": null,
      "outputs": []
    },
    {
      "cell_type": "markdown",
      "metadata": {
        "id": "eaBHGVRVbZCX"
      },
      "source": [
        "Something to note here is that the domain is `Reals` and NOT `NonNegativeReals`.\n",
        "\n",
        "We are going to allow our model to make predictions that can overestimate or underestimate."
      ]
    },
    {
      "cell_type": "markdown",
      "metadata": {
        "id": "kJ07Bw6jbOYA"
      },
      "source": [
        "### Declare Constraints\n",
        "We are going to have ONE CONSTRAINT per observation in X. \n",
        "\n",
        "The `==` operator ensures that the prediction is equal to $a + \\hat{X}*b$ where $\\hat{X}*b$ is a single observation of X. "
      ]
    },
    {
      "cell_type": "code",
      "metadata": {
        "id": "g2MlggxmbpLW"
      },
      "source": [
        "# Constraints\n",
        "model.constraints = ConstraintList()\n",
        "# Predicted value\n",
        "for i in range(n_points):\n",
        "  x = X[i]\n",
        "  model.constraints.add(model.y[i] == model.a + x*model.b)"
      ],
      "execution_count": null,
      "outputs": []
    },
    {
      "cell_type": "markdown",
      "metadata": {
        "id": "W6p9gOzsbqxY"
      },
      "source": [
        "### Objective Function"
      ]
    },
    {
      "cell_type": "code",
      "metadata": {
        "id": "n3zOk3xGbu2m"
      },
      "source": [
        "# declare objective\n",
        "obj_expr = 0\n",
        "for i in range(n_points):\n",
        "  obj_expr += (model.y[i] - Z[i])**2\n",
        "model.error = Objective(\n",
        "                      expr = obj_expr,\n",
        "                      sense = minimize)"
      ],
      "execution_count": null,
      "outputs": []
    },
    {
      "cell_type": "markdown",
      "metadata": {
        "id": "v1NH90Dnbvzu"
      },
      "source": [
        "### Pretty Print (check your work)\n",
        "Let's see what we did."
      ]
    },
    {
      "cell_type": "code",
      "metadata": {
        "id": "8pVoxSA-Pvue",
        "colab": {
          "base_uri": "https://localhost:8080/"
        },
        "outputId": "06017645-9ddf-4b94-efad-841891fff676"
      },
      "source": [
        "# show the model you've created\n",
        "model.pprint()"
      ],
      "execution_count": null,
      "outputs": [
        {
          "output_type": "stream",
          "name": "stdout",
          "text": [
            "2 Set Declarations\n",
            "    constraints_index : Size=1, Index=None, Ordered=Insertion\n",
            "        Key  : Dimen : Domain : Size : Members\n",
            "        None :     1 :    Any :   10 : {1, 2, 3, 4, 5, 6, 7, 8, 9, 10}\n",
            "    y_index : Size=1, Index=None, Ordered=Insertion\n",
            "        Key  : Dimen : Domain : Size : Members\n",
            "        None :     1 :    Any :   10 : {0, 1, 2, 3, 4, 5, 6, 7, 8, 9}\n",
            "\n",
            "3 Var Declarations\n",
            "    a : Size=1, Index=None\n",
            "        Key  : Lower : Value : Upper : Fixed : Stale : Domain\n",
            "        None :  None :     1 :  None : False : False :  Reals\n",
            "    b : Size=1, Index=None\n",
            "        Key  : Lower : Value : Upper : Fixed : Stale : Domain\n",
            "        None :  None :     1 :  None : False : False :  Reals\n",
            "    y : Size=10, Index=y_index\n",
            "        Key : Lower : Value : Upper : Fixed : Stale : Domain\n",
            "          0 :  None :   0.0 :  None : False : False :  Reals\n",
            "          1 :  None :   0.0 :  None : False : False :  Reals\n",
            "          2 :  None :   0.0 :  None : False : False :  Reals\n",
            "          3 :  None :   0.0 :  None : False : False :  Reals\n",
            "          4 :  None :   0.0 :  None : False : False :  Reals\n",
            "          5 :  None :   0.0 :  None : False : False :  Reals\n",
            "          6 :  None :   0.0 :  None : False : False :  Reals\n",
            "          7 :  None :   0.0 :  None : False : False :  Reals\n",
            "          8 :  None :   0.0 :  None : False : False :  Reals\n",
            "          9 :  None :   0.0 :  None : False : False :  Reals\n",
            "\n",
            "1 Objective Declarations\n",
            "    error : Size=1, Index=None, Active=True\n",
            "        Key  : Active : Sense    : Expression\n",
            "        None :   True : minimize : (y[0] - 5958)**2 + (y[1] - 6662)**2 + (y[2] - 6004)**2 + (y[3] - 6011)**2 + (y[4] - 7250)**2 + (y[5] - 8632)**2 + (y[6] - 6964)**2 + (y[7] - 11097)**2 + (y[8] - 9107)**2 + (y[9] - 11498)**2\n",
            "\n",
            "1 Constraint Declarations\n",
            "    constraints : Size=10, Index=constraints_index, Active=True\n",
            "        Key : Lower : Body               : Upper : Active\n",
            "          1 :   0.0 :  y[0] - (a + 40*b) :   0.0 :   True\n",
            "          2 :   0.0 :  y[1] - (a + 44*b) :   0.0 :   True\n",
            "          3 :   0.0 :  y[2] - (a + 48*b) :   0.0 :   True\n",
            "          4 :   0.0 :  y[3] - (a + 48*b) :   0.0 :   True\n",
            "          5 :   0.0 :  y[4] - (a + 60*b) :   0.0 :   True\n",
            "          6 :   0.0 :  y[5] - (a + 70*b) :   0.0 :   True\n",
            "          7 :   0.0 :  y[6] - (a + 72*b) :   0.0 :   True\n",
            "          8 :   0.0 :  y[7] - (a + 90*b) :   0.0 :   True\n",
            "          9 :   0.0 : y[8] - (a + 100*b) :   0.0 :   True\n",
            "         10 :   0.0 : y[9] - (a + 168*b) :   0.0 :   True\n",
            "\n",
            "7 Declarations: a b y_index y constraints_index constraints error\n"
          ]
        }
      ]
    },
    {
      "cell_type": "markdown",
      "metadata": {
        "id": "PHga7JWpc9hn"
      },
      "source": [
        "Things to note:\n",
        "* Look at how there is one declaration for each of the y (intermediate predictions).\n",
        "* Look at the objective function and see how $a$, $b$, $X$, $y$ and $Z$ are related. \n",
        "  * $X$, $a$ and $b$ are used to calculate $y$, the predicted value of revenue.\n",
        "  * We are trying the minimize the squared distance between each unique $Z$ (actual revenue) and $y$ (predicted revenue) pair."
      ]
    },
    {
      "cell_type": "markdown",
      "metadata": {
        "id": "mxcgIIvAcKh_"
      },
      "source": [
        "### Solve!"
      ]
    },
    {
      "cell_type": "code",
      "metadata": {
        "id": "r9jLvcwsR8y7",
        "colab": {
          "base_uri": "https://localhost:8080/"
        },
        "outputId": "9f26eb6e-d209-4c82-b6bc-856f8a9fdf43"
      },
      "source": [
        "# solve it\n",
        "SolverFactory('ipopt', executable='/content/ipopt').solve(model).write()\n"
      ],
      "execution_count": null,
      "outputs": [
        {
          "output_type": "stream",
          "name": "stdout",
          "text": [
            "# ==========================================================\n",
            "# = Solver Results                                         =\n",
            "# ==========================================================\n",
            "# ----------------------------------------------------------\n",
            "#   Problem Information\n",
            "# ----------------------------------------------------------\n",
            "Problem: \n",
            "- Lower bound: -inf\n",
            "  Upper bound: inf\n",
            "  Number of objectives: 1\n",
            "  Number of constraints: 10\n",
            "  Number of variables: 12\n",
            "  Sense: unknown\n",
            "# ----------------------------------------------------------\n",
            "#   Solver Information\n",
            "# ----------------------------------------------------------\n",
            "Solver: \n",
            "- Status: ok\n",
            "  Message: Ipopt 3.12.13\\x3a Optimal Solution Found\n",
            "  Termination condition: optimal\n",
            "  Id: 0\n",
            "  Error rc: 0\n",
            "  Time: 0.038817644119262695\n",
            "# ----------------------------------------------------------\n",
            "#   Solution Information\n",
            "# ----------------------------------------------------------\n",
            "Solution: \n",
            "- number of solutions: 0\n",
            "  number of solutions displayed: 0\n"
          ]
        }
      ]
    },
    {
      "cell_type": "markdown",
      "metadata": {
        "id": "HnsKmhW-dgyg"
      },
      "source": [
        "This can always be a bit cryptic - but note that the termination condition reads `optimal`."
      ]
    },
    {
      "cell_type": "markdown",
      "metadata": {
        "id": "kFZQAM98cNev"
      },
      "source": [
        "### Inspect the Results\n"
      ]
    },
    {
      "cell_type": "code",
      "metadata": {
        "colab": {
          "base_uri": "https://localhost:8080/"
        },
        "id": "1nfn7Jqldnb3",
        "outputId": "8d8430f6-adf0-4618-fa8f-c6750b6c1e4b"
      },
      "source": [
        "# show the results\n",
        "print(\"Objective value = \", model.error())\n",
        "print(\"A = \", model.a())\n",
        "print(\"B = \", model.b())\n",
        "a = model.a()\n",
        "b = model.b()"
      ],
      "execution_count": null,
      "outputs": [
        {
          "output_type": "stream",
          "name": "stdout",
          "text": [
            "Objective value =  9249747.557586616\n",
            "A =  4435.083751493429\n",
            "B =  47.0704898446834\n"
          ]
        }
      ]
    },
    {
      "cell_type": "markdown",
      "metadata": {
        "id": "sX4dZRwcd-Uf"
      },
      "source": [
        "### [optional] make a graph of actual vs. predicted values"
      ]
    },
    {
      "cell_type": "code",
      "metadata": {
        "id": "sc1Nt4rDeLx_"
      },
      "source": [
        "# grab the code from above and see if you can hack it!\n",
        "# should be the same plot - be careful of your arguments"
      ],
      "execution_count": null,
      "outputs": []
    },
    {
      "cell_type": "markdown",
      "metadata": {
        "id": "b30Tfg9deE43"
      },
      "source": [
        "### [optional] instead of squared error, try mean squared error with `sklearn`.\n",
        "\n",
        "I'm pretty sure there's not a `squared_error` in `sklearn`, only a `mean_squared_error` where you divide by $n$ to get the average squared error per data point.\n",
        "\n",
        "Update your objective function, re-run, and check your work with `sklearn`!\n",
        "\n",
        "* https://scikit-learn.org/stable/modules/generated/sklearn.metrics.mean_squared_error.html"
      ]
    },
    {
      "cell_type": "code",
      "metadata": {
        "colab": {
          "base_uri": "https://localhost:8080/",
          "height": 359
        },
        "id": "7jk-hCLweSN_",
        "outputId": "467abc46-7576-4c68-a890-ebb02f1cbd0a"
      },
      "source": [
        "from sklearn.metrics import mean_squared_error\n",
        "import pandas as pd\n",
        "traindata = pd.DataFrame(X)\n",
        "traindata # this is a 10 row dataframe corresponding to X"
      ],
      "execution_count": null,
      "outputs": [
        {
          "output_type": "execute_result",
          "data": {
            "text/html": [
              "<div>\n",
              "<style scoped>\n",
              "    .dataframe tbody tr th:only-of-type {\n",
              "        vertical-align: middle;\n",
              "    }\n",
              "\n",
              "    .dataframe tbody tr th {\n",
              "        vertical-align: top;\n",
              "    }\n",
              "\n",
              "    .dataframe thead th {\n",
              "        text-align: right;\n",
              "    }\n",
              "</style>\n",
              "<table border=\"1\" class=\"dataframe\">\n",
              "  <thead>\n",
              "    <tr style=\"text-align: right;\">\n",
              "      <th></th>\n",
              "      <th>0</th>\n",
              "    </tr>\n",
              "  </thead>\n",
              "  <tbody>\n",
              "    <tr>\n",
              "      <th>0</th>\n",
              "      <td>40</td>\n",
              "    </tr>\n",
              "    <tr>\n",
              "      <th>1</th>\n",
              "      <td>44</td>\n",
              "    </tr>\n",
              "    <tr>\n",
              "      <th>2</th>\n",
              "      <td>48</td>\n",
              "    </tr>\n",
              "    <tr>\n",
              "      <th>3</th>\n",
              "      <td>48</td>\n",
              "    </tr>\n",
              "    <tr>\n",
              "      <th>4</th>\n",
              "      <td>60</td>\n",
              "    </tr>\n",
              "    <tr>\n",
              "      <th>5</th>\n",
              "      <td>70</td>\n",
              "    </tr>\n",
              "    <tr>\n",
              "      <th>6</th>\n",
              "      <td>72</td>\n",
              "    </tr>\n",
              "    <tr>\n",
              "      <th>7</th>\n",
              "      <td>90</td>\n",
              "    </tr>\n",
              "    <tr>\n",
              "      <th>8</th>\n",
              "      <td>100</td>\n",
              "    </tr>\n",
              "    <tr>\n",
              "      <th>9</th>\n",
              "      <td>168</td>\n",
              "    </tr>\n",
              "  </tbody>\n",
              "</table>\n",
              "</div>"
            ],
            "text/plain": [
              "     0\n",
              "0   40\n",
              "1   44\n",
              "2   48\n",
              "3   48\n",
              "4   60\n",
              "5   70\n",
              "6   72\n",
              "7   90\n",
              "8  100\n",
              "9  168"
            ]
          },
          "metadata": {},
          "execution_count": 15
        }
      ]
    },
    {
      "cell_type": "code",
      "metadata": {
        "colab": {
          "base_uri": "https://localhost:8080/",
          "height": 359
        },
        "id": "XCRai-PFfXeZ",
        "outputId": "2804ed84-7947-4673-a659-5c94f636427f"
      },
      "source": [
        "trainpreds = 4435.08375149343 + 47.07048984468339*traindata\n",
        "trainpreds # this is a 10 row dataframe corresponding to the preds!\n"
      ],
      "execution_count": null,
      "outputs": [
        {
          "output_type": "execute_result",
          "data": {
            "text/html": [
              "<div>\n",
              "<style scoped>\n",
              "    .dataframe tbody tr th:only-of-type {\n",
              "        vertical-align: middle;\n",
              "    }\n",
              "\n",
              "    .dataframe tbody tr th {\n",
              "        vertical-align: top;\n",
              "    }\n",
              "\n",
              "    .dataframe thead th {\n",
              "        text-align: right;\n",
              "    }\n",
              "</style>\n",
              "<table border=\"1\" class=\"dataframe\">\n",
              "  <thead>\n",
              "    <tr style=\"text-align: right;\">\n",
              "      <th></th>\n",
              "      <th>0</th>\n",
              "    </tr>\n",
              "  </thead>\n",
              "  <tbody>\n",
              "    <tr>\n",
              "      <th>0</th>\n",
              "      <td>6317.903345</td>\n",
              "    </tr>\n",
              "    <tr>\n",
              "      <th>1</th>\n",
              "      <td>6506.185305</td>\n",
              "    </tr>\n",
              "    <tr>\n",
              "      <th>2</th>\n",
              "      <td>6694.467264</td>\n",
              "    </tr>\n",
              "    <tr>\n",
              "      <th>3</th>\n",
              "      <td>6694.467264</td>\n",
              "    </tr>\n",
              "    <tr>\n",
              "      <th>4</th>\n",
              "      <td>7259.313142</td>\n",
              "    </tr>\n",
              "    <tr>\n",
              "      <th>5</th>\n",
              "      <td>7730.018041</td>\n",
              "    </tr>\n",
              "    <tr>\n",
              "      <th>6</th>\n",
              "      <td>7824.159020</td>\n",
              "    </tr>\n",
              "    <tr>\n",
              "      <th>7</th>\n",
              "      <td>8671.427838</td>\n",
              "    </tr>\n",
              "    <tr>\n",
              "      <th>8</th>\n",
              "      <td>9142.132736</td>\n",
              "    </tr>\n",
              "    <tr>\n",
              "      <th>9</th>\n",
              "      <td>12342.926045</td>\n",
              "    </tr>\n",
              "  </tbody>\n",
              "</table>\n",
              "</div>"
            ],
            "text/plain": [
              "              0\n",
              "0   6317.903345\n",
              "1   6506.185305\n",
              "2   6694.467264\n",
              "3   6694.467264\n",
              "4   7259.313142\n",
              "5   7730.018041\n",
              "6   7824.159020\n",
              "7   8671.427838\n",
              "8   9142.132736\n",
              "9  12342.926045"
            ]
          },
          "metadata": {},
          "execution_count": 16
        }
      ]
    },
    {
      "cell_type": "code",
      "metadata": {
        "colab": {
          "base_uri": "https://localhost:8080/"
        },
        "id": "x4iQt55afYUH",
        "outputId": "265d6fdd-e8c6-4a97-e440-8ffadd3478a7"
      },
      "source": [
        "mean_squared_error(Z, trainpreds) # actual, pred"
      ],
      "execution_count": null,
      "outputs": [
        {
          "output_type": "execute_result",
          "data": {
            "text/plain": [
              "924974.7557586615"
            ]
          },
          "metadata": {},
          "execution_count": 17
        }
      ]
    },
    {
      "cell_type": "markdown",
      "metadata": {
        "id": "mO51iDRqfjH-"
      },
      "source": [
        "Bam! This is just another way for you to check your work."
      ]
    },
    {
      "cell_type": "markdown",
      "metadata": {
        "id": "L1dIM2PAdpTO"
      },
      "source": [
        "## Comparison between 1a and 1b - same!\n",
        "We get the same exact results! Regression problems are the same things as optimization problems."
      ]
    },
    {
      "cell_type": "markdown",
      "metadata": {
        "id": "zn0XuSXGpEA1"
      },
      "source": [
        "# Item 2 - linear regression (absolute errors) with `Pyomo`\n",
        "\n",
        "The sum of the squared differences is not the only way to measure errors.  Create an optimization model to find $a$ and $b$, but this time minimizing the sum of the absolute differences (https://en.wikipedia.org/wiki/Absolute_value). That is, the objective function now should be as follows:\n",
        "\n",
        "$\\sum\\limits_{x \\in X}|y(x) - z(x)|$\n",
        "\n",
        "We will build a second model within this notebook, called `model2` so that we don't mix up our models.\n",
        "\n"
      ]
    },
    {
      "cell_type": "markdown",
      "metadata": {
        "id": "0AYgpNcxgG4Q"
      },
      "source": [
        "## First attempt...\n",
        "You can be pretty intuitive here - try to type from memory!"
      ]
    },
    {
      "cell_type": "code",
      "metadata": {
        "id": "HYk34wbPpfKf",
        "colab": {
          "base_uri": "https://localhost:8080/"
        },
        "outputId": "71bd2221-5af0-49fc-8757-e2b30ff6870b"
      },
      "source": [
        "# declare the model\n",
        "model2 = ConcreteModel()\n",
        "\n",
        "n_points = len(X)\n",
        "\n",
        "# declare decision variables\n",
        "model2.a = Var(domain=Reals,initialize = 2000)\n",
        "model2.b = Var(domain=Reals, initialize = 50)\n",
        "model2.y = Var([i for i in range(n_points)],domain=Reals)\n",
        "\n",
        "for i in range(n_points):\n",
        "  model2.y[i] = 0.0\n",
        "\n",
        "# Constraints\n",
        "model2.constraints = ConstraintList()\n",
        "# Predicted value\n",
        "for i in range(n_points):\n",
        "  x = X[i]\n",
        "  model2.constraints.add(model2.y[i] == model2.a + x*model2.b)\n",
        "\n",
        "# declare objective\n",
        "obj_expr = 0\n",
        "for i in range(n_points):\n",
        "  obj_expr += abs(model2.y[i] - Z[i])\n",
        "model2.error = Objective(\n",
        "                      expr = obj_expr,\n",
        "                      sense = minimize)\n",
        "\n",
        "# show the model you've created\n",
        "model2.pprint()"
      ],
      "execution_count": null,
      "outputs": [
        {
          "output_type": "stream",
          "name": "stdout",
          "text": [
            "2 Set Declarations\n",
            "    constraints_index : Size=1, Index=None, Ordered=Insertion\n",
            "        Key  : Dimen : Domain : Size : Members\n",
            "        None :     1 :    Any :   10 : {1, 2, 3, 4, 5, 6, 7, 8, 9, 10}\n",
            "    y_index : Size=1, Index=None, Ordered=Insertion\n",
            "        Key  : Dimen : Domain : Size : Members\n",
            "        None :     1 :    Any :   10 : {0, 1, 2, 3, 4, 5, 6, 7, 8, 9}\n",
            "\n",
            "3 Var Declarations\n",
            "    a : Size=1, Index=None\n",
            "        Key  : Lower : Value : Upper : Fixed : Stale : Domain\n",
            "        None :  None :  2000 :  None : False : False :  Reals\n",
            "    b : Size=1, Index=None\n",
            "        Key  : Lower : Value : Upper : Fixed : Stale : Domain\n",
            "        None :  None :    50 :  None : False : False :  Reals\n",
            "    y : Size=10, Index=y_index\n",
            "        Key : Lower : Value : Upper : Fixed : Stale : Domain\n",
            "          0 :  None :   0.0 :  None : False : False :  Reals\n",
            "          1 :  None :   0.0 :  None : False : False :  Reals\n",
            "          2 :  None :   0.0 :  None : False : False :  Reals\n",
            "          3 :  None :   0.0 :  None : False : False :  Reals\n",
            "          4 :  None :   0.0 :  None : False : False :  Reals\n",
            "          5 :  None :   0.0 :  None : False : False :  Reals\n",
            "          6 :  None :   0.0 :  None : False : False :  Reals\n",
            "          7 :  None :   0.0 :  None : False : False :  Reals\n",
            "          8 :  None :   0.0 :  None : False : False :  Reals\n",
            "          9 :  None :   0.0 :  None : False : False :  Reals\n",
            "\n",
            "1 Objective Declarations\n",
            "    error : Size=1, Index=None, Active=True\n",
            "        Key  : Active : Sense    : Expression\n",
            "        None :   True : minimize : abs(y[0] - 5958) + abs(y[1] - 6662) + abs(y[2] - 6004) + abs(y[3] - 6011) + abs(y[4] - 7250) + abs(y[5] - 8632) + abs(y[6] - 6964) + abs(y[7] - 11097) + abs(y[8] - 9107) + abs(y[9] - 11498)\n",
            "\n",
            "1 Constraint Declarations\n",
            "    constraints : Size=10, Index=constraints_index, Active=True\n",
            "        Key : Lower : Body               : Upper : Active\n",
            "          1 :   0.0 :  y[0] - (a + 40*b) :   0.0 :   True\n",
            "          2 :   0.0 :  y[1] - (a + 44*b) :   0.0 :   True\n",
            "          3 :   0.0 :  y[2] - (a + 48*b) :   0.0 :   True\n",
            "          4 :   0.0 :  y[3] - (a + 48*b) :   0.0 :   True\n",
            "          5 :   0.0 :  y[4] - (a + 60*b) :   0.0 :   True\n",
            "          6 :   0.0 :  y[5] - (a + 70*b) :   0.0 :   True\n",
            "          7 :   0.0 :  y[6] - (a + 72*b) :   0.0 :   True\n",
            "          8 :   0.0 :  y[7] - (a + 90*b) :   0.0 :   True\n",
            "          9 :   0.0 : y[8] - (a + 100*b) :   0.0 :   True\n",
            "         10 :   0.0 : y[9] - (a + 168*b) :   0.0 :   True\n",
            "\n",
            "7 Declarations: a b y_index y constraints_index constraints error\n"
          ]
        }
      ]
    },
    {
      "cell_type": "code",
      "metadata": {
        "id": "oqGkuW1Vpzav",
        "colab": {
          "base_uri": "https://localhost:8080/",
          "height": 437
        },
        "outputId": "044b2962-6946-4ca6-fce7-1e0912ff54a5"
      },
      "source": [
        "# solve it\n",
        "SolverFactory('ipopt', executable='/content/ipopt').solve(model2).write()\n",
        "# show the results\n",
        "print(\"Objective value = \", model2.error())\n",
        "print(\"A = \", model2.a())\n",
        "print(\"B = \", model2.b())"
      ],
      "execution_count": null,
      "outputs": [
        {
          "output_type": "error",
          "ename": "ValueError",
          "evalue": "ignored",
          "traceback": [
            "\u001b[0;31m---------------------------------------------------------------------------\u001b[0m",
            "\u001b[0;31mValueError\u001b[0m                                Traceback (most recent call last)",
            "\u001b[0;32m<ipython-input-19-cc197c19ffb7>\u001b[0m in \u001b[0;36m<module>\u001b[0;34m()\u001b[0m\n\u001b[1;32m      1\u001b[0m \u001b[0;31m# solve it\u001b[0m\u001b[0;34m\u001b[0m\u001b[0;34m\u001b[0m\u001b[0;34m\u001b[0m\u001b[0m\n\u001b[0;32m----> 2\u001b[0;31m \u001b[0mSolverFactory\u001b[0m\u001b[0;34m(\u001b[0m\u001b[0;34m'ipopt'\u001b[0m\u001b[0;34m,\u001b[0m \u001b[0mexecutable\u001b[0m\u001b[0;34m=\u001b[0m\u001b[0;34m'/content/ipopt'\u001b[0m\u001b[0;34m)\u001b[0m\u001b[0;34m.\u001b[0m\u001b[0msolve\u001b[0m\u001b[0;34m(\u001b[0m\u001b[0mmodel2\u001b[0m\u001b[0;34m)\u001b[0m\u001b[0;34m.\u001b[0m\u001b[0mwrite\u001b[0m\u001b[0;34m(\u001b[0m\u001b[0;34m)\u001b[0m\u001b[0;34m\u001b[0m\u001b[0;34m\u001b[0m\u001b[0m\n\u001b[0m\u001b[1;32m      3\u001b[0m \u001b[0;31m# show the results\u001b[0m\u001b[0;34m\u001b[0m\u001b[0;34m\u001b[0m\u001b[0;34m\u001b[0m\u001b[0m\n\u001b[1;32m      4\u001b[0m \u001b[0mprint\u001b[0m\u001b[0;34m(\u001b[0m\u001b[0;34m\"Objective value = \"\u001b[0m\u001b[0;34m,\u001b[0m \u001b[0mmodel2\u001b[0m\u001b[0;34m.\u001b[0m\u001b[0merror\u001b[0m\u001b[0;34m(\u001b[0m\u001b[0;34m)\u001b[0m\u001b[0;34m)\u001b[0m\u001b[0;34m\u001b[0m\u001b[0;34m\u001b[0m\u001b[0m\n\u001b[1;32m      5\u001b[0m \u001b[0mprint\u001b[0m\u001b[0;34m(\u001b[0m\u001b[0;34m\"A = \"\u001b[0m\u001b[0;34m,\u001b[0m \u001b[0mmodel2\u001b[0m\u001b[0;34m.\u001b[0m\u001b[0ma\u001b[0m\u001b[0;34m(\u001b[0m\u001b[0;34m)\u001b[0m\u001b[0;34m)\u001b[0m\u001b[0;34m\u001b[0m\u001b[0;34m\u001b[0m\u001b[0m\n",
            "\u001b[0;32m/usr/local/lib/python3.7/dist-packages/pyomo/opt/base/solvers.py\u001b[0m in \u001b[0;36msolve\u001b[0;34m(self, *args, **kwds)\u001b[0m\n\u001b[1;32m    627\u001b[0m                             \u001b[0mresult\u001b[0m\u001b[0;34m,\u001b[0m\u001b[0;34m\u001b[0m\u001b[0;34m\u001b[0m\u001b[0m\n\u001b[1;32m    628\u001b[0m                             \u001b[0mselect\u001b[0m\u001b[0;34m=\u001b[0m\u001b[0mself\u001b[0m\u001b[0;34m.\u001b[0m\u001b[0m_select_index\u001b[0m\u001b[0;34m,\u001b[0m\u001b[0;34m\u001b[0m\u001b[0;34m\u001b[0m\u001b[0m\n\u001b[0;32m--> 629\u001b[0;31m                             default_variable_value=self._default_variable_value)\n\u001b[0m\u001b[1;32m    630\u001b[0m                         \u001b[0mresult\u001b[0m\u001b[0;34m.\u001b[0m\u001b[0m_smap_id\u001b[0m \u001b[0;34m=\u001b[0m \u001b[0;32mNone\u001b[0m\u001b[0;34m\u001b[0m\u001b[0;34m\u001b[0m\u001b[0m\n\u001b[1;32m    631\u001b[0m                         \u001b[0mresult\u001b[0m\u001b[0;34m.\u001b[0m\u001b[0msolution\u001b[0m\u001b[0;34m.\u001b[0m\u001b[0mclear\u001b[0m\u001b[0;34m(\u001b[0m\u001b[0;34m)\u001b[0m\u001b[0;34m\u001b[0m\u001b[0;34m\u001b[0m\u001b[0m\n",
            "\u001b[0;32m/usr/local/lib/python3.7/dist-packages/pyomo/core/base/PyomoModel.py\u001b[0m in \u001b[0;36mload_from\u001b[0;34m(self, results, allow_consistent_values_for_fixed_vars, comparison_tolerance_for_fixed_vars, ignore_invalid_labels, id, delete_symbol_map, clear, default_variable_value, select, ignore_fixed_vars)\u001b[0m\n\u001b[1;32m    224\u001b[0m                 raise ValueError(\"Cannot load a SolverResults object \"\n\u001b[1;32m    225\u001b[0m                                  \u001b[0;34m\"with bad status: %s\"\u001b[0m\u001b[0;34m\u001b[0m\u001b[0;34m\u001b[0m\u001b[0m\n\u001b[0;32m--> 226\u001b[0;31m                                  % str(results.solver.status))\n\u001b[0m\u001b[1;32m    227\u001b[0m         \u001b[0;32mif\u001b[0m \u001b[0mclear\u001b[0m\u001b[0;34m:\u001b[0m\u001b[0;34m\u001b[0m\u001b[0;34m\u001b[0m\u001b[0m\n\u001b[1;32m    228\u001b[0m             \u001b[0;31m#\u001b[0m\u001b[0;34m\u001b[0m\u001b[0;34m\u001b[0m\u001b[0;34m\u001b[0m\u001b[0m\n",
            "\u001b[0;31mValueError\u001b[0m: Cannot load a SolverResults object with bad status: error"
          ]
        }
      ]
    },
    {
      "cell_type": "markdown",
      "metadata": {
        "id": "3XbsNEx7inIu"
      },
      "source": [
        "### Error! \n",
        "You can't use `abs()` in the objective function."
      ]
    },
    {
      "cell_type": "markdown",
      "metadata": {
        "id": "j-DzawYusOen"
      },
      "source": [
        "**Oops**, we cannot use the function abs() with IPOPT! IPOPT requires functions to be continuous (https://en.wikipedia.org/wiki/Continuous_function) and twice differentiable (https://en.wikipedia.org/wiki/Differentiable_function), and abs() does not satisfy one of these conditions (which one?)\n",
        "\n",
        "How can we address this issue? Try to think about a way of formulating the abs() function before checking the solution below. Tip: you can use linear expression for that."
      ]
    },
    {
      "cell_type": "markdown",
      "metadata": {
        "id": "XpsedCaTitrV"
      },
      "source": [
        "### How can we reformulate abs() as a linear constraint?"
      ]
    },
    {
      "cell_type": "markdown",
      "metadata": {
        "id": "5hDoscqfiZKO"
      },
      "source": [
        "In addition to every `model.y` which were constraints, you now need a separate `model2.abs_value` constraint - ONE FOR EACH DATA POINT! But we need to be clever about how we overwrite values."
      ]
    },
    {
      "cell_type": "code",
      "metadata": {
        "id": "Il6Ewk2Rsi8m",
        "colab": {
          "base_uri": "https://localhost:8080/"
        },
        "outputId": "56db1098-a2e5-49c7-eadd-28b34dc6a97f"
      },
      "source": [
        "# Each variable abs[i] will represent |y[i] - z[i]|\n",
        "model2.abs_value = Var([i for i in range(n_points)],domain=NonNegativeReals)\n",
        "\n",
        "# The following constrains enforce abs[i] >= |y[i] - z[i]|\n",
        "# try the values y=14 and z=12 and see how the model would work\n",
        "# then try the values y=10 and z=12 and see how the model would work\n",
        "# since it is always [i] we overwrite the constraint if there's not a positive value!\n",
        "for i in range(n_points):\n",
        "  model2.constraints.add(model2.abs_value[i] >= model2.y[i] - Z[i])\n",
        "  model2.constraints.add(model2.abs_value[i] >= -(model2.y[i] - Z[i]))\n",
        "\n",
        "# Because we want to minimize the sum of absolute values, the solver will pick the smallest possible values of abs[i]. \n",
        "# Therefore, we will have abs[i] = |y[i] - z[i]|, as we wanted\n",
        "obj_expr = 0\n",
        "for i in range(n_points):\n",
        "  obj_expr += model2.abs_value[i]\n",
        "model2.error = Objective(\n",
        "                      expr = obj_expr,\n",
        "                      sense = minimize)\n",
        "\n",
        "# check your work\n",
        "model2.pprint()"
      ],
      "execution_count": null,
      "outputs": [
        {
          "output_type": "stream",
          "name": "stdout",
          "text": [
            "WARNING: Implicitly replacing the Component attribute error (type=<class\n",
            "    'pyomo.core.base.objective.ScalarObjective'>) on block unknown with a new\n",
            "    Component (type=<class 'pyomo.core.base.objective.ScalarObjective'>). This\n",
            "    is usually indicative of a modelling error. To avoid this warning, use\n",
            "    block.del_component() and block.add_component().\n",
            "3 Set Declarations\n",
            "    abs_value_index : Size=1, Index=None, Ordered=Insertion\n",
            "        Key  : Dimen : Domain : Size : Members\n",
            "        None :     1 :    Any :   10 : {0, 1, 2, 3, 4, 5, 6, 7, 8, 9}\n",
            "    constraints_index : Size=1, Index=None, Ordered=Insertion\n",
            "        Key  : Dimen : Domain : Size : Members\n",
            "        None :     1 :    Any :   30 : {1, 2, 3, 4, 5, 6, 7, 8, 9, 10, 11, 12, 13, 14, 15, 16, 17, 18, 19, 20, 21, 22, 23, 24, 25, 26, 27, 28, 29, 30}\n",
            "    y_index : Size=1, Index=None, Ordered=Insertion\n",
            "        Key  : Dimen : Domain : Size : Members\n",
            "        None :     1 :    Any :   10 : {0, 1, 2, 3, 4, 5, 6, 7, 8, 9}\n",
            "\n",
            "4 Var Declarations\n",
            "    a : Size=1, Index=None\n",
            "        Key  : Lower : Value : Upper : Fixed : Stale : Domain\n",
            "        None :  None :  2000 :  None : False : False :  Reals\n",
            "    abs_value : Size=10, Index=abs_value_index\n",
            "        Key : Lower : Value : Upper : Fixed : Stale : Domain\n",
            "          0 :     0 :  None :  None : False :  True : NonNegativeReals\n",
            "          1 :     0 :  None :  None : False :  True : NonNegativeReals\n",
            "          2 :     0 :  None :  None : False :  True : NonNegativeReals\n",
            "          3 :     0 :  None :  None : False :  True : NonNegativeReals\n",
            "          4 :     0 :  None :  None : False :  True : NonNegativeReals\n",
            "          5 :     0 :  None :  None : False :  True : NonNegativeReals\n",
            "          6 :     0 :  None :  None : False :  True : NonNegativeReals\n",
            "          7 :     0 :  None :  None : False :  True : NonNegativeReals\n",
            "          8 :     0 :  None :  None : False :  True : NonNegativeReals\n",
            "          9 :     0 :  None :  None : False :  True : NonNegativeReals\n",
            "    b : Size=1, Index=None\n",
            "        Key  : Lower : Value : Upper : Fixed : Stale : Domain\n",
            "        None :  None :    50 :  None : False : False :  Reals\n",
            "    y : Size=10, Index=y_index\n",
            "        Key : Lower : Value : Upper : Fixed : Stale : Domain\n",
            "          0 :  None :   0.0 :  None : False : False :  Reals\n",
            "          1 :  None :   0.0 :  None : False : False :  Reals\n",
            "          2 :  None :   0.0 :  None : False : False :  Reals\n",
            "          3 :  None :   0.0 :  None : False : False :  Reals\n",
            "          4 :  None :   0.0 :  None : False : False :  Reals\n",
            "          5 :  None :   0.0 :  None : False : False :  Reals\n",
            "          6 :  None :   0.0 :  None : False : False :  Reals\n",
            "          7 :  None :   0.0 :  None : False : False :  Reals\n",
            "          8 :  None :   0.0 :  None : False : False :  Reals\n",
            "          9 :  None :   0.0 :  None : False : False :  Reals\n",
            "\n",
            "1 Objective Declarations\n",
            "    error : Size=1, Index=None, Active=True\n",
            "        Key  : Active : Sense    : Expression\n",
            "        None :   True : minimize : abs_value[0] + abs_value[1] + abs_value[2] + abs_value[3] + abs_value[4] + abs_value[5] + abs_value[6] + abs_value[7] + abs_value[8] + abs_value[9]\n",
            "\n",
            "1 Constraint Declarations\n",
            "    constraints : Size=30, Index=constraints_index, Active=True\n",
            "        Key : Lower : Body                            : Upper : Active\n",
            "          1 :   0.0 :               y[0] - (a + 40*b) :   0.0 :   True\n",
            "          2 :   0.0 :               y[1] - (a + 44*b) :   0.0 :   True\n",
            "          3 :   0.0 :               y[2] - (a + 48*b) :   0.0 :   True\n",
            "          4 :   0.0 :               y[3] - (a + 48*b) :   0.0 :   True\n",
            "          5 :   0.0 :               y[4] - (a + 60*b) :   0.0 :   True\n",
            "          6 :   0.0 :               y[5] - (a + 70*b) :   0.0 :   True\n",
            "          7 :   0.0 :               y[6] - (a + 72*b) :   0.0 :   True\n",
            "          8 :   0.0 :               y[7] - (a + 90*b) :   0.0 :   True\n",
            "          9 :   0.0 :              y[8] - (a + 100*b) :   0.0 :   True\n",
            "         10 :   0.0 :              y[9] - (a + 168*b) :   0.0 :   True\n",
            "         11 :  -Inf :      y[0] - 5958 - abs_value[0] :   0.0 :   True\n",
            "         12 :  -Inf :  - (y[0] - 5958) - abs_value[0] :   0.0 :   True\n",
            "         13 :  -Inf :      y[1] - 6662 - abs_value[1] :   0.0 :   True\n",
            "         14 :  -Inf :  - (y[1] - 6662) - abs_value[1] :   0.0 :   True\n",
            "         15 :  -Inf :      y[2] - 6004 - abs_value[2] :   0.0 :   True\n",
            "         16 :  -Inf :  - (y[2] - 6004) - abs_value[2] :   0.0 :   True\n",
            "         17 :  -Inf :      y[3] - 6011 - abs_value[3] :   0.0 :   True\n",
            "         18 :  -Inf :  - (y[3] - 6011) - abs_value[3] :   0.0 :   True\n",
            "         19 :  -Inf :      y[4] - 7250 - abs_value[4] :   0.0 :   True\n",
            "         20 :  -Inf :  - (y[4] - 7250) - abs_value[4] :   0.0 :   True\n",
            "         21 :  -Inf :      y[5] - 8632 - abs_value[5] :   0.0 :   True\n",
            "         22 :  -Inf :  - (y[5] - 8632) - abs_value[5] :   0.0 :   True\n",
            "         23 :  -Inf :      y[6] - 6964 - abs_value[6] :   0.0 :   True\n",
            "         24 :  -Inf :  - (y[6] - 6964) - abs_value[6] :   0.0 :   True\n",
            "         25 :  -Inf :     y[7] - 11097 - abs_value[7] :   0.0 :   True\n",
            "         26 :  -Inf : - (y[7] - 11097) - abs_value[7] :   0.0 :   True\n",
            "         27 :  -Inf :      y[8] - 9107 - abs_value[8] :   0.0 :   True\n",
            "         28 :  -Inf :  - (y[8] - 9107) - abs_value[8] :   0.0 :   True\n",
            "         29 :  -Inf :     y[9] - 11498 - abs_value[9] :   0.0 :   True\n",
            "         30 :  -Inf : - (y[9] - 11498) - abs_value[9] :   0.0 :   True\n",
            "\n",
            "9 Declarations: a b y_index y constraints_index constraints abs_value_index abs_value error\n"
          ]
        }
      ]
    },
    {
      "cell_type": "code",
      "metadata": {
        "id": "lBiSXif9DkIX"
      },
      "source": [
        "# solve it\n",
        "SolverFactory('ipopt', executable='/content/ipopt').solve(model2).write()\n",
        "# show the results\n",
        "print(\"Objective value = \", model2.error())\n",
        "print(\"A = \", model2.a())\n",
        "print(\"B = \", model2.b())\n",
        "a2 = model2.a()\n",
        "b2 = model2.b()"
      ],
      "execution_count": null,
      "outputs": []
    },
    {
      "cell_type": "markdown",
      "metadata": {
        "id": "vE7dkiCTE2uR"
      },
      "source": [
        "### Let's plot both curves\n",
        "\n",
        "As you can see, they look similar (and equally OK)."
      ]
    },
    {
      "cell_type": "code",
      "metadata": {
        "id": "aGdU5787EZnb"
      },
      "source": [
        "# first, let's plot the original data\n",
        "plt.plot(XX, ZZ, 'o', label='original data')\n",
        "# now, let's plot the line we got; note that we are using the linear regression expression as the second parameter of the plot function\n",
        "plt.plot(XX, a2 + b2*XX, 'r', label='abs. error')\n",
        "plt.plot(XX, a + b*XX, 'g', label='sq. error')\n",
        "plt.legend()\n",
        "plt.show()"
      ],
      "execution_count": null,
      "outputs": []
    },
    {
      "cell_type": "markdown",
      "metadata": {
        "id": "iYegRZDTjOBv"
      },
      "source": [
        "### [optional] minimize the `mean_absolute_error`\n",
        "Simply divide your objective function by n_points and then check your work with `sklearn`."
      ]
    },
    {
      "cell_type": "markdown",
      "metadata": {
        "id": "GETt5cuz3R0W"
      },
      "source": [
        "# Item 3 (a power model with squared error)\n",
        "\n",
        "Now we are going to see what happens if we replace linear regression for the following expression:\n",
        "\n",
        "$\n",
        "\\textrm{Revenue} = a \\times Hours ^ b\n",
        "$\n",
        "\n",
        "First, let's see what happens if we use the expression above and sum of squares as error measure.\n",
        "\n",
        "**You will probably need to play with a few different initial values before you find a good solution.**"
      ]
    },
    {
      "cell_type": "code",
      "metadata": {
        "id": "7WFEOPDQ3x0V"
      },
      "source": [
        "# declare the model\n",
        "model3= ConcreteModel()\n",
        "\n",
        "n_points = len(X)\n",
        "\n",
        "# declare decision variables\n",
        "model3.a = Var(domain=Reals,initialize = 1000)\n",
        "model3.b = Var(domain=Reals, initialize = 1)\n",
        "model3.y = Var([i for i in range(n_points)],domain=Reals)\n",
        "\n",
        "# Constraints\n",
        "model3.constraints = ConstraintList()\n",
        "# Predicted value\n",
        "for i in range(n_points):\n",
        "  x = X[i]\n",
        "  model3.constraints.add(model3.y[i] == model3.a * x**(model3.b))\n",
        "\n",
        "# declare objective\n",
        "obj_expr = 0\n",
        "for i in range(n_points):\n",
        "  obj_expr += (model3.y[i] - Z[i])**2\n",
        "model3.error = Objective(\n",
        "                      expr = obj_expr,\n",
        "                      sense = minimize)\n",
        "\n",
        "# show the model you've created\n",
        "model3.pprint()"
      ],
      "execution_count": null,
      "outputs": []
    },
    {
      "cell_type": "code",
      "metadata": {
        "id": "bzU-69uw4Mot"
      },
      "source": [
        "# solve it\n",
        "SolverFactory('ipopt', executable='/content/ipopt').solve(model3).write()\n",
        "# show the results\n",
        "print(\"Objective value = \", model3.error())\n",
        "print(\"A = \", model3.a())\n",
        "print(\"B = \", model3.b())\n",
        "a3 = model3.a()\n",
        "b3 = model3.b()"
      ],
      "execution_count": null,
      "outputs": []
    },
    {
      "cell_type": "code",
      "metadata": {
        "id": "8Ao85Hi_FGKo"
      },
      "source": [
        "# first, let's plot the original data\n",
        "plt.plot(XX, ZZ, 'o', label='original data')\n",
        "# now, let's plot the line we got; note that we are using the linear regression expression as the second parameter of the plot function\n",
        "plt.plot(XX, a3*XX**b3, 'b', label='power with sq. error')\n",
        "plt.plot(XX, a2 + b2*XX, 'r', label='abs. error')\n",
        "plt.plot(XX, a + b*XX, 'g', label='sq. error')\n",
        "plt.legend()\n",
        "plt.show()"
      ],
      "execution_count": null,
      "outputs": []
    },
    {
      "cell_type": "markdown",
      "metadata": {
        "id": "_GwVrmWm43Gd"
      },
      "source": [
        "# Item 4 (a power model with absolute error)\n",
        "\n",
        "Now, let's see what happens if we use the exponential expression above and sum of absolute values as error measure.\n",
        "\n",
        "**You will probably need to play with a few different initial values before you find a good solution.**"
      ]
    },
    {
      "cell_type": "code",
      "metadata": {
        "id": "za96Sw-h5B60"
      },
      "source": [
        "# declare the model\n",
        "model4 = ConcreteModel()\n",
        "\n",
        "n_points = len(X)\n",
        "\n",
        "# declare decision variables\n",
        "model4.a = Var(domain=Reals,initialize = 1000)\n",
        "model4.b = Var(domain=Reals, initialize = 1)\n",
        "model4.y = Var([i for i in range(n_points)],domain=Reals)\n",
        "\n",
        "# Each variable abs[i] will represent |y[i] - z[i]|\n",
        "model4.abs_value = Var([i for i in range(n_points)],domain=NonNegativeReals)\n",
        "\n",
        "# initialize the values of y\n",
        "for i in range(n_points):\n",
        "  model4.y[i] = 0.0\n",
        "\n",
        "# Constraints\n",
        "model4.constraints = ConstraintList()\n",
        "# Predicted value\n",
        "for i in range(n_points):\n",
        "  x = X[i]\n",
        "  model4.constraints.add(model4.y[i] == (model4.a * x**model4.b))\n",
        "\n",
        "\n",
        "# The following constrains enforce abs[i] >= |y[i] - z[i]|\n",
        "for i in range(n_points):\n",
        "  model4.constraints.add(model4.abs_value[i] >= model4.y[i] - Z[i])\n",
        "  model4.constraints.add(model4.abs_value[i] >= -(model4.y[i] - Z[i]))\n",
        "\n",
        "# Because we want to minimize the sum of absolute values, the solver will pick the smallest possible values of abs[i]. Therefore, we will have abs[i] = |y[i] - z[i]|, as we wanted\n",
        "obj_expr = 0\n",
        "for i in range(n_points):\n",
        "  obj_expr += model4.abs_value[i]\n",
        "model4.error = Objective(\n",
        "                      expr = obj_expr,\n",
        "                      sense = minimize)\n",
        "\n",
        "\n",
        "# show the model you've created\n",
        "model4.pprint()\n",
        "\n",
        "# solve it\n",
        "SolverFactory('ipopt', executable='/content/ipopt').solve(model4).write()\n",
        "# show the results\n",
        "print(\"Objective value = \", model4.error())\n",
        "print(\"A = \", model4.a())\n",
        "print(\"B = \", model4.b())\n",
        "a4 = model4.a()\n",
        "b4 = model4.b()"
      ],
      "execution_count": null,
      "outputs": []
    },
    {
      "cell_type": "code",
      "metadata": {
        "id": "FuZXlgfJGJ7l"
      },
      "source": [
        "# first, let's plot the original data\n",
        "plt.plot(XX, ZZ, 'o', label='original data')\n",
        "# now, let's plot the line we got; note that we are using the linear regression expression as the second parameter of the plot function\n",
        "plt.plot(XX, a4*XX**b4, 'y', label='power with abs. error')\n",
        "plt.plot(XX, a3*XX**b3, 'b', label='power with sq. error')\n",
        "#plt.plot(XX, a2 + b2*XX, 'r', label='abs. error')\n",
        "#plt.plot(XX, a + b*XX, 'g', label='sq. error')\n",
        "plt.legend()\n",
        "plt.show()"
      ],
      "execution_count": null,
      "outputs": []
    }
  ]
}